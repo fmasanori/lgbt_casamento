{
  "nbformat": 4,
  "nbformat_minor": 0,
  "metadata": {
    "colab": {
      "name": "isabela_qual_uf_mais_casamentos_2019",
      "provenance": [],
      "authorship_tag": "ABX9TyMFmuIKmpMODEY12AA2VFC1",
      "include_colab_link": true
    },
    "kernelspec": {
      "name": "python3",
      "display_name": "Python 3"
    },
    "language_info": {
      "name": "python"
    }
  },
  "cells": [
    {
      "cell_type": "markdown",
      "metadata": {
        "id": "view-in-github",
        "colab_type": "text"
      },
      "source": [
        "<a href=\"https://colab.research.google.com/github/gabrielacaesar/lgbt_casamento/blob/main/isabela_qual_uf_mais_casamentos_2019.ipynb\" target=\"_parent\"><img src=\"https://colab.research.google.com/assets/colab-badge.svg\" alt=\"Open In Colab\"/></a>"
      ]
    },
    {
      "cell_type": "markdown",
      "metadata": {
        "id": "WnC9lcyhB4Cv"
      },
      "source": [
        "Estatísticas básicas por UF sobre casamentos LGBTs"
      ]
    },
    {
      "cell_type": "markdown",
      "metadata": {
        "id": "EuxeNvIId-yC"
      },
      "source": [
        "Qual foi a UF que teve mais casamentos em 2019?"
      ]
    },
    {
      "cell_type": "code",
      "metadata": {
        "id": "evsrO7MmB6fw"
      },
      "source": [
        "import pandas as pd\n",
        "from datetime import datetime\n",
        "import seaborn as sns"
      ],
      "execution_count": 23,
      "outputs": []
    },
    {
      "cell_type": "code",
      "metadata": {
        "id": "YhGcxYXcB9XK",
        "colab": {
          "base_uri": "https://localhost:8080/",
          "height": 112
        },
        "outputId": "694e6099-3093-44bf-ea64-3a1035b5e111"
      },
      "source": [
        "lgbt_casamento = pd.read_csv('lgbt_casamento.csv')\n",
        "lgbt_casamento.head(2)"
      ],
      "execution_count": 24,
      "outputs": [
        {
          "output_type": "execute_result",
          "data": {
            "text/html": [
              "<div>\n",
              "<style scoped>\n",
              "    .dataframe tbody tr th:only-of-type {\n",
              "        vertical-align: middle;\n",
              "    }\n",
              "\n",
              "    .dataframe tbody tr th {\n",
              "        vertical-align: top;\n",
              "    }\n",
              "\n",
              "    .dataframe thead th {\n",
              "        text-align: right;\n",
              "    }\n",
              "</style>\n",
              "<table border=\"1\" class=\"dataframe\">\n",
              "  <thead>\n",
              "    <tr style=\"text-align: right;\">\n",
              "      <th></th>\n",
              "      <th>ano</th>\n",
              "      <th>uf</th>\n",
              "      <th>genero</th>\n",
              "      <th>mes</th>\n",
              "      <th>numero</th>\n",
              "    </tr>\n",
              "  </thead>\n",
              "  <tbody>\n",
              "    <tr>\n",
              "      <th>0</th>\n",
              "      <td>2014</td>\n",
              "      <td>Rondônia</td>\n",
              "      <td>Masculino</td>\n",
              "      <td>Janeiro</td>\n",
              "      <td>0</td>\n",
              "    </tr>\n",
              "    <tr>\n",
              "      <th>1</th>\n",
              "      <td>2014</td>\n",
              "      <td>Rondônia</td>\n",
              "      <td>Masculino</td>\n",
              "      <td>Fevereiro</td>\n",
              "      <td>0</td>\n",
              "    </tr>\n",
              "  </tbody>\n",
              "</table>\n",
              "</div>"
            ],
            "text/plain": [
              "    ano        uf     genero        mes  numero\n",
              "0  2014  Rondônia  Masculino    Janeiro       0\n",
              "1  2014  Rondônia  Masculino  Fevereiro       0"
            ]
          },
          "metadata": {},
          "execution_count": 24
        }
      ]
    },
    {
      "cell_type": "code",
      "metadata": {
        "id": "I2ZU4JyxeY20"
      },
      "source": [
        "sigla_uf = pd.read_csv('https://raw.githubusercontent.com/kelvins/Municipios-Brasileiros/main/csv/estados.csv')"
      ],
      "execution_count": 25,
      "outputs": []
    },
    {
      "cell_type": "code",
      "metadata": {
        "colab": {
          "base_uri": "https://localhost:8080/",
          "height": 112
        },
        "id": "i983_sY7esKL",
        "outputId": "2a51ba0f-23c1-4c85-ffd8-0b4df242a6b9"
      },
      "source": [
        "sigla_uf_lgbt_casamento = lgbt_casamento.merge(sigla_uf, how = 'left', left_on = 'uf', right_on = 'nome')\n",
        "len(sigla_uf_lgbt_casamento['uf_y'].unique())\n",
        "sigla_uf_lgbt_casamento.head(2)"
      ],
      "execution_count": 26,
      "outputs": [
        {
          "output_type": "execute_result",
          "data": {
            "text/html": [
              "<div>\n",
              "<style scoped>\n",
              "    .dataframe tbody tr th:only-of-type {\n",
              "        vertical-align: middle;\n",
              "    }\n",
              "\n",
              "    .dataframe tbody tr th {\n",
              "        vertical-align: top;\n",
              "    }\n",
              "\n",
              "    .dataframe thead th {\n",
              "        text-align: right;\n",
              "    }\n",
              "</style>\n",
              "<table border=\"1\" class=\"dataframe\">\n",
              "  <thead>\n",
              "    <tr style=\"text-align: right;\">\n",
              "      <th></th>\n",
              "      <th>ano</th>\n",
              "      <th>uf_x</th>\n",
              "      <th>genero</th>\n",
              "      <th>mes</th>\n",
              "      <th>numero</th>\n",
              "      <th>codigo_uf</th>\n",
              "      <th>uf_y</th>\n",
              "      <th>nome</th>\n",
              "      <th>latitude</th>\n",
              "      <th>longitude</th>\n",
              "    </tr>\n",
              "  </thead>\n",
              "  <tbody>\n",
              "    <tr>\n",
              "      <th>0</th>\n",
              "      <td>2014</td>\n",
              "      <td>Rondônia</td>\n",
              "      <td>Masculino</td>\n",
              "      <td>Janeiro</td>\n",
              "      <td>0</td>\n",
              "      <td>11</td>\n",
              "      <td>RO</td>\n",
              "      <td>Rondônia</td>\n",
              "      <td>-10.83</td>\n",
              "      <td>-63.34</td>\n",
              "    </tr>\n",
              "    <tr>\n",
              "      <th>1</th>\n",
              "      <td>2014</td>\n",
              "      <td>Rondônia</td>\n",
              "      <td>Masculino</td>\n",
              "      <td>Fevereiro</td>\n",
              "      <td>0</td>\n",
              "      <td>11</td>\n",
              "      <td>RO</td>\n",
              "      <td>Rondônia</td>\n",
              "      <td>-10.83</td>\n",
              "      <td>-63.34</td>\n",
              "    </tr>\n",
              "  </tbody>\n",
              "</table>\n",
              "</div>"
            ],
            "text/plain": [
              "    ano      uf_x     genero        mes  ...  uf_y      nome latitude longitude\n",
              "0  2014  Rondônia  Masculino    Janeiro  ...    RO  Rondônia   -10.83    -63.34\n",
              "1  2014  Rondônia  Masculino  Fevereiro  ...    RO  Rondônia   -10.83    -63.34\n",
              "\n",
              "[2 rows x 10 columns]"
            ]
          },
          "metadata": {},
          "execution_count": 26
        }
      ]
    },
    {
      "cell_type": "code",
      "metadata": {
        "id": "mpmwJXCAJQAe"
      },
      "source": [
        "meses = {\n",
        "    'Janeiro': 1,\n",
        "    'Fevereiro': 2,\n",
        "    'Março': 3,\n",
        "    'Abril': 4,\n",
        "    'Maio': 5,\n",
        "    'Junho': 6,\n",
        "    'Julho': 7,\n",
        "    'Agosto': 8,\n",
        "    'Setembro': 9,\n",
        "    'Outubro': 10,\n",
        "    'Novembro': 11,\n",
        "    'Dezembro': 12\n",
        "}"
      ],
      "execution_count": 27,
      "outputs": []
    },
    {
      "cell_type": "code",
      "metadata": {
        "id": "-dXxogqmgMGG"
      },
      "source": [
        "sigla_uf_lgbt_casamento['mes'] = sigla_uf_lgbt_casamento['mes'].apply(lambda x: meses[x])"
      ],
      "execution_count": 28,
      "outputs": []
    },
    {
      "cell_type": "code",
      "metadata": {
        "id": "NnKR8ImVgVN_"
      },
      "source": [
        "sigla_uf_lgbt_casamento['data'] = pd.to_datetime(sigla_uf_lgbt_casamento['mes'].astype(str) + '-' + sigla_uf_lgbt_casamento['ano'].astype(str))"
      ],
      "execution_count": 29,
      "outputs": []
    },
    {
      "cell_type": "code",
      "metadata": {
        "colab": {
          "base_uri": "https://localhost:8080/",
          "height": 394
        },
        "id": "Jh1NRSSrgdgW",
        "outputId": "07394eab-7895-4061-aa83-a3941a26bfee"
      },
      "source": [
        "df2 = sigla_uf_lgbt_casamento.groupby(['data', 'uf_x']).agg({'numero': 'sum'})\n",
        "df2.head(10)"
      ],
      "execution_count": 30,
      "outputs": [
        {
          "output_type": "execute_result",
          "data": {
            "text/html": [
              "<div>\n",
              "<style scoped>\n",
              "    .dataframe tbody tr th:only-of-type {\n",
              "        vertical-align: middle;\n",
              "    }\n",
              "\n",
              "    .dataframe tbody tr th {\n",
              "        vertical-align: top;\n",
              "    }\n",
              "\n",
              "    .dataframe thead th {\n",
              "        text-align: right;\n",
              "    }\n",
              "</style>\n",
              "<table border=\"1\" class=\"dataframe\">\n",
              "  <thead>\n",
              "    <tr style=\"text-align: right;\">\n",
              "      <th></th>\n",
              "      <th></th>\n",
              "      <th>numero</th>\n",
              "    </tr>\n",
              "    <tr>\n",
              "      <th>data</th>\n",
              "      <th>uf_x</th>\n",
              "      <th></th>\n",
              "    </tr>\n",
              "  </thead>\n",
              "  <tbody>\n",
              "    <tr>\n",
              "      <th rowspan=\"10\" valign=\"top\">2013-01-01</th>\n",
              "      <th>Acre</th>\n",
              "      <td>0</td>\n",
              "    </tr>\n",
              "    <tr>\n",
              "      <th>Alagoas</th>\n",
              "      <td>0</td>\n",
              "    </tr>\n",
              "    <tr>\n",
              "      <th>Amapá</th>\n",
              "      <td>0</td>\n",
              "    </tr>\n",
              "    <tr>\n",
              "      <th>Amazonas</th>\n",
              "      <td>0</td>\n",
              "    </tr>\n",
              "    <tr>\n",
              "      <th>Bahia</th>\n",
              "      <td>5</td>\n",
              "    </tr>\n",
              "    <tr>\n",
              "      <th>Ceará</th>\n",
              "      <td>8</td>\n",
              "    </tr>\n",
              "    <tr>\n",
              "      <th>Distrito Federal</th>\n",
              "      <td>2</td>\n",
              "    </tr>\n",
              "    <tr>\n",
              "      <th>Espírito Santo</th>\n",
              "      <td>0</td>\n",
              "    </tr>\n",
              "    <tr>\n",
              "      <th>Goiás</th>\n",
              "      <td>0</td>\n",
              "    </tr>\n",
              "    <tr>\n",
              "      <th>Maranhão</th>\n",
              "      <td>0</td>\n",
              "    </tr>\n",
              "  </tbody>\n",
              "</table>\n",
              "</div>"
            ],
            "text/plain": [
              "                             numero\n",
              "data       uf_x                    \n",
              "2013-01-01 Acre                   0\n",
              "           Alagoas                0\n",
              "           Amapá                  0\n",
              "           Amazonas               0\n",
              "           Bahia                  5\n",
              "           Ceará                  8\n",
              "           Distrito Federal       2\n",
              "           Espírito Santo         0\n",
              "           Goiás                  0\n",
              "           Maranhão               0"
            ]
          },
          "metadata": {},
          "execution_count": 30
        }
      ]
    },
    {
      "cell_type": "code",
      "metadata": {
        "colab": {
          "base_uri": "https://localhost:8080/",
          "height": 478
        },
        "id": "HEZbkKSejStj",
        "outputId": "389bdc0c-de12-4bb7-8d0f-13d46aa1b45a"
      },
      "source": [
        "sns.lineplot(data=df2, x=\"data\", y=\"numero\", hue=\"uf_x\")"
      ],
      "execution_count": 36,
      "outputs": [
        {
          "output_type": "execute_result",
          "data": {
            "text/plain": [
              "<matplotlib.axes._subplots.AxesSubplot at 0x7fdd6b2f7850>"
            ]
          },
          "metadata": {},
          "execution_count": 36
        },
        {
          "output_type": "display_data",
          "data": {
            "image/png": "[encoded data removed]",
            "text/plain": [
              "<Figure size 432x288 with 1 Axes>"
            ]
          },
          "metadata": {
            "needs_background": "light"
          }
        }
      ]
    },
    {
      "cell_type": "markdown",
      "metadata": {
        "id": "C18SIKdXkFFu"
      },
      "source": [
        "Resposta: São Paulo em 2019"
      ]
    }
  ]
}