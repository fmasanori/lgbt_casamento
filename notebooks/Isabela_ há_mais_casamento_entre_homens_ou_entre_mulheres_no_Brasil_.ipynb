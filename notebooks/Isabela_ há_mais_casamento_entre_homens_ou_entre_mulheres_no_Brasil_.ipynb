{
  "nbformat": 4,
  "nbformat_minor": 0,
  "metadata": {
    "colab": {
      "name": "Há mais casamento entre homens ou entre mulheres no Brasil?.ipynb",
      "provenance": []
    },
    "kernelspec": {
      "name": "python3",
      "display_name": "Python 3"
    },
    "language_info": {
      "name": "python"
    }
  },
  "cells": [
    {
      "cell_type": "code",
      "metadata": {
        "id": "GIlkFla5cTsu"
      },
      "source": [
        "import pandas as pd"
      ],
      "execution_count": 77,
      "outputs": []
    },
    {
      "cell_type": "markdown",
      "metadata": {
        "id": "vvEBPBp-gnjw"
      },
      "source": [
        "Há mais casamento entre homens ou entre mulheres no Brasil?"
      ]
    },
    {
      "cell_type": "code",
      "metadata": {
        "colab": {
          "base_uri": "https://localhost:8080/",
          "height": 204
        },
        "id": "BfI84FCDc4KW",
        "outputId": "2e712803-d667-4420-8d33-819c48a7177d"
      },
      "source": [
        "df = pd.read_csv('lgbt_casamento.csv')\n",
        "df.head()"
      ],
      "execution_count": 78,
      "outputs": [
        {
          "output_type": "execute_result",
          "data": {
            "text/html": [
              "<div>\n",
              "<style scoped>\n",
              "    .dataframe tbody tr th:only-of-type {\n",
              "        vertical-align: middle;\n",
              "    }\n",
              "\n",
              "    .dataframe tbody tr th {\n",
              "        vertical-align: top;\n",
              "    }\n",
              "\n",
              "    .dataframe thead th {\n",
              "        text-align: right;\n",
              "    }\n",
              "</style>\n",
              "<table border=\"1\" class=\"dataframe\">\n",
              "  <thead>\n",
              "    <tr style=\"text-align: right;\">\n",
              "      <th></th>\n",
              "      <th>ano</th>\n",
              "      <th>uf</th>\n",
              "      <th>genero</th>\n",
              "      <th>mes</th>\n",
              "      <th>numero</th>\n",
              "    </tr>\n",
              "  </thead>\n",
              "  <tbody>\n",
              "    <tr>\n",
              "      <th>0</th>\n",
              "      <td>2014</td>\n",
              "      <td>Rondônia</td>\n",
              "      <td>Masculino</td>\n",
              "      <td>Janeiro</td>\n",
              "      <td>0</td>\n",
              "    </tr>\n",
              "    <tr>\n",
              "      <th>1</th>\n",
              "      <td>2014</td>\n",
              "      <td>Rondônia</td>\n",
              "      <td>Masculino</td>\n",
              "      <td>Fevereiro</td>\n",
              "      <td>0</td>\n",
              "    </tr>\n",
              "    <tr>\n",
              "      <th>2</th>\n",
              "      <td>2014</td>\n",
              "      <td>Rondônia</td>\n",
              "      <td>Masculino</td>\n",
              "      <td>Março</td>\n",
              "      <td>0</td>\n",
              "    </tr>\n",
              "    <tr>\n",
              "      <th>3</th>\n",
              "      <td>2014</td>\n",
              "      <td>Rondônia</td>\n",
              "      <td>Masculino</td>\n",
              "      <td>Abril</td>\n",
              "      <td>0</td>\n",
              "    </tr>\n",
              "    <tr>\n",
              "      <th>4</th>\n",
              "      <td>2014</td>\n",
              "      <td>Rondônia</td>\n",
              "      <td>Masculino</td>\n",
              "      <td>Maio</td>\n",
              "      <td>0</td>\n",
              "    </tr>\n",
              "  </tbody>\n",
              "</table>\n",
              "</div>"
            ],
            "text/plain": [
              "    ano        uf     genero        mes  numero\n",
              "0  2014  Rondônia  Masculino    Janeiro       0\n",
              "1  2014  Rondônia  Masculino  Fevereiro       0\n",
              "2  2014  Rondônia  Masculino      Março       0\n",
              "3  2014  Rondônia  Masculino      Abril       0\n",
              "4  2014  Rondônia  Masculino       Maio       0"
            ]
          },
          "metadata": {},
          "execution_count": 78
        }
      ]
    },
    {
      "cell_type": "code",
      "metadata": {
        "id": "LetEz-upcqEK"
      },
      "source": [
        "meses = {\n",
        "    'Janeiro': 1,\n",
        "    'Fevereiro': 2,\n",
        "    'Março': 3,\n",
        "    'Abril': 4,\n",
        "    'Maio': 5,\n",
        "    'Junho': 6,\n",
        "    'Julho': 7,\n",
        "    'Agosto': 8,\n",
        "    'Setembro': 9,\n",
        "    'Outubro': 10,\n",
        "    'Novembro': 11,\n",
        "    'Dezembro': 12\n",
        "}"
      ],
      "execution_count": 79,
      "outputs": []
    },
    {
      "cell_type": "code",
      "metadata": {
        "id": "_Y8rOA4dgJMh"
      },
      "source": [
        "df['mes'] = df['mes'].apply(lambda x: meses[x])"
      ],
      "execution_count": 80,
      "outputs": []
    },
    {
      "cell_type": "code",
      "metadata": {
        "id": "91maLrEQgM5b"
      },
      "source": [
        "df['data'] = pd.to_datetime(df['mes'].astype(str) + '-' + df['ano'].astype(str))"
      ],
      "execution_count": 81,
      "outputs": []
    },
    {
      "cell_type": "code",
      "metadata": {
        "colab": {
          "base_uri": "https://localhost:8080/",
          "height": 390
        },
        "id": "GUA9p1ijgNnO",
        "outputId": "d0d884d9-565f-4e70-e964-8245a441e5d8"
      },
      "source": [
        "df2 = df.groupby(['data', 'genero']).agg({'numero': 'sum'})\n",
        "df2.head(10)"
      ],
      "execution_count": 83,
      "outputs": [
        {
          "output_type": "execute_result",
          "data": {
            "text/html": [
              "<div>\n",
              "<style scoped>\n",
              "    .dataframe tbody tr th:only-of-type {\n",
              "        vertical-align: middle;\n",
              "    }\n",
              "\n",
              "    .dataframe tbody tr th {\n",
              "        vertical-align: top;\n",
              "    }\n",
              "\n",
              "    .dataframe thead th {\n",
              "        text-align: right;\n",
              "    }\n",
              "</style>\n",
              "<table border=\"1\" class=\"dataframe\">\n",
              "  <thead>\n",
              "    <tr style=\"text-align: right;\">\n",
              "      <th></th>\n",
              "      <th></th>\n",
              "      <th>numero</th>\n",
              "    </tr>\n",
              "    <tr>\n",
              "      <th>data</th>\n",
              "      <th>genero</th>\n",
              "      <th></th>\n",
              "    </tr>\n",
              "  </thead>\n",
              "  <tbody>\n",
              "    <tr>\n",
              "      <th rowspan=\"2\" valign=\"top\">2013-01-01</th>\n",
              "      <th>Feminino</th>\n",
              "      <td>39</td>\n",
              "    </tr>\n",
              "    <tr>\n",
              "      <th>Masculino</th>\n",
              "      <td>35</td>\n",
              "    </tr>\n",
              "    <tr>\n",
              "      <th rowspan=\"2\" valign=\"top\">2013-02-01</th>\n",
              "      <th>Feminino</th>\n",
              "      <td>49</td>\n",
              "    </tr>\n",
              "    <tr>\n",
              "      <th>Masculino</th>\n",
              "      <td>61</td>\n",
              "    </tr>\n",
              "    <tr>\n",
              "      <th rowspan=\"2\" valign=\"top\">2013-03-01</th>\n",
              "      <th>Feminino</th>\n",
              "      <td>87</td>\n",
              "    </tr>\n",
              "    <tr>\n",
              "      <th>Masculino</th>\n",
              "      <td>73</td>\n",
              "    </tr>\n",
              "    <tr>\n",
              "      <th rowspan=\"2\" valign=\"top\">2013-04-01</th>\n",
              "      <th>Feminino</th>\n",
              "      <td>124</td>\n",
              "    </tr>\n",
              "    <tr>\n",
              "      <th>Masculino</th>\n",
              "      <td>97</td>\n",
              "    </tr>\n",
              "    <tr>\n",
              "      <th rowspan=\"2\" valign=\"top\">2013-05-01</th>\n",
              "      <th>Feminino</th>\n",
              "      <td>128</td>\n",
              "    </tr>\n",
              "    <tr>\n",
              "      <th>Masculino</th>\n",
              "      <td>107</td>\n",
              "    </tr>\n",
              "  </tbody>\n",
              "</table>\n",
              "</div>"
            ],
            "text/plain": [
              "                      numero\n",
              "data       genero           \n",
              "2013-01-01 Feminino       39\n",
              "           Masculino      35\n",
              "2013-02-01 Feminino       49\n",
              "           Masculino      61\n",
              "2013-03-01 Feminino       87\n",
              "           Masculino      73\n",
              "2013-04-01 Feminino      124\n",
              "           Masculino      97\n",
              "2013-05-01 Feminino      128\n",
              "           Masculino     107"
            ]
          },
          "metadata": {},
          "execution_count": 83
        }
      ]
    },
    {
      "cell_type": "markdown",
      "metadata": {
        "id": "ULWKPNFxgs7q"
      },
      "source": [
        "Resposta: Mulheres"
      ]
    }
  ]
}
