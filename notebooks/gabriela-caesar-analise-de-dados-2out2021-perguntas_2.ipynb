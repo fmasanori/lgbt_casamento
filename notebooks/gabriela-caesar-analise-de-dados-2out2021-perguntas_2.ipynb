{
 "cells": [
  {
   "cell_type": "code",
   "execution_count": 30,
   "metadata": {},
   "outputs": [],
   "source": [
    "%%capture\n",
    "!pip install geopandas\n",
    "import geopandas as gpd\n",
    "import pandas as pd"
   ]
  },
  {
   "cell_type": "code",
   "execution_count": 85,
   "metadata": {},
   "outputs": [
    {
     "data": {
      "text/html": [
       "<div>\n",
       "<style scoped>\n",
       "    .dataframe tbody tr th:only-of-type {\n",
       "        vertical-align: middle;\n",
       "    }\n",
       "\n",
       "    .dataframe tbody tr th {\n",
       "        vertical-align: top;\n",
       "    }\n",
       "\n",
       "    .dataframe thead th {\n",
       "        text-align: right;\n",
       "    }\n",
       "</style>\n",
       "<table border=\"1\" class=\"dataframe\">\n",
       "  <thead>\n",
       "    <tr style=\"text-align: right;\">\n",
       "      <th></th>\n",
       "      <th>ano</th>\n",
       "      <th>uf</th>\n",
       "      <th>numero</th>\n",
       "      <th>tx_pop</th>\n",
       "    </tr>\n",
       "  </thead>\n",
       "  <tbody>\n",
       "    <tr>\n",
       "      <th>0</th>\n",
       "      <td>2013</td>\n",
       "      <td>AC</td>\n",
       "      <td>0</td>\n",
       "      <td>0.000000</td>\n",
       "    </tr>\n",
       "    <tr>\n",
       "      <th>1</th>\n",
       "      <td>2013</td>\n",
       "      <td>AL</td>\n",
       "      <td>17</td>\n",
       "      <td>1.404225</td>\n",
       "    </tr>\n",
       "    <tr>\n",
       "      <th>2</th>\n",
       "      <td>2013</td>\n",
       "      <td>AM</td>\n",
       "      <td>7</td>\n",
       "      <td>0.547217</td>\n",
       "    </tr>\n",
       "    <tr>\n",
       "      <th>3</th>\n",
       "      <td>2013</td>\n",
       "      <td>AP</td>\n",
       "      <td>6</td>\n",
       "      <td>2.380704</td>\n",
       "    </tr>\n",
       "    <tr>\n",
       "      <th>4</th>\n",
       "      <td>2013</td>\n",
       "      <td>BA</td>\n",
       "      <td>99</td>\n",
       "      <td>1.809937</td>\n",
       "    </tr>\n",
       "    <tr>\n",
       "      <th>5</th>\n",
       "      <td>2013</td>\n",
       "      <td>CE</td>\n",
       "      <td>184</td>\n",
       "      <td>5.504470</td>\n",
       "    </tr>\n",
       "    <tr>\n",
       "      <th>6</th>\n",
       "      <td>2013</td>\n",
       "      <td>DF</td>\n",
       "      <td>83</td>\n",
       "      <td>7.774620</td>\n",
       "    </tr>\n",
       "  </tbody>\n",
       "</table>\n",
       "</div>"
      ],
      "text/plain": [
       "    ano  uf  numero    tx_pop\n",
       "0  2013  AC       0  0.000000\n",
       "1  2013  AL      17  1.404225\n",
       "2  2013  AM       7  0.547217\n",
       "3  2013  AP       6  2.380704\n",
       "4  2013  BA      99  1.809937\n",
       "5  2013  CE     184  5.504470\n",
       "6  2013  DF      83  7.774620"
      ]
     },
     "execution_count": 85,
     "metadata": {},
     "output_type": "execute_result"
    }
   ],
   "source": [
    "tx_pop_lgbt_casamento = pd.read_csv('https://raw.githubusercontent.com/gabrielacaesar/lgbt_casamento/main/data/analysis/tx_pop_lgbt_casamento.csv')\n",
    "tx_pop_lgbt_casamento = tx_pop_lgbt_casamento.groupby(['ano', 'uf']).agg({'numero': sum,'tx_pop': sum}).reset_index()\n",
    "tx_pop_lgbt_casamento.head(7)"
   ]
  },
  {
   "cell_type": "code",
   "execution_count": 68,
   "metadata": {},
   "outputs": [
    {
     "name": "stdout",
     "output_type": "stream",
     "text": [
      " --------------------------- \n",
      "         Bem-vindo/a! \n",
      " ---------------------------\n",
      "Escolha um ano de 2013 a 2019: \n",
      "2018\n",
      " --------------------------- \n",
      "      Já vamos calcular! \n",
      " ---------------------------\n"
     ]
    }
   ],
   "source": [
    "print(\" --------------------------- \\n         Bem-vindo/a! \\n ---------------------------\")\n",
    "ano_user = int(input(\"Escolha um ano de 2013 a 2019: \\n\"))\n",
    "#print(uf_user)\n",
    "print(\" --------------------------- \\n      Já vamos calcular! \\n ---------------------------\")"
   ]
  },
  {
   "cell_type": "code",
   "execution_count": 84,
   "metadata": {},
   "outputs": [
    {
     "data": {
      "text/html": [
       "<div>\n",
       "<style scoped>\n",
       "    .dataframe tbody tr th:only-of-type {\n",
       "        vertical-align: middle;\n",
       "    }\n",
       "\n",
       "    .dataframe tbody tr th {\n",
       "        vertical-align: top;\n",
       "    }\n",
       "\n",
       "    .dataframe thead th {\n",
       "        text-align: right;\n",
       "    }\n",
       "</style>\n",
       "<table border=\"1\" class=\"dataframe\">\n",
       "  <thead>\n",
       "    <tr style=\"text-align: right;\">\n",
       "      <th></th>\n",
       "      <th>ano</th>\n",
       "      <th>uf</th>\n",
       "      <th>numero</th>\n",
       "      <th>tx_pop</th>\n",
       "    </tr>\n",
       "  </thead>\n",
       "  <tbody>\n",
       "    <tr>\n",
       "      <th>135</th>\n",
       "      <td>2018</td>\n",
       "      <td>AC</td>\n",
       "      <td>18</td>\n",
       "      <td>5.904810</td>\n",
       "    </tr>\n",
       "    <tr>\n",
       "      <th>136</th>\n",
       "      <td>2018</td>\n",
       "      <td>AL</td>\n",
       "      <td>95</td>\n",
       "      <td>7.531687</td>\n",
       "    </tr>\n",
       "    <tr>\n",
       "      <th>137</th>\n",
       "      <td>2018</td>\n",
       "      <td>AM</td>\n",
       "      <td>49</td>\n",
       "      <td>3.400385</td>\n",
       "    </tr>\n",
       "    <tr>\n",
       "      <th>138</th>\n",
       "      <td>2018</td>\n",
       "      <td>AP</td>\n",
       "      <td>8</td>\n",
       "      <td>2.707445</td>\n",
       "    </tr>\n",
       "    <tr>\n",
       "      <th>139</th>\n",
       "      <td>2018</td>\n",
       "      <td>BA</td>\n",
       "      <td>288</td>\n",
       "      <td>4.952900</td>\n",
       "    </tr>\n",
       "    <tr>\n",
       "      <th>140</th>\n",
       "      <td>2018</td>\n",
       "      <td>CE</td>\n",
       "      <td>330</td>\n",
       "      <td>9.226488</td>\n",
       "    </tr>\n",
       "    <tr>\n",
       "      <th>141</th>\n",
       "      <td>2018</td>\n",
       "      <td>DF</td>\n",
       "      <td>274</td>\n",
       "      <td>23.279620</td>\n",
       "    </tr>\n",
       "  </tbody>\n",
       "</table>\n",
       "</div>"
      ],
      "text/plain": [
       "      ano  uf  numero     tx_pop\n",
       "135  2018  AC      18   5.904810\n",
       "136  2018  AL      95   7.531687\n",
       "137  2018  AM      49   3.400385\n",
       "138  2018  AP       8   2.707445\n",
       "139  2018  BA     288   4.952900\n",
       "140  2018  CE     330   9.226488\n",
       "141  2018  DF     274  23.279620"
      ]
     },
     "execution_count": 84,
     "metadata": {},
     "output_type": "execute_result"
    }
   ],
   "source": [
    "ano_user_tx_pop_lgbt_casamento = tx_pop_lgbt_casamento.query('ano == @ano_user', engine='python')\n",
    "ano_user_tx_pop_lgbt_casamento.head(7)"
   ]
  },
  {
   "cell_type": "code",
   "execution_count": 69,
   "metadata": {},
   "outputs": [],
   "source": [
    "# referencia https://rodrigodutcosky.medium.com/mapas-coropl%C3%A9ticos-com-os-estados-do-brasil-em-python-b9b48c6db585\n",
    "# baixe o arquivo abaixo no link https://www.ibge.gov.br/geociencias/cartas-e-mapas/bases-cartograficas-continuas/15759-brasil.html?=&t=downloads\n",
    "# clique em 'bcim' > 'versao2016' > 'geopackage' > 'bcim_2016_21_11_2018.gpkg'\n",
    "info_ufs = gpd.read_file('bcim_2016_21_11_2018.gpkg', layer = 'lim_unidade_federacao_a')"
   ]
  },
  {
   "cell_type": "code",
   "execution_count": 58,
   "metadata": {},
   "outputs": [
    {
     "data": {
      "text/plain": [
       "Index(['nome', 'nomeabrev', 'geometriaaproximada', 'sigla', 'geocodigo',\n",
       "       'id_produtor', 'id_elementoprodutor', 'cd_insumo_orgao',\n",
       "       'nr_insumo_mes', 'nr_insumo_ano', 'tx_insumo_documento', 'geometry'],\n",
       "      dtype='object')"
      ]
     },
     "execution_count": 58,
     "metadata": {},
     "output_type": "execute_result"
    }
   ],
   "source": [
    "info_ufs.columns"
   ]
  },
  {
   "cell_type": "code",
   "execution_count": 73,
   "metadata": {},
   "outputs": [],
   "source": [
    "info_ufs.rename({'sigla':'uf'}, axis = 1, inplace = True)\n",
    "mapa_br = info_ufs.merge(ano_user_tx_pop_lgbt_casamento, on = 'uf', how = 'left')\n",
    "#mapa_br[['uf', 'ano', 'numero', 'tx_pop', 'geometry']].head()"
   ]
  },
  {
   "cell_type": "code",
   "execution_count": 80,
   "metadata": {},
   "outputs": [
    {
     "data": {
      "text/plain": [
       "<matplotlib.axes._subplots.AxesSubplot at 0x12c391610>"
      ]
     },
     "execution_count": 80,
     "metadata": {},
     "output_type": "execute_result"
    },
    {
     "data": {
      "image/png": "[encoded data removed]",
      "text/plain": [
       "<Figure size 720x432 with 2 Axes>"
      ]
     },
     "metadata": {
      "needs_background": "light"
     },
     "output_type": "display_data"
    }
   ],
   "source": [
    "%matplotlib inline\n",
    "\n",
    "mapa_br.plot(column = 'tx_pop',\n",
    "             cmap = 'Blues',\n",
    "             figsize = (10, 6),\n",
    "             legend = True,\n",
    "             edgecolor = 'black')"
   ]
  }
 ],
 "metadata": {
  "kernelspec": {
   "display_name": "Python 3",
   "language": "python",
   "name": "python3"
  },
  "language_info": {
   "codemirror_mode": {
    "name": "ipython",
    "version": 3
   },
   "file_extension": ".py",
   "mimetype": "text/x-python",
   "name": "python",
   "nbconvert_exporter": "python",
   "pygments_lexer": "ipython3",
   "version": "3.7.6"
  }
 },
 "nbformat": 4,
 "nbformat_minor": 4
}
