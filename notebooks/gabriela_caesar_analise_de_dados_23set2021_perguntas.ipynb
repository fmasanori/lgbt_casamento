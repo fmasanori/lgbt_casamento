{
  "nbformat": 4,
  "nbformat_minor": 0,
  "metadata": {
    "colab": {
      "name": "gabriela_caesar_analise_de_dados_23set2021_perguntas.ipynb",
      "provenance": []
    },
    "kernelspec": {
      "name": "python3",
      "display_name": "Python 3"
    },
    "language_info": {
      "name": "python"
    }
  },
  "cells": [
    {
      "cell_type": "markdown",
      "metadata": {
        "id": "bmueNiZwxjH5"
      },
      "source": [
        "Notebook - análise exploratória de dados\n",
        "\n",
        "Gabriela Caesar\n",
        "\n",
        "23/set/2021"
      ]
    },
    {
      "cell_type": "markdown",
      "metadata": {
        "id": "hJudAd4UxkpO"
      },
      "source": [
        "Perguntas a serem respondidas\n",
        "1. Qual foi o ano com mais casamentos? Qual foi o ano com menos casamento?\n",
        "2. Quem casa mais? Homens gays ou mulheres lésbicas?\n",
        "3. Em qual mês as pessoas mais se casam?\n",
        "4. Considerando a população adulta, quais estados têm as maiores e menores proporções de casamentos LGBTs?\n"
      ]
    },
    {
      "cell_type": "code",
      "metadata": {
        "id": "jWq3uMzyxkWY"
      },
      "source": [
        "# importacao da biblioteca\n",
        "import pandas as pd"
      ],
      "execution_count": 21,
      "outputs": []
    },
    {
      "cell_type": "code",
      "metadata": {
        "id": "wnEV9BM2xs5T"
      },
      "source": [
        "# leitura do dataframe\n",
        "lgbt_casamento = pd.read_csv('https://raw.githubusercontent.com/gabrielacaesar/lgbt_casamento/main/data/lgbt_casamento.csv')"
      ],
      "execution_count": 22,
      "outputs": []
    },
    {
      "cell_type": "code",
      "metadata": {
        "colab": {
          "base_uri": "https://localhost:8080/"
        },
        "id": "7sRy5Ek4xuLQ",
        "outputId": "33f45415-71f4-4149-8f0c-f70692e4bca7"
      },
      "source": [
        "# 2018 foi o ano com mais casamentos\n",
        "lgbt_casamento.groupby('ano')['numero'].sum().sort_values(ascending=False)"
      ],
      "execution_count": 46,
      "outputs": [
        {
          "output_type": "execute_result",
          "data": {
            "text/plain": [
              "ano\n",
              "2018    9520\n",
              "2019    9056\n",
              "2017    5887\n",
              "2015    5614\n",
              "2016    5354\n",
              "2014    4840\n",
              "2013    3700\n",
              "Name: numero, dtype: int64"
            ]
          },
          "metadata": {},
          "execution_count": 46
        }
      ]
    },
    {
      "cell_type": "code",
      "metadata": {
        "id": "mrz8FHqTz7Dz",
        "colab": {
          "base_uri": "https://localhost:8080/"
        },
        "outputId": "cdc5c64c-625c-4460-8ce2-e431eb9a3789"
      },
      "source": [
        "# as mulheres se casam mais do que os homens\n",
        "lgbt_casamento.groupby('genero')['numero'].sum().sort_values(ascending=False)"
      ],
      "execution_count": 43,
      "outputs": [
        {
          "output_type": "execute_result",
          "data": {
            "text/plain": [
              "genero\n",
              "Feminino     24591\n",
              "Masculino    19380\n",
              "Name: numero, dtype: int64"
            ]
          },
          "metadata": {},
          "execution_count": 43
        }
      ]
    },
    {
      "cell_type": "code",
      "metadata": {
        "colab": {
          "base_uri": "https://localhost:8080/"
        },
        "id": "xYZd8MIq6ow7",
        "outputId": "3422ef00-a28e-48ea-870e-98f86543c6be"
      },
      "source": [
        "# considerando os dados anuais também\n",
        "# as mulheres se casam mais do que os homens\n",
        "# apenas em 2014 a diferenca foi pequena\n",
        "lgbt_casamento.groupby(['ano' , 'genero'])['numero'].sum()"
      ],
      "execution_count": 42,
      "outputs": [
        {
          "output_type": "execute_result",
          "data": {
            "text/plain": [
              "ano   genero   \n",
              "2013  Feminino     1926\n",
              "      Masculino    1774\n",
              "2014  Feminino     2438\n",
              "      Masculino    2402\n",
              "2015  Feminino     2986\n",
              "      Masculino    2628\n",
              "2016  Feminino     2943\n",
              "      Masculino    2411\n",
              "2017  Feminino     3387\n",
              "      Masculino    2500\n",
              "2018  Feminino     5562\n",
              "      Masculino    3958\n",
              "2019  Feminino     5349\n",
              "      Masculino    3707\n",
              "Name: numero, dtype: int64"
            ]
          },
          "metadata": {},
          "execution_count": 42
        }
      ]
    },
    {
      "cell_type": "code",
      "metadata": {
        "id": "rn08YuMXz5QC",
        "colab": {
          "base_uri": "https://localhost:8080/"
        },
        "outputId": "9fc8ac08-b00a-4c15-e087-57093fc9bc11"
      },
      "source": [
        "# dezembro é o mês com mais casamentos\n",
        "lgbt_casamento.groupby(['mes'])['numero'].sum().sort_values(ascending=False)"
      ],
      "execution_count": 40,
      "outputs": [
        {
          "output_type": "execute_result",
          "data": {
            "text/plain": [
              "mes\n",
              "Dezembro     6804\n",
              "Novembro     4363\n",
              "Outubro      3940\n",
              "Setembro     3890\n",
              "Janeiro      3386\n",
              "Julho        3373\n",
              "Junho        3122\n",
              "Maio         3118\n",
              "Agosto       3101\n",
              "Março        3073\n",
              "Fevereiro    3001\n",
              "Abril        2800\n",
              "Name: numero, dtype: int64"
            ]
          },
          "metadata": {},
          "execution_count": 40
        }
      ]
    },
    {
      "cell_type": "code",
      "metadata": {
        "colab": {
          "base_uri": "https://localhost:8080/"
        },
        "id": "_gem4IcN8VNr",
        "outputId": "509c8ff6-2c3c-49e7-c7eb-abaaa04c7185"
      },
      "source": [
        "# observe: dezembro de 2018 foi o mês com mais casamentos\n",
        "# logo depois, janeiro de 2019, fevereiro de 2019, novembro de 2018...\n",
        "# todos são meses próximos - e após a eleição de Jair Bolsonaro\n",
        "lgbt_casamento.groupby(['mes', 'ano'])['numero'].sum().sort_values(ascending=False)"
      ],
      "execution_count": 45,
      "outputs": [
        {
          "output_type": "execute_result",
          "data": {
            "text/plain": [
              "mes        ano \n",
              "Dezembro   2018    3098\n",
              "Janeiro    2019    1319\n",
              "Fevereiro  2019    1033\n",
              "Novembro   2018     957\n",
              "Dezembro   2019     774\n",
              "                   ... \n",
              "Maio       2013     235\n",
              "Abril      2013     221\n",
              "Março      2013     160\n",
              "Fevereiro  2013     110\n",
              "Janeiro    2013      74\n",
              "Name: numero, Length: 84, dtype: int64"
            ]
          },
          "metadata": {},
          "execution_count": 45
        }
      ]
    },
    {
      "cell_type": "code",
      "metadata": {
        "id": "jW-5eNASxfCo"
      },
      "source": [
        "# como fica o número de casamentos considerando a população dos estados?\n",
        "# vamos fazer abaixo um merge com um CSV com dados populacionais"
      ],
      "execution_count": null,
      "outputs": []
    }
  ]
}