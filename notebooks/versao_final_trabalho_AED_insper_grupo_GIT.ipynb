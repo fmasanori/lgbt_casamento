{
  "nbformat": 4,
  "nbformat_minor": 0,
  "metadata": {
    "colab": {
      "name": "versao_final_trabalho_AED_insper_grupo_GIT.ipynb",
      "provenance": []
    },
    "kernelspec": {
      "display_name": "Python 3",
      "name": "python3"
    },
    "language_info": {
      "name": "python"
    }
  },
  "cells": [
    {
      "cell_type": "markdown",
      "metadata": {
        "id": "B6-CvBzoEVBW"
      },
      "source": [
        "# Casamento LGBT no Brasil\n",
        "\n",
        "*Este notebook contém o projeto final aplicado da disciplina \"Análise exploratória de dados\", no Master em Jornalismo Dados, Automação e Data Storytelling do Insper, lecionada pelo Prof. André Filipe de Moraes Batista, PhD.*\n",
        "\n",
        "**Integrantes do grupo:** Gabriela Caesar, Isabela Fleischmann e Thiago Araújo (Grupo GIT).\n",
        "\n",
        "**Transparência:** o trabalho também está disponível no [GitHub](https://github.com/gabrielacaesar/lgbt_casamento).\n",
        "\n",
        "**Base de dados escolhida:** casamentos de pessoas do mesmo gênero de 2013 até 2019 (dado mais recente). \n",
        "\n",
        "**Base de dados complementar:** números de habitantes desagregados por gênero, UF e faixa etária. \n",
        "\n",
        "**Fonte das bases de dados:** Instituto Brasileiro de Geografia e Estatística (IBGE). Os arquivos brutos [estão salvos aqui](https://github.com/gabrielacaesar/lgbt_casamento/tree/main/data/raw_data).\n",
        "\n",
        "**Metodologia:** os dados do IBGE estão disponíveis em um formato que dificulta o reaproveitamento para a análise. Por isso, transformamos os dados em [formato \"tidy\"](https://escoladedados.org/tutoriais/tidy-data-dados-arrumados-e-5-problemas-comuns/) antes de iniciar as análises. Os arquivos tratados [estão salvos aqui](https://github.com/gabrielacaesar/lgbt_casamento/tree/main/data).\n"
      ]
    },
    {
      "cell_type": "markdown",
      "metadata": {
        "id": "M2oU6fVsHJ1Y"
      },
      "source": [
        "## Contexto do assunto\n",
        "O Brasil tem [mais de 60 mil casais formados por pessoas do mesmo gênero](http://g1.globo.com/brasil/noticia/2011/04/censo-2010-contabiliza-mais-de-60-mil-casais-homossexuais.html), segundo o Censo 2010 - o último realizado no Brasil e divulgado em 2011. Esse número é bastante menor que o de casais formados por pessoas de gêneros diferentes: 37,5 milhões. \n",
        "\n",
        "Mais de dez anos se passaram. E como está essa situação hoje no Brasil? É inegável que, ao caminhar na Avenida Paulista, em São Paulo, em 2021, vemos mais casais LGBTs do que há 10 anos. O sentimento é que mais pessoas puderam viver histórias homoafetivas nas grandes cidades. Mas será que isso vale para todo o Brasil? E será que a eleição de Jair Bolsonaro impactou esses números?\n",
        "\n",
        "Além disso, apenas em 2011, o STF julgou legal a união civil de pessoas do mesmo gênero. Em 2013, o Conselho Nacional de Justiça [passou a permitir que todos os cartórios registrassem a união homoafetiva](https://g1.globo.com/distrito-federal/noticia/casamento-gay-no-brasil-completa-4-anos-de-regulamentacao-leia-historias.ghtml).\n",
        "\n",
        "A orientação sexual é uma informação pessoal e, por isso, há poucos dados sobre isso, já que os órgãos não costumam coletar essa informação. Antes da definição da base, o grupo mapeou diversos dados sobre LGBTs para verificar qual base poderia ter dados de qualidade para tratar o tema.\n",
        "\n",
        "A base de dados do IBGE, porém, é uma exceção positiva nesse levantamento. Além de ter dados oficiais do Brasil, ela também tem um detalhamento que permite uma ampla análise exploratória para responder a perguntas."
      ]
    },
    {
      "cell_type": "markdown",
      "metadata": {
        "id": "YFmmLz9QHDJA"
      },
      "source": [
        "## Perguntas a que queremos responder\n",
        "1.   Quantos casamentos homoafetivos ocorreram no Brasil de 2013 a 2019?\n",
        "2.   Qual foi o ano com mais casamentos? E com menos casamento?\n",
        "3.   Quais foram as estatísticas básicas anuais? E em 2018?\n",
        "4.   Quem casa mais no meio LGBT? Homens ou mulheres? \n",
        "5.   As mulheres também se casam mais considerando os dados anuais?\n",
        "6.   Em qual mês as pessoas mais se casam? E em qual elas menos se casam?\n",
        "7.   Há mais casamentos homoafetivos após a vitória de Jair Bolsonaro, em 28 de outubro de 2018?\n",
        "8.   Em quais estados aconteceram mais casamentos LGBTs em números absolutos? E menos?\n",
        "9.   Em quais regiões do Brasil os casamentos LGBTs mais ocorrem? E menos?\n",
        "10.   Considerando a população adulta, quais estados têm as maiores e menores proporções de casamentos LGBTs? \n",
        "11.   Em um mapa do Brasil, como ficam as taxas de casamentos LGBTS por 100 mil adultos?\n",
        "12.  Considerando a UF e o ano informados pelo usuário, quais são as estatísticas básicas dessa UF e desse ano quanto ao casamento LGBT?\n"
      ]
    },
    {
      "cell_type": "markdown",
      "metadata": {
        "id": "ROIBBhDMJ1Wk"
      },
      "source": [
        "## O que aprendemos com os dados\n",
        "\n",
        "1.   Mais de 40 mil casamentos homoafetivos foram realizados de 2013 a 2019\n",
        "2.  As mulheres definitivamente se casam mais do que os homens\n",
        "3.   SP e DF foram as unidades federativas com as maiores taxas de casamentos LGBTs por habitantes adultos;\n",
        "4.    Estados do Norte e do Nordeste, como MA, RR, AC e RO, aparecem com as menores taxas\n",
        "5.   O Sudeste, região mais populosa do Brasil, também foi a região com mais casamentos\n",
        "6.   O ano com mais casamentos LGBTs foi 2018, seguido por 2019\n",
        "7.   O mês com mais casamentos foi dezembro; e o mês com menos foi abril\n",
        "8.   Os meses próximos à eleição de Jair Bolsonaro foram os picos de casamentos LGBTS\n",
        "9.   Os dados apontam que os casais homoafetivos seguiram [a recomendação da presidente da Comissão Especial da Diversidade Sexual e de Gênero do Conselho Federal da OAB, Maria Berenice Dias](https://g1.globo.com/sp/sao-paulo/noticia/2018/11/07/casamento-lgbt-cresce-25-no-pais-diz-associacao-profissionais-oferecem-servicos-gratuitos-para-celebracoes.ghtml), para os casais procurarem assegurar o matrimônio ainda em 2018."
      ]
    },
    {
      "cell_type": "markdown",
      "metadata": {
        "id": "RtSImjTwR4iC"
      },
      "source": [
        "## 1. Verificação do dataframe\n",
        "Esta etapa do trabalho se propõe a importar o CSV principal e todas as bibliotecas usadas no Notebook, além de verificar do que esse dataframe é formado antes de responder às perguntas de interesse."
      ]
    },
    {
      "cell_type": "code",
      "metadata": {
        "id": "4moiU6vXQLlD"
      },
      "source": [
        "# importação das bibliotecas\n",
        "%%capture \n",
        "!pip install geopandas ## para instalar o geopandas\n",
        "import geopandas as gpd\n",
        "import pandas as pd\n",
        "import altair as alt"
      ],
      "execution_count": 3,
      "outputs": []
    },
    {
      "cell_type": "code",
      "metadata": {
        "id": "fWKrfJJrQu-d"
      },
      "source": [
        "# leitura do CSV como dataframe\n",
        "lgbt_casamento = pd.read_csv('https://raw.githubusercontent.com/gabrielacaesar/lgbt_casamento/main/data/lgbt_casamento.csv')"
      ],
      "execution_count": 4,
      "outputs": []
    },
    {
      "cell_type": "code",
      "metadata": {
        "id": "TTF6Na23QBT0",
        "colab": {
          "base_uri": "https://localhost:8080/",
          "height": 206
        },
        "outputId": "37181bf7-dc06-4e56-b55a-c94afb88218a"
      },
      "source": [
        "# primeiras linhas do nosso dataframe\n",
        "lgbt_casamento.head()"
      ],
      "execution_count": 7,
      "outputs": [
        {
          "output_type": "execute_result",
          "data": {
            "text/html": [
              "<div>\n",
              "<style scoped>\n",
              "    .dataframe tbody tr th:only-of-type {\n",
              "        vertical-align: middle;\n",
              "    }\n",
              "\n",
              "    .dataframe tbody tr th {\n",
              "        vertical-align: top;\n",
              "    }\n",
              "\n",
              "    .dataframe thead th {\n",
              "        text-align: right;\n",
              "    }\n",
              "</style>\n",
              "<table border=\"1\" class=\"dataframe\">\n",
              "  <thead>\n",
              "    <tr style=\"text-align: right;\">\n",
              "      <th></th>\n",
              "      <th>ano</th>\n",
              "      <th>uf</th>\n",
              "      <th>genero</th>\n",
              "      <th>mes</th>\n",
              "      <th>numero</th>\n",
              "    </tr>\n",
              "  </thead>\n",
              "  <tbody>\n",
              "    <tr>\n",
              "      <th>0</th>\n",
              "      <td>2014</td>\n",
              "      <td>Rondônia</td>\n",
              "      <td>Masculino</td>\n",
              "      <td>Janeiro</td>\n",
              "      <td>0</td>\n",
              "    </tr>\n",
              "    <tr>\n",
              "      <th>1</th>\n",
              "      <td>2014</td>\n",
              "      <td>Rondônia</td>\n",
              "      <td>Masculino</td>\n",
              "      <td>Fevereiro</td>\n",
              "      <td>0</td>\n",
              "    </tr>\n",
              "    <tr>\n",
              "      <th>2</th>\n",
              "      <td>2014</td>\n",
              "      <td>Rondônia</td>\n",
              "      <td>Masculino</td>\n",
              "      <td>Março</td>\n",
              "      <td>0</td>\n",
              "    </tr>\n",
              "    <tr>\n",
              "      <th>3</th>\n",
              "      <td>2014</td>\n",
              "      <td>Rondônia</td>\n",
              "      <td>Masculino</td>\n",
              "      <td>Abril</td>\n",
              "      <td>0</td>\n",
              "    </tr>\n",
              "    <tr>\n",
              "      <th>4</th>\n",
              "      <td>2014</td>\n",
              "      <td>Rondônia</td>\n",
              "      <td>Masculino</td>\n",
              "      <td>Maio</td>\n",
              "      <td>0</td>\n",
              "    </tr>\n",
              "  </tbody>\n",
              "</table>\n",
              "</div>"
            ],
            "text/plain": [
              "    ano        uf     genero        mes  numero\n",
              "0  2014  Rondônia  Masculino    Janeiro       0\n",
              "1  2014  Rondônia  Masculino  Fevereiro       0\n",
              "2  2014  Rondônia  Masculino      Março       0\n",
              "3  2014  Rondônia  Masculino      Abril       0\n",
              "4  2014  Rondônia  Masculino       Maio       0"
            ]
          },
          "metadata": {},
          "execution_count": 7
        }
      ]
    },
    {
      "cell_type": "code",
      "metadata": {
        "id": "S3UwrxvdQz9q",
        "colab": {
          "base_uri": "https://localhost:8080/",
          "height": 206
        },
        "outputId": "4e76a259-0e00-4534-b8b3-a08625553127"
      },
      "source": [
        "# últimas linhas do nosso dataframe\n",
        "lgbt_casamento.tail()"
      ],
      "execution_count": 6,
      "outputs": [
        {
          "output_type": "execute_result",
          "data": {
            "text/html": [
              "<div>\n",
              "<style scoped>\n",
              "    .dataframe tbody tr th:only-of-type {\n",
              "        vertical-align: middle;\n",
              "    }\n",
              "\n",
              "    .dataframe tbody tr th {\n",
              "        vertical-align: top;\n",
              "    }\n",
              "\n",
              "    .dataframe thead th {\n",
              "        text-align: right;\n",
              "    }\n",
              "</style>\n",
              "<table border=\"1\" class=\"dataframe\">\n",
              "  <thead>\n",
              "    <tr style=\"text-align: right;\">\n",
              "      <th></th>\n",
              "      <th>ano</th>\n",
              "      <th>uf</th>\n",
              "      <th>genero</th>\n",
              "      <th>mes</th>\n",
              "      <th>numero</th>\n",
              "    </tr>\n",
              "  </thead>\n",
              "  <tbody>\n",
              "    <tr>\n",
              "      <th>4531</th>\n",
              "      <td>2019</td>\n",
              "      <td>Distrito Federal</td>\n",
              "      <td>Feminino</td>\n",
              "      <td>Agosto</td>\n",
              "      <td>7</td>\n",
              "    </tr>\n",
              "    <tr>\n",
              "      <th>4532</th>\n",
              "      <td>2019</td>\n",
              "      <td>Distrito Federal</td>\n",
              "      <td>Feminino</td>\n",
              "      <td>Setembro</td>\n",
              "      <td>9</td>\n",
              "    </tr>\n",
              "    <tr>\n",
              "      <th>4533</th>\n",
              "      <td>2019</td>\n",
              "      <td>Distrito Federal</td>\n",
              "      <td>Feminino</td>\n",
              "      <td>Outubro</td>\n",
              "      <td>13</td>\n",
              "    </tr>\n",
              "    <tr>\n",
              "      <th>4534</th>\n",
              "      <td>2019</td>\n",
              "      <td>Distrito Federal</td>\n",
              "      <td>Feminino</td>\n",
              "      <td>Novembro</td>\n",
              "      <td>11</td>\n",
              "    </tr>\n",
              "    <tr>\n",
              "      <th>4535</th>\n",
              "      <td>2019</td>\n",
              "      <td>Distrito Federal</td>\n",
              "      <td>Feminino</td>\n",
              "      <td>Dezembro</td>\n",
              "      <td>7</td>\n",
              "    </tr>\n",
              "  </tbody>\n",
              "</table>\n",
              "</div>"
            ],
            "text/plain": [
              "       ano                uf    genero       mes  numero\n",
              "4531  2019  Distrito Federal  Feminino    Agosto       7\n",
              "4532  2019  Distrito Federal  Feminino  Setembro       9\n",
              "4533  2019  Distrito Federal  Feminino   Outubro      13\n",
              "4534  2019  Distrito Federal  Feminino  Novembro      11\n",
              "4535  2019  Distrito Federal  Feminino  Dezembro       7"
            ]
          },
          "metadata": {},
          "execution_count": 6
        }
      ]
    },
    {
      "cell_type": "code",
      "metadata": {
        "id": "CpMzlEBjP-0V",
        "colab": {
          "base_uri": "https://localhost:8080/"
        },
        "outputId": "1a20d75e-b624-44e9-a381-78f9578f7f18"
      },
      "source": [
        "# informações do dataframe, por exemplo: tipo da coluna e número de linhas\n",
        "lgbt_casamento.info()"
      ],
      "execution_count": 8,
      "outputs": [
        {
          "output_type": "stream",
          "name": "stdout",
          "text": [
            "<class 'pandas.core.frame.DataFrame'>\n",
            "RangeIndex: 4536 entries, 0 to 4535\n",
            "Data columns (total 5 columns):\n",
            " #   Column  Non-Null Count  Dtype \n",
            "---  ------  --------------  ----- \n",
            " 0   ano     4536 non-null   int64 \n",
            " 1   uf      4536 non-null   object\n",
            " 2   genero  4536 non-null   object\n",
            " 3   mes     4536 non-null   object\n",
            " 4   numero  4536 non-null   int64 \n",
            "dtypes: int64(2), object(3)\n",
            "memory usage: 177.3+ KB\n"
          ]
        }
      ]
    },
    {
      "cell_type": "code",
      "metadata": {
        "id": "SrgwTC6qL2Nb",
        "colab": {
          "base_uri": "https://localhost:8080/",
          "height": 300
        },
        "outputId": "f6dbe187-8c59-40ad-97cb-500c3f6c6cd7"
      },
      "source": [
        "# estatísticas das colunas numéricas do dataframe\n",
        "lgbt_casamento.describe()"
      ],
      "execution_count": 9,
      "outputs": [
        {
          "output_type": "execute_result",
          "data": {
            "text/html": [
              "<div>\n",
              "<style scoped>\n",
              "    .dataframe tbody tr th:only-of-type {\n",
              "        vertical-align: middle;\n",
              "    }\n",
              "\n",
              "    .dataframe tbody tr th {\n",
              "        vertical-align: top;\n",
              "    }\n",
              "\n",
              "    .dataframe thead th {\n",
              "        text-align: right;\n",
              "    }\n",
              "</style>\n",
              "<table border=\"1\" class=\"dataframe\">\n",
              "  <thead>\n",
              "    <tr style=\"text-align: right;\">\n",
              "      <th></th>\n",
              "      <th>ano</th>\n",
              "      <th>numero</th>\n",
              "    </tr>\n",
              "  </thead>\n",
              "  <tbody>\n",
              "    <tr>\n",
              "      <th>count</th>\n",
              "      <td>4536.00000</td>\n",
              "      <td>4536.000000</td>\n",
              "    </tr>\n",
              "    <tr>\n",
              "      <th>mean</th>\n",
              "      <td>2016.00000</td>\n",
              "      <td>9.693783</td>\n",
              "    </tr>\n",
              "    <tr>\n",
              "      <th>std</th>\n",
              "      <td>2.00022</td>\n",
              "      <td>25.962171</td>\n",
              "    </tr>\n",
              "    <tr>\n",
              "      <th>min</th>\n",
              "      <td>2013.00000</td>\n",
              "      <td>0.000000</td>\n",
              "    </tr>\n",
              "    <tr>\n",
              "      <th>25%</th>\n",
              "      <td>2014.00000</td>\n",
              "      <td>1.000000</td>\n",
              "    </tr>\n",
              "    <tr>\n",
              "      <th>50%</th>\n",
              "      <td>2016.00000</td>\n",
              "      <td>3.000000</td>\n",
              "    </tr>\n",
              "    <tr>\n",
              "      <th>75%</th>\n",
              "      <td>2018.00000</td>\n",
              "      <td>9.000000</td>\n",
              "    </tr>\n",
              "    <tr>\n",
              "      <th>max</th>\n",
              "      <td>2019.00000</td>\n",
              "      <td>827.000000</td>\n",
              "    </tr>\n",
              "  </tbody>\n",
              "</table>\n",
              "</div>"
            ],
            "text/plain": [
              "              ano       numero\n",
              "count  4536.00000  4536.000000\n",
              "mean   2016.00000     9.693783\n",
              "std       2.00022    25.962171\n",
              "min    2013.00000     0.000000\n",
              "25%    2014.00000     1.000000\n",
              "50%    2016.00000     3.000000\n",
              "75%    2018.00000     9.000000\n",
              "max    2019.00000   827.000000"
            ]
          },
          "metadata": {},
          "execution_count": 9
        }
      ]
    },
    {
      "cell_type": "code",
      "metadata": {
        "id": "0eemqw5IKq6h",
        "colab": {
          "base_uri": "https://localhost:8080/"
        },
        "outputId": "a12a58ad-36f2-4c20-8231-8f581f311594"
      },
      "source": [
        "# cabeçalho da dataframe\n",
        "lgbt_casamento.columns"
      ],
      "execution_count": 10,
      "outputs": [
        {
          "output_type": "execute_result",
          "data": {
            "text/plain": [
              "Index(['ano', 'uf', 'genero', 'mes', 'numero'], dtype='object')"
            ]
          },
          "metadata": {},
          "execution_count": 10
        }
      ]
    },
    {
      "cell_type": "code",
      "metadata": {
        "id": "auW4JB8bG7Ki",
        "colab": {
          "base_uri": "https://localhost:8080/"
        },
        "outputId": "78ca3914-4b75-41d1-8c9d-f794be89fb0f"
      },
      "source": [
        "# valores únicos da coluna 'ano' do dataframe\n",
        "lgbt_casamento['ano'].unique()"
      ],
      "execution_count": 11,
      "outputs": [
        {
          "output_type": "execute_result",
          "data": {
            "text/plain": [
              "array([2014, 2013, 2015, 2016, 2017, 2018, 2019])"
            ]
          },
          "metadata": {},
          "execution_count": 11
        }
      ]
    },
    {
      "cell_type": "code",
      "metadata": {
        "id": "gZKblUNmGwsq",
        "colab": {
          "base_uri": "https://localhost:8080/"
        },
        "outputId": "45158854-ddaf-4cc7-ed53-7862357616b9"
      },
      "source": [
        "# valores únicos da coluna 'mes' do dataframe\n",
        "lgbt_casamento['mes'].unique()"
      ],
      "execution_count": 12,
      "outputs": [
        {
          "output_type": "execute_result",
          "data": {
            "text/plain": [
              "array(['Janeiro', 'Fevereiro', 'Março', 'Abril', 'Maio', 'Junho', 'Julho',\n",
              "       'Agosto', 'Setembro', 'Outubro', 'Novembro', 'Dezembro'],\n",
              "      dtype=object)"
            ]
          },
          "metadata": {},
          "execution_count": 12
        }
      ]
    },
    {
      "cell_type": "code",
      "metadata": {
        "id": "0GRh1jp4Ev03",
        "colab": {
          "base_uri": "https://localhost:8080/"
        },
        "outputId": "ea1b84f7-2f31-47ec-b837-d9c21ba6cb0a"
      },
      "source": [
        "# valores únicos da coluna 'genero' do dataframe\n",
        "lgbt_casamento['genero'].unique()"
      ],
      "execution_count": 13,
      "outputs": [
        {
          "output_type": "execute_result",
          "data": {
            "text/plain": [
              "array(['Masculino', 'Feminino'], dtype=object)"
            ]
          },
          "metadata": {},
          "execution_count": 13
        }
      ]
    },
    {
      "cell_type": "code",
      "metadata": {
        "id": "BJlUk89DEryp",
        "colab": {
          "base_uri": "https://localhost:8080/"
        },
        "outputId": "96950344-5cbd-4f13-8282-87aa4021de9e"
      },
      "source": [
        "# valores únicos da coluna 'uf' do dataframe\n",
        "lgbt_casamento['uf'].unique()"
      ],
      "execution_count": 14,
      "outputs": [
        {
          "output_type": "execute_result",
          "data": {
            "text/plain": [
              "array(['Rondônia', 'Acre', 'Amazonas', 'Roraima', 'Pará', 'Amapá',\n",
              "       'Tocantins', 'Maranhão', 'Piauí', 'Ceará', 'Rio Grande do Norte',\n",
              "       'Paraíba', 'Pernambuco', 'Alagoas', 'Sergipe', 'Bahia',\n",
              "       'Minas Gerais', 'Espírito Santo', 'Rio de Janeiro', 'São Paulo',\n",
              "       'Paraná', 'Santa Catarina', 'Rio Grande do Sul',\n",
              "       'Mato Grosso do Sul', 'Mato Grosso', 'Goiás', 'Distrito Federal'],\n",
              "      dtype=object)"
            ]
          },
          "metadata": {},
          "execution_count": 14
        }
      ]
    },
    {
      "cell_type": "code",
      "metadata": {
        "id": "vqLlYdLPRBhc",
        "colab": {
          "base_uri": "https://localhost:8080/"
        },
        "outputId": "dd7a1bf1-8442-46fd-8a0a-17a03e9dc192"
      },
      "source": [
        "# tamanho dos valores únicos da coluna 'uf' do dataframe\n",
        "len(lgbt_casamento['uf'].unique())"
      ],
      "execution_count": 15,
      "outputs": [
        {
          "output_type": "execute_result",
          "data": {
            "text/plain": [
              "27"
            ]
          },
          "metadata": {},
          "execution_count": 15
        }
      ]
    },
    {
      "cell_type": "code",
      "metadata": {
        "id": "-I37cJ3ERD6d",
        "colab": {
          "base_uri": "https://localhost:8080/"
        },
        "outputId": "3f5ab679-2786-4d33-a323-f0ae14244893"
      },
      "source": [
        "# tamanho dos valores únicos da coluna 'mes' do dataframe\n",
        "len(lgbt_casamento['mes'].unique())"
      ],
      "execution_count": 16,
      "outputs": [
        {
          "output_type": "execute_result",
          "data": {
            "text/plain": [
              "12"
            ]
          },
          "metadata": {},
          "execution_count": 16
        }
      ]
    },
    {
      "cell_type": "code",
      "metadata": {
        "id": "dbQCs2_zRF7m",
        "colab": {
          "base_uri": "https://localhost:8080/"
        },
        "outputId": "7ad99c27-5930-4055-febf-b1b69f6b760c"
      },
      "source": [
        "# tamanho dos valores únicos da coluna 'ano' do dataframe\n",
        "len(lgbt_casamento['ano'].unique())"
      ],
      "execution_count": 17,
      "outputs": [
        {
          "output_type": "execute_result",
          "data": {
            "text/plain": [
              "7"
            ]
          },
          "metadata": {},
          "execution_count": 17
        }
      ]
    },
    {
      "cell_type": "code",
      "metadata": {
        "id": "osoC1DfmRHIS",
        "colab": {
          "base_uri": "https://localhost:8080/"
        },
        "outputId": "50c99c21-8ca2-4c98-e95f-92bd36408612"
      },
      "source": [
        "# seleciona apenas a coluna 'mes'\n",
        "lgbt_casamento['mes']"
      ],
      "execution_count": 18,
      "outputs": [
        {
          "output_type": "execute_result",
          "data": {
            "text/plain": [
              "0         Janeiro\n",
              "1       Fevereiro\n",
              "2           Março\n",
              "3           Abril\n",
              "4            Maio\n",
              "          ...    \n",
              "4531       Agosto\n",
              "4532     Setembro\n",
              "4533      Outubro\n",
              "4534     Novembro\n",
              "4535     Dezembro\n",
              "Name: mes, Length: 4536, dtype: object"
            ]
          },
          "metadata": {},
          "execution_count": 18
        }
      ]
    },
    {
      "cell_type": "code",
      "metadata": {
        "id": "GFzYtYENRO6D",
        "colab": {
          "base_uri": "https://localhost:8080/"
        },
        "outputId": "ce7af7aa-9811-43ba-8b4f-3564c7761231"
      },
      "source": [
        "# número de linhas na coluna 'numero'\n",
        "len(lgbt_casamento['mes'])"
      ],
      "execution_count": 19,
      "outputs": [
        {
          "output_type": "execute_result",
          "data": {
            "text/plain": [
              "4536"
            ]
          },
          "metadata": {},
          "execution_count": 19
        }
      ]
    },
    {
      "cell_type": "code",
      "metadata": {
        "id": "JHzU6jzsRSbv",
        "colab": {
          "base_uri": "https://localhost:8080/"
        },
        "outputId": "08091d80-42a5-4729-a525-75486a607675"
      },
      "source": [
        "# pergunta se aquele campo da coluna 'mes' é NA (ou seja, sem preenchimento)\n",
        "lgbt_casamento['mes'].isna()"
      ],
      "execution_count": 20,
      "outputs": [
        {
          "output_type": "execute_result",
          "data": {
            "text/plain": [
              "0       False\n",
              "1       False\n",
              "2       False\n",
              "3       False\n",
              "4       False\n",
              "        ...  \n",
              "4531    False\n",
              "4532    False\n",
              "4533    False\n",
              "4534    False\n",
              "4535    False\n",
              "Name: mes, Length: 4536, dtype: bool"
            ]
          },
          "metadata": {},
          "execution_count": 20
        }
      ]
    },
    {
      "cell_type": "code",
      "metadata": {
        "id": "SWqefMn8RTpV",
        "colab": {
          "base_uri": "https://localhost:8080/"
        },
        "outputId": "ed4649fc-a15d-4506-f585-617b8d9b6dbe"
      },
      "source": [
        "# pergunta se aquele campo da coluna 'numero' é NA (ou seja, sem preenchimento)\n",
        "lgbt_casamento['numero'].isna()"
      ],
      "execution_count": 21,
      "outputs": [
        {
          "output_type": "execute_result",
          "data": {
            "text/plain": [
              "0       False\n",
              "1       False\n",
              "2       False\n",
              "3       False\n",
              "4       False\n",
              "        ...  \n",
              "4531    False\n",
              "4532    False\n",
              "4533    False\n",
              "4534    False\n",
              "4535    False\n",
              "Name: numero, Length: 4536, dtype: bool"
            ]
          },
          "metadata": {},
          "execution_count": 21
        }
      ]
    },
    {
      "cell_type": "code",
      "metadata": {
        "id": "IRwMFQNwRVtR",
        "colab": {
          "base_uri": "https://localhost:8080/"
        },
        "outputId": "fb1d6856-0d41-4dfa-cff5-baf459359b4a"
      },
      "source": [
        "# número máximo da coluna 'numero'\n",
        "# ou seja, maior número de casamentos em um mês em uma UF\n",
        "lgbt_casamento['numero'].max()"
      ],
      "execution_count": 22,
      "outputs": [
        {
          "output_type": "execute_result",
          "data": {
            "text/plain": [
              "827"
            ]
          },
          "metadata": {},
          "execution_count": 22
        }
      ]
    },
    {
      "cell_type": "code",
      "metadata": {
        "id": "aAu7aPunRXMo",
        "colab": {
          "base_uri": "https://localhost:8080/"
        },
        "outputId": "733e82d6-7a6b-46b7-b39b-7f8c80d22d32"
      },
      "source": [
        "# número mínimo da coluna 'numero'\n",
        "# ou seja, menor número de casamentos em um mês em uma UF\n",
        "lgbt_casamento['numero'].min()"
      ],
      "execution_count": 23,
      "outputs": [
        {
          "output_type": "execute_result",
          "data": {
            "text/plain": [
              "0"
            ]
          },
          "metadata": {},
          "execution_count": 23
        }
      ]
    },
    {
      "cell_type": "code",
      "metadata": {
        "id": "xfTCm0x6RhaW",
        "colab": {
          "base_uri": "https://localhost:8080/"
        },
        "outputId": "eb92218a-7732-4d78-de09-4d9cca28ae64"
      },
      "source": [
        "# média da coluna 'numero'\n",
        "lgbt_casamento['numero'].mean()"
      ],
      "execution_count": 24,
      "outputs": [
        {
          "output_type": "execute_result",
          "data": {
            "text/plain": [
              "9.693783068783068"
            ]
          },
          "metadata": {},
          "execution_count": 24
        }
      ]
    },
    {
      "cell_type": "code",
      "metadata": {
        "id": "sUtuEZVnRjCY",
        "colab": {
          "base_uri": "https://localhost:8080/"
        },
        "outputId": "9cecfa8c-afb0-43fb-9afd-ce3931d39167"
      },
      "source": [
        "# mediana da coluna 'numero'\n",
        "lgbt_casamento['numero'].median()"
      ],
      "execution_count": 25,
      "outputs": [
        {
          "output_type": "execute_result",
          "data": {
            "text/plain": [
              "3.0"
            ]
          },
          "metadata": {},
          "execution_count": 25
        }
      ]
    },
    {
      "cell_type": "code",
      "metadata": {
        "id": "3oZTWNjWS-YQ",
        "colab": {
          "base_uri": "https://localhost:8080/"
        },
        "outputId": "aa7e1986-fd0b-4d22-ca2b-a22f5e7f532f"
      },
      "source": [
        "# desvio padrão da coluna 'numero'\n",
        "lgbt_casamento['numero'].std()"
      ],
      "execution_count": 26,
      "outputs": [
        {
          "output_type": "execute_result",
          "data": {
            "text/plain": [
              "25.962171041306817"
            ]
          },
          "metadata": {},
          "execution_count": 26
        }
      ]
    },
    {
      "cell_type": "code",
      "metadata": {
        "id": "sLZFQo8nRje8",
        "colab": {
          "base_uri": "https://localhost:8080/"
        },
        "outputId": "8d9f4df2-ec28-43b1-d961-b3f1c69598b8"
      },
      "source": [
        "# soma da coluna 'numero'\n",
        "sum(lgbt_casamento['numero'])"
      ],
      "execution_count": 27,
      "outputs": [
        {
          "output_type": "execute_result",
          "data": {
            "text/plain": [
              "43971"
            ]
          },
          "metadata": {},
          "execution_count": 27
        }
      ]
    },
    {
      "cell_type": "markdown",
      "metadata": {
        "id": "R3cXAfySSPzf"
      },
      "source": [
        "## 2. Análise exploratória de dados\n",
        "Esta etapa do trabalho se propõe a analisar os dados com mais profundida para começar a responder a algumas perguntas formuladas inicialmente. Como o CSV já foi importado e as bibliotecas já foram chamadas anteriormente neste Notebook, isso não precisa ser repetido."
      ]
    },
    {
      "cell_type": "markdown",
      "metadata": {
        "id": "G6jQ6E_mdjiJ"
      },
      "source": [
        "### Quantos casamentos homoafetivos ocorreram no Brasil de 2013 a 2019?\n",
        "\n"
      ]
    },
    {
      "cell_type": "code",
      "metadata": {
        "id": "8H3uhOgZdp2n",
        "colab": {
          "base_uri": "https://localhost:8080/"
        },
        "outputId": "5d25b791-c60f-4eb6-d250-af05911bcd28"
      },
      "source": [
        "# mais de 40 mil casamentos homoafetivos nesse período\n",
        "sum(lgbt_casamento['numero'])"
      ],
      "execution_count": 28,
      "outputs": [
        {
          "output_type": "execute_result",
          "data": {
            "text/plain": [
              "43971"
            ]
          },
          "metadata": {},
          "execution_count": 28
        }
      ]
    },
    {
      "cell_type": "markdown",
      "metadata": {
        "id": "iwIvrUBZdZoP"
      },
      "source": [
        "### Qual foi o ano com mais casamentos homoafetivos? E com menos?"
      ]
    },
    {
      "cell_type": "code",
      "metadata": {
        "id": "zkreNjrrTYHg",
        "colab": {
          "base_uri": "https://localhost:8080/"
        },
        "outputId": "ae9d81cf-9f0a-4cfd-ece1-01096c7d9508"
      },
      "source": [
        "# 2018 foi o ano com mais casamentos, seguido por 2019\n",
        "casamento_ano = lgbt_casamento.groupby('ano')['numero'].sum().sort_values(ascending=False).reset_index()\n",
        "print(casamento_ano)"
      ],
      "execution_count": 30,
      "outputs": [
        {
          "output_type": "stream",
          "name": "stdout",
          "text": [
            "    ano  numero\n",
            "0  2018    9520\n",
            "1  2019    9056\n",
            "2  2017    5887\n",
            "3  2015    5614\n",
            "4  2016    5354\n",
            "5  2014    4840\n",
            "6  2013    3700\n"
          ]
        }
      ]
    },
    {
      "cell_type": "code",
      "metadata": {
        "id": "Cs8MwIgmTr0H",
        "colab": {
          "base_uri": "https://localhost:8080/",
          "height": 398
        },
        "outputId": "0c85ad05-8da2-4454-f7d9-dd963e2dd657"
      },
      "source": [
        "# gráfico para mostrar os dados citados acima\n",
        "# referência https://altair-viz.github.io/gallery/bar_chart_with_highlighted_bar.html\n",
        "alt.Chart(casamento_ano).mark_bar().encode(\n",
        "    x = alt.X('ano:O', title = 'Ano'),\n",
        "    y = alt.Y('numero', title = 'Nº de casamentos'),\n",
        "    color=alt.condition(\n",
        "        alt.datum.ano == 2018,  # If the year is 1810 this test returns True,\n",
        "        alt.value('orange'),     # which sets the bar orange.\n",
        "        alt.value('steelblue')\n",
        "    ),\n",
        "    tooltip = ['ano', 'numero']\n",
        ").properties(title = '2018 é o recorde de casamentos homoafetivos', width=600, height=300).interactive()"
      ],
      "execution_count": 170,
      "outputs": [
        {
          "output_type": "execute_result",
          "data": {
            "text/plain": [
              "alt.Chart(...)"
            ],
            "text/html": [
              "\n",
              "<div id=\"altair-viz-6384d7aff39e43d3a33cc83c23109671\"></div>\n",
              "<script type=\"text/javascript\">\n",
              "  (function(spec, embedOpt){\n",
              "    let outputDiv = document.currentScript.previousElementSibling;\n",
              "    if (outputDiv.id !== \"altair-viz-6384d7aff39e43d3a33cc83c23109671\") {\n",
              "      outputDiv = document.getElementById(\"altair-viz-6384d7aff39e43d3a33cc83c23109671\");\n",
              "    }\n",
              "    const paths = {\n",
              "      \"vega\": \"https://cdn.jsdelivr.net/npm//vega@5?noext\",\n",
              "      \"vega-lib\": \"https://cdn.jsdelivr.net/npm//vega-lib?noext\",\n",
              "      \"vega-lite\": \"https://cdn.jsdelivr.net/npm//vega-lite@4.8.1?noext\",\n",
              "      \"vega-embed\": \"https://cdn.jsdelivr.net/npm//vega-embed@6?noext\",\n",
              "    };\n",
              "\n",
              "    function loadScript(lib) {\n",
              "      return new Promise(function(resolve, reject) {\n",
              "        var s = document.createElement('script');\n",
              "        s.src = paths[lib];\n",
              "        s.async = true;\n",
              "        s.onload = () => resolve(paths[lib]);\n",
              "        s.onerror = () => reject(`Error loading script: ${paths[lib]}`);\n",
              "        document.getElementsByTagName(\"head\")[0].appendChild(s);\n",
              "      });\n",
              "    }\n",
              "\n",
              "    function showError(err) {\n",
              "      outputDiv.innerHTML = `<div class=\"error\" style=\"color:red;\">${err}</div>`;\n",
              "      throw err;\n",
              "    }\n",
              "\n",
              "    function displayChart(vegaEmbed) {\n",
              "      vegaEmbed(outputDiv, spec, embedOpt)\n",
              "        .catch(err => showError(`Javascript Error: ${err.message}<br>This usually means there's a typo in your chart specification. See the javascript console for the full traceback.`));\n",
              "    }\n",
              "\n",
              "    if(typeof define === \"function\" && define.amd) {\n",
              "      requirejs.config({paths});\n",
              "      require([\"vega-embed\"], displayChart, err => showError(`Error loading script: ${err.message}`));\n",
              "    } else if (typeof vegaEmbed === \"function\") {\n",
              "      displayChart(vegaEmbed);\n",
              "    } else {\n",
              "      loadScript(\"vega\")\n",
              "        .then(() => loadScript(\"vega-lite\"))\n",
              "        .then(() => loadScript(\"vega-embed\"))\n",
              "        .catch(showError)\n",
              "        .then(() => displayChart(vegaEmbed));\n",
              "    }\n",
              "  })({\"config\": {\"view\": {\"continuousWidth\": 400, \"continuousHeight\": 300}}, \"data\": {\"name\": \"data-94c34337ccddc1fb7c1f35424dbb915f\"}, \"mark\": \"bar\", \"encoding\": {\"color\": {\"condition\": {\"value\": \"orange\", \"test\": \"(datum.ano === 2018)\"}, \"value\": \"steelblue\"}, \"tooltip\": [{\"type\": \"quantitative\", \"field\": \"ano\"}, {\"type\": \"quantitative\", \"field\": \"numero\"}], \"x\": {\"type\": \"ordinal\", \"field\": \"ano\", \"title\": \"Ano\"}, \"y\": {\"type\": \"quantitative\", \"field\": \"numero\", \"title\": \"N\\u00ba de casamentos\"}}, \"height\": 300, \"selection\": {\"selector032\": {\"type\": \"interval\", \"bind\": \"scales\", \"encodings\": [\"x\", \"y\"]}}, \"title\": \"2018 \\u00e9 o recorde de casamentos homoafetivos\", \"width\": 600, \"$schema\": \"https://vega.github.io/schema/vega-lite/v4.8.1.json\", \"datasets\": {\"data-94c34337ccddc1fb7c1f35424dbb915f\": [{\"ano\": 2018, \"numero\": 9520}, {\"ano\": 2019, \"numero\": 9056}, {\"ano\": 2017, \"numero\": 5887}, {\"ano\": 2015, \"numero\": 5614}, {\"ano\": 2016, \"numero\": 5354}, {\"ano\": 2014, \"numero\": 4840}, {\"ano\": 2013, \"numero\": 3700}]}}, {\"mode\": \"vega-lite\"});\n",
              "</script>"
            ]
          },
          "metadata": {},
          "execution_count": 170
        }
      ]
    },
    {
      "cell_type": "markdown",
      "metadata": {
        "id": "ii3HsiEXDBPS"
      },
      "source": [
        "## Quais foram as estatísticas básicas anuais?"
      ]
    },
    {
      "cell_type": "code",
      "metadata": {
        "colab": {
          "base_uri": "https://localhost:8080/",
          "height": 551
        },
        "id": "WaufMPyTBzOu",
        "outputId": "e455d92f-2527-49a0-eda1-d02666a93b19"
      },
      "source": [
        "# estatísticas básicas por ano e gênero\n",
        "# ATENÇÃO: as estatísticas (mean, median, std, max e min) se referem a cada mês, e não ao ano completo\n",
        "lgbt_casamento.groupby(['ano', 'genero']).agg({'numero':['sum', 'mean', 'median', 'std', 'max', 'min']})"
      ],
      "execution_count": 152,
      "outputs": [
        {
          "output_type": "execute_result",
          "data": {
            "text/html": [
              "<div>\n",
              "<style scoped>\n",
              "    .dataframe tbody tr th:only-of-type {\n",
              "        vertical-align: middle;\n",
              "    }\n",
              "\n",
              "    .dataframe tbody tr th {\n",
              "        vertical-align: top;\n",
              "    }\n",
              "\n",
              "    .dataframe thead tr th {\n",
              "        text-align: left;\n",
              "    }\n",
              "\n",
              "    .dataframe thead tr:last-of-type th {\n",
              "        text-align: right;\n",
              "    }\n",
              "</style>\n",
              "<table border=\"1\" class=\"dataframe\">\n",
              "  <thead>\n",
              "    <tr>\n",
              "      <th></th>\n",
              "      <th></th>\n",
              "      <th colspan=\"6\" halign=\"left\">numero</th>\n",
              "    </tr>\n",
              "    <tr>\n",
              "      <th></th>\n",
              "      <th></th>\n",
              "      <th>sum</th>\n",
              "      <th>mean</th>\n",
              "      <th>median</th>\n",
              "      <th>std</th>\n",
              "      <th>max</th>\n",
              "      <th>min</th>\n",
              "    </tr>\n",
              "    <tr>\n",
              "      <th>ano</th>\n",
              "      <th>genero</th>\n",
              "      <th></th>\n",
              "      <th></th>\n",
              "      <th></th>\n",
              "      <th></th>\n",
              "      <th></th>\n",
              "      <th></th>\n",
              "    </tr>\n",
              "  </thead>\n",
              "  <tbody>\n",
              "    <tr>\n",
              "      <th rowspan=\"2\" valign=\"top\">2013</th>\n",
              "      <th>Feminino</th>\n",
              "      <td>1926</td>\n",
              "      <td>5.944444</td>\n",
              "      <td>1</td>\n",
              "      <td>17.632559</td>\n",
              "      <td>133</td>\n",
              "      <td>0</td>\n",
              "    </tr>\n",
              "    <tr>\n",
              "      <th>Masculino</th>\n",
              "      <td>1774</td>\n",
              "      <td>5.475309</td>\n",
              "      <td>1</td>\n",
              "      <td>15.053342</td>\n",
              "      <td>99</td>\n",
              "      <td>0</td>\n",
              "    </tr>\n",
              "    <tr>\n",
              "      <th rowspan=\"2\" valign=\"top\">2014</th>\n",
              "      <th>Feminino</th>\n",
              "      <td>2438</td>\n",
              "      <td>7.524691</td>\n",
              "      <td>2</td>\n",
              "      <td>19.235771</td>\n",
              "      <td>151</td>\n",
              "      <td>0</td>\n",
              "    </tr>\n",
              "    <tr>\n",
              "      <th>Masculino</th>\n",
              "      <td>2402</td>\n",
              "      <td>7.413580</td>\n",
              "      <td>3</td>\n",
              "      <td>14.860818</td>\n",
              "      <td>99</td>\n",
              "      <td>0</td>\n",
              "    </tr>\n",
              "    <tr>\n",
              "      <th rowspan=\"2\" valign=\"top\">2015</th>\n",
              "      <th>Feminino</th>\n",
              "      <td>2986</td>\n",
              "      <td>9.216049</td>\n",
              "      <td>3</td>\n",
              "      <td>19.493976</td>\n",
              "      <td>128</td>\n",
              "      <td>0</td>\n",
              "    </tr>\n",
              "    <tr>\n",
              "      <th>Masculino</th>\n",
              "      <td>2628</td>\n",
              "      <td>8.111111</td>\n",
              "      <td>3</td>\n",
              "      <td>14.534894</td>\n",
              "      <td>86</td>\n",
              "      <td>0</td>\n",
              "    </tr>\n",
              "    <tr>\n",
              "      <th rowspan=\"2\" valign=\"top\">2016</th>\n",
              "      <th>Feminino</th>\n",
              "      <td>2943</td>\n",
              "      <td>9.083333</td>\n",
              "      <td>3</td>\n",
              "      <td>19.294423</td>\n",
              "      <td>125</td>\n",
              "      <td>0</td>\n",
              "    </tr>\n",
              "    <tr>\n",
              "      <th>Masculino</th>\n",
              "      <td>2411</td>\n",
              "      <td>7.441358</td>\n",
              "      <td>2</td>\n",
              "      <td>14.801879</td>\n",
              "      <td>102</td>\n",
              "      <td>0</td>\n",
              "    </tr>\n",
              "    <tr>\n",
              "      <th rowspan=\"2\" valign=\"top\">2017</th>\n",
              "      <th>Feminino</th>\n",
              "      <td>3387</td>\n",
              "      <td>10.453704</td>\n",
              "      <td>4</td>\n",
              "      <td>23.745184</td>\n",
              "      <td>154</td>\n",
              "      <td>0</td>\n",
              "    </tr>\n",
              "    <tr>\n",
              "      <th>Masculino</th>\n",
              "      <td>2500</td>\n",
              "      <td>7.716049</td>\n",
              "      <td>3</td>\n",
              "      <td>16.227282</td>\n",
              "      <td>113</td>\n",
              "      <td>0</td>\n",
              "    </tr>\n",
              "    <tr>\n",
              "      <th rowspan=\"2\" valign=\"top\">2018</th>\n",
              "      <th>Feminino</th>\n",
              "      <td>5562</td>\n",
              "      <td>17.166667</td>\n",
              "      <td>5</td>\n",
              "      <td>54.790595</td>\n",
              "      <td>827</td>\n",
              "      <td>0</td>\n",
              "    </tr>\n",
              "    <tr>\n",
              "      <th>Masculino</th>\n",
              "      <td>3958</td>\n",
              "      <td>12.216049</td>\n",
              "      <td>3</td>\n",
              "      <td>36.142600</td>\n",
              "      <td>541</td>\n",
              "      <td>0</td>\n",
              "    </tr>\n",
              "    <tr>\n",
              "      <th rowspan=\"2\" valign=\"top\">2019</th>\n",
              "      <th>Feminino</th>\n",
              "      <td>5349</td>\n",
              "      <td>16.509259</td>\n",
              "      <td>6</td>\n",
              "      <td>35.643703</td>\n",
              "      <td>339</td>\n",
              "      <td>0</td>\n",
              "    </tr>\n",
              "    <tr>\n",
              "      <th>Masculino</th>\n",
              "      <td>3707</td>\n",
              "      <td>11.441358</td>\n",
              "      <td>4</td>\n",
              "      <td>24.083439</td>\n",
              "      <td>201</td>\n",
              "      <td>0</td>\n",
              "    </tr>\n",
              "  </tbody>\n",
              "</table>\n",
              "</div>"
            ],
            "text/plain": [
              "               numero                                      \n",
              "                  sum       mean median        std  max min\n",
              "ano  genero                                                \n",
              "2013 Feminino    1926   5.944444      1  17.632559  133   0\n",
              "     Masculino   1774   5.475309      1  15.053342   99   0\n",
              "2014 Feminino    2438   7.524691      2  19.235771  151   0\n",
              "     Masculino   2402   7.413580      3  14.860818   99   0\n",
              "2015 Feminino    2986   9.216049      3  19.493976  128   0\n",
              "     Masculino   2628   8.111111      3  14.534894   86   0\n",
              "2016 Feminino    2943   9.083333      3  19.294423  125   0\n",
              "     Masculino   2411   7.441358      2  14.801879  102   0\n",
              "2017 Feminino    3387  10.453704      4  23.745184  154   0\n",
              "     Masculino   2500   7.716049      3  16.227282  113   0\n",
              "2018 Feminino    5562  17.166667      5  54.790595  827   0\n",
              "     Masculino   3958  12.216049      3  36.142600  541   0\n",
              "2019 Feminino    5349  16.509259      6  35.643703  339   0\n",
              "     Masculino   3707  11.441358      4  24.083439  201   0"
            ]
          },
          "metadata": {},
          "execution_count": 152
        }
      ]
    },
    {
      "cell_type": "markdown",
      "metadata": {
        "id": "OyIXPozKDGf6"
      },
      "source": [
        ""
      ]
    },
    {
      "cell_type": "markdown",
      "metadata": {
        "id": "iJBVpEoPDGX2"
      },
      "source": [
        ""
      ]
    },
    {
      "cell_type": "markdown",
      "metadata": {
        "id": "9HGnvSn6CzMd"
      },
      "source": [
        "## Quais foram as estatísticas básicas de 2018?"
      ]
    },
    {
      "cell_type": "code",
      "metadata": {
        "colab": {
          "base_uri": "https://localhost:8080/",
          "height": 1000
        },
        "id": "yNhZoVydB_Qw",
        "outputId": "3d7cd80b-83f1-4f41-e6bd-de5b24415619"
      },
      "source": [
        "# estatísticas básicas por uf e gênero no ano de 2018\n",
        "# ATENÇÃO: as estatísticas (mean, median, std, max e min) se referem a cada mês, e não ao ano completo\n",
        "# SP, por exemplo, tem média de 203,8 casamentos mensais\n",
        "# e mediana e 130,5\n",
        "# o mínimo mensal por gênero foi 105; o máximo foi 827\n",
        "lgbt_casamento.query('ano == 2018').groupby(['genero', 'uf']).agg({'numero':['sum', 'mean', 'median', 'std', 'max', 'min']})"
      ],
      "execution_count": 137,
      "outputs": [
        {
          "output_type": "execute_result",
          "data": {
            "text/html": [
              "<div>\n",
              "<style scoped>\n",
              "    .dataframe tbody tr th:only-of-type {\n",
              "        vertical-align: middle;\n",
              "    }\n",
              "\n",
              "    .dataframe tbody tr th {\n",
              "        vertical-align: top;\n",
              "    }\n",
              "\n",
              "    .dataframe thead tr th {\n",
              "        text-align: left;\n",
              "    }\n",
              "\n",
              "    .dataframe thead tr:last-of-type th {\n",
              "        text-align: right;\n",
              "    }\n",
              "</style>\n",
              "<table border=\"1\" class=\"dataframe\">\n",
              "  <thead>\n",
              "    <tr>\n",
              "      <th></th>\n",
              "      <th></th>\n",
              "      <th colspan=\"6\" halign=\"left\">numero</th>\n",
              "    </tr>\n",
              "    <tr>\n",
              "      <th></th>\n",
              "      <th></th>\n",
              "      <th>sum</th>\n",
              "      <th>mean</th>\n",
              "      <th>median</th>\n",
              "      <th>std</th>\n",
              "      <th>max</th>\n",
              "      <th>min</th>\n",
              "    </tr>\n",
              "    <tr>\n",
              "      <th>genero</th>\n",
              "      <th>uf</th>\n",
              "      <th></th>\n",
              "      <th></th>\n",
              "      <th></th>\n",
              "      <th></th>\n",
              "      <th></th>\n",
              "      <th></th>\n",
              "    </tr>\n",
              "  </thead>\n",
              "  <tbody>\n",
              "    <tr>\n",
              "      <th rowspan=\"27\" valign=\"top\">Feminino</th>\n",
              "      <th>Acre</th>\n",
              "      <td>12</td>\n",
              "      <td>1.000000</td>\n",
              "      <td>0.0</td>\n",
              "      <td>2.256304</td>\n",
              "      <td>8</td>\n",
              "      <td>0</td>\n",
              "    </tr>\n",
              "    <tr>\n",
              "      <th>Alagoas</th>\n",
              "      <td>56</td>\n",
              "      <td>4.666667</td>\n",
              "      <td>2.0</td>\n",
              "      <td>10.218818</td>\n",
              "      <td>37</td>\n",
              "      <td>0</td>\n",
              "    </tr>\n",
              "    <tr>\n",
              "      <th>Amapá</th>\n",
              "      <td>7</td>\n",
              "      <td>0.583333</td>\n",
              "      <td>0.0</td>\n",
              "      <td>1.164500</td>\n",
              "      <td>4</td>\n",
              "      <td>0</td>\n",
              "    </tr>\n",
              "    <tr>\n",
              "      <th>Amazonas</th>\n",
              "      <td>31</td>\n",
              "      <td>2.583333</td>\n",
              "      <td>1.5</td>\n",
              "      <td>3.028901</td>\n",
              "      <td>11</td>\n",
              "      <td>0</td>\n",
              "    </tr>\n",
              "    <tr>\n",
              "      <th>Bahia</th>\n",
              "      <td>170</td>\n",
              "      <td>14.166667</td>\n",
              "      <td>12.5</td>\n",
              "      <td>15.296068</td>\n",
              "      <td>60</td>\n",
              "      <td>0</td>\n",
              "    </tr>\n",
              "    <tr>\n",
              "      <th>Ceará</th>\n",
              "      <td>212</td>\n",
              "      <td>17.666667</td>\n",
              "      <td>13.0</td>\n",
              "      <td>16.372556</td>\n",
              "      <td>69</td>\n",
              "      <td>9</td>\n",
              "    </tr>\n",
              "    <tr>\n",
              "      <th>Distrito Federal</th>\n",
              "      <td>136</td>\n",
              "      <td>11.333333</td>\n",
              "      <td>9.0</td>\n",
              "      <td>9.902556</td>\n",
              "      <td>42</td>\n",
              "      <td>5</td>\n",
              "    </tr>\n",
              "    <tr>\n",
              "      <th>Espírito Santo</th>\n",
              "      <td>63</td>\n",
              "      <td>5.250000</td>\n",
              "      <td>4.0</td>\n",
              "      <td>3.545163</td>\n",
              "      <td>16</td>\n",
              "      <td>3</td>\n",
              "    </tr>\n",
              "    <tr>\n",
              "      <th>Goiás</th>\n",
              "      <td>116</td>\n",
              "      <td>9.666667</td>\n",
              "      <td>8.0</td>\n",
              "      <td>4.163332</td>\n",
              "      <td>18</td>\n",
              "      <td>4</td>\n",
              "    </tr>\n",
              "    <tr>\n",
              "      <th>Maranhão</th>\n",
              "      <td>14</td>\n",
              "      <td>1.166667</td>\n",
              "      <td>1.0</td>\n",
              "      <td>1.403459</td>\n",
              "      <td>5</td>\n",
              "      <td>0</td>\n",
              "    </tr>\n",
              "    <tr>\n",
              "      <th>Mato Grosso</th>\n",
              "      <td>31</td>\n",
              "      <td>2.583333</td>\n",
              "      <td>2.0</td>\n",
              "      <td>2.353270</td>\n",
              "      <td>7</td>\n",
              "      <td>0</td>\n",
              "    </tr>\n",
              "    <tr>\n",
              "      <th>Mato Grosso do Sul</th>\n",
              "      <td>110</td>\n",
              "      <td>9.166667</td>\n",
              "      <td>7.5</td>\n",
              "      <td>7.120180</td>\n",
              "      <td>29</td>\n",
              "      <td>2</td>\n",
              "    </tr>\n",
              "    <tr>\n",
              "      <th>Minas Gerais</th>\n",
              "      <td>412</td>\n",
              "      <td>34.333333</td>\n",
              "      <td>24.5</td>\n",
              "      <td>26.348480</td>\n",
              "      <td>115</td>\n",
              "      <td>19</td>\n",
              "    </tr>\n",
              "    <tr>\n",
              "      <th>Paraná</th>\n",
              "      <td>283</td>\n",
              "      <td>23.583333</td>\n",
              "      <td>15.5</td>\n",
              "      <td>28.118122</td>\n",
              "      <td>111</td>\n",
              "      <td>7</td>\n",
              "    </tr>\n",
              "    <tr>\n",
              "      <th>Paraíba</th>\n",
              "      <td>64</td>\n",
              "      <td>5.333333</td>\n",
              "      <td>4.5</td>\n",
              "      <td>5.565042</td>\n",
              "      <td>22</td>\n",
              "      <td>1</td>\n",
              "    </tr>\n",
              "    <tr>\n",
              "      <th>Pará</th>\n",
              "      <td>112</td>\n",
              "      <td>9.333333</td>\n",
              "      <td>3.5</td>\n",
              "      <td>17.996633</td>\n",
              "      <td>66</td>\n",
              "      <td>1</td>\n",
              "    </tr>\n",
              "    <tr>\n",
              "      <th>Pernambuco</th>\n",
              "      <td>260</td>\n",
              "      <td>21.666667</td>\n",
              "      <td>13.0</td>\n",
              "      <td>30.284509</td>\n",
              "      <td>115</td>\n",
              "      <td>4</td>\n",
              "    </tr>\n",
              "    <tr>\n",
              "      <th>Piauí</th>\n",
              "      <td>28</td>\n",
              "      <td>2.333333</td>\n",
              "      <td>1.0</td>\n",
              "      <td>3.420083</td>\n",
              "      <td>12</td>\n",
              "      <td>0</td>\n",
              "    </tr>\n",
              "    <tr>\n",
              "      <th>Rio Grande do Norte</th>\n",
              "      <td>69</td>\n",
              "      <td>5.750000</td>\n",
              "      <td>4.0</td>\n",
              "      <td>5.986728</td>\n",
              "      <td>23</td>\n",
              "      <td>1</td>\n",
              "    </tr>\n",
              "    <tr>\n",
              "      <th>Rio Grande do Sul</th>\n",
              "      <td>269</td>\n",
              "      <td>22.416667</td>\n",
              "      <td>11.5</td>\n",
              "      <td>31.002810</td>\n",
              "      <td>119</td>\n",
              "      <td>7</td>\n",
              "    </tr>\n",
              "    <tr>\n",
              "      <th>Rio de Janeiro</th>\n",
              "      <td>406</td>\n",
              "      <td>33.833333</td>\n",
              "      <td>27.0</td>\n",
              "      <td>24.560994</td>\n",
              "      <td>109</td>\n",
              "      <td>14</td>\n",
              "    </tr>\n",
              "    <tr>\n",
              "      <th>Rondônia</th>\n",
              "      <td>18</td>\n",
              "      <td>1.500000</td>\n",
              "      <td>1.0</td>\n",
              "      <td>1.623688</td>\n",
              "      <td>4</td>\n",
              "      <td>0</td>\n",
              "    </tr>\n",
              "    <tr>\n",
              "      <th>Roraima</th>\n",
              "      <td>4</td>\n",
              "      <td>0.333333</td>\n",
              "      <td>0.0</td>\n",
              "      <td>0.651339</td>\n",
              "      <td>2</td>\n",
              "      <td>0</td>\n",
              "    </tr>\n",
              "    <tr>\n",
              "      <th>Santa Catarina</th>\n",
              "      <td>200</td>\n",
              "      <td>16.666667</td>\n",
              "      <td>13.5</td>\n",
              "      <td>14.840567</td>\n",
              "      <td>62</td>\n",
              "      <td>7</td>\n",
              "    </tr>\n",
              "    <tr>\n",
              "      <th>Sergipe</th>\n",
              "      <td>23</td>\n",
              "      <td>1.916667</td>\n",
              "      <td>2.0</td>\n",
              "      <td>1.975225</td>\n",
              "      <td>5</td>\n",
              "      <td>0</td>\n",
              "    </tr>\n",
              "    <tr>\n",
              "      <th>São Paulo</th>\n",
              "      <td>2445</td>\n",
              "      <td>203.750000</td>\n",
              "      <td>130.5</td>\n",
              "      <td>201.215003</td>\n",
              "      <td>827</td>\n",
              "      <td>105</td>\n",
              "    </tr>\n",
              "    <tr>\n",
              "      <th>Tocantins</th>\n",
              "      <td>11</td>\n",
              "      <td>0.916667</td>\n",
              "      <td>0.0</td>\n",
              "      <td>2.314316</td>\n",
              "      <td>8</td>\n",
              "      <td>0</td>\n",
              "    </tr>\n",
              "    <tr>\n",
              "      <th rowspan=\"27\" valign=\"top\">Masculino</th>\n",
              "      <th>Acre</th>\n",
              "      <td>6</td>\n",
              "      <td>0.500000</td>\n",
              "      <td>0.0</td>\n",
              "      <td>0.904534</td>\n",
              "      <td>3</td>\n",
              "      <td>0</td>\n",
              "    </tr>\n",
              "    <tr>\n",
              "      <th>Alagoas</th>\n",
              "      <td>39</td>\n",
              "      <td>3.250000</td>\n",
              "      <td>2.0</td>\n",
              "      <td>4.788718</td>\n",
              "      <td>18</td>\n",
              "      <td>1</td>\n",
              "    </tr>\n",
              "    <tr>\n",
              "      <th>Amapá</th>\n",
              "      <td>1</td>\n",
              "      <td>0.083333</td>\n",
              "      <td>0.0</td>\n",
              "      <td>0.288675</td>\n",
              "      <td>1</td>\n",
              "      <td>0</td>\n",
              "    </tr>\n",
              "    <tr>\n",
              "      <th>Amazonas</th>\n",
              "      <td>18</td>\n",
              "      <td>1.500000</td>\n",
              "      <td>1.5</td>\n",
              "      <td>1.678744</td>\n",
              "      <td>5</td>\n",
              "      <td>0</td>\n",
              "    </tr>\n",
              "    <tr>\n",
              "      <th>Bahia</th>\n",
              "      <td>118</td>\n",
              "      <td>9.833333</td>\n",
              "      <td>8.5</td>\n",
              "      <td>5.457827</td>\n",
              "      <td>23</td>\n",
              "      <td>3</td>\n",
              "    </tr>\n",
              "    <tr>\n",
              "      <th>Ceará</th>\n",
              "      <td>118</td>\n",
              "      <td>9.833333</td>\n",
              "      <td>8.0</td>\n",
              "      <td>8.736895</td>\n",
              "      <td>35</td>\n",
              "      <td>2</td>\n",
              "    </tr>\n",
              "    <tr>\n",
              "      <th>Distrito Federal</th>\n",
              "      <td>138</td>\n",
              "      <td>11.500000</td>\n",
              "      <td>9.0</td>\n",
              "      <td>10.139930</td>\n",
              "      <td>43</td>\n",
              "      <td>5</td>\n",
              "    </tr>\n",
              "    <tr>\n",
              "      <th>Espírito Santo</th>\n",
              "      <td>66</td>\n",
              "      <td>5.500000</td>\n",
              "      <td>4.0</td>\n",
              "      <td>3.965763</td>\n",
              "      <td>15</td>\n",
              "      <td>2</td>\n",
              "    </tr>\n",
              "    <tr>\n",
              "      <th>Goiás</th>\n",
              "      <td>102</td>\n",
              "      <td>8.500000</td>\n",
              "      <td>9.0</td>\n",
              "      <td>3.370999</td>\n",
              "      <td>15</td>\n",
              "      <td>3</td>\n",
              "    </tr>\n",
              "    <tr>\n",
              "      <th>Maranhão</th>\n",
              "      <td>12</td>\n",
              "      <td>1.000000</td>\n",
              "      <td>1.0</td>\n",
              "      <td>1.128152</td>\n",
              "      <td>3</td>\n",
              "      <td>0</td>\n",
              "    </tr>\n",
              "    <tr>\n",
              "      <th>Mato Grosso</th>\n",
              "      <td>15</td>\n",
              "      <td>1.250000</td>\n",
              "      <td>1.0</td>\n",
              "      <td>1.138180</td>\n",
              "      <td>3</td>\n",
              "      <td>0</td>\n",
              "    </tr>\n",
              "    <tr>\n",
              "      <th>Mato Grosso do Sul</th>\n",
              "      <td>56</td>\n",
              "      <td>4.666667</td>\n",
              "      <td>4.5</td>\n",
              "      <td>2.870962</td>\n",
              "      <td>10</td>\n",
              "      <td>1</td>\n",
              "    </tr>\n",
              "    <tr>\n",
              "      <th>Minas Gerais</th>\n",
              "      <td>325</td>\n",
              "      <td>27.083333</td>\n",
              "      <td>21.5</td>\n",
              "      <td>22.317781</td>\n",
              "      <td>96</td>\n",
              "      <td>11</td>\n",
              "    </tr>\n",
              "    <tr>\n",
              "      <th>Paraná</th>\n",
              "      <td>175</td>\n",
              "      <td>14.583333</td>\n",
              "      <td>11.0</td>\n",
              "      <td>13.303850</td>\n",
              "      <td>55</td>\n",
              "      <td>4</td>\n",
              "    </tr>\n",
              "    <tr>\n",
              "      <th>Paraíba</th>\n",
              "      <td>41</td>\n",
              "      <td>3.416667</td>\n",
              "      <td>2.0</td>\n",
              "      <td>3.752777</td>\n",
              "      <td>14</td>\n",
              "      <td>1</td>\n",
              "    </tr>\n",
              "    <tr>\n",
              "      <th>Pará</th>\n",
              "      <td>89</td>\n",
              "      <td>7.416667</td>\n",
              "      <td>3.0</td>\n",
              "      <td>10.916696</td>\n",
              "      <td>39</td>\n",
              "      <td>0</td>\n",
              "    </tr>\n",
              "    <tr>\n",
              "      <th>Pernambuco</th>\n",
              "      <td>131</td>\n",
              "      <td>10.916667</td>\n",
              "      <td>6.5</td>\n",
              "      <td>13.567731</td>\n",
              "      <td>53</td>\n",
              "      <td>2</td>\n",
              "    </tr>\n",
              "    <tr>\n",
              "      <th>Piauí</th>\n",
              "      <td>17</td>\n",
              "      <td>1.416667</td>\n",
              "      <td>1.0</td>\n",
              "      <td>2.503028</td>\n",
              "      <td>9</td>\n",
              "      <td>0</td>\n",
              "    </tr>\n",
              "    <tr>\n",
              "      <th>Rio Grande do Norte</th>\n",
              "      <td>45</td>\n",
              "      <td>3.750000</td>\n",
              "      <td>2.0</td>\n",
              "      <td>5.047502</td>\n",
              "      <td>19</td>\n",
              "      <td>0</td>\n",
              "    </tr>\n",
              "    <tr>\n",
              "      <th>Rio Grande do Sul</th>\n",
              "      <td>211</td>\n",
              "      <td>17.583333</td>\n",
              "      <td>12.0</td>\n",
              "      <td>22.908745</td>\n",
              "      <td>89</td>\n",
              "      <td>3</td>\n",
              "    </tr>\n",
              "    <tr>\n",
              "      <th>Rio de Janeiro</th>\n",
              "      <td>317</td>\n",
              "      <td>26.416667</td>\n",
              "      <td>23.0</td>\n",
              "      <td>11.397435</td>\n",
              "      <td>60</td>\n",
              "      <td>17</td>\n",
              "    </tr>\n",
              "    <tr>\n",
              "      <th>Rondônia</th>\n",
              "      <td>6</td>\n",
              "      <td>0.500000</td>\n",
              "      <td>0.0</td>\n",
              "      <td>0.674200</td>\n",
              "      <td>2</td>\n",
              "      <td>0</td>\n",
              "    </tr>\n",
              "    <tr>\n",
              "      <th>Roraima</th>\n",
              "      <td>1</td>\n",
              "      <td>0.083333</td>\n",
              "      <td>0.0</td>\n",
              "      <td>0.288675</td>\n",
              "      <td>1</td>\n",
              "      <td>0</td>\n",
              "    </tr>\n",
              "    <tr>\n",
              "      <th>Santa Catarina</th>\n",
              "      <td>229</td>\n",
              "      <td>19.083333</td>\n",
              "      <td>17.5</td>\n",
              "      <td>8.251263</td>\n",
              "      <td>43</td>\n",
              "      <td>9</td>\n",
              "    </tr>\n",
              "    <tr>\n",
              "      <th>Sergipe</th>\n",
              "      <td>20</td>\n",
              "      <td>1.666667</td>\n",
              "      <td>1.0</td>\n",
              "      <td>2.229282</td>\n",
              "      <td>8</td>\n",
              "      <td>0</td>\n",
              "    </tr>\n",
              "    <tr>\n",
              "      <th>São Paulo</th>\n",
              "      <td>1655</td>\n",
              "      <td>137.916667</td>\n",
              "      <td>98.5</td>\n",
              "      <td>129.288584</td>\n",
              "      <td>541</td>\n",
              "      <td>65</td>\n",
              "    </tr>\n",
              "    <tr>\n",
              "      <th>Tocantins</th>\n",
              "      <td>7</td>\n",
              "      <td>0.583333</td>\n",
              "      <td>0.0</td>\n",
              "      <td>1.164500</td>\n",
              "      <td>4</td>\n",
              "      <td>0</td>\n",
              "    </tr>\n",
              "  </tbody>\n",
              "</table>\n",
              "</div>"
            ],
            "text/plain": [
              "                              numero                                         \n",
              "                                 sum        mean median         std  max  min\n",
              "genero    uf                                                                 \n",
              "Feminino  Acre                    12    1.000000    0.0    2.256304    8    0\n",
              "          Alagoas                 56    4.666667    2.0   10.218818   37    0\n",
              "          Amapá                    7    0.583333    0.0    1.164500    4    0\n",
              "          Amazonas                31    2.583333    1.5    3.028901   11    0\n",
              "          Bahia                  170   14.166667   12.5   15.296068   60    0\n",
              "          Ceará                  212   17.666667   13.0   16.372556   69    9\n",
              "          Distrito Federal       136   11.333333    9.0    9.902556   42    5\n",
              "          Espírito Santo          63    5.250000    4.0    3.545163   16    3\n",
              "          Goiás                  116    9.666667    8.0    4.163332   18    4\n",
              "          Maranhão                14    1.166667    1.0    1.403459    5    0\n",
              "          Mato Grosso             31    2.583333    2.0    2.353270    7    0\n",
              "          Mato Grosso do Sul     110    9.166667    7.5    7.120180   29    2\n",
              "          Minas Gerais           412   34.333333   24.5   26.348480  115   19\n",
              "          Paraná                 283   23.583333   15.5   28.118122  111    7\n",
              "          Paraíba                 64    5.333333    4.5    5.565042   22    1\n",
              "          Pará                   112    9.333333    3.5   17.996633   66    1\n",
              "          Pernambuco             260   21.666667   13.0   30.284509  115    4\n",
              "          Piauí                   28    2.333333    1.0    3.420083   12    0\n",
              "          Rio Grande do Norte     69    5.750000    4.0    5.986728   23    1\n",
              "          Rio Grande do Sul      269   22.416667   11.5   31.002810  119    7\n",
              "          Rio de Janeiro         406   33.833333   27.0   24.560994  109   14\n",
              "          Rondônia                18    1.500000    1.0    1.623688    4    0\n",
              "          Roraima                  4    0.333333    0.0    0.651339    2    0\n",
              "          Santa Catarina         200   16.666667   13.5   14.840567   62    7\n",
              "          Sergipe                 23    1.916667    2.0    1.975225    5    0\n",
              "          São Paulo             2445  203.750000  130.5  201.215003  827  105\n",
              "          Tocantins               11    0.916667    0.0    2.314316    8    0\n",
              "Masculino Acre                     6    0.500000    0.0    0.904534    3    0\n",
              "          Alagoas                 39    3.250000    2.0    4.788718   18    1\n",
              "          Amapá                    1    0.083333    0.0    0.288675    1    0\n",
              "          Amazonas                18    1.500000    1.5    1.678744    5    0\n",
              "          Bahia                  118    9.833333    8.5    5.457827   23    3\n",
              "          Ceará                  118    9.833333    8.0    8.736895   35    2\n",
              "          Distrito Federal       138   11.500000    9.0   10.139930   43    5\n",
              "          Espírito Santo          66    5.500000    4.0    3.965763   15    2\n",
              "          Goiás                  102    8.500000    9.0    3.370999   15    3\n",
              "          Maranhão                12    1.000000    1.0    1.128152    3    0\n",
              "          Mato Grosso             15    1.250000    1.0    1.138180    3    0\n",
              "          Mato Grosso do Sul      56    4.666667    4.5    2.870962   10    1\n",
              "          Minas Gerais           325   27.083333   21.5   22.317781   96   11\n",
              "          Paraná                 175   14.583333   11.0   13.303850   55    4\n",
              "          Paraíba                 41    3.416667    2.0    3.752777   14    1\n",
              "          Pará                    89    7.416667    3.0   10.916696   39    0\n",
              "          Pernambuco             131   10.916667    6.5   13.567731   53    2\n",
              "          Piauí                   17    1.416667    1.0    2.503028    9    0\n",
              "          Rio Grande do Norte     45    3.750000    2.0    5.047502   19    0\n",
              "          Rio Grande do Sul      211   17.583333   12.0   22.908745   89    3\n",
              "          Rio de Janeiro         317   26.416667   23.0   11.397435   60   17\n",
              "          Rondônia                 6    0.500000    0.0    0.674200    2    0\n",
              "          Roraima                  1    0.083333    0.0    0.288675    1    0\n",
              "          Santa Catarina         229   19.083333   17.5    8.251263   43    9\n",
              "          Sergipe                 20    1.666667    1.0    2.229282    8    0\n",
              "          São Paulo             1655  137.916667   98.5  129.288584  541   65\n",
              "          Tocantins                7    0.583333    0.0    1.164500    4    0"
            ]
          },
          "metadata": {},
          "execution_count": 137
        }
      ]
    },
    {
      "cell_type": "markdown",
      "metadata": {
        "id": "f7iC-DgOepz4"
      },
      "source": [
        "### Quem casa mais no meio LGBT? Homens ou mulheres? "
      ]
    },
    {
      "cell_type": "code",
      "metadata": {
        "id": "DV713UIOTcDc",
        "colab": {
          "base_uri": "https://localhost:8080/"
        },
        "outputId": "2a472860-d92f-40cb-b2bd-cb29b44765ca"
      },
      "source": [
        "# as mulheres se casam mais do que os homens\n",
        "casamento_genero = lgbt_casamento.groupby('genero')['numero'].sum().sort_values(ascending=False).reset_index()\n",
        "print(casamento_genero)"
      ],
      "execution_count": 32,
      "outputs": [
        {
          "output_type": "stream",
          "name": "stdout",
          "text": [
            "      genero  numero\n",
            "0   Feminino   24591\n",
            "1  Masculino   19380\n"
          ]
        }
      ]
    },
    {
      "cell_type": "code",
      "metadata": {
        "id": "ZcBPqblETgVc",
        "colab": {
          "base_uri": "https://localhost:8080/",
          "height": 416
        },
        "outputId": "6764ebba-cb48-4043-c302-da5c23d8c3bb"
      },
      "source": [
        "# gráfico para mostrar os dados citados acima\n",
        "# referência https://altair-viz.github.io/gallery/bar_chart_with_highlighted_bar.html\n",
        "alt.Chart(casamento_genero).mark_bar().encode(\n",
        "    x = alt.X('genero', title = 'Ano'),\n",
        "    y = alt.Y('numero', title = 'Nº de casamentos'),\n",
        "    color=alt.condition(\n",
        "        alt.datum.genero == 'Feminino',\n",
        "        alt.value('orange'),\n",
        "        alt.value('steelblue')\n",
        "    ),\n",
        "    tooltip = ['genero', 'numero']\n",
        ").properties(title = 'Casamentos homoafetivos: mulheres se casam mais do que homens', width=600, height=300).interactive()"
      ],
      "execution_count": 169,
      "outputs": [
        {
          "output_type": "execute_result",
          "data": {
            "text/plain": [
              "alt.Chart(...)"
            ],
            "text/html": [
              "\n",
              "<div id=\"altair-viz-a94953545d6a4a309cec3602a543d539\"></div>\n",
              "<script type=\"text/javascript\">\n",
              "  (function(spec, embedOpt){\n",
              "    let outputDiv = document.currentScript.previousElementSibling;\n",
              "    if (outputDiv.id !== \"altair-viz-a94953545d6a4a309cec3602a543d539\") {\n",
              "      outputDiv = document.getElementById(\"altair-viz-a94953545d6a4a309cec3602a543d539\");\n",
              "    }\n",
              "    const paths = {\n",
              "      \"vega\": \"https://cdn.jsdelivr.net/npm//vega@5?noext\",\n",
              "      \"vega-lib\": \"https://cdn.jsdelivr.net/npm//vega-lib?noext\",\n",
              "      \"vega-lite\": \"https://cdn.jsdelivr.net/npm//vega-lite@4.8.1?noext\",\n",
              "      \"vega-embed\": \"https://cdn.jsdelivr.net/npm//vega-embed@6?noext\",\n",
              "    };\n",
              "\n",
              "    function loadScript(lib) {\n",
              "      return new Promise(function(resolve, reject) {\n",
              "        var s = document.createElement('script');\n",
              "        s.src = paths[lib];\n",
              "        s.async = true;\n",
              "        s.onload = () => resolve(paths[lib]);\n",
              "        s.onerror = () => reject(`Error loading script: ${paths[lib]}`);\n",
              "        document.getElementsByTagName(\"head\")[0].appendChild(s);\n",
              "      });\n",
              "    }\n",
              "\n",
              "    function showError(err) {\n",
              "      outputDiv.innerHTML = `<div class=\"error\" style=\"color:red;\">${err}</div>`;\n",
              "      throw err;\n",
              "    }\n",
              "\n",
              "    function displayChart(vegaEmbed) {\n",
              "      vegaEmbed(outputDiv, spec, embedOpt)\n",
              "        .catch(err => showError(`Javascript Error: ${err.message}<br>This usually means there's a typo in your chart specification. See the javascript console for the full traceback.`));\n",
              "    }\n",
              "\n",
              "    if(typeof define === \"function\" && define.amd) {\n",
              "      requirejs.config({paths});\n",
              "      require([\"vega-embed\"], displayChart, err => showError(`Error loading script: ${err.message}`));\n",
              "    } else if (typeof vegaEmbed === \"function\") {\n",
              "      displayChart(vegaEmbed);\n",
              "    } else {\n",
              "      loadScript(\"vega\")\n",
              "        .then(() => loadScript(\"vega-lite\"))\n",
              "        .then(() => loadScript(\"vega-embed\"))\n",
              "        .catch(showError)\n",
              "        .then(() => displayChart(vegaEmbed));\n",
              "    }\n",
              "  })({\"config\": {\"view\": {\"continuousWidth\": 400, \"continuousHeight\": 300}}, \"data\": {\"name\": \"data-0ce3e2602e9479f7e3ab328552050cee\"}, \"mark\": \"bar\", \"encoding\": {\"color\": {\"condition\": {\"value\": \"orange\", \"test\": \"(datum.genero === 'Feminino')\"}, \"value\": \"steelblue\"}, \"tooltip\": [{\"type\": \"nominal\", \"field\": \"genero\"}, {\"type\": \"quantitative\", \"field\": \"numero\"}], \"x\": {\"type\": \"nominal\", \"field\": \"genero\", \"title\": \"Ano\"}, \"y\": {\"type\": \"quantitative\", \"field\": \"numero\", \"title\": \"N\\u00ba de casamentos\"}}, \"height\": 300, \"selection\": {\"selector031\": {\"type\": \"interval\", \"bind\": \"scales\", \"encodings\": [\"x\", \"y\"]}}, \"title\": \"Casamentos homoafetivos: mulheres se casam mais do que homens\", \"width\": 600, \"$schema\": \"https://vega.github.io/schema/vega-lite/v4.8.1.json\", \"datasets\": {\"data-0ce3e2602e9479f7e3ab328552050cee\": [{\"genero\": \"Feminino\", \"numero\": 24591}, {\"genero\": \"Masculino\", \"numero\": 19380}]}}, {\"mode\": \"vega-lite\"});\n",
              "</script>"
            ]
          },
          "metadata": {},
          "execution_count": 169
        }
      ]
    },
    {
      "cell_type": "markdown",
      "metadata": {
        "id": "PmeTpmm9e5u7"
      },
      "source": [
        "### As mulheres também se casam mais considerando os dados anuais?"
      ]
    },
    {
      "cell_type": "code",
      "metadata": {
        "id": "gJgI_EGUWy2j",
        "colab": {
          "base_uri": "https://localhost:8080/"
        },
        "outputId": "9c17a2a2-8c33-4d75-e0cc-b152552fad42"
      },
      "source": [
        "# considerando os dados anuais também\n",
        "# as mulheres se casam mais do que os homens\n",
        "# apenas em 2014 a diferença foi pequena\n",
        "casamento_genero_ano = lgbt_casamento.groupby(['ano' , 'genero'])['numero'].sum().reset_index()\n",
        "print(casamento_genero_ano)"
      ],
      "execution_count": 34,
      "outputs": [
        {
          "output_type": "stream",
          "name": "stdout",
          "text": [
            "     ano     genero  numero\n",
            "0   2013   Feminino    1926\n",
            "1   2013  Masculino    1774\n",
            "2   2014   Feminino    2438\n",
            "3   2014  Masculino    2402\n",
            "4   2015   Feminino    2986\n",
            "5   2015  Masculino    2628\n",
            "6   2016   Feminino    2943\n",
            "7   2016  Masculino    2411\n",
            "8   2017   Feminino    3387\n",
            "9   2017  Masculino    2500\n",
            "10  2018   Feminino    5562\n",
            "11  2018  Masculino    3958\n",
            "12  2019   Feminino    5349\n",
            "13  2019  Masculino    3707\n"
          ]
        }
      ]
    },
    {
      "cell_type": "code",
      "metadata": {
        "id": "zwAGW1iXXPN3",
        "colab": {
          "base_uri": "https://localhost:8080/",
          "height": 398
        },
        "outputId": "33d086aa-8cea-47d2-b20c-493b1cc93644"
      },
      "source": [
        "# gráfico para mostrar os dados citados acima\n",
        "# referência https://altair-viz.github.io/gallery/line_percent.html\n",
        "alt.Chart(casamento_genero_ano).mark_line().encode(\n",
        "    x = alt.X('ano:O', title = 'Ano'),\n",
        "    y = alt.Y('numero', title = 'Nº de casamentos'),\n",
        "    color= alt.Color('genero:N', title = 'Gênero'),\n",
        "    tooltip = ['ano', 'numero', 'genero']\n",
        ").properties(title = '2014 foi o ano com mais proximidade', width=600, height=300).interactive()"
      ],
      "execution_count": 168,
      "outputs": [
        {
          "output_type": "execute_result",
          "data": {
            "text/plain": [
              "alt.Chart(...)"
            ],
            "text/html": [
              "\n",
              "<div id=\"altair-viz-42a817d3593c4481a36d73e6c3a916d6\"></div>\n",
              "<script type=\"text/javascript\">\n",
              "  (function(spec, embedOpt){\n",
              "    let outputDiv = document.currentScript.previousElementSibling;\n",
              "    if (outputDiv.id !== \"altair-viz-42a817d3593c4481a36d73e6c3a916d6\") {\n",
              "      outputDiv = document.getElementById(\"altair-viz-42a817d3593c4481a36d73e6c3a916d6\");\n",
              "    }\n",
              "    const paths = {\n",
              "      \"vega\": \"https://cdn.jsdelivr.net/npm//vega@5?noext\",\n",
              "      \"vega-lib\": \"https://cdn.jsdelivr.net/npm//vega-lib?noext\",\n",
              "      \"vega-lite\": \"https://cdn.jsdelivr.net/npm//vega-lite@4.8.1?noext\",\n",
              "      \"vega-embed\": \"https://cdn.jsdelivr.net/npm//vega-embed@6?noext\",\n",
              "    };\n",
              "\n",
              "    function loadScript(lib) {\n",
              "      return new Promise(function(resolve, reject) {\n",
              "        var s = document.createElement('script');\n",
              "        s.src = paths[lib];\n",
              "        s.async = true;\n",
              "        s.onload = () => resolve(paths[lib]);\n",
              "        s.onerror = () => reject(`Error loading script: ${paths[lib]}`);\n",
              "        document.getElementsByTagName(\"head\")[0].appendChild(s);\n",
              "      });\n",
              "    }\n",
              "\n",
              "    function showError(err) {\n",
              "      outputDiv.innerHTML = `<div class=\"error\" style=\"color:red;\">${err}</div>`;\n",
              "      throw err;\n",
              "    }\n",
              "\n",
              "    function displayChart(vegaEmbed) {\n",
              "      vegaEmbed(outputDiv, spec, embedOpt)\n",
              "        .catch(err => showError(`Javascript Error: ${err.message}<br>This usually means there's a typo in your chart specification. See the javascript console for the full traceback.`));\n",
              "    }\n",
              "\n",
              "    if(typeof define === \"function\" && define.amd) {\n",
              "      requirejs.config({paths});\n",
              "      require([\"vega-embed\"], displayChart, err => showError(`Error loading script: ${err.message}`));\n",
              "    } else if (typeof vegaEmbed === \"function\") {\n",
              "      displayChart(vegaEmbed);\n",
              "    } else {\n",
              "      loadScript(\"vega\")\n",
              "        .then(() => loadScript(\"vega-lite\"))\n",
              "        .then(() => loadScript(\"vega-embed\"))\n",
              "        .catch(showError)\n",
              "        .then(() => displayChart(vegaEmbed));\n",
              "    }\n",
              "  })({\"config\": {\"view\": {\"continuousWidth\": 400, \"continuousHeight\": 300}}, \"data\": {\"name\": \"data-175d2b562915a6a1a5373d95b2c89d82\"}, \"mark\": \"line\", \"encoding\": {\"color\": {\"type\": \"nominal\", \"field\": \"genero\", \"title\": \"G\\u00eanero\"}, \"tooltip\": [{\"type\": \"quantitative\", \"field\": \"ano\"}, {\"type\": \"quantitative\", \"field\": \"numero\"}, {\"type\": \"nominal\", \"field\": \"genero\"}], \"x\": {\"type\": \"ordinal\", \"field\": \"ano\", \"title\": \"Ano\"}, \"y\": {\"type\": \"quantitative\", \"field\": \"numero\", \"title\": \"N\\u00ba de casamentos\"}}, \"height\": 300, \"selection\": {\"selector030\": {\"type\": \"interval\", \"bind\": \"scales\", \"encodings\": [\"x\", \"y\"]}}, \"title\": \"2014 foi o ano com mais proximidade\", \"width\": 600, \"$schema\": \"https://vega.github.io/schema/vega-lite/v4.8.1.json\", \"datasets\": {\"data-175d2b562915a6a1a5373d95b2c89d82\": [{\"ano\": 2013, \"genero\": \"Feminino\", \"numero\": 1926}, {\"ano\": 2013, \"genero\": \"Masculino\", \"numero\": 1774}, {\"ano\": 2014, \"genero\": \"Feminino\", \"numero\": 2438}, {\"ano\": 2014, \"genero\": \"Masculino\", \"numero\": 2402}, {\"ano\": 2015, \"genero\": \"Feminino\", \"numero\": 2986}, {\"ano\": 2015, \"genero\": \"Masculino\", \"numero\": 2628}, {\"ano\": 2016, \"genero\": \"Feminino\", \"numero\": 2943}, {\"ano\": 2016, \"genero\": \"Masculino\", \"numero\": 2411}, {\"ano\": 2017, \"genero\": \"Feminino\", \"numero\": 3387}, {\"ano\": 2017, \"genero\": \"Masculino\", \"numero\": 2500}, {\"ano\": 2018, \"genero\": \"Feminino\", \"numero\": 5562}, {\"ano\": 2018, \"genero\": \"Masculino\", \"numero\": 3958}, {\"ano\": 2019, \"genero\": \"Feminino\", \"numero\": 5349}, {\"ano\": 2019, \"genero\": \"Masculino\", \"numero\": 3707}]}}, {\"mode\": \"vega-lite\"});\n",
              "</script>"
            ]
          },
          "metadata": {},
          "execution_count": 168
        }
      ]
    },
    {
      "cell_type": "markdown",
      "metadata": {
        "id": "nBIEZfNNfDlH"
      },
      "source": [
        "### Em qual mês as pessoas mais se casam? E menos?"
      ]
    },
    {
      "cell_type": "code",
      "metadata": {
        "id": "4xtytfyRZ3Y2",
        "colab": {
          "base_uri": "https://localhost:8080/"
        },
        "outputId": "ffb83087-915e-4522-8119-d948dcd457a6"
      },
      "source": [
        "# dezembro é o mês com mais casamentos\n",
        "# abril é o mês com menos casamentos\n",
        "casamento_mes = lgbt_casamento.groupby(['mes'])['numero'].sum().sort_values(ascending=False).reset_index()\n",
        "print(casamento_mes)"
      ],
      "execution_count": 108,
      "outputs": [
        {
          "output_type": "stream",
          "name": "stdout",
          "text": [
            "          mes  numero\n",
            "0    Dezembro    6804\n",
            "1    Novembro    4363\n",
            "2     Outubro    3940\n",
            "3    Setembro    3890\n",
            "4     Janeiro    3386\n",
            "5       Julho    3373\n",
            "6       Junho    3122\n",
            "7        Maio    3118\n",
            "8      Agosto    3101\n",
            "9       Março    3073\n",
            "10  Fevereiro    3001\n",
            "11      Abril    2800\n"
          ]
        }
      ]
    },
    {
      "cell_type": "code",
      "metadata": {
        "id": "Nn9wiKhlaLle",
        "colab": {
          "base_uri": "https://localhost:8080/",
          "height": 422
        },
        "outputId": "f27910c9-caf6-4074-cb5a-dafcfd657fbf"
      },
      "source": [
        "# gráfico para mostrar os dados citados acima\n",
        "# referência https://altair-viz.github.io/gallery/bar_chart_with_highlighted_bar.html\n",
        "alt.Chart(casamento_mes).mark_bar(point=True).encode(\n",
        "    x = alt.X('mes', title = 'Mês', sort=['Dezembro', 'Novembro', 'Outubro']),\n",
        "    y = alt.Y('numero', title='Número'),\n",
        "    tooltip = ['mes', 'numero'],\n",
        "    color=alt.condition(\n",
        "        alt.datum.mes == 'Dezembro',  \n",
        "        alt.value('orange'),    \n",
        "        alt.value('steelblue')\n",
        "    ),\n",
        ").properties(\n",
        "    title = 'Dezembro é o mês com mais casamentos homoafetivos', width = 600, height=300).interactive()"
      ],
      "execution_count": 167,
      "outputs": [
        {
          "output_type": "execute_result",
          "data": {
            "text/plain": [
              "alt.Chart(...)"
            ],
            "text/html": [
              "\n",
              "<div id=\"altair-viz-49b1e8381c9445b790509254f9fe5ac5\"></div>\n",
              "<script type=\"text/javascript\">\n",
              "  (function(spec, embedOpt){\n",
              "    let outputDiv = document.currentScript.previousElementSibling;\n",
              "    if (outputDiv.id !== \"altair-viz-49b1e8381c9445b790509254f9fe5ac5\") {\n",
              "      outputDiv = document.getElementById(\"altair-viz-49b1e8381c9445b790509254f9fe5ac5\");\n",
              "    }\n",
              "    const paths = {\n",
              "      \"vega\": \"https://cdn.jsdelivr.net/npm//vega@5?noext\",\n",
              "      \"vega-lib\": \"https://cdn.jsdelivr.net/npm//vega-lib?noext\",\n",
              "      \"vega-lite\": \"https://cdn.jsdelivr.net/npm//vega-lite@4.8.1?noext\",\n",
              "      \"vega-embed\": \"https://cdn.jsdelivr.net/npm//vega-embed@6?noext\",\n",
              "    };\n",
              "\n",
              "    function loadScript(lib) {\n",
              "      return new Promise(function(resolve, reject) {\n",
              "        var s = document.createElement('script');\n",
              "        s.src = paths[lib];\n",
              "        s.async = true;\n",
              "        s.onload = () => resolve(paths[lib]);\n",
              "        s.onerror = () => reject(`Error loading script: ${paths[lib]}`);\n",
              "        document.getElementsByTagName(\"head\")[0].appendChild(s);\n",
              "      });\n",
              "    }\n",
              "\n",
              "    function showError(err) {\n",
              "      outputDiv.innerHTML = `<div class=\"error\" style=\"color:red;\">${err}</div>`;\n",
              "      throw err;\n",
              "    }\n",
              "\n",
              "    function displayChart(vegaEmbed) {\n",
              "      vegaEmbed(outputDiv, spec, embedOpt)\n",
              "        .catch(err => showError(`Javascript Error: ${err.message}<br>This usually means there's a typo in your chart specification. See the javascript console for the full traceback.`));\n",
              "    }\n",
              "\n",
              "    if(typeof define === \"function\" && define.amd) {\n",
              "      requirejs.config({paths});\n",
              "      require([\"vega-embed\"], displayChart, err => showError(`Error loading script: ${err.message}`));\n",
              "    } else if (typeof vegaEmbed === \"function\") {\n",
              "      displayChart(vegaEmbed);\n",
              "    } else {\n",
              "      loadScript(\"vega\")\n",
              "        .then(() => loadScript(\"vega-lite\"))\n",
              "        .then(() => loadScript(\"vega-embed\"))\n",
              "        .catch(showError)\n",
              "        .then(() => displayChart(vegaEmbed));\n",
              "    }\n",
              "  })({\"config\": {\"view\": {\"continuousWidth\": 400, \"continuousHeight\": 300}}, \"data\": {\"name\": \"data-8cb183c4710bc491993ed5c747035d95\"}, \"mark\": {\"type\": \"bar\", \"point\": true}, \"encoding\": {\"color\": {\"condition\": {\"value\": \"orange\", \"test\": \"(datum.mes === 'Dezembro')\"}, \"value\": \"steelblue\"}, \"tooltip\": [{\"type\": \"nominal\", \"field\": \"mes\"}, {\"type\": \"quantitative\", \"field\": \"numero\"}], \"x\": {\"type\": \"nominal\", \"field\": \"mes\", \"sort\": [\"Dezembro\", \"Novembro\", \"Outubro\"], \"title\": \"M\\u00eas\"}, \"y\": {\"type\": \"quantitative\", \"field\": \"numero\", \"title\": \"N\\u00famero\"}}, \"height\": 300, \"selection\": {\"selector029\": {\"type\": \"interval\", \"bind\": \"scales\", \"encodings\": [\"x\", \"y\"]}}, \"title\": \"Dezembro \\u00e9 o m\\u00eas com mais casamentos homoafetivos\", \"width\": 600, \"$schema\": \"https://vega.github.io/schema/vega-lite/v4.8.1.json\", \"datasets\": {\"data-8cb183c4710bc491993ed5c747035d95\": [{\"mes\": \"Dezembro\", \"numero\": 6804}, {\"mes\": \"Novembro\", \"numero\": 4363}, {\"mes\": \"Outubro\", \"numero\": 3940}, {\"mes\": \"Setembro\", \"numero\": 3890}, {\"mes\": \"Janeiro\", \"numero\": 3386}, {\"mes\": \"Julho\", \"numero\": 3373}, {\"mes\": \"Junho\", \"numero\": 3122}, {\"mes\": \"Maio\", \"numero\": 3118}, {\"mes\": \"Agosto\", \"numero\": 3101}, {\"mes\": \"Mar\\u00e7o\", \"numero\": 3073}, {\"mes\": \"Fevereiro\", \"numero\": 3001}, {\"mes\": \"Abril\", \"numero\": 2800}]}}, {\"mode\": \"vega-lite\"});\n",
              "</script>"
            ]
          },
          "metadata": {},
          "execution_count": 167
        }
      ]
    },
    {
      "cell_type": "markdown",
      "metadata": {
        "id": "-CUKGBbDfJTr"
      },
      "source": [
        "### Há mais casamentos homoafetivos após a vitória de Jair Bolsonaro, em 28 de outubro de 2018?\n"
      ]
    },
    {
      "cell_type": "code",
      "metadata": {
        "id": "2MQlOsFpbAJN",
        "colab": {
          "base_uri": "https://localhost:8080/"
        },
        "outputId": "cb0f8c9f-2833-4533-c54d-daec36756c00"
      },
      "source": [
        "# observe: dezembro de 2018 foi o mês com mais casamentos\n",
        "# logo depois, janeiro de 2019, fevereiro de 2019, novembro de 2018...\n",
        "# todos são meses próximos - e após a eleição de Jair Bolsonaro\n",
        "casamento_mes_ano = lgbt_casamento.groupby(['mes', 'ano'])['numero'].sum().sort_values(ascending=False).reset_index()\n",
        "print(casamento_mes_ano)"
      ],
      "execution_count": 38,
      "outputs": [
        {
          "output_type": "stream",
          "name": "stdout",
          "text": [
            "          mes   ano  numero\n",
            "0    Dezembro  2018    3098\n",
            "1     Janeiro  2019    1319\n",
            "2   Fevereiro  2019    1033\n",
            "3    Novembro  2018     957\n",
            "4    Dezembro  2019     774\n",
            "..        ...   ...     ...\n",
            "79       Maio  2013     235\n",
            "80      Abril  2013     221\n",
            "81      Março  2013     160\n",
            "82  Fevereiro  2013     110\n",
            "83    Janeiro  2013      74\n",
            "\n",
            "[84 rows x 3 columns]\n"
          ]
        }
      ]
    },
    {
      "cell_type": "code",
      "metadata": {
        "id": "RGjfq5PtbX4B",
        "colab": {
          "base_uri": "https://localhost:8080/",
          "height": 417
        },
        "outputId": "54219543-58a4-4225-82f2-acca26f94c8d"
      },
      "source": [
        "# gráfico para mostrar os dados citados acima\n",
        "# referência https://altair-viz.github.io/gallery/simple_heatmap.html\n",
        "alt.Chart(casamento_mes_ano).mark_rect().encode(\n",
        "    x = alt.X('mes', title = 'Mês', sort=['Janeiro', 'Fevereiro', 'Março', 'Abril', 'Maio', 'Junho', 'Julho', 'Agosto', 'Setembro', 'Outubro', 'Novembro', 'Dezembro']),\n",
        "    y = alt.Y('ano:O', title = 'Ano'),\n",
        "    color= alt.Color('numero:Q', title = 'Nº de casamentos'),\n",
        "    tooltip = ['mes', 'ano', 'numero'],\n",
        ").properties(title = 'Dezembro de 2018 foi o pico de casamentos homoafetivos', width=600, height=300)"
      ],
      "execution_count": 166,
      "outputs": [
        {
          "output_type": "execute_result",
          "data": {
            "text/plain": [
              "alt.Chart(...)"
            ],
            "text/html": [
              "\n",
              "<div id=\"altair-viz-b7c21b42bf404409ab15fb8c611e106a\"></div>\n",
              "<script type=\"text/javascript\">\n",
              "  (function(spec, embedOpt){\n",
              "    let outputDiv = document.currentScript.previousElementSibling;\n",
              "    if (outputDiv.id !== \"altair-viz-b7c21b42bf404409ab15fb8c611e106a\") {\n",
              "      outputDiv = document.getElementById(\"altair-viz-b7c21b42bf404409ab15fb8c611e106a\");\n",
              "    }\n",
              "    const paths = {\n",
              "      \"vega\": \"https://cdn.jsdelivr.net/npm//vega@5?noext\",\n",
              "      \"vega-lib\": \"https://cdn.jsdelivr.net/npm//vega-lib?noext\",\n",
              "      \"vega-lite\": \"https://cdn.jsdelivr.net/npm//vega-lite@4.8.1?noext\",\n",
              "      \"vega-embed\": \"https://cdn.jsdelivr.net/npm//vega-embed@6?noext\",\n",
              "    };\n",
              "\n",
              "    function loadScript(lib) {\n",
              "      return new Promise(function(resolve, reject) {\n",
              "        var s = document.createElement('script');\n",
              "        s.src = paths[lib];\n",
              "        s.async = true;\n",
              "        s.onload = () => resolve(paths[lib]);\n",
              "        s.onerror = () => reject(`Error loading script: ${paths[lib]}`);\n",
              "        document.getElementsByTagName(\"head\")[0].appendChild(s);\n",
              "      });\n",
              "    }\n",
              "\n",
              "    function showError(err) {\n",
              "      outputDiv.innerHTML = `<div class=\"error\" style=\"color:red;\">${err}</div>`;\n",
              "      throw err;\n",
              "    }\n",
              "\n",
              "    function displayChart(vegaEmbed) {\n",
              "      vegaEmbed(outputDiv, spec, embedOpt)\n",
              "        .catch(err => showError(`Javascript Error: ${err.message}<br>This usually means there's a typo in your chart specification. See the javascript console for the full traceback.`));\n",
              "    }\n",
              "\n",
              "    if(typeof define === \"function\" && define.amd) {\n",
              "      requirejs.config({paths});\n",
              "      require([\"vega-embed\"], displayChart, err => showError(`Error loading script: ${err.message}`));\n",
              "    } else if (typeof vegaEmbed === \"function\") {\n",
              "      displayChart(vegaEmbed);\n",
              "    } else {\n",
              "      loadScript(\"vega\")\n",
              "        .then(() => loadScript(\"vega-lite\"))\n",
              "        .then(() => loadScript(\"vega-embed\"))\n",
              "        .catch(showError)\n",
              "        .then(() => displayChart(vegaEmbed));\n",
              "    }\n",
              "  })({\"config\": {\"view\": {\"continuousWidth\": 400, \"continuousHeight\": 300}}, \"data\": {\"name\": \"data-62e9f144c11a6a155ed83d91fd65fec2\"}, \"mark\": \"rect\", \"encoding\": {\"color\": {\"type\": \"quantitative\", \"field\": \"numero\", \"title\": \"N\\u00ba de casamentos\"}, \"tooltip\": [{\"type\": \"nominal\", \"field\": \"mes\"}, {\"type\": \"quantitative\", \"field\": \"ano\"}, {\"type\": \"quantitative\", \"field\": \"numero\"}], \"x\": {\"type\": \"nominal\", \"field\": \"mes\", \"sort\": [\"Janeiro\", \"Fevereiro\", \"Mar\\u00e7o\", \"Abril\", \"Maio\", \"Junho\", \"Julho\", \"Agosto\", \"Setembro\", \"Outubro\", \"Novembro\", \"Dezembro\"], \"title\": \"M\\u00eas\"}, \"y\": {\"type\": \"ordinal\", \"field\": \"ano\", \"title\": \"Ano\"}}, \"height\": 300, \"title\": \"Dezembro de 2018 foi o pico de casamentos homoafetivos\", \"width\": 600, \"$schema\": \"https://vega.github.io/schema/vega-lite/v4.8.1.json\", \"datasets\": {\"data-62e9f144c11a6a155ed83d91fd65fec2\": [{\"mes\": \"Dezembro\", \"ano\": 2018, \"numero\": 3098}, {\"mes\": \"Janeiro\", \"ano\": 2019, \"numero\": 1319}, {\"mes\": \"Fevereiro\", \"ano\": 2019, \"numero\": 1033}, {\"mes\": \"Novembro\", \"ano\": 2018, \"numero\": 957}, {\"mes\": \"Dezembro\", \"ano\": 2019, \"numero\": 774}, {\"mes\": \"Novembro\", \"ano\": 2019, \"numero\": 759}, {\"mes\": \"Mar\\u00e7o\", \"ano\": 2019, \"numero\": 753}, {\"mes\": \"Dezembro\", \"ano\": 2015, \"numero\": 723}, {\"mes\": \"Outubro\", \"ano\": 2019, \"numero\": 692}, {\"mes\": \"Outubro\", \"ano\": 2018, \"numero\": 674}, {\"mes\": \"Setembro\", \"ano\": 2018, \"numero\": 674}, {\"mes\": \"Setembro\", \"ano\": 2019, \"numero\": 656}, {\"mes\": \"Maio\", \"ano\": 2019, \"numero\": 631}, {\"mes\": \"Junho\", \"ano\": 2019, \"numero\": 624}, {\"mes\": \"Dezembro\", \"ano\": 2017, \"numero\": 614}, {\"mes\": \"Agosto\", \"ano\": 2019, \"numero\": 607}, {\"mes\": \"Abril\", \"ano\": 2019, \"numero\": 607}, {\"mes\": \"Julho\", \"ano\": 2019, \"numero\": 601}, {\"mes\": \"Novembro\", \"ano\": 2017, \"numero\": 597}, {\"mes\": \"Setembro\", \"ano\": 2017, \"numero\": 579}, {\"mes\": \"Julho\", \"ano\": 2018, \"numero\": 576}, {\"mes\": \"Outubro\", \"ano\": 2014, \"numero\": 576}, {\"mes\": \"Dezembro\", \"ano\": 2014, \"numero\": 571}, {\"mes\": \"Novembro\", \"ano\": 2014, \"numero\": 569}, {\"mes\": \"Setembro\", \"ano\": 2015, \"numero\": 554}, {\"mes\": \"Dezembro\", \"ano\": 2016, \"numero\": 550}, {\"mes\": \"Outubro\", \"ano\": 2017, \"numero\": 549}, {\"mes\": \"Setembro\", \"ano\": 2016, \"numero\": 549}, {\"mes\": \"Maio\", \"ano\": 2018, \"numero\": 541}, {\"mes\": \"Junho\", \"ano\": 2018, \"numero\": 539}, {\"mes\": \"Outubro\", \"ano\": 2015, \"numero\": 533}, {\"mes\": \"Mar\\u00e7o\", \"ano\": 2018, \"numero\": 526}, {\"mes\": \"Novembro\", \"ano\": 2015, \"numero\": 526}, {\"mes\": \"Agosto\", \"ano\": 2018, \"numero\": 518}, {\"mes\": \"Julho\", \"ano\": 2015, \"numero\": 515}, {\"mes\": \"Novembro\", \"ano\": 2016, \"numero\": 510}, {\"mes\": \"Julho\", \"ano\": 2017, \"numero\": 500}, {\"mes\": \"Maio\", \"ano\": 2017, \"numero\": 494}, {\"mes\": \"Janeiro\", \"ano\": 2018, \"numero\": 488}, {\"mes\": \"Mar\\u00e7o\", \"ano\": 2017, \"numero\": 480}, {\"mes\": \"Setembro\", \"ano\": 2014, \"numero\": 475}, {\"mes\": \"Dezembro\", \"ano\": 2013, \"numero\": 474}, {\"mes\": \"Fevereiro\", \"ano\": 2018, \"numero\": 471}, {\"mes\": \"Outubro\", \"ano\": 2016, \"numero\": 470}, {\"mes\": \"Abril\", \"ano\": 2018, \"numero\": 458}, {\"mes\": \"Junho\", \"ano\": 2017, \"numero\": 457}, {\"mes\": \"Junho\", \"ano\": 2015, \"numero\": 453}, {\"mes\": \"Julho\", \"ano\": 2016, \"numero\": 448}, {\"mes\": \"Outubro\", \"ano\": 2013, \"numero\": 446}, {\"mes\": \"Agosto\", \"ano\": 2017, \"numero\": 446}, {\"mes\": \"Novembro\", \"ano\": 2013, \"numero\": 445}, {\"mes\": \"Abril\", \"ano\": 2016, \"numero\": 431}, {\"mes\": \"Junho\", \"ano\": 2016, \"numero\": 423}, {\"mes\": \"Maio\", \"ano\": 2016, \"numero\": 421}, {\"mes\": \"Maio\", \"ano\": 2015, \"numero\": 416}, {\"mes\": \"Agosto\", \"ano\": 2016, \"numero\": 410}, {\"mes\": \"Janeiro\", \"ano\": 2017, \"numero\": 407}, {\"mes\": \"Setembro\", \"ano\": 2013, \"numero\": 403}, {\"mes\": \"Mar\\u00e7o\", \"ano\": 2016, \"numero\": 401}, {\"mes\": \"Abril\", \"ano\": 2017, \"numero\": 399}, {\"mes\": \"Julho\", \"ano\": 2013, \"numero\": 399}, {\"mes\": \"Agosto\", \"ano\": 2013, \"numero\": 399}, {\"mes\": \"Agosto\", \"ano\": 2015, \"numero\": 399}, {\"mes\": \"Abril\", \"ano\": 2015, \"numero\": 398}, {\"mes\": \"Janeiro\", \"ano\": 2016, \"numero\": 398}, {\"mes\": \"Mar\\u00e7o\", \"ano\": 2015, \"numero\": 391}, {\"mes\": \"Maio\", \"ano\": 2014, \"numero\": 380}, {\"mes\": \"Janeiro\", \"ano\": 2015, \"numero\": 367}, {\"mes\": \"Fevereiro\", \"ano\": 2017, \"numero\": 365}, {\"mes\": \"Mar\\u00e7o\", \"ano\": 2014, \"numero\": 362}, {\"mes\": \"Fevereiro\", \"ano\": 2016, \"numero\": 343}, {\"mes\": \"Fevereiro\", \"ano\": 2014, \"numero\": 340}, {\"mes\": \"Fevereiro\", \"ano\": 2015, \"numero\": 339}, {\"mes\": \"Julho\", \"ano\": 2014, \"numero\": 334}, {\"mes\": \"Junho\", \"ano\": 2013, \"numero\": 334}, {\"mes\": \"Janeiro\", \"ano\": 2014, \"numero\": 333}, {\"mes\": \"Agosto\", \"ano\": 2014, \"numero\": 322}, {\"mes\": \"Junho\", \"ano\": 2014, \"numero\": 292}, {\"mes\": \"Abril\", \"ano\": 2014, \"numero\": 286}, {\"mes\": \"Maio\", \"ano\": 2013, \"numero\": 235}, {\"mes\": \"Abril\", \"ano\": 2013, \"numero\": 221}, {\"mes\": \"Mar\\u00e7o\", \"ano\": 2013, \"numero\": 160}, {\"mes\": \"Fevereiro\", \"ano\": 2013, \"numero\": 110}, {\"mes\": \"Janeiro\", \"ano\": 2013, \"numero\": 74}]}}, {\"mode\": \"vega-lite\"});\n",
              "</script>"
            ]
          },
          "metadata": {},
          "execution_count": 166
        }
      ]
    },
    {
      "cell_type": "markdown",
      "metadata": {
        "id": "d_SLx531fuTo"
      },
      "source": [
        "### Em quais estados aconteceram mais casamentos LGBTs em números absolutos? E menos?"
      ]
    },
    {
      "cell_type": "code",
      "metadata": {
        "id": "MWoO8KwOfvsz",
        "colab": {
          "base_uri": "https://localhost:8080/"
        },
        "outputId": "771cf0c0-2cfa-4149-e005-3262dfaa7410"
      },
      "source": [
        "# mais de 18 mil casamentos foram em SP, seguido pelo RJ e por MG\n",
        "# SP concentra 41,5% dos casamentos homoafetivos e é também o estado mais populoso do Brasil\n",
        "# já Roraima, Acre e Amapá aparecem com poucos casamentos e também são pouco populosos\n",
        "casamento_uf = lgbt_casamento.groupby('uf')['numero'].sum().sort_values(ascending=False).reset_index()\n",
        "casamento_uf['n_perc'] = (casamento_uf['numero'] / sum(casamento_uf['numero'])) * 100\n",
        "print(casamento_uf)"
      ],
      "execution_count": 56,
      "outputs": [
        {
          "output_type": "stream",
          "name": "stdout",
          "text": [
            "                     uf  numero     n_perc\n",
            "0             São Paulo   18267  41.543290\n",
            "1        Rio de Janeiro    4110   9.347070\n",
            "2          Minas Gerais    3310   7.527689\n",
            "3        Santa Catarina    2434   5.535467\n",
            "4                Paraná    2041   4.641696\n",
            "5     Rio Grande do Sul    1913   4.350595\n",
            "6                 Ceará    1888   4.293739\n",
            "7            Pernambuco    1519   3.454550\n",
            "8                 Bahia    1268   2.883719\n",
            "9      Distrito Federal    1202   2.733620\n",
            "10                Goiás    1069   2.431148\n",
            "11                 Pará     706   1.605604\n",
            "12   Mato Grosso do Sul     686   1.560119\n",
            "13       Espírito Santo     601   1.366810\n",
            "14  Rio Grande do Norte     499   1.134839\n",
            "15              Paraíba     473   1.075709\n",
            "16             Amazonas     371   0.843738\n",
            "17              Alagoas     332   0.755043\n",
            "18             Maranhão     257   0.584476\n",
            "19          Mato Grosso     237   0.538992\n",
            "20                Piauí     185   0.420732\n",
            "21             Rondônia     162   0.368425\n",
            "22              Sergipe     158   0.359328\n",
            "23            Tocantins      85   0.193309\n",
            "24                Amapá      77   0.175115\n",
            "25                 Acre      69   0.156922\n",
            "26              Roraima      52   0.118260\n"
          ]
        }
      ]
    },
    {
      "cell_type": "markdown",
      "metadata": {
        "id": "-Hb0RHpgiEx8"
      },
      "source": [
        "### Em quais regiões do Brasil os casamentos LGBTs mais ocorrem? E menos?"
      ]
    },
    {
      "cell_type": "code",
      "metadata": {
        "id": "Pd7qeGamiFvk"
      },
      "source": [
        "# criação de dicionário transformado depois em dataframe com as UFs e as respectivas regiões\n",
        "\n",
        "uf_norte = {'regiao': ['Norte']*7, 'uf': [\"Rondônia\",\"Acre\",\"Amazonas\",\"Roraima\", \"Pará\",\"Amapá\",\"Tocantins\"]}\n",
        "uf_nordeste = {'regiao': ['Nordeste']*9, 'uf': [\"Maranhão\",\"Piauí\",\"Ceará\",\"Rio Grande do Norte\",\"Paraíba\",\"Pernambuco\", \"Alagoas\",\"Sergipe\",\"Bahia\"]}\n",
        "uf_sudeste = {'regiao': ['Sudeste']*4, 'uf': [\"Minas Gerais\",\"Espírito Santo\",\"Rio de Janeiro\",\"São Paulo\"]}\n",
        "uf_sul = {'regiao': ['Sul']*3, 'uf': [\"Paraná\",\"Santa Catarina\",\"Rio Grande do Sul\"]}\n",
        "uf_centro_oeste = {'regiao': ['Centro-Oeste']*4, 'uf': [\"Mato Grosso do Sul\",\"Mato Grosso\",\"Goiás\", \"Distrito Federal\"]}\n",
        "\n",
        "regiao_norte = pd.DataFrame(uf_norte)\n",
        "regiao_nordeste = pd.DataFrame(uf_nordeste)\n",
        "regiao_sudeste = pd.DataFrame(uf_sudeste)\n",
        "regiao_sul = pd.DataFrame(uf_sul)\n",
        "regiao_centro_oeste = pd.DataFrame(uf_centro_oeste)\n",
        "\n",
        "regioes_uf = pd.concat([regiao_norte, regiao_nordeste, regiao_sudeste, regiao_sul, regiao_centro_oeste])"
      ],
      "execution_count": 57,
      "outputs": []
    },
    {
      "cell_type": "code",
      "metadata": {
        "id": "4m6km1sViRxw",
        "colab": {
          "base_uri": "https://localhost:8080/",
          "height": 206
        },
        "outputId": "ddf7f512-3f8e-43a8-b657-aca53b8348f1"
      },
      "source": [
        "lgbt_casamento_regioes = lgbt_casamento.merge(regioes_uf, on='uf')\n",
        "lgbt_casamento_regioes_ano = lgbt_casamento_regioes.groupby(['regiao', 'ano'])['numero'].sum().sort_values(ascending=False).reset_index()\n",
        "lgbt_casamento_regioes_ano.head()"
      ],
      "execution_count": 66,
      "outputs": [
        {
          "output_type": "execute_result",
          "data": {
            "text/html": [
              "<div>\n",
              "<style scoped>\n",
              "    .dataframe tbody tr th:only-of-type {\n",
              "        vertical-align: middle;\n",
              "    }\n",
              "\n",
              "    .dataframe tbody tr th {\n",
              "        vertical-align: top;\n",
              "    }\n",
              "\n",
              "    .dataframe thead th {\n",
              "        text-align: right;\n",
              "    }\n",
              "</style>\n",
              "<table border=\"1\" class=\"dataframe\">\n",
              "  <thead>\n",
              "    <tr style=\"text-align: right;\">\n",
              "      <th></th>\n",
              "      <th>regiao</th>\n",
              "      <th>ano</th>\n",
              "      <th>numero</th>\n",
              "    </tr>\n",
              "  </thead>\n",
              "  <tbody>\n",
              "    <tr>\n",
              "      <th>0</th>\n",
              "      <td>Sudeste</td>\n",
              "      <td>2018</td>\n",
              "      <td>5689</td>\n",
              "    </tr>\n",
              "    <tr>\n",
              "      <th>1</th>\n",
              "      <td>Sudeste</td>\n",
              "      <td>2019</td>\n",
              "      <td>5509</td>\n",
              "    </tr>\n",
              "    <tr>\n",
              "      <th>2</th>\n",
              "      <td>Sudeste</td>\n",
              "      <td>2017</td>\n",
              "      <td>3536</td>\n",
              "    </tr>\n",
              "    <tr>\n",
              "      <th>3</th>\n",
              "      <td>Sudeste</td>\n",
              "      <td>2016</td>\n",
              "      <td>3125</td>\n",
              "    </tr>\n",
              "    <tr>\n",
              "      <th>4</th>\n",
              "      <td>Sudeste</td>\n",
              "      <td>2015</td>\n",
              "      <td>3077</td>\n",
              "    </tr>\n",
              "  </tbody>\n",
              "</table>\n",
              "</div>"
            ],
            "text/plain": [
              "    regiao   ano  numero\n",
              "0  Sudeste  2018    5689\n",
              "1  Sudeste  2019    5509\n",
              "2  Sudeste  2017    3536\n",
              "3  Sudeste  2016    3125\n",
              "4  Sudeste  2015    3077"
            ]
          },
          "metadata": {},
          "execution_count": 66
        }
      ]
    },
    {
      "cell_type": "code",
      "metadata": {
        "id": "PrgeoF_sjaFc",
        "colab": {
          "base_uri": "https://localhost:8080/",
          "height": 380
        },
        "outputId": "ad8934af-1191-4368-92b0-dfee43e00284"
      },
      "source": [
        "# gráfico para mostrar os dados citados acima\n",
        "# referência https://altair-viz.github.io/gallery/horizontal_stacked_bar_chart.html\n",
        "alt.Chart(lgbt_casamento_regioes).mark_bar().encode(\n",
        "    x = alt.X('sum(numero)', title = 'Nº de casamentos'),\n",
        "    y = alt.Y('ano', title = 'Ano'),\n",
        "    tooltip = ['regiao', 'numero'],\n",
        "    color = alt.Color('regiao', title = \"Região\")\n",
        ").properties(title = 'Sudeste concentra maior número de casamentos homoafetivos', width=600, height=300)"
      ],
      "execution_count": 165,
      "outputs": [
        {
          "output_type": "execute_result",
          "data": {
            "text/plain": [
              "alt.Chart(...)"
            ],
            "text/html": [
              "\n",
              "<div id=\"altair-viz-a7ea9a7cdf7c4ae9842fa3d39d24f182\"></div>\n",
              "<script type=\"text/javascript\">\n",
              "  (function(spec, embedOpt){\n",
              "    let outputDiv = document.currentScript.previousElementSibling;\n",
              "    if (outputDiv.id !== \"altair-viz-a7ea9a7cdf7c4ae9842fa3d39d24f182\") {\n",
              "      outputDiv = document.getElementById(\"altair-viz-a7ea9a7cdf7c4ae9842fa3d39d24f182\");\n",
              "    }\n",
              "    const paths = {\n",
              "      \"vega\": \"https://cdn.jsdelivr.net/npm//vega@5?noext\",\n",
              "      \"vega-lib\": \"https://cdn.jsdelivr.net/npm//vega-lib?noext\",\n",
              "      \"vega-lite\": \"https://cdn.jsdelivr.net/npm//vega-lite@4.8.1?noext\",\n",
              "      \"vega-embed\": \"https://cdn.jsdelivr.net/npm//vega-embed@6?noext\",\n",
              "    };\n",
              "\n",
              "    function loadScript(lib) {\n",
              "      return new Promise(function(resolve, reject) {\n",
              "        var s = document.createElement('script');\n",
              "        s.src = paths[lib];\n",
              "        s.async = true;\n",
              "        s.onload = () => resolve(paths[lib]);\n",
              "        s.onerror = () => reject(`Error loading script: ${paths[lib]}`);\n",
              "        document.getElementsByTagName(\"head\")[0].appendChild(s);\n",
              "      });\n",
              "    }\n",
              "\n",
              "    function showError(err) {\n",
              "      outputDiv.innerHTML = `<div class=\"error\" style=\"color:red;\">${err}</div>`;\n",
              "      throw err;\n",
              "    }\n",
              "\n",
              "    function displayChart(vegaEmbed) {\n",
              "      vegaEmbed(outputDiv, spec, embedOpt)\n",
              "        .catch(err => showError(`Javascript Error: ${err.message}<br>This usually means there's a typo in your chart specification. See the javascript console for the full traceback.`));\n",
              "    }\n",
              "\n",
              "    if(typeof define === \"function\" && define.amd) {\n",
              "      requirejs.config({paths});\n",
              "      require([\"vega-embed\"], displayChart, err => showError(`Error loading script: ${err.message}`));\n",
              "    } else if (typeof vegaEmbed === \"function\") {\n",
              "      displayChart(vegaEmbed);\n",
              "    } else {\n",
              "      loadScript(\"vega\")\n",
              "        .then(() => loadScript(\"vega-lite\"))\n",
              "        .then(() => loadScript(\"vega-embed\"))\n",
              "        .catch(showError)\n",
              "        .then(() => displayChart(vegaEmbed));\n",
              "    }\n",
              "  })({\"config\": {\"view\": {\"continuousWidth\": 400, \"continuousHeight\": 300}}, \"data\": {\"name\": \"data-d4e13d93b69e95bdd06e00e666322717\"}, \"mark\": \"bar\", \"encoding\": {\"color\": {\"type\": \"nominal\", \"field\": \"regiao\", \"title\": \"Regi\\u00e3o\"}, \"tooltip\": [{\"type\": \"nominal\", \"field\": \"regiao\"}, {\"type\": \"quantitative\", \"field\": \"numero\"}], \"x\": {\"type\": \"quantitative\", \"aggregate\": \"sum\", \"field\": \"numero\", \"title\": \"N\\u00ba de casamentos\"}, \"y\": {\"type\": \"quantitative\", \"field\": \"ano\", \"title\": \"Ano\"}}, \"height\": 300, \"title\": \"Sudeste concentra maior n\\u00famero de casamentos homoafetivos\", \"width\": 600, \"$schema\": \"https://vega.github.io/schema/vega-lite/v4.8.1.json\", \"datasets\": {\"data-d4e13d93b69e95bdd06e00e666322717\": [{\"ano\": 2014, \"uf\": \"Rond\\u00f4nia\", \"genero\": \"Masculino\", \"mes\": \"Janeiro\", \"numero\": 0, \"regiao\": \"Norte\"}, {\"ano\": 2014, \"uf\": \"Rond\\u00f4nia\", \"genero\": \"Masculino\", \"mes\": \"Fevereiro\", \"numero\": 0, \"regiao\": \"Norte\"}, {\"ano\": 2014, \"uf\": \"Rond\\u00f4nia\", \"genero\": \"Masculino\", \"mes\": \"Mar\\u00e7o\", \"numero\": 0, \"regiao\": \"Norte\"}, {\"ano\": 2014, \"uf\": \"Rond\\u00f4nia\", \"genero\": \"Masculino\", \"mes\": \"Abril\", \"numero\": 0, \"regiao\": \"Norte\"}, {\"ano\": 2014, \"uf\": \"Rond\\u00f4nia\", \"genero\": \"Masculino\", \"mes\": \"Maio\", \"numero\": 0, \"regiao\": \"Norte\"}, {\"ano\": 2014, \"uf\": \"Rond\\u00f4nia\", \"genero\": \"Masculino\", \"mes\": \"Junho\", \"numero\": 0, \"regiao\": \"Norte\"}, {\"ano\": 2014, \"uf\": \"Rond\\u00f4nia\", \"genero\": \"Masculino\", \"mes\": \"Julho\", \"numero\": 0, \"regiao\": \"Norte\"}, {\"ano\": 2014, \"uf\": \"Rond\\u00f4nia\", \"genero\": \"Masculino\", \"mes\": \"Agosto\", \"numero\": 1, \"regiao\": \"Norte\"}, {\"ano\": 2014, \"uf\": \"Rond\\u00f4nia\", \"genero\": \"Masculino\", \"mes\": \"Setembro\", \"numero\": 3, \"regiao\": \"Norte\"}, {\"ano\": 2014, \"uf\": \"Rond\\u00f4nia\", \"genero\": \"Masculino\", \"mes\": \"Outubro\", \"numero\": 1, \"regiao\": \"Norte\"}, {\"ano\": 2014, \"uf\": \"Rond\\u00f4nia\", \"genero\": \"Masculino\", \"mes\": \"Novembro\", \"numero\": 1, \"regiao\": \"Norte\"}, {\"ano\": 2014, \"uf\": \"Rond\\u00f4nia\", \"genero\": \"Masculino\", \"mes\": \"Dezembro\", \"numero\": 2, \"regiao\": \"Norte\"}, {\"ano\": 2014, \"uf\": \"Rond\\u00f4nia\", \"genero\": \"Feminino\", \"mes\": \"Janeiro\", \"numero\": 0, \"regiao\": \"Norte\"}, {\"ano\": 2014, \"uf\": \"Rond\\u00f4nia\", \"genero\": \"Feminino\", \"mes\": \"Fevereiro\", \"numero\": 0, \"regiao\": \"Norte\"}, {\"ano\": 2014, \"uf\": \"Rond\\u00f4nia\", \"genero\": \"Feminino\", \"mes\": \"Mar\\u00e7o\", \"numero\": 0, \"regiao\": \"Norte\"}, {\"ano\": 2014, \"uf\": \"Rond\\u00f4nia\", \"genero\": \"Feminino\", \"mes\": \"Abril\", \"numero\": 2, \"regiao\": \"Norte\"}, {\"ano\": 2014, \"uf\": \"Rond\\u00f4nia\", \"genero\": \"Feminino\", \"mes\": \"Maio\", \"numero\": 2, \"regiao\": \"Norte\"}, {\"ano\": 2014, \"uf\": \"Rond\\u00f4nia\", \"genero\": \"Feminino\", \"mes\": \"Junho\", \"numero\": 0, \"regiao\": \"Norte\"}, {\"ano\": 2014, \"uf\": \"Rond\\u00f4nia\", \"genero\": \"Feminino\", \"mes\": \"Julho\", \"numero\": 0, \"regiao\": \"Norte\"}, {\"ano\": 2014, \"uf\": \"Rond\\u00f4nia\", \"genero\": \"Feminino\", \"mes\": \"Agosto\", \"numero\": 0, \"regiao\": \"Norte\"}, {\"ano\": 2014, \"uf\": \"Rond\\u00f4nia\", \"genero\": \"Feminino\", \"mes\": \"Setembro\", \"numero\": 2, \"regiao\": \"Norte\"}, {\"ano\": 2014, \"uf\": \"Rond\\u00f4nia\", \"genero\": \"Feminino\", \"mes\": \"Outubro\", \"numero\": 0, \"regiao\": \"Norte\"}, {\"ano\": 2014, \"uf\": \"Rond\\u00f4nia\", \"genero\": \"Feminino\", \"mes\": \"Novembro\", \"numero\": 0, \"regiao\": \"Norte\"}, {\"ano\": 2014, \"uf\": \"Rond\\u00f4nia\", \"genero\": \"Feminino\", \"mes\": \"Dezembro\", \"numero\": 4, \"regiao\": \"Norte\"}, {\"ano\": 2013, \"uf\": \"Rond\\u00f4nia\", \"genero\": \"Masculino\", \"mes\": \"Janeiro\", \"numero\": 0, \"regiao\": \"Norte\"}, {\"ano\": 2013, \"uf\": \"Rond\\u00f4nia\", \"genero\": \"Masculino\", \"mes\": \"Fevereiro\", \"numero\": 0, \"regiao\": \"Norte\"}, {\"ano\": 2013, \"uf\": \"Rond\\u00f4nia\", \"genero\": \"Masculino\", \"mes\": \"Mar\\u00e7o\", \"numero\": 0, \"regiao\": \"Norte\"}, {\"ano\": 2013, \"uf\": \"Rond\\u00f4nia\", \"genero\": \"Masculino\", \"mes\": \"Abril\", \"numero\": 0, \"regiao\": \"Norte\"}, {\"ano\": 2013, \"uf\": \"Rond\\u00f4nia\", \"genero\": \"Masculino\", \"mes\": \"Maio\", \"numero\": 0, \"regiao\": \"Norte\"}, {\"ano\": 2013, \"uf\": \"Rond\\u00f4nia\", \"genero\": \"Masculino\", \"mes\": \"Junho\", \"numero\": 1, \"regiao\": \"Norte\"}, {\"ano\": 2013, \"uf\": \"Rond\\u00f4nia\", \"genero\": \"Masculino\", \"mes\": \"Julho\", \"numero\": 2, \"regiao\": \"Norte\"}, {\"ano\": 2013, \"uf\": \"Rond\\u00f4nia\", \"genero\": \"Masculino\", \"mes\": \"Agosto\", \"numero\": 1, \"regiao\": \"Norte\"}, {\"ano\": 2013, \"uf\": \"Rond\\u00f4nia\", \"genero\": \"Masculino\", \"mes\": \"Setembro\", \"numero\": 1, \"regiao\": \"Norte\"}, {\"ano\": 2013, \"uf\": \"Rond\\u00f4nia\", \"genero\": \"Masculino\", \"mes\": \"Outubro\", \"numero\": 0, \"regiao\": \"Norte\"}, {\"ano\": 2013, \"uf\": \"Rond\\u00f4nia\", \"genero\": \"Masculino\", \"mes\": \"Novembro\", \"numero\": 0, \"regiao\": \"Norte\"}, {\"ano\": 2013, \"uf\": \"Rond\\u00f4nia\", \"genero\": \"Masculino\", \"mes\": \"Dezembro\", \"numero\": 0, \"regiao\": \"Norte\"}, {\"ano\": 2013, \"uf\": \"Rond\\u00f4nia\", \"genero\": \"Feminino\", \"mes\": \"Janeiro\", \"numero\": 0, \"regiao\": \"Norte\"}, {\"ano\": 2013, \"uf\": \"Rond\\u00f4nia\", \"genero\": \"Feminino\", \"mes\": \"Fevereiro\", \"numero\": 0, \"regiao\": \"Norte\"}, {\"ano\": 2013, \"uf\": \"Rond\\u00f4nia\", \"genero\": \"Feminino\", \"mes\": \"Mar\\u00e7o\", \"numero\": 0, \"regiao\": \"Norte\"}, {\"ano\": 2013, \"uf\": \"Rond\\u00f4nia\", \"genero\": \"Feminino\", \"mes\": \"Abril\", \"numero\": 0, \"regiao\": \"Norte\"}, {\"ano\": 2013, \"uf\": \"Rond\\u00f4nia\", \"genero\": \"Feminino\", \"mes\": \"Maio\", \"numero\": 0, \"regiao\": \"Norte\"}, {\"ano\": 2013, \"uf\": \"Rond\\u00f4nia\", \"genero\": \"Feminino\", \"mes\": \"Junho\", \"numero\": 0, \"regiao\": \"Norte\"}, {\"ano\": 2013, \"uf\": \"Rond\\u00f4nia\", \"genero\": \"Feminino\", \"mes\": \"Julho\", \"numero\": 1, \"regiao\": \"Norte\"}, {\"ano\": 2013, \"uf\": \"Rond\\u00f4nia\", \"genero\": \"Feminino\", \"mes\": \"Agosto\", \"numero\": 0, \"regiao\": \"Norte\"}, {\"ano\": 2013, \"uf\": \"Rond\\u00f4nia\", \"genero\": \"Feminino\", \"mes\": \"Setembro\", \"numero\": 1, \"regiao\": \"Norte\"}, {\"ano\": 2013, \"uf\": \"Rond\\u00f4nia\", \"genero\": \"Feminino\", \"mes\": \"Outubro\", \"numero\": 1, \"regiao\": \"Norte\"}, {\"ano\": 2013, \"uf\": \"Rond\\u00f4nia\", \"genero\": \"Feminino\", \"mes\": \"Novembro\", \"numero\": 1, \"regiao\": \"Norte\"}, {\"ano\": 2013, \"uf\": \"Rond\\u00f4nia\", \"genero\": \"Feminino\", \"mes\": \"Dezembro\", \"numero\": 1, \"regiao\": \"Norte\"}, {\"ano\": 2015, \"uf\": \"Rond\\u00f4nia\", \"genero\": \"Masculino\", \"mes\": \"Janeiro\", \"numero\": 1, \"regiao\": \"Norte\"}, {\"ano\": 2015, \"uf\": \"Rond\\u00f4nia\", \"genero\": \"Masculino\", \"mes\": \"Fevereiro\", \"numero\": 0, \"regiao\": \"Norte\"}, {\"ano\": 2015, \"uf\": \"Rond\\u00f4nia\", \"genero\": \"Masculino\", \"mes\": \"Mar\\u00e7o\", \"numero\": 1, \"regiao\": \"Norte\"}, {\"ano\": 2015, \"uf\": \"Rond\\u00f4nia\", \"genero\": \"Masculino\", \"mes\": \"Abril\", \"numero\": 0, \"regiao\": \"Norte\"}, {\"ano\": 2015, \"uf\": \"Rond\\u00f4nia\", \"genero\": \"Masculino\", \"mes\": \"Maio\", \"numero\": 0, \"regiao\": \"Norte\"}, {\"ano\": 2015, \"uf\": \"Rond\\u00f4nia\", \"genero\": \"Masculino\", \"mes\": \"Junho\", \"numero\": 0, \"regiao\": \"Norte\"}, {\"ano\": 2015, \"uf\": \"Rond\\u00f4nia\", \"genero\": \"Masculino\", \"mes\": \"Julho\", \"numero\": 3, \"regiao\": \"Norte\"}, {\"ano\": 2015, \"uf\": \"Rond\\u00f4nia\", \"genero\": \"Masculino\", \"mes\": \"Agosto\", \"numero\": 1, \"regiao\": \"Norte\"}, {\"ano\": 2015, \"uf\": \"Rond\\u00f4nia\", \"genero\": \"Masculino\", \"mes\": \"Setembro\", \"numero\": 0, \"regiao\": \"Norte\"}, {\"ano\": 2015, \"uf\": \"Rond\\u00f4nia\", \"genero\": \"Masculino\", \"mes\": \"Outubro\", \"numero\": 0, \"regiao\": \"Norte\"}, {\"ano\": 2015, \"uf\": \"Rond\\u00f4nia\", \"genero\": \"Masculino\", \"mes\": \"Novembro\", \"numero\": 0, \"regiao\": \"Norte\"}, {\"ano\": 2015, \"uf\": \"Rond\\u00f4nia\", \"genero\": \"Masculino\", \"mes\": \"Dezembro\", \"numero\": 1, \"regiao\": \"Norte\"}, {\"ano\": 2016, \"uf\": \"Rond\\u00f4nia\", \"genero\": \"Masculino\", \"mes\": \"Janeiro\", \"numero\": 0, \"regiao\": \"Norte\"}, {\"ano\": 2016, \"uf\": \"Rond\\u00f4nia\", \"genero\": \"Masculino\", \"mes\": \"Fevereiro\", \"numero\": 1, \"regiao\": \"Norte\"}, {\"ano\": 2016, \"uf\": \"Rond\\u00f4nia\", \"genero\": \"Masculino\", \"mes\": \"Mar\\u00e7o\", \"numero\": 0, \"regiao\": \"Norte\"}, {\"ano\": 2016, \"uf\": \"Rond\\u00f4nia\", \"genero\": \"Masculino\", \"mes\": \"Abril\", \"numero\": 1, \"regiao\": \"Norte\"}, {\"ano\": 2016, \"uf\": \"Rond\\u00f4nia\", \"genero\": \"Masculino\", \"mes\": \"Maio\", \"numero\": 0, \"regiao\": \"Norte\"}, {\"ano\": 2016, \"uf\": \"Rond\\u00f4nia\", \"genero\": \"Masculino\", \"mes\": \"Junho\", \"numero\": 2, \"regiao\": \"Norte\"}, {\"ano\": 2016, \"uf\": \"Rond\\u00f4nia\", \"genero\": \"Masculino\", \"mes\": \"Julho\", \"numero\": 0, \"regiao\": \"Norte\"}, {\"ano\": 2016, \"uf\": \"Rond\\u00f4nia\", \"genero\": \"Masculino\", \"mes\": \"Agosto\", \"numero\": 1, \"regiao\": \"Norte\"}, {\"ano\": 2016, \"uf\": \"Rond\\u00f4nia\", \"genero\": \"Masculino\", \"mes\": \"Setembro\", \"numero\": 0, \"regiao\": \"Norte\"}, {\"ano\": 2016, \"uf\": \"Rond\\u00f4nia\", \"genero\": \"Masculino\", \"mes\": \"Outubro\", \"numero\": 1, \"regiao\": \"Norte\"}, {\"ano\": 2016, \"uf\": \"Rond\\u00f4nia\", \"genero\": \"Masculino\", \"mes\": \"Novembro\", \"numero\": 2, \"regiao\": \"Norte\"}, {\"ano\": 2016, \"uf\": \"Rond\\u00f4nia\", \"genero\": \"Masculino\", \"mes\": \"Dezembro\", \"numero\": 0, \"regiao\": \"Norte\"}, {\"ano\": 2017, \"uf\": \"Rond\\u00f4nia\", \"genero\": \"Masculino\", \"mes\": \"Janeiro\", \"numero\": 3, \"regiao\": \"Norte\"}, {\"ano\": 2017, \"uf\": \"Rond\\u00f4nia\", \"genero\": \"Masculino\", \"mes\": \"Fevereiro\", \"numero\": 2, \"regiao\": \"Norte\"}, {\"ano\": 2017, \"uf\": \"Rond\\u00f4nia\", \"genero\": \"Masculino\", \"mes\": \"Mar\\u00e7o\", \"numero\": 1, \"regiao\": \"Norte\"}, {\"ano\": 2017, \"uf\": \"Rond\\u00f4nia\", \"genero\": \"Masculino\", \"mes\": \"Abril\", \"numero\": 1, \"regiao\": \"Norte\"}, {\"ano\": 2017, \"uf\": \"Rond\\u00f4nia\", \"genero\": \"Masculino\", \"mes\": \"Maio\", \"numero\": 1, \"regiao\": \"Norte\"}, {\"ano\": 2017, \"uf\": \"Rond\\u00f4nia\", \"genero\": \"Masculino\", \"mes\": \"Junho\", \"numero\": 1, \"regiao\": \"Norte\"}, {\"ano\": 2017, \"uf\": \"Rond\\u00f4nia\", \"genero\": \"Masculino\", \"mes\": \"Julho\", \"numero\": 2, \"regiao\": \"Norte\"}, {\"ano\": 2017, \"uf\": \"Rond\\u00f4nia\", \"genero\": \"Masculino\", \"mes\": \"Agosto\", \"numero\": 1, \"regiao\": \"Norte\"}, {\"ano\": 2017, \"uf\": \"Rond\\u00f4nia\", \"genero\": \"Masculino\", \"mes\": \"Setembro\", \"numero\": 1, \"regiao\": \"Norte\"}, {\"ano\": 2017, \"uf\": \"Rond\\u00f4nia\", \"genero\": \"Masculino\", \"mes\": \"Outubro\", \"numero\": 0, \"regiao\": \"Norte\"}, {\"ano\": 2017, \"uf\": \"Rond\\u00f4nia\", \"genero\": \"Masculino\", \"mes\": \"Novembro\", \"numero\": 0, \"regiao\": \"Norte\"}, {\"ano\": 2017, \"uf\": \"Rond\\u00f4nia\", \"genero\": \"Masculino\", \"mes\": \"Dezembro\", \"numero\": 0, \"regiao\": \"Norte\"}, {\"ano\": 2018, \"uf\": \"Rond\\u00f4nia\", \"genero\": \"Masculino\", \"mes\": \"Janeiro\", \"numero\": 1, \"regiao\": \"Norte\"}, {\"ano\": 2018, \"uf\": \"Rond\\u00f4nia\", \"genero\": \"Masculino\", \"mes\": \"Fevereiro\", \"numero\": 0, \"regiao\": \"Norte\"}, {\"ano\": 2018, \"uf\": \"Rond\\u00f4nia\", \"genero\": \"Masculino\", \"mes\": \"Mar\\u00e7o\", \"numero\": 0, \"regiao\": \"Norte\"}, {\"ano\": 2018, \"uf\": \"Rond\\u00f4nia\", \"genero\": \"Masculino\", \"mes\": \"Abril\", \"numero\": 1, \"regiao\": \"Norte\"}, {\"ano\": 2018, \"uf\": \"Rond\\u00f4nia\", \"genero\": \"Masculino\", \"mes\": \"Maio\", \"numero\": 0, \"regiao\": \"Norte\"}, {\"ano\": 2018, \"uf\": \"Rond\\u00f4nia\", \"genero\": \"Masculino\", \"mes\": \"Junho\", \"numero\": 0, \"regiao\": \"Norte\"}, {\"ano\": 2018, \"uf\": \"Rond\\u00f4nia\", \"genero\": \"Masculino\", \"mes\": \"Julho\", \"numero\": 1, \"regiao\": \"Norte\"}, {\"ano\": 2018, \"uf\": \"Rond\\u00f4nia\", \"genero\": \"Masculino\", \"mes\": \"Agosto\", \"numero\": 1, \"regiao\": \"Norte\"}, {\"ano\": 2018, \"uf\": \"Rond\\u00f4nia\", \"genero\": \"Masculino\", \"mes\": \"Setembro\", \"numero\": 0, \"regiao\": \"Norte\"}, {\"ano\": 2018, \"uf\": \"Rond\\u00f4nia\", \"genero\": \"Masculino\", \"mes\": \"Outubro\", \"numero\": 2, \"regiao\": \"Norte\"}, {\"ano\": 2018, \"uf\": \"Rond\\u00f4nia\", \"genero\": \"Masculino\", \"mes\": \"Novembro\", \"numero\": 0, \"regiao\": \"Norte\"}, {\"ano\": 2018, \"uf\": \"Rond\\u00f4nia\", \"genero\": \"Masculino\", \"mes\": \"Dezembro\", \"numero\": 0, \"regiao\": \"Norte\"}, {\"ano\": 2019, \"uf\": \"Rond\\u00f4nia\", \"genero\": \"Masculino\", \"mes\": \"Janeiro\", \"numero\": 0, \"regiao\": \"Norte\"}, {\"ano\": 2019, \"uf\": \"Rond\\u00f4nia\", \"genero\": \"Masculino\", \"mes\": \"Fevereiro\", \"numero\": 4, \"regiao\": \"Norte\"}, {\"ano\": 2019, \"uf\": \"Rond\\u00f4nia\", \"genero\": \"Masculino\", \"mes\": \"Mar\\u00e7o\", \"numero\": 1, \"regiao\": \"Norte\"}, {\"ano\": 2019, \"uf\": \"Rond\\u00f4nia\", \"genero\": \"Masculino\", \"mes\": \"Abril\", \"numero\": 0, \"regiao\": \"Norte\"}, {\"ano\": 2019, \"uf\": \"Rond\\u00f4nia\", \"genero\": \"Masculino\", \"mes\": \"Maio\", \"numero\": 0, \"regiao\": \"Norte\"}, {\"ano\": 2019, \"uf\": \"Rond\\u00f4nia\", \"genero\": \"Masculino\", \"mes\": \"Junho\", \"numero\": 2, \"regiao\": \"Norte\"}, {\"ano\": 2019, \"uf\": \"Rond\\u00f4nia\", \"genero\": \"Masculino\", \"mes\": \"Julho\", \"numero\": 3, \"regiao\": \"Norte\"}, {\"ano\": 2019, \"uf\": \"Rond\\u00f4nia\", \"genero\": \"Masculino\", \"mes\": \"Agosto\", \"numero\": 1, \"regiao\": \"Norte\"}, {\"ano\": 2019, \"uf\": \"Rond\\u00f4nia\", \"genero\": \"Masculino\", \"mes\": \"Setembro\", \"numero\": 2, \"regiao\": \"Norte\"}, {\"ano\": 2019, \"uf\": \"Rond\\u00f4nia\", \"genero\": \"Masculino\", \"mes\": \"Outubro\", \"numero\": 0, \"regiao\": \"Norte\"}, {\"ano\": 2019, \"uf\": \"Rond\\u00f4nia\", \"genero\": \"Masculino\", \"mes\": \"Novembro\", \"numero\": 2, \"regiao\": \"Norte\"}, {\"ano\": 2019, \"uf\": \"Rond\\u00f4nia\", \"genero\": \"Masculino\", \"mes\": \"Dezembro\", \"numero\": 2, \"regiao\": \"Norte\"}, {\"ano\": 2015, \"uf\": \"Rond\\u00f4nia\", \"genero\": \"Feminino\", \"mes\": \"Janeiro\", \"numero\": 2, \"regiao\": \"Norte\"}, {\"ano\": 2015, \"uf\": \"Rond\\u00f4nia\", \"genero\": \"Feminino\", \"mes\": \"Fevereiro\", \"numero\": 1, \"regiao\": \"Norte\"}, {\"ano\": 2015, \"uf\": \"Rond\\u00f4nia\", \"genero\": \"Feminino\", \"mes\": \"Mar\\u00e7o\", \"numero\": 0, \"regiao\": \"Norte\"}, {\"ano\": 2015, \"uf\": \"Rond\\u00f4nia\", \"genero\": \"Feminino\", \"mes\": \"Abril\", \"numero\": 1, \"regiao\": \"Norte\"}, {\"ano\": 2015, \"uf\": \"Rond\\u00f4nia\", \"genero\": \"Feminino\", \"mes\": \"Maio\", \"numero\": 0, \"regiao\": \"Norte\"}, {\"ano\": 2015, \"uf\": \"Rond\\u00f4nia\", \"genero\": \"Feminino\", \"mes\": \"Junho\", \"numero\": 3, \"regiao\": \"Norte\"}, {\"ano\": 2015, \"uf\": \"Rond\\u00f4nia\", \"genero\": \"Feminino\", \"mes\": \"Julho\", \"numero\": 0, \"regiao\": \"Norte\"}, {\"ano\": 2015, \"uf\": \"Rond\\u00f4nia\", \"genero\": \"Feminino\", \"mes\": \"Agosto\", \"numero\": 1, \"regiao\": \"Norte\"}, {\"ano\": 2015, \"uf\": \"Rond\\u00f4nia\", \"genero\": \"Feminino\", \"mes\": \"Setembro\", \"numero\": 1, \"regiao\": \"Norte\"}, {\"ano\": 2015, \"uf\": \"Rond\\u00f4nia\", \"genero\": \"Feminino\", \"mes\": \"Outubro\", \"numero\": 0, \"regiao\": \"Norte\"}, {\"ano\": 2015, \"uf\": \"Rond\\u00f4nia\", \"genero\": \"Feminino\", \"mes\": \"Novembro\", \"numero\": 1, \"regiao\": \"Norte\"}, {\"ano\": 2015, \"uf\": \"Rond\\u00f4nia\", \"genero\": \"Feminino\", \"mes\": \"Dezembro\", \"numero\": 1, \"regiao\": \"Norte\"}, {\"ano\": 2016, \"uf\": \"Rond\\u00f4nia\", \"genero\": \"Feminino\", \"mes\": \"Janeiro\", \"numero\": 1, \"regiao\": \"Norte\"}, {\"ano\": 2016, \"uf\": \"Rond\\u00f4nia\", \"genero\": \"Feminino\", \"mes\": \"Fevereiro\", \"numero\": 1, \"regiao\": \"Norte\"}, {\"ano\": 2016, \"uf\": \"Rond\\u00f4nia\", \"genero\": \"Feminino\", \"mes\": \"Mar\\u00e7o\", \"numero\": 0, \"regiao\": \"Norte\"}, {\"ano\": 2016, \"uf\": \"Rond\\u00f4nia\", \"genero\": \"Feminino\", \"mes\": \"Abril\", \"numero\": 1, \"regiao\": \"Norte\"}, {\"ano\": 2016, \"uf\": \"Rond\\u00f4nia\", \"genero\": \"Feminino\", \"mes\": \"Maio\", \"numero\": 0, \"regiao\": \"Norte\"}, {\"ano\": 2016, \"uf\": \"Rond\\u00f4nia\", \"genero\": \"Feminino\", \"mes\": \"Junho\", \"numero\": 1, \"regiao\": \"Norte\"}, {\"ano\": 2016, \"uf\": \"Rond\\u00f4nia\", \"genero\": \"Feminino\", \"mes\": \"Julho\", \"numero\": 0, \"regiao\": \"Norte\"}, {\"ano\": 2016, \"uf\": \"Rond\\u00f4nia\", \"genero\": \"Feminino\", \"mes\": \"Agosto\", \"numero\": 2, \"regiao\": \"Norte\"}, {\"ano\": 2016, \"uf\": \"Rond\\u00f4nia\", \"genero\": \"Feminino\", \"mes\": \"Setembro\", \"numero\": 1, \"regiao\": \"Norte\"}, {\"ano\": 2016, \"uf\": \"Rond\\u00f4nia\", \"genero\": \"Feminino\", \"mes\": \"Outubro\", \"numero\": 4, \"regiao\": \"Norte\"}, {\"ano\": 2016, \"uf\": \"Rond\\u00f4nia\", \"genero\": \"Feminino\", \"mes\": \"Novembro\", \"numero\": 3, \"regiao\": \"Norte\"}, {\"ano\": 2016, \"uf\": \"Rond\\u00f4nia\", \"genero\": \"Feminino\", \"mes\": \"Dezembro\", \"numero\": 1, \"regiao\": \"Norte\"}, {\"ano\": 2017, \"uf\": \"Rond\\u00f4nia\", \"genero\": \"Feminino\", \"mes\": \"Janeiro\", \"numero\": 0, \"regiao\": \"Norte\"}, {\"ano\": 2017, \"uf\": \"Rond\\u00f4nia\", \"genero\": \"Feminino\", \"mes\": \"Fevereiro\", \"numero\": 1, \"regiao\": \"Norte\"}, {\"ano\": 2017, \"uf\": \"Rond\\u00f4nia\", \"genero\": \"Feminino\", \"mes\": \"Mar\\u00e7o\", \"numero\": 1, \"regiao\": \"Norte\"}, {\"ano\": 2017, \"uf\": \"Rond\\u00f4nia\", \"genero\": \"Feminino\", \"mes\": \"Abril\", \"numero\": 0, \"regiao\": \"Norte\"}, {\"ano\": 2017, \"uf\": \"Rond\\u00f4nia\", \"genero\": \"Feminino\", \"mes\": \"Maio\", \"numero\": 2, \"regiao\": \"Norte\"}, {\"ano\": 2017, \"uf\": \"Rond\\u00f4nia\", \"genero\": \"Feminino\", \"mes\": \"Junho\", \"numero\": 1, \"regiao\": \"Norte\"}, {\"ano\": 2017, \"uf\": \"Rond\\u00f4nia\", \"genero\": \"Feminino\", \"mes\": \"Julho\", \"numero\": 0, \"regiao\": \"Norte\"}, {\"ano\": 2017, \"uf\": \"Rond\\u00f4nia\", \"genero\": \"Feminino\", \"mes\": \"Agosto\", \"numero\": 0, \"regiao\": \"Norte\"}, {\"ano\": 2017, \"uf\": \"Rond\\u00f4nia\", \"genero\": \"Feminino\", \"mes\": \"Setembro\", \"numero\": 1, \"regiao\": \"Norte\"}, {\"ano\": 2017, \"uf\": \"Rond\\u00f4nia\", \"genero\": \"Feminino\", \"mes\": \"Outubro\", \"numero\": 0, \"regiao\": \"Norte\"}, {\"ano\": 2017, \"uf\": \"Rond\\u00f4nia\", \"genero\": \"Feminino\", \"mes\": \"Novembro\", \"numero\": 2, \"regiao\": \"Norte\"}, {\"ano\": 2017, \"uf\": \"Rond\\u00f4nia\", \"genero\": \"Feminino\", \"mes\": \"Dezembro\", \"numero\": 2, \"regiao\": \"Norte\"}, {\"ano\": 2018, \"uf\": \"Rond\\u00f4nia\", \"genero\": \"Feminino\", \"mes\": \"Janeiro\", \"numero\": 3, \"regiao\": \"Norte\"}, {\"ano\": 2018, \"uf\": \"Rond\\u00f4nia\", \"genero\": \"Feminino\", \"mes\": \"Fevereiro\", \"numero\": 3, \"regiao\": \"Norte\"}, {\"ano\": 2018, \"uf\": \"Rond\\u00f4nia\", \"genero\": \"Feminino\", \"mes\": \"Mar\\u00e7o\", \"numero\": 0, \"regiao\": \"Norte\"}, {\"ano\": 2018, \"uf\": \"Rond\\u00f4nia\", \"genero\": \"Feminino\", \"mes\": \"Abril\", \"numero\": 0, \"regiao\": \"Norte\"}, {\"ano\": 2018, \"uf\": \"Rond\\u00f4nia\", \"genero\": \"Feminino\", \"mes\": \"Maio\", \"numero\": 0, \"regiao\": \"Norte\"}, {\"ano\": 2018, \"uf\": \"Rond\\u00f4nia\", \"genero\": \"Feminino\", \"mes\": \"Junho\", \"numero\": 0, \"regiao\": \"Norte\"}, {\"ano\": 2018, \"uf\": \"Rond\\u00f4nia\", \"genero\": \"Feminino\", \"mes\": \"Julho\", \"numero\": 1, \"regiao\": \"Norte\"}, {\"ano\": 2018, \"uf\": \"Rond\\u00f4nia\", \"genero\": \"Feminino\", \"mes\": \"Agosto\", \"numero\": 0, \"regiao\": \"Norte\"}, {\"ano\": 2018, \"uf\": \"Rond\\u00f4nia\", \"genero\": \"Feminino\", \"mes\": \"Setembro\", \"numero\": 1, \"regiao\": \"Norte\"}, {\"ano\": 2018, \"uf\": \"Rond\\u00f4nia\", \"genero\": \"Feminino\", \"mes\": \"Outubro\", \"numero\": 4, \"regiao\": \"Norte\"}, {\"ano\": 2018, \"uf\": \"Rond\\u00f4nia\", \"genero\": \"Feminino\", \"mes\": \"Novembro\", \"numero\": 2, \"regiao\": \"Norte\"}, {\"ano\": 2018, \"uf\": \"Rond\\u00f4nia\", \"genero\": \"Feminino\", \"mes\": \"Dezembro\", \"numero\": 4, \"regiao\": \"Norte\"}, {\"ano\": 2019, \"uf\": \"Rond\\u00f4nia\", \"genero\": \"Feminino\", \"mes\": \"Janeiro\", \"numero\": 2, \"regiao\": \"Norte\"}, {\"ano\": 2019, \"uf\": \"Rond\\u00f4nia\", \"genero\": \"Feminino\", \"mes\": \"Fevereiro\", \"numero\": 3, \"regiao\": \"Norte\"}, {\"ano\": 2019, \"uf\": \"Rond\\u00f4nia\", \"genero\": \"Feminino\", \"mes\": \"Mar\\u00e7o\", \"numero\": 4, \"regiao\": \"Norte\"}, {\"ano\": 2019, \"uf\": \"Rond\\u00f4nia\", \"genero\": \"Feminino\", \"mes\": \"Abril\", \"numero\": 4, \"regiao\": \"Norte\"}, {\"ano\": 2019, \"uf\": \"Rond\\u00f4nia\", \"genero\": \"Feminino\", \"mes\": \"Maio\", \"numero\": 0, \"regiao\": \"Norte\"}, {\"ano\": 2019, \"uf\": \"Rond\\u00f4nia\", \"genero\": \"Feminino\", \"mes\": \"Junho\", \"numero\": 2, \"regiao\": \"Norte\"}, {\"ano\": 2019, \"uf\": \"Rond\\u00f4nia\", \"genero\": \"Feminino\", \"mes\": \"Julho\", \"numero\": 2, \"regiao\": \"Norte\"}, {\"ano\": 2019, \"uf\": \"Rond\\u00f4nia\", \"genero\": \"Feminino\", \"mes\": \"Agosto\", \"numero\": 1, \"regiao\": \"Norte\"}, {\"ano\": 2019, \"uf\": \"Rond\\u00f4nia\", \"genero\": \"Feminino\", \"mes\": \"Setembro\", \"numero\": 2, \"regiao\": \"Norte\"}, {\"ano\": 2019, \"uf\": \"Rond\\u00f4nia\", \"genero\": \"Feminino\", \"mes\": \"Outubro\", \"numero\": 3, \"regiao\": \"Norte\"}, {\"ano\": 2019, \"uf\": \"Rond\\u00f4nia\", \"genero\": \"Feminino\", \"mes\": \"Novembro\", \"numero\": 3, \"regiao\": \"Norte\"}, {\"ano\": 2019, \"uf\": \"Rond\\u00f4nia\", \"genero\": \"Feminino\", \"mes\": \"Dezembro\", \"numero\": 3, \"regiao\": \"Norte\"}, {\"ano\": 2014, \"uf\": \"Acre\", \"genero\": \"Masculino\", \"mes\": \"Janeiro\", \"numero\": 0, \"regiao\": \"Norte\"}, {\"ano\": 2014, \"uf\": \"Acre\", \"genero\": \"Masculino\", \"mes\": \"Fevereiro\", \"numero\": 0, \"regiao\": \"Norte\"}, {\"ano\": 2014, \"uf\": \"Acre\", \"genero\": \"Masculino\", \"mes\": \"Mar\\u00e7o\", \"numero\": 1, \"regiao\": \"Norte\"}, {\"ano\": 2014, \"uf\": \"Acre\", \"genero\": \"Masculino\", \"mes\": \"Abril\", \"numero\": 0, \"regiao\": \"Norte\"}, {\"ano\": 2014, \"uf\": \"Acre\", \"genero\": \"Masculino\", \"mes\": \"Maio\", \"numero\": 1, \"regiao\": \"Norte\"}, {\"ano\": 2014, \"uf\": \"Acre\", \"genero\": \"Masculino\", \"mes\": \"Junho\", \"numero\": 0, \"regiao\": \"Norte\"}, {\"ano\": 2014, \"uf\": \"Acre\", \"genero\": \"Masculino\", \"mes\": \"Julho\", \"numero\": 0, \"regiao\": \"Norte\"}, {\"ano\": 2014, \"uf\": \"Acre\", \"genero\": \"Masculino\", \"mes\": \"Agosto\", \"numero\": 0, \"regiao\": \"Norte\"}, {\"ano\": 2014, \"uf\": \"Acre\", \"genero\": \"Masculino\", \"mes\": \"Setembro\", \"numero\": 0, \"regiao\": \"Norte\"}, {\"ano\": 2014, \"uf\": \"Acre\", \"genero\": \"Masculino\", \"mes\": \"Outubro\", \"numero\": 0, \"regiao\": \"Norte\"}, {\"ano\": 2014, \"uf\": \"Acre\", \"genero\": \"Masculino\", \"mes\": \"Novembro\", \"numero\": 1, \"regiao\": \"Norte\"}, {\"ano\": 2014, \"uf\": \"Acre\", \"genero\": \"Masculino\", \"mes\": \"Dezembro\", \"numero\": 0, \"regiao\": \"Norte\"}, {\"ano\": 2014, \"uf\": \"Acre\", \"genero\": \"Feminino\", \"mes\": \"Janeiro\", \"numero\": 1, \"regiao\": \"Norte\"}, {\"ano\": 2014, \"uf\": \"Acre\", \"genero\": \"Feminino\", \"mes\": \"Fevereiro\", \"numero\": 0, \"regiao\": \"Norte\"}, {\"ano\": 2014, \"uf\": \"Acre\", \"genero\": \"Feminino\", \"mes\": \"Mar\\u00e7o\", \"numero\": 0, \"regiao\": \"Norte\"}, {\"ano\": 2014, \"uf\": \"Acre\", \"genero\": \"Feminino\", \"mes\": \"Abril\", \"numero\": 0, \"regiao\": \"Norte\"}, {\"ano\": 2014, \"uf\": \"Acre\", \"genero\": \"Feminino\", \"mes\": \"Maio\", \"numero\": 0, \"regiao\": \"Norte\"}, {\"ano\": 2014, \"uf\": \"Acre\", \"genero\": \"Feminino\", \"mes\": \"Junho\", \"numero\": 0, \"regiao\": \"Norte\"}, {\"ano\": 2014, \"uf\": \"Acre\", \"genero\": \"Feminino\", \"mes\": \"Julho\", \"numero\": 0, \"regiao\": \"Norte\"}, {\"ano\": 2014, \"uf\": \"Acre\", \"genero\": \"Feminino\", \"mes\": \"Agosto\", \"numero\": 0, \"regiao\": \"Norte\"}, {\"ano\": 2014, \"uf\": \"Acre\", \"genero\": \"Feminino\", \"mes\": \"Setembro\", \"numero\": 0, \"regiao\": \"Norte\"}, {\"ano\": 2014, \"uf\": \"Acre\", \"genero\": \"Feminino\", \"mes\": \"Outubro\", \"numero\": 2, \"regiao\": \"Norte\"}, {\"ano\": 2014, \"uf\": \"Acre\", \"genero\": \"Feminino\", \"mes\": \"Novembro\", \"numero\": 0, \"regiao\": \"Norte\"}, {\"ano\": 2014, \"uf\": \"Acre\", \"genero\": \"Feminino\", \"mes\": \"Dezembro\", \"numero\": 0, \"regiao\": \"Norte\"}, {\"ano\": 2013, \"uf\": \"Acre\", \"genero\": \"Masculino\", \"mes\": \"Janeiro\", \"numero\": 0, \"regiao\": \"Norte\"}, {\"ano\": 2013, \"uf\": \"Acre\", \"genero\": \"Masculino\", \"mes\": \"Fevereiro\", \"numero\": 0, \"regiao\": \"Norte\"}, {\"ano\": 2013, \"uf\": \"Acre\", \"genero\": \"Masculino\", \"mes\": \"Mar\\u00e7o\", \"numero\": 0, \"regiao\": \"Norte\"}, {\"ano\": 2013, \"uf\": \"Acre\", \"genero\": \"Masculino\", \"mes\": \"Abril\", \"numero\": 0, \"regiao\": \"Norte\"}, {\"ano\": 2013, \"uf\": \"Acre\", \"genero\": \"Masculino\", \"mes\": \"Maio\", \"numero\": 0, \"regiao\": \"Norte\"}, {\"ano\": 2013, \"uf\": \"Acre\", \"genero\": \"Masculino\", \"mes\": \"Junho\", \"numero\": 0, \"regiao\": \"Norte\"}, {\"ano\": 2013, \"uf\": \"Acre\", \"genero\": \"Masculino\", \"mes\": \"Julho\", \"numero\": 0, \"regiao\": \"Norte\"}, {\"ano\": 2013, \"uf\": \"Acre\", \"genero\": \"Masculino\", \"mes\": \"Agosto\", \"numero\": 0, \"regiao\": \"Norte\"}, {\"ano\": 2013, \"uf\": \"Acre\", \"genero\": \"Masculino\", \"mes\": \"Setembro\", \"numero\": 0, \"regiao\": \"Norte\"}, {\"ano\": 2013, \"uf\": \"Acre\", \"genero\": \"Masculino\", \"mes\": \"Outubro\", \"numero\": 0, \"regiao\": \"Norte\"}, {\"ano\": 2013, \"uf\": \"Acre\", \"genero\": \"Masculino\", \"mes\": \"Novembro\", \"numero\": 0, \"regiao\": \"Norte\"}, {\"ano\": 2013, \"uf\": \"Acre\", \"genero\": \"Masculino\", \"mes\": \"Dezembro\", \"numero\": 0, \"regiao\": \"Norte\"}, {\"ano\": 2013, \"uf\": \"Acre\", \"genero\": \"Feminino\", \"mes\": \"Janeiro\", \"numero\": 0, \"regiao\": \"Norte\"}, {\"ano\": 2013, \"uf\": \"Acre\", \"genero\": \"Feminino\", \"mes\": \"Fevereiro\", \"numero\": 0, \"regiao\": \"Norte\"}, {\"ano\": 2013, \"uf\": \"Acre\", \"genero\": \"Feminino\", \"mes\": \"Mar\\u00e7o\", \"numero\": 0, \"regiao\": \"Norte\"}, {\"ano\": 2013, \"uf\": \"Acre\", \"genero\": \"Feminino\", \"mes\": \"Abril\", \"numero\": 0, \"regiao\": \"Norte\"}, {\"ano\": 2013, \"uf\": \"Acre\", \"genero\": \"Feminino\", \"mes\": \"Maio\", \"numero\": 0, \"regiao\": \"Norte\"}, {\"ano\": 2013, \"uf\": \"Acre\", \"genero\": \"Feminino\", \"mes\": \"Junho\", \"numero\": 0, \"regiao\": \"Norte\"}, {\"ano\": 2013, \"uf\": \"Acre\", \"genero\": \"Feminino\", \"mes\": \"Julho\", \"numero\": 0, \"regiao\": \"Norte\"}, {\"ano\": 2013, \"uf\": \"Acre\", \"genero\": \"Feminino\", \"mes\": \"Agosto\", \"numero\": 0, \"regiao\": \"Norte\"}, {\"ano\": 2013, \"uf\": \"Acre\", \"genero\": \"Feminino\", \"mes\": \"Setembro\", \"numero\": 0, \"regiao\": \"Norte\"}, {\"ano\": 2013, \"uf\": \"Acre\", \"genero\": \"Feminino\", \"mes\": \"Outubro\", \"numero\": 0, \"regiao\": \"Norte\"}, {\"ano\": 2013, \"uf\": \"Acre\", \"genero\": \"Feminino\", \"mes\": \"Novembro\", \"numero\": 0, \"regiao\": \"Norte\"}, {\"ano\": 2013, \"uf\": \"Acre\", \"genero\": \"Feminino\", \"mes\": \"Dezembro\", \"numero\": 0, \"regiao\": \"Norte\"}, {\"ano\": 2015, \"uf\": \"Acre\", \"genero\": \"Masculino\", \"mes\": \"Janeiro\", \"numero\": 0, \"regiao\": \"Norte\"}, {\"ano\": 2015, \"uf\": \"Acre\", \"genero\": \"Masculino\", \"mes\": \"Fevereiro\", \"numero\": 0, \"regiao\": \"Norte\"}, {\"ano\": 2015, \"uf\": \"Acre\", \"genero\": \"Masculino\", \"mes\": \"Mar\\u00e7o\", \"numero\": 0, \"regiao\": \"Norte\"}, {\"ano\": 2015, \"uf\": \"Acre\", \"genero\": \"Masculino\", \"mes\": \"Abril\", \"numero\": 0, \"regiao\": \"Norte\"}, {\"ano\": 2015, \"uf\": \"Acre\", \"genero\": \"Masculino\", \"mes\": \"Maio\", \"numero\": 0, \"regiao\": \"Norte\"}, {\"ano\": 2015, \"uf\": \"Acre\", \"genero\": \"Masculino\", \"mes\": \"Junho\", \"numero\": 0, \"regiao\": \"Norte\"}, {\"ano\": 2015, \"uf\": \"Acre\", \"genero\": \"Masculino\", \"mes\": \"Julho\", \"numero\": 0, \"regiao\": \"Norte\"}, {\"ano\": 2015, \"uf\": \"Acre\", \"genero\": \"Masculino\", \"mes\": \"Agosto\", \"numero\": 0, \"regiao\": \"Norte\"}, {\"ano\": 2015, \"uf\": \"Acre\", \"genero\": \"Masculino\", \"mes\": \"Setembro\", \"numero\": 0, \"regiao\": \"Norte\"}, {\"ano\": 2015, \"uf\": \"Acre\", \"genero\": \"Masculino\", \"mes\": \"Outubro\", \"numero\": 0, \"regiao\": \"Norte\"}, {\"ano\": 2015, \"uf\": \"Acre\", \"genero\": \"Masculino\", \"mes\": \"Novembro\", \"numero\": 0, \"regiao\": \"Norte\"}, {\"ano\": 2015, \"uf\": \"Acre\", \"genero\": \"Masculino\", \"mes\": \"Dezembro\", \"numero\": 0, \"regiao\": \"Norte\"}, {\"ano\": 2016, \"uf\": \"Acre\", \"genero\": \"Masculino\", \"mes\": \"Janeiro\", \"numero\": 0, \"regiao\": \"Norte\"}, {\"ano\": 2016, \"uf\": \"Acre\", \"genero\": \"Masculino\", \"mes\": \"Fevereiro\", \"numero\": 0, \"regiao\": \"Norte\"}, {\"ano\": 2016, \"uf\": \"Acre\", \"genero\": \"Masculino\", \"mes\": \"Mar\\u00e7o\", \"numero\": 0, \"regiao\": \"Norte\"}, {\"ano\": 2016, \"uf\": \"Acre\", \"genero\": \"Masculino\", \"mes\": \"Abril\", \"numero\": 0, \"regiao\": \"Norte\"}, {\"ano\": 2016, \"uf\": \"Acre\", \"genero\": \"Masculino\", \"mes\": \"Maio\", \"numero\": 0, \"regiao\": \"Norte\"}, {\"ano\": 2016, \"uf\": \"Acre\", \"genero\": \"Masculino\", \"mes\": \"Junho\", \"numero\": 0, \"regiao\": \"Norte\"}, {\"ano\": 2016, \"uf\": \"Acre\", \"genero\": \"Masculino\", \"mes\": \"Julho\", \"numero\": 0, \"regiao\": \"Norte\"}, {\"ano\": 2016, \"uf\": \"Acre\", \"genero\": \"Masculino\", \"mes\": \"Agosto\", \"numero\": 0, \"regiao\": \"Norte\"}, {\"ano\": 2016, \"uf\": \"Acre\", \"genero\": \"Masculino\", \"mes\": \"Setembro\", \"numero\": 0, \"regiao\": \"Norte\"}, {\"ano\": 2016, \"uf\": \"Acre\", \"genero\": \"Masculino\", \"mes\": \"Outubro\", \"numero\": 0, \"regiao\": \"Norte\"}, {\"ano\": 2016, \"uf\": \"Acre\", \"genero\": \"Masculino\", \"mes\": \"Novembro\", \"numero\": 0, \"regiao\": \"Norte\"}, {\"ano\": 2016, \"uf\": \"Acre\", \"genero\": \"Masculino\", \"mes\": \"Dezembro\", \"numero\": 0, \"regiao\": \"Norte\"}, {\"ano\": 2017, \"uf\": \"Acre\", \"genero\": \"Masculino\", \"mes\": \"Janeiro\", \"numero\": 0, \"regiao\": \"Norte\"}, {\"ano\": 2017, \"uf\": \"Acre\", \"genero\": \"Masculino\", \"mes\": \"Fevereiro\", \"numero\": 0, \"regiao\": \"Norte\"}, {\"ano\": 2017, \"uf\": \"Acre\", \"genero\": \"Masculino\", \"mes\": \"Mar\\u00e7o\", \"numero\": 0, \"regiao\": \"Norte\"}, {\"ano\": 2017, \"uf\": \"Acre\", \"genero\": \"Masculino\", \"mes\": \"Abril\", \"numero\": 0, \"regiao\": \"Norte\"}, {\"ano\": 2017, \"uf\": \"Acre\", \"genero\": \"Masculino\", \"mes\": \"Maio\", \"numero\": 0, \"regiao\": \"Norte\"}, {\"ano\": 2017, \"uf\": \"Acre\", \"genero\": \"Masculino\", \"mes\": \"Junho\", \"numero\": 0, \"regiao\": \"Norte\"}, {\"ano\": 2017, \"uf\": \"Acre\", \"genero\": \"Masculino\", \"mes\": \"Julho\", \"numero\": 0, \"regiao\": \"Norte\"}, {\"ano\": 2017, \"uf\": \"Acre\", \"genero\": \"Masculino\", \"mes\": \"Agosto\", \"numero\": 0, \"regiao\": \"Norte\"}, {\"ano\": 2017, \"uf\": \"Acre\", \"genero\": \"Masculino\", \"mes\": \"Setembro\", \"numero\": 0, \"regiao\": \"Norte\"}, {\"ano\": 2017, \"uf\": \"Acre\", \"genero\": \"Masculino\", \"mes\": \"Outubro\", \"numero\": 0, \"regiao\": \"Norte\"}, {\"ano\": 2017, \"uf\": \"Acre\", \"genero\": \"Masculino\", \"mes\": \"Novembro\", \"numero\": 0, \"regiao\": \"Norte\"}, {\"ano\": 2017, \"uf\": \"Acre\", \"genero\": \"Masculino\", \"mes\": \"Dezembro\", \"numero\": 3, \"regiao\": \"Norte\"}, {\"ano\": 2018, \"uf\": \"Acre\", \"genero\": \"Masculino\", \"mes\": \"Janeiro\", \"numero\": 0, \"regiao\": \"Norte\"}, {\"ano\": 2018, \"uf\": \"Acre\", \"genero\": \"Masculino\", \"mes\": \"Fevereiro\", \"numero\": 1, \"regiao\": \"Norte\"}, {\"ano\": 2018, \"uf\": \"Acre\", \"genero\": \"Masculino\", \"mes\": \"Mar\\u00e7o\", \"numero\": 0, \"regiao\": \"Norte\"}, {\"ano\": 2018, \"uf\": \"Acre\", \"genero\": \"Masculino\", \"mes\": \"Abril\", \"numero\": 0, \"regiao\": \"Norte\"}, {\"ano\": 2018, \"uf\": \"Acre\", \"genero\": \"Masculino\", \"mes\": \"Maio\", \"numero\": 0, \"regiao\": \"Norte\"}, {\"ano\": 2018, \"uf\": \"Acre\", \"genero\": \"Masculino\", \"mes\": \"Junho\", \"numero\": 0, \"regiao\": \"Norte\"}, {\"ano\": 2018, \"uf\": \"Acre\", \"genero\": \"Masculino\", \"mes\": \"Julho\", \"numero\": 0, \"regiao\": \"Norte\"}, {\"ano\": 2018, \"uf\": \"Acre\", \"genero\": \"Masculino\", \"mes\": \"Agosto\", \"numero\": 0, \"regiao\": \"Norte\"}, {\"ano\": 2018, \"uf\": \"Acre\", \"genero\": \"Masculino\", \"mes\": \"Setembro\", \"numero\": 1, \"regiao\": \"Norte\"}, {\"ano\": 2018, \"uf\": \"Acre\", \"genero\": \"Masculino\", \"mes\": \"Outubro\", \"numero\": 0, \"regiao\": \"Norte\"}, {\"ano\": 2018, \"uf\": \"Acre\", \"genero\": \"Masculino\", \"mes\": \"Novembro\", \"numero\": 1, \"regiao\": \"Norte\"}, {\"ano\": 2018, \"uf\": \"Acre\", \"genero\": \"Masculino\", \"mes\": \"Dezembro\", \"numero\": 3, \"regiao\": \"Norte\"}, {\"ano\": 2019, \"uf\": \"Acre\", \"genero\": \"Masculino\", \"mes\": \"Janeiro\", \"numero\": 0, \"regiao\": \"Norte\"}, {\"ano\": 2019, \"uf\": \"Acre\", \"genero\": \"Masculino\", \"mes\": \"Fevereiro\", \"numero\": 0, \"regiao\": \"Norte\"}, {\"ano\": 2019, \"uf\": \"Acre\", \"genero\": \"Masculino\", \"mes\": \"Mar\\u00e7o\", \"numero\": 0, \"regiao\": \"Norte\"}, {\"ano\": 2019, \"uf\": \"Acre\", \"genero\": \"Masculino\", \"mes\": \"Abril\", \"numero\": 0, \"regiao\": \"Norte\"}, {\"ano\": 2019, \"uf\": \"Acre\", \"genero\": \"Masculino\", \"mes\": \"Maio\", \"numero\": 0, \"regiao\": \"Norte\"}, {\"ano\": 2019, \"uf\": \"Acre\", \"genero\": \"Masculino\", \"mes\": \"Junho\", \"numero\": 1, \"regiao\": \"Norte\"}, {\"ano\": 2019, \"uf\": \"Acre\", \"genero\": \"Masculino\", \"mes\": \"Julho\", \"numero\": 2, \"regiao\": \"Norte\"}, {\"ano\": 2019, \"uf\": \"Acre\", \"genero\": \"Masculino\", \"mes\": \"Agosto\", \"numero\": 2, \"regiao\": \"Norte\"}, {\"ano\": 2019, \"uf\": \"Acre\", \"genero\": \"Masculino\", \"mes\": \"Setembro\", \"numero\": 0, \"regiao\": \"Norte\"}, {\"ano\": 2019, \"uf\": \"Acre\", \"genero\": \"Masculino\", \"mes\": \"Outubro\", \"numero\": 0, \"regiao\": \"Norte\"}, {\"ano\": 2019, \"uf\": \"Acre\", \"genero\": \"Masculino\", \"mes\": \"Novembro\", \"numero\": 0, \"regiao\": \"Norte\"}, {\"ano\": 2019, \"uf\": \"Acre\", \"genero\": \"Masculino\", \"mes\": \"Dezembro\", \"numero\": 1, \"regiao\": \"Norte\"}, {\"ano\": 2015, \"uf\": \"Acre\", \"genero\": \"Feminino\", \"mes\": \"Janeiro\", \"numero\": 0, \"regiao\": \"Norte\"}, {\"ano\": 2015, \"uf\": \"Acre\", \"genero\": \"Feminino\", \"mes\": \"Fevereiro\", \"numero\": 0, \"regiao\": \"Norte\"}, {\"ano\": 2015, \"uf\": \"Acre\", \"genero\": \"Feminino\", \"mes\": \"Mar\\u00e7o\", \"numero\": 0, \"regiao\": \"Norte\"}, {\"ano\": 2015, \"uf\": \"Acre\", \"genero\": \"Feminino\", \"mes\": \"Abril\", \"numero\": 0, \"regiao\": \"Norte\"}, {\"ano\": 2015, \"uf\": \"Acre\", \"genero\": \"Feminino\", \"mes\": \"Maio\", \"numero\": 0, \"regiao\": \"Norte\"}, {\"ano\": 2015, \"uf\": \"Acre\", \"genero\": \"Feminino\", \"mes\": \"Junho\", \"numero\": 0, \"regiao\": \"Norte\"}, {\"ano\": 2015, \"uf\": \"Acre\", \"genero\": \"Feminino\", \"mes\": \"Julho\", \"numero\": 1, \"regiao\": \"Norte\"}, {\"ano\": 2015, \"uf\": \"Acre\", \"genero\": \"Feminino\", \"mes\": \"Agosto\", \"numero\": 1, \"regiao\": \"Norte\"}, {\"ano\": 2015, \"uf\": \"Acre\", \"genero\": \"Feminino\", \"mes\": \"Setembro\", \"numero\": 1, \"regiao\": \"Norte\"}, {\"ano\": 2015, \"uf\": \"Acre\", \"genero\": \"Feminino\", \"mes\": \"Outubro\", \"numero\": 0, \"regiao\": \"Norte\"}, {\"ano\": 2015, \"uf\": \"Acre\", \"genero\": \"Feminino\", \"mes\": \"Novembro\", \"numero\": 1, \"regiao\": \"Norte\"}, {\"ano\": 2015, \"uf\": \"Acre\", \"genero\": \"Feminino\", \"mes\": \"Dezembro\", \"numero\": 2, \"regiao\": \"Norte\"}, {\"ano\": 2016, \"uf\": \"Acre\", \"genero\": \"Feminino\", \"mes\": \"Janeiro\", \"numero\": 0, \"regiao\": \"Norte\"}, {\"ano\": 2016, \"uf\": \"Acre\", \"genero\": \"Feminino\", \"mes\": \"Fevereiro\", \"numero\": 1, \"regiao\": \"Norte\"}, {\"ano\": 2016, \"uf\": \"Acre\", \"genero\": \"Feminino\", \"mes\": \"Mar\\u00e7o\", \"numero\": 1, \"regiao\": \"Norte\"}, {\"ano\": 2016, \"uf\": \"Acre\", \"genero\": \"Feminino\", \"mes\": \"Abril\", \"numero\": 0, \"regiao\": \"Norte\"}, {\"ano\": 2016, \"uf\": \"Acre\", \"genero\": \"Feminino\", \"mes\": \"Maio\", \"numero\": 0, \"regiao\": \"Norte\"}, {\"ano\": 2016, \"uf\": \"Acre\", \"genero\": \"Feminino\", \"mes\": \"Junho\", \"numero\": 0, \"regiao\": \"Norte\"}, {\"ano\": 2016, \"uf\": \"Acre\", \"genero\": \"Feminino\", \"mes\": \"Julho\", \"numero\": 0, \"regiao\": \"Norte\"}, {\"ano\": 2016, \"uf\": \"Acre\", \"genero\": \"Feminino\", \"mes\": \"Agosto\", \"numero\": 3, \"regiao\": \"Norte\"}, {\"ano\": 2016, \"uf\": \"Acre\", \"genero\": \"Feminino\", \"mes\": \"Setembro\", \"numero\": 0, \"regiao\": \"Norte\"}, {\"ano\": 2016, \"uf\": \"Acre\", \"genero\": \"Feminino\", \"mes\": \"Outubro\", \"numero\": 0, \"regiao\": \"Norte\"}, {\"ano\": 2016, \"uf\": \"Acre\", \"genero\": \"Feminino\", \"mes\": \"Novembro\", \"numero\": 0, \"regiao\": \"Norte\"}, {\"ano\": 2016, \"uf\": \"Acre\", \"genero\": \"Feminino\", \"mes\": \"Dezembro\", \"numero\": 0, \"regiao\": \"Norte\"}, {\"ano\": 2017, \"uf\": \"Acre\", \"genero\": \"Feminino\", \"mes\": \"Janeiro\", \"numero\": 1, \"regiao\": \"Norte\"}, {\"ano\": 2017, \"uf\": \"Acre\", \"genero\": \"Feminino\", \"mes\": \"Fevereiro\", \"numero\": 0, \"regiao\": \"Norte\"}, {\"ano\": 2017, \"uf\": \"Acre\", \"genero\": \"Feminino\", \"mes\": \"Mar\\u00e7o\", \"numero\": 0, \"regiao\": \"Norte\"}, {\"ano\": 2017, \"uf\": \"Acre\", \"genero\": \"Feminino\", \"mes\": \"Abril\", \"numero\": 1, \"regiao\": \"Norte\"}, {\"ano\": 2017, \"uf\": \"Acre\", \"genero\": \"Feminino\", \"mes\": \"Maio\", \"numero\": 1, \"regiao\": \"Norte\"}, {\"ano\": 2017, \"uf\": \"Acre\", \"genero\": \"Feminino\", \"mes\": \"Junho\", \"numero\": 1, \"regiao\": \"Norte\"}, {\"ano\": 2017, \"uf\": \"Acre\", \"genero\": \"Feminino\", \"mes\": \"Julho\", \"numero\": 1, \"regiao\": \"Norte\"}, {\"ano\": 2017, \"uf\": \"Acre\", \"genero\": \"Feminino\", \"mes\": \"Agosto\", \"numero\": 0, \"regiao\": \"Norte\"}, {\"ano\": 2017, \"uf\": \"Acre\", \"genero\": \"Feminino\", \"mes\": \"Setembro\", \"numero\": 0, \"regiao\": \"Norte\"}, {\"ano\": 2017, \"uf\": \"Acre\", \"genero\": \"Feminino\", \"mes\": \"Outubro\", \"numero\": 0, \"regiao\": \"Norte\"}, {\"ano\": 2017, \"uf\": \"Acre\", \"genero\": \"Feminino\", \"mes\": \"Novembro\", \"numero\": 1, \"regiao\": \"Norte\"}, {\"ano\": 2017, \"uf\": \"Acre\", \"genero\": \"Feminino\", \"mes\": \"Dezembro\", \"numero\": 10, \"regiao\": \"Norte\"}, {\"ano\": 2018, \"uf\": \"Acre\", \"genero\": \"Feminino\", \"mes\": \"Janeiro\", \"numero\": 0, \"regiao\": \"Norte\"}, {\"ano\": 2018, \"uf\": \"Acre\", \"genero\": \"Feminino\", \"mes\": \"Fevereiro\", \"numero\": 0, \"regiao\": \"Norte\"}, {\"ano\": 2018, \"uf\": \"Acre\", \"genero\": \"Feminino\", \"mes\": \"Mar\\u00e7o\", \"numero\": 1, \"regiao\": \"Norte\"}, {\"ano\": 2018, \"uf\": \"Acre\", \"genero\": \"Feminino\", \"mes\": \"Abril\", \"numero\": 1, \"regiao\": \"Norte\"}, {\"ano\": 2018, \"uf\": \"Acre\", \"genero\": \"Feminino\", \"mes\": \"Maio\", \"numero\": 1, \"regiao\": \"Norte\"}, {\"ano\": 2018, \"uf\": \"Acre\", \"genero\": \"Feminino\", \"mes\": \"Junho\", \"numero\": 0, \"regiao\": \"Norte\"}, {\"ano\": 2018, \"uf\": \"Acre\", \"genero\": \"Feminino\", \"mes\": \"Julho\", \"numero\": 1, \"regiao\": \"Norte\"}, {\"ano\": 2018, \"uf\": \"Acre\", \"genero\": \"Feminino\", \"mes\": \"Agosto\", \"numero\": 0, \"regiao\": \"Norte\"}, {\"ano\": 2018, \"uf\": \"Acre\", \"genero\": \"Feminino\", \"mes\": \"Setembro\", \"numero\": 0, \"regiao\": \"Norte\"}, {\"ano\": 2018, \"uf\": \"Acre\", \"genero\": \"Feminino\", \"mes\": \"Outubro\", \"numero\": 0, \"regiao\": \"Norte\"}, {\"ano\": 2018, \"uf\": \"Acre\", \"genero\": \"Feminino\", \"mes\": \"Novembro\", \"numero\": 0, \"regiao\": \"Norte\"}, {\"ano\": 2018, \"uf\": \"Acre\", \"genero\": \"Feminino\", \"mes\": \"Dezembro\", \"numero\": 8, \"regiao\": \"Norte\"}, {\"ano\": 2019, \"uf\": \"Acre\", \"genero\": \"Feminino\", \"mes\": \"Janeiro\", \"numero\": 1, \"regiao\": \"Norte\"}, {\"ano\": 2019, \"uf\": \"Acre\", \"genero\": \"Feminino\", \"mes\": \"Fevereiro\", \"numero\": 1, \"regiao\": \"Norte\"}, {\"ano\": 2019, \"uf\": \"Acre\", \"genero\": \"Feminino\", \"mes\": \"Mar\\u00e7o\", \"numero\": 1, \"regiao\": \"Norte\"}, {\"ano\": 2019, \"uf\": \"Acre\", \"genero\": \"Feminino\", \"mes\": \"Abril\", \"numero\": 0, \"regiao\": \"Norte\"}, {\"ano\": 2019, \"uf\": \"Acre\", \"genero\": \"Feminino\", \"mes\": \"Maio\", \"numero\": 1, \"regiao\": \"Norte\"}, {\"ano\": 2019, \"uf\": \"Acre\", \"genero\": \"Feminino\", \"mes\": \"Junho\", \"numero\": 1, \"regiao\": \"Norte\"}, {\"ano\": 2019, \"uf\": \"Acre\", \"genero\": \"Feminino\", \"mes\": \"Julho\", \"numero\": 1, \"regiao\": \"Norte\"}, {\"ano\": 2019, \"uf\": \"Acre\", \"genero\": \"Feminino\", \"mes\": \"Agosto\", \"numero\": 1, \"regiao\": \"Norte\"}, {\"ano\": 2019, \"uf\": \"Acre\", \"genero\": \"Feminino\", \"mes\": \"Setembro\", \"numero\": 1, \"regiao\": \"Norte\"}, {\"ano\": 2019, \"uf\": \"Acre\", \"genero\": \"Feminino\", \"mes\": \"Outubro\", \"numero\": 1, \"regiao\": \"Norte\"}, {\"ano\": 2019, \"uf\": \"Acre\", \"genero\": \"Feminino\", \"mes\": \"Novembro\", \"numero\": 0, \"regiao\": \"Norte\"}, {\"ano\": 2019, \"uf\": \"Acre\", \"genero\": \"Feminino\", \"mes\": \"Dezembro\", \"numero\": 0, \"regiao\": \"Norte\"}, {\"ano\": 2014, \"uf\": \"Amazonas\", \"genero\": \"Masculino\", \"mes\": \"Janeiro\", \"numero\": 1, \"regiao\": \"Norte\"}, {\"ano\": 2014, \"uf\": \"Amazonas\", \"genero\": \"Masculino\", \"mes\": \"Fevereiro\", \"numero\": 0, \"regiao\": \"Norte\"}, {\"ano\": 2014, \"uf\": \"Amazonas\", \"genero\": \"Masculino\", \"mes\": \"Mar\\u00e7o\", \"numero\": 2, \"regiao\": \"Norte\"}, {\"ano\": 2014, \"uf\": \"Amazonas\", \"genero\": \"Masculino\", \"mes\": \"Abril\", \"numero\": 1, \"regiao\": \"Norte\"}, {\"ano\": 2014, \"uf\": \"Amazonas\", \"genero\": \"Masculino\", \"mes\": \"Maio\", \"numero\": 1, \"regiao\": \"Norte\"}, {\"ano\": 2014, \"uf\": \"Amazonas\", \"genero\": \"Masculino\", \"mes\": \"Junho\", \"numero\": 2, \"regiao\": \"Norte\"}, {\"ano\": 2014, \"uf\": \"Amazonas\", \"genero\": \"Masculino\", \"mes\": \"Julho\", \"numero\": 1, \"regiao\": \"Norte\"}, {\"ano\": 2014, \"uf\": \"Amazonas\", \"genero\": \"Masculino\", \"mes\": \"Agosto\", \"numero\": 3, \"regiao\": \"Norte\"}, {\"ano\": 2014, \"uf\": \"Amazonas\", \"genero\": \"Masculino\", \"mes\": \"Setembro\", \"numero\": 4, \"regiao\": \"Norte\"}, {\"ano\": 2014, \"uf\": \"Amazonas\", \"genero\": \"Masculino\", \"mes\": \"Outubro\", \"numero\": 1, \"regiao\": \"Norte\"}, {\"ano\": 2014, \"uf\": \"Amazonas\", \"genero\": \"Masculino\", \"mes\": \"Novembro\", \"numero\": 1, \"regiao\": \"Norte\"}, {\"ano\": 2014, \"uf\": \"Amazonas\", \"genero\": \"Masculino\", \"mes\": \"Dezembro\", \"numero\": 2, \"regiao\": \"Norte\"}, {\"ano\": 2014, \"uf\": \"Amazonas\", \"genero\": \"Feminino\", \"mes\": \"Janeiro\", \"numero\": 0, \"regiao\": \"Norte\"}, {\"ano\": 2014, \"uf\": \"Amazonas\", \"genero\": \"Feminino\", \"mes\": \"Fevereiro\", \"numero\": 3, \"regiao\": \"Norte\"}, {\"ano\": 2014, \"uf\": \"Amazonas\", \"genero\": \"Feminino\", \"mes\": \"Mar\\u00e7o\", \"numero\": 0, \"regiao\": \"Norte\"}, {\"ano\": 2014, \"uf\": \"Amazonas\", \"genero\": \"Feminino\", \"mes\": \"Abril\", \"numero\": 0, \"regiao\": \"Norte\"}, {\"ano\": 2014, \"uf\": \"Amazonas\", \"genero\": \"Feminino\", \"mes\": \"Maio\", \"numero\": 0, \"regiao\": \"Norte\"}, {\"ano\": 2014, \"uf\": \"Amazonas\", \"genero\": \"Feminino\", \"mes\": \"Junho\", \"numero\": 0, \"regiao\": \"Norte\"}, {\"ano\": 2014, \"uf\": \"Amazonas\", \"genero\": \"Feminino\", \"mes\": \"Julho\", \"numero\": 2, \"regiao\": \"Norte\"}, {\"ano\": 2014, \"uf\": \"Amazonas\", \"genero\": \"Feminino\", \"mes\": \"Agosto\", \"numero\": 2, \"regiao\": \"Norte\"}, {\"ano\": 2014, \"uf\": \"Amazonas\", \"genero\": \"Feminino\", \"mes\": \"Setembro\", \"numero\": 10, \"regiao\": \"Norte\"}, {\"ano\": 2014, \"uf\": \"Amazonas\", \"genero\": \"Feminino\", \"mes\": \"Outubro\", \"numero\": 3, \"regiao\": \"Norte\"}, {\"ano\": 2014, \"uf\": \"Amazonas\", \"genero\": \"Feminino\", \"mes\": \"Novembro\", \"numero\": 1, \"regiao\": \"Norte\"}, {\"ano\": 2014, \"uf\": \"Amazonas\", \"genero\": \"Feminino\", \"mes\": \"Dezembro\", \"numero\": 4, \"regiao\": \"Norte\"}, {\"ano\": 2013, \"uf\": \"Amazonas\", \"genero\": \"Masculino\", \"mes\": \"Janeiro\", \"numero\": 0, \"regiao\": \"Norte\"}, {\"ano\": 2013, \"uf\": \"Amazonas\", \"genero\": \"Masculino\", \"mes\": \"Fevereiro\", \"numero\": 0, \"regiao\": \"Norte\"}, {\"ano\": 2013, \"uf\": \"Amazonas\", \"genero\": \"Masculino\", \"mes\": \"Mar\\u00e7o\", \"numero\": 0, \"regiao\": \"Norte\"}, {\"ano\": 2013, \"uf\": \"Amazonas\", \"genero\": \"Masculino\", \"mes\": \"Abril\", \"numero\": 0, \"regiao\": \"Norte\"}, {\"ano\": 2013, \"uf\": \"Amazonas\", \"genero\": \"Masculino\", \"mes\": \"Maio\", \"numero\": 0, \"regiao\": \"Norte\"}, {\"ano\": 2013, \"uf\": \"Amazonas\", \"genero\": \"Masculino\", \"mes\": \"Junho\", \"numero\": 0, \"regiao\": \"Norte\"}, {\"ano\": 2013, \"uf\": \"Amazonas\", \"genero\": \"Masculino\", \"mes\": \"Julho\", \"numero\": 0, \"regiao\": \"Norte\"}, {\"ano\": 2013, \"uf\": \"Amazonas\", \"genero\": \"Masculino\", \"mes\": \"Agosto\", \"numero\": 0, \"regiao\": \"Norte\"}, {\"ano\": 2013, \"uf\": \"Amazonas\", \"genero\": \"Masculino\", \"mes\": \"Setembro\", \"numero\": 2, \"regiao\": \"Norte\"}, {\"ano\": 2013, \"uf\": \"Amazonas\", \"genero\": \"Masculino\", \"mes\": \"Outubro\", \"numero\": 0, \"regiao\": \"Norte\"}, {\"ano\": 2013, \"uf\": \"Amazonas\", \"genero\": \"Masculino\", \"mes\": \"Novembro\", \"numero\": 1, \"regiao\": \"Norte\"}, {\"ano\": 2013, \"uf\": \"Amazonas\", \"genero\": \"Masculino\", \"mes\": \"Dezembro\", \"numero\": 1, \"regiao\": \"Norte\"}, {\"ano\": 2013, \"uf\": \"Amazonas\", \"genero\": \"Feminino\", \"mes\": \"Janeiro\", \"numero\": 0, \"regiao\": \"Norte\"}, {\"ano\": 2013, \"uf\": \"Amazonas\", \"genero\": \"Feminino\", \"mes\": \"Fevereiro\", \"numero\": 0, \"regiao\": \"Norte\"}, {\"ano\": 2013, \"uf\": \"Amazonas\", \"genero\": \"Feminino\", \"mes\": \"Mar\\u00e7o\", \"numero\": 0, \"regiao\": \"Norte\"}, {\"ano\": 2013, \"uf\": \"Amazonas\", \"genero\": \"Feminino\", \"mes\": \"Abril\", \"numero\": 0, \"regiao\": \"Norte\"}, {\"ano\": 2013, \"uf\": \"Amazonas\", \"genero\": \"Feminino\", \"mes\": \"Maio\", \"numero\": 0, \"regiao\": \"Norte\"}, {\"ano\": 2013, \"uf\": \"Amazonas\", \"genero\": \"Feminino\", \"mes\": \"Junho\", \"numero\": 0, \"regiao\": \"Norte\"}, {\"ano\": 2013, \"uf\": \"Amazonas\", \"genero\": \"Feminino\", \"mes\": \"Julho\", \"numero\": 2, \"regiao\": \"Norte\"}, {\"ano\": 2013, \"uf\": \"Amazonas\", \"genero\": \"Feminino\", \"mes\": \"Agosto\", \"numero\": 0, \"regiao\": \"Norte\"}, {\"ano\": 2013, \"uf\": \"Amazonas\", \"genero\": \"Feminino\", \"mes\": \"Setembro\", \"numero\": 0, \"regiao\": \"Norte\"}, {\"ano\": 2013, \"uf\": \"Amazonas\", \"genero\": \"Feminino\", \"mes\": \"Outubro\", \"numero\": 0, \"regiao\": \"Norte\"}, {\"ano\": 2013, \"uf\": \"Amazonas\", \"genero\": \"Feminino\", \"mes\": \"Novembro\", \"numero\": 1, \"regiao\": \"Norte\"}, {\"ano\": 2013, \"uf\": \"Amazonas\", \"genero\": \"Feminino\", \"mes\": \"Dezembro\", \"numero\": 0, \"regiao\": \"Norte\"}, {\"ano\": 2015, \"uf\": \"Amazonas\", \"genero\": \"Masculino\", \"mes\": \"Janeiro\", \"numero\": 0, \"regiao\": \"Norte\"}, {\"ano\": 2015, \"uf\": \"Amazonas\", \"genero\": \"Masculino\", \"mes\": \"Fevereiro\", \"numero\": 6, \"regiao\": \"Norte\"}, {\"ano\": 2015, \"uf\": \"Amazonas\", \"genero\": \"Masculino\", \"mes\": \"Mar\\u00e7o\", \"numero\": 3, \"regiao\": \"Norte\"}, {\"ano\": 2015, \"uf\": \"Amazonas\", \"genero\": \"Masculino\", \"mes\": \"Abril\", \"numero\": 2, \"regiao\": \"Norte\"}, {\"ano\": 2015, \"uf\": \"Amazonas\", \"genero\": \"Masculino\", \"mes\": \"Maio\", \"numero\": 4, \"regiao\": \"Norte\"}, {\"ano\": 2015, \"uf\": \"Amazonas\", \"genero\": \"Masculino\", \"mes\": \"Junho\", \"numero\": 4, \"regiao\": \"Norte\"}, {\"ano\": 2015, \"uf\": \"Amazonas\", \"genero\": \"Masculino\", \"mes\": \"Julho\", \"numero\": 7, \"regiao\": \"Norte\"}, {\"ano\": 2015, \"uf\": \"Amazonas\", \"genero\": \"Masculino\", \"mes\": \"Agosto\", \"numero\": 6, \"regiao\": \"Norte\"}, {\"ano\": 2015, \"uf\": \"Amazonas\", \"genero\": \"Masculino\", \"mes\": \"Setembro\", \"numero\": 0, \"regiao\": \"Norte\"}, {\"ano\": 2015, \"uf\": \"Amazonas\", \"genero\": \"Masculino\", \"mes\": \"Outubro\", \"numero\": 4, \"regiao\": \"Norte\"}, {\"ano\": 2015, \"uf\": \"Amazonas\", \"genero\": \"Masculino\", \"mes\": \"Novembro\", \"numero\": 3, \"regiao\": \"Norte\"}, {\"ano\": 2015, \"uf\": \"Amazonas\", \"genero\": \"Masculino\", \"mes\": \"Dezembro\", \"numero\": 5, \"regiao\": \"Norte\"}, {\"ano\": 2016, \"uf\": \"Amazonas\", \"genero\": \"Masculino\", \"mes\": \"Janeiro\", \"numero\": 7, \"regiao\": \"Norte\"}, {\"ano\": 2016, \"uf\": \"Amazonas\", \"genero\": \"Masculino\", \"mes\": \"Fevereiro\", \"numero\": 1, \"regiao\": \"Norte\"}, {\"ano\": 2016, \"uf\": \"Amazonas\", \"genero\": \"Masculino\", \"mes\": \"Mar\\u00e7o\", \"numero\": 5, \"regiao\": \"Norte\"}, {\"ano\": 2016, \"uf\": \"Amazonas\", \"genero\": \"Masculino\", \"mes\": \"Abril\", \"numero\": 2, \"regiao\": \"Norte\"}, {\"ano\": 2016, \"uf\": \"Amazonas\", \"genero\": \"Masculino\", \"mes\": \"Maio\", \"numero\": 1, \"regiao\": \"Norte\"}, {\"ano\": 2016, \"uf\": \"Amazonas\", \"genero\": \"Masculino\", \"mes\": \"Junho\", \"numero\": 3, \"regiao\": \"Norte\"}, {\"ano\": 2016, \"uf\": \"Amazonas\", \"genero\": \"Masculino\", \"mes\": \"Julho\", \"numero\": 2, \"regiao\": \"Norte\"}, {\"ano\": 2016, \"uf\": \"Amazonas\", \"genero\": \"Masculino\", \"mes\": \"Agosto\", \"numero\": 2, \"regiao\": \"Norte\"}, {\"ano\": 2016, \"uf\": \"Amazonas\", \"genero\": \"Masculino\", \"mes\": \"Setembro\", \"numero\": 0, \"regiao\": \"Norte\"}, {\"ano\": 2016, \"uf\": \"Amazonas\", \"genero\": \"Masculino\", \"mes\": \"Outubro\", \"numero\": 2, \"regiao\": \"Norte\"}, {\"ano\": 2016, \"uf\": \"Amazonas\", \"genero\": \"Masculino\", \"mes\": \"Novembro\", \"numero\": 3, \"regiao\": \"Norte\"}, {\"ano\": 2016, \"uf\": \"Amazonas\", \"genero\": \"Masculino\", \"mes\": \"Dezembro\", \"numero\": 3, \"regiao\": \"Norte\"}, {\"ano\": 2017, \"uf\": \"Amazonas\", \"genero\": \"Masculino\", \"mes\": \"Janeiro\", \"numero\": 1, \"regiao\": \"Norte\"}, {\"ano\": 2017, \"uf\": \"Amazonas\", \"genero\": \"Masculino\", \"mes\": \"Fevereiro\", \"numero\": 1, \"regiao\": \"Norte\"}, {\"ano\": 2017, \"uf\": \"Amazonas\", \"genero\": \"Masculino\", \"mes\": \"Mar\\u00e7o\", \"numero\": 0, \"regiao\": \"Norte\"}, {\"ano\": 2017, \"uf\": \"Amazonas\", \"genero\": \"Masculino\", \"mes\": \"Abril\", \"numero\": 0, \"regiao\": \"Norte\"}, {\"ano\": 2017, \"uf\": \"Amazonas\", \"genero\": \"Masculino\", \"mes\": \"Maio\", \"numero\": 1, \"regiao\": \"Norte\"}, {\"ano\": 2017, \"uf\": \"Amazonas\", \"genero\": \"Masculino\", \"mes\": \"Junho\", \"numero\": 0, \"regiao\": \"Norte\"}, {\"ano\": 2017, \"uf\": \"Amazonas\", \"genero\": \"Masculino\", \"mes\": \"Julho\", \"numero\": 3, \"regiao\": \"Norte\"}, {\"ano\": 2017, \"uf\": \"Amazonas\", \"genero\": \"Masculino\", \"mes\": \"Agosto\", \"numero\": 0, \"regiao\": \"Norte\"}, {\"ano\": 2017, \"uf\": \"Amazonas\", \"genero\": \"Masculino\", \"mes\": \"Setembro\", \"numero\": 0, \"regiao\": \"Norte\"}, {\"ano\": 2017, \"uf\": \"Amazonas\", \"genero\": \"Masculino\", \"mes\": \"Outubro\", \"numero\": 2, \"regiao\": \"Norte\"}, {\"ano\": 2017, \"uf\": \"Amazonas\", \"genero\": \"Masculino\", \"mes\": \"Novembro\", \"numero\": 4, \"regiao\": \"Norte\"}, {\"ano\": 2017, \"uf\": \"Amazonas\", \"genero\": \"Masculino\", \"mes\": \"Dezembro\", \"numero\": 1, \"regiao\": \"Norte\"}, {\"ano\": 2018, \"uf\": \"Amazonas\", \"genero\": \"Masculino\", \"mes\": \"Janeiro\", \"numero\": 1, \"regiao\": \"Norte\"}, {\"ano\": 2018, \"uf\": \"Amazonas\", \"genero\": \"Masculino\", \"mes\": \"Fevereiro\", \"numero\": 0, \"regiao\": \"Norte\"}, {\"ano\": 2018, \"uf\": \"Amazonas\", \"genero\": \"Masculino\", \"mes\": \"Mar\\u00e7o\", \"numero\": 2, \"regiao\": \"Norte\"}, {\"ano\": 2018, \"uf\": \"Amazonas\", \"genero\": \"Masculino\", \"mes\": \"Abril\", \"numero\": 0, \"regiao\": \"Norte\"}, {\"ano\": 2018, \"uf\": \"Amazonas\", \"genero\": \"Masculino\", \"mes\": \"Maio\", \"numero\": 2, \"regiao\": \"Norte\"}, {\"ano\": 2018, \"uf\": \"Amazonas\", \"genero\": \"Masculino\", \"mes\": \"Junho\", \"numero\": 2, \"regiao\": \"Norte\"}, {\"ano\": 2018, \"uf\": \"Amazonas\", \"genero\": \"Masculino\", \"mes\": \"Julho\", \"numero\": 0, \"regiao\": \"Norte\"}, {\"ano\": 2018, \"uf\": \"Amazonas\", \"genero\": \"Masculino\", \"mes\": \"Agosto\", \"numero\": 0, \"regiao\": \"Norte\"}, {\"ano\": 2018, \"uf\": \"Amazonas\", \"genero\": \"Masculino\", \"mes\": \"Setembro\", \"numero\": 0, \"regiao\": \"Norte\"}, {\"ano\": 2018, \"uf\": \"Amazonas\", \"genero\": \"Masculino\", \"mes\": \"Outubro\", \"numero\": 2, \"regiao\": \"Norte\"}, {\"ano\": 2018, \"uf\": \"Amazonas\", \"genero\": \"Masculino\", \"mes\": \"Novembro\", \"numero\": 4, \"regiao\": \"Norte\"}, {\"ano\": 2018, \"uf\": \"Amazonas\", \"genero\": \"Masculino\", \"mes\": \"Dezembro\", \"numero\": 5, \"regiao\": \"Norte\"}, {\"ano\": 2019, \"uf\": \"Amazonas\", \"genero\": \"Masculino\", \"mes\": \"Janeiro\", \"numero\": 8, \"regiao\": \"Norte\"}, {\"ano\": 2019, \"uf\": \"Amazonas\", \"genero\": \"Masculino\", \"mes\": \"Fevereiro\", \"numero\": 1, \"regiao\": \"Norte\"}, {\"ano\": 2019, \"uf\": \"Amazonas\", \"genero\": \"Masculino\", \"mes\": \"Mar\\u00e7o\", \"numero\": 1, \"regiao\": \"Norte\"}, {\"ano\": 2019, \"uf\": \"Amazonas\", \"genero\": \"Masculino\", \"mes\": \"Abril\", \"numero\": 0, \"regiao\": \"Norte\"}, {\"ano\": 2019, \"uf\": \"Amazonas\", \"genero\": \"Masculino\", \"mes\": \"Maio\", \"numero\": 3, \"regiao\": \"Norte\"}, {\"ano\": 2019, \"uf\": \"Amazonas\", \"genero\": \"Masculino\", \"mes\": \"Junho\", \"numero\": 2, \"regiao\": \"Norte\"}, {\"ano\": 2019, \"uf\": \"Amazonas\", \"genero\": \"Masculino\", \"mes\": \"Julho\", \"numero\": 2, \"regiao\": \"Norte\"}, {\"ano\": 2019, \"uf\": \"Amazonas\", \"genero\": \"Masculino\", \"mes\": \"Agosto\", \"numero\": 2, \"regiao\": \"Norte\"}, {\"ano\": 2019, \"uf\": \"Amazonas\", \"genero\": \"Masculino\", \"mes\": \"Setembro\", \"numero\": 1, \"regiao\": \"Norte\"}, {\"ano\": 2019, \"uf\": \"Amazonas\", \"genero\": \"Masculino\", \"mes\": \"Outubro\", \"numero\": 1, \"regiao\": \"Norte\"}, {\"ano\": 2019, \"uf\": \"Amazonas\", \"genero\": \"Masculino\", \"mes\": \"Novembro\", \"numero\": 0, \"regiao\": \"Norte\"}, {\"ano\": 2019, \"uf\": \"Amazonas\", \"genero\": \"Masculino\", \"mes\": \"Dezembro\", \"numero\": 1, \"regiao\": \"Norte\"}, {\"ano\": 2015, \"uf\": \"Amazonas\", \"genero\": \"Feminino\", \"mes\": \"Janeiro\", \"numero\": 2, \"regiao\": \"Norte\"}, {\"ano\": 2015, \"uf\": \"Amazonas\", \"genero\": \"Feminino\", \"mes\": \"Fevereiro\", \"numero\": 3, \"regiao\": \"Norte\"}, {\"ano\": 2015, \"uf\": \"Amazonas\", \"genero\": \"Feminino\", \"mes\": \"Mar\\u00e7o\", \"numero\": 2, \"regiao\": \"Norte\"}, {\"ano\": 2015, \"uf\": \"Amazonas\", \"genero\": \"Feminino\", \"mes\": \"Abril\", \"numero\": 2, \"regiao\": \"Norte\"}, {\"ano\": 2015, \"uf\": \"Amazonas\", \"genero\": \"Feminino\", \"mes\": \"Maio\", \"numero\": 3, \"regiao\": \"Norte\"}, {\"ano\": 2015, \"uf\": \"Amazonas\", \"genero\": \"Feminino\", \"mes\": \"Junho\", \"numero\": 3, \"regiao\": \"Norte\"}, {\"ano\": 2015, \"uf\": \"Amazonas\", \"genero\": \"Feminino\", \"mes\": \"Julho\", \"numero\": 28, \"regiao\": \"Norte\"}, {\"ano\": 2015, \"uf\": \"Amazonas\", \"genero\": \"Feminino\", \"mes\": \"Agosto\", \"numero\": 5, \"regiao\": \"Norte\"}, {\"ano\": 2015, \"uf\": \"Amazonas\", \"genero\": \"Feminino\", \"mes\": \"Setembro\", \"numero\": 3, \"regiao\": \"Norte\"}, {\"ano\": 2015, \"uf\": \"Amazonas\", \"genero\": \"Feminino\", \"mes\": \"Outubro\", \"numero\": 2, \"regiao\": \"Norte\"}, {\"ano\": 2015, \"uf\": \"Amazonas\", \"genero\": \"Feminino\", \"mes\": \"Novembro\", \"numero\": 1, \"regiao\": \"Norte\"}, {\"ano\": 2015, \"uf\": \"Amazonas\", \"genero\": \"Feminino\", \"mes\": \"Dezembro\", \"numero\": 0, \"regiao\": \"Norte\"}, {\"ano\": 2016, \"uf\": \"Amazonas\", \"genero\": \"Feminino\", \"mes\": \"Janeiro\", \"numero\": 1, \"regiao\": \"Norte\"}, {\"ano\": 2016, \"uf\": \"Amazonas\", \"genero\": \"Feminino\", \"mes\": \"Fevereiro\", \"numero\": 4, \"regiao\": \"Norte\"}, {\"ano\": 2016, \"uf\": \"Amazonas\", \"genero\": \"Feminino\", \"mes\": \"Mar\\u00e7o\", \"numero\": 10, \"regiao\": \"Norte\"}, {\"ano\": 2016, \"uf\": \"Amazonas\", \"genero\": \"Feminino\", \"mes\": \"Abril\", \"numero\": 4, \"regiao\": \"Norte\"}, {\"ano\": 2016, \"uf\": \"Amazonas\", \"genero\": \"Feminino\", \"mes\": \"Maio\", \"numero\": 3, \"regiao\": \"Norte\"}, {\"ano\": 2016, \"uf\": \"Amazonas\", \"genero\": \"Feminino\", \"mes\": \"Junho\", \"numero\": 1, \"regiao\": \"Norte\"}, {\"ano\": 2016, \"uf\": \"Amazonas\", \"genero\": \"Feminino\", \"mes\": \"Julho\", \"numero\": 1, \"regiao\": \"Norte\"}, {\"ano\": 2016, \"uf\": \"Amazonas\", \"genero\": \"Feminino\", \"mes\": \"Agosto\", \"numero\": 1, \"regiao\": \"Norte\"}, {\"ano\": 2016, \"uf\": \"Amazonas\", \"genero\": \"Feminino\", \"mes\": \"Setembro\", \"numero\": 2, \"regiao\": \"Norte\"}, {\"ano\": 2016, \"uf\": \"Amazonas\", \"genero\": \"Feminino\", \"mes\": \"Outubro\", \"numero\": 4, \"regiao\": \"Norte\"}, {\"ano\": 2016, \"uf\": \"Amazonas\", \"genero\": \"Feminino\", \"mes\": \"Novembro\", \"numero\": 3, \"regiao\": \"Norte\"}, {\"ano\": 2016, \"uf\": \"Amazonas\", \"genero\": \"Feminino\", \"mes\": \"Dezembro\", \"numero\": 5, \"regiao\": \"Norte\"}, {\"ano\": 2017, \"uf\": \"Amazonas\", \"genero\": \"Feminino\", \"mes\": \"Janeiro\", \"numero\": 2, \"regiao\": \"Norte\"}, {\"ano\": 2017, \"uf\": \"Amazonas\", \"genero\": \"Feminino\", \"mes\": \"Fevereiro\", \"numero\": 0, \"regiao\": \"Norte\"}, {\"ano\": 2017, \"uf\": \"Amazonas\", \"genero\": \"Feminino\", \"mes\": \"Mar\\u00e7o\", \"numero\": 0, \"regiao\": \"Norte\"}, {\"ano\": 2017, \"uf\": \"Amazonas\", \"genero\": \"Feminino\", \"mes\": \"Abril\", \"numero\": 0, \"regiao\": \"Norte\"}, {\"ano\": 2017, \"uf\": \"Amazonas\", \"genero\": \"Feminino\", \"mes\": \"Maio\", \"numero\": 1, \"regiao\": \"Norte\"}, {\"ano\": 2017, \"uf\": \"Amazonas\", \"genero\": \"Feminino\", \"mes\": \"Junho\", \"numero\": 3, \"regiao\": \"Norte\"}, {\"ano\": 2017, \"uf\": \"Amazonas\", \"genero\": \"Feminino\", \"mes\": \"Julho\", \"numero\": 1, \"regiao\": \"Norte\"}, {\"ano\": 2017, \"uf\": \"Amazonas\", \"genero\": \"Feminino\", \"mes\": \"Agosto\", \"numero\": 0, \"regiao\": \"Norte\"}, {\"ano\": 2017, \"uf\": \"Amazonas\", \"genero\": \"Feminino\", \"mes\": \"Setembro\", \"numero\": 5, \"regiao\": \"Norte\"}, {\"ano\": 2017, \"uf\": \"Amazonas\", \"genero\": \"Feminino\", \"mes\": \"Outubro\", \"numero\": 2, \"regiao\": \"Norte\"}, {\"ano\": 2017, \"uf\": \"Amazonas\", \"genero\": \"Feminino\", \"mes\": \"Novembro\", \"numero\": 1, \"regiao\": \"Norte\"}, {\"ano\": 2017, \"uf\": \"Amazonas\", \"genero\": \"Feminino\", \"mes\": \"Dezembro\", \"numero\": 7, \"regiao\": \"Norte\"}, {\"ano\": 2018, \"uf\": \"Amazonas\", \"genero\": \"Feminino\", \"mes\": \"Janeiro\", \"numero\": 1, \"regiao\": \"Norte\"}, {\"ano\": 2018, \"uf\": \"Amazonas\", \"genero\": \"Feminino\", \"mes\": \"Fevereiro\", \"numero\": 1, \"regiao\": \"Norte\"}, {\"ano\": 2018, \"uf\": \"Amazonas\", \"genero\": \"Feminino\", \"mes\": \"Mar\\u00e7o\", \"numero\": 5, \"regiao\": \"Norte\"}, {\"ano\": 2018, \"uf\": \"Amazonas\", \"genero\": \"Feminino\", \"mes\": \"Abril\", \"numero\": 0, \"regiao\": \"Norte\"}, {\"ano\": 2018, \"uf\": \"Amazonas\", \"genero\": \"Feminino\", \"mes\": \"Maio\", \"numero\": 2, \"regiao\": \"Norte\"}, {\"ano\": 2018, \"uf\": \"Amazonas\", \"genero\": \"Feminino\", \"mes\": \"Junho\", \"numero\": 3, \"regiao\": \"Norte\"}, {\"ano\": 2018, \"uf\": \"Amazonas\", \"genero\": \"Feminino\", \"mes\": \"Julho\", \"numero\": 0, \"regiao\": \"Norte\"}, {\"ano\": 2018, \"uf\": \"Amazonas\", \"genero\": \"Feminino\", \"mes\": \"Agosto\", \"numero\": 1, \"regiao\": \"Norte\"}, {\"ano\": 2018, \"uf\": \"Amazonas\", \"genero\": \"Feminino\", \"mes\": \"Setembro\", \"numero\": 3, \"regiao\": \"Norte\"}, {\"ano\": 2018, \"uf\": \"Amazonas\", \"genero\": \"Feminino\", \"mes\": \"Outubro\", \"numero\": 1, \"regiao\": \"Norte\"}, {\"ano\": 2018, \"uf\": \"Amazonas\", \"genero\": \"Feminino\", \"mes\": \"Novembro\", \"numero\": 3, \"regiao\": \"Norte\"}, {\"ano\": 2018, \"uf\": \"Amazonas\", \"genero\": \"Feminino\", \"mes\": \"Dezembro\", \"numero\": 11, \"regiao\": \"Norte\"}, {\"ano\": 2019, \"uf\": \"Amazonas\", \"genero\": \"Feminino\", \"mes\": \"Janeiro\", \"numero\": 3, \"regiao\": \"Norte\"}, {\"ano\": 2019, \"uf\": \"Amazonas\", \"genero\": \"Feminino\", \"mes\": \"Fevereiro\", \"numero\": 9, \"regiao\": \"Norte\"}, {\"ano\": 2019, \"uf\": \"Amazonas\", \"genero\": \"Feminino\", \"mes\": \"Mar\\u00e7o\", \"numero\": 2, \"regiao\": \"Norte\"}, {\"ano\": 2019, \"uf\": \"Amazonas\", \"genero\": \"Feminino\", \"mes\": \"Abril\", \"numero\": 3, \"regiao\": \"Norte\"}, {\"ano\": 2019, \"uf\": \"Amazonas\", \"genero\": \"Feminino\", \"mes\": \"Maio\", \"numero\": 6, \"regiao\": \"Norte\"}, {\"ano\": 2019, \"uf\": \"Amazonas\", \"genero\": \"Feminino\", \"mes\": \"Junho\", \"numero\": 5, \"regiao\": \"Norte\"}, {\"ano\": 2019, \"uf\": \"Amazonas\", \"genero\": \"Feminino\", \"mes\": \"Julho\", \"numero\": 2, \"regiao\": \"Norte\"}, {\"ano\": 2019, \"uf\": \"Amazonas\", \"genero\": \"Feminino\", \"mes\": \"Agosto\", \"numero\": 3, \"regiao\": \"Norte\"}, {\"ano\": 2019, \"uf\": \"Amazonas\", \"genero\": \"Feminino\", \"mes\": \"Setembro\", \"numero\": 4, \"regiao\": \"Norte\"}, {\"ano\": 2019, \"uf\": \"Amazonas\", \"genero\": \"Feminino\", \"mes\": \"Outubro\", \"numero\": 4, \"regiao\": \"Norte\"}, {\"ano\": 2019, \"uf\": \"Amazonas\", \"genero\": \"Feminino\", \"mes\": \"Novembro\", \"numero\": 3, \"regiao\": \"Norte\"}, {\"ano\": 2019, \"uf\": \"Amazonas\", \"genero\": \"Feminino\", \"mes\": \"Dezembro\", \"numero\": 2, \"regiao\": \"Norte\"}, {\"ano\": 2014, \"uf\": \"Roraima\", \"genero\": \"Masculino\", \"mes\": \"Janeiro\", \"numero\": 1, \"regiao\": \"Norte\"}, {\"ano\": 2014, \"uf\": \"Roraima\", \"genero\": \"Masculino\", \"mes\": \"Fevereiro\", \"numero\": 0, \"regiao\": \"Norte\"}, {\"ano\": 2014, \"uf\": \"Roraima\", \"genero\": \"Masculino\", \"mes\": \"Mar\\u00e7o\", \"numero\": 0, \"regiao\": \"Norte\"}, {\"ano\": 2014, \"uf\": \"Roraima\", \"genero\": \"Masculino\", \"mes\": \"Abril\", \"numero\": 0, \"regiao\": \"Norte\"}, {\"ano\": 2014, \"uf\": \"Roraima\", \"genero\": \"Masculino\", \"mes\": \"Maio\", \"numero\": 0, \"regiao\": \"Norte\"}, {\"ano\": 2014, \"uf\": \"Roraima\", \"genero\": \"Masculino\", \"mes\": \"Junho\", \"numero\": 0, \"regiao\": \"Norte\"}, {\"ano\": 2014, \"uf\": \"Roraima\", \"genero\": \"Masculino\", \"mes\": \"Julho\", \"numero\": 0, \"regiao\": \"Norte\"}, {\"ano\": 2014, \"uf\": \"Roraima\", \"genero\": \"Masculino\", \"mes\": \"Agosto\", \"numero\": 0, \"regiao\": \"Norte\"}, {\"ano\": 2014, \"uf\": \"Roraima\", \"genero\": \"Masculino\", \"mes\": \"Setembro\", \"numero\": 0, \"regiao\": \"Norte\"}, {\"ano\": 2014, \"uf\": \"Roraima\", \"genero\": \"Masculino\", \"mes\": \"Outubro\", \"numero\": 1, \"regiao\": \"Norte\"}, {\"ano\": 2014, \"uf\": \"Roraima\", \"genero\": \"Masculino\", \"mes\": \"Novembro\", \"numero\": 1, \"regiao\": \"Norte\"}, {\"ano\": 2014, \"uf\": \"Roraima\", \"genero\": \"Masculino\", \"mes\": \"Dezembro\", \"numero\": 0, \"regiao\": \"Norte\"}, {\"ano\": 2014, \"uf\": \"Roraima\", \"genero\": \"Feminino\", \"mes\": \"Janeiro\", \"numero\": 0, \"regiao\": \"Norte\"}, {\"ano\": 2014, \"uf\": \"Roraima\", \"genero\": \"Feminino\", \"mes\": \"Fevereiro\", \"numero\": 0, \"regiao\": \"Norte\"}, {\"ano\": 2014, \"uf\": \"Roraima\", \"genero\": \"Feminino\", \"mes\": \"Mar\\u00e7o\", \"numero\": 2, \"regiao\": \"Norte\"}, {\"ano\": 2014, \"uf\": \"Roraima\", \"genero\": \"Feminino\", \"mes\": \"Abril\", \"numero\": 0, \"regiao\": \"Norte\"}, {\"ano\": 2014, \"uf\": \"Roraima\", \"genero\": \"Feminino\", \"mes\": \"Maio\", \"numero\": 0, \"regiao\": \"Norte\"}, {\"ano\": 2014, \"uf\": \"Roraima\", \"genero\": \"Feminino\", \"mes\": \"Junho\", \"numero\": 0, \"regiao\": \"Norte\"}, {\"ano\": 2014, \"uf\": \"Roraima\", \"genero\": \"Feminino\", \"mes\": \"Julho\", \"numero\": 0, \"regiao\": \"Norte\"}, {\"ano\": 2014, \"uf\": \"Roraima\", \"genero\": \"Feminino\", \"mes\": \"Agosto\", \"numero\": 0, \"regiao\": \"Norte\"}, {\"ano\": 2014, \"uf\": \"Roraima\", \"genero\": \"Feminino\", \"mes\": \"Setembro\", \"numero\": 0, \"regiao\": \"Norte\"}, {\"ano\": 2014, \"uf\": \"Roraima\", \"genero\": \"Feminino\", \"mes\": \"Outubro\", \"numero\": 0, \"regiao\": \"Norte\"}, {\"ano\": 2014, \"uf\": \"Roraima\", \"genero\": \"Feminino\", \"mes\": \"Novembro\", \"numero\": 0, \"regiao\": \"Norte\"}, {\"ano\": 2014, \"uf\": \"Roraima\", \"genero\": \"Feminino\", \"mes\": \"Dezembro\", \"numero\": 0, \"regiao\": \"Norte\"}, {\"ano\": 2013, \"uf\": \"Roraima\", \"genero\": \"Masculino\", \"mes\": \"Janeiro\", \"numero\": 0, \"regiao\": \"Norte\"}, {\"ano\": 2013, \"uf\": \"Roraima\", \"genero\": \"Masculino\", \"mes\": \"Fevereiro\", \"numero\": 0, \"regiao\": \"Norte\"}, {\"ano\": 2013, \"uf\": \"Roraima\", \"genero\": \"Masculino\", \"mes\": \"Mar\\u00e7o\", \"numero\": 1, \"regiao\": \"Norte\"}, {\"ano\": 2013, \"uf\": \"Roraima\", \"genero\": \"Masculino\", \"mes\": \"Abril\", \"numero\": 0, \"regiao\": \"Norte\"}, {\"ano\": 2013, \"uf\": \"Roraima\", \"genero\": \"Masculino\", \"mes\": \"Maio\", \"numero\": 0, \"regiao\": \"Norte\"}, {\"ano\": 2013, \"uf\": \"Roraima\", \"genero\": \"Masculino\", \"mes\": \"Junho\", \"numero\": 0, \"regiao\": \"Norte\"}, {\"ano\": 2013, \"uf\": \"Roraima\", \"genero\": \"Masculino\", \"mes\": \"Julho\", \"numero\": 0, \"regiao\": \"Norte\"}, {\"ano\": 2013, \"uf\": \"Roraima\", \"genero\": \"Masculino\", \"mes\": \"Agosto\", \"numero\": 1, \"regiao\": \"Norte\"}, {\"ano\": 2013, \"uf\": \"Roraima\", \"genero\": \"Masculino\", \"mes\": \"Setembro\", \"numero\": 0, \"regiao\": \"Norte\"}, {\"ano\": 2013, \"uf\": \"Roraima\", \"genero\": \"Masculino\", \"mes\": \"Outubro\", \"numero\": 0, \"regiao\": \"Norte\"}, {\"ano\": 2013, \"uf\": \"Roraima\", \"genero\": \"Masculino\", \"mes\": \"Novembro\", \"numero\": 0, \"regiao\": \"Norte\"}, {\"ano\": 2013, \"uf\": \"Roraima\", \"genero\": \"Masculino\", \"mes\": \"Dezembro\", \"numero\": 0, \"regiao\": \"Norte\"}, {\"ano\": 2013, \"uf\": \"Roraima\", \"genero\": \"Feminino\", \"mes\": \"Janeiro\", \"numero\": 0, \"regiao\": \"Norte\"}, {\"ano\": 2013, \"uf\": \"Roraima\", \"genero\": \"Feminino\", \"mes\": \"Fevereiro\", \"numero\": 0, \"regiao\": \"Norte\"}, {\"ano\": 2013, \"uf\": \"Roraima\", \"genero\": \"Feminino\", \"mes\": \"Mar\\u00e7o\", \"numero\": 0, \"regiao\": \"Norte\"}, {\"ano\": 2013, \"uf\": \"Roraima\", \"genero\": \"Feminino\", \"mes\": \"Abril\", \"numero\": 0, \"regiao\": \"Norte\"}, {\"ano\": 2013, \"uf\": \"Roraima\", \"genero\": \"Feminino\", \"mes\": \"Maio\", \"numero\": 0, \"regiao\": \"Norte\"}, {\"ano\": 2013, \"uf\": \"Roraima\", \"genero\": \"Feminino\", \"mes\": \"Junho\", \"numero\": 0, \"regiao\": \"Norte\"}, {\"ano\": 2013, \"uf\": \"Roraima\", \"genero\": \"Feminino\", \"mes\": \"Julho\", \"numero\": 0, \"regiao\": \"Norte\"}, {\"ano\": 2013, \"uf\": \"Roraima\", \"genero\": \"Feminino\", \"mes\": \"Agosto\", \"numero\": 0, \"regiao\": \"Norte\"}, {\"ano\": 2013, \"uf\": \"Roraima\", \"genero\": \"Feminino\", \"mes\": \"Setembro\", \"numero\": 0, \"regiao\": \"Norte\"}, {\"ano\": 2013, \"uf\": \"Roraima\", \"genero\": \"Feminino\", \"mes\": \"Outubro\", \"numero\": 0, \"regiao\": \"Norte\"}, {\"ano\": 2013, \"uf\": \"Roraima\", \"genero\": \"Feminino\", \"mes\": \"Novembro\", \"numero\": 0, \"regiao\": \"Norte\"}, {\"ano\": 2013, \"uf\": \"Roraima\", \"genero\": \"Feminino\", \"mes\": \"Dezembro\", \"numero\": 0, \"regiao\": \"Norte\"}, {\"ano\": 2015, \"uf\": \"Roraima\", \"genero\": \"Masculino\", \"mes\": \"Janeiro\", \"numero\": 0, \"regiao\": \"Norte\"}, {\"ano\": 2015, \"uf\": \"Roraima\", \"genero\": \"Masculino\", \"mes\": \"Fevereiro\", \"numero\": 0, \"regiao\": \"Norte\"}, {\"ano\": 2015, \"uf\": \"Roraima\", \"genero\": \"Masculino\", \"mes\": \"Mar\\u00e7o\", \"numero\": 0, \"regiao\": \"Norte\"}, {\"ano\": 2015, \"uf\": \"Roraima\", \"genero\": \"Masculino\", \"mes\": \"Abril\", \"numero\": 0, \"regiao\": \"Norte\"}, {\"ano\": 2015, \"uf\": \"Roraima\", \"genero\": \"Masculino\", \"mes\": \"Maio\", \"numero\": 0, \"regiao\": \"Norte\"}, {\"ano\": 2015, \"uf\": \"Roraima\", \"genero\": \"Masculino\", \"mes\": \"Junho\", \"numero\": 0, \"regiao\": \"Norte\"}, {\"ano\": 2015, \"uf\": \"Roraima\", \"genero\": \"Masculino\", \"mes\": \"Julho\", \"numero\": 0, \"regiao\": \"Norte\"}, {\"ano\": 2015, \"uf\": \"Roraima\", \"genero\": \"Masculino\", \"mes\": \"Agosto\", \"numero\": 0, \"regiao\": \"Norte\"}, {\"ano\": 2015, \"uf\": \"Roraima\", \"genero\": \"Masculino\", \"mes\": \"Setembro\", \"numero\": 0, \"regiao\": \"Norte\"}, {\"ano\": 2015, \"uf\": \"Roraima\", \"genero\": \"Masculino\", \"mes\": \"Outubro\", \"numero\": 1, \"regiao\": \"Norte\"}, {\"ano\": 2015, \"uf\": \"Roraima\", \"genero\": \"Masculino\", \"mes\": \"Novembro\", \"numero\": 0, \"regiao\": \"Norte\"}, {\"ano\": 2015, \"uf\": \"Roraima\", \"genero\": \"Masculino\", \"mes\": \"Dezembro\", \"numero\": 0, \"regiao\": \"Norte\"}, {\"ano\": 2016, \"uf\": \"Roraima\", \"genero\": \"Masculino\", \"mes\": \"Janeiro\", \"numero\": 0, \"regiao\": \"Norte\"}, {\"ano\": 2016, \"uf\": \"Roraima\", \"genero\": \"Masculino\", \"mes\": \"Fevereiro\", \"numero\": 0, \"regiao\": \"Norte\"}, {\"ano\": 2016, \"uf\": \"Roraima\", \"genero\": \"Masculino\", \"mes\": \"Mar\\u00e7o\", \"numero\": 0, \"regiao\": \"Norte\"}, {\"ano\": 2016, \"uf\": \"Roraima\", \"genero\": \"Masculino\", \"mes\": \"Abril\", \"numero\": 1, \"regiao\": \"Norte\"}, {\"ano\": 2016, \"uf\": \"Roraima\", \"genero\": \"Masculino\", \"mes\": \"Maio\", \"numero\": 0, \"regiao\": \"Norte\"}, {\"ano\": 2016, \"uf\": \"Roraima\", \"genero\": \"Masculino\", \"mes\": \"Junho\", \"numero\": 0, \"regiao\": \"Norte\"}, {\"ano\": 2016, \"uf\": \"Roraima\", \"genero\": \"Masculino\", \"mes\": \"Julho\", \"numero\": 0, \"regiao\": \"Norte\"}, {\"ano\": 2016, \"uf\": \"Roraima\", \"genero\": \"Masculino\", \"mes\": \"Agosto\", \"numero\": 0, \"regiao\": \"Norte\"}, {\"ano\": 2016, \"uf\": \"Roraima\", \"genero\": \"Masculino\", \"mes\": \"Setembro\", \"numero\": 0, \"regiao\": \"Norte\"}, {\"ano\": 2016, \"uf\": \"Roraima\", \"genero\": \"Masculino\", \"mes\": \"Outubro\", \"numero\": 0, \"regiao\": \"Norte\"}, {\"ano\": 2016, \"uf\": \"Roraima\", \"genero\": \"Masculino\", \"mes\": \"Novembro\", \"numero\": 0, \"regiao\": \"Norte\"}, {\"ano\": 2016, \"uf\": \"Roraima\", \"genero\": \"Masculino\", \"mes\": \"Dezembro\", \"numero\": 1, \"regiao\": \"Norte\"}, {\"ano\": 2017, \"uf\": \"Roraima\", \"genero\": \"Masculino\", \"mes\": \"Janeiro\", \"numero\": 1, \"regiao\": \"Norte\"}, {\"ano\": 2017, \"uf\": \"Roraima\", \"genero\": \"Masculino\", \"mes\": \"Fevereiro\", \"numero\": 1, \"regiao\": \"Norte\"}, {\"ano\": 2017, \"uf\": \"Roraima\", \"genero\": \"Masculino\", \"mes\": \"Mar\\u00e7o\", \"numero\": 2, \"regiao\": \"Norte\"}, {\"ano\": 2017, \"uf\": \"Roraima\", \"genero\": \"Masculino\", \"mes\": \"Abril\", \"numero\": 0, \"regiao\": \"Norte\"}, {\"ano\": 2017, \"uf\": \"Roraima\", \"genero\": \"Masculino\", \"mes\": \"Maio\", \"numero\": 0, \"regiao\": \"Norte\"}, {\"ano\": 2017, \"uf\": \"Roraima\", \"genero\": \"Masculino\", \"mes\": \"Junho\", \"numero\": 0, \"regiao\": \"Norte\"}, {\"ano\": 2017, \"uf\": \"Roraima\", \"genero\": \"Masculino\", \"mes\": \"Julho\", \"numero\": 0, \"regiao\": \"Norte\"}, {\"ano\": 2017, \"uf\": \"Roraima\", \"genero\": \"Masculino\", \"mes\": \"Agosto\", \"numero\": 0, \"regiao\": \"Norte\"}, {\"ano\": 2017, \"uf\": \"Roraima\", \"genero\": \"Masculino\", \"mes\": \"Setembro\", \"numero\": 0, \"regiao\": \"Norte\"}, {\"ano\": 2017, \"uf\": \"Roraima\", \"genero\": \"Masculino\", \"mes\": \"Outubro\", \"numero\": 0, \"regiao\": \"Norte\"}, {\"ano\": 2017, \"uf\": \"Roraima\", \"genero\": \"Masculino\", \"mes\": \"Novembro\", \"numero\": 0, \"regiao\": \"Norte\"}, {\"ano\": 2017, \"uf\": \"Roraima\", \"genero\": \"Masculino\", \"mes\": \"Dezembro\", \"numero\": 2, \"regiao\": \"Norte\"}, {\"ano\": 2018, \"uf\": \"Roraima\", \"genero\": \"Masculino\", \"mes\": \"Janeiro\", \"numero\": 0, \"regiao\": \"Norte\"}, {\"ano\": 2018, \"uf\": \"Roraima\", \"genero\": \"Masculino\", \"mes\": \"Fevereiro\", \"numero\": 0, \"regiao\": \"Norte\"}, {\"ano\": 2018, \"uf\": \"Roraima\", \"genero\": \"Masculino\", \"mes\": \"Mar\\u00e7o\", \"numero\": 0, \"regiao\": \"Norte\"}, {\"ano\": 2018, \"uf\": \"Roraima\", \"genero\": \"Masculino\", \"mes\": \"Abril\", \"numero\": 0, \"regiao\": \"Norte\"}, {\"ano\": 2018, \"uf\": \"Roraima\", \"genero\": \"Masculino\", \"mes\": \"Maio\", \"numero\": 0, \"regiao\": \"Norte\"}, {\"ano\": 2018, \"uf\": \"Roraima\", \"genero\": \"Masculino\", \"mes\": \"Junho\", \"numero\": 0, \"regiao\": \"Norte\"}, {\"ano\": 2018, \"uf\": \"Roraima\", \"genero\": \"Masculino\", \"mes\": \"Julho\", \"numero\": 0, \"regiao\": \"Norte\"}, {\"ano\": 2018, \"uf\": \"Roraima\", \"genero\": \"Masculino\", \"mes\": \"Agosto\", \"numero\": 0, \"regiao\": \"Norte\"}, {\"ano\": 2018, \"uf\": \"Roraima\", \"genero\": \"Masculino\", \"mes\": \"Setembro\", \"numero\": 1, \"regiao\": \"Norte\"}, {\"ano\": 2018, \"uf\": \"Roraima\", \"genero\": \"Masculino\", \"mes\": \"Outubro\", \"numero\": 0, \"regiao\": \"Norte\"}, {\"ano\": 2018, \"uf\": \"Roraima\", \"genero\": \"Masculino\", \"mes\": \"Novembro\", \"numero\": 0, \"regiao\": \"Norte\"}, {\"ano\": 2018, \"uf\": \"Roraima\", \"genero\": \"Masculino\", \"mes\": \"Dezembro\", \"numero\": 0, \"regiao\": \"Norte\"}, {\"ano\": 2019, \"uf\": \"Roraima\", \"genero\": \"Masculino\", \"mes\": \"Janeiro\", \"numero\": 0, \"regiao\": \"Norte\"}, {\"ano\": 2019, \"uf\": \"Roraima\", \"genero\": \"Masculino\", \"mes\": \"Fevereiro\", \"numero\": 1, \"regiao\": \"Norte\"}, {\"ano\": 2019, \"uf\": \"Roraima\", \"genero\": \"Masculino\", \"mes\": \"Mar\\u00e7o\", \"numero\": 0, \"regiao\": \"Norte\"}, {\"ano\": 2019, \"uf\": \"Roraima\", \"genero\": \"Masculino\", \"mes\": \"Abril\", \"numero\": 2, \"regiao\": \"Norte\"}, {\"ano\": 2019, \"uf\": \"Roraima\", \"genero\": \"Masculino\", \"mes\": \"Maio\", \"numero\": 1, \"regiao\": \"Norte\"}, {\"ano\": 2019, \"uf\": \"Roraima\", \"genero\": \"Masculino\", \"mes\": \"Junho\", \"numero\": 0, \"regiao\": \"Norte\"}, {\"ano\": 2019, \"uf\": \"Roraima\", \"genero\": \"Masculino\", \"mes\": \"Julho\", \"numero\": 1, \"regiao\": \"Norte\"}, {\"ano\": 2019, \"uf\": \"Roraima\", \"genero\": \"Masculino\", \"mes\": \"Agosto\", \"numero\": 1, \"regiao\": \"Norte\"}, {\"ano\": 2019, \"uf\": \"Roraima\", \"genero\": \"Masculino\", \"mes\": \"Setembro\", \"numero\": 1, \"regiao\": \"Norte\"}, {\"ano\": 2019, \"uf\": \"Roraima\", \"genero\": \"Masculino\", \"mes\": \"Outubro\", \"numero\": 0, \"regiao\": \"Norte\"}, {\"ano\": 2019, \"uf\": \"Roraima\", \"genero\": \"Masculino\", \"mes\": \"Novembro\", \"numero\": 0, \"regiao\": \"Norte\"}, {\"ano\": 2019, \"uf\": \"Roraima\", \"genero\": \"Masculino\", \"mes\": \"Dezembro\", \"numero\": 0, \"regiao\": \"Norte\"}, {\"ano\": 2015, \"uf\": \"Roraima\", \"genero\": \"Feminino\", \"mes\": \"Janeiro\", \"numero\": 0, \"regiao\": \"Norte\"}, {\"ano\": 2015, \"uf\": \"Roraima\", \"genero\": \"Feminino\", \"mes\": \"Fevereiro\", \"numero\": 0, \"regiao\": \"Norte\"}, {\"ano\": 2015, \"uf\": \"Roraima\", \"genero\": \"Feminino\", \"mes\": \"Mar\\u00e7o\", \"numero\": 0, \"regiao\": \"Norte\"}, {\"ano\": 2015, \"uf\": \"Roraima\", \"genero\": \"Feminino\", \"mes\": \"Abril\", \"numero\": 1, \"regiao\": \"Norte\"}, {\"ano\": 2015, \"uf\": \"Roraima\", \"genero\": \"Feminino\", \"mes\": \"Maio\", \"numero\": 0, \"regiao\": \"Norte\"}, {\"ano\": 2015, \"uf\": \"Roraima\", \"genero\": \"Feminino\", \"mes\": \"Junho\", \"numero\": 1, \"regiao\": \"Norte\"}, {\"ano\": 2015, \"uf\": \"Roraima\", \"genero\": \"Feminino\", \"mes\": \"Julho\", \"numero\": 0, \"regiao\": \"Norte\"}, {\"ano\": 2015, \"uf\": \"Roraima\", \"genero\": \"Feminino\", \"mes\": \"Agosto\", \"numero\": 0, \"regiao\": \"Norte\"}, {\"ano\": 2015, \"uf\": \"Roraima\", \"genero\": \"Feminino\", \"mes\": \"Setembro\", \"numero\": 2, \"regiao\": \"Norte\"}, {\"ano\": 2015, \"uf\": \"Roraima\", \"genero\": \"Feminino\", \"mes\": \"Outubro\", \"numero\": 0, \"regiao\": \"Norte\"}, {\"ano\": 2015, \"uf\": \"Roraima\", \"genero\": \"Feminino\", \"mes\": \"Novembro\", \"numero\": 1, \"regiao\": \"Norte\"}, {\"ano\": 2015, \"uf\": \"Roraima\", \"genero\": \"Feminino\", \"mes\": \"Dezembro\", \"numero\": 1, \"regiao\": \"Norte\"}, {\"ano\": 2016, \"uf\": \"Roraima\", \"genero\": \"Feminino\", \"mes\": \"Janeiro\", \"numero\": 0, \"regiao\": \"Norte\"}, {\"ano\": 2016, \"uf\": \"Roraima\", \"genero\": \"Feminino\", \"mes\": \"Fevereiro\", \"numero\": 0, \"regiao\": \"Norte\"}, {\"ano\": 2016, \"uf\": \"Roraima\", \"genero\": \"Feminino\", \"mes\": \"Mar\\u00e7o\", \"numero\": 0, \"regiao\": \"Norte\"}, {\"ano\": 2016, \"uf\": \"Roraima\", \"genero\": \"Feminino\", \"mes\": \"Abril\", \"numero\": 0, \"regiao\": \"Norte\"}, {\"ano\": 2016, \"uf\": \"Roraima\", \"genero\": \"Feminino\", \"mes\": \"Maio\", \"numero\": 0, \"regiao\": \"Norte\"}, {\"ano\": 2016, \"uf\": \"Roraima\", \"genero\": \"Feminino\", \"mes\": \"Junho\", \"numero\": 0, \"regiao\": \"Norte\"}, {\"ano\": 2016, \"uf\": \"Roraima\", \"genero\": \"Feminino\", \"mes\": \"Julho\", \"numero\": 1, \"regiao\": \"Norte\"}, {\"ano\": 2016, \"uf\": \"Roraima\", \"genero\": \"Feminino\", \"mes\": \"Agosto\", \"numero\": 0, \"regiao\": \"Norte\"}, {\"ano\": 2016, \"uf\": \"Roraima\", \"genero\": \"Feminino\", \"mes\": \"Setembro\", \"numero\": 0, \"regiao\": \"Norte\"}, {\"ano\": 2016, \"uf\": \"Roraima\", \"genero\": \"Feminino\", \"mes\": \"Outubro\", \"numero\": 0, \"regiao\": \"Norte\"}, {\"ano\": 2016, \"uf\": \"Roraima\", \"genero\": \"Feminino\", \"mes\": \"Novembro\", \"numero\": 1, \"regiao\": \"Norte\"}, {\"ano\": 2016, \"uf\": \"Roraima\", \"genero\": \"Feminino\", \"mes\": \"Dezembro\", \"numero\": 0, \"regiao\": \"Norte\"}, {\"ano\": 2017, \"uf\": \"Roraima\", \"genero\": \"Feminino\", \"mes\": \"Janeiro\", \"numero\": 0, \"regiao\": \"Norte\"}, {\"ano\": 2017, \"uf\": \"Roraima\", \"genero\": \"Feminino\", \"mes\": \"Fevereiro\", \"numero\": 1, \"regiao\": \"Norte\"}, {\"ano\": 2017, \"uf\": \"Roraima\", \"genero\": \"Feminino\", \"mes\": \"Mar\\u00e7o\", \"numero\": 2, \"regiao\": \"Norte\"}, {\"ano\": 2017, \"uf\": \"Roraima\", \"genero\": \"Feminino\", \"mes\": \"Abril\", \"numero\": 0, \"regiao\": \"Norte\"}, {\"ano\": 2017, \"uf\": \"Roraima\", \"genero\": \"Feminino\", \"mes\": \"Maio\", \"numero\": 1, \"regiao\": \"Norte\"}, {\"ano\": 2017, \"uf\": \"Roraima\", \"genero\": \"Feminino\", \"mes\": \"Junho\", \"numero\": 0, \"regiao\": \"Norte\"}, {\"ano\": 2017, \"uf\": \"Roraima\", \"genero\": \"Feminino\", \"mes\": \"Julho\", \"numero\": 0, \"regiao\": \"Norte\"}, {\"ano\": 2017, \"uf\": \"Roraima\", \"genero\": \"Feminino\", \"mes\": \"Agosto\", \"numero\": 0, \"regiao\": \"Norte\"}, {\"ano\": 2017, \"uf\": \"Roraima\", \"genero\": \"Feminino\", \"mes\": \"Setembro\", \"numero\": 0, \"regiao\": \"Norte\"}, {\"ano\": 2017, \"uf\": \"Roraima\", \"genero\": \"Feminino\", \"mes\": \"Outubro\", \"numero\": 0, \"regiao\": \"Norte\"}, {\"ano\": 2017, \"uf\": \"Roraima\", \"genero\": \"Feminino\", \"mes\": \"Novembro\", \"numero\": 1, \"regiao\": \"Norte\"}, {\"ano\": 2017, \"uf\": \"Roraima\", \"genero\": \"Feminino\", \"mes\": \"Dezembro\", \"numero\": 0, \"regiao\": \"Norte\"}, {\"ano\": 2018, \"uf\": \"Roraima\", \"genero\": \"Feminino\", \"mes\": \"Janeiro\", \"numero\": 0, \"regiao\": \"Norte\"}, {\"ano\": 2018, \"uf\": \"Roraima\", \"genero\": \"Feminino\", \"mes\": \"Fevereiro\", \"numero\": 0, \"regiao\": \"Norte\"}, {\"ano\": 2018, \"uf\": \"Roraima\", \"genero\": \"Feminino\", \"mes\": \"Mar\\u00e7o\", \"numero\": 0, \"regiao\": \"Norte\"}, {\"ano\": 2018, \"uf\": \"Roraima\", \"genero\": \"Feminino\", \"mes\": \"Abril\", \"numero\": 0, \"regiao\": \"Norte\"}, {\"ano\": 2018, \"uf\": \"Roraima\", \"genero\": \"Feminino\", \"mes\": \"Maio\", \"numero\": 0, \"regiao\": \"Norte\"}, {\"ano\": 2018, \"uf\": \"Roraima\", \"genero\": \"Feminino\", \"mes\": \"Junho\", \"numero\": 0, \"regiao\": \"Norte\"}, {\"ano\": 2018, \"uf\": \"Roraima\", \"genero\": \"Feminino\", \"mes\": \"Julho\", \"numero\": 0, \"regiao\": \"Norte\"}, {\"ano\": 2018, \"uf\": \"Roraima\", \"genero\": \"Feminino\", \"mes\": \"Agosto\", \"numero\": 0, \"regiao\": \"Norte\"}, {\"ano\": 2018, \"uf\": \"Roraima\", \"genero\": \"Feminino\", \"mes\": \"Setembro\", \"numero\": 0, \"regiao\": \"Norte\"}, {\"ano\": 2018, \"uf\": \"Roraima\", \"genero\": \"Feminino\", \"mes\": \"Outubro\", \"numero\": 1, \"regiao\": \"Norte\"}, {\"ano\": 2018, \"uf\": \"Roraima\", \"genero\": \"Feminino\", \"mes\": \"Novembro\", \"numero\": 1, \"regiao\": \"Norte\"}, {\"ano\": 2018, \"uf\": \"Roraima\", \"genero\": \"Feminino\", \"mes\": \"Dezembro\", \"numero\": 2, \"regiao\": \"Norte\"}, {\"ano\": 2019, \"uf\": \"Roraima\", \"genero\": \"Feminino\", \"mes\": \"Janeiro\", \"numero\": 0, \"regiao\": \"Norte\"}, {\"ano\": 2019, \"uf\": \"Roraima\", \"genero\": \"Feminino\", \"mes\": \"Fevereiro\", \"numero\": 1, \"regiao\": \"Norte\"}, {\"ano\": 2019, \"uf\": \"Roraima\", \"genero\": \"Feminino\", \"mes\": \"Mar\\u00e7o\", \"numero\": 0, \"regiao\": \"Norte\"}, {\"ano\": 2019, \"uf\": \"Roraima\", \"genero\": \"Feminino\", \"mes\": \"Abril\", \"numero\": 1, \"regiao\": \"Norte\"}, {\"ano\": 2019, \"uf\": \"Roraima\", \"genero\": \"Feminino\", \"mes\": \"Maio\", \"numero\": 1, \"regiao\": \"Norte\"}, {\"ano\": 2019, \"uf\": \"Roraima\", \"genero\": \"Feminino\", \"mes\": \"Junho\", \"numero\": 1, \"regiao\": \"Norte\"}, {\"ano\": 2019, \"uf\": \"Roraima\", \"genero\": \"Feminino\", \"mes\": \"Julho\", \"numero\": 0, \"regiao\": \"Norte\"}, {\"ano\": 2019, \"uf\": \"Roraima\", \"genero\": \"Feminino\", \"mes\": \"Agosto\", \"numero\": 6, \"regiao\": \"Norte\"}, {\"ano\": 2019, \"uf\": \"Roraima\", \"genero\": \"Feminino\", \"mes\": \"Setembro\", \"numero\": 0, \"regiao\": \"Norte\"}, {\"ano\": 2019, \"uf\": \"Roraima\", \"genero\": \"Feminino\", \"mes\": \"Outubro\", \"numero\": 0, \"regiao\": \"Norte\"}, {\"ano\": 2019, \"uf\": \"Roraima\", \"genero\": \"Feminino\", \"mes\": \"Novembro\", \"numero\": 0, \"regiao\": \"Norte\"}, {\"ano\": 2019, \"uf\": \"Roraima\", \"genero\": \"Feminino\", \"mes\": \"Dezembro\", \"numero\": 1, \"regiao\": \"Norte\"}, {\"ano\": 2014, \"uf\": \"Par\\u00e1\", \"genero\": \"Masculino\", \"mes\": \"Janeiro\", \"numero\": 3, \"regiao\": \"Norte\"}, {\"ano\": 2014, \"uf\": \"Par\\u00e1\", \"genero\": \"Masculino\", \"mes\": \"Fevereiro\", \"numero\": 1, \"regiao\": \"Norte\"}, {\"ano\": 2014, \"uf\": \"Par\\u00e1\", \"genero\": \"Masculino\", \"mes\": \"Mar\\u00e7o\", \"numero\": 0, \"regiao\": \"Norte\"}, {\"ano\": 2014, \"uf\": \"Par\\u00e1\", \"genero\": \"Masculino\", \"mes\": \"Abril\", \"numero\": 1, \"regiao\": \"Norte\"}, {\"ano\": 2014, \"uf\": \"Par\\u00e1\", \"genero\": \"Masculino\", \"mes\": \"Maio\", \"numero\": 3, \"regiao\": \"Norte\"}, {\"ano\": 2014, \"uf\": \"Par\\u00e1\", \"genero\": \"Masculino\", \"mes\": \"Junho\", \"numero\": 2, \"regiao\": \"Norte\"}, {\"ano\": 2014, \"uf\": \"Par\\u00e1\", \"genero\": \"Masculino\", \"mes\": \"Julho\", \"numero\": 0, \"regiao\": \"Norte\"}, {\"ano\": 2014, \"uf\": \"Par\\u00e1\", \"genero\": \"Masculino\", \"mes\": \"Agosto\", \"numero\": 3, \"regiao\": \"Norte\"}, {\"ano\": 2014, \"uf\": \"Par\\u00e1\", \"genero\": \"Masculino\", \"mes\": \"Setembro\", \"numero\": 1, \"regiao\": \"Norte\"}, {\"ano\": 2014, \"uf\": \"Par\\u00e1\", \"genero\": \"Masculino\", \"mes\": \"Outubro\", \"numero\": 5, \"regiao\": \"Norte\"}, {\"ano\": 2014, \"uf\": \"Par\\u00e1\", \"genero\": \"Masculino\", \"mes\": \"Novembro\", \"numero\": 3, \"regiao\": \"Norte\"}, {\"ano\": 2014, \"uf\": \"Par\\u00e1\", \"genero\": \"Masculino\", \"mes\": \"Dezembro\", \"numero\": 7, \"regiao\": \"Norte\"}, {\"ano\": 2014, \"uf\": \"Par\\u00e1\", \"genero\": \"Feminino\", \"mes\": \"Janeiro\", \"numero\": 0, \"regiao\": \"Norte\"}, {\"ano\": 2014, \"uf\": \"Par\\u00e1\", \"genero\": \"Feminino\", \"mes\": \"Fevereiro\", \"numero\": 2, \"regiao\": \"Norte\"}, {\"ano\": 2014, \"uf\": \"Par\\u00e1\", \"genero\": \"Feminino\", \"mes\": \"Mar\\u00e7o\", \"numero\": 3, \"regiao\": \"Norte\"}, {\"ano\": 2014, \"uf\": \"Par\\u00e1\", \"genero\": \"Feminino\", \"mes\": \"Abril\", \"numero\": 2, \"regiao\": \"Norte\"}, {\"ano\": 2014, \"uf\": \"Par\\u00e1\", \"genero\": \"Feminino\", \"mes\": \"Maio\", \"numero\": 2, \"regiao\": \"Norte\"}, {\"ano\": 2014, \"uf\": \"Par\\u00e1\", \"genero\": \"Feminino\", \"mes\": \"Junho\", \"numero\": 1, \"regiao\": \"Norte\"}, {\"ano\": 2014, \"uf\": \"Par\\u00e1\", \"genero\": \"Feminino\", \"mes\": \"Julho\", \"numero\": 1, \"regiao\": \"Norte\"}, {\"ano\": 2014, \"uf\": \"Par\\u00e1\", \"genero\": \"Feminino\", \"mes\": \"Agosto\", \"numero\": 3, \"regiao\": \"Norte\"}, {\"ano\": 2014, \"uf\": \"Par\\u00e1\", \"genero\": \"Feminino\", \"mes\": \"Setembro\", \"numero\": 3, \"regiao\": \"Norte\"}, {\"ano\": 2014, \"uf\": \"Par\\u00e1\", \"genero\": \"Feminino\", \"mes\": \"Outubro\", \"numero\": 2, \"regiao\": \"Norte\"}, {\"ano\": 2014, \"uf\": \"Par\\u00e1\", \"genero\": \"Feminino\", \"mes\": \"Novembro\", \"numero\": 8, \"regiao\": \"Norte\"}, {\"ano\": 2014, \"uf\": \"Par\\u00e1\", \"genero\": \"Feminino\", \"mes\": \"Dezembro\", \"numero\": 2, \"regiao\": \"Norte\"}, {\"ano\": 2013, \"uf\": \"Par\\u00e1\", \"genero\": \"Masculino\", \"mes\": \"Janeiro\", \"numero\": 0, \"regiao\": \"Norte\"}, {\"ano\": 2013, \"uf\": \"Par\\u00e1\", \"genero\": \"Masculino\", \"mes\": \"Fevereiro\", \"numero\": 0, \"regiao\": \"Norte\"}, {\"ano\": 2013, \"uf\": \"Par\\u00e1\", \"genero\": \"Masculino\", \"mes\": \"Mar\\u00e7o\", \"numero\": 0, \"regiao\": \"Norte\"}, {\"ano\": 2013, \"uf\": \"Par\\u00e1\", \"genero\": \"Masculino\", \"mes\": \"Abril\", \"numero\": 0, \"regiao\": \"Norte\"}, {\"ano\": 2013, \"uf\": \"Par\\u00e1\", \"genero\": \"Masculino\", \"mes\": \"Maio\", \"numero\": 1, \"regiao\": \"Norte\"}, {\"ano\": 2013, \"uf\": \"Par\\u00e1\", \"genero\": \"Masculino\", \"mes\": \"Junho\", \"numero\": 0, \"regiao\": \"Norte\"}, {\"ano\": 2013, \"uf\": \"Par\\u00e1\", \"genero\": \"Masculino\", \"mes\": \"Julho\", \"numero\": 2, \"regiao\": \"Norte\"}, {\"ano\": 2013, \"uf\": \"Par\\u00e1\", \"genero\": \"Masculino\", \"mes\": \"Agosto\", \"numero\": 1, \"regiao\": \"Norte\"}, {\"ano\": 2013, \"uf\": \"Par\\u00e1\", \"genero\": \"Masculino\", \"mes\": \"Setembro\", \"numero\": 1, \"regiao\": \"Norte\"}, {\"ano\": 2013, \"uf\": \"Par\\u00e1\", \"genero\": \"Masculino\", \"mes\": \"Outubro\", \"numero\": 4, \"regiao\": \"Norte\"}, {\"ano\": 2013, \"uf\": \"Par\\u00e1\", \"genero\": \"Masculino\", \"mes\": \"Novembro\", \"numero\": 1, \"regiao\": \"Norte\"}, {\"ano\": 2013, \"uf\": \"Par\\u00e1\", \"genero\": \"Masculino\", \"mes\": \"Dezembro\", \"numero\": 3, \"regiao\": \"Norte\"}, {\"ano\": 2013, \"uf\": \"Par\\u00e1\", \"genero\": \"Feminino\", \"mes\": \"Janeiro\", \"numero\": 0, \"regiao\": \"Norte\"}, {\"ano\": 2013, \"uf\": \"Par\\u00e1\", \"genero\": \"Feminino\", \"mes\": \"Fevereiro\", \"numero\": 0, \"regiao\": \"Norte\"}, {\"ano\": 2013, \"uf\": \"Par\\u00e1\", \"genero\": \"Feminino\", \"mes\": \"Mar\\u00e7o\", \"numero\": 0, \"regiao\": \"Norte\"}, {\"ano\": 2013, \"uf\": \"Par\\u00e1\", \"genero\": \"Feminino\", \"mes\": \"Abril\", \"numero\": 0, \"regiao\": \"Norte\"}, {\"ano\": 2013, \"uf\": \"Par\\u00e1\", \"genero\": \"Feminino\", \"mes\": \"Maio\", \"numero\": 0, \"regiao\": \"Norte\"}, {\"ano\": 2013, \"uf\": \"Par\\u00e1\", \"genero\": \"Feminino\", \"mes\": \"Junho\", \"numero\": 1, \"regiao\": \"Norte\"}, {\"ano\": 2013, \"uf\": \"Par\\u00e1\", \"genero\": \"Feminino\", \"mes\": \"Julho\", \"numero\": 0, \"regiao\": \"Norte\"}, {\"ano\": 2013, \"uf\": \"Par\\u00e1\", \"genero\": \"Feminino\", \"mes\": \"Agosto\", \"numero\": 4, \"regiao\": \"Norte\"}, {\"ano\": 2013, \"uf\": \"Par\\u00e1\", \"genero\": \"Feminino\", \"mes\": \"Setembro\", \"numero\": 3, \"regiao\": \"Norte\"}, {\"ano\": 2013, \"uf\": \"Par\\u00e1\", \"genero\": \"Feminino\", \"mes\": \"Outubro\", \"numero\": 1, \"regiao\": \"Norte\"}, {\"ano\": 2013, \"uf\": \"Par\\u00e1\", \"genero\": \"Feminino\", \"mes\": \"Novembro\", \"numero\": 3, \"regiao\": \"Norte\"}, {\"ano\": 2013, \"uf\": \"Par\\u00e1\", \"genero\": \"Feminino\", \"mes\": \"Dezembro\", \"numero\": 0, \"regiao\": \"Norte\"}, {\"ano\": 2015, \"uf\": \"Par\\u00e1\", \"genero\": \"Masculino\", \"mes\": \"Janeiro\", \"numero\": 3, \"regiao\": \"Norte\"}, {\"ano\": 2015, \"uf\": \"Par\\u00e1\", \"genero\": \"Masculino\", \"mes\": \"Fevereiro\", \"numero\": 1, \"regiao\": \"Norte\"}, {\"ano\": 2015, \"uf\": \"Par\\u00e1\", \"genero\": \"Masculino\", \"mes\": \"Mar\\u00e7o\", \"numero\": 2, \"regiao\": \"Norte\"}, {\"ano\": 2015, \"uf\": \"Par\\u00e1\", \"genero\": \"Masculino\", \"mes\": \"Abril\", \"numero\": 3, \"regiao\": \"Norte\"}, {\"ano\": 2015, \"uf\": \"Par\\u00e1\", \"genero\": \"Masculino\", \"mes\": \"Maio\", \"numero\": 11, \"regiao\": \"Norte\"}, {\"ano\": 2015, \"uf\": \"Par\\u00e1\", \"genero\": \"Masculino\", \"mes\": \"Junho\", \"numero\": 11, \"regiao\": \"Norte\"}, {\"ano\": 2015, \"uf\": \"Par\\u00e1\", \"genero\": \"Masculino\", \"mes\": \"Julho\", \"numero\": 1, \"regiao\": \"Norte\"}, {\"ano\": 2015, \"uf\": \"Par\\u00e1\", \"genero\": \"Masculino\", \"mes\": \"Agosto\", \"numero\": 3, \"regiao\": \"Norte\"}, {\"ano\": 2015, \"uf\": \"Par\\u00e1\", \"genero\": \"Masculino\", \"mes\": \"Setembro\", \"numero\": 0, \"regiao\": \"Norte\"}, {\"ano\": 2015, \"uf\": \"Par\\u00e1\", \"genero\": \"Masculino\", \"mes\": \"Outubro\", \"numero\": 2, \"regiao\": \"Norte\"}, {\"ano\": 2015, \"uf\": \"Par\\u00e1\", \"genero\": \"Masculino\", \"mes\": \"Novembro\", \"numero\": 3, \"regiao\": \"Norte\"}, {\"ano\": 2015, \"uf\": \"Par\\u00e1\", \"genero\": \"Masculino\", \"mes\": \"Dezembro\", \"numero\": 15, \"regiao\": \"Norte\"}, {\"ano\": 2016, \"uf\": \"Par\\u00e1\", \"genero\": \"Masculino\", \"mes\": \"Janeiro\", \"numero\": 4, \"regiao\": \"Norte\"}, {\"ano\": 2016, \"uf\": \"Par\\u00e1\", \"genero\": \"Masculino\", \"mes\": \"Fevereiro\", \"numero\": 3, \"regiao\": \"Norte\"}, {\"ano\": 2016, \"uf\": \"Par\\u00e1\", \"genero\": \"Masculino\", \"mes\": \"Mar\\u00e7o\", \"numero\": 2, \"regiao\": \"Norte\"}, {\"ano\": 2016, \"uf\": \"Par\\u00e1\", \"genero\": \"Masculino\", \"mes\": \"Abril\", \"numero\": 2, \"regiao\": \"Norte\"}, {\"ano\": 2016, \"uf\": \"Par\\u00e1\", \"genero\": \"Masculino\", \"mes\": \"Maio\", \"numero\": 2, \"regiao\": \"Norte\"}, {\"ano\": 2016, \"uf\": \"Par\\u00e1\", \"genero\": \"Masculino\", \"mes\": \"Junho\", \"numero\": 2, \"regiao\": \"Norte\"}, {\"ano\": 2016, \"uf\": \"Par\\u00e1\", \"genero\": \"Masculino\", \"mes\": \"Julho\", \"numero\": 0, \"regiao\": \"Norte\"}, {\"ano\": 2016, \"uf\": \"Par\\u00e1\", \"genero\": \"Masculino\", \"mes\": \"Agosto\", \"numero\": 2, \"regiao\": \"Norte\"}, {\"ano\": 2016, \"uf\": \"Par\\u00e1\", \"genero\": \"Masculino\", \"mes\": \"Setembro\", \"numero\": 6, \"regiao\": \"Norte\"}, {\"ano\": 2016, \"uf\": \"Par\\u00e1\", \"genero\": \"Masculino\", \"mes\": \"Outubro\", \"numero\": 3, \"regiao\": \"Norte\"}, {\"ano\": 2016, \"uf\": \"Par\\u00e1\", \"genero\": \"Masculino\", \"mes\": \"Novembro\", \"numero\": 3, \"regiao\": \"Norte\"}, {\"ano\": 2016, \"uf\": \"Par\\u00e1\", \"genero\": \"Masculino\", \"mes\": \"Dezembro\", \"numero\": 6, \"regiao\": \"Norte\"}, {\"ano\": 2017, \"uf\": \"Par\\u00e1\", \"genero\": \"Masculino\", \"mes\": \"Janeiro\", \"numero\": 2, \"regiao\": \"Norte\"}, {\"ano\": 2017, \"uf\": \"Par\\u00e1\", \"genero\": \"Masculino\", \"mes\": \"Fevereiro\", \"numero\": 2, \"regiao\": \"Norte\"}, {\"ano\": 2017, \"uf\": \"Par\\u00e1\", \"genero\": \"Masculino\", \"mes\": \"Mar\\u00e7o\", \"numero\": 5, \"regiao\": \"Norte\"}, {\"ano\": 2017, \"uf\": \"Par\\u00e1\", \"genero\": \"Masculino\", \"mes\": \"Abril\", \"numero\": 0, \"regiao\": \"Norte\"}, {\"ano\": 2017, \"uf\": \"Par\\u00e1\", \"genero\": \"Masculino\", \"mes\": \"Maio\", \"numero\": 3, \"regiao\": \"Norte\"}, {\"ano\": 2017, \"uf\": \"Par\\u00e1\", \"genero\": \"Masculino\", \"mes\": \"Junho\", \"numero\": 2, \"regiao\": \"Norte\"}, {\"ano\": 2017, \"uf\": \"Par\\u00e1\", \"genero\": \"Masculino\", \"mes\": \"Julho\", \"numero\": 4, \"regiao\": \"Norte\"}, {\"ano\": 2017, \"uf\": \"Par\\u00e1\", \"genero\": \"Masculino\", \"mes\": \"Agosto\", \"numero\": 2, \"regiao\": \"Norte\"}, {\"ano\": 2017, \"uf\": \"Par\\u00e1\", \"genero\": \"Masculino\", \"mes\": \"Setembro\", \"numero\": 3, \"regiao\": \"Norte\"}, {\"ano\": 2017, \"uf\": \"Par\\u00e1\", \"genero\": \"Masculino\", \"mes\": \"Outubro\", \"numero\": 3, \"regiao\": \"Norte\"}, {\"ano\": 2017, \"uf\": \"Par\\u00e1\", \"genero\": \"Masculino\", \"mes\": \"Novembro\", \"numero\": 8, \"regiao\": \"Norte\"}, {\"ano\": 2017, \"uf\": \"Par\\u00e1\", \"genero\": \"Masculino\", \"mes\": \"Dezembro\", \"numero\": 4, \"regiao\": \"Norte\"}, {\"ano\": 2018, \"uf\": \"Par\\u00e1\", \"genero\": \"Masculino\", \"mes\": \"Janeiro\", \"numero\": 2, \"regiao\": \"Norte\"}, {\"ano\": 2018, \"uf\": \"Par\\u00e1\", \"genero\": \"Masculino\", \"mes\": \"Fevereiro\", \"numero\": 1, \"regiao\": \"Norte\"}, {\"ano\": 2018, \"uf\": \"Par\\u00e1\", \"genero\": \"Masculino\", \"mes\": \"Mar\\u00e7o\", \"numero\": 3, \"regiao\": \"Norte\"}, {\"ano\": 2018, \"uf\": \"Par\\u00e1\", \"genero\": \"Masculino\", \"mes\": \"Abril\", \"numero\": 0, \"regiao\": \"Norte\"}, {\"ano\": 2018, \"uf\": \"Par\\u00e1\", \"genero\": \"Masculino\", \"mes\": \"Maio\", \"numero\": 2, \"regiao\": \"Norte\"}, {\"ano\": 2018, \"uf\": \"Par\\u00e1\", \"genero\": \"Masculino\", \"mes\": \"Junho\", \"numero\": 1, \"regiao\": \"Norte\"}, {\"ano\": 2018, \"uf\": \"Par\\u00e1\", \"genero\": \"Masculino\", \"mes\": \"Julho\", \"numero\": 9, \"regiao\": \"Norte\"}, {\"ano\": 2018, \"uf\": \"Par\\u00e1\", \"genero\": \"Masculino\", \"mes\": \"Agosto\", \"numero\": 3, \"regiao\": \"Norte\"}, {\"ano\": 2018, \"uf\": \"Par\\u00e1\", \"genero\": \"Masculino\", \"mes\": \"Setembro\", \"numero\": 6, \"regiao\": \"Norte\"}, {\"ano\": 2018, \"uf\": \"Par\\u00e1\", \"genero\": \"Masculino\", \"mes\": \"Outubro\", \"numero\": 7, \"regiao\": \"Norte\"}, {\"ano\": 2018, \"uf\": \"Par\\u00e1\", \"genero\": \"Masculino\", \"mes\": \"Novembro\", \"numero\": 16, \"regiao\": \"Norte\"}, {\"ano\": 2018, \"uf\": \"Par\\u00e1\", \"genero\": \"Masculino\", \"mes\": \"Dezembro\", \"numero\": 39, \"regiao\": \"Norte\"}, {\"ano\": 2019, \"uf\": \"Par\\u00e1\", \"genero\": \"Masculino\", \"mes\": \"Janeiro\", \"numero\": 9, \"regiao\": \"Norte\"}, {\"ano\": 2019, \"uf\": \"Par\\u00e1\", \"genero\": \"Masculino\", \"mes\": \"Fevereiro\", \"numero\": 7, \"regiao\": \"Norte\"}, {\"ano\": 2019, \"uf\": \"Par\\u00e1\", \"genero\": \"Masculino\", \"mes\": \"Mar\\u00e7o\", \"numero\": 3, \"regiao\": \"Norte\"}, {\"ano\": 2019, \"uf\": \"Par\\u00e1\", \"genero\": \"Masculino\", \"mes\": \"Abril\", \"numero\": 1, \"regiao\": \"Norte\"}, {\"ano\": 2019, \"uf\": \"Par\\u00e1\", \"genero\": \"Masculino\", \"mes\": \"Maio\", \"numero\": 7, \"regiao\": \"Norte\"}, {\"ano\": 2019, \"uf\": \"Par\\u00e1\", \"genero\": \"Masculino\", \"mes\": \"Junho\", \"numero\": 5, \"regiao\": \"Norte\"}, {\"ano\": 2019, \"uf\": \"Par\\u00e1\", \"genero\": \"Masculino\", \"mes\": \"Julho\", \"numero\": 6, \"regiao\": \"Norte\"}, {\"ano\": 2019, \"uf\": \"Par\\u00e1\", \"genero\": \"Masculino\", \"mes\": \"Agosto\", \"numero\": 2, \"regiao\": \"Norte\"}, {\"ano\": 2019, \"uf\": \"Par\\u00e1\", \"genero\": \"Masculino\", \"mes\": \"Setembro\", \"numero\": 2, \"regiao\": \"Norte\"}, {\"ano\": 2019, \"uf\": \"Par\\u00e1\", \"genero\": \"Masculino\", \"mes\": \"Outubro\", \"numero\": 5, \"regiao\": \"Norte\"}, {\"ano\": 2019, \"uf\": \"Par\\u00e1\", \"genero\": \"Masculino\", \"mes\": \"Novembro\", \"numero\": 5, \"regiao\": \"Norte\"}, {\"ano\": 2019, \"uf\": \"Par\\u00e1\", \"genero\": \"Masculino\", \"mes\": \"Dezembro\", \"numero\": 11, \"regiao\": \"Norte\"}, {\"ano\": 2015, \"uf\": \"Par\\u00e1\", \"genero\": \"Feminino\", \"mes\": \"Janeiro\", \"numero\": 0, \"regiao\": \"Norte\"}, {\"ano\": 2015, \"uf\": \"Par\\u00e1\", \"genero\": \"Feminino\", \"mes\": \"Fevereiro\", \"numero\": 0, \"regiao\": \"Norte\"}, {\"ano\": 2015, \"uf\": \"Par\\u00e1\", \"genero\": \"Feminino\", \"mes\": \"Mar\\u00e7o\", \"numero\": 2, \"regiao\": \"Norte\"}, {\"ano\": 2015, \"uf\": \"Par\\u00e1\", \"genero\": \"Feminino\", \"mes\": \"Abril\", \"numero\": 1, \"regiao\": \"Norte\"}, {\"ano\": 2015, \"uf\": \"Par\\u00e1\", \"genero\": \"Feminino\", \"mes\": \"Maio\", \"numero\": 1, \"regiao\": \"Norte\"}, {\"ano\": 2015, \"uf\": \"Par\\u00e1\", \"genero\": \"Feminino\", \"mes\": \"Junho\", \"numero\": 4, \"regiao\": \"Norte\"}, {\"ano\": 2015, \"uf\": \"Par\\u00e1\", \"genero\": \"Feminino\", \"mes\": \"Julho\", \"numero\": 1, \"regiao\": \"Norte\"}, {\"ano\": 2015, \"uf\": \"Par\\u00e1\", \"genero\": \"Feminino\", \"mes\": \"Agosto\", \"numero\": 2, \"regiao\": \"Norte\"}, {\"ano\": 2015, \"uf\": \"Par\\u00e1\", \"genero\": \"Feminino\", \"mes\": \"Setembro\", \"numero\": 3, \"regiao\": \"Norte\"}, {\"ano\": 2015, \"uf\": \"Par\\u00e1\", \"genero\": \"Feminino\", \"mes\": \"Outubro\", \"numero\": 1, \"regiao\": \"Norte\"}, {\"ano\": 2015, \"uf\": \"Par\\u00e1\", \"genero\": \"Feminino\", \"mes\": \"Novembro\", \"numero\": 2, \"regiao\": \"Norte\"}, {\"ano\": 2015, \"uf\": \"Par\\u00e1\", \"genero\": \"Feminino\", \"mes\": \"Dezembro\", \"numero\": 15, \"regiao\": \"Norte\"}, {\"ano\": 2016, \"uf\": \"Par\\u00e1\", \"genero\": \"Feminino\", \"mes\": \"Janeiro\", \"numero\": 0, \"regiao\": \"Norte\"}, {\"ano\": 2016, \"uf\": \"Par\\u00e1\", \"genero\": \"Feminino\", \"mes\": \"Fevereiro\", \"numero\": 2, \"regiao\": \"Norte\"}, {\"ano\": 2016, \"uf\": \"Par\\u00e1\", \"genero\": \"Feminino\", \"mes\": \"Mar\\u00e7o\", \"numero\": 2, \"regiao\": \"Norte\"}, {\"ano\": 2016, \"uf\": \"Par\\u00e1\", \"genero\": \"Feminino\", \"mes\": \"Abril\", \"numero\": 2, \"regiao\": \"Norte\"}, {\"ano\": 2016, \"uf\": \"Par\\u00e1\", \"genero\": \"Feminino\", \"mes\": \"Maio\", \"numero\": 4, \"regiao\": \"Norte\"}, {\"ano\": 2016, \"uf\": \"Par\\u00e1\", \"genero\": \"Feminino\", \"mes\": \"Junho\", \"numero\": 9, \"regiao\": \"Norte\"}, {\"ano\": 2016, \"uf\": \"Par\\u00e1\", \"genero\": \"Feminino\", \"mes\": \"Julho\", \"numero\": 3, \"regiao\": \"Norte\"}, {\"ano\": 2016, \"uf\": \"Par\\u00e1\", \"genero\": \"Feminino\", \"mes\": \"Agosto\", \"numero\": 0, \"regiao\": \"Norte\"}, {\"ano\": 2016, \"uf\": \"Par\\u00e1\", \"genero\": \"Feminino\", \"mes\": \"Setembro\", \"numero\": 9, \"regiao\": \"Norte\"}, {\"ano\": 2016, \"uf\": \"Par\\u00e1\", \"genero\": \"Feminino\", \"mes\": \"Outubro\", \"numero\": 3, \"regiao\": \"Norte\"}, {\"ano\": 2016, \"uf\": \"Par\\u00e1\", \"genero\": \"Feminino\", \"mes\": \"Novembro\", \"numero\": 3, \"regiao\": \"Norte\"}, {\"ano\": 2016, \"uf\": \"Par\\u00e1\", \"genero\": \"Feminino\", \"mes\": \"Dezembro\", \"numero\": 4, \"regiao\": \"Norte\"}, {\"ano\": 2017, \"uf\": \"Par\\u00e1\", \"genero\": \"Feminino\", \"mes\": \"Janeiro\", \"numero\": 3, \"regiao\": \"Norte\"}, {\"ano\": 2017, \"uf\": \"Par\\u00e1\", \"genero\": \"Feminino\", \"mes\": \"Fevereiro\", \"numero\": 4, \"regiao\": \"Norte\"}, {\"ano\": 2017, \"uf\": \"Par\\u00e1\", \"genero\": \"Feminino\", \"mes\": \"Mar\\u00e7o\", \"numero\": 5, \"regiao\": \"Norte\"}, {\"ano\": 2017, \"uf\": \"Par\\u00e1\", \"genero\": \"Feminino\", \"mes\": \"Abril\", \"numero\": 4, \"regiao\": \"Norte\"}, {\"ano\": 2017, \"uf\": \"Par\\u00e1\", \"genero\": \"Feminino\", \"mes\": \"Maio\", \"numero\": 5, \"regiao\": \"Norte\"}, {\"ano\": 2017, \"uf\": \"Par\\u00e1\", \"genero\": \"Feminino\", \"mes\": \"Junho\", \"numero\": 4, \"regiao\": \"Norte\"}, {\"ano\": 2017, \"uf\": \"Par\\u00e1\", \"genero\": \"Feminino\", \"mes\": \"Julho\", \"numero\": 3, \"regiao\": \"Norte\"}, {\"ano\": 2017, \"uf\": \"Par\\u00e1\", \"genero\": \"Feminino\", \"mes\": \"Agosto\", \"numero\": 5, \"regiao\": \"Norte\"}, {\"ano\": 2017, \"uf\": \"Par\\u00e1\", \"genero\": \"Feminino\", \"mes\": \"Setembro\", \"numero\": 3, \"regiao\": \"Norte\"}, {\"ano\": 2017, \"uf\": \"Par\\u00e1\", \"genero\": \"Feminino\", \"mes\": \"Outubro\", \"numero\": 2, \"regiao\": \"Norte\"}, {\"ano\": 2017, \"uf\": \"Par\\u00e1\", \"genero\": \"Feminino\", \"mes\": \"Novembro\", \"numero\": 21, \"regiao\": \"Norte\"}, {\"ano\": 2017, \"uf\": \"Par\\u00e1\", \"genero\": \"Feminino\", \"mes\": \"Dezembro\", \"numero\": 3, \"regiao\": \"Norte\"}, {\"ano\": 2018, \"uf\": \"Par\\u00e1\", \"genero\": \"Feminino\", \"mes\": \"Janeiro\", \"numero\": 3, \"regiao\": \"Norte\"}, {\"ano\": 2018, \"uf\": \"Par\\u00e1\", \"genero\": \"Feminino\", \"mes\": \"Fevereiro\", \"numero\": 1, \"regiao\": \"Norte\"}, {\"ano\": 2018, \"uf\": \"Par\\u00e1\", \"genero\": \"Feminino\", \"mes\": \"Mar\\u00e7o\", \"numero\": 2, \"regiao\": \"Norte\"}, {\"ano\": 2018, \"uf\": \"Par\\u00e1\", \"genero\": \"Feminino\", \"mes\": \"Abril\", \"numero\": 3, \"regiao\": \"Norte\"}, {\"ano\": 2018, \"uf\": \"Par\\u00e1\", \"genero\": \"Feminino\", \"mes\": \"Maio\", \"numero\": 5, \"regiao\": \"Norte\"}, {\"ano\": 2018, \"uf\": \"Par\\u00e1\", \"genero\": \"Feminino\", \"mes\": \"Junho\", \"numero\": 3, \"regiao\": \"Norte\"}, {\"ano\": 2018, \"uf\": \"Par\\u00e1\", \"genero\": \"Feminino\", \"mes\": \"Julho\", \"numero\": 4, \"regiao\": \"Norte\"}, {\"ano\": 2018, \"uf\": \"Par\\u00e1\", \"genero\": \"Feminino\", \"mes\": \"Agosto\", \"numero\": 8, \"regiao\": \"Norte\"}, {\"ano\": 2018, \"uf\": \"Par\\u00e1\", \"genero\": \"Feminino\", \"mes\": \"Setembro\", \"numero\": 3, \"regiao\": \"Norte\"}, {\"ano\": 2018, \"uf\": \"Par\\u00e1\", \"genero\": \"Feminino\", \"mes\": \"Outubro\", \"numero\": 9, \"regiao\": \"Norte\"}, {\"ano\": 2018, \"uf\": \"Par\\u00e1\", \"genero\": \"Feminino\", \"mes\": \"Novembro\", \"numero\": 5, \"regiao\": \"Norte\"}, {\"ano\": 2018, \"uf\": \"Par\\u00e1\", \"genero\": \"Feminino\", \"mes\": \"Dezembro\", \"numero\": 66, \"regiao\": \"Norte\"}, {\"ano\": 2019, \"uf\": \"Par\\u00e1\", \"genero\": \"Feminino\", \"mes\": \"Janeiro\", \"numero\": 14, \"regiao\": \"Norte\"}, {\"ano\": 2019, \"uf\": \"Par\\u00e1\", \"genero\": \"Feminino\", \"mes\": \"Fevereiro\", \"numero\": 9, \"regiao\": \"Norte\"}, {\"ano\": 2019, \"uf\": \"Par\\u00e1\", \"genero\": \"Feminino\", \"mes\": \"Mar\\u00e7o\", \"numero\": 9, \"regiao\": \"Norte\"}, {\"ano\": 2019, \"uf\": \"Par\\u00e1\", \"genero\": \"Feminino\", \"mes\": \"Abril\", \"numero\": 6, \"regiao\": \"Norte\"}, {\"ano\": 2019, \"uf\": \"Par\\u00e1\", \"genero\": \"Feminino\", \"mes\": \"Maio\", \"numero\": 2, \"regiao\": \"Norte\"}, {\"ano\": 2019, \"uf\": \"Par\\u00e1\", \"genero\": \"Feminino\", \"mes\": \"Junho\", \"numero\": 5, \"regiao\": \"Norte\"}, {\"ano\": 2019, \"uf\": \"Par\\u00e1\", \"genero\": \"Feminino\", \"mes\": \"Julho\", \"numero\": 11, \"regiao\": \"Norte\"}, {\"ano\": 2019, \"uf\": \"Par\\u00e1\", \"genero\": \"Feminino\", \"mes\": \"Agosto\", \"numero\": 6, \"regiao\": \"Norte\"}, {\"ano\": 2019, \"uf\": \"Par\\u00e1\", \"genero\": \"Feminino\", \"mes\": \"Setembro\", \"numero\": 5, \"regiao\": \"Norte\"}, {\"ano\": 2019, \"uf\": \"Par\\u00e1\", \"genero\": \"Feminino\", \"mes\": \"Outubro\", \"numero\": 6, \"regiao\": \"Norte\"}, {\"ano\": 2019, \"uf\": \"Par\\u00e1\", \"genero\": \"Feminino\", \"mes\": \"Novembro\", \"numero\": 11, \"regiao\": \"Norte\"}, {\"ano\": 2019, \"uf\": \"Par\\u00e1\", \"genero\": \"Feminino\", \"mes\": \"Dezembro\", \"numero\": 12, \"regiao\": \"Norte\"}, {\"ano\": 2014, \"uf\": \"Amap\\u00e1\", \"genero\": \"Masculino\", \"mes\": \"Janeiro\", \"numero\": 1, \"regiao\": \"Norte\"}, {\"ano\": 2014, \"uf\": \"Amap\\u00e1\", \"genero\": \"Masculino\", \"mes\": \"Fevereiro\", \"numero\": 4, \"regiao\": \"Norte\"}, {\"ano\": 2014, \"uf\": \"Amap\\u00e1\", \"genero\": \"Masculino\", \"mes\": \"Mar\\u00e7o\", \"numero\": 1, \"regiao\": \"Norte\"}, {\"ano\": 2014, \"uf\": \"Amap\\u00e1\", \"genero\": \"Masculino\", \"mes\": \"Abril\", \"numero\": 0, \"regiao\": \"Norte\"}, {\"ano\": 2014, \"uf\": \"Amap\\u00e1\", \"genero\": \"Masculino\", \"mes\": \"Maio\", \"numero\": 2, \"regiao\": \"Norte\"}, {\"ano\": 2014, \"uf\": \"Amap\\u00e1\", \"genero\": \"Masculino\", \"mes\": \"Junho\", \"numero\": 7, \"regiao\": \"Norte\"}, {\"ano\": 2014, \"uf\": \"Amap\\u00e1\", \"genero\": \"Masculino\", \"mes\": \"Julho\", \"numero\": 0, \"regiao\": \"Norte\"}, {\"ano\": 2014, \"uf\": \"Amap\\u00e1\", \"genero\": \"Masculino\", \"mes\": \"Agosto\", \"numero\": 0, \"regiao\": \"Norte\"}, {\"ano\": 2014, \"uf\": \"Amap\\u00e1\", \"genero\": \"Masculino\", \"mes\": \"Setembro\", \"numero\": 1, \"regiao\": \"Norte\"}, {\"ano\": 2014, \"uf\": \"Amap\\u00e1\", \"genero\": \"Masculino\", \"mes\": \"Outubro\", \"numero\": 0, \"regiao\": \"Norte\"}, {\"ano\": 2014, \"uf\": \"Amap\\u00e1\", \"genero\": \"Masculino\", \"mes\": \"Novembro\", \"numero\": 1, \"regiao\": \"Norte\"}, {\"ano\": 2014, \"uf\": \"Amap\\u00e1\", \"genero\": \"Masculino\", \"mes\": \"Dezembro\", \"numero\": 1, \"regiao\": \"Norte\"}, {\"ano\": 2014, \"uf\": \"Amap\\u00e1\", \"genero\": \"Feminino\", \"mes\": \"Janeiro\", \"numero\": 0, \"regiao\": \"Norte\"}, {\"ano\": 2014, \"uf\": \"Amap\\u00e1\", \"genero\": \"Feminino\", \"mes\": \"Fevereiro\", \"numero\": 0, \"regiao\": \"Norte\"}, {\"ano\": 2014, \"uf\": \"Amap\\u00e1\", \"genero\": \"Feminino\", \"mes\": \"Mar\\u00e7o\", \"numero\": 1, \"regiao\": \"Norte\"}, {\"ano\": 2014, \"uf\": \"Amap\\u00e1\", \"genero\": \"Feminino\", \"mes\": \"Abril\", \"numero\": 0, \"regiao\": \"Norte\"}, {\"ano\": 2014, \"uf\": \"Amap\\u00e1\", \"genero\": \"Feminino\", \"mes\": \"Maio\", \"numero\": 2, \"regiao\": \"Norte\"}, {\"ano\": 2014, \"uf\": \"Amap\\u00e1\", \"genero\": \"Feminino\", \"mes\": \"Junho\", \"numero\": 0, \"regiao\": \"Norte\"}, {\"ano\": 2014, \"uf\": \"Amap\\u00e1\", \"genero\": \"Feminino\", \"mes\": \"Julho\", \"numero\": 0, \"regiao\": \"Norte\"}, {\"ano\": 2014, \"uf\": \"Amap\\u00e1\", \"genero\": \"Feminino\", \"mes\": \"Agosto\", \"numero\": 1, \"regiao\": \"Norte\"}, {\"ano\": 2014, \"uf\": \"Amap\\u00e1\", \"genero\": \"Feminino\", \"mes\": \"Setembro\", \"numero\": 1, \"regiao\": \"Norte\"}, {\"ano\": 2014, \"uf\": \"Amap\\u00e1\", \"genero\": \"Feminino\", \"mes\": \"Outubro\", \"numero\": 0, \"regiao\": \"Norte\"}, {\"ano\": 2014, \"uf\": \"Amap\\u00e1\", \"genero\": \"Feminino\", \"mes\": \"Novembro\", \"numero\": 1, \"regiao\": \"Norte\"}, {\"ano\": 2014, \"uf\": \"Amap\\u00e1\", \"genero\": \"Feminino\", \"mes\": \"Dezembro\", \"numero\": 0, \"regiao\": \"Norte\"}, {\"ano\": 2013, \"uf\": \"Amap\\u00e1\", \"genero\": \"Masculino\", \"mes\": \"Janeiro\", \"numero\": 0, \"regiao\": \"Norte\"}, {\"ano\": 2013, \"uf\": \"Amap\\u00e1\", \"genero\": \"Masculino\", \"mes\": \"Fevereiro\", \"numero\": 0, \"regiao\": \"Norte\"}, {\"ano\": 2013, \"uf\": \"Amap\\u00e1\", \"genero\": \"Masculino\", \"mes\": \"Mar\\u00e7o\", \"numero\": 0, \"regiao\": \"Norte\"}, {\"ano\": 2013, \"uf\": \"Amap\\u00e1\", \"genero\": \"Masculino\", \"mes\": \"Abril\", \"numero\": 0, \"regiao\": \"Norte\"}, {\"ano\": 2013, \"uf\": \"Amap\\u00e1\", \"genero\": \"Masculino\", \"mes\": \"Maio\", \"numero\": 0, \"regiao\": \"Norte\"}, {\"ano\": 2013, \"uf\": \"Amap\\u00e1\", \"genero\": \"Masculino\", \"mes\": \"Junho\", \"numero\": 0, \"regiao\": \"Norte\"}, {\"ano\": 2013, \"uf\": \"Amap\\u00e1\", \"genero\": \"Masculino\", \"mes\": \"Julho\", \"numero\": 0, \"regiao\": \"Norte\"}, {\"ano\": 2013, \"uf\": \"Amap\\u00e1\", \"genero\": \"Masculino\", \"mes\": \"Agosto\", \"numero\": 0, \"regiao\": \"Norte\"}, {\"ano\": 2013, \"uf\": \"Amap\\u00e1\", \"genero\": \"Masculino\", \"mes\": \"Setembro\", \"numero\": 1, \"regiao\": \"Norte\"}, {\"ano\": 2013, \"uf\": \"Amap\\u00e1\", \"genero\": \"Masculino\", \"mes\": \"Outubro\", \"numero\": 0, \"regiao\": \"Norte\"}, {\"ano\": 2013, \"uf\": \"Amap\\u00e1\", \"genero\": \"Masculino\", \"mes\": \"Novembro\", \"numero\": 0, \"regiao\": \"Norte\"}, {\"ano\": 2013, \"uf\": \"Amap\\u00e1\", \"genero\": \"Masculino\", \"mes\": \"Dezembro\", \"numero\": 1, \"regiao\": \"Norte\"}, {\"ano\": 2013, \"uf\": \"Amap\\u00e1\", \"genero\": \"Feminino\", \"mes\": \"Janeiro\", \"numero\": 0, \"regiao\": \"Norte\"}, {\"ano\": 2013, \"uf\": \"Amap\\u00e1\", \"genero\": \"Feminino\", \"mes\": \"Fevereiro\", \"numero\": 0, \"regiao\": \"Norte\"}, {\"ano\": 2013, \"uf\": \"Amap\\u00e1\", \"genero\": \"Feminino\", \"mes\": \"Mar\\u00e7o\", \"numero\": 0, \"regiao\": \"Norte\"}, {\"ano\": 2013, \"uf\": \"Amap\\u00e1\", \"genero\": \"Feminino\", \"mes\": \"Abril\", \"numero\": 0, \"regiao\": \"Norte\"}, {\"ano\": 2013, \"uf\": \"Amap\\u00e1\", \"genero\": \"Feminino\", \"mes\": \"Maio\", \"numero\": 0, \"regiao\": \"Norte\"}, {\"ano\": 2013, \"uf\": \"Amap\\u00e1\", \"genero\": \"Feminino\", \"mes\": \"Junho\", \"numero\": 0, \"regiao\": \"Norte\"}, {\"ano\": 2013, \"uf\": \"Amap\\u00e1\", \"genero\": \"Feminino\", \"mes\": \"Julho\", \"numero\": 1, \"regiao\": \"Norte\"}, {\"ano\": 2013, \"uf\": \"Amap\\u00e1\", \"genero\": \"Feminino\", \"mes\": \"Agosto\", \"numero\": 0, \"regiao\": \"Norte\"}, {\"ano\": 2013, \"uf\": \"Amap\\u00e1\", \"genero\": \"Feminino\", \"mes\": \"Setembro\", \"numero\": 1, \"regiao\": \"Norte\"}, {\"ano\": 2013, \"uf\": \"Amap\\u00e1\", \"genero\": \"Feminino\", \"mes\": \"Outubro\", \"numero\": 1, \"regiao\": \"Norte\"}, {\"ano\": 2013, \"uf\": \"Amap\\u00e1\", \"genero\": \"Feminino\", \"mes\": \"Novembro\", \"numero\": 1, \"regiao\": \"Norte\"}, {\"ano\": 2013, \"uf\": \"Amap\\u00e1\", \"genero\": \"Feminino\", \"mes\": \"Dezembro\", \"numero\": 0, \"regiao\": \"Norte\"}, {\"ano\": 2015, \"uf\": \"Amap\\u00e1\", \"genero\": \"Masculino\", \"mes\": \"Janeiro\", \"numero\": 0, \"regiao\": \"Norte\"}, {\"ano\": 2015, \"uf\": \"Amap\\u00e1\", \"genero\": \"Masculino\", \"mes\": \"Fevereiro\", \"numero\": 1, \"regiao\": \"Norte\"}, {\"ano\": 2015, \"uf\": \"Amap\\u00e1\", \"genero\": \"Masculino\", \"mes\": \"Mar\\u00e7o\", \"numero\": 1, \"regiao\": \"Norte\"}, {\"ano\": 2015, \"uf\": \"Amap\\u00e1\", \"genero\": \"Masculino\", \"mes\": \"Abril\", \"numero\": 0, \"regiao\": \"Norte\"}, {\"ano\": 2015, \"uf\": \"Amap\\u00e1\", \"genero\": \"Masculino\", \"mes\": \"Maio\", \"numero\": 0, \"regiao\": \"Norte\"}, {\"ano\": 2015, \"uf\": \"Amap\\u00e1\", \"genero\": \"Masculino\", \"mes\": \"Junho\", \"numero\": 0, \"regiao\": \"Norte\"}, {\"ano\": 2015, \"uf\": \"Amap\\u00e1\", \"genero\": \"Masculino\", \"mes\": \"Julho\", \"numero\": 1, \"regiao\": \"Norte\"}, {\"ano\": 2015, \"uf\": \"Amap\\u00e1\", \"genero\": \"Masculino\", \"mes\": \"Agosto\", \"numero\": 0, \"regiao\": \"Norte\"}, {\"ano\": 2015, \"uf\": \"Amap\\u00e1\", \"genero\": \"Masculino\", \"mes\": \"Setembro\", \"numero\": 0, \"regiao\": \"Norte\"}, {\"ano\": 2015, \"uf\": \"Amap\\u00e1\", \"genero\": \"Masculino\", \"mes\": \"Outubro\", \"numero\": 0, \"regiao\": \"Norte\"}, {\"ano\": 2015, \"uf\": \"Amap\\u00e1\", \"genero\": \"Masculino\", \"mes\": \"Novembro\", \"numero\": 0, \"regiao\": \"Norte\"}, {\"ano\": 2015, \"uf\": \"Amap\\u00e1\", \"genero\": \"Masculino\", \"mes\": \"Dezembro\", \"numero\": 0, \"regiao\": \"Norte\"}, {\"ano\": 2016, \"uf\": \"Amap\\u00e1\", \"genero\": \"Masculino\", \"mes\": \"Janeiro\", \"numero\": 0, \"regiao\": \"Norte\"}, {\"ano\": 2016, \"uf\": \"Amap\\u00e1\", \"genero\": \"Masculino\", \"mes\": \"Fevereiro\", \"numero\": 0, \"regiao\": \"Norte\"}, {\"ano\": 2016, \"uf\": \"Amap\\u00e1\", \"genero\": \"Masculino\", \"mes\": \"Mar\\u00e7o\", \"numero\": 0, \"regiao\": \"Norte\"}, {\"ano\": 2016, \"uf\": \"Amap\\u00e1\", \"genero\": \"Masculino\", \"mes\": \"Abril\", \"numero\": 0, \"regiao\": \"Norte\"}, {\"ano\": 2016, \"uf\": \"Amap\\u00e1\", \"genero\": \"Masculino\", \"mes\": \"Maio\", \"numero\": 1, \"regiao\": \"Norte\"}, {\"ano\": 2016, \"uf\": \"Amap\\u00e1\", \"genero\": \"Masculino\", \"mes\": \"Junho\", \"numero\": 0, \"regiao\": \"Norte\"}, {\"ano\": 2016, \"uf\": \"Amap\\u00e1\", \"genero\": \"Masculino\", \"mes\": \"Julho\", \"numero\": 0, \"regiao\": \"Norte\"}, {\"ano\": 2016, \"uf\": \"Amap\\u00e1\", \"genero\": \"Masculino\", \"mes\": \"Agosto\", \"numero\": 0, \"regiao\": \"Norte\"}, {\"ano\": 2016, \"uf\": \"Amap\\u00e1\", \"genero\": \"Masculino\", \"mes\": \"Setembro\", \"numero\": 0, \"regiao\": \"Norte\"}, {\"ano\": 2016, \"uf\": \"Amap\\u00e1\", \"genero\": \"Masculino\", \"mes\": \"Outubro\", \"numero\": 0, \"regiao\": \"Norte\"}, {\"ano\": 2016, \"uf\": \"Amap\\u00e1\", \"genero\": \"Masculino\", \"mes\": \"Novembro\", \"numero\": 0, \"regiao\": \"Norte\"}, {\"ano\": 2016, \"uf\": \"Amap\\u00e1\", \"genero\": \"Masculino\", \"mes\": \"Dezembro\", \"numero\": 0, \"regiao\": \"Norte\"}, {\"ano\": 2017, \"uf\": \"Amap\\u00e1\", \"genero\": \"Masculino\", \"mes\": \"Janeiro\", \"numero\": 0, \"regiao\": \"Norte\"}, {\"ano\": 2017, \"uf\": \"Amap\\u00e1\", \"genero\": \"Masculino\", \"mes\": \"Fevereiro\", \"numero\": 0, \"regiao\": \"Norte\"}, {\"ano\": 2017, \"uf\": \"Amap\\u00e1\", \"genero\": \"Masculino\", \"mes\": \"Mar\\u00e7o\", \"numero\": 0, \"regiao\": \"Norte\"}, {\"ano\": 2017, \"uf\": \"Amap\\u00e1\", \"genero\": \"Masculino\", \"mes\": \"Abril\", \"numero\": 0, \"regiao\": \"Norte\"}, {\"ano\": 2017, \"uf\": \"Amap\\u00e1\", \"genero\": \"Masculino\", \"mes\": \"Maio\", \"numero\": 0, \"regiao\": \"Norte\"}, {\"ano\": 2017, \"uf\": \"Amap\\u00e1\", \"genero\": \"Masculino\", \"mes\": \"Junho\", \"numero\": 0, \"regiao\": \"Norte\"}, {\"ano\": 2017, \"uf\": \"Amap\\u00e1\", \"genero\": \"Masculino\", \"mes\": \"Julho\", \"numero\": 0, \"regiao\": \"Norte\"}, {\"ano\": 2017, \"uf\": \"Amap\\u00e1\", \"genero\": \"Masculino\", \"mes\": \"Agosto\", \"numero\": 0, \"regiao\": \"Norte\"}, {\"ano\": 2017, \"uf\": \"Amap\\u00e1\", \"genero\": \"Masculino\", \"mes\": \"Setembro\", \"numero\": 0, \"regiao\": \"Norte\"}, {\"ano\": 2017, \"uf\": \"Amap\\u00e1\", \"genero\": \"Masculino\", \"mes\": \"Outubro\", \"numero\": 2, \"regiao\": \"Norte\"}, {\"ano\": 2017, \"uf\": \"Amap\\u00e1\", \"genero\": \"Masculino\", \"mes\": \"Novembro\", \"numero\": 1, \"regiao\": \"Norte\"}, {\"ano\": 2017, \"uf\": \"Amap\\u00e1\", \"genero\": \"Masculino\", \"mes\": \"Dezembro\", \"numero\": 0, \"regiao\": \"Norte\"}, {\"ano\": 2018, \"uf\": \"Amap\\u00e1\", \"genero\": \"Masculino\", \"mes\": \"Janeiro\", \"numero\": 0, \"regiao\": \"Norte\"}, {\"ano\": 2018, \"uf\": \"Amap\\u00e1\", \"genero\": \"Masculino\", \"mes\": \"Fevereiro\", \"numero\": 0, \"regiao\": \"Norte\"}, {\"ano\": 2018, \"uf\": \"Amap\\u00e1\", \"genero\": \"Masculino\", \"mes\": \"Mar\\u00e7o\", \"numero\": 0, \"regiao\": \"Norte\"}, {\"ano\": 2018, \"uf\": \"Amap\\u00e1\", \"genero\": \"Masculino\", \"mes\": \"Abril\", \"numero\": 0, \"regiao\": \"Norte\"}, {\"ano\": 2018, \"uf\": \"Amap\\u00e1\", \"genero\": \"Masculino\", \"mes\": \"Maio\", \"numero\": 0, \"regiao\": \"Norte\"}, {\"ano\": 2018, \"uf\": \"Amap\\u00e1\", \"genero\": \"Masculino\", \"mes\": \"Junho\", \"numero\": 0, \"regiao\": \"Norte\"}, {\"ano\": 2018, \"uf\": \"Amap\\u00e1\", \"genero\": \"Masculino\", \"mes\": \"Julho\", \"numero\": 0, \"regiao\": \"Norte\"}, {\"ano\": 2018, \"uf\": \"Amap\\u00e1\", \"genero\": \"Masculino\", \"mes\": \"Agosto\", \"numero\": 0, \"regiao\": \"Norte\"}, {\"ano\": 2018, \"uf\": \"Amap\\u00e1\", \"genero\": \"Masculino\", \"mes\": \"Setembro\", \"numero\": 0, \"regiao\": \"Norte\"}, {\"ano\": 2018, \"uf\": \"Amap\\u00e1\", \"genero\": \"Masculino\", \"mes\": \"Outubro\", \"numero\": 0, \"regiao\": \"Norte\"}, {\"ano\": 2018, \"uf\": \"Amap\\u00e1\", \"genero\": \"Masculino\", \"mes\": \"Novembro\", \"numero\": 1, \"regiao\": \"Norte\"}, {\"ano\": 2018, \"uf\": \"Amap\\u00e1\", \"genero\": \"Masculino\", \"mes\": \"Dezembro\", \"numero\": 0, \"regiao\": \"Norte\"}, {\"ano\": 2019, \"uf\": \"Amap\\u00e1\", \"genero\": \"Masculino\", \"mes\": \"Janeiro\", \"numero\": 0, \"regiao\": \"Norte\"}, {\"ano\": 2019, \"uf\": \"Amap\\u00e1\", \"genero\": \"Masculino\", \"mes\": \"Fevereiro\", \"numero\": 5, \"regiao\": \"Norte\"}, {\"ano\": 2019, \"uf\": \"Amap\\u00e1\", \"genero\": \"Masculino\", \"mes\": \"Mar\\u00e7o\", \"numero\": 0, \"regiao\": \"Norte\"}, {\"ano\": 2019, \"uf\": \"Amap\\u00e1\", \"genero\": \"Masculino\", \"mes\": \"Abril\", \"numero\": 0, \"regiao\": \"Norte\"}, {\"ano\": 2019, \"uf\": \"Amap\\u00e1\", \"genero\": \"Masculino\", \"mes\": \"Maio\", \"numero\": 0, \"regiao\": \"Norte\"}, {\"ano\": 2019, \"uf\": \"Amap\\u00e1\", \"genero\": \"Masculino\", \"mes\": \"Junho\", \"numero\": 0, \"regiao\": \"Norte\"}, {\"ano\": 2019, \"uf\": \"Amap\\u00e1\", \"genero\": \"Masculino\", \"mes\": \"Julho\", \"numero\": 0, \"regiao\": \"Norte\"}, {\"ano\": 2019, \"uf\": \"Amap\\u00e1\", \"genero\": \"Masculino\", \"mes\": \"Agosto\", \"numero\": 0, \"regiao\": \"Norte\"}, {\"ano\": 2019, \"uf\": \"Amap\\u00e1\", \"genero\": \"Masculino\", \"mes\": \"Setembro\", \"numero\": 0, \"regiao\": \"Norte\"}, {\"ano\": 2019, \"uf\": \"Amap\\u00e1\", \"genero\": \"Masculino\", \"mes\": \"Outubro\", \"numero\": 0, \"regiao\": \"Norte\"}, {\"ano\": 2019, \"uf\": \"Amap\\u00e1\", \"genero\": \"Masculino\", \"mes\": \"Novembro\", \"numero\": 0, \"regiao\": \"Norte\"}, {\"ano\": 2019, \"uf\": \"Amap\\u00e1\", \"genero\": \"Masculino\", \"mes\": \"Dezembro\", \"numero\": 0, \"regiao\": \"Norte\"}, {\"ano\": 2015, \"uf\": \"Amap\\u00e1\", \"genero\": \"Feminino\", \"mes\": \"Janeiro\", \"numero\": 0, \"regiao\": \"Norte\"}, {\"ano\": 2015, \"uf\": \"Amap\\u00e1\", \"genero\": \"Feminino\", \"mes\": \"Fevereiro\", \"numero\": 0, \"regiao\": \"Norte\"}, {\"ano\": 2015, \"uf\": \"Amap\\u00e1\", \"genero\": \"Feminino\", \"mes\": \"Mar\\u00e7o\", \"numero\": 0, \"regiao\": \"Norte\"}, {\"ano\": 2015, \"uf\": \"Amap\\u00e1\", \"genero\": \"Feminino\", \"mes\": \"Abril\", \"numero\": 0, \"regiao\": \"Norte\"}, {\"ano\": 2015, \"uf\": \"Amap\\u00e1\", \"genero\": \"Feminino\", \"mes\": \"Maio\", \"numero\": 0, \"regiao\": \"Norte\"}, {\"ano\": 2015, \"uf\": \"Amap\\u00e1\", \"genero\": \"Feminino\", \"mes\": \"Junho\", \"numero\": 0, \"regiao\": \"Norte\"}, {\"ano\": 2015, \"uf\": \"Amap\\u00e1\", \"genero\": \"Feminino\", \"mes\": \"Julho\", \"numero\": 0, \"regiao\": \"Norte\"}, {\"ano\": 2015, \"uf\": \"Amap\\u00e1\", \"genero\": \"Feminino\", \"mes\": \"Agosto\", \"numero\": 0, \"regiao\": \"Norte\"}, {\"ano\": 2015, \"uf\": \"Amap\\u00e1\", \"genero\": \"Feminino\", \"mes\": \"Setembro\", \"numero\": 2, \"regiao\": \"Norte\"}, {\"ano\": 2015, \"uf\": \"Amap\\u00e1\", \"genero\": \"Feminino\", \"mes\": \"Outubro\", \"numero\": 0, \"regiao\": \"Norte\"}, {\"ano\": 2015, \"uf\": \"Amap\\u00e1\", \"genero\": \"Feminino\", \"mes\": \"Novembro\", \"numero\": 0, \"regiao\": \"Norte\"}, {\"ano\": 2015, \"uf\": \"Amap\\u00e1\", \"genero\": \"Feminino\", \"mes\": \"Dezembro\", \"numero\": 1, \"regiao\": \"Norte\"}, {\"ano\": 2016, \"uf\": \"Amap\\u00e1\", \"genero\": \"Feminino\", \"mes\": \"Janeiro\", \"numero\": 1, \"regiao\": \"Norte\"}, {\"ano\": 2016, \"uf\": \"Amap\\u00e1\", \"genero\": \"Feminino\", \"mes\": \"Fevereiro\", \"numero\": 0, \"regiao\": \"Norte\"}, {\"ano\": 2016, \"uf\": \"Amap\\u00e1\", \"genero\": \"Feminino\", \"mes\": \"Mar\\u00e7o\", \"numero\": 0, \"regiao\": \"Norte\"}, {\"ano\": 2016, \"uf\": \"Amap\\u00e1\", \"genero\": \"Feminino\", \"mes\": \"Abril\", \"numero\": 0, \"regiao\": \"Norte\"}, {\"ano\": 2016, \"uf\": \"Amap\\u00e1\", \"genero\": \"Feminino\", \"mes\": \"Maio\", \"numero\": 0, \"regiao\": \"Norte\"}, {\"ano\": 2016, \"uf\": \"Amap\\u00e1\", \"genero\": \"Feminino\", \"mes\": \"Junho\", \"numero\": 1, \"regiao\": \"Norte\"}, {\"ano\": 2016, \"uf\": \"Amap\\u00e1\", \"genero\": \"Feminino\", \"mes\": \"Julho\", \"numero\": 0, \"regiao\": \"Norte\"}, {\"ano\": 2016, \"uf\": \"Amap\\u00e1\", \"genero\": \"Feminino\", \"mes\": \"Agosto\", \"numero\": 0, \"regiao\": \"Norte\"}, {\"ano\": 2016, \"uf\": \"Amap\\u00e1\", \"genero\": \"Feminino\", \"mes\": \"Setembro\", \"numero\": 1, \"regiao\": \"Norte\"}, {\"ano\": 2016, \"uf\": \"Amap\\u00e1\", \"genero\": \"Feminino\", \"mes\": \"Outubro\", \"numero\": 0, \"regiao\": \"Norte\"}, {\"ano\": 2016, \"uf\": \"Amap\\u00e1\", \"genero\": \"Feminino\", \"mes\": \"Novembro\", \"numero\": 1, \"regiao\": \"Norte\"}, {\"ano\": 2016, \"uf\": \"Amap\\u00e1\", \"genero\": \"Feminino\", \"mes\": \"Dezembro\", \"numero\": 1, \"regiao\": \"Norte\"}, {\"ano\": 2017, \"uf\": \"Amap\\u00e1\", \"genero\": \"Feminino\", \"mes\": \"Janeiro\", \"numero\": 1, \"regiao\": \"Norte\"}, {\"ano\": 2017, \"uf\": \"Amap\\u00e1\", \"genero\": \"Feminino\", \"mes\": \"Fevereiro\", \"numero\": 1, \"regiao\": \"Norte\"}, {\"ano\": 2017, \"uf\": \"Amap\\u00e1\", \"genero\": \"Feminino\", \"mes\": \"Mar\\u00e7o\", \"numero\": 0, \"regiao\": \"Norte\"}, {\"ano\": 2017, \"uf\": \"Amap\\u00e1\", \"genero\": \"Feminino\", \"mes\": \"Abril\", \"numero\": 0, \"regiao\": \"Norte\"}, {\"ano\": 2017, \"uf\": \"Amap\\u00e1\", \"genero\": \"Feminino\", \"mes\": \"Maio\", \"numero\": 0, \"regiao\": \"Norte\"}, {\"ano\": 2017, \"uf\": \"Amap\\u00e1\", \"genero\": \"Feminino\", \"mes\": \"Junho\", \"numero\": 0, \"regiao\": \"Norte\"}, {\"ano\": 2017, \"uf\": \"Amap\\u00e1\", \"genero\": \"Feminino\", \"mes\": \"Julho\", \"numero\": 0, \"regiao\": \"Norte\"}, {\"ano\": 2017, \"uf\": \"Amap\\u00e1\", \"genero\": \"Feminino\", \"mes\": \"Agosto\", \"numero\": 1, \"regiao\": \"Norte\"}, {\"ano\": 2017, \"uf\": \"Amap\\u00e1\", \"genero\": \"Feminino\", \"mes\": \"Setembro\", \"numero\": 1, \"regiao\": \"Norte\"}, {\"ano\": 2017, \"uf\": \"Amap\\u00e1\", \"genero\": \"Feminino\", \"mes\": \"Outubro\", \"numero\": 1, \"regiao\": \"Norte\"}, {\"ano\": 2017, \"uf\": \"Amap\\u00e1\", \"genero\": \"Feminino\", \"mes\": \"Novembro\", \"numero\": 1, \"regiao\": \"Norte\"}, {\"ano\": 2017, \"uf\": \"Amap\\u00e1\", \"genero\": \"Feminino\", \"mes\": \"Dezembro\", \"numero\": 1, \"regiao\": \"Norte\"}, {\"ano\": 2018, \"uf\": \"Amap\\u00e1\", \"genero\": \"Feminino\", \"mes\": \"Janeiro\", \"numero\": 0, \"regiao\": \"Norte\"}, {\"ano\": 2018, \"uf\": \"Amap\\u00e1\", \"genero\": \"Feminino\", \"mes\": \"Fevereiro\", \"numero\": 0, \"regiao\": \"Norte\"}, {\"ano\": 2018, \"uf\": \"Amap\\u00e1\", \"genero\": \"Feminino\", \"mes\": \"Mar\\u00e7o\", \"numero\": 1, \"regiao\": \"Norte\"}, {\"ano\": 2018, \"uf\": \"Amap\\u00e1\", \"genero\": \"Feminino\", \"mes\": \"Abril\", \"numero\": 0, \"regiao\": \"Norte\"}, {\"ano\": 2018, \"uf\": \"Amap\\u00e1\", \"genero\": \"Feminino\", \"mes\": \"Maio\", \"numero\": 1, \"regiao\": \"Norte\"}, {\"ano\": 2018, \"uf\": \"Amap\\u00e1\", \"genero\": \"Feminino\", \"mes\": \"Junho\", \"numero\": 0, \"regiao\": \"Norte\"}, {\"ano\": 2018, \"uf\": \"Amap\\u00e1\", \"genero\": \"Feminino\", \"mes\": \"Julho\", \"numero\": 0, \"regiao\": \"Norte\"}, {\"ano\": 2018, \"uf\": \"Amap\\u00e1\", \"genero\": \"Feminino\", \"mes\": \"Agosto\", \"numero\": 0, \"regiao\": \"Norte\"}, {\"ano\": 2018, \"uf\": \"Amap\\u00e1\", \"genero\": \"Feminino\", \"mes\": \"Setembro\", \"numero\": 1, \"regiao\": \"Norte\"}, {\"ano\": 2018, \"uf\": \"Amap\\u00e1\", \"genero\": \"Feminino\", \"mes\": \"Outubro\", \"numero\": 0, \"regiao\": \"Norte\"}, {\"ano\": 2018, \"uf\": \"Amap\\u00e1\", \"genero\": \"Feminino\", \"mes\": \"Novembro\", \"numero\": 0, \"regiao\": \"Norte\"}, {\"ano\": 2018, \"uf\": \"Amap\\u00e1\", \"genero\": \"Feminino\", \"mes\": \"Dezembro\", \"numero\": 4, \"regiao\": \"Norte\"}, {\"ano\": 2019, \"uf\": \"Amap\\u00e1\", \"genero\": \"Feminino\", \"mes\": \"Janeiro\", \"numero\": 0, \"regiao\": \"Norte\"}, {\"ano\": 2019, \"uf\": \"Amap\\u00e1\", \"genero\": \"Feminino\", \"mes\": \"Fevereiro\", \"numero\": 5, \"regiao\": \"Norte\"}, {\"ano\": 2019, \"uf\": \"Amap\\u00e1\", \"genero\": \"Feminino\", \"mes\": \"Mar\\u00e7o\", \"numero\": 2, \"regiao\": \"Norte\"}, {\"ano\": 2019, \"uf\": \"Amap\\u00e1\", \"genero\": \"Feminino\", \"mes\": \"Abril\", \"numero\": 0, \"regiao\": \"Norte\"}, {\"ano\": 2019, \"uf\": \"Amap\\u00e1\", \"genero\": \"Feminino\", \"mes\": \"Maio\", \"numero\": 0, \"regiao\": \"Norte\"}, {\"ano\": 2019, \"uf\": \"Amap\\u00e1\", \"genero\": \"Feminino\", \"mes\": \"Junho\", \"numero\": 0, \"regiao\": \"Norte\"}, {\"ano\": 2019, \"uf\": \"Amap\\u00e1\", \"genero\": \"Feminino\", \"mes\": \"Julho\", \"numero\": 0, \"regiao\": \"Norte\"}, {\"ano\": 2019, \"uf\": \"Amap\\u00e1\", \"genero\": \"Feminino\", \"mes\": \"Agosto\", \"numero\": 2, \"regiao\": \"Norte\"}, {\"ano\": 2019, \"uf\": \"Amap\\u00e1\", \"genero\": \"Feminino\", \"mes\": \"Setembro\", \"numero\": 0, \"regiao\": \"Norte\"}, {\"ano\": 2019, \"uf\": \"Amap\\u00e1\", \"genero\": \"Feminino\", \"mes\": \"Outubro\", \"numero\": 1, \"regiao\": \"Norte\"}, {\"ano\": 2019, \"uf\": \"Amap\\u00e1\", \"genero\": \"Feminino\", \"mes\": \"Novembro\", \"numero\": 1, \"regiao\": \"Norte\"}, {\"ano\": 2019, \"uf\": \"Amap\\u00e1\", \"genero\": \"Feminino\", \"mes\": \"Dezembro\", \"numero\": 1, \"regiao\": \"Norte\"}, {\"ano\": 2014, \"uf\": \"Tocantins\", \"genero\": \"Masculino\", \"mes\": \"Janeiro\", \"numero\": 2, \"regiao\": \"Norte\"}, {\"ano\": 2014, \"uf\": \"Tocantins\", \"genero\": \"Masculino\", \"mes\": \"Fevereiro\", \"numero\": 0, \"regiao\": \"Norte\"}, {\"ano\": 2014, \"uf\": \"Tocantins\", \"genero\": \"Masculino\", \"mes\": \"Mar\\u00e7o\", \"numero\": 1, \"regiao\": \"Norte\"}, {\"ano\": 2014, \"uf\": \"Tocantins\", \"genero\": \"Masculino\", \"mes\": \"Abril\", \"numero\": 2, \"regiao\": \"Norte\"}, {\"ano\": 2014, \"uf\": \"Tocantins\", \"genero\": \"Masculino\", \"mes\": \"Maio\", \"numero\": 1, \"regiao\": \"Norte\"}, {\"ano\": 2014, \"uf\": \"Tocantins\", \"genero\": \"Masculino\", \"mes\": \"Junho\", \"numero\": 0, \"regiao\": \"Norte\"}, {\"ano\": 2014, \"uf\": \"Tocantins\", \"genero\": \"Masculino\", \"mes\": \"Julho\", \"numero\": 2, \"regiao\": \"Norte\"}, {\"ano\": 2014, \"uf\": \"Tocantins\", \"genero\": \"Masculino\", \"mes\": \"Agosto\", \"numero\": 0, \"regiao\": \"Norte\"}, {\"ano\": 2014, \"uf\": \"Tocantins\", \"genero\": \"Masculino\", \"mes\": \"Setembro\", \"numero\": 0, \"regiao\": \"Norte\"}, {\"ano\": 2014, \"uf\": \"Tocantins\", \"genero\": \"Masculino\", \"mes\": \"Outubro\", \"numero\": 1, \"regiao\": \"Norte\"}, {\"ano\": 2014, \"uf\": \"Tocantins\", \"genero\": \"Masculino\", \"mes\": \"Novembro\", \"numero\": 1, \"regiao\": \"Norte\"}, {\"ano\": 2014, \"uf\": \"Tocantins\", \"genero\": \"Masculino\", \"mes\": \"Dezembro\", \"numero\": 0, \"regiao\": \"Norte\"}, {\"ano\": 2014, \"uf\": \"Tocantins\", \"genero\": \"Feminino\", \"mes\": \"Janeiro\", \"numero\": 0, \"regiao\": \"Norte\"}, {\"ano\": 2014, \"uf\": \"Tocantins\", \"genero\": \"Feminino\", \"mes\": \"Fevereiro\", \"numero\": 0, \"regiao\": \"Norte\"}, {\"ano\": 2014, \"uf\": \"Tocantins\", \"genero\": \"Feminino\", \"mes\": \"Mar\\u00e7o\", \"numero\": 0, \"regiao\": \"Norte\"}, {\"ano\": 2014, \"uf\": \"Tocantins\", \"genero\": \"Feminino\", \"mes\": \"Abril\", \"numero\": 0, \"regiao\": \"Norte\"}, {\"ano\": 2014, \"uf\": \"Tocantins\", \"genero\": \"Feminino\", \"mes\": \"Maio\", \"numero\": 0, \"regiao\": \"Norte\"}, {\"ano\": 2014, \"uf\": \"Tocantins\", \"genero\": \"Feminino\", \"mes\": \"Junho\", \"numero\": 0, \"regiao\": \"Norte\"}, {\"ano\": 2014, \"uf\": \"Tocantins\", \"genero\": \"Feminino\", \"mes\": \"Julho\", \"numero\": 0, \"regiao\": \"Norte\"}, {\"ano\": 2014, \"uf\": \"Tocantins\", \"genero\": \"Feminino\", \"mes\": \"Agosto\", \"numero\": 0, \"regiao\": \"Norte\"}, {\"ano\": 2014, \"uf\": \"Tocantins\", \"genero\": \"Feminino\", \"mes\": \"Setembro\", \"numero\": 0, \"regiao\": \"Norte\"}, {\"ano\": 2014, \"uf\": \"Tocantins\", \"genero\": \"Feminino\", \"mes\": \"Outubro\", \"numero\": 1, \"regiao\": \"Norte\"}, {\"ano\": 2014, \"uf\": \"Tocantins\", \"genero\": \"Feminino\", \"mes\": \"Novembro\", \"numero\": 0, \"regiao\": \"Norte\"}, {\"ano\": 2014, \"uf\": \"Tocantins\", \"genero\": \"Feminino\", \"mes\": \"Dezembro\", \"numero\": 0, \"regiao\": \"Norte\"}, {\"ano\": 2013, \"uf\": \"Tocantins\", \"genero\": \"Masculino\", \"mes\": \"Janeiro\", \"numero\": 0, \"regiao\": \"Norte\"}, {\"ano\": 2013, \"uf\": \"Tocantins\", \"genero\": \"Masculino\", \"mes\": \"Fevereiro\", \"numero\": 0, \"regiao\": \"Norte\"}, {\"ano\": 2013, \"uf\": \"Tocantins\", \"genero\": \"Masculino\", \"mes\": \"Mar\\u00e7o\", \"numero\": 0, \"regiao\": \"Norte\"}, {\"ano\": 2013, \"uf\": \"Tocantins\", \"genero\": \"Masculino\", \"mes\": \"Abril\", \"numero\": 0, \"regiao\": \"Norte\"}, {\"ano\": 2013, \"uf\": \"Tocantins\", \"genero\": \"Masculino\", \"mes\": \"Maio\", \"numero\": 0, \"regiao\": \"Norte\"}, {\"ano\": 2013, \"uf\": \"Tocantins\", \"genero\": \"Masculino\", \"mes\": \"Junho\", \"numero\": 2, \"regiao\": \"Norte\"}, {\"ano\": 2013, \"uf\": \"Tocantins\", \"genero\": \"Masculino\", \"mes\": \"Julho\", \"numero\": 0, \"regiao\": \"Norte\"}, {\"ano\": 2013, \"uf\": \"Tocantins\", \"genero\": \"Masculino\", \"mes\": \"Agosto\", \"numero\": 0, \"regiao\": \"Norte\"}, {\"ano\": 2013, \"uf\": \"Tocantins\", \"genero\": \"Masculino\", \"mes\": \"Setembro\", \"numero\": 1, \"regiao\": \"Norte\"}, {\"ano\": 2013, \"uf\": \"Tocantins\", \"genero\": \"Masculino\", \"mes\": \"Outubro\", \"numero\": 0, \"regiao\": \"Norte\"}, {\"ano\": 2013, \"uf\": \"Tocantins\", \"genero\": \"Masculino\", \"mes\": \"Novembro\", \"numero\": 1, \"regiao\": \"Norte\"}, {\"ano\": 2013, \"uf\": \"Tocantins\", \"genero\": \"Masculino\", \"mes\": \"Dezembro\", \"numero\": 0, \"regiao\": \"Norte\"}, {\"ano\": 2013, \"uf\": \"Tocantins\", \"genero\": \"Feminino\", \"mes\": \"Janeiro\", \"numero\": 0, \"regiao\": \"Norte\"}, {\"ano\": 2013, \"uf\": \"Tocantins\", \"genero\": \"Feminino\", \"mes\": \"Fevereiro\", \"numero\": 0, \"regiao\": \"Norte\"}, {\"ano\": 2013, \"uf\": \"Tocantins\", \"genero\": \"Feminino\", \"mes\": \"Mar\\u00e7o\", \"numero\": 0, \"regiao\": \"Norte\"}, {\"ano\": 2013, \"uf\": \"Tocantins\", \"genero\": \"Feminino\", \"mes\": \"Abril\", \"numero\": 0, \"regiao\": \"Norte\"}, {\"ano\": 2013, \"uf\": \"Tocantins\", \"genero\": \"Feminino\", \"mes\": \"Maio\", \"numero\": 0, \"regiao\": \"Norte\"}, {\"ano\": 2013, \"uf\": \"Tocantins\", \"genero\": \"Feminino\", \"mes\": \"Junho\", \"numero\": 0, \"regiao\": \"Norte\"}, {\"ano\": 2013, \"uf\": \"Tocantins\", \"genero\": \"Feminino\", \"mes\": \"Julho\", \"numero\": 0, \"regiao\": \"Norte\"}, {\"ano\": 2013, \"uf\": \"Tocantins\", \"genero\": \"Feminino\", \"mes\": \"Agosto\", \"numero\": 0, \"regiao\": \"Norte\"}, {\"ano\": 2013, \"uf\": \"Tocantins\", \"genero\": \"Feminino\", \"mes\": \"Setembro\", \"numero\": 0, \"regiao\": \"Norte\"}, {\"ano\": 2013, \"uf\": \"Tocantins\", \"genero\": \"Feminino\", \"mes\": \"Outubro\", \"numero\": 0, \"regiao\": \"Norte\"}, {\"ano\": 2013, \"uf\": \"Tocantins\", \"genero\": \"Feminino\", \"mes\": \"Novembro\", \"numero\": 0, \"regiao\": \"Norte\"}, {\"ano\": 2013, \"uf\": \"Tocantins\", \"genero\": \"Feminino\", \"mes\": \"Dezembro\", \"numero\": 1, \"regiao\": \"Norte\"}, {\"ano\": 2015, \"uf\": \"Tocantins\", \"genero\": \"Masculino\", \"mes\": \"Janeiro\", \"numero\": 1, \"regiao\": \"Norte\"}, {\"ano\": 2015, \"uf\": \"Tocantins\", \"genero\": \"Masculino\", \"mes\": \"Fevereiro\", \"numero\": 1, \"regiao\": \"Norte\"}, {\"ano\": 2015, \"uf\": \"Tocantins\", \"genero\": \"Masculino\", \"mes\": \"Mar\\u00e7o\", \"numero\": 0, \"regiao\": \"Norte\"}, {\"ano\": 2015, \"uf\": \"Tocantins\", \"genero\": \"Masculino\", \"mes\": \"Abril\", \"numero\": 1, \"regiao\": \"Norte\"}, {\"ano\": 2015, \"uf\": \"Tocantins\", \"genero\": \"Masculino\", \"mes\": \"Maio\", \"numero\": 0, \"regiao\": \"Norte\"}, {\"ano\": 2015, \"uf\": \"Tocantins\", \"genero\": \"Masculino\", \"mes\": \"Junho\", \"numero\": 1, \"regiao\": \"Norte\"}, {\"ano\": 2015, \"uf\": \"Tocantins\", \"genero\": \"Masculino\", \"mes\": \"Julho\", \"numero\": 0, \"regiao\": \"Norte\"}, {\"ano\": 2015, \"uf\": \"Tocantins\", \"genero\": \"Masculino\", \"mes\": \"Agosto\", \"numero\": 1, \"regiao\": \"Norte\"}, {\"ano\": 2015, \"uf\": \"Tocantins\", \"genero\": \"Masculino\", \"mes\": \"Setembro\", \"numero\": 0, \"regiao\": \"Norte\"}, {\"ano\": 2015, \"uf\": \"Tocantins\", \"genero\": \"Masculino\", \"mes\": \"Outubro\", \"numero\": 0, \"regiao\": \"Norte\"}, {\"ano\": 2015, \"uf\": \"Tocantins\", \"genero\": \"Masculino\", \"mes\": \"Novembro\", \"numero\": 1, \"regiao\": \"Norte\"}, {\"ano\": 2015, \"uf\": \"Tocantins\", \"genero\": \"Masculino\", \"mes\": \"Dezembro\", \"numero\": 0, \"regiao\": \"Norte\"}, {\"ano\": 2016, \"uf\": \"Tocantins\", \"genero\": \"Masculino\", \"mes\": \"Janeiro\", \"numero\": 0, \"regiao\": \"Norte\"}, {\"ano\": 2016, \"uf\": \"Tocantins\", \"genero\": \"Masculino\", \"mes\": \"Fevereiro\", \"numero\": 0, \"regiao\": \"Norte\"}, {\"ano\": 2016, \"uf\": \"Tocantins\", \"genero\": \"Masculino\", \"mes\": \"Mar\\u00e7o\", \"numero\": 0, \"regiao\": \"Norte\"}, {\"ano\": 2016, \"uf\": \"Tocantins\", \"genero\": \"Masculino\", \"mes\": \"Abril\", \"numero\": 1, \"regiao\": \"Norte\"}, {\"ano\": 2016, \"uf\": \"Tocantins\", \"genero\": \"Masculino\", \"mes\": \"Maio\", \"numero\": 0, \"regiao\": \"Norte\"}, {\"ano\": 2016, \"uf\": \"Tocantins\", \"genero\": \"Masculino\", \"mes\": \"Junho\", \"numero\": 0, \"regiao\": \"Norte\"}, {\"ano\": 2016, \"uf\": \"Tocantins\", \"genero\": \"Masculino\", \"mes\": \"Julho\", \"numero\": 0, \"regiao\": \"Norte\"}, {\"ano\": 2016, \"uf\": \"Tocantins\", \"genero\": \"Masculino\", \"mes\": \"Agosto\", \"numero\": 0, \"regiao\": \"Norte\"}, {\"ano\": 2016, \"uf\": \"Tocantins\", \"genero\": \"Masculino\", \"mes\": \"Setembro\", \"numero\": 0, \"regiao\": \"Norte\"}, {\"ano\": 2016, \"uf\": \"Tocantins\", \"genero\": \"Masculino\", \"mes\": \"Outubro\", \"numero\": 1, \"regiao\": \"Norte\"}, {\"ano\": 2016, \"uf\": \"Tocantins\", \"genero\": \"Masculino\", \"mes\": \"Novembro\", \"numero\": 1, \"regiao\": \"Norte\"}, {\"ano\": 2016, \"uf\": \"Tocantins\", \"genero\": \"Masculino\", \"mes\": \"Dezembro\", \"numero\": 1, \"regiao\": \"Norte\"}, {\"ano\": 2017, \"uf\": \"Tocantins\", \"genero\": \"Masculino\", \"mes\": \"Janeiro\", \"numero\": 0, \"regiao\": \"Norte\"}, {\"ano\": 2017, \"uf\": \"Tocantins\", \"genero\": \"Masculino\", \"mes\": \"Fevereiro\", \"numero\": 0, \"regiao\": \"Norte\"}, {\"ano\": 2017, \"uf\": \"Tocantins\", \"genero\": \"Masculino\", \"mes\": \"Mar\\u00e7o\", \"numero\": 0, \"regiao\": \"Norte\"}, {\"ano\": 2017, \"uf\": \"Tocantins\", \"genero\": \"Masculino\", \"mes\": \"Abril\", \"numero\": 0, \"regiao\": \"Norte\"}, {\"ano\": 2017, \"uf\": \"Tocantins\", \"genero\": \"Masculino\", \"mes\": \"Maio\", \"numero\": 0, \"regiao\": \"Norte\"}, {\"ano\": 2017, \"uf\": \"Tocantins\", \"genero\": \"Masculino\", \"mes\": \"Junho\", \"numero\": 0, \"regiao\": \"Norte\"}, {\"ano\": 2017, \"uf\": \"Tocantins\", \"genero\": \"Masculino\", \"mes\": \"Julho\", \"numero\": 0, \"regiao\": \"Norte\"}, {\"ano\": 2017, \"uf\": \"Tocantins\", \"genero\": \"Masculino\", \"mes\": \"Agosto\", \"numero\": 1, \"regiao\": \"Norte\"}, {\"ano\": 2017, \"uf\": \"Tocantins\", \"genero\": \"Masculino\", \"mes\": \"Setembro\", \"numero\": 2, \"regiao\": \"Norte\"}, {\"ano\": 2017, \"uf\": \"Tocantins\", \"genero\": \"Masculino\", \"mes\": \"Outubro\", \"numero\": 0, \"regiao\": \"Norte\"}, {\"ano\": 2017, \"uf\": \"Tocantins\", \"genero\": \"Masculino\", \"mes\": \"Novembro\", \"numero\": 0, \"regiao\": \"Norte\"}, {\"ano\": 2017, \"uf\": \"Tocantins\", \"genero\": \"Masculino\", \"mes\": \"Dezembro\", \"numero\": 1, \"regiao\": \"Norte\"}, {\"ano\": 2018, \"uf\": \"Tocantins\", \"genero\": \"Masculino\", \"mes\": \"Janeiro\", \"numero\": 0, \"regiao\": \"Norte\"}, {\"ano\": 2018, \"uf\": \"Tocantins\", \"genero\": \"Masculino\", \"mes\": \"Fevereiro\", \"numero\": 1, \"regiao\": \"Norte\"}, {\"ano\": 2018, \"uf\": \"Tocantins\", \"genero\": \"Masculino\", \"mes\": \"Mar\\u00e7o\", \"numero\": 0, \"regiao\": \"Norte\"}, {\"ano\": 2018, \"uf\": \"Tocantins\", \"genero\": \"Masculino\", \"mes\": \"Abril\", \"numero\": 0, \"regiao\": \"Norte\"}, {\"ano\": 2018, \"uf\": \"Tocantins\", \"genero\": \"Masculino\", \"mes\": \"Maio\", \"numero\": 0, \"regiao\": \"Norte\"}, {\"ano\": 2018, \"uf\": \"Tocantins\", \"genero\": \"Masculino\", \"mes\": \"Junho\", \"numero\": 4, \"regiao\": \"Norte\"}, {\"ano\": 2018, \"uf\": \"Tocantins\", \"genero\": \"Masculino\", \"mes\": \"Julho\", \"numero\": 0, \"regiao\": \"Norte\"}, {\"ano\": 2018, \"uf\": \"Tocantins\", \"genero\": \"Masculino\", \"mes\": \"Agosto\", \"numero\": 0, \"regiao\": \"Norte\"}, {\"ano\": 2018, \"uf\": \"Tocantins\", \"genero\": \"Masculino\", \"mes\": \"Setembro\", \"numero\": 0, \"regiao\": \"Norte\"}, {\"ano\": 2018, \"uf\": \"Tocantins\", \"genero\": \"Masculino\", \"mes\": \"Outubro\", \"numero\": 0, \"regiao\": \"Norte\"}, {\"ano\": 2018, \"uf\": \"Tocantins\", \"genero\": \"Masculino\", \"mes\": \"Novembro\", \"numero\": 1, \"regiao\": \"Norte\"}, {\"ano\": 2018, \"uf\": \"Tocantins\", \"genero\": \"Masculino\", \"mes\": \"Dezembro\", \"numero\": 1, \"regiao\": \"Norte\"}, {\"ano\": 2019, \"uf\": \"Tocantins\", \"genero\": \"Masculino\", \"mes\": \"Janeiro\", \"numero\": 1, \"regiao\": \"Norte\"}, {\"ano\": 2019, \"uf\": \"Tocantins\", \"genero\": \"Masculino\", \"mes\": \"Fevereiro\", \"numero\": 1, \"regiao\": \"Norte\"}, {\"ano\": 2019, \"uf\": \"Tocantins\", \"genero\": \"Masculino\", \"mes\": \"Mar\\u00e7o\", \"numero\": 0, \"regiao\": \"Norte\"}, {\"ano\": 2019, \"uf\": \"Tocantins\", \"genero\": \"Masculino\", \"mes\": \"Abril\", \"numero\": 0, \"regiao\": \"Norte\"}, {\"ano\": 2019, \"uf\": \"Tocantins\", \"genero\": \"Masculino\", \"mes\": \"Maio\", \"numero\": 0, \"regiao\": \"Norte\"}, {\"ano\": 2019, \"uf\": \"Tocantins\", \"genero\": \"Masculino\", \"mes\": \"Junho\", \"numero\": 1, \"regiao\": \"Norte\"}, {\"ano\": 2019, \"uf\": \"Tocantins\", \"genero\": \"Masculino\", \"mes\": \"Julho\", \"numero\": 0, \"regiao\": \"Norte\"}, {\"ano\": 2019, \"uf\": \"Tocantins\", \"genero\": \"Masculino\", \"mes\": \"Agosto\", \"numero\": 1, \"regiao\": \"Norte\"}, {\"ano\": 2019, \"uf\": \"Tocantins\", \"genero\": \"Masculino\", \"mes\": \"Setembro\", \"numero\": 2, \"regiao\": \"Norte\"}, {\"ano\": 2019, \"uf\": \"Tocantins\", \"genero\": \"Masculino\", \"mes\": \"Outubro\", \"numero\": 0, \"regiao\": \"Norte\"}, {\"ano\": 2019, \"uf\": \"Tocantins\", \"genero\": \"Masculino\", \"mes\": \"Novembro\", \"numero\": 1, \"regiao\": \"Norte\"}, {\"ano\": 2019, \"uf\": \"Tocantins\", \"genero\": \"Masculino\", \"mes\": \"Dezembro\", \"numero\": 1, \"regiao\": \"Norte\"}, {\"ano\": 2015, \"uf\": \"Tocantins\", \"genero\": \"Feminino\", \"mes\": \"Janeiro\", \"numero\": 0, \"regiao\": \"Norte\"}, {\"ano\": 2015, \"uf\": \"Tocantins\", \"genero\": \"Feminino\", \"mes\": \"Fevereiro\", \"numero\": 0, \"regiao\": \"Norte\"}, {\"ano\": 2015, \"uf\": \"Tocantins\", \"genero\": \"Feminino\", \"mes\": \"Mar\\u00e7o\", \"numero\": 0, \"regiao\": \"Norte\"}, {\"ano\": 2015, \"uf\": \"Tocantins\", \"genero\": \"Feminino\", \"mes\": \"Abril\", \"numero\": 0, \"regiao\": \"Norte\"}, {\"ano\": 2015, \"uf\": \"Tocantins\", \"genero\": \"Feminino\", \"mes\": \"Maio\", \"numero\": 0, \"regiao\": \"Norte\"}, {\"ano\": 2015, \"uf\": \"Tocantins\", \"genero\": \"Feminino\", \"mes\": \"Junho\", \"numero\": 0, \"regiao\": \"Norte\"}, {\"ano\": 2015, \"uf\": \"Tocantins\", \"genero\": \"Feminino\", \"mes\": \"Julho\", \"numero\": 0, \"regiao\": \"Norte\"}, {\"ano\": 2015, \"uf\": \"Tocantins\", \"genero\": \"Feminino\", \"mes\": \"Agosto\", \"numero\": 0, \"regiao\": \"Norte\"}, {\"ano\": 2015, \"uf\": \"Tocantins\", \"genero\": \"Feminino\", \"mes\": \"Setembro\", \"numero\": 0, \"regiao\": \"Norte\"}, {\"ano\": 2015, \"uf\": \"Tocantins\", \"genero\": \"Feminino\", \"mes\": \"Outubro\", \"numero\": 0, \"regiao\": \"Norte\"}, {\"ano\": 2015, \"uf\": \"Tocantins\", \"genero\": \"Feminino\", \"mes\": \"Novembro\", \"numero\": 1, \"regiao\": \"Norte\"}, {\"ano\": 2015, \"uf\": \"Tocantins\", \"genero\": \"Feminino\", \"mes\": \"Dezembro\", \"numero\": 1, \"regiao\": \"Norte\"}, {\"ano\": 2016, \"uf\": \"Tocantins\", \"genero\": \"Feminino\", \"mes\": \"Janeiro\", \"numero\": 0, \"regiao\": \"Norte\"}, {\"ano\": 2016, \"uf\": \"Tocantins\", \"genero\": \"Feminino\", \"mes\": \"Fevereiro\", \"numero\": 1, \"regiao\": \"Norte\"}, {\"ano\": 2016, \"uf\": \"Tocantins\", \"genero\": \"Feminino\", \"mes\": \"Mar\\u00e7o\", \"numero\": 0, \"regiao\": \"Norte\"}, {\"ano\": 2016, \"uf\": \"Tocantins\", \"genero\": \"Feminino\", \"mes\": \"Abril\", \"numero\": 1, \"regiao\": \"Norte\"}, {\"ano\": 2016, \"uf\": \"Tocantins\", \"genero\": \"Feminino\", \"mes\": \"Maio\", \"numero\": 1, \"regiao\": \"Norte\"}, {\"ano\": 2016, \"uf\": \"Tocantins\", \"genero\": \"Feminino\", \"mes\": \"Junho\", \"numero\": 0, \"regiao\": \"Norte\"}, {\"ano\": 2016, \"uf\": \"Tocantins\", \"genero\": \"Feminino\", \"mes\": \"Julho\", \"numero\": 1, \"regiao\": \"Norte\"}, {\"ano\": 2016, \"uf\": \"Tocantins\", \"genero\": \"Feminino\", \"mes\": \"Agosto\", \"numero\": 0, \"regiao\": \"Norte\"}, {\"ano\": 2016, \"uf\": \"Tocantins\", \"genero\": \"Feminino\", \"mes\": \"Setembro\", \"numero\": 1, \"regiao\": \"Norte\"}, {\"ano\": 2016, \"uf\": \"Tocantins\", \"genero\": \"Feminino\", \"mes\": \"Outubro\", \"numero\": 0, \"regiao\": \"Norte\"}, {\"ano\": 2016, \"uf\": \"Tocantins\", \"genero\": \"Feminino\", \"mes\": \"Novembro\", \"numero\": 1, \"regiao\": \"Norte\"}, {\"ano\": 2016, \"uf\": \"Tocantins\", \"genero\": \"Feminino\", \"mes\": \"Dezembro\", \"numero\": 1, \"regiao\": \"Norte\"}, {\"ano\": 2017, \"uf\": \"Tocantins\", \"genero\": \"Feminino\", \"mes\": \"Janeiro\", \"numero\": 2, \"regiao\": \"Norte\"}, {\"ano\": 2017, \"uf\": \"Tocantins\", \"genero\": \"Feminino\", \"mes\": \"Fevereiro\", \"numero\": 0, \"regiao\": \"Norte\"}, {\"ano\": 2017, \"uf\": \"Tocantins\", \"genero\": \"Feminino\", \"mes\": \"Mar\\u00e7o\", \"numero\": 0, \"regiao\": \"Norte\"}, {\"ano\": 2017, \"uf\": \"Tocantins\", \"genero\": \"Feminino\", \"mes\": \"Abril\", \"numero\": 0, \"regiao\": \"Norte\"}, {\"ano\": 2017, \"uf\": \"Tocantins\", \"genero\": \"Feminino\", \"mes\": \"Maio\", \"numero\": 1, \"regiao\": \"Norte\"}, {\"ano\": 2017, \"uf\": \"Tocantins\", \"genero\": \"Feminino\", \"mes\": \"Junho\", \"numero\": 0, \"regiao\": \"Norte\"}, {\"ano\": 2017, \"uf\": \"Tocantins\", \"genero\": \"Feminino\", \"mes\": \"Julho\", \"numero\": 2, \"regiao\": \"Norte\"}, {\"ano\": 2017, \"uf\": \"Tocantins\", \"genero\": \"Feminino\", \"mes\": \"Agosto\", \"numero\": 0, \"regiao\": \"Norte\"}, {\"ano\": 2017, \"uf\": \"Tocantins\", \"genero\": \"Feminino\", \"mes\": \"Setembro\", \"numero\": 0, \"regiao\": \"Norte\"}, {\"ano\": 2017, \"uf\": \"Tocantins\", \"genero\": \"Feminino\", \"mes\": \"Outubro\", \"numero\": 0, \"regiao\": \"Norte\"}, {\"ano\": 2017, \"uf\": \"Tocantins\", \"genero\": \"Feminino\", \"mes\": \"Novembro\", \"numero\": 2, \"regiao\": \"Norte\"}, {\"ano\": 2017, \"uf\": \"Tocantins\", \"genero\": \"Feminino\", \"mes\": \"Dezembro\", \"numero\": 0, \"regiao\": \"Norte\"}, {\"ano\": 2018, \"uf\": \"Tocantins\", \"genero\": \"Feminino\", \"mes\": \"Janeiro\", \"numero\": 0, \"regiao\": \"Norte\"}, {\"ano\": 2018, \"uf\": \"Tocantins\", \"genero\": \"Feminino\", \"mes\": \"Fevereiro\", \"numero\": 0, \"regiao\": \"Norte\"}, {\"ano\": 2018, \"uf\": \"Tocantins\", \"genero\": \"Feminino\", \"mes\": \"Mar\\u00e7o\", \"numero\": 0, \"regiao\": \"Norte\"}, {\"ano\": 2018, \"uf\": \"Tocantins\", \"genero\": \"Feminino\", \"mes\": \"Abril\", \"numero\": 0, \"regiao\": \"Norte\"}, {\"ano\": 2018, \"uf\": \"Tocantins\", \"genero\": \"Feminino\", \"mes\": \"Maio\", \"numero\": 0, \"regiao\": \"Norte\"}, {\"ano\": 2018, \"uf\": \"Tocantins\", \"genero\": \"Feminino\", \"mes\": \"Junho\", \"numero\": 2, \"regiao\": \"Norte\"}, {\"ano\": 2018, \"uf\": \"Tocantins\", \"genero\": \"Feminino\", \"mes\": \"Julho\", \"numero\": 0, \"regiao\": \"Norte\"}, {\"ano\": 2018, \"uf\": \"Tocantins\", \"genero\": \"Feminino\", \"mes\": \"Agosto\", \"numero\": 1, \"regiao\": \"Norte\"}, {\"ano\": 2018, \"uf\": \"Tocantins\", \"genero\": \"Feminino\", \"mes\": \"Setembro\", \"numero\": 0, \"regiao\": \"Norte\"}, {\"ano\": 2018, \"uf\": \"Tocantins\", \"genero\": \"Feminino\", \"mes\": \"Outubro\", \"numero\": 0, \"regiao\": \"Norte\"}, {\"ano\": 2018, \"uf\": \"Tocantins\", \"genero\": \"Feminino\", \"mes\": \"Novembro\", \"numero\": 0, \"regiao\": \"Norte\"}, {\"ano\": 2018, \"uf\": \"Tocantins\", \"genero\": \"Feminino\", \"mes\": \"Dezembro\", \"numero\": 8, \"regiao\": \"Norte\"}, {\"ano\": 2019, \"uf\": \"Tocantins\", \"genero\": \"Feminino\", \"mes\": \"Janeiro\", \"numero\": 0, \"regiao\": \"Norte\"}, {\"ano\": 2019, \"uf\": \"Tocantins\", \"genero\": \"Feminino\", \"mes\": \"Fevereiro\", \"numero\": 1, \"regiao\": \"Norte\"}, {\"ano\": 2019, \"uf\": \"Tocantins\", \"genero\": \"Feminino\", \"mes\": \"Mar\\u00e7o\", \"numero\": 2, \"regiao\": \"Norte\"}, {\"ano\": 2019, \"uf\": \"Tocantins\", \"genero\": \"Feminino\", \"mes\": \"Abril\", \"numero\": 1, \"regiao\": \"Norte\"}, {\"ano\": 2019, \"uf\": \"Tocantins\", \"genero\": \"Feminino\", \"mes\": \"Maio\", \"numero\": 1, \"regiao\": \"Norte\"}, {\"ano\": 2019, \"uf\": \"Tocantins\", \"genero\": \"Feminino\", \"mes\": \"Junho\", \"numero\": 0, \"regiao\": \"Norte\"}, {\"ano\": 2019, \"uf\": \"Tocantins\", \"genero\": \"Feminino\", \"mes\": \"Julho\", \"numero\": 2, \"regiao\": \"Norte\"}, {\"ano\": 2019, \"uf\": \"Tocantins\", \"genero\": \"Feminino\", \"mes\": \"Agosto\", \"numero\": 0, \"regiao\": \"Norte\"}, {\"ano\": 2019, \"uf\": \"Tocantins\", \"genero\": \"Feminino\", \"mes\": \"Setembro\", \"numero\": 0, \"regiao\": \"Norte\"}, {\"ano\": 2019, \"uf\": \"Tocantins\", \"genero\": \"Feminino\", \"mes\": \"Outubro\", \"numero\": 3, \"regiao\": \"Norte\"}, {\"ano\": 2019, \"uf\": \"Tocantins\", \"genero\": \"Feminino\", \"mes\": \"Novembro\", \"numero\": 2, \"regiao\": \"Norte\"}, {\"ano\": 2019, \"uf\": \"Tocantins\", \"genero\": \"Feminino\", \"mes\": \"Dezembro\", \"numero\": 1, \"regiao\": \"Norte\"}, {\"ano\": 2014, \"uf\": \"Maranh\\u00e3o\", \"genero\": \"Masculino\", \"mes\": \"Janeiro\", \"numero\": 8, \"regiao\": \"Nordeste\"}, {\"ano\": 2014, \"uf\": \"Maranh\\u00e3o\", \"genero\": \"Masculino\", \"mes\": \"Fevereiro\", \"numero\": 2, \"regiao\": \"Nordeste\"}, {\"ano\": 2014, \"uf\": \"Maranh\\u00e3o\", \"genero\": \"Masculino\", \"mes\": \"Mar\\u00e7o\", \"numero\": 3, \"regiao\": \"Nordeste\"}, {\"ano\": 2014, \"uf\": \"Maranh\\u00e3o\", \"genero\": \"Masculino\", \"mes\": \"Abril\", \"numero\": 2, \"regiao\": \"Nordeste\"}, {\"ano\": 2014, \"uf\": \"Maranh\\u00e3o\", \"genero\": \"Masculino\", \"mes\": \"Maio\", \"numero\": 3, \"regiao\": \"Nordeste\"}, {\"ano\": 2014, \"uf\": \"Maranh\\u00e3o\", \"genero\": \"Masculino\", \"mes\": \"Junho\", \"numero\": 1, \"regiao\": \"Nordeste\"}, {\"ano\": 2014, \"uf\": \"Maranh\\u00e3o\", \"genero\": \"Masculino\", \"mes\": \"Julho\", \"numero\": 2, \"regiao\": \"Nordeste\"}, {\"ano\": 2014, \"uf\": \"Maranh\\u00e3o\", \"genero\": \"Masculino\", \"mes\": \"Agosto\", \"numero\": 3, \"regiao\": \"Nordeste\"}, {\"ano\": 2014, \"uf\": \"Maranh\\u00e3o\", \"genero\": \"Masculino\", \"mes\": \"Setembro\", \"numero\": 4, \"regiao\": \"Nordeste\"}, {\"ano\": 2014, \"uf\": \"Maranh\\u00e3o\", \"genero\": \"Masculino\", \"mes\": \"Outubro\", \"numero\": 8, \"regiao\": \"Nordeste\"}, {\"ano\": 2014, \"uf\": \"Maranh\\u00e3o\", \"genero\": \"Masculino\", \"mes\": \"Novembro\", \"numero\": 3, \"regiao\": \"Nordeste\"}, {\"ano\": 2014, \"uf\": \"Maranh\\u00e3o\", \"genero\": \"Masculino\", \"mes\": \"Dezembro\", \"numero\": 6, \"regiao\": \"Nordeste\"}, {\"ano\": 2014, \"uf\": \"Maranh\\u00e3o\", \"genero\": \"Feminino\", \"mes\": \"Janeiro\", \"numero\": 1, \"regiao\": \"Nordeste\"}, {\"ano\": 2014, \"uf\": \"Maranh\\u00e3o\", \"genero\": \"Feminino\", \"mes\": \"Fevereiro\", \"numero\": 0, \"regiao\": \"Nordeste\"}, {\"ano\": 2014, \"uf\": \"Maranh\\u00e3o\", \"genero\": \"Feminino\", \"mes\": \"Mar\\u00e7o\", \"numero\": 2, \"regiao\": \"Nordeste\"}, {\"ano\": 2014, \"uf\": \"Maranh\\u00e3o\", \"genero\": \"Feminino\", \"mes\": \"Abril\", \"numero\": 1, \"regiao\": \"Nordeste\"}, {\"ano\": 2014, \"uf\": \"Maranh\\u00e3o\", \"genero\": \"Feminino\", \"mes\": \"Maio\", \"numero\": 1, \"regiao\": \"Nordeste\"}, {\"ano\": 2014, \"uf\": \"Maranh\\u00e3o\", \"genero\": \"Feminino\", \"mes\": \"Junho\", \"numero\": 1, \"regiao\": \"Nordeste\"}, {\"ano\": 2014, \"uf\": \"Maranh\\u00e3o\", \"genero\": \"Feminino\", \"mes\": \"Julho\", \"numero\": 1, \"regiao\": \"Nordeste\"}, {\"ano\": 2014, \"uf\": \"Maranh\\u00e3o\", \"genero\": \"Feminino\", \"mes\": \"Agosto\", \"numero\": 1, \"regiao\": \"Nordeste\"}, {\"ano\": 2014, \"uf\": \"Maranh\\u00e3o\", \"genero\": \"Feminino\", \"mes\": \"Setembro\", \"numero\": 2, \"regiao\": \"Nordeste\"}, {\"ano\": 2014, \"uf\": \"Maranh\\u00e3o\", \"genero\": \"Feminino\", \"mes\": \"Outubro\", \"numero\": 12, \"regiao\": \"Nordeste\"}, {\"ano\": 2014, \"uf\": \"Maranh\\u00e3o\", \"genero\": \"Feminino\", \"mes\": \"Novembro\", \"numero\": 1, \"regiao\": \"Nordeste\"}, {\"ano\": 2014, \"uf\": \"Maranh\\u00e3o\", \"genero\": \"Feminino\", \"mes\": \"Dezembro\", \"numero\": 2, \"regiao\": \"Nordeste\"}, {\"ano\": 2013, \"uf\": \"Maranh\\u00e3o\", \"genero\": \"Masculino\", \"mes\": \"Janeiro\", \"numero\": 0, \"regiao\": \"Nordeste\"}, {\"ano\": 2013, \"uf\": \"Maranh\\u00e3o\", \"genero\": \"Masculino\", \"mes\": \"Fevereiro\", \"numero\": 0, \"regiao\": \"Nordeste\"}, {\"ano\": 2013, \"uf\": \"Maranh\\u00e3o\", \"genero\": \"Masculino\", \"mes\": \"Mar\\u00e7o\", \"numero\": 0, \"regiao\": \"Nordeste\"}, {\"ano\": 2013, \"uf\": \"Maranh\\u00e3o\", \"genero\": \"Masculino\", \"mes\": \"Abril\", \"numero\": 0, \"regiao\": \"Nordeste\"}, {\"ano\": 2013, \"uf\": \"Maranh\\u00e3o\", \"genero\": \"Masculino\", \"mes\": \"Maio\", \"numero\": 0, \"regiao\": \"Nordeste\"}, {\"ano\": 2013, \"uf\": \"Maranh\\u00e3o\", \"genero\": \"Masculino\", \"mes\": \"Junho\", \"numero\": 0, \"regiao\": \"Nordeste\"}, {\"ano\": 2013, \"uf\": \"Maranh\\u00e3o\", \"genero\": \"Masculino\", \"mes\": \"Julho\", \"numero\": 0, \"regiao\": \"Nordeste\"}, {\"ano\": 2013, \"uf\": \"Maranh\\u00e3o\", \"genero\": \"Masculino\", \"mes\": \"Agosto\", \"numero\": 0, \"regiao\": \"Nordeste\"}, {\"ano\": 2013, \"uf\": \"Maranh\\u00e3o\", \"genero\": \"Masculino\", \"mes\": \"Setembro\", \"numero\": 0, \"regiao\": \"Nordeste\"}, {\"ano\": 2013, \"uf\": \"Maranh\\u00e3o\", \"genero\": \"Masculino\", \"mes\": \"Outubro\", \"numero\": 4, \"regiao\": \"Nordeste\"}, {\"ano\": 2013, \"uf\": \"Maranh\\u00e3o\", \"genero\": \"Masculino\", \"mes\": \"Novembro\", \"numero\": 1, \"regiao\": \"Nordeste\"}, {\"ano\": 2013, \"uf\": \"Maranh\\u00e3o\", \"genero\": \"Masculino\", \"mes\": \"Dezembro\", \"numero\": 1, \"regiao\": \"Nordeste\"}, {\"ano\": 2013, \"uf\": \"Maranh\\u00e3o\", \"genero\": \"Feminino\", \"mes\": \"Janeiro\", \"numero\": 0, \"regiao\": \"Nordeste\"}, {\"ano\": 2013, \"uf\": \"Maranh\\u00e3o\", \"genero\": \"Feminino\", \"mes\": \"Fevereiro\", \"numero\": 0, \"regiao\": \"Nordeste\"}, {\"ano\": 2013, \"uf\": \"Maranh\\u00e3o\", \"genero\": \"Feminino\", \"mes\": \"Mar\\u00e7o\", \"numero\": 0, \"regiao\": \"Nordeste\"}, {\"ano\": 2013, \"uf\": \"Maranh\\u00e3o\", \"genero\": \"Feminino\", \"mes\": \"Abril\", \"numero\": 0, \"regiao\": \"Nordeste\"}, {\"ano\": 2013, \"uf\": \"Maranh\\u00e3o\", \"genero\": \"Feminino\", \"mes\": \"Maio\", \"numero\": 0, \"regiao\": \"Nordeste\"}, {\"ano\": 2013, \"uf\": \"Maranh\\u00e3o\", \"genero\": \"Feminino\", \"mes\": \"Junho\", \"numero\": 0, \"regiao\": \"Nordeste\"}, {\"ano\": 2013, \"uf\": \"Maranh\\u00e3o\", \"genero\": \"Feminino\", \"mes\": \"Julho\", \"numero\": 0, \"regiao\": \"Nordeste\"}, {\"ano\": 2013, \"uf\": \"Maranh\\u00e3o\", \"genero\": \"Feminino\", \"mes\": \"Agosto\", \"numero\": 3, \"regiao\": \"Nordeste\"}, {\"ano\": 2013, \"uf\": \"Maranh\\u00e3o\", \"genero\": \"Feminino\", \"mes\": \"Setembro\", \"numero\": 2, \"regiao\": \"Nordeste\"}, {\"ano\": 2013, \"uf\": \"Maranh\\u00e3o\", \"genero\": \"Feminino\", \"mes\": \"Outubro\", \"numero\": 1, \"regiao\": \"Nordeste\"}, {\"ano\": 2013, \"uf\": \"Maranh\\u00e3o\", \"genero\": \"Feminino\", \"mes\": \"Novembro\", \"numero\": 3, \"regiao\": \"Nordeste\"}, {\"ano\": 2013, \"uf\": \"Maranh\\u00e3o\", \"genero\": \"Feminino\", \"mes\": \"Dezembro\", \"numero\": 1, \"regiao\": \"Nordeste\"}, {\"ano\": 2015, \"uf\": \"Maranh\\u00e3o\", \"genero\": \"Masculino\", \"mes\": \"Janeiro\", \"numero\": 8, \"regiao\": \"Nordeste\"}, {\"ano\": 2015, \"uf\": \"Maranh\\u00e3o\", \"genero\": \"Masculino\", \"mes\": \"Fevereiro\", \"numero\": 4, \"regiao\": \"Nordeste\"}, {\"ano\": 2015, \"uf\": \"Maranh\\u00e3o\", \"genero\": \"Masculino\", \"mes\": \"Mar\\u00e7o\", \"numero\": 1, \"regiao\": \"Nordeste\"}, {\"ano\": 2015, \"uf\": \"Maranh\\u00e3o\", \"genero\": \"Masculino\", \"mes\": \"Abril\", \"numero\": 5, \"regiao\": \"Nordeste\"}, {\"ano\": 2015, \"uf\": \"Maranh\\u00e3o\", \"genero\": \"Masculino\", \"mes\": \"Maio\", \"numero\": 1, \"regiao\": \"Nordeste\"}, {\"ano\": 2015, \"uf\": \"Maranh\\u00e3o\", \"genero\": \"Masculino\", \"mes\": \"Junho\", \"numero\": 2, \"regiao\": \"Nordeste\"}, {\"ano\": 2015, \"uf\": \"Maranh\\u00e3o\", \"genero\": \"Masculino\", \"mes\": \"Julho\", \"numero\": 6, \"regiao\": \"Nordeste\"}, {\"ano\": 2015, \"uf\": \"Maranh\\u00e3o\", \"genero\": \"Masculino\", \"mes\": \"Agosto\", \"numero\": 1, \"regiao\": \"Nordeste\"}, {\"ano\": 2015, \"uf\": \"Maranh\\u00e3o\", \"genero\": \"Masculino\", \"mes\": \"Setembro\", \"numero\": 2, \"regiao\": \"Nordeste\"}, {\"ano\": 2015, \"uf\": \"Maranh\\u00e3o\", \"genero\": \"Masculino\", \"mes\": \"Outubro\", \"numero\": 6, \"regiao\": \"Nordeste\"}, {\"ano\": 2015, \"uf\": \"Maranh\\u00e3o\", \"genero\": \"Masculino\", \"mes\": \"Novembro\", \"numero\": 4, \"regiao\": \"Nordeste\"}, {\"ano\": 2015, \"uf\": \"Maranh\\u00e3o\", \"genero\": \"Masculino\", \"mes\": \"Dezembro\", \"numero\": 10, \"regiao\": \"Nordeste\"}, {\"ano\": 2016, \"uf\": \"Maranh\\u00e3o\", \"genero\": \"Masculino\", \"mes\": \"Janeiro\", \"numero\": 0, \"regiao\": \"Nordeste\"}, {\"ano\": 2016, \"uf\": \"Maranh\\u00e3o\", \"genero\": \"Masculino\", \"mes\": \"Fevereiro\", \"numero\": 1, \"regiao\": \"Nordeste\"}, {\"ano\": 2016, \"uf\": \"Maranh\\u00e3o\", \"genero\": \"Masculino\", \"mes\": \"Mar\\u00e7o\", \"numero\": 0, \"regiao\": \"Nordeste\"}, {\"ano\": 2016, \"uf\": \"Maranh\\u00e3o\", \"genero\": \"Masculino\", \"mes\": \"Abril\", \"numero\": 1, \"regiao\": \"Nordeste\"}, {\"ano\": 2016, \"uf\": \"Maranh\\u00e3o\", \"genero\": \"Masculino\", \"mes\": \"Maio\", \"numero\": 0, \"regiao\": \"Nordeste\"}, {\"ano\": 2016, \"uf\": \"Maranh\\u00e3o\", \"genero\": \"Masculino\", \"mes\": \"Junho\", \"numero\": 1, \"regiao\": \"Nordeste\"}, {\"ano\": 2016, \"uf\": \"Maranh\\u00e3o\", \"genero\": \"Masculino\", \"mes\": \"Julho\", \"numero\": 0, \"regiao\": \"Nordeste\"}, {\"ano\": 2016, \"uf\": \"Maranh\\u00e3o\", \"genero\": \"Masculino\", \"mes\": \"Agosto\", \"numero\": 1, \"regiao\": \"Nordeste\"}, {\"ano\": 2016, \"uf\": \"Maranh\\u00e3o\", \"genero\": \"Masculino\", \"mes\": \"Setembro\", \"numero\": 1, \"regiao\": \"Nordeste\"}, {\"ano\": 2016, \"uf\": \"Maranh\\u00e3o\", \"genero\": \"Masculino\", \"mes\": \"Outubro\", \"numero\": 0, \"regiao\": \"Nordeste\"}, {\"ano\": 2016, \"uf\": \"Maranh\\u00e3o\", \"genero\": \"Masculino\", \"mes\": \"Novembro\", \"numero\": 0, \"regiao\": \"Nordeste\"}, {\"ano\": 2016, \"uf\": \"Maranh\\u00e3o\", \"genero\": \"Masculino\", \"mes\": \"Dezembro\", \"numero\": 0, \"regiao\": \"Nordeste\"}, {\"ano\": 2017, \"uf\": \"Maranh\\u00e3o\", \"genero\": \"Masculino\", \"mes\": \"Janeiro\", \"numero\": 0, \"regiao\": \"Nordeste\"}, {\"ano\": 2017, \"uf\": \"Maranh\\u00e3o\", \"genero\": \"Masculino\", \"mes\": \"Fevereiro\", \"numero\": 1, \"regiao\": \"Nordeste\"}, {\"ano\": 2017, \"uf\": \"Maranh\\u00e3o\", \"genero\": \"Masculino\", \"mes\": \"Mar\\u00e7o\", \"numero\": 0, \"regiao\": \"Nordeste\"}, {\"ano\": 2017, \"uf\": \"Maranh\\u00e3o\", \"genero\": \"Masculino\", \"mes\": \"Abril\", \"numero\": 2, \"regiao\": \"Nordeste\"}, {\"ano\": 2017, \"uf\": \"Maranh\\u00e3o\", \"genero\": \"Masculino\", \"mes\": \"Maio\", \"numero\": 1, \"regiao\": \"Nordeste\"}, {\"ano\": 2017, \"uf\": \"Maranh\\u00e3o\", \"genero\": \"Masculino\", \"mes\": \"Junho\", \"numero\": 0, \"regiao\": \"Nordeste\"}, {\"ano\": 2017, \"uf\": \"Maranh\\u00e3o\", \"genero\": \"Masculino\", \"mes\": \"Julho\", \"numero\": 0, \"regiao\": \"Nordeste\"}, {\"ano\": 2017, \"uf\": \"Maranh\\u00e3o\", \"genero\": \"Masculino\", \"mes\": \"Agosto\", \"numero\": 0, \"regiao\": \"Nordeste\"}, {\"ano\": 2017, \"uf\": \"Maranh\\u00e3o\", \"genero\": \"Masculino\", \"mes\": \"Setembro\", \"numero\": 0, \"regiao\": \"Nordeste\"}, {\"ano\": 2017, \"uf\": \"Maranh\\u00e3o\", \"genero\": \"Masculino\", \"mes\": \"Outubro\", \"numero\": 2, \"regiao\": \"Nordeste\"}, {\"ano\": 2017, \"uf\": \"Maranh\\u00e3o\", \"genero\": \"Masculino\", \"mes\": \"Novembro\", \"numero\": 2, \"regiao\": \"Nordeste\"}, {\"ano\": 2017, \"uf\": \"Maranh\\u00e3o\", \"genero\": \"Masculino\", \"mes\": \"Dezembro\", \"numero\": 2, \"regiao\": \"Nordeste\"}, {\"ano\": 2018, \"uf\": \"Maranh\\u00e3o\", \"genero\": \"Masculino\", \"mes\": \"Janeiro\", \"numero\": 2, \"regiao\": \"Nordeste\"}, {\"ano\": 2018, \"uf\": \"Maranh\\u00e3o\", \"genero\": \"Masculino\", \"mes\": \"Fevereiro\", \"numero\": 1, \"regiao\": \"Nordeste\"}, {\"ano\": 2018, \"uf\": \"Maranh\\u00e3o\", \"genero\": \"Masculino\", \"mes\": \"Mar\\u00e7o\", \"numero\": 1, \"regiao\": \"Nordeste\"}, {\"ano\": 2018, \"uf\": \"Maranh\\u00e3o\", \"genero\": \"Masculino\", \"mes\": \"Abril\", \"numero\": 0, \"regiao\": \"Nordeste\"}, {\"ano\": 2018, \"uf\": \"Maranh\\u00e3o\", \"genero\": \"Masculino\", \"mes\": \"Maio\", \"numero\": 1, \"regiao\": \"Nordeste\"}, {\"ano\": 2018, \"uf\": \"Maranh\\u00e3o\", \"genero\": \"Masculino\", \"mes\": \"Junho\", \"numero\": 0, \"regiao\": \"Nordeste\"}, {\"ano\": 2018, \"uf\": \"Maranh\\u00e3o\", \"genero\": \"Masculino\", \"mes\": \"Julho\", \"numero\": 0, \"regiao\": \"Nordeste\"}, {\"ano\": 2018, \"uf\": \"Maranh\\u00e3o\", \"genero\": \"Masculino\", \"mes\": \"Agosto\", \"numero\": 0, \"regiao\": \"Nordeste\"}, {\"ano\": 2018, \"uf\": \"Maranh\\u00e3o\", \"genero\": \"Masculino\", \"mes\": \"Setembro\", \"numero\": 0, \"regiao\": \"Nordeste\"}, {\"ano\": 2018, \"uf\": \"Maranh\\u00e3o\", \"genero\": \"Masculino\", \"mes\": \"Outubro\", \"numero\": 3, \"regiao\": \"Nordeste\"}, {\"ano\": 2018, \"uf\": \"Maranh\\u00e3o\", \"genero\": \"Masculino\", \"mes\": \"Novembro\", \"numero\": 1, \"regiao\": \"Nordeste\"}, {\"ano\": 2018, \"uf\": \"Maranh\\u00e3o\", \"genero\": \"Masculino\", \"mes\": \"Dezembro\", \"numero\": 3, \"regiao\": \"Nordeste\"}, {\"ano\": 2019, \"uf\": \"Maranh\\u00e3o\", \"genero\": \"Masculino\", \"mes\": \"Janeiro\", \"numero\": 2, \"regiao\": \"Nordeste\"}, {\"ano\": 2019, \"uf\": \"Maranh\\u00e3o\", \"genero\": \"Masculino\", \"mes\": \"Fevereiro\", \"numero\": 1, \"regiao\": \"Nordeste\"}, {\"ano\": 2019, \"uf\": \"Maranh\\u00e3o\", \"genero\": \"Masculino\", \"mes\": \"Mar\\u00e7o\", \"numero\": 2, \"regiao\": \"Nordeste\"}, {\"ano\": 2019, \"uf\": \"Maranh\\u00e3o\", \"genero\": \"Masculino\", \"mes\": \"Abril\", \"numero\": 1, \"regiao\": \"Nordeste\"}, {\"ano\": 2019, \"uf\": \"Maranh\\u00e3o\", \"genero\": \"Masculino\", \"mes\": \"Maio\", \"numero\": 0, \"regiao\": \"Nordeste\"}, {\"ano\": 2019, \"uf\": \"Maranh\\u00e3o\", \"genero\": \"Masculino\", \"mes\": \"Junho\", \"numero\": 2, \"regiao\": \"Nordeste\"}, {\"ano\": 2019, \"uf\": \"Maranh\\u00e3o\", \"genero\": \"Masculino\", \"mes\": \"Julho\", \"numero\": 1, \"regiao\": \"Nordeste\"}, {\"ano\": 2019, \"uf\": \"Maranh\\u00e3o\", \"genero\": \"Masculino\", \"mes\": \"Agosto\", \"numero\": 0, \"regiao\": \"Nordeste\"}, {\"ano\": 2019, \"uf\": \"Maranh\\u00e3o\", \"genero\": \"Masculino\", \"mes\": \"Setembro\", \"numero\": 1, \"regiao\": \"Nordeste\"}, {\"ano\": 2019, \"uf\": \"Maranh\\u00e3o\", \"genero\": \"Masculino\", \"mes\": \"Outubro\", \"numero\": 0, \"regiao\": \"Nordeste\"}, {\"ano\": 2019, \"uf\": \"Maranh\\u00e3o\", \"genero\": \"Masculino\", \"mes\": \"Novembro\", \"numero\": 3, \"regiao\": \"Nordeste\"}, {\"ano\": 2019, \"uf\": \"Maranh\\u00e3o\", \"genero\": \"Masculino\", \"mes\": \"Dezembro\", \"numero\": 2, \"regiao\": \"Nordeste\"}, {\"ano\": 2015, \"uf\": \"Maranh\\u00e3o\", \"genero\": \"Feminino\", \"mes\": \"Janeiro\", \"numero\": 0, \"regiao\": \"Nordeste\"}, {\"ano\": 2015, \"uf\": \"Maranh\\u00e3o\", \"genero\": \"Feminino\", \"mes\": \"Fevereiro\", \"numero\": 1, \"regiao\": \"Nordeste\"}, {\"ano\": 2015, \"uf\": \"Maranh\\u00e3o\", \"genero\": \"Feminino\", \"mes\": \"Mar\\u00e7o\", \"numero\": 2, \"regiao\": \"Nordeste\"}, {\"ano\": 2015, \"uf\": \"Maranh\\u00e3o\", \"genero\": \"Feminino\", \"mes\": \"Abril\", \"numero\": 0, \"regiao\": \"Nordeste\"}, {\"ano\": 2015, \"uf\": \"Maranh\\u00e3o\", \"genero\": \"Feminino\", \"mes\": \"Maio\", \"numero\": 1, \"regiao\": \"Nordeste\"}, {\"ano\": 2015, \"uf\": \"Maranh\\u00e3o\", \"genero\": \"Feminino\", \"mes\": \"Junho\", \"numero\": 1, \"regiao\": \"Nordeste\"}, {\"ano\": 2015, \"uf\": \"Maranh\\u00e3o\", \"genero\": \"Feminino\", \"mes\": \"Julho\", \"numero\": 5, \"regiao\": \"Nordeste\"}, {\"ano\": 2015, \"uf\": \"Maranh\\u00e3o\", \"genero\": \"Feminino\", \"mes\": \"Agosto\", \"numero\": 1, \"regiao\": \"Nordeste\"}, {\"ano\": 2015, \"uf\": \"Maranh\\u00e3o\", \"genero\": \"Feminino\", \"mes\": \"Setembro\", \"numero\": 5, \"regiao\": \"Nordeste\"}, {\"ano\": 2015, \"uf\": \"Maranh\\u00e3o\", \"genero\": \"Feminino\", \"mes\": \"Outubro\", \"numero\": 3, \"regiao\": \"Nordeste\"}, {\"ano\": 2015, \"uf\": \"Maranh\\u00e3o\", \"genero\": \"Feminino\", \"mes\": \"Novembro\", \"numero\": 0, \"regiao\": \"Nordeste\"}, {\"ano\": 2015, \"uf\": \"Maranh\\u00e3o\", \"genero\": \"Feminino\", \"mes\": \"Dezembro\", \"numero\": 5, \"regiao\": \"Nordeste\"}, {\"ano\": 2016, \"uf\": \"Maranh\\u00e3o\", \"genero\": \"Feminino\", \"mes\": \"Janeiro\", \"numero\": 1, \"regiao\": \"Nordeste\"}, {\"ano\": 2016, \"uf\": \"Maranh\\u00e3o\", \"genero\": \"Feminino\", \"mes\": \"Fevereiro\", \"numero\": 0, \"regiao\": \"Nordeste\"}, {\"ano\": 2016, \"uf\": \"Maranh\\u00e3o\", \"genero\": \"Feminino\", \"mes\": \"Mar\\u00e7o\", \"numero\": 1, \"regiao\": \"Nordeste\"}, {\"ano\": 2016, \"uf\": \"Maranh\\u00e3o\", \"genero\": \"Feminino\", \"mes\": \"Abril\", \"numero\": 0, \"regiao\": \"Nordeste\"}, {\"ano\": 2016, \"uf\": \"Maranh\\u00e3o\", \"genero\": \"Feminino\", \"mes\": \"Maio\", \"numero\": 0, \"regiao\": \"Nordeste\"}, {\"ano\": 2016, \"uf\": \"Maranh\\u00e3o\", \"genero\": \"Feminino\", \"mes\": \"Junho\", \"numero\": 2, \"regiao\": \"Nordeste\"}, {\"ano\": 2016, \"uf\": \"Maranh\\u00e3o\", \"genero\": \"Feminino\", \"mes\": \"Julho\", \"numero\": 0, \"regiao\": \"Nordeste\"}, {\"ano\": 2016, \"uf\": \"Maranh\\u00e3o\", \"genero\": \"Feminino\", \"mes\": \"Agosto\", \"numero\": 5, \"regiao\": \"Nordeste\"}, {\"ano\": 2016, \"uf\": \"Maranh\\u00e3o\", \"genero\": \"Feminino\", \"mes\": \"Setembro\", \"numero\": 1, \"regiao\": \"Nordeste\"}, {\"ano\": 2016, \"uf\": \"Maranh\\u00e3o\", \"genero\": \"Feminino\", \"mes\": \"Outubro\", \"numero\": 0, \"regiao\": \"Nordeste\"}, {\"ano\": 2016, \"uf\": \"Maranh\\u00e3o\", \"genero\": \"Feminino\", \"mes\": \"Novembro\", \"numero\": 1, \"regiao\": \"Nordeste\"}, {\"ano\": 2016, \"uf\": \"Maranh\\u00e3o\", \"genero\": \"Feminino\", \"mes\": \"Dezembro\", \"numero\": 4, \"regiao\": \"Nordeste\"}, {\"ano\": 2017, \"uf\": \"Maranh\\u00e3o\", \"genero\": \"Feminino\", \"mes\": \"Janeiro\", \"numero\": 0, \"regiao\": \"Nordeste\"}, {\"ano\": 2017, \"uf\": \"Maranh\\u00e3o\", \"genero\": \"Feminino\", \"mes\": \"Fevereiro\", \"numero\": 0, \"regiao\": \"Nordeste\"}, {\"ano\": 2017, \"uf\": \"Maranh\\u00e3o\", \"genero\": \"Feminino\", \"mes\": \"Mar\\u00e7o\", \"numero\": 0, \"regiao\": \"Nordeste\"}, {\"ano\": 2017, \"uf\": \"Maranh\\u00e3o\", \"genero\": \"Feminino\", \"mes\": \"Abril\", \"numero\": 0, \"regiao\": \"Nordeste\"}, {\"ano\": 2017, \"uf\": \"Maranh\\u00e3o\", \"genero\": \"Feminino\", \"mes\": \"Maio\", \"numero\": 0, \"regiao\": \"Nordeste\"}, {\"ano\": 2017, \"uf\": \"Maranh\\u00e3o\", \"genero\": \"Feminino\", \"mes\": \"Junho\", \"numero\": 0, \"regiao\": \"Nordeste\"}, {\"ano\": 2017, \"uf\": \"Maranh\\u00e3o\", \"genero\": \"Feminino\", \"mes\": \"Julho\", \"numero\": 2, \"regiao\": \"Nordeste\"}, {\"ano\": 2017, \"uf\": \"Maranh\\u00e3o\", \"genero\": \"Feminino\", \"mes\": \"Agosto\", \"numero\": 0, \"regiao\": \"Nordeste\"}, {\"ano\": 2017, \"uf\": \"Maranh\\u00e3o\", \"genero\": \"Feminino\", \"mes\": \"Setembro\", \"numero\": 0, \"regiao\": \"Nordeste\"}, {\"ano\": 2017, \"uf\": \"Maranh\\u00e3o\", \"genero\": \"Feminino\", \"mes\": \"Outubro\", \"numero\": 0, \"regiao\": \"Nordeste\"}, {\"ano\": 2017, \"uf\": \"Maranh\\u00e3o\", \"genero\": \"Feminino\", \"mes\": \"Novembro\", \"numero\": 1, \"regiao\": \"Nordeste\"}, {\"ano\": 2017, \"uf\": \"Maranh\\u00e3o\", \"genero\": \"Feminino\", \"mes\": \"Dezembro\", \"numero\": 1, \"regiao\": \"Nordeste\"}, {\"ano\": 2018, \"uf\": \"Maranh\\u00e3o\", \"genero\": \"Feminino\", \"mes\": \"Janeiro\", \"numero\": 1, \"regiao\": \"Nordeste\"}, {\"ano\": 2018, \"uf\": \"Maranh\\u00e3o\", \"genero\": \"Feminino\", \"mes\": \"Fevereiro\", \"numero\": 0, \"regiao\": \"Nordeste\"}, {\"ano\": 2018, \"uf\": \"Maranh\\u00e3o\", \"genero\": \"Feminino\", \"mes\": \"Mar\\u00e7o\", \"numero\": 1, \"regiao\": \"Nordeste\"}, {\"ano\": 2018, \"uf\": \"Maranh\\u00e3o\", \"genero\": \"Feminino\", \"mes\": \"Abril\", \"numero\": 1, \"regiao\": \"Nordeste\"}, {\"ano\": 2018, \"uf\": \"Maranh\\u00e3o\", \"genero\": \"Feminino\", \"mes\": \"Maio\", \"numero\": 1, \"regiao\": \"Nordeste\"}, {\"ano\": 2018, \"uf\": \"Maranh\\u00e3o\", \"genero\": \"Feminino\", \"mes\": \"Junho\", \"numero\": 0, \"regiao\": \"Nordeste\"}, {\"ano\": 2018, \"uf\": \"Maranh\\u00e3o\", \"genero\": \"Feminino\", \"mes\": \"Julho\", \"numero\": 2, \"regiao\": \"Nordeste\"}, {\"ano\": 2018, \"uf\": \"Maranh\\u00e3o\", \"genero\": \"Feminino\", \"mes\": \"Agosto\", \"numero\": 0, \"regiao\": \"Nordeste\"}, {\"ano\": 2018, \"uf\": \"Maranh\\u00e3o\", \"genero\": \"Feminino\", \"mes\": \"Setembro\", \"numero\": 1, \"regiao\": \"Nordeste\"}, {\"ano\": 2018, \"uf\": \"Maranh\\u00e3o\", \"genero\": \"Feminino\", \"mes\": \"Outubro\", \"numero\": 0, \"regiao\": \"Nordeste\"}, {\"ano\": 2018, \"uf\": \"Maranh\\u00e3o\", \"genero\": \"Feminino\", \"mes\": \"Novembro\", \"numero\": 2, \"regiao\": \"Nordeste\"}, {\"ano\": 2018, \"uf\": \"Maranh\\u00e3o\", \"genero\": \"Feminino\", \"mes\": \"Dezembro\", \"numero\": 5, \"regiao\": \"Nordeste\"}, {\"ano\": 2019, \"uf\": \"Maranh\\u00e3o\", \"genero\": \"Feminino\", \"mes\": \"Janeiro\", \"numero\": 6, \"regiao\": \"Nordeste\"}, {\"ano\": 2019, \"uf\": \"Maranh\\u00e3o\", \"genero\": \"Feminino\", \"mes\": \"Fevereiro\", \"numero\": 4, \"regiao\": \"Nordeste\"}, {\"ano\": 2019, \"uf\": \"Maranh\\u00e3o\", \"genero\": \"Feminino\", \"mes\": \"Mar\\u00e7o\", \"numero\": 0, \"regiao\": \"Nordeste\"}, {\"ano\": 2019, \"uf\": \"Maranh\\u00e3o\", \"genero\": \"Feminino\", \"mes\": \"Abril\", \"numero\": 2, \"regiao\": \"Nordeste\"}, {\"ano\": 2019, \"uf\": \"Maranh\\u00e3o\", \"genero\": \"Feminino\", \"mes\": \"Maio\", \"numero\": 1, \"regiao\": \"Nordeste\"}, {\"ano\": 2019, \"uf\": \"Maranh\\u00e3o\", \"genero\": \"Feminino\", \"mes\": \"Junho\", \"numero\": 1, \"regiao\": \"Nordeste\"}, {\"ano\": 2019, \"uf\": \"Maranh\\u00e3o\", \"genero\": \"Feminino\", \"mes\": \"Julho\", \"numero\": 2, \"regiao\": \"Nordeste\"}, {\"ano\": 2019, \"uf\": \"Maranh\\u00e3o\", \"genero\": \"Feminino\", \"mes\": \"Agosto\", \"numero\": 1, \"regiao\": \"Nordeste\"}, {\"ano\": 2019, \"uf\": \"Maranh\\u00e3o\", \"genero\": \"Feminino\", \"mes\": \"Setembro\", \"numero\": 2, \"regiao\": \"Nordeste\"}, {\"ano\": 2019, \"uf\": \"Maranh\\u00e3o\", \"genero\": \"Feminino\", \"mes\": \"Outubro\", \"numero\": 1, \"regiao\": \"Nordeste\"}, {\"ano\": 2019, \"uf\": \"Maranh\\u00e3o\", \"genero\": \"Feminino\", \"mes\": \"Novembro\", \"numero\": 2, \"regiao\": \"Nordeste\"}, {\"ano\": 2019, \"uf\": \"Maranh\\u00e3o\", \"genero\": \"Feminino\", \"mes\": \"Dezembro\", \"numero\": 0, \"regiao\": \"Nordeste\"}, {\"ano\": 2014, \"uf\": \"Piau\\u00ed\", \"genero\": \"Masculino\", \"mes\": \"Janeiro\", \"numero\": 0, \"regiao\": \"Nordeste\"}, {\"ano\": 2014, \"uf\": \"Piau\\u00ed\", \"genero\": \"Masculino\", \"mes\": \"Fevereiro\", \"numero\": 0, \"regiao\": \"Nordeste\"}, {\"ano\": 2014, \"uf\": \"Piau\\u00ed\", \"genero\": \"Masculino\", \"mes\": \"Mar\\u00e7o\", \"numero\": 0, \"regiao\": \"Nordeste\"}, {\"ano\": 2014, \"uf\": \"Piau\\u00ed\", \"genero\": \"Masculino\", \"mes\": \"Abril\", \"numero\": 0, \"regiao\": \"Nordeste\"}, {\"ano\": 2014, \"uf\": \"Piau\\u00ed\", \"genero\": \"Masculino\", \"mes\": \"Maio\", \"numero\": 1, \"regiao\": \"Nordeste\"}, {\"ano\": 2014, \"uf\": \"Piau\\u00ed\", \"genero\": \"Masculino\", \"mes\": \"Junho\", \"numero\": 0, \"regiao\": \"Nordeste\"}, {\"ano\": 2014, \"uf\": \"Piau\\u00ed\", \"genero\": \"Masculino\", \"mes\": \"Julho\", \"numero\": 0, \"regiao\": \"Nordeste\"}, {\"ano\": 2014, \"uf\": \"Piau\\u00ed\", \"genero\": \"Masculino\", \"mes\": \"Agosto\", \"numero\": 0, \"regiao\": \"Nordeste\"}, {\"ano\": 2014, \"uf\": \"Piau\\u00ed\", \"genero\": \"Masculino\", \"mes\": \"Setembro\", \"numero\": 0, \"regiao\": \"Nordeste\"}, {\"ano\": 2014, \"uf\": \"Piau\\u00ed\", \"genero\": \"Masculino\", \"mes\": \"Outubro\", \"numero\": 0, \"regiao\": \"Nordeste\"}, {\"ano\": 2014, \"uf\": \"Piau\\u00ed\", \"genero\": \"Masculino\", \"mes\": \"Novembro\", \"numero\": 0, \"regiao\": \"Nordeste\"}, {\"ano\": 2014, \"uf\": \"Piau\\u00ed\", \"genero\": \"Masculino\", \"mes\": \"Dezembro\", \"numero\": 0, \"regiao\": \"Nordeste\"}, {\"ano\": 2014, \"uf\": \"Piau\\u00ed\", \"genero\": \"Feminino\", \"mes\": \"Janeiro\", \"numero\": 3, \"regiao\": \"Nordeste\"}, {\"ano\": 2014, \"uf\": \"Piau\\u00ed\", \"genero\": \"Feminino\", \"mes\": \"Fevereiro\", \"numero\": 1, \"regiao\": \"Nordeste\"}, {\"ano\": 2014, \"uf\": \"Piau\\u00ed\", \"genero\": \"Feminino\", \"mes\": \"Mar\\u00e7o\", \"numero\": 0, \"regiao\": \"Nordeste\"}, {\"ano\": 2014, \"uf\": \"Piau\\u00ed\", \"genero\": \"Feminino\", \"mes\": \"Abril\", \"numero\": 0, \"regiao\": \"Nordeste\"}, {\"ano\": 2014, \"uf\": \"Piau\\u00ed\", \"genero\": \"Feminino\", \"mes\": \"Maio\", \"numero\": 1, \"regiao\": \"Nordeste\"}, {\"ano\": 2014, \"uf\": \"Piau\\u00ed\", \"genero\": \"Feminino\", \"mes\": \"Junho\", \"numero\": 0, \"regiao\": \"Nordeste\"}, {\"ano\": 2014, \"uf\": \"Piau\\u00ed\", \"genero\": \"Feminino\", \"mes\": \"Julho\", \"numero\": 2, \"regiao\": \"Nordeste\"}, {\"ano\": 2014, \"uf\": \"Piau\\u00ed\", \"genero\": \"Feminino\", \"mes\": \"Agosto\", \"numero\": 1, \"regiao\": \"Nordeste\"}, {\"ano\": 2014, \"uf\": \"Piau\\u00ed\", \"genero\": \"Feminino\", \"mes\": \"Setembro\", \"numero\": 0, \"regiao\": \"Nordeste\"}, {\"ano\": 2014, \"uf\": \"Piau\\u00ed\", \"genero\": \"Feminino\", \"mes\": \"Outubro\", \"numero\": 3, \"regiao\": \"Nordeste\"}, {\"ano\": 2014, \"uf\": \"Piau\\u00ed\", \"genero\": \"Feminino\", \"mes\": \"Novembro\", \"numero\": 0, \"regiao\": \"Nordeste\"}, {\"ano\": 2014, \"uf\": \"Piau\\u00ed\", \"genero\": \"Feminino\", \"mes\": \"Dezembro\", \"numero\": 2, \"regiao\": \"Nordeste\"}, {\"ano\": 2013, \"uf\": \"Piau\\u00ed\", \"genero\": \"Masculino\", \"mes\": \"Janeiro\", \"numero\": 0, \"regiao\": \"Nordeste\"}, {\"ano\": 2013, \"uf\": \"Piau\\u00ed\", \"genero\": \"Masculino\", \"mes\": \"Fevereiro\", \"numero\": 0, \"regiao\": \"Nordeste\"}, {\"ano\": 2013, \"uf\": \"Piau\\u00ed\", \"genero\": \"Masculino\", \"mes\": \"Mar\\u00e7o\", \"numero\": 0, \"regiao\": \"Nordeste\"}, {\"ano\": 2013, \"uf\": \"Piau\\u00ed\", \"genero\": \"Masculino\", \"mes\": \"Abril\", \"numero\": 0, \"regiao\": \"Nordeste\"}, {\"ano\": 2013, \"uf\": \"Piau\\u00ed\", \"genero\": \"Masculino\", \"mes\": \"Maio\", \"numero\": 1, \"regiao\": \"Nordeste\"}, {\"ano\": 2013, \"uf\": \"Piau\\u00ed\", \"genero\": \"Masculino\", \"mes\": \"Junho\", \"numero\": 0, \"regiao\": \"Nordeste\"}, {\"ano\": 2013, \"uf\": \"Piau\\u00ed\", \"genero\": \"Masculino\", \"mes\": \"Julho\", \"numero\": 3, \"regiao\": \"Nordeste\"}, {\"ano\": 2013, \"uf\": \"Piau\\u00ed\", \"genero\": \"Masculino\", \"mes\": \"Agosto\", \"numero\": 1, \"regiao\": \"Nordeste\"}, {\"ano\": 2013, \"uf\": \"Piau\\u00ed\", \"genero\": \"Masculino\", \"mes\": \"Setembro\", \"numero\": 1, \"regiao\": \"Nordeste\"}, {\"ano\": 2013, \"uf\": \"Piau\\u00ed\", \"genero\": \"Masculino\", \"mes\": \"Outubro\", \"numero\": 0, \"regiao\": \"Nordeste\"}, {\"ano\": 2013, \"uf\": \"Piau\\u00ed\", \"genero\": \"Masculino\", \"mes\": \"Novembro\", \"numero\": 0, \"regiao\": \"Nordeste\"}, {\"ano\": 2013, \"uf\": \"Piau\\u00ed\", \"genero\": \"Masculino\", \"mes\": \"Dezembro\", \"numero\": 1, \"regiao\": \"Nordeste\"}, {\"ano\": 2013, \"uf\": \"Piau\\u00ed\", \"genero\": \"Feminino\", \"mes\": \"Janeiro\", \"numero\": 0, \"regiao\": \"Nordeste\"}, {\"ano\": 2013, \"uf\": \"Piau\\u00ed\", \"genero\": \"Feminino\", \"mes\": \"Fevereiro\", \"numero\": 0, \"regiao\": \"Nordeste\"}, {\"ano\": 2013, \"uf\": \"Piau\\u00ed\", \"genero\": \"Feminino\", \"mes\": \"Mar\\u00e7o\", \"numero\": 0, \"regiao\": \"Nordeste\"}, {\"ano\": 2013, \"uf\": \"Piau\\u00ed\", \"genero\": \"Feminino\", \"mes\": \"Abril\", \"numero\": 4, \"regiao\": \"Nordeste\"}, {\"ano\": 2013, \"uf\": \"Piau\\u00ed\", \"genero\": \"Feminino\", \"mes\": \"Maio\", \"numero\": 2, \"regiao\": \"Nordeste\"}, {\"ano\": 2013, \"uf\": \"Piau\\u00ed\", \"genero\": \"Feminino\", \"mes\": \"Junho\", \"numero\": 2, \"regiao\": \"Nordeste\"}, {\"ano\": 2013, \"uf\": \"Piau\\u00ed\", \"genero\": \"Feminino\", \"mes\": \"Julho\", \"numero\": 1, \"regiao\": \"Nordeste\"}, {\"ano\": 2013, \"uf\": \"Piau\\u00ed\", \"genero\": \"Feminino\", \"mes\": \"Agosto\", \"numero\": 0, \"regiao\": \"Nordeste\"}, {\"ano\": 2013, \"uf\": \"Piau\\u00ed\", \"genero\": \"Feminino\", \"mes\": \"Setembro\", \"numero\": 0, \"regiao\": \"Nordeste\"}, {\"ano\": 2013, \"uf\": \"Piau\\u00ed\", \"genero\": \"Feminino\", \"mes\": \"Outubro\", \"numero\": 2, \"regiao\": \"Nordeste\"}, {\"ano\": 2013, \"uf\": \"Piau\\u00ed\", \"genero\": \"Feminino\", \"mes\": \"Novembro\", \"numero\": 4, \"regiao\": \"Nordeste\"}, {\"ano\": 2013, \"uf\": \"Piau\\u00ed\", \"genero\": \"Feminino\", \"mes\": \"Dezembro\", \"numero\": 2, \"regiao\": \"Nordeste\"}, {\"ano\": 2015, \"uf\": \"Piau\\u00ed\", \"genero\": \"Masculino\", \"mes\": \"Janeiro\", \"numero\": 0, \"regiao\": \"Nordeste\"}, {\"ano\": 2015, \"uf\": \"Piau\\u00ed\", \"genero\": \"Masculino\", \"mes\": \"Fevereiro\", \"numero\": 0, \"regiao\": \"Nordeste\"}, {\"ano\": 2015, \"uf\": \"Piau\\u00ed\", \"genero\": \"Masculino\", \"mes\": \"Mar\\u00e7o\", \"numero\": 0, \"regiao\": \"Nordeste\"}, {\"ano\": 2015, \"uf\": \"Piau\\u00ed\", \"genero\": \"Masculino\", \"mes\": \"Abril\", \"numero\": 1, \"regiao\": \"Nordeste\"}, {\"ano\": 2015, \"uf\": \"Piau\\u00ed\", \"genero\": \"Masculino\", \"mes\": \"Maio\", \"numero\": 2, \"regiao\": \"Nordeste\"}, {\"ano\": 2015, \"uf\": \"Piau\\u00ed\", \"genero\": \"Masculino\", \"mes\": \"Junho\", \"numero\": 0, \"regiao\": \"Nordeste\"}, {\"ano\": 2015, \"uf\": \"Piau\\u00ed\", \"genero\": \"Masculino\", \"mes\": \"Julho\", \"numero\": 2, \"regiao\": \"Nordeste\"}, {\"ano\": 2015, \"uf\": \"Piau\\u00ed\", \"genero\": \"Masculino\", \"mes\": \"Agosto\", \"numero\": 1, \"regiao\": \"Nordeste\"}, {\"ano\": 2015, \"uf\": \"Piau\\u00ed\", \"genero\": \"Masculino\", \"mes\": \"Setembro\", \"numero\": 1, \"regiao\": \"Nordeste\"}, {\"ano\": 2015, \"uf\": \"Piau\\u00ed\", \"genero\": \"Masculino\", \"mes\": \"Outubro\", \"numero\": 0, \"regiao\": \"Nordeste\"}, {\"ano\": 2015, \"uf\": \"Piau\\u00ed\", \"genero\": \"Masculino\", \"mes\": \"Novembro\", \"numero\": 0, \"regiao\": \"Nordeste\"}, {\"ano\": 2015, \"uf\": \"Piau\\u00ed\", \"genero\": \"Masculino\", \"mes\": \"Dezembro\", \"numero\": 0, \"regiao\": \"Nordeste\"}, {\"ano\": 2016, \"uf\": \"Piau\\u00ed\", \"genero\": \"Masculino\", \"mes\": \"Janeiro\", \"numero\": 2, \"regiao\": \"Nordeste\"}, {\"ano\": 2016, \"uf\": \"Piau\\u00ed\", \"genero\": \"Masculino\", \"mes\": \"Fevereiro\", \"numero\": 0, \"regiao\": \"Nordeste\"}, {\"ano\": 2016, \"uf\": \"Piau\\u00ed\", \"genero\": \"Masculino\", \"mes\": \"Mar\\u00e7o\", \"numero\": 0, \"regiao\": \"Nordeste\"}, {\"ano\": 2016, \"uf\": \"Piau\\u00ed\", \"genero\": \"Masculino\", \"mes\": \"Abril\", \"numero\": 1, \"regiao\": \"Nordeste\"}, {\"ano\": 2016, \"uf\": \"Piau\\u00ed\", \"genero\": \"Masculino\", \"mes\": \"Maio\", \"numero\": 0, \"regiao\": \"Nordeste\"}, {\"ano\": 2016, \"uf\": \"Piau\\u00ed\", \"genero\": \"Masculino\", \"mes\": \"Junho\", \"numero\": 1, \"regiao\": \"Nordeste\"}, {\"ano\": 2016, \"uf\": \"Piau\\u00ed\", \"genero\": \"Masculino\", \"mes\": \"Julho\", \"numero\": 0, \"regiao\": \"Nordeste\"}, {\"ano\": 2016, \"uf\": \"Piau\\u00ed\", \"genero\": \"Masculino\", \"mes\": \"Agosto\", \"numero\": 0, \"regiao\": \"Nordeste\"}, {\"ano\": 2016, \"uf\": \"Piau\\u00ed\", \"genero\": \"Masculino\", \"mes\": \"Setembro\", \"numero\": 1, \"regiao\": \"Nordeste\"}, {\"ano\": 2016, \"uf\": \"Piau\\u00ed\", \"genero\": \"Masculino\", \"mes\": \"Outubro\", \"numero\": 0, \"regiao\": \"Nordeste\"}, {\"ano\": 2016, \"uf\": \"Piau\\u00ed\", \"genero\": \"Masculino\", \"mes\": \"Novembro\", \"numero\": 1, \"regiao\": \"Nordeste\"}, {\"ano\": 2016, \"uf\": \"Piau\\u00ed\", \"genero\": \"Masculino\", \"mes\": \"Dezembro\", \"numero\": 1, \"regiao\": \"Nordeste\"}, {\"ano\": 2017, \"uf\": \"Piau\\u00ed\", \"genero\": \"Masculino\", \"mes\": \"Janeiro\", \"numero\": 0, \"regiao\": \"Nordeste\"}, {\"ano\": 2017, \"uf\": \"Piau\\u00ed\", \"genero\": \"Masculino\", \"mes\": \"Fevereiro\", \"numero\": 0, \"regiao\": \"Nordeste\"}, {\"ano\": 2017, \"uf\": \"Piau\\u00ed\", \"genero\": \"Masculino\", \"mes\": \"Mar\\u00e7o\", \"numero\": 0, \"regiao\": \"Nordeste\"}, {\"ano\": 2017, \"uf\": \"Piau\\u00ed\", \"genero\": \"Masculino\", \"mes\": \"Abril\", \"numero\": 0, \"regiao\": \"Nordeste\"}, {\"ano\": 2017, \"uf\": \"Piau\\u00ed\", \"genero\": \"Masculino\", \"mes\": \"Maio\", \"numero\": 0, \"regiao\": \"Nordeste\"}, {\"ano\": 2017, \"uf\": \"Piau\\u00ed\", \"genero\": \"Masculino\", \"mes\": \"Junho\", \"numero\": 0, \"regiao\": \"Nordeste\"}, {\"ano\": 2017, \"uf\": \"Piau\\u00ed\", \"genero\": \"Masculino\", \"mes\": \"Julho\", \"numero\": 0, \"regiao\": \"Nordeste\"}, {\"ano\": 2017, \"uf\": \"Piau\\u00ed\", \"genero\": \"Masculino\", \"mes\": \"Agosto\", \"numero\": 1, \"regiao\": \"Nordeste\"}, {\"ano\": 2017, \"uf\": \"Piau\\u00ed\", \"genero\": \"Masculino\", \"mes\": \"Setembro\", \"numero\": 0, \"regiao\": \"Nordeste\"}, {\"ano\": 2017, \"uf\": \"Piau\\u00ed\", \"genero\": \"Masculino\", \"mes\": \"Outubro\", \"numero\": 0, \"regiao\": \"Nordeste\"}, {\"ano\": 2017, \"uf\": \"Piau\\u00ed\", \"genero\": \"Masculino\", \"mes\": \"Novembro\", \"numero\": 0, \"regiao\": \"Nordeste\"}, {\"ano\": 2017, \"uf\": \"Piau\\u00ed\", \"genero\": \"Masculino\", \"mes\": \"Dezembro\", \"numero\": 3, \"regiao\": \"Nordeste\"}, {\"ano\": 2018, \"uf\": \"Piau\\u00ed\", \"genero\": \"Masculino\", \"mes\": \"Janeiro\", \"numero\": 1, \"regiao\": \"Nordeste\"}, {\"ano\": 2018, \"uf\": \"Piau\\u00ed\", \"genero\": \"Masculino\", \"mes\": \"Fevereiro\", \"numero\": 0, \"regiao\": \"Nordeste\"}, {\"ano\": 2018, \"uf\": \"Piau\\u00ed\", \"genero\": \"Masculino\", \"mes\": \"Mar\\u00e7o\", \"numero\": 2, \"regiao\": \"Nordeste\"}, {\"ano\": 2018, \"uf\": \"Piau\\u00ed\", \"genero\": \"Masculino\", \"mes\": \"Abril\", \"numero\": 1, \"regiao\": \"Nordeste\"}, {\"ano\": 2018, \"uf\": \"Piau\\u00ed\", \"genero\": \"Masculino\", \"mes\": \"Maio\", \"numero\": 0, \"regiao\": \"Nordeste\"}, {\"ano\": 2018, \"uf\": \"Piau\\u00ed\", \"genero\": \"Masculino\", \"mes\": \"Junho\", \"numero\": 0, \"regiao\": \"Nordeste\"}, {\"ano\": 2018, \"uf\": \"Piau\\u00ed\", \"genero\": \"Masculino\", \"mes\": \"Julho\", \"numero\": 0, \"regiao\": \"Nordeste\"}, {\"ano\": 2018, \"uf\": \"Piau\\u00ed\", \"genero\": \"Masculino\", \"mes\": \"Agosto\", \"numero\": 0, \"regiao\": \"Nordeste\"}, {\"ano\": 2018, \"uf\": \"Piau\\u00ed\", \"genero\": \"Masculino\", \"mes\": \"Setembro\", \"numero\": 2, \"regiao\": \"Nordeste\"}, {\"ano\": 2018, \"uf\": \"Piau\\u00ed\", \"genero\": \"Masculino\", \"mes\": \"Outubro\", \"numero\": 1, \"regiao\": \"Nordeste\"}, {\"ano\": 2018, \"uf\": \"Piau\\u00ed\", \"genero\": \"Masculino\", \"mes\": \"Novembro\", \"numero\": 1, \"regiao\": \"Nordeste\"}, {\"ano\": 2018, \"uf\": \"Piau\\u00ed\", \"genero\": \"Masculino\", \"mes\": \"Dezembro\", \"numero\": 9, \"regiao\": \"Nordeste\"}, {\"ano\": 2019, \"uf\": \"Piau\\u00ed\", \"genero\": \"Masculino\", \"mes\": \"Janeiro\", \"numero\": 1, \"regiao\": \"Nordeste\"}, {\"ano\": 2019, \"uf\": \"Piau\\u00ed\", \"genero\": \"Masculino\", \"mes\": \"Fevereiro\", \"numero\": 4, \"regiao\": \"Nordeste\"}, {\"ano\": 2019, \"uf\": \"Piau\\u00ed\", \"genero\": \"Masculino\", \"mes\": \"Mar\\u00e7o\", \"numero\": 0, \"regiao\": \"Nordeste\"}, {\"ano\": 2019, \"uf\": \"Piau\\u00ed\", \"genero\": \"Masculino\", \"mes\": \"Abril\", \"numero\": 1, \"regiao\": \"Nordeste\"}, {\"ano\": 2019, \"uf\": \"Piau\\u00ed\", \"genero\": \"Masculino\", \"mes\": \"Maio\", \"numero\": 0, \"regiao\": \"Nordeste\"}, {\"ano\": 2019, \"uf\": \"Piau\\u00ed\", \"genero\": \"Masculino\", \"mes\": \"Junho\", \"numero\": 0, \"regiao\": \"Nordeste\"}, {\"ano\": 2019, \"uf\": \"Piau\\u00ed\", \"genero\": \"Masculino\", \"mes\": \"Julho\", \"numero\": 1, \"regiao\": \"Nordeste\"}, {\"ano\": 2019, \"uf\": \"Piau\\u00ed\", \"genero\": \"Masculino\", \"mes\": \"Agosto\", \"numero\": 2, \"regiao\": \"Nordeste\"}, {\"ano\": 2019, \"uf\": \"Piau\\u00ed\", \"genero\": \"Masculino\", \"mes\": \"Setembro\", \"numero\": 3, \"regiao\": \"Nordeste\"}, {\"ano\": 2019, \"uf\": \"Piau\\u00ed\", \"genero\": \"Masculino\", \"mes\": \"Outubro\", \"numero\": 1, \"regiao\": \"Nordeste\"}, {\"ano\": 2019, \"uf\": \"Piau\\u00ed\", \"genero\": \"Masculino\", \"mes\": \"Novembro\", \"numero\": 2, \"regiao\": \"Nordeste\"}, {\"ano\": 2019, \"uf\": \"Piau\\u00ed\", \"genero\": \"Masculino\", \"mes\": \"Dezembro\", \"numero\": 0, \"regiao\": \"Nordeste\"}, {\"ano\": 2015, \"uf\": \"Piau\\u00ed\", \"genero\": \"Feminino\", \"mes\": \"Janeiro\", \"numero\": 2, \"regiao\": \"Nordeste\"}, {\"ano\": 2015, \"uf\": \"Piau\\u00ed\", \"genero\": \"Feminino\", \"mes\": \"Fevereiro\", \"numero\": 1, \"regiao\": \"Nordeste\"}, {\"ano\": 2015, \"uf\": \"Piau\\u00ed\", \"genero\": \"Feminino\", \"mes\": \"Mar\\u00e7o\", \"numero\": 0, \"regiao\": \"Nordeste\"}, {\"ano\": 2015, \"uf\": \"Piau\\u00ed\", \"genero\": \"Feminino\", \"mes\": \"Abril\", \"numero\": 0, \"regiao\": \"Nordeste\"}, {\"ano\": 2015, \"uf\": \"Piau\\u00ed\", \"genero\": \"Feminino\", \"mes\": \"Maio\", \"numero\": 1, \"regiao\": \"Nordeste\"}, {\"ano\": 2015, \"uf\": \"Piau\\u00ed\", \"genero\": \"Feminino\", \"mes\": \"Junho\", \"numero\": 1, \"regiao\": \"Nordeste\"}, {\"ano\": 2015, \"uf\": \"Piau\\u00ed\", \"genero\": \"Feminino\", \"mes\": \"Julho\", \"numero\": 0, \"regiao\": \"Nordeste\"}, {\"ano\": 2015, \"uf\": \"Piau\\u00ed\", \"genero\": \"Feminino\", \"mes\": \"Agosto\", \"numero\": 0, \"regiao\": \"Nordeste\"}, {\"ano\": 2015, \"uf\": \"Piau\\u00ed\", \"genero\": \"Feminino\", \"mes\": \"Setembro\", \"numero\": 0, \"regiao\": \"Nordeste\"}, {\"ano\": 2015, \"uf\": \"Piau\\u00ed\", \"genero\": \"Feminino\", \"mes\": \"Outubro\", \"numero\": 2, \"regiao\": \"Nordeste\"}, {\"ano\": 2015, \"uf\": \"Piau\\u00ed\", \"genero\": \"Feminino\", \"mes\": \"Novembro\", \"numero\": 1, \"regiao\": \"Nordeste\"}, {\"ano\": 2015, \"uf\": \"Piau\\u00ed\", \"genero\": \"Feminino\", \"mes\": \"Dezembro\", \"numero\": 1, \"regiao\": \"Nordeste\"}, {\"ano\": 2016, \"uf\": \"Piau\\u00ed\", \"genero\": \"Feminino\", \"mes\": \"Janeiro\", \"numero\": 0, \"regiao\": \"Nordeste\"}, {\"ano\": 2016, \"uf\": \"Piau\\u00ed\", \"genero\": \"Feminino\", \"mes\": \"Fevereiro\", \"numero\": 0, \"regiao\": \"Nordeste\"}, {\"ano\": 2016, \"uf\": \"Piau\\u00ed\", \"genero\": \"Feminino\", \"mes\": \"Mar\\u00e7o\", \"numero\": 1, \"regiao\": \"Nordeste\"}, {\"ano\": 2016, \"uf\": \"Piau\\u00ed\", \"genero\": \"Feminino\", \"mes\": \"Abril\", \"numero\": 4, \"regiao\": \"Nordeste\"}, {\"ano\": 2016, \"uf\": \"Piau\\u00ed\", \"genero\": \"Feminino\", \"mes\": \"Maio\", \"numero\": 1, \"regiao\": \"Nordeste\"}, {\"ano\": 2016, \"uf\": \"Piau\\u00ed\", \"genero\": \"Feminino\", \"mes\": \"Junho\", \"numero\": 3, \"regiao\": \"Nordeste\"}, {\"ano\": 2016, \"uf\": \"Piau\\u00ed\", \"genero\": \"Feminino\", \"mes\": \"Julho\", \"numero\": 1, \"regiao\": \"Nordeste\"}, {\"ano\": 2016, \"uf\": \"Piau\\u00ed\", \"genero\": \"Feminino\", \"mes\": \"Agosto\", \"numero\": 0, \"regiao\": \"Nordeste\"}, {\"ano\": 2016, \"uf\": \"Piau\\u00ed\", \"genero\": \"Feminino\", \"mes\": \"Setembro\", \"numero\": 1, \"regiao\": \"Nordeste\"}, {\"ano\": 2016, \"uf\": \"Piau\\u00ed\", \"genero\": \"Feminino\", \"mes\": \"Outubro\", \"numero\": 3, \"regiao\": \"Nordeste\"}, {\"ano\": 2016, \"uf\": \"Piau\\u00ed\", \"genero\": \"Feminino\", \"mes\": \"Novembro\", \"numero\": 0, \"regiao\": \"Nordeste\"}, {\"ano\": 2016, \"uf\": \"Piau\\u00ed\", \"genero\": \"Feminino\", \"mes\": \"Dezembro\", \"numero\": 1, \"regiao\": \"Nordeste\"}, {\"ano\": 2017, \"uf\": \"Piau\\u00ed\", \"genero\": \"Feminino\", \"mes\": \"Janeiro\", \"numero\": 2, \"regiao\": \"Nordeste\"}, {\"ano\": 2017, \"uf\": \"Piau\\u00ed\", \"genero\": \"Feminino\", \"mes\": \"Fevereiro\", \"numero\": 5, \"regiao\": \"Nordeste\"}, {\"ano\": 2017, \"uf\": \"Piau\\u00ed\", \"genero\": \"Feminino\", \"mes\": \"Mar\\u00e7o\", \"numero\": 2, \"regiao\": \"Nordeste\"}, {\"ano\": 2017, \"uf\": \"Piau\\u00ed\", \"genero\": \"Feminino\", \"mes\": \"Abril\", \"numero\": 0, \"regiao\": \"Nordeste\"}, {\"ano\": 2017, \"uf\": \"Piau\\u00ed\", \"genero\": \"Feminino\", \"mes\": \"Maio\", \"numero\": 3, \"regiao\": \"Nordeste\"}, {\"ano\": 2017, \"uf\": \"Piau\\u00ed\", \"genero\": \"Feminino\", \"mes\": \"Junho\", \"numero\": 1, \"regiao\": \"Nordeste\"}, {\"ano\": 2017, \"uf\": \"Piau\\u00ed\", \"genero\": \"Feminino\", \"mes\": \"Julho\", \"numero\": 2, \"regiao\": \"Nordeste\"}, {\"ano\": 2017, \"uf\": \"Piau\\u00ed\", \"genero\": \"Feminino\", \"mes\": \"Agosto\", \"numero\": 1, \"regiao\": \"Nordeste\"}, {\"ano\": 2017, \"uf\": \"Piau\\u00ed\", \"genero\": \"Feminino\", \"mes\": \"Setembro\", \"numero\": 1, \"regiao\": \"Nordeste\"}, {\"ano\": 2017, \"uf\": \"Piau\\u00ed\", \"genero\": \"Feminino\", \"mes\": \"Outubro\", \"numero\": 0, \"regiao\": \"Nordeste\"}, {\"ano\": 2017, \"uf\": \"Piau\\u00ed\", \"genero\": \"Feminino\", \"mes\": \"Novembro\", \"numero\": 1, \"regiao\": \"Nordeste\"}, {\"ano\": 2017, \"uf\": \"Piau\\u00ed\", \"genero\": \"Feminino\", \"mes\": \"Dezembro\", \"numero\": 0, \"regiao\": \"Nordeste\"}, {\"ano\": 2018, \"uf\": \"Piau\\u00ed\", \"genero\": \"Feminino\", \"mes\": \"Janeiro\", \"numero\": 1, \"regiao\": \"Nordeste\"}, {\"ano\": 2018, \"uf\": \"Piau\\u00ed\", \"genero\": \"Feminino\", \"mes\": \"Fevereiro\", \"numero\": 1, \"regiao\": \"Nordeste\"}, {\"ano\": 2018, \"uf\": \"Piau\\u00ed\", \"genero\": \"Feminino\", \"mes\": \"Mar\\u00e7o\", \"numero\": 1, \"regiao\": \"Nordeste\"}, {\"ano\": 2018, \"uf\": \"Piau\\u00ed\", \"genero\": \"Feminino\", \"mes\": \"Abril\", \"numero\": 0, \"regiao\": \"Nordeste\"}, {\"ano\": 2018, \"uf\": \"Piau\\u00ed\", \"genero\": \"Feminino\", \"mes\": \"Maio\", \"numero\": 4, \"regiao\": \"Nordeste\"}, {\"ano\": 2018, \"uf\": \"Piau\\u00ed\", \"genero\": \"Feminino\", \"mes\": \"Junho\", \"numero\": 5, \"regiao\": \"Nordeste\"}, {\"ano\": 2018, \"uf\": \"Piau\\u00ed\", \"genero\": \"Feminino\", \"mes\": \"Julho\", \"numero\": 1, \"regiao\": \"Nordeste\"}, {\"ano\": 2018, \"uf\": \"Piau\\u00ed\", \"genero\": \"Feminino\", \"mes\": \"Agosto\", \"numero\": 0, \"regiao\": \"Nordeste\"}, {\"ano\": 2018, \"uf\": \"Piau\\u00ed\", \"genero\": \"Feminino\", \"mes\": \"Setembro\", \"numero\": 1, \"regiao\": \"Nordeste\"}, {\"ano\": 2018, \"uf\": \"Piau\\u00ed\", \"genero\": \"Feminino\", \"mes\": \"Outubro\", \"numero\": 0, \"regiao\": \"Nordeste\"}, {\"ano\": 2018, \"uf\": \"Piau\\u00ed\", \"genero\": \"Feminino\", \"mes\": \"Novembro\", \"numero\": 2, \"regiao\": \"Nordeste\"}, {\"ano\": 2018, \"uf\": \"Piau\\u00ed\", \"genero\": \"Feminino\", \"mes\": \"Dezembro\", \"numero\": 12, \"regiao\": \"Nordeste\"}, {\"ano\": 2019, \"uf\": \"Piau\\u00ed\", \"genero\": \"Feminino\", \"mes\": \"Janeiro\", \"numero\": 2, \"regiao\": \"Nordeste\"}, {\"ano\": 2019, \"uf\": \"Piau\\u00ed\", \"genero\": \"Feminino\", \"mes\": \"Fevereiro\", \"numero\": 4, \"regiao\": \"Nordeste\"}, {\"ano\": 2019, \"uf\": \"Piau\\u00ed\", \"genero\": \"Feminino\", \"mes\": \"Mar\\u00e7o\", \"numero\": 2, \"regiao\": \"Nordeste\"}, {\"ano\": 2019, \"uf\": \"Piau\\u00ed\", \"genero\": \"Feminino\", \"mes\": \"Abril\", \"numero\": 2, \"regiao\": \"Nordeste\"}, {\"ano\": 2019, \"uf\": \"Piau\\u00ed\", \"genero\": \"Feminino\", \"mes\": \"Maio\", \"numero\": 4, \"regiao\": \"Nordeste\"}, {\"ano\": 2019, \"uf\": \"Piau\\u00ed\", \"genero\": \"Feminino\", \"mes\": \"Junho\", \"numero\": 3, \"regiao\": \"Nordeste\"}, {\"ano\": 2019, \"uf\": \"Piau\\u00ed\", \"genero\": \"Feminino\", \"mes\": \"Julho\", \"numero\": 2, \"regiao\": \"Nordeste\"}, {\"ano\": 2019, \"uf\": \"Piau\\u00ed\", \"genero\": \"Feminino\", \"mes\": \"Agosto\", \"numero\": 1, \"regiao\": \"Nordeste\"}, {\"ano\": 2019, \"uf\": \"Piau\\u00ed\", \"genero\": \"Feminino\", \"mes\": \"Setembro\", \"numero\": 1, \"regiao\": \"Nordeste\"}, {\"ano\": 2019, \"uf\": \"Piau\\u00ed\", \"genero\": \"Feminino\", \"mes\": \"Outubro\", \"numero\": 3, \"regiao\": \"Nordeste\"}, {\"ano\": 2019, \"uf\": \"Piau\\u00ed\", \"genero\": \"Feminino\", \"mes\": \"Novembro\", \"numero\": 1, \"regiao\": \"Nordeste\"}, {\"ano\": 2019, \"uf\": \"Piau\\u00ed\", \"genero\": \"Feminino\", \"mes\": \"Dezembro\", \"numero\": 2, \"regiao\": \"Nordeste\"}, {\"ano\": 2014, \"uf\": \"Cear\\u00e1\", \"genero\": \"Masculino\", \"mes\": \"Janeiro\", \"numero\": 9, \"regiao\": \"Nordeste\"}, {\"ano\": 2014, \"uf\": \"Cear\\u00e1\", \"genero\": \"Masculino\", \"mes\": \"Fevereiro\", \"numero\": 12, \"regiao\": \"Nordeste\"}, {\"ano\": 2014, \"uf\": \"Cear\\u00e1\", \"genero\": \"Masculino\", \"mes\": \"Mar\\u00e7o\", \"numero\": 6, \"regiao\": \"Nordeste\"}, {\"ano\": 2014, \"uf\": \"Cear\\u00e1\", \"genero\": \"Masculino\", \"mes\": \"Abril\", \"numero\": 3, \"regiao\": \"Nordeste\"}, {\"ano\": 2014, \"uf\": \"Cear\\u00e1\", \"genero\": \"Masculino\", \"mes\": \"Maio\", \"numero\": 14, \"regiao\": \"Nordeste\"}, {\"ano\": 2014, \"uf\": \"Cear\\u00e1\", \"genero\": \"Masculino\", \"mes\": \"Junho\", \"numero\": 8, \"regiao\": \"Nordeste\"}, {\"ano\": 2014, \"uf\": \"Cear\\u00e1\", \"genero\": \"Masculino\", \"mes\": \"Julho\", \"numero\": 4, \"regiao\": \"Nordeste\"}, {\"ano\": 2014, \"uf\": \"Cear\\u00e1\", \"genero\": \"Masculino\", \"mes\": \"Agosto\", \"numero\": 4, \"regiao\": \"Nordeste\"}, {\"ano\": 2014, \"uf\": \"Cear\\u00e1\", \"genero\": \"Masculino\", \"mes\": \"Setembro\", \"numero\": 6, \"regiao\": \"Nordeste\"}, {\"ano\": 2014, \"uf\": \"Cear\\u00e1\", \"genero\": \"Masculino\", \"mes\": \"Outubro\", \"numero\": 11, \"regiao\": \"Nordeste\"}, {\"ano\": 2014, \"uf\": \"Cear\\u00e1\", \"genero\": \"Masculino\", \"mes\": \"Novembro\", \"numero\": 6, \"regiao\": \"Nordeste\"}, {\"ano\": 2014, \"uf\": \"Cear\\u00e1\", \"genero\": \"Masculino\", \"mes\": \"Dezembro\", \"numero\": 19, \"regiao\": \"Nordeste\"}, {\"ano\": 2014, \"uf\": \"Cear\\u00e1\", \"genero\": \"Feminino\", \"mes\": \"Janeiro\", \"numero\": 4, \"regiao\": \"Nordeste\"}, {\"ano\": 2014, \"uf\": \"Cear\\u00e1\", \"genero\": \"Feminino\", \"mes\": \"Fevereiro\", \"numero\": 8, \"regiao\": \"Nordeste\"}, {\"ano\": 2014, \"uf\": \"Cear\\u00e1\", \"genero\": \"Feminino\", \"mes\": \"Mar\\u00e7o\", \"numero\": 8, \"regiao\": \"Nordeste\"}, {\"ano\": 2014, \"uf\": \"Cear\\u00e1\", \"genero\": \"Feminino\", \"mes\": \"Abril\", \"numero\": 4, \"regiao\": \"Nordeste\"}, {\"ano\": 2014, \"uf\": \"Cear\\u00e1\", \"genero\": \"Feminino\", \"mes\": \"Maio\", \"numero\": 3, \"regiao\": \"Nordeste\"}, {\"ano\": 2014, \"uf\": \"Cear\\u00e1\", \"genero\": \"Feminino\", \"mes\": \"Junho\", \"numero\": 3, \"regiao\": \"Nordeste\"}, {\"ano\": 2014, \"uf\": \"Cear\\u00e1\", \"genero\": \"Feminino\", \"mes\": \"Julho\", \"numero\": 2, \"regiao\": \"Nordeste\"}, {\"ano\": 2014, \"uf\": \"Cear\\u00e1\", \"genero\": \"Feminino\", \"mes\": \"Agosto\", \"numero\": 1, \"regiao\": \"Nordeste\"}, {\"ano\": 2014, \"uf\": \"Cear\\u00e1\", \"genero\": \"Feminino\", \"mes\": \"Setembro\", \"numero\": 3, \"regiao\": \"Nordeste\"}, {\"ano\": 2014, \"uf\": \"Cear\\u00e1\", \"genero\": \"Feminino\", \"mes\": \"Outubro\", \"numero\": 5, \"regiao\": \"Nordeste\"}, {\"ano\": 2014, \"uf\": \"Cear\\u00e1\", \"genero\": \"Feminino\", \"mes\": \"Novembro\", \"numero\": 7, \"regiao\": \"Nordeste\"}, {\"ano\": 2014, \"uf\": \"Cear\\u00e1\", \"genero\": \"Feminino\", \"mes\": \"Dezembro\", \"numero\": 11, \"regiao\": \"Nordeste\"}, {\"ano\": 2013, \"uf\": \"Cear\\u00e1\", \"genero\": \"Masculino\", \"mes\": \"Janeiro\", \"numero\": 4, \"regiao\": \"Nordeste\"}, {\"ano\": 2013, \"uf\": \"Cear\\u00e1\", \"genero\": \"Masculino\", \"mes\": \"Fevereiro\", \"numero\": 2, \"regiao\": \"Nordeste\"}, {\"ano\": 2013, \"uf\": \"Cear\\u00e1\", \"genero\": \"Masculino\", \"mes\": \"Mar\\u00e7o\", \"numero\": 5, \"regiao\": \"Nordeste\"}, {\"ano\": 2013, \"uf\": \"Cear\\u00e1\", \"genero\": \"Masculino\", \"mes\": \"Abril\", \"numero\": 4, \"regiao\": \"Nordeste\"}, {\"ano\": 2013, \"uf\": \"Cear\\u00e1\", \"genero\": \"Masculino\", \"mes\": \"Maio\", \"numero\": 3, \"regiao\": \"Nordeste\"}, {\"ano\": 2013, \"uf\": \"Cear\\u00e1\", \"genero\": \"Masculino\", \"mes\": \"Junho\", \"numero\": 9, \"regiao\": \"Nordeste\"}, {\"ano\": 2013, \"uf\": \"Cear\\u00e1\", \"genero\": \"Masculino\", \"mes\": \"Julho\", \"numero\": 3, \"regiao\": \"Nordeste\"}, {\"ano\": 2013, \"uf\": \"Cear\\u00e1\", \"genero\": \"Masculino\", \"mes\": \"Agosto\", \"numero\": 11, \"regiao\": \"Nordeste\"}, {\"ano\": 2013, \"uf\": \"Cear\\u00e1\", \"genero\": \"Masculino\", \"mes\": \"Setembro\", \"numero\": 11, \"regiao\": \"Nordeste\"}, {\"ano\": 2013, \"uf\": \"Cear\\u00e1\", \"genero\": \"Masculino\", \"mes\": \"Outubro\", \"numero\": 10, \"regiao\": \"Nordeste\"}, {\"ano\": 2013, \"uf\": \"Cear\\u00e1\", \"genero\": \"Masculino\", \"mes\": \"Novembro\", \"numero\": 6, \"regiao\": \"Nordeste\"}, {\"ano\": 2013, \"uf\": \"Cear\\u00e1\", \"genero\": \"Masculino\", \"mes\": \"Dezembro\", \"numero\": 12, \"regiao\": \"Nordeste\"}, {\"ano\": 2013, \"uf\": \"Cear\\u00e1\", \"genero\": \"Feminino\", \"mes\": \"Janeiro\", \"numero\": 4, \"regiao\": \"Nordeste\"}, {\"ano\": 2013, \"uf\": \"Cear\\u00e1\", \"genero\": \"Feminino\", \"mes\": \"Fevereiro\", \"numero\": 2, \"regiao\": \"Nordeste\"}, {\"ano\": 2013, \"uf\": \"Cear\\u00e1\", \"genero\": \"Feminino\", \"mes\": \"Mar\\u00e7o\", \"numero\": 1, \"regiao\": \"Nordeste\"}, {\"ano\": 2013, \"uf\": \"Cear\\u00e1\", \"genero\": \"Feminino\", \"mes\": \"Abril\", \"numero\": 10, \"regiao\": \"Nordeste\"}, {\"ano\": 2013, \"uf\": \"Cear\\u00e1\", \"genero\": \"Feminino\", \"mes\": \"Maio\", \"numero\": 5, \"regiao\": \"Nordeste\"}, {\"ano\": 2013, \"uf\": \"Cear\\u00e1\", \"genero\": \"Feminino\", \"mes\": \"Junho\", \"numero\": 16, \"regiao\": \"Nordeste\"}, {\"ano\": 2013, \"uf\": \"Cear\\u00e1\", \"genero\": \"Feminino\", \"mes\": \"Julho\", \"numero\": 5, \"regiao\": \"Nordeste\"}, {\"ano\": 2013, \"uf\": \"Cear\\u00e1\", \"genero\": \"Feminino\", \"mes\": \"Agosto\", \"numero\": 16, \"regiao\": \"Nordeste\"}, {\"ano\": 2013, \"uf\": \"Cear\\u00e1\", \"genero\": \"Feminino\", \"mes\": \"Setembro\", \"numero\": 10, \"regiao\": \"Nordeste\"}, {\"ano\": 2013, \"uf\": \"Cear\\u00e1\", \"genero\": \"Feminino\", \"mes\": \"Outubro\", \"numero\": 15, \"regiao\": \"Nordeste\"}, {\"ano\": 2013, \"uf\": \"Cear\\u00e1\", \"genero\": \"Feminino\", \"mes\": \"Novembro\", \"numero\": 9, \"regiao\": \"Nordeste\"}, {\"ano\": 2013, \"uf\": \"Cear\\u00e1\", \"genero\": \"Feminino\", \"mes\": \"Dezembro\", \"numero\": 11, \"regiao\": \"Nordeste\"}, {\"ano\": 2015, \"uf\": \"Cear\\u00e1\", \"genero\": \"Masculino\", \"mes\": \"Janeiro\", \"numero\": 17, \"regiao\": \"Nordeste\"}, {\"ano\": 2015, \"uf\": \"Cear\\u00e1\", \"genero\": \"Masculino\", \"mes\": \"Fevereiro\", \"numero\": 25, \"regiao\": \"Nordeste\"}, {\"ano\": 2015, \"uf\": \"Cear\\u00e1\", \"genero\": \"Masculino\", \"mes\": \"Mar\\u00e7o\", \"numero\": 11, \"regiao\": \"Nordeste\"}, {\"ano\": 2015, \"uf\": \"Cear\\u00e1\", \"genero\": \"Masculino\", \"mes\": \"Abril\", \"numero\": 16, \"regiao\": \"Nordeste\"}, {\"ano\": 2015, \"uf\": \"Cear\\u00e1\", \"genero\": \"Masculino\", \"mes\": \"Maio\", \"numero\": 18, \"regiao\": \"Nordeste\"}, {\"ano\": 2015, \"uf\": \"Cear\\u00e1\", \"genero\": \"Masculino\", \"mes\": \"Junho\", \"numero\": 29, \"regiao\": \"Nordeste\"}, {\"ano\": 2015, \"uf\": \"Cear\\u00e1\", \"genero\": \"Masculino\", \"mes\": \"Julho\", \"numero\": 26, \"regiao\": \"Nordeste\"}, {\"ano\": 2015, \"uf\": \"Cear\\u00e1\", \"genero\": \"Masculino\", \"mes\": \"Agosto\", \"numero\": 17, \"regiao\": \"Nordeste\"}, {\"ano\": 2015, \"uf\": \"Cear\\u00e1\", \"genero\": \"Masculino\", \"mes\": \"Setembro\", \"numero\": 25, \"regiao\": \"Nordeste\"}, {\"ano\": 2015, \"uf\": \"Cear\\u00e1\", \"genero\": \"Masculino\", \"mes\": \"Outubro\", \"numero\": 16, \"regiao\": \"Nordeste\"}, {\"ano\": 2015, \"uf\": \"Cear\\u00e1\", \"genero\": \"Masculino\", \"mes\": \"Novembro\", \"numero\": 21, \"regiao\": \"Nordeste\"}, {\"ano\": 2015, \"uf\": \"Cear\\u00e1\", \"genero\": \"Masculino\", \"mes\": \"Dezembro\", \"numero\": 25, \"regiao\": \"Nordeste\"}, {\"ano\": 2016, \"uf\": \"Cear\\u00e1\", \"genero\": \"Masculino\", \"mes\": \"Janeiro\", \"numero\": 6, \"regiao\": \"Nordeste\"}, {\"ano\": 2016, \"uf\": \"Cear\\u00e1\", \"genero\": \"Masculino\", \"mes\": \"Fevereiro\", \"numero\": 7, \"regiao\": \"Nordeste\"}, {\"ano\": 2016, \"uf\": \"Cear\\u00e1\", \"genero\": \"Masculino\", \"mes\": \"Mar\\u00e7o\", \"numero\": 4, \"regiao\": \"Nordeste\"}, {\"ano\": 2016, \"uf\": \"Cear\\u00e1\", \"genero\": \"Masculino\", \"mes\": \"Abril\", \"numero\": 2, \"regiao\": \"Nordeste\"}, {\"ano\": 2016, \"uf\": \"Cear\\u00e1\", \"genero\": \"Masculino\", \"mes\": \"Maio\", \"numero\": 5, \"regiao\": \"Nordeste\"}, {\"ano\": 2016, \"uf\": \"Cear\\u00e1\", \"genero\": \"Masculino\", \"mes\": \"Junho\", \"numero\": 8, \"regiao\": \"Nordeste\"}, {\"ano\": 2016, \"uf\": \"Cear\\u00e1\", \"genero\": \"Masculino\", \"mes\": \"Julho\", \"numero\": 8, \"regiao\": \"Nordeste\"}, {\"ano\": 2016, \"uf\": \"Cear\\u00e1\", \"genero\": \"Masculino\", \"mes\": \"Agosto\", \"numero\": 9, \"regiao\": \"Nordeste\"}, {\"ano\": 2016, \"uf\": \"Cear\\u00e1\", \"genero\": \"Masculino\", \"mes\": \"Setembro\", \"numero\": 8, \"regiao\": \"Nordeste\"}, {\"ano\": 2016, \"uf\": \"Cear\\u00e1\", \"genero\": \"Masculino\", \"mes\": \"Outubro\", \"numero\": 6, \"regiao\": \"Nordeste\"}, {\"ano\": 2016, \"uf\": \"Cear\\u00e1\", \"genero\": \"Masculino\", \"mes\": \"Novembro\", \"numero\": 8, \"regiao\": \"Nordeste\"}, {\"ano\": 2016, \"uf\": \"Cear\\u00e1\", \"genero\": \"Masculino\", \"mes\": \"Dezembro\", \"numero\": 12, \"regiao\": \"Nordeste\"}, {\"ano\": 2017, \"uf\": \"Cear\\u00e1\", \"genero\": \"Masculino\", \"mes\": \"Janeiro\", \"numero\": 8, \"regiao\": \"Nordeste\"}, {\"ano\": 2017, \"uf\": \"Cear\\u00e1\", \"genero\": \"Masculino\", \"mes\": \"Fevereiro\", \"numero\": 2, \"regiao\": \"Nordeste\"}, {\"ano\": 2017, \"uf\": \"Cear\\u00e1\", \"genero\": \"Masculino\", \"mes\": \"Mar\\u00e7o\", \"numero\": 7, \"regiao\": \"Nordeste\"}, {\"ano\": 2017, \"uf\": \"Cear\\u00e1\", \"genero\": \"Masculino\", \"mes\": \"Abril\", \"numero\": 4, \"regiao\": \"Nordeste\"}, {\"ano\": 2017, \"uf\": \"Cear\\u00e1\", \"genero\": \"Masculino\", \"mes\": \"Maio\", \"numero\": 6, \"regiao\": \"Nordeste\"}, {\"ano\": 2017, \"uf\": \"Cear\\u00e1\", \"genero\": \"Masculino\", \"mes\": \"Junho\", \"numero\": 9, \"regiao\": \"Nordeste\"}, {\"ano\": 2017, \"uf\": \"Cear\\u00e1\", \"genero\": \"Masculino\", \"mes\": \"Julho\", \"numero\": 13, \"regiao\": \"Nordeste\"}, {\"ano\": 2017, \"uf\": \"Cear\\u00e1\", \"genero\": \"Masculino\", \"mes\": \"Agosto\", \"numero\": 7, \"regiao\": \"Nordeste\"}, {\"ano\": 2017, \"uf\": \"Cear\\u00e1\", \"genero\": \"Masculino\", \"mes\": \"Setembro\", \"numero\": 12, \"regiao\": \"Nordeste\"}, {\"ano\": 2017, \"uf\": \"Cear\\u00e1\", \"genero\": \"Masculino\", \"mes\": \"Outubro\", \"numero\": 10, \"regiao\": \"Nordeste\"}, {\"ano\": 2017, \"uf\": \"Cear\\u00e1\", \"genero\": \"Masculino\", \"mes\": \"Novembro\", \"numero\": 6, \"regiao\": \"Nordeste\"}, {\"ano\": 2017, \"uf\": \"Cear\\u00e1\", \"genero\": \"Masculino\", \"mes\": \"Dezembro\", \"numero\": 8, \"regiao\": \"Nordeste\"}, {\"ano\": 2018, \"uf\": \"Cear\\u00e1\", \"genero\": \"Masculino\", \"mes\": \"Janeiro\", \"numero\": 8, \"regiao\": \"Nordeste\"}, {\"ano\": 2018, \"uf\": \"Cear\\u00e1\", \"genero\": \"Masculino\", \"mes\": \"Fevereiro\", \"numero\": 8, \"regiao\": \"Nordeste\"}, {\"ano\": 2018, \"uf\": \"Cear\\u00e1\", \"genero\": \"Masculino\", \"mes\": \"Mar\\u00e7o\", \"numero\": 5, \"regiao\": \"Nordeste\"}, {\"ano\": 2018, \"uf\": \"Cear\\u00e1\", \"genero\": \"Masculino\", \"mes\": \"Abril\", \"numero\": 2, \"regiao\": \"Nordeste\"}, {\"ano\": 2018, \"uf\": \"Cear\\u00e1\", \"genero\": \"Masculino\", \"mes\": \"Maio\", \"numero\": 4, \"regiao\": \"Nordeste\"}, {\"ano\": 2018, \"uf\": \"Cear\\u00e1\", \"genero\": \"Masculino\", \"mes\": \"Junho\", \"numero\": 5, \"regiao\": \"Nordeste\"}, {\"ano\": 2018, \"uf\": \"Cear\\u00e1\", \"genero\": \"Masculino\", \"mes\": \"Julho\", \"numero\": 6, \"regiao\": \"Nordeste\"}, {\"ano\": 2018, \"uf\": \"Cear\\u00e1\", \"genero\": \"Masculino\", \"mes\": \"Agosto\", \"numero\": 8, \"regiao\": \"Nordeste\"}, {\"ano\": 2018, \"uf\": \"Cear\\u00e1\", \"genero\": \"Masculino\", \"mes\": \"Setembro\", \"numero\": 10, \"regiao\": \"Nordeste\"}, {\"ano\": 2018, \"uf\": \"Cear\\u00e1\", \"genero\": \"Masculino\", \"mes\": \"Outubro\", \"numero\": 11, \"regiao\": \"Nordeste\"}, {\"ano\": 2018, \"uf\": \"Cear\\u00e1\", \"genero\": \"Masculino\", \"mes\": \"Novembro\", \"numero\": 16, \"regiao\": \"Nordeste\"}, {\"ano\": 2018, \"uf\": \"Cear\\u00e1\", \"genero\": \"Masculino\", \"mes\": \"Dezembro\", \"numero\": 35, \"regiao\": \"Nordeste\"}, {\"ano\": 2019, \"uf\": \"Cear\\u00e1\", \"genero\": \"Masculino\", \"mes\": \"Janeiro\", \"numero\": 21, \"regiao\": \"Nordeste\"}, {\"ano\": 2019, \"uf\": \"Cear\\u00e1\", \"genero\": \"Masculino\", \"mes\": \"Fevereiro\", \"numero\": 10, \"regiao\": \"Nordeste\"}, {\"ano\": 2019, \"uf\": \"Cear\\u00e1\", \"genero\": \"Masculino\", \"mes\": \"Mar\\u00e7o\", \"numero\": 8, \"regiao\": \"Nordeste\"}, {\"ano\": 2019, \"uf\": \"Cear\\u00e1\", \"genero\": \"Masculino\", \"mes\": \"Abril\", \"numero\": 8, \"regiao\": \"Nordeste\"}, {\"ano\": 2019, \"uf\": \"Cear\\u00e1\", \"genero\": \"Masculino\", \"mes\": \"Maio\", \"numero\": 8, \"regiao\": \"Nordeste\"}, {\"ano\": 2019, \"uf\": \"Cear\\u00e1\", \"genero\": \"Masculino\", \"mes\": \"Junho\", \"numero\": 9, \"regiao\": \"Nordeste\"}, {\"ano\": 2019, \"uf\": \"Cear\\u00e1\", \"genero\": \"Masculino\", \"mes\": \"Julho\", \"numero\": 10, \"regiao\": \"Nordeste\"}, {\"ano\": 2019, \"uf\": \"Cear\\u00e1\", \"genero\": \"Masculino\", \"mes\": \"Agosto\", \"numero\": 4, \"regiao\": \"Nordeste\"}, {\"ano\": 2019, \"uf\": \"Cear\\u00e1\", \"genero\": \"Masculino\", \"mes\": \"Setembro\", \"numero\": 4, \"regiao\": \"Nordeste\"}, {\"ano\": 2019, \"uf\": \"Cear\\u00e1\", \"genero\": \"Masculino\", \"mes\": \"Outubro\", \"numero\": 7, \"regiao\": \"Nordeste\"}, {\"ano\": 2019, \"uf\": \"Cear\\u00e1\", \"genero\": \"Masculino\", \"mes\": \"Novembro\", \"numero\": 10, \"regiao\": \"Nordeste\"}, {\"ano\": 2019, \"uf\": \"Cear\\u00e1\", \"genero\": \"Masculino\", \"mes\": \"Dezembro\", \"numero\": 8, \"regiao\": \"Nordeste\"}, {\"ano\": 2015, \"uf\": \"Cear\\u00e1\", \"genero\": \"Feminino\", \"mes\": \"Janeiro\", \"numero\": 6, \"regiao\": \"Nordeste\"}, {\"ano\": 2015, \"uf\": \"Cear\\u00e1\", \"genero\": \"Feminino\", \"mes\": \"Fevereiro\", \"numero\": 9, \"regiao\": \"Nordeste\"}, {\"ano\": 2015, \"uf\": \"Cear\\u00e1\", \"genero\": \"Feminino\", \"mes\": \"Mar\\u00e7o\", \"numero\": 9, \"regiao\": \"Nordeste\"}, {\"ano\": 2015, \"uf\": \"Cear\\u00e1\", \"genero\": \"Feminino\", \"mes\": \"Abril\", \"numero\": 17, \"regiao\": \"Nordeste\"}, {\"ano\": 2015, \"uf\": \"Cear\\u00e1\", \"genero\": \"Feminino\", \"mes\": \"Maio\", \"numero\": 13, \"regiao\": \"Nordeste\"}, {\"ano\": 2015, \"uf\": \"Cear\\u00e1\", \"genero\": \"Feminino\", \"mes\": \"Junho\", \"numero\": 30, \"regiao\": \"Nordeste\"}, {\"ano\": 2015, \"uf\": \"Cear\\u00e1\", \"genero\": \"Feminino\", \"mes\": \"Julho\", \"numero\": 18, \"regiao\": \"Nordeste\"}, {\"ano\": 2015, \"uf\": \"Cear\\u00e1\", \"genero\": \"Feminino\", \"mes\": \"Agosto\", \"numero\": 16, \"regiao\": \"Nordeste\"}, {\"ano\": 2015, \"uf\": \"Cear\\u00e1\", \"genero\": \"Feminino\", \"mes\": \"Setembro\", \"numero\": 28, \"regiao\": \"Nordeste\"}, {\"ano\": 2015, \"uf\": \"Cear\\u00e1\", \"genero\": \"Feminino\", \"mes\": \"Outubro\", \"numero\": 20, \"regiao\": \"Nordeste\"}, {\"ano\": 2015, \"uf\": \"Cear\\u00e1\", \"genero\": \"Feminino\", \"mes\": \"Novembro\", \"numero\": 25, \"regiao\": \"Nordeste\"}, {\"ano\": 2015, \"uf\": \"Cear\\u00e1\", \"genero\": \"Feminino\", \"mes\": \"Dezembro\", \"numero\": 32, \"regiao\": \"Nordeste\"}, {\"ano\": 2016, \"uf\": \"Cear\\u00e1\", \"genero\": \"Feminino\", \"mes\": \"Janeiro\", \"numero\": 10, \"regiao\": \"Nordeste\"}, {\"ano\": 2016, \"uf\": \"Cear\\u00e1\", \"genero\": \"Feminino\", \"mes\": \"Fevereiro\", \"numero\": 8, \"regiao\": \"Nordeste\"}, {\"ano\": 2016, \"uf\": \"Cear\\u00e1\", \"genero\": \"Feminino\", \"mes\": \"Mar\\u00e7o\", \"numero\": 8, \"regiao\": \"Nordeste\"}, {\"ano\": 2016, \"uf\": \"Cear\\u00e1\", \"genero\": \"Feminino\", \"mes\": \"Abril\", \"numero\": 9, \"regiao\": \"Nordeste\"}, {\"ano\": 2016, \"uf\": \"Cear\\u00e1\", \"genero\": \"Feminino\", \"mes\": \"Maio\", \"numero\": 12, \"regiao\": \"Nordeste\"}, {\"ano\": 2016, \"uf\": \"Cear\\u00e1\", \"genero\": \"Feminino\", \"mes\": \"Junho\", \"numero\": 29, \"regiao\": \"Nordeste\"}, {\"ano\": 2016, \"uf\": \"Cear\\u00e1\", \"genero\": \"Feminino\", \"mes\": \"Julho\", \"numero\": 14, \"regiao\": \"Nordeste\"}, {\"ano\": 2016, \"uf\": \"Cear\\u00e1\", \"genero\": \"Feminino\", \"mes\": \"Agosto\", \"numero\": 5, \"regiao\": \"Nordeste\"}, {\"ano\": 2016, \"uf\": \"Cear\\u00e1\", \"genero\": \"Feminino\", \"mes\": \"Setembro\", \"numero\": 9, \"regiao\": \"Nordeste\"}, {\"ano\": 2016, \"uf\": \"Cear\\u00e1\", \"genero\": \"Feminino\", \"mes\": \"Outubro\", \"numero\": 8, \"regiao\": \"Nordeste\"}, {\"ano\": 2016, \"uf\": \"Cear\\u00e1\", \"genero\": \"Feminino\", \"mes\": \"Novembro\", \"numero\": 9, \"regiao\": \"Nordeste\"}, {\"ano\": 2016, \"uf\": \"Cear\\u00e1\", \"genero\": \"Feminino\", \"mes\": \"Dezembro\", \"numero\": 17, \"regiao\": \"Nordeste\"}, {\"ano\": 2017, \"uf\": \"Cear\\u00e1\", \"genero\": \"Feminino\", \"mes\": \"Janeiro\", \"numero\": 8, \"regiao\": \"Nordeste\"}, {\"ano\": 2017, \"uf\": \"Cear\\u00e1\", \"genero\": \"Feminino\", \"mes\": \"Fevereiro\", \"numero\": 5, \"regiao\": \"Nordeste\"}, {\"ano\": 2017, \"uf\": \"Cear\\u00e1\", \"genero\": \"Feminino\", \"mes\": \"Mar\\u00e7o\", \"numero\": 8, \"regiao\": \"Nordeste\"}, {\"ano\": 2017, \"uf\": \"Cear\\u00e1\", \"genero\": \"Feminino\", \"mes\": \"Abril\", \"numero\": 8, \"regiao\": \"Nordeste\"}, {\"ano\": 2017, \"uf\": \"Cear\\u00e1\", \"genero\": \"Feminino\", \"mes\": \"Maio\", \"numero\": 9, \"regiao\": \"Nordeste\"}, {\"ano\": 2017, \"uf\": \"Cear\\u00e1\", \"genero\": \"Feminino\", \"mes\": \"Junho\", \"numero\": 14, \"regiao\": \"Nordeste\"}, {\"ano\": 2017, \"uf\": \"Cear\\u00e1\", \"genero\": \"Feminino\", \"mes\": \"Julho\", \"numero\": 11, \"regiao\": \"Nordeste\"}, {\"ano\": 2017, \"uf\": \"Cear\\u00e1\", \"genero\": \"Feminino\", \"mes\": \"Agosto\", \"numero\": 5, \"regiao\": \"Nordeste\"}, {\"ano\": 2017, \"uf\": \"Cear\\u00e1\", \"genero\": \"Feminino\", \"mes\": \"Setembro\", \"numero\": 14, \"regiao\": \"Nordeste\"}, {\"ano\": 2017, \"uf\": \"Cear\\u00e1\", \"genero\": \"Feminino\", \"mes\": \"Outubro\", \"numero\": 17, \"regiao\": \"Nordeste\"}, {\"ano\": 2017, \"uf\": \"Cear\\u00e1\", \"genero\": \"Feminino\", \"mes\": \"Novembro\", \"numero\": 11, \"regiao\": \"Nordeste\"}, {\"ano\": 2017, \"uf\": \"Cear\\u00e1\", \"genero\": \"Feminino\", \"mes\": \"Dezembro\", \"numero\": 15, \"regiao\": \"Nordeste\"}, {\"ano\": 2018, \"uf\": \"Cear\\u00e1\", \"genero\": \"Feminino\", \"mes\": \"Janeiro\", \"numero\": 13, \"regiao\": \"Nordeste\"}, {\"ano\": 2018, \"uf\": \"Cear\\u00e1\", \"genero\": \"Feminino\", \"mes\": \"Fevereiro\", \"numero\": 11, \"regiao\": \"Nordeste\"}, {\"ano\": 2018, \"uf\": \"Cear\\u00e1\", \"genero\": \"Feminino\", \"mes\": \"Mar\\u00e7o\", \"numero\": 11, \"regiao\": \"Nordeste\"}, {\"ano\": 2018, \"uf\": \"Cear\\u00e1\", \"genero\": \"Feminino\", \"mes\": \"Abril\", \"numero\": 11, \"regiao\": \"Nordeste\"}, {\"ano\": 2018, \"uf\": \"Cear\\u00e1\", \"genero\": \"Feminino\", \"mes\": \"Maio\", \"numero\": 15, \"regiao\": \"Nordeste\"}, {\"ano\": 2018, \"uf\": \"Cear\\u00e1\", \"genero\": \"Feminino\", \"mes\": \"Junho\", \"numero\": 14, \"regiao\": \"Nordeste\"}, {\"ano\": 2018, \"uf\": \"Cear\\u00e1\", \"genero\": \"Feminino\", \"mes\": \"Julho\", \"numero\": 12, \"regiao\": \"Nordeste\"}, {\"ano\": 2018, \"uf\": \"Cear\\u00e1\", \"genero\": \"Feminino\", \"mes\": \"Agosto\", \"numero\": 9, \"regiao\": \"Nordeste\"}, {\"ano\": 2018, \"uf\": \"Cear\\u00e1\", \"genero\": \"Feminino\", \"mes\": \"Setembro\", \"numero\": 15, \"regiao\": \"Nordeste\"}, {\"ano\": 2018, \"uf\": \"Cear\\u00e1\", \"genero\": \"Feminino\", \"mes\": \"Outubro\", \"numero\": 13, \"regiao\": \"Nordeste\"}, {\"ano\": 2018, \"uf\": \"Cear\\u00e1\", \"genero\": \"Feminino\", \"mes\": \"Novembro\", \"numero\": 19, \"regiao\": \"Nordeste\"}, {\"ano\": 2018, \"uf\": \"Cear\\u00e1\", \"genero\": \"Feminino\", \"mes\": \"Dezembro\", \"numero\": 69, \"regiao\": \"Nordeste\"}, {\"ano\": 2019, \"uf\": \"Cear\\u00e1\", \"genero\": \"Feminino\", \"mes\": \"Janeiro\", \"numero\": 36, \"regiao\": \"Nordeste\"}, {\"ano\": 2019, \"uf\": \"Cear\\u00e1\", \"genero\": \"Feminino\", \"mes\": \"Fevereiro\", \"numero\": 18, \"regiao\": \"Nordeste\"}, {\"ano\": 2019, \"uf\": \"Cear\\u00e1\", \"genero\": \"Feminino\", \"mes\": \"Mar\\u00e7o\", \"numero\": 18, \"regiao\": \"Nordeste\"}, {\"ano\": 2019, \"uf\": \"Cear\\u00e1\", \"genero\": \"Feminino\", \"mes\": \"Abril\", \"numero\": 10, \"regiao\": \"Nordeste\"}, {\"ano\": 2019, \"uf\": \"Cear\\u00e1\", \"genero\": \"Feminino\", \"mes\": \"Maio\", \"numero\": 10, \"regiao\": \"Nordeste\"}, {\"ano\": 2019, \"uf\": \"Cear\\u00e1\", \"genero\": \"Feminino\", \"mes\": \"Junho\", \"numero\": 14, \"regiao\": \"Nordeste\"}, {\"ano\": 2019, \"uf\": \"Cear\\u00e1\", \"genero\": \"Feminino\", \"mes\": \"Julho\", \"numero\": 17, \"regiao\": \"Nordeste\"}, {\"ano\": 2019, \"uf\": \"Cear\\u00e1\", \"genero\": \"Feminino\", \"mes\": \"Agosto\", \"numero\": 9, \"regiao\": \"Nordeste\"}, {\"ano\": 2019, \"uf\": \"Cear\\u00e1\", \"genero\": \"Feminino\", \"mes\": \"Setembro\", \"numero\": 16, \"regiao\": \"Nordeste\"}, {\"ano\": 2019, \"uf\": \"Cear\\u00e1\", \"genero\": \"Feminino\", \"mes\": \"Outubro\", \"numero\": 15, \"regiao\": \"Nordeste\"}, {\"ano\": 2019, \"uf\": \"Cear\\u00e1\", \"genero\": \"Feminino\", \"mes\": \"Novembro\", \"numero\": 10, \"regiao\": \"Nordeste\"}, {\"ano\": 2019, \"uf\": \"Cear\\u00e1\", \"genero\": \"Feminino\", \"mes\": \"Dezembro\", \"numero\": 26, \"regiao\": \"Nordeste\"}, {\"ano\": 2014, \"uf\": \"Rio Grande do Norte\", \"genero\": \"Masculino\", \"mes\": \"Janeiro\", \"numero\": 1, \"regiao\": \"Nordeste\"}, {\"ano\": 2014, \"uf\": \"Rio Grande do Norte\", \"genero\": \"Masculino\", \"mes\": \"Fevereiro\", \"numero\": 2, \"regiao\": \"Nordeste\"}, {\"ano\": 2014, \"uf\": \"Rio Grande do Norte\", \"genero\": \"Masculino\", \"mes\": \"Mar\\u00e7o\", \"numero\": 2, \"regiao\": \"Nordeste\"}, {\"ano\": 2014, \"uf\": \"Rio Grande do Norte\", \"genero\": \"Masculino\", \"mes\": \"Abril\", \"numero\": 1, \"regiao\": \"Nordeste\"}, {\"ano\": 2014, \"uf\": \"Rio Grande do Norte\", \"genero\": \"Masculino\", \"mes\": \"Maio\", \"numero\": 2, \"regiao\": \"Nordeste\"}, {\"ano\": 2014, \"uf\": \"Rio Grande do Norte\", \"genero\": \"Masculino\", \"mes\": \"Junho\", \"numero\": 1, \"regiao\": \"Nordeste\"}, {\"ano\": 2014, \"uf\": \"Rio Grande do Norte\", \"genero\": \"Masculino\", \"mes\": \"Julho\", \"numero\": 5, \"regiao\": \"Nordeste\"}, {\"ano\": 2014, \"uf\": \"Rio Grande do Norte\", \"genero\": \"Masculino\", \"mes\": \"Agosto\", \"numero\": 3, \"regiao\": \"Nordeste\"}, {\"ano\": 2014, \"uf\": \"Rio Grande do Norte\", \"genero\": \"Masculino\", \"mes\": \"Setembro\", \"numero\": 0, \"regiao\": \"Nordeste\"}, {\"ano\": 2014, \"uf\": \"Rio Grande do Norte\", \"genero\": \"Masculino\", \"mes\": \"Outubro\", \"numero\": 0, \"regiao\": \"Nordeste\"}, {\"ano\": 2014, \"uf\": \"Rio Grande do Norte\", \"genero\": \"Masculino\", \"mes\": \"Novembro\", \"numero\": 2, \"regiao\": \"Nordeste\"}, {\"ano\": 2014, \"uf\": \"Rio Grande do Norte\", \"genero\": \"Masculino\", \"mes\": \"Dezembro\", \"numero\": 1, \"regiao\": \"Nordeste\"}, {\"ano\": 2014, \"uf\": \"Rio Grande do Norte\", \"genero\": \"Feminino\", \"mes\": \"Janeiro\", \"numero\": 3, \"regiao\": \"Nordeste\"}, {\"ano\": 2014, \"uf\": \"Rio Grande do Norte\", \"genero\": \"Feminino\", \"mes\": \"Fevereiro\", \"numero\": 3, \"regiao\": \"Nordeste\"}, {\"ano\": 2014, \"uf\": \"Rio Grande do Norte\", \"genero\": \"Feminino\", \"mes\": \"Mar\\u00e7o\", \"numero\": 2, \"regiao\": \"Nordeste\"}, {\"ano\": 2014, \"uf\": \"Rio Grande do Norte\", \"genero\": \"Feminino\", \"mes\": \"Abril\", \"numero\": 1, \"regiao\": \"Nordeste\"}, {\"ano\": 2014, \"uf\": \"Rio Grande do Norte\", \"genero\": \"Feminino\", \"mes\": \"Maio\", \"numero\": 2, \"regiao\": \"Nordeste\"}, {\"ano\": 2014, \"uf\": \"Rio Grande do Norte\", \"genero\": \"Feminino\", \"mes\": \"Junho\", \"numero\": 1, \"regiao\": \"Nordeste\"}, {\"ano\": 2014, \"uf\": \"Rio Grande do Norte\", \"genero\": \"Feminino\", \"mes\": \"Julho\", \"numero\": 3, \"regiao\": \"Nordeste\"}, {\"ano\": 2014, \"uf\": \"Rio Grande do Norte\", \"genero\": \"Feminino\", \"mes\": \"Agosto\", \"numero\": 2, \"regiao\": \"Nordeste\"}, {\"ano\": 2014, \"uf\": \"Rio Grande do Norte\", \"genero\": \"Feminino\", \"mes\": \"Setembro\", \"numero\": 2, \"regiao\": \"Nordeste\"}, {\"ano\": 2014, \"uf\": \"Rio Grande do Norte\", \"genero\": \"Feminino\", \"mes\": \"Outubro\", \"numero\": 1, \"regiao\": \"Nordeste\"}, {\"ano\": 2014, \"uf\": \"Rio Grande do Norte\", \"genero\": \"Feminino\", \"mes\": \"Novembro\", \"numero\": 3, \"regiao\": \"Nordeste\"}, {\"ano\": 2014, \"uf\": \"Rio Grande do Norte\", \"genero\": \"Feminino\", \"mes\": \"Dezembro\", \"numero\": 4, \"regiao\": \"Nordeste\"}, {\"ano\": 2013, \"uf\": \"Rio Grande do Norte\", \"genero\": \"Masculino\", \"mes\": \"Janeiro\", \"numero\": 0, \"regiao\": \"Nordeste\"}, {\"ano\": 2013, \"uf\": \"Rio Grande do Norte\", \"genero\": \"Masculino\", \"mes\": \"Fevereiro\", \"numero\": 0, \"regiao\": \"Nordeste\"}, {\"ano\": 2013, \"uf\": \"Rio Grande do Norte\", \"genero\": \"Masculino\", \"mes\": \"Mar\\u00e7o\", \"numero\": 0, \"regiao\": \"Nordeste\"}, {\"ano\": 2013, \"uf\": \"Rio Grande do Norte\", \"genero\": \"Masculino\", \"mes\": \"Abril\", \"numero\": 0, \"regiao\": \"Nordeste\"}, {\"ano\": 2013, \"uf\": \"Rio Grande do Norte\", \"genero\": \"Masculino\", \"mes\": \"Maio\", \"numero\": 0, \"regiao\": \"Nordeste\"}, {\"ano\": 2013, \"uf\": \"Rio Grande do Norte\", \"genero\": \"Masculino\", \"mes\": \"Junho\", \"numero\": 1, \"regiao\": \"Nordeste\"}, {\"ano\": 2013, \"uf\": \"Rio Grande do Norte\", \"genero\": \"Masculino\", \"mes\": \"Julho\", \"numero\": 4, \"regiao\": \"Nordeste\"}, {\"ano\": 2013, \"uf\": \"Rio Grande do Norte\", \"genero\": \"Masculino\", \"mes\": \"Agosto\", \"numero\": 1, \"regiao\": \"Nordeste\"}, {\"ano\": 2013, \"uf\": \"Rio Grande do Norte\", \"genero\": \"Masculino\", \"mes\": \"Setembro\", \"numero\": 3, \"regiao\": \"Nordeste\"}, {\"ano\": 2013, \"uf\": \"Rio Grande do Norte\", \"genero\": \"Masculino\", \"mes\": \"Outubro\", \"numero\": 1, \"regiao\": \"Nordeste\"}, {\"ano\": 2013, \"uf\": \"Rio Grande do Norte\", \"genero\": \"Masculino\", \"mes\": \"Novembro\", \"numero\": 0, \"regiao\": \"Nordeste\"}, {\"ano\": 2013, \"uf\": \"Rio Grande do Norte\", \"genero\": \"Masculino\", \"mes\": \"Dezembro\", \"numero\": 5, \"regiao\": \"Nordeste\"}, {\"ano\": 2013, \"uf\": \"Rio Grande do Norte\", \"genero\": \"Feminino\", \"mes\": \"Janeiro\", \"numero\": 0, \"regiao\": \"Nordeste\"}, {\"ano\": 2013, \"uf\": \"Rio Grande do Norte\", \"genero\": \"Feminino\", \"mes\": \"Fevereiro\", \"numero\": 1, \"regiao\": \"Nordeste\"}, {\"ano\": 2013, \"uf\": \"Rio Grande do Norte\", \"genero\": \"Feminino\", \"mes\": \"Mar\\u00e7o\", \"numero\": 0, \"regiao\": \"Nordeste\"}, {\"ano\": 2013, \"uf\": \"Rio Grande do Norte\", \"genero\": \"Feminino\", \"mes\": \"Abril\", \"numero\": 0, \"regiao\": \"Nordeste\"}, {\"ano\": 2013, \"uf\": \"Rio Grande do Norte\", \"genero\": \"Feminino\", \"mes\": \"Maio\", \"numero\": 0, \"regiao\": \"Nordeste\"}, {\"ano\": 2013, \"uf\": \"Rio Grande do Norte\", \"genero\": \"Feminino\", \"mes\": \"Junho\", \"numero\": 5, \"regiao\": \"Nordeste\"}, {\"ano\": 2013, \"uf\": \"Rio Grande do Norte\", \"genero\": \"Feminino\", \"mes\": \"Julho\", \"numero\": 1, \"regiao\": \"Nordeste\"}, {\"ano\": 2013, \"uf\": \"Rio Grande do Norte\", \"genero\": \"Feminino\", \"mes\": \"Agosto\", \"numero\": 2, \"regiao\": \"Nordeste\"}, {\"ano\": 2013, \"uf\": \"Rio Grande do Norte\", \"genero\": \"Feminino\", \"mes\": \"Setembro\", \"numero\": 2, \"regiao\": \"Nordeste\"}, {\"ano\": 2013, \"uf\": \"Rio Grande do Norte\", \"genero\": \"Feminino\", \"mes\": \"Outubro\", \"numero\": 3, \"regiao\": \"Nordeste\"}, {\"ano\": 2013, \"uf\": \"Rio Grande do Norte\", \"genero\": \"Feminino\", \"mes\": \"Novembro\", \"numero\": 2, \"regiao\": \"Nordeste\"}, {\"ano\": 2013, \"uf\": \"Rio Grande do Norte\", \"genero\": \"Feminino\", \"mes\": \"Dezembro\", \"numero\": 4, \"regiao\": \"Nordeste\"}, {\"ano\": 2015, \"uf\": \"Rio Grande do Norte\", \"genero\": \"Masculino\", \"mes\": \"Janeiro\", \"numero\": 0, \"regiao\": \"Nordeste\"}, {\"ano\": 2015, \"uf\": \"Rio Grande do Norte\", \"genero\": \"Masculino\", \"mes\": \"Fevereiro\", \"numero\": 1, \"regiao\": \"Nordeste\"}, {\"ano\": 2015, \"uf\": \"Rio Grande do Norte\", \"genero\": \"Masculino\", \"mes\": \"Mar\\u00e7o\", \"numero\": 3, \"regiao\": \"Nordeste\"}, {\"ano\": 2015, \"uf\": \"Rio Grande do Norte\", \"genero\": \"Masculino\", \"mes\": \"Abril\", \"numero\": 0, \"regiao\": \"Nordeste\"}, {\"ano\": 2015, \"uf\": \"Rio Grande do Norte\", \"genero\": \"Masculino\", \"mes\": \"Maio\", \"numero\": 0, \"regiao\": \"Nordeste\"}, {\"ano\": 2015, \"uf\": \"Rio Grande do Norte\", \"genero\": \"Masculino\", \"mes\": \"Junho\", \"numero\": 0, \"regiao\": \"Nordeste\"}, {\"ano\": 2015, \"uf\": \"Rio Grande do Norte\", \"genero\": \"Masculino\", \"mes\": \"Julho\", \"numero\": 1, \"regiao\": \"Nordeste\"}, {\"ano\": 2015, \"uf\": \"Rio Grande do Norte\", \"genero\": \"Masculino\", \"mes\": \"Agosto\", \"numero\": 1, \"regiao\": \"Nordeste\"}, {\"ano\": 2015, \"uf\": \"Rio Grande do Norte\", \"genero\": \"Masculino\", \"mes\": \"Setembro\", \"numero\": 3, \"regiao\": \"Nordeste\"}, {\"ano\": 2015, \"uf\": \"Rio Grande do Norte\", \"genero\": \"Masculino\", \"mes\": \"Outubro\", \"numero\": 2, \"regiao\": \"Nordeste\"}, {\"ano\": 2015, \"uf\": \"Rio Grande do Norte\", \"genero\": \"Masculino\", \"mes\": \"Novembro\", \"numero\": 2, \"regiao\": \"Nordeste\"}, {\"ano\": 2015, \"uf\": \"Rio Grande do Norte\", \"genero\": \"Masculino\", \"mes\": \"Dezembro\", \"numero\": 4, \"regiao\": \"Nordeste\"}, {\"ano\": 2016, \"uf\": \"Rio Grande do Norte\", \"genero\": \"Masculino\", \"mes\": \"Janeiro\", \"numero\": 1, \"regiao\": \"Nordeste\"}, {\"ano\": 2016, \"uf\": \"Rio Grande do Norte\", \"genero\": \"Masculino\", \"mes\": \"Fevereiro\", \"numero\": 1, \"regiao\": \"Nordeste\"}, {\"ano\": 2016, \"uf\": \"Rio Grande do Norte\", \"genero\": \"Masculino\", \"mes\": \"Mar\\u00e7o\", \"numero\": 2, \"regiao\": \"Nordeste\"}, {\"ano\": 2016, \"uf\": \"Rio Grande do Norte\", \"genero\": \"Masculino\", \"mes\": \"Abril\", \"numero\": 4, \"regiao\": \"Nordeste\"}, {\"ano\": 2016, \"uf\": \"Rio Grande do Norte\", \"genero\": \"Masculino\", \"mes\": \"Maio\", \"numero\": 1, \"regiao\": \"Nordeste\"}, {\"ano\": 2016, \"uf\": \"Rio Grande do Norte\", \"genero\": \"Masculino\", \"mes\": \"Junho\", \"numero\": 4, \"regiao\": \"Nordeste\"}, {\"ano\": 2016, \"uf\": \"Rio Grande do Norte\", \"genero\": \"Masculino\", \"mes\": \"Julho\", \"numero\": 1, \"regiao\": \"Nordeste\"}, {\"ano\": 2016, \"uf\": \"Rio Grande do Norte\", \"genero\": \"Masculino\", \"mes\": \"Agosto\", \"numero\": 3, \"regiao\": \"Nordeste\"}, {\"ano\": 2016, \"uf\": \"Rio Grande do Norte\", \"genero\": \"Masculino\", \"mes\": \"Setembro\", \"numero\": 0, \"regiao\": \"Nordeste\"}, {\"ano\": 2016, \"uf\": \"Rio Grande do Norte\", \"genero\": \"Masculino\", \"mes\": \"Outubro\", \"numero\": 5, \"regiao\": \"Nordeste\"}, {\"ano\": 2016, \"uf\": \"Rio Grande do Norte\", \"genero\": \"Masculino\", \"mes\": \"Novembro\", \"numero\": 4, \"regiao\": \"Nordeste\"}, {\"ano\": 2016, \"uf\": \"Rio Grande do Norte\", \"genero\": \"Masculino\", \"mes\": \"Dezembro\", \"numero\": 2, \"regiao\": \"Nordeste\"}, {\"ano\": 2017, \"uf\": \"Rio Grande do Norte\", \"genero\": \"Masculino\", \"mes\": \"Janeiro\", \"numero\": 4, \"regiao\": \"Nordeste\"}, {\"ano\": 2017, \"uf\": \"Rio Grande do Norte\", \"genero\": \"Masculino\", \"mes\": \"Fevereiro\", \"numero\": 3, \"regiao\": \"Nordeste\"}, {\"ano\": 2017, \"uf\": \"Rio Grande do Norte\", \"genero\": \"Masculino\", \"mes\": \"Mar\\u00e7o\", \"numero\": 1, \"regiao\": \"Nordeste\"}, {\"ano\": 2017, \"uf\": \"Rio Grande do Norte\", \"genero\": \"Masculino\", \"mes\": \"Abril\", \"numero\": 1, \"regiao\": \"Nordeste\"}, {\"ano\": 2017, \"uf\": \"Rio Grande do Norte\", \"genero\": \"Masculino\", \"mes\": \"Maio\", \"numero\": 3, \"regiao\": \"Nordeste\"}, {\"ano\": 2017, \"uf\": \"Rio Grande do Norte\", \"genero\": \"Masculino\", \"mes\": \"Junho\", \"numero\": 4, \"regiao\": \"Nordeste\"}, {\"ano\": 2017, \"uf\": \"Rio Grande do Norte\", \"genero\": \"Masculino\", \"mes\": \"Julho\", \"numero\": 1, \"regiao\": \"Nordeste\"}, {\"ano\": 2017, \"uf\": \"Rio Grande do Norte\", \"genero\": \"Masculino\", \"mes\": \"Agosto\", \"numero\": 2, \"regiao\": \"Nordeste\"}, {\"ano\": 2017, \"uf\": \"Rio Grande do Norte\", \"genero\": \"Masculino\", \"mes\": \"Setembro\", \"numero\": 2, \"regiao\": \"Nordeste\"}, {\"ano\": 2017, \"uf\": \"Rio Grande do Norte\", \"genero\": \"Masculino\", \"mes\": \"Outubro\", \"numero\": 1, \"regiao\": \"Nordeste\"}, {\"ano\": 2017, \"uf\": \"Rio Grande do Norte\", \"genero\": \"Masculino\", \"mes\": \"Novembro\", \"numero\": 1, \"regiao\": \"Nordeste\"}, {\"ano\": 2017, \"uf\": \"Rio Grande do Norte\", \"genero\": \"Masculino\", \"mes\": \"Dezembro\", \"numero\": 0, \"regiao\": \"Nordeste\"}, {\"ano\": 2018, \"uf\": \"Rio Grande do Norte\", \"genero\": \"Masculino\", \"mes\": \"Janeiro\", \"numero\": 0, \"regiao\": \"Nordeste\"}, {\"ano\": 2018, \"uf\": \"Rio Grande do Norte\", \"genero\": \"Masculino\", \"mes\": \"Fevereiro\", \"numero\": 2, \"regiao\": \"Nordeste\"}, {\"ano\": 2018, \"uf\": \"Rio Grande do Norte\", \"genero\": \"Masculino\", \"mes\": \"Mar\\u00e7o\", \"numero\": 1, \"regiao\": \"Nordeste\"}, {\"ano\": 2018, \"uf\": \"Rio Grande do Norte\", \"genero\": \"Masculino\", \"mes\": \"Abril\", \"numero\": 1, \"regiao\": \"Nordeste\"}, {\"ano\": 2018, \"uf\": \"Rio Grande do Norte\", \"genero\": \"Masculino\", \"mes\": \"Maio\", \"numero\": 3, \"regiao\": \"Nordeste\"}, {\"ano\": 2018, \"uf\": \"Rio Grande do Norte\", \"genero\": \"Masculino\", \"mes\": \"Junho\", \"numero\": 2, \"regiao\": \"Nordeste\"}, {\"ano\": 2018, \"uf\": \"Rio Grande do Norte\", \"genero\": \"Masculino\", \"mes\": \"Julho\", \"numero\": 2, \"regiao\": \"Nordeste\"}, {\"ano\": 2018, \"uf\": \"Rio Grande do Norte\", \"genero\": \"Masculino\", \"mes\": \"Agosto\", \"numero\": 4, \"regiao\": \"Nordeste\"}, {\"ano\": 2018, \"uf\": \"Rio Grande do Norte\", \"genero\": \"Masculino\", \"mes\": \"Setembro\", \"numero\": 3, \"regiao\": \"Nordeste\"}, {\"ano\": 2018, \"uf\": \"Rio Grande do Norte\", \"genero\": \"Masculino\", \"mes\": \"Outubro\", \"numero\": 2, \"regiao\": \"Nordeste\"}, {\"ano\": 2018, \"uf\": \"Rio Grande do Norte\", \"genero\": \"Masculino\", \"mes\": \"Novembro\", \"numero\": 6, \"regiao\": \"Nordeste\"}, {\"ano\": 2018, \"uf\": \"Rio Grande do Norte\", \"genero\": \"Masculino\", \"mes\": \"Dezembro\", \"numero\": 19, \"regiao\": \"Nordeste\"}, {\"ano\": 2019, \"uf\": \"Rio Grande do Norte\", \"genero\": \"Masculino\", \"mes\": \"Janeiro\", \"numero\": 6, \"regiao\": \"Nordeste\"}, {\"ano\": 2019, \"uf\": \"Rio Grande do Norte\", \"genero\": \"Masculino\", \"mes\": \"Fevereiro\", \"numero\": 9, \"regiao\": \"Nordeste\"}, {\"ano\": 2019, \"uf\": \"Rio Grande do Norte\", \"genero\": \"Masculino\", \"mes\": \"Mar\\u00e7o\", \"numero\": 4, \"regiao\": \"Nordeste\"}, {\"ano\": 2019, \"uf\": \"Rio Grande do Norte\", \"genero\": \"Masculino\", \"mes\": \"Abril\", \"numero\": 2, \"regiao\": \"Nordeste\"}, {\"ano\": 2019, \"uf\": \"Rio Grande do Norte\", \"genero\": \"Masculino\", \"mes\": \"Maio\", \"numero\": 4, \"regiao\": \"Nordeste\"}, {\"ano\": 2019, \"uf\": \"Rio Grande do Norte\", \"genero\": \"Masculino\", \"mes\": \"Junho\", \"numero\": 7, \"regiao\": \"Nordeste\"}, {\"ano\": 2019, \"uf\": \"Rio Grande do Norte\", \"genero\": \"Masculino\", \"mes\": \"Julho\", \"numero\": 2, \"regiao\": \"Nordeste\"}, {\"ano\": 2019, \"uf\": \"Rio Grande do Norte\", \"genero\": \"Masculino\", \"mes\": \"Agosto\", \"numero\": 5, \"regiao\": \"Nordeste\"}, {\"ano\": 2019, \"uf\": \"Rio Grande do Norte\", \"genero\": \"Masculino\", \"mes\": \"Setembro\", \"numero\": 3, \"regiao\": \"Nordeste\"}, {\"ano\": 2019, \"uf\": \"Rio Grande do Norte\", \"genero\": \"Masculino\", \"mes\": \"Outubro\", \"numero\": 2, \"regiao\": \"Nordeste\"}, {\"ano\": 2019, \"uf\": \"Rio Grande do Norte\", \"genero\": \"Masculino\", \"mes\": \"Novembro\", \"numero\": 6, \"regiao\": \"Nordeste\"}, {\"ano\": 2019, \"uf\": \"Rio Grande do Norte\", \"genero\": \"Masculino\", \"mes\": \"Dezembro\", \"numero\": 3, \"regiao\": \"Nordeste\"}, {\"ano\": 2015, \"uf\": \"Rio Grande do Norte\", \"genero\": \"Feminino\", \"mes\": \"Janeiro\", \"numero\": 1, \"regiao\": \"Nordeste\"}, {\"ano\": 2015, \"uf\": \"Rio Grande do Norte\", \"genero\": \"Feminino\", \"mes\": \"Fevereiro\", \"numero\": 1, \"regiao\": \"Nordeste\"}, {\"ano\": 2015, \"uf\": \"Rio Grande do Norte\", \"genero\": \"Feminino\", \"mes\": \"Mar\\u00e7o\", \"numero\": 3, \"regiao\": \"Nordeste\"}, {\"ano\": 2015, \"uf\": \"Rio Grande do Norte\", \"genero\": \"Feminino\", \"mes\": \"Abril\", \"numero\": 2, \"regiao\": \"Nordeste\"}, {\"ano\": 2015, \"uf\": \"Rio Grande do Norte\", \"genero\": \"Feminino\", \"mes\": \"Maio\", \"numero\": 1, \"regiao\": \"Nordeste\"}, {\"ano\": 2015, \"uf\": \"Rio Grande do Norte\", \"genero\": \"Feminino\", \"mes\": \"Junho\", \"numero\": 1, \"regiao\": \"Nordeste\"}, {\"ano\": 2015, \"uf\": \"Rio Grande do Norte\", \"genero\": \"Feminino\", \"mes\": \"Julho\", \"numero\": 5, \"regiao\": \"Nordeste\"}, {\"ano\": 2015, \"uf\": \"Rio Grande do Norte\", \"genero\": \"Feminino\", \"mes\": \"Agosto\", \"numero\": 3, \"regiao\": \"Nordeste\"}, {\"ano\": 2015, \"uf\": \"Rio Grande do Norte\", \"genero\": \"Feminino\", \"mes\": \"Setembro\", \"numero\": 3, \"regiao\": \"Nordeste\"}, {\"ano\": 2015, \"uf\": \"Rio Grande do Norte\", \"genero\": \"Feminino\", \"mes\": \"Outubro\", \"numero\": 3, \"regiao\": \"Nordeste\"}, {\"ano\": 2015, \"uf\": \"Rio Grande do Norte\", \"genero\": \"Feminino\", \"mes\": \"Novembro\", \"numero\": 3, \"regiao\": \"Nordeste\"}, {\"ano\": 2015, \"uf\": \"Rio Grande do Norte\", \"genero\": \"Feminino\", \"mes\": \"Dezembro\", \"numero\": 5, \"regiao\": \"Nordeste\"}, {\"ano\": 2016, \"uf\": \"Rio Grande do Norte\", \"genero\": \"Feminino\", \"mes\": \"Janeiro\", \"numero\": 8, \"regiao\": \"Nordeste\"}, {\"ano\": 2016, \"uf\": \"Rio Grande do Norte\", \"genero\": \"Feminino\", \"mes\": \"Fevereiro\", \"numero\": 2, \"regiao\": \"Nordeste\"}, {\"ano\": 2016, \"uf\": \"Rio Grande do Norte\", \"genero\": \"Feminino\", \"mes\": \"Mar\\u00e7o\", \"numero\": 2, \"regiao\": \"Nordeste\"}, {\"ano\": 2016, \"uf\": \"Rio Grande do Norte\", \"genero\": \"Feminino\", \"mes\": \"Abril\", \"numero\": 1, \"regiao\": \"Nordeste\"}, {\"ano\": 2016, \"uf\": \"Rio Grande do Norte\", \"genero\": \"Feminino\", \"mes\": \"Maio\", \"numero\": 2, \"regiao\": \"Nordeste\"}, {\"ano\": 2016, \"uf\": \"Rio Grande do Norte\", \"genero\": \"Feminino\", \"mes\": \"Junho\", \"numero\": 1, \"regiao\": \"Nordeste\"}, {\"ano\": 2016, \"uf\": \"Rio Grande do Norte\", \"genero\": \"Feminino\", \"mes\": \"Julho\", \"numero\": 7, \"regiao\": \"Nordeste\"}, {\"ano\": 2016, \"uf\": \"Rio Grande do Norte\", \"genero\": \"Feminino\", \"mes\": \"Agosto\", \"numero\": 3, \"regiao\": \"Nordeste\"}, {\"ano\": 2016, \"uf\": \"Rio Grande do Norte\", \"genero\": \"Feminino\", \"mes\": \"Setembro\", \"numero\": 4, \"regiao\": \"Nordeste\"}, {\"ano\": 2016, \"uf\": \"Rio Grande do Norte\", \"genero\": \"Feminino\", \"mes\": \"Outubro\", \"numero\": 0, \"regiao\": \"Nordeste\"}, {\"ano\": 2016, \"uf\": \"Rio Grande do Norte\", \"genero\": \"Feminino\", \"mes\": \"Novembro\", \"numero\": 0, \"regiao\": \"Nordeste\"}, {\"ano\": 2016, \"uf\": \"Rio Grande do Norte\", \"genero\": \"Feminino\", \"mes\": \"Dezembro\", \"numero\": 2, \"regiao\": \"Nordeste\"}, {\"ano\": 2017, \"uf\": \"Rio Grande do Norte\", \"genero\": \"Feminino\", \"mes\": \"Janeiro\", \"numero\": 0, \"regiao\": \"Nordeste\"}, {\"ano\": 2017, \"uf\": \"Rio Grande do Norte\", \"genero\": \"Feminino\", \"mes\": \"Fevereiro\", \"numero\": 4, \"regiao\": \"Nordeste\"}, {\"ano\": 2017, \"uf\": \"Rio Grande do Norte\", \"genero\": \"Feminino\", \"mes\": \"Mar\\u00e7o\", \"numero\": 7, \"regiao\": \"Nordeste\"}, {\"ano\": 2017, \"uf\": \"Rio Grande do Norte\", \"genero\": \"Feminino\", \"mes\": \"Abril\", \"numero\": 6, \"regiao\": \"Nordeste\"}, {\"ano\": 2017, \"uf\": \"Rio Grande do Norte\", \"genero\": \"Feminino\", \"mes\": \"Maio\", \"numero\": 6, \"regiao\": \"Nordeste\"}, {\"ano\": 2017, \"uf\": \"Rio Grande do Norte\", \"genero\": \"Feminino\", \"mes\": \"Junho\", \"numero\": 3, \"regiao\": \"Nordeste\"}, {\"ano\": 2017, \"uf\": \"Rio Grande do Norte\", \"genero\": \"Feminino\", \"mes\": \"Julho\", \"numero\": 5, \"regiao\": \"Nordeste\"}, {\"ano\": 2017, \"uf\": \"Rio Grande do Norte\", \"genero\": \"Feminino\", \"mes\": \"Agosto\", \"numero\": 2, \"regiao\": \"Nordeste\"}, {\"ano\": 2017, \"uf\": \"Rio Grande do Norte\", \"genero\": \"Feminino\", \"mes\": \"Setembro\", \"numero\": 3, \"regiao\": \"Nordeste\"}, {\"ano\": 2017, \"uf\": \"Rio Grande do Norte\", \"genero\": \"Feminino\", \"mes\": \"Outubro\", \"numero\": 4, \"regiao\": \"Nordeste\"}, {\"ano\": 2017, \"uf\": \"Rio Grande do Norte\", \"genero\": \"Feminino\", \"mes\": \"Novembro\", \"numero\": 4, \"regiao\": \"Nordeste\"}, {\"ano\": 2017, \"uf\": \"Rio Grande do Norte\", \"genero\": \"Feminino\", \"mes\": \"Dezembro\", \"numero\": 4, \"regiao\": \"Nordeste\"}, {\"ano\": 2018, \"uf\": \"Rio Grande do Norte\", \"genero\": \"Feminino\", \"mes\": \"Janeiro\", \"numero\": 6, \"regiao\": \"Nordeste\"}, {\"ano\": 2018, \"uf\": \"Rio Grande do Norte\", \"genero\": \"Feminino\", \"mes\": \"Fevereiro\", \"numero\": 4, \"regiao\": \"Nordeste\"}, {\"ano\": 2018, \"uf\": \"Rio Grande do Norte\", \"genero\": \"Feminino\", \"mes\": \"Mar\\u00e7o\", \"numero\": 1, \"regiao\": \"Nordeste\"}, {\"ano\": 2018, \"uf\": \"Rio Grande do Norte\", \"genero\": \"Feminino\", \"mes\": \"Abril\", \"numero\": 1, \"regiao\": \"Nordeste\"}, {\"ano\": 2018, \"uf\": \"Rio Grande do Norte\", \"genero\": \"Feminino\", \"mes\": \"Maio\", \"numero\": 8, \"regiao\": \"Nordeste\"}, {\"ano\": 2018, \"uf\": \"Rio Grande do Norte\", \"genero\": \"Feminino\", \"mes\": \"Junho\", \"numero\": 4, \"regiao\": \"Nordeste\"}, {\"ano\": 2018, \"uf\": \"Rio Grande do Norte\", \"genero\": \"Feminino\", \"mes\": \"Julho\", \"numero\": 2, \"regiao\": \"Nordeste\"}, {\"ano\": 2018, \"uf\": \"Rio Grande do Norte\", \"genero\": \"Feminino\", \"mes\": \"Agosto\", \"numero\": 3, \"regiao\": \"Nordeste\"}, {\"ano\": 2018, \"uf\": \"Rio Grande do Norte\", \"genero\": \"Feminino\", \"mes\": \"Setembro\", \"numero\": 5, \"regiao\": \"Nordeste\"}, {\"ano\": 2018, \"uf\": \"Rio Grande do Norte\", \"genero\": \"Feminino\", \"mes\": \"Outubro\", \"numero\": 3, \"regiao\": \"Nordeste\"}, {\"ano\": 2018, \"uf\": \"Rio Grande do Norte\", \"genero\": \"Feminino\", \"mes\": \"Novembro\", \"numero\": 9, \"regiao\": \"Nordeste\"}, {\"ano\": 2018, \"uf\": \"Rio Grande do Norte\", \"genero\": \"Feminino\", \"mes\": \"Dezembro\", \"numero\": 23, \"regiao\": \"Nordeste\"}, {\"ano\": 2019, \"uf\": \"Rio Grande do Norte\", \"genero\": \"Feminino\", \"mes\": \"Janeiro\", \"numero\": 10, \"regiao\": \"Nordeste\"}, {\"ano\": 2019, \"uf\": \"Rio Grande do Norte\", \"genero\": \"Feminino\", \"mes\": \"Fevereiro\", \"numero\": 9, \"regiao\": \"Nordeste\"}, {\"ano\": 2019, \"uf\": \"Rio Grande do Norte\", \"genero\": \"Feminino\", \"mes\": \"Mar\\u00e7o\", \"numero\": 0, \"regiao\": \"Nordeste\"}, {\"ano\": 2019, \"uf\": \"Rio Grande do Norte\", \"genero\": \"Feminino\", \"mes\": \"Abril\", \"numero\": 9, \"regiao\": \"Nordeste\"}, {\"ano\": 2019, \"uf\": \"Rio Grande do Norte\", \"genero\": \"Feminino\", \"mes\": \"Maio\", \"numero\": 6, \"regiao\": \"Nordeste\"}, {\"ano\": 2019, \"uf\": \"Rio Grande do Norte\", \"genero\": \"Feminino\", \"mes\": \"Junho\", \"numero\": 5, \"regiao\": \"Nordeste\"}, {\"ano\": 2019, \"uf\": \"Rio Grande do Norte\", \"genero\": \"Feminino\", \"mes\": \"Julho\", \"numero\": 2, \"regiao\": \"Nordeste\"}, {\"ano\": 2019, \"uf\": \"Rio Grande do Norte\", \"genero\": \"Feminino\", \"mes\": \"Agosto\", \"numero\": 4, \"regiao\": \"Nordeste\"}, {\"ano\": 2019, \"uf\": \"Rio Grande do Norte\", \"genero\": \"Feminino\", \"mes\": \"Setembro\", \"numero\": 7, \"regiao\": \"Nordeste\"}, {\"ano\": 2019, \"uf\": \"Rio Grande do Norte\", \"genero\": \"Feminino\", \"mes\": \"Outubro\", \"numero\": 7, \"regiao\": \"Nordeste\"}, {\"ano\": 2019, \"uf\": \"Rio Grande do Norte\", \"genero\": \"Feminino\", \"mes\": \"Novembro\", \"numero\": 3, \"regiao\": \"Nordeste\"}, {\"ano\": 2019, \"uf\": \"Rio Grande do Norte\", \"genero\": \"Feminino\", \"mes\": \"Dezembro\", \"numero\": 9, \"regiao\": \"Nordeste\"}, {\"ano\": 2014, \"uf\": \"Para\\u00edba\", \"genero\": \"Masculino\", \"mes\": \"Janeiro\", \"numero\": 0, \"regiao\": \"Nordeste\"}, {\"ano\": 2014, \"uf\": \"Para\\u00edba\", \"genero\": \"Masculino\", \"mes\": \"Fevereiro\", \"numero\": 2, \"regiao\": \"Nordeste\"}, {\"ano\": 2014, \"uf\": \"Para\\u00edba\", \"genero\": \"Masculino\", \"mes\": \"Mar\\u00e7o\", \"numero\": 0, \"regiao\": \"Nordeste\"}, {\"ano\": 2014, \"uf\": \"Para\\u00edba\", \"genero\": \"Masculino\", \"mes\": \"Abril\", \"numero\": 0, \"regiao\": \"Nordeste\"}, {\"ano\": 2014, \"uf\": \"Para\\u00edba\", \"genero\": \"Masculino\", \"mes\": \"Maio\", \"numero\": 0, \"regiao\": \"Nordeste\"}, {\"ano\": 2014, \"uf\": \"Para\\u00edba\", \"genero\": \"Masculino\", \"mes\": \"Junho\", \"numero\": 2, \"regiao\": \"Nordeste\"}, {\"ano\": 2014, \"uf\": \"Para\\u00edba\", \"genero\": \"Masculino\", \"mes\": \"Julho\", \"numero\": 0, \"regiao\": \"Nordeste\"}, {\"ano\": 2014, \"uf\": \"Para\\u00edba\", \"genero\": \"Masculino\", \"mes\": \"Agosto\", \"numero\": 0, \"regiao\": \"Nordeste\"}, {\"ano\": 2014, \"uf\": \"Para\\u00edba\", \"genero\": \"Masculino\", \"mes\": \"Setembro\", \"numero\": 1, \"regiao\": \"Nordeste\"}, {\"ano\": 2014, \"uf\": \"Para\\u00edba\", \"genero\": \"Masculino\", \"mes\": \"Outubro\", \"numero\": 3, \"regiao\": \"Nordeste\"}, {\"ano\": 2014, \"uf\": \"Para\\u00edba\", \"genero\": \"Masculino\", \"mes\": \"Novembro\", \"numero\": 1, \"regiao\": \"Nordeste\"}, {\"ano\": 2014, \"uf\": \"Para\\u00edba\", \"genero\": \"Masculino\", \"mes\": \"Dezembro\", \"numero\": 7, \"regiao\": \"Nordeste\"}, {\"ano\": 2014, \"uf\": \"Para\\u00edba\", \"genero\": \"Feminino\", \"mes\": \"Janeiro\", \"numero\": 0, \"regiao\": \"Nordeste\"}, {\"ano\": 2014, \"uf\": \"Para\\u00edba\", \"genero\": \"Feminino\", \"mes\": \"Fevereiro\", \"numero\": 0, \"regiao\": \"Nordeste\"}, {\"ano\": 2014, \"uf\": \"Para\\u00edba\", \"genero\": \"Feminino\", \"mes\": \"Mar\\u00e7o\", \"numero\": 0, \"regiao\": \"Nordeste\"}, {\"ano\": 2014, \"uf\": \"Para\\u00edba\", \"genero\": \"Feminino\", \"mes\": \"Abril\", \"numero\": 0, \"regiao\": \"Nordeste\"}, {\"ano\": 2014, \"uf\": \"Para\\u00edba\", \"genero\": \"Feminino\", \"mes\": \"Maio\", \"numero\": 1, \"regiao\": \"Nordeste\"}, {\"ano\": 2014, \"uf\": \"Para\\u00edba\", \"genero\": \"Feminino\", \"mes\": \"Junho\", \"numero\": 0, \"regiao\": \"Nordeste\"}, {\"ano\": 2014, \"uf\": \"Para\\u00edba\", \"genero\": \"Feminino\", \"mes\": \"Julho\", \"numero\": 0, \"regiao\": \"Nordeste\"}, {\"ano\": 2014, \"uf\": \"Para\\u00edba\", \"genero\": \"Feminino\", \"mes\": \"Agosto\", \"numero\": 0, \"regiao\": \"Nordeste\"}, {\"ano\": 2014, \"uf\": \"Para\\u00edba\", \"genero\": \"Feminino\", \"mes\": \"Setembro\", \"numero\": 0, \"regiao\": \"Nordeste\"}, {\"ano\": 2014, \"uf\": \"Para\\u00edba\", \"genero\": \"Feminino\", \"mes\": \"Outubro\", \"numero\": 2, \"regiao\": \"Nordeste\"}, {\"ano\": 2014, \"uf\": \"Para\\u00edba\", \"genero\": \"Feminino\", \"mes\": \"Novembro\", \"numero\": 6, \"regiao\": \"Nordeste\"}, {\"ano\": 2014, \"uf\": \"Para\\u00edba\", \"genero\": \"Feminino\", \"mes\": \"Dezembro\", \"numero\": 6, \"regiao\": \"Nordeste\"}, {\"ano\": 2013, \"uf\": \"Para\\u00edba\", \"genero\": \"Masculino\", \"mes\": \"Janeiro\", \"numero\": 0, \"regiao\": \"Nordeste\"}, {\"ano\": 2013, \"uf\": \"Para\\u00edba\", \"genero\": \"Masculino\", \"mes\": \"Fevereiro\", \"numero\": 0, \"regiao\": \"Nordeste\"}, {\"ano\": 2013, \"uf\": \"Para\\u00edba\", \"genero\": \"Masculino\", \"mes\": \"Mar\\u00e7o\", \"numero\": 0, \"regiao\": \"Nordeste\"}, {\"ano\": 2013, \"uf\": \"Para\\u00edba\", \"genero\": \"Masculino\", \"mes\": \"Abril\", \"numero\": 0, \"regiao\": \"Nordeste\"}, {\"ano\": 2013, \"uf\": \"Para\\u00edba\", \"genero\": \"Masculino\", \"mes\": \"Maio\", \"numero\": 0, \"regiao\": \"Nordeste\"}, {\"ano\": 2013, \"uf\": \"Para\\u00edba\", \"genero\": \"Masculino\", \"mes\": \"Junho\", \"numero\": 3, \"regiao\": \"Nordeste\"}, {\"ano\": 2013, \"uf\": \"Para\\u00edba\", \"genero\": \"Masculino\", \"mes\": \"Julho\", \"numero\": 3, \"regiao\": \"Nordeste\"}, {\"ano\": 2013, \"uf\": \"Para\\u00edba\", \"genero\": \"Masculino\", \"mes\": \"Agosto\", \"numero\": 2, \"regiao\": \"Nordeste\"}, {\"ano\": 2013, \"uf\": \"Para\\u00edba\", \"genero\": \"Masculino\", \"mes\": \"Setembro\", \"numero\": 3, \"regiao\": \"Nordeste\"}, {\"ano\": 2013, \"uf\": \"Para\\u00edba\", \"genero\": \"Masculino\", \"mes\": \"Outubro\", \"numero\": 1, \"regiao\": \"Nordeste\"}, {\"ano\": 2013, \"uf\": \"Para\\u00edba\", \"genero\": \"Masculino\", \"mes\": \"Novembro\", \"numero\": 1, \"regiao\": \"Nordeste\"}, {\"ano\": 2013, \"uf\": \"Para\\u00edba\", \"genero\": \"Masculino\", \"mes\": \"Dezembro\", \"numero\": 4, \"regiao\": \"Nordeste\"}, {\"ano\": 2013, \"uf\": \"Para\\u00edba\", \"genero\": \"Feminino\", \"mes\": \"Janeiro\", \"numero\": 0, \"regiao\": \"Nordeste\"}, {\"ano\": 2013, \"uf\": \"Para\\u00edba\", \"genero\": \"Feminino\", \"mes\": \"Fevereiro\", \"numero\": 0, \"regiao\": \"Nordeste\"}, {\"ano\": 2013, \"uf\": \"Para\\u00edba\", \"genero\": \"Feminino\", \"mes\": \"Mar\\u00e7o\", \"numero\": 0, \"regiao\": \"Nordeste\"}, {\"ano\": 2013, \"uf\": \"Para\\u00edba\", \"genero\": \"Feminino\", \"mes\": \"Abril\", \"numero\": 0, \"regiao\": \"Nordeste\"}, {\"ano\": 2013, \"uf\": \"Para\\u00edba\", \"genero\": \"Feminino\", \"mes\": \"Maio\", \"numero\": 0, \"regiao\": \"Nordeste\"}, {\"ano\": 2013, \"uf\": \"Para\\u00edba\", \"genero\": \"Feminino\", \"mes\": \"Junho\", \"numero\": 1, \"regiao\": \"Nordeste\"}, {\"ano\": 2013, \"uf\": \"Para\\u00edba\", \"genero\": \"Feminino\", \"mes\": \"Julho\", \"numero\": 4, \"regiao\": \"Nordeste\"}, {\"ano\": 2013, \"uf\": \"Para\\u00edba\", \"genero\": \"Feminino\", \"mes\": \"Agosto\", \"numero\": 3, \"regiao\": \"Nordeste\"}, {\"ano\": 2013, \"uf\": \"Para\\u00edba\", \"genero\": \"Feminino\", \"mes\": \"Setembro\", \"numero\": 0, \"regiao\": \"Nordeste\"}, {\"ano\": 2013, \"uf\": \"Para\\u00edba\", \"genero\": \"Feminino\", \"mes\": \"Outubro\", \"numero\": 2, \"regiao\": \"Nordeste\"}, {\"ano\": 2013, \"uf\": \"Para\\u00edba\", \"genero\": \"Feminino\", \"mes\": \"Novembro\", \"numero\": 2, \"regiao\": \"Nordeste\"}, {\"ano\": 2013, \"uf\": \"Para\\u00edba\", \"genero\": \"Feminino\", \"mes\": \"Dezembro\", \"numero\": 0, \"regiao\": \"Nordeste\"}, {\"ano\": 2015, \"uf\": \"Para\\u00edba\", \"genero\": \"Masculino\", \"mes\": \"Janeiro\", \"numero\": 1, \"regiao\": \"Nordeste\"}, {\"ano\": 2015, \"uf\": \"Para\\u00edba\", \"genero\": \"Masculino\", \"mes\": \"Fevereiro\", \"numero\": 0, \"regiao\": \"Nordeste\"}, {\"ano\": 2015, \"uf\": \"Para\\u00edba\", \"genero\": \"Masculino\", \"mes\": \"Mar\\u00e7o\", \"numero\": 2, \"regiao\": \"Nordeste\"}, {\"ano\": 2015, \"uf\": \"Para\\u00edba\", \"genero\": \"Masculino\", \"mes\": \"Abril\", \"numero\": 0, \"regiao\": \"Nordeste\"}, {\"ano\": 2015, \"uf\": \"Para\\u00edba\", \"genero\": \"Masculino\", \"mes\": \"Maio\", \"numero\": 1, \"regiao\": \"Nordeste\"}, {\"ano\": 2015, \"uf\": \"Para\\u00edba\", \"genero\": \"Masculino\", \"mes\": \"Junho\", \"numero\": 2, \"regiao\": \"Nordeste\"}, {\"ano\": 2015, \"uf\": \"Para\\u00edba\", \"genero\": \"Masculino\", \"mes\": \"Julho\", \"numero\": 1, \"regiao\": \"Nordeste\"}, {\"ano\": 2015, \"uf\": \"Para\\u00edba\", \"genero\": \"Masculino\", \"mes\": \"Agosto\", \"numero\": 0, \"regiao\": \"Nordeste\"}, {\"ano\": 2015, \"uf\": \"Para\\u00edba\", \"genero\": \"Masculino\", \"mes\": \"Setembro\", \"numero\": 2, \"regiao\": \"Nordeste\"}, {\"ano\": 2015, \"uf\": \"Para\\u00edba\", \"genero\": \"Masculino\", \"mes\": \"Outubro\", \"numero\": 2, \"regiao\": \"Nordeste\"}, {\"ano\": 2015, \"uf\": \"Para\\u00edba\", \"genero\": \"Masculino\", \"mes\": \"Novembro\", \"numero\": 3, \"regiao\": \"Nordeste\"}, {\"ano\": 2015, \"uf\": \"Para\\u00edba\", \"genero\": \"Masculino\", \"mes\": \"Dezembro\", \"numero\": 4, \"regiao\": \"Nordeste\"}, {\"ano\": 2016, \"uf\": \"Para\\u00edba\", \"genero\": \"Masculino\", \"mes\": \"Janeiro\", \"numero\": 3, \"regiao\": \"Nordeste\"}, {\"ano\": 2016, \"uf\": \"Para\\u00edba\", \"genero\": \"Masculino\", \"mes\": \"Fevereiro\", \"numero\": 0, \"regiao\": \"Nordeste\"}, {\"ano\": 2016, \"uf\": \"Para\\u00edba\", \"genero\": \"Masculino\", \"mes\": \"Mar\\u00e7o\", \"numero\": 9, \"regiao\": \"Nordeste\"}, {\"ano\": 2016, \"uf\": \"Para\\u00edba\", \"genero\": \"Masculino\", \"mes\": \"Abril\", \"numero\": 1, \"regiao\": \"Nordeste\"}, {\"ano\": 2016, \"uf\": \"Para\\u00edba\", \"genero\": \"Masculino\", \"mes\": \"Maio\", \"numero\": 1, \"regiao\": \"Nordeste\"}, {\"ano\": 2016, \"uf\": \"Para\\u00edba\", \"genero\": \"Masculino\", \"mes\": \"Junho\", \"numero\": 1, \"regiao\": \"Nordeste\"}, {\"ano\": 2016, \"uf\": \"Para\\u00edba\", \"genero\": \"Masculino\", \"mes\": \"Julho\", \"numero\": 6, \"regiao\": \"Nordeste\"}, {\"ano\": 2016, \"uf\": \"Para\\u00edba\", \"genero\": \"Masculino\", \"mes\": \"Agosto\", \"numero\": 1, \"regiao\": \"Nordeste\"}, {\"ano\": 2016, \"uf\": \"Para\\u00edba\", \"genero\": \"Masculino\", \"mes\": \"Setembro\", \"numero\": 2, \"regiao\": \"Nordeste\"}, {\"ano\": 2016, \"uf\": \"Para\\u00edba\", \"genero\": \"Masculino\", \"mes\": \"Outubro\", \"numero\": 2, \"regiao\": \"Nordeste\"}, {\"ano\": 2016, \"uf\": \"Para\\u00edba\", \"genero\": \"Masculino\", \"mes\": \"Novembro\", \"numero\": 1, \"regiao\": \"Nordeste\"}, {\"ano\": 2016, \"uf\": \"Para\\u00edba\", \"genero\": \"Masculino\", \"mes\": \"Dezembro\", \"numero\": 1, \"regiao\": \"Nordeste\"}, {\"ano\": 2017, \"uf\": \"Para\\u00edba\", \"genero\": \"Masculino\", \"mes\": \"Janeiro\", \"numero\": 4, \"regiao\": \"Nordeste\"}, {\"ano\": 2017, \"uf\": \"Para\\u00edba\", \"genero\": \"Masculino\", \"mes\": \"Fevereiro\", \"numero\": 4, \"regiao\": \"Nordeste\"}, {\"ano\": 2017, \"uf\": \"Para\\u00edba\", \"genero\": \"Masculino\", \"mes\": \"Mar\\u00e7o\", \"numero\": 3, \"regiao\": \"Nordeste\"}, {\"ano\": 2017, \"uf\": \"Para\\u00edba\", \"genero\": \"Masculino\", \"mes\": \"Abril\", \"numero\": 5, \"regiao\": \"Nordeste\"}, {\"ano\": 2017, \"uf\": \"Para\\u00edba\", \"genero\": \"Masculino\", \"mes\": \"Maio\", \"numero\": 5, \"regiao\": \"Nordeste\"}, {\"ano\": 2017, \"uf\": \"Para\\u00edba\", \"genero\": \"Masculino\", \"mes\": \"Junho\", \"numero\": 2, \"regiao\": \"Nordeste\"}, {\"ano\": 2017, \"uf\": \"Para\\u00edba\", \"genero\": \"Masculino\", \"mes\": \"Julho\", \"numero\": 6, \"regiao\": \"Nordeste\"}, {\"ano\": 2017, \"uf\": \"Para\\u00edba\", \"genero\": \"Masculino\", \"mes\": \"Agosto\", \"numero\": 1, \"regiao\": \"Nordeste\"}, {\"ano\": 2017, \"uf\": \"Para\\u00edba\", \"genero\": \"Masculino\", \"mes\": \"Setembro\", \"numero\": 2, \"regiao\": \"Nordeste\"}, {\"ano\": 2017, \"uf\": \"Para\\u00edba\", \"genero\": \"Masculino\", \"mes\": \"Outubro\", \"numero\": 6, \"regiao\": \"Nordeste\"}, {\"ano\": 2017, \"uf\": \"Para\\u00edba\", \"genero\": \"Masculino\", \"mes\": \"Novembro\", \"numero\": 5, \"regiao\": \"Nordeste\"}, {\"ano\": 2017, \"uf\": \"Para\\u00edba\", \"genero\": \"Masculino\", \"mes\": \"Dezembro\", \"numero\": 6, \"regiao\": \"Nordeste\"}, {\"ano\": 2018, \"uf\": \"Para\\u00edba\", \"genero\": \"Masculino\", \"mes\": \"Janeiro\", \"numero\": 1, \"regiao\": \"Nordeste\"}, {\"ano\": 2018, \"uf\": \"Para\\u00edba\", \"genero\": \"Masculino\", \"mes\": \"Fevereiro\", \"numero\": 3, \"regiao\": \"Nordeste\"}, {\"ano\": 2018, \"uf\": \"Para\\u00edba\", \"genero\": \"Masculino\", \"mes\": \"Mar\\u00e7o\", \"numero\": 3, \"regiao\": \"Nordeste\"}, {\"ano\": 2018, \"uf\": \"Para\\u00edba\", \"genero\": \"Masculino\", \"mes\": \"Abril\", \"numero\": 2, \"regiao\": \"Nordeste\"}, {\"ano\": 2018, \"uf\": \"Para\\u00edba\", \"genero\": \"Masculino\", \"mes\": \"Maio\", \"numero\": 1, \"regiao\": \"Nordeste\"}, {\"ano\": 2018, \"uf\": \"Para\\u00edba\", \"genero\": \"Masculino\", \"mes\": \"Junho\", \"numero\": 2, \"regiao\": \"Nordeste\"}, {\"ano\": 2018, \"uf\": \"Para\\u00edba\", \"genero\": \"Masculino\", \"mes\": \"Julho\", \"numero\": 4, \"regiao\": \"Nordeste\"}, {\"ano\": 2018, \"uf\": \"Para\\u00edba\", \"genero\": \"Masculino\", \"mes\": \"Agosto\", \"numero\": 1, \"regiao\": \"Nordeste\"}, {\"ano\": 2018, \"uf\": \"Para\\u00edba\", \"genero\": \"Masculino\", \"mes\": \"Setembro\", \"numero\": 1, \"regiao\": \"Nordeste\"}, {\"ano\": 2018, \"uf\": \"Para\\u00edba\", \"genero\": \"Masculino\", \"mes\": \"Outubro\", \"numero\": 2, \"regiao\": \"Nordeste\"}, {\"ano\": 2018, \"uf\": \"Para\\u00edba\", \"genero\": \"Masculino\", \"mes\": \"Novembro\", \"numero\": 7, \"regiao\": \"Nordeste\"}, {\"ano\": 2018, \"uf\": \"Para\\u00edba\", \"genero\": \"Masculino\", \"mes\": \"Dezembro\", \"numero\": 14, \"regiao\": \"Nordeste\"}, {\"ano\": 2019, \"uf\": \"Para\\u00edba\", \"genero\": \"Masculino\", \"mes\": \"Janeiro\", \"numero\": 9, \"regiao\": \"Nordeste\"}, {\"ano\": 2019, \"uf\": \"Para\\u00edba\", \"genero\": \"Masculino\", \"mes\": \"Fevereiro\", \"numero\": 3, \"regiao\": \"Nordeste\"}, {\"ano\": 2019, \"uf\": \"Para\\u00edba\", \"genero\": \"Masculino\", \"mes\": \"Mar\\u00e7o\", \"numero\": 3, \"regiao\": \"Nordeste\"}, {\"ano\": 2019, \"uf\": \"Para\\u00edba\", \"genero\": \"Masculino\", \"mes\": \"Abril\", \"numero\": 0, \"regiao\": \"Nordeste\"}, {\"ano\": 2019, \"uf\": \"Para\\u00edba\", \"genero\": \"Masculino\", \"mes\": \"Maio\", \"numero\": 5, \"regiao\": \"Nordeste\"}, {\"ano\": 2019, \"uf\": \"Para\\u00edba\", \"genero\": \"Masculino\", \"mes\": \"Junho\", \"numero\": 2, \"regiao\": \"Nordeste\"}, {\"ano\": 2019, \"uf\": \"Para\\u00edba\", \"genero\": \"Masculino\", \"mes\": \"Julho\", \"numero\": 1, \"regiao\": \"Nordeste\"}, {\"ano\": 2019, \"uf\": \"Para\\u00edba\", \"genero\": \"Masculino\", \"mes\": \"Agosto\", \"numero\": 2, \"regiao\": \"Nordeste\"}, {\"ano\": 2019, \"uf\": \"Para\\u00edba\", \"genero\": \"Masculino\", \"mes\": \"Setembro\", \"numero\": 1, \"regiao\": \"Nordeste\"}, {\"ano\": 2019, \"uf\": \"Para\\u00edba\", \"genero\": \"Masculino\", \"mes\": \"Outubro\", \"numero\": 0, \"regiao\": \"Nordeste\"}, {\"ano\": 2019, \"uf\": \"Para\\u00edba\", \"genero\": \"Masculino\", \"mes\": \"Novembro\", \"numero\": 2, \"regiao\": \"Nordeste\"}, {\"ano\": 2019, \"uf\": \"Para\\u00edba\", \"genero\": \"Masculino\", \"mes\": \"Dezembro\", \"numero\": 1, \"regiao\": \"Nordeste\"}, {\"ano\": 2015, \"uf\": \"Para\\u00edba\", \"genero\": \"Feminino\", \"mes\": \"Janeiro\", \"numero\": 2, \"regiao\": \"Nordeste\"}, {\"ano\": 2015, \"uf\": \"Para\\u00edba\", \"genero\": \"Feminino\", \"mes\": \"Fevereiro\", \"numero\": 1, \"regiao\": \"Nordeste\"}, {\"ano\": 2015, \"uf\": \"Para\\u00edba\", \"genero\": \"Feminino\", \"mes\": \"Mar\\u00e7o\", \"numero\": 5, \"regiao\": \"Nordeste\"}, {\"ano\": 2015, \"uf\": \"Para\\u00edba\", \"genero\": \"Feminino\", \"mes\": \"Abril\", \"numero\": 2, \"regiao\": \"Nordeste\"}, {\"ano\": 2015, \"uf\": \"Para\\u00edba\", \"genero\": \"Feminino\", \"mes\": \"Maio\", \"numero\": 1, \"regiao\": \"Nordeste\"}, {\"ano\": 2015, \"uf\": \"Para\\u00edba\", \"genero\": \"Feminino\", \"mes\": \"Junho\", \"numero\": 3, \"regiao\": \"Nordeste\"}, {\"ano\": 2015, \"uf\": \"Para\\u00edba\", \"genero\": \"Feminino\", \"mes\": \"Julho\", \"numero\": 1, \"regiao\": \"Nordeste\"}, {\"ano\": 2015, \"uf\": \"Para\\u00edba\", \"genero\": \"Feminino\", \"mes\": \"Agosto\", \"numero\": 3, \"regiao\": \"Nordeste\"}, {\"ano\": 2015, \"uf\": \"Para\\u00edba\", \"genero\": \"Feminino\", \"mes\": \"Setembro\", \"numero\": 4, \"regiao\": \"Nordeste\"}, {\"ano\": 2015, \"uf\": \"Para\\u00edba\", \"genero\": \"Feminino\", \"mes\": \"Outubro\", \"numero\": 4, \"regiao\": \"Nordeste\"}, {\"ano\": 2015, \"uf\": \"Para\\u00edba\", \"genero\": \"Feminino\", \"mes\": \"Novembro\", \"numero\": 1, \"regiao\": \"Nordeste\"}, {\"ano\": 2015, \"uf\": \"Para\\u00edba\", \"genero\": \"Feminino\", \"mes\": \"Dezembro\", \"numero\": 4, \"regiao\": \"Nordeste\"}, {\"ano\": 2016, \"uf\": \"Para\\u00edba\", \"genero\": \"Feminino\", \"mes\": \"Janeiro\", \"numero\": 4, \"regiao\": \"Nordeste\"}, {\"ano\": 2016, \"uf\": \"Para\\u00edba\", \"genero\": \"Feminino\", \"mes\": \"Fevereiro\", \"numero\": 2, \"regiao\": \"Nordeste\"}, {\"ano\": 2016, \"uf\": \"Para\\u00edba\", \"genero\": \"Feminino\", \"mes\": \"Mar\\u00e7o\", \"numero\": 1, \"regiao\": \"Nordeste\"}, {\"ano\": 2016, \"uf\": \"Para\\u00edba\", \"genero\": \"Feminino\", \"mes\": \"Abril\", \"numero\": 1, \"regiao\": \"Nordeste\"}, {\"ano\": 2016, \"uf\": \"Para\\u00edba\", \"genero\": \"Feminino\", \"mes\": \"Maio\", \"numero\": 0, \"regiao\": \"Nordeste\"}, {\"ano\": 2016, \"uf\": \"Para\\u00edba\", \"genero\": \"Feminino\", \"mes\": \"Junho\", \"numero\": 2, \"regiao\": \"Nordeste\"}, {\"ano\": 2016, \"uf\": \"Para\\u00edba\", \"genero\": \"Feminino\", \"mes\": \"Julho\", \"numero\": 5, \"regiao\": \"Nordeste\"}, {\"ano\": 2016, \"uf\": \"Para\\u00edba\", \"genero\": \"Feminino\", \"mes\": \"Agosto\", \"numero\": 5, \"regiao\": \"Nordeste\"}, {\"ano\": 2016, \"uf\": \"Para\\u00edba\", \"genero\": \"Feminino\", \"mes\": \"Setembro\", \"numero\": 2, \"regiao\": \"Nordeste\"}, {\"ano\": 2016, \"uf\": \"Para\\u00edba\", \"genero\": \"Feminino\", \"mes\": \"Outubro\", \"numero\": 3, \"regiao\": \"Nordeste\"}, {\"ano\": 2016, \"uf\": \"Para\\u00edba\", \"genero\": \"Feminino\", \"mes\": \"Novembro\", \"numero\": 2, \"regiao\": \"Nordeste\"}, {\"ano\": 2016, \"uf\": \"Para\\u00edba\", \"genero\": \"Feminino\", \"mes\": \"Dezembro\", \"numero\": 3, \"regiao\": \"Nordeste\"}, {\"ano\": 2017, \"uf\": \"Para\\u00edba\", \"genero\": \"Feminino\", \"mes\": \"Janeiro\", \"numero\": 3, \"regiao\": \"Nordeste\"}, {\"ano\": 2017, \"uf\": \"Para\\u00edba\", \"genero\": \"Feminino\", \"mes\": \"Fevereiro\", \"numero\": 3, \"regiao\": \"Nordeste\"}, {\"ano\": 2017, \"uf\": \"Para\\u00edba\", \"genero\": \"Feminino\", \"mes\": \"Mar\\u00e7o\", \"numero\": 3, \"regiao\": \"Nordeste\"}, {\"ano\": 2017, \"uf\": \"Para\\u00edba\", \"genero\": \"Feminino\", \"mes\": \"Abril\", \"numero\": 3, \"regiao\": \"Nordeste\"}, {\"ano\": 2017, \"uf\": \"Para\\u00edba\", \"genero\": \"Feminino\", \"mes\": \"Maio\", \"numero\": 7, \"regiao\": \"Nordeste\"}, {\"ano\": 2017, \"uf\": \"Para\\u00edba\", \"genero\": \"Feminino\", \"mes\": \"Junho\", \"numero\": 5, \"regiao\": \"Nordeste\"}, {\"ano\": 2017, \"uf\": \"Para\\u00edba\", \"genero\": \"Feminino\", \"mes\": \"Julho\", \"numero\": 3, \"regiao\": \"Nordeste\"}, {\"ano\": 2017, \"uf\": \"Para\\u00edba\", \"genero\": \"Feminino\", \"mes\": \"Agosto\", \"numero\": 2, \"regiao\": \"Nordeste\"}, {\"ano\": 2017, \"uf\": \"Para\\u00edba\", \"genero\": \"Feminino\", \"mes\": \"Setembro\", \"numero\": 2, \"regiao\": \"Nordeste\"}, {\"ano\": 2017, \"uf\": \"Para\\u00edba\", \"genero\": \"Feminino\", \"mes\": \"Outubro\", \"numero\": 2, \"regiao\": \"Nordeste\"}, {\"ano\": 2017, \"uf\": \"Para\\u00edba\", \"genero\": \"Feminino\", \"mes\": \"Novembro\", \"numero\": 2, \"regiao\": \"Nordeste\"}, {\"ano\": 2017, \"uf\": \"Para\\u00edba\", \"genero\": \"Feminino\", \"mes\": \"Dezembro\", \"numero\": 5, \"regiao\": \"Nordeste\"}, {\"ano\": 2018, \"uf\": \"Para\\u00edba\", \"genero\": \"Feminino\", \"mes\": \"Janeiro\", \"numero\": 3, \"regiao\": \"Nordeste\"}, {\"ano\": 2018, \"uf\": \"Para\\u00edba\", \"genero\": \"Feminino\", \"mes\": \"Fevereiro\", \"numero\": 6, \"regiao\": \"Nordeste\"}, {\"ano\": 2018, \"uf\": \"Para\\u00edba\", \"genero\": \"Feminino\", \"mes\": \"Mar\\u00e7o\", \"numero\": 5, \"regiao\": \"Nordeste\"}, {\"ano\": 2018, \"uf\": \"Para\\u00edba\", \"genero\": \"Feminino\", \"mes\": \"Abril\", \"numero\": 2, \"regiao\": \"Nordeste\"}, {\"ano\": 2018, \"uf\": \"Para\\u00edba\", \"genero\": \"Feminino\", \"mes\": \"Maio\", \"numero\": 1, \"regiao\": \"Nordeste\"}, {\"ano\": 2018, \"uf\": \"Para\\u00edba\", \"genero\": \"Feminino\", \"mes\": \"Junho\", \"numero\": 1, \"regiao\": \"Nordeste\"}, {\"ano\": 2018, \"uf\": \"Para\\u00edba\", \"genero\": \"Feminino\", \"mes\": \"Julho\", \"numero\": 6, \"regiao\": \"Nordeste\"}, {\"ano\": 2018, \"uf\": \"Para\\u00edba\", \"genero\": \"Feminino\", \"mes\": \"Agosto\", \"numero\": 4, \"regiao\": \"Nordeste\"}, {\"ano\": 2018, \"uf\": \"Para\\u00edba\", \"genero\": \"Feminino\", \"mes\": \"Setembro\", \"numero\": 5, \"regiao\": \"Nordeste\"}, {\"ano\": 2018, \"uf\": \"Para\\u00edba\", \"genero\": \"Feminino\", \"mes\": \"Outubro\", \"numero\": 3, \"regiao\": \"Nordeste\"}, {\"ano\": 2018, \"uf\": \"Para\\u00edba\", \"genero\": \"Feminino\", \"mes\": \"Novembro\", \"numero\": 6, \"regiao\": \"Nordeste\"}, {\"ano\": 2018, \"uf\": \"Para\\u00edba\", \"genero\": \"Feminino\", \"mes\": \"Dezembro\", \"numero\": 22, \"regiao\": \"Nordeste\"}, {\"ano\": 2019, \"uf\": \"Para\\u00edba\", \"genero\": \"Feminino\", \"mes\": \"Janeiro\", \"numero\": 36, \"regiao\": \"Nordeste\"}, {\"ano\": 2019, \"uf\": \"Para\\u00edba\", \"genero\": \"Feminino\", \"mes\": \"Fevereiro\", \"numero\": 2, \"regiao\": \"Nordeste\"}, {\"ano\": 2019, \"uf\": \"Para\\u00edba\", \"genero\": \"Feminino\", \"mes\": \"Mar\\u00e7o\", \"numero\": 3, \"regiao\": \"Nordeste\"}, {\"ano\": 2019, \"uf\": \"Para\\u00edba\", \"genero\": \"Feminino\", \"mes\": \"Abril\", \"numero\": 2, \"regiao\": \"Nordeste\"}, {\"ano\": 2019, \"uf\": \"Para\\u00edba\", \"genero\": \"Feminino\", \"mes\": \"Maio\", \"numero\": 5, \"regiao\": \"Nordeste\"}, {\"ano\": 2019, \"uf\": \"Para\\u00edba\", \"genero\": \"Feminino\", \"mes\": \"Junho\", \"numero\": 4, \"regiao\": \"Nordeste\"}, {\"ano\": 2019, \"uf\": \"Para\\u00edba\", \"genero\": \"Feminino\", \"mes\": \"Julho\", \"numero\": 3, \"regiao\": \"Nordeste\"}, {\"ano\": 2019, \"uf\": \"Para\\u00edba\", \"genero\": \"Feminino\", \"mes\": \"Agosto\", \"numero\": 4, \"regiao\": \"Nordeste\"}, {\"ano\": 2019, \"uf\": \"Para\\u00edba\", \"genero\": \"Feminino\", \"mes\": \"Setembro\", \"numero\": 2, \"regiao\": \"Nordeste\"}, {\"ano\": 2019, \"uf\": \"Para\\u00edba\", \"genero\": \"Feminino\", \"mes\": \"Outubro\", \"numero\": 4, \"regiao\": \"Nordeste\"}, {\"ano\": 2019, \"uf\": \"Para\\u00edba\", \"genero\": \"Feminino\", \"mes\": \"Novembro\", \"numero\": 6, \"regiao\": \"Nordeste\"}, {\"ano\": 2019, \"uf\": \"Para\\u00edba\", \"genero\": \"Feminino\", \"mes\": \"Dezembro\", \"numero\": 12, \"regiao\": \"Nordeste\"}, {\"ano\": 2014, \"uf\": \"Pernambuco\", \"genero\": \"Masculino\", \"mes\": \"Janeiro\", \"numero\": 11, \"regiao\": \"Nordeste\"}, {\"ano\": 2014, \"uf\": \"Pernambuco\", \"genero\": \"Masculino\", \"mes\": \"Fevereiro\", \"numero\": 8, \"regiao\": \"Nordeste\"}, {\"ano\": 2014, \"uf\": \"Pernambuco\", \"genero\": \"Masculino\", \"mes\": \"Mar\\u00e7o\", \"numero\": 5, \"regiao\": \"Nordeste\"}, {\"ano\": 2014, \"uf\": \"Pernambuco\", \"genero\": \"Masculino\", \"mes\": \"Abril\", \"numero\": 10, \"regiao\": \"Nordeste\"}, {\"ano\": 2014, \"uf\": \"Pernambuco\", \"genero\": \"Masculino\", \"mes\": \"Maio\", \"numero\": 8, \"regiao\": \"Nordeste\"}, {\"ano\": 2014, \"uf\": \"Pernambuco\", \"genero\": \"Masculino\", \"mes\": \"Junho\", \"numero\": 6, \"regiao\": \"Nordeste\"}, {\"ano\": 2014, \"uf\": \"Pernambuco\", \"genero\": \"Masculino\", \"mes\": \"Julho\", \"numero\": 8, \"regiao\": \"Nordeste\"}, {\"ano\": 2014, \"uf\": \"Pernambuco\", \"genero\": \"Masculino\", \"mes\": \"Agosto\", \"numero\": 10, \"regiao\": \"Nordeste\"}, {\"ano\": 2014, \"uf\": \"Pernambuco\", \"genero\": \"Masculino\", \"mes\": \"Setembro\", \"numero\": 15, \"regiao\": \"Nordeste\"}, {\"ano\": 2014, \"uf\": \"Pernambuco\", \"genero\": \"Masculino\", \"mes\": \"Outubro\", \"numero\": 15, \"regiao\": \"Nordeste\"}, {\"ano\": 2014, \"uf\": \"Pernambuco\", \"genero\": \"Masculino\", \"mes\": \"Novembro\", \"numero\": 10, \"regiao\": \"Nordeste\"}, {\"ano\": 2014, \"uf\": \"Pernambuco\", \"genero\": \"Masculino\", \"mes\": \"Dezembro\", \"numero\": 11, \"regiao\": \"Nordeste\"}, {\"ano\": 2014, \"uf\": \"Pernambuco\", \"genero\": \"Feminino\", \"mes\": \"Janeiro\", \"numero\": 4, \"regiao\": \"Nordeste\"}, {\"ano\": 2014, \"uf\": \"Pernambuco\", \"genero\": \"Feminino\", \"mes\": \"Fevereiro\", \"numero\": 3, \"regiao\": \"Nordeste\"}, {\"ano\": 2014, \"uf\": \"Pernambuco\", \"genero\": \"Feminino\", \"mes\": \"Mar\\u00e7o\", \"numero\": 6, \"regiao\": \"Nordeste\"}, {\"ano\": 2014, \"uf\": \"Pernambuco\", \"genero\": \"Feminino\", \"mes\": \"Abril\", \"numero\": 6, \"regiao\": \"Nordeste\"}, {\"ano\": 2014, \"uf\": \"Pernambuco\", \"genero\": \"Feminino\", \"mes\": \"Maio\", \"numero\": 2, \"regiao\": \"Nordeste\"}, {\"ano\": 2014, \"uf\": \"Pernambuco\", \"genero\": \"Feminino\", \"mes\": \"Junho\", \"numero\": 2, \"regiao\": \"Nordeste\"}, {\"ano\": 2014, \"uf\": \"Pernambuco\", \"genero\": \"Feminino\", \"mes\": \"Julho\", \"numero\": 3, \"regiao\": \"Nordeste\"}, {\"ano\": 2014, \"uf\": \"Pernambuco\", \"genero\": \"Feminino\", \"mes\": \"Agosto\", \"numero\": 2, \"regiao\": \"Nordeste\"}, {\"ano\": 2014, \"uf\": \"Pernambuco\", \"genero\": \"Feminino\", \"mes\": \"Setembro\", \"numero\": 3, \"regiao\": \"Nordeste\"}, {\"ano\": 2014, \"uf\": \"Pernambuco\", \"genero\": \"Feminino\", \"mes\": \"Outubro\", \"numero\": 8, \"regiao\": \"Nordeste\"}, {\"ano\": 2014, \"uf\": \"Pernambuco\", \"genero\": \"Feminino\", \"mes\": \"Novembro\", \"numero\": 10, \"regiao\": \"Nordeste\"}, {\"ano\": 2014, \"uf\": \"Pernambuco\", \"genero\": \"Feminino\", \"mes\": \"Dezembro\", \"numero\": 7, \"regiao\": \"Nordeste\"}, {\"ano\": 2013, \"uf\": \"Pernambuco\", \"genero\": \"Masculino\", \"mes\": \"Janeiro\", \"numero\": 1, \"regiao\": \"Nordeste\"}, {\"ano\": 2013, \"uf\": \"Pernambuco\", \"genero\": \"Masculino\", \"mes\": \"Fevereiro\", \"numero\": 5, \"regiao\": \"Nordeste\"}, {\"ano\": 2013, \"uf\": \"Pernambuco\", \"genero\": \"Masculino\", \"mes\": \"Mar\\u00e7o\", \"numero\": 2, \"regiao\": \"Nordeste\"}, {\"ano\": 2013, \"uf\": \"Pernambuco\", \"genero\": \"Masculino\", \"mes\": \"Abril\", \"numero\": 3, \"regiao\": \"Nordeste\"}, {\"ano\": 2013, \"uf\": \"Pernambuco\", \"genero\": \"Masculino\", \"mes\": \"Maio\", \"numero\": 1, \"regiao\": \"Nordeste\"}, {\"ano\": 2013, \"uf\": \"Pernambuco\", \"genero\": \"Masculino\", \"mes\": \"Junho\", \"numero\": 4, \"regiao\": \"Nordeste\"}, {\"ano\": 2013, \"uf\": \"Pernambuco\", \"genero\": \"Masculino\", \"mes\": \"Julho\", \"numero\": 5, \"regiao\": \"Nordeste\"}, {\"ano\": 2013, \"uf\": \"Pernambuco\", \"genero\": \"Masculino\", \"mes\": \"Agosto\", \"numero\": 6, \"regiao\": \"Nordeste\"}, {\"ano\": 2013, \"uf\": \"Pernambuco\", \"genero\": \"Masculino\", \"mes\": \"Setembro\", \"numero\": 2, \"regiao\": \"Nordeste\"}, {\"ano\": 2013, \"uf\": \"Pernambuco\", \"genero\": \"Masculino\", \"mes\": \"Outubro\", \"numero\": 4, \"regiao\": \"Nordeste\"}, {\"ano\": 2013, \"uf\": \"Pernambuco\", \"genero\": \"Masculino\", \"mes\": \"Novembro\", \"numero\": 9, \"regiao\": \"Nordeste\"}, {\"ano\": 2013, \"uf\": \"Pernambuco\", \"genero\": \"Masculino\", \"mes\": \"Dezembro\", \"numero\": 6, \"regiao\": \"Nordeste\"}, {\"ano\": 2013, \"uf\": \"Pernambuco\", \"genero\": \"Feminino\", \"mes\": \"Janeiro\", \"numero\": 3, \"regiao\": \"Nordeste\"}, {\"ano\": 2013, \"uf\": \"Pernambuco\", \"genero\": \"Feminino\", \"mes\": \"Fevereiro\", \"numero\": 0, \"regiao\": \"Nordeste\"}, {\"ano\": 2013, \"uf\": \"Pernambuco\", \"genero\": \"Feminino\", \"mes\": \"Mar\\u00e7o\", \"numero\": 2, \"regiao\": \"Nordeste\"}, {\"ano\": 2013, \"uf\": \"Pernambuco\", \"genero\": \"Feminino\", \"mes\": \"Abril\", \"numero\": 2, \"regiao\": \"Nordeste\"}, {\"ano\": 2013, \"uf\": \"Pernambuco\", \"genero\": \"Feminino\", \"mes\": \"Maio\", \"numero\": 1, \"regiao\": \"Nordeste\"}, {\"ano\": 2013, \"uf\": \"Pernambuco\", \"genero\": \"Feminino\", \"mes\": \"Junho\", \"numero\": 0, \"regiao\": \"Nordeste\"}, {\"ano\": 2013, \"uf\": \"Pernambuco\", \"genero\": \"Feminino\", \"mes\": \"Julho\", \"numero\": 6, \"regiao\": \"Nordeste\"}, {\"ano\": 2013, \"uf\": \"Pernambuco\", \"genero\": \"Feminino\", \"mes\": \"Agosto\", \"numero\": 5, \"regiao\": \"Nordeste\"}, {\"ano\": 2013, \"uf\": \"Pernambuco\", \"genero\": \"Feminino\", \"mes\": \"Setembro\", \"numero\": 4, \"regiao\": \"Nordeste\"}, {\"ano\": 2013, \"uf\": \"Pernambuco\", \"genero\": \"Feminino\", \"mes\": \"Outubro\", \"numero\": 7, \"regiao\": \"Nordeste\"}, {\"ano\": 2013, \"uf\": \"Pernambuco\", \"genero\": \"Feminino\", \"mes\": \"Novembro\", \"numero\": 4, \"regiao\": \"Nordeste\"}, {\"ano\": 2013, \"uf\": \"Pernambuco\", \"genero\": \"Feminino\", \"mes\": \"Dezembro\", \"numero\": 6, \"regiao\": \"Nordeste\"}, {\"ano\": 2015, \"uf\": \"Pernambuco\", \"genero\": \"Masculino\", \"mes\": \"Janeiro\", \"numero\": 8, \"regiao\": \"Nordeste\"}, {\"ano\": 2015, \"uf\": \"Pernambuco\", \"genero\": \"Masculino\", \"mes\": \"Fevereiro\", \"numero\": 6, \"regiao\": \"Nordeste\"}, {\"ano\": 2015, \"uf\": \"Pernambuco\", \"genero\": \"Masculino\", \"mes\": \"Mar\\u00e7o\", \"numero\": 4, \"regiao\": \"Nordeste\"}, {\"ano\": 2015, \"uf\": \"Pernambuco\", \"genero\": \"Masculino\", \"mes\": \"Abril\", \"numero\": 8, \"regiao\": \"Nordeste\"}, {\"ano\": 2015, \"uf\": \"Pernambuco\", \"genero\": \"Masculino\", \"mes\": \"Maio\", \"numero\": 10, \"regiao\": \"Nordeste\"}, {\"ano\": 2015, \"uf\": \"Pernambuco\", \"genero\": \"Masculino\", \"mes\": \"Junho\", \"numero\": 4, \"regiao\": \"Nordeste\"}, {\"ano\": 2015, \"uf\": \"Pernambuco\", \"genero\": \"Masculino\", \"mes\": \"Julho\", \"numero\": 3, \"regiao\": \"Nordeste\"}, {\"ano\": 2015, \"uf\": \"Pernambuco\", \"genero\": \"Masculino\", \"mes\": \"Agosto\", \"numero\": 3, \"regiao\": \"Nordeste\"}, {\"ano\": 2015, \"uf\": \"Pernambuco\", \"genero\": \"Masculino\", \"mes\": \"Setembro\", \"numero\": 5, \"regiao\": \"Nordeste\"}, {\"ano\": 2015, \"uf\": \"Pernambuco\", \"genero\": \"Masculino\", \"mes\": \"Outubro\", \"numero\": 5, \"regiao\": \"Nordeste\"}, {\"ano\": 2015, \"uf\": \"Pernambuco\", \"genero\": \"Masculino\", \"mes\": \"Novembro\", \"numero\": 7, \"regiao\": \"Nordeste\"}, {\"ano\": 2015, \"uf\": \"Pernambuco\", \"genero\": \"Masculino\", \"mes\": \"Dezembro\", \"numero\": 11, \"regiao\": \"Nordeste\"}, {\"ano\": 2016, \"uf\": \"Pernambuco\", \"genero\": \"Masculino\", \"mes\": \"Janeiro\", \"numero\": 3, \"regiao\": \"Nordeste\"}, {\"ano\": 2016, \"uf\": \"Pernambuco\", \"genero\": \"Masculino\", \"mes\": \"Fevereiro\", \"numero\": 4, \"regiao\": \"Nordeste\"}, {\"ano\": 2016, \"uf\": \"Pernambuco\", \"genero\": \"Masculino\", \"mes\": \"Mar\\u00e7o\", \"numero\": 2, \"regiao\": \"Nordeste\"}, {\"ano\": 2016, \"uf\": \"Pernambuco\", \"genero\": \"Masculino\", \"mes\": \"Abril\", \"numero\": 5, \"regiao\": \"Nordeste\"}, {\"ano\": 2016, \"uf\": \"Pernambuco\", \"genero\": \"Masculino\", \"mes\": \"Maio\", \"numero\": 3, \"regiao\": \"Nordeste\"}, {\"ano\": 2016, \"uf\": \"Pernambuco\", \"genero\": \"Masculino\", \"mes\": \"Junho\", \"numero\": 5, \"regiao\": \"Nordeste\"}, {\"ano\": 2016, \"uf\": \"Pernambuco\", \"genero\": \"Masculino\", \"mes\": \"Julho\", \"numero\": 3, \"regiao\": \"Nordeste\"}, {\"ano\": 2016, \"uf\": \"Pernambuco\", \"genero\": \"Masculino\", \"mes\": \"Agosto\", \"numero\": 4, \"regiao\": \"Nordeste\"}, {\"ano\": 2016, \"uf\": \"Pernambuco\", \"genero\": \"Masculino\", \"mes\": \"Setembro\", \"numero\": 7, \"regiao\": \"Nordeste\"}, {\"ano\": 2016, \"uf\": \"Pernambuco\", \"genero\": \"Masculino\", \"mes\": \"Outubro\", \"numero\": 4, \"regiao\": \"Nordeste\"}, {\"ano\": 2016, \"uf\": \"Pernambuco\", \"genero\": \"Masculino\", \"mes\": \"Novembro\", \"numero\": 4, \"regiao\": \"Nordeste\"}, {\"ano\": 2016, \"uf\": \"Pernambuco\", \"genero\": \"Masculino\", \"mes\": \"Dezembro\", \"numero\": 4, \"regiao\": \"Nordeste\"}, {\"ano\": 2017, \"uf\": \"Pernambuco\", \"genero\": \"Masculino\", \"mes\": \"Janeiro\", \"numero\": 5, \"regiao\": \"Nordeste\"}, {\"ano\": 2017, \"uf\": \"Pernambuco\", \"genero\": \"Masculino\", \"mes\": \"Fevereiro\", \"numero\": 7, \"regiao\": \"Nordeste\"}, {\"ano\": 2017, \"uf\": \"Pernambuco\", \"genero\": \"Masculino\", \"mes\": \"Mar\\u00e7o\", \"numero\": 6, \"regiao\": \"Nordeste\"}, {\"ano\": 2017, \"uf\": \"Pernambuco\", \"genero\": \"Masculino\", \"mes\": \"Abril\", \"numero\": 3, \"regiao\": \"Nordeste\"}, {\"ano\": 2017, \"uf\": \"Pernambuco\", \"genero\": \"Masculino\", \"mes\": \"Maio\", \"numero\": 1, \"regiao\": \"Nordeste\"}, {\"ano\": 2017, \"uf\": \"Pernambuco\", \"genero\": \"Masculino\", \"mes\": \"Junho\", \"numero\": 2, \"regiao\": \"Nordeste\"}, {\"ano\": 2017, \"uf\": \"Pernambuco\", \"genero\": \"Masculino\", \"mes\": \"Julho\", \"numero\": 4, \"regiao\": \"Nordeste\"}, {\"ano\": 2017, \"uf\": \"Pernambuco\", \"genero\": \"Masculino\", \"mes\": \"Agosto\", \"numero\": 3, \"regiao\": \"Nordeste\"}, {\"ano\": 2017, \"uf\": \"Pernambuco\", \"genero\": \"Masculino\", \"mes\": \"Setembro\", \"numero\": 4, \"regiao\": \"Nordeste\"}, {\"ano\": 2017, \"uf\": \"Pernambuco\", \"genero\": \"Masculino\", \"mes\": \"Outubro\", \"numero\": 6, \"regiao\": \"Nordeste\"}, {\"ano\": 2017, \"uf\": \"Pernambuco\", \"genero\": \"Masculino\", \"mes\": \"Novembro\", \"numero\": 5, \"regiao\": \"Nordeste\"}, {\"ano\": 2017, \"uf\": \"Pernambuco\", \"genero\": \"Masculino\", \"mes\": \"Dezembro\", \"numero\": 5, \"regiao\": \"Nordeste\"}, {\"ano\": 2018, \"uf\": \"Pernambuco\", \"genero\": \"Masculino\", \"mes\": \"Janeiro\", \"numero\": 6, \"regiao\": \"Nordeste\"}, {\"ano\": 2018, \"uf\": \"Pernambuco\", \"genero\": \"Masculino\", \"mes\": \"Fevereiro\", \"numero\": 5, \"regiao\": \"Nordeste\"}, {\"ano\": 2018, \"uf\": \"Pernambuco\", \"genero\": \"Masculino\", \"mes\": \"Mar\\u00e7o\", \"numero\": 8, \"regiao\": \"Nordeste\"}, {\"ano\": 2018, \"uf\": \"Pernambuco\", \"genero\": \"Masculino\", \"mes\": \"Abril\", \"numero\": 7, \"regiao\": \"Nordeste\"}, {\"ano\": 2018, \"uf\": \"Pernambuco\", \"genero\": \"Masculino\", \"mes\": \"Maio\", \"numero\": 2, \"regiao\": \"Nordeste\"}, {\"ano\": 2018, \"uf\": \"Pernambuco\", \"genero\": \"Masculino\", \"mes\": \"Junho\", \"numero\": 6, \"regiao\": \"Nordeste\"}, {\"ano\": 2018, \"uf\": \"Pernambuco\", \"genero\": \"Masculino\", \"mes\": \"Julho\", \"numero\": 6, \"regiao\": \"Nordeste\"}, {\"ano\": 2018, \"uf\": \"Pernambuco\", \"genero\": \"Masculino\", \"mes\": \"Agosto\", \"numero\": 5, \"regiao\": \"Nordeste\"}, {\"ano\": 2018, \"uf\": \"Pernambuco\", \"genero\": \"Masculino\", \"mes\": \"Setembro\", \"numero\": 9, \"regiao\": \"Nordeste\"}, {\"ano\": 2018, \"uf\": \"Pernambuco\", \"genero\": \"Masculino\", \"mes\": \"Outubro\", \"numero\": 11, \"regiao\": \"Nordeste\"}, {\"ano\": 2018, \"uf\": \"Pernambuco\", \"genero\": \"Masculino\", \"mes\": \"Novembro\", \"numero\": 13, \"regiao\": \"Nordeste\"}, {\"ano\": 2018, \"uf\": \"Pernambuco\", \"genero\": \"Masculino\", \"mes\": \"Dezembro\", \"numero\": 53, \"regiao\": \"Nordeste\"}, {\"ano\": 2019, \"uf\": \"Pernambuco\", \"genero\": \"Masculino\", \"mes\": \"Janeiro\", \"numero\": 11, \"regiao\": \"Nordeste\"}, {\"ano\": 2019, \"uf\": \"Pernambuco\", \"genero\": \"Masculino\", \"mes\": \"Fevereiro\", \"numero\": 23, \"regiao\": \"Nordeste\"}, {\"ano\": 2019, \"uf\": \"Pernambuco\", \"genero\": \"Masculino\", \"mes\": \"Mar\\u00e7o\", \"numero\": 14, \"regiao\": \"Nordeste\"}, {\"ano\": 2019, \"uf\": \"Pernambuco\", \"genero\": \"Masculino\", \"mes\": \"Abril\", \"numero\": 8, \"regiao\": \"Nordeste\"}, {\"ano\": 2019, \"uf\": \"Pernambuco\", \"genero\": \"Masculino\", \"mes\": \"Maio\", \"numero\": 6, \"regiao\": \"Nordeste\"}, {\"ano\": 2019, \"uf\": \"Pernambuco\", \"genero\": \"Masculino\", \"mes\": \"Junho\", \"numero\": 6, \"regiao\": \"Nordeste\"}, {\"ano\": 2019, \"uf\": \"Pernambuco\", \"genero\": \"Masculino\", \"mes\": \"Julho\", \"numero\": 9, \"regiao\": \"Nordeste\"}, {\"ano\": 2019, \"uf\": \"Pernambuco\", \"genero\": \"Masculino\", \"mes\": \"Agosto\", \"numero\": 9, \"regiao\": \"Nordeste\"}, {\"ano\": 2019, \"uf\": \"Pernambuco\", \"genero\": \"Masculino\", \"mes\": \"Setembro\", \"numero\": 9, \"regiao\": \"Nordeste\"}, {\"ano\": 2019, \"uf\": \"Pernambuco\", \"genero\": \"Masculino\", \"mes\": \"Outubro\", \"numero\": 11, \"regiao\": \"Nordeste\"}, {\"ano\": 2019, \"uf\": \"Pernambuco\", \"genero\": \"Masculino\", \"mes\": \"Novembro\", \"numero\": 5, \"regiao\": \"Nordeste\"}, {\"ano\": 2019, \"uf\": \"Pernambuco\", \"genero\": \"Masculino\", \"mes\": \"Dezembro\", \"numero\": 13, \"regiao\": \"Nordeste\"}, {\"ano\": 2015, \"uf\": \"Pernambuco\", \"genero\": \"Feminino\", \"mes\": \"Janeiro\", \"numero\": 11, \"regiao\": \"Nordeste\"}, {\"ano\": 2015, \"uf\": \"Pernambuco\", \"genero\": \"Feminino\", \"mes\": \"Fevereiro\", \"numero\": 6, \"regiao\": \"Nordeste\"}, {\"ano\": 2015, \"uf\": \"Pernambuco\", \"genero\": \"Feminino\", \"mes\": \"Mar\\u00e7o\", \"numero\": 12, \"regiao\": \"Nordeste\"}, {\"ano\": 2015, \"uf\": \"Pernambuco\", \"genero\": \"Feminino\", \"mes\": \"Abril\", \"numero\": 8, \"regiao\": \"Nordeste\"}, {\"ano\": 2015, \"uf\": \"Pernambuco\", \"genero\": \"Feminino\", \"mes\": \"Maio\", \"numero\": 10, \"regiao\": \"Nordeste\"}, {\"ano\": 2015, \"uf\": \"Pernambuco\", \"genero\": \"Feminino\", \"mes\": \"Junho\", \"numero\": 7, \"regiao\": \"Nordeste\"}, {\"ano\": 2015, \"uf\": \"Pernambuco\", \"genero\": \"Feminino\", \"mes\": \"Julho\", \"numero\": 22, \"regiao\": \"Nordeste\"}, {\"ano\": 2015, \"uf\": \"Pernambuco\", \"genero\": \"Feminino\", \"mes\": \"Agosto\", \"numero\": 7, \"regiao\": \"Nordeste\"}, {\"ano\": 2015, \"uf\": \"Pernambuco\", \"genero\": \"Feminino\", \"mes\": \"Setembro\", \"numero\": 12, \"regiao\": \"Nordeste\"}, {\"ano\": 2015, \"uf\": \"Pernambuco\", \"genero\": \"Feminino\", \"mes\": \"Outubro\", \"numero\": 8, \"regiao\": \"Nordeste\"}, {\"ano\": 2015, \"uf\": \"Pernambuco\", \"genero\": \"Feminino\", \"mes\": \"Novembro\", \"numero\": 11, \"regiao\": \"Nordeste\"}, {\"ano\": 2015, \"uf\": \"Pernambuco\", \"genero\": \"Feminino\", \"mes\": \"Dezembro\", \"numero\": 15, \"regiao\": \"Nordeste\"}, {\"ano\": 2016, \"uf\": \"Pernambuco\", \"genero\": \"Feminino\", \"mes\": \"Janeiro\", \"numero\": 9, \"regiao\": \"Nordeste\"}, {\"ano\": 2016, \"uf\": \"Pernambuco\", \"genero\": \"Feminino\", \"mes\": \"Fevereiro\", \"numero\": 4, \"regiao\": \"Nordeste\"}, {\"ano\": 2016, \"uf\": \"Pernambuco\", \"genero\": \"Feminino\", \"mes\": \"Mar\\u00e7o\", \"numero\": 14, \"regiao\": \"Nordeste\"}, {\"ano\": 2016, \"uf\": \"Pernambuco\", \"genero\": \"Feminino\", \"mes\": \"Abril\", \"numero\": 7, \"regiao\": \"Nordeste\"}, {\"ano\": 2016, \"uf\": \"Pernambuco\", \"genero\": \"Feminino\", \"mes\": \"Maio\", \"numero\": 8, \"regiao\": \"Nordeste\"}, {\"ano\": 2016, \"uf\": \"Pernambuco\", \"genero\": \"Feminino\", \"mes\": \"Junho\", \"numero\": 4, \"regiao\": \"Nordeste\"}, {\"ano\": 2016, \"uf\": \"Pernambuco\", \"genero\": \"Feminino\", \"mes\": \"Julho\", \"numero\": 11, \"regiao\": \"Nordeste\"}, {\"ano\": 2016, \"uf\": \"Pernambuco\", \"genero\": \"Feminino\", \"mes\": \"Agosto\", \"numero\": 9, \"regiao\": \"Nordeste\"}, {\"ano\": 2016, \"uf\": \"Pernambuco\", \"genero\": \"Feminino\", \"mes\": \"Setembro\", \"numero\": 10, \"regiao\": \"Nordeste\"}, {\"ano\": 2016, \"uf\": \"Pernambuco\", \"genero\": \"Feminino\", \"mes\": \"Outubro\", \"numero\": 11, \"regiao\": \"Nordeste\"}, {\"ano\": 2016, \"uf\": \"Pernambuco\", \"genero\": \"Feminino\", \"mes\": \"Novembro\", \"numero\": 16, \"regiao\": \"Nordeste\"}, {\"ano\": 2016, \"uf\": \"Pernambuco\", \"genero\": \"Feminino\", \"mes\": \"Dezembro\", \"numero\": 16, \"regiao\": \"Nordeste\"}, {\"ano\": 2017, \"uf\": \"Pernambuco\", \"genero\": \"Feminino\", \"mes\": \"Janeiro\", \"numero\": 5, \"regiao\": \"Nordeste\"}, {\"ano\": 2017, \"uf\": \"Pernambuco\", \"genero\": \"Feminino\", \"mes\": \"Fevereiro\", \"numero\": 10, \"regiao\": \"Nordeste\"}, {\"ano\": 2017, \"uf\": \"Pernambuco\", \"genero\": \"Feminino\", \"mes\": \"Mar\\u00e7o\", \"numero\": 13, \"regiao\": \"Nordeste\"}, {\"ano\": 2017, \"uf\": \"Pernambuco\", \"genero\": \"Feminino\", \"mes\": \"Abril\", \"numero\": 6, \"regiao\": \"Nordeste\"}, {\"ano\": 2017, \"uf\": \"Pernambuco\", \"genero\": \"Feminino\", \"mes\": \"Maio\", \"numero\": 8, \"regiao\": \"Nordeste\"}, {\"ano\": 2017, \"uf\": \"Pernambuco\", \"genero\": \"Feminino\", \"mes\": \"Junho\", \"numero\": 3, \"regiao\": \"Nordeste\"}, {\"ano\": 2017, \"uf\": \"Pernambuco\", \"genero\": \"Feminino\", \"mes\": \"Julho\", \"numero\": 8, \"regiao\": \"Nordeste\"}, {\"ano\": 2017, \"uf\": \"Pernambuco\", \"genero\": \"Feminino\", \"mes\": \"Agosto\", \"numero\": 9, \"regiao\": \"Nordeste\"}, {\"ano\": 2017, \"uf\": \"Pernambuco\", \"genero\": \"Feminino\", \"mes\": \"Setembro\", \"numero\": 9, \"regiao\": \"Nordeste\"}, {\"ano\": 2017, \"uf\": \"Pernambuco\", \"genero\": \"Feminino\", \"mes\": \"Outubro\", \"numero\": 6, \"regiao\": \"Nordeste\"}, {\"ano\": 2017, \"uf\": \"Pernambuco\", \"genero\": \"Feminino\", \"mes\": \"Novembro\", \"numero\": 8, \"regiao\": \"Nordeste\"}, {\"ano\": 2017, \"uf\": \"Pernambuco\", \"genero\": \"Feminino\", \"mes\": \"Dezembro\", \"numero\": 20, \"regiao\": \"Nordeste\"}, {\"ano\": 2018, \"uf\": \"Pernambuco\", \"genero\": \"Feminino\", \"mes\": \"Janeiro\", \"numero\": 13, \"regiao\": \"Nordeste\"}, {\"ano\": 2018, \"uf\": \"Pernambuco\", \"genero\": \"Feminino\", \"mes\": \"Fevereiro\", \"numero\": 13, \"regiao\": \"Nordeste\"}, {\"ano\": 2018, \"uf\": \"Pernambuco\", \"genero\": \"Feminino\", \"mes\": \"Mar\\u00e7o\", \"numero\": 5, \"regiao\": \"Nordeste\"}, {\"ano\": 2018, \"uf\": \"Pernambuco\", \"genero\": \"Feminino\", \"mes\": \"Abril\", \"numero\": 11, \"regiao\": \"Nordeste\"}, {\"ano\": 2018, \"uf\": \"Pernambuco\", \"genero\": \"Feminino\", \"mes\": \"Maio\", \"numero\": 8, \"regiao\": \"Nordeste\"}, {\"ano\": 2018, \"uf\": \"Pernambuco\", \"genero\": \"Feminino\", \"mes\": \"Junho\", \"numero\": 4, \"regiao\": \"Nordeste\"}, {\"ano\": 2018, \"uf\": \"Pernambuco\", \"genero\": \"Feminino\", \"mes\": \"Julho\", \"numero\": 14, \"regiao\": \"Nordeste\"}, {\"ano\": 2018, \"uf\": \"Pernambuco\", \"genero\": \"Feminino\", \"mes\": \"Agosto\", \"numero\": 17, \"regiao\": \"Nordeste\"}, {\"ano\": 2018, \"uf\": \"Pernambuco\", \"genero\": \"Feminino\", \"mes\": \"Setembro\", \"numero\": 10, \"regiao\": \"Nordeste\"}, {\"ano\": 2018, \"uf\": \"Pernambuco\", \"genero\": \"Feminino\", \"mes\": \"Outubro\", \"numero\": 18, \"regiao\": \"Nordeste\"}, {\"ano\": 2018, \"uf\": \"Pernambuco\", \"genero\": \"Feminino\", \"mes\": \"Novembro\", \"numero\": 32, \"regiao\": \"Nordeste\"}, {\"ano\": 2018, \"uf\": \"Pernambuco\", \"genero\": \"Feminino\", \"mes\": \"Dezembro\", \"numero\": 115, \"regiao\": \"Nordeste\"}, {\"ano\": 2019, \"uf\": \"Pernambuco\", \"genero\": \"Feminino\", \"mes\": \"Janeiro\", \"numero\": 25, \"regiao\": \"Nordeste\"}, {\"ano\": 2019, \"uf\": \"Pernambuco\", \"genero\": \"Feminino\", \"mes\": \"Fevereiro\", \"numero\": 31, \"regiao\": \"Nordeste\"}, {\"ano\": 2019, \"uf\": \"Pernambuco\", \"genero\": \"Feminino\", \"mes\": \"Mar\\u00e7o\", \"numero\": 12, \"regiao\": \"Nordeste\"}, {\"ano\": 2019, \"uf\": \"Pernambuco\", \"genero\": \"Feminino\", \"mes\": \"Abril\", \"numero\": 16, \"regiao\": \"Nordeste\"}, {\"ano\": 2019, \"uf\": \"Pernambuco\", \"genero\": \"Feminino\", \"mes\": \"Maio\", \"numero\": 15, \"regiao\": \"Nordeste\"}, {\"ano\": 2019, \"uf\": \"Pernambuco\", \"genero\": \"Feminino\", \"mes\": \"Junho\", \"numero\": 11, \"regiao\": \"Nordeste\"}, {\"ano\": 2019, \"uf\": \"Pernambuco\", \"genero\": \"Feminino\", \"mes\": \"Julho\", \"numero\": 22, \"regiao\": \"Nordeste\"}, {\"ano\": 2019, \"uf\": \"Pernambuco\", \"genero\": \"Feminino\", \"mes\": \"Agosto\", \"numero\": 14, \"regiao\": \"Nordeste\"}, {\"ano\": 2019, \"uf\": \"Pernambuco\", \"genero\": \"Feminino\", \"mes\": \"Setembro\", \"numero\": 12, \"regiao\": \"Nordeste\"}, {\"ano\": 2019, \"uf\": \"Pernambuco\", \"genero\": \"Feminino\", \"mes\": \"Outubro\", \"numero\": 17, \"regiao\": \"Nordeste\"}, {\"ano\": 2019, \"uf\": \"Pernambuco\", \"genero\": \"Feminino\", \"mes\": \"Novembro\", \"numero\": 19, \"regiao\": \"Nordeste\"}, {\"ano\": 2019, \"uf\": \"Pernambuco\", \"genero\": \"Feminino\", \"mes\": \"Dezembro\", \"numero\": 23, \"regiao\": \"Nordeste\"}, {\"ano\": 2014, \"uf\": \"Alagoas\", \"genero\": \"Masculino\", \"mes\": \"Janeiro\", \"numero\": 0, \"regiao\": \"Nordeste\"}, {\"ano\": 2014, \"uf\": \"Alagoas\", \"genero\": \"Masculino\", \"mes\": \"Fevereiro\", \"numero\": 0, \"regiao\": \"Nordeste\"}, {\"ano\": 2014, \"uf\": \"Alagoas\", \"genero\": \"Masculino\", \"mes\": \"Mar\\u00e7o\", \"numero\": 0, \"regiao\": \"Nordeste\"}, {\"ano\": 2014, \"uf\": \"Alagoas\", \"genero\": \"Masculino\", \"mes\": \"Abril\", \"numero\": 1, \"regiao\": \"Nordeste\"}, {\"ano\": 2014, \"uf\": \"Alagoas\", \"genero\": \"Masculino\", \"mes\": \"Maio\", \"numero\": 1, \"regiao\": \"Nordeste\"}, {\"ano\": 2014, \"uf\": \"Alagoas\", \"genero\": \"Masculino\", \"mes\": \"Junho\", \"numero\": 1, \"regiao\": \"Nordeste\"}, {\"ano\": 2014, \"uf\": \"Alagoas\", \"genero\": \"Masculino\", \"mes\": \"Julho\", \"numero\": 0, \"regiao\": \"Nordeste\"}, {\"ano\": 2014, \"uf\": \"Alagoas\", \"genero\": \"Masculino\", \"mes\": \"Agosto\", \"numero\": 0, \"regiao\": \"Nordeste\"}, {\"ano\": 2014, \"uf\": \"Alagoas\", \"genero\": \"Masculino\", \"mes\": \"Setembro\", \"numero\": 0, \"regiao\": \"Nordeste\"}, {\"ano\": 2014, \"uf\": \"Alagoas\", \"genero\": \"Masculino\", \"mes\": \"Outubro\", \"numero\": 0, \"regiao\": \"Nordeste\"}, {\"ano\": 2014, \"uf\": \"Alagoas\", \"genero\": \"Masculino\", \"mes\": \"Novembro\", \"numero\": 0, \"regiao\": \"Nordeste\"}, {\"ano\": 2014, \"uf\": \"Alagoas\", \"genero\": \"Masculino\", \"mes\": \"Dezembro\", \"numero\": 0, \"regiao\": \"Nordeste\"}, {\"ano\": 2014, \"uf\": \"Alagoas\", \"genero\": \"Feminino\", \"mes\": \"Janeiro\", \"numero\": 2, \"regiao\": \"Nordeste\"}, {\"ano\": 2014, \"uf\": \"Alagoas\", \"genero\": \"Feminino\", \"mes\": \"Fevereiro\", \"numero\": 2, \"regiao\": \"Nordeste\"}, {\"ano\": 2014, \"uf\": \"Alagoas\", \"genero\": \"Feminino\", \"mes\": \"Mar\\u00e7o\", \"numero\": 1, \"regiao\": \"Nordeste\"}, {\"ano\": 2014, \"uf\": \"Alagoas\", \"genero\": \"Feminino\", \"mes\": \"Abril\", \"numero\": 0, \"regiao\": \"Nordeste\"}, {\"ano\": 2014, \"uf\": \"Alagoas\", \"genero\": \"Feminino\", \"mes\": \"Maio\", \"numero\": 2, \"regiao\": \"Nordeste\"}, {\"ano\": 2014, \"uf\": \"Alagoas\", \"genero\": \"Feminino\", \"mes\": \"Junho\", \"numero\": 1, \"regiao\": \"Nordeste\"}, {\"ano\": 2014, \"uf\": \"Alagoas\", \"genero\": \"Feminino\", \"mes\": \"Julho\", \"numero\": 2, \"regiao\": \"Nordeste\"}, {\"ano\": 2014, \"uf\": \"Alagoas\", \"genero\": \"Feminino\", \"mes\": \"Agosto\", \"numero\": 1, \"regiao\": \"Nordeste\"}, {\"ano\": 2014, \"uf\": \"Alagoas\", \"genero\": \"Feminino\", \"mes\": \"Setembro\", \"numero\": 1, \"regiao\": \"Nordeste\"}, {\"ano\": 2014, \"uf\": \"Alagoas\", \"genero\": \"Feminino\", \"mes\": \"Outubro\", \"numero\": 2, \"regiao\": \"Nordeste\"}, {\"ano\": 2014, \"uf\": \"Alagoas\", \"genero\": \"Feminino\", \"mes\": \"Novembro\", \"numero\": 0, \"regiao\": \"Nordeste\"}, {\"ano\": 2014, \"uf\": \"Alagoas\", \"genero\": \"Feminino\", \"mes\": \"Dezembro\", \"numero\": 1, \"regiao\": \"Nordeste\"}, {\"ano\": 2013, \"uf\": \"Alagoas\", \"genero\": \"Masculino\", \"mes\": \"Janeiro\", \"numero\": 0, \"regiao\": \"Nordeste\"}, {\"ano\": 2013, \"uf\": \"Alagoas\", \"genero\": \"Masculino\", \"mes\": \"Fevereiro\", \"numero\": 0, \"regiao\": \"Nordeste\"}, {\"ano\": 2013, \"uf\": \"Alagoas\", \"genero\": \"Masculino\", \"mes\": \"Mar\\u00e7o\", \"numero\": 0, \"regiao\": \"Nordeste\"}, {\"ano\": 2013, \"uf\": \"Alagoas\", \"genero\": \"Masculino\", \"mes\": \"Abril\", \"numero\": 0, \"regiao\": \"Nordeste\"}, {\"ano\": 2013, \"uf\": \"Alagoas\", \"genero\": \"Masculino\", \"mes\": \"Maio\", \"numero\": 0, \"regiao\": \"Nordeste\"}, {\"ano\": 2013, \"uf\": \"Alagoas\", \"genero\": \"Masculino\", \"mes\": \"Junho\", \"numero\": 0, \"regiao\": \"Nordeste\"}, {\"ano\": 2013, \"uf\": \"Alagoas\", \"genero\": \"Masculino\", \"mes\": \"Julho\", \"numero\": 0, \"regiao\": \"Nordeste\"}, {\"ano\": 2013, \"uf\": \"Alagoas\", \"genero\": \"Masculino\", \"mes\": \"Agosto\", \"numero\": 1, \"regiao\": \"Nordeste\"}, {\"ano\": 2013, \"uf\": \"Alagoas\", \"genero\": \"Masculino\", \"mes\": \"Setembro\", \"numero\": 0, \"regiao\": \"Nordeste\"}, {\"ano\": 2013, \"uf\": \"Alagoas\", \"genero\": \"Masculino\", \"mes\": \"Outubro\", \"numero\": 0, \"regiao\": \"Nordeste\"}, {\"ano\": 2013, \"uf\": \"Alagoas\", \"genero\": \"Masculino\", \"mes\": \"Novembro\", \"numero\": 0, \"regiao\": \"Nordeste\"}, {\"ano\": 2013, \"uf\": \"Alagoas\", \"genero\": \"Masculino\", \"mes\": \"Dezembro\", \"numero\": 2, \"regiao\": \"Nordeste\"}, {\"ano\": 2013, \"uf\": \"Alagoas\", \"genero\": \"Feminino\", \"mes\": \"Janeiro\", \"numero\": 0, \"regiao\": \"Nordeste\"}, {\"ano\": 2013, \"uf\": \"Alagoas\", \"genero\": \"Feminino\", \"mes\": \"Fevereiro\", \"numero\": 0, \"regiao\": \"Nordeste\"}, {\"ano\": 2013, \"uf\": \"Alagoas\", \"genero\": \"Feminino\", \"mes\": \"Mar\\u00e7o\", \"numero\": 0, \"regiao\": \"Nordeste\"}, {\"ano\": 2013, \"uf\": \"Alagoas\", \"genero\": \"Feminino\", \"mes\": \"Abril\", \"numero\": 1, \"regiao\": \"Nordeste\"}, {\"ano\": 2013, \"uf\": \"Alagoas\", \"genero\": \"Feminino\", \"mes\": \"Maio\", \"numero\": 1, \"regiao\": \"Nordeste\"}, {\"ano\": 2013, \"uf\": \"Alagoas\", \"genero\": \"Feminino\", \"mes\": \"Junho\", \"numero\": 0, \"regiao\": \"Nordeste\"}, {\"ano\": 2013, \"uf\": \"Alagoas\", \"genero\": \"Feminino\", \"mes\": \"Julho\", \"numero\": 2, \"regiao\": \"Nordeste\"}, {\"ano\": 2013, \"uf\": \"Alagoas\", \"genero\": \"Feminino\", \"mes\": \"Agosto\", \"numero\": 0, \"regiao\": \"Nordeste\"}, {\"ano\": 2013, \"uf\": \"Alagoas\", \"genero\": \"Feminino\", \"mes\": \"Setembro\", \"numero\": 2, \"regiao\": \"Nordeste\"}, {\"ano\": 2013, \"uf\": \"Alagoas\", \"genero\": \"Feminino\", \"mes\": \"Outubro\", \"numero\": 2, \"regiao\": \"Nordeste\"}, {\"ano\": 2013, \"uf\": \"Alagoas\", \"genero\": \"Feminino\", \"mes\": \"Novembro\", \"numero\": 1, \"regiao\": \"Nordeste\"}, {\"ano\": 2013, \"uf\": \"Alagoas\", \"genero\": \"Feminino\", \"mes\": \"Dezembro\", \"numero\": 5, \"regiao\": \"Nordeste\"}, {\"ano\": 2015, \"uf\": \"Alagoas\", \"genero\": \"Masculino\", \"mes\": \"Janeiro\", \"numero\": 4, \"regiao\": \"Nordeste\"}, {\"ano\": 2015, \"uf\": \"Alagoas\", \"genero\": \"Masculino\", \"mes\": \"Fevereiro\", \"numero\": 0, \"regiao\": \"Nordeste\"}, {\"ano\": 2015, \"uf\": \"Alagoas\", \"genero\": \"Masculino\", \"mes\": \"Mar\\u00e7o\", \"numero\": 1, \"regiao\": \"Nordeste\"}, {\"ano\": 2015, \"uf\": \"Alagoas\", \"genero\": \"Masculino\", \"mes\": \"Abril\", \"numero\": 0, \"regiao\": \"Nordeste\"}, {\"ano\": 2015, \"uf\": \"Alagoas\", \"genero\": \"Masculino\", \"mes\": \"Maio\", \"numero\": 1, \"regiao\": \"Nordeste\"}, {\"ano\": 2015, \"uf\": \"Alagoas\", \"genero\": \"Masculino\", \"mes\": \"Junho\", \"numero\": 1, \"regiao\": \"Nordeste\"}, {\"ano\": 2015, \"uf\": \"Alagoas\", \"genero\": \"Masculino\", \"mes\": \"Julho\", \"numero\": 1, \"regiao\": \"Nordeste\"}, {\"ano\": 2015, \"uf\": \"Alagoas\", \"genero\": \"Masculino\", \"mes\": \"Agosto\", \"numero\": 0, \"regiao\": \"Nordeste\"}, {\"ano\": 2015, \"uf\": \"Alagoas\", \"genero\": \"Masculino\", \"mes\": \"Setembro\", \"numero\": 3, \"regiao\": \"Nordeste\"}, {\"ano\": 2015, \"uf\": \"Alagoas\", \"genero\": \"Masculino\", \"mes\": \"Outubro\", \"numero\": 1, \"regiao\": \"Nordeste\"}, {\"ano\": 2015, \"uf\": \"Alagoas\", \"genero\": \"Masculino\", \"mes\": \"Novembro\", \"numero\": 3, \"regiao\": \"Nordeste\"}, {\"ano\": 2015, \"uf\": \"Alagoas\", \"genero\": \"Masculino\", \"mes\": \"Dezembro\", \"numero\": 4, \"regiao\": \"Nordeste\"}, {\"ano\": 2016, \"uf\": \"Alagoas\", \"genero\": \"Masculino\", \"mes\": \"Janeiro\", \"numero\": 4, \"regiao\": \"Nordeste\"}, {\"ano\": 2016, \"uf\": \"Alagoas\", \"genero\": \"Masculino\", \"mes\": \"Fevereiro\", \"numero\": 1, \"regiao\": \"Nordeste\"}, {\"ano\": 2016, \"uf\": \"Alagoas\", \"genero\": \"Masculino\", \"mes\": \"Mar\\u00e7o\", \"numero\": 0, \"regiao\": \"Nordeste\"}, {\"ano\": 2016, \"uf\": \"Alagoas\", \"genero\": \"Masculino\", \"mes\": \"Abril\", \"numero\": 1, \"regiao\": \"Nordeste\"}, {\"ano\": 2016, \"uf\": \"Alagoas\", \"genero\": \"Masculino\", \"mes\": \"Maio\", \"numero\": 1, \"regiao\": \"Nordeste\"}, {\"ano\": 2016, \"uf\": \"Alagoas\", \"genero\": \"Masculino\", \"mes\": \"Junho\", \"numero\": 1, \"regiao\": \"Nordeste\"}, {\"ano\": 2016, \"uf\": \"Alagoas\", \"genero\": \"Masculino\", \"mes\": \"Julho\", \"numero\": 1, \"regiao\": \"Nordeste\"}, {\"ano\": 2016, \"uf\": \"Alagoas\", \"genero\": \"Masculino\", \"mes\": \"Agosto\", \"numero\": 1, \"regiao\": \"Nordeste\"}, {\"ano\": 2016, \"uf\": \"Alagoas\", \"genero\": \"Masculino\", \"mes\": \"Setembro\", \"numero\": 0, \"regiao\": \"Nordeste\"}, {\"ano\": 2016, \"uf\": \"Alagoas\", \"genero\": \"Masculino\", \"mes\": \"Outubro\", \"numero\": 0, \"regiao\": \"Nordeste\"}, {\"ano\": 2016, \"uf\": \"Alagoas\", \"genero\": \"Masculino\", \"mes\": \"Novembro\", \"numero\": 1, \"regiao\": \"Nordeste\"}, {\"ano\": 2016, \"uf\": \"Alagoas\", \"genero\": \"Masculino\", \"mes\": \"Dezembro\", \"numero\": 1, \"regiao\": \"Nordeste\"}, {\"ano\": 2017, \"uf\": \"Alagoas\", \"genero\": \"Masculino\", \"mes\": \"Janeiro\", \"numero\": 0, \"regiao\": \"Nordeste\"}, {\"ano\": 2017, \"uf\": \"Alagoas\", \"genero\": \"Masculino\", \"mes\": \"Fevereiro\", \"numero\": 1, \"regiao\": \"Nordeste\"}, {\"ano\": 2017, \"uf\": \"Alagoas\", \"genero\": \"Masculino\", \"mes\": \"Mar\\u00e7o\", \"numero\": 0, \"regiao\": \"Nordeste\"}, {\"ano\": 2017, \"uf\": \"Alagoas\", \"genero\": \"Masculino\", \"mes\": \"Abril\", \"numero\": 1, \"regiao\": \"Nordeste\"}, {\"ano\": 2017, \"uf\": \"Alagoas\", \"genero\": \"Masculino\", \"mes\": \"Maio\", \"numero\": 0, \"regiao\": \"Nordeste\"}, {\"ano\": 2017, \"uf\": \"Alagoas\", \"genero\": \"Masculino\", \"mes\": \"Junho\", \"numero\": 1, \"regiao\": \"Nordeste\"}, {\"ano\": 2017, \"uf\": \"Alagoas\", \"genero\": \"Masculino\", \"mes\": \"Julho\", \"numero\": 0, \"regiao\": \"Nordeste\"}, {\"ano\": 2017, \"uf\": \"Alagoas\", \"genero\": \"Masculino\", \"mes\": \"Agosto\", \"numero\": 2, \"regiao\": \"Nordeste\"}, {\"ano\": 2017, \"uf\": \"Alagoas\", \"genero\": \"Masculino\", \"mes\": \"Setembro\", \"numero\": 0, \"regiao\": \"Nordeste\"}, {\"ano\": 2017, \"uf\": \"Alagoas\", \"genero\": \"Masculino\", \"mes\": \"Outubro\", \"numero\": 1, \"regiao\": \"Nordeste\"}, {\"ano\": 2017, \"uf\": \"Alagoas\", \"genero\": \"Masculino\", \"mes\": \"Novembro\", \"numero\": 0, \"regiao\": \"Nordeste\"}, {\"ano\": 2017, \"uf\": \"Alagoas\", \"genero\": \"Masculino\", \"mes\": \"Dezembro\", \"numero\": 4, \"regiao\": \"Nordeste\"}, {\"ano\": 2018, \"uf\": \"Alagoas\", \"genero\": \"Masculino\", \"mes\": \"Janeiro\", \"numero\": 1, \"regiao\": \"Nordeste\"}, {\"ano\": 2018, \"uf\": \"Alagoas\", \"genero\": \"Masculino\", \"mes\": \"Fevereiro\", \"numero\": 1, \"regiao\": \"Nordeste\"}, {\"ano\": 2018, \"uf\": \"Alagoas\", \"genero\": \"Masculino\", \"mes\": \"Mar\\u00e7o\", \"numero\": 2, \"regiao\": \"Nordeste\"}, {\"ano\": 2018, \"uf\": \"Alagoas\", \"genero\": \"Masculino\", \"mes\": \"Abril\", \"numero\": 3, \"regiao\": \"Nordeste\"}, {\"ano\": 2018, \"uf\": \"Alagoas\", \"genero\": \"Masculino\", \"mes\": \"Maio\", \"numero\": 1, \"regiao\": \"Nordeste\"}, {\"ano\": 2018, \"uf\": \"Alagoas\", \"genero\": \"Masculino\", \"mes\": \"Junho\", \"numero\": 2, \"regiao\": \"Nordeste\"}, {\"ano\": 2018, \"uf\": \"Alagoas\", \"genero\": \"Masculino\", \"mes\": \"Julho\", \"numero\": 2, \"regiao\": \"Nordeste\"}, {\"ano\": 2018, \"uf\": \"Alagoas\", \"genero\": \"Masculino\", \"mes\": \"Agosto\", \"numero\": 2, \"regiao\": \"Nordeste\"}, {\"ano\": 2018, \"uf\": \"Alagoas\", \"genero\": \"Masculino\", \"mes\": \"Setembro\", \"numero\": 1, \"regiao\": \"Nordeste\"}, {\"ano\": 2018, \"uf\": \"Alagoas\", \"genero\": \"Masculino\", \"mes\": \"Outubro\", \"numero\": 1, \"regiao\": \"Nordeste\"}, {\"ano\": 2018, \"uf\": \"Alagoas\", \"genero\": \"Masculino\", \"mes\": \"Novembro\", \"numero\": 5, \"regiao\": \"Nordeste\"}, {\"ano\": 2018, \"uf\": \"Alagoas\", \"genero\": \"Masculino\", \"mes\": \"Dezembro\", \"numero\": 18, \"regiao\": \"Nordeste\"}, {\"ano\": 2019, \"uf\": \"Alagoas\", \"genero\": \"Masculino\", \"mes\": \"Janeiro\", \"numero\": 0, \"regiao\": \"Nordeste\"}, {\"ano\": 2019, \"uf\": \"Alagoas\", \"genero\": \"Masculino\", \"mes\": \"Fevereiro\", \"numero\": 4, \"regiao\": \"Nordeste\"}, {\"ano\": 2019, \"uf\": \"Alagoas\", \"genero\": \"Masculino\", \"mes\": \"Mar\\u00e7o\", \"numero\": 1, \"regiao\": \"Nordeste\"}, {\"ano\": 2019, \"uf\": \"Alagoas\", \"genero\": \"Masculino\", \"mes\": \"Abril\", \"numero\": 2, \"regiao\": \"Nordeste\"}, {\"ano\": 2019, \"uf\": \"Alagoas\", \"genero\": \"Masculino\", \"mes\": \"Maio\", \"numero\": 3, \"regiao\": \"Nordeste\"}, {\"ano\": 2019, \"uf\": \"Alagoas\", \"genero\": \"Masculino\", \"mes\": \"Junho\", \"numero\": 0, \"regiao\": \"Nordeste\"}, {\"ano\": 2019, \"uf\": \"Alagoas\", \"genero\": \"Masculino\", \"mes\": \"Julho\", \"numero\": 0, \"regiao\": \"Nordeste\"}, {\"ano\": 2019, \"uf\": \"Alagoas\", \"genero\": \"Masculino\", \"mes\": \"Agosto\", \"numero\": 1, \"regiao\": \"Nordeste\"}, {\"ano\": 2019, \"uf\": \"Alagoas\", \"genero\": \"Masculino\", \"mes\": \"Setembro\", \"numero\": 4, \"regiao\": \"Nordeste\"}, {\"ano\": 2019, \"uf\": \"Alagoas\", \"genero\": \"Masculino\", \"mes\": \"Outubro\", \"numero\": 5, \"regiao\": \"Nordeste\"}, {\"ano\": 2019, \"uf\": \"Alagoas\", \"genero\": \"Masculino\", \"mes\": \"Novembro\", \"numero\": 3, \"regiao\": \"Nordeste\"}, {\"ano\": 2019, \"uf\": \"Alagoas\", \"genero\": \"Masculino\", \"mes\": \"Dezembro\", \"numero\": 2, \"regiao\": \"Nordeste\"}, {\"ano\": 2015, \"uf\": \"Alagoas\", \"genero\": \"Feminino\", \"mes\": \"Janeiro\", \"numero\": 1, \"regiao\": \"Nordeste\"}, {\"ano\": 2015, \"uf\": \"Alagoas\", \"genero\": \"Feminino\", \"mes\": \"Fevereiro\", \"numero\": 1, \"regiao\": \"Nordeste\"}, {\"ano\": 2015, \"uf\": \"Alagoas\", \"genero\": \"Feminino\", \"mes\": \"Mar\\u00e7o\", \"numero\": 3, \"regiao\": \"Nordeste\"}, {\"ano\": 2015, \"uf\": \"Alagoas\", \"genero\": \"Feminino\", \"mes\": \"Abril\", \"numero\": 1, \"regiao\": \"Nordeste\"}, {\"ano\": 2015, \"uf\": \"Alagoas\", \"genero\": \"Feminino\", \"mes\": \"Maio\", \"numero\": 3, \"regiao\": \"Nordeste\"}, {\"ano\": 2015, \"uf\": \"Alagoas\", \"genero\": \"Feminino\", \"mes\": \"Junho\", \"numero\": 1, \"regiao\": \"Nordeste\"}, {\"ano\": 2015, \"uf\": \"Alagoas\", \"genero\": \"Feminino\", \"mes\": \"Julho\", \"numero\": 1, \"regiao\": \"Nordeste\"}, {\"ano\": 2015, \"uf\": \"Alagoas\", \"genero\": \"Feminino\", \"mes\": \"Agosto\", \"numero\": 0, \"regiao\": \"Nordeste\"}, {\"ano\": 2015, \"uf\": \"Alagoas\", \"genero\": \"Feminino\", \"mes\": \"Setembro\", \"numero\": 2, \"regiao\": \"Nordeste\"}, {\"ano\": 2015, \"uf\": \"Alagoas\", \"genero\": \"Feminino\", \"mes\": \"Outubro\", \"numero\": 2, \"regiao\": \"Nordeste\"}, {\"ano\": 2015, \"uf\": \"Alagoas\", \"genero\": \"Feminino\", \"mes\": \"Novembro\", \"numero\": 3, \"regiao\": \"Nordeste\"}, {\"ano\": 2015, \"uf\": \"Alagoas\", \"genero\": \"Feminino\", \"mes\": \"Dezembro\", \"numero\": 11, \"regiao\": \"Nordeste\"}, {\"ano\": 2016, \"uf\": \"Alagoas\", \"genero\": \"Feminino\", \"mes\": \"Janeiro\", \"numero\": 1, \"regiao\": \"Nordeste\"}, {\"ano\": 2016, \"uf\": \"Alagoas\", \"genero\": \"Feminino\", \"mes\": \"Fevereiro\", \"numero\": 2, \"regiao\": \"Nordeste\"}, {\"ano\": 2016, \"uf\": \"Alagoas\", \"genero\": \"Feminino\", \"mes\": \"Mar\\u00e7o\", \"numero\": 1, \"regiao\": \"Nordeste\"}, {\"ano\": 2016, \"uf\": \"Alagoas\", \"genero\": \"Feminino\", \"mes\": \"Abril\", \"numero\": 3, \"regiao\": \"Nordeste\"}, {\"ano\": 2016, \"uf\": \"Alagoas\", \"genero\": \"Feminino\", \"mes\": \"Maio\", \"numero\": 2, \"regiao\": \"Nordeste\"}, {\"ano\": 2016, \"uf\": \"Alagoas\", \"genero\": \"Feminino\", \"mes\": \"Junho\", \"numero\": 3, \"regiao\": \"Nordeste\"}, {\"ano\": 2016, \"uf\": \"Alagoas\", \"genero\": \"Feminino\", \"mes\": \"Julho\", \"numero\": 2, \"regiao\": \"Nordeste\"}, {\"ano\": 2016, \"uf\": \"Alagoas\", \"genero\": \"Feminino\", \"mes\": \"Agosto\", \"numero\": 1, \"regiao\": \"Nordeste\"}, {\"ano\": 2016, \"uf\": \"Alagoas\", \"genero\": \"Feminino\", \"mes\": \"Setembro\", \"numero\": 1, \"regiao\": \"Nordeste\"}, {\"ano\": 2016, \"uf\": \"Alagoas\", \"genero\": \"Feminino\", \"mes\": \"Outubro\", \"numero\": 2, \"regiao\": \"Nordeste\"}, {\"ano\": 2016, \"uf\": \"Alagoas\", \"genero\": \"Feminino\", \"mes\": \"Novembro\", \"numero\": 0, \"regiao\": \"Nordeste\"}, {\"ano\": 2016, \"uf\": \"Alagoas\", \"genero\": \"Feminino\", \"mes\": \"Dezembro\", \"numero\": 2, \"regiao\": \"Nordeste\"}, {\"ano\": 2017, \"uf\": \"Alagoas\", \"genero\": \"Feminino\", \"mes\": \"Janeiro\", \"numero\": 1, \"regiao\": \"Nordeste\"}, {\"ano\": 2017, \"uf\": \"Alagoas\", \"genero\": \"Feminino\", \"mes\": \"Fevereiro\", \"numero\": 4, \"regiao\": \"Nordeste\"}, {\"ano\": 2017, \"uf\": \"Alagoas\", \"genero\": \"Feminino\", \"mes\": \"Mar\\u00e7o\", \"numero\": 1, \"regiao\": \"Nordeste\"}, {\"ano\": 2017, \"uf\": \"Alagoas\", \"genero\": \"Feminino\", \"mes\": \"Abril\", \"numero\": 0, \"regiao\": \"Nordeste\"}, {\"ano\": 2017, \"uf\": \"Alagoas\", \"genero\": \"Feminino\", \"mes\": \"Maio\", \"numero\": 1, \"regiao\": \"Nordeste\"}, {\"ano\": 2017, \"uf\": \"Alagoas\", \"genero\": \"Feminino\", \"mes\": \"Junho\", \"numero\": 1, \"regiao\": \"Nordeste\"}, {\"ano\": 2017, \"uf\": \"Alagoas\", \"genero\": \"Feminino\", \"mes\": \"Julho\", \"numero\": 3, \"regiao\": \"Nordeste\"}, {\"ano\": 2017, \"uf\": \"Alagoas\", \"genero\": \"Feminino\", \"mes\": \"Agosto\", \"numero\": 4, \"regiao\": \"Nordeste\"}, {\"ano\": 2017, \"uf\": \"Alagoas\", \"genero\": \"Feminino\", \"mes\": \"Setembro\", \"numero\": 2, \"regiao\": \"Nordeste\"}, {\"ano\": 2017, \"uf\": \"Alagoas\", \"genero\": \"Feminino\", \"mes\": \"Outubro\", \"numero\": 2, \"regiao\": \"Nordeste\"}, {\"ano\": 2017, \"uf\": \"Alagoas\", \"genero\": \"Feminino\", \"mes\": \"Novembro\", \"numero\": 4, \"regiao\": \"Nordeste\"}, {\"ano\": 2017, \"uf\": \"Alagoas\", \"genero\": \"Feminino\", \"mes\": \"Dezembro\", \"numero\": 11, \"regiao\": \"Nordeste\"}, {\"ano\": 2018, \"uf\": \"Alagoas\", \"genero\": \"Feminino\", \"mes\": \"Janeiro\", \"numero\": 2, \"regiao\": \"Nordeste\"}, {\"ano\": 2018, \"uf\": \"Alagoas\", \"genero\": \"Feminino\", \"mes\": \"Fevereiro\", \"numero\": 2, \"regiao\": \"Nordeste\"}, {\"ano\": 2018, \"uf\": \"Alagoas\", \"genero\": \"Feminino\", \"mes\": \"Mar\\u00e7o\", \"numero\": 3, \"regiao\": \"Nordeste\"}, {\"ano\": 2018, \"uf\": \"Alagoas\", \"genero\": \"Feminino\", \"mes\": \"Abril\", \"numero\": 1, \"regiao\": \"Nordeste\"}, {\"ano\": 2018, \"uf\": \"Alagoas\", \"genero\": \"Feminino\", \"mes\": \"Maio\", \"numero\": 2, \"regiao\": \"Nordeste\"}, {\"ano\": 2018, \"uf\": \"Alagoas\", \"genero\": \"Feminino\", \"mes\": \"Junho\", \"numero\": 1, \"regiao\": \"Nordeste\"}, {\"ano\": 2018, \"uf\": \"Alagoas\", \"genero\": \"Feminino\", \"mes\": \"Julho\", \"numero\": 1, \"regiao\": \"Nordeste\"}, {\"ano\": 2018, \"uf\": \"Alagoas\", \"genero\": \"Feminino\", \"mes\": \"Agosto\", \"numero\": 0, \"regiao\": \"Nordeste\"}, {\"ano\": 2018, \"uf\": \"Alagoas\", \"genero\": \"Feminino\", \"mes\": \"Setembro\", \"numero\": 2, \"regiao\": \"Nordeste\"}, {\"ano\": 2018, \"uf\": \"Alagoas\", \"genero\": \"Feminino\", \"mes\": \"Outubro\", \"numero\": 3, \"regiao\": \"Nordeste\"}, {\"ano\": 2018, \"uf\": \"Alagoas\", \"genero\": \"Feminino\", \"mes\": \"Novembro\", \"numero\": 2, \"regiao\": \"Nordeste\"}, {\"ano\": 2018, \"uf\": \"Alagoas\", \"genero\": \"Feminino\", \"mes\": \"Dezembro\", \"numero\": 37, \"regiao\": \"Nordeste\"}, {\"ano\": 2019, \"uf\": \"Alagoas\", \"genero\": \"Feminino\", \"mes\": \"Janeiro\", \"numero\": 7, \"regiao\": \"Nordeste\"}, {\"ano\": 2019, \"uf\": \"Alagoas\", \"genero\": \"Feminino\", \"mes\": \"Fevereiro\", \"numero\": 0, \"regiao\": \"Nordeste\"}, {\"ano\": 2019, \"uf\": \"Alagoas\", \"genero\": \"Feminino\", \"mes\": \"Mar\\u00e7o\", \"numero\": 4, \"regiao\": \"Nordeste\"}, {\"ano\": 2019, \"uf\": \"Alagoas\", \"genero\": \"Feminino\", \"mes\": \"Abril\", \"numero\": 2, \"regiao\": \"Nordeste\"}, {\"ano\": 2019, \"uf\": \"Alagoas\", \"genero\": \"Feminino\", \"mes\": \"Maio\", \"numero\": 3, \"regiao\": \"Nordeste\"}, {\"ano\": 2019, \"uf\": \"Alagoas\", \"genero\": \"Feminino\", \"mes\": \"Junho\", \"numero\": 2, \"regiao\": \"Nordeste\"}, {\"ano\": 2019, \"uf\": \"Alagoas\", \"genero\": \"Feminino\", \"mes\": \"Julho\", \"numero\": 5, \"regiao\": \"Nordeste\"}, {\"ano\": 2019, \"uf\": \"Alagoas\", \"genero\": \"Feminino\", \"mes\": \"Agosto\", \"numero\": 5, \"regiao\": \"Nordeste\"}, {\"ano\": 2019, \"uf\": \"Alagoas\", \"genero\": \"Feminino\", \"mes\": \"Setembro\", \"numero\": 8, \"regiao\": \"Nordeste\"}, {\"ano\": 2019, \"uf\": \"Alagoas\", \"genero\": \"Feminino\", \"mes\": \"Outubro\", \"numero\": 5, \"regiao\": \"Nordeste\"}, {\"ano\": 2019, \"uf\": \"Alagoas\", \"genero\": \"Feminino\", \"mes\": \"Novembro\", \"numero\": 4, \"regiao\": \"Nordeste\"}, {\"ano\": 2019, \"uf\": \"Alagoas\", \"genero\": \"Feminino\", \"mes\": \"Dezembro\", \"numero\": 8, \"regiao\": \"Nordeste\"}, {\"ano\": 2014, \"uf\": \"Sergipe\", \"genero\": \"Masculino\", \"mes\": \"Janeiro\", \"numero\": 0, \"regiao\": \"Nordeste\"}, {\"ano\": 2014, \"uf\": \"Sergipe\", \"genero\": \"Masculino\", \"mes\": \"Fevereiro\", \"numero\": 0, \"regiao\": \"Nordeste\"}, {\"ano\": 2014, \"uf\": \"Sergipe\", \"genero\": \"Masculino\", \"mes\": \"Mar\\u00e7o\", \"numero\": 0, \"regiao\": \"Nordeste\"}, {\"ano\": 2014, \"uf\": \"Sergipe\", \"genero\": \"Masculino\", \"mes\": \"Abril\", \"numero\": 0, \"regiao\": \"Nordeste\"}, {\"ano\": 2014, \"uf\": \"Sergipe\", \"genero\": \"Masculino\", \"mes\": \"Maio\", \"numero\": 0, \"regiao\": \"Nordeste\"}, {\"ano\": 2014, \"uf\": \"Sergipe\", \"genero\": \"Masculino\", \"mes\": \"Junho\", \"numero\": 1, \"regiao\": \"Nordeste\"}, {\"ano\": 2014, \"uf\": \"Sergipe\", \"genero\": \"Masculino\", \"mes\": \"Julho\", \"numero\": 0, \"regiao\": \"Nordeste\"}, {\"ano\": 2014, \"uf\": \"Sergipe\", \"genero\": \"Masculino\", \"mes\": \"Agosto\", \"numero\": 0, \"regiao\": \"Nordeste\"}, {\"ano\": 2014, \"uf\": \"Sergipe\", \"genero\": \"Masculino\", \"mes\": \"Setembro\", \"numero\": 0, \"regiao\": \"Nordeste\"}, {\"ano\": 2014, \"uf\": \"Sergipe\", \"genero\": \"Masculino\", \"mes\": \"Outubro\", \"numero\": 1, \"regiao\": \"Nordeste\"}, {\"ano\": 2014, \"uf\": \"Sergipe\", \"genero\": \"Masculino\", \"mes\": \"Novembro\", \"numero\": 0, \"regiao\": \"Nordeste\"}, {\"ano\": 2014, \"uf\": \"Sergipe\", \"genero\": \"Masculino\", \"mes\": \"Dezembro\", \"numero\": 0, \"regiao\": \"Nordeste\"}, {\"ano\": 2014, \"uf\": \"Sergipe\", \"genero\": \"Feminino\", \"mes\": \"Janeiro\", \"numero\": 0, \"regiao\": \"Nordeste\"}, {\"ano\": 2014, \"uf\": \"Sergipe\", \"genero\": \"Feminino\", \"mes\": \"Fevereiro\", \"numero\": 0, \"regiao\": \"Nordeste\"}, {\"ano\": 2014, \"uf\": \"Sergipe\", \"genero\": \"Feminino\", \"mes\": \"Mar\\u00e7o\", \"numero\": 0, \"regiao\": \"Nordeste\"}, {\"ano\": 2014, \"uf\": \"Sergipe\", \"genero\": \"Feminino\", \"mes\": \"Abril\", \"numero\": 2, \"regiao\": \"Nordeste\"}, {\"ano\": 2014, \"uf\": \"Sergipe\", \"genero\": \"Feminino\", \"mes\": \"Maio\", \"numero\": 0, \"regiao\": \"Nordeste\"}, {\"ano\": 2014, \"uf\": \"Sergipe\", \"genero\": \"Feminino\", \"mes\": \"Junho\", \"numero\": 0, \"regiao\": \"Nordeste\"}, {\"ano\": 2014, \"uf\": \"Sergipe\", \"genero\": \"Feminino\", \"mes\": \"Julho\", \"numero\": 1, \"regiao\": \"Nordeste\"}, {\"ano\": 2014, \"uf\": \"Sergipe\", \"genero\": \"Feminino\", \"mes\": \"Agosto\", \"numero\": 1, \"regiao\": \"Nordeste\"}, {\"ano\": 2014, \"uf\": \"Sergipe\", \"genero\": \"Feminino\", \"mes\": \"Setembro\", \"numero\": 1, \"regiao\": \"Nordeste\"}, {\"ano\": 2014, \"uf\": \"Sergipe\", \"genero\": \"Feminino\", \"mes\": \"Outubro\", \"numero\": 1, \"regiao\": \"Nordeste\"}, {\"ano\": 2014, \"uf\": \"Sergipe\", \"genero\": \"Feminino\", \"mes\": \"Novembro\", \"numero\": 0, \"regiao\": \"Nordeste\"}, {\"ano\": 2014, \"uf\": \"Sergipe\", \"genero\": \"Feminino\", \"mes\": \"Dezembro\", \"numero\": 0, \"regiao\": \"Nordeste\"}, {\"ano\": 2013, \"uf\": \"Sergipe\", \"genero\": \"Masculino\", \"mes\": \"Janeiro\", \"numero\": 0, \"regiao\": \"Nordeste\"}, {\"ano\": 2013, \"uf\": \"Sergipe\", \"genero\": \"Masculino\", \"mes\": \"Fevereiro\", \"numero\": 0, \"regiao\": \"Nordeste\"}, {\"ano\": 2013, \"uf\": \"Sergipe\", \"genero\": \"Masculino\", \"mes\": \"Mar\\u00e7o\", \"numero\": 0, \"regiao\": \"Nordeste\"}, {\"ano\": 2013, \"uf\": \"Sergipe\", \"genero\": \"Masculino\", \"mes\": \"Abril\", \"numero\": 0, \"regiao\": \"Nordeste\"}, {\"ano\": 2013, \"uf\": \"Sergipe\", \"genero\": \"Masculino\", \"mes\": \"Maio\", \"numero\": 0, \"regiao\": \"Nordeste\"}, {\"ano\": 2013, \"uf\": \"Sergipe\", \"genero\": \"Masculino\", \"mes\": \"Junho\", \"numero\": 0, \"regiao\": \"Nordeste\"}, {\"ano\": 2013, \"uf\": \"Sergipe\", \"genero\": \"Masculino\", \"mes\": \"Julho\", \"numero\": 0, \"regiao\": \"Nordeste\"}, {\"ano\": 2013, \"uf\": \"Sergipe\", \"genero\": \"Masculino\", \"mes\": \"Agosto\", \"numero\": 0, \"regiao\": \"Nordeste\"}, {\"ano\": 2013, \"uf\": \"Sergipe\", \"genero\": \"Masculino\", \"mes\": \"Setembro\", \"numero\": 0, \"regiao\": \"Nordeste\"}, {\"ano\": 2013, \"uf\": \"Sergipe\", \"genero\": \"Masculino\", \"mes\": \"Outubro\", \"numero\": 0, \"regiao\": \"Nordeste\"}, {\"ano\": 2013, \"uf\": \"Sergipe\", \"genero\": \"Masculino\", \"mes\": \"Novembro\", \"numero\": 1, \"regiao\": \"Nordeste\"}, {\"ano\": 2013, \"uf\": \"Sergipe\", \"genero\": \"Masculino\", \"mes\": \"Dezembro\", \"numero\": 3, \"regiao\": \"Nordeste\"}, {\"ano\": 2013, \"uf\": \"Sergipe\", \"genero\": \"Feminino\", \"mes\": \"Janeiro\", \"numero\": 0, \"regiao\": \"Nordeste\"}, {\"ano\": 2013, \"uf\": \"Sergipe\", \"genero\": \"Feminino\", \"mes\": \"Fevereiro\", \"numero\": 0, \"regiao\": \"Nordeste\"}, {\"ano\": 2013, \"uf\": \"Sergipe\", \"genero\": \"Feminino\", \"mes\": \"Mar\\u00e7o\", \"numero\": 0, \"regiao\": \"Nordeste\"}, {\"ano\": 2013, \"uf\": \"Sergipe\", \"genero\": \"Feminino\", \"mes\": \"Abril\", \"numero\": 0, \"regiao\": \"Nordeste\"}, {\"ano\": 2013, \"uf\": \"Sergipe\", \"genero\": \"Feminino\", \"mes\": \"Maio\", \"numero\": 0, \"regiao\": \"Nordeste\"}, {\"ano\": 2013, \"uf\": \"Sergipe\", \"genero\": \"Feminino\", \"mes\": \"Junho\", \"numero\": 0, \"regiao\": \"Nordeste\"}, {\"ano\": 2013, \"uf\": \"Sergipe\", \"genero\": \"Feminino\", \"mes\": \"Julho\", \"numero\": 0, \"regiao\": \"Nordeste\"}, {\"ano\": 2013, \"uf\": \"Sergipe\", \"genero\": \"Feminino\", \"mes\": \"Agosto\", \"numero\": 0, \"regiao\": \"Nordeste\"}, {\"ano\": 2013, \"uf\": \"Sergipe\", \"genero\": \"Feminino\", \"mes\": \"Setembro\", \"numero\": 0, \"regiao\": \"Nordeste\"}, {\"ano\": 2013, \"uf\": \"Sergipe\", \"genero\": \"Feminino\", \"mes\": \"Outubro\", \"numero\": 1, \"regiao\": \"Nordeste\"}, {\"ano\": 2013, \"uf\": \"Sergipe\", \"genero\": \"Feminino\", \"mes\": \"Novembro\", \"numero\": 0, \"regiao\": \"Nordeste\"}, {\"ano\": 2013, \"uf\": \"Sergipe\", \"genero\": \"Feminino\", \"mes\": \"Dezembro\", \"numero\": 0, \"regiao\": \"Nordeste\"}, {\"ano\": 2015, \"uf\": \"Sergipe\", \"genero\": \"Masculino\", \"mes\": \"Janeiro\", \"numero\": 1, \"regiao\": \"Nordeste\"}, {\"ano\": 2015, \"uf\": \"Sergipe\", \"genero\": \"Masculino\", \"mes\": \"Fevereiro\", \"numero\": 1, \"regiao\": \"Nordeste\"}, {\"ano\": 2015, \"uf\": \"Sergipe\", \"genero\": \"Masculino\", \"mes\": \"Mar\\u00e7o\", \"numero\": 1, \"regiao\": \"Nordeste\"}, {\"ano\": 2015, \"uf\": \"Sergipe\", \"genero\": \"Masculino\", \"mes\": \"Abril\", \"numero\": 0, \"regiao\": \"Nordeste\"}, {\"ano\": 2015, \"uf\": \"Sergipe\", \"genero\": \"Masculino\", \"mes\": \"Maio\", \"numero\": 1, \"regiao\": \"Nordeste\"}, {\"ano\": 2015, \"uf\": \"Sergipe\", \"genero\": \"Masculino\", \"mes\": \"Junho\", \"numero\": 1, \"regiao\": \"Nordeste\"}, {\"ano\": 2015, \"uf\": \"Sergipe\", \"genero\": \"Masculino\", \"mes\": \"Julho\", \"numero\": 0, \"regiao\": \"Nordeste\"}, {\"ano\": 2015, \"uf\": \"Sergipe\", \"genero\": \"Masculino\", \"mes\": \"Agosto\", \"numero\": 0, \"regiao\": \"Nordeste\"}, {\"ano\": 2015, \"uf\": \"Sergipe\", \"genero\": \"Masculino\", \"mes\": \"Setembro\", \"numero\": 1, \"regiao\": \"Nordeste\"}, {\"ano\": 2015, \"uf\": \"Sergipe\", \"genero\": \"Masculino\", \"mes\": \"Outubro\", \"numero\": 0, \"regiao\": \"Nordeste\"}, {\"ano\": 2015, \"uf\": \"Sergipe\", \"genero\": \"Masculino\", \"mes\": \"Novembro\", \"numero\": 0, \"regiao\": \"Nordeste\"}, {\"ano\": 2015, \"uf\": \"Sergipe\", \"genero\": \"Masculino\", \"mes\": \"Dezembro\", \"numero\": 1, \"regiao\": \"Nordeste\"}, {\"ano\": 2016, \"uf\": \"Sergipe\", \"genero\": \"Masculino\", \"mes\": \"Janeiro\", \"numero\": 0, \"regiao\": \"Nordeste\"}, {\"ano\": 2016, \"uf\": \"Sergipe\", \"genero\": \"Masculino\", \"mes\": \"Fevereiro\", \"numero\": 1, \"regiao\": \"Nordeste\"}, {\"ano\": 2016, \"uf\": \"Sergipe\", \"genero\": \"Masculino\", \"mes\": \"Mar\\u00e7o\", \"numero\": 2, \"regiao\": \"Nordeste\"}, {\"ano\": 2016, \"uf\": \"Sergipe\", \"genero\": \"Masculino\", \"mes\": \"Abril\", \"numero\": 0, \"regiao\": \"Nordeste\"}, {\"ano\": 2016, \"uf\": \"Sergipe\", \"genero\": \"Masculino\", \"mes\": \"Maio\", \"numero\": 1, \"regiao\": \"Nordeste\"}, {\"ano\": 2016, \"uf\": \"Sergipe\", \"genero\": \"Masculino\", \"mes\": \"Junho\", \"numero\": 0, \"regiao\": \"Nordeste\"}, {\"ano\": 2016, \"uf\": \"Sergipe\", \"genero\": \"Masculino\", \"mes\": \"Julho\", \"numero\": 1, \"regiao\": \"Nordeste\"}, {\"ano\": 2016, \"uf\": \"Sergipe\", \"genero\": \"Masculino\", \"mes\": \"Agosto\", \"numero\": 1, \"regiao\": \"Nordeste\"}, {\"ano\": 2016, \"uf\": \"Sergipe\", \"genero\": \"Masculino\", \"mes\": \"Setembro\", \"numero\": 1, \"regiao\": \"Nordeste\"}, {\"ano\": 2016, \"uf\": \"Sergipe\", \"genero\": \"Masculino\", \"mes\": \"Outubro\", \"numero\": 1, \"regiao\": \"Nordeste\"}, {\"ano\": 2016, \"uf\": \"Sergipe\", \"genero\": \"Masculino\", \"mes\": \"Novembro\", \"numero\": 0, \"regiao\": \"Nordeste\"}, {\"ano\": 2016, \"uf\": \"Sergipe\", \"genero\": \"Masculino\", \"mes\": \"Dezembro\", \"numero\": 3, \"regiao\": \"Nordeste\"}, {\"ano\": 2017, \"uf\": \"Sergipe\", \"genero\": \"Masculino\", \"mes\": \"Janeiro\", \"numero\": 0, \"regiao\": \"Nordeste\"}, {\"ano\": 2017, \"uf\": \"Sergipe\", \"genero\": \"Masculino\", \"mes\": \"Fevereiro\", \"numero\": 2, \"regiao\": \"Nordeste\"}, {\"ano\": 2017, \"uf\": \"Sergipe\", \"genero\": \"Masculino\", \"mes\": \"Mar\\u00e7o\", \"numero\": 1, \"regiao\": \"Nordeste\"}, {\"ano\": 2017, \"uf\": \"Sergipe\", \"genero\": \"Masculino\", \"mes\": \"Abril\", \"numero\": 1, \"regiao\": \"Nordeste\"}, {\"ano\": 2017, \"uf\": \"Sergipe\", \"genero\": \"Masculino\", \"mes\": \"Maio\", \"numero\": 0, \"regiao\": \"Nordeste\"}, {\"ano\": 2017, \"uf\": \"Sergipe\", \"genero\": \"Masculino\", \"mes\": \"Junho\", \"numero\": 1, \"regiao\": \"Nordeste\"}, {\"ano\": 2017, \"uf\": \"Sergipe\", \"genero\": \"Masculino\", \"mes\": \"Julho\", \"numero\": 1, \"regiao\": \"Nordeste\"}, {\"ano\": 2017, \"uf\": \"Sergipe\", \"genero\": \"Masculino\", \"mes\": \"Agosto\", \"numero\": 1, \"regiao\": \"Nordeste\"}, {\"ano\": 2017, \"uf\": \"Sergipe\", \"genero\": \"Masculino\", \"mes\": \"Setembro\", \"numero\": 2, \"regiao\": \"Nordeste\"}, {\"ano\": 2017, \"uf\": \"Sergipe\", \"genero\": \"Masculino\", \"mes\": \"Outubro\", \"numero\": 0, \"regiao\": \"Nordeste\"}, {\"ano\": 2017, \"uf\": \"Sergipe\", \"genero\": \"Masculino\", \"mes\": \"Novembro\", \"numero\": 0, \"regiao\": \"Nordeste\"}, {\"ano\": 2017, \"uf\": \"Sergipe\", \"genero\": \"Masculino\", \"mes\": \"Dezembro\", \"numero\": 3, \"regiao\": \"Nordeste\"}, {\"ano\": 2018, \"uf\": \"Sergipe\", \"genero\": \"Masculino\", \"mes\": \"Janeiro\", \"numero\": 0, \"regiao\": \"Nordeste\"}, {\"ano\": 2018, \"uf\": \"Sergipe\", \"genero\": \"Masculino\", \"mes\": \"Fevereiro\", \"numero\": 2, \"regiao\": \"Nordeste\"}, {\"ano\": 2018, \"uf\": \"Sergipe\", \"genero\": \"Masculino\", \"mes\": \"Mar\\u00e7o\", \"numero\": 0, \"regiao\": \"Nordeste\"}, {\"ano\": 2018, \"uf\": \"Sergipe\", \"genero\": \"Masculino\", \"mes\": \"Abril\", \"numero\": 0, \"regiao\": \"Nordeste\"}, {\"ano\": 2018, \"uf\": \"Sergipe\", \"genero\": \"Masculino\", \"mes\": \"Maio\", \"numero\": 2, \"regiao\": \"Nordeste\"}, {\"ano\": 2018, \"uf\": \"Sergipe\", \"genero\": \"Masculino\", \"mes\": \"Junho\", \"numero\": 1, \"regiao\": \"Nordeste\"}, {\"ano\": 2018, \"uf\": \"Sergipe\", \"genero\": \"Masculino\", \"mes\": \"Julho\", \"numero\": 1, \"regiao\": \"Nordeste\"}, {\"ano\": 2018, \"uf\": \"Sergipe\", \"genero\": \"Masculino\", \"mes\": \"Agosto\", \"numero\": 1, \"regiao\": \"Nordeste\"}, {\"ano\": 2018, \"uf\": \"Sergipe\", \"genero\": \"Masculino\", \"mes\": \"Setembro\", \"numero\": 0, \"regiao\": \"Nordeste\"}, {\"ano\": 2018, \"uf\": \"Sergipe\", \"genero\": \"Masculino\", \"mes\": \"Outubro\", \"numero\": 2, \"regiao\": \"Nordeste\"}, {\"ano\": 2018, \"uf\": \"Sergipe\", \"genero\": \"Masculino\", \"mes\": \"Novembro\", \"numero\": 3, \"regiao\": \"Nordeste\"}, {\"ano\": 2018, \"uf\": \"Sergipe\", \"genero\": \"Masculino\", \"mes\": \"Dezembro\", \"numero\": 8, \"regiao\": \"Nordeste\"}, {\"ano\": 2019, \"uf\": \"Sergipe\", \"genero\": \"Masculino\", \"mes\": \"Janeiro\", \"numero\": 1, \"regiao\": \"Nordeste\"}, {\"ano\": 2019, \"uf\": \"Sergipe\", \"genero\": \"Masculino\", \"mes\": \"Fevereiro\", \"numero\": 1, \"regiao\": \"Nordeste\"}, {\"ano\": 2019, \"uf\": \"Sergipe\", \"genero\": \"Masculino\", \"mes\": \"Mar\\u00e7o\", \"numero\": 2, \"regiao\": \"Nordeste\"}, {\"ano\": 2019, \"uf\": \"Sergipe\", \"genero\": \"Masculino\", \"mes\": \"Abril\", \"numero\": 1, \"regiao\": \"Nordeste\"}, {\"ano\": 2019, \"uf\": \"Sergipe\", \"genero\": \"Masculino\", \"mes\": \"Maio\", \"numero\": 2, \"regiao\": \"Nordeste\"}, {\"ano\": 2019, \"uf\": \"Sergipe\", \"genero\": \"Masculino\", \"mes\": \"Junho\", \"numero\": 1, \"regiao\": \"Nordeste\"}, {\"ano\": 2019, \"uf\": \"Sergipe\", \"genero\": \"Masculino\", \"mes\": \"Julho\", \"numero\": 1, \"regiao\": \"Nordeste\"}, {\"ano\": 2019, \"uf\": \"Sergipe\", \"genero\": \"Masculino\", \"mes\": \"Agosto\", \"numero\": 0, \"regiao\": \"Nordeste\"}, {\"ano\": 2019, \"uf\": \"Sergipe\", \"genero\": \"Masculino\", \"mes\": \"Setembro\", \"numero\": 4, \"regiao\": \"Nordeste\"}, {\"ano\": 2019, \"uf\": \"Sergipe\", \"genero\": \"Masculino\", \"mes\": \"Outubro\", \"numero\": 0, \"regiao\": \"Nordeste\"}, {\"ano\": 2019, \"uf\": \"Sergipe\", \"genero\": \"Masculino\", \"mes\": \"Novembro\", \"numero\": 1, \"regiao\": \"Nordeste\"}, {\"ano\": 2019, \"uf\": \"Sergipe\", \"genero\": \"Masculino\", \"mes\": \"Dezembro\", \"numero\": 0, \"regiao\": \"Nordeste\"}, {\"ano\": 2015, \"uf\": \"Sergipe\", \"genero\": \"Feminino\", \"mes\": \"Janeiro\", \"numero\": 0, \"regiao\": \"Nordeste\"}, {\"ano\": 2015, \"uf\": \"Sergipe\", \"genero\": \"Feminino\", \"mes\": \"Fevereiro\", \"numero\": 0, \"regiao\": \"Nordeste\"}, {\"ano\": 2015, \"uf\": \"Sergipe\", \"genero\": \"Feminino\", \"mes\": \"Mar\\u00e7o\", \"numero\": 2, \"regiao\": \"Nordeste\"}, {\"ano\": 2015, \"uf\": \"Sergipe\", \"genero\": \"Feminino\", \"mes\": \"Abril\", \"numero\": 5, \"regiao\": \"Nordeste\"}, {\"ano\": 2015, \"uf\": \"Sergipe\", \"genero\": \"Feminino\", \"mes\": \"Maio\", \"numero\": 2, \"regiao\": \"Nordeste\"}, {\"ano\": 2015, \"uf\": \"Sergipe\", \"genero\": \"Feminino\", \"mes\": \"Junho\", \"numero\": 2, \"regiao\": \"Nordeste\"}, {\"ano\": 2015, \"uf\": \"Sergipe\", \"genero\": \"Feminino\", \"mes\": \"Julho\", \"numero\": 0, \"regiao\": \"Nordeste\"}, {\"ano\": 2015, \"uf\": \"Sergipe\", \"genero\": \"Feminino\", \"mes\": \"Agosto\", \"numero\": 0, \"regiao\": \"Nordeste\"}, {\"ano\": 2015, \"uf\": \"Sergipe\", \"genero\": \"Feminino\", \"mes\": \"Setembro\", \"numero\": 2, \"regiao\": \"Nordeste\"}, {\"ano\": 2015, \"uf\": \"Sergipe\", \"genero\": \"Feminino\", \"mes\": \"Outubro\", \"numero\": 2, \"regiao\": \"Nordeste\"}, {\"ano\": 2015, \"uf\": \"Sergipe\", \"genero\": \"Feminino\", \"mes\": \"Novembro\", \"numero\": 0, \"regiao\": \"Nordeste\"}, {\"ano\": 2015, \"uf\": \"Sergipe\", \"genero\": \"Feminino\", \"mes\": \"Dezembro\", \"numero\": 1, \"regiao\": \"Nordeste\"}, {\"ano\": 2016, \"uf\": \"Sergipe\", \"genero\": \"Feminino\", \"mes\": \"Janeiro\", \"numero\": 1, \"regiao\": \"Nordeste\"}, {\"ano\": 2016, \"uf\": \"Sergipe\", \"genero\": \"Feminino\", \"mes\": \"Fevereiro\", \"numero\": 0, \"regiao\": \"Nordeste\"}, {\"ano\": 2016, \"uf\": \"Sergipe\", \"genero\": \"Feminino\", \"mes\": \"Mar\\u00e7o\", \"numero\": 1, \"regiao\": \"Nordeste\"}, {\"ano\": 2016, \"uf\": \"Sergipe\", \"genero\": \"Feminino\", \"mes\": \"Abril\", \"numero\": 0, \"regiao\": \"Nordeste\"}, {\"ano\": 2016, \"uf\": \"Sergipe\", \"genero\": \"Feminino\", \"mes\": \"Maio\", \"numero\": 1, \"regiao\": \"Nordeste\"}, {\"ano\": 2016, \"uf\": \"Sergipe\", \"genero\": \"Feminino\", \"mes\": \"Junho\", \"numero\": 0, \"regiao\": \"Nordeste\"}, {\"ano\": 2016, \"uf\": \"Sergipe\", \"genero\": \"Feminino\", \"mes\": \"Julho\", \"numero\": 1, \"regiao\": \"Nordeste\"}, {\"ano\": 2016, \"uf\": \"Sergipe\", \"genero\": \"Feminino\", \"mes\": \"Agosto\", \"numero\": 1, \"regiao\": \"Nordeste\"}, {\"ano\": 2016, \"uf\": \"Sergipe\", \"genero\": \"Feminino\", \"mes\": \"Setembro\", \"numero\": 2, \"regiao\": \"Nordeste\"}, {\"ano\": 2016, \"uf\": \"Sergipe\", \"genero\": \"Feminino\", \"mes\": \"Outubro\", \"numero\": 0, \"regiao\": \"Nordeste\"}, {\"ano\": 2016, \"uf\": \"Sergipe\", \"genero\": \"Feminino\", \"mes\": \"Novembro\", \"numero\": 2, \"regiao\": \"Nordeste\"}, {\"ano\": 2016, \"uf\": \"Sergipe\", \"genero\": \"Feminino\", \"mes\": \"Dezembro\", \"numero\": 1, \"regiao\": \"Nordeste\"}, {\"ano\": 2017, \"uf\": \"Sergipe\", \"genero\": \"Feminino\", \"mes\": \"Janeiro\", \"numero\": 2, \"regiao\": \"Nordeste\"}, {\"ano\": 2017, \"uf\": \"Sergipe\", \"genero\": \"Feminino\", \"mes\": \"Fevereiro\", \"numero\": 0, \"regiao\": \"Nordeste\"}, {\"ano\": 2017, \"uf\": \"Sergipe\", \"genero\": \"Feminino\", \"mes\": \"Mar\\u00e7o\", \"numero\": 0, \"regiao\": \"Nordeste\"}, {\"ano\": 2017, \"uf\": \"Sergipe\", \"genero\": \"Feminino\", \"mes\": \"Abril\", \"numero\": 3, \"regiao\": \"Nordeste\"}, {\"ano\": 2017, \"uf\": \"Sergipe\", \"genero\": \"Feminino\", \"mes\": \"Maio\", \"numero\": 1, \"regiao\": \"Nordeste\"}, {\"ano\": 2017, \"uf\": \"Sergipe\", \"genero\": \"Feminino\", \"mes\": \"Junho\", \"numero\": 0, \"regiao\": \"Nordeste\"}, {\"ano\": 2017, \"uf\": \"Sergipe\", \"genero\": \"Feminino\", \"mes\": \"Julho\", \"numero\": 0, \"regiao\": \"Nordeste\"}, {\"ano\": 2017, \"uf\": \"Sergipe\", \"genero\": \"Feminino\", \"mes\": \"Agosto\", \"numero\": 1, \"regiao\": \"Nordeste\"}, {\"ano\": 2017, \"uf\": \"Sergipe\", \"genero\": \"Feminino\", \"mes\": \"Setembro\", \"numero\": 0, \"regiao\": \"Nordeste\"}, {\"ano\": 2017, \"uf\": \"Sergipe\", \"genero\": \"Feminino\", \"mes\": \"Outubro\", \"numero\": 1, \"regiao\": \"Nordeste\"}, {\"ano\": 2017, \"uf\": \"Sergipe\", \"genero\": \"Feminino\", \"mes\": \"Novembro\", \"numero\": 0, \"regiao\": \"Nordeste\"}, {\"ano\": 2017, \"uf\": \"Sergipe\", \"genero\": \"Feminino\", \"mes\": \"Dezembro\", \"numero\": 3, \"regiao\": \"Nordeste\"}, {\"ano\": 2018, \"uf\": \"Sergipe\", \"genero\": \"Feminino\", \"mes\": \"Janeiro\", \"numero\": 1, \"regiao\": \"Nordeste\"}, {\"ano\": 2018, \"uf\": \"Sergipe\", \"genero\": \"Feminino\", \"mes\": \"Fevereiro\", \"numero\": 0, \"regiao\": \"Nordeste\"}, {\"ano\": 2018, \"uf\": \"Sergipe\", \"genero\": \"Feminino\", \"mes\": \"Mar\\u00e7o\", \"numero\": 3, \"regiao\": \"Nordeste\"}, {\"ano\": 2018, \"uf\": \"Sergipe\", \"genero\": \"Feminino\", \"mes\": \"Abril\", \"numero\": 0, \"regiao\": \"Nordeste\"}, {\"ano\": 2018, \"uf\": \"Sergipe\", \"genero\": \"Feminino\", \"mes\": \"Maio\", \"numero\": 0, \"regiao\": \"Nordeste\"}, {\"ano\": 2018, \"uf\": \"Sergipe\", \"genero\": \"Feminino\", \"mes\": \"Junho\", \"numero\": 0, \"regiao\": \"Nordeste\"}, {\"ano\": 2018, \"uf\": \"Sergipe\", \"genero\": \"Feminino\", \"mes\": \"Julho\", \"numero\": 3, \"regiao\": \"Nordeste\"}, {\"ano\": 2018, \"uf\": \"Sergipe\", \"genero\": \"Feminino\", \"mes\": \"Agosto\", \"numero\": 0, \"regiao\": \"Nordeste\"}, {\"ano\": 2018, \"uf\": \"Sergipe\", \"genero\": \"Feminino\", \"mes\": \"Setembro\", \"numero\": 3, \"regiao\": \"Nordeste\"}, {\"ano\": 2018, \"uf\": \"Sergipe\", \"genero\": \"Feminino\", \"mes\": \"Outubro\", \"numero\": 5, \"regiao\": \"Nordeste\"}, {\"ano\": 2018, \"uf\": \"Sergipe\", \"genero\": \"Feminino\", \"mes\": \"Novembro\", \"numero\": 3, \"regiao\": \"Nordeste\"}, {\"ano\": 2018, \"uf\": \"Sergipe\", \"genero\": \"Feminino\", \"mes\": \"Dezembro\", \"numero\": 5, \"regiao\": \"Nordeste\"}, {\"ano\": 2019, \"uf\": \"Sergipe\", \"genero\": \"Feminino\", \"mes\": \"Janeiro\", \"numero\": 3, \"regiao\": \"Nordeste\"}, {\"ano\": 2019, \"uf\": \"Sergipe\", \"genero\": \"Feminino\", \"mes\": \"Fevereiro\", \"numero\": 3, \"regiao\": \"Nordeste\"}, {\"ano\": 2019, \"uf\": \"Sergipe\", \"genero\": \"Feminino\", \"mes\": \"Mar\\u00e7o\", \"numero\": 2, \"regiao\": \"Nordeste\"}, {\"ano\": 2019, \"uf\": \"Sergipe\", \"genero\": \"Feminino\", \"mes\": \"Abril\", \"numero\": 3, \"regiao\": \"Nordeste\"}, {\"ano\": 2019, \"uf\": \"Sergipe\", \"genero\": \"Feminino\", \"mes\": \"Maio\", \"numero\": 1, \"regiao\": \"Nordeste\"}, {\"ano\": 2019, \"uf\": \"Sergipe\", \"genero\": \"Feminino\", \"mes\": \"Junho\", \"numero\": 0, \"regiao\": \"Nordeste\"}, {\"ano\": 2019, \"uf\": \"Sergipe\", \"genero\": \"Feminino\", \"mes\": \"Julho\", \"numero\": 1, \"regiao\": \"Nordeste\"}, {\"ano\": 2019, \"uf\": \"Sergipe\", \"genero\": \"Feminino\", \"mes\": \"Agosto\", \"numero\": 2, \"regiao\": \"Nordeste\"}, {\"ano\": 2019, \"uf\": \"Sergipe\", \"genero\": \"Feminino\", \"mes\": \"Setembro\", \"numero\": 1, \"regiao\": \"Nordeste\"}, {\"ano\": 2019, \"uf\": \"Sergipe\", \"genero\": \"Feminino\", \"mes\": \"Outubro\", \"numero\": 1, \"regiao\": \"Nordeste\"}, {\"ano\": 2019, \"uf\": \"Sergipe\", \"genero\": \"Feminino\", \"mes\": \"Novembro\", \"numero\": 1, \"regiao\": \"Nordeste\"}, {\"ano\": 2019, \"uf\": \"Sergipe\", \"genero\": \"Feminino\", \"mes\": \"Dezembro\", \"numero\": 3, \"regiao\": \"Nordeste\"}, {\"ano\": 2014, \"uf\": \"Bahia\", \"genero\": \"Masculino\", \"mes\": \"Janeiro\", \"numero\": 6, \"regiao\": \"Nordeste\"}, {\"ano\": 2014, \"uf\": \"Bahia\", \"genero\": \"Masculino\", \"mes\": \"Fevereiro\", \"numero\": 7, \"regiao\": \"Nordeste\"}, {\"ano\": 2014, \"uf\": \"Bahia\", \"genero\": \"Masculino\", \"mes\": \"Mar\\u00e7o\", \"numero\": 13, \"regiao\": \"Nordeste\"}, {\"ano\": 2014, \"uf\": \"Bahia\", \"genero\": \"Masculino\", \"mes\": \"Abril\", \"numero\": 8, \"regiao\": \"Nordeste\"}, {\"ano\": 2014, \"uf\": \"Bahia\", \"genero\": \"Masculino\", \"mes\": \"Maio\", \"numero\": 4, \"regiao\": \"Nordeste\"}, {\"ano\": 2014, \"uf\": \"Bahia\", \"genero\": \"Masculino\", \"mes\": \"Junho\", \"numero\": 5, \"regiao\": \"Nordeste\"}, {\"ano\": 2014, \"uf\": \"Bahia\", \"genero\": \"Masculino\", \"mes\": \"Julho\", \"numero\": 12, \"regiao\": \"Nordeste\"}, {\"ano\": 2014, \"uf\": \"Bahia\", \"genero\": \"Masculino\", \"mes\": \"Agosto\", \"numero\": 9, \"regiao\": \"Nordeste\"}, {\"ano\": 2014, \"uf\": \"Bahia\", \"genero\": \"Masculino\", \"mes\": \"Setembro\", \"numero\": 5, \"regiao\": \"Nordeste\"}, {\"ano\": 2014, \"uf\": \"Bahia\", \"genero\": \"Masculino\", \"mes\": \"Outubro\", \"numero\": 5, \"regiao\": \"Nordeste\"}, {\"ano\": 2014, \"uf\": \"Bahia\", \"genero\": \"Masculino\", \"mes\": \"Novembro\", \"numero\": 9, \"regiao\": \"Nordeste\"}, {\"ano\": 2014, \"uf\": \"Bahia\", \"genero\": \"Masculino\", \"mes\": \"Dezembro\", \"numero\": 9, \"regiao\": \"Nordeste\"}, {\"ano\": 2014, \"uf\": \"Bahia\", \"genero\": \"Feminino\", \"mes\": \"Janeiro\", \"numero\": 2, \"regiao\": \"Nordeste\"}, {\"ano\": 2014, \"uf\": \"Bahia\", \"genero\": \"Feminino\", \"mes\": \"Fevereiro\", \"numero\": 4, \"regiao\": \"Nordeste\"}, {\"ano\": 2014, \"uf\": \"Bahia\", \"genero\": \"Feminino\", \"mes\": \"Mar\\u00e7o\", \"numero\": 3, \"regiao\": \"Nordeste\"}, {\"ano\": 2014, \"uf\": \"Bahia\", \"genero\": \"Feminino\", \"mes\": \"Abril\", \"numero\": 1, \"regiao\": \"Nordeste\"}, {\"ano\": 2014, \"uf\": \"Bahia\", \"genero\": \"Feminino\", \"mes\": \"Maio\", \"numero\": 4, \"regiao\": \"Nordeste\"}, {\"ano\": 2014, \"uf\": \"Bahia\", \"genero\": \"Feminino\", \"mes\": \"Junho\", \"numero\": 1, \"regiao\": \"Nordeste\"}, {\"ano\": 2014, \"uf\": \"Bahia\", \"genero\": \"Feminino\", \"mes\": \"Julho\", \"numero\": 4, \"regiao\": \"Nordeste\"}, {\"ano\": 2014, \"uf\": \"Bahia\", \"genero\": \"Feminino\", \"mes\": \"Agosto\", \"numero\": 3, \"regiao\": \"Nordeste\"}, {\"ano\": 2014, \"uf\": \"Bahia\", \"genero\": \"Feminino\", \"mes\": \"Setembro\", \"numero\": 5, \"regiao\": \"Nordeste\"}, {\"ano\": 2014, \"uf\": \"Bahia\", \"genero\": \"Feminino\", \"mes\": \"Outubro\", \"numero\": 4, \"regiao\": \"Nordeste\"}, {\"ano\": 2014, \"uf\": \"Bahia\", \"genero\": \"Feminino\", \"mes\": \"Novembro\", \"numero\": 5, \"regiao\": \"Nordeste\"}, {\"ano\": 2014, \"uf\": \"Bahia\", \"genero\": \"Feminino\", \"mes\": \"Dezembro\", \"numero\": 4, \"regiao\": \"Nordeste\"}, {\"ano\": 2013, \"uf\": \"Bahia\", \"genero\": \"Masculino\", \"mes\": \"Janeiro\", \"numero\": 1, \"regiao\": \"Nordeste\"}, {\"ano\": 2013, \"uf\": \"Bahia\", \"genero\": \"Masculino\", \"mes\": \"Fevereiro\", \"numero\": 5, \"regiao\": \"Nordeste\"}, {\"ano\": 2013, \"uf\": \"Bahia\", \"genero\": \"Masculino\", \"mes\": \"Mar\\u00e7o\", \"numero\": 4, \"regiao\": \"Nordeste\"}, {\"ano\": 2013, \"uf\": \"Bahia\", \"genero\": \"Masculino\", \"mes\": \"Abril\", \"numero\": 2, \"regiao\": \"Nordeste\"}, {\"ano\": 2013, \"uf\": \"Bahia\", \"genero\": \"Masculino\", \"mes\": \"Maio\", \"numero\": 6, \"regiao\": \"Nordeste\"}, {\"ano\": 2013, \"uf\": \"Bahia\", \"genero\": \"Masculino\", \"mes\": \"Junho\", \"numero\": 3, \"regiao\": \"Nordeste\"}, {\"ano\": 2013, \"uf\": \"Bahia\", \"genero\": \"Masculino\", \"mes\": \"Julho\", \"numero\": 5, \"regiao\": \"Nordeste\"}, {\"ano\": 2013, \"uf\": \"Bahia\", \"genero\": \"Masculino\", \"mes\": \"Agosto\", \"numero\": 3, \"regiao\": \"Nordeste\"}, {\"ano\": 2013, \"uf\": \"Bahia\", \"genero\": \"Masculino\", \"mes\": \"Setembro\", \"numero\": 3, \"regiao\": \"Nordeste\"}, {\"ano\": 2013, \"uf\": \"Bahia\", \"genero\": \"Masculino\", \"mes\": \"Outubro\", \"numero\": 10, \"regiao\": \"Nordeste\"}, {\"ano\": 2013, \"uf\": \"Bahia\", \"genero\": \"Masculino\", \"mes\": \"Novembro\", \"numero\": 6, \"regiao\": \"Nordeste\"}, {\"ano\": 2013, \"uf\": \"Bahia\", \"genero\": \"Masculino\", \"mes\": \"Dezembro\", \"numero\": 5, \"regiao\": \"Nordeste\"}, {\"ano\": 2013, \"uf\": \"Bahia\", \"genero\": \"Feminino\", \"mes\": \"Janeiro\", \"numero\": 4, \"regiao\": \"Nordeste\"}, {\"ano\": 2013, \"uf\": \"Bahia\", \"genero\": \"Feminino\", \"mes\": \"Fevereiro\", \"numero\": 3, \"regiao\": \"Nordeste\"}, {\"ano\": 2013, \"uf\": \"Bahia\", \"genero\": \"Feminino\", \"mes\": \"Mar\\u00e7o\", \"numero\": 10, \"regiao\": \"Nordeste\"}, {\"ano\": 2013, \"uf\": \"Bahia\", \"genero\": \"Feminino\", \"mes\": \"Abril\", \"numero\": 4, \"regiao\": \"Nordeste\"}, {\"ano\": 2013, \"uf\": \"Bahia\", \"genero\": \"Feminino\", \"mes\": \"Maio\", \"numero\": 1, \"regiao\": \"Nordeste\"}, {\"ano\": 2013, \"uf\": \"Bahia\", \"genero\": \"Feminino\", \"mes\": \"Junho\", \"numero\": 4, \"regiao\": \"Nordeste\"}, {\"ano\": 2013, \"uf\": \"Bahia\", \"genero\": \"Feminino\", \"mes\": \"Julho\", \"numero\": 2, \"regiao\": \"Nordeste\"}, {\"ano\": 2013, \"uf\": \"Bahia\", \"genero\": \"Feminino\", \"mes\": \"Agosto\", \"numero\": 4, \"regiao\": \"Nordeste\"}, {\"ano\": 2013, \"uf\": \"Bahia\", \"genero\": \"Feminino\", \"mes\": \"Setembro\", \"numero\": 1, \"regiao\": \"Nordeste\"}, {\"ano\": 2013, \"uf\": \"Bahia\", \"genero\": \"Feminino\", \"mes\": \"Outubro\", \"numero\": 5, \"regiao\": \"Nordeste\"}, {\"ano\": 2013, \"uf\": \"Bahia\", \"genero\": \"Feminino\", \"mes\": \"Novembro\", \"numero\": 2, \"regiao\": \"Nordeste\"}, {\"ano\": 2013, \"uf\": \"Bahia\", \"genero\": \"Feminino\", \"mes\": \"Dezembro\", \"numero\": 6, \"regiao\": \"Nordeste\"}, {\"ano\": 2015, \"uf\": \"Bahia\", \"genero\": \"Masculino\", \"mes\": \"Janeiro\", \"numero\": 2, \"regiao\": \"Nordeste\"}, {\"ano\": 2015, \"uf\": \"Bahia\", \"genero\": \"Masculino\", \"mes\": \"Fevereiro\", \"numero\": 2, \"regiao\": \"Nordeste\"}, {\"ano\": 2015, \"uf\": \"Bahia\", \"genero\": \"Masculino\", \"mes\": \"Mar\\u00e7o\", \"numero\": 5, \"regiao\": \"Nordeste\"}, {\"ano\": 2015, \"uf\": \"Bahia\", \"genero\": \"Masculino\", \"mes\": \"Abril\", \"numero\": 5, \"regiao\": \"Nordeste\"}, {\"ano\": 2015, \"uf\": \"Bahia\", \"genero\": \"Masculino\", \"mes\": \"Maio\", \"numero\": 7, \"regiao\": \"Nordeste\"}, {\"ano\": 2015, \"uf\": \"Bahia\", \"genero\": \"Masculino\", \"mes\": \"Junho\", \"numero\": 6, \"regiao\": \"Nordeste\"}, {\"ano\": 2015, \"uf\": \"Bahia\", \"genero\": \"Masculino\", \"mes\": \"Julho\", \"numero\": 4, \"regiao\": \"Nordeste\"}, {\"ano\": 2015, \"uf\": \"Bahia\", \"genero\": \"Masculino\", \"mes\": \"Agosto\", \"numero\": 8, \"regiao\": \"Nordeste\"}, {\"ano\": 2015, \"uf\": \"Bahia\", \"genero\": \"Masculino\", \"mes\": \"Setembro\", \"numero\": 4, \"regiao\": \"Nordeste\"}, {\"ano\": 2015, \"uf\": \"Bahia\", \"genero\": \"Masculino\", \"mes\": \"Outubro\", \"numero\": 4, \"regiao\": \"Nordeste\"}, {\"ano\": 2015, \"uf\": \"Bahia\", \"genero\": \"Masculino\", \"mes\": \"Novembro\", \"numero\": 6, \"regiao\": \"Nordeste\"}, {\"ano\": 2015, \"uf\": \"Bahia\", \"genero\": \"Masculino\", \"mes\": \"Dezembro\", \"numero\": 3, \"regiao\": \"Nordeste\"}, {\"ano\": 2016, \"uf\": \"Bahia\", \"genero\": \"Masculino\", \"mes\": \"Janeiro\", \"numero\": 10, \"regiao\": \"Nordeste\"}, {\"ano\": 2016, \"uf\": \"Bahia\", \"genero\": \"Masculino\", \"mes\": \"Fevereiro\", \"numero\": 6, \"regiao\": \"Nordeste\"}, {\"ano\": 2016, \"uf\": \"Bahia\", \"genero\": \"Masculino\", \"mes\": \"Mar\\u00e7o\", \"numero\": 11, \"regiao\": \"Nordeste\"}, {\"ano\": 2016, \"uf\": \"Bahia\", \"genero\": \"Masculino\", \"mes\": \"Abril\", \"numero\": 8, \"regiao\": \"Nordeste\"}, {\"ano\": 2016, \"uf\": \"Bahia\", \"genero\": \"Masculino\", \"mes\": \"Maio\", \"numero\": 3, \"regiao\": \"Nordeste\"}, {\"ano\": 2016, \"uf\": \"Bahia\", \"genero\": \"Masculino\", \"mes\": \"Junho\", \"numero\": 3, \"regiao\": \"Nordeste\"}, {\"ano\": 2016, \"uf\": \"Bahia\", \"genero\": \"Masculino\", \"mes\": \"Julho\", \"numero\": 8, \"regiao\": \"Nordeste\"}, {\"ano\": 2016, \"uf\": \"Bahia\", \"genero\": \"Masculino\", \"mes\": \"Agosto\", \"numero\": 2, \"regiao\": \"Nordeste\"}, {\"ano\": 2016, \"uf\": \"Bahia\", \"genero\": \"Masculino\", \"mes\": \"Setembro\", \"numero\": 10, \"regiao\": \"Nordeste\"}, {\"ano\": 2016, \"uf\": \"Bahia\", \"genero\": \"Masculino\", \"mes\": \"Outubro\", \"numero\": 6, \"regiao\": \"Nordeste\"}, {\"ano\": 2016, \"uf\": \"Bahia\", \"genero\": \"Masculino\", \"mes\": \"Novembro\", \"numero\": 4, \"regiao\": \"Nordeste\"}, {\"ano\": 2016, \"uf\": \"Bahia\", \"genero\": \"Masculino\", \"mes\": \"Dezembro\", \"numero\": 8, \"regiao\": \"Nordeste\"}, {\"ano\": 2017, \"uf\": \"Bahia\", \"genero\": \"Masculino\", \"mes\": \"Janeiro\", \"numero\": 4, \"regiao\": \"Nordeste\"}, {\"ano\": 2017, \"uf\": \"Bahia\", \"genero\": \"Masculino\", \"mes\": \"Fevereiro\", \"numero\": 6, \"regiao\": \"Nordeste\"}, {\"ano\": 2017, \"uf\": \"Bahia\", \"genero\": \"Masculino\", \"mes\": \"Mar\\u00e7o\", \"numero\": 8, \"regiao\": \"Nordeste\"}, {\"ano\": 2017, \"uf\": \"Bahia\", \"genero\": \"Masculino\", \"mes\": \"Abril\", \"numero\": 6, \"regiao\": \"Nordeste\"}, {\"ano\": 2017, \"uf\": \"Bahia\", \"genero\": \"Masculino\", \"mes\": \"Maio\", \"numero\": 7, \"regiao\": \"Nordeste\"}, {\"ano\": 2017, \"uf\": \"Bahia\", \"genero\": \"Masculino\", \"mes\": \"Junho\", \"numero\": 1, \"regiao\": \"Nordeste\"}, {\"ano\": 2017, \"uf\": \"Bahia\", \"genero\": \"Masculino\", \"mes\": \"Julho\", \"numero\": 4, \"regiao\": \"Nordeste\"}, {\"ano\": 2017, \"uf\": \"Bahia\", \"genero\": \"Masculino\", \"mes\": \"Agosto\", \"numero\": 3, \"regiao\": \"Nordeste\"}, {\"ano\": 2017, \"uf\": \"Bahia\", \"genero\": \"Masculino\", \"mes\": \"Setembro\", \"numero\": 4, \"regiao\": \"Nordeste\"}, {\"ano\": 2017, \"uf\": \"Bahia\", \"genero\": \"Masculino\", \"mes\": \"Outubro\", \"numero\": 3, \"regiao\": \"Nordeste\"}, {\"ano\": 2017, \"uf\": \"Bahia\", \"genero\": \"Masculino\", \"mes\": \"Novembro\", \"numero\": 7, \"regiao\": \"Nordeste\"}, {\"ano\": 2017, \"uf\": \"Bahia\", \"genero\": \"Masculino\", \"mes\": \"Dezembro\", \"numero\": 6, \"regiao\": \"Nordeste\"}, {\"ano\": 2018, \"uf\": \"Bahia\", \"genero\": \"Masculino\", \"mes\": \"Janeiro\", \"numero\": 3, \"regiao\": \"Nordeste\"}, {\"ano\": 2018, \"uf\": \"Bahia\", \"genero\": \"Masculino\", \"mes\": \"Fevereiro\", \"numero\": 9, \"regiao\": \"Nordeste\"}, {\"ano\": 2018, \"uf\": \"Bahia\", \"genero\": \"Masculino\", \"mes\": \"Mar\\u00e7o\", \"numero\": 10, \"regiao\": \"Nordeste\"}, {\"ano\": 2018, \"uf\": \"Bahia\", \"genero\": \"Masculino\", \"mes\": \"Abril\", \"numero\": 8, \"regiao\": \"Nordeste\"}, {\"ano\": 2018, \"uf\": \"Bahia\", \"genero\": \"Masculino\", \"mes\": \"Maio\", \"numero\": 5, \"regiao\": \"Nordeste\"}, {\"ano\": 2018, \"uf\": \"Bahia\", \"genero\": \"Masculino\", \"mes\": \"Junho\", \"numero\": 15, \"regiao\": \"Nordeste\"}, {\"ano\": 2018, \"uf\": \"Bahia\", \"genero\": \"Masculino\", \"mes\": \"Julho\", \"numero\": 7, \"regiao\": \"Nordeste\"}, {\"ano\": 2018, \"uf\": \"Bahia\", \"genero\": \"Masculino\", \"mes\": \"Agosto\", \"numero\": 11, \"regiao\": \"Nordeste\"}, {\"ano\": 2018, \"uf\": \"Bahia\", \"genero\": \"Masculino\", \"mes\": \"Setembro\", \"numero\": 8, \"regiao\": \"Nordeste\"}, {\"ano\": 2018, \"uf\": \"Bahia\", \"genero\": \"Masculino\", \"mes\": \"Outubro\", \"numero\": 5, \"regiao\": \"Nordeste\"}, {\"ano\": 2018, \"uf\": \"Bahia\", \"genero\": \"Masculino\", \"mes\": \"Novembro\", \"numero\": 14, \"regiao\": \"Nordeste\"}, {\"ano\": 2018, \"uf\": \"Bahia\", \"genero\": \"Masculino\", \"mes\": \"Dezembro\", \"numero\": 23, \"regiao\": \"Nordeste\"}, {\"ano\": 2019, \"uf\": \"Bahia\", \"genero\": \"Masculino\", \"mes\": \"Janeiro\", \"numero\": 9, \"regiao\": \"Nordeste\"}, {\"ano\": 2019, \"uf\": \"Bahia\", \"genero\": \"Masculino\", \"mes\": \"Fevereiro\", \"numero\": 12, \"regiao\": \"Nordeste\"}, {\"ano\": 2019, \"uf\": \"Bahia\", \"genero\": \"Masculino\", \"mes\": \"Mar\\u00e7o\", \"numero\": 12, \"regiao\": \"Nordeste\"}, {\"ano\": 2019, \"uf\": \"Bahia\", \"genero\": \"Masculino\", \"mes\": \"Abril\", \"numero\": 11, \"regiao\": \"Nordeste\"}, {\"ano\": 2019, \"uf\": \"Bahia\", \"genero\": \"Masculino\", \"mes\": \"Maio\", \"numero\": 8, \"regiao\": \"Nordeste\"}, {\"ano\": 2019, \"uf\": \"Bahia\", \"genero\": \"Masculino\", \"mes\": \"Junho\", \"numero\": 7, \"regiao\": \"Nordeste\"}, {\"ano\": 2019, \"uf\": \"Bahia\", \"genero\": \"Masculino\", \"mes\": \"Julho\", \"numero\": 10, \"regiao\": \"Nordeste\"}, {\"ano\": 2019, \"uf\": \"Bahia\", \"genero\": \"Masculino\", \"mes\": \"Agosto\", \"numero\": 12, \"regiao\": \"Nordeste\"}, {\"ano\": 2019, \"uf\": \"Bahia\", \"genero\": \"Masculino\", \"mes\": \"Setembro\", \"numero\": 6, \"regiao\": \"Nordeste\"}, {\"ano\": 2019, \"uf\": \"Bahia\", \"genero\": \"Masculino\", \"mes\": \"Outubro\", \"numero\": 16, \"regiao\": \"Nordeste\"}, {\"ano\": 2019, \"uf\": \"Bahia\", \"genero\": \"Masculino\", \"mes\": \"Novembro\", \"numero\": 7, \"regiao\": \"Nordeste\"}, {\"ano\": 2019, \"uf\": \"Bahia\", \"genero\": \"Masculino\", \"mes\": \"Dezembro\", \"numero\": 16, \"regiao\": \"Nordeste\"}, {\"ano\": 2015, \"uf\": \"Bahia\", \"genero\": \"Feminino\", \"mes\": \"Janeiro\", \"numero\": 5, \"regiao\": \"Nordeste\"}, {\"ano\": 2015, \"uf\": \"Bahia\", \"genero\": \"Feminino\", \"mes\": \"Fevereiro\", \"numero\": 7, \"regiao\": \"Nordeste\"}, {\"ano\": 2015, \"uf\": \"Bahia\", \"genero\": \"Feminino\", \"mes\": \"Mar\\u00e7o\", \"numero\": 2, \"regiao\": \"Nordeste\"}, {\"ano\": 2015, \"uf\": \"Bahia\", \"genero\": \"Feminino\", \"mes\": \"Abril\", \"numero\": 6, \"regiao\": \"Nordeste\"}, {\"ano\": 2015, \"uf\": \"Bahia\", \"genero\": \"Feminino\", \"mes\": \"Maio\", \"numero\": 3, \"regiao\": \"Nordeste\"}, {\"ano\": 2015, \"uf\": \"Bahia\", \"genero\": \"Feminino\", \"mes\": \"Junho\", \"numero\": 4, \"regiao\": \"Nordeste\"}, {\"ano\": 2015, \"uf\": \"Bahia\", \"genero\": \"Feminino\", \"mes\": \"Julho\", \"numero\": 5, \"regiao\": \"Nordeste\"}, {\"ano\": 2015, \"uf\": \"Bahia\", \"genero\": \"Feminino\", \"mes\": \"Agosto\", \"numero\": 0, \"regiao\": \"Nordeste\"}, {\"ano\": 2015, \"uf\": \"Bahia\", \"genero\": \"Feminino\", \"mes\": \"Setembro\", \"numero\": 10, \"regiao\": \"Nordeste\"}, {\"ano\": 2015, \"uf\": \"Bahia\", \"genero\": \"Feminino\", \"mes\": \"Outubro\", \"numero\": 6, \"regiao\": \"Nordeste\"}, {\"ano\": 2015, \"uf\": \"Bahia\", \"genero\": \"Feminino\", \"mes\": \"Novembro\", \"numero\": 7, \"regiao\": \"Nordeste\"}, {\"ano\": 2015, \"uf\": \"Bahia\", \"genero\": \"Feminino\", \"mes\": \"Dezembro\", \"numero\": 6, \"regiao\": \"Nordeste\"}, {\"ano\": 2016, \"uf\": \"Bahia\", \"genero\": \"Feminino\", \"mes\": \"Janeiro\", \"numero\": 3, \"regiao\": \"Nordeste\"}, {\"ano\": 2016, \"uf\": \"Bahia\", \"genero\": \"Feminino\", \"mes\": \"Fevereiro\", \"numero\": 4, \"regiao\": \"Nordeste\"}, {\"ano\": 2016, \"uf\": \"Bahia\", \"genero\": \"Feminino\", \"mes\": \"Mar\\u00e7o\", \"numero\": 8, \"regiao\": \"Nordeste\"}, {\"ano\": 2016, \"uf\": \"Bahia\", \"genero\": \"Feminino\", \"mes\": \"Abril\", \"numero\": 6, \"regiao\": \"Nordeste\"}, {\"ano\": 2016, \"uf\": \"Bahia\", \"genero\": \"Feminino\", \"mes\": \"Maio\", \"numero\": 7, \"regiao\": \"Nordeste\"}, {\"ano\": 2016, \"uf\": \"Bahia\", \"genero\": \"Feminino\", \"mes\": \"Junho\", \"numero\": 6, \"regiao\": \"Nordeste\"}, {\"ano\": 2016, \"uf\": \"Bahia\", \"genero\": \"Feminino\", \"mes\": \"Julho\", \"numero\": 9, \"regiao\": \"Nordeste\"}, {\"ano\": 2016, \"uf\": \"Bahia\", \"genero\": \"Feminino\", \"mes\": \"Agosto\", \"numero\": 4, \"regiao\": \"Nordeste\"}, {\"ano\": 2016, \"uf\": \"Bahia\", \"genero\": \"Feminino\", \"mes\": \"Setembro\", \"numero\": 6, \"regiao\": \"Nordeste\"}, {\"ano\": 2016, \"uf\": \"Bahia\", \"genero\": \"Feminino\", \"mes\": \"Outubro\", \"numero\": 11, \"regiao\": \"Nordeste\"}, {\"ano\": 2016, \"uf\": \"Bahia\", \"genero\": \"Feminino\", \"mes\": \"Novembro\", \"numero\": 11, \"regiao\": \"Nordeste\"}, {\"ano\": 2016, \"uf\": \"Bahia\", \"genero\": \"Feminino\", \"mes\": \"Dezembro\", \"numero\": 13, \"regiao\": \"Nordeste\"}, {\"ano\": 2017, \"uf\": \"Bahia\", \"genero\": \"Feminino\", \"mes\": \"Janeiro\", \"numero\": 2, \"regiao\": \"Nordeste\"}, {\"ano\": 2017, \"uf\": \"Bahia\", \"genero\": \"Feminino\", \"mes\": \"Fevereiro\", \"numero\": 2, \"regiao\": \"Nordeste\"}, {\"ano\": 2017, \"uf\": \"Bahia\", \"genero\": \"Feminino\", \"mes\": \"Mar\\u00e7o\", \"numero\": 4, \"regiao\": \"Nordeste\"}, {\"ano\": 2017, \"uf\": \"Bahia\", \"genero\": \"Feminino\", \"mes\": \"Abril\", \"numero\": 4, \"regiao\": \"Nordeste\"}, {\"ano\": 2017, \"uf\": \"Bahia\", \"genero\": \"Feminino\", \"mes\": \"Maio\", \"numero\": 6, \"regiao\": \"Nordeste\"}, {\"ano\": 2017, \"uf\": \"Bahia\", \"genero\": \"Feminino\", \"mes\": \"Junho\", \"numero\": 6, \"regiao\": \"Nordeste\"}, {\"ano\": 2017, \"uf\": \"Bahia\", \"genero\": \"Feminino\", \"mes\": \"Julho\", \"numero\": 9, \"regiao\": \"Nordeste\"}, {\"ano\": 2017, \"uf\": \"Bahia\", \"genero\": \"Feminino\", \"mes\": \"Agosto\", \"numero\": 9, \"regiao\": \"Nordeste\"}, {\"ano\": 2017, \"uf\": \"Bahia\", \"genero\": \"Feminino\", \"mes\": \"Setembro\", \"numero\": 10, \"regiao\": \"Nordeste\"}, {\"ano\": 2017, \"uf\": \"Bahia\", \"genero\": \"Feminino\", \"mes\": \"Outubro\", \"numero\": 14, \"regiao\": \"Nordeste\"}, {\"ano\": 2017, \"uf\": \"Bahia\", \"genero\": \"Feminino\", \"mes\": \"Novembro\", \"numero\": 7, \"regiao\": \"Nordeste\"}, {\"ano\": 2017, \"uf\": \"Bahia\", \"genero\": \"Feminino\", \"mes\": \"Dezembro\", \"numero\": 8, \"regiao\": \"Nordeste\"}, {\"ano\": 2018, \"uf\": \"Bahia\", \"genero\": \"Feminino\", \"mes\": \"Janeiro\", \"numero\": 8, \"regiao\": \"Nordeste\"}, {\"ano\": 2018, \"uf\": \"Bahia\", \"genero\": \"Feminino\", \"mes\": \"Fevereiro\", \"numero\": 7, \"regiao\": \"Nordeste\"}, {\"ano\": 2018, \"uf\": \"Bahia\", \"genero\": \"Feminino\", \"mes\": \"Mar\\u00e7o\", \"numero\": 0, \"regiao\": \"Nordeste\"}, {\"ano\": 2018, \"uf\": \"Bahia\", \"genero\": \"Feminino\", \"mes\": \"Abril\", \"numero\": 5, \"regiao\": \"Nordeste\"}, {\"ano\": 2018, \"uf\": \"Bahia\", \"genero\": \"Feminino\", \"mes\": \"Maio\", \"numero\": 12, \"regiao\": \"Nordeste\"}, {\"ano\": 2018, \"uf\": \"Bahia\", \"genero\": \"Feminino\", \"mes\": \"Junho\", \"numero\": 15, \"regiao\": \"Nordeste\"}, {\"ano\": 2018, \"uf\": \"Bahia\", \"genero\": \"Feminino\", \"mes\": \"Julho\", \"numero\": 14, \"regiao\": \"Nordeste\"}, {\"ano\": 2018, \"uf\": \"Bahia\", \"genero\": \"Feminino\", \"mes\": \"Agosto\", \"numero\": 5, \"regiao\": \"Nordeste\"}, {\"ano\": 2018, \"uf\": \"Bahia\", \"genero\": \"Feminino\", \"mes\": \"Setembro\", \"numero\": 13, \"regiao\": \"Nordeste\"}, {\"ano\": 2018, \"uf\": \"Bahia\", \"genero\": \"Feminino\", \"mes\": \"Outubro\", \"numero\": 14, \"regiao\": \"Nordeste\"}, {\"ano\": 2018, \"uf\": \"Bahia\", \"genero\": \"Feminino\", \"mes\": \"Novembro\", \"numero\": 17, \"regiao\": \"Nordeste\"}, {\"ano\": 2018, \"uf\": \"Bahia\", \"genero\": \"Feminino\", \"mes\": \"Dezembro\", \"numero\": 60, \"regiao\": \"Nordeste\"}, {\"ano\": 2019, \"uf\": \"Bahia\", \"genero\": \"Feminino\", \"mes\": \"Janeiro\", \"numero\": 23, \"regiao\": \"Nordeste\"}, {\"ano\": 2019, \"uf\": \"Bahia\", \"genero\": \"Feminino\", \"mes\": \"Fevereiro\", \"numero\": 29, \"regiao\": \"Nordeste\"}, {\"ano\": 2019, \"uf\": \"Bahia\", \"genero\": \"Feminino\", \"mes\": \"Mar\\u00e7o\", \"numero\": 7, \"regiao\": \"Nordeste\"}, {\"ano\": 2019, \"uf\": \"Bahia\", \"genero\": \"Feminino\", \"mes\": \"Abril\", \"numero\": 13, \"regiao\": \"Nordeste\"}, {\"ano\": 2019, \"uf\": \"Bahia\", \"genero\": \"Feminino\", \"mes\": \"Maio\", \"numero\": 15, \"regiao\": \"Nordeste\"}, {\"ano\": 2019, \"uf\": \"Bahia\", \"genero\": \"Feminino\", \"mes\": \"Junho\", \"numero\": 16, \"regiao\": \"Nordeste\"}, {\"ano\": 2019, \"uf\": \"Bahia\", \"genero\": \"Feminino\", \"mes\": \"Julho\", \"numero\": 15, \"regiao\": \"Nordeste\"}, {\"ano\": 2019, \"uf\": \"Bahia\", \"genero\": \"Feminino\", \"mes\": \"Agosto\", \"numero\": 18, \"regiao\": \"Nordeste\"}, {\"ano\": 2019, \"uf\": \"Bahia\", \"genero\": \"Feminino\", \"mes\": \"Setembro\", \"numero\": 16, \"regiao\": \"Nordeste\"}, {\"ano\": 2019, \"uf\": \"Bahia\", \"genero\": \"Feminino\", \"mes\": \"Outubro\", \"numero\": 16, \"regiao\": \"Nordeste\"}, {\"ano\": 2019, \"uf\": \"Bahia\", \"genero\": \"Feminino\", \"mes\": \"Novembro\", \"numero\": 19, \"regiao\": \"Nordeste\"}, {\"ano\": 2019, \"uf\": \"Bahia\", \"genero\": \"Feminino\", \"mes\": \"Dezembro\", \"numero\": 12, \"regiao\": \"Nordeste\"}, {\"ano\": 2014, \"uf\": \"Minas Gerais\", \"genero\": \"Masculino\", \"mes\": \"Janeiro\", \"numero\": 7, \"regiao\": \"Sudeste\"}, {\"ano\": 2014, \"uf\": \"Minas Gerais\", \"genero\": \"Masculino\", \"mes\": \"Fevereiro\", \"numero\": 14, \"regiao\": \"Sudeste\"}, {\"ano\": 2014, \"uf\": \"Minas Gerais\", \"genero\": \"Masculino\", \"mes\": \"Mar\\u00e7o\", \"numero\": 14, \"regiao\": \"Sudeste\"}, {\"ano\": 2014, \"uf\": \"Minas Gerais\", \"genero\": \"Masculino\", \"mes\": \"Abril\", \"numero\": 11, \"regiao\": \"Sudeste\"}, {\"ano\": 2014, \"uf\": \"Minas Gerais\", \"genero\": \"Masculino\", \"mes\": \"Maio\", \"numero\": 10, \"regiao\": \"Sudeste\"}, {\"ano\": 2014, \"uf\": \"Minas Gerais\", \"genero\": \"Masculino\", \"mes\": \"Junho\", \"numero\": 10, \"regiao\": \"Sudeste\"}, {\"ano\": 2014, \"uf\": \"Minas Gerais\", \"genero\": \"Masculino\", \"mes\": \"Julho\", \"numero\": 8, \"regiao\": \"Sudeste\"}, {\"ano\": 2014, \"uf\": \"Minas Gerais\", \"genero\": \"Masculino\", \"mes\": \"Agosto\", \"numero\": 15, \"regiao\": \"Sudeste\"}, {\"ano\": 2014, \"uf\": \"Minas Gerais\", \"genero\": \"Masculino\", \"mes\": \"Setembro\", \"numero\": 20, \"regiao\": \"Sudeste\"}, {\"ano\": 2014, \"uf\": \"Minas Gerais\", \"genero\": \"Masculino\", \"mes\": \"Outubro\", \"numero\": 17, \"regiao\": \"Sudeste\"}, {\"ano\": 2014, \"uf\": \"Minas Gerais\", \"genero\": \"Masculino\", \"mes\": \"Novembro\", \"numero\": 13, \"regiao\": \"Sudeste\"}, {\"ano\": 2014, \"uf\": \"Minas Gerais\", \"genero\": \"Masculino\", \"mes\": \"Dezembro\", \"numero\": 24, \"regiao\": \"Sudeste\"}, {\"ano\": 2014, \"uf\": \"Minas Gerais\", \"genero\": \"Feminino\", \"mes\": \"Janeiro\", \"numero\": 11, \"regiao\": \"Sudeste\"}, {\"ano\": 2014, \"uf\": \"Minas Gerais\", \"genero\": \"Feminino\", \"mes\": \"Fevereiro\", \"numero\": 10, \"regiao\": \"Sudeste\"}, {\"ano\": 2014, \"uf\": \"Minas Gerais\", \"genero\": \"Feminino\", \"mes\": \"Mar\\u00e7o\", \"numero\": 7, \"regiao\": \"Sudeste\"}, {\"ano\": 2014, \"uf\": \"Minas Gerais\", \"genero\": \"Feminino\", \"mes\": \"Abril\", \"numero\": 8, \"regiao\": \"Sudeste\"}, {\"ano\": 2014, \"uf\": \"Minas Gerais\", \"genero\": \"Feminino\", \"mes\": \"Maio\", \"numero\": 13, \"regiao\": \"Sudeste\"}, {\"ano\": 2014, \"uf\": \"Minas Gerais\", \"genero\": \"Feminino\", \"mes\": \"Junho\", \"numero\": 14, \"regiao\": \"Sudeste\"}, {\"ano\": 2014, \"uf\": \"Minas Gerais\", \"genero\": \"Feminino\", \"mes\": \"Julho\", \"numero\": 11, \"regiao\": \"Sudeste\"}, {\"ano\": 2014, \"uf\": \"Minas Gerais\", \"genero\": \"Feminino\", \"mes\": \"Agosto\", \"numero\": 11, \"regiao\": \"Sudeste\"}, {\"ano\": 2014, \"uf\": \"Minas Gerais\", \"genero\": \"Feminino\", \"mes\": \"Setembro\", \"numero\": 13, \"regiao\": \"Sudeste\"}, {\"ano\": 2014, \"uf\": \"Minas Gerais\", \"genero\": \"Feminino\", \"mes\": \"Outubro\", \"numero\": 17, \"regiao\": \"Sudeste\"}, {\"ano\": 2014, \"uf\": \"Minas Gerais\", \"genero\": \"Feminino\", \"mes\": \"Novembro\", \"numero\": 23, \"regiao\": \"Sudeste\"}, {\"ano\": 2014, \"uf\": \"Minas Gerais\", \"genero\": \"Feminino\", \"mes\": \"Dezembro\", \"numero\": 30, \"regiao\": \"Sudeste\"}, {\"ano\": 2013, \"uf\": \"Minas Gerais\", \"genero\": \"Masculino\", \"mes\": \"Janeiro\", \"numero\": 2, \"regiao\": \"Sudeste\"}, {\"ano\": 2013, \"uf\": \"Minas Gerais\", \"genero\": \"Masculino\", \"mes\": \"Fevereiro\", \"numero\": 1, \"regiao\": \"Sudeste\"}, {\"ano\": 2013, \"uf\": \"Minas Gerais\", \"genero\": \"Masculino\", \"mes\": \"Mar\\u00e7o\", \"numero\": 1, \"regiao\": \"Sudeste\"}, {\"ano\": 2013, \"uf\": \"Minas Gerais\", \"genero\": \"Masculino\", \"mes\": \"Abril\", \"numero\": 0, \"regiao\": \"Sudeste\"}, {\"ano\": 2013, \"uf\": \"Minas Gerais\", \"genero\": \"Masculino\", \"mes\": \"Maio\", \"numero\": 2, \"regiao\": \"Sudeste\"}, {\"ano\": 2013, \"uf\": \"Minas Gerais\", \"genero\": \"Masculino\", \"mes\": \"Junho\", \"numero\": 4, \"regiao\": \"Sudeste\"}, {\"ano\": 2013, \"uf\": \"Minas Gerais\", \"genero\": \"Masculino\", \"mes\": \"Julho\", \"numero\": 11, \"regiao\": \"Sudeste\"}, {\"ano\": 2013, \"uf\": \"Minas Gerais\", \"genero\": \"Masculino\", \"mes\": \"Agosto\", \"numero\": 13, \"regiao\": \"Sudeste\"}, {\"ano\": 2013, \"uf\": \"Minas Gerais\", \"genero\": \"Masculino\", \"mes\": \"Setembro\", \"numero\": 12, \"regiao\": \"Sudeste\"}, {\"ano\": 2013, \"uf\": \"Minas Gerais\", \"genero\": \"Masculino\", \"mes\": \"Outubro\", \"numero\": 12, \"regiao\": \"Sudeste\"}, {\"ano\": 2013, \"uf\": \"Minas Gerais\", \"genero\": \"Masculino\", \"mes\": \"Novembro\", \"numero\": 15, \"regiao\": \"Sudeste\"}, {\"ano\": 2013, \"uf\": \"Minas Gerais\", \"genero\": \"Masculino\", \"mes\": \"Dezembro\", \"numero\": 27, \"regiao\": \"Sudeste\"}, {\"ano\": 2013, \"uf\": \"Minas Gerais\", \"genero\": \"Feminino\", \"mes\": \"Janeiro\", \"numero\": 0, \"regiao\": \"Sudeste\"}, {\"ano\": 2013, \"uf\": \"Minas Gerais\", \"genero\": \"Feminino\", \"mes\": \"Fevereiro\", \"numero\": 0, \"regiao\": \"Sudeste\"}, {\"ano\": 2013, \"uf\": \"Minas Gerais\", \"genero\": \"Feminino\", \"mes\": \"Mar\\u00e7o\", \"numero\": 0, \"regiao\": \"Sudeste\"}, {\"ano\": 2013, \"uf\": \"Minas Gerais\", \"genero\": \"Feminino\", \"mes\": \"Abril\", \"numero\": 2, \"regiao\": \"Sudeste\"}, {\"ano\": 2013, \"uf\": \"Minas Gerais\", \"genero\": \"Feminino\", \"mes\": \"Maio\", \"numero\": 6, \"regiao\": \"Sudeste\"}, {\"ano\": 2013, \"uf\": \"Minas Gerais\", \"genero\": \"Feminino\", \"mes\": \"Junho\", \"numero\": 3, \"regiao\": \"Sudeste\"}, {\"ano\": 2013, \"uf\": \"Minas Gerais\", \"genero\": \"Feminino\", \"mes\": \"Julho\", \"numero\": 9, \"regiao\": \"Sudeste\"}, {\"ano\": 2013, \"uf\": \"Minas Gerais\", \"genero\": \"Feminino\", \"mes\": \"Agosto\", \"numero\": 7, \"regiao\": \"Sudeste\"}, {\"ano\": 2013, \"uf\": \"Minas Gerais\", \"genero\": \"Feminino\", \"mes\": \"Setembro\", \"numero\": 17, \"regiao\": \"Sudeste\"}, {\"ano\": 2013, \"uf\": \"Minas Gerais\", \"genero\": \"Feminino\", \"mes\": \"Outubro\", \"numero\": 12, \"regiao\": \"Sudeste\"}, {\"ano\": 2013, \"uf\": \"Minas Gerais\", \"genero\": \"Feminino\", \"mes\": \"Novembro\", \"numero\": 6, \"regiao\": \"Sudeste\"}, {\"ano\": 2013, \"uf\": \"Minas Gerais\", \"genero\": \"Feminino\", \"mes\": \"Dezembro\", \"numero\": 47, \"regiao\": \"Sudeste\"}, {\"ano\": 2015, \"uf\": \"Minas Gerais\", \"genero\": \"Masculino\", \"mes\": \"Janeiro\", \"numero\": 10, \"regiao\": \"Sudeste\"}, {\"ano\": 2015, \"uf\": \"Minas Gerais\", \"genero\": \"Masculino\", \"mes\": \"Fevereiro\", \"numero\": 6, \"regiao\": \"Sudeste\"}, {\"ano\": 2015, \"uf\": \"Minas Gerais\", \"genero\": \"Masculino\", \"mes\": \"Mar\\u00e7o\", \"numero\": 13, \"regiao\": \"Sudeste\"}, {\"ano\": 2015, \"uf\": \"Minas Gerais\", \"genero\": \"Masculino\", \"mes\": \"Abril\", \"numero\": 11, \"regiao\": \"Sudeste\"}, {\"ano\": 2015, \"uf\": \"Minas Gerais\", \"genero\": \"Masculino\", \"mes\": \"Maio\", \"numero\": 11, \"regiao\": \"Sudeste\"}, {\"ano\": 2015, \"uf\": \"Minas Gerais\", \"genero\": \"Masculino\", \"mes\": \"Junho\", \"numero\": 12, \"regiao\": \"Sudeste\"}, {\"ano\": 2015, \"uf\": \"Minas Gerais\", \"genero\": \"Masculino\", \"mes\": \"Julho\", \"numero\": 17, \"regiao\": \"Sudeste\"}, {\"ano\": 2015, \"uf\": \"Minas Gerais\", \"genero\": \"Masculino\", \"mes\": \"Agosto\", \"numero\": 14, \"regiao\": \"Sudeste\"}, {\"ano\": 2015, \"uf\": \"Minas Gerais\", \"genero\": \"Masculino\", \"mes\": \"Setembro\", \"numero\": 14, \"regiao\": \"Sudeste\"}, {\"ano\": 2015, \"uf\": \"Minas Gerais\", \"genero\": \"Masculino\", \"mes\": \"Outubro\", \"numero\": 31, \"regiao\": \"Sudeste\"}, {\"ano\": 2015, \"uf\": \"Minas Gerais\", \"genero\": \"Masculino\", \"mes\": \"Novembro\", \"numero\": 25, \"regiao\": \"Sudeste\"}, {\"ano\": 2015, \"uf\": \"Minas Gerais\", \"genero\": \"Masculino\", \"mes\": \"Dezembro\", \"numero\": 13, \"regiao\": \"Sudeste\"}, {\"ano\": 2016, \"uf\": \"Minas Gerais\", \"genero\": \"Masculino\", \"mes\": \"Janeiro\", \"numero\": 10, \"regiao\": \"Sudeste\"}, {\"ano\": 2016, \"uf\": \"Minas Gerais\", \"genero\": \"Masculino\", \"mes\": \"Fevereiro\", \"numero\": 7, \"regiao\": \"Sudeste\"}, {\"ano\": 2016, \"uf\": \"Minas Gerais\", \"genero\": \"Masculino\", \"mes\": \"Mar\\u00e7o\", \"numero\": 12, \"regiao\": \"Sudeste\"}, {\"ano\": 2016, \"uf\": \"Minas Gerais\", \"genero\": \"Masculino\", \"mes\": \"Abril\", \"numero\": 14, \"regiao\": \"Sudeste\"}, {\"ano\": 2016, \"uf\": \"Minas Gerais\", \"genero\": \"Masculino\", \"mes\": \"Maio\", \"numero\": 14, \"regiao\": \"Sudeste\"}, {\"ano\": 2016, \"uf\": \"Minas Gerais\", \"genero\": \"Masculino\", \"mes\": \"Junho\", \"numero\": 12, \"regiao\": \"Sudeste\"}, {\"ano\": 2016, \"uf\": \"Minas Gerais\", \"genero\": \"Masculino\", \"mes\": \"Julho\", \"numero\": 27, \"regiao\": \"Sudeste\"}, {\"ano\": 2016, \"uf\": \"Minas Gerais\", \"genero\": \"Masculino\", \"mes\": \"Agosto\", \"numero\": 15, \"regiao\": \"Sudeste\"}, {\"ano\": 2016, \"uf\": \"Minas Gerais\", \"genero\": \"Masculino\", \"mes\": \"Setembro\", \"numero\": 28, \"regiao\": \"Sudeste\"}, {\"ano\": 2016, \"uf\": \"Minas Gerais\", \"genero\": \"Masculino\", \"mes\": \"Outubro\", \"numero\": 17, \"regiao\": \"Sudeste\"}, {\"ano\": 2016, \"uf\": \"Minas Gerais\", \"genero\": \"Masculino\", \"mes\": \"Novembro\", \"numero\": 22, \"regiao\": \"Sudeste\"}, {\"ano\": 2016, \"uf\": \"Minas Gerais\", \"genero\": \"Masculino\", \"mes\": \"Dezembro\", \"numero\": 19, \"regiao\": \"Sudeste\"}, {\"ano\": 2017, \"uf\": \"Minas Gerais\", \"genero\": \"Masculino\", \"mes\": \"Janeiro\", \"numero\": 17, \"regiao\": \"Sudeste\"}, {\"ano\": 2017, \"uf\": \"Minas Gerais\", \"genero\": \"Masculino\", \"mes\": \"Fevereiro\", \"numero\": 17, \"regiao\": \"Sudeste\"}, {\"ano\": 2017, \"uf\": \"Minas Gerais\", \"genero\": \"Masculino\", \"mes\": \"Mar\\u00e7o\", \"numero\": 19, \"regiao\": \"Sudeste\"}, {\"ano\": 2017, \"uf\": \"Minas Gerais\", \"genero\": \"Masculino\", \"mes\": \"Abril\", \"numero\": 9, \"regiao\": \"Sudeste\"}, {\"ano\": 2017, \"uf\": \"Minas Gerais\", \"genero\": \"Masculino\", \"mes\": \"Maio\", \"numero\": 13, \"regiao\": \"Sudeste\"}, {\"ano\": 2017, \"uf\": \"Minas Gerais\", \"genero\": \"Masculino\", \"mes\": \"Junho\", \"numero\": 13, \"regiao\": \"Sudeste\"}, {\"ano\": 2017, \"uf\": \"Minas Gerais\", \"genero\": \"Masculino\", \"mes\": \"Julho\", \"numero\": 21, \"regiao\": \"Sudeste\"}, {\"ano\": 2017, \"uf\": \"Minas Gerais\", \"genero\": \"Masculino\", \"mes\": \"Agosto\", \"numero\": 9, \"regiao\": \"Sudeste\"}, {\"ano\": 2017, \"uf\": \"Minas Gerais\", \"genero\": \"Masculino\", \"mes\": \"Setembro\", \"numero\": 13, \"regiao\": \"Sudeste\"}, {\"ano\": 2017, \"uf\": \"Minas Gerais\", \"genero\": \"Masculino\", \"mes\": \"Outubro\", \"numero\": 23, \"regiao\": \"Sudeste\"}, {\"ano\": 2017, \"uf\": \"Minas Gerais\", \"genero\": \"Masculino\", \"mes\": \"Novembro\", \"numero\": 22, \"regiao\": \"Sudeste\"}, {\"ano\": 2017, \"uf\": \"Minas Gerais\", \"genero\": \"Masculino\", \"mes\": \"Dezembro\", \"numero\": 21, \"regiao\": \"Sudeste\"}, {\"ano\": 2018, \"uf\": \"Minas Gerais\", \"genero\": \"Masculino\", \"mes\": \"Janeiro\", \"numero\": 11, \"regiao\": \"Sudeste\"}, {\"ano\": 2018, \"uf\": \"Minas Gerais\", \"genero\": \"Masculino\", \"mes\": \"Fevereiro\", \"numero\": 21, \"regiao\": \"Sudeste\"}, {\"ano\": 2018, \"uf\": \"Minas Gerais\", \"genero\": \"Masculino\", \"mes\": \"Mar\\u00e7o\", \"numero\": 26, \"regiao\": \"Sudeste\"}, {\"ano\": 2018, \"uf\": \"Minas Gerais\", \"genero\": \"Masculino\", \"mes\": \"Abril\", \"numero\": 17, \"regiao\": \"Sudeste\"}, {\"ano\": 2018, \"uf\": \"Minas Gerais\", \"genero\": \"Masculino\", \"mes\": \"Maio\", \"numero\": 22, \"regiao\": \"Sudeste\"}, {\"ano\": 2018, \"uf\": \"Minas Gerais\", \"genero\": \"Masculino\", \"mes\": \"Junho\", \"numero\": 16, \"regiao\": \"Sudeste\"}, {\"ano\": 2018, \"uf\": \"Minas Gerais\", \"genero\": \"Masculino\", \"mes\": \"Julho\", \"numero\": 20, \"regiao\": \"Sudeste\"}, {\"ano\": 2018, \"uf\": \"Minas Gerais\", \"genero\": \"Masculino\", \"mes\": \"Agosto\", \"numero\": 19, \"regiao\": \"Sudeste\"}, {\"ano\": 2018, \"uf\": \"Minas Gerais\", \"genero\": \"Masculino\", \"mes\": \"Setembro\", \"numero\": 32, \"regiao\": \"Sudeste\"}, {\"ano\": 2018, \"uf\": \"Minas Gerais\", \"genero\": \"Masculino\", \"mes\": \"Outubro\", \"numero\": 22, \"regiao\": \"Sudeste\"}, {\"ano\": 2018, \"uf\": \"Minas Gerais\", \"genero\": \"Masculino\", \"mes\": \"Novembro\", \"numero\": 23, \"regiao\": \"Sudeste\"}, {\"ano\": 2018, \"uf\": \"Minas Gerais\", \"genero\": \"Masculino\", \"mes\": \"Dezembro\", \"numero\": 96, \"regiao\": \"Sudeste\"}, {\"ano\": 2019, \"uf\": \"Minas Gerais\", \"genero\": \"Masculino\", \"mes\": \"Janeiro\", \"numero\": 48, \"regiao\": \"Sudeste\"}, {\"ano\": 2019, \"uf\": \"Minas Gerais\", \"genero\": \"Masculino\", \"mes\": \"Fevereiro\", \"numero\": 32, \"regiao\": \"Sudeste\"}, {\"ano\": 2019, \"uf\": \"Minas Gerais\", \"genero\": \"Masculino\", \"mes\": \"Mar\\u00e7o\", \"numero\": 23, \"regiao\": \"Sudeste\"}, {\"ano\": 2019, \"uf\": \"Minas Gerais\", \"genero\": \"Masculino\", \"mes\": \"Abril\", \"numero\": 30, \"regiao\": \"Sudeste\"}, {\"ano\": 2019, \"uf\": \"Minas Gerais\", \"genero\": \"Masculino\", \"mes\": \"Maio\", \"numero\": 26, \"regiao\": \"Sudeste\"}, {\"ano\": 2019, \"uf\": \"Minas Gerais\", \"genero\": \"Masculino\", \"mes\": \"Junho\", \"numero\": 16, \"regiao\": \"Sudeste\"}, {\"ano\": 2019, \"uf\": \"Minas Gerais\", \"genero\": \"Masculino\", \"mes\": \"Julho\", \"numero\": 24, \"regiao\": \"Sudeste\"}, {\"ano\": 2019, \"uf\": \"Minas Gerais\", \"genero\": \"Masculino\", \"mes\": \"Agosto\", \"numero\": 30, \"regiao\": \"Sudeste\"}, {\"ano\": 2019, \"uf\": \"Minas Gerais\", \"genero\": \"Masculino\", \"mes\": \"Setembro\", \"numero\": 32, \"regiao\": \"Sudeste\"}, {\"ano\": 2019, \"uf\": \"Minas Gerais\", \"genero\": \"Masculino\", \"mes\": \"Outubro\", \"numero\": 29, \"regiao\": \"Sudeste\"}, {\"ano\": 2019, \"uf\": \"Minas Gerais\", \"genero\": \"Masculino\", \"mes\": \"Novembro\", \"numero\": 34, \"regiao\": \"Sudeste\"}, {\"ano\": 2019, \"uf\": \"Minas Gerais\", \"genero\": \"Masculino\", \"mes\": \"Dezembro\", \"numero\": 27, \"regiao\": \"Sudeste\"}, {\"ano\": 2015, \"uf\": \"Minas Gerais\", \"genero\": \"Feminino\", \"mes\": \"Janeiro\", \"numero\": 23, \"regiao\": \"Sudeste\"}, {\"ano\": 2015, \"uf\": \"Minas Gerais\", \"genero\": \"Feminino\", \"mes\": \"Fevereiro\", \"numero\": 13, \"regiao\": \"Sudeste\"}, {\"ano\": 2015, \"uf\": \"Minas Gerais\", \"genero\": \"Feminino\", \"mes\": \"Mar\\u00e7o\", \"numero\": 10, \"regiao\": \"Sudeste\"}, {\"ano\": 2015, \"uf\": \"Minas Gerais\", \"genero\": \"Feminino\", \"mes\": \"Abril\", \"numero\": 10, \"regiao\": \"Sudeste\"}, {\"ano\": 2015, \"uf\": \"Minas Gerais\", \"genero\": \"Feminino\", \"mes\": \"Maio\", \"numero\": 16, \"regiao\": \"Sudeste\"}, {\"ano\": 2015, \"uf\": \"Minas Gerais\", \"genero\": \"Feminino\", \"mes\": \"Junho\", \"numero\": 10, \"regiao\": \"Sudeste\"}, {\"ano\": 2015, \"uf\": \"Minas Gerais\", \"genero\": \"Feminino\", \"mes\": \"Julho\", \"numero\": 18, \"regiao\": \"Sudeste\"}, {\"ano\": 2015, \"uf\": \"Minas Gerais\", \"genero\": \"Feminino\", \"mes\": \"Agosto\", \"numero\": 17, \"regiao\": \"Sudeste\"}, {\"ano\": 2015, \"uf\": \"Minas Gerais\", \"genero\": \"Feminino\", \"mes\": \"Setembro\", \"numero\": 20, \"regiao\": \"Sudeste\"}, {\"ano\": 2015, \"uf\": \"Minas Gerais\", \"genero\": \"Feminino\", \"mes\": \"Outubro\", \"numero\": 17, \"regiao\": \"Sudeste\"}, {\"ano\": 2015, \"uf\": \"Minas Gerais\", \"genero\": \"Feminino\", \"mes\": \"Novembro\", \"numero\": 21, \"regiao\": \"Sudeste\"}, {\"ano\": 2015, \"uf\": \"Minas Gerais\", \"genero\": \"Feminino\", \"mes\": \"Dezembro\", \"numero\": 26, \"regiao\": \"Sudeste\"}, {\"ano\": 2016, \"uf\": \"Minas Gerais\", \"genero\": \"Feminino\", \"mes\": \"Janeiro\", \"numero\": 14, \"regiao\": \"Sudeste\"}, {\"ano\": 2016, \"uf\": \"Minas Gerais\", \"genero\": \"Feminino\", \"mes\": \"Fevereiro\", \"numero\": 14, \"regiao\": \"Sudeste\"}, {\"ano\": 2016, \"uf\": \"Minas Gerais\", \"genero\": \"Feminino\", \"mes\": \"Mar\\u00e7o\", \"numero\": 8, \"regiao\": \"Sudeste\"}, {\"ano\": 2016, \"uf\": \"Minas Gerais\", \"genero\": \"Feminino\", \"mes\": \"Abril\", \"numero\": 18, \"regiao\": \"Sudeste\"}, {\"ano\": 2016, \"uf\": \"Minas Gerais\", \"genero\": \"Feminino\", \"mes\": \"Maio\", \"numero\": 16, \"regiao\": \"Sudeste\"}, {\"ano\": 2016, \"uf\": \"Minas Gerais\", \"genero\": \"Feminino\", \"mes\": \"Junho\", \"numero\": 9, \"regiao\": \"Sudeste\"}, {\"ano\": 2016, \"uf\": \"Minas Gerais\", \"genero\": \"Feminino\", \"mes\": \"Julho\", \"numero\": 17, \"regiao\": \"Sudeste\"}, {\"ano\": 2016, \"uf\": \"Minas Gerais\", \"genero\": \"Feminino\", \"mes\": \"Agosto\", \"numero\": 19, \"regiao\": \"Sudeste\"}, {\"ano\": 2016, \"uf\": \"Minas Gerais\", \"genero\": \"Feminino\", \"mes\": \"Setembro\", \"numero\": 31, \"regiao\": \"Sudeste\"}, {\"ano\": 2016, \"uf\": \"Minas Gerais\", \"genero\": \"Feminino\", \"mes\": \"Outubro\", \"numero\": 14, \"regiao\": \"Sudeste\"}, {\"ano\": 2016, \"uf\": \"Minas Gerais\", \"genero\": \"Feminino\", \"mes\": \"Novembro\", \"numero\": 21, \"regiao\": \"Sudeste\"}, {\"ano\": 2016, \"uf\": \"Minas Gerais\", \"genero\": \"Feminino\", \"mes\": \"Dezembro\", \"numero\": 15, \"regiao\": \"Sudeste\"}, {\"ano\": 2017, \"uf\": \"Minas Gerais\", \"genero\": \"Feminino\", \"mes\": \"Janeiro\", \"numero\": 25, \"regiao\": \"Sudeste\"}, {\"ano\": 2017, \"uf\": \"Minas Gerais\", \"genero\": \"Feminino\", \"mes\": \"Fevereiro\", \"numero\": 15, \"regiao\": \"Sudeste\"}, {\"ano\": 2017, \"uf\": \"Minas Gerais\", \"genero\": \"Feminino\", \"mes\": \"Mar\\u00e7o\", \"numero\": 20, \"regiao\": \"Sudeste\"}, {\"ano\": 2017, \"uf\": \"Minas Gerais\", \"genero\": \"Feminino\", \"mes\": \"Abril\", \"numero\": 15, \"regiao\": \"Sudeste\"}, {\"ano\": 2017, \"uf\": \"Minas Gerais\", \"genero\": \"Feminino\", \"mes\": \"Maio\", \"numero\": 26, \"regiao\": \"Sudeste\"}, {\"ano\": 2017, \"uf\": \"Minas Gerais\", \"genero\": \"Feminino\", \"mes\": \"Junho\", \"numero\": 21, \"regiao\": \"Sudeste\"}, {\"ano\": 2017, \"uf\": \"Minas Gerais\", \"genero\": \"Feminino\", \"mes\": \"Julho\", \"numero\": 19, \"regiao\": \"Sudeste\"}, {\"ano\": 2017, \"uf\": \"Minas Gerais\", \"genero\": \"Feminino\", \"mes\": \"Agosto\", \"numero\": 20, \"regiao\": \"Sudeste\"}, {\"ano\": 2017, \"uf\": \"Minas Gerais\", \"genero\": \"Feminino\", \"mes\": \"Setembro\", \"numero\": 25, \"regiao\": \"Sudeste\"}, {\"ano\": 2017, \"uf\": \"Minas Gerais\", \"genero\": \"Feminino\", \"mes\": \"Outubro\", \"numero\": 17, \"regiao\": \"Sudeste\"}, {\"ano\": 2017, \"uf\": \"Minas Gerais\", \"genero\": \"Feminino\", \"mes\": \"Novembro\", \"numero\": 19, \"regiao\": \"Sudeste\"}, {\"ano\": 2017, \"uf\": \"Minas Gerais\", \"genero\": \"Feminino\", \"mes\": \"Dezembro\", \"numero\": 28, \"regiao\": \"Sudeste\"}, {\"ano\": 2018, \"uf\": \"Minas Gerais\", \"genero\": \"Feminino\", \"mes\": \"Janeiro\", \"numero\": 24, \"regiao\": \"Sudeste\"}, {\"ano\": 2018, \"uf\": \"Minas Gerais\", \"genero\": \"Feminino\", \"mes\": \"Fevereiro\", \"numero\": 19, \"regiao\": \"Sudeste\"}, {\"ano\": 2018, \"uf\": \"Minas Gerais\", \"genero\": \"Feminino\", \"mes\": \"Mar\\u00e7o\", \"numero\": 21, \"regiao\": \"Sudeste\"}, {\"ano\": 2018, \"uf\": \"Minas Gerais\", \"genero\": \"Feminino\", \"mes\": \"Abril\", \"numero\": 21, \"regiao\": \"Sudeste\"}, {\"ano\": 2018, \"uf\": \"Minas Gerais\", \"genero\": \"Feminino\", \"mes\": \"Maio\", \"numero\": 32, \"regiao\": \"Sudeste\"}, {\"ano\": 2018, \"uf\": \"Minas Gerais\", \"genero\": \"Feminino\", \"mes\": \"Junho\", \"numero\": 22, \"regiao\": \"Sudeste\"}, {\"ano\": 2018, \"uf\": \"Minas Gerais\", \"genero\": \"Feminino\", \"mes\": \"Julho\", \"numero\": 25, \"regiao\": \"Sudeste\"}, {\"ano\": 2018, \"uf\": \"Minas Gerais\", \"genero\": \"Feminino\", \"mes\": \"Agosto\", \"numero\": 24, \"regiao\": \"Sudeste\"}, {\"ano\": 2018, \"uf\": \"Minas Gerais\", \"genero\": \"Feminino\", \"mes\": \"Setembro\", \"numero\": 43, \"regiao\": \"Sudeste\"}, {\"ano\": 2018, \"uf\": \"Minas Gerais\", \"genero\": \"Feminino\", \"mes\": \"Outubro\", \"numero\": 32, \"regiao\": \"Sudeste\"}, {\"ano\": 2018, \"uf\": \"Minas Gerais\", \"genero\": \"Feminino\", \"mes\": \"Novembro\", \"numero\": 34, \"regiao\": \"Sudeste\"}, {\"ano\": 2018, \"uf\": \"Minas Gerais\", \"genero\": \"Feminino\", \"mes\": \"Dezembro\", \"numero\": 115, \"regiao\": \"Sudeste\"}, {\"ano\": 2019, \"uf\": \"Minas Gerais\", \"genero\": \"Feminino\", \"mes\": \"Janeiro\", \"numero\": 79, \"regiao\": \"Sudeste\"}, {\"ano\": 2019, \"uf\": \"Minas Gerais\", \"genero\": \"Feminino\", \"mes\": \"Fevereiro\", \"numero\": 44, \"regiao\": \"Sudeste\"}, {\"ano\": 2019, \"uf\": \"Minas Gerais\", \"genero\": \"Feminino\", \"mes\": \"Mar\\u00e7o\", \"numero\": 40, \"regiao\": \"Sudeste\"}, {\"ano\": 2019, \"uf\": \"Minas Gerais\", \"genero\": \"Feminino\", \"mes\": \"Abril\", \"numero\": 25, \"regiao\": \"Sudeste\"}, {\"ano\": 2019, \"uf\": \"Minas Gerais\", \"genero\": \"Feminino\", \"mes\": \"Maio\", \"numero\": 27, \"regiao\": \"Sudeste\"}, {\"ano\": 2019, \"uf\": \"Minas Gerais\", \"genero\": \"Feminino\", \"mes\": \"Junho\", \"numero\": 33, \"regiao\": \"Sudeste\"}, {\"ano\": 2019, \"uf\": \"Minas Gerais\", \"genero\": \"Feminino\", \"mes\": \"Julho\", \"numero\": 40, \"regiao\": \"Sudeste\"}, {\"ano\": 2019, \"uf\": \"Minas Gerais\", \"genero\": \"Feminino\", \"mes\": \"Agosto\", \"numero\": 15, \"regiao\": \"Sudeste\"}, {\"ano\": 2019, \"uf\": \"Minas Gerais\", \"genero\": \"Feminino\", \"mes\": \"Setembro\", \"numero\": 52, \"regiao\": \"Sudeste\"}, {\"ano\": 2019, \"uf\": \"Minas Gerais\", \"genero\": \"Feminino\", \"mes\": \"Outubro\", \"numero\": 45, \"regiao\": \"Sudeste\"}, {\"ano\": 2019, \"uf\": \"Minas Gerais\", \"genero\": \"Feminino\", \"mes\": \"Novembro\", \"numero\": 28, \"regiao\": \"Sudeste\"}, {\"ano\": 2019, \"uf\": \"Minas Gerais\", \"genero\": \"Feminino\", \"mes\": \"Dezembro\", \"numero\": 36, \"regiao\": \"Sudeste\"}, {\"ano\": 2014, \"uf\": \"Esp\\u00edrito Santo\", \"genero\": \"Masculino\", \"mes\": \"Janeiro\", \"numero\": 2, \"regiao\": \"Sudeste\"}, {\"ano\": 2014, \"uf\": \"Esp\\u00edrito Santo\", \"genero\": \"Masculino\", \"mes\": \"Fevereiro\", \"numero\": 1, \"regiao\": \"Sudeste\"}, {\"ano\": 2014, \"uf\": \"Esp\\u00edrito Santo\", \"genero\": \"Masculino\", \"mes\": \"Mar\\u00e7o\", \"numero\": 3, \"regiao\": \"Sudeste\"}, {\"ano\": 2014, \"uf\": \"Esp\\u00edrito Santo\", \"genero\": \"Masculino\", \"mes\": \"Abril\", \"numero\": 3, \"regiao\": \"Sudeste\"}, {\"ano\": 2014, \"uf\": \"Esp\\u00edrito Santo\", \"genero\": \"Masculino\", \"mes\": \"Maio\", \"numero\": 2, \"regiao\": \"Sudeste\"}, {\"ano\": 2014, \"uf\": \"Esp\\u00edrito Santo\", \"genero\": \"Masculino\", \"mes\": \"Junho\", \"numero\": 1, \"regiao\": \"Sudeste\"}, {\"ano\": 2014, \"uf\": \"Esp\\u00edrito Santo\", \"genero\": \"Masculino\", \"mes\": \"Julho\", \"numero\": 2, \"regiao\": \"Sudeste\"}, {\"ano\": 2014, \"uf\": \"Esp\\u00edrito Santo\", \"genero\": \"Masculino\", \"mes\": \"Agosto\", \"numero\": 4, \"regiao\": \"Sudeste\"}, {\"ano\": 2014, \"uf\": \"Esp\\u00edrito Santo\", \"genero\": \"Masculino\", \"mes\": \"Setembro\", \"numero\": 7, \"regiao\": \"Sudeste\"}, {\"ano\": 2014, \"uf\": \"Esp\\u00edrito Santo\", \"genero\": \"Masculino\", \"mes\": \"Outubro\", \"numero\": 7, \"regiao\": \"Sudeste\"}, {\"ano\": 2014, \"uf\": \"Esp\\u00edrito Santo\", \"genero\": \"Masculino\", \"mes\": \"Novembro\", \"numero\": 2, \"regiao\": \"Sudeste\"}, {\"ano\": 2014, \"uf\": \"Esp\\u00edrito Santo\", \"genero\": \"Masculino\", \"mes\": \"Dezembro\", \"numero\": 7, \"regiao\": \"Sudeste\"}, {\"ano\": 2014, \"uf\": \"Esp\\u00edrito Santo\", \"genero\": \"Feminino\", \"mes\": \"Janeiro\", \"numero\": 1, \"regiao\": \"Sudeste\"}, {\"ano\": 2014, \"uf\": \"Esp\\u00edrito Santo\", \"genero\": \"Feminino\", \"mes\": \"Fevereiro\", \"numero\": 2, \"regiao\": \"Sudeste\"}, {\"ano\": 2014, \"uf\": \"Esp\\u00edrito Santo\", \"genero\": \"Feminino\", \"mes\": \"Mar\\u00e7o\", \"numero\": 1, \"regiao\": \"Sudeste\"}, {\"ano\": 2014, \"uf\": \"Esp\\u00edrito Santo\", \"genero\": \"Feminino\", \"mes\": \"Abril\", \"numero\": 0, \"regiao\": \"Sudeste\"}, {\"ano\": 2014, \"uf\": \"Esp\\u00edrito Santo\", \"genero\": \"Feminino\", \"mes\": \"Maio\", \"numero\": 2, \"regiao\": \"Sudeste\"}, {\"ano\": 2014, \"uf\": \"Esp\\u00edrito Santo\", \"genero\": \"Feminino\", \"mes\": \"Junho\", \"numero\": 3, \"regiao\": \"Sudeste\"}, {\"ano\": 2014, \"uf\": \"Esp\\u00edrito Santo\", \"genero\": \"Feminino\", \"mes\": \"Julho\", \"numero\": 2, \"regiao\": \"Sudeste\"}, {\"ano\": 2014, \"uf\": \"Esp\\u00edrito Santo\", \"genero\": \"Feminino\", \"mes\": \"Agosto\", \"numero\": 0, \"regiao\": \"Sudeste\"}, {\"ano\": 2014, \"uf\": \"Esp\\u00edrito Santo\", \"genero\": \"Feminino\", \"mes\": \"Setembro\", \"numero\": 2, \"regiao\": \"Sudeste\"}, {\"ano\": 2014, \"uf\": \"Esp\\u00edrito Santo\", \"genero\": \"Feminino\", \"mes\": \"Outubro\", \"numero\": 4, \"regiao\": \"Sudeste\"}, {\"ano\": 2014, \"uf\": \"Esp\\u00edrito Santo\", \"genero\": \"Feminino\", \"mes\": \"Novembro\", \"numero\": 1, \"regiao\": \"Sudeste\"}, {\"ano\": 2014, \"uf\": \"Esp\\u00edrito Santo\", \"genero\": \"Feminino\", \"mes\": \"Dezembro\", \"numero\": 4, \"regiao\": \"Sudeste\"}, {\"ano\": 2013, \"uf\": \"Esp\\u00edrito Santo\", \"genero\": \"Masculino\", \"mes\": \"Janeiro\", \"numero\": 0, \"regiao\": \"Sudeste\"}, {\"ano\": 2013, \"uf\": \"Esp\\u00edrito Santo\", \"genero\": \"Masculino\", \"mes\": \"Fevereiro\", \"numero\": 0, \"regiao\": \"Sudeste\"}, {\"ano\": 2013, \"uf\": \"Esp\\u00edrito Santo\", \"genero\": \"Masculino\", \"mes\": \"Mar\\u00e7o\", \"numero\": 0, \"regiao\": \"Sudeste\"}, {\"ano\": 2013, \"uf\": \"Esp\\u00edrito Santo\", \"genero\": \"Masculino\", \"mes\": \"Abril\", \"numero\": 0, \"regiao\": \"Sudeste\"}, {\"ano\": 2013, \"uf\": \"Esp\\u00edrito Santo\", \"genero\": \"Masculino\", \"mes\": \"Maio\", \"numero\": 2, \"regiao\": \"Sudeste\"}, {\"ano\": 2013, \"uf\": \"Esp\\u00edrito Santo\", \"genero\": \"Masculino\", \"mes\": \"Junho\", \"numero\": 2, \"regiao\": \"Sudeste\"}, {\"ano\": 2013, \"uf\": \"Esp\\u00edrito Santo\", \"genero\": \"Masculino\", \"mes\": \"Julho\", \"numero\": 6, \"regiao\": \"Sudeste\"}, {\"ano\": 2013, \"uf\": \"Esp\\u00edrito Santo\", \"genero\": \"Masculino\", \"mes\": \"Agosto\", \"numero\": 2, \"regiao\": \"Sudeste\"}, {\"ano\": 2013, \"uf\": \"Esp\\u00edrito Santo\", \"genero\": \"Masculino\", \"mes\": \"Setembro\", \"numero\": 0, \"regiao\": \"Sudeste\"}, {\"ano\": 2013, \"uf\": \"Esp\\u00edrito Santo\", \"genero\": \"Masculino\", \"mes\": \"Outubro\", \"numero\": 3, \"regiao\": \"Sudeste\"}, {\"ano\": 2013, \"uf\": \"Esp\\u00edrito Santo\", \"genero\": \"Masculino\", \"mes\": \"Novembro\", \"numero\": 3, \"regiao\": \"Sudeste\"}, {\"ano\": 2013, \"uf\": \"Esp\\u00edrito Santo\", \"genero\": \"Masculino\", \"mes\": \"Dezembro\", \"numero\": 2, \"regiao\": \"Sudeste\"}, {\"ano\": 2013, \"uf\": \"Esp\\u00edrito Santo\", \"genero\": \"Feminino\", \"mes\": \"Janeiro\", \"numero\": 0, \"regiao\": \"Sudeste\"}, {\"ano\": 2013, \"uf\": \"Esp\\u00edrito Santo\", \"genero\": \"Feminino\", \"mes\": \"Fevereiro\", \"numero\": 2, \"regiao\": \"Sudeste\"}, {\"ano\": 2013, \"uf\": \"Esp\\u00edrito Santo\", \"genero\": \"Feminino\", \"mes\": \"Mar\\u00e7o\", \"numero\": 0, \"regiao\": \"Sudeste\"}, {\"ano\": 2013, \"uf\": \"Esp\\u00edrito Santo\", \"genero\": \"Feminino\", \"mes\": \"Abril\", \"numero\": 0, \"regiao\": \"Sudeste\"}, {\"ano\": 2013, \"uf\": \"Esp\\u00edrito Santo\", \"genero\": \"Feminino\", \"mes\": \"Maio\", \"numero\": 3, \"regiao\": \"Sudeste\"}, {\"ano\": 2013, \"uf\": \"Esp\\u00edrito Santo\", \"genero\": \"Feminino\", \"mes\": \"Junho\", \"numero\": 1, \"regiao\": \"Sudeste\"}, {\"ano\": 2013, \"uf\": \"Esp\\u00edrito Santo\", \"genero\": \"Feminino\", \"mes\": \"Julho\", \"numero\": 0, \"regiao\": \"Sudeste\"}, {\"ano\": 2013, \"uf\": \"Esp\\u00edrito Santo\", \"genero\": \"Feminino\", \"mes\": \"Agosto\", \"numero\": 3, \"regiao\": \"Sudeste\"}, {\"ano\": 2013, \"uf\": \"Esp\\u00edrito Santo\", \"genero\": \"Feminino\", \"mes\": \"Setembro\", \"numero\": 4, \"regiao\": \"Sudeste\"}, {\"ano\": 2013, \"uf\": \"Esp\\u00edrito Santo\", \"genero\": \"Feminino\", \"mes\": \"Outubro\", \"numero\": 4, \"regiao\": \"Sudeste\"}, {\"ano\": 2013, \"uf\": \"Esp\\u00edrito Santo\", \"genero\": \"Feminino\", \"mes\": \"Novembro\", \"numero\": 3, \"regiao\": \"Sudeste\"}, {\"ano\": 2013, \"uf\": \"Esp\\u00edrito Santo\", \"genero\": \"Feminino\", \"mes\": \"Dezembro\", \"numero\": 3, \"regiao\": \"Sudeste\"}, {\"ano\": 2015, \"uf\": \"Esp\\u00edrito Santo\", \"genero\": \"Masculino\", \"mes\": \"Janeiro\", \"numero\": 1, \"regiao\": \"Sudeste\"}, {\"ano\": 2015, \"uf\": \"Esp\\u00edrito Santo\", \"genero\": \"Masculino\", \"mes\": \"Fevereiro\", \"numero\": 1, \"regiao\": \"Sudeste\"}, {\"ano\": 2015, \"uf\": \"Esp\\u00edrito Santo\", \"genero\": \"Masculino\", \"mes\": \"Mar\\u00e7o\", \"numero\": 3, \"regiao\": \"Sudeste\"}, {\"ano\": 2015, \"uf\": \"Esp\\u00edrito Santo\", \"genero\": \"Masculino\", \"mes\": \"Abril\", \"numero\": 3, \"regiao\": \"Sudeste\"}, {\"ano\": 2015, \"uf\": \"Esp\\u00edrito Santo\", \"genero\": \"Masculino\", \"mes\": \"Maio\", \"numero\": 2, \"regiao\": \"Sudeste\"}, {\"ano\": 2015, \"uf\": \"Esp\\u00edrito Santo\", \"genero\": \"Masculino\", \"mes\": \"Junho\", \"numero\": 1, \"regiao\": \"Sudeste\"}, {\"ano\": 2015, \"uf\": \"Esp\\u00edrito Santo\", \"genero\": \"Masculino\", \"mes\": \"Julho\", \"numero\": 6, \"regiao\": \"Sudeste\"}, {\"ano\": 2015, \"uf\": \"Esp\\u00edrito Santo\", \"genero\": \"Masculino\", \"mes\": \"Agosto\", \"numero\": 3, \"regiao\": \"Sudeste\"}, {\"ano\": 2015, \"uf\": \"Esp\\u00edrito Santo\", \"genero\": \"Masculino\", \"mes\": \"Setembro\", \"numero\": 4, \"regiao\": \"Sudeste\"}, {\"ano\": 2015, \"uf\": \"Esp\\u00edrito Santo\", \"genero\": \"Masculino\", \"mes\": \"Outubro\", \"numero\": 5, \"regiao\": \"Sudeste\"}, {\"ano\": 2015, \"uf\": \"Esp\\u00edrito Santo\", \"genero\": \"Masculino\", \"mes\": \"Novembro\", \"numero\": 6, \"regiao\": \"Sudeste\"}, {\"ano\": 2015, \"uf\": \"Esp\\u00edrito Santo\", \"genero\": \"Masculino\", \"mes\": \"Dezembro\", \"numero\": 7, \"regiao\": \"Sudeste\"}, {\"ano\": 2016, \"uf\": \"Esp\\u00edrito Santo\", \"genero\": \"Masculino\", \"mes\": \"Janeiro\", \"numero\": 3, \"regiao\": \"Sudeste\"}, {\"ano\": 2016, \"uf\": \"Esp\\u00edrito Santo\", \"genero\": \"Masculino\", \"mes\": \"Fevereiro\", \"numero\": 0, \"regiao\": \"Sudeste\"}, {\"ano\": 2016, \"uf\": \"Esp\\u00edrito Santo\", \"genero\": \"Masculino\", \"mes\": \"Mar\\u00e7o\", \"numero\": 5, \"regiao\": \"Sudeste\"}, {\"ano\": 2016, \"uf\": \"Esp\\u00edrito Santo\", \"genero\": \"Masculino\", \"mes\": \"Abril\", \"numero\": 2, \"regiao\": \"Sudeste\"}, {\"ano\": 2016, \"uf\": \"Esp\\u00edrito Santo\", \"genero\": \"Masculino\", \"mes\": \"Maio\", \"numero\": 9, \"regiao\": \"Sudeste\"}, {\"ano\": 2016, \"uf\": \"Esp\\u00edrito Santo\", \"genero\": \"Masculino\", \"mes\": \"Junho\", \"numero\": 2, \"regiao\": \"Sudeste\"}, {\"ano\": 2016, \"uf\": \"Esp\\u00edrito Santo\", \"genero\": \"Masculino\", \"mes\": \"Julho\", \"numero\": 0, \"regiao\": \"Sudeste\"}, {\"ano\": 2016, \"uf\": \"Esp\\u00edrito Santo\", \"genero\": \"Masculino\", \"mes\": \"Agosto\", \"numero\": 1, \"regiao\": \"Sudeste\"}, {\"ano\": 2016, \"uf\": \"Esp\\u00edrito Santo\", \"genero\": \"Masculino\", \"mes\": \"Setembro\", \"numero\": 2, \"regiao\": \"Sudeste\"}, {\"ano\": 2016, \"uf\": \"Esp\\u00edrito Santo\", \"genero\": \"Masculino\", \"mes\": \"Outubro\", \"numero\": 0, \"regiao\": \"Sudeste\"}, {\"ano\": 2016, \"uf\": \"Esp\\u00edrito Santo\", \"genero\": \"Masculino\", \"mes\": \"Novembro\", \"numero\": 5, \"regiao\": \"Sudeste\"}, {\"ano\": 2016, \"uf\": \"Esp\\u00edrito Santo\", \"genero\": \"Masculino\", \"mes\": \"Dezembro\", \"numero\": 1, \"regiao\": \"Sudeste\"}, {\"ano\": 2017, \"uf\": \"Esp\\u00edrito Santo\", \"genero\": \"Masculino\", \"mes\": \"Janeiro\", \"numero\": 2, \"regiao\": \"Sudeste\"}, {\"ano\": 2017, \"uf\": \"Esp\\u00edrito Santo\", \"genero\": \"Masculino\", \"mes\": \"Fevereiro\", \"numero\": 4, \"regiao\": \"Sudeste\"}, {\"ano\": 2017, \"uf\": \"Esp\\u00edrito Santo\", \"genero\": \"Masculino\", \"mes\": \"Mar\\u00e7o\", \"numero\": 0, \"regiao\": \"Sudeste\"}, {\"ano\": 2017, \"uf\": \"Esp\\u00edrito Santo\", \"genero\": \"Masculino\", \"mes\": \"Abril\", \"numero\": 1, \"regiao\": \"Sudeste\"}, {\"ano\": 2017, \"uf\": \"Esp\\u00edrito Santo\", \"genero\": \"Masculino\", \"mes\": \"Maio\", \"numero\": 5, \"regiao\": \"Sudeste\"}, {\"ano\": 2017, \"uf\": \"Esp\\u00edrito Santo\", \"genero\": \"Masculino\", \"mes\": \"Junho\", \"numero\": 4, \"regiao\": \"Sudeste\"}, {\"ano\": 2017, \"uf\": \"Esp\\u00edrito Santo\", \"genero\": \"Masculino\", \"mes\": \"Julho\", \"numero\": 2, \"regiao\": \"Sudeste\"}, {\"ano\": 2017, \"uf\": \"Esp\\u00edrito Santo\", \"genero\": \"Masculino\", \"mes\": \"Agosto\", \"numero\": 2, \"regiao\": \"Sudeste\"}, {\"ano\": 2017, \"uf\": \"Esp\\u00edrito Santo\", \"genero\": \"Masculino\", \"mes\": \"Setembro\", \"numero\": 7, \"regiao\": \"Sudeste\"}, {\"ano\": 2017, \"uf\": \"Esp\\u00edrito Santo\", \"genero\": \"Masculino\", \"mes\": \"Outubro\", \"numero\": 1, \"regiao\": \"Sudeste\"}, {\"ano\": 2017, \"uf\": \"Esp\\u00edrito Santo\", \"genero\": \"Masculino\", \"mes\": \"Novembro\", \"numero\": 3, \"regiao\": \"Sudeste\"}, {\"ano\": 2017, \"uf\": \"Esp\\u00edrito Santo\", \"genero\": \"Masculino\", \"mes\": \"Dezembro\", \"numero\": 4, \"regiao\": \"Sudeste\"}, {\"ano\": 2018, \"uf\": \"Esp\\u00edrito Santo\", \"genero\": \"Masculino\", \"mes\": \"Janeiro\", \"numero\": 2, \"regiao\": \"Sudeste\"}, {\"ano\": 2018, \"uf\": \"Esp\\u00edrito Santo\", \"genero\": \"Masculino\", \"mes\": \"Fevereiro\", \"numero\": 7, \"regiao\": \"Sudeste\"}, {\"ano\": 2018, \"uf\": \"Esp\\u00edrito Santo\", \"genero\": \"Masculino\", \"mes\": \"Mar\\u00e7o\", \"numero\": 3, \"regiao\": \"Sudeste\"}, {\"ano\": 2018, \"uf\": \"Esp\\u00edrito Santo\", \"genero\": \"Masculino\", \"mes\": \"Abril\", \"numero\": 2, \"regiao\": \"Sudeste\"}, {\"ano\": 2018, \"uf\": \"Esp\\u00edrito Santo\", \"genero\": \"Masculino\", \"mes\": \"Maio\", \"numero\": 6, \"regiao\": \"Sudeste\"}, {\"ano\": 2018, \"uf\": \"Esp\\u00edrito Santo\", \"genero\": \"Masculino\", \"mes\": \"Junho\", \"numero\": 2, \"regiao\": \"Sudeste\"}, {\"ano\": 2018, \"uf\": \"Esp\\u00edrito Santo\", \"genero\": \"Masculino\", \"mes\": \"Julho\", \"numero\": 4, \"regiao\": \"Sudeste\"}, {\"ano\": 2018, \"uf\": \"Esp\\u00edrito Santo\", \"genero\": \"Masculino\", \"mes\": \"Agosto\", \"numero\": 6, \"regiao\": \"Sudeste\"}, {\"ano\": 2018, \"uf\": \"Esp\\u00edrito Santo\", \"genero\": \"Masculino\", \"mes\": \"Setembro\", \"numero\": 4, \"regiao\": \"Sudeste\"}, {\"ano\": 2018, \"uf\": \"Esp\\u00edrito Santo\", \"genero\": \"Masculino\", \"mes\": \"Outubro\", \"numero\": 4, \"regiao\": \"Sudeste\"}, {\"ano\": 2018, \"uf\": \"Esp\\u00edrito Santo\", \"genero\": \"Masculino\", \"mes\": \"Novembro\", \"numero\": 11, \"regiao\": \"Sudeste\"}, {\"ano\": 2018, \"uf\": \"Esp\\u00edrito Santo\", \"genero\": \"Masculino\", \"mes\": \"Dezembro\", \"numero\": 15, \"regiao\": \"Sudeste\"}, {\"ano\": 2019, \"uf\": \"Esp\\u00edrito Santo\", \"genero\": \"Masculino\", \"mes\": \"Janeiro\", \"numero\": 3, \"regiao\": \"Sudeste\"}, {\"ano\": 2019, \"uf\": \"Esp\\u00edrito Santo\", \"genero\": \"Masculino\", \"mes\": \"Fevereiro\", \"numero\": 8, \"regiao\": \"Sudeste\"}, {\"ano\": 2019, \"uf\": \"Esp\\u00edrito Santo\", \"genero\": \"Masculino\", \"mes\": \"Mar\\u00e7o\", \"numero\": 2, \"regiao\": \"Sudeste\"}, {\"ano\": 2019, \"uf\": \"Esp\\u00edrito Santo\", \"genero\": \"Masculino\", \"mes\": \"Abril\", \"numero\": 3, \"regiao\": \"Sudeste\"}, {\"ano\": 2019, \"uf\": \"Esp\\u00edrito Santo\", \"genero\": \"Masculino\", \"mes\": \"Maio\", \"numero\": 5, \"regiao\": \"Sudeste\"}, {\"ano\": 2019, \"uf\": \"Esp\\u00edrito Santo\", \"genero\": \"Masculino\", \"mes\": \"Junho\", \"numero\": 5, \"regiao\": \"Sudeste\"}, {\"ano\": 2019, \"uf\": \"Esp\\u00edrito Santo\", \"genero\": \"Masculino\", \"mes\": \"Julho\", \"numero\": 7, \"regiao\": \"Sudeste\"}, {\"ano\": 2019, \"uf\": \"Esp\\u00edrito Santo\", \"genero\": \"Masculino\", \"mes\": \"Agosto\", \"numero\": 3, \"regiao\": \"Sudeste\"}, {\"ano\": 2019, \"uf\": \"Esp\\u00edrito Santo\", \"genero\": \"Masculino\", \"mes\": \"Setembro\", \"numero\": 6, \"regiao\": \"Sudeste\"}, {\"ano\": 2019, \"uf\": \"Esp\\u00edrito Santo\", \"genero\": \"Masculino\", \"mes\": \"Outubro\", \"numero\": 5, \"regiao\": \"Sudeste\"}, {\"ano\": 2019, \"uf\": \"Esp\\u00edrito Santo\", \"genero\": \"Masculino\", \"mes\": \"Novembro\", \"numero\": 5, \"regiao\": \"Sudeste\"}, {\"ano\": 2019, \"uf\": \"Esp\\u00edrito Santo\", \"genero\": \"Masculino\", \"mes\": \"Dezembro\", \"numero\": 4, \"regiao\": \"Sudeste\"}, {\"ano\": 2015, \"uf\": \"Esp\\u00edrito Santo\", \"genero\": \"Feminino\", \"mes\": \"Janeiro\", \"numero\": 2, \"regiao\": \"Sudeste\"}, {\"ano\": 2015, \"uf\": \"Esp\\u00edrito Santo\", \"genero\": \"Feminino\", \"mes\": \"Fevereiro\", \"numero\": 1, \"regiao\": \"Sudeste\"}, {\"ano\": 2015, \"uf\": \"Esp\\u00edrito Santo\", \"genero\": \"Feminino\", \"mes\": \"Mar\\u00e7o\", \"numero\": 2, \"regiao\": \"Sudeste\"}, {\"ano\": 2015, \"uf\": \"Esp\\u00edrito Santo\", \"genero\": \"Feminino\", \"mes\": \"Abril\", \"numero\": 6, \"regiao\": \"Sudeste\"}, {\"ano\": 2015, \"uf\": \"Esp\\u00edrito Santo\", \"genero\": \"Feminino\", \"mes\": \"Maio\", \"numero\": 3, \"regiao\": \"Sudeste\"}, {\"ano\": 2015, \"uf\": \"Esp\\u00edrito Santo\", \"genero\": \"Feminino\", \"mes\": \"Junho\", \"numero\": 2, \"regiao\": \"Sudeste\"}, {\"ano\": 2015, \"uf\": \"Esp\\u00edrito Santo\", \"genero\": \"Feminino\", \"mes\": \"Julho\", \"numero\": 6, \"regiao\": \"Sudeste\"}, {\"ano\": 2015, \"uf\": \"Esp\\u00edrito Santo\", \"genero\": \"Feminino\", \"mes\": \"Agosto\", \"numero\": 2, \"regiao\": \"Sudeste\"}, {\"ano\": 2015, \"uf\": \"Esp\\u00edrito Santo\", \"genero\": \"Feminino\", \"mes\": \"Setembro\", \"numero\": 1, \"regiao\": \"Sudeste\"}, {\"ano\": 2015, \"uf\": \"Esp\\u00edrito Santo\", \"genero\": \"Feminino\", \"mes\": \"Outubro\", \"numero\": 4, \"regiao\": \"Sudeste\"}, {\"ano\": 2015, \"uf\": \"Esp\\u00edrito Santo\", \"genero\": \"Feminino\", \"mes\": \"Novembro\", \"numero\": 4, \"regiao\": \"Sudeste\"}, {\"ano\": 2015, \"uf\": \"Esp\\u00edrito Santo\", \"genero\": \"Feminino\", \"mes\": \"Dezembro\", \"numero\": 4, \"regiao\": \"Sudeste\"}, {\"ano\": 2016, \"uf\": \"Esp\\u00edrito Santo\", \"genero\": \"Feminino\", \"mes\": \"Janeiro\", \"numero\": 2, \"regiao\": \"Sudeste\"}, {\"ano\": 2016, \"uf\": \"Esp\\u00edrito Santo\", \"genero\": \"Feminino\", \"mes\": \"Fevereiro\", \"numero\": 1, \"regiao\": \"Sudeste\"}, {\"ano\": 2016, \"uf\": \"Esp\\u00edrito Santo\", \"genero\": \"Feminino\", \"mes\": \"Mar\\u00e7o\", \"numero\": 1, \"regiao\": \"Sudeste\"}, {\"ano\": 2016, \"uf\": \"Esp\\u00edrito Santo\", \"genero\": \"Feminino\", \"mes\": \"Abril\", \"numero\": 1, \"regiao\": \"Sudeste\"}, {\"ano\": 2016, \"uf\": \"Esp\\u00edrito Santo\", \"genero\": \"Feminino\", \"mes\": \"Maio\", \"numero\": 8, \"regiao\": \"Sudeste\"}, {\"ano\": 2016, \"uf\": \"Esp\\u00edrito Santo\", \"genero\": \"Feminino\", \"mes\": \"Junho\", \"numero\": 0, \"regiao\": \"Sudeste\"}, {\"ano\": 2016, \"uf\": \"Esp\\u00edrito Santo\", \"genero\": \"Feminino\", \"mes\": \"Julho\", \"numero\": 1, \"regiao\": \"Sudeste\"}, {\"ano\": 2016, \"uf\": \"Esp\\u00edrito Santo\", \"genero\": \"Feminino\", \"mes\": \"Agosto\", \"numero\": 1, \"regiao\": \"Sudeste\"}, {\"ano\": 2016, \"uf\": \"Esp\\u00edrito Santo\", \"genero\": \"Feminino\", \"mes\": \"Setembro\", \"numero\": 5, \"regiao\": \"Sudeste\"}, {\"ano\": 2016, \"uf\": \"Esp\\u00edrito Santo\", \"genero\": \"Feminino\", \"mes\": \"Outubro\", \"numero\": 1, \"regiao\": \"Sudeste\"}, {\"ano\": 2016, \"uf\": \"Esp\\u00edrito Santo\", \"genero\": \"Feminino\", \"mes\": \"Novembro\", \"numero\": 5, \"regiao\": \"Sudeste\"}, {\"ano\": 2016, \"uf\": \"Esp\\u00edrito Santo\", \"genero\": \"Feminino\", \"mes\": \"Dezembro\", \"numero\": 4, \"regiao\": \"Sudeste\"}, {\"ano\": 2017, \"uf\": \"Esp\\u00edrito Santo\", \"genero\": \"Feminino\", \"mes\": \"Janeiro\", \"numero\": 5, \"regiao\": \"Sudeste\"}, {\"ano\": 2017, \"uf\": \"Esp\\u00edrito Santo\", \"genero\": \"Feminino\", \"mes\": \"Fevereiro\", \"numero\": 1, \"regiao\": \"Sudeste\"}, {\"ano\": 2017, \"uf\": \"Esp\\u00edrito Santo\", \"genero\": \"Feminino\", \"mes\": \"Mar\\u00e7o\", \"numero\": 3, \"regiao\": \"Sudeste\"}, {\"ano\": 2017, \"uf\": \"Esp\\u00edrito Santo\", \"genero\": \"Feminino\", \"mes\": \"Abril\", \"numero\": 6, \"regiao\": \"Sudeste\"}, {\"ano\": 2017, \"uf\": \"Esp\\u00edrito Santo\", \"genero\": \"Feminino\", \"mes\": \"Maio\", \"numero\": 3, \"regiao\": \"Sudeste\"}, {\"ano\": 2017, \"uf\": \"Esp\\u00edrito Santo\", \"genero\": \"Feminino\", \"mes\": \"Junho\", \"numero\": 5, \"regiao\": \"Sudeste\"}, {\"ano\": 2017, \"uf\": \"Esp\\u00edrito Santo\", \"genero\": \"Feminino\", \"mes\": \"Julho\", \"numero\": 3, \"regiao\": \"Sudeste\"}, {\"ano\": 2017, \"uf\": \"Esp\\u00edrito Santo\", \"genero\": \"Feminino\", \"mes\": \"Agosto\", \"numero\": 2, \"regiao\": \"Sudeste\"}, {\"ano\": 2017, \"uf\": \"Esp\\u00edrito Santo\", \"genero\": \"Feminino\", \"mes\": \"Setembro\", \"numero\": 4, \"regiao\": \"Sudeste\"}, {\"ano\": 2017, \"uf\": \"Esp\\u00edrito Santo\", \"genero\": \"Feminino\", \"mes\": \"Outubro\", \"numero\": 8, \"regiao\": \"Sudeste\"}, {\"ano\": 2017, \"uf\": \"Esp\\u00edrito Santo\", \"genero\": \"Feminino\", \"mes\": \"Novembro\", \"numero\": 1, \"regiao\": \"Sudeste\"}, {\"ano\": 2017, \"uf\": \"Esp\\u00edrito Santo\", \"genero\": \"Feminino\", \"mes\": \"Dezembro\", \"numero\": 8, \"regiao\": \"Sudeste\"}, {\"ano\": 2018, \"uf\": \"Esp\\u00edrito Santo\", \"genero\": \"Feminino\", \"mes\": \"Janeiro\", \"numero\": 4, \"regiao\": \"Sudeste\"}, {\"ano\": 2018, \"uf\": \"Esp\\u00edrito Santo\", \"genero\": \"Feminino\", \"mes\": \"Fevereiro\", \"numero\": 3, \"regiao\": \"Sudeste\"}, {\"ano\": 2018, \"uf\": \"Esp\\u00edrito Santo\", \"genero\": \"Feminino\", \"mes\": \"Mar\\u00e7o\", \"numero\": 4, \"regiao\": \"Sudeste\"}, {\"ano\": 2018, \"uf\": \"Esp\\u00edrito Santo\", \"genero\": \"Feminino\", \"mes\": \"Abril\", \"numero\": 7, \"regiao\": \"Sudeste\"}, {\"ano\": 2018, \"uf\": \"Esp\\u00edrito Santo\", \"genero\": \"Feminino\", \"mes\": \"Maio\", \"numero\": 5, \"regiao\": \"Sudeste\"}, {\"ano\": 2018, \"uf\": \"Esp\\u00edrito Santo\", \"genero\": \"Feminino\", \"mes\": \"Junho\", \"numero\": 3, \"regiao\": \"Sudeste\"}, {\"ano\": 2018, \"uf\": \"Esp\\u00edrito Santo\", \"genero\": \"Feminino\", \"mes\": \"Julho\", \"numero\": 5, \"regiao\": \"Sudeste\"}, {\"ano\": 2018, \"uf\": \"Esp\\u00edrito Santo\", \"genero\": \"Feminino\", \"mes\": \"Agosto\", \"numero\": 4, \"regiao\": \"Sudeste\"}, {\"ano\": 2018, \"uf\": \"Esp\\u00edrito Santo\", \"genero\": \"Feminino\", \"mes\": \"Setembro\", \"numero\": 4, \"regiao\": \"Sudeste\"}, {\"ano\": 2018, \"uf\": \"Esp\\u00edrito Santo\", \"genero\": \"Feminino\", \"mes\": \"Outubro\", \"numero\": 4, \"regiao\": \"Sudeste\"}, {\"ano\": 2018, \"uf\": \"Esp\\u00edrito Santo\", \"genero\": \"Feminino\", \"mes\": \"Novembro\", \"numero\": 4, \"regiao\": \"Sudeste\"}, {\"ano\": 2018, \"uf\": \"Esp\\u00edrito Santo\", \"genero\": \"Feminino\", \"mes\": \"Dezembro\", \"numero\": 16, \"regiao\": \"Sudeste\"}, {\"ano\": 2019, \"uf\": \"Esp\\u00edrito Santo\", \"genero\": \"Feminino\", \"mes\": \"Janeiro\", \"numero\": 11, \"regiao\": \"Sudeste\"}, {\"ano\": 2019, \"uf\": \"Esp\\u00edrito Santo\", \"genero\": \"Feminino\", \"mes\": \"Fevereiro\", \"numero\": 11, \"regiao\": \"Sudeste\"}, {\"ano\": 2019, \"uf\": \"Esp\\u00edrito Santo\", \"genero\": \"Feminino\", \"mes\": \"Mar\\u00e7o\", \"numero\": 6, \"regiao\": \"Sudeste\"}, {\"ano\": 2019, \"uf\": \"Esp\\u00edrito Santo\", \"genero\": \"Feminino\", \"mes\": \"Abril\", \"numero\": 4, \"regiao\": \"Sudeste\"}, {\"ano\": 2019, \"uf\": \"Esp\\u00edrito Santo\", \"genero\": \"Feminino\", \"mes\": \"Maio\", \"numero\": 5, \"regiao\": \"Sudeste\"}, {\"ano\": 2019, \"uf\": \"Esp\\u00edrito Santo\", \"genero\": \"Feminino\", \"mes\": \"Junho\", \"numero\": 2, \"regiao\": \"Sudeste\"}, {\"ano\": 2019, \"uf\": \"Esp\\u00edrito Santo\", \"genero\": \"Feminino\", \"mes\": \"Julho\", \"numero\": 7, \"regiao\": \"Sudeste\"}, {\"ano\": 2019, \"uf\": \"Esp\\u00edrito Santo\", \"genero\": \"Feminino\", \"mes\": \"Agosto\", \"numero\": 6, \"regiao\": \"Sudeste\"}, {\"ano\": 2019, \"uf\": \"Esp\\u00edrito Santo\", \"genero\": \"Feminino\", \"mes\": \"Setembro\", \"numero\": 8, \"regiao\": \"Sudeste\"}, {\"ano\": 2019, \"uf\": \"Esp\\u00edrito Santo\", \"genero\": \"Feminino\", \"mes\": \"Outubro\", \"numero\": 7, \"regiao\": \"Sudeste\"}, {\"ano\": 2019, \"uf\": \"Esp\\u00edrito Santo\", \"genero\": \"Feminino\", \"mes\": \"Novembro\", \"numero\": 12, \"regiao\": \"Sudeste\"}, {\"ano\": 2019, \"uf\": \"Esp\\u00edrito Santo\", \"genero\": \"Feminino\", \"mes\": \"Dezembro\", \"numero\": 8, \"regiao\": \"Sudeste\"}, {\"ano\": 2014, \"uf\": \"Rio de Janeiro\", \"genero\": \"Masculino\", \"mes\": \"Janeiro\", \"numero\": 17, \"regiao\": \"Sudeste\"}, {\"ano\": 2014, \"uf\": \"Rio de Janeiro\", \"genero\": \"Masculino\", \"mes\": \"Fevereiro\", \"numero\": 9, \"regiao\": \"Sudeste\"}, {\"ano\": 2014, \"uf\": \"Rio de Janeiro\", \"genero\": \"Masculino\", \"mes\": \"Mar\\u00e7o\", \"numero\": 10, \"regiao\": \"Sudeste\"}, {\"ano\": 2014, \"uf\": \"Rio de Janeiro\", \"genero\": \"Masculino\", \"mes\": \"Abril\", \"numero\": 14, \"regiao\": \"Sudeste\"}, {\"ano\": 2014, \"uf\": \"Rio de Janeiro\", \"genero\": \"Masculino\", \"mes\": \"Maio\", \"numero\": 9, \"regiao\": \"Sudeste\"}, {\"ano\": 2014, \"uf\": \"Rio de Janeiro\", \"genero\": \"Masculino\", \"mes\": \"Junho\", \"numero\": 9, \"regiao\": \"Sudeste\"}, {\"ano\": 2014, \"uf\": \"Rio de Janeiro\", \"genero\": \"Masculino\", \"mes\": \"Julho\", \"numero\": 23, \"regiao\": \"Sudeste\"}, {\"ano\": 2014, \"uf\": \"Rio de Janeiro\", \"genero\": \"Masculino\", \"mes\": \"Agosto\", \"numero\": 17, \"regiao\": \"Sudeste\"}, {\"ano\": 2014, \"uf\": \"Rio de Janeiro\", \"genero\": \"Masculino\", \"mes\": \"Setembro\", \"numero\": 25, \"regiao\": \"Sudeste\"}, {\"ano\": 2014, \"uf\": \"Rio de Janeiro\", \"genero\": \"Masculino\", \"mes\": \"Outubro\", \"numero\": 45, \"regiao\": \"Sudeste\"}, {\"ano\": 2014, \"uf\": \"Rio de Janeiro\", \"genero\": \"Masculino\", \"mes\": \"Novembro\", \"numero\": 45, \"regiao\": \"Sudeste\"}, {\"ano\": 2014, \"uf\": \"Rio de Janeiro\", \"genero\": \"Masculino\", \"mes\": \"Dezembro\", \"numero\": 18, \"regiao\": \"Sudeste\"}, {\"ano\": 2014, \"uf\": \"Rio de Janeiro\", \"genero\": \"Feminino\", \"mes\": \"Janeiro\", \"numero\": 21, \"regiao\": \"Sudeste\"}, {\"ano\": 2014, \"uf\": \"Rio de Janeiro\", \"genero\": \"Feminino\", \"mes\": \"Fevereiro\", \"numero\": 16, \"regiao\": \"Sudeste\"}, {\"ano\": 2014, \"uf\": \"Rio de Janeiro\", \"genero\": \"Feminino\", \"mes\": \"Mar\\u00e7o\", \"numero\": 10, \"regiao\": \"Sudeste\"}, {\"ano\": 2014, \"uf\": \"Rio de Janeiro\", \"genero\": \"Feminino\", \"mes\": \"Abril\", \"numero\": 5, \"regiao\": \"Sudeste\"}, {\"ano\": 2014, \"uf\": \"Rio de Janeiro\", \"genero\": \"Feminino\", \"mes\": \"Maio\", \"numero\": 25, \"regiao\": \"Sudeste\"}, {\"ano\": 2014, \"uf\": \"Rio de Janeiro\", \"genero\": \"Feminino\", \"mes\": \"Junho\", \"numero\": 7, \"regiao\": \"Sudeste\"}, {\"ano\": 2014, \"uf\": \"Rio de Janeiro\", \"genero\": \"Feminino\", \"mes\": \"Julho\", \"numero\": 14, \"regiao\": \"Sudeste\"}, {\"ano\": 2014, \"uf\": \"Rio de Janeiro\", \"genero\": \"Feminino\", \"mes\": \"Agosto\", \"numero\": 15, \"regiao\": \"Sudeste\"}, {\"ano\": 2014, \"uf\": \"Rio de Janeiro\", \"genero\": \"Feminino\", \"mes\": \"Setembro\", \"numero\": 26, \"regiao\": \"Sudeste\"}, {\"ano\": 2014, \"uf\": \"Rio de Janeiro\", \"genero\": \"Feminino\", \"mes\": \"Outubro\", \"numero\": 42, \"regiao\": \"Sudeste\"}, {\"ano\": 2014, \"uf\": \"Rio de Janeiro\", \"genero\": \"Feminino\", \"mes\": \"Novembro\", \"numero\": 72, \"regiao\": \"Sudeste\"}, {\"ano\": 2014, \"uf\": \"Rio de Janeiro\", \"genero\": \"Feminino\", \"mes\": \"Dezembro\", \"numero\": 6, \"regiao\": \"Sudeste\"}, {\"ano\": 2013, \"uf\": \"Rio de Janeiro\", \"genero\": \"Masculino\", \"mes\": \"Janeiro\", \"numero\": 1, \"regiao\": \"Sudeste\"}, {\"ano\": 2013, \"uf\": \"Rio de Janeiro\", \"genero\": \"Masculino\", \"mes\": \"Fevereiro\", \"numero\": 2, \"regiao\": \"Sudeste\"}, {\"ano\": 2013, \"uf\": \"Rio de Janeiro\", \"genero\": \"Masculino\", \"mes\": \"Mar\\u00e7o\", \"numero\": 1, \"regiao\": \"Sudeste\"}, {\"ano\": 2013, \"uf\": \"Rio de Janeiro\", \"genero\": \"Masculino\", \"mes\": \"Abril\", \"numero\": 2, \"regiao\": \"Sudeste\"}, {\"ano\": 2013, \"uf\": \"Rio de Janeiro\", \"genero\": \"Masculino\", \"mes\": \"Maio\", \"numero\": 1, \"regiao\": \"Sudeste\"}, {\"ano\": 2013, \"uf\": \"Rio de Janeiro\", \"genero\": \"Masculino\", \"mes\": \"Junho\", \"numero\": 5, \"regiao\": \"Sudeste\"}, {\"ano\": 2013, \"uf\": \"Rio de Janeiro\", \"genero\": \"Masculino\", \"mes\": \"Julho\", \"numero\": 14, \"regiao\": \"Sudeste\"}, {\"ano\": 2013, \"uf\": \"Rio de Janeiro\", \"genero\": \"Masculino\", \"mes\": \"Agosto\", \"numero\": 17, \"regiao\": \"Sudeste\"}, {\"ano\": 2013, \"uf\": \"Rio de Janeiro\", \"genero\": \"Masculino\", \"mes\": \"Setembro\", \"numero\": 21, \"regiao\": \"Sudeste\"}, {\"ano\": 2013, \"uf\": \"Rio de Janeiro\", \"genero\": \"Masculino\", \"mes\": \"Outubro\", \"numero\": 24, \"regiao\": \"Sudeste\"}, {\"ano\": 2013, \"uf\": \"Rio de Janeiro\", \"genero\": \"Masculino\", \"mes\": \"Novembro\", \"numero\": 10, \"regiao\": \"Sudeste\"}, {\"ano\": 2013, \"uf\": \"Rio de Janeiro\", \"genero\": \"Masculino\", \"mes\": \"Dezembro\", \"numero\": 14, \"regiao\": \"Sudeste\"}, {\"ano\": 2013, \"uf\": \"Rio de Janeiro\", \"genero\": \"Feminino\", \"mes\": \"Janeiro\", \"numero\": 0, \"regiao\": \"Sudeste\"}, {\"ano\": 2013, \"uf\": \"Rio de Janeiro\", \"genero\": \"Feminino\", \"mes\": \"Fevereiro\", \"numero\": 1, \"regiao\": \"Sudeste\"}, {\"ano\": 2013, \"uf\": \"Rio de Janeiro\", \"genero\": \"Feminino\", \"mes\": \"Mar\\u00e7o\", \"numero\": 0, \"regiao\": \"Sudeste\"}, {\"ano\": 2013, \"uf\": \"Rio de Janeiro\", \"genero\": \"Feminino\", \"mes\": \"Abril\", \"numero\": 0, \"regiao\": \"Sudeste\"}, {\"ano\": 2013, \"uf\": \"Rio de Janeiro\", \"genero\": \"Feminino\", \"mes\": \"Maio\", \"numero\": 2, \"regiao\": \"Sudeste\"}, {\"ano\": 2013, \"uf\": \"Rio de Janeiro\", \"genero\": \"Feminino\", \"mes\": \"Junho\", \"numero\": 6, \"regiao\": \"Sudeste\"}, {\"ano\": 2013, \"uf\": \"Rio de Janeiro\", \"genero\": \"Feminino\", \"mes\": \"Julho\", \"numero\": 9, \"regiao\": \"Sudeste\"}, {\"ano\": 2013, \"uf\": \"Rio de Janeiro\", \"genero\": \"Feminino\", \"mes\": \"Agosto\", \"numero\": 17, \"regiao\": \"Sudeste\"}, {\"ano\": 2013, \"uf\": \"Rio de Janeiro\", \"genero\": \"Feminino\", \"mes\": \"Setembro\", \"numero\": 13, \"regiao\": \"Sudeste\"}, {\"ano\": 2013, \"uf\": \"Rio de Janeiro\", \"genero\": \"Feminino\", \"mes\": \"Outubro\", \"numero\": 8, \"regiao\": \"Sudeste\"}, {\"ano\": 2013, \"uf\": \"Rio de Janeiro\", \"genero\": \"Feminino\", \"mes\": \"Novembro\", \"numero\": 17, \"regiao\": \"Sudeste\"}, {\"ano\": 2013, \"uf\": \"Rio de Janeiro\", \"genero\": \"Feminino\", \"mes\": \"Dezembro\", \"numero\": 26, \"regiao\": \"Sudeste\"}, {\"ano\": 2015, \"uf\": \"Rio de Janeiro\", \"genero\": \"Masculino\", \"mes\": \"Janeiro\", \"numero\": 11, \"regiao\": \"Sudeste\"}, {\"ano\": 2015, \"uf\": \"Rio de Janeiro\", \"genero\": \"Masculino\", \"mes\": \"Fevereiro\", \"numero\": 14, \"regiao\": \"Sudeste\"}, {\"ano\": 2015, \"uf\": \"Rio de Janeiro\", \"genero\": \"Masculino\", \"mes\": \"Mar\\u00e7o\", \"numero\": 18, \"regiao\": \"Sudeste\"}, {\"ano\": 2015, \"uf\": \"Rio de Janeiro\", \"genero\": \"Masculino\", \"mes\": \"Abril\", \"numero\": 23, \"regiao\": \"Sudeste\"}, {\"ano\": 2015, \"uf\": \"Rio de Janeiro\", \"genero\": \"Masculino\", \"mes\": \"Maio\", \"numero\": 16, \"regiao\": \"Sudeste\"}, {\"ano\": 2015, \"uf\": \"Rio de Janeiro\", \"genero\": \"Masculino\", \"mes\": \"Junho\", \"numero\": 23, \"regiao\": \"Sudeste\"}, {\"ano\": 2015, \"uf\": \"Rio de Janeiro\", \"genero\": \"Masculino\", \"mes\": \"Julho\", \"numero\": 20, \"regiao\": \"Sudeste\"}, {\"ano\": 2015, \"uf\": \"Rio de Janeiro\", \"genero\": \"Masculino\", \"mes\": \"Agosto\", \"numero\": 17, \"regiao\": \"Sudeste\"}, {\"ano\": 2015, \"uf\": \"Rio de Janeiro\", \"genero\": \"Masculino\", \"mes\": \"Setembro\", \"numero\": 26, \"regiao\": \"Sudeste\"}, {\"ano\": 2015, \"uf\": \"Rio de Janeiro\", \"genero\": \"Masculino\", \"mes\": \"Outubro\", \"numero\": 23, \"regiao\": \"Sudeste\"}, {\"ano\": 2015, \"uf\": \"Rio de Janeiro\", \"genero\": \"Masculino\", \"mes\": \"Novembro\", \"numero\": 32, \"regiao\": \"Sudeste\"}, {\"ano\": 2015, \"uf\": \"Rio de Janeiro\", \"genero\": \"Masculino\", \"mes\": \"Dezembro\", \"numero\": 52, \"regiao\": \"Sudeste\"}, {\"ano\": 2016, \"uf\": \"Rio de Janeiro\", \"genero\": \"Masculino\", \"mes\": \"Janeiro\", \"numero\": 14, \"regiao\": \"Sudeste\"}, {\"ano\": 2016, \"uf\": \"Rio de Janeiro\", \"genero\": \"Masculino\", \"mes\": \"Fevereiro\", \"numero\": 27, \"regiao\": \"Sudeste\"}, {\"ano\": 2016, \"uf\": \"Rio de Janeiro\", \"genero\": \"Masculino\", \"mes\": \"Mar\\u00e7o\", \"numero\": 22, \"regiao\": \"Sudeste\"}, {\"ano\": 2016, \"uf\": \"Rio de Janeiro\", \"genero\": \"Masculino\", \"mes\": \"Abril\", \"numero\": 32, \"regiao\": \"Sudeste\"}, {\"ano\": 2016, \"uf\": \"Rio de Janeiro\", \"genero\": \"Masculino\", \"mes\": \"Maio\", \"numero\": 24, \"regiao\": \"Sudeste\"}, {\"ano\": 2016, \"uf\": \"Rio de Janeiro\", \"genero\": \"Masculino\", \"mes\": \"Junho\", \"numero\": 24, \"regiao\": \"Sudeste\"}, {\"ano\": 2016, \"uf\": \"Rio de Janeiro\", \"genero\": \"Masculino\", \"mes\": \"Julho\", \"numero\": 19, \"regiao\": \"Sudeste\"}, {\"ano\": 2016, \"uf\": \"Rio de Janeiro\", \"genero\": \"Masculino\", \"mes\": \"Agosto\", \"numero\": 27, \"regiao\": \"Sudeste\"}, {\"ano\": 2016, \"uf\": \"Rio de Janeiro\", \"genero\": \"Masculino\", \"mes\": \"Setembro\", \"numero\": 26, \"regiao\": \"Sudeste\"}, {\"ano\": 2016, \"uf\": \"Rio de Janeiro\", \"genero\": \"Masculino\", \"mes\": \"Outubro\", \"numero\": 26, \"regiao\": \"Sudeste\"}, {\"ano\": 2016, \"uf\": \"Rio de Janeiro\", \"genero\": \"Masculino\", \"mes\": \"Novembro\", \"numero\": 19, \"regiao\": \"Sudeste\"}, {\"ano\": 2016, \"uf\": \"Rio de Janeiro\", \"genero\": \"Masculino\", \"mes\": \"Dezembro\", \"numero\": 15, \"regiao\": \"Sudeste\"}, {\"ano\": 2017, \"uf\": \"Rio de Janeiro\", \"genero\": \"Masculino\", \"mes\": \"Janeiro\", \"numero\": 18, \"regiao\": \"Sudeste\"}, {\"ano\": 2017, \"uf\": \"Rio de Janeiro\", \"genero\": \"Masculino\", \"mes\": \"Fevereiro\", \"numero\": 14, \"regiao\": \"Sudeste\"}, {\"ano\": 2017, \"uf\": \"Rio de Janeiro\", \"genero\": \"Masculino\", \"mes\": \"Mar\\u00e7o\", \"numero\": 16, \"regiao\": \"Sudeste\"}, {\"ano\": 2017, \"uf\": \"Rio de Janeiro\", \"genero\": \"Masculino\", \"mes\": \"Abril\", \"numero\": 10, \"regiao\": \"Sudeste\"}, {\"ano\": 2017, \"uf\": \"Rio de Janeiro\", \"genero\": \"Masculino\", \"mes\": \"Maio\", \"numero\": 23, \"regiao\": \"Sudeste\"}, {\"ano\": 2017, \"uf\": \"Rio de Janeiro\", \"genero\": \"Masculino\", \"mes\": \"Junho\", \"numero\": 17, \"regiao\": \"Sudeste\"}, {\"ano\": 2017, \"uf\": \"Rio de Janeiro\", \"genero\": \"Masculino\", \"mes\": \"Julho\", \"numero\": 11, \"regiao\": \"Sudeste\"}, {\"ano\": 2017, \"uf\": \"Rio de Janeiro\", \"genero\": \"Masculino\", \"mes\": \"Agosto\", \"numero\": 11, \"regiao\": \"Sudeste\"}, {\"ano\": 2017, \"uf\": \"Rio de Janeiro\", \"genero\": \"Masculino\", \"mes\": \"Setembro\", \"numero\": 22, \"regiao\": \"Sudeste\"}, {\"ano\": 2017, \"uf\": \"Rio de Janeiro\", \"genero\": \"Masculino\", \"mes\": \"Outubro\", \"numero\": 21, \"regiao\": \"Sudeste\"}, {\"ano\": 2017, \"uf\": \"Rio de Janeiro\", \"genero\": \"Masculino\", \"mes\": \"Novembro\", \"numero\": 21, \"regiao\": \"Sudeste\"}, {\"ano\": 2017, \"uf\": \"Rio de Janeiro\", \"genero\": \"Masculino\", \"mes\": \"Dezembro\", \"numero\": 25, \"regiao\": \"Sudeste\"}, {\"ano\": 2018, \"uf\": \"Rio de Janeiro\", \"genero\": \"Masculino\", \"mes\": \"Janeiro\", \"numero\": 20, \"regiao\": \"Sudeste\"}, {\"ano\": 2018, \"uf\": \"Rio de Janeiro\", \"genero\": \"Masculino\", \"mes\": \"Fevereiro\", \"numero\": 27, \"regiao\": \"Sudeste\"}, {\"ano\": 2018, \"uf\": \"Rio de Janeiro\", \"genero\": \"Masculino\", \"mes\": \"Mar\\u00e7o\", \"numero\": 21, \"regiao\": \"Sudeste\"}, {\"ano\": 2018, \"uf\": \"Rio de Janeiro\", \"genero\": \"Masculino\", \"mes\": \"Abril\", \"numero\": 17, \"regiao\": \"Sudeste\"}, {\"ano\": 2018, \"uf\": \"Rio de Janeiro\", \"genero\": \"Masculino\", \"mes\": \"Maio\", \"numero\": 22, \"regiao\": \"Sudeste\"}, {\"ano\": 2018, \"uf\": \"Rio de Janeiro\", \"genero\": \"Masculino\", \"mes\": \"Junho\", \"numero\": 20, \"regiao\": \"Sudeste\"}, {\"ano\": 2018, \"uf\": \"Rio de Janeiro\", \"genero\": \"Masculino\", \"mes\": \"Julho\", \"numero\": 26, \"regiao\": \"Sudeste\"}, {\"ano\": 2018, \"uf\": \"Rio de Janeiro\", \"genero\": \"Masculino\", \"mes\": \"Agosto\", \"numero\": 24, \"regiao\": \"Sudeste\"}, {\"ano\": 2018, \"uf\": \"Rio de Janeiro\", \"genero\": \"Masculino\", \"mes\": \"Setembro\", \"numero\": 20, \"regiao\": \"Sudeste\"}, {\"ano\": 2018, \"uf\": \"Rio de Janeiro\", \"genero\": \"Masculino\", \"mes\": \"Outubro\", \"numero\": 32, \"regiao\": \"Sudeste\"}, {\"ano\": 2018, \"uf\": \"Rio de Janeiro\", \"genero\": \"Masculino\", \"mes\": \"Novembro\", \"numero\": 28, \"regiao\": \"Sudeste\"}, {\"ano\": 2018, \"uf\": \"Rio de Janeiro\", \"genero\": \"Masculino\", \"mes\": \"Dezembro\", \"numero\": 60, \"regiao\": \"Sudeste\"}, {\"ano\": 2019, \"uf\": \"Rio de Janeiro\", \"genero\": \"Masculino\", \"mes\": \"Janeiro\", \"numero\": 59, \"regiao\": \"Sudeste\"}, {\"ano\": 2019, \"uf\": \"Rio de Janeiro\", \"genero\": \"Masculino\", \"mes\": \"Fevereiro\", \"numero\": 52, \"regiao\": \"Sudeste\"}, {\"ano\": 2019, \"uf\": \"Rio de Janeiro\", \"genero\": \"Masculino\", \"mes\": \"Mar\\u00e7o\", \"numero\": 44, \"regiao\": \"Sudeste\"}, {\"ano\": 2019, \"uf\": \"Rio de Janeiro\", \"genero\": \"Masculino\", \"mes\": \"Abril\", \"numero\": 30, \"regiao\": \"Sudeste\"}, {\"ano\": 2019, \"uf\": \"Rio de Janeiro\", \"genero\": \"Masculino\", \"mes\": \"Maio\", \"numero\": 35, \"regiao\": \"Sudeste\"}, {\"ano\": 2019, \"uf\": \"Rio de Janeiro\", \"genero\": \"Masculino\", \"mes\": \"Junho\", \"numero\": 28, \"regiao\": \"Sudeste\"}, {\"ano\": 2019, \"uf\": \"Rio de Janeiro\", \"genero\": \"Masculino\", \"mes\": \"Julho\", \"numero\": 24, \"regiao\": \"Sudeste\"}, {\"ano\": 2019, \"uf\": \"Rio de Janeiro\", \"genero\": \"Masculino\", \"mes\": \"Agosto\", \"numero\": 29, \"regiao\": \"Sudeste\"}, {\"ano\": 2019, \"uf\": \"Rio de Janeiro\", \"genero\": \"Masculino\", \"mes\": \"Setembro\", \"numero\": 30, \"regiao\": \"Sudeste\"}, {\"ano\": 2019, \"uf\": \"Rio de Janeiro\", \"genero\": \"Masculino\", \"mes\": \"Outubro\", \"numero\": 27, \"regiao\": \"Sudeste\"}, {\"ano\": 2019, \"uf\": \"Rio de Janeiro\", \"genero\": \"Masculino\", \"mes\": \"Novembro\", \"numero\": 25, \"regiao\": \"Sudeste\"}, {\"ano\": 2019, \"uf\": \"Rio de Janeiro\", \"genero\": \"Masculino\", \"mes\": \"Dezembro\", \"numero\": 27, \"regiao\": \"Sudeste\"}, {\"ano\": 2015, \"uf\": \"Rio de Janeiro\", \"genero\": \"Feminino\", \"mes\": \"Janeiro\", \"numero\": 13, \"regiao\": \"Sudeste\"}, {\"ano\": 2015, \"uf\": \"Rio de Janeiro\", \"genero\": \"Feminino\", \"mes\": \"Fevereiro\", \"numero\": 23, \"regiao\": \"Sudeste\"}, {\"ano\": 2015, \"uf\": \"Rio de Janeiro\", \"genero\": \"Feminino\", \"mes\": \"Mar\\u00e7o\", \"numero\": 23, \"regiao\": \"Sudeste\"}, {\"ano\": 2015, \"uf\": \"Rio de Janeiro\", \"genero\": \"Feminino\", \"mes\": \"Abril\", \"numero\": 15, \"regiao\": \"Sudeste\"}, {\"ano\": 2015, \"uf\": \"Rio de Janeiro\", \"genero\": \"Feminino\", \"mes\": \"Maio\", \"numero\": 18, \"regiao\": \"Sudeste\"}, {\"ano\": 2015, \"uf\": \"Rio de Janeiro\", \"genero\": \"Feminino\", \"mes\": \"Junho\", \"numero\": 26, \"regiao\": \"Sudeste\"}, {\"ano\": 2015, \"uf\": \"Rio de Janeiro\", \"genero\": \"Feminino\", \"mes\": \"Julho\", \"numero\": 26, \"regiao\": \"Sudeste\"}, {\"ano\": 2015, \"uf\": \"Rio de Janeiro\", \"genero\": \"Feminino\", \"mes\": \"Agosto\", \"numero\": 13, \"regiao\": \"Sudeste\"}, {\"ano\": 2015, \"uf\": \"Rio de Janeiro\", \"genero\": \"Feminino\", \"mes\": \"Setembro\", \"numero\": 26, \"regiao\": \"Sudeste\"}, {\"ano\": 2015, \"uf\": \"Rio de Janeiro\", \"genero\": \"Feminino\", \"mes\": \"Outubro\", \"numero\": 20, \"regiao\": \"Sudeste\"}, {\"ano\": 2015, \"uf\": \"Rio de Janeiro\", \"genero\": \"Feminino\", \"mes\": \"Novembro\", \"numero\": 27, \"regiao\": \"Sudeste\"}, {\"ano\": 2015, \"uf\": \"Rio de Janeiro\", \"genero\": \"Feminino\", \"mes\": \"Dezembro\", \"numero\": 107, \"regiao\": \"Sudeste\"}, {\"ano\": 2016, \"uf\": \"Rio de Janeiro\", \"genero\": \"Feminino\", \"mes\": \"Janeiro\", \"numero\": 25, \"regiao\": \"Sudeste\"}, {\"ano\": 2016, \"uf\": \"Rio de Janeiro\", \"genero\": \"Feminino\", \"mes\": \"Fevereiro\", \"numero\": 21, \"regiao\": \"Sudeste\"}, {\"ano\": 2016, \"uf\": \"Rio de Janeiro\", \"genero\": \"Feminino\", \"mes\": \"Mar\\u00e7o\", \"numero\": 24, \"regiao\": \"Sudeste\"}, {\"ano\": 2016, \"uf\": \"Rio de Janeiro\", \"genero\": \"Feminino\", \"mes\": \"Abril\", \"numero\": 21, \"regiao\": \"Sudeste\"}, {\"ano\": 2016, \"uf\": \"Rio de Janeiro\", \"genero\": \"Feminino\", \"mes\": \"Maio\", \"numero\": 32, \"regiao\": \"Sudeste\"}, {\"ano\": 2016, \"uf\": \"Rio de Janeiro\", \"genero\": \"Feminino\", \"mes\": \"Junho\", \"numero\": 20, \"regiao\": \"Sudeste\"}, {\"ano\": 2016, \"uf\": \"Rio de Janeiro\", \"genero\": \"Feminino\", \"mes\": \"Julho\", \"numero\": 27, \"regiao\": \"Sudeste\"}, {\"ano\": 2016, \"uf\": \"Rio de Janeiro\", \"genero\": \"Feminino\", \"mes\": \"Agosto\", \"numero\": 18, \"regiao\": \"Sudeste\"}, {\"ano\": 2016, \"uf\": \"Rio de Janeiro\", \"genero\": \"Feminino\", \"mes\": \"Setembro\", \"numero\": 34, \"regiao\": \"Sudeste\"}, {\"ano\": 2016, \"uf\": \"Rio de Janeiro\", \"genero\": \"Feminino\", \"mes\": \"Outubro\", \"numero\": 27, \"regiao\": \"Sudeste\"}, {\"ano\": 2016, \"uf\": \"Rio de Janeiro\", \"genero\": \"Feminino\", \"mes\": \"Novembro\", \"numero\": 27, \"regiao\": \"Sudeste\"}, {\"ano\": 2016, \"uf\": \"Rio de Janeiro\", \"genero\": \"Feminino\", \"mes\": \"Dezembro\", \"numero\": 27, \"regiao\": \"Sudeste\"}, {\"ano\": 2017, \"uf\": \"Rio de Janeiro\", \"genero\": \"Feminino\", \"mes\": \"Janeiro\", \"numero\": 22, \"regiao\": \"Sudeste\"}, {\"ano\": 2017, \"uf\": \"Rio de Janeiro\", \"genero\": \"Feminino\", \"mes\": \"Fevereiro\", \"numero\": 17, \"regiao\": \"Sudeste\"}, {\"ano\": 2017, \"uf\": \"Rio de Janeiro\", \"genero\": \"Feminino\", \"mes\": \"Mar\\u00e7o\", \"numero\": 30, \"regiao\": \"Sudeste\"}, {\"ano\": 2017, \"uf\": \"Rio de Janeiro\", \"genero\": \"Feminino\", \"mes\": \"Abril\", \"numero\": 26, \"regiao\": \"Sudeste\"}, {\"ano\": 2017, \"uf\": \"Rio de Janeiro\", \"genero\": \"Feminino\", \"mes\": \"Maio\", \"numero\": 23, \"regiao\": \"Sudeste\"}, {\"ano\": 2017, \"uf\": \"Rio de Janeiro\", \"genero\": \"Feminino\", \"mes\": \"Junho\", \"numero\": 20, \"regiao\": \"Sudeste\"}, {\"ano\": 2017, \"uf\": \"Rio de Janeiro\", \"genero\": \"Feminino\", \"mes\": \"Julho\", \"numero\": 24, \"regiao\": \"Sudeste\"}, {\"ano\": 2017, \"uf\": \"Rio de Janeiro\", \"genero\": \"Feminino\", \"mes\": \"Agosto\", \"numero\": 31, \"regiao\": \"Sudeste\"}, {\"ano\": 2017, \"uf\": \"Rio de Janeiro\", \"genero\": \"Feminino\", \"mes\": \"Setembro\", \"numero\": 29, \"regiao\": \"Sudeste\"}, {\"ano\": 2017, \"uf\": \"Rio de Janeiro\", \"genero\": \"Feminino\", \"mes\": \"Outubro\", \"numero\": 29, \"regiao\": \"Sudeste\"}, {\"ano\": 2017, \"uf\": \"Rio de Janeiro\", \"genero\": \"Feminino\", \"mes\": \"Novembro\", \"numero\": 22, \"regiao\": \"Sudeste\"}, {\"ano\": 2017, \"uf\": \"Rio de Janeiro\", \"genero\": \"Feminino\", \"mes\": \"Dezembro\", \"numero\": 26, \"regiao\": \"Sudeste\"}, {\"ano\": 2018, \"uf\": \"Rio de Janeiro\", \"genero\": \"Feminino\", \"mes\": \"Janeiro\", \"numero\": 25, \"regiao\": \"Sudeste\"}, {\"ano\": 2018, \"uf\": \"Rio de Janeiro\", \"genero\": \"Feminino\", \"mes\": \"Fevereiro\", \"numero\": 14, \"regiao\": \"Sudeste\"}, {\"ano\": 2018, \"uf\": \"Rio de Janeiro\", \"genero\": \"Feminino\", \"mes\": \"Mar\\u00e7o\", \"numero\": 33, \"regiao\": \"Sudeste\"}, {\"ano\": 2018, \"uf\": \"Rio de Janeiro\", \"genero\": \"Feminino\", \"mes\": \"Abril\", \"numero\": 24, \"regiao\": \"Sudeste\"}, {\"ano\": 2018, \"uf\": \"Rio de Janeiro\", \"genero\": \"Feminino\", \"mes\": \"Maio\", \"numero\": 21, \"regiao\": \"Sudeste\"}, {\"ano\": 2018, \"uf\": \"Rio de Janeiro\", \"genero\": \"Feminino\", \"mes\": \"Junho\", \"numero\": 23, \"regiao\": \"Sudeste\"}, {\"ano\": 2018, \"uf\": \"Rio de Janeiro\", \"genero\": \"Feminino\", \"mes\": \"Julho\", \"numero\": 24, \"regiao\": \"Sudeste\"}, {\"ano\": 2018, \"uf\": \"Rio de Janeiro\", \"genero\": \"Feminino\", \"mes\": \"Agosto\", \"numero\": 32, \"regiao\": \"Sudeste\"}, {\"ano\": 2018, \"uf\": \"Rio de Janeiro\", \"genero\": \"Feminino\", \"mes\": \"Setembro\", \"numero\": 29, \"regiao\": \"Sudeste\"}, {\"ano\": 2018, \"uf\": \"Rio de Janeiro\", \"genero\": \"Feminino\", \"mes\": \"Outubro\", \"numero\": 35, \"regiao\": \"Sudeste\"}, {\"ano\": 2018, \"uf\": \"Rio de Janeiro\", \"genero\": \"Feminino\", \"mes\": \"Novembro\", \"numero\": 37, \"regiao\": \"Sudeste\"}, {\"ano\": 2018, \"uf\": \"Rio de Janeiro\", \"genero\": \"Feminino\", \"mes\": \"Dezembro\", \"numero\": 109, \"regiao\": \"Sudeste\"}, {\"ano\": 2019, \"uf\": \"Rio de Janeiro\", \"genero\": \"Feminino\", \"mes\": \"Janeiro\", \"numero\": 76, \"regiao\": \"Sudeste\"}, {\"ano\": 2019, \"uf\": \"Rio de Janeiro\", \"genero\": \"Feminino\", \"mes\": \"Fevereiro\", \"numero\": 82, \"regiao\": \"Sudeste\"}, {\"ano\": 2019, \"uf\": \"Rio de Janeiro\", \"genero\": \"Feminino\", \"mes\": \"Mar\\u00e7o\", \"numero\": 60, \"regiao\": \"Sudeste\"}, {\"ano\": 2019, \"uf\": \"Rio de Janeiro\", \"genero\": \"Feminino\", \"mes\": \"Abril\", \"numero\": 55, \"regiao\": \"Sudeste\"}, {\"ano\": 2019, \"uf\": \"Rio de Janeiro\", \"genero\": \"Feminino\", \"mes\": \"Maio\", \"numero\": 53, \"regiao\": \"Sudeste\"}, {\"ano\": 2019, \"uf\": \"Rio de Janeiro\", \"genero\": \"Feminino\", \"mes\": \"Junho\", \"numero\": 33, \"regiao\": \"Sudeste\"}, {\"ano\": 2019, \"uf\": \"Rio de Janeiro\", \"genero\": \"Feminino\", \"mes\": \"Julho\", \"numero\": 26, \"regiao\": \"Sudeste\"}, {\"ano\": 2019, \"uf\": \"Rio de Janeiro\", \"genero\": \"Feminino\", \"mes\": \"Agosto\", \"numero\": 25, \"regiao\": \"Sudeste\"}, {\"ano\": 2019, \"uf\": \"Rio de Janeiro\", \"genero\": \"Feminino\", \"mes\": \"Setembro\", \"numero\": 30, \"regiao\": \"Sudeste\"}, {\"ano\": 2019, \"uf\": \"Rio de Janeiro\", \"genero\": \"Feminino\", \"mes\": \"Outubro\", \"numero\": 43, \"regiao\": \"Sudeste\"}, {\"ano\": 2019, \"uf\": \"Rio de Janeiro\", \"genero\": \"Feminino\", \"mes\": \"Novembro\", \"numero\": 40, \"regiao\": \"Sudeste\"}, {\"ano\": 2019, \"uf\": \"Rio de Janeiro\", \"genero\": \"Feminino\", \"mes\": \"Dezembro\", \"numero\": 45, \"regiao\": \"Sudeste\"}, {\"ano\": 2014, \"uf\": \"S\\u00e3o Paulo\", \"genero\": \"Masculino\", \"mes\": \"Janeiro\", \"numero\": 64, \"regiao\": \"Sudeste\"}, {\"ano\": 2014, \"uf\": \"S\\u00e3o Paulo\", \"genero\": \"Masculino\", \"mes\": \"Fevereiro\", \"numero\": 76, \"regiao\": \"Sudeste\"}, {\"ano\": 2014, \"uf\": \"S\\u00e3o Paulo\", \"genero\": \"Masculino\", \"mes\": \"Mar\\u00e7o\", \"numero\": 80, \"regiao\": \"Sudeste\"}, {\"ano\": 2014, \"uf\": \"S\\u00e3o Paulo\", \"genero\": \"Masculino\", \"mes\": \"Abril\", \"numero\": 61, \"regiao\": \"Sudeste\"}, {\"ano\": 2014, \"uf\": \"S\\u00e3o Paulo\", \"genero\": \"Masculino\", \"mes\": \"Maio\", \"numero\": 74, \"regiao\": \"Sudeste\"}, {\"ano\": 2014, \"uf\": \"S\\u00e3o Paulo\", \"genero\": \"Masculino\", \"mes\": \"Junho\", \"numero\": 51, \"regiao\": \"Sudeste\"}, {\"ano\": 2014, \"uf\": \"S\\u00e3o Paulo\", \"genero\": \"Masculino\", \"mes\": \"Julho\", \"numero\": 65, \"regiao\": \"Sudeste\"}, {\"ano\": 2014, \"uf\": \"S\\u00e3o Paulo\", \"genero\": \"Masculino\", \"mes\": \"Agosto\", \"numero\": 67, \"regiao\": \"Sudeste\"}, {\"ano\": 2014, \"uf\": \"S\\u00e3o Paulo\", \"genero\": \"Masculino\", \"mes\": \"Setembro\", \"numero\": 94, \"regiao\": \"Sudeste\"}, {\"ano\": 2014, \"uf\": \"S\\u00e3o Paulo\", \"genero\": \"Masculino\", \"mes\": \"Outubro\", \"numero\": 81, \"regiao\": \"Sudeste\"}, {\"ano\": 2014, \"uf\": \"S\\u00e3o Paulo\", \"genero\": \"Masculino\", \"mes\": \"Novembro\", \"numero\": 86, \"regiao\": \"Sudeste\"}, {\"ano\": 2014, \"uf\": \"S\\u00e3o Paulo\", \"genero\": \"Masculino\", \"mes\": \"Dezembro\", \"numero\": 99, \"regiao\": \"Sudeste\"}, {\"ano\": 2014, \"uf\": \"S\\u00e3o Paulo\", \"genero\": \"Feminino\", \"mes\": \"Janeiro\", \"numero\": 77, \"regiao\": \"Sudeste\"}, {\"ano\": 2014, \"uf\": \"S\\u00e3o Paulo\", \"genero\": \"Feminino\", \"mes\": \"Fevereiro\", \"numero\": 69, \"regiao\": \"Sudeste\"}, {\"ano\": 2014, \"uf\": \"S\\u00e3o Paulo\", \"genero\": \"Feminino\", \"mes\": \"Mar\\u00e7o\", \"numero\": 77, \"regiao\": \"Sudeste\"}, {\"ano\": 2014, \"uf\": \"S\\u00e3o Paulo\", \"genero\": \"Feminino\", \"mes\": \"Abril\", \"numero\": 74, \"regiao\": \"Sudeste\"}, {\"ano\": 2014, \"uf\": \"S\\u00e3o Paulo\", \"genero\": \"Feminino\", \"mes\": \"Maio\", \"numero\": 100, \"regiao\": \"Sudeste\"}, {\"ano\": 2014, \"uf\": \"S\\u00e3o Paulo\", \"genero\": \"Feminino\", \"mes\": \"Junho\", \"numero\": 79, \"regiao\": \"Sudeste\"}, {\"ano\": 2014, \"uf\": \"S\\u00e3o Paulo\", \"genero\": \"Feminino\", \"mes\": \"Julho\", \"numero\": 86, \"regiao\": \"Sudeste\"}, {\"ano\": 2014, \"uf\": \"S\\u00e3o Paulo\", \"genero\": \"Feminino\", \"mes\": \"Agosto\", \"numero\": 72, \"regiao\": \"Sudeste\"}, {\"ano\": 2014, \"uf\": \"S\\u00e3o Paulo\", \"genero\": \"Feminino\", \"mes\": \"Setembro\", \"numero\": 121, \"regiao\": \"Sudeste\"}, {\"ano\": 2014, \"uf\": \"S\\u00e3o Paulo\", \"genero\": \"Feminino\", \"mes\": \"Outubro\", \"numero\": 151, \"regiao\": \"Sudeste\"}, {\"ano\": 2014, \"uf\": \"S\\u00e3o Paulo\", \"genero\": \"Feminino\", \"mes\": \"Novembro\", \"numero\": 122, \"regiao\": \"Sudeste\"}, {\"ano\": 2014, \"uf\": \"S\\u00e3o Paulo\", \"genero\": \"Feminino\", \"mes\": \"Dezembro\", \"numero\": 124, \"regiao\": \"Sudeste\"}, {\"ano\": 2013, \"uf\": \"S\\u00e3o Paulo\", \"genero\": \"Masculino\", \"mes\": \"Janeiro\", \"numero\": 19, \"regiao\": \"Sudeste\"}, {\"ano\": 2013, \"uf\": \"S\\u00e3o Paulo\", \"genero\": \"Masculino\", \"mes\": \"Fevereiro\", \"numero\": 38, \"regiao\": \"Sudeste\"}, {\"ano\": 2013, \"uf\": \"S\\u00e3o Paulo\", \"genero\": \"Masculino\", \"mes\": \"Mar\\u00e7o\", \"numero\": 57, \"regiao\": \"Sudeste\"}, {\"ano\": 2013, \"uf\": \"S\\u00e3o Paulo\", \"genero\": \"Masculino\", \"mes\": \"Abril\", \"numero\": 80, \"regiao\": \"Sudeste\"}, {\"ano\": 2013, \"uf\": \"S\\u00e3o Paulo\", \"genero\": \"Masculino\", \"mes\": \"Maio\", \"numero\": 68, \"regiao\": \"Sudeste\"}, {\"ano\": 2013, \"uf\": \"S\\u00e3o Paulo\", \"genero\": \"Masculino\", \"mes\": \"Junho\", \"numero\": 88, \"regiao\": \"Sudeste\"}, {\"ano\": 2013, \"uf\": \"S\\u00e3o Paulo\", \"genero\": \"Masculino\", \"mes\": \"Julho\", \"numero\": 92, \"regiao\": \"Sudeste\"}, {\"ano\": 2013, \"uf\": \"S\\u00e3o Paulo\", \"genero\": \"Masculino\", \"mes\": \"Agosto\", \"numero\": 99, \"regiao\": \"Sudeste\"}, {\"ano\": 2013, \"uf\": \"S\\u00e3o Paulo\", \"genero\": \"Masculino\", \"mes\": \"Setembro\", \"numero\": 88, \"regiao\": \"Sudeste\"}, {\"ano\": 2013, \"uf\": \"S\\u00e3o Paulo\", \"genero\": \"Masculino\", \"mes\": \"Outubro\", \"numero\": 97, \"regiao\": \"Sudeste\"}, {\"ano\": 2013, \"uf\": \"S\\u00e3o Paulo\", \"genero\": \"Masculino\", \"mes\": \"Novembro\", \"numero\": 93, \"regiao\": \"Sudeste\"}, {\"ano\": 2013, \"uf\": \"S\\u00e3o Paulo\", \"genero\": \"Masculino\", \"mes\": \"Dezembro\", \"numero\": 78, \"regiao\": \"Sudeste\"}, {\"ano\": 2013, \"uf\": \"S\\u00e3o Paulo\", \"genero\": \"Feminino\", \"mes\": \"Janeiro\", \"numero\": 23, \"regiao\": \"Sudeste\"}, {\"ano\": 2013, \"uf\": \"S\\u00e3o Paulo\", \"genero\": \"Feminino\", \"mes\": \"Fevereiro\", \"numero\": 36, \"regiao\": \"Sudeste\"}, {\"ano\": 2013, \"uf\": \"S\\u00e3o Paulo\", \"genero\": \"Feminino\", \"mes\": \"Mar\\u00e7o\", \"numero\": 68, \"regiao\": \"Sudeste\"}, {\"ano\": 2013, \"uf\": \"S\\u00e3o Paulo\", \"genero\": \"Feminino\", \"mes\": \"Abril\", \"numero\": 89, \"regiao\": \"Sudeste\"}, {\"ano\": 2013, \"uf\": \"S\\u00e3o Paulo\", \"genero\": \"Feminino\", \"mes\": \"Maio\", \"numero\": 89, \"regiao\": \"Sudeste\"}, {\"ano\": 2013, \"uf\": \"S\\u00e3o Paulo\", \"genero\": \"Feminino\", \"mes\": \"Junho\", \"numero\": 100, \"regiao\": \"Sudeste\"}, {\"ano\": 2013, \"uf\": \"S\\u00e3o Paulo\", \"genero\": \"Feminino\", \"mes\": \"Julho\", \"numero\": 98, \"regiao\": \"Sudeste\"}, {\"ano\": 2013, \"uf\": \"S\\u00e3o Paulo\", \"genero\": \"Feminino\", \"mes\": \"Agosto\", \"numero\": 91, \"regiao\": \"Sudeste\"}, {\"ano\": 2013, \"uf\": \"S\\u00e3o Paulo\", \"genero\": \"Feminino\", \"mes\": \"Setembro\", \"numero\": 109, \"regiao\": \"Sudeste\"}, {\"ano\": 2013, \"uf\": \"S\\u00e3o Paulo\", \"genero\": \"Feminino\", \"mes\": \"Outubro\", \"numero\": 116, \"regiao\": \"Sudeste\"}, {\"ano\": 2013, \"uf\": \"S\\u00e3o Paulo\", \"genero\": \"Feminino\", \"mes\": \"Novembro\", \"numero\": 133, \"regiao\": \"Sudeste\"}, {\"ano\": 2013, \"uf\": \"S\\u00e3o Paulo\", \"genero\": \"Feminino\", \"mes\": \"Dezembro\", \"numero\": 96, \"regiao\": \"Sudeste\"}, {\"ano\": 2015, \"uf\": \"S\\u00e3o Paulo\", \"genero\": \"Masculino\", \"mes\": \"Janeiro\", \"numero\": 69, \"regiao\": \"Sudeste\"}, {\"ano\": 2015, \"uf\": \"S\\u00e3o Paulo\", \"genero\": \"Masculino\", \"mes\": \"Fevereiro\", \"numero\": 57, \"regiao\": \"Sudeste\"}, {\"ano\": 2015, \"uf\": \"S\\u00e3o Paulo\", \"genero\": \"Masculino\", \"mes\": \"Mar\\u00e7o\", \"numero\": 68, \"regiao\": \"Sudeste\"}, {\"ano\": 2015, \"uf\": \"S\\u00e3o Paulo\", \"genero\": \"Masculino\", \"mes\": \"Abril\", \"numero\": 64, \"regiao\": \"Sudeste\"}, {\"ano\": 2015, \"uf\": \"S\\u00e3o Paulo\", \"genero\": \"Masculino\", \"mes\": \"Maio\", \"numero\": 62, \"regiao\": \"Sudeste\"}, {\"ano\": 2015, \"uf\": \"S\\u00e3o Paulo\", \"genero\": \"Masculino\", \"mes\": \"Junho\", \"numero\": 69, \"regiao\": \"Sudeste\"}, {\"ano\": 2015, \"uf\": \"S\\u00e3o Paulo\", \"genero\": \"Masculino\", \"mes\": \"Julho\", \"numero\": 72, \"regiao\": \"Sudeste\"}, {\"ano\": 2015, \"uf\": \"S\\u00e3o Paulo\", \"genero\": \"Masculino\", \"mes\": \"Agosto\", \"numero\": 72, \"regiao\": \"Sudeste\"}, {\"ano\": 2015, \"uf\": \"S\\u00e3o Paulo\", \"genero\": \"Masculino\", \"mes\": \"Setembro\", \"numero\": 76, \"regiao\": \"Sudeste\"}, {\"ano\": 2015, \"uf\": \"S\\u00e3o Paulo\", \"genero\": \"Masculino\", \"mes\": \"Outubro\", \"numero\": 85, \"regiao\": \"Sudeste\"}, {\"ano\": 2015, \"uf\": \"S\\u00e3o Paulo\", \"genero\": \"Masculino\", \"mes\": \"Novembro\", \"numero\": 86, \"regiao\": \"Sudeste\"}, {\"ano\": 2015, \"uf\": \"S\\u00e3o Paulo\", \"genero\": \"Masculino\", \"mes\": \"Dezembro\", \"numero\": 78, \"regiao\": \"Sudeste\"}, {\"ano\": 2016, \"uf\": \"S\\u00e3o Paulo\", \"genero\": \"Masculino\", \"mes\": \"Janeiro\", \"numero\": 75, \"regiao\": \"Sudeste\"}, {\"ano\": 2016, \"uf\": \"S\\u00e3o Paulo\", \"genero\": \"Masculino\", \"mes\": \"Fevereiro\", \"numero\": 57, \"regiao\": \"Sudeste\"}, {\"ano\": 2016, \"uf\": \"S\\u00e3o Paulo\", \"genero\": \"Masculino\", \"mes\": \"Mar\\u00e7o\", \"numero\": 66, \"regiao\": \"Sudeste\"}, {\"ano\": 2016, \"uf\": \"S\\u00e3o Paulo\", \"genero\": \"Masculino\", \"mes\": \"Abril\", \"numero\": 72, \"regiao\": \"Sudeste\"}, {\"ano\": 2016, \"uf\": \"S\\u00e3o Paulo\", \"genero\": \"Masculino\", \"mes\": \"Maio\", \"numero\": 65, \"regiao\": \"Sudeste\"}, {\"ano\": 2016, \"uf\": \"S\\u00e3o Paulo\", \"genero\": \"Masculino\", \"mes\": \"Junho\", \"numero\": 75, \"regiao\": \"Sudeste\"}, {\"ano\": 2016, \"uf\": \"S\\u00e3o Paulo\", \"genero\": \"Masculino\", \"mes\": \"Julho\", \"numero\": 64, \"regiao\": \"Sudeste\"}, {\"ano\": 2016, \"uf\": \"S\\u00e3o Paulo\", \"genero\": \"Masculino\", \"mes\": \"Agosto\", \"numero\": 70, \"regiao\": \"Sudeste\"}, {\"ano\": 2016, \"uf\": \"S\\u00e3o Paulo\", \"genero\": \"Masculino\", \"mes\": \"Setembro\", \"numero\": 102, \"regiao\": \"Sudeste\"}, {\"ano\": 2016, \"uf\": \"S\\u00e3o Paulo\", \"genero\": \"Masculino\", \"mes\": \"Outubro\", \"numero\": 80, \"regiao\": \"Sudeste\"}, {\"ano\": 2016, \"uf\": \"S\\u00e3o Paulo\", \"genero\": \"Masculino\", \"mes\": \"Novembro\", \"numero\": 81, \"regiao\": \"Sudeste\"}, {\"ano\": 2016, \"uf\": \"S\\u00e3o Paulo\", \"genero\": \"Masculino\", \"mes\": \"Dezembro\", \"numero\": 85, \"regiao\": \"Sudeste\"}, {\"ano\": 2017, \"uf\": \"S\\u00e3o Paulo\", \"genero\": \"Masculino\", \"mes\": \"Janeiro\", \"numero\": 78, \"regiao\": \"Sudeste\"}, {\"ano\": 2017, \"uf\": \"S\\u00e3o Paulo\", \"genero\": \"Masculino\", \"mes\": \"Fevereiro\", \"numero\": 53, \"regiao\": \"Sudeste\"}, {\"ano\": 2017, \"uf\": \"S\\u00e3o Paulo\", \"genero\": \"Masculino\", \"mes\": \"Mar\\u00e7o\", \"numero\": 79, \"regiao\": \"Sudeste\"}, {\"ano\": 2017, \"uf\": \"S\\u00e3o Paulo\", \"genero\": \"Masculino\", \"mes\": \"Abril\", \"numero\": 69, \"regiao\": \"Sudeste\"}, {\"ano\": 2017, \"uf\": \"S\\u00e3o Paulo\", \"genero\": \"Masculino\", \"mes\": \"Maio\", \"numero\": 73, \"regiao\": \"Sudeste\"}, {\"ano\": 2017, \"uf\": \"S\\u00e3o Paulo\", \"genero\": \"Masculino\", \"mes\": \"Junho\", \"numero\": 86, \"regiao\": \"Sudeste\"}, {\"ano\": 2017, \"uf\": \"S\\u00e3o Paulo\", \"genero\": \"Masculino\", \"mes\": \"Julho\", \"numero\": 91, \"regiao\": \"Sudeste\"}, {\"ano\": 2017, \"uf\": \"S\\u00e3o Paulo\", \"genero\": \"Masculino\", \"mes\": \"Agosto\", \"numero\": 77, \"regiao\": \"Sudeste\"}, {\"ano\": 2017, \"uf\": \"S\\u00e3o Paulo\", \"genero\": \"Masculino\", \"mes\": \"Setembro\", \"numero\": 100, \"regiao\": \"Sudeste\"}, {\"ano\": 2017, \"uf\": \"S\\u00e3o Paulo\", \"genero\": \"Masculino\", \"mes\": \"Outubro\", \"numero\": 98, \"regiao\": \"Sudeste\"}, {\"ano\": 2017, \"uf\": \"S\\u00e3o Paulo\", \"genero\": \"Masculino\", \"mes\": \"Novembro\", \"numero\": 113, \"regiao\": \"Sudeste\"}, {\"ano\": 2017, \"uf\": \"S\\u00e3o Paulo\", \"genero\": \"Masculino\", \"mes\": \"Dezembro\", \"numero\": 85, \"regiao\": \"Sudeste\"}, {\"ano\": 2018, \"uf\": \"S\\u00e3o Paulo\", \"genero\": \"Masculino\", \"mes\": \"Janeiro\", \"numero\": 96, \"regiao\": \"Sudeste\"}, {\"ano\": 2018, \"uf\": \"S\\u00e3o Paulo\", \"genero\": \"Masculino\", \"mes\": \"Fevereiro\", \"numero\": 91, \"regiao\": \"Sudeste\"}, {\"ano\": 2018, \"uf\": \"S\\u00e3o Paulo\", \"genero\": \"Masculino\", \"mes\": \"Mar\\u00e7o\", \"numero\": 101, \"regiao\": \"Sudeste\"}, {\"ano\": 2018, \"uf\": \"S\\u00e3o Paulo\", \"genero\": \"Masculino\", \"mes\": \"Abril\", \"numero\": 78, \"regiao\": \"Sudeste\"}, {\"ano\": 2018, \"uf\": \"S\\u00e3o Paulo\", \"genero\": \"Masculino\", \"mes\": \"Maio\", \"numero\": 94, \"regiao\": \"Sudeste\"}, {\"ano\": 2018, \"uf\": \"S\\u00e3o Paulo\", \"genero\": \"Masculino\", \"mes\": \"Junho\", \"numero\": 113, \"regiao\": \"Sudeste\"}, {\"ano\": 2018, \"uf\": \"S\\u00e3o Paulo\", \"genero\": \"Masculino\", \"mes\": \"Julho\", \"numero\": 96, \"regiao\": \"Sudeste\"}, {\"ano\": 2018, \"uf\": \"S\\u00e3o Paulo\", \"genero\": \"Masculino\", \"mes\": \"Agosto\", \"numero\": 65, \"regiao\": \"Sudeste\"}, {\"ano\": 2018, \"uf\": \"S\\u00e3o Paulo\", \"genero\": \"Masculino\", \"mes\": \"Setembro\", \"numero\": 102, \"regiao\": \"Sudeste\"}, {\"ano\": 2018, \"uf\": \"S\\u00e3o Paulo\", \"genero\": \"Masculino\", \"mes\": \"Outubro\", \"numero\": 111, \"regiao\": \"Sudeste\"}, {\"ano\": 2018, \"uf\": \"S\\u00e3o Paulo\", \"genero\": \"Masculino\", \"mes\": \"Novembro\", \"numero\": 167, \"regiao\": \"Sudeste\"}, {\"ano\": 2018, \"uf\": \"S\\u00e3o Paulo\", \"genero\": \"Masculino\", \"mes\": \"Dezembro\", \"numero\": 541, \"regiao\": \"Sudeste\"}, {\"ano\": 2019, \"uf\": \"S\\u00e3o Paulo\", \"genero\": \"Masculino\", \"mes\": \"Janeiro\", \"numero\": 201, \"regiao\": \"Sudeste\"}, {\"ano\": 2019, \"uf\": \"S\\u00e3o Paulo\", \"genero\": \"Masculino\", \"mes\": \"Fevereiro\", \"numero\": 126, \"regiao\": \"Sudeste\"}, {\"ano\": 2019, \"uf\": \"S\\u00e3o Paulo\", \"genero\": \"Masculino\", \"mes\": \"Mar\\u00e7o\", \"numero\": 119, \"regiao\": \"Sudeste\"}, {\"ano\": 2019, \"uf\": \"S\\u00e3o Paulo\", \"genero\": \"Masculino\", \"mes\": \"Abril\", \"numero\": 86, \"regiao\": \"Sudeste\"}, {\"ano\": 2019, \"uf\": \"S\\u00e3o Paulo\", \"genero\": \"Masculino\", \"mes\": \"Maio\", \"numero\": 90, \"regiao\": \"Sudeste\"}, {\"ano\": 2019, \"uf\": \"S\\u00e3o Paulo\", \"genero\": \"Masculino\", \"mes\": \"Junho\", \"numero\": 122, \"regiao\": \"Sudeste\"}, {\"ano\": 2019, \"uf\": \"S\\u00e3o Paulo\", \"genero\": \"Masculino\", \"mes\": \"Julho\", \"numero\": 122, \"regiao\": \"Sudeste\"}, {\"ano\": 2019, \"uf\": \"S\\u00e3o Paulo\", \"genero\": \"Masculino\", \"mes\": \"Agosto\", \"numero\": 112, \"regiao\": \"Sudeste\"}, {\"ano\": 2019, \"uf\": \"S\\u00e3o Paulo\", \"genero\": \"Masculino\", \"mes\": \"Setembro\", \"numero\": 113, \"regiao\": \"Sudeste\"}, {\"ano\": 2019, \"uf\": \"S\\u00e3o Paulo\", \"genero\": \"Masculino\", \"mes\": \"Outubro\", \"numero\": 99, \"regiao\": \"Sudeste\"}, {\"ano\": 2019, \"uf\": \"S\\u00e3o Paulo\", \"genero\": \"Masculino\", \"mes\": \"Novembro\", \"numero\": 132, \"regiao\": \"Sudeste\"}, {\"ano\": 2019, \"uf\": \"S\\u00e3o Paulo\", \"genero\": \"Masculino\", \"mes\": \"Dezembro\", \"numero\": 131, \"regiao\": \"Sudeste\"}, {\"ano\": 2015, \"uf\": \"S\\u00e3o Paulo\", \"genero\": \"Feminino\", \"mes\": \"Janeiro\", \"numero\": 87, \"regiao\": \"Sudeste\"}, {\"ano\": 2015, \"uf\": \"S\\u00e3o Paulo\", \"genero\": \"Feminino\", \"mes\": \"Fevereiro\", \"numero\": 64, \"regiao\": \"Sudeste\"}, {\"ano\": 2015, \"uf\": \"S\\u00e3o Paulo\", \"genero\": \"Feminino\", \"mes\": \"Mar\\u00e7o\", \"numero\": 95, \"regiao\": \"Sudeste\"}, {\"ano\": 2015, \"uf\": \"S\\u00e3o Paulo\", \"genero\": \"Feminino\", \"mes\": \"Abril\", \"numero\": 72, \"regiao\": \"Sudeste\"}, {\"ano\": 2015, \"uf\": \"S\\u00e3o Paulo\", \"genero\": \"Feminino\", \"mes\": \"Maio\", \"numero\": 76, \"regiao\": \"Sudeste\"}, {\"ano\": 2015, \"uf\": \"S\\u00e3o Paulo\", \"genero\": \"Feminino\", \"mes\": \"Junho\", \"numero\": 86, \"regiao\": \"Sudeste\"}, {\"ano\": 2015, \"uf\": \"S\\u00e3o Paulo\", \"genero\": \"Feminino\", \"mes\": \"Julho\", \"numero\": 100, \"regiao\": \"Sudeste\"}, {\"ano\": 2015, \"uf\": \"S\\u00e3o Paulo\", \"genero\": \"Feminino\", \"mes\": \"Agosto\", \"numero\": 96, \"regiao\": \"Sudeste\"}, {\"ano\": 2015, \"uf\": \"S\\u00e3o Paulo\", \"genero\": \"Feminino\", \"mes\": \"Setembro\", \"numero\": 109, \"regiao\": \"Sudeste\"}, {\"ano\": 2015, \"uf\": \"S\\u00e3o Paulo\", \"genero\": \"Feminino\", \"mes\": \"Outubro\", \"numero\": 126, \"regiao\": \"Sudeste\"}, {\"ano\": 2015, \"uf\": \"S\\u00e3o Paulo\", \"genero\": \"Feminino\", \"mes\": \"Novembro\", \"numero\": 111, \"regiao\": \"Sudeste\"}, {\"ano\": 2015, \"uf\": \"S\\u00e3o Paulo\", \"genero\": \"Feminino\", \"mes\": \"Dezembro\", \"numero\": 128, \"regiao\": \"Sudeste\"}, {\"ano\": 2016, \"uf\": \"S\\u00e3o Paulo\", \"genero\": \"Feminino\", \"mes\": \"Janeiro\", \"numero\": 79, \"regiao\": \"Sudeste\"}, {\"ano\": 2016, \"uf\": \"S\\u00e3o Paulo\", \"genero\": \"Feminino\", \"mes\": \"Fevereiro\", \"numero\": 92, \"regiao\": \"Sudeste\"}, {\"ano\": 2016, \"uf\": \"S\\u00e3o Paulo\", \"genero\": \"Feminino\", \"mes\": \"Mar\\u00e7o\", \"numero\": 71, \"regiao\": \"Sudeste\"}, {\"ano\": 2016, \"uf\": \"S\\u00e3o Paulo\", \"genero\": \"Feminino\", \"mes\": \"Abril\", \"numero\": 102, \"regiao\": \"Sudeste\"}, {\"ano\": 2016, \"uf\": \"S\\u00e3o Paulo\", \"genero\": \"Feminino\", \"mes\": \"Maio\", \"numero\": 92, \"regiao\": \"Sudeste\"}, {\"ano\": 2016, \"uf\": \"S\\u00e3o Paulo\", \"genero\": \"Feminino\", \"mes\": \"Junho\", \"numero\": 93, \"regiao\": \"Sudeste\"}, {\"ano\": 2016, \"uf\": \"S\\u00e3o Paulo\", \"genero\": \"Feminino\", \"mes\": \"Julho\", \"numero\": 108, \"regiao\": \"Sudeste\"}, {\"ano\": 2016, \"uf\": \"S\\u00e3o Paulo\", \"genero\": \"Feminino\", \"mes\": \"Agosto\", \"numero\": 85, \"regiao\": \"Sudeste\"}, {\"ano\": 2016, \"uf\": \"S\\u00e3o Paulo\", \"genero\": \"Feminino\", \"mes\": \"Setembro\", \"numero\": 120, \"regiao\": \"Sudeste\"}, {\"ano\": 2016, \"uf\": \"S\\u00e3o Paulo\", \"genero\": \"Feminino\", \"mes\": \"Outubro\", \"numero\": 118, \"regiao\": \"Sudeste\"}, {\"ano\": 2016, \"uf\": \"S\\u00e3o Paulo\", \"genero\": \"Feminino\", \"mes\": \"Novembro\", \"numero\": 117, \"regiao\": \"Sudeste\"}, {\"ano\": 2016, \"uf\": \"S\\u00e3o Paulo\", \"genero\": \"Feminino\", \"mes\": \"Dezembro\", \"numero\": 125, \"regiao\": \"Sudeste\"}, {\"ano\": 2017, \"uf\": \"S\\u00e3o Paulo\", \"genero\": \"Feminino\", \"mes\": \"Janeiro\", \"numero\": 91, \"regiao\": \"Sudeste\"}, {\"ano\": 2017, \"uf\": \"S\\u00e3o Paulo\", \"genero\": \"Feminino\", \"mes\": \"Fevereiro\", \"numero\": 81, \"regiao\": \"Sudeste\"}, {\"ano\": 2017, \"uf\": \"S\\u00e3o Paulo\", \"genero\": \"Feminino\", \"mes\": \"Mar\\u00e7o\", \"numero\": 128, \"regiao\": \"Sudeste\"}, {\"ano\": 2017, \"uf\": \"S\\u00e3o Paulo\", \"genero\": \"Feminino\", \"mes\": \"Abril\", \"numero\": 113, \"regiao\": \"Sudeste\"}, {\"ano\": 2017, \"uf\": \"S\\u00e3o Paulo\", \"genero\": \"Feminino\", \"mes\": \"Maio\", \"numero\": 123, \"regiao\": \"Sudeste\"}, {\"ano\": 2017, \"uf\": \"S\\u00e3o Paulo\", \"genero\": \"Feminino\", \"mes\": \"Junho\", \"numero\": 121, \"regiao\": \"Sudeste\"}, {\"ano\": 2017, \"uf\": \"S\\u00e3o Paulo\", \"genero\": \"Feminino\", \"mes\": \"Julho\", \"numero\": 119, \"regiao\": \"Sudeste\"}, {\"ano\": 2017, \"uf\": \"S\\u00e3o Paulo\", \"genero\": \"Feminino\", \"mes\": \"Agosto\", \"numero\": 128, \"regiao\": \"Sudeste\"}, {\"ano\": 2017, \"uf\": \"S\\u00e3o Paulo\", \"genero\": \"Feminino\", \"mes\": \"Setembro\", \"numero\": 154, \"regiao\": \"Sudeste\"}, {\"ano\": 2017, \"uf\": \"S\\u00e3o Paulo\", \"genero\": \"Feminino\", \"mes\": \"Outubro\", \"numero\": 151, \"regiao\": \"Sudeste\"}, {\"ano\": 2017, \"uf\": \"S\\u00e3o Paulo\", \"genero\": \"Feminino\", \"mes\": \"Novembro\", \"numero\": 143, \"regiao\": \"Sudeste\"}, {\"ano\": 2017, \"uf\": \"S\\u00e3o Paulo\", \"genero\": \"Feminino\", \"mes\": \"Dezembro\", \"numero\": 143, \"regiao\": \"Sudeste\"}, {\"ano\": 2018, \"uf\": \"S\\u00e3o Paulo\", \"genero\": \"Feminino\", \"mes\": \"Janeiro\", \"numero\": 129, \"regiao\": \"Sudeste\"}, {\"ano\": 2018, \"uf\": \"S\\u00e3o Paulo\", \"genero\": \"Feminino\", \"mes\": \"Fevereiro\", \"numero\": 105, \"regiao\": \"Sudeste\"}, {\"ano\": 2018, \"uf\": \"S\\u00e3o Paulo\", \"genero\": \"Feminino\", \"mes\": \"Mar\\u00e7o\", \"numero\": 107, \"regiao\": \"Sudeste\"}, {\"ano\": 2018, \"uf\": \"S\\u00e3o Paulo\", \"genero\": \"Feminino\", \"mes\": \"Abril\", \"numero\": 120, \"regiao\": \"Sudeste\"}, {\"ano\": 2018, \"uf\": \"S\\u00e3o Paulo\", \"genero\": \"Feminino\", \"mes\": \"Maio\", \"numero\": 131, \"regiao\": \"Sudeste\"}, {\"ano\": 2018, \"uf\": \"S\\u00e3o Paulo\", \"genero\": \"Feminino\", \"mes\": \"Junho\", \"numero\": 130, \"regiao\": \"Sudeste\"}, {\"ano\": 2018, \"uf\": \"S\\u00e3o Paulo\", \"genero\": \"Feminino\", \"mes\": \"Julho\", \"numero\": 143, \"regiao\": \"Sudeste\"}, {\"ano\": 2018, \"uf\": \"S\\u00e3o Paulo\", \"genero\": \"Feminino\", \"mes\": \"Agosto\", \"numero\": 120, \"regiao\": \"Sudeste\"}, {\"ano\": 2018, \"uf\": \"S\\u00e3o Paulo\", \"genero\": \"Feminino\", \"mes\": \"Setembro\", \"numero\": 184, \"regiao\": \"Sudeste\"}, {\"ano\": 2018, \"uf\": \"S\\u00e3o Paulo\", \"genero\": \"Feminino\", \"mes\": \"Outubro\", \"numero\": 189, \"regiao\": \"Sudeste\"}, {\"ano\": 2018, \"uf\": \"S\\u00e3o Paulo\", \"genero\": \"Feminino\", \"mes\": \"Novembro\", \"numero\": 260, \"regiao\": \"Sudeste\"}, {\"ano\": 2018, \"uf\": \"S\\u00e3o Paulo\", \"genero\": \"Feminino\", \"mes\": \"Dezembro\", \"numero\": 827, \"regiao\": \"Sudeste\"}, {\"ano\": 2019, \"uf\": \"S\\u00e3o Paulo\", \"genero\": \"Feminino\", \"mes\": \"Janeiro\", \"numero\": 339, \"regiao\": \"Sudeste\"}, {\"ano\": 2019, \"uf\": \"S\\u00e3o Paulo\", \"genero\": \"Feminino\", \"mes\": \"Fevereiro\", \"numero\": 216, \"regiao\": \"Sudeste\"}, {\"ano\": 2019, \"uf\": \"S\\u00e3o Paulo\", \"genero\": \"Feminino\", \"mes\": \"Mar\\u00e7o\", \"numero\": 183, \"regiao\": \"Sudeste\"}, {\"ano\": 2019, \"uf\": \"S\\u00e3o Paulo\", \"genero\": \"Feminino\", \"mes\": \"Abril\", \"numero\": 128, \"regiao\": \"Sudeste\"}, {\"ano\": 2019, \"uf\": \"S\\u00e3o Paulo\", \"genero\": \"Feminino\", \"mes\": \"Maio\", \"numero\": 159, \"regiao\": \"Sudeste\"}, {\"ano\": 2019, \"uf\": \"S\\u00e3o Paulo\", \"genero\": \"Feminino\", \"mes\": \"Junho\", \"numero\": 150, \"regiao\": \"Sudeste\"}, {\"ano\": 2019, \"uf\": \"S\\u00e3o Paulo\", \"genero\": \"Feminino\", \"mes\": \"Julho\", \"numero\": 113, \"regiao\": \"Sudeste\"}, {\"ano\": 2019, \"uf\": \"S\\u00e3o Paulo\", \"genero\": \"Feminino\", \"mes\": \"Agosto\", \"numero\": 151, \"regiao\": \"Sudeste\"}, {\"ano\": 2019, \"uf\": \"S\\u00e3o Paulo\", \"genero\": \"Feminino\", \"mes\": \"Setembro\", \"numero\": 147, \"regiao\": \"Sudeste\"}, {\"ano\": 2019, \"uf\": \"S\\u00e3o Paulo\", \"genero\": \"Feminino\", \"mes\": \"Outubro\", \"numero\": 164, \"regiao\": \"Sudeste\"}, {\"ano\": 2019, \"uf\": \"S\\u00e3o Paulo\", \"genero\": \"Feminino\", \"mes\": \"Novembro\", \"numero\": 205, \"regiao\": \"Sudeste\"}, {\"ano\": 2019, \"uf\": \"S\\u00e3o Paulo\", \"genero\": \"Feminino\", \"mes\": \"Dezembro\", \"numero\": 165, \"regiao\": \"Sudeste\"}, {\"ano\": 2014, \"uf\": \"Paran\\u00e1\", \"genero\": \"Masculino\", \"mes\": \"Janeiro\", \"numero\": 6, \"regiao\": \"Sul\"}, {\"ano\": 2014, \"uf\": \"Paran\\u00e1\", \"genero\": \"Masculino\", \"mes\": \"Fevereiro\", \"numero\": 7, \"regiao\": \"Sul\"}, {\"ano\": 2014, \"uf\": \"Paran\\u00e1\", \"genero\": \"Masculino\", \"mes\": \"Mar\\u00e7o\", \"numero\": 5, \"regiao\": \"Sul\"}, {\"ano\": 2014, \"uf\": \"Paran\\u00e1\", \"genero\": \"Masculino\", \"mes\": \"Abril\", \"numero\": 1, \"regiao\": \"Sul\"}, {\"ano\": 2014, \"uf\": \"Paran\\u00e1\", \"genero\": \"Masculino\", \"mes\": \"Maio\", \"numero\": 7, \"regiao\": \"Sul\"}, {\"ano\": 2014, \"uf\": \"Paran\\u00e1\", \"genero\": \"Masculino\", \"mes\": \"Junho\", \"numero\": 7, \"regiao\": \"Sul\"}, {\"ano\": 2014, \"uf\": \"Paran\\u00e1\", \"genero\": \"Masculino\", \"mes\": \"Julho\", \"numero\": 9, \"regiao\": \"Sul\"}, {\"ano\": 2014, \"uf\": \"Paran\\u00e1\", \"genero\": \"Masculino\", \"mes\": \"Agosto\", \"numero\": 4, \"regiao\": \"Sul\"}, {\"ano\": 2014, \"uf\": \"Paran\\u00e1\", \"genero\": \"Masculino\", \"mes\": \"Setembro\", \"numero\": 3, \"regiao\": \"Sul\"}, {\"ano\": 2014, \"uf\": \"Paran\\u00e1\", \"genero\": \"Masculino\", \"mes\": \"Outubro\", \"numero\": 6, \"regiao\": \"Sul\"}, {\"ano\": 2014, \"uf\": \"Paran\\u00e1\", \"genero\": \"Masculino\", \"mes\": \"Novembro\", \"numero\": 6, \"regiao\": \"Sul\"}, {\"ano\": 2014, \"uf\": \"Paran\\u00e1\", \"genero\": \"Masculino\", \"mes\": \"Dezembro\", \"numero\": 16, \"regiao\": \"Sul\"}, {\"ano\": 2014, \"uf\": \"Paran\\u00e1\", \"genero\": \"Feminino\", \"mes\": \"Janeiro\", \"numero\": 5, \"regiao\": \"Sul\"}, {\"ano\": 2014, \"uf\": \"Paran\\u00e1\", \"genero\": \"Feminino\", \"mes\": \"Fevereiro\", \"numero\": 6, \"regiao\": \"Sul\"}, {\"ano\": 2014, \"uf\": \"Paran\\u00e1\", \"genero\": \"Feminino\", \"mes\": \"Mar\\u00e7o\", \"numero\": 9, \"regiao\": \"Sul\"}, {\"ano\": 2014, \"uf\": \"Paran\\u00e1\", \"genero\": \"Feminino\", \"mes\": \"Abril\", \"numero\": 7, \"regiao\": \"Sul\"}, {\"ano\": 2014, \"uf\": \"Paran\\u00e1\", \"genero\": \"Feminino\", \"mes\": \"Maio\", \"numero\": 6, \"regiao\": \"Sul\"}, {\"ano\": 2014, \"uf\": \"Paran\\u00e1\", \"genero\": \"Feminino\", \"mes\": \"Junho\", \"numero\": 9, \"regiao\": \"Sul\"}, {\"ano\": 2014, \"uf\": \"Paran\\u00e1\", \"genero\": \"Feminino\", \"mes\": \"Julho\", \"numero\": 6, \"regiao\": \"Sul\"}, {\"ano\": 2014, \"uf\": \"Paran\\u00e1\", \"genero\": \"Feminino\", \"mes\": \"Agosto\", \"numero\": 4, \"regiao\": \"Sul\"}, {\"ano\": 2014, \"uf\": \"Paran\\u00e1\", \"genero\": \"Feminino\", \"mes\": \"Setembro\", \"numero\": 15, \"regiao\": \"Sul\"}, {\"ano\": 2014, \"uf\": \"Paran\\u00e1\", \"genero\": \"Feminino\", \"mes\": \"Outubro\", \"numero\": 11, \"regiao\": \"Sul\"}, {\"ano\": 2014, \"uf\": \"Paran\\u00e1\", \"genero\": \"Feminino\", \"mes\": \"Novembro\", \"numero\": 13, \"regiao\": \"Sul\"}, {\"ano\": 2014, \"uf\": \"Paran\\u00e1\", \"genero\": \"Feminino\", \"mes\": \"Dezembro\", \"numero\": 22, \"regiao\": \"Sul\"}, {\"ano\": 2013, \"uf\": \"Paran\\u00e1\", \"genero\": \"Masculino\", \"mes\": \"Janeiro\", \"numero\": 1, \"regiao\": \"Sul\"}, {\"ano\": 2013, \"uf\": \"Paran\\u00e1\", \"genero\": \"Masculino\", \"mes\": \"Fevereiro\", \"numero\": 1, \"regiao\": \"Sul\"}, {\"ano\": 2013, \"uf\": \"Paran\\u00e1\", \"genero\": \"Masculino\", \"mes\": \"Mar\\u00e7o\", \"numero\": 0, \"regiao\": \"Sul\"}, {\"ano\": 2013, \"uf\": \"Paran\\u00e1\", \"genero\": \"Masculino\", \"mes\": \"Abril\", \"numero\": 1, \"regiao\": \"Sul\"}, {\"ano\": 2013, \"uf\": \"Paran\\u00e1\", \"genero\": \"Masculino\", \"mes\": \"Maio\", \"numero\": 11, \"regiao\": \"Sul\"}, {\"ano\": 2013, \"uf\": \"Paran\\u00e1\", \"genero\": \"Masculino\", \"mes\": \"Junho\", \"numero\": 9, \"regiao\": \"Sul\"}, {\"ano\": 2013, \"uf\": \"Paran\\u00e1\", \"genero\": \"Masculino\", \"mes\": \"Julho\", \"numero\": 14, \"regiao\": \"Sul\"}, {\"ano\": 2013, \"uf\": \"Paran\\u00e1\", \"genero\": \"Masculino\", \"mes\": \"Agosto\", \"numero\": 11, \"regiao\": \"Sul\"}, {\"ano\": 2013, \"uf\": \"Paran\\u00e1\", \"genero\": \"Masculino\", \"mes\": \"Setembro\", \"numero\": 7, \"regiao\": \"Sul\"}, {\"ano\": 2013, \"uf\": \"Paran\\u00e1\", \"genero\": \"Masculino\", \"mes\": \"Outubro\", \"numero\": 8, \"regiao\": \"Sul\"}, {\"ano\": 2013, \"uf\": \"Paran\\u00e1\", \"genero\": \"Masculino\", \"mes\": \"Novembro\", \"numero\": 12, \"regiao\": \"Sul\"}, {\"ano\": 2013, \"uf\": \"Paran\\u00e1\", \"genero\": \"Masculino\", \"mes\": \"Dezembro\", \"numero\": 13, \"regiao\": \"Sul\"}, {\"ano\": 2013, \"uf\": \"Paran\\u00e1\", \"genero\": \"Feminino\", \"mes\": \"Janeiro\", \"numero\": 1, \"regiao\": \"Sul\"}, {\"ano\": 2013, \"uf\": \"Paran\\u00e1\", \"genero\": \"Feminino\", \"mes\": \"Fevereiro\", \"numero\": 0, \"regiao\": \"Sul\"}, {\"ano\": 2013, \"uf\": \"Paran\\u00e1\", \"genero\": \"Feminino\", \"mes\": \"Mar\\u00e7o\", \"numero\": 1, \"regiao\": \"Sul\"}, {\"ano\": 2013, \"uf\": \"Paran\\u00e1\", \"genero\": \"Feminino\", \"mes\": \"Abril\", \"numero\": 1, \"regiao\": \"Sul\"}, {\"ano\": 2013, \"uf\": \"Paran\\u00e1\", \"genero\": \"Feminino\", \"mes\": \"Maio\", \"numero\": 8, \"regiao\": \"Sul\"}, {\"ano\": 2013, \"uf\": \"Paran\\u00e1\", \"genero\": \"Feminino\", \"mes\": \"Junho\", \"numero\": 10, \"regiao\": \"Sul\"}, {\"ano\": 2013, \"uf\": \"Paran\\u00e1\", \"genero\": \"Feminino\", \"mes\": \"Julho\", \"numero\": 12, \"regiao\": \"Sul\"}, {\"ano\": 2013, \"uf\": \"Paran\\u00e1\", \"genero\": \"Feminino\", \"mes\": \"Agosto\", \"numero\": 9, \"regiao\": \"Sul\"}, {\"ano\": 2013, \"uf\": \"Paran\\u00e1\", \"genero\": \"Feminino\", \"mes\": \"Setembro\", \"numero\": 4, \"regiao\": \"Sul\"}, {\"ano\": 2013, \"uf\": \"Paran\\u00e1\", \"genero\": \"Feminino\", \"mes\": \"Outubro\", \"numero\": 11, \"regiao\": \"Sul\"}, {\"ano\": 2013, \"uf\": \"Paran\\u00e1\", \"genero\": \"Feminino\", \"mes\": \"Novembro\", \"numero\": 11, \"regiao\": \"Sul\"}, {\"ano\": 2013, \"uf\": \"Paran\\u00e1\", \"genero\": \"Feminino\", \"mes\": \"Dezembro\", \"numero\": 12, \"regiao\": \"Sul\"}, {\"ano\": 2015, \"uf\": \"Paran\\u00e1\", \"genero\": \"Masculino\", \"mes\": \"Janeiro\", \"numero\": 14, \"regiao\": \"Sul\"}, {\"ano\": 2015, \"uf\": \"Paran\\u00e1\", \"genero\": \"Masculino\", \"mes\": \"Fevereiro\", \"numero\": 9, \"regiao\": \"Sul\"}, {\"ano\": 2015, \"uf\": \"Paran\\u00e1\", \"genero\": \"Masculino\", \"mes\": \"Mar\\u00e7o\", \"numero\": 7, \"regiao\": \"Sul\"}, {\"ano\": 2015, \"uf\": \"Paran\\u00e1\", \"genero\": \"Masculino\", \"mes\": \"Abril\", \"numero\": 17, \"regiao\": \"Sul\"}, {\"ano\": 2015, \"uf\": \"Paran\\u00e1\", \"genero\": \"Masculino\", \"mes\": \"Maio\", \"numero\": 16, \"regiao\": \"Sul\"}, {\"ano\": 2015, \"uf\": \"Paran\\u00e1\", \"genero\": \"Masculino\", \"mes\": \"Junho\", \"numero\": 10, \"regiao\": \"Sul\"}, {\"ano\": 2015, \"uf\": \"Paran\\u00e1\", \"genero\": \"Masculino\", \"mes\": \"Julho\", \"numero\": 13, \"regiao\": \"Sul\"}, {\"ano\": 2015, \"uf\": \"Paran\\u00e1\", \"genero\": \"Masculino\", \"mes\": \"Agosto\", \"numero\": 7, \"regiao\": \"Sul\"}, {\"ano\": 2015, \"uf\": \"Paran\\u00e1\", \"genero\": \"Masculino\", \"mes\": \"Setembro\", \"numero\": 17, \"regiao\": \"Sul\"}, {\"ano\": 2015, \"uf\": \"Paran\\u00e1\", \"genero\": \"Masculino\", \"mes\": \"Outubro\", \"numero\": 27, \"regiao\": \"Sul\"}, {\"ano\": 2015, \"uf\": \"Paran\\u00e1\", \"genero\": \"Masculino\", \"mes\": \"Novembro\", \"numero\": 12, \"regiao\": \"Sul\"}, {\"ano\": 2015, \"uf\": \"Paran\\u00e1\", \"genero\": \"Masculino\", \"mes\": \"Dezembro\", \"numero\": 11, \"regiao\": \"Sul\"}, {\"ano\": 2016, \"uf\": \"Paran\\u00e1\", \"genero\": \"Masculino\", \"mes\": \"Janeiro\", \"numero\": 10, \"regiao\": \"Sul\"}, {\"ano\": 2016, \"uf\": \"Paran\\u00e1\", \"genero\": \"Masculino\", \"mes\": \"Fevereiro\", \"numero\": 7, \"regiao\": \"Sul\"}, {\"ano\": 2016, \"uf\": \"Paran\\u00e1\", \"genero\": \"Masculino\", \"mes\": \"Mar\\u00e7o\", \"numero\": 9, \"regiao\": \"Sul\"}, {\"ano\": 2016, \"uf\": \"Paran\\u00e1\", \"genero\": \"Masculino\", \"mes\": \"Abril\", \"numero\": 11, \"regiao\": \"Sul\"}, {\"ano\": 2016, \"uf\": \"Paran\\u00e1\", \"genero\": \"Masculino\", \"mes\": \"Maio\", \"numero\": 6, \"regiao\": \"Sul\"}, {\"ano\": 2016, \"uf\": \"Paran\\u00e1\", \"genero\": \"Masculino\", \"mes\": \"Junho\", \"numero\": 11, \"regiao\": \"Sul\"}, {\"ano\": 2016, \"uf\": \"Paran\\u00e1\", \"genero\": \"Masculino\", \"mes\": \"Julho\", \"numero\": 11, \"regiao\": \"Sul\"}, {\"ano\": 2016, \"uf\": \"Paran\\u00e1\", \"genero\": \"Masculino\", \"mes\": \"Agosto\", \"numero\": 12, \"regiao\": \"Sul\"}, {\"ano\": 2016, \"uf\": \"Paran\\u00e1\", \"genero\": \"Masculino\", \"mes\": \"Setembro\", \"numero\": 6, \"regiao\": \"Sul\"}, {\"ano\": 2016, \"uf\": \"Paran\\u00e1\", \"genero\": \"Masculino\", \"mes\": \"Outubro\", \"numero\": 13, \"regiao\": \"Sul\"}, {\"ano\": 2016, \"uf\": \"Paran\\u00e1\", \"genero\": \"Masculino\", \"mes\": \"Novembro\", \"numero\": 13, \"regiao\": \"Sul\"}, {\"ano\": 2016, \"uf\": \"Paran\\u00e1\", \"genero\": \"Masculino\", \"mes\": \"Dezembro\", \"numero\": 9, \"regiao\": \"Sul\"}, {\"ano\": 2017, \"uf\": \"Paran\\u00e1\", \"genero\": \"Masculino\", \"mes\": \"Janeiro\", \"numero\": 8, \"regiao\": \"Sul\"}, {\"ano\": 2017, \"uf\": \"Paran\\u00e1\", \"genero\": \"Masculino\", \"mes\": \"Fevereiro\", \"numero\": 14, \"regiao\": \"Sul\"}, {\"ano\": 2017, \"uf\": \"Paran\\u00e1\", \"genero\": \"Masculino\", \"mes\": \"Mar\\u00e7o\", \"numero\": 10, \"regiao\": \"Sul\"}, {\"ano\": 2017, \"uf\": \"Paran\\u00e1\", \"genero\": \"Masculino\", \"mes\": \"Abril\", \"numero\": 8, \"regiao\": \"Sul\"}, {\"ano\": 2017, \"uf\": \"Paran\\u00e1\", \"genero\": \"Masculino\", \"mes\": \"Maio\", \"numero\": 7, \"regiao\": \"Sul\"}, {\"ano\": 2017, \"uf\": \"Paran\\u00e1\", \"genero\": \"Masculino\", \"mes\": \"Junho\", \"numero\": 6, \"regiao\": \"Sul\"}, {\"ano\": 2017, \"uf\": \"Paran\\u00e1\", \"genero\": \"Masculino\", \"mes\": \"Julho\", \"numero\": 10, \"regiao\": \"Sul\"}, {\"ano\": 2017, \"uf\": \"Paran\\u00e1\", \"genero\": \"Masculino\", \"mes\": \"Agosto\", \"numero\": 11, \"regiao\": \"Sul\"}, {\"ano\": 2017, \"uf\": \"Paran\\u00e1\", \"genero\": \"Masculino\", \"mes\": \"Setembro\", \"numero\": 4, \"regiao\": \"Sul\"}, {\"ano\": 2017, \"uf\": \"Paran\\u00e1\", \"genero\": \"Masculino\", \"mes\": \"Outubro\", \"numero\": 7, \"regiao\": \"Sul\"}, {\"ano\": 2017, \"uf\": \"Paran\\u00e1\", \"genero\": \"Masculino\", \"mes\": \"Novembro\", \"numero\": 10, \"regiao\": \"Sul\"}, {\"ano\": 2017, \"uf\": \"Paran\\u00e1\", \"genero\": \"Masculino\", \"mes\": \"Dezembro\", \"numero\": 14, \"regiao\": \"Sul\"}, {\"ano\": 2018, \"uf\": \"Paran\\u00e1\", \"genero\": \"Masculino\", \"mes\": \"Janeiro\", \"numero\": 7, \"regiao\": \"Sul\"}, {\"ano\": 2018, \"uf\": \"Paran\\u00e1\", \"genero\": \"Masculino\", \"mes\": \"Fevereiro\", \"numero\": 6, \"regiao\": \"Sul\"}, {\"ano\": 2018, \"uf\": \"Paran\\u00e1\", \"genero\": \"Masculino\", \"mes\": \"Mar\\u00e7o\", \"numero\": 13, \"regiao\": \"Sul\"}, {\"ano\": 2018, \"uf\": \"Paran\\u00e1\", \"genero\": \"Masculino\", \"mes\": \"Abril\", \"numero\": 11, \"regiao\": \"Sul\"}, {\"ano\": 2018, \"uf\": \"Paran\\u00e1\", \"genero\": \"Masculino\", \"mes\": \"Maio\", \"numero\": 11, \"regiao\": \"Sul\"}, {\"ano\": 2018, \"uf\": \"Paran\\u00e1\", \"genero\": \"Masculino\", \"mes\": \"Junho\", \"numero\": 10, \"regiao\": \"Sul\"}, {\"ano\": 2018, \"uf\": \"Paran\\u00e1\", \"genero\": \"Masculino\", \"mes\": \"Julho\", \"numero\": 11, \"regiao\": \"Sul\"}, {\"ano\": 2018, \"uf\": \"Paran\\u00e1\", \"genero\": \"Masculino\", \"mes\": \"Agosto\", \"numero\": 14, \"regiao\": \"Sul\"}, {\"ano\": 2018, \"uf\": \"Paran\\u00e1\", \"genero\": \"Masculino\", \"mes\": \"Setembro\", \"numero\": 16, \"regiao\": \"Sul\"}, {\"ano\": 2018, \"uf\": \"Paran\\u00e1\", \"genero\": \"Masculino\", \"mes\": \"Outubro\", \"numero\": 4, \"regiao\": \"Sul\"}, {\"ano\": 2018, \"uf\": \"Paran\\u00e1\", \"genero\": \"Masculino\", \"mes\": \"Novembro\", \"numero\": 17, \"regiao\": \"Sul\"}, {\"ano\": 2018, \"uf\": \"Paran\\u00e1\", \"genero\": \"Masculino\", \"mes\": \"Dezembro\", \"numero\": 55, \"regiao\": \"Sul\"}, {\"ano\": 2019, \"uf\": \"Paran\\u00e1\", \"genero\": \"Masculino\", \"mes\": \"Janeiro\", \"numero\": 24, \"regiao\": \"Sul\"}, {\"ano\": 2019, \"uf\": \"Paran\\u00e1\", \"genero\": \"Masculino\", \"mes\": \"Fevereiro\", \"numero\": 26, \"regiao\": \"Sul\"}, {\"ano\": 2019, \"uf\": \"Paran\\u00e1\", \"genero\": \"Masculino\", \"mes\": \"Mar\\u00e7o\", \"numero\": 16, \"regiao\": \"Sul\"}, {\"ano\": 2019, \"uf\": \"Paran\\u00e1\", \"genero\": \"Masculino\", \"mes\": \"Abril\", \"numero\": 12, \"regiao\": \"Sul\"}, {\"ano\": 2019, \"uf\": \"Paran\\u00e1\", \"genero\": \"Masculino\", \"mes\": \"Maio\", \"numero\": 16, \"regiao\": \"Sul\"}, {\"ano\": 2019, \"uf\": \"Paran\\u00e1\", \"genero\": \"Masculino\", \"mes\": \"Junho\", \"numero\": 12, \"regiao\": \"Sul\"}, {\"ano\": 2019, \"uf\": \"Paran\\u00e1\", \"genero\": \"Masculino\", \"mes\": \"Julho\", \"numero\": 10, \"regiao\": \"Sul\"}, {\"ano\": 2019, \"uf\": \"Paran\\u00e1\", \"genero\": \"Masculino\", \"mes\": \"Agosto\", \"numero\": 13, \"regiao\": \"Sul\"}, {\"ano\": 2019, \"uf\": \"Paran\\u00e1\", \"genero\": \"Masculino\", \"mes\": \"Setembro\", \"numero\": 7, \"regiao\": \"Sul\"}, {\"ano\": 2019, \"uf\": \"Paran\\u00e1\", \"genero\": \"Masculino\", \"mes\": \"Outubro\", \"numero\": 20, \"regiao\": \"Sul\"}, {\"ano\": 2019, \"uf\": \"Paran\\u00e1\", \"genero\": \"Masculino\", \"mes\": \"Novembro\", \"numero\": 15, \"regiao\": \"Sul\"}, {\"ano\": 2019, \"uf\": \"Paran\\u00e1\", \"genero\": \"Masculino\", \"mes\": \"Dezembro\", \"numero\": 14, \"regiao\": \"Sul\"}, {\"ano\": 2015, \"uf\": \"Paran\\u00e1\", \"genero\": \"Feminino\", \"mes\": \"Janeiro\", \"numero\": 4, \"regiao\": \"Sul\"}, {\"ano\": 2015, \"uf\": \"Paran\\u00e1\", \"genero\": \"Feminino\", \"mes\": \"Fevereiro\", \"numero\": 13, \"regiao\": \"Sul\"}, {\"ano\": 2015, \"uf\": \"Paran\\u00e1\", \"genero\": \"Feminino\", \"mes\": \"Mar\\u00e7o\", \"numero\": 7, \"regiao\": \"Sul\"}, {\"ano\": 2015, \"uf\": \"Paran\\u00e1\", \"genero\": \"Feminino\", \"mes\": \"Abril\", \"numero\": 12, \"regiao\": \"Sul\"}, {\"ano\": 2015, \"uf\": \"Paran\\u00e1\", \"genero\": \"Feminino\", \"mes\": \"Maio\", \"numero\": 13, \"regiao\": \"Sul\"}, {\"ano\": 2015, \"uf\": \"Paran\\u00e1\", \"genero\": \"Feminino\", \"mes\": \"Junho\", \"numero\": 7, \"regiao\": \"Sul\"}, {\"ano\": 2015, \"uf\": \"Paran\\u00e1\", \"genero\": \"Feminino\", \"mes\": \"Julho\", \"numero\": 13, \"regiao\": \"Sul\"}, {\"ano\": 2015, \"uf\": \"Paran\\u00e1\", \"genero\": \"Feminino\", \"mes\": \"Agosto\", \"numero\": 13, \"regiao\": \"Sul\"}, {\"ano\": 2015, \"uf\": \"Paran\\u00e1\", \"genero\": \"Feminino\", \"mes\": \"Setembro\", \"numero\": 15, \"regiao\": \"Sul\"}, {\"ano\": 2015, \"uf\": \"Paran\\u00e1\", \"genero\": \"Feminino\", \"mes\": \"Outubro\", \"numero\": 13, \"regiao\": \"Sul\"}, {\"ano\": 2015, \"uf\": \"Paran\\u00e1\", \"genero\": \"Feminino\", \"mes\": \"Novembro\", \"numero\": 9, \"regiao\": \"Sul\"}, {\"ano\": 2015, \"uf\": \"Paran\\u00e1\", \"genero\": \"Feminino\", \"mes\": \"Dezembro\", \"numero\": 18, \"regiao\": \"Sul\"}, {\"ano\": 2016, \"uf\": \"Paran\\u00e1\", \"genero\": \"Feminino\", \"mes\": \"Janeiro\", \"numero\": 8, \"regiao\": \"Sul\"}, {\"ano\": 2016, \"uf\": \"Paran\\u00e1\", \"genero\": \"Feminino\", \"mes\": \"Fevereiro\", \"numero\": 4, \"regiao\": \"Sul\"}, {\"ano\": 2016, \"uf\": \"Paran\\u00e1\", \"genero\": \"Feminino\", \"mes\": \"Mar\\u00e7o\", \"numero\": 6, \"regiao\": \"Sul\"}, {\"ano\": 2016, \"uf\": \"Paran\\u00e1\", \"genero\": \"Feminino\", \"mes\": \"Abril\", \"numero\": 16, \"regiao\": \"Sul\"}, {\"ano\": 2016, \"uf\": \"Paran\\u00e1\", \"genero\": \"Feminino\", \"mes\": \"Maio\", \"numero\": 14, \"regiao\": \"Sul\"}, {\"ano\": 2016, \"uf\": \"Paran\\u00e1\", \"genero\": \"Feminino\", \"mes\": \"Junho\", \"numero\": 8, \"regiao\": \"Sul\"}, {\"ano\": 2016, \"uf\": \"Paran\\u00e1\", \"genero\": \"Feminino\", \"mes\": \"Julho\", \"numero\": 5, \"regiao\": \"Sul\"}, {\"ano\": 2016, \"uf\": \"Paran\\u00e1\", \"genero\": \"Feminino\", \"mes\": \"Agosto\", \"numero\": 11, \"regiao\": \"Sul\"}, {\"ano\": 2016, \"uf\": \"Paran\\u00e1\", \"genero\": \"Feminino\", \"mes\": \"Setembro\", \"numero\": 3, \"regiao\": \"Sul\"}, {\"ano\": 2016, \"uf\": \"Paran\\u00e1\", \"genero\": \"Feminino\", \"mes\": \"Outubro\", \"numero\": 9, \"regiao\": \"Sul\"}, {\"ano\": 2016, \"uf\": \"Paran\\u00e1\", \"genero\": \"Feminino\", \"mes\": \"Novembro\", \"numero\": 9, \"regiao\": \"Sul\"}, {\"ano\": 2016, \"uf\": \"Paran\\u00e1\", \"genero\": \"Feminino\", \"mes\": \"Dezembro\", \"numero\": 19, \"regiao\": \"Sul\"}, {\"ano\": 2017, \"uf\": \"Paran\\u00e1\", \"genero\": \"Feminino\", \"mes\": \"Janeiro\", \"numero\": 12, \"regiao\": \"Sul\"}, {\"ano\": 2017, \"uf\": \"Paran\\u00e1\", \"genero\": \"Feminino\", \"mes\": \"Fevereiro\", \"numero\": 6, \"regiao\": \"Sul\"}, {\"ano\": 2017, \"uf\": \"Paran\\u00e1\", \"genero\": \"Feminino\", \"mes\": \"Mar\\u00e7o\", \"numero\": 11, \"regiao\": \"Sul\"}, {\"ano\": 2017, \"uf\": \"Paran\\u00e1\", \"genero\": \"Feminino\", \"mes\": \"Abril\", \"numero\": 10, \"regiao\": \"Sul\"}, {\"ano\": 2017, \"uf\": \"Paran\\u00e1\", \"genero\": \"Feminino\", \"mes\": \"Maio\", \"numero\": 13, \"regiao\": \"Sul\"}, {\"ano\": 2017, \"uf\": \"Paran\\u00e1\", \"genero\": \"Feminino\", \"mes\": \"Junho\", \"numero\": 12, \"regiao\": \"Sul\"}, {\"ano\": 2017, \"uf\": \"Paran\\u00e1\", \"genero\": \"Feminino\", \"mes\": \"Julho\", \"numero\": 14, \"regiao\": \"Sul\"}, {\"ano\": 2017, \"uf\": \"Paran\\u00e1\", \"genero\": \"Feminino\", \"mes\": \"Agosto\", \"numero\": 14, \"regiao\": \"Sul\"}, {\"ano\": 2017, \"uf\": \"Paran\\u00e1\", \"genero\": \"Feminino\", \"mes\": \"Setembro\", \"numero\": 16, \"regiao\": \"Sul\"}, {\"ano\": 2017, \"uf\": \"Paran\\u00e1\", \"genero\": \"Feminino\", \"mes\": \"Outubro\", \"numero\": 12, \"regiao\": \"Sul\"}, {\"ano\": 2017, \"uf\": \"Paran\\u00e1\", \"genero\": \"Feminino\", \"mes\": \"Novembro\", \"numero\": 20, \"regiao\": \"Sul\"}, {\"ano\": 2017, \"uf\": \"Paran\\u00e1\", \"genero\": \"Feminino\", \"mes\": \"Dezembro\", \"numero\": 24, \"regiao\": \"Sul\"}, {\"ano\": 2018, \"uf\": \"Paran\\u00e1\", \"genero\": \"Feminino\", \"mes\": \"Janeiro\", \"numero\": 12, \"regiao\": \"Sul\"}, {\"ano\": 2018, \"uf\": \"Paran\\u00e1\", \"genero\": \"Feminino\", \"mes\": \"Fevereiro\", \"numero\": 7, \"regiao\": \"Sul\"}, {\"ano\": 2018, \"uf\": \"Paran\\u00e1\", \"genero\": \"Feminino\", \"mes\": \"Mar\\u00e7o\", \"numero\": 17, \"regiao\": \"Sul\"}, {\"ano\": 2018, \"uf\": \"Paran\\u00e1\", \"genero\": \"Feminino\", \"mes\": \"Abril\", \"numero\": 15, \"regiao\": \"Sul\"}, {\"ano\": 2018, \"uf\": \"Paran\\u00e1\", \"genero\": \"Feminino\", \"mes\": \"Maio\", \"numero\": 14, \"regiao\": \"Sul\"}, {\"ano\": 2018, \"uf\": \"Paran\\u00e1\", \"genero\": \"Feminino\", \"mes\": \"Junho\", \"numero\": 9, \"regiao\": \"Sul\"}, {\"ano\": 2018, \"uf\": \"Paran\\u00e1\", \"genero\": \"Feminino\", \"mes\": \"Julho\", \"numero\": 16, \"regiao\": \"Sul\"}, {\"ano\": 2018, \"uf\": \"Paran\\u00e1\", \"genero\": \"Feminino\", \"mes\": \"Agosto\", \"numero\": 12, \"regiao\": \"Sul\"}, {\"ano\": 2018, \"uf\": \"Paran\\u00e1\", \"genero\": \"Feminino\", \"mes\": \"Setembro\", \"numero\": 19, \"regiao\": \"Sul\"}, {\"ano\": 2018, \"uf\": \"Paran\\u00e1\", \"genero\": \"Feminino\", \"mes\": \"Outubro\", \"numero\": 24, \"regiao\": \"Sul\"}, {\"ano\": 2018, \"uf\": \"Paran\\u00e1\", \"genero\": \"Feminino\", \"mes\": \"Novembro\", \"numero\": 27, \"regiao\": \"Sul\"}, {\"ano\": 2018, \"uf\": \"Paran\\u00e1\", \"genero\": \"Feminino\", \"mes\": \"Dezembro\", \"numero\": 111, \"regiao\": \"Sul\"}, {\"ano\": 2019, \"uf\": \"Paran\\u00e1\", \"genero\": \"Feminino\", \"mes\": \"Janeiro\", \"numero\": 26, \"regiao\": \"Sul\"}, {\"ano\": 2019, \"uf\": \"Paran\\u00e1\", \"genero\": \"Feminino\", \"mes\": \"Fevereiro\", \"numero\": 37, \"regiao\": \"Sul\"}, {\"ano\": 2019, \"uf\": \"Paran\\u00e1\", \"genero\": \"Feminino\", \"mes\": \"Mar\\u00e7o\", \"numero\": 25, \"regiao\": \"Sul\"}, {\"ano\": 2019, \"uf\": \"Paran\\u00e1\", \"genero\": \"Feminino\", \"mes\": \"Abril\", \"numero\": 19, \"regiao\": \"Sul\"}, {\"ano\": 2019, \"uf\": \"Paran\\u00e1\", \"genero\": \"Feminino\", \"mes\": \"Maio\", \"numero\": 18, \"regiao\": \"Sul\"}, {\"ano\": 2019, \"uf\": \"Paran\\u00e1\", \"genero\": \"Feminino\", \"mes\": \"Junho\", \"numero\": 13, \"regiao\": \"Sul\"}, {\"ano\": 2019, \"uf\": \"Paran\\u00e1\", \"genero\": \"Feminino\", \"mes\": \"Julho\", \"numero\": 14, \"regiao\": \"Sul\"}, {\"ano\": 2019, \"uf\": \"Paran\\u00e1\", \"genero\": \"Feminino\", \"mes\": \"Agosto\", \"numero\": 18, \"regiao\": \"Sul\"}, {\"ano\": 2019, \"uf\": \"Paran\\u00e1\", \"genero\": \"Feminino\", \"mes\": \"Setembro\", \"numero\": 16, \"regiao\": \"Sul\"}, {\"ano\": 2019, \"uf\": \"Paran\\u00e1\", \"genero\": \"Feminino\", \"mes\": \"Outubro\", \"numero\": 19, \"regiao\": \"Sul\"}, {\"ano\": 2019, \"uf\": \"Paran\\u00e1\", \"genero\": \"Feminino\", \"mes\": \"Novembro\", \"numero\": 14, \"regiao\": \"Sul\"}, {\"ano\": 2019, \"uf\": \"Paran\\u00e1\", \"genero\": \"Feminino\", \"mes\": \"Dezembro\", \"numero\": 21, \"regiao\": \"Sul\"}, {\"ano\": 2014, \"uf\": \"Santa Catarina\", \"genero\": \"Masculino\", \"mes\": \"Janeiro\", \"numero\": 12, \"regiao\": \"Sul\"}, {\"ano\": 2014, \"uf\": \"Santa Catarina\", \"genero\": \"Masculino\", \"mes\": \"Fevereiro\", \"numero\": 15, \"regiao\": \"Sul\"}, {\"ano\": 2014, \"uf\": \"Santa Catarina\", \"genero\": \"Masculino\", \"mes\": \"Mar\\u00e7o\", \"numero\": 22, \"regiao\": \"Sul\"}, {\"ano\": 2014, \"uf\": \"Santa Catarina\", \"genero\": \"Masculino\", \"mes\": \"Abril\", \"numero\": 13, \"regiao\": \"Sul\"}, {\"ano\": 2014, \"uf\": \"Santa Catarina\", \"genero\": \"Masculino\", \"mes\": \"Maio\", \"numero\": 22, \"regiao\": \"Sul\"}, {\"ano\": 2014, \"uf\": \"Santa Catarina\", \"genero\": \"Masculino\", \"mes\": \"Junho\", \"numero\": 12, \"regiao\": \"Sul\"}, {\"ano\": 2014, \"uf\": \"Santa Catarina\", \"genero\": \"Masculino\", \"mes\": \"Julho\", \"numero\": 13, \"regiao\": \"Sul\"}, {\"ano\": 2014, \"uf\": \"Santa Catarina\", \"genero\": \"Masculino\", \"mes\": \"Agosto\", \"numero\": 10, \"regiao\": \"Sul\"}, {\"ano\": 2014, \"uf\": \"Santa Catarina\", \"genero\": \"Masculino\", \"mes\": \"Setembro\", \"numero\": 17, \"regiao\": \"Sul\"}, {\"ano\": 2014, \"uf\": \"Santa Catarina\", \"genero\": \"Masculino\", \"mes\": \"Outubro\", \"numero\": 16, \"regiao\": \"Sul\"}, {\"ano\": 2014, \"uf\": \"Santa Catarina\", \"genero\": \"Masculino\", \"mes\": \"Novembro\", \"numero\": 27, \"regiao\": \"Sul\"}, {\"ano\": 2014, \"uf\": \"Santa Catarina\", \"genero\": \"Masculino\", \"mes\": \"Dezembro\", \"numero\": 26, \"regiao\": \"Sul\"}, {\"ano\": 2014, \"uf\": \"Santa Catarina\", \"genero\": \"Feminino\", \"mes\": \"Janeiro\", \"numero\": 4, \"regiao\": \"Sul\"}, {\"ano\": 2014, \"uf\": \"Santa Catarina\", \"genero\": \"Feminino\", \"mes\": \"Fevereiro\", \"numero\": 6, \"regiao\": \"Sul\"}, {\"ano\": 2014, \"uf\": \"Santa Catarina\", \"genero\": \"Feminino\", \"mes\": \"Mar\\u00e7o\", \"numero\": 15, \"regiao\": \"Sul\"}, {\"ano\": 2014, \"uf\": \"Santa Catarina\", \"genero\": \"Feminino\", \"mes\": \"Abril\", \"numero\": 12, \"regiao\": \"Sul\"}, {\"ano\": 2014, \"uf\": \"Santa Catarina\", \"genero\": \"Feminino\", \"mes\": \"Maio\", \"numero\": 10, \"regiao\": \"Sul\"}, {\"ano\": 2014, \"uf\": \"Santa Catarina\", \"genero\": \"Feminino\", \"mes\": \"Junho\", \"numero\": 8, \"regiao\": \"Sul\"}, {\"ano\": 2014, \"uf\": \"Santa Catarina\", \"genero\": \"Feminino\", \"mes\": \"Julho\", \"numero\": 6, \"regiao\": \"Sul\"}, {\"ano\": 2014, \"uf\": \"Santa Catarina\", \"genero\": \"Feminino\", \"mes\": \"Agosto\", \"numero\": 9, \"regiao\": \"Sul\"}, {\"ano\": 2014, \"uf\": \"Santa Catarina\", \"genero\": \"Feminino\", \"mes\": \"Setembro\", \"numero\": 10, \"regiao\": \"Sul\"}, {\"ano\": 2014, \"uf\": \"Santa Catarina\", \"genero\": \"Feminino\", \"mes\": \"Outubro\", \"numero\": 24, \"regiao\": \"Sul\"}, {\"ano\": 2014, \"uf\": \"Santa Catarina\", \"genero\": \"Feminino\", \"mes\": \"Novembro\", \"numero\": 16, \"regiao\": \"Sul\"}, {\"ano\": 2014, \"uf\": \"Santa Catarina\", \"genero\": \"Feminino\", \"mes\": \"Dezembro\", \"numero\": 17, \"regiao\": \"Sul\"}, {\"ano\": 2013, \"uf\": \"Santa Catarina\", \"genero\": \"Masculino\", \"mes\": \"Janeiro\", \"numero\": 1, \"regiao\": \"Sul\"}, {\"ano\": 2013, \"uf\": \"Santa Catarina\", \"genero\": \"Masculino\", \"mes\": \"Fevereiro\", \"numero\": 0, \"regiao\": \"Sul\"}, {\"ano\": 2013, \"uf\": \"Santa Catarina\", \"genero\": \"Masculino\", \"mes\": \"Mar\\u00e7o\", \"numero\": 0, \"regiao\": \"Sul\"}, {\"ano\": 2013, \"uf\": \"Santa Catarina\", \"genero\": \"Masculino\", \"mes\": \"Abril\", \"numero\": 2, \"regiao\": \"Sul\"}, {\"ano\": 2013, \"uf\": \"Santa Catarina\", \"genero\": \"Masculino\", \"mes\": \"Maio\", \"numero\": 4, \"regiao\": \"Sul\"}, {\"ano\": 2013, \"uf\": \"Santa Catarina\", \"genero\": \"Masculino\", \"mes\": \"Junho\", \"numero\": 17, \"regiao\": \"Sul\"}, {\"ano\": 2013, \"uf\": \"Santa Catarina\", \"genero\": \"Masculino\", \"mes\": \"Julho\", \"numero\": 16, \"regiao\": \"Sul\"}, {\"ano\": 2013, \"uf\": \"Santa Catarina\", \"genero\": \"Masculino\", \"mes\": \"Agosto\", \"numero\": 14, \"regiao\": \"Sul\"}, {\"ano\": 2013, \"uf\": \"Santa Catarina\", \"genero\": \"Masculino\", \"mes\": \"Setembro\", \"numero\": 15, \"regiao\": \"Sul\"}, {\"ano\": 2013, \"uf\": \"Santa Catarina\", \"genero\": \"Masculino\", \"mes\": \"Outubro\", \"numero\": 16, \"regiao\": \"Sul\"}, {\"ano\": 2013, \"uf\": \"Santa Catarina\", \"genero\": \"Masculino\", \"mes\": \"Novembro\", \"numero\": 22, \"regiao\": \"Sul\"}, {\"ano\": 2013, \"uf\": \"Santa Catarina\", \"genero\": \"Masculino\", \"mes\": \"Dezembro\", \"numero\": 19, \"regiao\": \"Sul\"}, {\"ano\": 2013, \"uf\": \"Santa Catarina\", \"genero\": \"Feminino\", \"mes\": \"Janeiro\", \"numero\": 0, \"regiao\": \"Sul\"}, {\"ano\": 2013, \"uf\": \"Santa Catarina\", \"genero\": \"Feminino\", \"mes\": \"Fevereiro\", \"numero\": 1, \"regiao\": \"Sul\"}, {\"ano\": 2013, \"uf\": \"Santa Catarina\", \"genero\": \"Feminino\", \"mes\": \"Mar\\u00e7o\", \"numero\": 0, \"regiao\": \"Sul\"}, {\"ano\": 2013, \"uf\": \"Santa Catarina\", \"genero\": \"Feminino\", \"mes\": \"Abril\", \"numero\": 0, \"regiao\": \"Sul\"}, {\"ano\": 2013, \"uf\": \"Santa Catarina\", \"genero\": \"Feminino\", \"mes\": \"Maio\", \"numero\": 0, \"regiao\": \"Sul\"}, {\"ano\": 2013, \"uf\": \"Santa Catarina\", \"genero\": \"Feminino\", \"mes\": \"Junho\", \"numero\": 8, \"regiao\": \"Sul\"}, {\"ano\": 2013, \"uf\": \"Santa Catarina\", \"genero\": \"Feminino\", \"mes\": \"Julho\", \"numero\": 12, \"regiao\": \"Sul\"}, {\"ano\": 2013, \"uf\": \"Santa Catarina\", \"genero\": \"Feminino\", \"mes\": \"Agosto\", \"numero\": 11, \"regiao\": \"Sul\"}, {\"ano\": 2013, \"uf\": \"Santa Catarina\", \"genero\": \"Feminino\", \"mes\": \"Setembro\", \"numero\": 11, \"regiao\": \"Sul\"}, {\"ano\": 2013, \"uf\": \"Santa Catarina\", \"genero\": \"Feminino\", \"mes\": \"Outubro\", \"numero\": 15, \"regiao\": \"Sul\"}, {\"ano\": 2013, \"uf\": \"Santa Catarina\", \"genero\": \"Feminino\", \"mes\": \"Novembro\", \"numero\": 11, \"regiao\": \"Sul\"}, {\"ano\": 2013, \"uf\": \"Santa Catarina\", \"genero\": \"Feminino\", \"mes\": \"Dezembro\", \"numero\": 12, \"regiao\": \"Sul\"}, {\"ano\": 2015, \"uf\": \"Santa Catarina\", \"genero\": \"Masculino\", \"mes\": \"Janeiro\", \"numero\": 8, \"regiao\": \"Sul\"}, {\"ano\": 2015, \"uf\": \"Santa Catarina\", \"genero\": \"Masculino\", \"mes\": \"Fevereiro\", \"numero\": 9, \"regiao\": \"Sul\"}, {\"ano\": 2015, \"uf\": \"Santa Catarina\", \"genero\": \"Masculino\", \"mes\": \"Mar\\u00e7o\", \"numero\": 16, \"regiao\": \"Sul\"}, {\"ano\": 2015, \"uf\": \"Santa Catarina\", \"genero\": \"Masculino\", \"mes\": \"Abril\", \"numero\": 18, \"regiao\": \"Sul\"}, {\"ano\": 2015, \"uf\": \"Santa Catarina\", \"genero\": \"Masculino\", \"mes\": \"Maio\", \"numero\": 16, \"regiao\": \"Sul\"}, {\"ano\": 2015, \"uf\": \"Santa Catarina\", \"genero\": \"Masculino\", \"mes\": \"Junho\", \"numero\": 16, \"regiao\": \"Sul\"}, {\"ano\": 2015, \"uf\": \"Santa Catarina\", \"genero\": \"Masculino\", \"mes\": \"Julho\", \"numero\": 15, \"regiao\": \"Sul\"}, {\"ano\": 2015, \"uf\": \"Santa Catarina\", \"genero\": \"Masculino\", \"mes\": \"Agosto\", \"numero\": 14, \"regiao\": \"Sul\"}, {\"ano\": 2015, \"uf\": \"Santa Catarina\", \"genero\": \"Masculino\", \"mes\": \"Setembro\", \"numero\": 36, \"regiao\": \"Sul\"}, {\"ano\": 2015, \"uf\": \"Santa Catarina\", \"genero\": \"Masculino\", \"mes\": \"Outubro\", \"numero\": 24, \"regiao\": \"Sul\"}, {\"ano\": 2015, \"uf\": \"Santa Catarina\", \"genero\": \"Masculino\", \"mes\": \"Novembro\", \"numero\": 22, \"regiao\": \"Sul\"}, {\"ano\": 2015, \"uf\": \"Santa Catarina\", \"genero\": \"Masculino\", \"mes\": \"Dezembro\", \"numero\": 16, \"regiao\": \"Sul\"}, {\"ano\": 2016, \"uf\": \"Santa Catarina\", \"genero\": \"Masculino\", \"mes\": \"Janeiro\", \"numero\": 22, \"regiao\": \"Sul\"}, {\"ano\": 2016, \"uf\": \"Santa Catarina\", \"genero\": \"Masculino\", \"mes\": \"Fevereiro\", \"numero\": 17, \"regiao\": \"Sul\"}, {\"ano\": 2016, \"uf\": \"Santa Catarina\", \"genero\": \"Masculino\", \"mes\": \"Mar\\u00e7o\", \"numero\": 22, \"regiao\": \"Sul\"}, {\"ano\": 2016, \"uf\": \"Santa Catarina\", \"genero\": \"Masculino\", \"mes\": \"Abril\", \"numero\": 15, \"regiao\": \"Sul\"}, {\"ano\": 2016, \"uf\": \"Santa Catarina\", \"genero\": \"Masculino\", \"mes\": \"Maio\", \"numero\": 17, \"regiao\": \"Sul\"}, {\"ano\": 2016, \"uf\": \"Santa Catarina\", \"genero\": \"Masculino\", \"mes\": \"Junho\", \"numero\": 22, \"regiao\": \"Sul\"}, {\"ano\": 2016, \"uf\": \"Santa Catarina\", \"genero\": \"Masculino\", \"mes\": \"Julho\", \"numero\": 18, \"regiao\": \"Sul\"}, {\"ano\": 2016, \"uf\": \"Santa Catarina\", \"genero\": \"Masculino\", \"mes\": \"Agosto\", \"numero\": 21, \"regiao\": \"Sul\"}, {\"ano\": 2016, \"uf\": \"Santa Catarina\", \"genero\": \"Masculino\", \"mes\": \"Setembro\", \"numero\": 27, \"regiao\": \"Sul\"}, {\"ano\": 2016, \"uf\": \"Santa Catarina\", \"genero\": \"Masculino\", \"mes\": \"Outubro\", \"numero\": 15, \"regiao\": \"Sul\"}, {\"ano\": 2016, \"uf\": \"Santa Catarina\", \"genero\": \"Masculino\", \"mes\": \"Novembro\", \"numero\": 23, \"regiao\": \"Sul\"}, {\"ano\": 2016, \"uf\": \"Santa Catarina\", \"genero\": \"Masculino\", \"mes\": \"Dezembro\", \"numero\": 26, \"regiao\": \"Sul\"}, {\"ano\": 2017, \"uf\": \"Santa Catarina\", \"genero\": \"Masculino\", \"mes\": \"Janeiro\", \"numero\": 17, \"regiao\": \"Sul\"}, {\"ano\": 2017, \"uf\": \"Santa Catarina\", \"genero\": \"Masculino\", \"mes\": \"Fevereiro\", \"numero\": 9, \"regiao\": \"Sul\"}, {\"ano\": 2017, \"uf\": \"Santa Catarina\", \"genero\": \"Masculino\", \"mes\": \"Mar\\u00e7o\", \"numero\": 16, \"regiao\": \"Sul\"}, {\"ano\": 2017, \"uf\": \"Santa Catarina\", \"genero\": \"Masculino\", \"mes\": \"Abril\", \"numero\": 10, \"regiao\": \"Sul\"}, {\"ano\": 2017, \"uf\": \"Santa Catarina\", \"genero\": \"Masculino\", \"mes\": \"Maio\", \"numero\": 22, \"regiao\": \"Sul\"}, {\"ano\": 2017, \"uf\": \"Santa Catarina\", \"genero\": \"Masculino\", \"mes\": \"Junho\", \"numero\": 15, \"regiao\": \"Sul\"}, {\"ano\": 2017, \"uf\": \"Santa Catarina\", \"genero\": \"Masculino\", \"mes\": \"Julho\", \"numero\": 18, \"regiao\": \"Sul\"}, {\"ano\": 2017, \"uf\": \"Santa Catarina\", \"genero\": \"Masculino\", \"mes\": \"Agosto\", \"numero\": 10, \"regiao\": \"Sul\"}, {\"ano\": 2017, \"uf\": \"Santa Catarina\", \"genero\": \"Masculino\", \"mes\": \"Setembro\", \"numero\": 31, \"regiao\": \"Sul\"}, {\"ano\": 2017, \"uf\": \"Santa Catarina\", \"genero\": \"Masculino\", \"mes\": \"Outubro\", \"numero\": 18, \"regiao\": \"Sul\"}, {\"ano\": 2017, \"uf\": \"Santa Catarina\", \"genero\": \"Masculino\", \"mes\": \"Novembro\", \"numero\": 24, \"regiao\": \"Sul\"}, {\"ano\": 2017, \"uf\": \"Santa Catarina\", \"genero\": \"Masculino\", \"mes\": \"Dezembro\", \"numero\": 25, \"regiao\": \"Sul\"}, {\"ano\": 2018, \"uf\": \"Santa Catarina\", \"genero\": \"Masculino\", \"mes\": \"Janeiro\", \"numero\": 9, \"regiao\": \"Sul\"}, {\"ano\": 2018, \"uf\": \"Santa Catarina\", \"genero\": \"Masculino\", \"mes\": \"Fevereiro\", \"numero\": 14, \"regiao\": \"Sul\"}, {\"ano\": 2018, \"uf\": \"Santa Catarina\", \"genero\": \"Masculino\", \"mes\": \"Mar\\u00e7o\", \"numero\": 19, \"regiao\": \"Sul\"}, {\"ano\": 2018, \"uf\": \"Santa Catarina\", \"genero\": \"Masculino\", \"mes\": \"Abril\", \"numero\": 15, \"regiao\": \"Sul\"}, {\"ano\": 2018, \"uf\": \"Santa Catarina\", \"genero\": \"Masculino\", \"mes\": \"Maio\", \"numero\": 17, \"regiao\": \"Sul\"}, {\"ano\": 2018, \"uf\": \"Santa Catarina\", \"genero\": \"Masculino\", \"mes\": \"Junho\", \"numero\": 17, \"regiao\": \"Sul\"}, {\"ano\": 2018, \"uf\": \"Santa Catarina\", \"genero\": \"Masculino\", \"mes\": \"Julho\", \"numero\": 21, \"regiao\": \"Sul\"}, {\"ano\": 2018, \"uf\": \"Santa Catarina\", \"genero\": \"Masculino\", \"mes\": \"Agosto\", \"numero\": 18, \"regiao\": \"Sul\"}, {\"ano\": 2018, \"uf\": \"Santa Catarina\", \"genero\": \"Masculino\", \"mes\": \"Setembro\", \"numero\": 16, \"regiao\": \"Sul\"}, {\"ano\": 2018, \"uf\": \"Santa Catarina\", \"genero\": \"Masculino\", \"mes\": \"Outubro\", \"numero\": 18, \"regiao\": \"Sul\"}, {\"ano\": 2018, \"uf\": \"Santa Catarina\", \"genero\": \"Masculino\", \"mes\": \"Novembro\", \"numero\": 22, \"regiao\": \"Sul\"}, {\"ano\": 2018, \"uf\": \"Santa Catarina\", \"genero\": \"Masculino\", \"mes\": \"Dezembro\", \"numero\": 43, \"regiao\": \"Sul\"}, {\"ano\": 2019, \"uf\": \"Santa Catarina\", \"genero\": \"Masculino\", \"mes\": \"Janeiro\", \"numero\": 24, \"regiao\": \"Sul\"}, {\"ano\": 2019, \"uf\": \"Santa Catarina\", \"genero\": \"Masculino\", \"mes\": \"Fevereiro\", \"numero\": 21, \"regiao\": \"Sul\"}, {\"ano\": 2019, \"uf\": \"Santa Catarina\", \"genero\": \"Masculino\", \"mes\": \"Mar\\u00e7o\", \"numero\": 14, \"regiao\": \"Sul\"}, {\"ano\": 2019, \"uf\": \"Santa Catarina\", \"genero\": \"Masculino\", \"mes\": \"Abril\", \"numero\": 12, \"regiao\": \"Sul\"}, {\"ano\": 2019, \"uf\": \"Santa Catarina\", \"genero\": \"Masculino\", \"mes\": \"Maio\", \"numero\": 11, \"regiao\": \"Sul\"}, {\"ano\": 2019, \"uf\": \"Santa Catarina\", \"genero\": \"Masculino\", \"mes\": \"Junho\", \"numero\": 11, \"regiao\": \"Sul\"}, {\"ano\": 2019, \"uf\": \"Santa Catarina\", \"genero\": \"Masculino\", \"mes\": \"Julho\", \"numero\": 20, \"regiao\": \"Sul\"}, {\"ano\": 2019, \"uf\": \"Santa Catarina\", \"genero\": \"Masculino\", \"mes\": \"Agosto\", \"numero\": 17, \"regiao\": \"Sul\"}, {\"ano\": 2019, \"uf\": \"Santa Catarina\", \"genero\": \"Masculino\", \"mes\": \"Setembro\", \"numero\": 13, \"regiao\": \"Sul\"}, {\"ano\": 2019, \"uf\": \"Santa Catarina\", \"genero\": \"Masculino\", \"mes\": \"Outubro\", \"numero\": 11, \"regiao\": \"Sul\"}, {\"ano\": 2019, \"uf\": \"Santa Catarina\", \"genero\": \"Masculino\", \"mes\": \"Novembro\", \"numero\": 11, \"regiao\": \"Sul\"}, {\"ano\": 2019, \"uf\": \"Santa Catarina\", \"genero\": \"Masculino\", \"mes\": \"Dezembro\", \"numero\": 15, \"regiao\": \"Sul\"}, {\"ano\": 2015, \"uf\": \"Santa Catarina\", \"genero\": \"Feminino\", \"mes\": \"Janeiro\", \"numero\": 6, \"regiao\": \"Sul\"}, {\"ano\": 2015, \"uf\": \"Santa Catarina\", \"genero\": \"Feminino\", \"mes\": \"Fevereiro\", \"numero\": 10, \"regiao\": \"Sul\"}, {\"ano\": 2015, \"uf\": \"Santa Catarina\", \"genero\": \"Feminino\", \"mes\": \"Mar\\u00e7o\", \"numero\": 3, \"regiao\": \"Sul\"}, {\"ano\": 2015, \"uf\": \"Santa Catarina\", \"genero\": \"Feminino\", \"mes\": \"Abril\", \"numero\": 8, \"regiao\": \"Sul\"}, {\"ano\": 2015, \"uf\": \"Santa Catarina\", \"genero\": \"Feminino\", \"mes\": \"Maio\", \"numero\": 17, \"regiao\": \"Sul\"}, {\"ano\": 2015, \"uf\": \"Santa Catarina\", \"genero\": \"Feminino\", \"mes\": \"Junho\", \"numero\": 9, \"regiao\": \"Sul\"}, {\"ano\": 2015, \"uf\": \"Santa Catarina\", \"genero\": \"Feminino\", \"mes\": \"Julho\", \"numero\": 12, \"regiao\": \"Sul\"}, {\"ano\": 2015, \"uf\": \"Santa Catarina\", \"genero\": \"Feminino\", \"mes\": \"Agosto\", \"numero\": 6, \"regiao\": \"Sul\"}, {\"ano\": 2015, \"uf\": \"Santa Catarina\", \"genero\": \"Feminino\", \"mes\": \"Setembro\", \"numero\": 30, \"regiao\": \"Sul\"}, {\"ano\": 2015, \"uf\": \"Santa Catarina\", \"genero\": \"Feminino\", \"mes\": \"Outubro\", \"numero\": 8, \"regiao\": \"Sul\"}, {\"ano\": 2015, \"uf\": \"Santa Catarina\", \"genero\": \"Feminino\", \"mes\": \"Novembro\", \"numero\": 11, \"regiao\": \"Sul\"}, {\"ano\": 2015, \"uf\": \"Santa Catarina\", \"genero\": \"Feminino\", \"mes\": \"Dezembro\", \"numero\": 19, \"regiao\": \"Sul\"}, {\"ano\": 2016, \"uf\": \"Santa Catarina\", \"genero\": \"Feminino\", \"mes\": \"Janeiro\", \"numero\": 7, \"regiao\": \"Sul\"}, {\"ano\": 2016, \"uf\": \"Santa Catarina\", \"genero\": \"Feminino\", \"mes\": \"Fevereiro\", \"numero\": 7, \"regiao\": \"Sul\"}, {\"ano\": 2016, \"uf\": \"Santa Catarina\", \"genero\": \"Feminino\", \"mes\": \"Mar\\u00e7o\", \"numero\": 12, \"regiao\": \"Sul\"}, {\"ano\": 2016, \"uf\": \"Santa Catarina\", \"genero\": \"Feminino\", \"mes\": \"Abril\", \"numero\": 11, \"regiao\": \"Sul\"}, {\"ano\": 2016, \"uf\": \"Santa Catarina\", \"genero\": \"Feminino\", \"mes\": \"Maio\", \"numero\": 10, \"regiao\": \"Sul\"}, {\"ano\": 2016, \"uf\": \"Santa Catarina\", \"genero\": \"Feminino\", \"mes\": \"Junho\", \"numero\": 18, \"regiao\": \"Sul\"}, {\"ano\": 2016, \"uf\": \"Santa Catarina\", \"genero\": \"Feminino\", \"mes\": \"Julho\", \"numero\": 10, \"regiao\": \"Sul\"}, {\"ano\": 2016, \"uf\": \"Santa Catarina\", \"genero\": \"Feminino\", \"mes\": \"Agosto\", \"numero\": 14, \"regiao\": \"Sul\"}, {\"ano\": 2016, \"uf\": \"Santa Catarina\", \"genero\": \"Feminino\", \"mes\": \"Setembro\", \"numero\": 9, \"regiao\": \"Sul\"}, {\"ano\": 2016, \"uf\": \"Santa Catarina\", \"genero\": \"Feminino\", \"mes\": \"Outubro\", \"numero\": 14, \"regiao\": \"Sul\"}, {\"ano\": 2016, \"uf\": \"Santa Catarina\", \"genero\": \"Feminino\", \"mes\": \"Novembro\", \"numero\": 14, \"regiao\": \"Sul\"}, {\"ano\": 2016, \"uf\": \"Santa Catarina\", \"genero\": \"Feminino\", \"mes\": \"Dezembro\", \"numero\": 11, \"regiao\": \"Sul\"}, {\"ano\": 2017, \"uf\": \"Santa Catarina\", \"genero\": \"Feminino\", \"mes\": \"Janeiro\", \"numero\": 4, \"regiao\": \"Sul\"}, {\"ano\": 2017, \"uf\": \"Santa Catarina\", \"genero\": \"Feminino\", \"mes\": \"Fevereiro\", \"numero\": 10, \"regiao\": \"Sul\"}, {\"ano\": 2017, \"uf\": \"Santa Catarina\", \"genero\": \"Feminino\", \"mes\": \"Mar\\u00e7o\", \"numero\": 14, \"regiao\": \"Sul\"}, {\"ano\": 2017, \"uf\": \"Santa Catarina\", \"genero\": \"Feminino\", \"mes\": \"Abril\", \"numero\": 9, \"regiao\": \"Sul\"}, {\"ano\": 2017, \"uf\": \"Santa Catarina\", \"genero\": \"Feminino\", \"mes\": \"Maio\", \"numero\": 14, \"regiao\": \"Sul\"}, {\"ano\": 2017, \"uf\": \"Santa Catarina\", \"genero\": \"Feminino\", \"mes\": \"Junho\", \"numero\": 12, \"regiao\": \"Sul\"}, {\"ano\": 2017, \"uf\": \"Santa Catarina\", \"genero\": \"Feminino\", \"mes\": \"Julho\", \"numero\": 15, \"regiao\": \"Sul\"}, {\"ano\": 2017, \"uf\": \"Santa Catarina\", \"genero\": \"Feminino\", \"mes\": \"Agosto\", \"numero\": 11, \"regiao\": \"Sul\"}, {\"ano\": 2017, \"uf\": \"Santa Catarina\", \"genero\": \"Feminino\", \"mes\": \"Setembro\", \"numero\": 11, \"regiao\": \"Sul\"}, {\"ano\": 2017, \"uf\": \"Santa Catarina\", \"genero\": \"Feminino\", \"mes\": \"Outubro\", \"numero\": 8, \"regiao\": \"Sul\"}, {\"ano\": 2017, \"uf\": \"Santa Catarina\", \"genero\": \"Feminino\", \"mes\": \"Novembro\", \"numero\": 16, \"regiao\": \"Sul\"}, {\"ano\": 2017, \"uf\": \"Santa Catarina\", \"genero\": \"Feminino\", \"mes\": \"Dezembro\", \"numero\": 11, \"regiao\": \"Sul\"}, {\"ano\": 2018, \"uf\": \"Santa Catarina\", \"genero\": \"Feminino\", \"mes\": \"Janeiro\", \"numero\": 14, \"regiao\": \"Sul\"}, {\"ano\": 2018, \"uf\": \"Santa Catarina\", \"genero\": \"Feminino\", \"mes\": \"Fevereiro\", \"numero\": 7, \"regiao\": \"Sul\"}, {\"ano\": 2018, \"uf\": \"Santa Catarina\", \"genero\": \"Feminino\", \"mes\": \"Mar\\u00e7o\", \"numero\": 9, \"regiao\": \"Sul\"}, {\"ano\": 2018, \"uf\": \"Santa Catarina\", \"genero\": \"Feminino\", \"mes\": \"Abril\", \"numero\": 8, \"regiao\": \"Sul\"}, {\"ano\": 2018, \"uf\": \"Santa Catarina\", \"genero\": \"Feminino\", \"mes\": \"Maio\", \"numero\": 7, \"regiao\": \"Sul\"}, {\"ano\": 2018, \"uf\": \"Santa Catarina\", \"genero\": \"Feminino\", \"mes\": \"Junho\", \"numero\": 12, \"regiao\": \"Sul\"}, {\"ano\": 2018, \"uf\": \"Santa Catarina\", \"genero\": \"Feminino\", \"mes\": \"Julho\", \"numero\": 16, \"regiao\": \"Sul\"}, {\"ano\": 2018, \"uf\": \"Santa Catarina\", \"genero\": \"Feminino\", \"mes\": \"Agosto\", \"numero\": 18, \"regiao\": \"Sul\"}, {\"ano\": 2018, \"uf\": \"Santa Catarina\", \"genero\": \"Feminino\", \"mes\": \"Setembro\", \"numero\": 16, \"regiao\": \"Sul\"}, {\"ano\": 2018, \"uf\": \"Santa Catarina\", \"genero\": \"Feminino\", \"mes\": \"Outubro\", \"numero\": 13, \"regiao\": \"Sul\"}, {\"ano\": 2018, \"uf\": \"Santa Catarina\", \"genero\": \"Feminino\", \"mes\": \"Novembro\", \"numero\": 18, \"regiao\": \"Sul\"}, {\"ano\": 2018, \"uf\": \"Santa Catarina\", \"genero\": \"Feminino\", \"mes\": \"Dezembro\", \"numero\": 62, \"regiao\": \"Sul\"}, {\"ano\": 2019, \"uf\": \"Santa Catarina\", \"genero\": \"Feminino\", \"mes\": \"Janeiro\", \"numero\": 29, \"regiao\": \"Sul\"}, {\"ano\": 2019, \"uf\": \"Santa Catarina\", \"genero\": \"Feminino\", \"mes\": \"Fevereiro\", \"numero\": 29, \"regiao\": \"Sul\"}, {\"ano\": 2019, \"uf\": \"Santa Catarina\", \"genero\": \"Feminino\", \"mes\": \"Mar\\u00e7o\", \"numero\": 16, \"regiao\": \"Sul\"}, {\"ano\": 2019, \"uf\": \"Santa Catarina\", \"genero\": \"Feminino\", \"mes\": \"Abril\", \"numero\": 14, \"regiao\": \"Sul\"}, {\"ano\": 2019, \"uf\": \"Santa Catarina\", \"genero\": \"Feminino\", \"mes\": \"Maio\", \"numero\": 11, \"regiao\": \"Sul\"}, {\"ano\": 2019, \"uf\": \"Santa Catarina\", \"genero\": \"Feminino\", \"mes\": \"Junho\", \"numero\": 11, \"regiao\": \"Sul\"}, {\"ano\": 2019, \"uf\": \"Santa Catarina\", \"genero\": \"Feminino\", \"mes\": \"Julho\", \"numero\": 11, \"regiao\": \"Sul\"}, {\"ano\": 2019, \"uf\": \"Santa Catarina\", \"genero\": \"Feminino\", \"mes\": \"Agosto\", \"numero\": 12, \"regiao\": \"Sul\"}, {\"ano\": 2019, \"uf\": \"Santa Catarina\", \"genero\": \"Feminino\", \"mes\": \"Setembro\", \"numero\": 12, \"regiao\": \"Sul\"}, {\"ano\": 2019, \"uf\": \"Santa Catarina\", \"genero\": \"Feminino\", \"mes\": \"Outubro\", \"numero\": 11, \"regiao\": \"Sul\"}, {\"ano\": 2019, \"uf\": \"Santa Catarina\", \"genero\": \"Feminino\", \"mes\": \"Novembro\", \"numero\": 21, \"regiao\": \"Sul\"}, {\"ano\": 2019, \"uf\": \"Santa Catarina\", \"genero\": \"Feminino\", \"mes\": \"Dezembro\", \"numero\": 18, \"regiao\": \"Sul\"}, {\"ano\": 2014, \"uf\": \"Rio Grande do Sul\", \"genero\": \"Masculino\", \"mes\": \"Janeiro\", \"numero\": 7, \"regiao\": \"Sul\"}, {\"ano\": 2014, \"uf\": \"Rio Grande do Sul\", \"genero\": \"Masculino\", \"mes\": \"Fevereiro\", \"numero\": 11, \"regiao\": \"Sul\"}, {\"ano\": 2014, \"uf\": \"Rio Grande do Sul\", \"genero\": \"Masculino\", \"mes\": \"Mar\\u00e7o\", \"numero\": 6, \"regiao\": \"Sul\"}, {\"ano\": 2014, \"uf\": \"Rio Grande do Sul\", \"genero\": \"Masculino\", \"mes\": \"Abril\", \"numero\": 5, \"regiao\": \"Sul\"}, {\"ano\": 2014, \"uf\": \"Rio Grande do Sul\", \"genero\": \"Masculino\", \"mes\": \"Maio\", \"numero\": 7, \"regiao\": \"Sul\"}, {\"ano\": 2014, \"uf\": \"Rio Grande do Sul\", \"genero\": \"Masculino\", \"mes\": \"Junho\", \"numero\": 10, \"regiao\": \"Sul\"}, {\"ano\": 2014, \"uf\": \"Rio Grande do Sul\", \"genero\": \"Masculino\", \"mes\": \"Julho\", \"numero\": 10, \"regiao\": \"Sul\"}, {\"ano\": 2014, \"uf\": \"Rio Grande do Sul\", \"genero\": \"Masculino\", \"mes\": \"Agosto\", \"numero\": 10, \"regiao\": \"Sul\"}, {\"ano\": 2014, \"uf\": \"Rio Grande do Sul\", \"genero\": \"Masculino\", \"mes\": \"Setembro\", \"numero\": 6, \"regiao\": \"Sul\"}, {\"ano\": 2014, \"uf\": \"Rio Grande do Sul\", \"genero\": \"Masculino\", \"mes\": \"Outubro\", \"numero\": 11, \"regiao\": \"Sul\"}, {\"ano\": 2014, \"uf\": \"Rio Grande do Sul\", \"genero\": \"Masculino\", \"mes\": \"Novembro\", \"numero\": 11, \"regiao\": \"Sul\"}, {\"ano\": 2014, \"uf\": \"Rio Grande do Sul\", \"genero\": \"Masculino\", \"mes\": \"Dezembro\", \"numero\": 12, \"regiao\": \"Sul\"}, {\"ano\": 2014, \"uf\": \"Rio Grande do Sul\", \"genero\": \"Feminino\", \"mes\": \"Janeiro\", \"numero\": 9, \"regiao\": \"Sul\"}, {\"ano\": 2014, \"uf\": \"Rio Grande do Sul\", \"genero\": \"Feminino\", \"mes\": \"Fevereiro\", \"numero\": 4, \"regiao\": \"Sul\"}, {\"ano\": 2014, \"uf\": \"Rio Grande do Sul\", \"genero\": \"Feminino\", \"mes\": \"Mar\\u00e7o\", \"numero\": 11, \"regiao\": \"Sul\"}, {\"ano\": 2014, \"uf\": \"Rio Grande do Sul\", \"genero\": \"Feminino\", \"mes\": \"Abril\", \"numero\": 10, \"regiao\": \"Sul\"}, {\"ano\": 2014, \"uf\": \"Rio Grande do Sul\", \"genero\": \"Feminino\", \"mes\": \"Maio\", \"numero\": 6, \"regiao\": \"Sul\"}, {\"ano\": 2014, \"uf\": \"Rio Grande do Sul\", \"genero\": \"Feminino\", \"mes\": \"Junho\", \"numero\": 6, \"regiao\": \"Sul\"}, {\"ano\": 2014, \"uf\": \"Rio Grande do Sul\", \"genero\": \"Feminino\", \"mes\": \"Julho\", \"numero\": 7, \"regiao\": \"Sul\"}, {\"ano\": 2014, \"uf\": \"Rio Grande do Sul\", \"genero\": \"Feminino\", \"mes\": \"Agosto\", \"numero\": 8, \"regiao\": \"Sul\"}, {\"ano\": 2014, \"uf\": \"Rio Grande do Sul\", \"genero\": \"Feminino\", \"mes\": \"Setembro\", \"numero\": 8, \"regiao\": \"Sul\"}, {\"ano\": 2014, \"uf\": \"Rio Grande do Sul\", \"genero\": \"Feminino\", \"mes\": \"Outubro\", \"numero\": 10, \"regiao\": \"Sul\"}, {\"ano\": 2014, \"uf\": \"Rio Grande do Sul\", \"genero\": \"Feminino\", \"mes\": \"Novembro\", \"numero\": 13, \"regiao\": \"Sul\"}, {\"ano\": 2014, \"uf\": \"Rio Grande do Sul\", \"genero\": \"Feminino\", \"mes\": \"Dezembro\", \"numero\": 14, \"regiao\": \"Sul\"}, {\"ano\": 2013, \"uf\": \"Rio Grande do Sul\", \"genero\": \"Masculino\", \"mes\": \"Janeiro\", \"numero\": 4, \"regiao\": \"Sul\"}, {\"ano\": 2013, \"uf\": \"Rio Grande do Sul\", \"genero\": \"Masculino\", \"mes\": \"Fevereiro\", \"numero\": 5, \"regiao\": \"Sul\"}, {\"ano\": 2013, \"uf\": \"Rio Grande do Sul\", \"genero\": \"Masculino\", \"mes\": \"Mar\\u00e7o\", \"numero\": 1, \"regiao\": \"Sul\"}, {\"ano\": 2013, \"uf\": \"Rio Grande do Sul\", \"genero\": \"Masculino\", \"mes\": \"Abril\", \"numero\": 2, \"regiao\": \"Sul\"}, {\"ano\": 2013, \"uf\": \"Rio Grande do Sul\", \"genero\": \"Masculino\", \"mes\": \"Maio\", \"numero\": 1, \"regiao\": \"Sul\"}, {\"ano\": 2013, \"uf\": \"Rio Grande do Sul\", \"genero\": \"Masculino\", \"mes\": \"Junho\", \"numero\": 9, \"regiao\": \"Sul\"}, {\"ano\": 2013, \"uf\": \"Rio Grande do Sul\", \"genero\": \"Masculino\", \"mes\": \"Julho\", \"numero\": 9, \"regiao\": \"Sul\"}, {\"ano\": 2013, \"uf\": \"Rio Grande do Sul\", \"genero\": \"Masculino\", \"mes\": \"Agosto\", \"numero\": 8, \"regiao\": \"Sul\"}, {\"ano\": 2013, \"uf\": \"Rio Grande do Sul\", \"genero\": \"Masculino\", \"mes\": \"Setembro\", \"numero\": 11, \"regiao\": \"Sul\"}, {\"ano\": 2013, \"uf\": \"Rio Grande do Sul\", \"genero\": \"Masculino\", \"mes\": \"Outubro\", \"numero\": 9, \"regiao\": \"Sul\"}, {\"ano\": 2013, \"uf\": \"Rio Grande do Sul\", \"genero\": \"Masculino\", \"mes\": \"Novembro\", \"numero\": 9, \"regiao\": \"Sul\"}, {\"ano\": 2013, \"uf\": \"Rio Grande do Sul\", \"genero\": \"Masculino\", \"mes\": \"Dezembro\", \"numero\": 8, \"regiao\": \"Sul\"}, {\"ano\": 2013, \"uf\": \"Rio Grande do Sul\", \"genero\": \"Feminino\", \"mes\": \"Janeiro\", \"numero\": 3, \"regiao\": \"Sul\"}, {\"ano\": 2013, \"uf\": \"Rio Grande do Sul\", \"genero\": \"Feminino\", \"mes\": \"Fevereiro\", \"numero\": 3, \"regiao\": \"Sul\"}, {\"ano\": 2013, \"uf\": \"Rio Grande do Sul\", \"genero\": \"Feminino\", \"mes\": \"Mar\\u00e7o\", \"numero\": 1, \"regiao\": \"Sul\"}, {\"ano\": 2013, \"uf\": \"Rio Grande do Sul\", \"genero\": \"Feminino\", \"mes\": \"Abril\", \"numero\": 6, \"regiao\": \"Sul\"}, {\"ano\": 2013, \"uf\": \"Rio Grande do Sul\", \"genero\": \"Feminino\", \"mes\": \"Maio\", \"numero\": 4, \"regiao\": \"Sul\"}, {\"ano\": 2013, \"uf\": \"Rio Grande do Sul\", \"genero\": \"Feminino\", \"mes\": \"Junho\", \"numero\": 4, \"regiao\": \"Sul\"}, {\"ano\": 2013, \"uf\": \"Rio Grande do Sul\", \"genero\": \"Feminino\", \"mes\": \"Julho\", \"numero\": 9, \"regiao\": \"Sul\"}, {\"ano\": 2013, \"uf\": \"Rio Grande do Sul\", \"genero\": \"Feminino\", \"mes\": \"Agosto\", \"numero\": 7, \"regiao\": \"Sul\"}, {\"ano\": 2013, \"uf\": \"Rio Grande do Sul\", \"genero\": \"Feminino\", \"mes\": \"Setembro\", \"numero\": 9, \"regiao\": \"Sul\"}, {\"ano\": 2013, \"uf\": \"Rio Grande do Sul\", \"genero\": \"Feminino\", \"mes\": \"Outubro\", \"numero\": 11, \"regiao\": \"Sul\"}, {\"ano\": 2013, \"uf\": \"Rio Grande do Sul\", \"genero\": \"Feminino\", \"mes\": \"Novembro\", \"numero\": 9, \"regiao\": \"Sul\"}, {\"ano\": 2013, \"uf\": \"Rio Grande do Sul\", \"genero\": \"Feminino\", \"mes\": \"Dezembro\", \"numero\": 8, \"regiao\": \"Sul\"}, {\"ano\": 2015, \"uf\": \"Rio Grande do Sul\", \"genero\": \"Masculino\", \"mes\": \"Janeiro\", \"numero\": 6, \"regiao\": \"Sul\"}, {\"ano\": 2015, \"uf\": \"Rio Grande do Sul\", \"genero\": \"Masculino\", \"mes\": \"Fevereiro\", \"numero\": 5, \"regiao\": \"Sul\"}, {\"ano\": 2015, \"uf\": \"Rio Grande do Sul\", \"genero\": \"Masculino\", \"mes\": \"Mar\\u00e7o\", \"numero\": 12, \"regiao\": \"Sul\"}, {\"ano\": 2015, \"uf\": \"Rio Grande do Sul\", \"genero\": \"Masculino\", \"mes\": \"Abril\", \"numero\": 7, \"regiao\": \"Sul\"}, {\"ano\": 2015, \"uf\": \"Rio Grande do Sul\", \"genero\": \"Masculino\", \"mes\": \"Maio\", \"numero\": 15, \"regiao\": \"Sul\"}, {\"ano\": 2015, \"uf\": \"Rio Grande do Sul\", \"genero\": \"Masculino\", \"mes\": \"Junho\", \"numero\": 11, \"regiao\": \"Sul\"}, {\"ano\": 2015, \"uf\": \"Rio Grande do Sul\", \"genero\": \"Masculino\", \"mes\": \"Julho\", \"numero\": 11, \"regiao\": \"Sul\"}, {\"ano\": 2015, \"uf\": \"Rio Grande do Sul\", \"genero\": \"Masculino\", \"mes\": \"Agosto\", \"numero\": 11, \"regiao\": \"Sul\"}, {\"ano\": 2015, \"uf\": \"Rio Grande do Sul\", \"genero\": \"Masculino\", \"mes\": \"Setembro\", \"numero\": 6, \"regiao\": \"Sul\"}, {\"ano\": 2015, \"uf\": \"Rio Grande do Sul\", \"genero\": \"Masculino\", \"mes\": \"Outubro\", \"numero\": 11, \"regiao\": \"Sul\"}, {\"ano\": 2015, \"uf\": \"Rio Grande do Sul\", \"genero\": \"Masculino\", \"mes\": \"Novembro\", \"numero\": 8, \"regiao\": \"Sul\"}, {\"ano\": 2015, \"uf\": \"Rio Grande do Sul\", \"genero\": \"Masculino\", \"mes\": \"Dezembro\", \"numero\": 5, \"regiao\": \"Sul\"}, {\"ano\": 2016, \"uf\": \"Rio Grande do Sul\", \"genero\": \"Masculino\", \"mes\": \"Janeiro\", \"numero\": 5, \"regiao\": \"Sul\"}, {\"ano\": 2016, \"uf\": \"Rio Grande do Sul\", \"genero\": \"Masculino\", \"mes\": \"Fevereiro\", \"numero\": 2, \"regiao\": \"Sul\"}, {\"ano\": 2016, \"uf\": \"Rio Grande do Sul\", \"genero\": \"Masculino\", \"mes\": \"Mar\\u00e7o\", \"numero\": 8, \"regiao\": \"Sul\"}, {\"ano\": 2016, \"uf\": \"Rio Grande do Sul\", \"genero\": \"Masculino\", \"mes\": \"Abril\", \"numero\": 11, \"regiao\": \"Sul\"}, {\"ano\": 2016, \"uf\": \"Rio Grande do Sul\", \"genero\": \"Masculino\", \"mes\": \"Maio\", \"numero\": 9, \"regiao\": \"Sul\"}, {\"ano\": 2016, \"uf\": \"Rio Grande do Sul\", \"genero\": \"Masculino\", \"mes\": \"Junho\", \"numero\": 4, \"regiao\": \"Sul\"}, {\"ano\": 2016, \"uf\": \"Rio Grande do Sul\", \"genero\": \"Masculino\", \"mes\": \"Julho\", \"numero\": 4, \"regiao\": \"Sul\"}, {\"ano\": 2016, \"uf\": \"Rio Grande do Sul\", \"genero\": \"Masculino\", \"mes\": \"Agosto\", \"numero\": 7, \"regiao\": \"Sul\"}, {\"ano\": 2016, \"uf\": \"Rio Grande do Sul\", \"genero\": \"Masculino\", \"mes\": \"Setembro\", \"numero\": 8, \"regiao\": \"Sul\"}, {\"ano\": 2016, \"uf\": \"Rio Grande do Sul\", \"genero\": \"Masculino\", \"mes\": \"Outubro\", \"numero\": 7, \"regiao\": \"Sul\"}, {\"ano\": 2016, \"uf\": \"Rio Grande do Sul\", \"genero\": \"Masculino\", \"mes\": \"Novembro\", \"numero\": 12, \"regiao\": \"Sul\"}, {\"ano\": 2016, \"uf\": \"Rio Grande do Sul\", \"genero\": \"Masculino\", \"mes\": \"Dezembro\", \"numero\": 12, \"regiao\": \"Sul\"}, {\"ano\": 2017, \"uf\": \"Rio Grande do Sul\", \"genero\": \"Masculino\", \"mes\": \"Janeiro\", \"numero\": 7, \"regiao\": \"Sul\"}, {\"ano\": 2017, \"uf\": \"Rio Grande do Sul\", \"genero\": \"Masculino\", \"mes\": \"Fevereiro\", \"numero\": 7, \"regiao\": \"Sul\"}, {\"ano\": 2017, \"uf\": \"Rio Grande do Sul\", \"genero\": \"Masculino\", \"mes\": \"Mar\\u00e7o\", \"numero\": 10, \"regiao\": \"Sul\"}, {\"ano\": 2017, \"uf\": \"Rio Grande do Sul\", \"genero\": \"Masculino\", \"mes\": \"Abril\", \"numero\": 13, \"regiao\": \"Sul\"}, {\"ano\": 2017, \"uf\": \"Rio Grande do Sul\", \"genero\": \"Masculino\", \"mes\": \"Maio\", \"numero\": 8, \"regiao\": \"Sul\"}, {\"ano\": 2017, \"uf\": \"Rio Grande do Sul\", \"genero\": \"Masculino\", \"mes\": \"Junho\", \"numero\": 12, \"regiao\": \"Sul\"}, {\"ano\": 2017, \"uf\": \"Rio Grande do Sul\", \"genero\": \"Masculino\", \"mes\": \"Julho\", \"numero\": 6, \"regiao\": \"Sul\"}, {\"ano\": 2017, \"uf\": \"Rio Grande do Sul\", \"genero\": \"Masculino\", \"mes\": \"Agosto\", \"numero\": 3, \"regiao\": \"Sul\"}, {\"ano\": 2017, \"uf\": \"Rio Grande do Sul\", \"genero\": \"Masculino\", \"mes\": \"Setembro\", \"numero\": 13, \"regiao\": \"Sul\"}, {\"ano\": 2017, \"uf\": \"Rio Grande do Sul\", \"genero\": \"Masculino\", \"mes\": \"Outubro\", \"numero\": 11, \"regiao\": \"Sul\"}, {\"ano\": 2017, \"uf\": \"Rio Grande do Sul\", \"genero\": \"Masculino\", \"mes\": \"Novembro\", \"numero\": 17, \"regiao\": \"Sul\"}, {\"ano\": 2017, \"uf\": \"Rio Grande do Sul\", \"genero\": \"Masculino\", \"mes\": \"Dezembro\", \"numero\": 14, \"regiao\": \"Sul\"}, {\"ano\": 2018, \"uf\": \"Rio Grande do Sul\", \"genero\": \"Masculino\", \"mes\": \"Janeiro\", \"numero\": 11, \"regiao\": \"Sul\"}, {\"ano\": 2018, \"uf\": \"Rio Grande do Sul\", \"genero\": \"Masculino\", \"mes\": \"Fevereiro\", \"numero\": 8, \"regiao\": \"Sul\"}, {\"ano\": 2018, \"uf\": \"Rio Grande do Sul\", \"genero\": \"Masculino\", \"mes\": \"Mar\\u00e7o\", \"numero\": 10, \"regiao\": \"Sul\"}, {\"ano\": 2018, \"uf\": \"Rio Grande do Sul\", \"genero\": \"Masculino\", \"mes\": \"Abril\", \"numero\": 6, \"regiao\": \"Sul\"}, {\"ano\": 2018, \"uf\": \"Rio Grande do Sul\", \"genero\": \"Masculino\", \"mes\": \"Maio\", \"numero\": 13, \"regiao\": \"Sul\"}, {\"ano\": 2018, \"uf\": \"Rio Grande do Sul\", \"genero\": \"Masculino\", \"mes\": \"Junho\", \"numero\": 10, \"regiao\": \"Sul\"}, {\"ano\": 2018, \"uf\": \"Rio Grande do Sul\", \"genero\": \"Masculino\", \"mes\": \"Julho\", \"numero\": 13, \"regiao\": \"Sul\"}, {\"ano\": 2018, \"uf\": \"Rio Grande do Sul\", \"genero\": \"Masculino\", \"mes\": \"Agosto\", \"numero\": 15, \"regiao\": \"Sul\"}, {\"ano\": 2018, \"uf\": \"Rio Grande do Sul\", \"genero\": \"Masculino\", \"mes\": \"Setembro\", \"numero\": 13, \"regiao\": \"Sul\"}, {\"ano\": 2018, \"uf\": \"Rio Grande do Sul\", \"genero\": \"Masculino\", \"mes\": \"Outubro\", \"numero\": 3, \"regiao\": \"Sul\"}, {\"ano\": 2018, \"uf\": \"Rio Grande do Sul\", \"genero\": \"Masculino\", \"mes\": \"Novembro\", \"numero\": 20, \"regiao\": \"Sul\"}, {\"ano\": 2018, \"uf\": \"Rio Grande do Sul\", \"genero\": \"Masculino\", \"mes\": \"Dezembro\", \"numero\": 89, \"regiao\": \"Sul\"}, {\"ano\": 2019, \"uf\": \"Rio Grande do Sul\", \"genero\": \"Masculino\", \"mes\": \"Janeiro\", \"numero\": 33, \"regiao\": \"Sul\"}, {\"ano\": 2019, \"uf\": \"Rio Grande do Sul\", \"genero\": \"Masculino\", \"mes\": \"Fevereiro\", \"numero\": 33, \"regiao\": \"Sul\"}, {\"ano\": 2019, \"uf\": \"Rio Grande do Sul\", \"genero\": \"Masculino\", \"mes\": \"Mar\\u00e7o\", \"numero\": 16, \"regiao\": \"Sul\"}, {\"ano\": 2019, \"uf\": \"Rio Grande do Sul\", \"genero\": \"Masculino\", \"mes\": \"Abril\", \"numero\": 11, \"regiao\": \"Sul\"}, {\"ano\": 2019, \"uf\": \"Rio Grande do Sul\", \"genero\": \"Masculino\", \"mes\": \"Maio\", \"numero\": 7, \"regiao\": \"Sul\"}, {\"ano\": 2019, \"uf\": \"Rio Grande do Sul\", \"genero\": \"Masculino\", \"mes\": \"Junho\", \"numero\": 8, \"regiao\": \"Sul\"}, {\"ano\": 2019, \"uf\": \"Rio Grande do Sul\", \"genero\": \"Masculino\", \"mes\": \"Julho\", \"numero\": 7, \"regiao\": \"Sul\"}, {\"ano\": 2019, \"uf\": \"Rio Grande do Sul\", \"genero\": \"Masculino\", \"mes\": \"Agosto\", \"numero\": 5, \"regiao\": \"Sul\"}, {\"ano\": 2019, \"uf\": \"Rio Grande do Sul\", \"genero\": \"Masculino\", \"mes\": \"Setembro\", \"numero\": 11, \"regiao\": \"Sul\"}, {\"ano\": 2019, \"uf\": \"Rio Grande do Sul\", \"genero\": \"Masculino\", \"mes\": \"Outubro\", \"numero\": 11, \"regiao\": \"Sul\"}, {\"ano\": 2019, \"uf\": \"Rio Grande do Sul\", \"genero\": \"Masculino\", \"mes\": \"Novembro\", \"numero\": 18, \"regiao\": \"Sul\"}, {\"ano\": 2019, \"uf\": \"Rio Grande do Sul\", \"genero\": \"Masculino\", \"mes\": \"Dezembro\", \"numero\": 20, \"regiao\": \"Sul\"}, {\"ano\": 2015, \"uf\": \"Rio Grande do Sul\", \"genero\": \"Feminino\", \"mes\": \"Janeiro\", \"numero\": 10, \"regiao\": \"Sul\"}, {\"ano\": 2015, \"uf\": \"Rio Grande do Sul\", \"genero\": \"Feminino\", \"mes\": \"Fevereiro\", \"numero\": 9, \"regiao\": \"Sul\"}, {\"ano\": 2015, \"uf\": \"Rio Grande do Sul\", \"genero\": \"Feminino\", \"mes\": \"Mar\\u00e7o\", \"numero\": 12, \"regiao\": \"Sul\"}, {\"ano\": 2015, \"uf\": \"Rio Grande do Sul\", \"genero\": \"Feminino\", \"mes\": \"Abril\", \"numero\": 9, \"regiao\": \"Sul\"}, {\"ano\": 2015, \"uf\": \"Rio Grande do Sul\", \"genero\": \"Feminino\", \"mes\": \"Maio\", \"numero\": 9, \"regiao\": \"Sul\"}, {\"ano\": 2015, \"uf\": \"Rio Grande do Sul\", \"genero\": \"Feminino\", \"mes\": \"Junho\", \"numero\": 7, \"regiao\": \"Sul\"}, {\"ano\": 2015, \"uf\": \"Rio Grande do Sul\", \"genero\": \"Feminino\", \"mes\": \"Julho\", \"numero\": 7, \"regiao\": \"Sul\"}, {\"ano\": 2015, \"uf\": \"Rio Grande do Sul\", \"genero\": \"Feminino\", \"mes\": \"Agosto\", \"numero\": 4, \"regiao\": \"Sul\"}, {\"ano\": 2015, \"uf\": \"Rio Grande do Sul\", \"genero\": \"Feminino\", \"mes\": \"Setembro\", \"numero\": 13, \"regiao\": \"Sul\"}, {\"ano\": 2015, \"uf\": \"Rio Grande do Sul\", \"genero\": \"Feminino\", \"mes\": \"Outubro\", \"numero\": 4, \"regiao\": \"Sul\"}, {\"ano\": 2015, \"uf\": \"Rio Grande do Sul\", \"genero\": \"Feminino\", \"mes\": \"Novembro\", \"numero\": 11, \"regiao\": \"Sul\"}, {\"ano\": 2015, \"uf\": \"Rio Grande do Sul\", \"genero\": \"Feminino\", \"mes\": \"Dezembro\", \"numero\": 8, \"regiao\": \"Sul\"}, {\"ano\": 2016, \"uf\": \"Rio Grande do Sul\", \"genero\": \"Feminino\", \"mes\": \"Janeiro\", \"numero\": 8, \"regiao\": \"Sul\"}, {\"ano\": 2016, \"uf\": \"Rio Grande do Sul\", \"genero\": \"Feminino\", \"mes\": \"Fevereiro\", \"numero\": 10, \"regiao\": \"Sul\"}, {\"ano\": 2016, \"uf\": \"Rio Grande do Sul\", \"genero\": \"Feminino\", \"mes\": \"Mar\\u00e7o\", \"numero\": 15, \"regiao\": \"Sul\"}, {\"ano\": 2016, \"uf\": \"Rio Grande do Sul\", \"genero\": \"Feminino\", \"mes\": \"Abril\", \"numero\": 7, \"regiao\": \"Sul\"}, {\"ano\": 2016, \"uf\": \"Rio Grande do Sul\", \"genero\": \"Feminino\", \"mes\": \"Maio\", \"numero\": 7, \"regiao\": \"Sul\"}, {\"ano\": 2016, \"uf\": \"Rio Grande do Sul\", \"genero\": \"Feminino\", \"mes\": \"Junho\", \"numero\": 9, \"regiao\": \"Sul\"}, {\"ano\": 2016, \"uf\": \"Rio Grande do Sul\", \"genero\": \"Feminino\", \"mes\": \"Julho\", \"numero\": 11, \"regiao\": \"Sul\"}, {\"ano\": 2016, \"uf\": \"Rio Grande do Sul\", \"genero\": \"Feminino\", \"mes\": \"Agosto\", \"numero\": 7, \"regiao\": \"Sul\"}, {\"ano\": 2016, \"uf\": \"Rio Grande do Sul\", \"genero\": \"Feminino\", \"mes\": \"Setembro\", \"numero\": 14, \"regiao\": \"Sul\"}, {\"ano\": 2016, \"uf\": \"Rio Grande do Sul\", \"genero\": \"Feminino\", \"mes\": \"Outubro\", \"numero\": 12, \"regiao\": \"Sul\"}, {\"ano\": 2016, \"uf\": \"Rio Grande do Sul\", \"genero\": \"Feminino\", \"mes\": \"Novembro\", \"numero\": 8, \"regiao\": \"Sul\"}, {\"ano\": 2016, \"uf\": \"Rio Grande do Sul\", \"genero\": \"Feminino\", \"mes\": \"Dezembro\", \"numero\": 23, \"regiao\": \"Sul\"}, {\"ano\": 2017, \"uf\": \"Rio Grande do Sul\", \"genero\": \"Feminino\", \"mes\": \"Janeiro\", \"numero\": 7, \"regiao\": \"Sul\"}, {\"ano\": 2017, \"uf\": \"Rio Grande do Sul\", \"genero\": \"Feminino\", \"mes\": \"Fevereiro\", \"numero\": 8, \"regiao\": \"Sul\"}, {\"ano\": 2017, \"uf\": \"Rio Grande do Sul\", \"genero\": \"Feminino\", \"mes\": \"Mar\\u00e7o\", \"numero\": 10, \"regiao\": \"Sul\"}, {\"ano\": 2017, \"uf\": \"Rio Grande do Sul\", \"genero\": \"Feminino\", \"mes\": \"Abril\", \"numero\": 4, \"regiao\": \"Sul\"}, {\"ano\": 2017, \"uf\": \"Rio Grande do Sul\", \"genero\": \"Feminino\", \"mes\": \"Maio\", \"numero\": 15, \"regiao\": \"Sul\"}, {\"ano\": 2017, \"uf\": \"Rio Grande do Sul\", \"genero\": \"Feminino\", \"mes\": \"Junho\", \"numero\": 16, \"regiao\": \"Sul\"}, {\"ano\": 2017, \"uf\": \"Rio Grande do Sul\", \"genero\": \"Feminino\", \"mes\": \"Julho\", \"numero\": 15, \"regiao\": \"Sul\"}, {\"ano\": 2017, \"uf\": \"Rio Grande do Sul\", \"genero\": \"Feminino\", \"mes\": \"Agosto\", \"numero\": 10, \"regiao\": \"Sul\"}, {\"ano\": 2017, \"uf\": \"Rio Grande do Sul\", \"genero\": \"Feminino\", \"mes\": \"Setembro\", \"numero\": 10, \"regiao\": \"Sul\"}, {\"ano\": 2017, \"uf\": \"Rio Grande do Sul\", \"genero\": \"Feminino\", \"mes\": \"Outubro\", \"numero\": 10, \"regiao\": \"Sul\"}, {\"ano\": 2017, \"uf\": \"Rio Grande do Sul\", \"genero\": \"Feminino\", \"mes\": \"Novembro\", \"numero\": 12, \"regiao\": \"Sul\"}, {\"ano\": 2017, \"uf\": \"Rio Grande do Sul\", \"genero\": \"Feminino\", \"mes\": \"Dezembro\", \"numero\": 11, \"regiao\": \"Sul\"}, {\"ano\": 2018, \"uf\": \"Rio Grande do Sul\", \"genero\": \"Feminino\", \"mes\": \"Janeiro\", \"numero\": 7, \"regiao\": \"Sul\"}, {\"ano\": 2018, \"uf\": \"Rio Grande do Sul\", \"genero\": \"Feminino\", \"mes\": \"Fevereiro\", \"numero\": 12, \"regiao\": \"Sul\"}, {\"ano\": 2018, \"uf\": \"Rio Grande do Sul\", \"genero\": \"Feminino\", \"mes\": \"Mar\\u00e7o\", \"numero\": 13, \"regiao\": \"Sul\"}, {\"ano\": 2018, \"uf\": \"Rio Grande do Sul\", \"genero\": \"Feminino\", \"mes\": \"Abril\", \"numero\": 11, \"regiao\": \"Sul\"}, {\"ano\": 2018, \"uf\": \"Rio Grande do Sul\", \"genero\": \"Feminino\", \"mes\": \"Maio\", \"numero\": 11, \"regiao\": \"Sul\"}, {\"ano\": 2018, \"uf\": \"Rio Grande do Sul\", \"genero\": \"Feminino\", \"mes\": \"Junho\", \"numero\": 10, \"regiao\": \"Sul\"}, {\"ano\": 2018, \"uf\": \"Rio Grande do Sul\", \"genero\": \"Feminino\", \"mes\": \"Julho\", \"numero\": 11, \"regiao\": \"Sul\"}, {\"ano\": 2018, \"uf\": \"Rio Grande do Sul\", \"genero\": \"Feminino\", \"mes\": \"Agosto\", \"numero\": 10, \"regiao\": \"Sul\"}, {\"ano\": 2018, \"uf\": \"Rio Grande do Sul\", \"genero\": \"Feminino\", \"mes\": \"Setembro\", \"numero\": 19, \"regiao\": \"Sul\"}, {\"ano\": 2018, \"uf\": \"Rio Grande do Sul\", \"genero\": \"Feminino\", \"mes\": \"Outubro\", \"numero\": 16, \"regiao\": \"Sul\"}, {\"ano\": 2018, \"uf\": \"Rio Grande do Sul\", \"genero\": \"Feminino\", \"mes\": \"Novembro\", \"numero\": 30, \"regiao\": \"Sul\"}, {\"ano\": 2018, \"uf\": \"Rio Grande do Sul\", \"genero\": \"Feminino\", \"mes\": \"Dezembro\", \"numero\": 119, \"regiao\": \"Sul\"}, {\"ano\": 2019, \"uf\": \"Rio Grande do Sul\", \"genero\": \"Feminino\", \"mes\": \"Janeiro\", \"numero\": 39, \"regiao\": \"Sul\"}, {\"ano\": 2019, \"uf\": \"Rio Grande do Sul\", \"genero\": \"Feminino\", \"mes\": \"Fevereiro\", \"numero\": 40, \"regiao\": \"Sul\"}, {\"ano\": 2019, \"uf\": \"Rio Grande do Sul\", \"genero\": \"Feminino\", \"mes\": \"Mar\\u00e7o\", \"numero\": 20, \"regiao\": \"Sul\"}, {\"ano\": 2019, \"uf\": \"Rio Grande do Sul\", \"genero\": \"Feminino\", \"mes\": \"Abril\", \"numero\": 14, \"regiao\": \"Sul\"}, {\"ano\": 2019, \"uf\": \"Rio Grande do Sul\", \"genero\": \"Feminino\", \"mes\": \"Maio\", \"numero\": 12, \"regiao\": \"Sul\"}, {\"ano\": 2019, \"uf\": \"Rio Grande do Sul\", \"genero\": \"Feminino\", \"mes\": \"Junho\", \"numero\": 11, \"regiao\": \"Sul\"}, {\"ano\": 2019, \"uf\": \"Rio Grande do Sul\", \"genero\": \"Feminino\", \"mes\": \"Julho\", \"numero\": 13, \"regiao\": \"Sul\"}, {\"ano\": 2019, \"uf\": \"Rio Grande do Sul\", \"genero\": \"Feminino\", \"mes\": \"Agosto\", \"numero\": 16, \"regiao\": \"Sul\"}, {\"ano\": 2019, \"uf\": \"Rio Grande do Sul\", \"genero\": \"Feminino\", \"mes\": \"Setembro\", \"numero\": 15, \"regiao\": \"Sul\"}, {\"ano\": 2019, \"uf\": \"Rio Grande do Sul\", \"genero\": \"Feminino\", \"mes\": \"Outubro\", \"numero\": 10, \"regiao\": \"Sul\"}, {\"ano\": 2019, \"uf\": \"Rio Grande do Sul\", \"genero\": \"Feminino\", \"mes\": \"Novembro\", \"numero\": 7, \"regiao\": \"Sul\"}, {\"ano\": 2019, \"uf\": \"Rio Grande do Sul\", \"genero\": \"Feminino\", \"mes\": \"Dezembro\", \"numero\": 14, \"regiao\": \"Sul\"}, {\"ano\": 2014, \"uf\": \"Mato Grosso do Sul\", \"genero\": \"Masculino\", \"mes\": \"Janeiro\", \"numero\": 3, \"regiao\": \"Centro-Oeste\"}, {\"ano\": 2014, \"uf\": \"Mato Grosso do Sul\", \"genero\": \"Masculino\", \"mes\": \"Fevereiro\", \"numero\": 7, \"regiao\": \"Centro-Oeste\"}, {\"ano\": 2014, \"uf\": \"Mato Grosso do Sul\", \"genero\": \"Masculino\", \"mes\": \"Mar\\u00e7o\", \"numero\": 2, \"regiao\": \"Centro-Oeste\"}, {\"ano\": 2014, \"uf\": \"Mato Grosso do Sul\", \"genero\": \"Masculino\", \"mes\": \"Abril\", \"numero\": 2, \"regiao\": \"Centro-Oeste\"}, {\"ano\": 2014, \"uf\": \"Mato Grosso do Sul\", \"genero\": \"Masculino\", \"mes\": \"Maio\", \"numero\": 3, \"regiao\": \"Centro-Oeste\"}, {\"ano\": 2014, \"uf\": \"Mato Grosso do Sul\", \"genero\": \"Masculino\", \"mes\": \"Junho\", \"numero\": 3, \"regiao\": \"Centro-Oeste\"}, {\"ano\": 2014, \"uf\": \"Mato Grosso do Sul\", \"genero\": \"Masculino\", \"mes\": \"Julho\", \"numero\": 1, \"regiao\": \"Centro-Oeste\"}, {\"ano\": 2014, \"uf\": \"Mato Grosso do Sul\", \"genero\": \"Masculino\", \"mes\": \"Agosto\", \"numero\": 1, \"regiao\": \"Centro-Oeste\"}, {\"ano\": 2014, \"uf\": \"Mato Grosso do Sul\", \"genero\": \"Masculino\", \"mes\": \"Setembro\", \"numero\": 0, \"regiao\": \"Centro-Oeste\"}, {\"ano\": 2014, \"uf\": \"Mato Grosso do Sul\", \"genero\": \"Masculino\", \"mes\": \"Outubro\", \"numero\": 3, \"regiao\": \"Centro-Oeste\"}, {\"ano\": 2014, \"uf\": \"Mato Grosso do Sul\", \"genero\": \"Masculino\", \"mes\": \"Novembro\", \"numero\": 2, \"regiao\": \"Centro-Oeste\"}, {\"ano\": 2014, \"uf\": \"Mato Grosso do Sul\", \"genero\": \"Masculino\", \"mes\": \"Dezembro\", \"numero\": 4, \"regiao\": \"Centro-Oeste\"}, {\"ano\": 2014, \"uf\": \"Mato Grosso do Sul\", \"genero\": \"Feminino\", \"mes\": \"Janeiro\", \"numero\": 1, \"regiao\": \"Centro-Oeste\"}, {\"ano\": 2014, \"uf\": \"Mato Grosso do Sul\", \"genero\": \"Feminino\", \"mes\": \"Fevereiro\", \"numero\": 1, \"regiao\": \"Centro-Oeste\"}, {\"ano\": 2014, \"uf\": \"Mato Grosso do Sul\", \"genero\": \"Feminino\", \"mes\": \"Mar\\u00e7o\", \"numero\": 1, \"regiao\": \"Centro-Oeste\"}, {\"ano\": 2014, \"uf\": \"Mato Grosso do Sul\", \"genero\": \"Feminino\", \"mes\": \"Abril\", \"numero\": 1, \"regiao\": \"Centro-Oeste\"}, {\"ano\": 2014, \"uf\": \"Mato Grosso do Sul\", \"genero\": \"Feminino\", \"mes\": \"Maio\", \"numero\": 3, \"regiao\": \"Centro-Oeste\"}, {\"ano\": 2014, \"uf\": \"Mato Grosso do Sul\", \"genero\": \"Feminino\", \"mes\": \"Junho\", \"numero\": 0, \"regiao\": \"Centro-Oeste\"}, {\"ano\": 2014, \"uf\": \"Mato Grosso do Sul\", \"genero\": \"Feminino\", \"mes\": \"Julho\", \"numero\": 2, \"regiao\": \"Centro-Oeste\"}, {\"ano\": 2014, \"uf\": \"Mato Grosso do Sul\", \"genero\": \"Feminino\", \"mes\": \"Agosto\", \"numero\": 2, \"regiao\": \"Centro-Oeste\"}, {\"ano\": 2014, \"uf\": \"Mato Grosso do Sul\", \"genero\": \"Feminino\", \"mes\": \"Setembro\", \"numero\": 1, \"regiao\": \"Centro-Oeste\"}, {\"ano\": 2014, \"uf\": \"Mato Grosso do Sul\", \"genero\": \"Feminino\", \"mes\": \"Outubro\", \"numero\": 2, \"regiao\": \"Centro-Oeste\"}, {\"ano\": 2014, \"uf\": \"Mato Grosso do Sul\", \"genero\": \"Feminino\", \"mes\": \"Novembro\", \"numero\": 1, \"regiao\": \"Centro-Oeste\"}, {\"ano\": 2014, \"uf\": \"Mato Grosso do Sul\", \"genero\": \"Feminino\", \"mes\": \"Dezembro\", \"numero\": 4, \"regiao\": \"Centro-Oeste\"}, {\"ano\": 2013, \"uf\": \"Mato Grosso do Sul\", \"genero\": \"Masculino\", \"mes\": \"Janeiro\", \"numero\": 0, \"regiao\": \"Centro-Oeste\"}, {\"ano\": 2013, \"uf\": \"Mato Grosso do Sul\", \"genero\": \"Masculino\", \"mes\": \"Fevereiro\", \"numero\": 0, \"regiao\": \"Centro-Oeste\"}, {\"ano\": 2013, \"uf\": \"Mato Grosso do Sul\", \"genero\": \"Masculino\", \"mes\": \"Mar\\u00e7o\", \"numero\": 0, \"regiao\": \"Centro-Oeste\"}, {\"ano\": 2013, \"uf\": \"Mato Grosso do Sul\", \"genero\": \"Masculino\", \"mes\": \"Abril\", \"numero\": 0, \"regiao\": \"Centro-Oeste\"}, {\"ano\": 2013, \"uf\": \"Mato Grosso do Sul\", \"genero\": \"Masculino\", \"mes\": \"Maio\", \"numero\": 0, \"regiao\": \"Centro-Oeste\"}, {\"ano\": 2013, \"uf\": \"Mato Grosso do Sul\", \"genero\": \"Masculino\", \"mes\": \"Junho\", \"numero\": 2, \"regiao\": \"Centro-Oeste\"}, {\"ano\": 2013, \"uf\": \"Mato Grosso do Sul\", \"genero\": \"Masculino\", \"mes\": \"Julho\", \"numero\": 2, \"regiao\": \"Centro-Oeste\"}, {\"ano\": 2013, \"uf\": \"Mato Grosso do Sul\", \"genero\": \"Masculino\", \"mes\": \"Agosto\", \"numero\": 0, \"regiao\": \"Centro-Oeste\"}, {\"ano\": 2013, \"uf\": \"Mato Grosso do Sul\", \"genero\": \"Masculino\", \"mes\": \"Setembro\", \"numero\": 1, \"regiao\": \"Centro-Oeste\"}, {\"ano\": 2013, \"uf\": \"Mato Grosso do Sul\", \"genero\": \"Masculino\", \"mes\": \"Outubro\", \"numero\": 2, \"regiao\": \"Centro-Oeste\"}, {\"ano\": 2013, \"uf\": \"Mato Grosso do Sul\", \"genero\": \"Masculino\", \"mes\": \"Novembro\", \"numero\": 4, \"regiao\": \"Centro-Oeste\"}, {\"ano\": 2013, \"uf\": \"Mato Grosso do Sul\", \"genero\": \"Masculino\", \"mes\": \"Dezembro\", \"numero\": 1, \"regiao\": \"Centro-Oeste\"}, {\"ano\": 2013, \"uf\": \"Mato Grosso do Sul\", \"genero\": \"Feminino\", \"mes\": \"Janeiro\", \"numero\": 0, \"regiao\": \"Centro-Oeste\"}, {\"ano\": 2013, \"uf\": \"Mato Grosso do Sul\", \"genero\": \"Feminino\", \"mes\": \"Fevereiro\", \"numero\": 0, \"regiao\": \"Centro-Oeste\"}, {\"ano\": 2013, \"uf\": \"Mato Grosso do Sul\", \"genero\": \"Feminino\", \"mes\": \"Mar\\u00e7o\", \"numero\": 0, \"regiao\": \"Centro-Oeste\"}, {\"ano\": 2013, \"uf\": \"Mato Grosso do Sul\", \"genero\": \"Feminino\", \"mes\": \"Abril\", \"numero\": 0, \"regiao\": \"Centro-Oeste\"}, {\"ano\": 2013, \"uf\": \"Mato Grosso do Sul\", \"genero\": \"Feminino\", \"mes\": \"Maio\", \"numero\": 0, \"regiao\": \"Centro-Oeste\"}, {\"ano\": 2013, \"uf\": \"Mato Grosso do Sul\", \"genero\": \"Feminino\", \"mes\": \"Junho\", \"numero\": 1, \"regiao\": \"Centro-Oeste\"}, {\"ano\": 2013, \"uf\": \"Mato Grosso do Sul\", \"genero\": \"Feminino\", \"mes\": \"Julho\", \"numero\": 14, \"regiao\": \"Centro-Oeste\"}, {\"ano\": 2013, \"uf\": \"Mato Grosso do Sul\", \"genero\": \"Feminino\", \"mes\": \"Agosto\", \"numero\": 1, \"regiao\": \"Centro-Oeste\"}, {\"ano\": 2013, \"uf\": \"Mato Grosso do Sul\", \"genero\": \"Feminino\", \"mes\": \"Setembro\", \"numero\": 6, \"regiao\": \"Centro-Oeste\"}, {\"ano\": 2013, \"uf\": \"Mato Grosso do Sul\", \"genero\": \"Feminino\", \"mes\": \"Outubro\", \"numero\": 3, \"regiao\": \"Centro-Oeste\"}, {\"ano\": 2013, \"uf\": \"Mato Grosso do Sul\", \"genero\": \"Feminino\", \"mes\": \"Novembro\", \"numero\": 4, \"regiao\": \"Centro-Oeste\"}, {\"ano\": 2013, \"uf\": \"Mato Grosso do Sul\", \"genero\": \"Feminino\", \"mes\": \"Dezembro\", \"numero\": 2, \"regiao\": \"Centro-Oeste\"}, {\"ano\": 2015, \"uf\": \"Mato Grosso do Sul\", \"genero\": \"Masculino\", \"mes\": \"Janeiro\", \"numero\": 1, \"regiao\": \"Centro-Oeste\"}, {\"ano\": 2015, \"uf\": \"Mato Grosso do Sul\", \"genero\": \"Masculino\", \"mes\": \"Fevereiro\", \"numero\": 1, \"regiao\": \"Centro-Oeste\"}, {\"ano\": 2015, \"uf\": \"Mato Grosso do Sul\", \"genero\": \"Masculino\", \"mes\": \"Mar\\u00e7o\", \"numero\": 0, \"regiao\": \"Centro-Oeste\"}, {\"ano\": 2015, \"uf\": \"Mato Grosso do Sul\", \"genero\": \"Masculino\", \"mes\": \"Abril\", \"numero\": 3, \"regiao\": \"Centro-Oeste\"}, {\"ano\": 2015, \"uf\": \"Mato Grosso do Sul\", \"genero\": \"Masculino\", \"mes\": \"Maio\", \"numero\": 1, \"regiao\": \"Centro-Oeste\"}, {\"ano\": 2015, \"uf\": \"Mato Grosso do Sul\", \"genero\": \"Masculino\", \"mes\": \"Junho\", \"numero\": 3, \"regiao\": \"Centro-Oeste\"}, {\"ano\": 2015, \"uf\": \"Mato Grosso do Sul\", \"genero\": \"Masculino\", \"mes\": \"Julho\", \"numero\": 3, \"regiao\": \"Centro-Oeste\"}, {\"ano\": 2015, \"uf\": \"Mato Grosso do Sul\", \"genero\": \"Masculino\", \"mes\": \"Agosto\", \"numero\": 5, \"regiao\": \"Centro-Oeste\"}, {\"ano\": 2015, \"uf\": \"Mato Grosso do Sul\", \"genero\": \"Masculino\", \"mes\": \"Setembro\", \"numero\": 0, \"regiao\": \"Centro-Oeste\"}, {\"ano\": 2015, \"uf\": \"Mato Grosso do Sul\", \"genero\": \"Masculino\", \"mes\": \"Outubro\", \"numero\": 2, \"regiao\": \"Centro-Oeste\"}, {\"ano\": 2015, \"uf\": \"Mato Grosso do Sul\", \"genero\": \"Masculino\", \"mes\": \"Novembro\", \"numero\": 1, \"regiao\": \"Centro-Oeste\"}, {\"ano\": 2015, \"uf\": \"Mato Grosso do Sul\", \"genero\": \"Masculino\", \"mes\": \"Dezembro\", \"numero\": 3, \"regiao\": \"Centro-Oeste\"}, {\"ano\": 2016, \"uf\": \"Mato Grosso do Sul\", \"genero\": \"Masculino\", \"mes\": \"Janeiro\", \"numero\": 1, \"regiao\": \"Centro-Oeste\"}, {\"ano\": 2016, \"uf\": \"Mato Grosso do Sul\", \"genero\": \"Masculino\", \"mes\": \"Fevereiro\", \"numero\": 1, \"regiao\": \"Centro-Oeste\"}, {\"ano\": 2016, \"uf\": \"Mato Grosso do Sul\", \"genero\": \"Masculino\", \"mes\": \"Mar\\u00e7o\", \"numero\": 2, \"regiao\": \"Centro-Oeste\"}, {\"ano\": 2016, \"uf\": \"Mato Grosso do Sul\", \"genero\": \"Masculino\", \"mes\": \"Abril\", \"numero\": 1, \"regiao\": \"Centro-Oeste\"}, {\"ano\": 2016, \"uf\": \"Mato Grosso do Sul\", \"genero\": \"Masculino\", \"mes\": \"Maio\", \"numero\": 2, \"regiao\": \"Centro-Oeste\"}, {\"ano\": 2016, \"uf\": \"Mato Grosso do Sul\", \"genero\": \"Masculino\", \"mes\": \"Junho\", \"numero\": 1, \"regiao\": \"Centro-Oeste\"}, {\"ano\": 2016, \"uf\": \"Mato Grosso do Sul\", \"genero\": \"Masculino\", \"mes\": \"Julho\", \"numero\": 6, \"regiao\": \"Centro-Oeste\"}, {\"ano\": 2016, \"uf\": \"Mato Grosso do Sul\", \"genero\": \"Masculino\", \"mes\": \"Agosto\", \"numero\": 3, \"regiao\": \"Centro-Oeste\"}, {\"ano\": 2016, \"uf\": \"Mato Grosso do Sul\", \"genero\": \"Masculino\", \"mes\": \"Setembro\", \"numero\": 4, \"regiao\": \"Centro-Oeste\"}, {\"ano\": 2016, \"uf\": \"Mato Grosso do Sul\", \"genero\": \"Masculino\", \"mes\": \"Outubro\", \"numero\": 3, \"regiao\": \"Centro-Oeste\"}, {\"ano\": 2016, \"uf\": \"Mato Grosso do Sul\", \"genero\": \"Masculino\", \"mes\": \"Novembro\", \"numero\": 4, \"regiao\": \"Centro-Oeste\"}, {\"ano\": 2016, \"uf\": \"Mato Grosso do Sul\", \"genero\": \"Masculino\", \"mes\": \"Dezembro\", \"numero\": 4, \"regiao\": \"Centro-Oeste\"}, {\"ano\": 2017, \"uf\": \"Mato Grosso do Sul\", \"genero\": \"Masculino\", \"mes\": \"Janeiro\", \"numero\": 3, \"regiao\": \"Centro-Oeste\"}, {\"ano\": 2017, \"uf\": \"Mato Grosso do Sul\", \"genero\": \"Masculino\", \"mes\": \"Fevereiro\", \"numero\": 5, \"regiao\": \"Centro-Oeste\"}, {\"ano\": 2017, \"uf\": \"Mato Grosso do Sul\", \"genero\": \"Masculino\", \"mes\": \"Mar\\u00e7o\", \"numero\": 1, \"regiao\": \"Centro-Oeste\"}, {\"ano\": 2017, \"uf\": \"Mato Grosso do Sul\", \"genero\": \"Masculino\", \"mes\": \"Abril\", \"numero\": 7, \"regiao\": \"Centro-Oeste\"}, {\"ano\": 2017, \"uf\": \"Mato Grosso do Sul\", \"genero\": \"Masculino\", \"mes\": \"Maio\", \"numero\": 3, \"regiao\": \"Centro-Oeste\"}, {\"ano\": 2017, \"uf\": \"Mato Grosso do Sul\", \"genero\": \"Masculino\", \"mes\": \"Junho\", \"numero\": 4, \"regiao\": \"Centro-Oeste\"}, {\"ano\": 2017, \"uf\": \"Mato Grosso do Sul\", \"genero\": \"Masculino\", \"mes\": \"Julho\", \"numero\": 5, \"regiao\": \"Centro-Oeste\"}, {\"ano\": 2017, \"uf\": \"Mato Grosso do Sul\", \"genero\": \"Masculino\", \"mes\": \"Agosto\", \"numero\": 5, \"regiao\": \"Centro-Oeste\"}, {\"ano\": 2017, \"uf\": \"Mato Grosso do Sul\", \"genero\": \"Masculino\", \"mes\": \"Setembro\", \"numero\": 3, \"regiao\": \"Centro-Oeste\"}, {\"ano\": 2017, \"uf\": \"Mato Grosso do Sul\", \"genero\": \"Masculino\", \"mes\": \"Outubro\", \"numero\": 2, \"regiao\": \"Centro-Oeste\"}, {\"ano\": 2017, \"uf\": \"Mato Grosso do Sul\", \"genero\": \"Masculino\", \"mes\": \"Novembro\", \"numero\": 3, \"regiao\": \"Centro-Oeste\"}, {\"ano\": 2017, \"uf\": \"Mato Grosso do Sul\", \"genero\": \"Masculino\", \"mes\": \"Dezembro\", \"numero\": 3, \"regiao\": \"Centro-Oeste\"}, {\"ano\": 2018, \"uf\": \"Mato Grosso do Sul\", \"genero\": \"Masculino\", \"mes\": \"Janeiro\", \"numero\": 1, \"regiao\": \"Centro-Oeste\"}, {\"ano\": 2018, \"uf\": \"Mato Grosso do Sul\", \"genero\": \"Masculino\", \"mes\": \"Fevereiro\", \"numero\": 2, \"regiao\": \"Centro-Oeste\"}, {\"ano\": 2018, \"uf\": \"Mato Grosso do Sul\", \"genero\": \"Masculino\", \"mes\": \"Mar\\u00e7o\", \"numero\": 3, \"regiao\": \"Centro-Oeste\"}, {\"ano\": 2018, \"uf\": \"Mato Grosso do Sul\", \"genero\": \"Masculino\", \"mes\": \"Abril\", \"numero\": 7, \"regiao\": \"Centro-Oeste\"}, {\"ano\": 2018, \"uf\": \"Mato Grosso do Sul\", \"genero\": \"Masculino\", \"mes\": \"Maio\", \"numero\": 5, \"regiao\": \"Centro-Oeste\"}, {\"ano\": 2018, \"uf\": \"Mato Grosso do Sul\", \"genero\": \"Masculino\", \"mes\": \"Junho\", \"numero\": 4, \"regiao\": \"Centro-Oeste\"}, {\"ano\": 2018, \"uf\": \"Mato Grosso do Sul\", \"genero\": \"Masculino\", \"mes\": \"Julho\", \"numero\": 1, \"regiao\": \"Centro-Oeste\"}, {\"ano\": 2018, \"uf\": \"Mato Grosso do Sul\", \"genero\": \"Masculino\", \"mes\": \"Agosto\", \"numero\": 5, \"regiao\": \"Centro-Oeste\"}, {\"ano\": 2018, \"uf\": \"Mato Grosso do Sul\", \"genero\": \"Masculino\", \"mes\": \"Setembro\", \"numero\": 3, \"regiao\": \"Centro-Oeste\"}, {\"ano\": 2018, \"uf\": \"Mato Grosso do Sul\", \"genero\": \"Masculino\", \"mes\": \"Outubro\", \"numero\": 7, \"regiao\": \"Centro-Oeste\"}, {\"ano\": 2018, \"uf\": \"Mato Grosso do Sul\", \"genero\": \"Masculino\", \"mes\": \"Novembro\", \"numero\": 10, \"regiao\": \"Centro-Oeste\"}, {\"ano\": 2018, \"uf\": \"Mato Grosso do Sul\", \"genero\": \"Masculino\", \"mes\": \"Dezembro\", \"numero\": 8, \"regiao\": \"Centro-Oeste\"}, {\"ano\": 2019, \"uf\": \"Mato Grosso do Sul\", \"genero\": \"Masculino\", \"mes\": \"Janeiro\", \"numero\": 5, \"regiao\": \"Centro-Oeste\"}, {\"ano\": 2019, \"uf\": \"Mato Grosso do Sul\", \"genero\": \"Masculino\", \"mes\": \"Fevereiro\", \"numero\": 3, \"regiao\": \"Centro-Oeste\"}, {\"ano\": 2019, \"uf\": \"Mato Grosso do Sul\", \"genero\": \"Masculino\", \"mes\": \"Mar\\u00e7o\", \"numero\": 5, \"regiao\": \"Centro-Oeste\"}, {\"ano\": 2019, \"uf\": \"Mato Grosso do Sul\", \"genero\": \"Masculino\", \"mes\": \"Abril\", \"numero\": 2, \"regiao\": \"Centro-Oeste\"}, {\"ano\": 2019, \"uf\": \"Mato Grosso do Sul\", \"genero\": \"Masculino\", \"mes\": \"Maio\", \"numero\": 1, \"regiao\": \"Centro-Oeste\"}, {\"ano\": 2019, \"uf\": \"Mato Grosso do Sul\", \"genero\": \"Masculino\", \"mes\": \"Junho\", \"numero\": 1, \"regiao\": \"Centro-Oeste\"}, {\"ano\": 2019, \"uf\": \"Mato Grosso do Sul\", \"genero\": \"Masculino\", \"mes\": \"Julho\", \"numero\": 1, \"regiao\": \"Centro-Oeste\"}, {\"ano\": 2019, \"uf\": \"Mato Grosso do Sul\", \"genero\": \"Masculino\", \"mes\": \"Agosto\", \"numero\": 1, \"regiao\": \"Centro-Oeste\"}, {\"ano\": 2019, \"uf\": \"Mato Grosso do Sul\", \"genero\": \"Masculino\", \"mes\": \"Setembro\", \"numero\": 5, \"regiao\": \"Centro-Oeste\"}, {\"ano\": 2019, \"uf\": \"Mato Grosso do Sul\", \"genero\": \"Masculino\", \"mes\": \"Outubro\", \"numero\": 4, \"regiao\": \"Centro-Oeste\"}, {\"ano\": 2019, \"uf\": \"Mato Grosso do Sul\", \"genero\": \"Masculino\", \"mes\": \"Novembro\", \"numero\": 4, \"regiao\": \"Centro-Oeste\"}, {\"ano\": 2019, \"uf\": \"Mato Grosso do Sul\", \"genero\": \"Masculino\", \"mes\": \"Dezembro\", \"numero\": 3, \"regiao\": \"Centro-Oeste\"}, {\"ano\": 2015, \"uf\": \"Mato Grosso do Sul\", \"genero\": \"Feminino\", \"mes\": \"Janeiro\", \"numero\": 4, \"regiao\": \"Centro-Oeste\"}, {\"ano\": 2015, \"uf\": \"Mato Grosso do Sul\", \"genero\": \"Feminino\", \"mes\": \"Fevereiro\", \"numero\": 2, \"regiao\": \"Centro-Oeste\"}, {\"ano\": 2015, \"uf\": \"Mato Grosso do Sul\", \"genero\": \"Feminino\", \"mes\": \"Mar\\u00e7o\", \"numero\": 1, \"regiao\": \"Centro-Oeste\"}, {\"ano\": 2015, \"uf\": \"Mato Grosso do Sul\", \"genero\": \"Feminino\", \"mes\": \"Abril\", \"numero\": 4, \"regiao\": \"Centro-Oeste\"}, {\"ano\": 2015, \"uf\": \"Mato Grosso do Sul\", \"genero\": \"Feminino\", \"mes\": \"Maio\", \"numero\": 3, \"regiao\": \"Centro-Oeste\"}, {\"ano\": 2015, \"uf\": \"Mato Grosso do Sul\", \"genero\": \"Feminino\", \"mes\": \"Junho\", \"numero\": 2, \"regiao\": \"Centro-Oeste\"}, {\"ano\": 2015, \"uf\": \"Mato Grosso do Sul\", \"genero\": \"Feminino\", \"mes\": \"Julho\", \"numero\": 4, \"regiao\": \"Centro-Oeste\"}, {\"ano\": 2015, \"uf\": \"Mato Grosso do Sul\", \"genero\": \"Feminino\", \"mes\": \"Agosto\", \"numero\": 9, \"regiao\": \"Centro-Oeste\"}, {\"ano\": 2015, \"uf\": \"Mato Grosso do Sul\", \"genero\": \"Feminino\", \"mes\": \"Setembro\", \"numero\": 4, \"regiao\": \"Centro-Oeste\"}, {\"ano\": 2015, \"uf\": \"Mato Grosso do Sul\", \"genero\": \"Feminino\", \"mes\": \"Outubro\", \"numero\": 3, \"regiao\": \"Centro-Oeste\"}, {\"ano\": 2015, \"uf\": \"Mato Grosso do Sul\", \"genero\": \"Feminino\", \"mes\": \"Novembro\", \"numero\": 3, \"regiao\": \"Centro-Oeste\"}, {\"ano\": 2015, \"uf\": \"Mato Grosso do Sul\", \"genero\": \"Feminino\", \"mes\": \"Dezembro\", \"numero\": 6, \"regiao\": \"Centro-Oeste\"}, {\"ano\": 2016, \"uf\": \"Mato Grosso do Sul\", \"genero\": \"Feminino\", \"mes\": \"Janeiro\", \"numero\": 6, \"regiao\": \"Centro-Oeste\"}, {\"ano\": 2016, \"uf\": \"Mato Grosso do Sul\", \"genero\": \"Feminino\", \"mes\": \"Fevereiro\", \"numero\": 6, \"regiao\": \"Centro-Oeste\"}, {\"ano\": 2016, \"uf\": \"Mato Grosso do Sul\", \"genero\": \"Feminino\", \"mes\": \"Mar\\u00e7o\", \"numero\": 4, \"regiao\": \"Centro-Oeste\"}, {\"ano\": 2016, \"uf\": \"Mato Grosso do Sul\", \"genero\": \"Feminino\", \"mes\": \"Abril\", \"numero\": 6, \"regiao\": \"Centro-Oeste\"}, {\"ano\": 2016, \"uf\": \"Mato Grosso do Sul\", \"genero\": \"Feminino\", \"mes\": \"Maio\", \"numero\": 7, \"regiao\": \"Centro-Oeste\"}, {\"ano\": 2016, \"uf\": \"Mato Grosso do Sul\", \"genero\": \"Feminino\", \"mes\": \"Junho\", \"numero\": 5, \"regiao\": \"Centro-Oeste\"}, {\"ano\": 2016, \"uf\": \"Mato Grosso do Sul\", \"genero\": \"Feminino\", \"mes\": \"Julho\", \"numero\": 7, \"regiao\": \"Centro-Oeste\"}, {\"ano\": 2016, \"uf\": \"Mato Grosso do Sul\", \"genero\": \"Feminino\", \"mes\": \"Agosto\", \"numero\": 6, \"regiao\": \"Centro-Oeste\"}, {\"ano\": 2016, \"uf\": \"Mato Grosso do Sul\", \"genero\": \"Feminino\", \"mes\": \"Setembro\", \"numero\": 7, \"regiao\": \"Centro-Oeste\"}, {\"ano\": 2016, \"uf\": \"Mato Grosso do Sul\", \"genero\": \"Feminino\", \"mes\": \"Outubro\", \"numero\": 4, \"regiao\": \"Centro-Oeste\"}, {\"ano\": 2016, \"uf\": \"Mato Grosso do Sul\", \"genero\": \"Feminino\", \"mes\": \"Novembro\", \"numero\": 5, \"regiao\": \"Centro-Oeste\"}, {\"ano\": 2016, \"uf\": \"Mato Grosso do Sul\", \"genero\": \"Feminino\", \"mes\": \"Dezembro\", \"numero\": 11, \"regiao\": \"Centro-Oeste\"}, {\"ano\": 2017, \"uf\": \"Mato Grosso do Sul\", \"genero\": \"Feminino\", \"mes\": \"Janeiro\", \"numero\": 3, \"regiao\": \"Centro-Oeste\"}, {\"ano\": 2017, \"uf\": \"Mato Grosso do Sul\", \"genero\": \"Feminino\", \"mes\": \"Fevereiro\", \"numero\": 5, \"regiao\": \"Centro-Oeste\"}, {\"ano\": 2017, \"uf\": \"Mato Grosso do Sul\", \"genero\": \"Feminino\", \"mes\": \"Mar\\u00e7o\", \"numero\": 5, \"regiao\": \"Centro-Oeste\"}, {\"ano\": 2017, \"uf\": \"Mato Grosso do Sul\", \"genero\": \"Feminino\", \"mes\": \"Abril\", \"numero\": 3, \"regiao\": \"Centro-Oeste\"}, {\"ano\": 2017, \"uf\": \"Mato Grosso do Sul\", \"genero\": \"Feminino\", \"mes\": \"Maio\", \"numero\": 11, \"regiao\": \"Centro-Oeste\"}, {\"ano\": 2017, \"uf\": \"Mato Grosso do Sul\", \"genero\": \"Feminino\", \"mes\": \"Junho\", \"numero\": 2, \"regiao\": \"Centro-Oeste\"}, {\"ano\": 2017, \"uf\": \"Mato Grosso do Sul\", \"genero\": \"Feminino\", \"mes\": \"Julho\", \"numero\": 6, \"regiao\": \"Centro-Oeste\"}, {\"ano\": 2017, \"uf\": \"Mato Grosso do Sul\", \"genero\": \"Feminino\", \"mes\": \"Agosto\", \"numero\": 9, \"regiao\": \"Centro-Oeste\"}, {\"ano\": 2017, \"uf\": \"Mato Grosso do Sul\", \"genero\": \"Feminino\", \"mes\": \"Setembro\", \"numero\": 7, \"regiao\": \"Centro-Oeste\"}, {\"ano\": 2017, \"uf\": \"Mato Grosso do Sul\", \"genero\": \"Feminino\", \"mes\": \"Outubro\", \"numero\": 7, \"regiao\": \"Centro-Oeste\"}, {\"ano\": 2017, \"uf\": \"Mato Grosso do Sul\", \"genero\": \"Feminino\", \"mes\": \"Novembro\", \"numero\": 9, \"regiao\": \"Centro-Oeste\"}, {\"ano\": 2017, \"uf\": \"Mato Grosso do Sul\", \"genero\": \"Feminino\", \"mes\": \"Dezembro\", \"numero\": 6, \"regiao\": \"Centro-Oeste\"}, {\"ano\": 2018, \"uf\": \"Mato Grosso do Sul\", \"genero\": \"Feminino\", \"mes\": \"Janeiro\", \"numero\": 3, \"regiao\": \"Centro-Oeste\"}, {\"ano\": 2018, \"uf\": \"Mato Grosso do Sul\", \"genero\": \"Feminino\", \"mes\": \"Fevereiro\", \"numero\": 10, \"regiao\": \"Centro-Oeste\"}, {\"ano\": 2018, \"uf\": \"Mato Grosso do Sul\", \"genero\": \"Feminino\", \"mes\": \"Mar\\u00e7o\", \"numero\": 11, \"regiao\": \"Centro-Oeste\"}, {\"ano\": 2018, \"uf\": \"Mato Grosso do Sul\", \"genero\": \"Feminino\", \"mes\": \"Abril\", \"numero\": 2, \"regiao\": \"Centro-Oeste\"}, {\"ano\": 2018, \"uf\": \"Mato Grosso do Sul\", \"genero\": \"Feminino\", \"mes\": \"Maio\", \"numero\": 7, \"regiao\": \"Centro-Oeste\"}, {\"ano\": 2018, \"uf\": \"Mato Grosso do Sul\", \"genero\": \"Feminino\", \"mes\": \"Junho\", \"numero\": 6, \"regiao\": \"Centro-Oeste\"}, {\"ano\": 2018, \"uf\": \"Mato Grosso do Sul\", \"genero\": \"Feminino\", \"mes\": \"Julho\", \"numero\": 8, \"regiao\": \"Centro-Oeste\"}, {\"ano\": 2018, \"uf\": \"Mato Grosso do Sul\", \"genero\": \"Feminino\", \"mes\": \"Agosto\", \"numero\": 4, \"regiao\": \"Centro-Oeste\"}, {\"ano\": 2018, \"uf\": \"Mato Grosso do Sul\", \"genero\": \"Feminino\", \"mes\": \"Setembro\", \"numero\": 9, \"regiao\": \"Centro-Oeste\"}, {\"ano\": 2018, \"uf\": \"Mato Grosso do Sul\", \"genero\": \"Feminino\", \"mes\": \"Outubro\", \"numero\": 7, \"regiao\": \"Centro-Oeste\"}, {\"ano\": 2018, \"uf\": \"Mato Grosso do Sul\", \"genero\": \"Feminino\", \"mes\": \"Novembro\", \"numero\": 14, \"regiao\": \"Centro-Oeste\"}, {\"ano\": 2018, \"uf\": \"Mato Grosso do Sul\", \"genero\": \"Feminino\", \"mes\": \"Dezembro\", \"numero\": 29, \"regiao\": \"Centro-Oeste\"}, {\"ano\": 2019, \"uf\": \"Mato Grosso do Sul\", \"genero\": \"Feminino\", \"mes\": \"Janeiro\", \"numero\": 9, \"regiao\": \"Centro-Oeste\"}, {\"ano\": 2019, \"uf\": \"Mato Grosso do Sul\", \"genero\": \"Feminino\", \"mes\": \"Fevereiro\", \"numero\": 11, \"regiao\": \"Centro-Oeste\"}, {\"ano\": 2019, \"uf\": \"Mato Grosso do Sul\", \"genero\": \"Feminino\", \"mes\": \"Mar\\u00e7o\", \"numero\": 4, \"regiao\": \"Centro-Oeste\"}, {\"ano\": 2019, \"uf\": \"Mato Grosso do Sul\", \"genero\": \"Feminino\", \"mes\": \"Abril\", \"numero\": 14, \"regiao\": \"Centro-Oeste\"}, {\"ano\": 2019, \"uf\": \"Mato Grosso do Sul\", \"genero\": \"Feminino\", \"mes\": \"Maio\", \"numero\": 7, \"regiao\": \"Centro-Oeste\"}, {\"ano\": 2019, \"uf\": \"Mato Grosso do Sul\", \"genero\": \"Feminino\", \"mes\": \"Junho\", \"numero\": 12, \"regiao\": \"Centro-Oeste\"}, {\"ano\": 2019, \"uf\": \"Mato Grosso do Sul\", \"genero\": \"Feminino\", \"mes\": \"Julho\", \"numero\": 6, \"regiao\": \"Centro-Oeste\"}, {\"ano\": 2019, \"uf\": \"Mato Grosso do Sul\", \"genero\": \"Feminino\", \"mes\": \"Agosto\", \"numero\": 8, \"regiao\": \"Centro-Oeste\"}, {\"ano\": 2019, \"uf\": \"Mato Grosso do Sul\", \"genero\": \"Feminino\", \"mes\": \"Setembro\", \"numero\": 5, \"regiao\": \"Centro-Oeste\"}, {\"ano\": 2019, \"uf\": \"Mato Grosso do Sul\", \"genero\": \"Feminino\", \"mes\": \"Outubro\", \"numero\": 7, \"regiao\": \"Centro-Oeste\"}, {\"ano\": 2019, \"uf\": \"Mato Grosso do Sul\", \"genero\": \"Feminino\", \"mes\": \"Novembro\", \"numero\": 7, \"regiao\": \"Centro-Oeste\"}, {\"ano\": 2019, \"uf\": \"Mato Grosso do Sul\", \"genero\": \"Feminino\", \"mes\": \"Dezembro\", \"numero\": 11, \"regiao\": \"Centro-Oeste\"}, {\"ano\": 2014, \"uf\": \"Mato Grosso\", \"genero\": \"Masculino\", \"mes\": \"Janeiro\", \"numero\": 3, \"regiao\": \"Centro-Oeste\"}, {\"ano\": 2014, \"uf\": \"Mato Grosso\", \"genero\": \"Masculino\", \"mes\": \"Fevereiro\", \"numero\": 0, \"regiao\": \"Centro-Oeste\"}, {\"ano\": 2014, \"uf\": \"Mato Grosso\", \"genero\": \"Masculino\", \"mes\": \"Mar\\u00e7o\", \"numero\": 0, \"regiao\": \"Centro-Oeste\"}, {\"ano\": 2014, \"uf\": \"Mato Grosso\", \"genero\": \"Masculino\", \"mes\": \"Abril\", \"numero\": 0, \"regiao\": \"Centro-Oeste\"}, {\"ano\": 2014, \"uf\": \"Mato Grosso\", \"genero\": \"Masculino\", \"mes\": \"Maio\", \"numero\": 0, \"regiao\": \"Centro-Oeste\"}, {\"ano\": 2014, \"uf\": \"Mato Grosso\", \"genero\": \"Masculino\", \"mes\": \"Junho\", \"numero\": 0, \"regiao\": \"Centro-Oeste\"}, {\"ano\": 2014, \"uf\": \"Mato Grosso\", \"genero\": \"Masculino\", \"mes\": \"Julho\", \"numero\": 1, \"regiao\": \"Centro-Oeste\"}, {\"ano\": 2014, \"uf\": \"Mato Grosso\", \"genero\": \"Masculino\", \"mes\": \"Agosto\", \"numero\": 2, \"regiao\": \"Centro-Oeste\"}, {\"ano\": 2014, \"uf\": \"Mato Grosso\", \"genero\": \"Masculino\", \"mes\": \"Setembro\", \"numero\": 2, \"regiao\": \"Centro-Oeste\"}, {\"ano\": 2014, \"uf\": \"Mato Grosso\", \"genero\": \"Masculino\", \"mes\": \"Outubro\", \"numero\": 3, \"regiao\": \"Centro-Oeste\"}, {\"ano\": 2014, \"uf\": \"Mato Grosso\", \"genero\": \"Masculino\", \"mes\": \"Novembro\", \"numero\": 1, \"regiao\": \"Centro-Oeste\"}, {\"ano\": 2014, \"uf\": \"Mato Grosso\", \"genero\": \"Masculino\", \"mes\": \"Dezembro\", \"numero\": 0, \"regiao\": \"Centro-Oeste\"}, {\"ano\": 2014, \"uf\": \"Mato Grosso\", \"genero\": \"Feminino\", \"mes\": \"Janeiro\", \"numero\": 0, \"regiao\": \"Centro-Oeste\"}, {\"ano\": 2014, \"uf\": \"Mato Grosso\", \"genero\": \"Feminino\", \"mes\": \"Fevereiro\", \"numero\": 3, \"regiao\": \"Centro-Oeste\"}, {\"ano\": 2014, \"uf\": \"Mato Grosso\", \"genero\": \"Feminino\", \"mes\": \"Mar\\u00e7o\", \"numero\": 1, \"regiao\": \"Centro-Oeste\"}, {\"ano\": 2014, \"uf\": \"Mato Grosso\", \"genero\": \"Feminino\", \"mes\": \"Abril\", \"numero\": 0, \"regiao\": \"Centro-Oeste\"}, {\"ano\": 2014, \"uf\": \"Mato Grosso\", \"genero\": \"Feminino\", \"mes\": \"Maio\", \"numero\": 0, \"regiao\": \"Centro-Oeste\"}, {\"ano\": 2014, \"uf\": \"Mato Grosso\", \"genero\": \"Feminino\", \"mes\": \"Junho\", \"numero\": 1, \"regiao\": \"Centro-Oeste\"}, {\"ano\": 2014, \"uf\": \"Mato Grosso\", \"genero\": \"Feminino\", \"mes\": \"Julho\", \"numero\": 2, \"regiao\": \"Centro-Oeste\"}, {\"ano\": 2014, \"uf\": \"Mato Grosso\", \"genero\": \"Feminino\", \"mes\": \"Agosto\", \"numero\": 2, \"regiao\": \"Centro-Oeste\"}, {\"ano\": 2014, \"uf\": \"Mato Grosso\", \"genero\": \"Feminino\", \"mes\": \"Setembro\", \"numero\": 0, \"regiao\": \"Centro-Oeste\"}, {\"ano\": 2014, \"uf\": \"Mato Grosso\", \"genero\": \"Feminino\", \"mes\": \"Outubro\", \"numero\": 0, \"regiao\": \"Centro-Oeste\"}, {\"ano\": 2014, \"uf\": \"Mato Grosso\", \"genero\": \"Feminino\", \"mes\": \"Novembro\", \"numero\": 2, \"regiao\": \"Centro-Oeste\"}, {\"ano\": 2014, \"uf\": \"Mato Grosso\", \"genero\": \"Feminino\", \"mes\": \"Dezembro\", \"numero\": 0, \"regiao\": \"Centro-Oeste\"}, {\"ano\": 2013, \"uf\": \"Mato Grosso\", \"genero\": \"Masculino\", \"mes\": \"Janeiro\", \"numero\": 0, \"regiao\": \"Centro-Oeste\"}, {\"ano\": 2013, \"uf\": \"Mato Grosso\", \"genero\": \"Masculino\", \"mes\": \"Fevereiro\", \"numero\": 0, \"regiao\": \"Centro-Oeste\"}, {\"ano\": 2013, \"uf\": \"Mato Grosso\", \"genero\": \"Masculino\", \"mes\": \"Mar\\u00e7o\", \"numero\": 0, \"regiao\": \"Centro-Oeste\"}, {\"ano\": 2013, \"uf\": \"Mato Grosso\", \"genero\": \"Masculino\", \"mes\": \"Abril\", \"numero\": 0, \"regiao\": \"Centro-Oeste\"}, {\"ano\": 2013, \"uf\": \"Mato Grosso\", \"genero\": \"Masculino\", \"mes\": \"Maio\", \"numero\": 0, \"regiao\": \"Centro-Oeste\"}, {\"ano\": 2013, \"uf\": \"Mato Grosso\", \"genero\": \"Masculino\", \"mes\": \"Junho\", \"numero\": 1, \"regiao\": \"Centro-Oeste\"}, {\"ano\": 2013, \"uf\": \"Mato Grosso\", \"genero\": \"Masculino\", \"mes\": \"Julho\", \"numero\": 1, \"regiao\": \"Centro-Oeste\"}, {\"ano\": 2013, \"uf\": \"Mato Grosso\", \"genero\": \"Masculino\", \"mes\": \"Agosto\", \"numero\": 0, \"regiao\": \"Centro-Oeste\"}, {\"ano\": 2013, \"uf\": \"Mato Grosso\", \"genero\": \"Masculino\", \"mes\": \"Setembro\", \"numero\": 1, \"regiao\": \"Centro-Oeste\"}, {\"ano\": 2013, \"uf\": \"Mato Grosso\", \"genero\": \"Masculino\", \"mes\": \"Outubro\", \"numero\": 2, \"regiao\": \"Centro-Oeste\"}, {\"ano\": 2013, \"uf\": \"Mato Grosso\", \"genero\": \"Masculino\", \"mes\": \"Novembro\", \"numero\": 2, \"regiao\": \"Centro-Oeste\"}, {\"ano\": 2013, \"uf\": \"Mato Grosso\", \"genero\": \"Masculino\", \"mes\": \"Dezembro\", \"numero\": 7, \"regiao\": \"Centro-Oeste\"}, {\"ano\": 2013, \"uf\": \"Mato Grosso\", \"genero\": \"Feminino\", \"mes\": \"Janeiro\", \"numero\": 0, \"regiao\": \"Centro-Oeste\"}, {\"ano\": 2013, \"uf\": \"Mato Grosso\", \"genero\": \"Feminino\", \"mes\": \"Fevereiro\", \"numero\": 0, \"regiao\": \"Centro-Oeste\"}, {\"ano\": 2013, \"uf\": \"Mato Grosso\", \"genero\": \"Feminino\", \"mes\": \"Mar\\u00e7o\", \"numero\": 0, \"regiao\": \"Centro-Oeste\"}, {\"ano\": 2013, \"uf\": \"Mato Grosso\", \"genero\": \"Feminino\", \"mes\": \"Abril\", \"numero\": 0, \"regiao\": \"Centro-Oeste\"}, {\"ano\": 2013, \"uf\": \"Mato Grosso\", \"genero\": \"Feminino\", \"mes\": \"Maio\", \"numero\": 0, \"regiao\": \"Centro-Oeste\"}, {\"ano\": 2013, \"uf\": \"Mato Grosso\", \"genero\": \"Feminino\", \"mes\": \"Junho\", \"numero\": 1, \"regiao\": \"Centro-Oeste\"}, {\"ano\": 2013, \"uf\": \"Mato Grosso\", \"genero\": \"Feminino\", \"mes\": \"Julho\", \"numero\": 4, \"regiao\": \"Centro-Oeste\"}, {\"ano\": 2013, \"uf\": \"Mato Grosso\", \"genero\": \"Feminino\", \"mes\": \"Agosto\", \"numero\": 2, \"regiao\": \"Centro-Oeste\"}, {\"ano\": 2013, \"uf\": \"Mato Grosso\", \"genero\": \"Feminino\", \"mes\": \"Setembro\", \"numero\": 1, \"regiao\": \"Centro-Oeste\"}, {\"ano\": 2013, \"uf\": \"Mato Grosso\", \"genero\": \"Feminino\", \"mes\": \"Outubro\", \"numero\": 0, \"regiao\": \"Centro-Oeste\"}, {\"ano\": 2013, \"uf\": \"Mato Grosso\", \"genero\": \"Feminino\", \"mes\": \"Novembro\", \"numero\": 3, \"regiao\": \"Centro-Oeste\"}, {\"ano\": 2013, \"uf\": \"Mato Grosso\", \"genero\": \"Feminino\", \"mes\": \"Dezembro\", \"numero\": 4, \"regiao\": \"Centro-Oeste\"}, {\"ano\": 2015, \"uf\": \"Mato Grosso\", \"genero\": \"Masculino\", \"mes\": \"Janeiro\", \"numero\": 2, \"regiao\": \"Centro-Oeste\"}, {\"ano\": 2015, \"uf\": \"Mato Grosso\", \"genero\": \"Masculino\", \"mes\": \"Fevereiro\", \"numero\": 1, \"regiao\": \"Centro-Oeste\"}, {\"ano\": 2015, \"uf\": \"Mato Grosso\", \"genero\": \"Masculino\", \"mes\": \"Mar\\u00e7o\", \"numero\": 1, \"regiao\": \"Centro-Oeste\"}, {\"ano\": 2015, \"uf\": \"Mato Grosso\", \"genero\": \"Masculino\", \"mes\": \"Abril\", \"numero\": 0, \"regiao\": \"Centro-Oeste\"}, {\"ano\": 2015, \"uf\": \"Mato Grosso\", \"genero\": \"Masculino\", \"mes\": \"Maio\", \"numero\": 1, \"regiao\": \"Centro-Oeste\"}, {\"ano\": 2015, \"uf\": \"Mato Grosso\", \"genero\": \"Masculino\", \"mes\": \"Junho\", \"numero\": 2, \"regiao\": \"Centro-Oeste\"}, {\"ano\": 2015, \"uf\": \"Mato Grosso\", \"genero\": \"Masculino\", \"mes\": \"Julho\", \"numero\": 1, \"regiao\": \"Centro-Oeste\"}, {\"ano\": 2015, \"uf\": \"Mato Grosso\", \"genero\": \"Masculino\", \"mes\": \"Agosto\", \"numero\": 0, \"regiao\": \"Centro-Oeste\"}, {\"ano\": 2015, \"uf\": \"Mato Grosso\", \"genero\": \"Masculino\", \"mes\": \"Setembro\", \"numero\": 5, \"regiao\": \"Centro-Oeste\"}, {\"ano\": 2015, \"uf\": \"Mato Grosso\", \"genero\": \"Masculino\", \"mes\": \"Outubro\", \"numero\": 1, \"regiao\": \"Centro-Oeste\"}, {\"ano\": 2015, \"uf\": \"Mato Grosso\", \"genero\": \"Masculino\", \"mes\": \"Novembro\", \"numero\": 0, \"regiao\": \"Centro-Oeste\"}, {\"ano\": 2015, \"uf\": \"Mato Grosso\", \"genero\": \"Masculino\", \"mes\": \"Dezembro\", \"numero\": 0, \"regiao\": \"Centro-Oeste\"}, {\"ano\": 2016, \"uf\": \"Mato Grosso\", \"genero\": \"Masculino\", \"mes\": \"Janeiro\", \"numero\": 0, \"regiao\": \"Centro-Oeste\"}, {\"ano\": 2016, \"uf\": \"Mato Grosso\", \"genero\": \"Masculino\", \"mes\": \"Fevereiro\", \"numero\": 0, \"regiao\": \"Centro-Oeste\"}, {\"ano\": 2016, \"uf\": \"Mato Grosso\", \"genero\": \"Masculino\", \"mes\": \"Mar\\u00e7o\", \"numero\": 0, \"regiao\": \"Centro-Oeste\"}, {\"ano\": 2016, \"uf\": \"Mato Grosso\", \"genero\": \"Masculino\", \"mes\": \"Abril\", \"numero\": 1, \"regiao\": \"Centro-Oeste\"}, {\"ano\": 2016, \"uf\": \"Mato Grosso\", \"genero\": \"Masculino\", \"mes\": \"Maio\", \"numero\": 0, \"regiao\": \"Centro-Oeste\"}, {\"ano\": 2016, \"uf\": \"Mato Grosso\", \"genero\": \"Masculino\", \"mes\": \"Junho\", \"numero\": 0, \"regiao\": \"Centro-Oeste\"}, {\"ano\": 2016, \"uf\": \"Mato Grosso\", \"genero\": \"Masculino\", \"mes\": \"Julho\", \"numero\": 0, \"regiao\": \"Centro-Oeste\"}, {\"ano\": 2016, \"uf\": \"Mato Grosso\", \"genero\": \"Masculino\", \"mes\": \"Agosto\", \"numero\": 0, \"regiao\": \"Centro-Oeste\"}, {\"ano\": 2016, \"uf\": \"Mato Grosso\", \"genero\": \"Masculino\", \"mes\": \"Setembro\", \"numero\": 1, \"regiao\": \"Centro-Oeste\"}, {\"ano\": 2016, \"uf\": \"Mato Grosso\", \"genero\": \"Masculino\", \"mes\": \"Outubro\", \"numero\": 1, \"regiao\": \"Centro-Oeste\"}, {\"ano\": 2016, \"uf\": \"Mato Grosso\", \"genero\": \"Masculino\", \"mes\": \"Novembro\", \"numero\": 1, \"regiao\": \"Centro-Oeste\"}, {\"ano\": 2016, \"uf\": \"Mato Grosso\", \"genero\": \"Masculino\", \"mes\": \"Dezembro\", \"numero\": 0, \"regiao\": \"Centro-Oeste\"}, {\"ano\": 2017, \"uf\": \"Mato Grosso\", \"genero\": \"Masculino\", \"mes\": \"Janeiro\", \"numero\": 0, \"regiao\": \"Centro-Oeste\"}, {\"ano\": 2017, \"uf\": \"Mato Grosso\", \"genero\": \"Masculino\", \"mes\": \"Fevereiro\", \"numero\": 1, \"regiao\": \"Centro-Oeste\"}, {\"ano\": 2017, \"uf\": \"Mato Grosso\", \"genero\": \"Masculino\", \"mes\": \"Mar\\u00e7o\", \"numero\": 0, \"regiao\": \"Centro-Oeste\"}, {\"ano\": 2017, \"uf\": \"Mato Grosso\", \"genero\": \"Masculino\", \"mes\": \"Abril\", \"numero\": 0, \"regiao\": \"Centro-Oeste\"}, {\"ano\": 2017, \"uf\": \"Mato Grosso\", \"genero\": \"Masculino\", \"mes\": \"Maio\", \"numero\": 2, \"regiao\": \"Centro-Oeste\"}, {\"ano\": 2017, \"uf\": \"Mato Grosso\", \"genero\": \"Masculino\", \"mes\": \"Junho\", \"numero\": 0, \"regiao\": \"Centro-Oeste\"}, {\"ano\": 2017, \"uf\": \"Mato Grosso\", \"genero\": \"Masculino\", \"mes\": \"Julho\", \"numero\": 1, \"regiao\": \"Centro-Oeste\"}, {\"ano\": 2017, \"uf\": \"Mato Grosso\", \"genero\": \"Masculino\", \"mes\": \"Agosto\", \"numero\": 0, \"regiao\": \"Centro-Oeste\"}, {\"ano\": 2017, \"uf\": \"Mato Grosso\", \"genero\": \"Masculino\", \"mes\": \"Setembro\", \"numero\": 1, \"regiao\": \"Centro-Oeste\"}, {\"ano\": 2017, \"uf\": \"Mato Grosso\", \"genero\": \"Masculino\", \"mes\": \"Outubro\", \"numero\": 6, \"regiao\": \"Centro-Oeste\"}, {\"ano\": 2017, \"uf\": \"Mato Grosso\", \"genero\": \"Masculino\", \"mes\": \"Novembro\", \"numero\": 3, \"regiao\": \"Centro-Oeste\"}, {\"ano\": 2017, \"uf\": \"Mato Grosso\", \"genero\": \"Masculino\", \"mes\": \"Dezembro\", \"numero\": 1, \"regiao\": \"Centro-Oeste\"}, {\"ano\": 2018, \"uf\": \"Mato Grosso\", \"genero\": \"Masculino\", \"mes\": \"Janeiro\", \"numero\": 1, \"regiao\": \"Centro-Oeste\"}, {\"ano\": 2018, \"uf\": \"Mato Grosso\", \"genero\": \"Masculino\", \"mes\": \"Fevereiro\", \"numero\": 2, \"regiao\": \"Centro-Oeste\"}, {\"ano\": 2018, \"uf\": \"Mato Grosso\", \"genero\": \"Masculino\", \"mes\": \"Mar\\u00e7o\", \"numero\": 0, \"regiao\": \"Centro-Oeste\"}, {\"ano\": 2018, \"uf\": \"Mato Grosso\", \"genero\": \"Masculino\", \"mes\": \"Abril\", \"numero\": 2, \"regiao\": \"Centro-Oeste\"}, {\"ano\": 2018, \"uf\": \"Mato Grosso\", \"genero\": \"Masculino\", \"mes\": \"Maio\", \"numero\": 0, \"regiao\": \"Centro-Oeste\"}, {\"ano\": 2018, \"uf\": \"Mato Grosso\", \"genero\": \"Masculino\", \"mes\": \"Junho\", \"numero\": 0, \"regiao\": \"Centro-Oeste\"}, {\"ano\": 2018, \"uf\": \"Mato Grosso\", \"genero\": \"Masculino\", \"mes\": \"Julho\", \"numero\": 1, \"regiao\": \"Centro-Oeste\"}, {\"ano\": 2018, \"uf\": \"Mato Grosso\", \"genero\": \"Masculino\", \"mes\": \"Agosto\", \"numero\": 1, \"regiao\": \"Centro-Oeste\"}, {\"ano\": 2018, \"uf\": \"Mato Grosso\", \"genero\": \"Masculino\", \"mes\": \"Setembro\", \"numero\": 2, \"regiao\": \"Centro-Oeste\"}, {\"ano\": 2018, \"uf\": \"Mato Grosso\", \"genero\": \"Masculino\", \"mes\": \"Outubro\", \"numero\": 3, \"regiao\": \"Centro-Oeste\"}, {\"ano\": 2018, \"uf\": \"Mato Grosso\", \"genero\": \"Masculino\", \"mes\": \"Novembro\", \"numero\": 0, \"regiao\": \"Centro-Oeste\"}, {\"ano\": 2018, \"uf\": \"Mato Grosso\", \"genero\": \"Masculino\", \"mes\": \"Dezembro\", \"numero\": 3, \"regiao\": \"Centro-Oeste\"}, {\"ano\": 2019, \"uf\": \"Mato Grosso\", \"genero\": \"Masculino\", \"mes\": \"Janeiro\", \"numero\": 2, \"regiao\": \"Centro-Oeste\"}, {\"ano\": 2019, \"uf\": \"Mato Grosso\", \"genero\": \"Masculino\", \"mes\": \"Fevereiro\", \"numero\": 3, \"regiao\": \"Centro-Oeste\"}, {\"ano\": 2019, \"uf\": \"Mato Grosso\", \"genero\": \"Masculino\", \"mes\": \"Mar\\u00e7o\", \"numero\": 7, \"regiao\": \"Centro-Oeste\"}, {\"ano\": 2019, \"uf\": \"Mato Grosso\", \"genero\": \"Masculino\", \"mes\": \"Abril\", \"numero\": 6, \"regiao\": \"Centro-Oeste\"}, {\"ano\": 2019, \"uf\": \"Mato Grosso\", \"genero\": \"Masculino\", \"mes\": \"Maio\", \"numero\": 5, \"regiao\": \"Centro-Oeste\"}, {\"ano\": 2019, \"uf\": \"Mato Grosso\", \"genero\": \"Masculino\", \"mes\": \"Junho\", \"numero\": 6, \"regiao\": \"Centro-Oeste\"}, {\"ano\": 2019, \"uf\": \"Mato Grosso\", \"genero\": \"Masculino\", \"mes\": \"Julho\", \"numero\": 1, \"regiao\": \"Centro-Oeste\"}, {\"ano\": 2019, \"uf\": \"Mato Grosso\", \"genero\": \"Masculino\", \"mes\": \"Agosto\", \"numero\": 0, \"regiao\": \"Centro-Oeste\"}, {\"ano\": 2019, \"uf\": \"Mato Grosso\", \"genero\": \"Masculino\", \"mes\": \"Setembro\", \"numero\": 0, \"regiao\": \"Centro-Oeste\"}, {\"ano\": 2019, \"uf\": \"Mato Grosso\", \"genero\": \"Masculino\", \"mes\": \"Outubro\", \"numero\": 0, \"regiao\": \"Centro-Oeste\"}, {\"ano\": 2019, \"uf\": \"Mato Grosso\", \"genero\": \"Masculino\", \"mes\": \"Novembro\", \"numero\": 0, \"regiao\": \"Centro-Oeste\"}, {\"ano\": 2019, \"uf\": \"Mato Grosso\", \"genero\": \"Masculino\", \"mes\": \"Dezembro\", \"numero\": 1, \"regiao\": \"Centro-Oeste\"}, {\"ano\": 2015, \"uf\": \"Mato Grosso\", \"genero\": \"Feminino\", \"mes\": \"Janeiro\", \"numero\": 0, \"regiao\": \"Centro-Oeste\"}, {\"ano\": 2015, \"uf\": \"Mato Grosso\", \"genero\": \"Feminino\", \"mes\": \"Fevereiro\", \"numero\": 1, \"regiao\": \"Centro-Oeste\"}, {\"ano\": 2015, \"uf\": \"Mato Grosso\", \"genero\": \"Feminino\", \"mes\": \"Mar\\u00e7o\", \"numero\": 0, \"regiao\": \"Centro-Oeste\"}, {\"ano\": 2015, \"uf\": \"Mato Grosso\", \"genero\": \"Feminino\", \"mes\": \"Abril\", \"numero\": 2, \"regiao\": \"Centro-Oeste\"}, {\"ano\": 2015, \"uf\": \"Mato Grosso\", \"genero\": \"Feminino\", \"mes\": \"Maio\", \"numero\": 0, \"regiao\": \"Centro-Oeste\"}, {\"ano\": 2015, \"uf\": \"Mato Grosso\", \"genero\": \"Feminino\", \"mes\": \"Junho\", \"numero\": 1, \"regiao\": \"Centro-Oeste\"}, {\"ano\": 2015, \"uf\": \"Mato Grosso\", \"genero\": \"Feminino\", \"mes\": \"Julho\", \"numero\": 1, \"regiao\": \"Centro-Oeste\"}, {\"ano\": 2015, \"uf\": \"Mato Grosso\", \"genero\": \"Feminino\", \"mes\": \"Agosto\", \"numero\": 1, \"regiao\": \"Centro-Oeste\"}, {\"ano\": 2015, \"uf\": \"Mato Grosso\", \"genero\": \"Feminino\", \"mes\": \"Setembro\", \"numero\": 3, \"regiao\": \"Centro-Oeste\"}, {\"ano\": 2015, \"uf\": \"Mato Grosso\", \"genero\": \"Feminino\", \"mes\": \"Outubro\", \"numero\": 1, \"regiao\": \"Centro-Oeste\"}, {\"ano\": 2015, \"uf\": \"Mato Grosso\", \"genero\": \"Feminino\", \"mes\": \"Novembro\", \"numero\": 1, \"regiao\": \"Centro-Oeste\"}, {\"ano\": 2015, \"uf\": \"Mato Grosso\", \"genero\": \"Feminino\", \"mes\": \"Dezembro\", \"numero\": 0, \"regiao\": \"Centro-Oeste\"}, {\"ano\": 2016, \"uf\": \"Mato Grosso\", \"genero\": \"Feminino\", \"mes\": \"Janeiro\", \"numero\": 0, \"regiao\": \"Centro-Oeste\"}, {\"ano\": 2016, \"uf\": \"Mato Grosso\", \"genero\": \"Feminino\", \"mes\": \"Fevereiro\", \"numero\": 3, \"regiao\": \"Centro-Oeste\"}, {\"ano\": 2016, \"uf\": \"Mato Grosso\", \"genero\": \"Feminino\", \"mes\": \"Mar\\u00e7o\", \"numero\": 0, \"regiao\": \"Centro-Oeste\"}, {\"ano\": 2016, \"uf\": \"Mato Grosso\", \"genero\": \"Feminino\", \"mes\": \"Abril\", \"numero\": 1, \"regiao\": \"Centro-Oeste\"}, {\"ano\": 2016, \"uf\": \"Mato Grosso\", \"genero\": \"Feminino\", \"mes\": \"Maio\", \"numero\": 2, \"regiao\": \"Centro-Oeste\"}, {\"ano\": 2016, \"uf\": \"Mato Grosso\", \"genero\": \"Feminino\", \"mes\": \"Junho\", \"numero\": 1, \"regiao\": \"Centro-Oeste\"}, {\"ano\": 2016, \"uf\": \"Mato Grosso\", \"genero\": \"Feminino\", \"mes\": \"Julho\", \"numero\": 0, \"regiao\": \"Centro-Oeste\"}, {\"ano\": 2016, \"uf\": \"Mato Grosso\", \"genero\": \"Feminino\", \"mes\": \"Agosto\", \"numero\": 0, \"regiao\": \"Centro-Oeste\"}, {\"ano\": 2016, \"uf\": \"Mato Grosso\", \"genero\": \"Feminino\", \"mes\": \"Setembro\", \"numero\": 1, \"regiao\": \"Centro-Oeste\"}, {\"ano\": 2016, \"uf\": \"Mato Grosso\", \"genero\": \"Feminino\", \"mes\": \"Outubro\", \"numero\": 1, \"regiao\": \"Centro-Oeste\"}, {\"ano\": 2016, \"uf\": \"Mato Grosso\", \"genero\": \"Feminino\", \"mes\": \"Novembro\", \"numero\": 1, \"regiao\": \"Centro-Oeste\"}, {\"ano\": 2016, \"uf\": \"Mato Grosso\", \"genero\": \"Feminino\", \"mes\": \"Dezembro\", \"numero\": 3, \"regiao\": \"Centro-Oeste\"}, {\"ano\": 2017, \"uf\": \"Mato Grosso\", \"genero\": \"Feminino\", \"mes\": \"Janeiro\", \"numero\": 1, \"regiao\": \"Centro-Oeste\"}, {\"ano\": 2017, \"uf\": \"Mato Grosso\", \"genero\": \"Feminino\", \"mes\": \"Fevereiro\", \"numero\": 3, \"regiao\": \"Centro-Oeste\"}, {\"ano\": 2017, \"uf\": \"Mato Grosso\", \"genero\": \"Feminino\", \"mes\": \"Mar\\u00e7o\", \"numero\": 1, \"regiao\": \"Centro-Oeste\"}, {\"ano\": 2017, \"uf\": \"Mato Grosso\", \"genero\": \"Feminino\", \"mes\": \"Abril\", \"numero\": 0, \"regiao\": \"Centro-Oeste\"}, {\"ano\": 2017, \"uf\": \"Mato Grosso\", \"genero\": \"Feminino\", \"mes\": \"Maio\", \"numero\": 0, \"regiao\": \"Centro-Oeste\"}, {\"ano\": 2017, \"uf\": \"Mato Grosso\", \"genero\": \"Feminino\", \"mes\": \"Junho\", \"numero\": 2, \"regiao\": \"Centro-Oeste\"}, {\"ano\": 2017, \"uf\": \"Mato Grosso\", \"genero\": \"Feminino\", \"mes\": \"Julho\", \"numero\": 4, \"regiao\": \"Centro-Oeste\"}, {\"ano\": 2017, \"uf\": \"Mato Grosso\", \"genero\": \"Feminino\", \"mes\": \"Agosto\", \"numero\": 3, \"regiao\": \"Centro-Oeste\"}, {\"ano\": 2017, \"uf\": \"Mato Grosso\", \"genero\": \"Feminino\", \"mes\": \"Setembro\", \"numero\": 2, \"regiao\": \"Centro-Oeste\"}, {\"ano\": 2017, \"uf\": \"Mato Grosso\", \"genero\": \"Feminino\", \"mes\": \"Outubro\", \"numero\": 1, \"regiao\": \"Centro-Oeste\"}, {\"ano\": 2017, \"uf\": \"Mato Grosso\", \"genero\": \"Feminino\", \"mes\": \"Novembro\", \"numero\": 2, \"regiao\": \"Centro-Oeste\"}, {\"ano\": 2017, \"uf\": \"Mato Grosso\", \"genero\": \"Feminino\", \"mes\": \"Dezembro\", \"numero\": 2, \"regiao\": \"Centro-Oeste\"}, {\"ano\": 2018, \"uf\": \"Mato Grosso\", \"genero\": \"Feminino\", \"mes\": \"Janeiro\", \"numero\": 1, \"regiao\": \"Centro-Oeste\"}, {\"ano\": 2018, \"uf\": \"Mato Grosso\", \"genero\": \"Feminino\", \"mes\": \"Fevereiro\", \"numero\": 0, \"regiao\": \"Centro-Oeste\"}, {\"ano\": 2018, \"uf\": \"Mato Grosso\", \"genero\": \"Feminino\", \"mes\": \"Mar\\u00e7o\", \"numero\": 0, \"regiao\": \"Centro-Oeste\"}, {\"ano\": 2018, \"uf\": \"Mato Grosso\", \"genero\": \"Feminino\", \"mes\": \"Abril\", \"numero\": 0, \"regiao\": \"Centro-Oeste\"}, {\"ano\": 2018, \"uf\": \"Mato Grosso\", \"genero\": \"Feminino\", \"mes\": \"Maio\", \"numero\": 4, \"regiao\": \"Centro-Oeste\"}, {\"ano\": 2018, \"uf\": \"Mato Grosso\", \"genero\": \"Feminino\", \"mes\": \"Junho\", \"numero\": 4, \"regiao\": \"Centro-Oeste\"}, {\"ano\": 2018, \"uf\": \"Mato Grosso\", \"genero\": \"Feminino\", \"mes\": \"Julho\", \"numero\": 1, \"regiao\": \"Centro-Oeste\"}, {\"ano\": 2018, \"uf\": \"Mato Grosso\", \"genero\": \"Feminino\", \"mes\": \"Agosto\", \"numero\": 5, \"regiao\": \"Centro-Oeste\"}, {\"ano\": 2018, \"uf\": \"Mato Grosso\", \"genero\": \"Feminino\", \"mes\": \"Setembro\", \"numero\": 5, \"regiao\": \"Centro-Oeste\"}, {\"ano\": 2018, \"uf\": \"Mato Grosso\", \"genero\": \"Feminino\", \"mes\": \"Outubro\", \"numero\": 2, \"regiao\": \"Centro-Oeste\"}, {\"ano\": 2018, \"uf\": \"Mato Grosso\", \"genero\": \"Feminino\", \"mes\": \"Novembro\", \"numero\": 2, \"regiao\": \"Centro-Oeste\"}, {\"ano\": 2018, \"uf\": \"Mato Grosso\", \"genero\": \"Feminino\", \"mes\": \"Dezembro\", \"numero\": 7, \"regiao\": \"Centro-Oeste\"}, {\"ano\": 2019, \"uf\": \"Mato Grosso\", \"genero\": \"Feminino\", \"mes\": \"Janeiro\", \"numero\": 5, \"regiao\": \"Centro-Oeste\"}, {\"ano\": 2019, \"uf\": \"Mato Grosso\", \"genero\": \"Feminino\", \"mes\": \"Fevereiro\", \"numero\": 0, \"regiao\": \"Centro-Oeste\"}, {\"ano\": 2019, \"uf\": \"Mato Grosso\", \"genero\": \"Feminino\", \"mes\": \"Mar\\u00e7o\", \"numero\": 2, \"regiao\": \"Centro-Oeste\"}, {\"ano\": 2019, \"uf\": \"Mato Grosso\", \"genero\": \"Feminino\", \"mes\": \"Abril\", \"numero\": 2, \"regiao\": \"Centro-Oeste\"}, {\"ano\": 2019, \"uf\": \"Mato Grosso\", \"genero\": \"Feminino\", \"mes\": \"Maio\", \"numero\": 3, \"regiao\": \"Centro-Oeste\"}, {\"ano\": 2019, \"uf\": \"Mato Grosso\", \"genero\": \"Feminino\", \"mes\": \"Junho\", \"numero\": 9, \"regiao\": \"Centro-Oeste\"}, {\"ano\": 2019, \"uf\": \"Mato Grosso\", \"genero\": \"Feminino\", \"mes\": \"Julho\", \"numero\": 1, \"regiao\": \"Centro-Oeste\"}, {\"ano\": 2019, \"uf\": \"Mato Grosso\", \"genero\": \"Feminino\", \"mes\": \"Agosto\", \"numero\": 2, \"regiao\": \"Centro-Oeste\"}, {\"ano\": 2019, \"uf\": \"Mato Grosso\", \"genero\": \"Feminino\", \"mes\": \"Setembro\", \"numero\": 0, \"regiao\": \"Centro-Oeste\"}, {\"ano\": 2019, \"uf\": \"Mato Grosso\", \"genero\": \"Feminino\", \"mes\": \"Outubro\", \"numero\": 2, \"regiao\": \"Centro-Oeste\"}, {\"ano\": 2019, \"uf\": \"Mato Grosso\", \"genero\": \"Feminino\", \"mes\": \"Novembro\", \"numero\": 3, \"regiao\": \"Centro-Oeste\"}, {\"ano\": 2019, \"uf\": \"Mato Grosso\", \"genero\": \"Feminino\", \"mes\": \"Dezembro\", \"numero\": 1, \"regiao\": \"Centro-Oeste\"}, {\"ano\": 2014, \"uf\": \"Goi\\u00e1s\", \"genero\": \"Masculino\", \"mes\": \"Janeiro\", \"numero\": 12, \"regiao\": \"Centro-Oeste\"}, {\"ano\": 2014, \"uf\": \"Goi\\u00e1s\", \"genero\": \"Masculino\", \"mes\": \"Fevereiro\", \"numero\": 8, \"regiao\": \"Centro-Oeste\"}, {\"ano\": 2014, \"uf\": \"Goi\\u00e1s\", \"genero\": \"Masculino\", \"mes\": \"Mar\\u00e7o\", \"numero\": 8, \"regiao\": \"Centro-Oeste\"}, {\"ano\": 2014, \"uf\": \"Goi\\u00e1s\", \"genero\": \"Masculino\", \"mes\": \"Abril\", \"numero\": 4, \"regiao\": \"Centro-Oeste\"}, {\"ano\": 2014, \"uf\": \"Goi\\u00e1s\", \"genero\": \"Masculino\", \"mes\": \"Maio\", \"numero\": 5, \"regiao\": \"Centro-Oeste\"}, {\"ano\": 2014, \"uf\": \"Goi\\u00e1s\", \"genero\": \"Masculino\", \"mes\": \"Junho\", \"numero\": 7, \"regiao\": \"Centro-Oeste\"}, {\"ano\": 2014, \"uf\": \"Goi\\u00e1s\", \"genero\": \"Masculino\", \"mes\": \"Julho\", \"numero\": 6, \"regiao\": \"Centro-Oeste\"}, {\"ano\": 2014, \"uf\": \"Goi\\u00e1s\", \"genero\": \"Masculino\", \"mes\": \"Agosto\", \"numero\": 1, \"regiao\": \"Centro-Oeste\"}, {\"ano\": 2014, \"uf\": \"Goi\\u00e1s\", \"genero\": \"Masculino\", \"mes\": \"Setembro\", \"numero\": 5, \"regiao\": \"Centro-Oeste\"}, {\"ano\": 2014, \"uf\": \"Goi\\u00e1s\", \"genero\": \"Masculino\", \"mes\": \"Outubro\", \"numero\": 6, \"regiao\": \"Centro-Oeste\"}, {\"ano\": 2014, \"uf\": \"Goi\\u00e1s\", \"genero\": \"Masculino\", \"mes\": \"Novembro\", \"numero\": 5, \"regiao\": \"Centro-Oeste\"}, {\"ano\": 2014, \"uf\": \"Goi\\u00e1s\", \"genero\": \"Masculino\", \"mes\": \"Dezembro\", \"numero\": 5, \"regiao\": \"Centro-Oeste\"}, {\"ano\": 2014, \"uf\": \"Goi\\u00e1s\", \"genero\": \"Feminino\", \"mes\": \"Janeiro\", \"numero\": 2, \"regiao\": \"Centro-Oeste\"}, {\"ano\": 2014, \"uf\": \"Goi\\u00e1s\", \"genero\": \"Feminino\", \"mes\": \"Fevereiro\", \"numero\": 3, \"regiao\": \"Centro-Oeste\"}, {\"ano\": 2014, \"uf\": \"Goi\\u00e1s\", \"genero\": \"Feminino\", \"mes\": \"Mar\\u00e7o\", \"numero\": 6, \"regiao\": \"Centro-Oeste\"}, {\"ano\": 2014, \"uf\": \"Goi\\u00e1s\", \"genero\": \"Feminino\", \"mes\": \"Abril\", \"numero\": 1, \"regiao\": \"Centro-Oeste\"}, {\"ano\": 2014, \"uf\": \"Goi\\u00e1s\", \"genero\": \"Feminino\", \"mes\": \"Maio\", \"numero\": 4, \"regiao\": \"Centro-Oeste\"}, {\"ano\": 2014, \"uf\": \"Goi\\u00e1s\", \"genero\": \"Feminino\", \"mes\": \"Junho\", \"numero\": 4, \"regiao\": \"Centro-Oeste\"}, {\"ano\": 2014, \"uf\": \"Goi\\u00e1s\", \"genero\": \"Feminino\", \"mes\": \"Julho\", \"numero\": 2, \"regiao\": \"Centro-Oeste\"}, {\"ano\": 2014, \"uf\": \"Goi\\u00e1s\", \"genero\": \"Feminino\", \"mes\": \"Agosto\", \"numero\": 5, \"regiao\": \"Centro-Oeste\"}, {\"ano\": 2014, \"uf\": \"Goi\\u00e1s\", \"genero\": \"Feminino\", \"mes\": \"Setembro\", \"numero\": 13, \"regiao\": \"Centro-Oeste\"}, {\"ano\": 2014, \"uf\": \"Goi\\u00e1s\", \"genero\": \"Feminino\", \"mes\": \"Outubro\", \"numero\": 4, \"regiao\": \"Centro-Oeste\"}, {\"ano\": 2014, \"uf\": \"Goi\\u00e1s\", \"genero\": \"Feminino\", \"mes\": \"Novembro\", \"numero\": 7, \"regiao\": \"Centro-Oeste\"}, {\"ano\": 2014, \"uf\": \"Goi\\u00e1s\", \"genero\": \"Feminino\", \"mes\": \"Dezembro\", \"numero\": 7, \"regiao\": \"Centro-Oeste\"}, {\"ano\": 2013, \"uf\": \"Goi\\u00e1s\", \"genero\": \"Masculino\", \"mes\": \"Janeiro\", \"numero\": 0, \"regiao\": \"Centro-Oeste\"}, {\"ano\": 2013, \"uf\": \"Goi\\u00e1s\", \"genero\": \"Masculino\", \"mes\": \"Fevereiro\", \"numero\": 0, \"regiao\": \"Centro-Oeste\"}, {\"ano\": 2013, \"uf\": \"Goi\\u00e1s\", \"genero\": \"Masculino\", \"mes\": \"Mar\\u00e7o\", \"numero\": 0, \"regiao\": \"Centro-Oeste\"}, {\"ano\": 2013, \"uf\": \"Goi\\u00e1s\", \"genero\": \"Masculino\", \"mes\": \"Abril\", \"numero\": 1, \"regiao\": \"Centro-Oeste\"}, {\"ano\": 2013, \"uf\": \"Goi\\u00e1s\", \"genero\": \"Masculino\", \"mes\": \"Maio\", \"numero\": 1, \"regiao\": \"Centro-Oeste\"}, {\"ano\": 2013, \"uf\": \"Goi\\u00e1s\", \"genero\": \"Masculino\", \"mes\": \"Junho\", \"numero\": 1, \"regiao\": \"Centro-Oeste\"}, {\"ano\": 2013, \"uf\": \"Goi\\u00e1s\", \"genero\": \"Masculino\", \"mes\": \"Julho\", \"numero\": 3, \"regiao\": \"Centro-Oeste\"}, {\"ano\": 2013, \"uf\": \"Goi\\u00e1s\", \"genero\": \"Masculino\", \"mes\": \"Agosto\", \"numero\": 3, \"regiao\": \"Centro-Oeste\"}, {\"ano\": 2013, \"uf\": \"Goi\\u00e1s\", \"genero\": \"Masculino\", \"mes\": \"Setembro\", \"numero\": 4, \"regiao\": \"Centro-Oeste\"}, {\"ano\": 2013, \"uf\": \"Goi\\u00e1s\", \"genero\": \"Masculino\", \"mes\": \"Outubro\", \"numero\": 6, \"regiao\": \"Centro-Oeste\"}, {\"ano\": 2013, \"uf\": \"Goi\\u00e1s\", \"genero\": \"Masculino\", \"mes\": \"Novembro\", \"numero\": 7, \"regiao\": \"Centro-Oeste\"}, {\"ano\": 2013, \"uf\": \"Goi\\u00e1s\", \"genero\": \"Masculino\", \"mes\": \"Dezembro\", \"numero\": 3, \"regiao\": \"Centro-Oeste\"}, {\"ano\": 2013, \"uf\": \"Goi\\u00e1s\", \"genero\": \"Feminino\", \"mes\": \"Janeiro\", \"numero\": 0, \"regiao\": \"Centro-Oeste\"}, {\"ano\": 2013, \"uf\": \"Goi\\u00e1s\", \"genero\": \"Feminino\", \"mes\": \"Fevereiro\", \"numero\": 0, \"regiao\": \"Centro-Oeste\"}, {\"ano\": 2013, \"uf\": \"Goi\\u00e1s\", \"genero\": \"Feminino\", \"mes\": \"Mar\\u00e7o\", \"numero\": 0, \"regiao\": \"Centro-Oeste\"}, {\"ano\": 2013, \"uf\": \"Goi\\u00e1s\", \"genero\": \"Feminino\", \"mes\": \"Abril\", \"numero\": 0, \"regiao\": \"Centro-Oeste\"}, {\"ano\": 2013, \"uf\": \"Goi\\u00e1s\", \"genero\": \"Feminino\", \"mes\": \"Maio\", \"numero\": 0, \"regiao\": \"Centro-Oeste\"}, {\"ano\": 2013, \"uf\": \"Goi\\u00e1s\", \"genero\": \"Feminino\", \"mes\": \"Junho\", \"numero\": 2, \"regiao\": \"Centro-Oeste\"}, {\"ano\": 2013, \"uf\": \"Goi\\u00e1s\", \"genero\": \"Feminino\", \"mes\": \"Julho\", \"numero\": 4, \"regiao\": \"Centro-Oeste\"}, {\"ano\": 2013, \"uf\": \"Goi\\u00e1s\", \"genero\": \"Feminino\", \"mes\": \"Agosto\", \"numero\": 8, \"regiao\": \"Centro-Oeste\"}, {\"ano\": 2013, \"uf\": \"Goi\\u00e1s\", \"genero\": \"Feminino\", \"mes\": \"Setembro\", \"numero\": 3, \"regiao\": \"Centro-Oeste\"}, {\"ano\": 2013, \"uf\": \"Goi\\u00e1s\", \"genero\": \"Feminino\", \"mes\": \"Outubro\", \"numero\": 3, \"regiao\": \"Centro-Oeste\"}, {\"ano\": 2013, \"uf\": \"Goi\\u00e1s\", \"genero\": \"Feminino\", \"mes\": \"Novembro\", \"numero\": 7, \"regiao\": \"Centro-Oeste\"}, {\"ano\": 2013, \"uf\": \"Goi\\u00e1s\", \"genero\": \"Feminino\", \"mes\": \"Dezembro\", \"numero\": 4, \"regiao\": \"Centro-Oeste\"}, {\"ano\": 2015, \"uf\": \"Goi\\u00e1s\", \"genero\": \"Masculino\", \"mes\": \"Janeiro\", \"numero\": 6, \"regiao\": \"Centro-Oeste\"}, {\"ano\": 2015, \"uf\": \"Goi\\u00e1s\", \"genero\": \"Masculino\", \"mes\": \"Fevereiro\", \"numero\": 8, \"regiao\": \"Centro-Oeste\"}, {\"ano\": 2015, \"uf\": \"Goi\\u00e1s\", \"genero\": \"Masculino\", \"mes\": \"Mar\\u00e7o\", \"numero\": 8, \"regiao\": \"Centro-Oeste\"}, {\"ano\": 2015, \"uf\": \"Goi\\u00e1s\", \"genero\": \"Masculino\", \"mes\": \"Abril\", \"numero\": 11, \"regiao\": \"Centro-Oeste\"}, {\"ano\": 2015, \"uf\": \"Goi\\u00e1s\", \"genero\": \"Masculino\", \"mes\": \"Maio\", \"numero\": 9, \"regiao\": \"Centro-Oeste\"}, {\"ano\": 2015, \"uf\": \"Goi\\u00e1s\", \"genero\": \"Masculino\", \"mes\": \"Junho\", \"numero\": 8, \"regiao\": \"Centro-Oeste\"}, {\"ano\": 2015, \"uf\": \"Goi\\u00e1s\", \"genero\": \"Masculino\", \"mes\": \"Julho\", \"numero\": 10, \"regiao\": \"Centro-Oeste\"}, {\"ano\": 2015, \"uf\": \"Goi\\u00e1s\", \"genero\": \"Masculino\", \"mes\": \"Agosto\", \"numero\": 2, \"regiao\": \"Centro-Oeste\"}, {\"ano\": 2015, \"uf\": \"Goi\\u00e1s\", \"genero\": \"Masculino\", \"mes\": \"Setembro\", \"numero\": 8, \"regiao\": \"Centro-Oeste\"}, {\"ano\": 2015, \"uf\": \"Goi\\u00e1s\", \"genero\": \"Masculino\", \"mes\": \"Outubro\", \"numero\": 8, \"regiao\": \"Centro-Oeste\"}, {\"ano\": 2015, \"uf\": \"Goi\\u00e1s\", \"genero\": \"Masculino\", \"mes\": \"Novembro\", \"numero\": 5, \"regiao\": \"Centro-Oeste\"}, {\"ano\": 2015, \"uf\": \"Goi\\u00e1s\", \"genero\": \"Masculino\", \"mes\": \"Dezembro\", \"numero\": 12, \"regiao\": \"Centro-Oeste\"}, {\"ano\": 2016, \"uf\": \"Goi\\u00e1s\", \"genero\": \"Masculino\", \"mes\": \"Janeiro\", \"numero\": 5, \"regiao\": \"Centro-Oeste\"}, {\"ano\": 2016, \"uf\": \"Goi\\u00e1s\", \"genero\": \"Masculino\", \"mes\": \"Fevereiro\", \"numero\": 2, \"regiao\": \"Centro-Oeste\"}, {\"ano\": 2016, \"uf\": \"Goi\\u00e1s\", \"genero\": \"Masculino\", \"mes\": \"Mar\\u00e7o\", \"numero\": 6, \"regiao\": \"Centro-Oeste\"}, {\"ano\": 2016, \"uf\": \"Goi\\u00e1s\", \"genero\": \"Masculino\", \"mes\": \"Abril\", \"numero\": 4, \"regiao\": \"Centro-Oeste\"}, {\"ano\": 2016, \"uf\": \"Goi\\u00e1s\", \"genero\": \"Masculino\", \"mes\": \"Maio\", \"numero\": 7, \"regiao\": \"Centro-Oeste\"}, {\"ano\": 2016, \"uf\": \"Goi\\u00e1s\", \"genero\": \"Masculino\", \"mes\": \"Junho\", \"numero\": 2, \"regiao\": \"Centro-Oeste\"}, {\"ano\": 2016, \"uf\": \"Goi\\u00e1s\", \"genero\": \"Masculino\", \"mes\": \"Julho\", \"numero\": 11, \"regiao\": \"Centro-Oeste\"}, {\"ano\": 2016, \"uf\": \"Goi\\u00e1s\", \"genero\": \"Masculino\", \"mes\": \"Agosto\", \"numero\": 4, \"regiao\": \"Centro-Oeste\"}, {\"ano\": 2016, \"uf\": \"Goi\\u00e1s\", \"genero\": \"Masculino\", \"mes\": \"Setembro\", \"numero\": 8, \"regiao\": \"Centro-Oeste\"}, {\"ano\": 2016, \"uf\": \"Goi\\u00e1s\", \"genero\": \"Masculino\", \"mes\": \"Outubro\", \"numero\": 6, \"regiao\": \"Centro-Oeste\"}, {\"ano\": 2016, \"uf\": \"Goi\\u00e1s\", \"genero\": \"Masculino\", \"mes\": \"Novembro\", \"numero\": 12, \"regiao\": \"Centro-Oeste\"}, {\"ano\": 2016, \"uf\": \"Goi\\u00e1s\", \"genero\": \"Masculino\", \"mes\": \"Dezembro\", \"numero\": 8, \"regiao\": \"Centro-Oeste\"}, {\"ano\": 2017, \"uf\": \"Goi\\u00e1s\", \"genero\": \"Masculino\", \"mes\": \"Janeiro\", \"numero\": 5, \"regiao\": \"Centro-Oeste\"}, {\"ano\": 2017, \"uf\": \"Goi\\u00e1s\", \"genero\": \"Masculino\", \"mes\": \"Fevereiro\", \"numero\": 6, \"regiao\": \"Centro-Oeste\"}, {\"ano\": 2017, \"uf\": \"Goi\\u00e1s\", \"genero\": \"Masculino\", \"mes\": \"Mar\\u00e7o\", \"numero\": 7, \"regiao\": \"Centro-Oeste\"}, {\"ano\": 2017, \"uf\": \"Goi\\u00e1s\", \"genero\": \"Masculino\", \"mes\": \"Abril\", \"numero\": 6, \"regiao\": \"Centro-Oeste\"}, {\"ano\": 2017, \"uf\": \"Goi\\u00e1s\", \"genero\": \"Masculino\", \"mes\": \"Maio\", \"numero\": 8, \"regiao\": \"Centro-Oeste\"}, {\"ano\": 2017, \"uf\": \"Goi\\u00e1s\", \"genero\": \"Masculino\", \"mes\": \"Junho\", \"numero\": 4, \"regiao\": \"Centro-Oeste\"}, {\"ano\": 2017, \"uf\": \"Goi\\u00e1s\", \"genero\": \"Masculino\", \"mes\": \"Julho\", \"numero\": 4, \"regiao\": \"Centro-Oeste\"}, {\"ano\": 2017, \"uf\": \"Goi\\u00e1s\", \"genero\": \"Masculino\", \"mes\": \"Agosto\", \"numero\": 5, \"regiao\": \"Centro-Oeste\"}, {\"ano\": 2017, \"uf\": \"Goi\\u00e1s\", \"genero\": \"Masculino\", \"mes\": \"Setembro\", \"numero\": 9, \"regiao\": \"Centro-Oeste\"}, {\"ano\": 2017, \"uf\": \"Goi\\u00e1s\", \"genero\": \"Masculino\", \"mes\": \"Outubro\", \"numero\": 8, \"regiao\": \"Centro-Oeste\"}, {\"ano\": 2017, \"uf\": \"Goi\\u00e1s\", \"genero\": \"Masculino\", \"mes\": \"Novembro\", \"numero\": 5, \"regiao\": \"Centro-Oeste\"}, {\"ano\": 2017, \"uf\": \"Goi\\u00e1s\", \"genero\": \"Masculino\", \"mes\": \"Dezembro\", \"numero\": 7, \"regiao\": \"Centro-Oeste\"}, {\"ano\": 2018, \"uf\": \"Goi\\u00e1s\", \"genero\": \"Masculino\", \"mes\": \"Janeiro\", \"numero\": 5, \"regiao\": \"Centro-Oeste\"}, {\"ano\": 2018, \"uf\": \"Goi\\u00e1s\", \"genero\": \"Masculino\", \"mes\": \"Fevereiro\", \"numero\": 9, \"regiao\": \"Centro-Oeste\"}, {\"ano\": 2018, \"uf\": \"Goi\\u00e1s\", \"genero\": \"Masculino\", \"mes\": \"Mar\\u00e7o\", \"numero\": 15, \"regiao\": \"Centro-Oeste\"}, {\"ano\": 2018, \"uf\": \"Goi\\u00e1s\", \"genero\": \"Masculino\", \"mes\": \"Abril\", \"numero\": 12, \"regiao\": \"Centro-Oeste\"}, {\"ano\": 2018, \"uf\": \"Goi\\u00e1s\", \"genero\": \"Masculino\", \"mes\": \"Maio\", \"numero\": 5, \"regiao\": \"Centro-Oeste\"}, {\"ano\": 2018, \"uf\": \"Goi\\u00e1s\", \"genero\": \"Masculino\", \"mes\": \"Junho\", \"numero\": 9, \"regiao\": \"Centro-Oeste\"}, {\"ano\": 2018, \"uf\": \"Goi\\u00e1s\", \"genero\": \"Masculino\", \"mes\": \"Julho\", \"numero\": 8, \"regiao\": \"Centro-Oeste\"}, {\"ano\": 2018, \"uf\": \"Goi\\u00e1s\", \"genero\": \"Masculino\", \"mes\": \"Agosto\", \"numero\": 6, \"regiao\": \"Centro-Oeste\"}, {\"ano\": 2018, \"uf\": \"Goi\\u00e1s\", \"genero\": \"Masculino\", \"mes\": \"Setembro\", \"numero\": 10, \"regiao\": \"Centro-Oeste\"}, {\"ano\": 2018, \"uf\": \"Goi\\u00e1s\", \"genero\": \"Masculino\", \"mes\": \"Outubro\", \"numero\": 3, \"regiao\": \"Centro-Oeste\"}, {\"ano\": 2018, \"uf\": \"Goi\\u00e1s\", \"genero\": \"Masculino\", \"mes\": \"Novembro\", \"numero\": 11, \"regiao\": \"Centro-Oeste\"}, {\"ano\": 2018, \"uf\": \"Goi\\u00e1s\", \"genero\": \"Masculino\", \"mes\": \"Dezembro\", \"numero\": 9, \"regiao\": \"Centro-Oeste\"}, {\"ano\": 2019, \"uf\": \"Goi\\u00e1s\", \"genero\": \"Masculino\", \"mes\": \"Janeiro\", \"numero\": 2, \"regiao\": \"Centro-Oeste\"}, {\"ano\": 2019, \"uf\": \"Goi\\u00e1s\", \"genero\": \"Masculino\", \"mes\": \"Fevereiro\", \"numero\": 3, \"regiao\": \"Centro-Oeste\"}, {\"ano\": 2019, \"uf\": \"Goi\\u00e1s\", \"genero\": \"Masculino\", \"mes\": \"Mar\\u00e7o\", \"numero\": 2, \"regiao\": \"Centro-Oeste\"}, {\"ano\": 2019, \"uf\": \"Goi\\u00e1s\", \"genero\": \"Masculino\", \"mes\": \"Abril\", \"numero\": 0, \"regiao\": \"Centro-Oeste\"}, {\"ano\": 2019, \"uf\": \"Goi\\u00e1s\", \"genero\": \"Masculino\", \"mes\": \"Maio\", \"numero\": 0, \"regiao\": \"Centro-Oeste\"}, {\"ano\": 2019, \"uf\": \"Goi\\u00e1s\", \"genero\": \"Masculino\", \"mes\": \"Junho\", \"numero\": 6, \"regiao\": \"Centro-Oeste\"}, {\"ano\": 2019, \"uf\": \"Goi\\u00e1s\", \"genero\": \"Masculino\", \"mes\": \"Julho\", \"numero\": 3, \"regiao\": \"Centro-Oeste\"}, {\"ano\": 2019, \"uf\": \"Goi\\u00e1s\", \"genero\": \"Masculino\", \"mes\": \"Agosto\", \"numero\": 4, \"regiao\": \"Centro-Oeste\"}, {\"ano\": 2019, \"uf\": \"Goi\\u00e1s\", \"genero\": \"Masculino\", \"mes\": \"Setembro\", \"numero\": 8, \"regiao\": \"Centro-Oeste\"}, {\"ano\": 2019, \"uf\": \"Goi\\u00e1s\", \"genero\": \"Masculino\", \"mes\": \"Outubro\", \"numero\": 12, \"regiao\": \"Centro-Oeste\"}, {\"ano\": 2019, \"uf\": \"Goi\\u00e1s\", \"genero\": \"Masculino\", \"mes\": \"Novembro\", \"numero\": 9, \"regiao\": \"Centro-Oeste\"}, {\"ano\": 2019, \"uf\": \"Goi\\u00e1s\", \"genero\": \"Masculino\", \"mes\": \"Dezembro\", \"numero\": 9, \"regiao\": \"Centro-Oeste\"}, {\"ano\": 2015, \"uf\": \"Goi\\u00e1s\", \"genero\": \"Feminino\", \"mes\": \"Janeiro\", \"numero\": 7, \"regiao\": \"Centro-Oeste\"}, {\"ano\": 2015, \"uf\": \"Goi\\u00e1s\", \"genero\": \"Feminino\", \"mes\": \"Fevereiro\", \"numero\": 7, \"regiao\": \"Centro-Oeste\"}, {\"ano\": 2015, \"uf\": \"Goi\\u00e1s\", \"genero\": \"Feminino\", \"mes\": \"Mar\\u00e7o\", \"numero\": 5, \"regiao\": \"Centro-Oeste\"}, {\"ano\": 2015, \"uf\": \"Goi\\u00e1s\", \"genero\": \"Feminino\", \"mes\": \"Abril\", \"numero\": 3, \"regiao\": \"Centro-Oeste\"}, {\"ano\": 2015, \"uf\": \"Goi\\u00e1s\", \"genero\": \"Feminino\", \"mes\": \"Maio\", \"numero\": 7, \"regiao\": \"Centro-Oeste\"}, {\"ano\": 2015, \"uf\": \"Goi\\u00e1s\", \"genero\": \"Feminino\", \"mes\": \"Junho\", \"numero\": 6, \"regiao\": \"Centro-Oeste\"}, {\"ano\": 2015, \"uf\": \"Goi\\u00e1s\", \"genero\": \"Feminino\", \"mes\": \"Julho\", \"numero\": 7, \"regiao\": \"Centro-Oeste\"}, {\"ano\": 2015, \"uf\": \"Goi\\u00e1s\", \"genero\": \"Feminino\", \"mes\": \"Agosto\", \"numero\": 8, \"regiao\": \"Centro-Oeste\"}, {\"ano\": 2015, \"uf\": \"Goi\\u00e1s\", \"genero\": \"Feminino\", \"mes\": \"Setembro\", \"numero\": 9, \"regiao\": \"Centro-Oeste\"}, {\"ano\": 2015, \"uf\": \"Goi\\u00e1s\", \"genero\": \"Feminino\", \"mes\": \"Outubro\", \"numero\": 12, \"regiao\": \"Centro-Oeste\"}, {\"ano\": 2015, \"uf\": \"Goi\\u00e1s\", \"genero\": \"Feminino\", \"mes\": \"Novembro\", \"numero\": 8, \"regiao\": \"Centro-Oeste\"}, {\"ano\": 2015, \"uf\": \"Goi\\u00e1s\", \"genero\": \"Feminino\", \"mes\": \"Dezembro\", \"numero\": 16, \"regiao\": \"Centro-Oeste\"}, {\"ano\": 2016, \"uf\": \"Goi\\u00e1s\", \"genero\": \"Feminino\", \"mes\": \"Janeiro\", \"numero\": 11, \"regiao\": \"Centro-Oeste\"}, {\"ano\": 2016, \"uf\": \"Goi\\u00e1s\", \"genero\": \"Feminino\", \"mes\": \"Fevereiro\", \"numero\": 2, \"regiao\": \"Centro-Oeste\"}, {\"ano\": 2016, \"uf\": \"Goi\\u00e1s\", \"genero\": \"Feminino\", \"mes\": \"Mar\\u00e7o\", \"numero\": 8, \"regiao\": \"Centro-Oeste\"}, {\"ano\": 2016, \"uf\": \"Goi\\u00e1s\", \"genero\": \"Feminino\", \"mes\": \"Abril\", \"numero\": 8, \"regiao\": \"Centro-Oeste\"}, {\"ano\": 2016, \"uf\": \"Goi\\u00e1s\", \"genero\": \"Feminino\", \"mes\": \"Maio\", \"numero\": 11, \"regiao\": \"Centro-Oeste\"}, {\"ano\": 2016, \"uf\": \"Goi\\u00e1s\", \"genero\": \"Feminino\", \"mes\": \"Junho\", \"numero\": 5, \"regiao\": \"Centro-Oeste\"}, {\"ano\": 2016, \"uf\": \"Goi\\u00e1s\", \"genero\": \"Feminino\", \"mes\": \"Julho\", \"numero\": 6, \"regiao\": \"Centro-Oeste\"}, {\"ano\": 2016, \"uf\": \"Goi\\u00e1s\", \"genero\": \"Feminino\", \"mes\": \"Agosto\", \"numero\": 10, \"regiao\": \"Centro-Oeste\"}, {\"ano\": 2016, \"uf\": \"Goi\\u00e1s\", \"genero\": \"Feminino\", \"mes\": \"Setembro\", \"numero\": 9, \"regiao\": \"Centro-Oeste\"}, {\"ano\": 2016, \"uf\": \"Goi\\u00e1s\", \"genero\": \"Feminino\", \"mes\": \"Outubro\", \"numero\": 3, \"regiao\": \"Centro-Oeste\"}, {\"ano\": 2016, \"uf\": \"Goi\\u00e1s\", \"genero\": \"Feminino\", \"mes\": \"Novembro\", \"numero\": 10, \"regiao\": \"Centro-Oeste\"}, {\"ano\": 2016, \"uf\": \"Goi\\u00e1s\", \"genero\": \"Feminino\", \"mes\": \"Dezembro\", \"numero\": 8, \"regiao\": \"Centro-Oeste\"}, {\"ano\": 2017, \"uf\": \"Goi\\u00e1s\", \"genero\": \"Feminino\", \"mes\": \"Janeiro\", \"numero\": 10, \"regiao\": \"Centro-Oeste\"}, {\"ano\": 2017, \"uf\": \"Goi\\u00e1s\", \"genero\": \"Feminino\", \"mes\": \"Fevereiro\", \"numero\": 5, \"regiao\": \"Centro-Oeste\"}, {\"ano\": 2017, \"uf\": \"Goi\\u00e1s\", \"genero\": \"Feminino\", \"mes\": \"Mar\\u00e7o\", \"numero\": 8, \"regiao\": \"Centro-Oeste\"}, {\"ano\": 2017, \"uf\": \"Goi\\u00e1s\", \"genero\": \"Feminino\", \"mes\": \"Abril\", \"numero\": 5, \"regiao\": \"Centro-Oeste\"}, {\"ano\": 2017, \"uf\": \"Goi\\u00e1s\", \"genero\": \"Feminino\", \"mes\": \"Maio\", \"numero\": 5, \"regiao\": \"Centro-Oeste\"}, {\"ano\": 2017, \"uf\": \"Goi\\u00e1s\", \"genero\": \"Feminino\", \"mes\": \"Junho\", \"numero\": 5, \"regiao\": \"Centro-Oeste\"}, {\"ano\": 2017, \"uf\": \"Goi\\u00e1s\", \"genero\": \"Feminino\", \"mes\": \"Julho\", \"numero\": 10, \"regiao\": \"Centro-Oeste\"}, {\"ano\": 2017, \"uf\": \"Goi\\u00e1s\", \"genero\": \"Feminino\", \"mes\": \"Agosto\", \"numero\": 12, \"regiao\": \"Centro-Oeste\"}, {\"ano\": 2017, \"uf\": \"Goi\\u00e1s\", \"genero\": \"Feminino\", \"mes\": \"Setembro\", \"numero\": 14, \"regiao\": \"Centro-Oeste\"}, {\"ano\": 2017, \"uf\": \"Goi\\u00e1s\", \"genero\": \"Feminino\", \"mes\": \"Outubro\", \"numero\": 5, \"regiao\": \"Centro-Oeste\"}, {\"ano\": 2017, \"uf\": \"Goi\\u00e1s\", \"genero\": \"Feminino\", \"mes\": \"Novembro\", \"numero\": 10, \"regiao\": \"Centro-Oeste\"}, {\"ano\": 2017, \"uf\": \"Goi\\u00e1s\", \"genero\": \"Feminino\", \"mes\": \"Dezembro\", \"numero\": 7, \"regiao\": \"Centro-Oeste\"}, {\"ano\": 2018, \"uf\": \"Goi\\u00e1s\", \"genero\": \"Feminino\", \"mes\": \"Janeiro\", \"numero\": 8, \"regiao\": \"Centro-Oeste\"}, {\"ano\": 2018, \"uf\": \"Goi\\u00e1s\", \"genero\": \"Feminino\", \"mes\": \"Fevereiro\", \"numero\": 8, \"regiao\": \"Centro-Oeste\"}, {\"ano\": 2018, \"uf\": \"Goi\\u00e1s\", \"genero\": \"Feminino\", \"mes\": \"Mar\\u00e7o\", \"numero\": 7, \"regiao\": \"Centro-Oeste\"}, {\"ano\": 2018, \"uf\": \"Goi\\u00e1s\", \"genero\": \"Feminino\", \"mes\": \"Abril\", \"numero\": 7, \"regiao\": \"Centro-Oeste\"}, {\"ano\": 2018, \"uf\": \"Goi\\u00e1s\", \"genero\": \"Feminino\", \"mes\": \"Maio\", \"numero\": 15, \"regiao\": \"Centro-Oeste\"}, {\"ano\": 2018, \"uf\": \"Goi\\u00e1s\", \"genero\": \"Feminino\", \"mes\": \"Junho\", \"numero\": 8, \"regiao\": \"Centro-Oeste\"}, {\"ano\": 2018, \"uf\": \"Goi\\u00e1s\", \"genero\": \"Feminino\", \"mes\": \"Julho\", \"numero\": 12, \"regiao\": \"Centro-Oeste\"}, {\"ano\": 2018, \"uf\": \"Goi\\u00e1s\", \"genero\": \"Feminino\", \"mes\": \"Agosto\", \"numero\": 14, \"regiao\": \"Centro-Oeste\"}, {\"ano\": 2018, \"uf\": \"Goi\\u00e1s\", \"genero\": \"Feminino\", \"mes\": \"Setembro\", \"numero\": 6, \"regiao\": \"Centro-Oeste\"}, {\"ano\": 2018, \"uf\": \"Goi\\u00e1s\", \"genero\": \"Feminino\", \"mes\": \"Outubro\", \"numero\": 4, \"regiao\": \"Centro-Oeste\"}, {\"ano\": 2018, \"uf\": \"Goi\\u00e1s\", \"genero\": \"Feminino\", \"mes\": \"Novembro\", \"numero\": 9, \"regiao\": \"Centro-Oeste\"}, {\"ano\": 2018, \"uf\": \"Goi\\u00e1s\", \"genero\": \"Feminino\", \"mes\": \"Dezembro\", \"numero\": 18, \"regiao\": \"Centro-Oeste\"}, {\"ano\": 2019, \"uf\": \"Goi\\u00e1s\", \"genero\": \"Feminino\", \"mes\": \"Janeiro\", \"numero\": 8, \"regiao\": \"Centro-Oeste\"}, {\"ano\": 2019, \"uf\": \"Goi\\u00e1s\", \"genero\": \"Feminino\", \"mes\": \"Fevereiro\", \"numero\": 5, \"regiao\": \"Centro-Oeste\"}, {\"ano\": 2019, \"uf\": \"Goi\\u00e1s\", \"genero\": \"Feminino\", \"mes\": \"Mar\\u00e7o\", \"numero\": 4, \"regiao\": \"Centro-Oeste\"}, {\"ano\": 2019, \"uf\": \"Goi\\u00e1s\", \"genero\": \"Feminino\", \"mes\": \"Abril\", \"numero\": 4, \"regiao\": \"Centro-Oeste\"}, {\"ano\": 2019, \"uf\": \"Goi\\u00e1s\", \"genero\": \"Feminino\", \"mes\": \"Maio\", \"numero\": 6, \"regiao\": \"Centro-Oeste\"}, {\"ano\": 2019, \"uf\": \"Goi\\u00e1s\", \"genero\": \"Feminino\", \"mes\": \"Junho\", \"numero\": 4, \"regiao\": \"Centro-Oeste\"}, {\"ano\": 2019, \"uf\": \"Goi\\u00e1s\", \"genero\": \"Feminino\", \"mes\": \"Julho\", \"numero\": 3, \"regiao\": \"Centro-Oeste\"}, {\"ano\": 2019, \"uf\": \"Goi\\u00e1s\", \"genero\": \"Feminino\", \"mes\": \"Agosto\", \"numero\": 2, \"regiao\": \"Centro-Oeste\"}, {\"ano\": 2019, \"uf\": \"Goi\\u00e1s\", \"genero\": \"Feminino\", \"mes\": \"Setembro\", \"numero\": 4, \"regiao\": \"Centro-Oeste\"}, {\"ano\": 2019, \"uf\": \"Goi\\u00e1s\", \"genero\": \"Feminino\", \"mes\": \"Outubro\", \"numero\": 9, \"regiao\": \"Centro-Oeste\"}, {\"ano\": 2019, \"uf\": \"Goi\\u00e1s\", \"genero\": \"Feminino\", \"mes\": \"Novembro\", \"numero\": 17, \"regiao\": \"Centro-Oeste\"}, {\"ano\": 2019, \"uf\": \"Goi\\u00e1s\", \"genero\": \"Feminino\", \"mes\": \"Dezembro\", \"numero\": 11, \"regiao\": \"Centro-Oeste\"}, {\"ano\": 2014, \"uf\": \"Distrito Federal\", \"genero\": \"Masculino\", \"mes\": \"Janeiro\", \"numero\": 4, \"regiao\": \"Centro-Oeste\"}, {\"ano\": 2014, \"uf\": \"Distrito Federal\", \"genero\": \"Masculino\", \"mes\": \"Fevereiro\", \"numero\": 3, \"regiao\": \"Centro-Oeste\"}, {\"ano\": 2014, \"uf\": \"Distrito Federal\", \"genero\": \"Masculino\", \"mes\": \"Mar\\u00e7o\", \"numero\": 5, \"regiao\": \"Centro-Oeste\"}, {\"ano\": 2014, \"uf\": \"Distrito Federal\", \"genero\": \"Masculino\", \"mes\": \"Abril\", \"numero\": 1, \"regiao\": \"Centro-Oeste\"}, {\"ano\": 2014, \"uf\": \"Distrito Federal\", \"genero\": \"Masculino\", \"mes\": \"Maio\", \"numero\": 7, \"regiao\": \"Centro-Oeste\"}, {\"ano\": 2014, \"uf\": \"Distrito Federal\", \"genero\": \"Masculino\", \"mes\": \"Junho\", \"numero\": 4, \"regiao\": \"Centro-Oeste\"}, {\"ano\": 2014, \"uf\": \"Distrito Federal\", \"genero\": \"Masculino\", \"mes\": \"Julho\", \"numero\": 2, \"regiao\": \"Centro-Oeste\"}, {\"ano\": 2014, \"uf\": \"Distrito Federal\", \"genero\": \"Masculino\", \"mes\": \"Agosto\", \"numero\": 7, \"regiao\": \"Centro-Oeste\"}, {\"ano\": 2014, \"uf\": \"Distrito Federal\", \"genero\": \"Masculino\", \"mes\": \"Setembro\", \"numero\": 7, \"regiao\": \"Centro-Oeste\"}, {\"ano\": 2014, \"uf\": \"Distrito Federal\", \"genero\": \"Masculino\", \"mes\": \"Outubro\", \"numero\": 10, \"regiao\": \"Centro-Oeste\"}, {\"ano\": 2014, \"uf\": \"Distrito Federal\", \"genero\": \"Masculino\", \"mes\": \"Novembro\", \"numero\": 9, \"regiao\": \"Centro-Oeste\"}, {\"ano\": 2014, \"uf\": \"Distrito Federal\", \"genero\": \"Masculino\", \"mes\": \"Dezembro\", \"numero\": 9, \"regiao\": \"Centro-Oeste\"}, {\"ano\": 2014, \"uf\": \"Distrito Federal\", \"genero\": \"Feminino\", \"mes\": \"Janeiro\", \"numero\": 2, \"regiao\": \"Centro-Oeste\"}, {\"ano\": 2014, \"uf\": \"Distrito Federal\", \"genero\": \"Feminino\", \"mes\": \"Fevereiro\", \"numero\": 5, \"regiao\": \"Centro-Oeste\"}, {\"ano\": 2014, \"uf\": \"Distrito Federal\", \"genero\": \"Feminino\", \"mes\": \"Mar\\u00e7o\", \"numero\": 7, \"regiao\": \"Centro-Oeste\"}, {\"ano\": 2014, \"uf\": \"Distrito Federal\", \"genero\": \"Feminino\", \"mes\": \"Abril\", \"numero\": 5, \"regiao\": \"Centro-Oeste\"}, {\"ano\": 2014, \"uf\": \"Distrito Federal\", \"genero\": \"Feminino\", \"mes\": \"Maio\", \"numero\": 2, \"regiao\": \"Centro-Oeste\"}, {\"ano\": 2014, \"uf\": \"Distrito Federal\", \"genero\": \"Feminino\", \"mes\": \"Junho\", \"numero\": 1, \"regiao\": \"Centro-Oeste\"}, {\"ano\": 2014, \"uf\": \"Distrito Federal\", \"genero\": \"Feminino\", \"mes\": \"Julho\", \"numero\": 1, \"regiao\": \"Centro-Oeste\"}, {\"ano\": 2014, \"uf\": \"Distrito Federal\", \"genero\": \"Feminino\", \"mes\": \"Agosto\", \"numero\": 2, \"regiao\": \"Centro-Oeste\"}, {\"ano\": 2014, \"uf\": \"Distrito Federal\", \"genero\": \"Feminino\", \"mes\": \"Setembro\", \"numero\": 7, \"regiao\": \"Centro-Oeste\"}, {\"ano\": 2014, \"uf\": \"Distrito Federal\", \"genero\": \"Feminino\", \"mes\": \"Outubro\", \"numero\": 8, \"regiao\": \"Centro-Oeste\"}, {\"ano\": 2014, \"uf\": \"Distrito Federal\", \"genero\": \"Feminino\", \"mes\": \"Novembro\", \"numero\": 10, \"regiao\": \"Centro-Oeste\"}, {\"ano\": 2014, \"uf\": \"Distrito Federal\", \"genero\": \"Feminino\", \"mes\": \"Dezembro\", \"numero\": 11, \"regiao\": \"Centro-Oeste\"}, {\"ano\": 2013, \"uf\": \"Distrito Federal\", \"genero\": \"Masculino\", \"mes\": \"Janeiro\", \"numero\": 1, \"regiao\": \"Centro-Oeste\"}, {\"ano\": 2013, \"uf\": \"Distrito Federal\", \"genero\": \"Masculino\", \"mes\": \"Fevereiro\", \"numero\": 2, \"regiao\": \"Centro-Oeste\"}, {\"ano\": 2013, \"uf\": \"Distrito Federal\", \"genero\": \"Masculino\", \"mes\": \"Mar\\u00e7o\", \"numero\": 1, \"regiao\": \"Centro-Oeste\"}, {\"ano\": 2013, \"uf\": \"Distrito Federal\", \"genero\": \"Masculino\", \"mes\": \"Abril\", \"numero\": 0, \"regiao\": \"Centro-Oeste\"}, {\"ano\": 2013, \"uf\": \"Distrito Federal\", \"genero\": \"Masculino\", \"mes\": \"Maio\", \"numero\": 5, \"regiao\": \"Centro-Oeste\"}, {\"ano\": 2013, \"uf\": \"Distrito Federal\", \"genero\": \"Masculino\", \"mes\": \"Junho\", \"numero\": 3, \"regiao\": \"Centro-Oeste\"}, {\"ano\": 2013, \"uf\": \"Distrito Federal\", \"genero\": \"Masculino\", \"mes\": \"Julho\", \"numero\": 6, \"regiao\": \"Centro-Oeste\"}, {\"ano\": 2013, \"uf\": \"Distrito Federal\", \"genero\": \"Masculino\", \"mes\": \"Agosto\", \"numero\": 4, \"regiao\": \"Centro-Oeste\"}, {\"ano\": 2013, \"uf\": \"Distrito Federal\", \"genero\": \"Masculino\", \"mes\": \"Setembro\", \"numero\": 5, \"regiao\": \"Centro-Oeste\"}, {\"ano\": 2013, \"uf\": \"Distrito Federal\", \"genero\": \"Masculino\", \"mes\": \"Outubro\", \"numero\": 5, \"regiao\": \"Centro-Oeste\"}, {\"ano\": 2013, \"uf\": \"Distrito Federal\", \"genero\": \"Masculino\", \"mes\": \"Novembro\", \"numero\": 1, \"regiao\": \"Centro-Oeste\"}, {\"ano\": 2013, \"uf\": \"Distrito Federal\", \"genero\": \"Masculino\", \"mes\": \"Dezembro\", \"numero\": 4, \"regiao\": \"Centro-Oeste\"}, {\"ano\": 2013, \"uf\": \"Distrito Federal\", \"genero\": \"Feminino\", \"mes\": \"Janeiro\", \"numero\": 1, \"regiao\": \"Centro-Oeste\"}, {\"ano\": 2013, \"uf\": \"Distrito Federal\", \"genero\": \"Feminino\", \"mes\": \"Fevereiro\", \"numero\": 0, \"regiao\": \"Centro-Oeste\"}, {\"ano\": 2013, \"uf\": \"Distrito Federal\", \"genero\": \"Feminino\", \"mes\": \"Mar\\u00e7o\", \"numero\": 4, \"regiao\": \"Centro-Oeste\"}, {\"ano\": 2013, \"uf\": \"Distrito Federal\", \"genero\": \"Feminino\", \"mes\": \"Abril\", \"numero\": 5, \"regiao\": \"Centro-Oeste\"}, {\"ano\": 2013, \"uf\": \"Distrito Federal\", \"genero\": \"Feminino\", \"mes\": \"Maio\", \"numero\": 6, \"regiao\": \"Centro-Oeste\"}, {\"ano\": 2013, \"uf\": \"Distrito Federal\", \"genero\": \"Feminino\", \"mes\": \"Junho\", \"numero\": 5, \"regiao\": \"Centro-Oeste\"}, {\"ano\": 2013, \"uf\": \"Distrito Federal\", \"genero\": \"Feminino\", \"mes\": \"Julho\", \"numero\": 2, \"regiao\": \"Centro-Oeste\"}, {\"ano\": 2013, \"uf\": \"Distrito Federal\", \"genero\": \"Feminino\", \"mes\": \"Agosto\", \"numero\": 7, \"regiao\": \"Centro-Oeste\"}, {\"ano\": 2013, \"uf\": \"Distrito Federal\", \"genero\": \"Feminino\", \"mes\": \"Setembro\", \"numero\": 6, \"regiao\": \"Centro-Oeste\"}, {\"ano\": 2013, \"uf\": \"Distrito Federal\", \"genero\": \"Feminino\", \"mes\": \"Outubro\", \"numero\": 4, \"regiao\": \"Centro-Oeste\"}, {\"ano\": 2013, \"uf\": \"Distrito Federal\", \"genero\": \"Feminino\", \"mes\": \"Novembro\", \"numero\": 3, \"regiao\": \"Centro-Oeste\"}, {\"ano\": 2013, \"uf\": \"Distrito Federal\", \"genero\": \"Feminino\", \"mes\": \"Dezembro\", \"numero\": 3, \"regiao\": \"Centro-Oeste\"}, {\"ano\": 2015, \"uf\": \"Distrito Federal\", \"genero\": \"Masculino\", \"mes\": \"Janeiro\", \"numero\": 3, \"regiao\": \"Centro-Oeste\"}, {\"ano\": 2015, \"uf\": \"Distrito Federal\", \"genero\": \"Masculino\", \"mes\": \"Fevereiro\", \"numero\": 4, \"regiao\": \"Centro-Oeste\"}, {\"ano\": 2015, \"uf\": \"Distrito Federal\", \"genero\": \"Masculino\", \"mes\": \"Mar\\u00e7o\", \"numero\": 5, \"regiao\": \"Centro-Oeste\"}, {\"ano\": 2015, \"uf\": \"Distrito Federal\", \"genero\": \"Masculino\", \"mes\": \"Abril\", \"numero\": 6, \"regiao\": \"Centro-Oeste\"}, {\"ano\": 2015, \"uf\": \"Distrito Federal\", \"genero\": \"Masculino\", \"mes\": \"Maio\", \"numero\": 6, \"regiao\": \"Centro-Oeste\"}, {\"ano\": 2015, \"uf\": \"Distrito Federal\", \"genero\": \"Masculino\", \"mes\": \"Junho\", \"numero\": 4, \"regiao\": \"Centro-Oeste\"}, {\"ano\": 2015, \"uf\": \"Distrito Federal\", \"genero\": \"Masculino\", \"mes\": \"Julho\", \"numero\": 5, \"regiao\": \"Centro-Oeste\"}, {\"ano\": 2015, \"uf\": \"Distrito Federal\", \"genero\": \"Masculino\", \"mes\": \"Agosto\", \"numero\": 2, \"regiao\": \"Centro-Oeste\"}, {\"ano\": 2015, \"uf\": \"Distrito Federal\", \"genero\": \"Masculino\", \"mes\": \"Setembro\", \"numero\": 5, \"regiao\": \"Centro-Oeste\"}, {\"ano\": 2015, \"uf\": \"Distrito Federal\", \"genero\": \"Masculino\", \"mes\": \"Outubro\", \"numero\": 4, \"regiao\": \"Centro-Oeste\"}, {\"ano\": 2015, \"uf\": \"Distrito Federal\", \"genero\": \"Masculino\", \"mes\": \"Novembro\", \"numero\": 7, \"regiao\": \"Centro-Oeste\"}, {\"ano\": 2015, \"uf\": \"Distrito Federal\", \"genero\": \"Masculino\", \"mes\": \"Dezembro\", \"numero\": 5, \"regiao\": \"Centro-Oeste\"}, {\"ano\": 2016, \"uf\": \"Distrito Federal\", \"genero\": \"Masculino\", \"mes\": \"Janeiro\", \"numero\": 5, \"regiao\": \"Centro-Oeste\"}, {\"ano\": 2016, \"uf\": \"Distrito Federal\", \"genero\": \"Masculino\", \"mes\": \"Fevereiro\", \"numero\": 5, \"regiao\": \"Centro-Oeste\"}, {\"ano\": 2016, \"uf\": \"Distrito Federal\", \"genero\": \"Masculino\", \"mes\": \"Mar\\u00e7o\", \"numero\": 7, \"regiao\": \"Centro-Oeste\"}, {\"ano\": 2016, \"uf\": \"Distrito Federal\", \"genero\": \"Masculino\", \"mes\": \"Abril\", \"numero\": 6, \"regiao\": \"Centro-Oeste\"}, {\"ano\": 2016, \"uf\": \"Distrito Federal\", \"genero\": \"Masculino\", \"mes\": \"Maio\", \"numero\": 4, \"regiao\": \"Centro-Oeste\"}, {\"ano\": 2016, \"uf\": \"Distrito Federal\", \"genero\": \"Masculino\", \"mes\": \"Junho\", \"numero\": 7, \"regiao\": \"Centro-Oeste\"}, {\"ano\": 2016, \"uf\": \"Distrito Federal\", \"genero\": \"Masculino\", \"mes\": \"Julho\", \"numero\": 4, \"regiao\": \"Centro-Oeste\"}, {\"ano\": 2016, \"uf\": \"Distrito Federal\", \"genero\": \"Masculino\", \"mes\": \"Agosto\", \"numero\": 6, \"regiao\": \"Centro-Oeste\"}, {\"ano\": 2016, \"uf\": \"Distrito Federal\", \"genero\": \"Masculino\", \"mes\": \"Setembro\", \"numero\": 7, \"regiao\": \"Centro-Oeste\"}, {\"ano\": 2016, \"uf\": \"Distrito Federal\", \"genero\": \"Masculino\", \"mes\": \"Outubro\", \"numero\": 10, \"regiao\": \"Centro-Oeste\"}, {\"ano\": 2016, \"uf\": \"Distrito Federal\", \"genero\": \"Masculino\", \"mes\": \"Novembro\", \"numero\": 7, \"regiao\": \"Centro-Oeste\"}, {\"ano\": 2016, \"uf\": \"Distrito Federal\", \"genero\": \"Masculino\", \"mes\": \"Dezembro\", \"numero\": 4, \"regiao\": \"Centro-Oeste\"}, {\"ano\": 2017, \"uf\": \"Distrito Federal\", \"genero\": \"Masculino\", \"mes\": \"Janeiro\", \"numero\": 2, \"regiao\": \"Centro-Oeste\"}, {\"ano\": 2017, \"uf\": \"Distrito Federal\", \"genero\": \"Masculino\", \"mes\": \"Fevereiro\", \"numero\": 8, \"regiao\": \"Centro-Oeste\"}, {\"ano\": 2017, \"uf\": \"Distrito Federal\", \"genero\": \"Masculino\", \"mes\": \"Mar\\u00e7o\", \"numero\": 7, \"regiao\": \"Centro-Oeste\"}, {\"ano\": 2017, \"uf\": \"Distrito Federal\", \"genero\": \"Masculino\", \"mes\": \"Abril\", \"numero\": 8, \"regiao\": \"Centro-Oeste\"}, {\"ano\": 2017, \"uf\": \"Distrito Federal\", \"genero\": \"Masculino\", \"mes\": \"Maio\", \"numero\": 9, \"regiao\": \"Centro-Oeste\"}, {\"ano\": 2017, \"uf\": \"Distrito Federal\", \"genero\": \"Masculino\", \"mes\": \"Junho\", \"numero\": 8, \"regiao\": \"Centro-Oeste\"}, {\"ano\": 2017, \"uf\": \"Distrito Federal\", \"genero\": \"Masculino\", \"mes\": \"Julho\", \"numero\": 6, \"regiao\": \"Centro-Oeste\"}, {\"ano\": 2017, \"uf\": \"Distrito Federal\", \"genero\": \"Masculino\", \"mes\": \"Agosto\", \"numero\": 5, \"regiao\": \"Centro-Oeste\"}, {\"ano\": 2017, \"uf\": \"Distrito Federal\", \"genero\": \"Masculino\", \"mes\": \"Setembro\", \"numero\": 12, \"regiao\": \"Centro-Oeste\"}, {\"ano\": 2017, \"uf\": \"Distrito Federal\", \"genero\": \"Masculino\", \"mes\": \"Outubro\", \"numero\": 13, \"regiao\": \"Centro-Oeste\"}, {\"ano\": 2017, \"uf\": \"Distrito Federal\", \"genero\": \"Masculino\", \"mes\": \"Novembro\", \"numero\": 6, \"regiao\": \"Centro-Oeste\"}, {\"ano\": 2017, \"uf\": \"Distrito Federal\", \"genero\": \"Masculino\", \"mes\": \"Dezembro\", \"numero\": 5, \"regiao\": \"Centro-Oeste\"}, {\"ano\": 2018, \"uf\": \"Distrito Federal\", \"genero\": \"Masculino\", \"mes\": \"Janeiro\", \"numero\": 6, \"regiao\": \"Centro-Oeste\"}, {\"ano\": 2018, \"uf\": \"Distrito Federal\", \"genero\": \"Masculino\", \"mes\": \"Fevereiro\", \"numero\": 5, \"regiao\": \"Centro-Oeste\"}, {\"ano\": 2018, \"uf\": \"Distrito Federal\", \"genero\": \"Masculino\", \"mes\": \"Mar\\u00e7o\", \"numero\": 10, \"regiao\": \"Centro-Oeste\"}, {\"ano\": 2018, \"uf\": \"Distrito Federal\", \"genero\": \"Masculino\", \"mes\": \"Abril\", \"numero\": 9, \"regiao\": \"Centro-Oeste\"}, {\"ano\": 2018, \"uf\": \"Distrito Federal\", \"genero\": \"Masculino\", \"mes\": \"Maio\", \"numero\": 10, \"regiao\": \"Centro-Oeste\"}, {\"ano\": 2018, \"uf\": \"Distrito Federal\", \"genero\": \"Masculino\", \"mes\": \"Junho\", \"numero\": 8, \"regiao\": \"Centro-Oeste\"}, {\"ano\": 2018, \"uf\": \"Distrito Federal\", \"genero\": \"Masculino\", \"mes\": \"Julho\", \"numero\": 7, \"regiao\": \"Centro-Oeste\"}, {\"ano\": 2018, \"uf\": \"Distrito Federal\", \"genero\": \"Masculino\", \"mes\": \"Agosto\", \"numero\": 13, \"regiao\": \"Centro-Oeste\"}, {\"ano\": 2018, \"uf\": \"Distrito Federal\", \"genero\": \"Masculino\", \"mes\": \"Setembro\", \"numero\": 8, \"regiao\": \"Centro-Oeste\"}, {\"ano\": 2018, \"uf\": \"Distrito Federal\", \"genero\": \"Masculino\", \"mes\": \"Outubro\", \"numero\": 9, \"regiao\": \"Centro-Oeste\"}, {\"ano\": 2018, \"uf\": \"Distrito Federal\", \"genero\": \"Masculino\", \"mes\": \"Novembro\", \"numero\": 10, \"regiao\": \"Centro-Oeste\"}, {\"ano\": 2018, \"uf\": \"Distrito Federal\", \"genero\": \"Masculino\", \"mes\": \"Dezembro\", \"numero\": 43, \"regiao\": \"Centro-Oeste\"}, {\"ano\": 2019, \"uf\": \"Distrito Federal\", \"genero\": \"Masculino\", \"mes\": \"Janeiro\", \"numero\": 25, \"regiao\": \"Centro-Oeste\"}, {\"ano\": 2019, \"uf\": \"Distrito Federal\", \"genero\": \"Masculino\", \"mes\": \"Fevereiro\", \"numero\": 14, \"regiao\": \"Centro-Oeste\"}, {\"ano\": 2019, \"uf\": \"Distrito Federal\", \"genero\": \"Masculino\", \"mes\": \"Mar\\u00e7o\", \"numero\": 10, \"regiao\": \"Centro-Oeste\"}, {\"ano\": 2019, \"uf\": \"Distrito Federal\", \"genero\": \"Masculino\", \"mes\": \"Abril\", \"numero\": 14, \"regiao\": \"Centro-Oeste\"}, {\"ano\": 2019, \"uf\": \"Distrito Federal\", \"genero\": \"Masculino\", \"mes\": \"Maio\", \"numero\": 7, \"regiao\": \"Centro-Oeste\"}, {\"ano\": 2019, \"uf\": \"Distrito Federal\", \"genero\": \"Masculino\", \"mes\": \"Junho\", \"numero\": 9, \"regiao\": \"Centro-Oeste\"}, {\"ano\": 2019, \"uf\": \"Distrito Federal\", \"genero\": \"Masculino\", \"mes\": \"Julho\", \"numero\": 2, \"regiao\": \"Centro-Oeste\"}, {\"ano\": 2019, \"uf\": \"Distrito Federal\", \"genero\": \"Masculino\", \"mes\": \"Agosto\", \"numero\": 10, \"regiao\": \"Centro-Oeste\"}, {\"ano\": 2019, \"uf\": \"Distrito Federal\", \"genero\": \"Masculino\", \"mes\": \"Setembro\", \"numero\": 13, \"regiao\": \"Centro-Oeste\"}, {\"ano\": 2019, \"uf\": \"Distrito Federal\", \"genero\": \"Masculino\", \"mes\": \"Outubro\", \"numero\": 9, \"regiao\": \"Centro-Oeste\"}, {\"ano\": 2019, \"uf\": \"Distrito Federal\", \"genero\": \"Masculino\", \"mes\": \"Novembro\", \"numero\": 9, \"regiao\": \"Centro-Oeste\"}, {\"ano\": 2019, \"uf\": \"Distrito Federal\", \"genero\": \"Masculino\", \"mes\": \"Dezembro\", \"numero\": 10, \"regiao\": \"Centro-Oeste\"}, {\"ano\": 2015, \"uf\": \"Distrito Federal\", \"genero\": \"Feminino\", \"mes\": \"Janeiro\", \"numero\": 2, \"regiao\": \"Centro-Oeste\"}, {\"ano\": 2015, \"uf\": \"Distrito Federal\", \"genero\": \"Feminino\", \"mes\": \"Fevereiro\", \"numero\": 2, \"regiao\": \"Centro-Oeste\"}, {\"ano\": 2015, \"uf\": \"Distrito Federal\", \"genero\": \"Feminino\", \"mes\": \"Mar\\u00e7o\", \"numero\": 5, \"regiao\": \"Centro-Oeste\"}, {\"ano\": 2015, \"uf\": \"Distrito Federal\", \"genero\": \"Feminino\", \"mes\": \"Abril\", \"numero\": 7, \"regiao\": \"Centro-Oeste\"}, {\"ano\": 2015, \"uf\": \"Distrito Federal\", \"genero\": \"Feminino\", \"mes\": \"Maio\", \"numero\": 4, \"regiao\": \"Centro-Oeste\"}, {\"ano\": 2015, \"uf\": \"Distrito Federal\", \"genero\": \"Feminino\", \"mes\": \"Junho\", \"numero\": 16, \"regiao\": \"Centro-Oeste\"}, {\"ano\": 2015, \"uf\": \"Distrito Federal\", \"genero\": \"Feminino\", \"mes\": \"Julho\", \"numero\": 5, \"regiao\": \"Centro-Oeste\"}, {\"ano\": 2015, \"uf\": \"Distrito Federal\", \"genero\": \"Feminino\", \"mes\": \"Agosto\", \"numero\": 2, \"regiao\": \"Centro-Oeste\"}, {\"ano\": 2015, \"uf\": \"Distrito Federal\", \"genero\": \"Feminino\", \"mes\": \"Setembro\", \"numero\": 3, \"regiao\": \"Centro-Oeste\"}, {\"ano\": 2015, \"uf\": \"Distrito Federal\", \"genero\": \"Feminino\", \"mes\": \"Outubro\", \"numero\": 8, \"regiao\": \"Centro-Oeste\"}, {\"ano\": 2015, \"uf\": \"Distrito Federal\", \"genero\": \"Feminino\", \"mes\": \"Novembro\", \"numero\": 5, \"regiao\": \"Centro-Oeste\"}, {\"ano\": 2015, \"uf\": \"Distrito Federal\", \"genero\": \"Feminino\", \"mes\": \"Dezembro\", \"numero\": 5, \"regiao\": \"Centro-Oeste\"}, {\"ano\": 2016, \"uf\": \"Distrito Federal\", \"genero\": \"Feminino\", \"mes\": \"Janeiro\", \"numero\": 8, \"regiao\": \"Centro-Oeste\"}, {\"ano\": 2016, \"uf\": \"Distrito Federal\", \"genero\": \"Feminino\", \"mes\": \"Fevereiro\", \"numero\": 1, \"regiao\": \"Centro-Oeste\"}, {\"ano\": 2016, \"uf\": \"Distrito Federal\", \"genero\": \"Feminino\", \"mes\": \"Mar\\u00e7o\", \"numero\": 6, \"regiao\": \"Centro-Oeste\"}, {\"ano\": 2016, \"uf\": \"Distrito Federal\", \"genero\": \"Feminino\", \"mes\": \"Abril\", \"numero\": 2, \"regiao\": \"Centro-Oeste\"}, {\"ano\": 2016, \"uf\": \"Distrito Federal\", \"genero\": \"Feminino\", \"mes\": \"Maio\", \"numero\": 5, \"regiao\": \"Centro-Oeste\"}, {\"ano\": 2016, \"uf\": \"Distrito Federal\", \"genero\": \"Feminino\", \"mes\": \"Junho\", \"numero\": 2, \"regiao\": \"Centro-Oeste\"}, {\"ano\": 2016, \"uf\": \"Distrito Federal\", \"genero\": \"Feminino\", \"mes\": \"Julho\", \"numero\": 6, \"regiao\": \"Centro-Oeste\"}, {\"ano\": 2016, \"uf\": \"Distrito Federal\", \"genero\": \"Feminino\", \"mes\": \"Agosto\", \"numero\": 7, \"regiao\": \"Centro-Oeste\"}, {\"ano\": 2016, \"uf\": \"Distrito Federal\", \"genero\": \"Feminino\", \"mes\": \"Setembro\", \"numero\": 11, \"regiao\": \"Centro-Oeste\"}, {\"ano\": 2016, \"uf\": \"Distrito Federal\", \"genero\": \"Feminino\", \"mes\": \"Outubro\", \"numero\": 9, \"regiao\": \"Centro-Oeste\"}, {\"ano\": 2016, \"uf\": \"Distrito Federal\", \"genero\": \"Feminino\", \"mes\": \"Novembro\", \"numero\": 9, \"regiao\": \"Centro-Oeste\"}, {\"ano\": 2016, \"uf\": \"Distrito Federal\", \"genero\": \"Feminino\", \"mes\": \"Dezembro\", \"numero\": 7, \"regiao\": \"Centro-Oeste\"}, {\"ano\": 2017, \"uf\": \"Distrito Federal\", \"genero\": \"Feminino\", \"mes\": \"Janeiro\", \"numero\": 6, \"regiao\": \"Centro-Oeste\"}, {\"ano\": 2017, \"uf\": \"Distrito Federal\", \"genero\": \"Feminino\", \"mes\": \"Fevereiro\", \"numero\": 4, \"regiao\": \"Centro-Oeste\"}, {\"ano\": 2017, \"uf\": \"Distrito Federal\", \"genero\": \"Feminino\", \"mes\": \"Mar\\u00e7o\", \"numero\": 5, \"regiao\": \"Centro-Oeste\"}, {\"ano\": 2017, \"uf\": \"Distrito Federal\", \"genero\": \"Feminino\", \"mes\": \"Abril\", \"numero\": 8, \"regiao\": \"Centro-Oeste\"}, {\"ano\": 2017, \"uf\": \"Distrito Federal\", \"genero\": \"Feminino\", \"mes\": \"Maio\", \"numero\": 8, \"regiao\": \"Centro-Oeste\"}, {\"ano\": 2017, \"uf\": \"Distrito Federal\", \"genero\": \"Feminino\", \"mes\": \"Junho\", \"numero\": 7, \"regiao\": \"Centro-Oeste\"}, {\"ano\": 2017, \"uf\": \"Distrito Federal\", \"genero\": \"Feminino\", \"mes\": \"Julho\", \"numero\": 8, \"regiao\": \"Centro-Oeste\"}, {\"ano\": 2017, \"uf\": \"Distrito Federal\", \"genero\": \"Feminino\", \"mes\": \"Agosto\", \"numero\": 5, \"regiao\": \"Centro-Oeste\"}, {\"ano\": 2017, \"uf\": \"Distrito Federal\", \"genero\": \"Feminino\", \"mes\": \"Setembro\", \"numero\": 9, \"regiao\": \"Centro-Oeste\"}, {\"ano\": 2017, \"uf\": \"Distrito Federal\", \"genero\": \"Feminino\", \"mes\": \"Outubro\", \"numero\": 6, \"regiao\": \"Centro-Oeste\"}, {\"ano\": 2017, \"uf\": \"Distrito Federal\", \"genero\": \"Feminino\", \"mes\": \"Novembro\", \"numero\": 10, \"regiao\": \"Centro-Oeste\"}, {\"ano\": 2017, \"uf\": \"Distrito Federal\", \"genero\": \"Feminino\", \"mes\": \"Dezembro\", \"numero\": 6, \"regiao\": \"Centro-Oeste\"}, {\"ano\": 2018, \"uf\": \"Distrito Federal\", \"genero\": \"Feminino\", \"mes\": \"Janeiro\", \"numero\": 11, \"regiao\": \"Centro-Oeste\"}, {\"ano\": 2018, \"uf\": \"Distrito Federal\", \"genero\": \"Feminino\", \"mes\": \"Fevereiro\", \"numero\": 11, \"regiao\": \"Centro-Oeste\"}, {\"ano\": 2018, \"uf\": \"Distrito Federal\", \"genero\": \"Feminino\", \"mes\": \"Mar\\u00e7o\", \"numero\": 7, \"regiao\": \"Centro-Oeste\"}, {\"ano\": 2018, \"uf\": \"Distrito Federal\", \"genero\": \"Feminino\", \"mes\": \"Abril\", \"numero\": 6, \"regiao\": \"Centro-Oeste\"}, {\"ano\": 2018, \"uf\": \"Distrito Federal\", \"genero\": \"Feminino\", \"mes\": \"Maio\", \"numero\": 6, \"regiao\": \"Centro-Oeste\"}, {\"ano\": 2018, \"uf\": \"Distrito Federal\", \"genero\": \"Feminino\", \"mes\": \"Junho\", \"numero\": 11, \"regiao\": \"Centro-Oeste\"}, {\"ano\": 2018, \"uf\": \"Distrito Federal\", \"genero\": \"Feminino\", \"mes\": \"Julho\", \"numero\": 8, \"regiao\": \"Centro-Oeste\"}, {\"ano\": 2018, \"uf\": \"Distrito Federal\", \"genero\": \"Feminino\", \"mes\": \"Agosto\", \"numero\": 5, \"regiao\": \"Centro-Oeste\"}, {\"ano\": 2018, \"uf\": \"Distrito Federal\", \"genero\": \"Feminino\", \"mes\": \"Setembro\", \"numero\": 9, \"regiao\": \"Centro-Oeste\"}, {\"ano\": 2018, \"uf\": \"Distrito Federal\", \"genero\": \"Feminino\", \"mes\": \"Outubro\", \"numero\": 9, \"regiao\": \"Centro-Oeste\"}, {\"ano\": 2018, \"uf\": \"Distrito Federal\", \"genero\": \"Feminino\", \"mes\": \"Novembro\", \"numero\": 11, \"regiao\": \"Centro-Oeste\"}, {\"ano\": 2018, \"uf\": \"Distrito Federal\", \"genero\": \"Feminino\", \"mes\": \"Dezembro\", \"numero\": 42, \"regiao\": \"Centro-Oeste\"}, {\"ano\": 2019, \"uf\": \"Distrito Federal\", \"genero\": \"Feminino\", \"mes\": \"Janeiro\", \"numero\": 26, \"regiao\": \"Centro-Oeste\"}, {\"ano\": 2019, \"uf\": \"Distrito Federal\", \"genero\": \"Feminino\", \"mes\": \"Fevereiro\", \"numero\": 22, \"regiao\": \"Centro-Oeste\"}, {\"ano\": 2019, \"uf\": \"Distrito Federal\", \"genero\": \"Feminino\", \"mes\": \"Mar\\u00e7o\", \"numero\": 16, \"regiao\": \"Centro-Oeste\"}, {\"ano\": 2019, \"uf\": \"Distrito Federal\", \"genero\": \"Feminino\", \"mes\": \"Abril\", \"numero\": 11, \"regiao\": \"Centro-Oeste\"}, {\"ano\": 2019, \"uf\": \"Distrito Federal\", \"genero\": \"Feminino\", \"mes\": \"Maio\", \"numero\": 9, \"regiao\": \"Centro-Oeste\"}, {\"ano\": 2019, \"uf\": \"Distrito Federal\", \"genero\": \"Feminino\", \"mes\": \"Junho\", \"numero\": 7, \"regiao\": \"Centro-Oeste\"}, {\"ano\": 2019, \"uf\": \"Distrito Federal\", \"genero\": \"Feminino\", \"mes\": \"Julho\", \"numero\": 10, \"regiao\": \"Centro-Oeste\"}, {\"ano\": 2019, \"uf\": \"Distrito Federal\", \"genero\": \"Feminino\", \"mes\": \"Agosto\", \"numero\": 7, \"regiao\": \"Centro-Oeste\"}, {\"ano\": 2019, \"uf\": \"Distrito Federal\", \"genero\": \"Feminino\", \"mes\": \"Setembro\", \"numero\": 9, \"regiao\": \"Centro-Oeste\"}, {\"ano\": 2019, \"uf\": \"Distrito Federal\", \"genero\": \"Feminino\", \"mes\": \"Outubro\", \"numero\": 13, \"regiao\": \"Centro-Oeste\"}, {\"ano\": 2019, \"uf\": \"Distrito Federal\", \"genero\": \"Feminino\", \"mes\": \"Novembro\", \"numero\": 11, \"regiao\": \"Centro-Oeste\"}, {\"ano\": 2019, \"uf\": \"Distrito Federal\", \"genero\": \"Feminino\", \"mes\": \"Dezembro\", \"numero\": 7, \"regiao\": \"Centro-Oeste\"}]}}, {\"mode\": \"vega-lite\"});\n",
              "</script>"
            ]
          },
          "metadata": {},
          "execution_count": 165
        }
      ]
    },
    {
      "cell_type": "code",
      "metadata": {
        "id": "fIidZyWGkgrt",
        "colab": {
          "base_uri": "https://localhost:8080/",
          "height": 206
        },
        "outputId": "cb9592e7-27f6-463c-8fa6-0c7de8eb3d9d"
      },
      "source": [
        "lgbt_casamento_regioes_genero = lgbt_casamento_regioes.groupby(['regiao','genero'])['numero'].sum().reset_index()\n",
        "lgbt_casamento_regioes_genero.head()"
      ],
      "execution_count": 68,
      "outputs": [
        {
          "output_type": "execute_result",
          "data": {
            "text/html": [
              "<div>\n",
              "<style scoped>\n",
              "    .dataframe tbody tr th:only-of-type {\n",
              "        vertical-align: middle;\n",
              "    }\n",
              "\n",
              "    .dataframe tbody tr th {\n",
              "        vertical-align: top;\n",
              "    }\n",
              "\n",
              "    .dataframe thead th {\n",
              "        text-align: right;\n",
              "    }\n",
              "</style>\n",
              "<table border=\"1\" class=\"dataframe\">\n",
              "  <thead>\n",
              "    <tr style=\"text-align: right;\">\n",
              "      <th></th>\n",
              "      <th>regiao</th>\n",
              "      <th>genero</th>\n",
              "      <th>numero</th>\n",
              "    </tr>\n",
              "  </thead>\n",
              "  <tbody>\n",
              "    <tr>\n",
              "      <th>0</th>\n",
              "      <td>Centro-Oeste</td>\n",
              "      <td>Feminino</td>\n",
              "      <td>1759</td>\n",
              "    </tr>\n",
              "    <tr>\n",
              "      <th>1</th>\n",
              "      <td>Centro-Oeste</td>\n",
              "      <td>Masculino</td>\n",
              "      <td>1435</td>\n",
              "    </tr>\n",
              "    <tr>\n",
              "      <th>2</th>\n",
              "      <td>Nordeste</td>\n",
              "      <td>Feminino</td>\n",
              "      <td>3794</td>\n",
              "    </tr>\n",
              "    <tr>\n",
              "      <th>3</th>\n",
              "      <td>Nordeste</td>\n",
              "      <td>Masculino</td>\n",
              "      <td>2785</td>\n",
              "    </tr>\n",
              "    <tr>\n",
              "      <th>4</th>\n",
              "      <td>Norte</td>\n",
              "      <td>Feminino</td>\n",
              "      <td>869</td>\n",
              "    </tr>\n",
              "  </tbody>\n",
              "</table>\n",
              "</div>"
            ],
            "text/plain": [
              "         regiao     genero  numero\n",
              "0  Centro-Oeste   Feminino    1759\n",
              "1  Centro-Oeste  Masculino    1435\n",
              "2      Nordeste   Feminino    3794\n",
              "3      Nordeste  Masculino    2785\n",
              "4         Norte   Feminino     869"
            ]
          },
          "metadata": {},
          "execution_count": 68
        }
      ]
    },
    {
      "cell_type": "code",
      "metadata": {
        "id": "he_A09-ukUdK",
        "colab": {
          "base_uri": "https://localhost:8080/",
          "height": 469
        },
        "outputId": "d9940921-88d4-438c-cd2c-0cf96043fb99"
      },
      "source": [
        "# gráfico para mostrar os dados citados acima\n",
        "# referência https://altair-viz.github.io/gallery/grouped_bar_chart.html\n",
        "alt.Chart(lgbt_casamento_regioes_genero).mark_bar().encode(\n",
        "    x = alt.X('genero', title = \"Gênero\"),\n",
        "    y = alt.Y('numero', title = 'Nº de casamentos'),\n",
        "    color = alt.Color('genero', title = 'Gênero'),\n",
        "    column = alt.Column('regiao:N', title = 'Região'),\n",
        "    tooltip = ['regiao', 'genero', 'numero']\n",
        ").properties(title = 'Veja, por região, o total de casamentos de 2013 a 2019', width=100)"
      ],
      "execution_count": 171,
      "outputs": [
        {
          "output_type": "execute_result",
          "data": {
            "text/plain": [
              "alt.Chart(...)"
            ],
            "text/html": [
              "\n",
              "<div id=\"altair-viz-d08ea5a8bd8140a0bea51e185077a1e2\"></div>\n",
              "<script type=\"text/javascript\">\n",
              "  (function(spec, embedOpt){\n",
              "    let outputDiv = document.currentScript.previousElementSibling;\n",
              "    if (outputDiv.id !== \"altair-viz-d08ea5a8bd8140a0bea51e185077a1e2\") {\n",
              "      outputDiv = document.getElementById(\"altair-viz-d08ea5a8bd8140a0bea51e185077a1e2\");\n",
              "    }\n",
              "    const paths = {\n",
              "      \"vega\": \"https://cdn.jsdelivr.net/npm//vega@5?noext\",\n",
              "      \"vega-lib\": \"https://cdn.jsdelivr.net/npm//vega-lib?noext\",\n",
              "      \"vega-lite\": \"https://cdn.jsdelivr.net/npm//vega-lite@4.8.1?noext\",\n",
              "      \"vega-embed\": \"https://cdn.jsdelivr.net/npm//vega-embed@6?noext\",\n",
              "    };\n",
              "\n",
              "    function loadScript(lib) {\n",
              "      return new Promise(function(resolve, reject) {\n",
              "        var s = document.createElement('script');\n",
              "        s.src = paths[lib];\n",
              "        s.async = true;\n",
              "        s.onload = () => resolve(paths[lib]);\n",
              "        s.onerror = () => reject(`Error loading script: ${paths[lib]}`);\n",
              "        document.getElementsByTagName(\"head\")[0].appendChild(s);\n",
              "      });\n",
              "    }\n",
              "\n",
              "    function showError(err) {\n",
              "      outputDiv.innerHTML = `<div class=\"error\" style=\"color:red;\">${err}</div>`;\n",
              "      throw err;\n",
              "    }\n",
              "\n",
              "    function displayChart(vegaEmbed) {\n",
              "      vegaEmbed(outputDiv, spec, embedOpt)\n",
              "        .catch(err => showError(`Javascript Error: ${err.message}<br>This usually means there's a typo in your chart specification. See the javascript console for the full traceback.`));\n",
              "    }\n",
              "\n",
              "    if(typeof define === \"function\" && define.amd) {\n",
              "      requirejs.config({paths});\n",
              "      require([\"vega-embed\"], displayChart, err => showError(`Error loading script: ${err.message}`));\n",
              "    } else if (typeof vegaEmbed === \"function\") {\n",
              "      displayChart(vegaEmbed);\n",
              "    } else {\n",
              "      loadScript(\"vega\")\n",
              "        .then(() => loadScript(\"vega-lite\"))\n",
              "        .then(() => loadScript(\"vega-embed\"))\n",
              "        .catch(showError)\n",
              "        .then(() => displayChart(vegaEmbed));\n",
              "    }\n",
              "  })({\"config\": {\"view\": {\"continuousWidth\": 400, \"continuousHeight\": 300}}, \"data\": {\"name\": \"data-20a92f6b0250741e26b9d3aa49de2c30\"}, \"mark\": \"bar\", \"encoding\": {\"color\": {\"type\": \"nominal\", \"field\": \"genero\", \"title\": \"G\\u00eanero\"}, \"column\": {\"type\": \"nominal\", \"field\": \"regiao\", \"title\": \"Regi\\u00e3o\"}, \"tooltip\": [{\"type\": \"nominal\", \"field\": \"regiao\"}, {\"type\": \"nominal\", \"field\": \"genero\"}, {\"type\": \"quantitative\", \"field\": \"numero\"}], \"x\": {\"type\": \"nominal\", \"field\": \"genero\", \"title\": \"G\\u00eanero\"}, \"y\": {\"type\": \"quantitative\", \"field\": \"numero\", \"title\": \"N\\u00ba de casamentos\"}}, \"title\": \"Veja, por regi\\u00e3o, o total de casamentos de 2013 a 2019\", \"width\": 100, \"$schema\": \"https://vega.github.io/schema/vega-lite/v4.8.1.json\", \"datasets\": {\"data-20a92f6b0250741e26b9d3aa49de2c30\": [{\"regiao\": \"Centro-Oeste\", \"genero\": \"Feminino\", \"numero\": 1759}, {\"regiao\": \"Centro-Oeste\", \"genero\": \"Masculino\", \"numero\": 1435}, {\"regiao\": \"Nordeste\", \"genero\": \"Feminino\", \"numero\": 3794}, {\"regiao\": \"Nordeste\", \"genero\": \"Masculino\", \"numero\": 2785}, {\"regiao\": \"Norte\", \"genero\": \"Feminino\", \"numero\": 869}, {\"regiao\": \"Norte\", \"genero\": \"Masculino\", \"numero\": 653}, {\"regiao\": \"Sudeste\", \"genero\": \"Feminino\", \"numero\": 14994}, {\"regiao\": \"Sudeste\", \"genero\": \"Masculino\", \"numero\": 11294}, {\"regiao\": \"Sul\", \"genero\": \"Feminino\", \"numero\": 3175}, {\"regiao\": \"Sul\", \"genero\": \"Masculino\", \"numero\": 3213}]}}, {\"mode\": \"vega-lite\"});\n",
              "</script>"
            ]
          },
          "metadata": {},
          "execution_count": 171
        }
      ]
    },
    {
      "cell_type": "markdown",
      "metadata": {
        "id": "3CmGjaoCmN8z"
      },
      "source": [
        "### Considerando a população adulta, quais estados têm as maiores e menores proporções de casamentos LGBTs? \n",
        "\n",
        "Este trecho da análise depende de alguns cruzamentos para chegarmos ao resultado\n"
      ]
    },
    {
      "cell_type": "code",
      "metadata": {
        "id": "wlVeC5wNmPXv"
      },
      "source": [
        "# arquivo com o nome da uf e a respectiva sigla\n",
        "sigla_uf = pd.read_csv('https://raw.githubusercontent.com/kelvins/Municipios-Brasileiros/main/csv/estados.csv')"
      ],
      "execution_count": 70,
      "outputs": []
    },
    {
      "cell_type": "code",
      "metadata": {
        "id": "0b96sl8hmYGs",
        "colab": {
          "base_uri": "https://localhost:8080/",
          "height": 238
        },
        "outputId": "e3cc07b9-4287-418a-8423-c987017a1096"
      },
      "source": [
        "# o arquivo com a população adulta usa a sigla, e não o nome da uf\n",
        "# por isso, vamos cruzar o dataframe principal com o dataframe acima \n",
        "# assim, o novo dataframe terá a sigla para criar com o CSV da população adulta\n",
        "sigla_uf_lgbt_casamento = lgbt_casamento.merge(sigla_uf, how = 'left', left_on = 'uf', right_on = 'nome')\n",
        "sigla_uf_lgbt_casamento = sigla_uf_lgbt_casamento.drop(['uf_x', 'codigo_uf', 'latitude', 'longitude'], axis=1)\n",
        "sigla_uf_lgbt_casamento = sigla_uf_lgbt_casamento.rename(columns={'uf_y':'uf', 'nome': 'nome_uf'})\n",
        "sigla_uf_lgbt_casamento.head(6)"
      ],
      "execution_count": 97,
      "outputs": [
        {
          "output_type": "execute_result",
          "data": {
            "text/html": [
              "<div>\n",
              "<style scoped>\n",
              "    .dataframe tbody tr th:only-of-type {\n",
              "        vertical-align: middle;\n",
              "    }\n",
              "\n",
              "    .dataframe tbody tr th {\n",
              "        vertical-align: top;\n",
              "    }\n",
              "\n",
              "    .dataframe thead th {\n",
              "        text-align: right;\n",
              "    }\n",
              "</style>\n",
              "<table border=\"1\" class=\"dataframe\">\n",
              "  <thead>\n",
              "    <tr style=\"text-align: right;\">\n",
              "      <th></th>\n",
              "      <th>ano</th>\n",
              "      <th>genero</th>\n",
              "      <th>mes</th>\n",
              "      <th>numero</th>\n",
              "      <th>uf</th>\n",
              "      <th>nome_uf</th>\n",
              "    </tr>\n",
              "  </thead>\n",
              "  <tbody>\n",
              "    <tr>\n",
              "      <th>0</th>\n",
              "      <td>2014</td>\n",
              "      <td>Masculino</td>\n",
              "      <td>Janeiro</td>\n",
              "      <td>0</td>\n",
              "      <td>RO</td>\n",
              "      <td>Rondônia</td>\n",
              "    </tr>\n",
              "    <tr>\n",
              "      <th>1</th>\n",
              "      <td>2014</td>\n",
              "      <td>Masculino</td>\n",
              "      <td>Fevereiro</td>\n",
              "      <td>0</td>\n",
              "      <td>RO</td>\n",
              "      <td>Rondônia</td>\n",
              "    </tr>\n",
              "    <tr>\n",
              "      <th>2</th>\n",
              "      <td>2014</td>\n",
              "      <td>Masculino</td>\n",
              "      <td>Março</td>\n",
              "      <td>0</td>\n",
              "      <td>RO</td>\n",
              "      <td>Rondônia</td>\n",
              "    </tr>\n",
              "    <tr>\n",
              "      <th>3</th>\n",
              "      <td>2014</td>\n",
              "      <td>Masculino</td>\n",
              "      <td>Abril</td>\n",
              "      <td>0</td>\n",
              "      <td>RO</td>\n",
              "      <td>Rondônia</td>\n",
              "    </tr>\n",
              "    <tr>\n",
              "      <th>4</th>\n",
              "      <td>2014</td>\n",
              "      <td>Masculino</td>\n",
              "      <td>Maio</td>\n",
              "      <td>0</td>\n",
              "      <td>RO</td>\n",
              "      <td>Rondônia</td>\n",
              "    </tr>\n",
              "    <tr>\n",
              "      <th>5</th>\n",
              "      <td>2014</td>\n",
              "      <td>Masculino</td>\n",
              "      <td>Junho</td>\n",
              "      <td>0</td>\n",
              "      <td>RO</td>\n",
              "      <td>Rondônia</td>\n",
              "    </tr>\n",
              "  </tbody>\n",
              "</table>\n",
              "</div>"
            ],
            "text/plain": [
              "    ano     genero        mes  numero  uf   nome_uf\n",
              "0  2014  Masculino    Janeiro       0  RO  Rondônia\n",
              "1  2014  Masculino  Fevereiro       0  RO  Rondônia\n",
              "2  2014  Masculino      Março       0  RO  Rondônia\n",
              "3  2014  Masculino      Abril       0  RO  Rondônia\n",
              "4  2014  Masculino       Maio       0  RO  Rondônia\n",
              "5  2014  Masculino      Junho       0  RO  Rondônia"
            ]
          },
          "metadata": {},
          "execution_count": 97
        }
      ]
    },
    {
      "cell_type": "code",
      "metadata": {
        "id": "a9nTxOh5maZ-",
        "colab": {
          "base_uri": "https://localhost:8080/"
        },
        "outputId": "54349f64-ecc9-4a57-9274-9a6473ea67ce"
      },
      "source": [
        "ano_uf_lgbt_casamento = sigla_uf_lgbt_casamento.groupby(['genero', 'ano', 'uf'])['numero'].sum().sort_values(ascending=False)\n",
        "ano_uf_lgbt_casamento.head(6)"
      ],
      "execution_count": 72,
      "outputs": [
        {
          "output_type": "execute_result",
          "data": {
            "text/plain": [
              "genero     ano   uf\n",
              "Feminino   2018  SP    2445\n",
              "           2019  SP    2120\n",
              "Masculino  2018  SP    1655\n",
              "Feminino   2017  SP    1495\n",
              "Masculino  2019  SP    1453\n",
              "Feminino   2016  SP    1202\n",
              "Name: numero, dtype: int64"
            ]
          },
          "metadata": {},
          "execution_count": 72
        }
      ]
    },
    {
      "cell_type": "code",
      "metadata": {
        "id": "s7t2htB7mijx"
      },
      "source": [
        "# os dados são do IBGE e tratam das pessoas com 15 anos ou mais \n",
        "# aqui chamamos esse grupo de 'população adulta'\n",
        "# para casar no Brasil, a pessoa precisa ter a partir de 16 anos\n",
        "# mas o grupo etário dessa idade, para o IBGE, é de 15-19 anos\n",
        "pop_adulta = pd.read_csv('https://raw.githubusercontent.com/gabrielacaesar/lgbt_casamento/main/data/pop_adulta.csv')"
      ],
      "execution_count": 74,
      "outputs": []
    },
    {
      "cell_type": "code",
      "metadata": {
        "id": "T9QuS0n5mkq1",
        "colab": {
          "base_uri": "https://localhost:8080/",
          "height": 112
        },
        "outputId": "b4ae947a-1fa1-4a53-e93d-8f0b0b07eab1"
      },
      "source": [
        "# padronizando gênero para ficar igual ao do csv lgbt_casamento\n",
        "pop_adulta['genero'] = pop_adulta['genero'].replace(['Mulher'],'Feminino').replace(['Homem'],'Masculino')\n",
        "pop_adulta.head(2)"
      ],
      "execution_count": 75,
      "outputs": [
        {
          "output_type": "execute_result",
          "data": {
            "text/html": [
              "<div>\n",
              "<style scoped>\n",
              "    .dataframe tbody tr th:only-of-type {\n",
              "        vertical-align: middle;\n",
              "    }\n",
              "\n",
              "    .dataframe tbody tr th {\n",
              "        vertical-align: top;\n",
              "    }\n",
              "\n",
              "    .dataframe thead th {\n",
              "        text-align: right;\n",
              "    }\n",
              "</style>\n",
              "<table border=\"1\" class=\"dataframe\">\n",
              "  <thead>\n",
              "    <tr style=\"text-align: right;\">\n",
              "      <th></th>\n",
              "      <th>genero</th>\n",
              "      <th>ano</th>\n",
              "      <th>pop_adulta</th>\n",
              "      <th>uf</th>\n",
              "    </tr>\n",
              "  </thead>\n",
              "  <tbody>\n",
              "    <tr>\n",
              "      <th>0</th>\n",
              "      <td>Masculino</td>\n",
              "      <td>2013</td>\n",
              "      <td>265626</td>\n",
              "      <td>AC</td>\n",
              "    </tr>\n",
              "    <tr>\n",
              "      <th>1</th>\n",
              "      <td>Masculino</td>\n",
              "      <td>2014</td>\n",
              "      <td>272692</td>\n",
              "      <td>AC</td>\n",
              "    </tr>\n",
              "  </tbody>\n",
              "</table>\n",
              "</div>"
            ],
            "text/plain": [
              "      genero   ano  pop_adulta  uf\n",
              "0  Masculino  2013      265626  AC\n",
              "1  Masculino  2014      272692  AC"
            ]
          },
          "metadata": {},
          "execution_count": 75
        }
      ]
    },
    {
      "cell_type": "code",
      "metadata": {
        "id": "2zd1NUjYmmiv",
        "colab": {
          "base_uri": "https://localhost:8080/",
          "height": 206
        },
        "outputId": "ee8b2ade-2bb1-4f82-9b73-bbd72aad605e"
      },
      "source": [
        "pop_lgbt_casamento = pd.merge(ano_uf_lgbt_casamento, pop_adulta, how = 'left', on = ['ano', 'genero', 'uf'])\n",
        "pop_lgbt_casamento.head(5)"
      ],
      "execution_count": 76,
      "outputs": [
        {
          "output_type": "execute_result",
          "data": {
            "text/html": [
              "<div>\n",
              "<style scoped>\n",
              "    .dataframe tbody tr th:only-of-type {\n",
              "        vertical-align: middle;\n",
              "    }\n",
              "\n",
              "    .dataframe tbody tr th {\n",
              "        vertical-align: top;\n",
              "    }\n",
              "\n",
              "    .dataframe thead th {\n",
              "        text-align: right;\n",
              "    }\n",
              "</style>\n",
              "<table border=\"1\" class=\"dataframe\">\n",
              "  <thead>\n",
              "    <tr style=\"text-align: right;\">\n",
              "      <th></th>\n",
              "      <th>ano</th>\n",
              "      <th>genero</th>\n",
              "      <th>uf</th>\n",
              "      <th>numero</th>\n",
              "      <th>pop_adulta</th>\n",
              "    </tr>\n",
              "  </thead>\n",
              "  <tbody>\n",
              "    <tr>\n",
              "      <th>0</th>\n",
              "      <td>2018</td>\n",
              "      <td>Feminino</td>\n",
              "      <td>SP</td>\n",
              "      <td>2445</td>\n",
              "      <td>18915105</td>\n",
              "    </tr>\n",
              "    <tr>\n",
              "      <th>1</th>\n",
              "      <td>2019</td>\n",
              "      <td>Feminino</td>\n",
              "      <td>SP</td>\n",
              "      <td>2120</td>\n",
              "      <td>19109416</td>\n",
              "    </tr>\n",
              "    <tr>\n",
              "      <th>2</th>\n",
              "      <td>2018</td>\n",
              "      <td>Masculino</td>\n",
              "      <td>SP</td>\n",
              "      <td>1655</td>\n",
              "      <td>17569093</td>\n",
              "    </tr>\n",
              "    <tr>\n",
              "      <th>3</th>\n",
              "      <td>2017</td>\n",
              "      <td>Feminino</td>\n",
              "      <td>SP</td>\n",
              "      <td>1495</td>\n",
              "      <td>18716547</td>\n",
              "    </tr>\n",
              "    <tr>\n",
              "      <th>4</th>\n",
              "      <td>2019</td>\n",
              "      <td>Masculino</td>\n",
              "      <td>SP</td>\n",
              "      <td>1453</td>\n",
              "      <td>17760876</td>\n",
              "    </tr>\n",
              "  </tbody>\n",
              "</table>\n",
              "</div>"
            ],
            "text/plain": [
              "    ano     genero  uf  numero  pop_adulta\n",
              "0  2018   Feminino  SP    2445    18915105\n",
              "1  2019   Feminino  SP    2120    19109416\n",
              "2  2018  Masculino  SP    1655    17569093\n",
              "3  2017   Feminino  SP    1495    18716547\n",
              "4  2019  Masculino  SP    1453    17760876"
            ]
          },
          "metadata": {},
          "execution_count": 76
        }
      ]
    },
    {
      "cell_type": "code",
      "metadata": {
        "id": "loVz80WkmoPQ",
        "colab": {
          "base_uri": "https://localhost:8080/",
          "height": 424
        },
        "outputId": "815c98b2-d81d-479c-b351-00f76082bc1e"
      },
      "source": [
        "### criamos a taxa de casamento lgbt por 100 mil habitantes adultos\n",
        "pop_lgbt_casamento['tx_pop'] = (pop_lgbt_casamento['numero'] / pop_lgbt_casamento['pop_adulta']) * 100000\n",
        "pop_lgbt_casamento.sort_values(by = 'tx_pop', ascending=False)"
      ],
      "execution_count": 77,
      "outputs": [
        {
          "output_type": "execute_result",
          "data": {
            "text/html": [
              "<div>\n",
              "<style scoped>\n",
              "    .dataframe tbody tr th:only-of-type {\n",
              "        vertical-align: middle;\n",
              "    }\n",
              "\n",
              "    .dataframe tbody tr th {\n",
              "        vertical-align: top;\n",
              "    }\n",
              "\n",
              "    .dataframe thead th {\n",
              "        text-align: right;\n",
              "    }\n",
              "</style>\n",
              "<table border=\"1\" class=\"dataframe\">\n",
              "  <thead>\n",
              "    <tr style=\"text-align: right;\">\n",
              "      <th></th>\n",
              "      <th>ano</th>\n",
              "      <th>genero</th>\n",
              "      <th>uf</th>\n",
              "      <th>numero</th>\n",
              "      <th>pop_adulta</th>\n",
              "      <th>tx_pop</th>\n",
              "    </tr>\n",
              "  </thead>\n",
              "  <tbody>\n",
              "    <tr>\n",
              "      <th>0</th>\n",
              "      <td>2018</td>\n",
              "      <td>Feminino</td>\n",
              "      <td>SP</td>\n",
              "      <td>2445</td>\n",
              "      <td>18915105</td>\n",
              "      <td>12.926177</td>\n",
              "    </tr>\n",
              "    <tr>\n",
              "      <th>67</th>\n",
              "      <td>2018</td>\n",
              "      <td>Masculino</td>\n",
              "      <td>DF</td>\n",
              "      <td>138</td>\n",
              "      <td>1115186</td>\n",
              "      <td>12.374617</td>\n",
              "    </tr>\n",
              "    <tr>\n",
              "      <th>64</th>\n",
              "      <td>2019</td>\n",
              "      <td>Feminino</td>\n",
              "      <td>DF</td>\n",
              "      <td>148</td>\n",
              "      <td>1269796</td>\n",
              "      <td>11.655416</td>\n",
              "    </tr>\n",
              "    <tr>\n",
              "      <th>73</th>\n",
              "      <td>2019</td>\n",
              "      <td>Masculino</td>\n",
              "      <td>DF</td>\n",
              "      <td>132</td>\n",
              "      <td>1136890</td>\n",
              "      <td>11.610622</td>\n",
              "    </tr>\n",
              "    <tr>\n",
              "      <th>1</th>\n",
              "      <td>2019</td>\n",
              "      <td>Feminino</td>\n",
              "      <td>SP</td>\n",
              "      <td>2120</td>\n",
              "      <td>19109416</td>\n",
              "      <td>11.094007</td>\n",
              "    </tr>\n",
              "    <tr>\n",
              "      <th>...</th>\n",
              "      <td>...</td>\n",
              "      <td>...</td>\n",
              "      <td>...</td>\n",
              "      <td>...</td>\n",
              "      <td>...</td>\n",
              "      <td>...</td>\n",
              "    </tr>\n",
              "    <tr>\n",
              "      <th>373</th>\n",
              "      <td>2013</td>\n",
              "      <td>Masculino</td>\n",
              "      <td>AC</td>\n",
              "      <td>0</td>\n",
              "      <td>265626</td>\n",
              "      <td>0.000000</td>\n",
              "    </tr>\n",
              "    <tr>\n",
              "      <th>374</th>\n",
              "      <td>2013</td>\n",
              "      <td>Feminino</td>\n",
              "      <td>RR</td>\n",
              "      <td>0</td>\n",
              "      <td>166383</td>\n",
              "      <td>0.000000</td>\n",
              "    </tr>\n",
              "    <tr>\n",
              "      <th>375</th>\n",
              "      <td>2016</td>\n",
              "      <td>Masculino</td>\n",
              "      <td>AC</td>\n",
              "      <td>0</td>\n",
              "      <td>287146</td>\n",
              "      <td>0.000000</td>\n",
              "    </tr>\n",
              "    <tr>\n",
              "      <th>376</th>\n",
              "      <td>2015</td>\n",
              "      <td>Masculino</td>\n",
              "      <td>AC</td>\n",
              "      <td>0</td>\n",
              "      <td>279837</td>\n",
              "      <td>0.000000</td>\n",
              "    </tr>\n",
              "    <tr>\n",
              "      <th>377</th>\n",
              "      <td>2013</td>\n",
              "      <td>Feminino</td>\n",
              "      <td>AC</td>\n",
              "      <td>0</td>\n",
              "      <td>268540</td>\n",
              "      <td>0.000000</td>\n",
              "    </tr>\n",
              "  </tbody>\n",
              "</table>\n",
              "<p>378 rows × 6 columns</p>\n",
              "</div>"
            ],
            "text/plain": [
              "      ano     genero  uf  numero  pop_adulta     tx_pop\n",
              "0    2018   Feminino  SP    2445    18915105  12.926177\n",
              "67   2018  Masculino  DF     138     1115186  12.374617\n",
              "64   2019   Feminino  DF     148     1269796  11.655416\n",
              "73   2019  Masculino  DF     132     1136890  11.610622\n",
              "1    2019   Feminino  SP    2120    19109416  11.094007\n",
              "..    ...        ...  ..     ...         ...        ...\n",
              "373  2013  Masculino  AC       0      265626   0.000000\n",
              "374  2013   Feminino  RR       0      166383   0.000000\n",
              "375  2016  Masculino  AC       0      287146   0.000000\n",
              "376  2015  Masculino  AC       0      279837   0.000000\n",
              "377  2013   Feminino  AC       0      268540   0.000000\n",
              "\n",
              "[378 rows x 6 columns]"
            ]
          },
          "metadata": {},
          "execution_count": 77
        }
      ]
    },
    {
      "cell_type": "markdown",
      "metadata": {
        "id": "2ReHAHyumuhx"
      },
      "source": [
        "### 2019: taxas mais altas e mais baixas, por UF"
      ]
    },
    {
      "cell_type": "code",
      "metadata": {
        "id": "mAQdiboGmyIQ",
        "colab": {
          "base_uri": "https://localhost:8080/",
          "height": 363
        },
        "outputId": "24da69d7-8825-4d9f-e8ea-d1e581cea56f"
      },
      "source": [
        "# DF e SP aparecem com destaque, com taxas acima de 10, em 2019\n",
        "tx_2019 = pop_lgbt_casamento.query('ano == 2019').sort_values(by = 'tx_pop', ascending=False)\n",
        "tx_2019.head(10)"
      ],
      "execution_count": 78,
      "outputs": [
        {
          "output_type": "execute_result",
          "data": {
            "text/html": [
              "<div>\n",
              "<style scoped>\n",
              "    .dataframe tbody tr th:only-of-type {\n",
              "        vertical-align: middle;\n",
              "    }\n",
              "\n",
              "    .dataframe tbody tr th {\n",
              "        vertical-align: top;\n",
              "    }\n",
              "\n",
              "    .dataframe thead th {\n",
              "        text-align: right;\n",
              "    }\n",
              "</style>\n",
              "<table border=\"1\" class=\"dataframe\">\n",
              "  <thead>\n",
              "    <tr style=\"text-align: right;\">\n",
              "      <th></th>\n",
              "      <th>ano</th>\n",
              "      <th>genero</th>\n",
              "      <th>uf</th>\n",
              "      <th>numero</th>\n",
              "      <th>pop_adulta</th>\n",
              "      <th>tx_pop</th>\n",
              "    </tr>\n",
              "  </thead>\n",
              "  <tbody>\n",
              "    <tr>\n",
              "      <th>64</th>\n",
              "      <td>2019</td>\n",
              "      <td>Feminino</td>\n",
              "      <td>DF</td>\n",
              "      <td>148</td>\n",
              "      <td>1269796</td>\n",
              "      <td>11.655416</td>\n",
              "    </tr>\n",
              "    <tr>\n",
              "      <th>73</th>\n",
              "      <td>2019</td>\n",
              "      <td>Masculino</td>\n",
              "      <td>DF</td>\n",
              "      <td>132</td>\n",
              "      <td>1136890</td>\n",
              "      <td>11.610622</td>\n",
              "    </tr>\n",
              "    <tr>\n",
              "      <th>1</th>\n",
              "      <td>2019</td>\n",
              "      <td>Feminino</td>\n",
              "      <td>SP</td>\n",
              "      <td>2120</td>\n",
              "      <td>19109416</td>\n",
              "      <td>11.094007</td>\n",
              "    </tr>\n",
              "    <tr>\n",
              "      <th>105</th>\n",
              "      <td>2019</td>\n",
              "      <td>Feminino</td>\n",
              "      <td>MS</td>\n",
              "      <td>101</td>\n",
              "      <td>1089092</td>\n",
              "      <td>9.273780</td>\n",
              "    </tr>\n",
              "    <tr>\n",
              "      <th>4</th>\n",
              "      <td>2019</td>\n",
              "      <td>Masculino</td>\n",
              "      <td>SP</td>\n",
              "      <td>1453</td>\n",
              "      <td>17760876</td>\n",
              "      <td>8.180903</td>\n",
              "    </tr>\n",
              "    <tr>\n",
              "      <th>14</th>\n",
              "      <td>2019</td>\n",
              "      <td>Feminino</td>\n",
              "      <td>RJ</td>\n",
              "      <td>568</td>\n",
              "      <td>7408969</td>\n",
              "      <td>7.666384</td>\n",
              "    </tr>\n",
              "    <tr>\n",
              "      <th>53</th>\n",
              "      <td>2019</td>\n",
              "      <td>Feminino</td>\n",
              "      <td>SC</td>\n",
              "      <td>195</td>\n",
              "      <td>2931464</td>\n",
              "      <td>6.651966</td>\n",
              "    </tr>\n",
              "    <tr>\n",
              "      <th>56</th>\n",
              "      <td>2019</td>\n",
              "      <td>Masculino</td>\n",
              "      <td>SC</td>\n",
              "      <td>180</td>\n",
              "      <td>2845696</td>\n",
              "      <td>6.325342</td>\n",
              "    </tr>\n",
              "    <tr>\n",
              "      <th>17</th>\n",
              "      <td>2019</td>\n",
              "      <td>Masculino</td>\n",
              "      <td>RJ</td>\n",
              "      <td>410</td>\n",
              "      <td>6579835</td>\n",
              "      <td>6.231159</td>\n",
              "    </tr>\n",
              "    <tr>\n",
              "      <th>38</th>\n",
              "      <td>2019</td>\n",
              "      <td>Feminino</td>\n",
              "      <td>PE</td>\n",
              "      <td>217</td>\n",
              "      <td>3922693</td>\n",
              "      <td>5.531914</td>\n",
              "    </tr>\n",
              "  </tbody>\n",
              "</table>\n",
              "</div>"
            ],
            "text/plain": [
              "      ano     genero  uf  numero  pop_adulta     tx_pop\n",
              "64   2019   Feminino  DF     148     1269796  11.655416\n",
              "73   2019  Masculino  DF     132     1136890  11.610622\n",
              "1    2019   Feminino  SP    2120    19109416  11.094007\n",
              "105  2019   Feminino  MS     101     1089092   9.273780\n",
              "4    2019  Masculino  SP    1453    17760876   8.180903\n",
              "14   2019   Feminino  RJ     568     7408969   7.666384\n",
              "53   2019   Feminino  SC     195     2931464   6.651966\n",
              "56   2019  Masculino  SC     180     2845696   6.325342\n",
              "17   2019  Masculino  RJ     410     6579835   6.231159\n",
              "38   2019   Feminino  PE     217     3922693   5.531914"
            ]
          },
          "metadata": {},
          "execution_count": 78
        }
      ]
    },
    {
      "cell_type": "code",
      "metadata": {
        "id": "DAOY40Ipm0Q6",
        "colab": {
          "base_uri": "https://localhost:8080/",
          "height": 363
        },
        "outputId": "357bdcfb-5106-4479-ca10-e1f900f19769"
      },
      "source": [
        "# MA aparece com destaque, com taxas baixo de 1, em 2019\n",
        "pop_lgbt_casamento.query('ano == 2019').sort_values(by = 'tx_pop', ascending=True).head(10)"
      ],
      "execution_count": 79,
      "outputs": [
        {
          "output_type": "execute_result",
          "data": {
            "text/html": [
              "<div>\n",
              "<style scoped>\n",
              "    .dataframe tbody tr th:only-of-type {\n",
              "        vertical-align: middle;\n",
              "    }\n",
              "\n",
              "    .dataframe tbody tr th {\n",
              "        vertical-align: top;\n",
              "    }\n",
              "\n",
              "    .dataframe thead th {\n",
              "        text-align: right;\n",
              "    }\n",
              "</style>\n",
              "<table border=\"1\" class=\"dataframe\">\n",
              "  <thead>\n",
              "    <tr style=\"text-align: right;\">\n",
              "      <th></th>\n",
              "      <th>ano</th>\n",
              "      <th>genero</th>\n",
              "      <th>uf</th>\n",
              "      <th>numero</th>\n",
              "      <th>pop_adulta</th>\n",
              "      <th>tx_pop</th>\n",
              "    </tr>\n",
              "  </thead>\n",
              "  <tbody>\n",
              "    <tr>\n",
              "      <th>261</th>\n",
              "      <td>2019</td>\n",
              "      <td>Masculino</td>\n",
              "      <td>MA</td>\n",
              "      <td>15</td>\n",
              "      <td>2531188</td>\n",
              "      <td>0.592607</td>\n",
              "    </tr>\n",
              "    <tr>\n",
              "      <th>234</th>\n",
              "      <td>2019</td>\n",
              "      <td>Feminino</td>\n",
              "      <td>MA</td>\n",
              "      <td>22</td>\n",
              "      <td>2686814</td>\n",
              "      <td>0.818814</td>\n",
              "    </tr>\n",
              "    <tr>\n",
              "      <th>267</th>\n",
              "      <td>2019</td>\n",
              "      <td>Masculino</td>\n",
              "      <td>PI</td>\n",
              "      <td>15</td>\n",
              "      <td>1208013</td>\n",
              "      <td>1.241708</td>\n",
              "    </tr>\n",
              "    <tr>\n",
              "      <th>307</th>\n",
              "      <td>2019</td>\n",
              "      <td>Masculino</td>\n",
              "      <td>TO</td>\n",
              "      <td>8</td>\n",
              "      <td>595765</td>\n",
              "      <td>1.342811</td>\n",
              "    </tr>\n",
              "    <tr>\n",
              "      <th>236</th>\n",
              "      <td>2019</td>\n",
              "      <td>Masculino</td>\n",
              "      <td>AM</td>\n",
              "      <td>22</td>\n",
              "      <td>1464687</td>\n",
              "      <td>1.502027</td>\n",
              "    </tr>\n",
              "    <tr>\n",
              "      <th>275</th>\n",
              "      <td>2019</td>\n",
              "      <td>Masculino</td>\n",
              "      <td>SE</td>\n",
              "      <td>14</td>\n",
              "      <td>843619</td>\n",
              "      <td>1.659517</td>\n",
              "    </tr>\n",
              "    <tr>\n",
              "      <th>335</th>\n",
              "      <td>2019</td>\n",
              "      <td>Masculino</td>\n",
              "      <td>AP</td>\n",
              "      <td>5</td>\n",
              "      <td>300208</td>\n",
              "      <td>1.665512</td>\n",
              "    </tr>\n",
              "    <tr>\n",
              "      <th>216</th>\n",
              "      <td>2019</td>\n",
              "      <td>Masculino</td>\n",
              "      <td>PB</td>\n",
              "      <td>29</td>\n",
              "      <td>1494526</td>\n",
              "      <td>1.940415</td>\n",
              "    </tr>\n",
              "    <tr>\n",
              "      <th>327</th>\n",
              "      <td>2019</td>\n",
              "      <td>Masculino</td>\n",
              "      <td>AC</td>\n",
              "      <td>6</td>\n",
              "      <td>308791</td>\n",
              "      <td>1.943062</td>\n",
              "    </tr>\n",
              "    <tr>\n",
              "      <th>148</th>\n",
              "      <td>2019</td>\n",
              "      <td>Masculino</td>\n",
              "      <td>PA</td>\n",
              "      <td>63</td>\n",
              "      <td>3163035</td>\n",
              "      <td>1.991758</td>\n",
              "    </tr>\n",
              "  </tbody>\n",
              "</table>\n",
              "</div>"
            ],
            "text/plain": [
              "      ano     genero  uf  numero  pop_adulta    tx_pop\n",
              "261  2019  Masculino  MA      15     2531188  0.592607\n",
              "234  2019   Feminino  MA      22     2686814  0.818814\n",
              "267  2019  Masculino  PI      15     1208013  1.241708\n",
              "307  2019  Masculino  TO       8      595765  1.342811\n",
              "236  2019  Masculino  AM      22     1464687  1.502027\n",
              "275  2019  Masculino  SE      14      843619  1.659517\n",
              "335  2019  Masculino  AP       5      300208  1.665512\n",
              "216  2019  Masculino  PB      29     1494526  1.940415\n",
              "327  2019  Masculino  AC       6      308791  1.943062\n",
              "148  2019  Masculino  PA      63     3163035  1.991758"
            ]
          },
          "metadata": {},
          "execution_count": 79
        }
      ]
    },
    {
      "cell_type": "code",
      "metadata": {
        "id": "I8EmhBuonyvV",
        "colab": {
          "base_uri": "https://localhost:8080/",
          "height": 385
        },
        "outputId": "8d88826c-a285-4833-e97d-e9cca914bedb"
      },
      "source": [
        "# o gráfico abaixo se refere aos dois dataframes criados acima\n",
        "# o eixo x tem a taxa de casamentos LGBTs por 100 mil adultos, por gênero, naquele ano\n",
        "# o eixo y tem o número de casamentos LGBTs, por gênero, naquele ano\n",
        "# referência https://altair-viz.github.io/gallery/trellis_scatter_plot.html\n",
        "alt.Chart(tx_2019).mark_point().encode(\n",
        "    x = alt.X('tx_pop:Q', title = 'Nº de casamentos'),\n",
        "    y = alt.Y('numero:Q', title = 'Taxa por 100 mil adultos'),\n",
        "    color = alt.Color('genero', title = 'Gênero'),\n",
        "    tooltip = ['uf', 'genero', 'tx_pop', 'numero', 'pop_adulta']\n",
        ").properties(title = '2019: Taxa de casamentos LGBTs', width=600, height=300)"
      ],
      "execution_count": 164,
      "outputs": [
        {
          "output_type": "execute_result",
          "data": {
            "text/plain": [
              "alt.Chart(...)"
            ],
            "text/html": [
              "\n",
              "<div id=\"altair-viz-37fe4188b40e4e239682d4ae285145e7\"></div>\n",
              "<script type=\"text/javascript\">\n",
              "  (function(spec, embedOpt){\n",
              "    let outputDiv = document.currentScript.previousElementSibling;\n",
              "    if (outputDiv.id !== \"altair-viz-37fe4188b40e4e239682d4ae285145e7\") {\n",
              "      outputDiv = document.getElementById(\"altair-viz-37fe4188b40e4e239682d4ae285145e7\");\n",
              "    }\n",
              "    const paths = {\n",
              "      \"vega\": \"https://cdn.jsdelivr.net/npm//vega@5?noext\",\n",
              "      \"vega-lib\": \"https://cdn.jsdelivr.net/npm//vega-lib?noext\",\n",
              "      \"vega-lite\": \"https://cdn.jsdelivr.net/npm//vega-lite@4.8.1?noext\",\n",
              "      \"vega-embed\": \"https://cdn.jsdelivr.net/npm//vega-embed@6?noext\",\n",
              "    };\n",
              "\n",
              "    function loadScript(lib) {\n",
              "      return new Promise(function(resolve, reject) {\n",
              "        var s = document.createElement('script');\n",
              "        s.src = paths[lib];\n",
              "        s.async = true;\n",
              "        s.onload = () => resolve(paths[lib]);\n",
              "        s.onerror = () => reject(`Error loading script: ${paths[lib]}`);\n",
              "        document.getElementsByTagName(\"head\")[0].appendChild(s);\n",
              "      });\n",
              "    }\n",
              "\n",
              "    function showError(err) {\n",
              "      outputDiv.innerHTML = `<div class=\"error\" style=\"color:red;\">${err}</div>`;\n",
              "      throw err;\n",
              "    }\n",
              "\n",
              "    function displayChart(vegaEmbed) {\n",
              "      vegaEmbed(outputDiv, spec, embedOpt)\n",
              "        .catch(err => showError(`Javascript Error: ${err.message}<br>This usually means there's a typo in your chart specification. See the javascript console for the full traceback.`));\n",
              "    }\n",
              "\n",
              "    if(typeof define === \"function\" && define.amd) {\n",
              "      requirejs.config({paths});\n",
              "      require([\"vega-embed\"], displayChart, err => showError(`Error loading script: ${err.message}`));\n",
              "    } else if (typeof vegaEmbed === \"function\") {\n",
              "      displayChart(vegaEmbed);\n",
              "    } else {\n",
              "      loadScript(\"vega\")\n",
              "        .then(() => loadScript(\"vega-lite\"))\n",
              "        .then(() => loadScript(\"vega-embed\"))\n",
              "        .catch(showError)\n",
              "        .then(() => displayChart(vegaEmbed));\n",
              "    }\n",
              "  })({\"config\": {\"view\": {\"continuousWidth\": 400, \"continuousHeight\": 300}}, \"data\": {\"name\": \"data-37f458bc1d171680f272f9fd2f372c8d\"}, \"mark\": \"point\", \"encoding\": {\"color\": {\"type\": \"nominal\", \"field\": \"genero\", \"title\": \"G\\u00eanero\"}, \"tooltip\": [{\"type\": \"nominal\", \"field\": \"uf\"}, {\"type\": \"nominal\", \"field\": \"genero\"}, {\"type\": \"quantitative\", \"field\": \"tx_pop\"}, {\"type\": \"quantitative\", \"field\": \"numero\"}, {\"type\": \"quantitative\", \"field\": \"pop_adulta\"}], \"x\": {\"type\": \"quantitative\", \"field\": \"tx_pop\", \"title\": \"N\\u00ba de casamentos\"}, \"y\": {\"type\": \"quantitative\", \"field\": \"numero\", \"title\": \"Taxa por 100 mil adultos\"}}, \"height\": 300, \"title\": \"2019: Taxa de casamentos LGBTs\", \"width\": 600, \"$schema\": \"https://vega.github.io/schema/vega-lite/v4.8.1.json\", \"datasets\": {\"data-37f458bc1d171680f272f9fd2f372c8d\": [{\"ano\": 2019, \"genero\": \"Feminino\", \"uf\": \"DF\", \"numero\": 148, \"pop_adulta\": 1269796, \"tx_pop\": 11.65541551556313}, {\"ano\": 2019, \"genero\": \"Masculino\", \"uf\": \"DF\", \"numero\": 132, \"pop_adulta\": 1136890, \"tx_pop\": 11.61062195990817}, {\"ano\": 2019, \"genero\": \"Feminino\", \"uf\": \"SP\", \"numero\": 2120, \"pop_adulta\": 19109416, \"tx_pop\": 11.094007268458649}, {\"ano\": 2019, \"genero\": \"Feminino\", \"uf\": \"MS\", \"numero\": 101, \"pop_adulta\": 1089092, \"tx_pop\": 9.273780360153228}, {\"ano\": 2019, \"genero\": \"Masculino\", \"uf\": \"SP\", \"numero\": 1453, \"pop_adulta\": 17760876, \"tx_pop\": 8.180902788803886}, {\"ano\": 2019, \"genero\": \"Feminino\", \"uf\": \"RJ\", \"numero\": 568, \"pop_adulta\": 7408969, \"tx_pop\": 7.666383811296821}, {\"ano\": 2019, \"genero\": \"Feminino\", \"uf\": \"SC\", \"numero\": 195, \"pop_adulta\": 2931464, \"tx_pop\": 6.651966389490029}, {\"ano\": 2019, \"genero\": \"Masculino\", \"uf\": \"SC\", \"numero\": 180, \"pop_adulta\": 2845696, \"tx_pop\": 6.325341849586183}, {\"ano\": 2019, \"genero\": \"Masculino\", \"uf\": \"RJ\", \"numero\": 410, \"pop_adulta\": 6579835, \"tx_pop\": 6.231159291988326}, {\"ano\": 2019, \"genero\": \"Feminino\", \"uf\": \"PE\", \"numero\": 217, \"pop_adulta\": 3922693, \"tx_pop\": 5.5319139173012015}, {\"ano\": 2019, \"genero\": \"Feminino\", \"uf\": \"ES\", \"numero\": 87, \"pop_adulta\": 1628413, \"tx_pop\": 5.342624997466859}, {\"ano\": 2019, \"genero\": \"Feminino\", \"uf\": \"CE\", \"numero\": 199, \"pop_adulta\": 3728302, \"tx_pop\": 5.33755044521608}, {\"ano\": 2019, \"genero\": \"Feminino\", \"uf\": \"MG\", \"numero\": 464, \"pop_adulta\": 8785642, \"tx_pop\": 5.28134426601949}, {\"ano\": 2019, \"genero\": \"Feminino\", \"uf\": \"RR\", \"numero\": 11, \"pop_adulta\": 212883, \"tx_pop\": 5.167157546633597}, {\"ano\": 2019, \"genero\": \"Feminino\", \"uf\": \"PR\", \"numero\": 240, \"pop_adulta\": 4702584, \"tx_pop\": 5.103577097187419}, {\"ano\": 2019, \"genero\": \"Feminino\", \"uf\": \"PB\", \"numero\": 83, \"pop_adulta\": 1654924, \"tx_pop\": 5.0153360516857575}, {\"ano\": 2019, \"genero\": \"Feminino\", \"uf\": \"RN\", \"numero\": 71, \"pop_adulta\": 1431108, \"tx_pop\": 4.961190909421231}, {\"ano\": 2019, \"genero\": \"Feminino\", \"uf\": \"RS\", \"numero\": 211, \"pop_adulta\": 4821890, \"tx_pop\": 4.375877508611769}, {\"ano\": 2019, \"genero\": \"Feminino\", \"uf\": \"RO\", \"numero\": 29, \"pop_adulta\": 676066, \"tx_pop\": 4.2895220289143365}, {\"ano\": 2019, \"genero\": \"Masculino\", \"uf\": \"MG\", \"numero\": 351, \"pop_adulta\": 8369460, \"tx_pop\": 4.193818956061682}, {\"ano\": 2019, \"genero\": \"Masculino\", \"uf\": \"PR\", \"numero\": 185, \"pop_adulta\": 4420375, \"tx_pop\": 4.185165285750643}, {\"ano\": 2019, \"genero\": \"Masculino\", \"uf\": \"RS\", \"numero\": 180, \"pop_adulta\": 4468846, \"tx_pop\": 4.027885498851382}, {\"ano\": 2019, \"genero\": \"Masculino\", \"uf\": \"RN\", \"numero\": 53, \"pop_adulta\": 1328851, \"tx_pop\": 3.988408030697196}, {\"ano\": 2019, \"genero\": \"Feminino\", \"uf\": \"AL\", \"numero\": 53, \"pop_adulta\": 1341877, \"tx_pop\": 3.949691365154928}, {\"ano\": 2019, \"genero\": \"Feminino\", \"uf\": \"AP\", \"numero\": 12, \"pop_adulta\": 304204, \"tx_pop\": 3.9447213054397707}, {\"ano\": 2019, \"genero\": \"Masculino\", \"uf\": \"ES\", \"numero\": 56, \"pop_adulta\": 1548580, \"tx_pop\": 3.6162161464050935}, {\"ano\": 2019, \"genero\": \"Masculino\", \"uf\": \"PE\", \"numero\": 124, \"pop_adulta\": 3494774, \"tx_pop\": 3.5481550452189468}, {\"ano\": 2019, \"genero\": \"Masculino\", \"uf\": \"MS\", \"numero\": 35, \"pop_adulta\": 1053691, \"tx_pop\": 3.3216569183944817}, {\"ano\": 2019, \"genero\": \"Feminino\", \"uf\": \"BA\", \"numero\": 199, \"pop_adulta\": 6071555, \"tx_pop\": 3.27757880806482}, {\"ano\": 2019, \"genero\": \"Masculino\", \"uf\": \"CE\", \"numero\": 107, \"pop_adulta\": 3415709, \"tx_pop\": 3.132585357827614}, {\"ano\": 2019, \"genero\": \"Feminino\", \"uf\": \"AM\", \"numero\": 46, \"pop_adulta\": 1473608, \"tx_pop\": 3.121590002225829}, {\"ano\": 2019, \"genero\": \"Masculino\", \"uf\": \"RR\", \"numero\": 7, \"pop_adulta\": 227863, \"tx_pop\": 3.0720213461597536}, {\"ano\": 2019, \"genero\": \"Feminino\", \"uf\": \"PA\", \"numero\": 96, \"pop_adulta\": 3184695, \"tx_pop\": 3.0144173931883587}, {\"ano\": 2019, \"genero\": \"Feminino\", \"uf\": \"AC\", \"numero\": 9, \"pop_adulta\": 313775, \"tx_pop\": 2.868297346824954}, {\"ano\": 2019, \"genero\": \"Feminino\", \"uf\": \"GO\", \"numero\": 77, \"pop_adulta\": 2795343, \"tx_pop\": 2.754581459234162}, {\"ano\": 2019, \"genero\": \"Masculino\", \"uf\": \"RO\", \"numero\": 17, \"pop_adulta\": 687404, \"tx_pop\": 2.473072603592647}, {\"ano\": 2019, \"genero\": \"Masculino\", \"uf\": \"MT\", \"numero\": 31, \"pop_adulta\": 1349264, \"tx_pop\": 2.2975488859111337}, {\"ano\": 2019, \"genero\": \"Feminino\", \"uf\": \"MT\", \"numero\": 30, \"pop_adulta\": 1316572, \"tx_pop\": 2.2786448443381753}, {\"ano\": 2019, \"genero\": \"Masculino\", \"uf\": \"BA\", \"numero\": 126, \"pop_adulta\": 5593892, \"tx_pop\": 2.2524567867953116}, {\"ano\": 2019, \"genero\": \"Feminino\", \"uf\": \"SE\", \"numero\": 21, \"pop_adulta\": 932810, \"tx_pop\": 2.2512623149408775}, {\"ano\": 2019, \"genero\": \"Feminino\", \"uf\": \"TO\", \"numero\": 13, \"pop_adulta\": 592220, \"tx_pop\": 2.1951301881057717}, {\"ano\": 2019, \"genero\": \"Masculino\", \"uf\": \"GO\", \"numero\": 58, \"pop_adulta\": 2705822, \"tx_pop\": 2.143526070820623}, {\"ano\": 2019, \"genero\": \"Masculino\", \"uf\": \"AL\", \"numero\": 25, \"pop_adulta\": 1189863, \"tx_pop\": 2.1010822254326755}, {\"ano\": 2019, \"genero\": \"Feminino\", \"uf\": \"PI\", \"numero\": 27, \"pop_adulta\": 1322747, \"tx_pop\": 2.0412066706634}, {\"ano\": 2019, \"genero\": \"Masculino\", \"uf\": \"PA\", \"numero\": 63, \"pop_adulta\": 3163035, \"tx_pop\": 1.9917579160521461}, {\"ano\": 2019, \"genero\": \"Masculino\", \"uf\": \"AC\", \"numero\": 6, \"pop_adulta\": 308791, \"tx_pop\": 1.9430618120346772}, {\"ano\": 2019, \"genero\": \"Masculino\", \"uf\": \"PB\", \"numero\": 29, \"pop_adulta\": 1494526, \"tx_pop\": 1.9404145528415029}, {\"ano\": 2019, \"genero\": \"Masculino\", \"uf\": \"AP\", \"numero\": 5, \"pop_adulta\": 300208, \"tx_pop\": 1.6655119117411927}, {\"ano\": 2019, \"genero\": \"Masculino\", \"uf\": \"SE\", \"numero\": 14, \"pop_adulta\": 843619, \"tx_pop\": 1.6595169146261524}, {\"ano\": 2019, \"genero\": \"Masculino\", \"uf\": \"AM\", \"numero\": 22, \"pop_adulta\": 1464687, \"tx_pop\": 1.5020273956142165}, {\"ano\": 2019, \"genero\": \"Masculino\", \"uf\": \"TO\", \"numero\": 8, \"pop_adulta\": 595765, \"tx_pop\": 1.3428113433988234}, {\"ano\": 2019, \"genero\": \"Masculino\", \"uf\": \"PI\", \"numero\": 15, \"pop_adulta\": 1208013, \"tx_pop\": 1.2417084915476904}, {\"ano\": 2019, \"genero\": \"Feminino\", \"uf\": \"MA\", \"numero\": 22, \"pop_adulta\": 2686814, \"tx_pop\": 0.8188136581095676}, {\"ano\": 2019, \"genero\": \"Masculino\", \"uf\": \"MA\", \"numero\": 15, \"pop_adulta\": 2531188, \"tx_pop\": 0.5926071078086653}]}}, {\"mode\": \"vega-lite\"});\n",
              "</script>"
            ]
          },
          "metadata": {},
          "execution_count": 164
        }
      ]
    },
    {
      "cell_type": "markdown",
      "metadata": {
        "id": "wWNK7NObnGRp"
      },
      "source": [
        "### 2018: taxas mais altas e mais baixas, por UF"
      ]
    },
    {
      "cell_type": "code",
      "metadata": {
        "id": "S8FoOsepnKo0",
        "colab": {
          "base_uri": "https://localhost:8080/",
          "height": 363
        },
        "outputId": "f405d598-cc6f-4790-bf51-5d8c858354a9"
      },
      "source": [
        "# novamente SP e DF aparecem com destaque\n",
        "tx_2018 = pop_lgbt_casamento.query('ano == 2018').sort_values(by = 'tx_pop', ascending=False)\n",
        "tx_2018.head(10)"
      ],
      "execution_count": 81,
      "outputs": [
        {
          "output_type": "execute_result",
          "data": {
            "text/html": [
              "<div>\n",
              "<style scoped>\n",
              "    .dataframe tbody tr th:only-of-type {\n",
              "        vertical-align: middle;\n",
              "    }\n",
              "\n",
              "    .dataframe tbody tr th {\n",
              "        vertical-align: top;\n",
              "    }\n",
              "\n",
              "    .dataframe thead th {\n",
              "        text-align: right;\n",
              "    }\n",
              "</style>\n",
              "<table border=\"1\" class=\"dataframe\">\n",
              "  <thead>\n",
              "    <tr style=\"text-align: right;\">\n",
              "      <th></th>\n",
              "      <th>ano</th>\n",
              "      <th>genero</th>\n",
              "      <th>uf</th>\n",
              "      <th>numero</th>\n",
              "      <th>pop_adulta</th>\n",
              "      <th>tx_pop</th>\n",
              "    </tr>\n",
              "  </thead>\n",
              "  <tbody>\n",
              "    <tr>\n",
              "      <th>0</th>\n",
              "      <td>2018</td>\n",
              "      <td>Feminino</td>\n",
              "      <td>SP</td>\n",
              "      <td>2445</td>\n",
              "      <td>18915105</td>\n",
              "      <td>12.926177</td>\n",
              "    </tr>\n",
              "    <tr>\n",
              "      <th>67</th>\n",
              "      <td>2018</td>\n",
              "      <td>Masculino</td>\n",
              "      <td>DF</td>\n",
              "      <td>138</td>\n",
              "      <td>1115186</td>\n",
              "      <td>12.374617</td>\n",
              "    </tr>\n",
              "    <tr>\n",
              "      <th>71</th>\n",
              "      <td>2018</td>\n",
              "      <td>Feminino</td>\n",
              "      <td>DF</td>\n",
              "      <td>136</td>\n",
              "      <td>1247134</td>\n",
              "      <td>10.905003</td>\n",
              "    </tr>\n",
              "    <tr>\n",
              "      <th>93</th>\n",
              "      <td>2018</td>\n",
              "      <td>Feminino</td>\n",
              "      <td>MS</td>\n",
              "      <td>110</td>\n",
              "      <td>1074182</td>\n",
              "      <td>10.240350</td>\n",
              "    </tr>\n",
              "    <tr>\n",
              "      <th>2</th>\n",
              "      <td>2018</td>\n",
              "      <td>Masculino</td>\n",
              "      <td>SP</td>\n",
              "      <td>1655</td>\n",
              "      <td>17569093</td>\n",
              "      <td>9.419951</td>\n",
              "    </tr>\n",
              "    <tr>\n",
              "      <th>36</th>\n",
              "      <td>2018</td>\n",
              "      <td>Masculino</td>\n",
              "      <td>SC</td>\n",
              "      <td>229</td>\n",
              "      <td>2807204</td>\n",
              "      <td>8.157583</td>\n",
              "    </tr>\n",
              "    <tr>\n",
              "      <th>47</th>\n",
              "      <td>2018</td>\n",
              "      <td>Feminino</td>\n",
              "      <td>SC</td>\n",
              "      <td>200</td>\n",
              "      <td>2891671</td>\n",
              "      <td>6.916416</td>\n",
              "    </tr>\n",
              "    <tr>\n",
              "      <th>29</th>\n",
              "      <td>2018</td>\n",
              "      <td>Feminino</td>\n",
              "      <td>PE</td>\n",
              "      <td>260</td>\n",
              "      <td>3881393</td>\n",
              "      <td>6.698626</td>\n",
              "    </tr>\n",
              "    <tr>\n",
              "      <th>25</th>\n",
              "      <td>2018</td>\n",
              "      <td>Feminino</td>\n",
              "      <td>PR</td>\n",
              "      <td>283</td>\n",
              "      <td>4658113</td>\n",
              "      <td>6.075422</td>\n",
              "    </tr>\n",
              "    <tr>\n",
              "      <th>40</th>\n",
              "      <td>2018</td>\n",
              "      <td>Feminino</td>\n",
              "      <td>CE</td>\n",
              "      <td>212</td>\n",
              "      <td>3692378</td>\n",
              "      <td>5.741557</td>\n",
              "    </tr>\n",
              "  </tbody>\n",
              "</table>\n",
              "</div>"
            ],
            "text/plain": [
              "     ano     genero  uf  numero  pop_adulta     tx_pop\n",
              "0   2018   Feminino  SP    2445    18915105  12.926177\n",
              "67  2018  Masculino  DF     138     1115186  12.374617\n",
              "71  2018   Feminino  DF     136     1247134  10.905003\n",
              "93  2018   Feminino  MS     110     1074182  10.240350\n",
              "2   2018  Masculino  SP    1655    17569093   9.419951\n",
              "36  2018  Masculino  SC     229     2807204   8.157583\n",
              "47  2018   Feminino  SC     200     2891671   6.916416\n",
              "29  2018   Feminino  PE     260     3881393   6.698626\n",
              "25  2018   Feminino  PR     283     4658113   6.075422\n",
              "40  2018   Feminino  CE     212     3692378   5.741557"
            ]
          },
          "metadata": {},
          "execution_count": 81
        }
      ]
    },
    {
      "cell_type": "code",
      "metadata": {
        "id": "ed_NFoDznMAp",
        "colab": {
          "base_uri": "https://localhost:8080/",
          "height": 363
        },
        "outputId": "70a634a6-fe1b-4bbe-9264-81b023901d9e"
      },
      "source": [
        "# desta vez, AP, RR, MA e RO têm taxas abaixo de um\n",
        "pop_lgbt_casamento.query('ano == 2018').sort_values(by = 'tx_pop', ascending=True).head(10)"
      ],
      "execution_count": 82,
      "outputs": [
        {
          "output_type": "execute_result",
          "data": {
            "text/html": [
              "<div>\n",
              "<style scoped>\n",
              "    .dataframe tbody tr th:only-of-type {\n",
              "        vertical-align: middle;\n",
              "    }\n",
              "\n",
              "    .dataframe tbody tr th {\n",
              "        vertical-align: top;\n",
              "    }\n",
              "\n",
              "    .dataframe thead th {\n",
              "        text-align: right;\n",
              "    }\n",
              "</style>\n",
              "<table border=\"1\" class=\"dataframe\">\n",
              "  <thead>\n",
              "    <tr style=\"text-align: right;\">\n",
              "      <th></th>\n",
              "      <th>ano</th>\n",
              "      <th>genero</th>\n",
              "      <th>uf</th>\n",
              "      <th>numero</th>\n",
              "      <th>pop_adulta</th>\n",
              "      <th>tx_pop</th>\n",
              "    </tr>\n",
              "  </thead>\n",
              "  <tbody>\n",
              "    <tr>\n",
              "      <th>366</th>\n",
              "      <td>2018</td>\n",
              "      <td>Masculino</td>\n",
              "      <td>AP</td>\n",
              "      <td>1</td>\n",
              "      <td>292039</td>\n",
              "      <td>0.342420</td>\n",
              "    </tr>\n",
              "    <tr>\n",
              "      <th>365</th>\n",
              "      <td>2018</td>\n",
              "      <td>Masculino</td>\n",
              "      <td>RR</td>\n",
              "      <td>1</td>\n",
              "      <td>212649</td>\n",
              "      <td>0.470259</td>\n",
              "    </tr>\n",
              "    <tr>\n",
              "      <th>287</th>\n",
              "      <td>2018</td>\n",
              "      <td>Masculino</td>\n",
              "      <td>MA</td>\n",
              "      <td>12</td>\n",
              "      <td>2500973</td>\n",
              "      <td>0.479813</td>\n",
              "    </tr>\n",
              "    <tr>\n",
              "      <th>273</th>\n",
              "      <td>2018</td>\n",
              "      <td>Feminino</td>\n",
              "      <td>MA</td>\n",
              "      <td>14</td>\n",
              "      <td>2649907</td>\n",
              "      <td>0.528320</td>\n",
              "    </tr>\n",
              "    <tr>\n",
              "      <th>322</th>\n",
              "      <td>2018</td>\n",
              "      <td>Masculino</td>\n",
              "      <td>RO</td>\n",
              "      <td>6</td>\n",
              "      <td>677846</td>\n",
              "      <td>0.885157</td>\n",
              "    </tr>\n",
              "    <tr>\n",
              "      <th>266</th>\n",
              "      <td>2018</td>\n",
              "      <td>Masculino</td>\n",
              "      <td>MT</td>\n",
              "      <td>15</td>\n",
              "      <td>1330673</td>\n",
              "      <td>1.127249</td>\n",
              "    </tr>\n",
              "    <tr>\n",
              "      <th>318</th>\n",
              "      <td>2018</td>\n",
              "      <td>Masculino</td>\n",
              "      <td>TO</td>\n",
              "      <td>7</td>\n",
              "      <td>586706</td>\n",
              "      <td>1.193102</td>\n",
              "    </tr>\n",
              "    <tr>\n",
              "      <th>251</th>\n",
              "      <td>2018</td>\n",
              "      <td>Masculino</td>\n",
              "      <td>AM</td>\n",
              "      <td>18</td>\n",
              "      <td>1436331</td>\n",
              "      <td>1.253193</td>\n",
              "    </tr>\n",
              "    <tr>\n",
              "      <th>253</th>\n",
              "      <td>2018</td>\n",
              "      <td>Masculino</td>\n",
              "      <td>PI</td>\n",
              "      <td>17</td>\n",
              "      <td>1201187</td>\n",
              "      <td>1.415267</td>\n",
              "    </tr>\n",
              "    <tr>\n",
              "      <th>294</th>\n",
              "      <td>2018</td>\n",
              "      <td>Feminino</td>\n",
              "      <td>TO</td>\n",
              "      <td>11</td>\n",
              "      <td>581958</td>\n",
              "      <td>1.890171</td>\n",
              "    </tr>\n",
              "  </tbody>\n",
              "</table>\n",
              "</div>"
            ],
            "text/plain": [
              "      ano     genero  uf  numero  pop_adulta    tx_pop\n",
              "366  2018  Masculino  AP       1      292039  0.342420\n",
              "365  2018  Masculino  RR       1      212649  0.470259\n",
              "287  2018  Masculino  MA      12     2500973  0.479813\n",
              "273  2018   Feminino  MA      14     2649907  0.528320\n",
              "322  2018  Masculino  RO       6      677846  0.885157\n",
              "266  2018  Masculino  MT      15     1330673  1.127249\n",
              "318  2018  Masculino  TO       7      586706  1.193102\n",
              "251  2018  Masculino  AM      18     1436331  1.253193\n",
              "253  2018  Masculino  PI      17     1201187  1.415267\n",
              "294  2018   Feminino  TO      11      581958  1.890171"
            ]
          },
          "metadata": {},
          "execution_count": 82
        }
      ]
    },
    {
      "cell_type": "code",
      "metadata": {
        "id": "Dksj9UeBnNhx",
        "colab": {
          "base_uri": "https://localhost:8080/",
          "height": 380
        },
        "outputId": "e7c90ba3-6c78-40ef-b74e-6a4e10808c34"
      },
      "source": [
        "# o gráfico abaixo se refere aos dois dataframes criados acima\n",
        "# o eixo x tem a taxa de casamentos LGBTs por 100 mil adultos, por gênero, naquele ano\n",
        "# o eixo y tem o número de casamentos LGBTs, por gênero, naquele ano\n",
        "# referência https://altair-viz.github.io/gallery/trellis_scatter_plot.html\n",
        "alt.Chart(tx_2018).mark_point().encode(\n",
        "    x = alt.X('tx_pop:Q', title = 'Nº de casamentos'),\n",
        "    y = alt.Y('numero:Q', title = 'Taxa por 100 mil adultos'),\n",
        "    color = alt.Color('genero', title = 'Gênero'),\n",
        "    tooltip = ['uf', 'genero', 'tx_pop', 'numero', 'pop_adulta']\n",
        ").properties(title = '2019: Taxa de casamentos LGBTs', width=600, height=300)"
      ],
      "execution_count": 163,
      "outputs": [
        {
          "output_type": "execute_result",
          "data": {
            "text/plain": [
              "alt.Chart(...)"
            ],
            "text/html": [
              "\n",
              "<div id=\"altair-viz-6d51b83424164aa4b3a4950da58a72d3\"></div>\n",
              "<script type=\"text/javascript\">\n",
              "  (function(spec, embedOpt){\n",
              "    let outputDiv = document.currentScript.previousElementSibling;\n",
              "    if (outputDiv.id !== \"altair-viz-6d51b83424164aa4b3a4950da58a72d3\") {\n",
              "      outputDiv = document.getElementById(\"altair-viz-6d51b83424164aa4b3a4950da58a72d3\");\n",
              "    }\n",
              "    const paths = {\n",
              "      \"vega\": \"https://cdn.jsdelivr.net/npm//vega@5?noext\",\n",
              "      \"vega-lib\": \"https://cdn.jsdelivr.net/npm//vega-lib?noext\",\n",
              "      \"vega-lite\": \"https://cdn.jsdelivr.net/npm//vega-lite@4.8.1?noext\",\n",
              "      \"vega-embed\": \"https://cdn.jsdelivr.net/npm//vega-embed@6?noext\",\n",
              "    };\n",
              "\n",
              "    function loadScript(lib) {\n",
              "      return new Promise(function(resolve, reject) {\n",
              "        var s = document.createElement('script');\n",
              "        s.src = paths[lib];\n",
              "        s.async = true;\n",
              "        s.onload = () => resolve(paths[lib]);\n",
              "        s.onerror = () => reject(`Error loading script: ${paths[lib]}`);\n",
              "        document.getElementsByTagName(\"head\")[0].appendChild(s);\n",
              "      });\n",
              "    }\n",
              "\n",
              "    function showError(err) {\n",
              "      outputDiv.innerHTML = `<div class=\"error\" style=\"color:red;\">${err}</div>`;\n",
              "      throw err;\n",
              "    }\n",
              "\n",
              "    function displayChart(vegaEmbed) {\n",
              "      vegaEmbed(outputDiv, spec, embedOpt)\n",
              "        .catch(err => showError(`Javascript Error: ${err.message}<br>This usually means there's a typo in your chart specification. See the javascript console for the full traceback.`));\n",
              "    }\n",
              "\n",
              "    if(typeof define === \"function\" && define.amd) {\n",
              "      requirejs.config({paths});\n",
              "      require([\"vega-embed\"], displayChart, err => showError(`Error loading script: ${err.message}`));\n",
              "    } else if (typeof vegaEmbed === \"function\") {\n",
              "      displayChart(vegaEmbed);\n",
              "    } else {\n",
              "      loadScript(\"vega\")\n",
              "        .then(() => loadScript(\"vega-lite\"))\n",
              "        .then(() => loadScript(\"vega-embed\"))\n",
              "        .catch(showError)\n",
              "        .then(() => displayChart(vegaEmbed));\n",
              "    }\n",
              "  })({\"config\": {\"view\": {\"continuousWidth\": 400, \"continuousHeight\": 300}}, \"data\": {\"name\": \"data-0ea17c301f41ac62e2d433c4bb67d5e9\"}, \"mark\": \"point\", \"encoding\": {\"color\": {\"type\": \"nominal\", \"field\": \"genero\", \"title\": \"G\\u00eanero\"}, \"tooltip\": [{\"type\": \"nominal\", \"field\": \"uf\"}, {\"type\": \"nominal\", \"field\": \"genero\"}, {\"type\": \"quantitative\", \"field\": \"tx_pop\"}, {\"type\": \"quantitative\", \"field\": \"numero\"}, {\"type\": \"quantitative\", \"field\": \"pop_adulta\"}], \"x\": {\"type\": \"quantitative\", \"field\": \"tx_pop\", \"title\": \"N\\u00ba de casamentos\"}, \"y\": {\"type\": \"quantitative\", \"field\": \"numero\", \"title\": \"Taxa por 100 mil adultos\"}}, \"height\": 300, \"title\": \"2019: Taxa de casamentos LGBTs\", \"width\": 600, \"$schema\": \"https://vega.github.io/schema/vega-lite/v4.8.1.json\", \"datasets\": {\"data-0ea17c301f41ac62e2d433c4bb67d5e9\": [{\"ano\": 2018, \"genero\": \"Feminino\", \"uf\": \"SP\", \"numero\": 2445, \"pop_adulta\": 18915105, \"tx_pop\": 12.926177253575911}, {\"ano\": 2018, \"genero\": \"Masculino\", \"uf\": \"DF\", \"numero\": 138, \"pop_adulta\": 1115186, \"tx_pop\": 12.374617328409789}, {\"ano\": 2018, \"genero\": \"Feminino\", \"uf\": \"DF\", \"numero\": 136, \"pop_adulta\": 1247134, \"tx_pop\": 10.905002990857438}, {\"ano\": 2018, \"genero\": \"Feminino\", \"uf\": \"MS\", \"numero\": 110, \"pop_adulta\": 1074182, \"tx_pop\": 10.240350331694257}, {\"ano\": 2018, \"genero\": \"Masculino\", \"uf\": \"SP\", \"numero\": 1655, \"pop_adulta\": 17569093, \"tx_pop\": 9.419951274661702}, {\"ano\": 2018, \"genero\": \"Masculino\", \"uf\": \"SC\", \"numero\": 229, \"pop_adulta\": 2807204, \"tx_pop\": 8.15758313254042}, {\"ano\": 2018, \"genero\": \"Feminino\", \"uf\": \"SC\", \"numero\": 200, \"pop_adulta\": 2891671, \"tx_pop\": 6.916416148310094}, {\"ano\": 2018, \"genero\": \"Feminino\", \"uf\": \"PE\", \"numero\": 260, \"pop_adulta\": 3881393, \"tx_pop\": 6.6986259829911585}, {\"ano\": 2018, \"genero\": \"Feminino\", \"uf\": \"PR\", \"numero\": 283, \"pop_adulta\": 4658113, \"tx_pop\": 6.075421527987836}, {\"ano\": 2018, \"genero\": \"Feminino\", \"uf\": \"CE\", \"numero\": 212, \"pop_adulta\": 3692378, \"tx_pop\": 5.741557337845691}, {\"ano\": 2018, \"genero\": \"Feminino\", \"uf\": \"RS\", \"numero\": 269, \"pop_adulta\": 4791901, \"tx_pop\": 5.613638512147893}, {\"ano\": 2018, \"genero\": \"Feminino\", \"uf\": \"RJ\", \"numero\": 406, \"pop_adulta\": 7356971, \"tx_pop\": 5.518575511579425}, {\"ano\": 2018, \"genero\": \"Masculino\", \"uf\": \"MS\", \"numero\": 56, \"pop_adulta\": 1040242, \"tx_pop\": 5.3833627175215}, {\"ano\": 2018, \"genero\": \"Feminino\", \"uf\": \"RN\", \"numero\": 69, \"pop_adulta\": 1413582, \"tx_pop\": 4.881216653862316}, {\"ano\": 2018, \"genero\": \"Masculino\", \"uf\": \"RJ\", \"numero\": 317, \"pop_adulta\": 6528318, \"tx_pop\": 4.855768361774044}, {\"ano\": 2018, \"genero\": \"Masculino\", \"uf\": \"RS\", \"numero\": 211, \"pop_adulta\": 4441054, \"tx_pop\": 4.751124395244912}, {\"ano\": 2018, \"genero\": \"Feminino\", \"uf\": \"MG\", \"numero\": 412, \"pop_adulta\": 8708659, \"tx_pop\": 4.730923555509523}, {\"ano\": 2018, \"genero\": \"Masculino\", \"uf\": \"ES\", \"numero\": 66, \"pop_adulta\": 1527255, \"tx_pop\": 4.321478731449562}, {\"ano\": 2018, \"genero\": \"Feminino\", \"uf\": \"AL\", \"numero\": 56, \"pop_adulta\": 1326272, \"tx_pop\": 4.222361627177532}, {\"ano\": 2018, \"genero\": \"Feminino\", \"uf\": \"GO\", \"numero\": 116, \"pop_adulta\": 2750317, \"tx_pop\": 4.217695632903407}, {\"ano\": 2018, \"genero\": \"Masculino\", \"uf\": \"PR\", \"numero\": 175, \"pop_adulta\": 4382183, \"tx_pop\": 3.9934434504446754}, {\"ano\": 2018, \"genero\": \"Feminino\", \"uf\": \"ES\", \"numero\": 63, \"pop_adulta\": 1605867, \"tx_pop\": 3.9231144297753175}, {\"ano\": 2018, \"genero\": \"Masculino\", \"uf\": \"MG\", \"numero\": 325, \"pop_adulta\": 8294875, \"tx_pop\": 3.918081948190901}, {\"ano\": 2018, \"genero\": \"Feminino\", \"uf\": \"AC\", \"numero\": 12, \"pop_adulta\": 306399, \"tx_pop\": 3.9164618683481343}, {\"ano\": 2018, \"genero\": \"Feminino\", \"uf\": \"PB\", \"numero\": 64, \"pop_adulta\": 1639261, \"tx_pop\": 3.9041982942313638}, {\"ano\": 2018, \"genero\": \"Masculino\", \"uf\": \"GO\", \"numero\": 102, \"pop_adulta\": 2663424, \"tx_pop\": 3.829656862745098}, {\"ano\": 2018, \"genero\": \"Masculino\", \"uf\": \"PE\", \"numero\": 131, \"pop_adulta\": 3457694, \"tx_pop\": 3.788652205776451}, {\"ano\": 2018, \"genero\": \"Feminino\", \"uf\": \"PA\", \"numero\": 112, \"pop_adulta\": 3127128, \"tx_pop\": 3.5815611001532397}, {\"ano\": 2018, \"genero\": \"Masculino\", \"uf\": \"CE\", \"numero\": 118, \"pop_adulta\": 3386007, \"tx_pop\": 3.4849307753941443}, {\"ano\": 2018, \"genero\": \"Masculino\", \"uf\": \"RN\", \"numero\": 45, \"pop_adulta\": 1313055, \"tx_pop\": 3.4271222454504957}, {\"ano\": 2018, \"genero\": \"Masculino\", \"uf\": \"AL\", \"numero\": 39, \"pop_adulta\": 1178488, \"tx_pop\": 3.3093251691998558}, {\"ano\": 2018, \"genero\": \"Masculino\", \"uf\": \"PA\", \"numero\": 89, \"pop_adulta\": 3110933, \"tx_pop\": 2.8608780709838495}, {\"ano\": 2018, \"genero\": \"Feminino\", \"uf\": \"BA\", \"numero\": 170, \"pop_adulta\": 6012592, \"tx_pop\": 2.8273995641147778}, {\"ano\": 2018, \"genero\": \"Masculino\", \"uf\": \"PB\", \"numero\": 41, \"pop_adulta\": 1481312, \"tx_pop\": 2.7678166382234126}, {\"ano\": 2018, \"genero\": \"Feminino\", \"uf\": \"RO\", \"numero\": 18, \"pop_adulta\": 665384, \"tx_pop\": 2.705204814062256}, {\"ano\": 2018, \"genero\": \"Feminino\", \"uf\": \"SE\", \"numero\": 23, \"pop_adulta\": 920244, \"tx_pop\": 2.4993371323257745}, {\"ano\": 2018, \"genero\": \"Masculino\", \"uf\": \"SE\", \"numero\": 20, \"pop_adulta\": 833423, \"tx_pop\": 2.3997417877836345}, {\"ano\": 2018, \"genero\": \"Feminino\", \"uf\": \"MT\", \"numero\": 31, \"pop_adulta\": 1296012, \"tx_pop\": 2.3919531609275224}, {\"ano\": 2018, \"genero\": \"Feminino\", \"uf\": \"AP\", \"numero\": 7, \"pop_adulta\": 295980, \"tx_pop\": 2.365024663828637}, {\"ano\": 2018, \"genero\": \"Feminino\", \"uf\": \"AM\", \"numero\": 31, \"pop_adulta\": 1443746, \"tx_pop\": 2.1471920961166298}, {\"ano\": 2018, \"genero\": \"Feminino\", \"uf\": \"PI\", \"numero\": 28, \"pop_adulta\": 1311806, \"tx_pop\": 2.134461955502567}, {\"ano\": 2018, \"genero\": \"Masculino\", \"uf\": \"BA\", \"numero\": 118, \"pop_adulta\": 5551635, \"tx_pop\": 2.12549996532553}, {\"ano\": 2018, \"genero\": \"Masculino\", \"uf\": \"AC\", \"numero\": 6, \"pop_adulta\": 301758, \"tx_pop\": 1.9883482790845644}, {\"ano\": 2018, \"genero\": \"Feminino\", \"uf\": \"RR\", \"numero\": 4, \"pop_adulta\": 201985, \"tx_pop\": 1.9803450751293414}, {\"ano\": 2018, \"genero\": \"Feminino\", \"uf\": \"TO\", \"numero\": 11, \"pop_adulta\": 581958, \"tx_pop\": 1.890170768337234}, {\"ano\": 2018, \"genero\": \"Masculino\", \"uf\": \"PI\", \"numero\": 17, \"pop_adulta\": 1201187, \"tx_pop\": 1.4152667319909389}, {\"ano\": 2018, \"genero\": \"Masculino\", \"uf\": \"AM\", \"numero\": 18, \"pop_adulta\": 1436331, \"tx_pop\": 1.2531930314112834}, {\"ano\": 2018, \"genero\": \"Masculino\", \"uf\": \"TO\", \"numero\": 7, \"pop_adulta\": 586706, \"tx_pop\": 1.1931018261275665}, {\"ano\": 2018, \"genero\": \"Masculino\", \"uf\": \"MT\", \"numero\": 15, \"pop_adulta\": 1330673, \"tx_pop\": 1.1272491438542753}, {\"ano\": 2018, \"genero\": \"Masculino\", \"uf\": \"RO\", \"numero\": 6, \"pop_adulta\": 677846, \"tx_pop\": 0.8851568055280993}, {\"ano\": 2018, \"genero\": \"Feminino\", \"uf\": \"MA\", \"numero\": 14, \"pop_adulta\": 2649907, \"tx_pop\": 0.5283204278489774}, {\"ano\": 2018, \"genero\": \"Masculino\", \"uf\": \"MA\", \"numero\": 12, \"pop_adulta\": 2500973, \"tx_pop\": 0.47981325668049996}, {\"ano\": 2018, \"genero\": \"Masculino\", \"uf\": \"RR\", \"numero\": 1, \"pop_adulta\": 212649, \"tx_pop\": 0.47025850109805356}, {\"ano\": 2018, \"genero\": \"Masculino\", \"uf\": \"AP\", \"numero\": 1, \"pop_adulta\": 292039, \"tx_pop\": 0.3424200192440051}]}}, {\"mode\": \"vega-lite\"});\n",
              "</script>"
            ]
          },
          "metadata": {},
          "execution_count": 163
        }
      ]
    },
    {
      "cell_type": "markdown",
      "metadata": {
        "id": "-ZbU4mCRqosr"
      },
      "source": [
        "### Em um mapa do Brasil, como ficam as taxas de casamentos LGBTS por 100 mil adultos?\n",
        "\n",
        "Observação: para fazer o mapa do Brasil é necessário fazer indicar o caminho para o arquivo \"bcim_2016_21_11_2018.gpkg\", que pode ser baixado do site do IBGE. Este trecho do mapa não funciona no Colab a princípio, mas sim no Jupyter Notebook. [Veja a análise inicial aqui](https://github.com/gabrielacaesar/lgbt_casamento/blob/main/notebooks/gabriela-caesar-analise-de-dados-2out2021-perguntas_2.ipynb)."
      ]
    },
    {
      "cell_type": "code",
      "metadata": {
        "id": "lQi1ORqum2f2",
        "colab": {
          "base_uri": "https://localhost:8080/",
          "height": 206
        },
        "outputId": "1b143e05-4416-49aa-95ac-0b5b44959665"
      },
      "source": [
        "tx_pop_lgbt_casamento = pop_lgbt_casamento.groupby(['ano', 'uf']).agg({'numero': sum,'tx_pop': sum}).reset_index()\n",
        "tx_pop_lgbt_casamento.head()"
      ],
      "execution_count": 98,
      "outputs": [
        {
          "output_type": "execute_result",
          "data": {
            "text/html": [
              "<div>\n",
              "<style scoped>\n",
              "    .dataframe tbody tr th:only-of-type {\n",
              "        vertical-align: middle;\n",
              "    }\n",
              "\n",
              "    .dataframe tbody tr th {\n",
              "        vertical-align: top;\n",
              "    }\n",
              "\n",
              "    .dataframe thead th {\n",
              "        text-align: right;\n",
              "    }\n",
              "</style>\n",
              "<table border=\"1\" class=\"dataframe\">\n",
              "  <thead>\n",
              "    <tr style=\"text-align: right;\">\n",
              "      <th></th>\n",
              "      <th>ano</th>\n",
              "      <th>uf</th>\n",
              "      <th>numero</th>\n",
              "      <th>tx_pop</th>\n",
              "    </tr>\n",
              "  </thead>\n",
              "  <tbody>\n",
              "    <tr>\n",
              "      <th>0</th>\n",
              "      <td>2013</td>\n",
              "      <td>AC</td>\n",
              "      <td>0</td>\n",
              "      <td>0.000000</td>\n",
              "    </tr>\n",
              "    <tr>\n",
              "      <th>1</th>\n",
              "      <td>2013</td>\n",
              "      <td>AL</td>\n",
              "      <td>17</td>\n",
              "      <td>1.404225</td>\n",
              "    </tr>\n",
              "    <tr>\n",
              "      <th>2</th>\n",
              "      <td>2013</td>\n",
              "      <td>AM</td>\n",
              "      <td>7</td>\n",
              "      <td>0.547217</td>\n",
              "    </tr>\n",
              "    <tr>\n",
              "      <th>3</th>\n",
              "      <td>2013</td>\n",
              "      <td>AP</td>\n",
              "      <td>6</td>\n",
              "      <td>2.380704</td>\n",
              "    </tr>\n",
              "    <tr>\n",
              "      <th>4</th>\n",
              "      <td>2013</td>\n",
              "      <td>BA</td>\n",
              "      <td>99</td>\n",
              "      <td>1.809937</td>\n",
              "    </tr>\n",
              "  </tbody>\n",
              "</table>\n",
              "</div>"
            ],
            "text/plain": [
              "    ano  uf  numero    tx_pop\n",
              "0  2013  AC       0  0.000000\n",
              "1  2013  AL      17  1.404225\n",
              "2  2013  AM       7  0.547217\n",
              "3  2013  AP       6  2.380704\n",
              "4  2013  BA      99  1.809937"
            ]
          },
          "metadata": {},
          "execution_count": 98
        }
      ]
    },
    {
      "cell_type": "code",
      "metadata": {
        "colab": {
          "base_uri": "https://localhost:8080/"
        },
        "id": "zk7S_Jy7q0A4",
        "outputId": "37e81087-1022-497e-d2b2-37787965071f"
      },
      "source": [
        "print(\" --------------------------- \\n         Bem-vindo/a! \\n ---------------------------\")\n",
        "ano_user = int(input(\"Escolha um ano de 2013 a 2019: \\n\"))\n",
        "#print(uf_user)\n",
        "print(\" --------------------------- \\n      Já vamos calcular! \\n ---------------------------\")"
      ],
      "execution_count": 99,
      "outputs": [
        {
          "output_type": "stream",
          "name": "stdout",
          "text": [
            " --------------------------- \n",
            "         Bem-vindo/a! \n",
            " ---------------------------\n",
            "Escolha um ano de 2013 a 2019: \n",
            "2018\n",
            " --------------------------- \n",
            "      Já vamos calcular! \n",
            " ---------------------------\n"
          ]
        }
      ]
    },
    {
      "cell_type": "code",
      "metadata": {
        "id": "2ile0iGhq1iC",
        "colab": {
          "base_uri": "https://localhost:8080/",
          "height": 206
        },
        "outputId": "1a822261-2069-4e88-d69a-21de33c55758"
      },
      "source": [
        "ano_user_tx_pop_lgbt_casamento = tx_pop_lgbt_casamento.query('ano == @ano_user', engine='python')\n",
        "ano_user_tx_pop_lgbt_casamento.head()"
      ],
      "execution_count": 100,
      "outputs": [
        {
          "output_type": "execute_result",
          "data": {
            "text/html": [
              "<div>\n",
              "<style scoped>\n",
              "    .dataframe tbody tr th:only-of-type {\n",
              "        vertical-align: middle;\n",
              "    }\n",
              "\n",
              "    .dataframe tbody tr th {\n",
              "        vertical-align: top;\n",
              "    }\n",
              "\n",
              "    .dataframe thead th {\n",
              "        text-align: right;\n",
              "    }\n",
              "</style>\n",
              "<table border=\"1\" class=\"dataframe\">\n",
              "  <thead>\n",
              "    <tr style=\"text-align: right;\">\n",
              "      <th></th>\n",
              "      <th>ano</th>\n",
              "      <th>uf</th>\n",
              "      <th>numero</th>\n",
              "      <th>tx_pop</th>\n",
              "    </tr>\n",
              "  </thead>\n",
              "  <tbody>\n",
              "    <tr>\n",
              "      <th>135</th>\n",
              "      <td>2018</td>\n",
              "      <td>AC</td>\n",
              "      <td>18</td>\n",
              "      <td>5.904810</td>\n",
              "    </tr>\n",
              "    <tr>\n",
              "      <th>136</th>\n",
              "      <td>2018</td>\n",
              "      <td>AL</td>\n",
              "      <td>95</td>\n",
              "      <td>7.531687</td>\n",
              "    </tr>\n",
              "    <tr>\n",
              "      <th>137</th>\n",
              "      <td>2018</td>\n",
              "      <td>AM</td>\n",
              "      <td>49</td>\n",
              "      <td>3.400385</td>\n",
              "    </tr>\n",
              "    <tr>\n",
              "      <th>138</th>\n",
              "      <td>2018</td>\n",
              "      <td>AP</td>\n",
              "      <td>8</td>\n",
              "      <td>2.707445</td>\n",
              "    </tr>\n",
              "    <tr>\n",
              "      <th>139</th>\n",
              "      <td>2018</td>\n",
              "      <td>BA</td>\n",
              "      <td>288</td>\n",
              "      <td>4.952900</td>\n",
              "    </tr>\n",
              "  </tbody>\n",
              "</table>\n",
              "</div>"
            ],
            "text/plain": [
              "      ano  uf  numero    tx_pop\n",
              "135  2018  AC      18  5.904810\n",
              "136  2018  AL      95  7.531687\n",
              "137  2018  AM      49  3.400385\n",
              "138  2018  AP       8  2.707445\n",
              "139  2018  BA     288  4.952900"
            ]
          },
          "metadata": {},
          "execution_count": 100
        }
      ]
    },
    {
      "cell_type": "code",
      "metadata": {
        "id": "6s2HTSsEq57h",
        "colab": {
          "base_uri": "https://localhost:8080/",
          "height": 607
        },
        "outputId": "64ba91f3-3e0c-4d1b-b08d-16f97a1dc520"
      },
      "source": [
        "# referência https://rodrigodutcosky.medium.com/mapas-coropl%C3%A9ticos-com-os-estados-do-brasil-em-python-b9b48c6db585\n",
        "# baixe o arquivo abaixo no link https://www.ibge.gov.br/geociencias/cartas-e-mapas/bases-cartograficas-continuas/15759-brasil.html?=&t=downloads\n",
        "# clique em 'bcim' > 'versao2016' > 'geopackage' > 'bcim_2016_21_11_2018.gpkg'\n",
        "info_ufs = gpd.read_file('bcim_2016_21_11_2018.gpkg', layer = 'lim_unidade_federacao_a')\n",
        "info_ufs.columns"
      ],
      "execution_count": 88,
      "outputs": [
        {
          "output_type": "error",
          "ename": "DriverError",
          "evalue": "ignored",
          "traceback": [
            "\u001b[0;31m---------------------------------------------------------------------------\u001b[0m",
            "\u001b[0;31mCPLE_OpenFailedError\u001b[0m                      Traceback (most recent call last)",
            "\u001b[0;32mfiona/_shim.pyx\u001b[0m in \u001b[0;36mfiona._shim.gdal_open_vector\u001b[0;34m()\u001b[0m\n",
            "\u001b[0;32mfiona/_err.pyx\u001b[0m in \u001b[0;36mfiona._err.exc_wrap_pointer\u001b[0;34m()\u001b[0m\n",
            "\u001b[0;31mCPLE_OpenFailedError\u001b[0m: bcim_2016_21_11_2018.gpkg: No such file or directory",
            "\nDuring handling of the above exception, another exception occurred:\n",
            "\u001b[0;31mDriverError\u001b[0m                               Traceback (most recent call last)",
            "\u001b[0;32m<ipython-input-88-4ff1c0472a2c>\u001b[0m in \u001b[0;36m<module>\u001b[0;34m()\u001b[0m\n\u001b[1;32m      2\u001b[0m \u001b[0;31m# baixe o arquivo abaixo no link https://www.ibge.gov.br/geociencias/cartas-e-mapas/bases-cartograficas-continuas/15759-brasil.html?=&t=downloads\u001b[0m\u001b[0;34m\u001b[0m\u001b[0;34m\u001b[0m\u001b[0;34m\u001b[0m\u001b[0m\n\u001b[1;32m      3\u001b[0m \u001b[0;31m# clique em 'bcim' > 'versao2016' > 'geopackage' > 'bcim_2016_21_11_2018.gpkg'\u001b[0m\u001b[0;34m\u001b[0m\u001b[0;34m\u001b[0m\u001b[0;34m\u001b[0m\u001b[0m\n\u001b[0;32m----> 4\u001b[0;31m \u001b[0minfo_ufs\u001b[0m \u001b[0;34m=\u001b[0m \u001b[0mgpd\u001b[0m\u001b[0;34m.\u001b[0m\u001b[0mread_file\u001b[0m\u001b[0;34m(\u001b[0m\u001b[0;34m'bcim_2016_21_11_2018.gpkg'\u001b[0m\u001b[0;34m,\u001b[0m \u001b[0mlayer\u001b[0m \u001b[0;34m=\u001b[0m \u001b[0;34m'lim_unidade_federacao_a'\u001b[0m\u001b[0;34m)\u001b[0m\u001b[0;34m\u001b[0m\u001b[0;34m\u001b[0m\u001b[0m\n\u001b[0m\u001b[1;32m      5\u001b[0m \u001b[0minfo_ufs\u001b[0m\u001b[0;34m.\u001b[0m\u001b[0mcolumns\u001b[0m\u001b[0;34m\u001b[0m\u001b[0;34m\u001b[0m\u001b[0m\n",
            "\u001b[0;32m/usr/local/lib/python3.7/dist-packages/geopandas/io/file.py\u001b[0m in \u001b[0;36m_read_file\u001b[0;34m(filename, bbox, mask, rows, **kwargs)\u001b[0m\n\u001b[1;32m    199\u001b[0m \u001b[0;34m\u001b[0m\u001b[0m\n\u001b[1;32m    200\u001b[0m     \u001b[0;32mwith\u001b[0m \u001b[0mfiona_env\u001b[0m\u001b[0;34m(\u001b[0m\u001b[0;34m)\u001b[0m\u001b[0;34m:\u001b[0m\u001b[0;34m\u001b[0m\u001b[0;34m\u001b[0m\u001b[0m\n\u001b[0;32m--> 201\u001b[0;31m         \u001b[0;32mwith\u001b[0m \u001b[0mreader\u001b[0m\u001b[0;34m(\u001b[0m\u001b[0mpath_or_bytes\u001b[0m\u001b[0;34m,\u001b[0m \u001b[0;34m**\u001b[0m\u001b[0mkwargs\u001b[0m\u001b[0;34m)\u001b[0m \u001b[0;32mas\u001b[0m \u001b[0mfeatures\u001b[0m\u001b[0;34m:\u001b[0m\u001b[0;34m\u001b[0m\u001b[0;34m\u001b[0m\u001b[0m\n\u001b[0m\u001b[1;32m    202\u001b[0m \u001b[0;34m\u001b[0m\u001b[0m\n\u001b[1;32m    203\u001b[0m             \u001b[0;31m# In a future Fiona release the crs attribute of features will\u001b[0m\u001b[0;34m\u001b[0m\u001b[0;34m\u001b[0m\u001b[0;34m\u001b[0m\u001b[0m\n",
            "\u001b[0;32m/usr/local/lib/python3.7/dist-packages/fiona/env.py\u001b[0m in \u001b[0;36mwrapper\u001b[0;34m(*args, **kwargs)\u001b[0m\n\u001b[1;32m    406\u001b[0m     \u001b[0;32mdef\u001b[0m \u001b[0mwrapper\u001b[0m\u001b[0;34m(\u001b[0m\u001b[0;34m*\u001b[0m\u001b[0margs\u001b[0m\u001b[0;34m,\u001b[0m \u001b[0;34m**\u001b[0m\u001b[0mkwargs\u001b[0m\u001b[0;34m)\u001b[0m\u001b[0;34m:\u001b[0m\u001b[0;34m\u001b[0m\u001b[0;34m\u001b[0m\u001b[0m\n\u001b[1;32m    407\u001b[0m         \u001b[0;32mif\u001b[0m \u001b[0mlocal\u001b[0m\u001b[0;34m.\u001b[0m\u001b[0m_env\u001b[0m\u001b[0;34m:\u001b[0m\u001b[0;34m\u001b[0m\u001b[0;34m\u001b[0m\u001b[0m\n\u001b[0;32m--> 408\u001b[0;31m             \u001b[0;32mreturn\u001b[0m \u001b[0mf\u001b[0m\u001b[0;34m(\u001b[0m\u001b[0;34m*\u001b[0m\u001b[0margs\u001b[0m\u001b[0;34m,\u001b[0m \u001b[0;34m**\u001b[0m\u001b[0mkwargs\u001b[0m\u001b[0;34m)\u001b[0m\u001b[0;34m\u001b[0m\u001b[0;34m\u001b[0m\u001b[0m\n\u001b[0m\u001b[1;32m    409\u001b[0m         \u001b[0;32melse\u001b[0m\u001b[0;34m:\u001b[0m\u001b[0;34m\u001b[0m\u001b[0;34m\u001b[0m\u001b[0m\n\u001b[1;32m    410\u001b[0m             \u001b[0;32mif\u001b[0m \u001b[0misinstance\u001b[0m\u001b[0;34m(\u001b[0m\u001b[0margs\u001b[0m\u001b[0;34m[\u001b[0m\u001b[0;36m0\u001b[0m\u001b[0;34m]\u001b[0m\u001b[0;34m,\u001b[0m \u001b[0mstr\u001b[0m\u001b[0;34m)\u001b[0m\u001b[0;34m:\u001b[0m\u001b[0;34m\u001b[0m\u001b[0;34m\u001b[0m\u001b[0m\n",
            "\u001b[0;32m/usr/local/lib/python3.7/dist-packages/fiona/__init__.py\u001b[0m in \u001b[0;36mopen\u001b[0;34m(fp, mode, driver, schema, crs, encoding, layer, vfs, enabled_drivers, crs_wkt, **kwargs)\u001b[0m\n\u001b[1;32m    255\u001b[0m         \u001b[0;32mif\u001b[0m \u001b[0mmode\u001b[0m \u001b[0;32min\u001b[0m \u001b[0;34m(\u001b[0m\u001b[0;34m'a'\u001b[0m\u001b[0;34m,\u001b[0m \u001b[0;34m'r'\u001b[0m\u001b[0;34m)\u001b[0m\u001b[0;34m:\u001b[0m\u001b[0;34m\u001b[0m\u001b[0;34m\u001b[0m\u001b[0m\n\u001b[1;32m    256\u001b[0m             c = Collection(path, mode, driver=driver, encoding=encoding,\n\u001b[0;32m--> 257\u001b[0;31m                            layer=layer, enabled_drivers=enabled_drivers, **kwargs)\n\u001b[0m\u001b[1;32m    258\u001b[0m         \u001b[0;32melif\u001b[0m \u001b[0mmode\u001b[0m \u001b[0;34m==\u001b[0m \u001b[0;34m'w'\u001b[0m\u001b[0;34m:\u001b[0m\u001b[0;34m\u001b[0m\u001b[0;34m\u001b[0m\u001b[0m\n\u001b[1;32m    259\u001b[0m             \u001b[0;32mif\u001b[0m \u001b[0mschema\u001b[0m\u001b[0;34m:\u001b[0m\u001b[0;34m\u001b[0m\u001b[0;34m\u001b[0m\u001b[0m\n",
            "\u001b[0;32m/usr/local/lib/python3.7/dist-packages/fiona/collection.py\u001b[0m in \u001b[0;36m__init__\u001b[0;34m(self, path, mode, driver, schema, crs, encoding, layer, vsi, archive, enabled_drivers, crs_wkt, ignore_fields, ignore_geometry, **kwargs)\u001b[0m\n\u001b[1;32m    160\u001b[0m             \u001b[0;32mif\u001b[0m \u001b[0mself\u001b[0m\u001b[0;34m.\u001b[0m\u001b[0mmode\u001b[0m \u001b[0;34m==\u001b[0m \u001b[0;34m'r'\u001b[0m\u001b[0;34m:\u001b[0m\u001b[0;34m\u001b[0m\u001b[0;34m\u001b[0m\u001b[0m\n\u001b[1;32m    161\u001b[0m                 \u001b[0mself\u001b[0m\u001b[0;34m.\u001b[0m\u001b[0msession\u001b[0m \u001b[0;34m=\u001b[0m \u001b[0mSession\u001b[0m\u001b[0;34m(\u001b[0m\u001b[0;34m)\u001b[0m\u001b[0;34m\u001b[0m\u001b[0;34m\u001b[0m\u001b[0m\n\u001b[0;32m--> 162\u001b[0;31m                 \u001b[0mself\u001b[0m\u001b[0;34m.\u001b[0m\u001b[0msession\u001b[0m\u001b[0;34m.\u001b[0m\u001b[0mstart\u001b[0m\u001b[0;34m(\u001b[0m\u001b[0mself\u001b[0m\u001b[0;34m,\u001b[0m \u001b[0;34m**\u001b[0m\u001b[0mkwargs\u001b[0m\u001b[0;34m)\u001b[0m\u001b[0;34m\u001b[0m\u001b[0;34m\u001b[0m\u001b[0m\n\u001b[0m\u001b[1;32m    163\u001b[0m             \u001b[0;32melif\u001b[0m \u001b[0mself\u001b[0m\u001b[0;34m.\u001b[0m\u001b[0mmode\u001b[0m \u001b[0;32min\u001b[0m \u001b[0;34m(\u001b[0m\u001b[0;34m'a'\u001b[0m\u001b[0;34m,\u001b[0m \u001b[0;34m'w'\u001b[0m\u001b[0;34m)\u001b[0m\u001b[0;34m:\u001b[0m\u001b[0;34m\u001b[0m\u001b[0;34m\u001b[0m\u001b[0m\n\u001b[1;32m    164\u001b[0m                 \u001b[0mself\u001b[0m\u001b[0;34m.\u001b[0m\u001b[0msession\u001b[0m \u001b[0;34m=\u001b[0m \u001b[0mWritingSession\u001b[0m\u001b[0;34m(\u001b[0m\u001b[0;34m)\u001b[0m\u001b[0;34m\u001b[0m\u001b[0;34m\u001b[0m\u001b[0m\n",
            "\u001b[0;32mfiona/ogrext.pyx\u001b[0m in \u001b[0;36mfiona.ogrext.Session.start\u001b[0;34m()\u001b[0m\n",
            "\u001b[0;32mfiona/_shim.pyx\u001b[0m in \u001b[0;36mfiona._shim.gdal_open_vector\u001b[0;34m()\u001b[0m\n",
            "\u001b[0;31mDriverError\u001b[0m: bcim_2016_21_11_2018.gpkg: No such file or directory"
          ]
        }
      ]
    },
    {
      "cell_type": "code",
      "metadata": {
        "id": "HeuuYWEIq49R",
        "colab": {
          "base_uri": "https://localhost:8080/",
          "height": 201
        },
        "outputId": "b02a70c1-ae2b-473a-dbbe-b2f43e76cbfc"
      },
      "source": [
        "info_ufs.rename({'sigla':'uf'}, axis = 1, inplace = True)\n",
        "mapa_br = info_ufs.merge(ano_user_tx_pop_lgbt_casamento, on = 'uf', how = 'left')\n",
        "#mapa_br[['uf', 'ano', 'numero', 'tx_pop', 'geometry']].head()"
      ],
      "execution_count": 89,
      "outputs": [
        {
          "output_type": "error",
          "ename": "NameError",
          "evalue": "ignored",
          "traceback": [
            "\u001b[0;31m---------------------------------------------------------------------------\u001b[0m",
            "\u001b[0;31mNameError\u001b[0m                                 Traceback (most recent call last)",
            "\u001b[0;32m<ipython-input-89-60fa4a0d8692>\u001b[0m in \u001b[0;36m<module>\u001b[0;34m()\u001b[0m\n\u001b[0;32m----> 1\u001b[0;31m \u001b[0minfo_ufs\u001b[0m\u001b[0;34m.\u001b[0m\u001b[0mrename\u001b[0m\u001b[0;34m(\u001b[0m\u001b[0;34m{\u001b[0m\u001b[0;34m'sigla'\u001b[0m\u001b[0;34m:\u001b[0m\u001b[0;34m'uf'\u001b[0m\u001b[0;34m}\u001b[0m\u001b[0;34m,\u001b[0m \u001b[0maxis\u001b[0m \u001b[0;34m=\u001b[0m \u001b[0;36m1\u001b[0m\u001b[0;34m,\u001b[0m \u001b[0minplace\u001b[0m \u001b[0;34m=\u001b[0m \u001b[0;32mTrue\u001b[0m\u001b[0;34m)\u001b[0m\u001b[0;34m\u001b[0m\u001b[0;34m\u001b[0m\u001b[0m\n\u001b[0m\u001b[1;32m      2\u001b[0m \u001b[0mmapa_br\u001b[0m \u001b[0;34m=\u001b[0m \u001b[0minfo_ufs\u001b[0m\u001b[0;34m.\u001b[0m\u001b[0mmerge\u001b[0m\u001b[0;34m(\u001b[0m\u001b[0mano_user_tx_pop_lgbt_casamento\u001b[0m\u001b[0;34m,\u001b[0m \u001b[0mon\u001b[0m \u001b[0;34m=\u001b[0m \u001b[0;34m'uf'\u001b[0m\u001b[0;34m,\u001b[0m \u001b[0mhow\u001b[0m \u001b[0;34m=\u001b[0m \u001b[0;34m'left'\u001b[0m\u001b[0;34m)\u001b[0m\u001b[0;34m\u001b[0m\u001b[0;34m\u001b[0m\u001b[0m\n\u001b[1;32m      3\u001b[0m \u001b[0;31m#mapa_br[['uf', 'ano', 'numero', 'tx_pop', 'geometry']].head()\u001b[0m\u001b[0;34m\u001b[0m\u001b[0;34m\u001b[0m\u001b[0;34m\u001b[0m\u001b[0m\n",
            "\u001b[0;31mNameError\u001b[0m: name 'info_ufs' is not defined"
          ]
        }
      ]
    },
    {
      "cell_type": "code",
      "metadata": {
        "id": "ClYnRpWtqwy5",
        "colab": {
          "base_uri": "https://localhost:8080/",
          "height": 236
        },
        "outputId": "a3a00641-53cc-4911-9685-2a3b5f14adbb"
      },
      "source": [
        "%matplotlib inline\n",
        "\n",
        "mapa_br.plot(column = 'tx_pop',\n",
        "             cmap = 'Blues',\n",
        "             figsize = (10, 6),\n",
        "             legend = True,\n",
        "             edgecolor = 'black')"
      ],
      "execution_count": 90,
      "outputs": [
        {
          "output_type": "error",
          "ename": "NameError",
          "evalue": "ignored",
          "traceback": [
            "\u001b[0;31m---------------------------------------------------------------------------\u001b[0m",
            "\u001b[0;31mNameError\u001b[0m                                 Traceback (most recent call last)",
            "\u001b[0;32m<ipython-input-90-b748add2f57e>\u001b[0m in \u001b[0;36m<module>\u001b[0;34m()\u001b[0m\n\u001b[1;32m      1\u001b[0m \u001b[0mget_ipython\u001b[0m\u001b[0;34m(\u001b[0m\u001b[0;34m)\u001b[0m\u001b[0;34m.\u001b[0m\u001b[0mmagic\u001b[0m\u001b[0;34m(\u001b[0m\u001b[0;34m'matplotlib inline'\u001b[0m\u001b[0;34m)\u001b[0m\u001b[0;34m\u001b[0m\u001b[0;34m\u001b[0m\u001b[0m\n\u001b[1;32m      2\u001b[0m \u001b[0;34m\u001b[0m\u001b[0m\n\u001b[0;32m----> 3\u001b[0;31m mapa_br.plot(column = 'tx_pop',\n\u001b[0m\u001b[1;32m      4\u001b[0m              \u001b[0mcmap\u001b[0m \u001b[0;34m=\u001b[0m \u001b[0;34m'Blues'\u001b[0m\u001b[0;34m,\u001b[0m\u001b[0;34m\u001b[0m\u001b[0;34m\u001b[0m\u001b[0m\n\u001b[1;32m      5\u001b[0m              \u001b[0mfigsize\u001b[0m \u001b[0;34m=\u001b[0m \u001b[0;34m(\u001b[0m\u001b[0;36m10\u001b[0m\u001b[0;34m,\u001b[0m \u001b[0;36m6\u001b[0m\u001b[0;34m)\u001b[0m\u001b[0;34m,\u001b[0m\u001b[0;34m\u001b[0m\u001b[0;34m\u001b[0m\u001b[0m\n",
            "\u001b[0;31mNameError\u001b[0m: name 'mapa_br' is not defined"
          ]
        }
      ]
    },
    {
      "cell_type": "markdown",
      "metadata": {
        "id": "jPTxMYo-rIA-"
      },
      "source": [
        "### Considerando a UF e o ano informados pelo usuário, quais são as estatísticas básicas dessa UF e desse ano quanto ao casamento LGBT?"
      ]
    },
    {
      "cell_type": "code",
      "metadata": {
        "id": "mnWc8girskHM",
        "colab": {
          "base_uri": "https://localhost:8080/",
          "height": 206
        },
        "outputId": "f68b9fd5-369d-4f84-f61c-a700874ae3aa"
      },
      "source": [
        "sigla_uf_lgbt_casamento = lgbt_casamento.merge(sigla_uf, how = 'left', left_on = 'uf', right_on = 'nome')\n",
        "sigla_uf_lgbt_casamento.head()"
      ],
      "execution_count": 105,
      "outputs": [
        {
          "output_type": "execute_result",
          "data": {
            "text/html": [
              "<div>\n",
              "<style scoped>\n",
              "    .dataframe tbody tr th:only-of-type {\n",
              "        vertical-align: middle;\n",
              "    }\n",
              "\n",
              "    .dataframe tbody tr th {\n",
              "        vertical-align: top;\n",
              "    }\n",
              "\n",
              "    .dataframe thead th {\n",
              "        text-align: right;\n",
              "    }\n",
              "</style>\n",
              "<table border=\"1\" class=\"dataframe\">\n",
              "  <thead>\n",
              "    <tr style=\"text-align: right;\">\n",
              "      <th></th>\n",
              "      <th>ano</th>\n",
              "      <th>uf_x</th>\n",
              "      <th>genero</th>\n",
              "      <th>mes</th>\n",
              "      <th>numero</th>\n",
              "      <th>codigo_uf</th>\n",
              "      <th>uf_y</th>\n",
              "      <th>nome</th>\n",
              "      <th>latitude</th>\n",
              "      <th>longitude</th>\n",
              "    </tr>\n",
              "  </thead>\n",
              "  <tbody>\n",
              "    <tr>\n",
              "      <th>0</th>\n",
              "      <td>2014</td>\n",
              "      <td>Rondônia</td>\n",
              "      <td>Masculino</td>\n",
              "      <td>Janeiro</td>\n",
              "      <td>0</td>\n",
              "      <td>11</td>\n",
              "      <td>RO</td>\n",
              "      <td>Rondônia</td>\n",
              "      <td>-10.83</td>\n",
              "      <td>-63.34</td>\n",
              "    </tr>\n",
              "    <tr>\n",
              "      <th>1</th>\n",
              "      <td>2014</td>\n",
              "      <td>Rondônia</td>\n",
              "      <td>Masculino</td>\n",
              "      <td>Fevereiro</td>\n",
              "      <td>0</td>\n",
              "      <td>11</td>\n",
              "      <td>RO</td>\n",
              "      <td>Rondônia</td>\n",
              "      <td>-10.83</td>\n",
              "      <td>-63.34</td>\n",
              "    </tr>\n",
              "    <tr>\n",
              "      <th>2</th>\n",
              "      <td>2014</td>\n",
              "      <td>Rondônia</td>\n",
              "      <td>Masculino</td>\n",
              "      <td>Março</td>\n",
              "      <td>0</td>\n",
              "      <td>11</td>\n",
              "      <td>RO</td>\n",
              "      <td>Rondônia</td>\n",
              "      <td>-10.83</td>\n",
              "      <td>-63.34</td>\n",
              "    </tr>\n",
              "    <tr>\n",
              "      <th>3</th>\n",
              "      <td>2014</td>\n",
              "      <td>Rondônia</td>\n",
              "      <td>Masculino</td>\n",
              "      <td>Abril</td>\n",
              "      <td>0</td>\n",
              "      <td>11</td>\n",
              "      <td>RO</td>\n",
              "      <td>Rondônia</td>\n",
              "      <td>-10.83</td>\n",
              "      <td>-63.34</td>\n",
              "    </tr>\n",
              "    <tr>\n",
              "      <th>4</th>\n",
              "      <td>2014</td>\n",
              "      <td>Rondônia</td>\n",
              "      <td>Masculino</td>\n",
              "      <td>Maio</td>\n",
              "      <td>0</td>\n",
              "      <td>11</td>\n",
              "      <td>RO</td>\n",
              "      <td>Rondônia</td>\n",
              "      <td>-10.83</td>\n",
              "      <td>-63.34</td>\n",
              "    </tr>\n",
              "  </tbody>\n",
              "</table>\n",
              "</div>"
            ],
            "text/plain": [
              "    ano      uf_x     genero        mes  ...  uf_y      nome latitude longitude\n",
              "0  2014  Rondônia  Masculino    Janeiro  ...    RO  Rondônia   -10.83    -63.34\n",
              "1  2014  Rondônia  Masculino  Fevereiro  ...    RO  Rondônia   -10.83    -63.34\n",
              "2  2014  Rondônia  Masculino      Março  ...    RO  Rondônia   -10.83    -63.34\n",
              "3  2014  Rondônia  Masculino      Abril  ...    RO  Rondônia   -10.83    -63.34\n",
              "4  2014  Rondônia  Masculino       Maio  ...    RO  Rondônia   -10.83    -63.34\n",
              "\n",
              "[5 rows x 10 columns]"
            ]
          },
          "metadata": {},
          "execution_count": 105
        }
      ]
    },
    {
      "cell_type": "code",
      "metadata": {
        "id": "k-_1PVFCsMwW",
        "colab": {
          "base_uri": "https://localhost:8080/"
        },
        "outputId": "591ce1ff-d55a-409e-d5ec-0360bb2296d6"
      },
      "source": [
        "print(\" --------------------------- \\n         Bem-vindo/a! \\n ---------------------------\")\n",
        "ano_user = int(input(\"Escolha um ano de 2013 a 2019: \\n\"))\n",
        "uf_user = input(\"Escolha uma UF. Por exemplo, AC, AL, SP, RJ... \\n\")\n",
        "uf_user = uf_user.upper().strip()\n",
        "#print(uf_user)\n",
        "print(\" --------------------------- \\n      Já vamos calcular! \\n ---------------------------\")"
      ],
      "execution_count": 102,
      "outputs": [
        {
          "output_type": "stream",
          "name": "stdout",
          "text": [
            " --------------------------- \n",
            "         Bem-vindo/a! \n",
            " ---------------------------\n",
            "Escolha um ano de 2013 a 2019: \n",
            "2018\n",
            "Escolha uma UF. Por exemplo, AC, AL, SP, RJ... \n",
            "sp\n",
            " --------------------------- \n",
            "      Já vamos calcular! \n",
            " ---------------------------\n"
          ]
        }
      ]
    },
    {
      "cell_type": "code",
      "metadata": {
        "id": "pP4J_WSvsNe_",
        "colab": {
          "base_uri": "https://localhost:8080/",
          "height": 422
        },
        "outputId": "bbb800ee-ad09-4ff6-b1c5-78b5e29b060d"
      },
      "source": [
        "# gráfico de linha usando filtro pela UF e pelo ano informados pelo usuário\n",
        "# referência https://altair-viz.github.io/gallery/line_chart_with_points.html\n",
        "alt.Chart(sigla_uf_lgbt_casamento.query('uf_y == @uf_user & ano == @ano_user', engine='python')).mark_line(point=True).encode(\n",
        "    x = alt.X('mes', title = 'Mês', sort=['Janeiro', 'Fevereiro', 'Março']),\n",
        "    y = alt.Y('numero', title='Nº de casamentos'),\n",
        "    color = alt.Color('genero', title = 'Gênero'),\n",
        "    tooltip = ['mes', 'ano', 'genero', 'numero']\n",
        ").properties(\n",
        "    title = f'{uf_user}: Casamento LGBTs em {ano_user}',\n",
        "    width=600,\n",
        "    height=300\n",
        ").interactive()"
      ],
      "execution_count": 162,
      "outputs": [
        {
          "output_type": "execute_result",
          "data": {
            "text/plain": [
              "alt.Chart(...)"
            ],
            "text/html": [
              "\n",
              "<div id=\"altair-viz-129c7c73948642fa8c764679f4fc3f45\"></div>\n",
              "<script type=\"text/javascript\">\n",
              "  (function(spec, embedOpt){\n",
              "    let outputDiv = document.currentScript.previousElementSibling;\n",
              "    if (outputDiv.id !== \"altair-viz-129c7c73948642fa8c764679f4fc3f45\") {\n",
              "      outputDiv = document.getElementById(\"altair-viz-129c7c73948642fa8c764679f4fc3f45\");\n",
              "    }\n",
              "    const paths = {\n",
              "      \"vega\": \"https://cdn.jsdelivr.net/npm//vega@5?noext\",\n",
              "      \"vega-lib\": \"https://cdn.jsdelivr.net/npm//vega-lib?noext\",\n",
              "      \"vega-lite\": \"https://cdn.jsdelivr.net/npm//vega-lite@4.8.1?noext\",\n",
              "      \"vega-embed\": \"https://cdn.jsdelivr.net/npm//vega-embed@6?noext\",\n",
              "    };\n",
              "\n",
              "    function loadScript(lib) {\n",
              "      return new Promise(function(resolve, reject) {\n",
              "        var s = document.createElement('script');\n",
              "        s.src = paths[lib];\n",
              "        s.async = true;\n",
              "        s.onload = () => resolve(paths[lib]);\n",
              "        s.onerror = () => reject(`Error loading script: ${paths[lib]}`);\n",
              "        document.getElementsByTagName(\"head\")[0].appendChild(s);\n",
              "      });\n",
              "    }\n",
              "\n",
              "    function showError(err) {\n",
              "      outputDiv.innerHTML = `<div class=\"error\" style=\"color:red;\">${err}</div>`;\n",
              "      throw err;\n",
              "    }\n",
              "\n",
              "    function displayChart(vegaEmbed) {\n",
              "      vegaEmbed(outputDiv, spec, embedOpt)\n",
              "        .catch(err => showError(`Javascript Error: ${err.message}<br>This usually means there's a typo in your chart specification. See the javascript console for the full traceback.`));\n",
              "    }\n",
              "\n",
              "    if(typeof define === \"function\" && define.amd) {\n",
              "      requirejs.config({paths});\n",
              "      require([\"vega-embed\"], displayChart, err => showError(`Error loading script: ${err.message}`));\n",
              "    } else if (typeof vegaEmbed === \"function\") {\n",
              "      displayChart(vegaEmbed);\n",
              "    } else {\n",
              "      loadScript(\"vega\")\n",
              "        .then(() => loadScript(\"vega-lite\"))\n",
              "        .then(() => loadScript(\"vega-embed\"))\n",
              "        .catch(showError)\n",
              "        .then(() => displayChart(vegaEmbed));\n",
              "    }\n",
              "  })({\"config\": {\"view\": {\"continuousWidth\": 400, \"continuousHeight\": 300}}, \"data\": {\"name\": \"data-ace1c69706da59cb6a8de26969e61026\"}, \"mark\": {\"type\": \"line\", \"point\": true}, \"encoding\": {\"color\": {\"type\": \"nominal\", \"field\": \"genero\", \"title\": \"G\\u00eanero\"}, \"tooltip\": [{\"type\": \"nominal\", \"field\": \"mes\"}, {\"type\": \"quantitative\", \"field\": \"ano\"}, {\"type\": \"nominal\", \"field\": \"genero\"}, {\"type\": \"quantitative\", \"field\": \"numero\"}], \"x\": {\"type\": \"nominal\", \"field\": \"mes\", \"sort\": [\"Janeiro\", \"Fevereiro\", \"Mar\\u00e7o\"], \"title\": \"M\\u00eas\"}, \"y\": {\"type\": \"quantitative\", \"field\": \"numero\", \"title\": \"N\\u00ba de casamentos\"}}, \"height\": 300, \"selection\": {\"selector028\": {\"type\": \"interval\", \"bind\": \"scales\", \"encodings\": [\"x\", \"y\"]}}, \"title\": \"SP: Casamento LGBTs em 2018\", \"width\": 600, \"$schema\": \"https://vega.github.io/schema/vega-lite/v4.8.1.json\", \"datasets\": {\"data-ace1c69706da59cb6a8de26969e61026\": [{\"ano\": 2018, \"uf_x\": \"S\\u00e3o Paulo\", \"genero\": \"Masculino\", \"mes\": \"Janeiro\", \"numero\": 96, \"codigo_uf\": 35, \"uf_y\": \"SP\", \"nome\": \"S\\u00e3o Paulo\", \"latitude\": -22.19, \"longitude\": -48.79}, {\"ano\": 2018, \"uf_x\": \"S\\u00e3o Paulo\", \"genero\": \"Masculino\", \"mes\": \"Fevereiro\", \"numero\": 91, \"codigo_uf\": 35, \"uf_y\": \"SP\", \"nome\": \"S\\u00e3o Paulo\", \"latitude\": -22.19, \"longitude\": -48.79}, {\"ano\": 2018, \"uf_x\": \"S\\u00e3o Paulo\", \"genero\": \"Masculino\", \"mes\": \"Mar\\u00e7o\", \"numero\": 101, \"codigo_uf\": 35, \"uf_y\": \"SP\", \"nome\": \"S\\u00e3o Paulo\", \"latitude\": -22.19, \"longitude\": -48.79}, {\"ano\": 2018, \"uf_x\": \"S\\u00e3o Paulo\", \"genero\": \"Masculino\", \"mes\": \"Abril\", \"numero\": 78, \"codigo_uf\": 35, \"uf_y\": \"SP\", \"nome\": \"S\\u00e3o Paulo\", \"latitude\": -22.19, \"longitude\": -48.79}, {\"ano\": 2018, \"uf_x\": \"S\\u00e3o Paulo\", \"genero\": \"Masculino\", \"mes\": \"Maio\", \"numero\": 94, \"codigo_uf\": 35, \"uf_y\": \"SP\", \"nome\": \"S\\u00e3o Paulo\", \"latitude\": -22.19, \"longitude\": -48.79}, {\"ano\": 2018, \"uf_x\": \"S\\u00e3o Paulo\", \"genero\": \"Masculino\", \"mes\": \"Junho\", \"numero\": 113, \"codigo_uf\": 35, \"uf_y\": \"SP\", \"nome\": \"S\\u00e3o Paulo\", \"latitude\": -22.19, \"longitude\": -48.79}, {\"ano\": 2018, \"uf_x\": \"S\\u00e3o Paulo\", \"genero\": \"Masculino\", \"mes\": \"Julho\", \"numero\": 96, \"codigo_uf\": 35, \"uf_y\": \"SP\", \"nome\": \"S\\u00e3o Paulo\", \"latitude\": -22.19, \"longitude\": -48.79}, {\"ano\": 2018, \"uf_x\": \"S\\u00e3o Paulo\", \"genero\": \"Masculino\", \"mes\": \"Agosto\", \"numero\": 65, \"codigo_uf\": 35, \"uf_y\": \"SP\", \"nome\": \"S\\u00e3o Paulo\", \"latitude\": -22.19, \"longitude\": -48.79}, {\"ano\": 2018, \"uf_x\": \"S\\u00e3o Paulo\", \"genero\": \"Masculino\", \"mes\": \"Setembro\", \"numero\": 102, \"codigo_uf\": 35, \"uf_y\": \"SP\", \"nome\": \"S\\u00e3o Paulo\", \"latitude\": -22.19, \"longitude\": -48.79}, {\"ano\": 2018, \"uf_x\": \"S\\u00e3o Paulo\", \"genero\": \"Masculino\", \"mes\": \"Outubro\", \"numero\": 111, \"codigo_uf\": 35, \"uf_y\": \"SP\", \"nome\": \"S\\u00e3o Paulo\", \"latitude\": -22.19, \"longitude\": -48.79}, {\"ano\": 2018, \"uf_x\": \"S\\u00e3o Paulo\", \"genero\": \"Masculino\", \"mes\": \"Novembro\", \"numero\": 167, \"codigo_uf\": 35, \"uf_y\": \"SP\", \"nome\": \"S\\u00e3o Paulo\", \"latitude\": -22.19, \"longitude\": -48.79}, {\"ano\": 2018, \"uf_x\": \"S\\u00e3o Paulo\", \"genero\": \"Masculino\", \"mes\": \"Dezembro\", \"numero\": 541, \"codigo_uf\": 35, \"uf_y\": \"SP\", \"nome\": \"S\\u00e3o Paulo\", \"latitude\": -22.19, \"longitude\": -48.79}, {\"ano\": 2018, \"uf_x\": \"S\\u00e3o Paulo\", \"genero\": \"Feminino\", \"mes\": \"Janeiro\", \"numero\": 129, \"codigo_uf\": 35, \"uf_y\": \"SP\", \"nome\": \"S\\u00e3o Paulo\", \"latitude\": -22.19, \"longitude\": -48.79}, {\"ano\": 2018, \"uf_x\": \"S\\u00e3o Paulo\", \"genero\": \"Feminino\", \"mes\": \"Fevereiro\", \"numero\": 105, \"codigo_uf\": 35, \"uf_y\": \"SP\", \"nome\": \"S\\u00e3o Paulo\", \"latitude\": -22.19, \"longitude\": -48.79}, {\"ano\": 2018, \"uf_x\": \"S\\u00e3o Paulo\", \"genero\": \"Feminino\", \"mes\": \"Mar\\u00e7o\", \"numero\": 107, \"codigo_uf\": 35, \"uf_y\": \"SP\", \"nome\": \"S\\u00e3o Paulo\", \"latitude\": -22.19, \"longitude\": -48.79}, {\"ano\": 2018, \"uf_x\": \"S\\u00e3o Paulo\", \"genero\": \"Feminino\", \"mes\": \"Abril\", \"numero\": 120, \"codigo_uf\": 35, \"uf_y\": \"SP\", \"nome\": \"S\\u00e3o Paulo\", \"latitude\": -22.19, \"longitude\": -48.79}, {\"ano\": 2018, \"uf_x\": \"S\\u00e3o Paulo\", \"genero\": \"Feminino\", \"mes\": \"Maio\", \"numero\": 131, \"codigo_uf\": 35, \"uf_y\": \"SP\", \"nome\": \"S\\u00e3o Paulo\", \"latitude\": -22.19, \"longitude\": -48.79}, {\"ano\": 2018, \"uf_x\": \"S\\u00e3o Paulo\", \"genero\": \"Feminino\", \"mes\": \"Junho\", \"numero\": 130, \"codigo_uf\": 35, \"uf_y\": \"SP\", \"nome\": \"S\\u00e3o Paulo\", \"latitude\": -22.19, \"longitude\": -48.79}, {\"ano\": 2018, \"uf_x\": \"S\\u00e3o Paulo\", \"genero\": \"Feminino\", \"mes\": \"Julho\", \"numero\": 143, \"codigo_uf\": 35, \"uf_y\": \"SP\", \"nome\": \"S\\u00e3o Paulo\", \"latitude\": -22.19, \"longitude\": -48.79}, {\"ano\": 2018, \"uf_x\": \"S\\u00e3o Paulo\", \"genero\": \"Feminino\", \"mes\": \"Agosto\", \"numero\": 120, \"codigo_uf\": 35, \"uf_y\": \"SP\", \"nome\": \"S\\u00e3o Paulo\", \"latitude\": -22.19, \"longitude\": -48.79}, {\"ano\": 2018, \"uf_x\": \"S\\u00e3o Paulo\", \"genero\": \"Feminino\", \"mes\": \"Setembro\", \"numero\": 184, \"codigo_uf\": 35, \"uf_y\": \"SP\", \"nome\": \"S\\u00e3o Paulo\", \"latitude\": -22.19, \"longitude\": -48.79}, {\"ano\": 2018, \"uf_x\": \"S\\u00e3o Paulo\", \"genero\": \"Feminino\", \"mes\": \"Outubro\", \"numero\": 189, \"codigo_uf\": 35, \"uf_y\": \"SP\", \"nome\": \"S\\u00e3o Paulo\", \"latitude\": -22.19, \"longitude\": -48.79}, {\"ano\": 2018, \"uf_x\": \"S\\u00e3o Paulo\", \"genero\": \"Feminino\", \"mes\": \"Novembro\", \"numero\": 260, \"codigo_uf\": 35, \"uf_y\": \"SP\", \"nome\": \"S\\u00e3o Paulo\", \"latitude\": -22.19, \"longitude\": -48.79}, {\"ano\": 2018, \"uf_x\": \"S\\u00e3o Paulo\", \"genero\": \"Feminino\", \"mes\": \"Dezembro\", \"numero\": 827, \"codigo_uf\": 35, \"uf_y\": \"SP\", \"nome\": \"S\\u00e3o Paulo\", \"latitude\": -22.19, \"longitude\": -48.79}]}}, {\"mode\": \"vega-lite\"});\n",
              "</script>"
            ]
          },
          "metadata": {},
          "execution_count": 162
        }
      ]
    },
    {
      "cell_type": "code",
      "metadata": {
        "id": "9gunNoiPsyEc",
        "colab": {
          "base_uri": "https://localhost:8080/",
          "height": 412
        },
        "outputId": "818abdb2-e197-454d-c178-546bc836d529"
      },
      "source": [
        "# boxplot usando filtro pela UF informada pelo usuário\n",
        "# referência https://altair-viz.github.io/gallery/boxplot.html\n",
        "\n",
        "dados_user = sigla_uf_lgbt_casamento.query('uf_y == @uf_user', engine='python')\n",
        "\n",
        "alt.Chart(dados_user).mark_boxplot(size=80).encode(\n",
        "    x = alt.X('ano:O', title=\"Ano\"),\n",
        "    y = alt.Y('numero', title=\"Nº de casamentos\"),\n",
        "    color = alt.Color('genero', title='Gênero'),\n",
        "    tooltip = ['mes', 'ano', 'genero', 'numero']\n",
        ").properties(\n",
        "    title={\n",
        "      \"text\": [f'{uf_user}: Casamento LGBTs'], \n",
        "      \"subtitle\": [f'Mulheres vs. Homens']\n",
        "    },\n",
        "    width=600,\n",
        "    height=300\n",
        ").interactive()"
      ],
      "execution_count": 161,
      "outputs": [
        {
          "output_type": "execute_result",
          "data": {
            "text/plain": [
              "alt.Chart(...)"
            ],
            "text/html": [
              "\n",
              "<div id=\"altair-viz-d20c60aa93854ac0adab00ad9d0f8394\"></div>\n",
              "<script type=\"text/javascript\">\n",
              "  (function(spec, embedOpt){\n",
              "    let outputDiv = document.currentScript.previousElementSibling;\n",
              "    if (outputDiv.id !== \"altair-viz-d20c60aa93854ac0adab00ad9d0f8394\") {\n",
              "      outputDiv = document.getElementById(\"altair-viz-d20c60aa93854ac0adab00ad9d0f8394\");\n",
              "    }\n",
              "    const paths = {\n",
              "      \"vega\": \"https://cdn.jsdelivr.net/npm//vega@5?noext\",\n",
              "      \"vega-lib\": \"https://cdn.jsdelivr.net/npm//vega-lib?noext\",\n",
              "      \"vega-lite\": \"https://cdn.jsdelivr.net/npm//vega-lite@4.8.1?noext\",\n",
              "      \"vega-embed\": \"https://cdn.jsdelivr.net/npm//vega-embed@6?noext\",\n",
              "    };\n",
              "\n",
              "    function loadScript(lib) {\n",
              "      return new Promise(function(resolve, reject) {\n",
              "        var s = document.createElement('script');\n",
              "        s.src = paths[lib];\n",
              "        s.async = true;\n",
              "        s.onload = () => resolve(paths[lib]);\n",
              "        s.onerror = () => reject(`Error loading script: ${paths[lib]}`);\n",
              "        document.getElementsByTagName(\"head\")[0].appendChild(s);\n",
              "      });\n",
              "    }\n",
              "\n",
              "    function showError(err) {\n",
              "      outputDiv.innerHTML = `<div class=\"error\" style=\"color:red;\">${err}</div>`;\n",
              "      throw err;\n",
              "    }\n",
              "\n",
              "    function displayChart(vegaEmbed) {\n",
              "      vegaEmbed(outputDiv, spec, embedOpt)\n",
              "        .catch(err => showError(`Javascript Error: ${err.message}<br>This usually means there's a typo in your chart specification. See the javascript console for the full traceback.`));\n",
              "    }\n",
              "\n",
              "    if(typeof define === \"function\" && define.amd) {\n",
              "      requirejs.config({paths});\n",
              "      require([\"vega-embed\"], displayChart, err => showError(`Error loading script: ${err.message}`));\n",
              "    } else if (typeof vegaEmbed === \"function\") {\n",
              "      displayChart(vegaEmbed);\n",
              "    } else {\n",
              "      loadScript(\"vega\")\n",
              "        .then(() => loadScript(\"vega-lite\"))\n",
              "        .then(() => loadScript(\"vega-embed\"))\n",
              "        .catch(showError)\n",
              "        .then(() => displayChart(vegaEmbed));\n",
              "    }\n",
              "  })({\"config\": {\"view\": {\"continuousWidth\": 400, \"continuousHeight\": 300}}, \"data\": {\"name\": \"data-36145554d5ec4265a2cea7e014fa18be\"}, \"mark\": {\"type\": \"boxplot\", \"size\": 80}, \"encoding\": {\"color\": {\"type\": \"nominal\", \"field\": \"genero\", \"title\": \"G\\u00eanero\"}, \"tooltip\": [{\"type\": \"nominal\", \"field\": \"mes\"}, {\"type\": \"quantitative\", \"field\": \"ano\"}, {\"type\": \"nominal\", \"field\": \"genero\"}, {\"type\": \"quantitative\", \"field\": \"numero\"}], \"x\": {\"type\": \"ordinal\", \"field\": \"ano\", \"title\": \"Ano\"}, \"y\": {\"type\": \"quantitative\", \"field\": \"numero\", \"title\": \"N\\u00ba de casamentos\"}}, \"height\": 300, \"selection\": {\"selector027\": {\"type\": \"interval\", \"bind\": \"scales\", \"encodings\": [\"x\", \"y\"]}}, \"title\": {\"text\": [\"SP: Casamento LGBTs\"], \"subtitle\": [\"Mulheres vs. Homens\"]}, \"width\": 600, \"$schema\": \"https://vega.github.io/schema/vega-lite/v4.8.1.json\", \"datasets\": {\"data-36145554d5ec4265a2cea7e014fa18be\": [{\"ano\": 2014, \"uf_x\": \"S\\u00e3o Paulo\", \"genero\": \"Masculino\", \"mes\": \"Janeiro\", \"numero\": 64, \"codigo_uf\": 35, \"uf_y\": \"SP\", \"nome\": \"S\\u00e3o Paulo\", \"latitude\": -22.19, \"longitude\": -48.79}, {\"ano\": 2014, \"uf_x\": \"S\\u00e3o Paulo\", \"genero\": \"Masculino\", \"mes\": \"Fevereiro\", \"numero\": 76, \"codigo_uf\": 35, \"uf_y\": \"SP\", \"nome\": \"S\\u00e3o Paulo\", \"latitude\": -22.19, \"longitude\": -48.79}, {\"ano\": 2014, \"uf_x\": \"S\\u00e3o Paulo\", \"genero\": \"Masculino\", \"mes\": \"Mar\\u00e7o\", \"numero\": 80, \"codigo_uf\": 35, \"uf_y\": \"SP\", \"nome\": \"S\\u00e3o Paulo\", \"latitude\": -22.19, \"longitude\": -48.79}, {\"ano\": 2014, \"uf_x\": \"S\\u00e3o Paulo\", \"genero\": \"Masculino\", \"mes\": \"Abril\", \"numero\": 61, \"codigo_uf\": 35, \"uf_y\": \"SP\", \"nome\": \"S\\u00e3o Paulo\", \"latitude\": -22.19, \"longitude\": -48.79}, {\"ano\": 2014, \"uf_x\": \"S\\u00e3o Paulo\", \"genero\": \"Masculino\", \"mes\": \"Maio\", \"numero\": 74, \"codigo_uf\": 35, \"uf_y\": \"SP\", \"nome\": \"S\\u00e3o Paulo\", \"latitude\": -22.19, \"longitude\": -48.79}, {\"ano\": 2014, \"uf_x\": \"S\\u00e3o Paulo\", \"genero\": \"Masculino\", \"mes\": \"Junho\", \"numero\": 51, \"codigo_uf\": 35, \"uf_y\": \"SP\", \"nome\": \"S\\u00e3o Paulo\", \"latitude\": -22.19, \"longitude\": -48.79}, {\"ano\": 2014, \"uf_x\": \"S\\u00e3o Paulo\", \"genero\": \"Masculino\", \"mes\": \"Julho\", \"numero\": 65, \"codigo_uf\": 35, \"uf_y\": \"SP\", \"nome\": \"S\\u00e3o Paulo\", \"latitude\": -22.19, \"longitude\": -48.79}, {\"ano\": 2014, \"uf_x\": \"S\\u00e3o Paulo\", \"genero\": \"Masculino\", \"mes\": \"Agosto\", \"numero\": 67, \"codigo_uf\": 35, \"uf_y\": \"SP\", \"nome\": \"S\\u00e3o Paulo\", \"latitude\": -22.19, \"longitude\": -48.79}, {\"ano\": 2014, \"uf_x\": \"S\\u00e3o Paulo\", \"genero\": \"Masculino\", \"mes\": \"Setembro\", \"numero\": 94, \"codigo_uf\": 35, \"uf_y\": \"SP\", \"nome\": \"S\\u00e3o Paulo\", \"latitude\": -22.19, \"longitude\": -48.79}, {\"ano\": 2014, \"uf_x\": \"S\\u00e3o Paulo\", \"genero\": \"Masculino\", \"mes\": \"Outubro\", \"numero\": 81, \"codigo_uf\": 35, \"uf_y\": \"SP\", \"nome\": \"S\\u00e3o Paulo\", \"latitude\": -22.19, \"longitude\": -48.79}, {\"ano\": 2014, \"uf_x\": \"S\\u00e3o Paulo\", \"genero\": \"Masculino\", \"mes\": \"Novembro\", \"numero\": 86, \"codigo_uf\": 35, \"uf_y\": \"SP\", \"nome\": \"S\\u00e3o Paulo\", \"latitude\": -22.19, \"longitude\": -48.79}, {\"ano\": 2014, \"uf_x\": \"S\\u00e3o Paulo\", \"genero\": \"Masculino\", \"mes\": \"Dezembro\", \"numero\": 99, \"codigo_uf\": 35, \"uf_y\": \"SP\", \"nome\": \"S\\u00e3o Paulo\", \"latitude\": -22.19, \"longitude\": -48.79}, {\"ano\": 2014, \"uf_x\": \"S\\u00e3o Paulo\", \"genero\": \"Feminino\", \"mes\": \"Janeiro\", \"numero\": 77, \"codigo_uf\": 35, \"uf_y\": \"SP\", \"nome\": \"S\\u00e3o Paulo\", \"latitude\": -22.19, \"longitude\": -48.79}, {\"ano\": 2014, \"uf_x\": \"S\\u00e3o Paulo\", \"genero\": \"Feminino\", \"mes\": \"Fevereiro\", \"numero\": 69, \"codigo_uf\": 35, \"uf_y\": \"SP\", \"nome\": \"S\\u00e3o Paulo\", \"latitude\": -22.19, \"longitude\": -48.79}, {\"ano\": 2014, \"uf_x\": \"S\\u00e3o Paulo\", \"genero\": \"Feminino\", \"mes\": \"Mar\\u00e7o\", \"numero\": 77, \"codigo_uf\": 35, \"uf_y\": \"SP\", \"nome\": \"S\\u00e3o Paulo\", \"latitude\": -22.19, \"longitude\": -48.79}, {\"ano\": 2014, \"uf_x\": \"S\\u00e3o Paulo\", \"genero\": \"Feminino\", \"mes\": \"Abril\", \"numero\": 74, \"codigo_uf\": 35, \"uf_y\": \"SP\", \"nome\": \"S\\u00e3o Paulo\", \"latitude\": -22.19, \"longitude\": -48.79}, {\"ano\": 2014, \"uf_x\": \"S\\u00e3o Paulo\", \"genero\": \"Feminino\", \"mes\": \"Maio\", \"numero\": 100, \"codigo_uf\": 35, \"uf_y\": \"SP\", \"nome\": \"S\\u00e3o Paulo\", \"latitude\": -22.19, \"longitude\": -48.79}, {\"ano\": 2014, \"uf_x\": \"S\\u00e3o Paulo\", \"genero\": \"Feminino\", \"mes\": \"Junho\", \"numero\": 79, \"codigo_uf\": 35, \"uf_y\": \"SP\", \"nome\": \"S\\u00e3o Paulo\", \"latitude\": -22.19, \"longitude\": -48.79}, {\"ano\": 2014, \"uf_x\": \"S\\u00e3o Paulo\", \"genero\": \"Feminino\", \"mes\": \"Julho\", \"numero\": 86, \"codigo_uf\": 35, \"uf_y\": \"SP\", \"nome\": \"S\\u00e3o Paulo\", \"latitude\": -22.19, \"longitude\": -48.79}, {\"ano\": 2014, \"uf_x\": \"S\\u00e3o Paulo\", \"genero\": \"Feminino\", \"mes\": \"Agosto\", \"numero\": 72, \"codigo_uf\": 35, \"uf_y\": \"SP\", \"nome\": \"S\\u00e3o Paulo\", \"latitude\": -22.19, \"longitude\": -48.79}, {\"ano\": 2014, \"uf_x\": \"S\\u00e3o Paulo\", \"genero\": \"Feminino\", \"mes\": \"Setembro\", \"numero\": 121, \"codigo_uf\": 35, \"uf_y\": \"SP\", \"nome\": \"S\\u00e3o Paulo\", \"latitude\": -22.19, \"longitude\": -48.79}, {\"ano\": 2014, \"uf_x\": \"S\\u00e3o Paulo\", \"genero\": \"Feminino\", \"mes\": \"Outubro\", \"numero\": 151, \"codigo_uf\": 35, \"uf_y\": \"SP\", \"nome\": \"S\\u00e3o Paulo\", \"latitude\": -22.19, \"longitude\": -48.79}, {\"ano\": 2014, \"uf_x\": \"S\\u00e3o Paulo\", \"genero\": \"Feminino\", \"mes\": \"Novembro\", \"numero\": 122, \"codigo_uf\": 35, \"uf_y\": \"SP\", \"nome\": \"S\\u00e3o Paulo\", \"latitude\": -22.19, \"longitude\": -48.79}, {\"ano\": 2014, \"uf_x\": \"S\\u00e3o Paulo\", \"genero\": \"Feminino\", \"mes\": \"Dezembro\", \"numero\": 124, \"codigo_uf\": 35, \"uf_y\": \"SP\", \"nome\": \"S\\u00e3o Paulo\", \"latitude\": -22.19, \"longitude\": -48.79}, {\"ano\": 2013, \"uf_x\": \"S\\u00e3o Paulo\", \"genero\": \"Masculino\", \"mes\": \"Janeiro\", \"numero\": 19, \"codigo_uf\": 35, \"uf_y\": \"SP\", \"nome\": \"S\\u00e3o Paulo\", \"latitude\": -22.19, \"longitude\": -48.79}, {\"ano\": 2013, \"uf_x\": \"S\\u00e3o Paulo\", \"genero\": \"Masculino\", \"mes\": \"Fevereiro\", \"numero\": 38, \"codigo_uf\": 35, \"uf_y\": \"SP\", \"nome\": \"S\\u00e3o Paulo\", \"latitude\": -22.19, \"longitude\": -48.79}, {\"ano\": 2013, \"uf_x\": \"S\\u00e3o Paulo\", \"genero\": \"Masculino\", \"mes\": \"Mar\\u00e7o\", \"numero\": 57, \"codigo_uf\": 35, \"uf_y\": \"SP\", \"nome\": \"S\\u00e3o Paulo\", \"latitude\": -22.19, \"longitude\": -48.79}, {\"ano\": 2013, \"uf_x\": \"S\\u00e3o Paulo\", \"genero\": \"Masculino\", \"mes\": \"Abril\", \"numero\": 80, \"codigo_uf\": 35, \"uf_y\": \"SP\", \"nome\": \"S\\u00e3o Paulo\", \"latitude\": -22.19, \"longitude\": -48.79}, {\"ano\": 2013, \"uf_x\": \"S\\u00e3o Paulo\", \"genero\": \"Masculino\", \"mes\": \"Maio\", \"numero\": 68, \"codigo_uf\": 35, \"uf_y\": \"SP\", \"nome\": \"S\\u00e3o Paulo\", \"latitude\": -22.19, \"longitude\": -48.79}, {\"ano\": 2013, \"uf_x\": \"S\\u00e3o Paulo\", \"genero\": \"Masculino\", \"mes\": \"Junho\", \"numero\": 88, \"codigo_uf\": 35, \"uf_y\": \"SP\", \"nome\": \"S\\u00e3o Paulo\", \"latitude\": -22.19, \"longitude\": -48.79}, {\"ano\": 2013, \"uf_x\": \"S\\u00e3o Paulo\", \"genero\": \"Masculino\", \"mes\": \"Julho\", \"numero\": 92, \"codigo_uf\": 35, \"uf_y\": \"SP\", \"nome\": \"S\\u00e3o Paulo\", \"latitude\": -22.19, \"longitude\": -48.79}, {\"ano\": 2013, \"uf_x\": \"S\\u00e3o Paulo\", \"genero\": \"Masculino\", \"mes\": \"Agosto\", \"numero\": 99, \"codigo_uf\": 35, \"uf_y\": \"SP\", \"nome\": \"S\\u00e3o Paulo\", \"latitude\": -22.19, \"longitude\": -48.79}, {\"ano\": 2013, \"uf_x\": \"S\\u00e3o Paulo\", \"genero\": \"Masculino\", \"mes\": \"Setembro\", \"numero\": 88, \"codigo_uf\": 35, \"uf_y\": \"SP\", \"nome\": \"S\\u00e3o Paulo\", \"latitude\": -22.19, \"longitude\": -48.79}, {\"ano\": 2013, \"uf_x\": \"S\\u00e3o Paulo\", \"genero\": \"Masculino\", \"mes\": \"Outubro\", \"numero\": 97, \"codigo_uf\": 35, \"uf_y\": \"SP\", \"nome\": \"S\\u00e3o Paulo\", \"latitude\": -22.19, \"longitude\": -48.79}, {\"ano\": 2013, \"uf_x\": \"S\\u00e3o Paulo\", \"genero\": \"Masculino\", \"mes\": \"Novembro\", \"numero\": 93, \"codigo_uf\": 35, \"uf_y\": \"SP\", \"nome\": \"S\\u00e3o Paulo\", \"latitude\": -22.19, \"longitude\": -48.79}, {\"ano\": 2013, \"uf_x\": \"S\\u00e3o Paulo\", \"genero\": \"Masculino\", \"mes\": \"Dezembro\", \"numero\": 78, \"codigo_uf\": 35, \"uf_y\": \"SP\", \"nome\": \"S\\u00e3o Paulo\", \"latitude\": -22.19, \"longitude\": -48.79}, {\"ano\": 2013, \"uf_x\": \"S\\u00e3o Paulo\", \"genero\": \"Feminino\", \"mes\": \"Janeiro\", \"numero\": 23, \"codigo_uf\": 35, \"uf_y\": \"SP\", \"nome\": \"S\\u00e3o Paulo\", \"latitude\": -22.19, \"longitude\": -48.79}, {\"ano\": 2013, \"uf_x\": \"S\\u00e3o Paulo\", \"genero\": \"Feminino\", \"mes\": \"Fevereiro\", \"numero\": 36, \"codigo_uf\": 35, \"uf_y\": \"SP\", \"nome\": \"S\\u00e3o Paulo\", \"latitude\": -22.19, \"longitude\": -48.79}, {\"ano\": 2013, \"uf_x\": \"S\\u00e3o Paulo\", \"genero\": \"Feminino\", \"mes\": \"Mar\\u00e7o\", \"numero\": 68, \"codigo_uf\": 35, \"uf_y\": \"SP\", \"nome\": \"S\\u00e3o Paulo\", \"latitude\": -22.19, \"longitude\": -48.79}, {\"ano\": 2013, \"uf_x\": \"S\\u00e3o Paulo\", \"genero\": \"Feminino\", \"mes\": \"Abril\", \"numero\": 89, \"codigo_uf\": 35, \"uf_y\": \"SP\", \"nome\": \"S\\u00e3o Paulo\", \"latitude\": -22.19, \"longitude\": -48.79}, {\"ano\": 2013, \"uf_x\": \"S\\u00e3o Paulo\", \"genero\": \"Feminino\", \"mes\": \"Maio\", \"numero\": 89, \"codigo_uf\": 35, \"uf_y\": \"SP\", \"nome\": \"S\\u00e3o Paulo\", \"latitude\": -22.19, \"longitude\": -48.79}, {\"ano\": 2013, \"uf_x\": \"S\\u00e3o Paulo\", \"genero\": \"Feminino\", \"mes\": \"Junho\", \"numero\": 100, \"codigo_uf\": 35, \"uf_y\": \"SP\", \"nome\": \"S\\u00e3o Paulo\", \"latitude\": -22.19, \"longitude\": -48.79}, {\"ano\": 2013, \"uf_x\": \"S\\u00e3o Paulo\", \"genero\": \"Feminino\", \"mes\": \"Julho\", \"numero\": 98, \"codigo_uf\": 35, \"uf_y\": \"SP\", \"nome\": \"S\\u00e3o Paulo\", \"latitude\": -22.19, \"longitude\": -48.79}, {\"ano\": 2013, \"uf_x\": \"S\\u00e3o Paulo\", \"genero\": \"Feminino\", \"mes\": \"Agosto\", \"numero\": 91, \"codigo_uf\": 35, \"uf_y\": \"SP\", \"nome\": \"S\\u00e3o Paulo\", \"latitude\": -22.19, \"longitude\": -48.79}, {\"ano\": 2013, \"uf_x\": \"S\\u00e3o Paulo\", \"genero\": \"Feminino\", \"mes\": \"Setembro\", \"numero\": 109, \"codigo_uf\": 35, \"uf_y\": \"SP\", \"nome\": \"S\\u00e3o Paulo\", \"latitude\": -22.19, \"longitude\": -48.79}, {\"ano\": 2013, \"uf_x\": \"S\\u00e3o Paulo\", \"genero\": \"Feminino\", \"mes\": \"Outubro\", \"numero\": 116, \"codigo_uf\": 35, \"uf_y\": \"SP\", \"nome\": \"S\\u00e3o Paulo\", \"latitude\": -22.19, \"longitude\": -48.79}, {\"ano\": 2013, \"uf_x\": \"S\\u00e3o Paulo\", \"genero\": \"Feminino\", \"mes\": \"Novembro\", \"numero\": 133, \"codigo_uf\": 35, \"uf_y\": \"SP\", \"nome\": \"S\\u00e3o Paulo\", \"latitude\": -22.19, \"longitude\": -48.79}, {\"ano\": 2013, \"uf_x\": \"S\\u00e3o Paulo\", \"genero\": \"Feminino\", \"mes\": \"Dezembro\", \"numero\": 96, \"codigo_uf\": 35, \"uf_y\": \"SP\", \"nome\": \"S\\u00e3o Paulo\", \"latitude\": -22.19, \"longitude\": -48.79}, {\"ano\": 2015, \"uf_x\": \"S\\u00e3o Paulo\", \"genero\": \"Masculino\", \"mes\": \"Janeiro\", \"numero\": 69, \"codigo_uf\": 35, \"uf_y\": \"SP\", \"nome\": \"S\\u00e3o Paulo\", \"latitude\": -22.19, \"longitude\": -48.79}, {\"ano\": 2015, \"uf_x\": \"S\\u00e3o Paulo\", \"genero\": \"Masculino\", \"mes\": \"Fevereiro\", \"numero\": 57, \"codigo_uf\": 35, \"uf_y\": \"SP\", \"nome\": \"S\\u00e3o Paulo\", \"latitude\": -22.19, \"longitude\": -48.79}, {\"ano\": 2015, \"uf_x\": \"S\\u00e3o Paulo\", \"genero\": \"Masculino\", \"mes\": \"Mar\\u00e7o\", \"numero\": 68, \"codigo_uf\": 35, \"uf_y\": \"SP\", \"nome\": \"S\\u00e3o Paulo\", \"latitude\": -22.19, \"longitude\": -48.79}, {\"ano\": 2015, \"uf_x\": \"S\\u00e3o Paulo\", \"genero\": \"Masculino\", \"mes\": \"Abril\", \"numero\": 64, \"codigo_uf\": 35, \"uf_y\": \"SP\", \"nome\": \"S\\u00e3o Paulo\", \"latitude\": -22.19, \"longitude\": -48.79}, {\"ano\": 2015, \"uf_x\": \"S\\u00e3o Paulo\", \"genero\": \"Masculino\", \"mes\": \"Maio\", \"numero\": 62, \"codigo_uf\": 35, \"uf_y\": \"SP\", \"nome\": \"S\\u00e3o Paulo\", \"latitude\": -22.19, \"longitude\": -48.79}, {\"ano\": 2015, \"uf_x\": \"S\\u00e3o Paulo\", \"genero\": \"Masculino\", \"mes\": \"Junho\", \"numero\": 69, \"codigo_uf\": 35, \"uf_y\": \"SP\", \"nome\": \"S\\u00e3o Paulo\", \"latitude\": -22.19, \"longitude\": -48.79}, {\"ano\": 2015, \"uf_x\": \"S\\u00e3o Paulo\", \"genero\": \"Masculino\", \"mes\": \"Julho\", \"numero\": 72, \"codigo_uf\": 35, \"uf_y\": \"SP\", \"nome\": \"S\\u00e3o Paulo\", \"latitude\": -22.19, \"longitude\": -48.79}, {\"ano\": 2015, \"uf_x\": \"S\\u00e3o Paulo\", \"genero\": \"Masculino\", \"mes\": \"Agosto\", \"numero\": 72, \"codigo_uf\": 35, \"uf_y\": \"SP\", \"nome\": \"S\\u00e3o Paulo\", \"latitude\": -22.19, \"longitude\": -48.79}, {\"ano\": 2015, \"uf_x\": \"S\\u00e3o Paulo\", \"genero\": \"Masculino\", \"mes\": \"Setembro\", \"numero\": 76, \"codigo_uf\": 35, \"uf_y\": \"SP\", \"nome\": \"S\\u00e3o Paulo\", \"latitude\": -22.19, \"longitude\": -48.79}, {\"ano\": 2015, \"uf_x\": \"S\\u00e3o Paulo\", \"genero\": \"Masculino\", \"mes\": \"Outubro\", \"numero\": 85, \"codigo_uf\": 35, \"uf_y\": \"SP\", \"nome\": \"S\\u00e3o Paulo\", \"latitude\": -22.19, \"longitude\": -48.79}, {\"ano\": 2015, \"uf_x\": \"S\\u00e3o Paulo\", \"genero\": \"Masculino\", \"mes\": \"Novembro\", \"numero\": 86, \"codigo_uf\": 35, \"uf_y\": \"SP\", \"nome\": \"S\\u00e3o Paulo\", \"latitude\": -22.19, \"longitude\": -48.79}, {\"ano\": 2015, \"uf_x\": \"S\\u00e3o Paulo\", \"genero\": \"Masculino\", \"mes\": \"Dezembro\", \"numero\": 78, \"codigo_uf\": 35, \"uf_y\": \"SP\", \"nome\": \"S\\u00e3o Paulo\", \"latitude\": -22.19, \"longitude\": -48.79}, {\"ano\": 2016, \"uf_x\": \"S\\u00e3o Paulo\", \"genero\": \"Masculino\", \"mes\": \"Janeiro\", \"numero\": 75, \"codigo_uf\": 35, \"uf_y\": \"SP\", \"nome\": \"S\\u00e3o Paulo\", \"latitude\": -22.19, \"longitude\": -48.79}, {\"ano\": 2016, \"uf_x\": \"S\\u00e3o Paulo\", \"genero\": \"Masculino\", \"mes\": \"Fevereiro\", \"numero\": 57, \"codigo_uf\": 35, \"uf_y\": \"SP\", \"nome\": \"S\\u00e3o Paulo\", \"latitude\": -22.19, \"longitude\": -48.79}, {\"ano\": 2016, \"uf_x\": \"S\\u00e3o Paulo\", \"genero\": \"Masculino\", \"mes\": \"Mar\\u00e7o\", \"numero\": 66, \"codigo_uf\": 35, \"uf_y\": \"SP\", \"nome\": \"S\\u00e3o Paulo\", \"latitude\": -22.19, \"longitude\": -48.79}, {\"ano\": 2016, \"uf_x\": \"S\\u00e3o Paulo\", \"genero\": \"Masculino\", \"mes\": \"Abril\", \"numero\": 72, \"codigo_uf\": 35, \"uf_y\": \"SP\", \"nome\": \"S\\u00e3o Paulo\", \"latitude\": -22.19, \"longitude\": -48.79}, {\"ano\": 2016, \"uf_x\": \"S\\u00e3o Paulo\", \"genero\": \"Masculino\", \"mes\": \"Maio\", \"numero\": 65, \"codigo_uf\": 35, \"uf_y\": \"SP\", \"nome\": \"S\\u00e3o Paulo\", \"latitude\": -22.19, \"longitude\": -48.79}, {\"ano\": 2016, \"uf_x\": \"S\\u00e3o Paulo\", \"genero\": \"Masculino\", \"mes\": \"Junho\", \"numero\": 75, \"codigo_uf\": 35, \"uf_y\": \"SP\", \"nome\": \"S\\u00e3o Paulo\", \"latitude\": -22.19, \"longitude\": -48.79}, {\"ano\": 2016, \"uf_x\": \"S\\u00e3o Paulo\", \"genero\": \"Masculino\", \"mes\": \"Julho\", \"numero\": 64, \"codigo_uf\": 35, \"uf_y\": \"SP\", \"nome\": \"S\\u00e3o Paulo\", \"latitude\": -22.19, \"longitude\": -48.79}, {\"ano\": 2016, \"uf_x\": \"S\\u00e3o Paulo\", \"genero\": \"Masculino\", \"mes\": \"Agosto\", \"numero\": 70, \"codigo_uf\": 35, \"uf_y\": \"SP\", \"nome\": \"S\\u00e3o Paulo\", \"latitude\": -22.19, \"longitude\": -48.79}, {\"ano\": 2016, \"uf_x\": \"S\\u00e3o Paulo\", \"genero\": \"Masculino\", \"mes\": \"Setembro\", \"numero\": 102, \"codigo_uf\": 35, \"uf_y\": \"SP\", \"nome\": \"S\\u00e3o Paulo\", \"latitude\": -22.19, \"longitude\": -48.79}, {\"ano\": 2016, \"uf_x\": \"S\\u00e3o Paulo\", \"genero\": \"Masculino\", \"mes\": \"Outubro\", \"numero\": 80, \"codigo_uf\": 35, \"uf_y\": \"SP\", \"nome\": \"S\\u00e3o Paulo\", \"latitude\": -22.19, \"longitude\": -48.79}, {\"ano\": 2016, \"uf_x\": \"S\\u00e3o Paulo\", \"genero\": \"Masculino\", \"mes\": \"Novembro\", \"numero\": 81, \"codigo_uf\": 35, \"uf_y\": \"SP\", \"nome\": \"S\\u00e3o Paulo\", \"latitude\": -22.19, \"longitude\": -48.79}, {\"ano\": 2016, \"uf_x\": \"S\\u00e3o Paulo\", \"genero\": \"Masculino\", \"mes\": \"Dezembro\", \"numero\": 85, \"codigo_uf\": 35, \"uf_y\": \"SP\", \"nome\": \"S\\u00e3o Paulo\", \"latitude\": -22.19, \"longitude\": -48.79}, {\"ano\": 2017, \"uf_x\": \"S\\u00e3o Paulo\", \"genero\": \"Masculino\", \"mes\": \"Janeiro\", \"numero\": 78, \"codigo_uf\": 35, \"uf_y\": \"SP\", \"nome\": \"S\\u00e3o Paulo\", \"latitude\": -22.19, \"longitude\": -48.79}, {\"ano\": 2017, \"uf_x\": \"S\\u00e3o Paulo\", \"genero\": \"Masculino\", \"mes\": \"Fevereiro\", \"numero\": 53, \"codigo_uf\": 35, \"uf_y\": \"SP\", \"nome\": \"S\\u00e3o Paulo\", \"latitude\": -22.19, \"longitude\": -48.79}, {\"ano\": 2017, \"uf_x\": \"S\\u00e3o Paulo\", \"genero\": \"Masculino\", \"mes\": \"Mar\\u00e7o\", \"numero\": 79, \"codigo_uf\": 35, \"uf_y\": \"SP\", \"nome\": \"S\\u00e3o Paulo\", \"latitude\": -22.19, \"longitude\": -48.79}, {\"ano\": 2017, \"uf_x\": \"S\\u00e3o Paulo\", \"genero\": \"Masculino\", \"mes\": \"Abril\", \"numero\": 69, \"codigo_uf\": 35, \"uf_y\": \"SP\", \"nome\": \"S\\u00e3o Paulo\", \"latitude\": -22.19, \"longitude\": -48.79}, {\"ano\": 2017, \"uf_x\": \"S\\u00e3o Paulo\", \"genero\": \"Masculino\", \"mes\": \"Maio\", \"numero\": 73, \"codigo_uf\": 35, \"uf_y\": \"SP\", \"nome\": \"S\\u00e3o Paulo\", \"latitude\": -22.19, \"longitude\": -48.79}, {\"ano\": 2017, \"uf_x\": \"S\\u00e3o Paulo\", \"genero\": \"Masculino\", \"mes\": \"Junho\", \"numero\": 86, \"codigo_uf\": 35, \"uf_y\": \"SP\", \"nome\": \"S\\u00e3o Paulo\", \"latitude\": -22.19, \"longitude\": -48.79}, {\"ano\": 2017, \"uf_x\": \"S\\u00e3o Paulo\", \"genero\": \"Masculino\", \"mes\": \"Julho\", \"numero\": 91, \"codigo_uf\": 35, \"uf_y\": \"SP\", \"nome\": \"S\\u00e3o Paulo\", \"latitude\": -22.19, \"longitude\": -48.79}, {\"ano\": 2017, \"uf_x\": \"S\\u00e3o Paulo\", \"genero\": \"Masculino\", \"mes\": \"Agosto\", \"numero\": 77, \"codigo_uf\": 35, \"uf_y\": \"SP\", \"nome\": \"S\\u00e3o Paulo\", \"latitude\": -22.19, \"longitude\": -48.79}, {\"ano\": 2017, \"uf_x\": \"S\\u00e3o Paulo\", \"genero\": \"Masculino\", \"mes\": \"Setembro\", \"numero\": 100, \"codigo_uf\": 35, \"uf_y\": \"SP\", \"nome\": \"S\\u00e3o Paulo\", \"latitude\": -22.19, \"longitude\": -48.79}, {\"ano\": 2017, \"uf_x\": \"S\\u00e3o Paulo\", \"genero\": \"Masculino\", \"mes\": \"Outubro\", \"numero\": 98, \"codigo_uf\": 35, \"uf_y\": \"SP\", \"nome\": \"S\\u00e3o Paulo\", \"latitude\": -22.19, \"longitude\": -48.79}, {\"ano\": 2017, \"uf_x\": \"S\\u00e3o Paulo\", \"genero\": \"Masculino\", \"mes\": \"Novembro\", \"numero\": 113, \"codigo_uf\": 35, \"uf_y\": \"SP\", \"nome\": \"S\\u00e3o Paulo\", \"latitude\": -22.19, \"longitude\": -48.79}, {\"ano\": 2017, \"uf_x\": \"S\\u00e3o Paulo\", \"genero\": \"Masculino\", \"mes\": \"Dezembro\", \"numero\": 85, \"codigo_uf\": 35, \"uf_y\": \"SP\", \"nome\": \"S\\u00e3o Paulo\", \"latitude\": -22.19, \"longitude\": -48.79}, {\"ano\": 2018, \"uf_x\": \"S\\u00e3o Paulo\", \"genero\": \"Masculino\", \"mes\": \"Janeiro\", \"numero\": 96, \"codigo_uf\": 35, \"uf_y\": \"SP\", \"nome\": \"S\\u00e3o Paulo\", \"latitude\": -22.19, \"longitude\": -48.79}, {\"ano\": 2018, \"uf_x\": \"S\\u00e3o Paulo\", \"genero\": \"Masculino\", \"mes\": \"Fevereiro\", \"numero\": 91, \"codigo_uf\": 35, \"uf_y\": \"SP\", \"nome\": \"S\\u00e3o Paulo\", \"latitude\": -22.19, \"longitude\": -48.79}, {\"ano\": 2018, \"uf_x\": \"S\\u00e3o Paulo\", \"genero\": \"Masculino\", \"mes\": \"Mar\\u00e7o\", \"numero\": 101, \"codigo_uf\": 35, \"uf_y\": \"SP\", \"nome\": \"S\\u00e3o Paulo\", \"latitude\": -22.19, \"longitude\": -48.79}, {\"ano\": 2018, \"uf_x\": \"S\\u00e3o Paulo\", \"genero\": \"Masculino\", \"mes\": \"Abril\", \"numero\": 78, \"codigo_uf\": 35, \"uf_y\": \"SP\", \"nome\": \"S\\u00e3o Paulo\", \"latitude\": -22.19, \"longitude\": -48.79}, {\"ano\": 2018, \"uf_x\": \"S\\u00e3o Paulo\", \"genero\": \"Masculino\", \"mes\": \"Maio\", \"numero\": 94, \"codigo_uf\": 35, \"uf_y\": \"SP\", \"nome\": \"S\\u00e3o Paulo\", \"latitude\": -22.19, \"longitude\": -48.79}, {\"ano\": 2018, \"uf_x\": \"S\\u00e3o Paulo\", \"genero\": \"Masculino\", \"mes\": \"Junho\", \"numero\": 113, \"codigo_uf\": 35, \"uf_y\": \"SP\", \"nome\": \"S\\u00e3o Paulo\", \"latitude\": -22.19, \"longitude\": -48.79}, {\"ano\": 2018, \"uf_x\": \"S\\u00e3o Paulo\", \"genero\": \"Masculino\", \"mes\": \"Julho\", \"numero\": 96, \"codigo_uf\": 35, \"uf_y\": \"SP\", \"nome\": \"S\\u00e3o Paulo\", \"latitude\": -22.19, \"longitude\": -48.79}, {\"ano\": 2018, \"uf_x\": \"S\\u00e3o Paulo\", \"genero\": \"Masculino\", \"mes\": \"Agosto\", \"numero\": 65, \"codigo_uf\": 35, \"uf_y\": \"SP\", \"nome\": \"S\\u00e3o Paulo\", \"latitude\": -22.19, \"longitude\": -48.79}, {\"ano\": 2018, \"uf_x\": \"S\\u00e3o Paulo\", \"genero\": \"Masculino\", \"mes\": \"Setembro\", \"numero\": 102, \"codigo_uf\": 35, \"uf_y\": \"SP\", \"nome\": \"S\\u00e3o Paulo\", \"latitude\": -22.19, \"longitude\": -48.79}, {\"ano\": 2018, \"uf_x\": \"S\\u00e3o Paulo\", \"genero\": \"Masculino\", \"mes\": \"Outubro\", \"numero\": 111, \"codigo_uf\": 35, \"uf_y\": \"SP\", \"nome\": \"S\\u00e3o Paulo\", \"latitude\": -22.19, \"longitude\": -48.79}, {\"ano\": 2018, \"uf_x\": \"S\\u00e3o Paulo\", \"genero\": \"Masculino\", \"mes\": \"Novembro\", \"numero\": 167, \"codigo_uf\": 35, \"uf_y\": \"SP\", \"nome\": \"S\\u00e3o Paulo\", \"latitude\": -22.19, \"longitude\": -48.79}, {\"ano\": 2018, \"uf_x\": \"S\\u00e3o Paulo\", \"genero\": \"Masculino\", \"mes\": \"Dezembro\", \"numero\": 541, \"codigo_uf\": 35, \"uf_y\": \"SP\", \"nome\": \"S\\u00e3o Paulo\", \"latitude\": -22.19, \"longitude\": -48.79}, {\"ano\": 2019, \"uf_x\": \"S\\u00e3o Paulo\", \"genero\": \"Masculino\", \"mes\": \"Janeiro\", \"numero\": 201, \"codigo_uf\": 35, \"uf_y\": \"SP\", \"nome\": \"S\\u00e3o Paulo\", \"latitude\": -22.19, \"longitude\": -48.79}, {\"ano\": 2019, \"uf_x\": \"S\\u00e3o Paulo\", \"genero\": \"Masculino\", \"mes\": \"Fevereiro\", \"numero\": 126, \"codigo_uf\": 35, \"uf_y\": \"SP\", \"nome\": \"S\\u00e3o Paulo\", \"latitude\": -22.19, \"longitude\": -48.79}, {\"ano\": 2019, \"uf_x\": \"S\\u00e3o Paulo\", \"genero\": \"Masculino\", \"mes\": \"Mar\\u00e7o\", \"numero\": 119, \"codigo_uf\": 35, \"uf_y\": \"SP\", \"nome\": \"S\\u00e3o Paulo\", \"latitude\": -22.19, \"longitude\": -48.79}, {\"ano\": 2019, \"uf_x\": \"S\\u00e3o Paulo\", \"genero\": \"Masculino\", \"mes\": \"Abril\", \"numero\": 86, \"codigo_uf\": 35, \"uf_y\": \"SP\", \"nome\": \"S\\u00e3o Paulo\", \"latitude\": -22.19, \"longitude\": -48.79}, {\"ano\": 2019, \"uf_x\": \"S\\u00e3o Paulo\", \"genero\": \"Masculino\", \"mes\": \"Maio\", \"numero\": 90, \"codigo_uf\": 35, \"uf_y\": \"SP\", \"nome\": \"S\\u00e3o Paulo\", \"latitude\": -22.19, \"longitude\": -48.79}, {\"ano\": 2019, \"uf_x\": \"S\\u00e3o Paulo\", \"genero\": \"Masculino\", \"mes\": \"Junho\", \"numero\": 122, \"codigo_uf\": 35, \"uf_y\": \"SP\", \"nome\": \"S\\u00e3o Paulo\", \"latitude\": -22.19, \"longitude\": -48.79}, {\"ano\": 2019, \"uf_x\": \"S\\u00e3o Paulo\", \"genero\": \"Masculino\", \"mes\": \"Julho\", \"numero\": 122, \"codigo_uf\": 35, \"uf_y\": \"SP\", \"nome\": \"S\\u00e3o Paulo\", \"latitude\": -22.19, \"longitude\": -48.79}, {\"ano\": 2019, \"uf_x\": \"S\\u00e3o Paulo\", \"genero\": \"Masculino\", \"mes\": \"Agosto\", \"numero\": 112, \"codigo_uf\": 35, \"uf_y\": \"SP\", \"nome\": \"S\\u00e3o Paulo\", \"latitude\": -22.19, \"longitude\": -48.79}, {\"ano\": 2019, \"uf_x\": \"S\\u00e3o Paulo\", \"genero\": \"Masculino\", \"mes\": \"Setembro\", \"numero\": 113, \"codigo_uf\": 35, \"uf_y\": \"SP\", \"nome\": \"S\\u00e3o Paulo\", \"latitude\": -22.19, \"longitude\": -48.79}, {\"ano\": 2019, \"uf_x\": \"S\\u00e3o Paulo\", \"genero\": \"Masculino\", \"mes\": \"Outubro\", \"numero\": 99, \"codigo_uf\": 35, \"uf_y\": \"SP\", \"nome\": \"S\\u00e3o Paulo\", \"latitude\": -22.19, \"longitude\": -48.79}, {\"ano\": 2019, \"uf_x\": \"S\\u00e3o Paulo\", \"genero\": \"Masculino\", \"mes\": \"Novembro\", \"numero\": 132, \"codigo_uf\": 35, \"uf_y\": \"SP\", \"nome\": \"S\\u00e3o Paulo\", \"latitude\": -22.19, \"longitude\": -48.79}, {\"ano\": 2019, \"uf_x\": \"S\\u00e3o Paulo\", \"genero\": \"Masculino\", \"mes\": \"Dezembro\", \"numero\": 131, \"codigo_uf\": 35, \"uf_y\": \"SP\", \"nome\": \"S\\u00e3o Paulo\", \"latitude\": -22.19, \"longitude\": -48.79}, {\"ano\": 2015, \"uf_x\": \"S\\u00e3o Paulo\", \"genero\": \"Feminino\", \"mes\": \"Janeiro\", \"numero\": 87, \"codigo_uf\": 35, \"uf_y\": \"SP\", \"nome\": \"S\\u00e3o Paulo\", \"latitude\": -22.19, \"longitude\": -48.79}, {\"ano\": 2015, \"uf_x\": \"S\\u00e3o Paulo\", \"genero\": \"Feminino\", \"mes\": \"Fevereiro\", \"numero\": 64, \"codigo_uf\": 35, \"uf_y\": \"SP\", \"nome\": \"S\\u00e3o Paulo\", \"latitude\": -22.19, \"longitude\": -48.79}, {\"ano\": 2015, \"uf_x\": \"S\\u00e3o Paulo\", \"genero\": \"Feminino\", \"mes\": \"Mar\\u00e7o\", \"numero\": 95, \"codigo_uf\": 35, \"uf_y\": \"SP\", \"nome\": \"S\\u00e3o Paulo\", \"latitude\": -22.19, \"longitude\": -48.79}, {\"ano\": 2015, \"uf_x\": \"S\\u00e3o Paulo\", \"genero\": \"Feminino\", \"mes\": \"Abril\", \"numero\": 72, \"codigo_uf\": 35, \"uf_y\": \"SP\", \"nome\": \"S\\u00e3o Paulo\", \"latitude\": -22.19, \"longitude\": -48.79}, {\"ano\": 2015, \"uf_x\": \"S\\u00e3o Paulo\", \"genero\": \"Feminino\", \"mes\": \"Maio\", \"numero\": 76, \"codigo_uf\": 35, \"uf_y\": \"SP\", \"nome\": \"S\\u00e3o Paulo\", \"latitude\": -22.19, \"longitude\": -48.79}, {\"ano\": 2015, \"uf_x\": \"S\\u00e3o Paulo\", \"genero\": \"Feminino\", \"mes\": \"Junho\", \"numero\": 86, \"codigo_uf\": 35, \"uf_y\": \"SP\", \"nome\": \"S\\u00e3o Paulo\", \"latitude\": -22.19, \"longitude\": -48.79}, {\"ano\": 2015, \"uf_x\": \"S\\u00e3o Paulo\", \"genero\": \"Feminino\", \"mes\": \"Julho\", \"numero\": 100, \"codigo_uf\": 35, \"uf_y\": \"SP\", \"nome\": \"S\\u00e3o Paulo\", \"latitude\": -22.19, \"longitude\": -48.79}, {\"ano\": 2015, \"uf_x\": \"S\\u00e3o Paulo\", \"genero\": \"Feminino\", \"mes\": \"Agosto\", \"numero\": 96, \"codigo_uf\": 35, \"uf_y\": \"SP\", \"nome\": \"S\\u00e3o Paulo\", \"latitude\": -22.19, \"longitude\": -48.79}, {\"ano\": 2015, \"uf_x\": \"S\\u00e3o Paulo\", \"genero\": \"Feminino\", \"mes\": \"Setembro\", \"numero\": 109, \"codigo_uf\": 35, \"uf_y\": \"SP\", \"nome\": \"S\\u00e3o Paulo\", \"latitude\": -22.19, \"longitude\": -48.79}, {\"ano\": 2015, \"uf_x\": \"S\\u00e3o Paulo\", \"genero\": \"Feminino\", \"mes\": \"Outubro\", \"numero\": 126, \"codigo_uf\": 35, \"uf_y\": \"SP\", \"nome\": \"S\\u00e3o Paulo\", \"latitude\": -22.19, \"longitude\": -48.79}, {\"ano\": 2015, \"uf_x\": \"S\\u00e3o Paulo\", \"genero\": \"Feminino\", \"mes\": \"Novembro\", \"numero\": 111, \"codigo_uf\": 35, \"uf_y\": \"SP\", \"nome\": \"S\\u00e3o Paulo\", \"latitude\": -22.19, \"longitude\": -48.79}, {\"ano\": 2015, \"uf_x\": \"S\\u00e3o Paulo\", \"genero\": \"Feminino\", \"mes\": \"Dezembro\", \"numero\": 128, \"codigo_uf\": 35, \"uf_y\": \"SP\", \"nome\": \"S\\u00e3o Paulo\", \"latitude\": -22.19, \"longitude\": -48.79}, {\"ano\": 2016, \"uf_x\": \"S\\u00e3o Paulo\", \"genero\": \"Feminino\", \"mes\": \"Janeiro\", \"numero\": 79, \"codigo_uf\": 35, \"uf_y\": \"SP\", \"nome\": \"S\\u00e3o Paulo\", \"latitude\": -22.19, \"longitude\": -48.79}, {\"ano\": 2016, \"uf_x\": \"S\\u00e3o Paulo\", \"genero\": \"Feminino\", \"mes\": \"Fevereiro\", \"numero\": 92, \"codigo_uf\": 35, \"uf_y\": \"SP\", \"nome\": \"S\\u00e3o Paulo\", \"latitude\": -22.19, \"longitude\": -48.79}, {\"ano\": 2016, \"uf_x\": \"S\\u00e3o Paulo\", \"genero\": \"Feminino\", \"mes\": \"Mar\\u00e7o\", \"numero\": 71, \"codigo_uf\": 35, \"uf_y\": \"SP\", \"nome\": \"S\\u00e3o Paulo\", \"latitude\": -22.19, \"longitude\": -48.79}, {\"ano\": 2016, \"uf_x\": \"S\\u00e3o Paulo\", \"genero\": \"Feminino\", \"mes\": \"Abril\", \"numero\": 102, \"codigo_uf\": 35, \"uf_y\": \"SP\", \"nome\": \"S\\u00e3o Paulo\", \"latitude\": -22.19, \"longitude\": -48.79}, {\"ano\": 2016, \"uf_x\": \"S\\u00e3o Paulo\", \"genero\": \"Feminino\", \"mes\": \"Maio\", \"numero\": 92, \"codigo_uf\": 35, \"uf_y\": \"SP\", \"nome\": \"S\\u00e3o Paulo\", \"latitude\": -22.19, \"longitude\": -48.79}, {\"ano\": 2016, \"uf_x\": \"S\\u00e3o Paulo\", \"genero\": \"Feminino\", \"mes\": \"Junho\", \"numero\": 93, \"codigo_uf\": 35, \"uf_y\": \"SP\", \"nome\": \"S\\u00e3o Paulo\", \"latitude\": -22.19, \"longitude\": -48.79}, {\"ano\": 2016, \"uf_x\": \"S\\u00e3o Paulo\", \"genero\": \"Feminino\", \"mes\": \"Julho\", \"numero\": 108, \"codigo_uf\": 35, \"uf_y\": \"SP\", \"nome\": \"S\\u00e3o Paulo\", \"latitude\": -22.19, \"longitude\": -48.79}, {\"ano\": 2016, \"uf_x\": \"S\\u00e3o Paulo\", \"genero\": \"Feminino\", \"mes\": \"Agosto\", \"numero\": 85, \"codigo_uf\": 35, \"uf_y\": \"SP\", \"nome\": \"S\\u00e3o Paulo\", \"latitude\": -22.19, \"longitude\": -48.79}, {\"ano\": 2016, \"uf_x\": \"S\\u00e3o Paulo\", \"genero\": \"Feminino\", \"mes\": \"Setembro\", \"numero\": 120, \"codigo_uf\": 35, \"uf_y\": \"SP\", \"nome\": \"S\\u00e3o Paulo\", \"latitude\": -22.19, \"longitude\": -48.79}, {\"ano\": 2016, \"uf_x\": \"S\\u00e3o Paulo\", \"genero\": \"Feminino\", \"mes\": \"Outubro\", \"numero\": 118, \"codigo_uf\": 35, \"uf_y\": \"SP\", \"nome\": \"S\\u00e3o Paulo\", \"latitude\": -22.19, \"longitude\": -48.79}, {\"ano\": 2016, \"uf_x\": \"S\\u00e3o Paulo\", \"genero\": \"Feminino\", \"mes\": \"Novembro\", \"numero\": 117, \"codigo_uf\": 35, \"uf_y\": \"SP\", \"nome\": \"S\\u00e3o Paulo\", \"latitude\": -22.19, \"longitude\": -48.79}, {\"ano\": 2016, \"uf_x\": \"S\\u00e3o Paulo\", \"genero\": \"Feminino\", \"mes\": \"Dezembro\", \"numero\": 125, \"codigo_uf\": 35, \"uf_y\": \"SP\", \"nome\": \"S\\u00e3o Paulo\", \"latitude\": -22.19, \"longitude\": -48.79}, {\"ano\": 2017, \"uf_x\": \"S\\u00e3o Paulo\", \"genero\": \"Feminino\", \"mes\": \"Janeiro\", \"numero\": 91, \"codigo_uf\": 35, \"uf_y\": \"SP\", \"nome\": \"S\\u00e3o Paulo\", \"latitude\": -22.19, \"longitude\": -48.79}, {\"ano\": 2017, \"uf_x\": \"S\\u00e3o Paulo\", \"genero\": \"Feminino\", \"mes\": \"Fevereiro\", \"numero\": 81, \"codigo_uf\": 35, \"uf_y\": \"SP\", \"nome\": \"S\\u00e3o Paulo\", \"latitude\": -22.19, \"longitude\": -48.79}, {\"ano\": 2017, \"uf_x\": \"S\\u00e3o Paulo\", \"genero\": \"Feminino\", \"mes\": \"Mar\\u00e7o\", \"numero\": 128, \"codigo_uf\": 35, \"uf_y\": \"SP\", \"nome\": \"S\\u00e3o Paulo\", \"latitude\": -22.19, \"longitude\": -48.79}, {\"ano\": 2017, \"uf_x\": \"S\\u00e3o Paulo\", \"genero\": \"Feminino\", \"mes\": \"Abril\", \"numero\": 113, \"codigo_uf\": 35, \"uf_y\": \"SP\", \"nome\": \"S\\u00e3o Paulo\", \"latitude\": -22.19, \"longitude\": -48.79}, {\"ano\": 2017, \"uf_x\": \"S\\u00e3o Paulo\", \"genero\": \"Feminino\", \"mes\": \"Maio\", \"numero\": 123, \"codigo_uf\": 35, \"uf_y\": \"SP\", \"nome\": \"S\\u00e3o Paulo\", \"latitude\": -22.19, \"longitude\": -48.79}, {\"ano\": 2017, \"uf_x\": \"S\\u00e3o Paulo\", \"genero\": \"Feminino\", \"mes\": \"Junho\", \"numero\": 121, \"codigo_uf\": 35, \"uf_y\": \"SP\", \"nome\": \"S\\u00e3o Paulo\", \"latitude\": -22.19, \"longitude\": -48.79}, {\"ano\": 2017, \"uf_x\": \"S\\u00e3o Paulo\", \"genero\": \"Feminino\", \"mes\": \"Julho\", \"numero\": 119, \"codigo_uf\": 35, \"uf_y\": \"SP\", \"nome\": \"S\\u00e3o Paulo\", \"latitude\": -22.19, \"longitude\": -48.79}, {\"ano\": 2017, \"uf_x\": \"S\\u00e3o Paulo\", \"genero\": \"Feminino\", \"mes\": \"Agosto\", \"numero\": 128, \"codigo_uf\": 35, \"uf_y\": \"SP\", \"nome\": \"S\\u00e3o Paulo\", \"latitude\": -22.19, \"longitude\": -48.79}, {\"ano\": 2017, \"uf_x\": \"S\\u00e3o Paulo\", \"genero\": \"Feminino\", \"mes\": \"Setembro\", \"numero\": 154, \"codigo_uf\": 35, \"uf_y\": \"SP\", \"nome\": \"S\\u00e3o Paulo\", \"latitude\": -22.19, \"longitude\": -48.79}, {\"ano\": 2017, \"uf_x\": \"S\\u00e3o Paulo\", \"genero\": \"Feminino\", \"mes\": \"Outubro\", \"numero\": 151, \"codigo_uf\": 35, \"uf_y\": \"SP\", \"nome\": \"S\\u00e3o Paulo\", \"latitude\": -22.19, \"longitude\": -48.79}, {\"ano\": 2017, \"uf_x\": \"S\\u00e3o Paulo\", \"genero\": \"Feminino\", \"mes\": \"Novembro\", \"numero\": 143, \"codigo_uf\": 35, \"uf_y\": \"SP\", \"nome\": \"S\\u00e3o Paulo\", \"latitude\": -22.19, \"longitude\": -48.79}, {\"ano\": 2017, \"uf_x\": \"S\\u00e3o Paulo\", \"genero\": \"Feminino\", \"mes\": \"Dezembro\", \"numero\": 143, \"codigo_uf\": 35, \"uf_y\": \"SP\", \"nome\": \"S\\u00e3o Paulo\", \"latitude\": -22.19, \"longitude\": -48.79}, {\"ano\": 2018, \"uf_x\": \"S\\u00e3o Paulo\", \"genero\": \"Feminino\", \"mes\": \"Janeiro\", \"numero\": 129, \"codigo_uf\": 35, \"uf_y\": \"SP\", \"nome\": \"S\\u00e3o Paulo\", \"latitude\": -22.19, \"longitude\": -48.79}, {\"ano\": 2018, \"uf_x\": \"S\\u00e3o Paulo\", \"genero\": \"Feminino\", \"mes\": \"Fevereiro\", \"numero\": 105, \"codigo_uf\": 35, \"uf_y\": \"SP\", \"nome\": \"S\\u00e3o Paulo\", \"latitude\": -22.19, \"longitude\": -48.79}, {\"ano\": 2018, \"uf_x\": \"S\\u00e3o Paulo\", \"genero\": \"Feminino\", \"mes\": \"Mar\\u00e7o\", \"numero\": 107, \"codigo_uf\": 35, \"uf_y\": \"SP\", \"nome\": \"S\\u00e3o Paulo\", \"latitude\": -22.19, \"longitude\": -48.79}, {\"ano\": 2018, \"uf_x\": \"S\\u00e3o Paulo\", \"genero\": \"Feminino\", \"mes\": \"Abril\", \"numero\": 120, \"codigo_uf\": 35, \"uf_y\": \"SP\", \"nome\": \"S\\u00e3o Paulo\", \"latitude\": -22.19, \"longitude\": -48.79}, {\"ano\": 2018, \"uf_x\": \"S\\u00e3o Paulo\", \"genero\": \"Feminino\", \"mes\": \"Maio\", \"numero\": 131, \"codigo_uf\": 35, \"uf_y\": \"SP\", \"nome\": \"S\\u00e3o Paulo\", \"latitude\": -22.19, \"longitude\": -48.79}, {\"ano\": 2018, \"uf_x\": \"S\\u00e3o Paulo\", \"genero\": \"Feminino\", \"mes\": \"Junho\", \"numero\": 130, \"codigo_uf\": 35, \"uf_y\": \"SP\", \"nome\": \"S\\u00e3o Paulo\", \"latitude\": -22.19, \"longitude\": -48.79}, {\"ano\": 2018, \"uf_x\": \"S\\u00e3o Paulo\", \"genero\": \"Feminino\", \"mes\": \"Julho\", \"numero\": 143, \"codigo_uf\": 35, \"uf_y\": \"SP\", \"nome\": \"S\\u00e3o Paulo\", \"latitude\": -22.19, \"longitude\": -48.79}, {\"ano\": 2018, \"uf_x\": \"S\\u00e3o Paulo\", \"genero\": \"Feminino\", \"mes\": \"Agosto\", \"numero\": 120, \"codigo_uf\": 35, \"uf_y\": \"SP\", \"nome\": \"S\\u00e3o Paulo\", \"latitude\": -22.19, \"longitude\": -48.79}, {\"ano\": 2018, \"uf_x\": \"S\\u00e3o Paulo\", \"genero\": \"Feminino\", \"mes\": \"Setembro\", \"numero\": 184, \"codigo_uf\": 35, \"uf_y\": \"SP\", \"nome\": \"S\\u00e3o Paulo\", \"latitude\": -22.19, \"longitude\": -48.79}, {\"ano\": 2018, \"uf_x\": \"S\\u00e3o Paulo\", \"genero\": \"Feminino\", \"mes\": \"Outubro\", \"numero\": 189, \"codigo_uf\": 35, \"uf_y\": \"SP\", \"nome\": \"S\\u00e3o Paulo\", \"latitude\": -22.19, \"longitude\": -48.79}, {\"ano\": 2018, \"uf_x\": \"S\\u00e3o Paulo\", \"genero\": \"Feminino\", \"mes\": \"Novembro\", \"numero\": 260, \"codigo_uf\": 35, \"uf_y\": \"SP\", \"nome\": \"S\\u00e3o Paulo\", \"latitude\": -22.19, \"longitude\": -48.79}, {\"ano\": 2018, \"uf_x\": \"S\\u00e3o Paulo\", \"genero\": \"Feminino\", \"mes\": \"Dezembro\", \"numero\": 827, \"codigo_uf\": 35, \"uf_y\": \"SP\", \"nome\": \"S\\u00e3o Paulo\", \"latitude\": -22.19, \"longitude\": -48.79}, {\"ano\": 2019, \"uf_x\": \"S\\u00e3o Paulo\", \"genero\": \"Feminino\", \"mes\": \"Janeiro\", \"numero\": 339, \"codigo_uf\": 35, \"uf_y\": \"SP\", \"nome\": \"S\\u00e3o Paulo\", \"latitude\": -22.19, \"longitude\": -48.79}, {\"ano\": 2019, \"uf_x\": \"S\\u00e3o Paulo\", \"genero\": \"Feminino\", \"mes\": \"Fevereiro\", \"numero\": 216, \"codigo_uf\": 35, \"uf_y\": \"SP\", \"nome\": \"S\\u00e3o Paulo\", \"latitude\": -22.19, \"longitude\": -48.79}, {\"ano\": 2019, \"uf_x\": \"S\\u00e3o Paulo\", \"genero\": \"Feminino\", \"mes\": \"Mar\\u00e7o\", \"numero\": 183, \"codigo_uf\": 35, \"uf_y\": \"SP\", \"nome\": \"S\\u00e3o Paulo\", \"latitude\": -22.19, \"longitude\": -48.79}, {\"ano\": 2019, \"uf_x\": \"S\\u00e3o Paulo\", \"genero\": \"Feminino\", \"mes\": \"Abril\", \"numero\": 128, \"codigo_uf\": 35, \"uf_y\": \"SP\", \"nome\": \"S\\u00e3o Paulo\", \"latitude\": -22.19, \"longitude\": -48.79}, {\"ano\": 2019, \"uf_x\": \"S\\u00e3o Paulo\", \"genero\": \"Feminino\", \"mes\": \"Maio\", \"numero\": 159, \"codigo_uf\": 35, \"uf_y\": \"SP\", \"nome\": \"S\\u00e3o Paulo\", \"latitude\": -22.19, \"longitude\": -48.79}, {\"ano\": 2019, \"uf_x\": \"S\\u00e3o Paulo\", \"genero\": \"Feminino\", \"mes\": \"Junho\", \"numero\": 150, \"codigo_uf\": 35, \"uf_y\": \"SP\", \"nome\": \"S\\u00e3o Paulo\", \"latitude\": -22.19, \"longitude\": -48.79}, {\"ano\": 2019, \"uf_x\": \"S\\u00e3o Paulo\", \"genero\": \"Feminino\", \"mes\": \"Julho\", \"numero\": 113, \"codigo_uf\": 35, \"uf_y\": \"SP\", \"nome\": \"S\\u00e3o Paulo\", \"latitude\": -22.19, \"longitude\": -48.79}, {\"ano\": 2019, \"uf_x\": \"S\\u00e3o Paulo\", \"genero\": \"Feminino\", \"mes\": \"Agosto\", \"numero\": 151, \"codigo_uf\": 35, \"uf_y\": \"SP\", \"nome\": \"S\\u00e3o Paulo\", \"latitude\": -22.19, \"longitude\": -48.79}, {\"ano\": 2019, \"uf_x\": \"S\\u00e3o Paulo\", \"genero\": \"Feminino\", \"mes\": \"Setembro\", \"numero\": 147, \"codigo_uf\": 35, \"uf_y\": \"SP\", \"nome\": \"S\\u00e3o Paulo\", \"latitude\": -22.19, \"longitude\": -48.79}, {\"ano\": 2019, \"uf_x\": \"S\\u00e3o Paulo\", \"genero\": \"Feminino\", \"mes\": \"Outubro\", \"numero\": 164, \"codigo_uf\": 35, \"uf_y\": \"SP\", \"nome\": \"S\\u00e3o Paulo\", \"latitude\": -22.19, \"longitude\": -48.79}, {\"ano\": 2019, \"uf_x\": \"S\\u00e3o Paulo\", \"genero\": \"Feminino\", \"mes\": \"Novembro\", \"numero\": 205, \"codigo_uf\": 35, \"uf_y\": \"SP\", \"nome\": \"S\\u00e3o Paulo\", \"latitude\": -22.19, \"longitude\": -48.79}, {\"ano\": 2019, \"uf_x\": \"S\\u00e3o Paulo\", \"genero\": \"Feminino\", \"mes\": \"Dezembro\", \"numero\": 165, \"codigo_uf\": 35, \"uf_y\": \"SP\", \"nome\": \"S\\u00e3o Paulo\", \"latitude\": -22.19, \"longitude\": -48.79}]}}, {\"mode\": \"vega-lite\"});\n",
              "</script>"
            ]
          },
          "metadata": {},
          "execution_count": 161
        }
      ]
    },
    {
      "cell_type": "markdown",
      "metadata": {
        "id": "Wh_JkQnas_z7"
      },
      "source": [
        "## Muito obrigado/a!"
      ]
    }
  ]
}