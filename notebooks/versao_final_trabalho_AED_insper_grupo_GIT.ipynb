{
 "cells": [
  {
   "cell_type": "markdown",
   "metadata": {
    "id": "B6-CvBzoEVBW"
   },
   "source": [
    "# Casamento LGBT no Brasil\n",
    "\n",
    "*Este notebook contém o projeto final aplicado da disciplina \"Análise exploratória de dados\", no Master em Jornalismo Dados, Automação e Data Storytelling do Insper, lecionada pelo Prof. André Filipe de Moraes Batista, PhD.*\n",
    "\n",
    "**Integrantes do grupo:** Gabriela Caesar, Isabela Fleischmann e Thiago Araújo (Grupo GIT).\n",
    "\n",
    "**Transparência:** o trabalho também está disponível no [GitHub](https://github.com/gabrielacaesar/lgbt_casamento).\n",
    "\n",
    "**Base de dados escolhida:** casamentos de pessoas do mesmo gênero de 2013 até 2019 (dado mais recente). \n",
    "\n",
    "**Base de dados complementar:** números de habitantes desagregados por gênero, UF e faixa etária. \n",
    "\n",
    "**Fonte das bases de dados:** Instituto Brasileiro de Geografia e Estatística (IBGE). Os arquivos brutos [estão salvos aqui](https://github.com/gabrielacaesar/lgbt_casamento/tree/main/data/raw_data).\n",
    "\n",
    "**Metodologia:** os dados do IBGE estão disponíveis em um formato que dificulta o reaproveitamento para a análise. Por isso, transformamos os dados em formato \"tidy\" antes de iniciar as análises. Os arquivos tratados [estão salvos aqui](https://github.com/gabrielacaesar/lgbt_casamento/tree/main/data).\n"
   ]
  },
  {
   "cell_type": "markdown",
   "metadata": {
    "id": "M2oU6fVsHJ1Y"
   },
   "source": [
    "## Contexto do assunto\n",
    "O Brasil tem [mais de 60 mil casais formados por pessoas do mesmo gênero](http://g1.globo.com/brasil/noticia/2011/04/censo-2010-contabiliza-mais-de-60-mil-casais-homossexuais.html), segundo o Censo 2010 - o último realizado no Brasil e divulgado em 2011. Esse número é bastante menor que o de casais formados por pessoas de gêneros diferentes: 37,5 milhões. \n",
    "\n",
    "Mais de dez anos se passaram. E como está essa situação hoje no Brasil? É inegável que, ao caminhar na Avenida Paulista, em São Paulo, em 2021, vemos mais casais LGBTs do que há 10 anos. O sentimento é que mais pessoas puderam viver histórias homoafetivas nas grandes cidades. Mas será que isso vale para todo o Brasil? E será que a eleição de Jair Bolsonaro impactou esses números?\n",
    "\n",
    "Além disso, apenas em 2011, o STF julgou legal a união civil de pessoas do mesmo gênero. Em 2013, o Conselho Nacional de Justiça passou a permitir que todos os cartórios registrassem a união homoafetiva.\n",
    "\n",
    "A orientação sexual é uma informação pessoal e, por isso, há poucos dados sobre isso, já que poucos órgãos coletam essa informação. Antes da definição da base, o grupo mapeou diversos dados sobre LGBT para verificar como o tema poderia ser abordado.\n",
    "\n",
    "A base de dados do IBGE, porém, é uma exceção positiva nesse levantamento. Além de ter dados oficiais do Brasil, ela também tem um detalhamento que permite uma ampla análise exploratória para responder a perguntas."
   ]
  },
  {
   "cell_type": "markdown",
   "metadata": {
    "id": "YFmmLz9QHDJA"
   },
   "source": [
    "## Perguntas a que queremos responder\n",
    "1.   Quantos casamentos homoafetivos ocorreram no Brasil de 2013 a 2019?\n",
    "2.   Qual foi o ano com mais casamentos? Qual foi o ano com menos casamento? \n",
    "3.   Quem casa mais no meio LGBT? Homens ou mulheres? \n",
    "4.   Em qual mês as pessoas mais se casam? \n",
    "5.   Estatísticas básicas, por UF ou por BR, sobre os casamentos LGBTs\n",
    "6.   Em quais regiões do Brasil os casamentos LGBTs mais ocorrem?\n",
    "7.   Considerando a população adulta, quais estados têm as maiores e menores proporções de casamentos LGBTs? \n",
    "8.   Em um mapa do Brasil, como ficam as taxas de casamentos LGBTS por 100 mil habitantes adultos?\n",
    "9.   Em quais estados aconteceram mais casamentos LGBTs em números absolutos? E menos?\n",
    "10.  Considerando a UF e o ano informados pelo usuário, quais são as estatísticas básicas dessa UF e desse ano quanto ao casamento LGBT?\n"
   ]
  },
  {
   "cell_type": "markdown",
   "metadata": {
    "id": "ROIBBhDMJ1Wk"
   },
   "source": [
    "## O que aprendemos com os dados\n",
    "\n",
    "1.   As mulheres definitivamente se casam mais do que os homens\n",
    "2.   SP e DF foram as unidades federativas com as maiores taxas de casamentos LGBTs por habitantes adultos\n",
    "3.   O Sudeste, região mais populosa do Brasil, também foi a região com mais casamentos\n",
    "4.   O ano com mais casamentos LGBTs foi 2018, seguido por 2019\n",
    "5.   O mês com mais casamentos foi dezembro\n",
    "6.   Os meses próximos à eleição de Jair Bolsonaro foram os picos de casamentos LGBTS\n",
    "7.   Os dados apontam que os casais homoafetivos seguiram [a recomendação da presidente da Comissão Especial da Diversidade Sexual e de Gênero do Conselho Federal da OAB, Maria Berenice Dias](https://g1.globo.com/sp/sao-paulo/noticia/2018/11/07/casamento-lgbt-cresce-25-no-pais-diz-associacao-profissionais-oferecem-servicos-gratuitos-para-celebracoes.ghtml), para os casais procurarem assegurar o matrimônio ainda em 2018."
   ]
  },
  {
   "cell_type": "markdown",
   "metadata": {
    "id": "RtSImjTwR4iC"
   },
   "source": [
    "## 1. Verificação do dataframe\n",
    "Esta etapa do trabalho se propõe a importar o CSV principal e todas as bibliotecas usadas no Notebook, além de verificar do que esse dataframe é formado antes de responder às perguntas de interesse."
   ]
  },
  {
   "cell_type": "code",
   "execution_count": 1,
   "metadata": {
    "id": "4moiU6vXQLlD"
   },
   "outputs": [
    {
     "ename": "ModuleNotFoundError",
     "evalue": "No module named 'altair'",
     "output_type": "error",
     "traceback": [
      "\u001b[0;31m---------------------------------------------------------------------------\u001b[0m",
      "\u001b[0;31mModuleNotFoundError\u001b[0m                       Traceback (most recent call last)",
      "\u001b[0;32m<ipython-input-1-5c8b29264d7b>\u001b[0m in \u001b[0;36m<module>\u001b[0;34m\u001b[0m\n\u001b[1;32m      4\u001b[0m \u001b[0;32mimport\u001b[0m \u001b[0mgeopandas\u001b[0m \u001b[0;32mas\u001b[0m \u001b[0mgpd\u001b[0m\u001b[0;34m\u001b[0m\u001b[0;34m\u001b[0m\u001b[0m\n\u001b[1;32m      5\u001b[0m \u001b[0;32mimport\u001b[0m \u001b[0mpandas\u001b[0m \u001b[0;32mas\u001b[0m \u001b[0mpd\u001b[0m\u001b[0;34m\u001b[0m\u001b[0;34m\u001b[0m\u001b[0m\n\u001b[0;32m----> 6\u001b[0;31m \u001b[0;32mimport\u001b[0m \u001b[0maltair\u001b[0m \u001b[0;32mas\u001b[0m \u001b[0malt\u001b[0m\u001b[0;34m\u001b[0m\u001b[0;34m\u001b[0m\u001b[0m\n\u001b[0m",
      "\u001b[0;31mModuleNotFoundError\u001b[0m: No module named 'altair'"
     ]
    }
   ],
   "source": [
    "# importação das bibliotecas\n",
    "#%%capture -- remove # if you run on colab\n",
    "#!pip install geopandas -- remove # if you run on colab\n",
    "import geopandas as gpd\n",
    "import pandas as pd\n",
    "import altair as alt"
   ]
  },
  {
   "cell_type": "code",
   "execution_count": 13,
   "metadata": {
    "id": "fWKrfJJrQu-d"
   },
   "outputs": [],
   "source": [
    "# leitura do dataframe\n",
    "lgbt_casamento = pd.read_csv('https://raw.githubusercontent.com/gabrielacaesar/lgbt_casamento/main/data/lgbt_casamento.csv')"
   ]
  },
  {
   "cell_type": "code",
   "execution_count": 14,
   "metadata": {
    "colab": {
     "base_uri": "https://localhost:8080/",
     "height": 206
    },
    "id": "TTF6Na23QBT0",
    "outputId": "55e31f97-ded3-4dcf-f0e7-07f4fb986204"
   },
   "outputs": [
    {
     "data": {
      "text/html": [
       "<div>\n",
       "<style scoped>\n",
       "    .dataframe tbody tr th:only-of-type {\n",
       "        vertical-align: middle;\n",
       "    }\n",
       "\n",
       "    .dataframe tbody tr th {\n",
       "        vertical-align: top;\n",
       "    }\n",
       "\n",
       "    .dataframe thead th {\n",
       "        text-align: right;\n",
       "    }\n",
       "</style>\n",
       "<table border=\"1\" class=\"dataframe\">\n",
       "  <thead>\n",
       "    <tr style=\"text-align: right;\">\n",
       "      <th></th>\n",
       "      <th>ano</th>\n",
       "      <th>uf</th>\n",
       "      <th>genero</th>\n",
       "      <th>mes</th>\n",
       "      <th>numero</th>\n",
       "    </tr>\n",
       "  </thead>\n",
       "  <tbody>\n",
       "    <tr>\n",
       "      <th>0</th>\n",
       "      <td>2014</td>\n",
       "      <td>Rondônia</td>\n",
       "      <td>Masculino</td>\n",
       "      <td>Janeiro</td>\n",
       "      <td>0</td>\n",
       "    </tr>\n",
       "    <tr>\n",
       "      <th>1</th>\n",
       "      <td>2014</td>\n",
       "      <td>Rondônia</td>\n",
       "      <td>Masculino</td>\n",
       "      <td>Fevereiro</td>\n",
       "      <td>0</td>\n",
       "    </tr>\n",
       "    <tr>\n",
       "      <th>2</th>\n",
       "      <td>2014</td>\n",
       "      <td>Rondônia</td>\n",
       "      <td>Masculino</td>\n",
       "      <td>Março</td>\n",
       "      <td>0</td>\n",
       "    </tr>\n",
       "    <tr>\n",
       "      <th>3</th>\n",
       "      <td>2014</td>\n",
       "      <td>Rondônia</td>\n",
       "      <td>Masculino</td>\n",
       "      <td>Abril</td>\n",
       "      <td>0</td>\n",
       "    </tr>\n",
       "    <tr>\n",
       "      <th>4</th>\n",
       "      <td>2014</td>\n",
       "      <td>Rondônia</td>\n",
       "      <td>Masculino</td>\n",
       "      <td>Maio</td>\n",
       "      <td>0</td>\n",
       "    </tr>\n",
       "  </tbody>\n",
       "</table>\n",
       "</div>"
      ],
      "text/plain": [
       "    ano        uf     genero        mes  numero\n",
       "0  2014  Rondônia  Masculino    Janeiro       0\n",
       "1  2014  Rondônia  Masculino  Fevereiro       0\n",
       "2  2014  Rondônia  Masculino      Março       0\n",
       "3  2014  Rondônia  Masculino      Abril       0\n",
       "4  2014  Rondônia  Masculino       Maio       0"
      ]
     },
     "execution_count": 14,
     "metadata": {},
     "output_type": "execute_result"
    }
   ],
   "source": [
    "# primeiras linhas do nosso dataframe\n",
    "lgbt_casamento.head()"
   ]
  },
  {
   "cell_type": "code",
   "execution_count": 15,
   "metadata": {
    "colab": {
     "base_uri": "https://localhost:8080/",
     "height": 206
    },
    "id": "S3UwrxvdQz9q",
    "outputId": "85d5d979-13c7-4ffd-a5de-58eb640bb0f2"
   },
   "outputs": [
    {
     "data": {
      "text/html": [
       "<div>\n",
       "<style scoped>\n",
       "    .dataframe tbody tr th:only-of-type {\n",
       "        vertical-align: middle;\n",
       "    }\n",
       "\n",
       "    .dataframe tbody tr th {\n",
       "        vertical-align: top;\n",
       "    }\n",
       "\n",
       "    .dataframe thead th {\n",
       "        text-align: right;\n",
       "    }\n",
       "</style>\n",
       "<table border=\"1\" class=\"dataframe\">\n",
       "  <thead>\n",
       "    <tr style=\"text-align: right;\">\n",
       "      <th></th>\n",
       "      <th>ano</th>\n",
       "      <th>uf</th>\n",
       "      <th>genero</th>\n",
       "      <th>mes</th>\n",
       "      <th>numero</th>\n",
       "    </tr>\n",
       "  </thead>\n",
       "  <tbody>\n",
       "    <tr>\n",
       "      <th>4531</th>\n",
       "      <td>2019</td>\n",
       "      <td>Distrito Federal</td>\n",
       "      <td>Feminino</td>\n",
       "      <td>Agosto</td>\n",
       "      <td>7</td>\n",
       "    </tr>\n",
       "    <tr>\n",
       "      <th>4532</th>\n",
       "      <td>2019</td>\n",
       "      <td>Distrito Federal</td>\n",
       "      <td>Feminino</td>\n",
       "      <td>Setembro</td>\n",
       "      <td>9</td>\n",
       "    </tr>\n",
       "    <tr>\n",
       "      <th>4533</th>\n",
       "      <td>2019</td>\n",
       "      <td>Distrito Federal</td>\n",
       "      <td>Feminino</td>\n",
       "      <td>Outubro</td>\n",
       "      <td>13</td>\n",
       "    </tr>\n",
       "    <tr>\n",
       "      <th>4534</th>\n",
       "      <td>2019</td>\n",
       "      <td>Distrito Federal</td>\n",
       "      <td>Feminino</td>\n",
       "      <td>Novembro</td>\n",
       "      <td>11</td>\n",
       "    </tr>\n",
       "    <tr>\n",
       "      <th>4535</th>\n",
       "      <td>2019</td>\n",
       "      <td>Distrito Federal</td>\n",
       "      <td>Feminino</td>\n",
       "      <td>Dezembro</td>\n",
       "      <td>7</td>\n",
       "    </tr>\n",
       "  </tbody>\n",
       "</table>\n",
       "</div>"
      ],
      "text/plain": [
       "       ano                uf    genero       mes  numero\n",
       "4531  2019  Distrito Federal  Feminino    Agosto       7\n",
       "4532  2019  Distrito Federal  Feminino  Setembro       9\n",
       "4533  2019  Distrito Federal  Feminino   Outubro      13\n",
       "4534  2019  Distrito Federal  Feminino  Novembro      11\n",
       "4535  2019  Distrito Federal  Feminino  Dezembro       7"
      ]
     },
     "execution_count": 15,
     "metadata": {},
     "output_type": "execute_result"
    }
   ],
   "source": [
    "# últimas linhas do nosso dataframe\n",
    "lgbt_casamento.tail()"
   ]
  },
  {
   "cell_type": "code",
   "execution_count": 16,
   "metadata": {
    "colab": {
     "base_uri": "https://localhost:8080/"
    },
    "id": "CpMzlEBjP-0V",
    "outputId": "ad0e3f0b-cfb8-46c9-b258-8f09f9e28460"
   },
   "outputs": [
    {
     "name": "stdout",
     "output_type": "stream",
     "text": [
      "<class 'pandas.core.frame.DataFrame'>\n",
      "RangeIndex: 4536 entries, 0 to 4535\n",
      "Data columns (total 5 columns):\n",
      " #   Column  Non-Null Count  Dtype \n",
      "---  ------  --------------  ----- \n",
      " 0   ano     4536 non-null   int64 \n",
      " 1   uf      4536 non-null   object\n",
      " 2   genero  4536 non-null   object\n",
      " 3   mes     4536 non-null   object\n",
      " 4   numero  4536 non-null   int64 \n",
      "dtypes: int64(2), object(3)\n",
      "memory usage: 177.3+ KB\n"
     ]
    }
   ],
   "source": [
    "# informações do dataframe, por exemplo: tipo da coluna e número de linhas\n",
    "lgbt_casamento.info()"
   ]
  },
  {
   "cell_type": "code",
   "execution_count": 17,
   "metadata": {
    "colab": {
     "base_uri": "https://localhost:8080/",
     "height": 300
    },
    "id": "SrgwTC6qL2Nb",
    "outputId": "ca409e43-b820-4c9f-8fdf-245d3caa4dd7"
   },
   "outputs": [
    {
     "data": {
      "text/html": [
       "<div>\n",
       "<style scoped>\n",
       "    .dataframe tbody tr th:only-of-type {\n",
       "        vertical-align: middle;\n",
       "    }\n",
       "\n",
       "    .dataframe tbody tr th {\n",
       "        vertical-align: top;\n",
       "    }\n",
       "\n",
       "    .dataframe thead th {\n",
       "        text-align: right;\n",
       "    }\n",
       "</style>\n",
       "<table border=\"1\" class=\"dataframe\">\n",
       "  <thead>\n",
       "    <tr style=\"text-align: right;\">\n",
       "      <th></th>\n",
       "      <th>ano</th>\n",
       "      <th>numero</th>\n",
       "    </tr>\n",
       "  </thead>\n",
       "  <tbody>\n",
       "    <tr>\n",
       "      <th>count</th>\n",
       "      <td>4536.00000</td>\n",
       "      <td>4536.000000</td>\n",
       "    </tr>\n",
       "    <tr>\n",
       "      <th>mean</th>\n",
       "      <td>2016.00000</td>\n",
       "      <td>9.693783</td>\n",
       "    </tr>\n",
       "    <tr>\n",
       "      <th>std</th>\n",
       "      <td>2.00022</td>\n",
       "      <td>25.962171</td>\n",
       "    </tr>\n",
       "    <tr>\n",
       "      <th>min</th>\n",
       "      <td>2013.00000</td>\n",
       "      <td>0.000000</td>\n",
       "    </tr>\n",
       "    <tr>\n",
       "      <th>25%</th>\n",
       "      <td>2014.00000</td>\n",
       "      <td>1.000000</td>\n",
       "    </tr>\n",
       "    <tr>\n",
       "      <th>50%</th>\n",
       "      <td>2016.00000</td>\n",
       "      <td>3.000000</td>\n",
       "    </tr>\n",
       "    <tr>\n",
       "      <th>75%</th>\n",
       "      <td>2018.00000</td>\n",
       "      <td>9.000000</td>\n",
       "    </tr>\n",
       "    <tr>\n",
       "      <th>max</th>\n",
       "      <td>2019.00000</td>\n",
       "      <td>827.000000</td>\n",
       "    </tr>\n",
       "  </tbody>\n",
       "</table>\n",
       "</div>"
      ],
      "text/plain": [
       "              ano       numero\n",
       "count  4536.00000  4536.000000\n",
       "mean   2016.00000     9.693783\n",
       "std       2.00022    25.962171\n",
       "min    2013.00000     0.000000\n",
       "25%    2014.00000     1.000000\n",
       "50%    2016.00000     3.000000\n",
       "75%    2018.00000     9.000000\n",
       "max    2019.00000   827.000000"
      ]
     },
     "execution_count": 17,
     "metadata": {},
     "output_type": "execute_result"
    }
   ],
   "source": [
    "# estatísticas das colunas numéricas do dataframe\n",
    "lgbt_casamento.describe()"
   ]
  },
  {
   "cell_type": "code",
   "execution_count": 18,
   "metadata": {
    "colab": {
     "base_uri": "https://localhost:8080/"
    },
    "id": "0eemqw5IKq6h",
    "outputId": "b51a70fd-11c7-42af-c5f1-42d32c94543a"
   },
   "outputs": [
    {
     "data": {
      "text/plain": [
       "Index(['ano', 'uf', 'genero', 'mes', 'numero'], dtype='object')"
      ]
     },
     "execution_count": 18,
     "metadata": {},
     "output_type": "execute_result"
    }
   ],
   "source": [
    "# cabeçalho da dataframe\n",
    "lgbt_casamento.columns"
   ]
  },
  {
   "cell_type": "code",
   "execution_count": 19,
   "metadata": {
    "colab": {
     "base_uri": "https://localhost:8080/"
    },
    "id": "auW4JB8bG7Ki",
    "outputId": "b21897eb-7a80-47f5-eb4e-64c6fdd7cc83"
   },
   "outputs": [
    {
     "data": {
      "text/plain": [
       "array([2014, 2013, 2015, 2016, 2017, 2018, 2019])"
      ]
     },
     "execution_count": 19,
     "metadata": {},
     "output_type": "execute_result"
    }
   ],
   "source": [
    "# valores únicos da coluna 'ano' do dataframe\n",
    "lgbt_casamento['ano'].unique()"
   ]
  },
  {
   "cell_type": "code",
   "execution_count": 20,
   "metadata": {
    "colab": {
     "base_uri": "https://localhost:8080/"
    },
    "id": "gZKblUNmGwsq",
    "outputId": "a3cc48fd-03fb-4acf-9932-0b45de5da7f0"
   },
   "outputs": [
    {
     "data": {
      "text/plain": [
       "array(['Janeiro', 'Fevereiro', 'Março', 'Abril', 'Maio', 'Junho', 'Julho',\n",
       "       'Agosto', 'Setembro', 'Outubro', 'Novembro', 'Dezembro'],\n",
       "      dtype=object)"
      ]
     },
     "execution_count": 20,
     "metadata": {},
     "output_type": "execute_result"
    }
   ],
   "source": [
    "# valores únicos da coluna 'mes' do dataframe\n",
    "lgbt_casamento['mes'].unique()"
   ]
  },
  {
   "cell_type": "code",
   "execution_count": 21,
   "metadata": {
    "colab": {
     "base_uri": "https://localhost:8080/"
    },
    "id": "0GRh1jp4Ev03",
    "outputId": "560a8062-cffb-40d3-da48-50ebdf81b929"
   },
   "outputs": [
    {
     "data": {
      "text/plain": [
       "array(['Masculino', 'Feminino'], dtype=object)"
      ]
     },
     "execution_count": 21,
     "metadata": {},
     "output_type": "execute_result"
    }
   ],
   "source": [
    "# valores únicos da coluna 'genero' do dataframe\n",
    "lgbt_casamento['genero'].unique()"
   ]
  },
  {
   "cell_type": "code",
   "execution_count": 22,
   "metadata": {
    "colab": {
     "base_uri": "https://localhost:8080/"
    },
    "id": "BJlUk89DEryp",
    "outputId": "24892628-791e-4a46-e62c-0425aa6a9e7b"
   },
   "outputs": [
    {
     "data": {
      "text/plain": [
       "array(['Rondônia', 'Acre', 'Amazonas', 'Roraima', 'Pará', 'Amapá',\n",
       "       'Tocantins', 'Maranhão', 'Piauí', 'Ceará', 'Rio Grande do Norte',\n",
       "       'Paraíba', 'Pernambuco', 'Alagoas', 'Sergipe', 'Bahia',\n",
       "       'Minas Gerais', 'Espírito Santo', 'Rio de Janeiro', 'São Paulo',\n",
       "       'Paraná', 'Santa Catarina', 'Rio Grande do Sul',\n",
       "       'Mato Grosso do Sul', 'Mato Grosso', 'Goiás', 'Distrito Federal'],\n",
       "      dtype=object)"
      ]
     },
     "execution_count": 22,
     "metadata": {},
     "output_type": "execute_result"
    }
   ],
   "source": [
    "# valores únicos da coluna 'uf' do dataframe\n",
    "lgbt_casamento['uf'].unique()"
   ]
  },
  {
   "cell_type": "code",
   "execution_count": 23,
   "metadata": {
    "colab": {
     "base_uri": "https://localhost:8080/"
    },
    "id": "vqLlYdLPRBhc",
    "outputId": "128f38da-9b10-4647-bb96-2bb206331044"
   },
   "outputs": [
    {
     "data": {
      "text/plain": [
       "27"
      ]
     },
     "execution_count": 23,
     "metadata": {},
     "output_type": "execute_result"
    }
   ],
   "source": [
    "# tamanho dos valores únicos da coluna 'uf' do dataframe\n",
    "len(lgbt_casamento['uf'].unique())"
   ]
  },
  {
   "cell_type": "code",
   "execution_count": 24,
   "metadata": {
    "colab": {
     "base_uri": "https://localhost:8080/"
    },
    "id": "-I37cJ3ERD6d",
    "outputId": "e7297049-3f4b-4024-abdf-c31c2d01fd81"
   },
   "outputs": [
    {
     "data": {
      "text/plain": [
       "12"
      ]
     },
     "execution_count": 24,
     "metadata": {},
     "output_type": "execute_result"
    }
   ],
   "source": [
    "# tamanho dos valores únicos da coluna 'mes' do dataframe\n",
    "len(lgbt_casamento['mes'].unique())"
   ]
  },
  {
   "cell_type": "code",
   "execution_count": 25,
   "metadata": {
    "colab": {
     "base_uri": "https://localhost:8080/"
    },
    "id": "dbQCs2_zRF7m",
    "outputId": "7da57035-70ef-4145-873a-384384840206"
   },
   "outputs": [
    {
     "data": {
      "text/plain": [
       "7"
      ]
     },
     "execution_count": 25,
     "metadata": {},
     "output_type": "execute_result"
    }
   ],
   "source": [
    "# tamanho dos valores únicos da coluna 'ano' do dataframe\n",
    "len(lgbt_casamento['ano'].unique())"
   ]
  },
  {
   "cell_type": "code",
   "execution_count": 26,
   "metadata": {
    "colab": {
     "base_uri": "https://localhost:8080/"
    },
    "id": "osoC1DfmRHIS",
    "outputId": "d0203382-2c9f-4c36-a362-abcb72df06b0"
   },
   "outputs": [
    {
     "data": {
      "text/plain": [
       "0         Janeiro\n",
       "1       Fevereiro\n",
       "2           Março\n",
       "3           Abril\n",
       "4            Maio\n",
       "          ...    \n",
       "4531       Agosto\n",
       "4532     Setembro\n",
       "4533      Outubro\n",
       "4534     Novembro\n",
       "4535     Dezembro\n",
       "Name: mes, Length: 4536, dtype: object"
      ]
     },
     "execution_count": 26,
     "metadata": {},
     "output_type": "execute_result"
    }
   ],
   "source": [
    "# seleciona apenas a coluna 'mes'\n",
    "lgbt_casamento['mes']"
   ]
  },
  {
   "cell_type": "code",
   "execution_count": 27,
   "metadata": {
    "colab": {
     "base_uri": "https://localhost:8080/"
    },
    "id": "GFzYtYENRO6D",
    "outputId": "aff1fb90-98a5-4cdf-ff4f-c0b2315b9f3f"
   },
   "outputs": [
    {
     "data": {
      "text/plain": [
       "4536"
      ]
     },
     "execution_count": 27,
     "metadata": {},
     "output_type": "execute_result"
    }
   ],
   "source": [
    "# número de linhas na coluna 'numero'\n",
    "len(lgbt_casamento['mes'])"
   ]
  },
  {
   "cell_type": "code",
   "execution_count": 28,
   "metadata": {
    "colab": {
     "base_uri": "https://localhost:8080/"
    },
    "id": "JHzU6jzsRSbv",
    "outputId": "447b1cd6-1d78-4970-b9cd-5624c2c0376b"
   },
   "outputs": [
    {
     "data": {
      "text/plain": [
       "0       False\n",
       "1       False\n",
       "2       False\n",
       "3       False\n",
       "4       False\n",
       "        ...  \n",
       "4531    False\n",
       "4532    False\n",
       "4533    False\n",
       "4534    False\n",
       "4535    False\n",
       "Name: mes, Length: 4536, dtype: bool"
      ]
     },
     "execution_count": 28,
     "metadata": {},
     "output_type": "execute_result"
    }
   ],
   "source": [
    "# pergunta se aquele campo da coluna 'mes' é NA (ou seja, sem preenchimento)\n",
    "lgbt_casamento['mes'].isna()"
   ]
  },
  {
   "cell_type": "code",
   "execution_count": 29,
   "metadata": {
    "colab": {
     "base_uri": "https://localhost:8080/"
    },
    "id": "SWqefMn8RTpV",
    "outputId": "83424fba-da06-4fb6-8ccb-2e9f4a12a4d7"
   },
   "outputs": [
    {
     "data": {
      "text/plain": [
       "0       False\n",
       "1       False\n",
       "2       False\n",
       "3       False\n",
       "4       False\n",
       "        ...  \n",
       "4531    False\n",
       "4532    False\n",
       "4533    False\n",
       "4534    False\n",
       "4535    False\n",
       "Name: numero, Length: 4536, dtype: bool"
      ]
     },
     "execution_count": 29,
     "metadata": {},
     "output_type": "execute_result"
    }
   ],
   "source": [
    "# pergunta se aquele campo da coluna 'numero' é NA (ou seja, sem preenchimento)\n",
    "lgbt_casamento['numero'].isna()"
   ]
  },
  {
   "cell_type": "code",
   "execution_count": 30,
   "metadata": {
    "colab": {
     "base_uri": "https://localhost:8080/"
    },
    "id": "IRwMFQNwRVtR",
    "outputId": "266a78c5-a404-4bf6-b378-c36a29089cba"
   },
   "outputs": [
    {
     "data": {
      "text/plain": [
       "827"
      ]
     },
     "execution_count": 30,
     "metadata": {},
     "output_type": "execute_result"
    }
   ],
   "source": [
    "# número máximo da coluna 'numero'\n",
    "# ou seja, maior número de casamentos em um mês em uma UF\n",
    "lgbt_casamento['numero'].max()"
   ]
  },
  {
   "cell_type": "code",
   "execution_count": 31,
   "metadata": {
    "colab": {
     "base_uri": "https://localhost:8080/"
    },
    "id": "aAu7aPunRXMo",
    "outputId": "23348035-f232-4fab-c17b-35283ac7f6c9"
   },
   "outputs": [
    {
     "data": {
      "text/plain": [
       "0"
      ]
     },
     "execution_count": 31,
     "metadata": {},
     "output_type": "execute_result"
    }
   ],
   "source": [
    "# número mínimo da coluna 'numero'\n",
    "# ou seja, menor número de casamentos em um mês em uma UF\n",
    "lgbt_casamento['numero'].min()"
   ]
  },
  {
   "cell_type": "code",
   "execution_count": 32,
   "metadata": {
    "colab": {
     "base_uri": "https://localhost:8080/"
    },
    "id": "xfTCm0x6RhaW",
    "outputId": "7ad0362d-67fe-4f89-c96f-93042d8c479f"
   },
   "outputs": [
    {
     "data": {
      "text/plain": [
       "9.693783068783068"
      ]
     },
     "execution_count": 32,
     "metadata": {},
     "output_type": "execute_result"
    }
   ],
   "source": [
    "# média da coluna 'numero'\n",
    "lgbt_casamento['numero'].mean()"
   ]
  },
  {
   "cell_type": "code",
   "execution_count": 33,
   "metadata": {
    "colab": {
     "base_uri": "https://localhost:8080/"
    },
    "id": "sUtuEZVnRjCY",
    "outputId": "5c6f5b79-2013-44ee-e2a9-1fdb933ae886"
   },
   "outputs": [
    {
     "data": {
      "text/plain": [
       "3.0"
      ]
     },
     "execution_count": 33,
     "metadata": {},
     "output_type": "execute_result"
    }
   ],
   "source": [
    "# mediana da coluna 'numero'\n",
    "lgbt_casamento['numero'].median()"
   ]
  },
  {
   "cell_type": "code",
   "execution_count": 35,
   "metadata": {
    "colab": {
     "base_uri": "https://localhost:8080/"
    },
    "id": "3oZTWNjWS-YQ",
    "outputId": "767bce87-f94e-4008-bfa0-ac8d9e1a6750"
   },
   "outputs": [
    {
     "data": {
      "text/plain": [
       "25.962171041306817"
      ]
     },
     "execution_count": 35,
     "metadata": {},
     "output_type": "execute_result"
    }
   ],
   "source": [
    "# desvio padrão da coluna 'numero'\n",
    "lgbt_casamento['numero'].std()"
   ]
  },
  {
   "cell_type": "code",
   "execution_count": 34,
   "metadata": {
    "colab": {
     "base_uri": "https://localhost:8080/"
    },
    "id": "sLZFQo8nRje8",
    "outputId": "32373e2b-905f-4524-d883-3202db285973"
   },
   "outputs": [
    {
     "data": {
      "text/plain": [
       "43971"
      ]
     },
     "execution_count": 34,
     "metadata": {},
     "output_type": "execute_result"
    }
   ],
   "source": [
    "# soma da coluna 'numero'\n",
    "sum(lgbt_casamento['numero'])"
   ]
  },
  {
   "cell_type": "markdown",
   "metadata": {
    "id": "R3cXAfySSPzf"
   },
   "source": [
    "## 2. Análise exploratória de dados\n",
    "Esta etapa do trabalho se propõe a analisar os dados com mais profundida para começar a responder a algumas perguntas formuladas inicialmente. Como o CSV já foi importado e as bibliotecas já foram chamadas anteriormente neste Notebook, isso não precisa ser repetido."
   ]
  },
  {
   "cell_type": "markdown",
   "metadata": {
    "id": "G6jQ6E_mdjiJ"
   },
   "source": [
    "### Quantos casamentos homoafetivos ocorreram no Brasil de 2013 a 2019?"
   ]
  },
  {
   "cell_type": "code",
   "execution_count": 122,
   "metadata": {
    "colab": {
     "base_uri": "https://localhost:8080/"
    },
    "id": "8H3uhOgZdp2n",
    "outputId": "3d852c28-de10-4409-9142-d266c3122a3e"
   },
   "outputs": [
    {
     "data": {
      "text/plain": [
       "43971"
      ]
     },
     "execution_count": 122,
     "metadata": {},
     "output_type": "execute_result"
    }
   ],
   "source": [
    "# mais de 40 mil casamentos homoafetivos nesse período\n",
    "sum(lgbt_casamento['numero'])"
   ]
  },
  {
   "cell_type": "markdown",
   "metadata": {
    "id": "iwIvrUBZdZoP"
   },
   "source": [
    "### Qual foi o ano com mais casamentos homoafetivos?"
   ]
  },
  {
   "cell_type": "code",
   "execution_count": 45,
   "metadata": {
    "colab": {
     "base_uri": "https://localhost:8080/"
    },
    "id": "zkreNjrrTYHg",
    "outputId": "bbfaaab9-49da-4865-c1a2-87ad2b0df029"
   },
   "outputs": [
    {
     "name": "stdout",
     "output_type": "stream",
     "text": [
      "    ano  numero\n",
      "0  2018    9520\n",
      "1  2019    9056\n",
      "2  2017    5887\n",
      "3  2015    5614\n",
      "4  2016    5354\n",
      "5  2014    4840\n",
      "6  2013    3700\n"
     ]
    }
   ],
   "source": [
    "# 2018 foi o ano com mais casamentos, seguido por 2019\n",
    "casamento_ano = lgbt_casamento.groupby('ano')['numero'].sum().sort_values(ascending=False).reset_index()\n",
    "print(casamento_ano)"
   ]
  },
  {
   "cell_type": "code",
   "execution_count": 81,
   "metadata": {
    "colab": {
     "base_uri": "https://localhost:8080/",
     "height": 398
    },
    "id": "Cs8MwIgmTr0H",
    "outputId": "87decf79-8e63-4a87-c451-dca6485e4dcb"
   },
   "outputs": [
    {
     "data": {
      "text/html": [
       "\n",
       "<div id=\"altair-viz-fabfa8de82a3480eaca4987e6c402b95\"></div>\n",
       "<script type=\"text/javascript\">\n",
       "  (function(spec, embedOpt){\n",
       "    let outputDiv = document.currentScript.previousElementSibling;\n",
       "    if (outputDiv.id !== \"altair-viz-fabfa8de82a3480eaca4987e6c402b95\") {\n",
       "      outputDiv = document.getElementById(\"altair-viz-fabfa8de82a3480eaca4987e6c402b95\");\n",
       "    }\n",
       "    const paths = {\n",
       "      \"vega\": \"https://cdn.jsdelivr.net/npm//vega@5?noext\",\n",
       "      \"vega-lib\": \"https://cdn.jsdelivr.net/npm//vega-lib?noext\",\n",
       "      \"vega-lite\": \"https://cdn.jsdelivr.net/npm//vega-lite@4.8.1?noext\",\n",
       "      \"vega-embed\": \"https://cdn.jsdelivr.net/npm//vega-embed@6?noext\",\n",
       "    };\n",
       "\n",
       "    function loadScript(lib) {\n",
       "      return new Promise(function(resolve, reject) {\n",
       "        var s = document.createElement('script');\n",
       "        s.src = paths[lib];\n",
       "        s.async = true;\n",
       "        s.onload = () => resolve(paths[lib]);\n",
       "        s.onerror = () => reject(`Error loading script: ${paths[lib]}`);\n",
       "        document.getElementsByTagName(\"head\")[0].appendChild(s);\n",
       "      });\n",
       "    }\n",
       "\n",
       "    function showError(err) {\n",
       "      outputDiv.innerHTML = `<div class=\"error\" style=\"color:red;\">${err}</div>`;\n",
       "      throw err;\n",
       "    }\n",
       "\n",
       "    function displayChart(vegaEmbed) {\n",
       "      vegaEmbed(outputDiv, spec, embedOpt)\n",
       "        .catch(err => showError(`Javascript Error: ${err.message}<br>This usually means there's a typo in your chart specification. See the javascript console for the full traceback.`));\n",
       "    }\n",
       "\n",
       "    if(typeof define === \"function\" && define.amd) {\n",
       "      requirejs.config({paths});\n",
       "      require([\"vega-embed\"], displayChart, err => showError(`Error loading script: ${err.message}`));\n",
       "    } else if (typeof vegaEmbed === \"function\") {\n",
       "      displayChart(vegaEmbed);\n",
       "    } else {\n",
       "      loadScript(\"vega\")\n",
       "        .then(() => loadScript(\"vega-lite\"))\n",
       "        .then(() => loadScript(\"vega-embed\"))\n",
       "        .catch(showError)\n",
       "        .then(() => displayChart(vegaEmbed));\n",
       "    }\n",
       "  })({\"config\": {\"view\": {\"continuousWidth\": 400, \"continuousHeight\": 300}}, \"data\": {\"name\": \"data-94c34337ccddc1fb7c1f35424dbb915f\"}, \"mark\": \"bar\", \"encoding\": {\"color\": {\"condition\": {\"value\": \"orange\", \"test\": \"(datum.ano === 2018)\"}, \"value\": \"steelblue\"}, \"tooltip\": [{\"type\": \"quantitative\", \"field\": \"ano\"}, {\"type\": \"quantitative\", \"field\": \"numero\"}], \"x\": {\"type\": \"ordinal\", \"field\": \"ano\", \"title\": \"Ano\"}, \"y\": {\"type\": \"quantitative\", \"field\": \"numero\", \"title\": \"N\\u00ba de casamentos\"}}, \"selection\": {\"selector011\": {\"type\": \"interval\", \"bind\": \"scales\", \"encodings\": [\"x\", \"y\"]}}, \"title\": \"2018 \\u00e9 o recorde de casamentos homoafetivos\", \"width\": 600, \"$schema\": \"https://vega.github.io/schema/vega-lite/v4.8.1.json\", \"datasets\": {\"data-94c34337ccddc1fb7c1f35424dbb915f\": [{\"ano\": 2018, \"numero\": 9520}, {\"ano\": 2019, \"numero\": 9056}, {\"ano\": 2017, \"numero\": 5887}, {\"ano\": 2015, \"numero\": 5614}, {\"ano\": 2016, \"numero\": 5354}, {\"ano\": 2014, \"numero\": 4840}, {\"ano\": 2013, \"numero\": 3700}]}}, {\"mode\": \"vega-lite\"});\n",
       "</script>"
      ],
      "text/plain": [
       "alt.Chart(...)"
      ]
     },
     "execution_count": 81,
     "metadata": {},
     "output_type": "execute_result"
    }
   ],
   "source": [
    "# gráfico para mostrar os dados citados acima\n",
    "# referência https://altair-viz.github.io/gallery/bar_chart_with_highlighted_bar.html\n",
    "alt.Chart(casamento_ano).mark_bar().encode(\n",
    "    x = alt.X('ano:O', title = 'Ano'),\n",
    "    y = alt.Y('numero', title = 'Nº de casamentos'),\n",
    "    color=alt.condition(\n",
    "        alt.datum.ano == 2018,  # If the year is 1810 this test returns True,\n",
    "        alt.value('orange'),     # which sets the bar orange.\n",
    "        alt.value('steelblue')\n",
    "    ),\n",
    "    tooltip = ['ano', 'numero']\n",
    ").properties(title = '2018 é o recorde de casamentos homoafetivos', width=600).interactive()"
   ]
  },
  {
   "cell_type": "markdown",
   "metadata": {
    "id": "f7iC-DgOepz4"
   },
   "source": [
    "### Quem casa mais no meio LGBT? Homens ou mulheres? "
   ]
  },
  {
   "cell_type": "code",
   "execution_count": 70,
   "metadata": {
    "colab": {
     "base_uri": "https://localhost:8080/"
    },
    "id": "DV713UIOTcDc",
    "outputId": "075eb08b-cf7c-4cd1-9fca-06f3316bf495"
   },
   "outputs": [
    {
     "name": "stdout",
     "output_type": "stream",
     "text": [
      "      genero  numero\n",
      "0   Feminino   24591\n",
      "1  Masculino   19380\n"
     ]
    }
   ],
   "source": [
    "# as mulheres se casam mais do que os homens\n",
    "casamento_genero = lgbt_casamento.groupby('genero')['numero'].sum().sort_values(ascending=False).reset_index()\n",
    "print(casamento_genero)"
   ]
  },
  {
   "cell_type": "code",
   "execution_count": 75,
   "metadata": {
    "colab": {
     "base_uri": "https://localhost:8080/",
     "height": 416
    },
    "id": "ZcBPqblETgVc",
    "outputId": "4ff38add-bbb3-43ca-8f76-a9a677379701"
   },
   "outputs": [
    {
     "data": {
      "text/html": [
       "\n",
       "<div id=\"altair-viz-eebe03e271dd4f6ab0d3431029169673\"></div>\n",
       "<script type=\"text/javascript\">\n",
       "  (function(spec, embedOpt){\n",
       "    let outputDiv = document.currentScript.previousElementSibling;\n",
       "    if (outputDiv.id !== \"altair-viz-eebe03e271dd4f6ab0d3431029169673\") {\n",
       "      outputDiv = document.getElementById(\"altair-viz-eebe03e271dd4f6ab0d3431029169673\");\n",
       "    }\n",
       "    const paths = {\n",
       "      \"vega\": \"https://cdn.jsdelivr.net/npm//vega@5?noext\",\n",
       "      \"vega-lib\": \"https://cdn.jsdelivr.net/npm//vega-lib?noext\",\n",
       "      \"vega-lite\": \"https://cdn.jsdelivr.net/npm//vega-lite@4.8.1?noext\",\n",
       "      \"vega-embed\": \"https://cdn.jsdelivr.net/npm//vega-embed@6?noext\",\n",
       "    };\n",
       "\n",
       "    function loadScript(lib) {\n",
       "      return new Promise(function(resolve, reject) {\n",
       "        var s = document.createElement('script');\n",
       "        s.src = paths[lib];\n",
       "        s.async = true;\n",
       "        s.onload = () => resolve(paths[lib]);\n",
       "        s.onerror = () => reject(`Error loading script: ${paths[lib]}`);\n",
       "        document.getElementsByTagName(\"head\")[0].appendChild(s);\n",
       "      });\n",
       "    }\n",
       "\n",
       "    function showError(err) {\n",
       "      outputDiv.innerHTML = `<div class=\"error\" style=\"color:red;\">${err}</div>`;\n",
       "      throw err;\n",
       "    }\n",
       "\n",
       "    function displayChart(vegaEmbed) {\n",
       "      vegaEmbed(outputDiv, spec, embedOpt)\n",
       "        .catch(err => showError(`Javascript Error: ${err.message}<br>This usually means there's a typo in your chart specification. See the javascript console for the full traceback.`));\n",
       "    }\n",
       "\n",
       "    if(typeof define === \"function\" && define.amd) {\n",
       "      requirejs.config({paths});\n",
       "      require([\"vega-embed\"], displayChart, err => showError(`Error loading script: ${err.message}`));\n",
       "    } else if (typeof vegaEmbed === \"function\") {\n",
       "      displayChart(vegaEmbed);\n",
       "    } else {\n",
       "      loadScript(\"vega\")\n",
       "        .then(() => loadScript(\"vega-lite\"))\n",
       "        .then(() => loadScript(\"vega-embed\"))\n",
       "        .catch(showError)\n",
       "        .then(() => displayChart(vegaEmbed));\n",
       "    }\n",
       "  })({\"config\": {\"view\": {\"continuousWidth\": 400, \"continuousHeight\": 300}}, \"data\": {\"name\": \"data-0ce3e2602e9479f7e3ab328552050cee\"}, \"mark\": \"bar\", \"encoding\": {\"color\": {\"condition\": {\"value\": \"orange\", \"test\": \"(datum.genero === 'Feminino')\"}, \"value\": \"steelblue\"}, \"tooltip\": [{\"type\": \"nominal\", \"field\": \"genero\"}, {\"type\": \"quantitative\", \"field\": \"numero\"}], \"x\": {\"type\": \"nominal\", \"field\": \"genero\", \"title\": \"Ano\"}, \"y\": {\"type\": \"quantitative\", \"field\": \"numero\", \"title\": \"N\\u00ba de casamentos LGBTs\"}}, \"selection\": {\"selector007\": {\"type\": \"interval\", \"bind\": \"scales\", \"encodings\": [\"x\", \"y\"]}}, \"title\": \"Casamentos homoafetivos: mulheres se casam mais do que homens\", \"width\": 600, \"$schema\": \"https://vega.github.io/schema/vega-lite/v4.8.1.json\", \"datasets\": {\"data-0ce3e2602e9479f7e3ab328552050cee\": [{\"genero\": \"Feminino\", \"numero\": 24591}, {\"genero\": \"Masculino\", \"numero\": 19380}]}}, {\"mode\": \"vega-lite\"});\n",
       "</script>"
      ],
      "text/plain": [
       "alt.Chart(...)"
      ]
     },
     "execution_count": 75,
     "metadata": {},
     "output_type": "execute_result"
    }
   ],
   "source": [
    "# gráfico para mostrar os dados citados acima\n",
    "# referência https://altair-viz.github.io/gallery/bar_chart_with_highlighted_bar.html\n",
    "alt.Chart(casamento_genero).mark_bar().encode(\n",
    "    x = alt.X('genero', title = 'Ano'),\n",
    "    y = alt.Y('numero', title = 'Nº de casamentos'),\n",
    "    color=alt.condition(\n",
    "        alt.datum.genero == 'Feminino',\n",
    "        alt.value('orange'),\n",
    "        alt.value('steelblue')\n",
    "    ),\n",
    "    tooltip = ['genero', 'numero']\n",
    ").properties(title = 'Casamentos homoafetivos: mulheres se casam mais do que homens', width=600).interactive()"
   ]
  },
  {
   "cell_type": "markdown",
   "metadata": {
    "id": "PmeTpmm9e5u7"
   },
   "source": [
    "### As mulheres também se casam mais considerando os dados anuais?"
   ]
  },
  {
   "cell_type": "code",
   "execution_count": 78,
   "metadata": {
    "colab": {
     "base_uri": "https://localhost:8080/"
    },
    "id": "gJgI_EGUWy2j",
    "outputId": "a0eb3be7-2c7d-472c-c041-6327431f6bfc"
   },
   "outputs": [
    {
     "name": "stdout",
     "output_type": "stream",
     "text": [
      "     ano     genero  numero\n",
      "0   2013   Feminino    1926\n",
      "1   2013  Masculino    1774\n",
      "2   2014   Feminino    2438\n",
      "3   2014  Masculino    2402\n",
      "4   2015   Feminino    2986\n",
      "5   2015  Masculino    2628\n",
      "6   2016   Feminino    2943\n",
      "7   2016  Masculino    2411\n",
      "8   2017   Feminino    3387\n",
      "9   2017  Masculino    2500\n",
      "10  2018   Feminino    5562\n",
      "11  2018  Masculino    3958\n",
      "12  2019   Feminino    5349\n",
      "13  2019  Masculino    3707\n"
     ]
    }
   ],
   "source": [
    "# considerando os dados anuais também\n",
    "# as mulheres se casam mais do que os homens\n",
    "# apenas em 2014 a diferença foi pequena\n",
    "casamento_genero_ano = lgbt_casamento.groupby(['ano' , 'genero'])['numero'].sum().reset_index()\n",
    "print(casamento_genero_ano)"
   ]
  },
  {
   "cell_type": "code",
   "execution_count": 98,
   "metadata": {
    "colab": {
     "base_uri": "https://localhost:8080/",
     "height": 398
    },
    "id": "zwAGW1iXXPN3",
    "outputId": "4c6a272c-a836-4697-9fac-f9792de8769f"
   },
   "outputs": [
    {
     "data": {
      "text/html": [
       "\n",
       "<div id=\"altair-viz-f7407be7fc324b72a5db7ad736315272\"></div>\n",
       "<script type=\"text/javascript\">\n",
       "  (function(spec, embedOpt){\n",
       "    let outputDiv = document.currentScript.previousElementSibling;\n",
       "    if (outputDiv.id !== \"altair-viz-f7407be7fc324b72a5db7ad736315272\") {\n",
       "      outputDiv = document.getElementById(\"altair-viz-f7407be7fc324b72a5db7ad736315272\");\n",
       "    }\n",
       "    const paths = {\n",
       "      \"vega\": \"https://cdn.jsdelivr.net/npm//vega@5?noext\",\n",
       "      \"vega-lib\": \"https://cdn.jsdelivr.net/npm//vega-lib?noext\",\n",
       "      \"vega-lite\": \"https://cdn.jsdelivr.net/npm//vega-lite@4.8.1?noext\",\n",
       "      \"vega-embed\": \"https://cdn.jsdelivr.net/npm//vega-embed@6?noext\",\n",
       "    };\n",
       "\n",
       "    function loadScript(lib) {\n",
       "      return new Promise(function(resolve, reject) {\n",
       "        var s = document.createElement('script');\n",
       "        s.src = paths[lib];\n",
       "        s.async = true;\n",
       "        s.onload = () => resolve(paths[lib]);\n",
       "        s.onerror = () => reject(`Error loading script: ${paths[lib]}`);\n",
       "        document.getElementsByTagName(\"head\")[0].appendChild(s);\n",
       "      });\n",
       "    }\n",
       "\n",
       "    function showError(err) {\n",
       "      outputDiv.innerHTML = `<div class=\"error\" style=\"color:red;\">${err}</div>`;\n",
       "      throw err;\n",
       "    }\n",
       "\n",
       "    function displayChart(vegaEmbed) {\n",
       "      vegaEmbed(outputDiv, spec, embedOpt)\n",
       "        .catch(err => showError(`Javascript Error: ${err.message}<br>This usually means there's a typo in your chart specification. See the javascript console for the full traceback.`));\n",
       "    }\n",
       "\n",
       "    if(typeof define === \"function\" && define.amd) {\n",
       "      requirejs.config({paths});\n",
       "      require([\"vega-embed\"], displayChart, err => showError(`Error loading script: ${err.message}`));\n",
       "    } else if (typeof vegaEmbed === \"function\") {\n",
       "      displayChart(vegaEmbed);\n",
       "    } else {\n",
       "      loadScript(\"vega\")\n",
       "        .then(() => loadScript(\"vega-lite\"))\n",
       "        .then(() => loadScript(\"vega-embed\"))\n",
       "        .catch(showError)\n",
       "        .then(() => displayChart(vegaEmbed));\n",
       "    }\n",
       "  })({\"config\": {\"view\": {\"continuousWidth\": 400, \"continuousHeight\": 300}}, \"data\": {\"name\": \"data-175d2b562915a6a1a5373d95b2c89d82\"}, \"mark\": \"line\", \"encoding\": {\"color\": {\"type\": \"nominal\", \"field\": \"genero\"}, \"x\": {\"type\": \"ordinal\", \"field\": \"ano\", \"title\": \"Ano\"}, \"y\": {\"type\": \"quantitative\", \"field\": \"numero\", \"title\": \"N\\u00ba de casamentos\"}}, \"title\": \"2014 foi o ano com mais proximidade\", \"width\": 600, \"$schema\": \"https://vega.github.io/schema/vega-lite/v4.8.1.json\", \"datasets\": {\"data-175d2b562915a6a1a5373d95b2c89d82\": [{\"ano\": 2013, \"genero\": \"Feminino\", \"numero\": 1926}, {\"ano\": 2013, \"genero\": \"Masculino\", \"numero\": 1774}, {\"ano\": 2014, \"genero\": \"Feminino\", \"numero\": 2438}, {\"ano\": 2014, \"genero\": \"Masculino\", \"numero\": 2402}, {\"ano\": 2015, \"genero\": \"Feminino\", \"numero\": 2986}, {\"ano\": 2015, \"genero\": \"Masculino\", \"numero\": 2628}, {\"ano\": 2016, \"genero\": \"Feminino\", \"numero\": 2943}, {\"ano\": 2016, \"genero\": \"Masculino\", \"numero\": 2411}, {\"ano\": 2017, \"genero\": \"Feminino\", \"numero\": 3387}, {\"ano\": 2017, \"genero\": \"Masculino\", \"numero\": 2500}, {\"ano\": 2018, \"genero\": \"Feminino\", \"numero\": 5562}, {\"ano\": 2018, \"genero\": \"Masculino\", \"numero\": 3958}, {\"ano\": 2019, \"genero\": \"Feminino\", \"numero\": 5349}, {\"ano\": 2019, \"genero\": \"Masculino\", \"numero\": 3707}]}}, {\"mode\": \"vega-lite\"});\n",
       "</script>"
      ],
      "text/plain": [
       "alt.Chart(...)"
      ]
     },
     "execution_count": 98,
     "metadata": {},
     "output_type": "execute_result"
    }
   ],
   "source": [
    "# gráfico para mostrar os dados citados acima\n",
    "# referência https://altair-viz.github.io/gallery/line_percent.html\n",
    "alt.Chart(casamento_genero_ano).mark_line().encode(\n",
    "    x = alt.X('ano:O', title = 'Ano'),\n",
    "    y = alt.Y('numero', title = 'Nº de casamentos'),\n",
    "    color='genero:N'\n",
    ").properties(title = '2014 foi o ano com mais proximidade', width=600)"
   ]
  },
  {
   "cell_type": "markdown",
   "metadata": {
    "id": "nBIEZfNNfDlH"
   },
   "source": [
    "### Em qual mês as pessoas mais se casam? "
   ]
  },
  {
   "cell_type": "code",
   "execution_count": 101,
   "metadata": {
    "colab": {
     "base_uri": "https://localhost:8080/"
    },
    "id": "4xtytfyRZ3Y2",
    "outputId": "d0176d50-ffaf-43f1-fbf4-d4d69df1478d"
   },
   "outputs": [
    {
     "name": "stdout",
     "output_type": "stream",
     "text": [
      "          mes  numero\n",
      "0    Dezembro    6804\n",
      "1    Novembro    4363\n",
      "2     Outubro    3940\n",
      "3    Setembro    3890\n",
      "4     Janeiro    3386\n",
      "5       Julho    3373\n",
      "6       Junho    3122\n",
      "7        Maio    3118\n",
      "8      Agosto    3101\n",
      "9       Março    3073\n",
      "10  Fevereiro    3001\n",
      "11      Abril    2800\n"
     ]
    }
   ],
   "source": [
    "# dezembro é o mês com mais casamentos\n",
    "casamento_mes = lgbt_casamento.groupby(['mes'])['numero'].sum().sort_values(ascending=False).reset_index()\n",
    "print(casamento_mes)"
   ]
  },
  {
   "cell_type": "code",
   "execution_count": 116,
   "metadata": {
    "colab": {
     "base_uri": "https://localhost:8080/",
     "height": 422
    },
    "id": "Nn9wiKhlaLle",
    "outputId": "4d760788-69b9-40b1-d7a4-77680f7a0559"
   },
   "outputs": [
    {
     "data": {
      "text/html": [
       "\n",
       "<div id=\"altair-viz-8ab5d99499db4d83b090409a76dcfdb7\"></div>\n",
       "<script type=\"text/javascript\">\n",
       "  (function(spec, embedOpt){\n",
       "    let outputDiv = document.currentScript.previousElementSibling;\n",
       "    if (outputDiv.id !== \"altair-viz-8ab5d99499db4d83b090409a76dcfdb7\") {\n",
       "      outputDiv = document.getElementById(\"altair-viz-8ab5d99499db4d83b090409a76dcfdb7\");\n",
       "    }\n",
       "    const paths = {\n",
       "      \"vega\": \"https://cdn.jsdelivr.net/npm//vega@5?noext\",\n",
       "      \"vega-lib\": \"https://cdn.jsdelivr.net/npm//vega-lib?noext\",\n",
       "      \"vega-lite\": \"https://cdn.jsdelivr.net/npm//vega-lite@4.8.1?noext\",\n",
       "      \"vega-embed\": \"https://cdn.jsdelivr.net/npm//vega-embed@6?noext\",\n",
       "    };\n",
       "\n",
       "    function loadScript(lib) {\n",
       "      return new Promise(function(resolve, reject) {\n",
       "        var s = document.createElement('script');\n",
       "        s.src = paths[lib];\n",
       "        s.async = true;\n",
       "        s.onload = () => resolve(paths[lib]);\n",
       "        s.onerror = () => reject(`Error loading script: ${paths[lib]}`);\n",
       "        document.getElementsByTagName(\"head\")[0].appendChild(s);\n",
       "      });\n",
       "    }\n",
       "\n",
       "    function showError(err) {\n",
       "      outputDiv.innerHTML = `<div class=\"error\" style=\"color:red;\">${err}</div>`;\n",
       "      throw err;\n",
       "    }\n",
       "\n",
       "    function displayChart(vegaEmbed) {\n",
       "      vegaEmbed(outputDiv, spec, embedOpt)\n",
       "        .catch(err => showError(`Javascript Error: ${err.message}<br>This usually means there's a typo in your chart specification. See the javascript console for the full traceback.`));\n",
       "    }\n",
       "\n",
       "    if(typeof define === \"function\" && define.amd) {\n",
       "      requirejs.config({paths});\n",
       "      require([\"vega-embed\"], displayChart, err => showError(`Error loading script: ${err.message}`));\n",
       "    } else if (typeof vegaEmbed === \"function\") {\n",
       "      displayChart(vegaEmbed);\n",
       "    } else {\n",
       "      loadScript(\"vega\")\n",
       "        .then(() => loadScript(\"vega-lite\"))\n",
       "        .then(() => loadScript(\"vega-embed\"))\n",
       "        .catch(showError)\n",
       "        .then(() => displayChart(vegaEmbed));\n",
       "    }\n",
       "  })({\"config\": {\"view\": {\"continuousWidth\": 400, \"continuousHeight\": 300}}, \"data\": {\"name\": \"data-8cb183c4710bc491993ed5c747035d95\"}, \"mark\": {\"type\": \"bar\", \"point\": true}, \"encoding\": {\"color\": {\"condition\": {\"value\": \"orange\", \"test\": \"(datum.mes === 'Dezembro')\"}, \"value\": \"steelblue\"}, \"tooltip\": [{\"type\": \"nominal\", \"field\": \"mes\"}, {\"type\": \"quantitative\", \"field\": \"numero\"}], \"x\": {\"type\": \"nominal\", \"field\": \"mes\", \"sort\": [\"Dezembro\", \"Novembro\", \"Outubro\"], \"title\": \"M\\u00eas\"}, \"y\": {\"type\": \"quantitative\", \"field\": \"numero\", \"title\": \"N\\u00famero\"}}, \"selection\": {\"selector026\": {\"type\": \"interval\", \"bind\": \"scales\", \"encodings\": [\"x\", \"y\"]}}, \"title\": \"Dezembro \\u00e9 o m\\u00eas com mais casamentos homoafetivos\", \"width\": 600, \"$schema\": \"https://vega.github.io/schema/vega-lite/v4.8.1.json\", \"datasets\": {\"data-8cb183c4710bc491993ed5c747035d95\": [{\"mes\": \"Dezembro\", \"numero\": 6804}, {\"mes\": \"Novembro\", \"numero\": 4363}, {\"mes\": \"Outubro\", \"numero\": 3940}, {\"mes\": \"Setembro\", \"numero\": 3890}, {\"mes\": \"Janeiro\", \"numero\": 3386}, {\"mes\": \"Julho\", \"numero\": 3373}, {\"mes\": \"Junho\", \"numero\": 3122}, {\"mes\": \"Maio\", \"numero\": 3118}, {\"mes\": \"Agosto\", \"numero\": 3101}, {\"mes\": \"Mar\\u00e7o\", \"numero\": 3073}, {\"mes\": \"Fevereiro\", \"numero\": 3001}, {\"mes\": \"Abril\", \"numero\": 2800}]}}, {\"mode\": \"vega-lite\"});\n",
       "</script>"
      ],
      "text/plain": [
       "alt.Chart(...)"
      ]
     },
     "execution_count": 116,
     "metadata": {},
     "output_type": "execute_result"
    }
   ],
   "source": [
    "# gráfico para mostrar os dados citados acima\n",
    "# referência https://altair-viz.github.io/gallery/bar_chart_with_highlighted_bar.html\n",
    "alt.Chart(casamento_mes).mark_bar(point=True).encode(\n",
    "    x = alt.X('mes', title = 'Mês', sort=['Dezembro', 'Novembro', 'Outubro']),\n",
    "    y = alt.Y('numero', title='Número'),\n",
    "    tooltip = ['mes', 'numero'],\n",
    "    color=alt.condition(\n",
    "        alt.datum.mes == 'Dezembro',  \n",
    "        alt.value('orange'),    \n",
    "        alt.value('steelblue')\n",
    "    ),\n",
    ").properties(\n",
    "    title = 'Dezembro é o mês com mais casamentos homoafetivos', width = 600).interactive()"
   ]
  },
  {
   "cell_type": "markdown",
   "metadata": {
    "id": "-CUKGBbDfJTr"
   },
   "source": [
    "### Há mais casamentos homoafetivos após a vitória de Jair Bolsonaro, em 28 de outubro de 2018?\n"
   ]
  },
  {
   "cell_type": "code",
   "execution_count": 123,
   "metadata": {
    "colab": {
     "base_uri": "https://localhost:8080/"
    },
    "id": "2MQlOsFpbAJN",
    "outputId": "582f9248-c9be-4d65-df01-ff7fd1c11aa7"
   },
   "outputs": [
    {
     "name": "stdout",
     "output_type": "stream",
     "text": [
      "          mes   ano  numero\n",
      "0    Dezembro  2018    3098\n",
      "1     Janeiro  2019    1319\n",
      "2   Fevereiro  2019    1033\n",
      "3    Novembro  2018     957\n",
      "4    Dezembro  2019     774\n",
      "..        ...   ...     ...\n",
      "79       Maio  2013     235\n",
      "80      Abril  2013     221\n",
      "81      Março  2013     160\n",
      "82  Fevereiro  2013     110\n",
      "83    Janeiro  2013      74\n",
      "\n",
      "[84 rows x 3 columns]\n"
     ]
    }
   ],
   "source": [
    "# observe: dezembro de 2018 foi o mês com mais casamentos\n",
    "# logo depois, janeiro de 2019, fevereiro de 2019, novembro de 2018...\n",
    "# todos são meses próximos - e após a eleição de Jair Bolsonaro\n",
    "casamento_mes_ano = lgbt_casamento.groupby(['mes', 'ano'])['numero'].sum().sort_values(ascending=False).reset_index()\n",
    "print(casamento_mes_ano)"
   ]
  },
  {
   "cell_type": "code",
   "execution_count": 120,
   "metadata": {
    "colab": {
     "base_uri": "https://localhost:8080/",
     "height": 257
    },
    "id": "RGjfq5PtbX4B",
    "outputId": "69d9a2a4-e81b-45b9-f94e-f1a052765044"
   },
   "outputs": [
    {
     "data": {
      "text/html": [
       "\n",
       "<div id=\"altair-viz-316aad8f8e4249f5b050df58c0832069\"></div>\n",
       "<script type=\"text/javascript\">\n",
       "  (function(spec, embedOpt){\n",
       "    let outputDiv = document.currentScript.previousElementSibling;\n",
       "    if (outputDiv.id !== \"altair-viz-316aad8f8e4249f5b050df58c0832069\") {\n",
       "      outputDiv = document.getElementById(\"altair-viz-316aad8f8e4249f5b050df58c0832069\");\n",
       "    }\n",
       "    const paths = {\n",
       "      \"vega\": \"https://cdn.jsdelivr.net/npm//vega@5?noext\",\n",
       "      \"vega-lib\": \"https://cdn.jsdelivr.net/npm//vega-lib?noext\",\n",
       "      \"vega-lite\": \"https://cdn.jsdelivr.net/npm//vega-lite@4.8.1?noext\",\n",
       "      \"vega-embed\": \"https://cdn.jsdelivr.net/npm//vega-embed@6?noext\",\n",
       "    };\n",
       "\n",
       "    function loadScript(lib) {\n",
       "      return new Promise(function(resolve, reject) {\n",
       "        var s = document.createElement('script');\n",
       "        s.src = paths[lib];\n",
       "        s.async = true;\n",
       "        s.onload = () => resolve(paths[lib]);\n",
       "        s.onerror = () => reject(`Error loading script: ${paths[lib]}`);\n",
       "        document.getElementsByTagName(\"head\")[0].appendChild(s);\n",
       "      });\n",
       "    }\n",
       "\n",
       "    function showError(err) {\n",
       "      outputDiv.innerHTML = `<div class=\"error\" style=\"color:red;\">${err}</div>`;\n",
       "      throw err;\n",
       "    }\n",
       "\n",
       "    function displayChart(vegaEmbed) {\n",
       "      vegaEmbed(outputDiv, spec, embedOpt)\n",
       "        .catch(err => showError(`Javascript Error: ${err.message}<br>This usually means there's a typo in your chart specification. See the javascript console for the full traceback.`));\n",
       "    }\n",
       "\n",
       "    if(typeof define === \"function\" && define.amd) {\n",
       "      requirejs.config({paths});\n",
       "      require([\"vega-embed\"], displayChart, err => showError(`Error loading script: ${err.message}`));\n",
       "    } else if (typeof vegaEmbed === \"function\") {\n",
       "      displayChart(vegaEmbed);\n",
       "    } else {\n",
       "      loadScript(\"vega\")\n",
       "        .then(() => loadScript(\"vega-lite\"))\n",
       "        .then(() => loadScript(\"vega-embed\"))\n",
       "        .catch(showError)\n",
       "        .then(() => displayChart(vegaEmbed));\n",
       "    }\n",
       "  })({\"config\": {\"view\": {\"continuousWidth\": 400, \"continuousHeight\": 300}}, \"data\": {\"name\": \"data-62e9f144c11a6a155ed83d91fd65fec2\"}, \"mark\": \"rect\", \"encoding\": {\"color\": {\"type\": \"quantitative\", \"field\": \"numero\"}, \"tooltip\": [{\"type\": \"nominal\", \"field\": \"mes\"}, {\"type\": \"quantitative\", \"field\": \"ano\"}, {\"type\": \"quantitative\", \"field\": \"numero\"}], \"x\": {\"type\": \"nominal\", \"field\": \"mes\", \"sort\": [\"Janeiro\", \"Fevereiro\", \"Mar\\u00e7o\", \"Abril\", \"Maio\", \"Junho\", \"Julho\", \"Agosto\", \"Setembro\", \"Outubro\", \"Novembro\", \"Dezembro\"], \"title\": \"M\\u00eas\"}, \"y\": {\"type\": \"ordinal\", \"field\": \"ano\", \"title\": \"Ano\"}}, \"title\": \"Dezembro de 2018 foi o pior de casamentos homoafetivos\", \"width\": 600, \"$schema\": \"https://vega.github.io/schema/vega-lite/v4.8.1.json\", \"datasets\": {\"data-62e9f144c11a6a155ed83d91fd65fec2\": [{\"mes\": \"Dezembro\", \"ano\": 2018, \"numero\": 3098}, {\"mes\": \"Janeiro\", \"ano\": 2019, \"numero\": 1319}, {\"mes\": \"Fevereiro\", \"ano\": 2019, \"numero\": 1033}, {\"mes\": \"Novembro\", \"ano\": 2018, \"numero\": 957}, {\"mes\": \"Dezembro\", \"ano\": 2019, \"numero\": 774}, {\"mes\": \"Novembro\", \"ano\": 2019, \"numero\": 759}, {\"mes\": \"Mar\\u00e7o\", \"ano\": 2019, \"numero\": 753}, {\"mes\": \"Dezembro\", \"ano\": 2015, \"numero\": 723}, {\"mes\": \"Outubro\", \"ano\": 2019, \"numero\": 692}, {\"mes\": \"Outubro\", \"ano\": 2018, \"numero\": 674}, {\"mes\": \"Setembro\", \"ano\": 2018, \"numero\": 674}, {\"mes\": \"Setembro\", \"ano\": 2019, \"numero\": 656}, {\"mes\": \"Maio\", \"ano\": 2019, \"numero\": 631}, {\"mes\": \"Junho\", \"ano\": 2019, \"numero\": 624}, {\"mes\": \"Dezembro\", \"ano\": 2017, \"numero\": 614}, {\"mes\": \"Agosto\", \"ano\": 2019, \"numero\": 607}, {\"mes\": \"Abril\", \"ano\": 2019, \"numero\": 607}, {\"mes\": \"Julho\", \"ano\": 2019, \"numero\": 601}, {\"mes\": \"Novembro\", \"ano\": 2017, \"numero\": 597}, {\"mes\": \"Setembro\", \"ano\": 2017, \"numero\": 579}, {\"mes\": \"Julho\", \"ano\": 2018, \"numero\": 576}, {\"mes\": \"Outubro\", \"ano\": 2014, \"numero\": 576}, {\"mes\": \"Dezembro\", \"ano\": 2014, \"numero\": 571}, {\"mes\": \"Novembro\", \"ano\": 2014, \"numero\": 569}, {\"mes\": \"Setembro\", \"ano\": 2015, \"numero\": 554}, {\"mes\": \"Dezembro\", \"ano\": 2016, \"numero\": 550}, {\"mes\": \"Outubro\", \"ano\": 2017, \"numero\": 549}, {\"mes\": \"Setembro\", \"ano\": 2016, \"numero\": 549}, {\"mes\": \"Maio\", \"ano\": 2018, \"numero\": 541}, {\"mes\": \"Junho\", \"ano\": 2018, \"numero\": 539}, {\"mes\": \"Outubro\", \"ano\": 2015, \"numero\": 533}, {\"mes\": \"Mar\\u00e7o\", \"ano\": 2018, \"numero\": 526}, {\"mes\": \"Novembro\", \"ano\": 2015, \"numero\": 526}, {\"mes\": \"Agosto\", \"ano\": 2018, \"numero\": 518}, {\"mes\": \"Julho\", \"ano\": 2015, \"numero\": 515}, {\"mes\": \"Novembro\", \"ano\": 2016, \"numero\": 510}, {\"mes\": \"Julho\", \"ano\": 2017, \"numero\": 500}, {\"mes\": \"Maio\", \"ano\": 2017, \"numero\": 494}, {\"mes\": \"Janeiro\", \"ano\": 2018, \"numero\": 488}, {\"mes\": \"Mar\\u00e7o\", \"ano\": 2017, \"numero\": 480}, {\"mes\": \"Setembro\", \"ano\": 2014, \"numero\": 475}, {\"mes\": \"Dezembro\", \"ano\": 2013, \"numero\": 474}, {\"mes\": \"Fevereiro\", \"ano\": 2018, \"numero\": 471}, {\"mes\": \"Outubro\", \"ano\": 2016, \"numero\": 470}, {\"mes\": \"Abril\", \"ano\": 2018, \"numero\": 458}, {\"mes\": \"Junho\", \"ano\": 2017, \"numero\": 457}, {\"mes\": \"Junho\", \"ano\": 2015, \"numero\": 453}, {\"mes\": \"Julho\", \"ano\": 2016, \"numero\": 448}, {\"mes\": \"Outubro\", \"ano\": 2013, \"numero\": 446}, {\"mes\": \"Agosto\", \"ano\": 2017, \"numero\": 446}, {\"mes\": \"Novembro\", \"ano\": 2013, \"numero\": 445}, {\"mes\": \"Abril\", \"ano\": 2016, \"numero\": 431}, {\"mes\": \"Junho\", \"ano\": 2016, \"numero\": 423}, {\"mes\": \"Maio\", \"ano\": 2016, \"numero\": 421}, {\"mes\": \"Maio\", \"ano\": 2015, \"numero\": 416}, {\"mes\": \"Agosto\", \"ano\": 2016, \"numero\": 410}, {\"mes\": \"Janeiro\", \"ano\": 2017, \"numero\": 407}, {\"mes\": \"Setembro\", \"ano\": 2013, \"numero\": 403}, {\"mes\": \"Mar\\u00e7o\", \"ano\": 2016, \"numero\": 401}, {\"mes\": \"Abril\", \"ano\": 2017, \"numero\": 399}, {\"mes\": \"Julho\", \"ano\": 2013, \"numero\": 399}, {\"mes\": \"Agosto\", \"ano\": 2013, \"numero\": 399}, {\"mes\": \"Agosto\", \"ano\": 2015, \"numero\": 399}, {\"mes\": \"Abril\", \"ano\": 2015, \"numero\": 398}, {\"mes\": \"Janeiro\", \"ano\": 2016, \"numero\": 398}, {\"mes\": \"Mar\\u00e7o\", \"ano\": 2015, \"numero\": 391}, {\"mes\": \"Maio\", \"ano\": 2014, \"numero\": 380}, {\"mes\": \"Janeiro\", \"ano\": 2015, \"numero\": 367}, {\"mes\": \"Fevereiro\", \"ano\": 2017, \"numero\": 365}, {\"mes\": \"Mar\\u00e7o\", \"ano\": 2014, \"numero\": 362}, {\"mes\": \"Fevereiro\", \"ano\": 2016, \"numero\": 343}, {\"mes\": \"Fevereiro\", \"ano\": 2014, \"numero\": 340}, {\"mes\": \"Fevereiro\", \"ano\": 2015, \"numero\": 339}, {\"mes\": \"Julho\", \"ano\": 2014, \"numero\": 334}, {\"mes\": \"Junho\", \"ano\": 2013, \"numero\": 334}, {\"mes\": \"Janeiro\", \"ano\": 2014, \"numero\": 333}, {\"mes\": \"Agosto\", \"ano\": 2014, \"numero\": 322}, {\"mes\": \"Junho\", \"ano\": 2014, \"numero\": 292}, {\"mes\": \"Abril\", \"ano\": 2014, \"numero\": 286}, {\"mes\": \"Maio\", \"ano\": 2013, \"numero\": 235}, {\"mes\": \"Abril\", \"ano\": 2013, \"numero\": 221}, {\"mes\": \"Mar\\u00e7o\", \"ano\": 2013, \"numero\": 160}, {\"mes\": \"Fevereiro\", \"ano\": 2013, \"numero\": 110}, {\"mes\": \"Janeiro\", \"ano\": 2013, \"numero\": 74}]}}, {\"mode\": \"vega-lite\"});\n",
       "</script>"
      ],
      "text/plain": [
       "alt.Chart(...)"
      ]
     },
     "execution_count": 120,
     "metadata": {},
     "output_type": "execute_result"
    }
   ],
   "source": [
    "# gráfico para mostrar os dados citados acima\n",
    "# referência https://altair-viz.github.io/gallery/simple_heatmap.html\n",
    "alt.Chart(casamento_mes_ano).mark_rect().encode(\n",
    "    x = alt.X('mes', title = 'Mês', sort=['Janeiro', 'Fevereiro', 'Março', 'Abril', 'Maio', 'Junho', 'Julho', 'Agosto', 'Setembro', 'Outubro', 'Novembro', 'Dezembro']),\n",
    "    y = alt.Y('ano:O', title = 'Ano'),\n",
    "    color='numero:Q',\n",
    "    tooltip = ['mes', 'ano', 'numero'],\n",
    ").properties(title = 'Dezembro de 2018 foi o pior de casamentos homoafetivos', width=600)"
   ]
  },
  {
   "cell_type": "markdown",
   "metadata": {
    "id": "d_SLx531fuTo"
   },
   "source": [
    "### Em quais estados aconteceram mais casamentos LGBTs em números absolutos? E menos?"
   ]
  },
  {
   "cell_type": "code",
   "execution_count": 132,
   "metadata": {
    "colab": {
     "base_uri": "https://localhost:8080/"
    },
    "id": "MWoO8KwOfvsz",
    "outputId": "59ec3a5c-5335-4adb-be74-903a4ec7dd9d"
   },
   "outputs": [
    {
     "name": "stdout",
     "output_type": "stream",
     "text": [
      "                     uf  numero     n_perc\n",
      "0             São Paulo   18267  41.543290\n",
      "1        Rio de Janeiro    4110   9.347070\n",
      "2          Minas Gerais    3310   7.527689\n",
      "3        Santa Catarina    2434   5.535467\n",
      "4                Paraná    2041   4.641696\n",
      "5     Rio Grande do Sul    1913   4.350595\n",
      "6                 Ceará    1888   4.293739\n",
      "7            Pernambuco    1519   3.454550\n",
      "8                 Bahia    1268   2.883719\n",
      "9      Distrito Federal    1202   2.733620\n",
      "10                Goiás    1069   2.431148\n",
      "11                 Pará     706   1.605604\n",
      "12   Mato Grosso do Sul     686   1.560119\n",
      "13       Espírito Santo     601   1.366810\n",
      "14  Rio Grande do Norte     499   1.134839\n",
      "15              Paraíba     473   1.075709\n",
      "16             Amazonas     371   0.843738\n",
      "17              Alagoas     332   0.755043\n",
      "18             Maranhão     257   0.584476\n",
      "19          Mato Grosso     237   0.538992\n",
      "20                Piauí     185   0.420732\n",
      "21             Rondônia     162   0.368425\n",
      "22              Sergipe     158   0.359328\n",
      "23            Tocantins      85   0.193309\n",
      "24                Amapá      77   0.175115\n",
      "25                 Acre      69   0.156922\n",
      "26              Roraima      52   0.118260\n"
     ]
    }
   ],
   "source": [
    "# mais de 18 mil casamentos foram em SP, seguido pelo RJ e por MG\n",
    "# SP concentra 41,5% dos casamentos homoafetivos e é também o estado mais populoso do Brasil\n",
    "# já Roraima, Acre e Amapá aparecem com poucos casamentos e também são pouco populosos\n",
    "casamento_uf = lgbt_casamento.groupby('uf')['numero'].sum().sort_values(ascending=False).reset_index()\n",
    "casamento_uf['n_perc'] = (casamento_uf['numero'] / sum(casamento_uf['numero'])) * 100\n",
    "print(casamento_uf)"
   ]
  },
  {
   "cell_type": "code",
   "execution_count": null,
   "metadata": {
    "id": "45Qdi7TlgsBU"
   },
   "outputs": [],
   "source": [
    "### OBS: FAZER MAPA NO JUPYTER NOTEBOOK\n",
    "# referencia https://github.com/gabrielacaesar/lgbt_casamento/blob/main/notebooks/gabriela-caesar-analise-de-dados-2out2021-perguntas_2.ipynb"
   ]
  },
  {
   "cell_type": "code",
   "execution_count": 1,
   "metadata": {},
   "outputs": [
    {
     "ename": "NameError",
     "evalue": "name 'gpd' is not defined",
     "output_type": "error",
     "traceback": [
      "\u001b[0;31m---------------------------------------------------------------------------\u001b[0m",
      "\u001b[0;31mNameError\u001b[0m                                 Traceback (most recent call last)",
      "\u001b[0;32m<ipython-input-1-90f634fdddc5>\u001b[0m in \u001b[0;36m<module>\u001b[0;34m\u001b[0m\n\u001b[1;32m      2\u001b[0m \u001b[0;31m# baixe o arquivo abaixo no link https://www.ibge.gov.br/geociencias/cartas-e-mapas/bases-cartograficas-continuas/15759-brasil.html?=&t=downloads\u001b[0m\u001b[0;34m\u001b[0m\u001b[0;34m\u001b[0m\u001b[0;34m\u001b[0m\u001b[0m\n\u001b[1;32m      3\u001b[0m \u001b[0;31m# clique em 'bcim' > 'versao2016' > 'geopackage' > 'bcim_2016_21_11_2018.gpkg'\u001b[0m\u001b[0;34m\u001b[0m\u001b[0;34m\u001b[0m\u001b[0;34m\u001b[0m\u001b[0m\n\u001b[0;32m----> 4\u001b[0;31m \u001b[0minfo_ufs\u001b[0m \u001b[0;34m=\u001b[0m \u001b[0mgpd\u001b[0m\u001b[0;34m.\u001b[0m\u001b[0mread_file\u001b[0m\u001b[0;34m(\u001b[0m\u001b[0;34m'bcim_2016_21_11_2018.gpkg'\u001b[0m\u001b[0;34m,\u001b[0m \u001b[0mlayer\u001b[0m \u001b[0;34m=\u001b[0m \u001b[0;34m'lim_unidade_federacao_a'\u001b[0m\u001b[0;34m)\u001b[0m\u001b[0;34m\u001b[0m\u001b[0;34m\u001b[0m\u001b[0m\n\u001b[0m\u001b[1;32m      5\u001b[0m \u001b[0minfo_ufs\u001b[0m\u001b[0;34m.\u001b[0m\u001b[0mcolumns\u001b[0m\u001b[0;34m\u001b[0m\u001b[0;34m\u001b[0m\u001b[0m\n",
      "\u001b[0;31mNameError\u001b[0m: name 'gpd' is not defined"
     ]
    }
   ],
   "source": [
    "# referencia https://rodrigodutcosky.medium.com/mapas-coropl%C3%A9ticos-com-os-estados-do-brasil-em-python-b9b48c6db585\n",
    "# baixe o arquivo abaixo no link https://www.ibge.gov.br/geociencias/cartas-e-mapas/bases-cartograficas-continuas/15759-brasil.html?=&t=downloads\n",
    "# clique em 'bcim' > 'versao2016' > 'geopackage' > 'bcim_2016_21_11_2018.gpkg'\n",
    "info_ufs = gpd.read_file('bcim_2016_21_11_2018.gpkg', layer = 'lim_unidade_federacao_a')\n",
    "info_ufs.columns"
   ]
  },
  {
   "cell_type": "code",
   "execution_count": null,
   "metadata": {},
   "outputs": [],
   "source": []
  },
  {
   "cell_type": "markdown",
   "metadata": {
    "id": "-Hb0RHpgiEx8"
   },
   "source": [
    "### Em quais regiões do Brasil os casamentos LGBTs mais ocorrem?"
   ]
  },
  {
   "cell_type": "code",
   "execution_count": 136,
   "metadata": {
    "id": "Pd7qeGamiFvk"
   },
   "outputs": [],
   "source": [
    "# criação de dicionário transformado depois em dataframe com as UFs e as respectivas regiões\n",
    "\n",
    "uf_norte = {'regiao': ['Norte']*7, 'uf': [\"Rondônia\",\"Acre\",\"Amazonas\",\"Roraima\", \"Pará\",\"Amapá\",\"Tocantins\"]}\n",
    "uf_nordeste = {'regiao': ['Nordeste']*9, 'uf': [\"Maranhão\",\"Piauí\",\"Ceará\",\"Rio Grande do Norte\",\"Paraíba\",\"Pernambuco\", \"Alagoas\",\"Sergipe\",\"Bahia\"]}\n",
    "uf_sudeste = {'regiao': ['Sudeste']*4, 'uf': [\"Minas Gerais\",\"Espírito Santo\",\"Rio de Janeiro\",\"São Paulo\"]}\n",
    "uf_sul = {'regiao': ['Sul']*3, 'uf': [\"Paraná\",\"Santa Catarina\",\"Rio Grande do Sul\"]}\n",
    "uf_centro_oeste = {'regiao': ['Centro-Oeste']*4, 'uf': [\"Mato Grosso do Sul\",\"Mato Grosso\",\"Goiás\", \"Distrito Federal\"]}\n",
    "\n",
    "regiao_norte = pd.DataFrame(uf_norte)\n",
    "regiao_nordeste = pd.DataFrame(uf_nordeste)\n",
    "regiao_sudeste = pd.DataFrame(uf_sudeste)\n",
    "regiao_sul = pd.DataFrame(uf_sul)\n",
    "regiao_centro_oeste = pd.DataFrame(uf_centro_oeste)\n",
    "\n",
    "regioes_uf = pd.concat([regiao_norte, regiao_nordeste, regiao_sudeste, regiao_sul, regiao_centro_oeste])"
   ]
  },
  {
   "cell_type": "code",
   "execution_count": 164,
   "metadata": {
    "colab": {
     "base_uri": "https://localhost:8080/",
     "height": 206
    },
    "id": "4m6km1sViRxw",
    "outputId": "6c0f0565-1c51-4f9c-aed4-598fd89ca88a"
   },
   "outputs": [
    {
     "data": {
      "text/html": [
       "<div>\n",
       "<style scoped>\n",
       "    .dataframe tbody tr th:only-of-type {\n",
       "        vertical-align: middle;\n",
       "    }\n",
       "\n",
       "    .dataframe tbody tr th {\n",
       "        vertical-align: top;\n",
       "    }\n",
       "\n",
       "    .dataframe thead th {\n",
       "        text-align: right;\n",
       "    }\n",
       "</style>\n",
       "<table border=\"1\" class=\"dataframe\">\n",
       "  <thead>\n",
       "    <tr style=\"text-align: right;\">\n",
       "      <th></th>\n",
       "      <th>regiao</th>\n",
       "      <th>ano</th>\n",
       "      <th>numero</th>\n",
       "    </tr>\n",
       "  </thead>\n",
       "  <tbody>\n",
       "    <tr>\n",
       "      <th>0</th>\n",
       "      <td>Sudeste</td>\n",
       "      <td>2018</td>\n",
       "      <td>5689</td>\n",
       "    </tr>\n",
       "    <tr>\n",
       "      <th>1</th>\n",
       "      <td>Sudeste</td>\n",
       "      <td>2019</td>\n",
       "      <td>5509</td>\n",
       "    </tr>\n",
       "    <tr>\n",
       "      <th>2</th>\n",
       "      <td>Sudeste</td>\n",
       "      <td>2017</td>\n",
       "      <td>3536</td>\n",
       "    </tr>\n",
       "    <tr>\n",
       "      <th>3</th>\n",
       "      <td>Sudeste</td>\n",
       "      <td>2016</td>\n",
       "      <td>3125</td>\n",
       "    </tr>\n",
       "    <tr>\n",
       "      <th>4</th>\n",
       "      <td>Sudeste</td>\n",
       "      <td>2015</td>\n",
       "      <td>3077</td>\n",
       "    </tr>\n",
       "  </tbody>\n",
       "</table>\n",
       "</div>"
      ],
      "text/plain": [
       "    regiao   ano  numero\n",
       "0  Sudeste  2018    5689\n",
       "1  Sudeste  2019    5509\n",
       "2  Sudeste  2017    3536\n",
       "3  Sudeste  2016    3125\n",
       "4  Sudeste  2015    3077"
      ]
     },
     "execution_count": 164,
     "metadata": {},
     "output_type": "execute_result"
    }
   ],
   "source": [
    "lgbt_casamento_regioes = lgbt_casamento.merge(regioes_uf, on='uf')\n",
    "lgbt_casamento_regioes_ano = lgbt_casamento_regioes.groupby(['regiao', 'ano'])['numero'].sum().sort_values(ascending=False).reset_index()\n",
    "lgbt_casamento_regioes_ano.head()"
   ]
  },
  {
   "cell_type": "code",
   "execution_count": 161,
   "metadata": {
    "colab": {
     "base_uri": "https://localhost:8080/",
     "height": 380
    },
    "id": "PrgeoF_sjaFc",
    "outputId": "08c5d989-60c4-4d3c-8f28-53806b04766c"
   },
   "outputs": [
    {
     "data": {
      "text/html": [
       "\n",
       "<div id=\"altair-viz-0d05fe48667b45de812bd5d6d6af5c06\"></div>\n",
       "<script type=\"text/javascript\">\n",
       "  (function(spec, embedOpt){\n",
       "    let outputDiv = document.currentScript.previousElementSibling;\n",
       "    if (outputDiv.id !== \"altair-viz-0d05fe48667b45de812bd5d6d6af5c06\") {\n",
       "      outputDiv = document.getElementById(\"altair-viz-0d05fe48667b45de812bd5d6d6af5c06\");\n",
       "    }\n",
       "    const paths = {\n",
       "      \"vega\": \"https://cdn.jsdelivr.net/npm//vega@5?noext\",\n",
       "      \"vega-lib\": \"https://cdn.jsdelivr.net/npm//vega-lib?noext\",\n",
       "      \"vega-lite\": \"https://cdn.jsdelivr.net/npm//vega-lite@4.8.1?noext\",\n",
       "      \"vega-embed\": \"https://cdn.jsdelivr.net/npm//vega-embed@6?noext\",\n",
       "    };\n",
       "\n",
       "    function loadScript(lib) {\n",
       "      return new Promise(function(resolve, reject) {\n",
       "        var s = document.createElement('script');\n",
       "        s.src = paths[lib];\n",
       "        s.async = true;\n",
       "        s.onload = () => resolve(paths[lib]);\n",
       "        s.onerror = () => reject(`Error loading script: ${paths[lib]}`);\n",
       "        document.getElementsByTagName(\"head\")[0].appendChild(s);\n",
       "      });\n",
       "    }\n",
       "\n",
       "    function showError(err) {\n",
       "      outputDiv.innerHTML = `<div class=\"error\" style=\"color:red;\">${err}</div>`;\n",
       "      throw err;\n",
       "    }\n",
       "\n",
       "    function displayChart(vegaEmbed) {\n",
       "      vegaEmbed(outputDiv, spec, embedOpt)\n",
       "        .catch(err => showError(`Javascript Error: ${err.message}<br>This usually means there's a typo in your chart specification. See the javascript console for the full traceback.`));\n",
       "    }\n",
       "\n",
       "    if(typeof define === \"function\" && define.amd) {\n",
       "      requirejs.config({paths});\n",
       "      require([\"vega-embed\"], displayChart, err => showError(`Error loading script: ${err.message}`));\n",
       "    } else if (typeof vegaEmbed === \"function\") {\n",
       "      displayChart(vegaEmbed);\n",
       "    } else {\n",
       "      loadScript(\"vega\")\n",
       "        .then(() => loadScript(\"vega-lite\"))\n",
       "        .then(() => loadScript(\"vega-embed\"))\n",
       "        .catch(showError)\n",
       "        .then(() => displayChart(vegaEmbed));\n",
       "    }\n",
       "  })({\"config\": {\"view\": {\"continuousWidth\": 400, \"continuousHeight\": 300}}, \"data\": {\"name\": \"data-49765ddc71b02f11d361f439875efc80\"}, \"mark\": \"bar\", \"encoding\": {\"color\": {\"type\": \"nominal\", \"field\": \"regiao\", \"title\": \"Regi\\u00e3o\"}, \"tooltip\": [{\"type\": \"nominal\", \"field\": \"regiao\"}, {\"type\": \"quantitative\", \"field\": \"numero\"}], \"x\": {\"type\": \"quantitative\", \"aggregate\": \"sum\", \"field\": \"numero\", \"title\": \"N\\u00ba de casamentos\"}, \"y\": {\"type\": \"quantitative\", \"field\": \"ano\", \"title\": \"Ano\"}}, \"title\": \"Sudeste concentra maior n\\u00famero de casamentos homoafetivos\", \"width\": 600, \"$schema\": \"https://vega.github.io/schema/vega-lite/v4.8.1.json\", \"datasets\": {\"data-49765ddc71b02f11d361f439875efc80\": [{\"regiao\": \"Sudeste\", \"ano\": 2018, \"numero\": 5689}, {\"regiao\": \"Sudeste\", \"ano\": 2019, \"numero\": 5509}, {\"regiao\": \"Sudeste\", \"ano\": 2017, \"numero\": 3536}, {\"regiao\": \"Sudeste\", \"ano\": 2016, \"numero\": 3125}, {\"regiao\": \"Sudeste\", \"ano\": 2015, \"numero\": 3077}, {\"regiao\": \"Sudeste\", \"ano\": 2014, \"numero\": 2944}, {\"regiao\": \"Sudeste\", \"ano\": 2013, \"numero\": 2408}, {\"regiao\": \"Nordeste\", \"ano\": 2018, \"numero\": 1437}, {\"regiao\": \"Nordeste\", \"ano\": 2019, \"numero\": 1400}, {\"regiao\": \"Sul\", \"ano\": 2018, \"numero\": 1367}, {\"regiao\": \"Sul\", \"ano\": 2019, \"numero\": 1191}, {\"regiao\": \"Nordeste\", \"ano\": 2015, \"numero\": 1047}, {\"regiao\": \"Sul\", \"ano\": 2017, \"numero\": 872}, {\"regiao\": \"Sul\", \"ano\": 2015, \"numero\": 857}, {\"regiao\": \"Sul\", \"ano\": 2016, \"numero\": 832}, {\"regiao\": \"Nordeste\", \"ano\": 2017, \"numero\": 776}, {\"regiao\": \"Nordeste\", \"ano\": 2016, \"numero\": 768}, {\"regiao\": \"Sul\", \"ano\": 2014, \"numero\": 744}, {\"regiao\": \"Centro-Oeste\", \"ano\": 2018, \"numero\": 704}, {\"regiao\": \"Nordeste\", \"ano\": 2014, \"numero\": 654}, {\"regiao\": \"Centro-Oeste\", \"ano\": 2019, \"numero\": 612}, {\"regiao\": \"Sul\", \"ano\": 2013, \"numero\": 525}, {\"regiao\": \"Nordeste\", \"ano\": 2013, \"numero\": 497}, {\"regiao\": \"Centro-Oeste\", \"ano\": 2017, \"numero\": 494}, {\"regiao\": \"Centro-Oeste\", \"ano\": 2016, \"numero\": 434}, {\"regiao\": \"Centro-Oeste\", \"ano\": 2015, \"numero\": 403}, {\"regiao\": \"Norte\", \"ano\": 2019, \"numero\": 344}, {\"regiao\": \"Centro-Oeste\", \"ano\": 2014, \"numero\": 332}, {\"regiao\": \"Norte\", \"ano\": 2018, \"numero\": 323}, {\"regiao\": \"Norte\", \"ano\": 2015, \"numero\": 230}, {\"regiao\": \"Centro-Oeste\", \"ano\": 2013, \"numero\": 215}, {\"regiao\": \"Norte\", \"ano\": 2017, \"numero\": 209}, {\"regiao\": \"Norte\", \"ano\": 2016, \"numero\": 195}, {\"regiao\": \"Norte\", \"ano\": 2014, \"numero\": 166}, {\"regiao\": \"Norte\", \"ano\": 2013, \"numero\": 55}]}}, {\"mode\": \"vega-lite\"});\n",
       "</script>"
      ],
      "text/plain": [
       "alt.Chart(...)"
      ]
     },
     "execution_count": 161,
     "metadata": {},
     "output_type": "execute_result"
    }
   ],
   "source": [
    "alt.Chart(lgbt_casamento_regioes).mark_bar().encode(\n",
    "    x = alt.X('sum(numero)', title = 'Nº de casamentos'),\n",
    "    y = alt.Y('ano', title = 'Ano'),\n",
    "    tooltip = ['regiao', 'numero'],\n",
    "    color = alt.Color('regiao', title = \"Região\")\n",
    ").properties(title = 'Sudeste concentra maior número de casamentos homoafetivos', width=600)"
   ]
  },
  {
   "cell_type": "code",
   "execution_count": 166,
   "metadata": {
    "colab": {
     "base_uri": "https://localhost:8080/",
     "height": 206
    },
    "id": "fIidZyWGkgrt",
    "outputId": "8f3ba402-7720-43ba-a229-23078d7c7e86"
   },
   "outputs": [
    {
     "data": {
      "text/html": [
       "<div>\n",
       "<style scoped>\n",
       "    .dataframe tbody tr th:only-of-type {\n",
       "        vertical-align: middle;\n",
       "    }\n",
       "\n",
       "    .dataframe tbody tr th {\n",
       "        vertical-align: top;\n",
       "    }\n",
       "\n",
       "    .dataframe thead th {\n",
       "        text-align: right;\n",
       "    }\n",
       "</style>\n",
       "<table border=\"1\" class=\"dataframe\">\n",
       "  <thead>\n",
       "    <tr style=\"text-align: right;\">\n",
       "      <th></th>\n",
       "      <th>regiao</th>\n",
       "      <th>genero</th>\n",
       "      <th>numero</th>\n",
       "    </tr>\n",
       "  </thead>\n",
       "  <tbody>\n",
       "    <tr>\n",
       "      <th>0</th>\n",
       "      <td>Centro-Oeste</td>\n",
       "      <td>Feminino</td>\n",
       "      <td>1759</td>\n",
       "    </tr>\n",
       "    <tr>\n",
       "      <th>1</th>\n",
       "      <td>Centro-Oeste</td>\n",
       "      <td>Masculino</td>\n",
       "      <td>1435</td>\n",
       "    </tr>\n",
       "    <tr>\n",
       "      <th>2</th>\n",
       "      <td>Nordeste</td>\n",
       "      <td>Feminino</td>\n",
       "      <td>3794</td>\n",
       "    </tr>\n",
       "    <tr>\n",
       "      <th>3</th>\n",
       "      <td>Nordeste</td>\n",
       "      <td>Masculino</td>\n",
       "      <td>2785</td>\n",
       "    </tr>\n",
       "    <tr>\n",
       "      <th>4</th>\n",
       "      <td>Norte</td>\n",
       "      <td>Feminino</td>\n",
       "      <td>869</td>\n",
       "    </tr>\n",
       "  </tbody>\n",
       "</table>\n",
       "</div>"
      ],
      "text/plain": [
       "         regiao     genero  numero\n",
       "0  Centro-Oeste   Feminino    1759\n",
       "1  Centro-Oeste  Masculino    1435\n",
       "2      Nordeste   Feminino    3794\n",
       "3      Nordeste  Masculino    2785\n",
       "4         Norte   Feminino     869"
      ]
     },
     "execution_count": 166,
     "metadata": {},
     "output_type": "execute_result"
    }
   ],
   "source": [
    "lgbt_casamento_regioes_genero = lgbt_casamento_regioes.groupby(['regiao','genero'])['numero'].sum().reset_index()\n",
    "lgbt_casamento_regioes_genero.head()"
   ]
  },
  {
   "cell_type": "code",
   "execution_count": 177,
   "metadata": {
    "colab": {
     "base_uri": "https://localhost:8080/",
     "height": 469
    },
    "id": "he_A09-ukUdK",
    "outputId": "0197597d-7d56-4147-efde-fd3f119d825c"
   },
   "outputs": [
    {
     "data": {
      "text/html": [
       "\n",
       "<div id=\"altair-viz-7c87ae92ae7d429f81949800473c3946\"></div>\n",
       "<script type=\"text/javascript\">\n",
       "  (function(spec, embedOpt){\n",
       "    let outputDiv = document.currentScript.previousElementSibling;\n",
       "    if (outputDiv.id !== \"altair-viz-7c87ae92ae7d429f81949800473c3946\") {\n",
       "      outputDiv = document.getElementById(\"altair-viz-7c87ae92ae7d429f81949800473c3946\");\n",
       "    }\n",
       "    const paths = {\n",
       "      \"vega\": \"https://cdn.jsdelivr.net/npm//vega@5?noext\",\n",
       "      \"vega-lib\": \"https://cdn.jsdelivr.net/npm//vega-lib?noext\",\n",
       "      \"vega-lite\": \"https://cdn.jsdelivr.net/npm//vega-lite@4.8.1?noext\",\n",
       "      \"vega-embed\": \"https://cdn.jsdelivr.net/npm//vega-embed@6?noext\",\n",
       "    };\n",
       "\n",
       "    function loadScript(lib) {\n",
       "      return new Promise(function(resolve, reject) {\n",
       "        var s = document.createElement('script');\n",
       "        s.src = paths[lib];\n",
       "        s.async = true;\n",
       "        s.onload = () => resolve(paths[lib]);\n",
       "        s.onerror = () => reject(`Error loading script: ${paths[lib]}`);\n",
       "        document.getElementsByTagName(\"head\")[0].appendChild(s);\n",
       "      });\n",
       "    }\n",
       "\n",
       "    function showError(err) {\n",
       "      outputDiv.innerHTML = `<div class=\"error\" style=\"color:red;\">${err}</div>`;\n",
       "      throw err;\n",
       "    }\n",
       "\n",
       "    function displayChart(vegaEmbed) {\n",
       "      vegaEmbed(outputDiv, spec, embedOpt)\n",
       "        .catch(err => showError(`Javascript Error: ${err.message}<br>This usually means there's a typo in your chart specification. See the javascript console for the full traceback.`));\n",
       "    }\n",
       "\n",
       "    if(typeof define === \"function\" && define.amd) {\n",
       "      requirejs.config({paths});\n",
       "      require([\"vega-embed\"], displayChart, err => showError(`Error loading script: ${err.message}`));\n",
       "    } else if (typeof vegaEmbed === \"function\") {\n",
       "      displayChart(vegaEmbed);\n",
       "    } else {\n",
       "      loadScript(\"vega\")\n",
       "        .then(() => loadScript(\"vega-lite\"))\n",
       "        .then(() => loadScript(\"vega-embed\"))\n",
       "        .catch(showError)\n",
       "        .then(() => displayChart(vegaEmbed));\n",
       "    }\n",
       "  })({\"config\": {\"view\": {\"continuousWidth\": 400, \"continuousHeight\": 300}}, \"data\": {\"name\": \"data-20a92f6b0250741e26b9d3aa49de2c30\"}, \"mark\": \"bar\", \"encoding\": {\"color\": {\"type\": \"nominal\", \"field\": \"genero\", \"title\": \"G\\u00eanero\"}, \"column\": {\"type\": \"nominal\", \"field\": \"regiao\", \"title\": \"Regi\\u00e3o\"}, \"tooltip\": [{\"type\": \"nominal\", \"field\": \"regiao\"}, {\"type\": \"nominal\", \"field\": \"genero\"}, {\"type\": \"quantitative\", \"field\": \"numero\"}], \"x\": {\"type\": \"nominal\", \"field\": \"genero\", \"title\": \"G\\u00eanero\"}, \"y\": {\"type\": \"quantitative\", \"field\": \"numero\", \"title\": \"N\\u00ba de casamentos\"}}, \"title\": \"Veja, por regi\\u00e3o, o n\\u00famero de casamentos de 2013 a 2019\", \"width\": 100, \"$schema\": \"https://vega.github.io/schema/vega-lite/v4.8.1.json\", \"datasets\": {\"data-20a92f6b0250741e26b9d3aa49de2c30\": [{\"regiao\": \"Centro-Oeste\", \"genero\": \"Feminino\", \"numero\": 1759}, {\"regiao\": \"Centro-Oeste\", \"genero\": \"Masculino\", \"numero\": 1435}, {\"regiao\": \"Nordeste\", \"genero\": \"Feminino\", \"numero\": 3794}, {\"regiao\": \"Nordeste\", \"genero\": \"Masculino\", \"numero\": 2785}, {\"regiao\": \"Norte\", \"genero\": \"Feminino\", \"numero\": 869}, {\"regiao\": \"Norte\", \"genero\": \"Masculino\", \"numero\": 653}, {\"regiao\": \"Sudeste\", \"genero\": \"Feminino\", \"numero\": 14994}, {\"regiao\": \"Sudeste\", \"genero\": \"Masculino\", \"numero\": 11294}, {\"regiao\": \"Sul\", \"genero\": \"Feminino\", \"numero\": 3175}, {\"regiao\": \"Sul\", \"genero\": \"Masculino\", \"numero\": 3213}]}}, {\"mode\": \"vega-lite\"});\n",
       "</script>"
      ],
      "text/plain": [
       "alt.Chart(...)"
      ]
     },
     "execution_count": 177,
     "metadata": {},
     "output_type": "execute_result"
    }
   ],
   "source": [
    "alt.Chart(lgbt_casamento_regioes_genero).mark_bar().encode(\n",
    "    x = alt.X('genero', title = \"Gênero\"),\n",
    "    y = alt.Y('numero', title = 'Nº de casamentos'),\n",
    "    color = alt.Color('genero', title = 'Gênero'),\n",
    "    column = alt.Column('regiao:N', title = 'Região'),\n",
    "    tooltip = ['regiao', 'genero', 'numero']\n",
    ").properties(title = 'Veja, por região, o número de casamentos de 2013 a 2019', width=100)"
   ]
  },
  {
   "cell_type": "markdown",
   "metadata": {
    "id": "3CmGjaoCmN8z"
   },
   "source": [
    "### Considerando a população adulta, quais estados têm as maiores e menores proporções de casamentos LGBTs? \n",
    "\n",
    "Este trecho da análise depende de alguns cruzamentos para chegarmos ao resultado\n"
   ]
  },
  {
   "cell_type": "code",
   "execution_count": 178,
   "metadata": {
    "id": "wlVeC5wNmPXv"
   },
   "outputs": [],
   "source": [
    "# arquivo com o nome da uf e a respectiva sigla\n",
    "sigla_uf = pd.read_csv('https://raw.githubusercontent.com/kelvins/Municipios-Brasileiros/main/csv/estados.csv')"
   ]
  },
  {
   "cell_type": "code",
   "execution_count": 179,
   "metadata": {
    "colab": {
     "base_uri": "https://localhost:8080/",
     "height": 238
    },
    "id": "0b96sl8hmYGs",
    "outputId": "03f12c36-3737-4aac-acc5-8a60d9bef161"
   },
   "outputs": [
    {
     "data": {
      "text/html": [
       "<div>\n",
       "<style scoped>\n",
       "    .dataframe tbody tr th:only-of-type {\n",
       "        vertical-align: middle;\n",
       "    }\n",
       "\n",
       "    .dataframe tbody tr th {\n",
       "        vertical-align: top;\n",
       "    }\n",
       "\n",
       "    .dataframe thead th {\n",
       "        text-align: right;\n",
       "    }\n",
       "</style>\n",
       "<table border=\"1\" class=\"dataframe\">\n",
       "  <thead>\n",
       "    <tr style=\"text-align: right;\">\n",
       "      <th></th>\n",
       "      <th>ano</th>\n",
       "      <th>genero</th>\n",
       "      <th>mes</th>\n",
       "      <th>numero</th>\n",
       "      <th>uf</th>\n",
       "      <th>nome_uf</th>\n",
       "    </tr>\n",
       "  </thead>\n",
       "  <tbody>\n",
       "    <tr>\n",
       "      <th>0</th>\n",
       "      <td>2014</td>\n",
       "      <td>Masculino</td>\n",
       "      <td>Janeiro</td>\n",
       "      <td>0</td>\n",
       "      <td>RO</td>\n",
       "      <td>Rondônia</td>\n",
       "    </tr>\n",
       "    <tr>\n",
       "      <th>1</th>\n",
       "      <td>2014</td>\n",
       "      <td>Masculino</td>\n",
       "      <td>Fevereiro</td>\n",
       "      <td>0</td>\n",
       "      <td>RO</td>\n",
       "      <td>Rondônia</td>\n",
       "    </tr>\n",
       "    <tr>\n",
       "      <th>2</th>\n",
       "      <td>2014</td>\n",
       "      <td>Masculino</td>\n",
       "      <td>Março</td>\n",
       "      <td>0</td>\n",
       "      <td>RO</td>\n",
       "      <td>Rondônia</td>\n",
       "    </tr>\n",
       "    <tr>\n",
       "      <th>3</th>\n",
       "      <td>2014</td>\n",
       "      <td>Masculino</td>\n",
       "      <td>Abril</td>\n",
       "      <td>0</td>\n",
       "      <td>RO</td>\n",
       "      <td>Rondônia</td>\n",
       "    </tr>\n",
       "    <tr>\n",
       "      <th>4</th>\n",
       "      <td>2014</td>\n",
       "      <td>Masculino</td>\n",
       "      <td>Maio</td>\n",
       "      <td>0</td>\n",
       "      <td>RO</td>\n",
       "      <td>Rondônia</td>\n",
       "    </tr>\n",
       "    <tr>\n",
       "      <th>5</th>\n",
       "      <td>2014</td>\n",
       "      <td>Masculino</td>\n",
       "      <td>Junho</td>\n",
       "      <td>0</td>\n",
       "      <td>RO</td>\n",
       "      <td>Rondônia</td>\n",
       "    </tr>\n",
       "  </tbody>\n",
       "</table>\n",
       "</div>"
      ],
      "text/plain": [
       "    ano     genero        mes  numero  uf   nome_uf\n",
       "0  2014  Masculino    Janeiro       0  RO  Rondônia\n",
       "1  2014  Masculino  Fevereiro       0  RO  Rondônia\n",
       "2  2014  Masculino      Março       0  RO  Rondônia\n",
       "3  2014  Masculino      Abril       0  RO  Rondônia\n",
       "4  2014  Masculino       Maio       0  RO  Rondônia\n",
       "5  2014  Masculino      Junho       0  RO  Rondônia"
      ]
     },
     "execution_count": 179,
     "metadata": {},
     "output_type": "execute_result"
    }
   ],
   "source": [
    "# o arquivo com a população adulta usa a sigla, e não o nome da uf\n",
    "# por isso, vamos cruzar o dataframe principal com o dataframe acima \n",
    "# assim, o novo dataframe terá a sigla para criar com o CSV da população adulta\n",
    "sigla_uf_lgbt_casamento = lgbt_casamento.merge(sigla_uf, how = 'left', left_on = 'uf', right_on = 'nome')\n",
    "sigla_uf_lgbt_casamento = sigla_uf_lgbt_casamento.drop(['uf_x', 'codigo_uf', 'latitude', 'longitude'], axis=1)\n",
    "sigla_uf_lgbt_casamento = sigla_uf_lgbt_casamento.rename(columns={'uf_y':'uf', 'nome': 'nome_uf'})\n",
    "sigla_uf_lgbt_casamento.head(6)"
   ]
  },
  {
   "cell_type": "code",
   "execution_count": 181,
   "metadata": {
    "colab": {
     "base_uri": "https://localhost:8080/"
    },
    "id": "a9nTxOh5maZ-",
    "outputId": "a50783c2-6393-4bf2-db22-8f3ca0bdb814"
   },
   "outputs": [
    {
     "data": {
      "text/plain": [
       "genero     ano   uf\n",
       "Feminino   2018  SP    2445\n",
       "           2019  SP    2120\n",
       "Masculino  2018  SP    1655\n",
       "Feminino   2017  SP    1495\n",
       "Masculino  2019  SP    1453\n",
       "Feminino   2016  SP    1202\n",
       "Name: numero, dtype: int64"
      ]
     },
     "execution_count": 181,
     "metadata": {},
     "output_type": "execute_result"
    }
   ],
   "source": [
    "ano_uf_lgbt_casamento = sigla_uf_lgbt_casamento.groupby(['genero', 'ano', 'uf'])['numero'].sum().sort_values(ascending=False)\n",
    "ano_uf_lgbt_casamento.head(6)"
   ]
  },
  {
   "cell_type": "code",
   "execution_count": 182,
   "metadata": {
    "id": "s7t2htB7mijx"
   },
   "outputs": [],
   "source": [
    "# os dados são do IBGE e tratam das pessoas com 15 anos ou mais \n",
    "# aqui chamamos esse grupo de 'população adulta'\n",
    "# para casar no Brasil, a pessoa precisa ter a partir de 16 anos\n",
    "# mas o grupo etário dessa idade, para o IBGE, é de 15-19 anos\n",
    "pop_adulta = pd.read_csv('https://raw.githubusercontent.com/gabrielacaesar/lgbt_casamento/main/data/pop_adulta.csv')"
   ]
  },
  {
   "cell_type": "code",
   "execution_count": 183,
   "metadata": {
    "colab": {
     "base_uri": "https://localhost:8080/",
     "height": 112
    },
    "id": "T9QuS0n5mkq1",
    "outputId": "23cc7f09-db81-4991-cb0f-105467a2d8e7"
   },
   "outputs": [
    {
     "data": {
      "text/html": [
       "<div>\n",
       "<style scoped>\n",
       "    .dataframe tbody tr th:only-of-type {\n",
       "        vertical-align: middle;\n",
       "    }\n",
       "\n",
       "    .dataframe tbody tr th {\n",
       "        vertical-align: top;\n",
       "    }\n",
       "\n",
       "    .dataframe thead th {\n",
       "        text-align: right;\n",
       "    }\n",
       "</style>\n",
       "<table border=\"1\" class=\"dataframe\">\n",
       "  <thead>\n",
       "    <tr style=\"text-align: right;\">\n",
       "      <th></th>\n",
       "      <th>genero</th>\n",
       "      <th>ano</th>\n",
       "      <th>pop_adulta</th>\n",
       "      <th>uf</th>\n",
       "    </tr>\n",
       "  </thead>\n",
       "  <tbody>\n",
       "    <tr>\n",
       "      <th>0</th>\n",
       "      <td>Masculino</td>\n",
       "      <td>2013</td>\n",
       "      <td>265626</td>\n",
       "      <td>AC</td>\n",
       "    </tr>\n",
       "    <tr>\n",
       "      <th>1</th>\n",
       "      <td>Masculino</td>\n",
       "      <td>2014</td>\n",
       "      <td>272692</td>\n",
       "      <td>AC</td>\n",
       "    </tr>\n",
       "  </tbody>\n",
       "</table>\n",
       "</div>"
      ],
      "text/plain": [
       "      genero   ano  pop_adulta  uf\n",
       "0  Masculino  2013      265626  AC\n",
       "1  Masculino  2014      272692  AC"
      ]
     },
     "execution_count": 183,
     "metadata": {},
     "output_type": "execute_result"
    }
   ],
   "source": [
    "# padronizando gênero para ficar igual ao do csv lgbt_casamento\n",
    "pop_adulta['genero'] = pop_adulta['genero'].replace(['Mulher'],'Feminino').replace(['Homem'],'Masculino')\n",
    "pop_adulta.head(2)"
   ]
  },
  {
   "cell_type": "code",
   "execution_count": 184,
   "metadata": {
    "colab": {
     "base_uri": "https://localhost:8080/",
     "height": 206
    },
    "id": "2zd1NUjYmmiv",
    "outputId": "157c3dff-c8b6-48e9-d63d-3ef0dd2148b7"
   },
   "outputs": [
    {
     "data": {
      "text/html": [
       "<div>\n",
       "<style scoped>\n",
       "    .dataframe tbody tr th:only-of-type {\n",
       "        vertical-align: middle;\n",
       "    }\n",
       "\n",
       "    .dataframe tbody tr th {\n",
       "        vertical-align: top;\n",
       "    }\n",
       "\n",
       "    .dataframe thead th {\n",
       "        text-align: right;\n",
       "    }\n",
       "</style>\n",
       "<table border=\"1\" class=\"dataframe\">\n",
       "  <thead>\n",
       "    <tr style=\"text-align: right;\">\n",
       "      <th></th>\n",
       "      <th>ano</th>\n",
       "      <th>genero</th>\n",
       "      <th>uf</th>\n",
       "      <th>numero</th>\n",
       "      <th>pop_adulta</th>\n",
       "    </tr>\n",
       "  </thead>\n",
       "  <tbody>\n",
       "    <tr>\n",
       "      <th>0</th>\n",
       "      <td>2018</td>\n",
       "      <td>Feminino</td>\n",
       "      <td>SP</td>\n",
       "      <td>2445</td>\n",
       "      <td>18915105</td>\n",
       "    </tr>\n",
       "    <tr>\n",
       "      <th>1</th>\n",
       "      <td>2019</td>\n",
       "      <td>Feminino</td>\n",
       "      <td>SP</td>\n",
       "      <td>2120</td>\n",
       "      <td>19109416</td>\n",
       "    </tr>\n",
       "    <tr>\n",
       "      <th>2</th>\n",
       "      <td>2018</td>\n",
       "      <td>Masculino</td>\n",
       "      <td>SP</td>\n",
       "      <td>1655</td>\n",
       "      <td>17569093</td>\n",
       "    </tr>\n",
       "    <tr>\n",
       "      <th>3</th>\n",
       "      <td>2017</td>\n",
       "      <td>Feminino</td>\n",
       "      <td>SP</td>\n",
       "      <td>1495</td>\n",
       "      <td>18716547</td>\n",
       "    </tr>\n",
       "    <tr>\n",
       "      <th>4</th>\n",
       "      <td>2019</td>\n",
       "      <td>Masculino</td>\n",
       "      <td>SP</td>\n",
       "      <td>1453</td>\n",
       "      <td>17760876</td>\n",
       "    </tr>\n",
       "  </tbody>\n",
       "</table>\n",
       "</div>"
      ],
      "text/plain": [
       "    ano     genero  uf  numero  pop_adulta\n",
       "0  2018   Feminino  SP    2445    18915105\n",
       "1  2019   Feminino  SP    2120    19109416\n",
       "2  2018  Masculino  SP    1655    17569093\n",
       "3  2017   Feminino  SP    1495    18716547\n",
       "4  2019  Masculino  SP    1453    17760876"
      ]
     },
     "execution_count": 184,
     "metadata": {},
     "output_type": "execute_result"
    }
   ],
   "source": [
    "pop_lgbt_casamento = pd.merge(ano_uf_lgbt_casamento, pop_adulta, how = 'left', on = ['ano', 'genero', 'uf'])\n",
    "pop_lgbt_casamento.head(5)"
   ]
  },
  {
   "cell_type": "code",
   "execution_count": 185,
   "metadata": {
    "colab": {
     "base_uri": "https://localhost:8080/",
     "height": 424
    },
    "id": "loVz80WkmoPQ",
    "outputId": "e0a14f69-90a2-42e6-ee0d-e2e37a0824f0"
   },
   "outputs": [
    {
     "data": {
      "text/html": [
       "<div>\n",
       "<style scoped>\n",
       "    .dataframe tbody tr th:only-of-type {\n",
       "        vertical-align: middle;\n",
       "    }\n",
       "\n",
       "    .dataframe tbody tr th {\n",
       "        vertical-align: top;\n",
       "    }\n",
       "\n",
       "    .dataframe thead th {\n",
       "        text-align: right;\n",
       "    }\n",
       "</style>\n",
       "<table border=\"1\" class=\"dataframe\">\n",
       "  <thead>\n",
       "    <tr style=\"text-align: right;\">\n",
       "      <th></th>\n",
       "      <th>ano</th>\n",
       "      <th>genero</th>\n",
       "      <th>uf</th>\n",
       "      <th>numero</th>\n",
       "      <th>pop_adulta</th>\n",
       "      <th>tx_pop</th>\n",
       "    </tr>\n",
       "  </thead>\n",
       "  <tbody>\n",
       "    <tr>\n",
       "      <th>0</th>\n",
       "      <td>2018</td>\n",
       "      <td>Feminino</td>\n",
       "      <td>SP</td>\n",
       "      <td>2445</td>\n",
       "      <td>18915105</td>\n",
       "      <td>12.926177</td>\n",
       "    </tr>\n",
       "    <tr>\n",
       "      <th>67</th>\n",
       "      <td>2018</td>\n",
       "      <td>Masculino</td>\n",
       "      <td>DF</td>\n",
       "      <td>138</td>\n",
       "      <td>1115186</td>\n",
       "      <td>12.374617</td>\n",
       "    </tr>\n",
       "    <tr>\n",
       "      <th>64</th>\n",
       "      <td>2019</td>\n",
       "      <td>Feminino</td>\n",
       "      <td>DF</td>\n",
       "      <td>148</td>\n",
       "      <td>1269796</td>\n",
       "      <td>11.655416</td>\n",
       "    </tr>\n",
       "    <tr>\n",
       "      <th>73</th>\n",
       "      <td>2019</td>\n",
       "      <td>Masculino</td>\n",
       "      <td>DF</td>\n",
       "      <td>132</td>\n",
       "      <td>1136890</td>\n",
       "      <td>11.610622</td>\n",
       "    </tr>\n",
       "    <tr>\n",
       "      <th>1</th>\n",
       "      <td>2019</td>\n",
       "      <td>Feminino</td>\n",
       "      <td>SP</td>\n",
       "      <td>2120</td>\n",
       "      <td>19109416</td>\n",
       "      <td>11.094007</td>\n",
       "    </tr>\n",
       "    <tr>\n",
       "      <th>...</th>\n",
       "      <td>...</td>\n",
       "      <td>...</td>\n",
       "      <td>...</td>\n",
       "      <td>...</td>\n",
       "      <td>...</td>\n",
       "      <td>...</td>\n",
       "    </tr>\n",
       "    <tr>\n",
       "      <th>373</th>\n",
       "      <td>2013</td>\n",
       "      <td>Masculino</td>\n",
       "      <td>AC</td>\n",
       "      <td>0</td>\n",
       "      <td>265626</td>\n",
       "      <td>0.000000</td>\n",
       "    </tr>\n",
       "    <tr>\n",
       "      <th>374</th>\n",
       "      <td>2013</td>\n",
       "      <td>Feminino</td>\n",
       "      <td>RR</td>\n",
       "      <td>0</td>\n",
       "      <td>166383</td>\n",
       "      <td>0.000000</td>\n",
       "    </tr>\n",
       "    <tr>\n",
       "      <th>375</th>\n",
       "      <td>2016</td>\n",
       "      <td>Masculino</td>\n",
       "      <td>AC</td>\n",
       "      <td>0</td>\n",
       "      <td>287146</td>\n",
       "      <td>0.000000</td>\n",
       "    </tr>\n",
       "    <tr>\n",
       "      <th>376</th>\n",
       "      <td>2015</td>\n",
       "      <td>Masculino</td>\n",
       "      <td>AC</td>\n",
       "      <td>0</td>\n",
       "      <td>279837</td>\n",
       "      <td>0.000000</td>\n",
       "    </tr>\n",
       "    <tr>\n",
       "      <th>377</th>\n",
       "      <td>2013</td>\n",
       "      <td>Feminino</td>\n",
       "      <td>AC</td>\n",
       "      <td>0</td>\n",
       "      <td>268540</td>\n",
       "      <td>0.000000</td>\n",
       "    </tr>\n",
       "  </tbody>\n",
       "</table>\n",
       "<p>378 rows × 6 columns</p>\n",
       "</div>"
      ],
      "text/plain": [
       "      ano     genero  uf  numero  pop_adulta     tx_pop\n",
       "0    2018   Feminino  SP    2445    18915105  12.926177\n",
       "67   2018  Masculino  DF     138     1115186  12.374617\n",
       "64   2019   Feminino  DF     148     1269796  11.655416\n",
       "73   2019  Masculino  DF     132     1136890  11.610622\n",
       "1    2019   Feminino  SP    2120    19109416  11.094007\n",
       "..    ...        ...  ..     ...         ...        ...\n",
       "373  2013  Masculino  AC       0      265626   0.000000\n",
       "374  2013   Feminino  RR       0      166383   0.000000\n",
       "375  2016  Masculino  AC       0      287146   0.000000\n",
       "376  2015  Masculino  AC       0      279837   0.000000\n",
       "377  2013   Feminino  AC       0      268540   0.000000\n",
       "\n",
       "[378 rows x 6 columns]"
      ]
     },
     "execution_count": 185,
     "metadata": {},
     "output_type": "execute_result"
    }
   ],
   "source": [
    "### criamos a taxa de casamento lgbt por 100 mil habitantes adultos\n",
    "pop_lgbt_casamento['tx_pop'] = (pop_lgbt_casamento['numero'] / pop_lgbt_casamento['pop_adulta']) * 100000\n",
    "pop_lgbt_casamento.sort_values(by = 'tx_pop', ascending=False)"
   ]
  },
  {
   "cell_type": "markdown",
   "metadata": {
    "id": "2ReHAHyumuhx"
   },
   "source": [
    "### 2019: taxas mais altas e mais baixas, por UF"
   ]
  },
  {
   "cell_type": "code",
   "execution_count": 208,
   "metadata": {
    "colab": {
     "base_uri": "https://localhost:8080/",
     "height": 363
    },
    "id": "mAQdiboGmyIQ",
    "outputId": "335ec012-b0ed-4f86-85a5-a9e6f8464804"
   },
   "outputs": [
    {
     "data": {
      "text/html": [
       "<div>\n",
       "<style scoped>\n",
       "    .dataframe tbody tr th:only-of-type {\n",
       "        vertical-align: middle;\n",
       "    }\n",
       "\n",
       "    .dataframe tbody tr th {\n",
       "        vertical-align: top;\n",
       "    }\n",
       "\n",
       "    .dataframe thead th {\n",
       "        text-align: right;\n",
       "    }\n",
       "</style>\n",
       "<table border=\"1\" class=\"dataframe\">\n",
       "  <thead>\n",
       "    <tr style=\"text-align: right;\">\n",
       "      <th></th>\n",
       "      <th>ano</th>\n",
       "      <th>genero</th>\n",
       "      <th>uf</th>\n",
       "      <th>numero</th>\n",
       "      <th>pop_adulta</th>\n",
       "      <th>tx_pop</th>\n",
       "    </tr>\n",
       "  </thead>\n",
       "  <tbody>\n",
       "    <tr>\n",
       "      <th>64</th>\n",
       "      <td>2019</td>\n",
       "      <td>Feminino</td>\n",
       "      <td>DF</td>\n",
       "      <td>148</td>\n",
       "      <td>1269796</td>\n",
       "      <td>11.655416</td>\n",
       "    </tr>\n",
       "    <tr>\n",
       "      <th>73</th>\n",
       "      <td>2019</td>\n",
       "      <td>Masculino</td>\n",
       "      <td>DF</td>\n",
       "      <td>132</td>\n",
       "      <td>1136890</td>\n",
       "      <td>11.610622</td>\n",
       "    </tr>\n",
       "    <tr>\n",
       "      <th>1</th>\n",
       "      <td>2019</td>\n",
       "      <td>Feminino</td>\n",
       "      <td>SP</td>\n",
       "      <td>2120</td>\n",
       "      <td>19109416</td>\n",
       "      <td>11.094007</td>\n",
       "    </tr>\n",
       "    <tr>\n",
       "      <th>105</th>\n",
       "      <td>2019</td>\n",
       "      <td>Feminino</td>\n",
       "      <td>MS</td>\n",
       "      <td>101</td>\n",
       "      <td>1089092</td>\n",
       "      <td>9.273780</td>\n",
       "    </tr>\n",
       "    <tr>\n",
       "      <th>4</th>\n",
       "      <td>2019</td>\n",
       "      <td>Masculino</td>\n",
       "      <td>SP</td>\n",
       "      <td>1453</td>\n",
       "      <td>17760876</td>\n",
       "      <td>8.180903</td>\n",
       "    </tr>\n",
       "    <tr>\n",
       "      <th>14</th>\n",
       "      <td>2019</td>\n",
       "      <td>Feminino</td>\n",
       "      <td>RJ</td>\n",
       "      <td>568</td>\n",
       "      <td>7408969</td>\n",
       "      <td>7.666384</td>\n",
       "    </tr>\n",
       "    <tr>\n",
       "      <th>53</th>\n",
       "      <td>2019</td>\n",
       "      <td>Feminino</td>\n",
       "      <td>SC</td>\n",
       "      <td>195</td>\n",
       "      <td>2931464</td>\n",
       "      <td>6.651966</td>\n",
       "    </tr>\n",
       "    <tr>\n",
       "      <th>56</th>\n",
       "      <td>2019</td>\n",
       "      <td>Masculino</td>\n",
       "      <td>SC</td>\n",
       "      <td>180</td>\n",
       "      <td>2845696</td>\n",
       "      <td>6.325342</td>\n",
       "    </tr>\n",
       "    <tr>\n",
       "      <th>17</th>\n",
       "      <td>2019</td>\n",
       "      <td>Masculino</td>\n",
       "      <td>RJ</td>\n",
       "      <td>410</td>\n",
       "      <td>6579835</td>\n",
       "      <td>6.231159</td>\n",
       "    </tr>\n",
       "    <tr>\n",
       "      <th>38</th>\n",
       "      <td>2019</td>\n",
       "      <td>Feminino</td>\n",
       "      <td>PE</td>\n",
       "      <td>217</td>\n",
       "      <td>3922693</td>\n",
       "      <td>5.531914</td>\n",
       "    </tr>\n",
       "  </tbody>\n",
       "</table>\n",
       "</div>"
      ],
      "text/plain": [
       "      ano     genero  uf  numero  pop_adulta     tx_pop\n",
       "64   2019   Feminino  DF     148     1269796  11.655416\n",
       "73   2019  Masculino  DF     132     1136890  11.610622\n",
       "1    2019   Feminino  SP    2120    19109416  11.094007\n",
       "105  2019   Feminino  MS     101     1089092   9.273780\n",
       "4    2019  Masculino  SP    1453    17760876   8.180903\n",
       "14   2019   Feminino  RJ     568     7408969   7.666384\n",
       "53   2019   Feminino  SC     195     2931464   6.651966\n",
       "56   2019  Masculino  SC     180     2845696   6.325342\n",
       "17   2019  Masculino  RJ     410     6579835   6.231159\n",
       "38   2019   Feminino  PE     217     3922693   5.531914"
      ]
     },
     "execution_count": 208,
     "metadata": {},
     "output_type": "execute_result"
    }
   ],
   "source": [
    "# DF e SP aparecem com destaque, com taxas acima de 10, em 2019\n",
    "tx_2019 = pop_lgbt_casamento.query('ano == 2019').sort_values(by = 'tx_pop', ascending=False)\n",
    "tx_2019.head(10)"
   ]
  },
  {
   "cell_type": "code",
   "execution_count": 207,
   "metadata": {
    "colab": {
     "base_uri": "https://localhost:8080/",
     "height": 363
    },
    "id": "DAOY40Ipm0Q6",
    "outputId": "8a5ca561-433f-44ed-9a58-0a2d6e31fa07"
   },
   "outputs": [
    {
     "data": {
      "text/html": [
       "<div>\n",
       "<style scoped>\n",
       "    .dataframe tbody tr th:only-of-type {\n",
       "        vertical-align: middle;\n",
       "    }\n",
       "\n",
       "    .dataframe tbody tr th {\n",
       "        vertical-align: top;\n",
       "    }\n",
       "\n",
       "    .dataframe thead th {\n",
       "        text-align: right;\n",
       "    }\n",
       "</style>\n",
       "<table border=\"1\" class=\"dataframe\">\n",
       "  <thead>\n",
       "    <tr style=\"text-align: right;\">\n",
       "      <th></th>\n",
       "      <th>ano</th>\n",
       "      <th>genero</th>\n",
       "      <th>uf</th>\n",
       "      <th>numero</th>\n",
       "      <th>pop_adulta</th>\n",
       "      <th>tx_pop</th>\n",
       "    </tr>\n",
       "  </thead>\n",
       "  <tbody>\n",
       "    <tr>\n",
       "      <th>261</th>\n",
       "      <td>2019</td>\n",
       "      <td>Masculino</td>\n",
       "      <td>MA</td>\n",
       "      <td>15</td>\n",
       "      <td>2531188</td>\n",
       "      <td>0.592607</td>\n",
       "    </tr>\n",
       "    <tr>\n",
       "      <th>234</th>\n",
       "      <td>2019</td>\n",
       "      <td>Feminino</td>\n",
       "      <td>MA</td>\n",
       "      <td>22</td>\n",
       "      <td>2686814</td>\n",
       "      <td>0.818814</td>\n",
       "    </tr>\n",
       "    <tr>\n",
       "      <th>267</th>\n",
       "      <td>2019</td>\n",
       "      <td>Masculino</td>\n",
       "      <td>PI</td>\n",
       "      <td>15</td>\n",
       "      <td>1208013</td>\n",
       "      <td>1.241708</td>\n",
       "    </tr>\n",
       "    <tr>\n",
       "      <th>307</th>\n",
       "      <td>2019</td>\n",
       "      <td>Masculino</td>\n",
       "      <td>TO</td>\n",
       "      <td>8</td>\n",
       "      <td>595765</td>\n",
       "      <td>1.342811</td>\n",
       "    </tr>\n",
       "    <tr>\n",
       "      <th>236</th>\n",
       "      <td>2019</td>\n",
       "      <td>Masculino</td>\n",
       "      <td>AM</td>\n",
       "      <td>22</td>\n",
       "      <td>1464687</td>\n",
       "      <td>1.502027</td>\n",
       "    </tr>\n",
       "    <tr>\n",
       "      <th>275</th>\n",
       "      <td>2019</td>\n",
       "      <td>Masculino</td>\n",
       "      <td>SE</td>\n",
       "      <td>14</td>\n",
       "      <td>843619</td>\n",
       "      <td>1.659517</td>\n",
       "    </tr>\n",
       "    <tr>\n",
       "      <th>335</th>\n",
       "      <td>2019</td>\n",
       "      <td>Masculino</td>\n",
       "      <td>AP</td>\n",
       "      <td>5</td>\n",
       "      <td>300208</td>\n",
       "      <td>1.665512</td>\n",
       "    </tr>\n",
       "    <tr>\n",
       "      <th>216</th>\n",
       "      <td>2019</td>\n",
       "      <td>Masculino</td>\n",
       "      <td>PB</td>\n",
       "      <td>29</td>\n",
       "      <td>1494526</td>\n",
       "      <td>1.940415</td>\n",
       "    </tr>\n",
       "    <tr>\n",
       "      <th>327</th>\n",
       "      <td>2019</td>\n",
       "      <td>Masculino</td>\n",
       "      <td>AC</td>\n",
       "      <td>6</td>\n",
       "      <td>308791</td>\n",
       "      <td>1.943062</td>\n",
       "    </tr>\n",
       "    <tr>\n",
       "      <th>148</th>\n",
       "      <td>2019</td>\n",
       "      <td>Masculino</td>\n",
       "      <td>PA</td>\n",
       "      <td>63</td>\n",
       "      <td>3163035</td>\n",
       "      <td>1.991758</td>\n",
       "    </tr>\n",
       "  </tbody>\n",
       "</table>\n",
       "</div>"
      ],
      "text/plain": [
       "      ano     genero  uf  numero  pop_adulta    tx_pop\n",
       "261  2019  Masculino  MA      15     2531188  0.592607\n",
       "234  2019   Feminino  MA      22     2686814  0.818814\n",
       "267  2019  Masculino  PI      15     1208013  1.241708\n",
       "307  2019  Masculino  TO       8      595765  1.342811\n",
       "236  2019  Masculino  AM      22     1464687  1.502027\n",
       "275  2019  Masculino  SE      14      843619  1.659517\n",
       "335  2019  Masculino  AP       5      300208  1.665512\n",
       "216  2019  Masculino  PB      29     1494526  1.940415\n",
       "327  2019  Masculino  AC       6      308791  1.943062\n",
       "148  2019  Masculino  PA      63     3163035  1.991758"
      ]
     },
     "execution_count": 207,
     "metadata": {},
     "output_type": "execute_result"
    }
   ],
   "source": [
    "# MA aparece com destaque, com taxas baixo de 1, em 2019\n",
    "pop_lgbt_casamento.query('ano == 2019').sort_values(by = 'tx_pop', ascending=True).head(10)"
   ]
  },
  {
   "cell_type": "code",
   "execution_count": 209,
   "metadata": {
    "colab": {
     "base_uri": "https://localhost:8080/",
     "height": 385
    },
    "id": "I8EmhBuonyvV",
    "outputId": "d9542250-e9db-458c-c0b4-80a2fe369d57"
   },
   "outputs": [
    {
     "data": {
      "text/html": [
       "\n",
       "<div id=\"altair-viz-31136ec6dd464621adc9678cc5befaa9\"></div>\n",
       "<script type=\"text/javascript\">\n",
       "  (function(spec, embedOpt){\n",
       "    let outputDiv = document.currentScript.previousElementSibling;\n",
       "    if (outputDiv.id !== \"altair-viz-31136ec6dd464621adc9678cc5befaa9\") {\n",
       "      outputDiv = document.getElementById(\"altair-viz-31136ec6dd464621adc9678cc5befaa9\");\n",
       "    }\n",
       "    const paths = {\n",
       "      \"vega\": \"https://cdn.jsdelivr.net/npm//vega@5?noext\",\n",
       "      \"vega-lib\": \"https://cdn.jsdelivr.net/npm//vega-lib?noext\",\n",
       "      \"vega-lite\": \"https://cdn.jsdelivr.net/npm//vega-lite@4.8.1?noext\",\n",
       "      \"vega-embed\": \"https://cdn.jsdelivr.net/npm//vega-embed@6?noext\",\n",
       "    };\n",
       "\n",
       "    function loadScript(lib) {\n",
       "      return new Promise(function(resolve, reject) {\n",
       "        var s = document.createElement('script');\n",
       "        s.src = paths[lib];\n",
       "        s.async = true;\n",
       "        s.onload = () => resolve(paths[lib]);\n",
       "        s.onerror = () => reject(`Error loading script: ${paths[lib]}`);\n",
       "        document.getElementsByTagName(\"head\")[0].appendChild(s);\n",
       "      });\n",
       "    }\n",
       "\n",
       "    function showError(err) {\n",
       "      outputDiv.innerHTML = `<div class=\"error\" style=\"color:red;\">${err}</div>`;\n",
       "      throw err;\n",
       "    }\n",
       "\n",
       "    function displayChart(vegaEmbed) {\n",
       "      vegaEmbed(outputDiv, spec, embedOpt)\n",
       "        .catch(err => showError(`Javascript Error: ${err.message}<br>This usually means there's a typo in your chart specification. See the javascript console for the full traceback.`));\n",
       "    }\n",
       "\n",
       "    if(typeof define === \"function\" && define.amd) {\n",
       "      requirejs.config({paths});\n",
       "      require([\"vega-embed\"], displayChart, err => showError(`Error loading script: ${err.message}`));\n",
       "    } else if (typeof vegaEmbed === \"function\") {\n",
       "      displayChart(vegaEmbed);\n",
       "    } else {\n",
       "      loadScript(\"vega\")\n",
       "        .then(() => loadScript(\"vega-lite\"))\n",
       "        .then(() => loadScript(\"vega-embed\"))\n",
       "        .catch(showError)\n",
       "        .then(() => displayChart(vegaEmbed));\n",
       "    }\n",
       "  })({\"config\": {\"view\": {\"continuousWidth\": 400, \"continuousHeight\": 300}}, \"data\": {\"name\": \"data-37f458bc1d171680f272f9fd2f372c8d\"}, \"mark\": \"point\", \"encoding\": {\"color\": {\"type\": \"nominal\", \"field\": \"genero\", \"title\": \"G\\u00eanero\"}, \"tooltip\": [{\"type\": \"nominal\", \"field\": \"uf\"}, {\"type\": \"nominal\", \"field\": \"genero\"}, {\"type\": \"quantitative\", \"field\": \"tx_pop\"}, {\"type\": \"quantitative\", \"field\": \"numero\"}, {\"type\": \"quantitative\", \"field\": \"pop_adulta\"}], \"x\": {\"type\": \"quantitative\", \"field\": \"tx_pop\", \"title\": \"N\\u00ba de casamentos\"}, \"y\": {\"type\": \"quantitative\", \"field\": \"numero\", \"title\": \"Taxa por 100 mil adultos\"}}, \"title\": \"2019: Taxa de casamentos LGBTs\", \"width\": 600, \"$schema\": \"https://vega.github.io/schema/vega-lite/v4.8.1.json\", \"datasets\": {\"data-37f458bc1d171680f272f9fd2f372c8d\": [{\"ano\": 2019, \"genero\": \"Feminino\", \"uf\": \"DF\", \"numero\": 148, \"pop_adulta\": 1269796, \"tx_pop\": 11.65541551556313}, {\"ano\": 2019, \"genero\": \"Masculino\", \"uf\": \"DF\", \"numero\": 132, \"pop_adulta\": 1136890, \"tx_pop\": 11.61062195990817}, {\"ano\": 2019, \"genero\": \"Feminino\", \"uf\": \"SP\", \"numero\": 2120, \"pop_adulta\": 19109416, \"tx_pop\": 11.094007268458649}, {\"ano\": 2019, \"genero\": \"Feminino\", \"uf\": \"MS\", \"numero\": 101, \"pop_adulta\": 1089092, \"tx_pop\": 9.273780360153228}, {\"ano\": 2019, \"genero\": \"Masculino\", \"uf\": \"SP\", \"numero\": 1453, \"pop_adulta\": 17760876, \"tx_pop\": 8.180902788803886}, {\"ano\": 2019, \"genero\": \"Feminino\", \"uf\": \"RJ\", \"numero\": 568, \"pop_adulta\": 7408969, \"tx_pop\": 7.666383811296821}, {\"ano\": 2019, \"genero\": \"Feminino\", \"uf\": \"SC\", \"numero\": 195, \"pop_adulta\": 2931464, \"tx_pop\": 6.651966389490029}, {\"ano\": 2019, \"genero\": \"Masculino\", \"uf\": \"SC\", \"numero\": 180, \"pop_adulta\": 2845696, \"tx_pop\": 6.325341849586183}, {\"ano\": 2019, \"genero\": \"Masculino\", \"uf\": \"RJ\", \"numero\": 410, \"pop_adulta\": 6579835, \"tx_pop\": 6.231159291988326}, {\"ano\": 2019, \"genero\": \"Feminino\", \"uf\": \"PE\", \"numero\": 217, \"pop_adulta\": 3922693, \"tx_pop\": 5.5319139173012015}, {\"ano\": 2019, \"genero\": \"Feminino\", \"uf\": \"ES\", \"numero\": 87, \"pop_adulta\": 1628413, \"tx_pop\": 5.342624997466859}, {\"ano\": 2019, \"genero\": \"Feminino\", \"uf\": \"CE\", \"numero\": 199, \"pop_adulta\": 3728302, \"tx_pop\": 5.33755044521608}, {\"ano\": 2019, \"genero\": \"Feminino\", \"uf\": \"MG\", \"numero\": 464, \"pop_adulta\": 8785642, \"tx_pop\": 5.28134426601949}, {\"ano\": 2019, \"genero\": \"Feminino\", \"uf\": \"RR\", \"numero\": 11, \"pop_adulta\": 212883, \"tx_pop\": 5.167157546633597}, {\"ano\": 2019, \"genero\": \"Feminino\", \"uf\": \"PR\", \"numero\": 240, \"pop_adulta\": 4702584, \"tx_pop\": 5.103577097187419}, {\"ano\": 2019, \"genero\": \"Feminino\", \"uf\": \"PB\", \"numero\": 83, \"pop_adulta\": 1654924, \"tx_pop\": 5.0153360516857575}, {\"ano\": 2019, \"genero\": \"Feminino\", \"uf\": \"RN\", \"numero\": 71, \"pop_adulta\": 1431108, \"tx_pop\": 4.961190909421231}, {\"ano\": 2019, \"genero\": \"Feminino\", \"uf\": \"RS\", \"numero\": 211, \"pop_adulta\": 4821890, \"tx_pop\": 4.375877508611769}, {\"ano\": 2019, \"genero\": \"Feminino\", \"uf\": \"RO\", \"numero\": 29, \"pop_adulta\": 676066, \"tx_pop\": 4.2895220289143365}, {\"ano\": 2019, \"genero\": \"Masculino\", \"uf\": \"MG\", \"numero\": 351, \"pop_adulta\": 8369460, \"tx_pop\": 4.193818956061682}, {\"ano\": 2019, \"genero\": \"Masculino\", \"uf\": \"PR\", \"numero\": 185, \"pop_adulta\": 4420375, \"tx_pop\": 4.185165285750643}, {\"ano\": 2019, \"genero\": \"Masculino\", \"uf\": \"RS\", \"numero\": 180, \"pop_adulta\": 4468846, \"tx_pop\": 4.027885498851382}, {\"ano\": 2019, \"genero\": \"Masculino\", \"uf\": \"RN\", \"numero\": 53, \"pop_adulta\": 1328851, \"tx_pop\": 3.988408030697196}, {\"ano\": 2019, \"genero\": \"Feminino\", \"uf\": \"AL\", \"numero\": 53, \"pop_adulta\": 1341877, \"tx_pop\": 3.949691365154928}, {\"ano\": 2019, \"genero\": \"Feminino\", \"uf\": \"AP\", \"numero\": 12, \"pop_adulta\": 304204, \"tx_pop\": 3.9447213054397707}, {\"ano\": 2019, \"genero\": \"Masculino\", \"uf\": \"ES\", \"numero\": 56, \"pop_adulta\": 1548580, \"tx_pop\": 3.6162161464050935}, {\"ano\": 2019, \"genero\": \"Masculino\", \"uf\": \"PE\", \"numero\": 124, \"pop_adulta\": 3494774, \"tx_pop\": 3.5481550452189468}, {\"ano\": 2019, \"genero\": \"Masculino\", \"uf\": \"MS\", \"numero\": 35, \"pop_adulta\": 1053691, \"tx_pop\": 3.3216569183944817}, {\"ano\": 2019, \"genero\": \"Feminino\", \"uf\": \"BA\", \"numero\": 199, \"pop_adulta\": 6071555, \"tx_pop\": 3.27757880806482}, {\"ano\": 2019, \"genero\": \"Masculino\", \"uf\": \"CE\", \"numero\": 107, \"pop_adulta\": 3415709, \"tx_pop\": 3.132585357827614}, {\"ano\": 2019, \"genero\": \"Feminino\", \"uf\": \"AM\", \"numero\": 46, \"pop_adulta\": 1473608, \"tx_pop\": 3.121590002225829}, {\"ano\": 2019, \"genero\": \"Masculino\", \"uf\": \"RR\", \"numero\": 7, \"pop_adulta\": 227863, \"tx_pop\": 3.0720213461597536}, {\"ano\": 2019, \"genero\": \"Feminino\", \"uf\": \"PA\", \"numero\": 96, \"pop_adulta\": 3184695, \"tx_pop\": 3.0144173931883587}, {\"ano\": 2019, \"genero\": \"Feminino\", \"uf\": \"AC\", \"numero\": 9, \"pop_adulta\": 313775, \"tx_pop\": 2.868297346824954}, {\"ano\": 2019, \"genero\": \"Feminino\", \"uf\": \"GO\", \"numero\": 77, \"pop_adulta\": 2795343, \"tx_pop\": 2.754581459234162}, {\"ano\": 2019, \"genero\": \"Masculino\", \"uf\": \"RO\", \"numero\": 17, \"pop_adulta\": 687404, \"tx_pop\": 2.473072603592647}, {\"ano\": 2019, \"genero\": \"Masculino\", \"uf\": \"MT\", \"numero\": 31, \"pop_adulta\": 1349264, \"tx_pop\": 2.2975488859111337}, {\"ano\": 2019, \"genero\": \"Feminino\", \"uf\": \"MT\", \"numero\": 30, \"pop_adulta\": 1316572, \"tx_pop\": 2.2786448443381753}, {\"ano\": 2019, \"genero\": \"Masculino\", \"uf\": \"BA\", \"numero\": 126, \"pop_adulta\": 5593892, \"tx_pop\": 2.2524567867953116}, {\"ano\": 2019, \"genero\": \"Feminino\", \"uf\": \"SE\", \"numero\": 21, \"pop_adulta\": 932810, \"tx_pop\": 2.2512623149408775}, {\"ano\": 2019, \"genero\": \"Feminino\", \"uf\": \"TO\", \"numero\": 13, \"pop_adulta\": 592220, \"tx_pop\": 2.1951301881057717}, {\"ano\": 2019, \"genero\": \"Masculino\", \"uf\": \"GO\", \"numero\": 58, \"pop_adulta\": 2705822, \"tx_pop\": 2.143526070820623}, {\"ano\": 2019, \"genero\": \"Masculino\", \"uf\": \"AL\", \"numero\": 25, \"pop_adulta\": 1189863, \"tx_pop\": 2.1010822254326755}, {\"ano\": 2019, \"genero\": \"Feminino\", \"uf\": \"PI\", \"numero\": 27, \"pop_adulta\": 1322747, \"tx_pop\": 2.0412066706634}, {\"ano\": 2019, \"genero\": \"Masculino\", \"uf\": \"PA\", \"numero\": 63, \"pop_adulta\": 3163035, \"tx_pop\": 1.9917579160521461}, {\"ano\": 2019, \"genero\": \"Masculino\", \"uf\": \"AC\", \"numero\": 6, \"pop_adulta\": 308791, \"tx_pop\": 1.9430618120346772}, {\"ano\": 2019, \"genero\": \"Masculino\", \"uf\": \"PB\", \"numero\": 29, \"pop_adulta\": 1494526, \"tx_pop\": 1.9404145528415029}, {\"ano\": 2019, \"genero\": \"Masculino\", \"uf\": \"AP\", \"numero\": 5, \"pop_adulta\": 300208, \"tx_pop\": 1.6655119117411927}, {\"ano\": 2019, \"genero\": \"Masculino\", \"uf\": \"SE\", \"numero\": 14, \"pop_adulta\": 843619, \"tx_pop\": 1.6595169146261524}, {\"ano\": 2019, \"genero\": \"Masculino\", \"uf\": \"AM\", \"numero\": 22, \"pop_adulta\": 1464687, \"tx_pop\": 1.5020273956142165}, {\"ano\": 2019, \"genero\": \"Masculino\", \"uf\": \"TO\", \"numero\": 8, \"pop_adulta\": 595765, \"tx_pop\": 1.3428113433988234}, {\"ano\": 2019, \"genero\": \"Masculino\", \"uf\": \"PI\", \"numero\": 15, \"pop_adulta\": 1208013, \"tx_pop\": 1.2417084915476904}, {\"ano\": 2019, \"genero\": \"Feminino\", \"uf\": \"MA\", \"numero\": 22, \"pop_adulta\": 2686814, \"tx_pop\": 0.8188136581095676}, {\"ano\": 2019, \"genero\": \"Masculino\", \"uf\": \"MA\", \"numero\": 15, \"pop_adulta\": 2531188, \"tx_pop\": 0.5926071078086653}]}}, {\"mode\": \"vega-lite\"});\n",
       "</script>"
      ],
      "text/plain": [
       "alt.Chart(...)"
      ]
     },
     "execution_count": 209,
     "metadata": {},
     "output_type": "execute_result"
    }
   ],
   "source": [
    "# o gráfico abaixo se refere aos dois dataframes criados acima\n",
    "# o eixo x tem a taxa de casamentos LGBTs por 100 mil adultos, por gênero, naquele ano\n",
    "# o eixo y tem o número de casamentos LGBTs, por gênero, naquele ano\n",
    "alt.Chart(tx_2019).mark_point().encode(\n",
    "    x = alt.X('tx_pop:Q', title = 'Nº de casamentos'),\n",
    "    y = alt.Y('numero:Q', title = 'Taxa por 100 mil adultos'),\n",
    "    color = alt.Color('genero', title = 'Gênero'),\n",
    "    tooltip = ['uf', 'genero', 'tx_pop', 'numero', 'pop_adulta']\n",
    ").properties(title = '2019: Taxa de casamentos LGBTs', width=600)"
   ]
  },
  {
   "cell_type": "markdown",
   "metadata": {
    "id": "wWNK7NObnGRp"
   },
   "source": [
    "### E em 2018? Quais UFs têm as taxas mais altas e mais baixas?"
   ]
  },
  {
   "cell_type": "code",
   "execution_count": 210,
   "metadata": {
    "colab": {
     "base_uri": "https://localhost:8080/",
     "height": 363
    },
    "id": "S8FoOsepnKo0",
    "outputId": "ea7c1c0a-6f98-47c6-b0a8-71d4966c7aa4"
   },
   "outputs": [
    {
     "data": {
      "text/html": [
       "<div>\n",
       "<style scoped>\n",
       "    .dataframe tbody tr th:only-of-type {\n",
       "        vertical-align: middle;\n",
       "    }\n",
       "\n",
       "    .dataframe tbody tr th {\n",
       "        vertical-align: top;\n",
       "    }\n",
       "\n",
       "    .dataframe thead th {\n",
       "        text-align: right;\n",
       "    }\n",
       "</style>\n",
       "<table border=\"1\" class=\"dataframe\">\n",
       "  <thead>\n",
       "    <tr style=\"text-align: right;\">\n",
       "      <th></th>\n",
       "      <th>ano</th>\n",
       "      <th>genero</th>\n",
       "      <th>uf</th>\n",
       "      <th>numero</th>\n",
       "      <th>pop_adulta</th>\n",
       "      <th>tx_pop</th>\n",
       "    </tr>\n",
       "  </thead>\n",
       "  <tbody>\n",
       "    <tr>\n",
       "      <th>0</th>\n",
       "      <td>2018</td>\n",
       "      <td>Feminino</td>\n",
       "      <td>SP</td>\n",
       "      <td>2445</td>\n",
       "      <td>18915105</td>\n",
       "      <td>12.926177</td>\n",
       "    </tr>\n",
       "    <tr>\n",
       "      <th>67</th>\n",
       "      <td>2018</td>\n",
       "      <td>Masculino</td>\n",
       "      <td>DF</td>\n",
       "      <td>138</td>\n",
       "      <td>1115186</td>\n",
       "      <td>12.374617</td>\n",
       "    </tr>\n",
       "    <tr>\n",
       "      <th>71</th>\n",
       "      <td>2018</td>\n",
       "      <td>Feminino</td>\n",
       "      <td>DF</td>\n",
       "      <td>136</td>\n",
       "      <td>1247134</td>\n",
       "      <td>10.905003</td>\n",
       "    </tr>\n",
       "    <tr>\n",
       "      <th>93</th>\n",
       "      <td>2018</td>\n",
       "      <td>Feminino</td>\n",
       "      <td>MS</td>\n",
       "      <td>110</td>\n",
       "      <td>1074182</td>\n",
       "      <td>10.240350</td>\n",
       "    </tr>\n",
       "    <tr>\n",
       "      <th>2</th>\n",
       "      <td>2018</td>\n",
       "      <td>Masculino</td>\n",
       "      <td>SP</td>\n",
       "      <td>1655</td>\n",
       "      <td>17569093</td>\n",
       "      <td>9.419951</td>\n",
       "    </tr>\n",
       "    <tr>\n",
       "      <th>36</th>\n",
       "      <td>2018</td>\n",
       "      <td>Masculino</td>\n",
       "      <td>SC</td>\n",
       "      <td>229</td>\n",
       "      <td>2807204</td>\n",
       "      <td>8.157583</td>\n",
       "    </tr>\n",
       "    <tr>\n",
       "      <th>47</th>\n",
       "      <td>2018</td>\n",
       "      <td>Feminino</td>\n",
       "      <td>SC</td>\n",
       "      <td>200</td>\n",
       "      <td>2891671</td>\n",
       "      <td>6.916416</td>\n",
       "    </tr>\n",
       "    <tr>\n",
       "      <th>29</th>\n",
       "      <td>2018</td>\n",
       "      <td>Feminino</td>\n",
       "      <td>PE</td>\n",
       "      <td>260</td>\n",
       "      <td>3881393</td>\n",
       "      <td>6.698626</td>\n",
       "    </tr>\n",
       "    <tr>\n",
       "      <th>25</th>\n",
       "      <td>2018</td>\n",
       "      <td>Feminino</td>\n",
       "      <td>PR</td>\n",
       "      <td>283</td>\n",
       "      <td>4658113</td>\n",
       "      <td>6.075422</td>\n",
       "    </tr>\n",
       "    <tr>\n",
       "      <th>40</th>\n",
       "      <td>2018</td>\n",
       "      <td>Feminino</td>\n",
       "      <td>CE</td>\n",
       "      <td>212</td>\n",
       "      <td>3692378</td>\n",
       "      <td>5.741557</td>\n",
       "    </tr>\n",
       "  </tbody>\n",
       "</table>\n",
       "</div>"
      ],
      "text/plain": [
       "     ano     genero  uf  numero  pop_adulta     tx_pop\n",
       "0   2018   Feminino  SP    2445    18915105  12.926177\n",
       "67  2018  Masculino  DF     138     1115186  12.374617\n",
       "71  2018   Feminino  DF     136     1247134  10.905003\n",
       "93  2018   Feminino  MS     110     1074182  10.240350\n",
       "2   2018  Masculino  SP    1655    17569093   9.419951\n",
       "36  2018  Masculino  SC     229     2807204   8.157583\n",
       "47  2018   Feminino  SC     200     2891671   6.916416\n",
       "29  2018   Feminino  PE     260     3881393   6.698626\n",
       "25  2018   Feminino  PR     283     4658113   6.075422\n",
       "40  2018   Feminino  CE     212     3692378   5.741557"
      ]
     },
     "execution_count": 210,
     "metadata": {},
     "output_type": "execute_result"
    }
   ],
   "source": [
    "# novamente SP e DF aparecem com destaque\n",
    "tx_2018 = pop_lgbt_casamento.query('ano == 2018').sort_values(by = 'tx_pop', ascending=False)\n",
    "tx_2018.head(10)"
   ]
  },
  {
   "cell_type": "code",
   "execution_count": 189,
   "metadata": {
    "colab": {
     "base_uri": "https://localhost:8080/",
     "height": 363
    },
    "id": "ed_NFoDznMAp",
    "outputId": "a64f603b-9aa2-48c8-d591-aea3d5ff2937"
   },
   "outputs": [
    {
     "data": {
      "text/html": [
       "<div>\n",
       "<style scoped>\n",
       "    .dataframe tbody tr th:only-of-type {\n",
       "        vertical-align: middle;\n",
       "    }\n",
       "\n",
       "    .dataframe tbody tr th {\n",
       "        vertical-align: top;\n",
       "    }\n",
       "\n",
       "    .dataframe thead th {\n",
       "        text-align: right;\n",
       "    }\n",
       "</style>\n",
       "<table border=\"1\" class=\"dataframe\">\n",
       "  <thead>\n",
       "    <tr style=\"text-align: right;\">\n",
       "      <th></th>\n",
       "      <th>ano</th>\n",
       "      <th>genero</th>\n",
       "      <th>uf</th>\n",
       "      <th>numero</th>\n",
       "      <th>pop_adulta</th>\n",
       "      <th>tx_pop</th>\n",
       "    </tr>\n",
       "  </thead>\n",
       "  <tbody>\n",
       "    <tr>\n",
       "      <th>366</th>\n",
       "      <td>2018</td>\n",
       "      <td>Masculino</td>\n",
       "      <td>AP</td>\n",
       "      <td>1</td>\n",
       "      <td>292039</td>\n",
       "      <td>0.342420</td>\n",
       "    </tr>\n",
       "    <tr>\n",
       "      <th>365</th>\n",
       "      <td>2018</td>\n",
       "      <td>Masculino</td>\n",
       "      <td>RR</td>\n",
       "      <td>1</td>\n",
       "      <td>212649</td>\n",
       "      <td>0.470259</td>\n",
       "    </tr>\n",
       "    <tr>\n",
       "      <th>287</th>\n",
       "      <td>2018</td>\n",
       "      <td>Masculino</td>\n",
       "      <td>MA</td>\n",
       "      <td>12</td>\n",
       "      <td>2500973</td>\n",
       "      <td>0.479813</td>\n",
       "    </tr>\n",
       "    <tr>\n",
       "      <th>273</th>\n",
       "      <td>2018</td>\n",
       "      <td>Feminino</td>\n",
       "      <td>MA</td>\n",
       "      <td>14</td>\n",
       "      <td>2649907</td>\n",
       "      <td>0.528320</td>\n",
       "    </tr>\n",
       "    <tr>\n",
       "      <th>322</th>\n",
       "      <td>2018</td>\n",
       "      <td>Masculino</td>\n",
       "      <td>RO</td>\n",
       "      <td>6</td>\n",
       "      <td>677846</td>\n",
       "      <td>0.885157</td>\n",
       "    </tr>\n",
       "    <tr>\n",
       "      <th>266</th>\n",
       "      <td>2018</td>\n",
       "      <td>Masculino</td>\n",
       "      <td>MT</td>\n",
       "      <td>15</td>\n",
       "      <td>1330673</td>\n",
       "      <td>1.127249</td>\n",
       "    </tr>\n",
       "    <tr>\n",
       "      <th>318</th>\n",
       "      <td>2018</td>\n",
       "      <td>Masculino</td>\n",
       "      <td>TO</td>\n",
       "      <td>7</td>\n",
       "      <td>586706</td>\n",
       "      <td>1.193102</td>\n",
       "    </tr>\n",
       "    <tr>\n",
       "      <th>251</th>\n",
       "      <td>2018</td>\n",
       "      <td>Masculino</td>\n",
       "      <td>AM</td>\n",
       "      <td>18</td>\n",
       "      <td>1436331</td>\n",
       "      <td>1.253193</td>\n",
       "    </tr>\n",
       "    <tr>\n",
       "      <th>253</th>\n",
       "      <td>2018</td>\n",
       "      <td>Masculino</td>\n",
       "      <td>PI</td>\n",
       "      <td>17</td>\n",
       "      <td>1201187</td>\n",
       "      <td>1.415267</td>\n",
       "    </tr>\n",
       "    <tr>\n",
       "      <th>294</th>\n",
       "      <td>2018</td>\n",
       "      <td>Feminino</td>\n",
       "      <td>TO</td>\n",
       "      <td>11</td>\n",
       "      <td>581958</td>\n",
       "      <td>1.890171</td>\n",
       "    </tr>\n",
       "  </tbody>\n",
       "</table>\n",
       "</div>"
      ],
      "text/plain": [
       "      ano     genero  uf  numero  pop_adulta    tx_pop\n",
       "366  2018  Masculino  AP       1      292039  0.342420\n",
       "365  2018  Masculino  RR       1      212649  0.470259\n",
       "287  2018  Masculino  MA      12     2500973  0.479813\n",
       "273  2018   Feminino  MA      14     2649907  0.528320\n",
       "322  2018  Masculino  RO       6      677846  0.885157\n",
       "266  2018  Masculino  MT      15     1330673  1.127249\n",
       "318  2018  Masculino  TO       7      586706  1.193102\n",
       "251  2018  Masculino  AM      18     1436331  1.253193\n",
       "253  2018  Masculino  PI      17     1201187  1.415267\n",
       "294  2018   Feminino  TO      11      581958  1.890171"
      ]
     },
     "execution_count": 189,
     "metadata": {},
     "output_type": "execute_result"
    }
   ],
   "source": [
    "# desta vez, AP, RR, MA e RO têm taxas abaixo de um\n",
    "pop_lgbt_casamento.query('ano == 2018').sort_values(by = 'tx_pop', ascending=True).head(10)"
   ]
  },
  {
   "cell_type": "code",
   "execution_count": 211,
   "metadata": {
    "colab": {
     "base_uri": "https://localhost:8080/",
     "height": 380
    },
    "id": "Dksj9UeBnNhx",
    "outputId": "8d9b85f4-fb63-4022-98ea-5a0b3fab671f"
   },
   "outputs": [
    {
     "data": {
      "text/html": [
       "\n",
       "<div id=\"altair-viz-28fa12c7946a4734a50041723a97e5d3\"></div>\n",
       "<script type=\"text/javascript\">\n",
       "  (function(spec, embedOpt){\n",
       "    let outputDiv = document.currentScript.previousElementSibling;\n",
       "    if (outputDiv.id !== \"altair-viz-28fa12c7946a4734a50041723a97e5d3\") {\n",
       "      outputDiv = document.getElementById(\"altair-viz-28fa12c7946a4734a50041723a97e5d3\");\n",
       "    }\n",
       "    const paths = {\n",
       "      \"vega\": \"https://cdn.jsdelivr.net/npm//vega@5?noext\",\n",
       "      \"vega-lib\": \"https://cdn.jsdelivr.net/npm//vega-lib?noext\",\n",
       "      \"vega-lite\": \"https://cdn.jsdelivr.net/npm//vega-lite@4.8.1?noext\",\n",
       "      \"vega-embed\": \"https://cdn.jsdelivr.net/npm//vega-embed@6?noext\",\n",
       "    };\n",
       "\n",
       "    function loadScript(lib) {\n",
       "      return new Promise(function(resolve, reject) {\n",
       "        var s = document.createElement('script');\n",
       "        s.src = paths[lib];\n",
       "        s.async = true;\n",
       "        s.onload = () => resolve(paths[lib]);\n",
       "        s.onerror = () => reject(`Error loading script: ${paths[lib]}`);\n",
       "        document.getElementsByTagName(\"head\")[0].appendChild(s);\n",
       "      });\n",
       "    }\n",
       "\n",
       "    function showError(err) {\n",
       "      outputDiv.innerHTML = `<div class=\"error\" style=\"color:red;\">${err}</div>`;\n",
       "      throw err;\n",
       "    }\n",
       "\n",
       "    function displayChart(vegaEmbed) {\n",
       "      vegaEmbed(outputDiv, spec, embedOpt)\n",
       "        .catch(err => showError(`Javascript Error: ${err.message}<br>This usually means there's a typo in your chart specification. See the javascript console for the full traceback.`));\n",
       "    }\n",
       "\n",
       "    if(typeof define === \"function\" && define.amd) {\n",
       "      requirejs.config({paths});\n",
       "      require([\"vega-embed\"], displayChart, err => showError(`Error loading script: ${err.message}`));\n",
       "    } else if (typeof vegaEmbed === \"function\") {\n",
       "      displayChart(vegaEmbed);\n",
       "    } else {\n",
       "      loadScript(\"vega\")\n",
       "        .then(() => loadScript(\"vega-lite\"))\n",
       "        .then(() => loadScript(\"vega-embed\"))\n",
       "        .catch(showError)\n",
       "        .then(() => displayChart(vegaEmbed));\n",
       "    }\n",
       "  })({\"config\": {\"view\": {\"continuousWidth\": 400, \"continuousHeight\": 300}}, \"data\": {\"name\": \"data-0ea17c301f41ac62e2d433c4bb67d5e9\"}, \"mark\": \"point\", \"encoding\": {\"color\": {\"type\": \"nominal\", \"field\": \"genero\", \"title\": \"G\\u00eanero\"}, \"tooltip\": [{\"type\": \"nominal\", \"field\": \"uf\"}, {\"type\": \"nominal\", \"field\": \"genero\"}, {\"type\": \"quantitative\", \"field\": \"tx_pop\"}, {\"type\": \"quantitative\", \"field\": \"numero\"}, {\"type\": \"quantitative\", \"field\": \"pop_adulta\"}], \"x\": {\"type\": \"quantitative\", \"field\": \"tx_pop\", \"title\": \"N\\u00ba de casamentos\"}, \"y\": {\"type\": \"quantitative\", \"field\": \"numero\", \"title\": \"Taxa por 100 mil adultos\"}}, \"title\": \"2019: Taxa de casamentos LGBTs\", \"width\": 600, \"$schema\": \"https://vega.github.io/schema/vega-lite/v4.8.1.json\", \"datasets\": {\"data-0ea17c301f41ac62e2d433c4bb67d5e9\": [{\"ano\": 2018, \"genero\": \"Feminino\", \"uf\": \"SP\", \"numero\": 2445, \"pop_adulta\": 18915105, \"tx_pop\": 12.926177253575911}, {\"ano\": 2018, \"genero\": \"Masculino\", \"uf\": \"DF\", \"numero\": 138, \"pop_adulta\": 1115186, \"tx_pop\": 12.374617328409789}, {\"ano\": 2018, \"genero\": \"Feminino\", \"uf\": \"DF\", \"numero\": 136, \"pop_adulta\": 1247134, \"tx_pop\": 10.905002990857438}, {\"ano\": 2018, \"genero\": \"Feminino\", \"uf\": \"MS\", \"numero\": 110, \"pop_adulta\": 1074182, \"tx_pop\": 10.240350331694257}, {\"ano\": 2018, \"genero\": \"Masculino\", \"uf\": \"SP\", \"numero\": 1655, \"pop_adulta\": 17569093, \"tx_pop\": 9.419951274661702}, {\"ano\": 2018, \"genero\": \"Masculino\", \"uf\": \"SC\", \"numero\": 229, \"pop_adulta\": 2807204, \"tx_pop\": 8.15758313254042}, {\"ano\": 2018, \"genero\": \"Feminino\", \"uf\": \"SC\", \"numero\": 200, \"pop_adulta\": 2891671, \"tx_pop\": 6.916416148310094}, {\"ano\": 2018, \"genero\": \"Feminino\", \"uf\": \"PE\", \"numero\": 260, \"pop_adulta\": 3881393, \"tx_pop\": 6.6986259829911585}, {\"ano\": 2018, \"genero\": \"Feminino\", \"uf\": \"PR\", \"numero\": 283, \"pop_adulta\": 4658113, \"tx_pop\": 6.075421527987836}, {\"ano\": 2018, \"genero\": \"Feminino\", \"uf\": \"CE\", \"numero\": 212, \"pop_adulta\": 3692378, \"tx_pop\": 5.741557337845691}, {\"ano\": 2018, \"genero\": \"Feminino\", \"uf\": \"RS\", \"numero\": 269, \"pop_adulta\": 4791901, \"tx_pop\": 5.613638512147893}, {\"ano\": 2018, \"genero\": \"Feminino\", \"uf\": \"RJ\", \"numero\": 406, \"pop_adulta\": 7356971, \"tx_pop\": 5.518575511579425}, {\"ano\": 2018, \"genero\": \"Masculino\", \"uf\": \"MS\", \"numero\": 56, \"pop_adulta\": 1040242, \"tx_pop\": 5.3833627175215}, {\"ano\": 2018, \"genero\": \"Feminino\", \"uf\": \"RN\", \"numero\": 69, \"pop_adulta\": 1413582, \"tx_pop\": 4.881216653862316}, {\"ano\": 2018, \"genero\": \"Masculino\", \"uf\": \"RJ\", \"numero\": 317, \"pop_adulta\": 6528318, \"tx_pop\": 4.855768361774044}, {\"ano\": 2018, \"genero\": \"Masculino\", \"uf\": \"RS\", \"numero\": 211, \"pop_adulta\": 4441054, \"tx_pop\": 4.751124395244912}, {\"ano\": 2018, \"genero\": \"Feminino\", \"uf\": \"MG\", \"numero\": 412, \"pop_adulta\": 8708659, \"tx_pop\": 4.730923555509523}, {\"ano\": 2018, \"genero\": \"Masculino\", \"uf\": \"ES\", \"numero\": 66, \"pop_adulta\": 1527255, \"tx_pop\": 4.321478731449562}, {\"ano\": 2018, \"genero\": \"Feminino\", \"uf\": \"AL\", \"numero\": 56, \"pop_adulta\": 1326272, \"tx_pop\": 4.222361627177532}, {\"ano\": 2018, \"genero\": \"Feminino\", \"uf\": \"GO\", \"numero\": 116, \"pop_adulta\": 2750317, \"tx_pop\": 4.217695632903407}, {\"ano\": 2018, \"genero\": \"Masculino\", \"uf\": \"PR\", \"numero\": 175, \"pop_adulta\": 4382183, \"tx_pop\": 3.9934434504446754}, {\"ano\": 2018, \"genero\": \"Feminino\", \"uf\": \"ES\", \"numero\": 63, \"pop_adulta\": 1605867, \"tx_pop\": 3.9231144297753175}, {\"ano\": 2018, \"genero\": \"Masculino\", \"uf\": \"MG\", \"numero\": 325, \"pop_adulta\": 8294875, \"tx_pop\": 3.918081948190901}, {\"ano\": 2018, \"genero\": \"Feminino\", \"uf\": \"AC\", \"numero\": 12, \"pop_adulta\": 306399, \"tx_pop\": 3.9164618683481343}, {\"ano\": 2018, \"genero\": \"Feminino\", \"uf\": \"PB\", \"numero\": 64, \"pop_adulta\": 1639261, \"tx_pop\": 3.9041982942313638}, {\"ano\": 2018, \"genero\": \"Masculino\", \"uf\": \"GO\", \"numero\": 102, \"pop_adulta\": 2663424, \"tx_pop\": 3.829656862745098}, {\"ano\": 2018, \"genero\": \"Masculino\", \"uf\": \"PE\", \"numero\": 131, \"pop_adulta\": 3457694, \"tx_pop\": 3.788652205776451}, {\"ano\": 2018, \"genero\": \"Feminino\", \"uf\": \"PA\", \"numero\": 112, \"pop_adulta\": 3127128, \"tx_pop\": 3.5815611001532397}, {\"ano\": 2018, \"genero\": \"Masculino\", \"uf\": \"CE\", \"numero\": 118, \"pop_adulta\": 3386007, \"tx_pop\": 3.4849307753941443}, {\"ano\": 2018, \"genero\": \"Masculino\", \"uf\": \"RN\", \"numero\": 45, \"pop_adulta\": 1313055, \"tx_pop\": 3.4271222454504957}, {\"ano\": 2018, \"genero\": \"Masculino\", \"uf\": \"AL\", \"numero\": 39, \"pop_adulta\": 1178488, \"tx_pop\": 3.3093251691998558}, {\"ano\": 2018, \"genero\": \"Masculino\", \"uf\": \"PA\", \"numero\": 89, \"pop_adulta\": 3110933, \"tx_pop\": 2.8608780709838495}, {\"ano\": 2018, \"genero\": \"Feminino\", \"uf\": \"BA\", \"numero\": 170, \"pop_adulta\": 6012592, \"tx_pop\": 2.8273995641147778}, {\"ano\": 2018, \"genero\": \"Masculino\", \"uf\": \"PB\", \"numero\": 41, \"pop_adulta\": 1481312, \"tx_pop\": 2.7678166382234126}, {\"ano\": 2018, \"genero\": \"Feminino\", \"uf\": \"RO\", \"numero\": 18, \"pop_adulta\": 665384, \"tx_pop\": 2.705204814062256}, {\"ano\": 2018, \"genero\": \"Feminino\", \"uf\": \"SE\", \"numero\": 23, \"pop_adulta\": 920244, \"tx_pop\": 2.4993371323257745}, {\"ano\": 2018, \"genero\": \"Masculino\", \"uf\": \"SE\", \"numero\": 20, \"pop_adulta\": 833423, \"tx_pop\": 2.3997417877836345}, {\"ano\": 2018, \"genero\": \"Feminino\", \"uf\": \"MT\", \"numero\": 31, \"pop_adulta\": 1296012, \"tx_pop\": 2.3919531609275224}, {\"ano\": 2018, \"genero\": \"Feminino\", \"uf\": \"AP\", \"numero\": 7, \"pop_adulta\": 295980, \"tx_pop\": 2.365024663828637}, {\"ano\": 2018, \"genero\": \"Feminino\", \"uf\": \"AM\", \"numero\": 31, \"pop_adulta\": 1443746, \"tx_pop\": 2.1471920961166298}, {\"ano\": 2018, \"genero\": \"Feminino\", \"uf\": \"PI\", \"numero\": 28, \"pop_adulta\": 1311806, \"tx_pop\": 2.134461955502567}, {\"ano\": 2018, \"genero\": \"Masculino\", \"uf\": \"BA\", \"numero\": 118, \"pop_adulta\": 5551635, \"tx_pop\": 2.12549996532553}, {\"ano\": 2018, \"genero\": \"Masculino\", \"uf\": \"AC\", \"numero\": 6, \"pop_adulta\": 301758, \"tx_pop\": 1.9883482790845644}, {\"ano\": 2018, \"genero\": \"Feminino\", \"uf\": \"RR\", \"numero\": 4, \"pop_adulta\": 201985, \"tx_pop\": 1.9803450751293414}, {\"ano\": 2018, \"genero\": \"Feminino\", \"uf\": \"TO\", \"numero\": 11, \"pop_adulta\": 581958, \"tx_pop\": 1.890170768337234}, {\"ano\": 2018, \"genero\": \"Masculino\", \"uf\": \"PI\", \"numero\": 17, \"pop_adulta\": 1201187, \"tx_pop\": 1.4152667319909389}, {\"ano\": 2018, \"genero\": \"Masculino\", \"uf\": \"AM\", \"numero\": 18, \"pop_adulta\": 1436331, \"tx_pop\": 1.2531930314112834}, {\"ano\": 2018, \"genero\": \"Masculino\", \"uf\": \"TO\", \"numero\": 7, \"pop_adulta\": 586706, \"tx_pop\": 1.1931018261275665}, {\"ano\": 2018, \"genero\": \"Masculino\", \"uf\": \"MT\", \"numero\": 15, \"pop_adulta\": 1330673, \"tx_pop\": 1.1272491438542753}, {\"ano\": 2018, \"genero\": \"Masculino\", \"uf\": \"RO\", \"numero\": 6, \"pop_adulta\": 677846, \"tx_pop\": 0.8851568055280993}, {\"ano\": 2018, \"genero\": \"Feminino\", \"uf\": \"MA\", \"numero\": 14, \"pop_adulta\": 2649907, \"tx_pop\": 0.5283204278489774}, {\"ano\": 2018, \"genero\": \"Masculino\", \"uf\": \"MA\", \"numero\": 12, \"pop_adulta\": 2500973, \"tx_pop\": 0.47981325668049996}, {\"ano\": 2018, \"genero\": \"Masculino\", \"uf\": \"RR\", \"numero\": 1, \"pop_adulta\": 212649, \"tx_pop\": 0.47025850109805356}, {\"ano\": 2018, \"genero\": \"Masculino\", \"uf\": \"AP\", \"numero\": 1, \"pop_adulta\": 292039, \"tx_pop\": 0.3424200192440051}]}}, {\"mode\": \"vega-lite\"});\n",
       "</script>"
      ],
      "text/plain": [
       "alt.Chart(...)"
      ]
     },
     "execution_count": 211,
     "metadata": {},
     "output_type": "execute_result"
    }
   ],
   "source": [
    "# o gráfico abaixo se refere aos dois dataframes criados acima\n",
    "# o eixo x tem a taxa de casamentos LGBTs por 100 mil adultos, por gênero, naquele ano\n",
    "# o eixo y tem o número de casamentos LGBTs, por gênero, naquele ano\n",
    "alt.Chart(tx_2018).mark_point().encode(\n",
    "    x = alt.X('tx_pop:Q', title = 'Nº de casamentos'),\n",
    "    y = alt.Y('numero:Q', title = 'Taxa por 100 mil adultos'),\n",
    "    color = alt.Color('genero', title = 'Gênero'),\n",
    "    tooltip = ['uf', 'genero', 'tx_pop', 'numero', 'pop_adulta']\n",
    ").properties(title = '2019: Taxa de casamentos LGBTs', width=600)"
   ]
  },
  {
   "cell_type": "markdown",
   "metadata": {
    "id": "-ZbU4mCRqosr"
   },
   "source": [
    "### Em um mapa do Brasil, como ficam as taxas de casamentos LGBTS por 100 mil habitantes adultos?"
   ]
  },
  {
   "cell_type": "code",
   "execution_count": 214,
   "metadata": {
    "colab": {
     "base_uri": "https://localhost:8080/",
     "height": 206
    },
    "id": "lQi1ORqum2f2",
    "outputId": "c86b7af3-6b8e-4a10-e4fe-d0846f142261"
   },
   "outputs": [
    {
     "data": {
      "text/html": [
       "<div>\n",
       "<style scoped>\n",
       "    .dataframe tbody tr th:only-of-type {\n",
       "        vertical-align: middle;\n",
       "    }\n",
       "\n",
       "    .dataframe tbody tr th {\n",
       "        vertical-align: top;\n",
       "    }\n",
       "\n",
       "    .dataframe thead th {\n",
       "        text-align: right;\n",
       "    }\n",
       "</style>\n",
       "<table border=\"1\" class=\"dataframe\">\n",
       "  <thead>\n",
       "    <tr style=\"text-align: right;\">\n",
       "      <th></th>\n",
       "      <th>ano</th>\n",
       "      <th>uf</th>\n",
       "      <th>numero</th>\n",
       "      <th>tx_pop</th>\n",
       "    </tr>\n",
       "  </thead>\n",
       "  <tbody>\n",
       "    <tr>\n",
       "      <th>0</th>\n",
       "      <td>2013</td>\n",
       "      <td>AC</td>\n",
       "      <td>0</td>\n",
       "      <td>0.000000</td>\n",
       "    </tr>\n",
       "    <tr>\n",
       "      <th>1</th>\n",
       "      <td>2013</td>\n",
       "      <td>AL</td>\n",
       "      <td>17</td>\n",
       "      <td>1.404225</td>\n",
       "    </tr>\n",
       "    <tr>\n",
       "      <th>2</th>\n",
       "      <td>2013</td>\n",
       "      <td>AM</td>\n",
       "      <td>7</td>\n",
       "      <td>0.547217</td>\n",
       "    </tr>\n",
       "    <tr>\n",
       "      <th>3</th>\n",
       "      <td>2013</td>\n",
       "      <td>AP</td>\n",
       "      <td>6</td>\n",
       "      <td>2.380704</td>\n",
       "    </tr>\n",
       "    <tr>\n",
       "      <th>4</th>\n",
       "      <td>2013</td>\n",
       "      <td>BA</td>\n",
       "      <td>99</td>\n",
       "      <td>1.809937</td>\n",
       "    </tr>\n",
       "  </tbody>\n",
       "</table>\n",
       "</div>"
      ],
      "text/plain": [
       "    ano  uf  numero    tx_pop\n",
       "0  2013  AC       0  0.000000\n",
       "1  2013  AL      17  1.404225\n",
       "2  2013  AM       7  0.547217\n",
       "3  2013  AP       6  2.380704\n",
       "4  2013  BA      99  1.809937"
      ]
     },
     "execution_count": 214,
     "metadata": {},
     "output_type": "execute_result"
    }
   ],
   "source": [
    "tx_pop_lgbt_casamento = pop_lgbt_casamento.groupby(['ano', 'uf']).agg({'numero': sum,'tx_pop': sum}).reset_index()\n",
    "tx_pop_lgbt_casamento.head()"
   ]
  },
  {
   "cell_type": "code",
   "execution_count": 215,
   "metadata": {
    "colab": {
     "base_uri": "https://localhost:8080/"
    },
    "id": "zk7S_Jy7q0A4",
    "outputId": "dfaf1b03-32fc-41d3-901e-0f325b4fcb62"
   },
   "outputs": [
    {
     "name": "stdout",
     "output_type": "stream",
     "text": [
      " --------------------------- \n",
      "         Bem-vindo/a! \n",
      " ---------------------------\n",
      "Escolha um ano de 2013 a 2019: \n",
      "2017\n",
      " --------------------------- \n",
      "      Já vamos calcular! \n",
      " ---------------------------\n"
     ]
    }
   ],
   "source": [
    "print(\" --------------------------- \\n         Bem-vindo/a! \\n ---------------------------\")\n",
    "ano_user = int(input(\"Escolha um ano de 2013 a 2019: \\n\"))\n",
    "#print(uf_user)\n",
    "print(\" --------------------------- \\n      Já vamos calcular! \\n ---------------------------\")"
   ]
  },
  {
   "cell_type": "code",
   "execution_count": 217,
   "metadata": {
    "colab": {
     "base_uri": "https://localhost:8080/",
     "height": 206
    },
    "id": "2ile0iGhq1iC",
    "outputId": "81068bbc-9465-42d5-e912-4b5a79fc5843"
   },
   "outputs": [
    {
     "data": {
      "text/html": [
       "<div>\n",
       "<style scoped>\n",
       "    .dataframe tbody tr th:only-of-type {\n",
       "        vertical-align: middle;\n",
       "    }\n",
       "\n",
       "    .dataframe tbody tr th {\n",
       "        vertical-align: top;\n",
       "    }\n",
       "\n",
       "    .dataframe thead th {\n",
       "        text-align: right;\n",
       "    }\n",
       "</style>\n",
       "<table border=\"1\" class=\"dataframe\">\n",
       "  <thead>\n",
       "    <tr style=\"text-align: right;\">\n",
       "      <th></th>\n",
       "      <th>ano</th>\n",
       "      <th>uf</th>\n",
       "      <th>numero</th>\n",
       "      <th>tx_pop</th>\n",
       "    </tr>\n",
       "  </thead>\n",
       "  <tbody>\n",
       "    <tr>\n",
       "      <th>108</th>\n",
       "      <td>2017</td>\n",
       "      <td>AC</td>\n",
       "      <td>19</td>\n",
       "      <td>6.373845</td>\n",
       "    </tr>\n",
       "    <tr>\n",
       "      <th>109</th>\n",
       "      <td>2017</td>\n",
       "      <td>AL</td>\n",
       "      <td>44</td>\n",
       "      <td>3.454173</td>\n",
       "    </tr>\n",
       "    <tr>\n",
       "      <th>110</th>\n",
       "      <td>2017</td>\n",
       "      <td>AM</td>\n",
       "      <td>35</td>\n",
       "      <td>2.481192</td>\n",
       "    </tr>\n",
       "    <tr>\n",
       "      <th>111</th>\n",
       "      <td>2017</td>\n",
       "      <td>AP</td>\n",
       "      <td>10</td>\n",
       "      <td>3.492442</td>\n",
       "    </tr>\n",
       "    <tr>\n",
       "      <th>112</th>\n",
       "      <td>2017</td>\n",
       "      <td>BA</td>\n",
       "      <td>140</td>\n",
       "      <td>2.432439</td>\n",
       "    </tr>\n",
       "  </tbody>\n",
       "</table>\n",
       "</div>"
      ],
      "text/plain": [
       "      ano  uf  numero    tx_pop\n",
       "108  2017  AC      19  6.373845\n",
       "109  2017  AL      44  3.454173\n",
       "110  2017  AM      35  2.481192\n",
       "111  2017  AP      10  3.492442\n",
       "112  2017  BA     140  2.432439"
      ]
     },
     "execution_count": 217,
     "metadata": {},
     "output_type": "execute_result"
    }
   ],
   "source": [
    "ano_user_tx_pop_lgbt_casamento = tx_pop_lgbt_casamento.query('ano == @ano_user', engine='python')\n",
    "ano_user_tx_pop_lgbt_casamento.head()"
   ]
  },
  {
   "cell_type": "code",
   "execution_count": null,
   "metadata": {
    "id": "6s2HTSsEq57h"
   },
   "outputs": [],
   "source": [
    "# referencia https://rodrigodutcosky.medium.com/mapas-coropl%C3%A9ticos-com-os-estados-do-brasil-em-python-b9b48c6db585\n",
    "# baixe o arquivo abaixo no link https://www.ibge.gov.br/geociencias/cartas-e-mapas/bases-cartograficas-continuas/15759-brasil.html?=&t=downloads\n",
    "# clique em 'bcim' > 'versao2016' > 'geopackage' > 'bcim_2016_21_11_2018.gpkg'\n",
    "info_ufs = gpd.read_file('bcim_2016_21_11_2018.gpkg', layer = 'lim_unidade_federacao_a')\n",
    "info_ufs.columns"
   ]
  },
  {
   "cell_type": "code",
   "execution_count": null,
   "metadata": {
    "id": "HeuuYWEIq49R"
   },
   "outputs": [],
   "source": [
    "info_ufs.rename({'sigla':'uf'}, axis = 1, inplace = True)\n",
    "mapa_br = info_ufs.merge(ano_user_tx_pop_lgbt_casamento, on = 'uf', how = 'left')\n",
    "#mapa_br[['uf', 'ano', 'numero', 'tx_pop', 'geometry']].head()"
   ]
  },
  {
   "cell_type": "code",
   "execution_count": null,
   "metadata": {
    "id": "ClYnRpWtqwy5"
   },
   "outputs": [],
   "source": [
    "%matplotlib inline\n",
    "\n",
    "mapa_br.plot(column = 'tx_pop',\n",
    "             cmap = 'Blues',\n",
    "             figsize = (10, 6),\n",
    "             legend = True,\n",
    "             edgecolor = 'black')"
   ]
  },
  {
   "cell_type": "markdown",
   "metadata": {
    "id": "jPTxMYo-rIA-"
   },
   "source": [
    "### Considerando a UF e o ano informados pelo usuário, quais são as estatísticas básicas dessa UF e desse ano quanto ao casamento LGBT?"
   ]
  },
  {
   "cell_type": "code",
   "execution_count": null,
   "metadata": {
    "id": "mnWc8girskHM"
   },
   "outputs": [],
   "source": [
    "sigla_uf_lgbt_casamento = lgbt_casamento.merge(sigla_uf, how = 'left', left_on = 'uf', right_on = 'nome')"
   ]
  },
  {
   "cell_type": "code",
   "execution_count": 218,
   "metadata": {
    "colab": {
     "base_uri": "https://localhost:8080/"
    },
    "id": "k-_1PVFCsMwW",
    "outputId": "aaef3be6-773c-4eae-c8dc-57e3518be003"
   },
   "outputs": [
    {
     "name": "stdout",
     "output_type": "stream",
     "text": [
      " --------------------------- \n",
      "         Bem-vindo/a! \n",
      " ---------------------------\n",
      "Escolha um ano de 2013 a 2019: \n",
      "2019\n",
      "Escolha uma UF. Por exemplo, AC, AL, SP, RJ... \n",
      "rj\n",
      " --------------------------- \n",
      "      Já vamos calcular! \n",
      " ---------------------------\n"
     ]
    }
   ],
   "source": [
    "print(\" --------------------------- \\n         Bem-vindo/a! \\n ---------------------------\")\n",
    "ano_user = int(input(\"Escolha um ano de 2013 a 2019: \\n\"))\n",
    "uf_user = input(\"Escolha uma UF. Por exemplo, AC, AL, SP, RJ... \\n\")\n",
    "uf_user = uf_user.upper().strip()\n",
    "#print(uf_user)\n",
    "print(\" --------------------------- \\n      Já vamos calcular! \\n ---------------------------\")"
   ]
  },
  {
   "cell_type": "code",
   "execution_count": 220,
   "metadata": {
    "colab": {
     "base_uri": "https://localhost:8080/",
     "height": 422
    },
    "id": "pP4J_WSvsNe_",
    "outputId": "4875641c-e6e0-40c8-90fc-0c23eda7220c"
   },
   "outputs": [
    {
     "data": {
      "text/html": [
       "\n",
       "<div id=\"altair-viz-95b80f022e554faabe51a801a30af672\"></div>\n",
       "<script type=\"text/javascript\">\n",
       "  (function(spec, embedOpt){\n",
       "    let outputDiv = document.currentScript.previousElementSibling;\n",
       "    if (outputDiv.id !== \"altair-viz-95b80f022e554faabe51a801a30af672\") {\n",
       "      outputDiv = document.getElementById(\"altair-viz-95b80f022e554faabe51a801a30af672\");\n",
       "    }\n",
       "    const paths = {\n",
       "      \"vega\": \"https://cdn.jsdelivr.net/npm//vega@5?noext\",\n",
       "      \"vega-lib\": \"https://cdn.jsdelivr.net/npm//vega-lib?noext\",\n",
       "      \"vega-lite\": \"https://cdn.jsdelivr.net/npm//vega-lite@4.8.1?noext\",\n",
       "      \"vega-embed\": \"https://cdn.jsdelivr.net/npm//vega-embed@6?noext\",\n",
       "    };\n",
       "\n",
       "    function loadScript(lib) {\n",
       "      return new Promise(function(resolve, reject) {\n",
       "        var s = document.createElement('script');\n",
       "        s.src = paths[lib];\n",
       "        s.async = true;\n",
       "        s.onload = () => resolve(paths[lib]);\n",
       "        s.onerror = () => reject(`Error loading script: ${paths[lib]}`);\n",
       "        document.getElementsByTagName(\"head\")[0].appendChild(s);\n",
       "      });\n",
       "    }\n",
       "\n",
       "    function showError(err) {\n",
       "      outputDiv.innerHTML = `<div class=\"error\" style=\"color:red;\">${err}</div>`;\n",
       "      throw err;\n",
       "    }\n",
       "\n",
       "    function displayChart(vegaEmbed) {\n",
       "      vegaEmbed(outputDiv, spec, embedOpt)\n",
       "        .catch(err => showError(`Javascript Error: ${err.message}<br>This usually means there's a typo in your chart specification. See the javascript console for the full traceback.`));\n",
       "    }\n",
       "\n",
       "    if(typeof define === \"function\" && define.amd) {\n",
       "      requirejs.config({paths});\n",
       "      require([\"vega-embed\"], displayChart, err => showError(`Error loading script: ${err.message}`));\n",
       "    } else if (typeof vegaEmbed === \"function\") {\n",
       "      displayChart(vegaEmbed);\n",
       "    } else {\n",
       "      loadScript(\"vega\")\n",
       "        .then(() => loadScript(\"vega-lite\"))\n",
       "        .then(() => loadScript(\"vega-embed\"))\n",
       "        .catch(showError)\n",
       "        .then(() => displayChart(vegaEmbed));\n",
       "    }\n",
       "  })({\"config\": {\"view\": {\"continuousWidth\": 400, \"continuousHeight\": 300}}, \"data\": {\"name\": \"data-84787d6b9e2b888f4a90e8479a3f41b9\"}, \"mark\": {\"type\": \"line\", \"point\": true}, \"encoding\": {\"color\": {\"type\": \"nominal\", \"field\": \"genero\"}, \"tooltip\": [{\"type\": \"nominal\", \"field\": \"mes\"}, {\"type\": \"quantitative\", \"field\": \"ano\"}, {\"type\": \"nominal\", \"field\": \"genero\"}, {\"type\": \"quantitative\", \"field\": \"numero\"}], \"x\": {\"type\": \"nominal\", \"field\": \"mes\", \"sort\": [\"Janeiro\", \"Fevereiro\", \"Mar\\u00e7o\"], \"title\": \"M\\u00eas\"}, \"y\": {\"type\": \"quantitative\", \"field\": \"numero\", \"title\": \"N\\u00famero\"}}, \"selection\": {\"selector028\": {\"type\": \"interval\", \"bind\": \"scales\", \"encodings\": [\"x\", \"y\"]}}, \"title\": \"RJ: Casamento LGBTs em 2019\", \"$schema\": \"https://vega.github.io/schema/vega-lite/v4.8.1.json\", \"datasets\": {\"data-84787d6b9e2b888f4a90e8479a3f41b9\": [{\"ano\": 2019, \"genero\": \"Masculino\", \"mes\": \"Janeiro\", \"numero\": 59, \"uf\": \"RJ\", \"nome_uf\": \"Rio de Janeiro\"}, {\"ano\": 2019, \"genero\": \"Masculino\", \"mes\": \"Fevereiro\", \"numero\": 52, \"uf\": \"RJ\", \"nome_uf\": \"Rio de Janeiro\"}, {\"ano\": 2019, \"genero\": \"Masculino\", \"mes\": \"Mar\\u00e7o\", \"numero\": 44, \"uf\": \"RJ\", \"nome_uf\": \"Rio de Janeiro\"}, {\"ano\": 2019, \"genero\": \"Masculino\", \"mes\": \"Abril\", \"numero\": 30, \"uf\": \"RJ\", \"nome_uf\": \"Rio de Janeiro\"}, {\"ano\": 2019, \"genero\": \"Masculino\", \"mes\": \"Maio\", \"numero\": 35, \"uf\": \"RJ\", \"nome_uf\": \"Rio de Janeiro\"}, {\"ano\": 2019, \"genero\": \"Masculino\", \"mes\": \"Junho\", \"numero\": 28, \"uf\": \"RJ\", \"nome_uf\": \"Rio de Janeiro\"}, {\"ano\": 2019, \"genero\": \"Masculino\", \"mes\": \"Julho\", \"numero\": 24, \"uf\": \"RJ\", \"nome_uf\": \"Rio de Janeiro\"}, {\"ano\": 2019, \"genero\": \"Masculino\", \"mes\": \"Agosto\", \"numero\": 29, \"uf\": \"RJ\", \"nome_uf\": \"Rio de Janeiro\"}, {\"ano\": 2019, \"genero\": \"Masculino\", \"mes\": \"Setembro\", \"numero\": 30, \"uf\": \"RJ\", \"nome_uf\": \"Rio de Janeiro\"}, {\"ano\": 2019, \"genero\": \"Masculino\", \"mes\": \"Outubro\", \"numero\": 27, \"uf\": \"RJ\", \"nome_uf\": \"Rio de Janeiro\"}, {\"ano\": 2019, \"genero\": \"Masculino\", \"mes\": \"Novembro\", \"numero\": 25, \"uf\": \"RJ\", \"nome_uf\": \"Rio de Janeiro\"}, {\"ano\": 2019, \"genero\": \"Masculino\", \"mes\": \"Dezembro\", \"numero\": 27, \"uf\": \"RJ\", \"nome_uf\": \"Rio de Janeiro\"}, {\"ano\": 2019, \"genero\": \"Feminino\", \"mes\": \"Janeiro\", \"numero\": 76, \"uf\": \"RJ\", \"nome_uf\": \"Rio de Janeiro\"}, {\"ano\": 2019, \"genero\": \"Feminino\", \"mes\": \"Fevereiro\", \"numero\": 82, \"uf\": \"RJ\", \"nome_uf\": \"Rio de Janeiro\"}, {\"ano\": 2019, \"genero\": \"Feminino\", \"mes\": \"Mar\\u00e7o\", \"numero\": 60, \"uf\": \"RJ\", \"nome_uf\": \"Rio de Janeiro\"}, {\"ano\": 2019, \"genero\": \"Feminino\", \"mes\": \"Abril\", \"numero\": 55, \"uf\": \"RJ\", \"nome_uf\": \"Rio de Janeiro\"}, {\"ano\": 2019, \"genero\": \"Feminino\", \"mes\": \"Maio\", \"numero\": 53, \"uf\": \"RJ\", \"nome_uf\": \"Rio de Janeiro\"}, {\"ano\": 2019, \"genero\": \"Feminino\", \"mes\": \"Junho\", \"numero\": 33, \"uf\": \"RJ\", \"nome_uf\": \"Rio de Janeiro\"}, {\"ano\": 2019, \"genero\": \"Feminino\", \"mes\": \"Julho\", \"numero\": 26, \"uf\": \"RJ\", \"nome_uf\": \"Rio de Janeiro\"}, {\"ano\": 2019, \"genero\": \"Feminino\", \"mes\": \"Agosto\", \"numero\": 25, \"uf\": \"RJ\", \"nome_uf\": \"Rio de Janeiro\"}, {\"ano\": 2019, \"genero\": \"Feminino\", \"mes\": \"Setembro\", \"numero\": 30, \"uf\": \"RJ\", \"nome_uf\": \"Rio de Janeiro\"}, {\"ano\": 2019, \"genero\": \"Feminino\", \"mes\": \"Outubro\", \"numero\": 43, \"uf\": \"RJ\", \"nome_uf\": \"Rio de Janeiro\"}, {\"ano\": 2019, \"genero\": \"Feminino\", \"mes\": \"Novembro\", \"numero\": 40, \"uf\": \"RJ\", \"nome_uf\": \"Rio de Janeiro\"}, {\"ano\": 2019, \"genero\": \"Feminino\", \"mes\": \"Dezembro\", \"numero\": 45, \"uf\": \"RJ\", \"nome_uf\": \"Rio de Janeiro\"}]}}, {\"mode\": \"vega-lite\"});\n",
       "</script>"
      ],
      "text/plain": [
       "alt.Chart(...)"
      ]
     },
     "execution_count": 220,
     "metadata": {},
     "output_type": "execute_result"
    }
   ],
   "source": [
    "# filtro pela UF e pelo ano informados pelo usuário\n",
    "# mais gráfico\n",
    "import altair as alt\n",
    "alt.Chart(sigla_uf_lgbt_casamento.query('uf == @uf_user & ano == @ano_user', engine='python')).mark_line(point=True).encode(\n",
    "    x = alt.X('mes', title = 'Mês', sort=['Janeiro', 'Fevereiro', 'Março']),\n",
    "    y = alt.Y('numero', title='Número'),\n",
    "    color = 'genero',\n",
    "    tooltip = ['mes', 'ano', 'genero', 'numero']\n",
    ").properties(\n",
    "    title = f'{uf_user}: Casamento LGBTs em {ano_user}'\n",
    ").interactive()"
   ]
  },
  {
   "cell_type": "code",
   "execution_count": 221,
   "metadata": {
    "colab": {
     "base_uri": "https://localhost:8080/",
     "height": 412
    },
    "id": "9gunNoiPsyEc",
    "outputId": "6e929235-5acf-4046-ce0a-ff0f03e56b3a"
   },
   "outputs": [
    {
     "data": {
      "text/html": [
       "\n",
       "<div id=\"altair-viz-01828cf39cce45cc951b6bb2c33558fb\"></div>\n",
       "<script type=\"text/javascript\">\n",
       "  (function(spec, embedOpt){\n",
       "    let outputDiv = document.currentScript.previousElementSibling;\n",
       "    if (outputDiv.id !== \"altair-viz-01828cf39cce45cc951b6bb2c33558fb\") {\n",
       "      outputDiv = document.getElementById(\"altair-viz-01828cf39cce45cc951b6bb2c33558fb\");\n",
       "    }\n",
       "    const paths = {\n",
       "      \"vega\": \"https://cdn.jsdelivr.net/npm//vega@5?noext\",\n",
       "      \"vega-lib\": \"https://cdn.jsdelivr.net/npm//vega-lib?noext\",\n",
       "      \"vega-lite\": \"https://cdn.jsdelivr.net/npm//vega-lite@4.8.1?noext\",\n",
       "      \"vega-embed\": \"https://cdn.jsdelivr.net/npm//vega-embed@6?noext\",\n",
       "    };\n",
       "\n",
       "    function loadScript(lib) {\n",
       "      return new Promise(function(resolve, reject) {\n",
       "        var s = document.createElement('script');\n",
       "        s.src = paths[lib];\n",
       "        s.async = true;\n",
       "        s.onload = () => resolve(paths[lib]);\n",
       "        s.onerror = () => reject(`Error loading script: ${paths[lib]}`);\n",
       "        document.getElementsByTagName(\"head\")[0].appendChild(s);\n",
       "      });\n",
       "    }\n",
       "\n",
       "    function showError(err) {\n",
       "      outputDiv.innerHTML = `<div class=\"error\" style=\"color:red;\">${err}</div>`;\n",
       "      throw err;\n",
       "    }\n",
       "\n",
       "    function displayChart(vegaEmbed) {\n",
       "      vegaEmbed(outputDiv, spec, embedOpt)\n",
       "        .catch(err => showError(`Javascript Error: ${err.message}<br>This usually means there's a typo in your chart specification. See the javascript console for the full traceback.`));\n",
       "    }\n",
       "\n",
       "    if(typeof define === \"function\" && define.amd) {\n",
       "      requirejs.config({paths});\n",
       "      require([\"vega-embed\"], displayChart, err => showError(`Error loading script: ${err.message}`));\n",
       "    } else if (typeof vegaEmbed === \"function\") {\n",
       "      displayChart(vegaEmbed);\n",
       "    } else {\n",
       "      loadScript(\"vega\")\n",
       "        .then(() => loadScript(\"vega-lite\"))\n",
       "        .then(() => loadScript(\"vega-embed\"))\n",
       "        .catch(showError)\n",
       "        .then(() => displayChart(vegaEmbed));\n",
       "    }\n",
       "  })({\"config\": {\"view\": {\"continuousWidth\": 400, \"continuousHeight\": 300}}, \"data\": {\"name\": \"data-36bf0118d1d0c34ef78bc96c242686a7\"}, \"mark\": {\"type\": \"boxplot\", \"size\": 10}, \"encoding\": {\"color\": {\"type\": \"nominal\", \"field\": \"genero\"}, \"tooltip\": [{\"type\": \"nominal\", \"field\": \"mes\"}, {\"type\": \"quantitative\", \"field\": \"ano\"}, {\"type\": \"nominal\", \"field\": \"genero\"}, {\"type\": \"quantitative\", \"field\": \"numero\"}], \"x\": {\"type\": \"ordinal\", \"field\": \"ano\", \"title\": \"Ano\"}, \"y\": {\"type\": \"quantitative\", \"field\": \"numero\", \"title\": \"N\\u00famero\"}}, \"height\": 300, \"selection\": {\"selector029\": {\"type\": \"interval\", \"bind\": \"scales\", \"encodings\": [\"x\", \"y\"]}}, \"title\": {\"text\": [\"RJ: Casamento LGBTs\"], \"subtitle\": [\"Mulheres vs. Homens\"]}, \"width\": 600, \"$schema\": \"https://vega.github.io/schema/vega-lite/v4.8.1.json\", \"datasets\": {\"data-36bf0118d1d0c34ef78bc96c242686a7\": [{\"ano\": 2014, \"genero\": \"Masculino\", \"mes\": \"Janeiro\", \"numero\": 17, \"uf\": \"RJ\", \"nome_uf\": \"Rio de Janeiro\"}, {\"ano\": 2014, \"genero\": \"Masculino\", \"mes\": \"Fevereiro\", \"numero\": 9, \"uf\": \"RJ\", \"nome_uf\": \"Rio de Janeiro\"}, {\"ano\": 2014, \"genero\": \"Masculino\", \"mes\": \"Mar\\u00e7o\", \"numero\": 10, \"uf\": \"RJ\", \"nome_uf\": \"Rio de Janeiro\"}, {\"ano\": 2014, \"genero\": \"Masculino\", \"mes\": \"Abril\", \"numero\": 14, \"uf\": \"RJ\", \"nome_uf\": \"Rio de Janeiro\"}, {\"ano\": 2014, \"genero\": \"Masculino\", \"mes\": \"Maio\", \"numero\": 9, \"uf\": \"RJ\", \"nome_uf\": \"Rio de Janeiro\"}, {\"ano\": 2014, \"genero\": \"Masculino\", \"mes\": \"Junho\", \"numero\": 9, \"uf\": \"RJ\", \"nome_uf\": \"Rio de Janeiro\"}, {\"ano\": 2014, \"genero\": \"Masculino\", \"mes\": \"Julho\", \"numero\": 23, \"uf\": \"RJ\", \"nome_uf\": \"Rio de Janeiro\"}, {\"ano\": 2014, \"genero\": \"Masculino\", \"mes\": \"Agosto\", \"numero\": 17, \"uf\": \"RJ\", \"nome_uf\": \"Rio de Janeiro\"}, {\"ano\": 2014, \"genero\": \"Masculino\", \"mes\": \"Setembro\", \"numero\": 25, \"uf\": \"RJ\", \"nome_uf\": \"Rio de Janeiro\"}, {\"ano\": 2014, \"genero\": \"Masculino\", \"mes\": \"Outubro\", \"numero\": 45, \"uf\": \"RJ\", \"nome_uf\": \"Rio de Janeiro\"}, {\"ano\": 2014, \"genero\": \"Masculino\", \"mes\": \"Novembro\", \"numero\": 45, \"uf\": \"RJ\", \"nome_uf\": \"Rio de Janeiro\"}, {\"ano\": 2014, \"genero\": \"Masculino\", \"mes\": \"Dezembro\", \"numero\": 18, \"uf\": \"RJ\", \"nome_uf\": \"Rio de Janeiro\"}, {\"ano\": 2014, \"genero\": \"Feminino\", \"mes\": \"Janeiro\", \"numero\": 21, \"uf\": \"RJ\", \"nome_uf\": \"Rio de Janeiro\"}, {\"ano\": 2014, \"genero\": \"Feminino\", \"mes\": \"Fevereiro\", \"numero\": 16, \"uf\": \"RJ\", \"nome_uf\": \"Rio de Janeiro\"}, {\"ano\": 2014, \"genero\": \"Feminino\", \"mes\": \"Mar\\u00e7o\", \"numero\": 10, \"uf\": \"RJ\", \"nome_uf\": \"Rio de Janeiro\"}, {\"ano\": 2014, \"genero\": \"Feminino\", \"mes\": \"Abril\", \"numero\": 5, \"uf\": \"RJ\", \"nome_uf\": \"Rio de Janeiro\"}, {\"ano\": 2014, \"genero\": \"Feminino\", \"mes\": \"Maio\", \"numero\": 25, \"uf\": \"RJ\", \"nome_uf\": \"Rio de Janeiro\"}, {\"ano\": 2014, \"genero\": \"Feminino\", \"mes\": \"Junho\", \"numero\": 7, \"uf\": \"RJ\", \"nome_uf\": \"Rio de Janeiro\"}, {\"ano\": 2014, \"genero\": \"Feminino\", \"mes\": \"Julho\", \"numero\": 14, \"uf\": \"RJ\", \"nome_uf\": \"Rio de Janeiro\"}, {\"ano\": 2014, \"genero\": \"Feminino\", \"mes\": \"Agosto\", \"numero\": 15, \"uf\": \"RJ\", \"nome_uf\": \"Rio de Janeiro\"}, {\"ano\": 2014, \"genero\": \"Feminino\", \"mes\": \"Setembro\", \"numero\": 26, \"uf\": \"RJ\", \"nome_uf\": \"Rio de Janeiro\"}, {\"ano\": 2014, \"genero\": \"Feminino\", \"mes\": \"Outubro\", \"numero\": 42, \"uf\": \"RJ\", \"nome_uf\": \"Rio de Janeiro\"}, {\"ano\": 2014, \"genero\": \"Feminino\", \"mes\": \"Novembro\", \"numero\": 72, \"uf\": \"RJ\", \"nome_uf\": \"Rio de Janeiro\"}, {\"ano\": 2014, \"genero\": \"Feminino\", \"mes\": \"Dezembro\", \"numero\": 6, \"uf\": \"RJ\", \"nome_uf\": \"Rio de Janeiro\"}, {\"ano\": 2013, \"genero\": \"Masculino\", \"mes\": \"Janeiro\", \"numero\": 1, \"uf\": \"RJ\", \"nome_uf\": \"Rio de Janeiro\"}, {\"ano\": 2013, \"genero\": \"Masculino\", \"mes\": \"Fevereiro\", \"numero\": 2, \"uf\": \"RJ\", \"nome_uf\": \"Rio de Janeiro\"}, {\"ano\": 2013, \"genero\": \"Masculino\", \"mes\": \"Mar\\u00e7o\", \"numero\": 1, \"uf\": \"RJ\", \"nome_uf\": \"Rio de Janeiro\"}, {\"ano\": 2013, \"genero\": \"Masculino\", \"mes\": \"Abril\", \"numero\": 2, \"uf\": \"RJ\", \"nome_uf\": \"Rio de Janeiro\"}, {\"ano\": 2013, \"genero\": \"Masculino\", \"mes\": \"Maio\", \"numero\": 1, \"uf\": \"RJ\", \"nome_uf\": \"Rio de Janeiro\"}, {\"ano\": 2013, \"genero\": \"Masculino\", \"mes\": \"Junho\", \"numero\": 5, \"uf\": \"RJ\", \"nome_uf\": \"Rio de Janeiro\"}, {\"ano\": 2013, \"genero\": \"Masculino\", \"mes\": \"Julho\", \"numero\": 14, \"uf\": \"RJ\", \"nome_uf\": \"Rio de Janeiro\"}, {\"ano\": 2013, \"genero\": \"Masculino\", \"mes\": \"Agosto\", \"numero\": 17, \"uf\": \"RJ\", \"nome_uf\": \"Rio de Janeiro\"}, {\"ano\": 2013, \"genero\": \"Masculino\", \"mes\": \"Setembro\", \"numero\": 21, \"uf\": \"RJ\", \"nome_uf\": \"Rio de Janeiro\"}, {\"ano\": 2013, \"genero\": \"Masculino\", \"mes\": \"Outubro\", \"numero\": 24, \"uf\": \"RJ\", \"nome_uf\": \"Rio de Janeiro\"}, {\"ano\": 2013, \"genero\": \"Masculino\", \"mes\": \"Novembro\", \"numero\": 10, \"uf\": \"RJ\", \"nome_uf\": \"Rio de Janeiro\"}, {\"ano\": 2013, \"genero\": \"Masculino\", \"mes\": \"Dezembro\", \"numero\": 14, \"uf\": \"RJ\", \"nome_uf\": \"Rio de Janeiro\"}, {\"ano\": 2013, \"genero\": \"Feminino\", \"mes\": \"Janeiro\", \"numero\": 0, \"uf\": \"RJ\", \"nome_uf\": \"Rio de Janeiro\"}, {\"ano\": 2013, \"genero\": \"Feminino\", \"mes\": \"Fevereiro\", \"numero\": 1, \"uf\": \"RJ\", \"nome_uf\": \"Rio de Janeiro\"}, {\"ano\": 2013, \"genero\": \"Feminino\", \"mes\": \"Mar\\u00e7o\", \"numero\": 0, \"uf\": \"RJ\", \"nome_uf\": \"Rio de Janeiro\"}, {\"ano\": 2013, \"genero\": \"Feminino\", \"mes\": \"Abril\", \"numero\": 0, \"uf\": \"RJ\", \"nome_uf\": \"Rio de Janeiro\"}, {\"ano\": 2013, \"genero\": \"Feminino\", \"mes\": \"Maio\", \"numero\": 2, \"uf\": \"RJ\", \"nome_uf\": \"Rio de Janeiro\"}, {\"ano\": 2013, \"genero\": \"Feminino\", \"mes\": \"Junho\", \"numero\": 6, \"uf\": \"RJ\", \"nome_uf\": \"Rio de Janeiro\"}, {\"ano\": 2013, \"genero\": \"Feminino\", \"mes\": \"Julho\", \"numero\": 9, \"uf\": \"RJ\", \"nome_uf\": \"Rio de Janeiro\"}, {\"ano\": 2013, \"genero\": \"Feminino\", \"mes\": \"Agosto\", \"numero\": 17, \"uf\": \"RJ\", \"nome_uf\": \"Rio de Janeiro\"}, {\"ano\": 2013, \"genero\": \"Feminino\", \"mes\": \"Setembro\", \"numero\": 13, \"uf\": \"RJ\", \"nome_uf\": \"Rio de Janeiro\"}, {\"ano\": 2013, \"genero\": \"Feminino\", \"mes\": \"Outubro\", \"numero\": 8, \"uf\": \"RJ\", \"nome_uf\": \"Rio de Janeiro\"}, {\"ano\": 2013, \"genero\": \"Feminino\", \"mes\": \"Novembro\", \"numero\": 17, \"uf\": \"RJ\", \"nome_uf\": \"Rio de Janeiro\"}, {\"ano\": 2013, \"genero\": \"Feminino\", \"mes\": \"Dezembro\", \"numero\": 26, \"uf\": \"RJ\", \"nome_uf\": \"Rio de Janeiro\"}, {\"ano\": 2015, \"genero\": \"Masculino\", \"mes\": \"Janeiro\", \"numero\": 11, \"uf\": \"RJ\", \"nome_uf\": \"Rio de Janeiro\"}, {\"ano\": 2015, \"genero\": \"Masculino\", \"mes\": \"Fevereiro\", \"numero\": 14, \"uf\": \"RJ\", \"nome_uf\": \"Rio de Janeiro\"}, {\"ano\": 2015, \"genero\": \"Masculino\", \"mes\": \"Mar\\u00e7o\", \"numero\": 18, \"uf\": \"RJ\", \"nome_uf\": \"Rio de Janeiro\"}, {\"ano\": 2015, \"genero\": \"Masculino\", \"mes\": \"Abril\", \"numero\": 23, \"uf\": \"RJ\", \"nome_uf\": \"Rio de Janeiro\"}, {\"ano\": 2015, \"genero\": \"Masculino\", \"mes\": \"Maio\", \"numero\": 16, \"uf\": \"RJ\", \"nome_uf\": \"Rio de Janeiro\"}, {\"ano\": 2015, \"genero\": \"Masculino\", \"mes\": \"Junho\", \"numero\": 23, \"uf\": \"RJ\", \"nome_uf\": \"Rio de Janeiro\"}, {\"ano\": 2015, \"genero\": \"Masculino\", \"mes\": \"Julho\", \"numero\": 20, \"uf\": \"RJ\", \"nome_uf\": \"Rio de Janeiro\"}, {\"ano\": 2015, \"genero\": \"Masculino\", \"mes\": \"Agosto\", \"numero\": 17, \"uf\": \"RJ\", \"nome_uf\": \"Rio de Janeiro\"}, {\"ano\": 2015, \"genero\": \"Masculino\", \"mes\": \"Setembro\", \"numero\": 26, \"uf\": \"RJ\", \"nome_uf\": \"Rio de Janeiro\"}, {\"ano\": 2015, \"genero\": \"Masculino\", \"mes\": \"Outubro\", \"numero\": 23, \"uf\": \"RJ\", \"nome_uf\": \"Rio de Janeiro\"}, {\"ano\": 2015, \"genero\": \"Masculino\", \"mes\": \"Novembro\", \"numero\": 32, \"uf\": \"RJ\", \"nome_uf\": \"Rio de Janeiro\"}, {\"ano\": 2015, \"genero\": \"Masculino\", \"mes\": \"Dezembro\", \"numero\": 52, \"uf\": \"RJ\", \"nome_uf\": \"Rio de Janeiro\"}, {\"ano\": 2016, \"genero\": \"Masculino\", \"mes\": \"Janeiro\", \"numero\": 14, \"uf\": \"RJ\", \"nome_uf\": \"Rio de Janeiro\"}, {\"ano\": 2016, \"genero\": \"Masculino\", \"mes\": \"Fevereiro\", \"numero\": 27, \"uf\": \"RJ\", \"nome_uf\": \"Rio de Janeiro\"}, {\"ano\": 2016, \"genero\": \"Masculino\", \"mes\": \"Mar\\u00e7o\", \"numero\": 22, \"uf\": \"RJ\", \"nome_uf\": \"Rio de Janeiro\"}, {\"ano\": 2016, \"genero\": \"Masculino\", \"mes\": \"Abril\", \"numero\": 32, \"uf\": \"RJ\", \"nome_uf\": \"Rio de Janeiro\"}, {\"ano\": 2016, \"genero\": \"Masculino\", \"mes\": \"Maio\", \"numero\": 24, \"uf\": \"RJ\", \"nome_uf\": \"Rio de Janeiro\"}, {\"ano\": 2016, \"genero\": \"Masculino\", \"mes\": \"Junho\", \"numero\": 24, \"uf\": \"RJ\", \"nome_uf\": \"Rio de Janeiro\"}, {\"ano\": 2016, \"genero\": \"Masculino\", \"mes\": \"Julho\", \"numero\": 19, \"uf\": \"RJ\", \"nome_uf\": \"Rio de Janeiro\"}, {\"ano\": 2016, \"genero\": \"Masculino\", \"mes\": \"Agosto\", \"numero\": 27, \"uf\": \"RJ\", \"nome_uf\": \"Rio de Janeiro\"}, {\"ano\": 2016, \"genero\": \"Masculino\", \"mes\": \"Setembro\", \"numero\": 26, \"uf\": \"RJ\", \"nome_uf\": \"Rio de Janeiro\"}, {\"ano\": 2016, \"genero\": \"Masculino\", \"mes\": \"Outubro\", \"numero\": 26, \"uf\": \"RJ\", \"nome_uf\": \"Rio de Janeiro\"}, {\"ano\": 2016, \"genero\": \"Masculino\", \"mes\": \"Novembro\", \"numero\": 19, \"uf\": \"RJ\", \"nome_uf\": \"Rio de Janeiro\"}, {\"ano\": 2016, \"genero\": \"Masculino\", \"mes\": \"Dezembro\", \"numero\": 15, \"uf\": \"RJ\", \"nome_uf\": \"Rio de Janeiro\"}, {\"ano\": 2017, \"genero\": \"Masculino\", \"mes\": \"Janeiro\", \"numero\": 18, \"uf\": \"RJ\", \"nome_uf\": \"Rio de Janeiro\"}, {\"ano\": 2017, \"genero\": \"Masculino\", \"mes\": \"Fevereiro\", \"numero\": 14, \"uf\": \"RJ\", \"nome_uf\": \"Rio de Janeiro\"}, {\"ano\": 2017, \"genero\": \"Masculino\", \"mes\": \"Mar\\u00e7o\", \"numero\": 16, \"uf\": \"RJ\", \"nome_uf\": \"Rio de Janeiro\"}, {\"ano\": 2017, \"genero\": \"Masculino\", \"mes\": \"Abril\", \"numero\": 10, \"uf\": \"RJ\", \"nome_uf\": \"Rio de Janeiro\"}, {\"ano\": 2017, \"genero\": \"Masculino\", \"mes\": \"Maio\", \"numero\": 23, \"uf\": \"RJ\", \"nome_uf\": \"Rio de Janeiro\"}, {\"ano\": 2017, \"genero\": \"Masculino\", \"mes\": \"Junho\", \"numero\": 17, \"uf\": \"RJ\", \"nome_uf\": \"Rio de Janeiro\"}, {\"ano\": 2017, \"genero\": \"Masculino\", \"mes\": \"Julho\", \"numero\": 11, \"uf\": \"RJ\", \"nome_uf\": \"Rio de Janeiro\"}, {\"ano\": 2017, \"genero\": \"Masculino\", \"mes\": \"Agosto\", \"numero\": 11, \"uf\": \"RJ\", \"nome_uf\": \"Rio de Janeiro\"}, {\"ano\": 2017, \"genero\": \"Masculino\", \"mes\": \"Setembro\", \"numero\": 22, \"uf\": \"RJ\", \"nome_uf\": \"Rio de Janeiro\"}, {\"ano\": 2017, \"genero\": \"Masculino\", \"mes\": \"Outubro\", \"numero\": 21, \"uf\": \"RJ\", \"nome_uf\": \"Rio de Janeiro\"}, {\"ano\": 2017, \"genero\": \"Masculino\", \"mes\": \"Novembro\", \"numero\": 21, \"uf\": \"RJ\", \"nome_uf\": \"Rio de Janeiro\"}, {\"ano\": 2017, \"genero\": \"Masculino\", \"mes\": \"Dezembro\", \"numero\": 25, \"uf\": \"RJ\", \"nome_uf\": \"Rio de Janeiro\"}, {\"ano\": 2018, \"genero\": \"Masculino\", \"mes\": \"Janeiro\", \"numero\": 20, \"uf\": \"RJ\", \"nome_uf\": \"Rio de Janeiro\"}, {\"ano\": 2018, \"genero\": \"Masculino\", \"mes\": \"Fevereiro\", \"numero\": 27, \"uf\": \"RJ\", \"nome_uf\": \"Rio de Janeiro\"}, {\"ano\": 2018, \"genero\": \"Masculino\", \"mes\": \"Mar\\u00e7o\", \"numero\": 21, \"uf\": \"RJ\", \"nome_uf\": \"Rio de Janeiro\"}, {\"ano\": 2018, \"genero\": \"Masculino\", \"mes\": \"Abril\", \"numero\": 17, \"uf\": \"RJ\", \"nome_uf\": \"Rio de Janeiro\"}, {\"ano\": 2018, \"genero\": \"Masculino\", \"mes\": \"Maio\", \"numero\": 22, \"uf\": \"RJ\", \"nome_uf\": \"Rio de Janeiro\"}, {\"ano\": 2018, \"genero\": \"Masculino\", \"mes\": \"Junho\", \"numero\": 20, \"uf\": \"RJ\", \"nome_uf\": \"Rio de Janeiro\"}, {\"ano\": 2018, \"genero\": \"Masculino\", \"mes\": \"Julho\", \"numero\": 26, \"uf\": \"RJ\", \"nome_uf\": \"Rio de Janeiro\"}, {\"ano\": 2018, \"genero\": \"Masculino\", \"mes\": \"Agosto\", \"numero\": 24, \"uf\": \"RJ\", \"nome_uf\": \"Rio de Janeiro\"}, {\"ano\": 2018, \"genero\": \"Masculino\", \"mes\": \"Setembro\", \"numero\": 20, \"uf\": \"RJ\", \"nome_uf\": \"Rio de Janeiro\"}, {\"ano\": 2018, \"genero\": \"Masculino\", \"mes\": \"Outubro\", \"numero\": 32, \"uf\": \"RJ\", \"nome_uf\": \"Rio de Janeiro\"}, {\"ano\": 2018, \"genero\": \"Masculino\", \"mes\": \"Novembro\", \"numero\": 28, \"uf\": \"RJ\", \"nome_uf\": \"Rio de Janeiro\"}, {\"ano\": 2018, \"genero\": \"Masculino\", \"mes\": \"Dezembro\", \"numero\": 60, \"uf\": \"RJ\", \"nome_uf\": \"Rio de Janeiro\"}, {\"ano\": 2019, \"genero\": \"Masculino\", \"mes\": \"Janeiro\", \"numero\": 59, \"uf\": \"RJ\", \"nome_uf\": \"Rio de Janeiro\"}, {\"ano\": 2019, \"genero\": \"Masculino\", \"mes\": \"Fevereiro\", \"numero\": 52, \"uf\": \"RJ\", \"nome_uf\": \"Rio de Janeiro\"}, {\"ano\": 2019, \"genero\": \"Masculino\", \"mes\": \"Mar\\u00e7o\", \"numero\": 44, \"uf\": \"RJ\", \"nome_uf\": \"Rio de Janeiro\"}, {\"ano\": 2019, \"genero\": \"Masculino\", \"mes\": \"Abril\", \"numero\": 30, \"uf\": \"RJ\", \"nome_uf\": \"Rio de Janeiro\"}, {\"ano\": 2019, \"genero\": \"Masculino\", \"mes\": \"Maio\", \"numero\": 35, \"uf\": \"RJ\", \"nome_uf\": \"Rio de Janeiro\"}, {\"ano\": 2019, \"genero\": \"Masculino\", \"mes\": \"Junho\", \"numero\": 28, \"uf\": \"RJ\", \"nome_uf\": \"Rio de Janeiro\"}, {\"ano\": 2019, \"genero\": \"Masculino\", \"mes\": \"Julho\", \"numero\": 24, \"uf\": \"RJ\", \"nome_uf\": \"Rio de Janeiro\"}, {\"ano\": 2019, \"genero\": \"Masculino\", \"mes\": \"Agosto\", \"numero\": 29, \"uf\": \"RJ\", \"nome_uf\": \"Rio de Janeiro\"}, {\"ano\": 2019, \"genero\": \"Masculino\", \"mes\": \"Setembro\", \"numero\": 30, \"uf\": \"RJ\", \"nome_uf\": \"Rio de Janeiro\"}, {\"ano\": 2019, \"genero\": \"Masculino\", \"mes\": \"Outubro\", \"numero\": 27, \"uf\": \"RJ\", \"nome_uf\": \"Rio de Janeiro\"}, {\"ano\": 2019, \"genero\": \"Masculino\", \"mes\": \"Novembro\", \"numero\": 25, \"uf\": \"RJ\", \"nome_uf\": \"Rio de Janeiro\"}, {\"ano\": 2019, \"genero\": \"Masculino\", \"mes\": \"Dezembro\", \"numero\": 27, \"uf\": \"RJ\", \"nome_uf\": \"Rio de Janeiro\"}, {\"ano\": 2015, \"genero\": \"Feminino\", \"mes\": \"Janeiro\", \"numero\": 13, \"uf\": \"RJ\", \"nome_uf\": \"Rio de Janeiro\"}, {\"ano\": 2015, \"genero\": \"Feminino\", \"mes\": \"Fevereiro\", \"numero\": 23, \"uf\": \"RJ\", \"nome_uf\": \"Rio de Janeiro\"}, {\"ano\": 2015, \"genero\": \"Feminino\", \"mes\": \"Mar\\u00e7o\", \"numero\": 23, \"uf\": \"RJ\", \"nome_uf\": \"Rio de Janeiro\"}, {\"ano\": 2015, \"genero\": \"Feminino\", \"mes\": \"Abril\", \"numero\": 15, \"uf\": \"RJ\", \"nome_uf\": \"Rio de Janeiro\"}, {\"ano\": 2015, \"genero\": \"Feminino\", \"mes\": \"Maio\", \"numero\": 18, \"uf\": \"RJ\", \"nome_uf\": \"Rio de Janeiro\"}, {\"ano\": 2015, \"genero\": \"Feminino\", \"mes\": \"Junho\", \"numero\": 26, \"uf\": \"RJ\", \"nome_uf\": \"Rio de Janeiro\"}, {\"ano\": 2015, \"genero\": \"Feminino\", \"mes\": \"Julho\", \"numero\": 26, \"uf\": \"RJ\", \"nome_uf\": \"Rio de Janeiro\"}, {\"ano\": 2015, \"genero\": \"Feminino\", \"mes\": \"Agosto\", \"numero\": 13, \"uf\": \"RJ\", \"nome_uf\": \"Rio de Janeiro\"}, {\"ano\": 2015, \"genero\": \"Feminino\", \"mes\": \"Setembro\", \"numero\": 26, \"uf\": \"RJ\", \"nome_uf\": \"Rio de Janeiro\"}, {\"ano\": 2015, \"genero\": \"Feminino\", \"mes\": \"Outubro\", \"numero\": 20, \"uf\": \"RJ\", \"nome_uf\": \"Rio de Janeiro\"}, {\"ano\": 2015, \"genero\": \"Feminino\", \"mes\": \"Novembro\", \"numero\": 27, \"uf\": \"RJ\", \"nome_uf\": \"Rio de Janeiro\"}, {\"ano\": 2015, \"genero\": \"Feminino\", \"mes\": \"Dezembro\", \"numero\": 107, \"uf\": \"RJ\", \"nome_uf\": \"Rio de Janeiro\"}, {\"ano\": 2016, \"genero\": \"Feminino\", \"mes\": \"Janeiro\", \"numero\": 25, \"uf\": \"RJ\", \"nome_uf\": \"Rio de Janeiro\"}, {\"ano\": 2016, \"genero\": \"Feminino\", \"mes\": \"Fevereiro\", \"numero\": 21, \"uf\": \"RJ\", \"nome_uf\": \"Rio de Janeiro\"}, {\"ano\": 2016, \"genero\": \"Feminino\", \"mes\": \"Mar\\u00e7o\", \"numero\": 24, \"uf\": \"RJ\", \"nome_uf\": \"Rio de Janeiro\"}, {\"ano\": 2016, \"genero\": \"Feminino\", \"mes\": \"Abril\", \"numero\": 21, \"uf\": \"RJ\", \"nome_uf\": \"Rio de Janeiro\"}, {\"ano\": 2016, \"genero\": \"Feminino\", \"mes\": \"Maio\", \"numero\": 32, \"uf\": \"RJ\", \"nome_uf\": \"Rio de Janeiro\"}, {\"ano\": 2016, \"genero\": \"Feminino\", \"mes\": \"Junho\", \"numero\": 20, \"uf\": \"RJ\", \"nome_uf\": \"Rio de Janeiro\"}, {\"ano\": 2016, \"genero\": \"Feminino\", \"mes\": \"Julho\", \"numero\": 27, \"uf\": \"RJ\", \"nome_uf\": \"Rio de Janeiro\"}, {\"ano\": 2016, \"genero\": \"Feminino\", \"mes\": \"Agosto\", \"numero\": 18, \"uf\": \"RJ\", \"nome_uf\": \"Rio de Janeiro\"}, {\"ano\": 2016, \"genero\": \"Feminino\", \"mes\": \"Setembro\", \"numero\": 34, \"uf\": \"RJ\", \"nome_uf\": \"Rio de Janeiro\"}, {\"ano\": 2016, \"genero\": \"Feminino\", \"mes\": \"Outubro\", \"numero\": 27, \"uf\": \"RJ\", \"nome_uf\": \"Rio de Janeiro\"}, {\"ano\": 2016, \"genero\": \"Feminino\", \"mes\": \"Novembro\", \"numero\": 27, \"uf\": \"RJ\", \"nome_uf\": \"Rio de Janeiro\"}, {\"ano\": 2016, \"genero\": \"Feminino\", \"mes\": \"Dezembro\", \"numero\": 27, \"uf\": \"RJ\", \"nome_uf\": \"Rio de Janeiro\"}, {\"ano\": 2017, \"genero\": \"Feminino\", \"mes\": \"Janeiro\", \"numero\": 22, \"uf\": \"RJ\", \"nome_uf\": \"Rio de Janeiro\"}, {\"ano\": 2017, \"genero\": \"Feminino\", \"mes\": \"Fevereiro\", \"numero\": 17, \"uf\": \"RJ\", \"nome_uf\": \"Rio de Janeiro\"}, {\"ano\": 2017, \"genero\": \"Feminino\", \"mes\": \"Mar\\u00e7o\", \"numero\": 30, \"uf\": \"RJ\", \"nome_uf\": \"Rio de Janeiro\"}, {\"ano\": 2017, \"genero\": \"Feminino\", \"mes\": \"Abril\", \"numero\": 26, \"uf\": \"RJ\", \"nome_uf\": \"Rio de Janeiro\"}, {\"ano\": 2017, \"genero\": \"Feminino\", \"mes\": \"Maio\", \"numero\": 23, \"uf\": \"RJ\", \"nome_uf\": \"Rio de Janeiro\"}, {\"ano\": 2017, \"genero\": \"Feminino\", \"mes\": \"Junho\", \"numero\": 20, \"uf\": \"RJ\", \"nome_uf\": \"Rio de Janeiro\"}, {\"ano\": 2017, \"genero\": \"Feminino\", \"mes\": \"Julho\", \"numero\": 24, \"uf\": \"RJ\", \"nome_uf\": \"Rio de Janeiro\"}, {\"ano\": 2017, \"genero\": \"Feminino\", \"mes\": \"Agosto\", \"numero\": 31, \"uf\": \"RJ\", \"nome_uf\": \"Rio de Janeiro\"}, {\"ano\": 2017, \"genero\": \"Feminino\", \"mes\": \"Setembro\", \"numero\": 29, \"uf\": \"RJ\", \"nome_uf\": \"Rio de Janeiro\"}, {\"ano\": 2017, \"genero\": \"Feminino\", \"mes\": \"Outubro\", \"numero\": 29, \"uf\": \"RJ\", \"nome_uf\": \"Rio de Janeiro\"}, {\"ano\": 2017, \"genero\": \"Feminino\", \"mes\": \"Novembro\", \"numero\": 22, \"uf\": \"RJ\", \"nome_uf\": \"Rio de Janeiro\"}, {\"ano\": 2017, \"genero\": \"Feminino\", \"mes\": \"Dezembro\", \"numero\": 26, \"uf\": \"RJ\", \"nome_uf\": \"Rio de Janeiro\"}, {\"ano\": 2018, \"genero\": \"Feminino\", \"mes\": \"Janeiro\", \"numero\": 25, \"uf\": \"RJ\", \"nome_uf\": \"Rio de Janeiro\"}, {\"ano\": 2018, \"genero\": \"Feminino\", \"mes\": \"Fevereiro\", \"numero\": 14, \"uf\": \"RJ\", \"nome_uf\": \"Rio de Janeiro\"}, {\"ano\": 2018, \"genero\": \"Feminino\", \"mes\": \"Mar\\u00e7o\", \"numero\": 33, \"uf\": \"RJ\", \"nome_uf\": \"Rio de Janeiro\"}, {\"ano\": 2018, \"genero\": \"Feminino\", \"mes\": \"Abril\", \"numero\": 24, \"uf\": \"RJ\", \"nome_uf\": \"Rio de Janeiro\"}, {\"ano\": 2018, \"genero\": \"Feminino\", \"mes\": \"Maio\", \"numero\": 21, \"uf\": \"RJ\", \"nome_uf\": \"Rio de Janeiro\"}, {\"ano\": 2018, \"genero\": \"Feminino\", \"mes\": \"Junho\", \"numero\": 23, \"uf\": \"RJ\", \"nome_uf\": \"Rio de Janeiro\"}, {\"ano\": 2018, \"genero\": \"Feminino\", \"mes\": \"Julho\", \"numero\": 24, \"uf\": \"RJ\", \"nome_uf\": \"Rio de Janeiro\"}, {\"ano\": 2018, \"genero\": \"Feminino\", \"mes\": \"Agosto\", \"numero\": 32, \"uf\": \"RJ\", \"nome_uf\": \"Rio de Janeiro\"}, {\"ano\": 2018, \"genero\": \"Feminino\", \"mes\": \"Setembro\", \"numero\": 29, \"uf\": \"RJ\", \"nome_uf\": \"Rio de Janeiro\"}, {\"ano\": 2018, \"genero\": \"Feminino\", \"mes\": \"Outubro\", \"numero\": 35, \"uf\": \"RJ\", \"nome_uf\": \"Rio de Janeiro\"}, {\"ano\": 2018, \"genero\": \"Feminino\", \"mes\": \"Novembro\", \"numero\": 37, \"uf\": \"RJ\", \"nome_uf\": \"Rio de Janeiro\"}, {\"ano\": 2018, \"genero\": \"Feminino\", \"mes\": \"Dezembro\", \"numero\": 109, \"uf\": \"RJ\", \"nome_uf\": \"Rio de Janeiro\"}, {\"ano\": 2019, \"genero\": \"Feminino\", \"mes\": \"Janeiro\", \"numero\": 76, \"uf\": \"RJ\", \"nome_uf\": \"Rio de Janeiro\"}, {\"ano\": 2019, \"genero\": \"Feminino\", \"mes\": \"Fevereiro\", \"numero\": 82, \"uf\": \"RJ\", \"nome_uf\": \"Rio de Janeiro\"}, {\"ano\": 2019, \"genero\": \"Feminino\", \"mes\": \"Mar\\u00e7o\", \"numero\": 60, \"uf\": \"RJ\", \"nome_uf\": \"Rio de Janeiro\"}, {\"ano\": 2019, \"genero\": \"Feminino\", \"mes\": \"Abril\", \"numero\": 55, \"uf\": \"RJ\", \"nome_uf\": \"Rio de Janeiro\"}, {\"ano\": 2019, \"genero\": \"Feminino\", \"mes\": \"Maio\", \"numero\": 53, \"uf\": \"RJ\", \"nome_uf\": \"Rio de Janeiro\"}, {\"ano\": 2019, \"genero\": \"Feminino\", \"mes\": \"Junho\", \"numero\": 33, \"uf\": \"RJ\", \"nome_uf\": \"Rio de Janeiro\"}, {\"ano\": 2019, \"genero\": \"Feminino\", \"mes\": \"Julho\", \"numero\": 26, \"uf\": \"RJ\", \"nome_uf\": \"Rio de Janeiro\"}, {\"ano\": 2019, \"genero\": \"Feminino\", \"mes\": \"Agosto\", \"numero\": 25, \"uf\": \"RJ\", \"nome_uf\": \"Rio de Janeiro\"}, {\"ano\": 2019, \"genero\": \"Feminino\", \"mes\": \"Setembro\", \"numero\": 30, \"uf\": \"RJ\", \"nome_uf\": \"Rio de Janeiro\"}, {\"ano\": 2019, \"genero\": \"Feminino\", \"mes\": \"Outubro\", \"numero\": 43, \"uf\": \"RJ\", \"nome_uf\": \"Rio de Janeiro\"}, {\"ano\": 2019, \"genero\": \"Feminino\", \"mes\": \"Novembro\", \"numero\": 40, \"uf\": \"RJ\", \"nome_uf\": \"Rio de Janeiro\"}, {\"ano\": 2019, \"genero\": \"Feminino\", \"mes\": \"Dezembro\", \"numero\": 45, \"uf\": \"RJ\", \"nome_uf\": \"Rio de Janeiro\"}]}}, {\"mode\": \"vega-lite\"});\n",
       "</script>"
      ],
      "text/plain": [
       "alt.Chart(...)"
      ]
     },
     "execution_count": 221,
     "metadata": {},
     "output_type": "execute_result"
    }
   ],
   "source": [
    "dados_user = sigla_uf_lgbt_casamento.query('uf == @uf_user', engine='python')\n",
    "\n",
    "alt.Chart(dados_user).mark_boxplot(size=10).encode(\n",
    "    x = alt.X('ano:O', title=\"Ano\"),\n",
    "    y = alt.Y('numero', title=\"Número\"),\n",
    "    color = 'genero',\n",
    "    tooltip = ['mes', 'ano', 'genero', 'numero']\n",
    ").properties(\n",
    "    title={\n",
    "      \"text\": [f'{uf_user}: Casamento LGBTs'], \n",
    "      \"subtitle\": [f'Mulheres vs. Homens']\n",
    "    },\n",
    "    width=600,\n",
    "    height=300\n",
    ").interactive()"
   ]
  },
  {
   "cell_type": "markdown",
   "metadata": {
    "id": "Wh_JkQnas_z7"
   },
   "source": [
    "## Muito obrigado/a!"
   ]
  }
 ],
 "metadata": {
  "colab": {
   "name": "versao_final_trabalho_AED_insper_grupo_GIT.ipynb",
   "provenance": []
  },
  "kernelspec": {
   "display_name": "Python 3",
   "language": "python",
   "name": "python3"
  },
  "language_info": {
   "codemirror_mode": {
    "name": "ipython",
    "version": 3
   },
   "file_extension": ".py",
   "mimetype": "text/x-python",
   "name": "python",
   "nbconvert_exporter": "python",
   "pygments_lexer": "ipython3",
   "version": "3.7.6"
  }
 },
 "nbformat": 4,
 "nbformat_minor": 1
}
