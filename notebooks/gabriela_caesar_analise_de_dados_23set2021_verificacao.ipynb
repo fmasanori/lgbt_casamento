{
  "nbformat": 4,
  "nbformat_minor": 0,
  "metadata": {
    "colab": {
      "name": "gabriela_caesar_analise_de_dados_23set2021_verificacao.ipynb",
      "provenance": []
    },
    "kernelspec": {
      "name": "python3",
      "display_name": "Python 3"
    },
    "language_info": {
      "name": "python"
    }
  },
  "cells": [
    {
      "cell_type": "markdown",
      "metadata": {
        "id": "EolMqeFnuTCm"
      },
      "source": [
        "Notebook - análise exploratória de dados\n",
        "\n",
        "Gabriela Caesar\n",
        "\n",
        "23/set/2021"
      ]
    },
    {
      "cell_type": "markdown",
      "metadata": {
        "id": "fC4HSC64uCTP"
      },
      "source": [
        "Verificação do dataframe\n"
      ]
    },
    {
      "cell_type": "code",
      "metadata": {
        "id": "pGRN1_pzt03b"
      },
      "source": [
        "# importacao da biblioteca\n",
        "import pandas as pd"
      ],
      "execution_count": 39,
      "outputs": []
    },
    {
      "cell_type": "code",
      "metadata": {
        "id": "h66SHPCOuB9g"
      },
      "source": [
        "# leitura do dataframe\n",
        "lgbt_casamento = pd.read_csv('https://raw.githubusercontent.com/gabrielacaesar/lgbt_casamento/main/data/lgbt_casamento.csv')"
      ],
      "execution_count": 40,
      "outputs": []
    },
    {
      "cell_type": "code",
      "metadata": {
        "colab": {
          "base_uri": "https://localhost:8080/",
          "height": 204
        },
        "id": "5jzpMdppuibC",
        "outputId": "d8a9c21d-b459-4eed-acf5-de3f48fb2551"
      },
      "source": [
        "# primeiras linhas do nosso dataframe\n",
        "lgbt_casamento.head()"
      ],
      "execution_count": 41,
      "outputs": [
        {
          "output_type": "execute_result",
          "data": {
            "text/html": [
              "<div>\n",
              "<style scoped>\n",
              "    .dataframe tbody tr th:only-of-type {\n",
              "        vertical-align: middle;\n",
              "    }\n",
              "\n",
              "    .dataframe tbody tr th {\n",
              "        vertical-align: top;\n",
              "    }\n",
              "\n",
              "    .dataframe thead th {\n",
              "        text-align: right;\n",
              "    }\n",
              "</style>\n",
              "<table border=\"1\" class=\"dataframe\">\n",
              "  <thead>\n",
              "    <tr style=\"text-align: right;\">\n",
              "      <th></th>\n",
              "      <th>ano</th>\n",
              "      <th>uf</th>\n",
              "      <th>genero</th>\n",
              "      <th>mes</th>\n",
              "      <th>numero</th>\n",
              "    </tr>\n",
              "  </thead>\n",
              "  <tbody>\n",
              "    <tr>\n",
              "      <th>0</th>\n",
              "      <td>2014</td>\n",
              "      <td>Rondônia</td>\n",
              "      <td>Masculino</td>\n",
              "      <td>Janeiro</td>\n",
              "      <td>0</td>\n",
              "    </tr>\n",
              "    <tr>\n",
              "      <th>1</th>\n",
              "      <td>2014</td>\n",
              "      <td>Rondônia</td>\n",
              "      <td>Masculino</td>\n",
              "      <td>Fevereiro</td>\n",
              "      <td>0</td>\n",
              "    </tr>\n",
              "    <tr>\n",
              "      <th>2</th>\n",
              "      <td>2014</td>\n",
              "      <td>Rondônia</td>\n",
              "      <td>Masculino</td>\n",
              "      <td>Março</td>\n",
              "      <td>0</td>\n",
              "    </tr>\n",
              "    <tr>\n",
              "      <th>3</th>\n",
              "      <td>2014</td>\n",
              "      <td>Rondônia</td>\n",
              "      <td>Masculino</td>\n",
              "      <td>Abril</td>\n",
              "      <td>0</td>\n",
              "    </tr>\n",
              "    <tr>\n",
              "      <th>4</th>\n",
              "      <td>2014</td>\n",
              "      <td>Rondônia</td>\n",
              "      <td>Masculino</td>\n",
              "      <td>Maio</td>\n",
              "      <td>0</td>\n",
              "    </tr>\n",
              "  </tbody>\n",
              "</table>\n",
              "</div>"
            ],
            "text/plain": [
              "    ano        uf     genero        mes  numero\n",
              "0  2014  Rondônia  Masculino    Janeiro       0\n",
              "1  2014  Rondônia  Masculino  Fevereiro       0\n",
              "2  2014  Rondônia  Masculino      Março       0\n",
              "3  2014  Rondônia  Masculino      Abril       0\n",
              "4  2014  Rondônia  Masculino       Maio       0"
            ]
          },
          "metadata": {},
          "execution_count": 41
        }
      ]
    },
    {
      "cell_type": "code",
      "metadata": {
        "colab": {
          "base_uri": "https://localhost:8080/",
          "height": 204
        },
        "id": "-HrVXNyyuj6_",
        "outputId": "4da017ac-468c-40cf-acf1-dc045dcfe3f3"
      },
      "source": [
        "# últimas linhas do nosso dataframe\n",
        "lgbt_casamento.tail()"
      ],
      "execution_count": 42,
      "outputs": [
        {
          "output_type": "execute_result",
          "data": {
            "text/html": [
              "<div>\n",
              "<style scoped>\n",
              "    .dataframe tbody tr th:only-of-type {\n",
              "        vertical-align: middle;\n",
              "    }\n",
              "\n",
              "    .dataframe tbody tr th {\n",
              "        vertical-align: top;\n",
              "    }\n",
              "\n",
              "    .dataframe thead th {\n",
              "        text-align: right;\n",
              "    }\n",
              "</style>\n",
              "<table border=\"1\" class=\"dataframe\">\n",
              "  <thead>\n",
              "    <tr style=\"text-align: right;\">\n",
              "      <th></th>\n",
              "      <th>ano</th>\n",
              "      <th>uf</th>\n",
              "      <th>genero</th>\n",
              "      <th>mes</th>\n",
              "      <th>numero</th>\n",
              "    </tr>\n",
              "  </thead>\n",
              "  <tbody>\n",
              "    <tr>\n",
              "      <th>4531</th>\n",
              "      <td>2019</td>\n",
              "      <td>Distrito Federal</td>\n",
              "      <td>Feminino</td>\n",
              "      <td>Agosto</td>\n",
              "      <td>7</td>\n",
              "    </tr>\n",
              "    <tr>\n",
              "      <th>4532</th>\n",
              "      <td>2019</td>\n",
              "      <td>Distrito Federal</td>\n",
              "      <td>Feminino</td>\n",
              "      <td>Setembro</td>\n",
              "      <td>9</td>\n",
              "    </tr>\n",
              "    <tr>\n",
              "      <th>4533</th>\n",
              "      <td>2019</td>\n",
              "      <td>Distrito Federal</td>\n",
              "      <td>Feminino</td>\n",
              "      <td>Outubro</td>\n",
              "      <td>13</td>\n",
              "    </tr>\n",
              "    <tr>\n",
              "      <th>4534</th>\n",
              "      <td>2019</td>\n",
              "      <td>Distrito Federal</td>\n",
              "      <td>Feminino</td>\n",
              "      <td>Novembro</td>\n",
              "      <td>11</td>\n",
              "    </tr>\n",
              "    <tr>\n",
              "      <th>4535</th>\n",
              "      <td>2019</td>\n",
              "      <td>Distrito Federal</td>\n",
              "      <td>Feminino</td>\n",
              "      <td>Dezembro</td>\n",
              "      <td>7</td>\n",
              "    </tr>\n",
              "  </tbody>\n",
              "</table>\n",
              "</div>"
            ],
            "text/plain": [
              "       ano                uf    genero       mes  numero\n",
              "4531  2019  Distrito Federal  Feminino    Agosto       7\n",
              "4532  2019  Distrito Federal  Feminino  Setembro       9\n",
              "4533  2019  Distrito Federal  Feminino   Outubro      13\n",
              "4534  2019  Distrito Federal  Feminino  Novembro      11\n",
              "4535  2019  Distrito Federal  Feminino  Dezembro       7"
            ]
          },
          "metadata": {},
          "execution_count": 42
        }
      ]
    },
    {
      "cell_type": "code",
      "metadata": {
        "colab": {
          "base_uri": "https://localhost:8080/"
        },
        "id": "ciAxwuWnumi1",
        "outputId": "18b26eac-354a-4c32-f7c4-da95d8aa0356"
      },
      "source": [
        "# infos sobre o dataframe\n",
        "lgbt_casamento.info()"
      ],
      "execution_count": 43,
      "outputs": [
        {
          "output_type": "stream",
          "name": "stdout",
          "text": [
            "<class 'pandas.core.frame.DataFrame'>\n",
            "RangeIndex: 4536 entries, 0 to 4535\n",
            "Data columns (total 5 columns):\n",
            " #   Column  Non-Null Count  Dtype \n",
            "---  ------  --------------  ----- \n",
            " 0   ano     4536 non-null   int64 \n",
            " 1   uf      4536 non-null   object\n",
            " 2   genero  4536 non-null   object\n",
            " 3   mes     4536 non-null   object\n",
            " 4   numero  4536 non-null   int64 \n",
            "dtypes: int64(2), object(3)\n",
            "memory usage: 177.3+ KB\n"
          ]
        }
      ]
    },
    {
      "cell_type": "code",
      "metadata": {
        "colab": {
          "base_uri": "https://localhost:8080/",
          "height": 297
        },
        "id": "_I_K7Ggeunra",
        "outputId": "beaca9cb-b7fb-40e5-c2c9-db509d1d6aaa"
      },
      "source": [
        "# estatisticas das colunas numericas do dataframe\n",
        "lgbt_casamento.describe()"
      ],
      "execution_count": 44,
      "outputs": [
        {
          "output_type": "execute_result",
          "data": {
            "text/html": [
              "<div>\n",
              "<style scoped>\n",
              "    .dataframe tbody tr th:only-of-type {\n",
              "        vertical-align: middle;\n",
              "    }\n",
              "\n",
              "    .dataframe tbody tr th {\n",
              "        vertical-align: top;\n",
              "    }\n",
              "\n",
              "    .dataframe thead th {\n",
              "        text-align: right;\n",
              "    }\n",
              "</style>\n",
              "<table border=\"1\" class=\"dataframe\">\n",
              "  <thead>\n",
              "    <tr style=\"text-align: right;\">\n",
              "      <th></th>\n",
              "      <th>ano</th>\n",
              "      <th>numero</th>\n",
              "    </tr>\n",
              "  </thead>\n",
              "  <tbody>\n",
              "    <tr>\n",
              "      <th>count</th>\n",
              "      <td>4536.00000</td>\n",
              "      <td>4536.000000</td>\n",
              "    </tr>\n",
              "    <tr>\n",
              "      <th>mean</th>\n",
              "      <td>2016.00000</td>\n",
              "      <td>9.693783</td>\n",
              "    </tr>\n",
              "    <tr>\n",
              "      <th>std</th>\n",
              "      <td>2.00022</td>\n",
              "      <td>25.962171</td>\n",
              "    </tr>\n",
              "    <tr>\n",
              "      <th>min</th>\n",
              "      <td>2013.00000</td>\n",
              "      <td>0.000000</td>\n",
              "    </tr>\n",
              "    <tr>\n",
              "      <th>25%</th>\n",
              "      <td>2014.00000</td>\n",
              "      <td>1.000000</td>\n",
              "    </tr>\n",
              "    <tr>\n",
              "      <th>50%</th>\n",
              "      <td>2016.00000</td>\n",
              "      <td>3.000000</td>\n",
              "    </tr>\n",
              "    <tr>\n",
              "      <th>75%</th>\n",
              "      <td>2018.00000</td>\n",
              "      <td>9.000000</td>\n",
              "    </tr>\n",
              "    <tr>\n",
              "      <th>max</th>\n",
              "      <td>2019.00000</td>\n",
              "      <td>827.000000</td>\n",
              "    </tr>\n",
              "  </tbody>\n",
              "</table>\n",
              "</div>"
            ],
            "text/plain": [
              "              ano       numero\n",
              "count  4536.00000  4536.000000\n",
              "mean   2016.00000     9.693783\n",
              "std       2.00022    25.962171\n",
              "min    2013.00000     0.000000\n",
              "25%    2014.00000     1.000000\n",
              "50%    2016.00000     3.000000\n",
              "75%    2018.00000     9.000000\n",
              "max    2019.00000   827.000000"
            ]
          },
          "metadata": {},
          "execution_count": 44
        }
      ]
    },
    {
      "cell_type": "code",
      "metadata": {
        "colab": {
          "base_uri": "https://localhost:8080/"
        },
        "id": "TIOLBKkQuquh",
        "outputId": "617a2be4-9405-408e-e2fb-b4294b0af14e"
      },
      "source": [
        "# cabeçalho da dataframe\n",
        "lgbt_casamento.columns"
      ],
      "execution_count": 45,
      "outputs": [
        {
          "output_type": "execute_result",
          "data": {
            "text/plain": [
              "Index(['ano', 'uf', 'genero', 'mes', 'numero'], dtype='object')"
            ]
          },
          "metadata": {},
          "execution_count": 45
        }
      ]
    },
    {
      "cell_type": "code",
      "metadata": {
        "colab": {
          "base_uri": "https://localhost:8080/"
        },
        "id": "qybAoUfOutuX",
        "outputId": "e36536a1-678b-4bf1-e0ea-9f8f447cbf35"
      },
      "source": [
        "# valores únicos da coluna 'ano' do dataframe\n",
        "lgbt_casamento['ano'].unique()"
      ],
      "execution_count": 46,
      "outputs": [
        {
          "output_type": "execute_result",
          "data": {
            "text/plain": [
              "array([2014, 2013, 2015, 2016, 2017, 2018, 2019])"
            ]
          },
          "metadata": {},
          "execution_count": 46
        }
      ]
    },
    {
      "cell_type": "code",
      "metadata": {
        "colab": {
          "base_uri": "https://localhost:8080/"
        },
        "id": "l1cFoajcu-_7",
        "outputId": "0f29896f-31f3-42ee-8b81-fd9a5c80ee1a"
      },
      "source": [
        "# valores únicos da coluna 'mes' do dataframe\n",
        "lgbt_casamento['mes'].unique()"
      ],
      "execution_count": 47,
      "outputs": [
        {
          "output_type": "execute_result",
          "data": {
            "text/plain": [
              "array(['Janeiro', 'Fevereiro', 'Março', 'Abril', 'Maio', 'Junho', 'Julho',\n",
              "       'Agosto', 'Setembro', 'Outubro', 'Novembro', 'Dezembro'],\n",
              "      dtype=object)"
            ]
          },
          "metadata": {},
          "execution_count": 47
        }
      ]
    },
    {
      "cell_type": "code",
      "metadata": {
        "colab": {
          "base_uri": "https://localhost:8080/"
        },
        "id": "vKBHLZ4uvA9k",
        "outputId": "2cbd5188-a0e7-4b4d-f703-b559664ad1c4"
      },
      "source": [
        "# valores únicos da coluna 'genero' do dataframe\n",
        "lgbt_casamento['genero'].unique()"
      ],
      "execution_count": 48,
      "outputs": [
        {
          "output_type": "execute_result",
          "data": {
            "text/plain": [
              "array(['Masculino', 'Feminino'], dtype=object)"
            ]
          },
          "metadata": {},
          "execution_count": 48
        }
      ]
    },
    {
      "cell_type": "code",
      "metadata": {
        "colab": {
          "base_uri": "https://localhost:8080/"
        },
        "id": "z4xyDyq8vCrC",
        "outputId": "4ed2c6c9-bd7c-4c92-b1f8-c0cc874a1cb7"
      },
      "source": [
        "# valores únicos da coluna 'uf' do dataframe\n",
        "lgbt_casamento['uf'].unique()"
      ],
      "execution_count": 49,
      "outputs": [
        {
          "output_type": "execute_result",
          "data": {
            "text/plain": [
              "array(['Rondônia', 'Acre', 'Amazonas', 'Roraima', 'Pará', 'Amapá',\n",
              "       'Tocantins', 'Maranhão', 'Piauí', 'Ceará', 'Rio Grande do Norte',\n",
              "       'Paraíba', 'Pernambuco', 'Alagoas', 'Sergipe', 'Bahia',\n",
              "       'Minas Gerais', 'Espírito Santo', 'Rio de Janeiro', 'São Paulo',\n",
              "       'Paraná', 'Santa Catarina', 'Rio Grande do Sul',\n",
              "       'Mato Grosso do Sul', 'Mato Grosso', 'Goiás', 'Distrito Federal'],\n",
              "      dtype=object)"
            ]
          },
          "metadata": {},
          "execution_count": 49
        }
      ]
    },
    {
      "cell_type": "code",
      "metadata": {
        "colab": {
          "base_uri": "https://localhost:8080/"
        },
        "id": "jWJ91ZflvEMU",
        "outputId": "4c98131e-7a6a-4dba-ad6a-f3d549e56428"
      },
      "source": [
        "# tamanho dos valores únicos da coluna 'uf' do dataframe\n",
        "len(lgbt_casamento['uf'].unique())"
      ],
      "execution_count": 50,
      "outputs": [
        {
          "output_type": "execute_result",
          "data": {
            "text/plain": [
              "27"
            ]
          },
          "metadata": {},
          "execution_count": 50
        }
      ]
    },
    {
      "cell_type": "code",
      "metadata": {
        "colab": {
          "base_uri": "https://localhost:8080/"
        },
        "id": "t8Zc7gFovKkz",
        "outputId": "4cd82eed-116a-4e83-c4e9-149c93ca3d8a"
      },
      "source": [
        "# tamanho dos valores únicos da coluna 'mes' do dataframe\n",
        "len(lgbt_casamento['mes'].unique())"
      ],
      "execution_count": 51,
      "outputs": [
        {
          "output_type": "execute_result",
          "data": {
            "text/plain": [
              "12"
            ]
          },
          "metadata": {},
          "execution_count": 51
        }
      ]
    },
    {
      "cell_type": "code",
      "metadata": {
        "colab": {
          "base_uri": "https://localhost:8080/"
        },
        "id": "ofN06Z-DvMfZ",
        "outputId": "1edd960e-a774-4b6d-e5fb-e88c03566745"
      },
      "source": [
        "# tamanho dos valores únicos da coluna 'ano do dataframe\n",
        "len(lgbt_casamento['ano'].unique())"
      ],
      "execution_count": 52,
      "outputs": [
        {
          "output_type": "execute_result",
          "data": {
            "text/plain": [
              "7"
            ]
          },
          "metadata": {},
          "execution_count": 52
        }
      ]
    },
    {
      "cell_type": "code",
      "metadata": {
        "colab": {
          "base_uri": "https://localhost:8080/"
        },
        "id": "ZnoeuC3DvO18",
        "outputId": "a29571b5-a1ad-4f9e-b369-4d587ca33f4d"
      },
      "source": [
        "# seleciona apenas a coluna 'ano'\n",
        "# observe que mostra o tamanho de 9.072 linhas\n",
        "lgbt_casamento['mes']"
      ],
      "execution_count": 53,
      "outputs": [
        {
          "output_type": "execute_result",
          "data": {
            "text/plain": [
              "0         Janeiro\n",
              "1       Fevereiro\n",
              "2           Março\n",
              "3           Abril\n",
              "4            Maio\n",
              "          ...    \n",
              "4531       Agosto\n",
              "4532     Setembro\n",
              "4533      Outubro\n",
              "4534     Novembro\n",
              "4535     Dezembro\n",
              "Name: mes, Length: 4536, dtype: object"
            ]
          },
          "metadata": {},
          "execution_count": 53
        }
      ]
    },
    {
      "cell_type": "code",
      "metadata": {
        "colab": {
          "base_uri": "https://localhost:8080/"
        },
        "id": "9n9yuFvuwgDV",
        "outputId": "7bee3102-75ee-41ef-f7fe-5377fa3cdff2"
      },
      "source": [
        "# número de linhas na coluna 'numero'\n",
        "len(lgbt_casamento['mes'])"
      ],
      "execution_count": 54,
      "outputs": [
        {
          "output_type": "execute_result",
          "data": {
            "text/plain": [
              "4536"
            ]
          },
          "metadata": {},
          "execution_count": 54
        }
      ]
    },
    {
      "cell_type": "code",
      "metadata": {
        "colab": {
          "base_uri": "https://localhost:8080/"
        },
        "id": "0RFZtoz6v_dw",
        "outputId": "965d9912-0033-44f7-e7ff-e4ade6838825"
      },
      "source": [
        "# pergunta se aquele campo da coluna 'mes' é NA (ou seja, sem preenchimento)\n",
        "lgbt_casamento['mes'].isna()"
      ],
      "execution_count": 55,
      "outputs": [
        {
          "output_type": "execute_result",
          "data": {
            "text/plain": [
              "0       False\n",
              "1       False\n",
              "2       False\n",
              "3       False\n",
              "4       False\n",
              "        ...  \n",
              "4531    False\n",
              "4532    False\n",
              "4533    False\n",
              "4534    False\n",
              "4535    False\n",
              "Name: mes, Length: 4536, dtype: bool"
            ]
          },
          "metadata": {},
          "execution_count": 55
        }
      ]
    },
    {
      "cell_type": "code",
      "metadata": {
        "colab": {
          "base_uri": "https://localhost:8080/"
        },
        "id": "2uZm5qjLwGmY",
        "outputId": "026d8f3e-8d3a-4919-b89c-479e54a0ae4c"
      },
      "source": [
        "# pergunta se aquele campo da coluna 'numero' é NA (ou seja, sem preenchimento)\n",
        "lgbt_casamento['numero'].isna()"
      ],
      "execution_count": 56,
      "outputs": [
        {
          "output_type": "execute_result",
          "data": {
            "text/plain": [
              "0       False\n",
              "1       False\n",
              "2       False\n",
              "3       False\n",
              "4       False\n",
              "        ...  \n",
              "4531    False\n",
              "4532    False\n",
              "4533    False\n",
              "4534    False\n",
              "4535    False\n",
              "Name: numero, Length: 4536, dtype: bool"
            ]
          },
          "metadata": {},
          "execution_count": 56
        }
      ]
    },
    {
      "cell_type": "code",
      "metadata": {
        "colab": {
          "base_uri": "https://localhost:8080/"
        },
        "id": "1mn4TwZ9wOvA",
        "outputId": "73f24c3b-5a45-4b1c-e792-9cbc374fe6fd"
      },
      "source": [
        "# número máximo da coluna 'numero'\n",
        "lgbt_casamento['numero'].max()"
      ],
      "execution_count": 57,
      "outputs": [
        {
          "output_type": "execute_result",
          "data": {
            "text/plain": [
              "827"
            ]
          },
          "metadata": {},
          "execution_count": 57
        }
      ]
    },
    {
      "cell_type": "code",
      "metadata": {
        "colab": {
          "base_uri": "https://localhost:8080/"
        },
        "id": "IsqlmsITwSg2",
        "outputId": "7864c9a0-53cb-4616-cc00-2a5e346f5aa2"
      },
      "source": [
        "# número mínimo da coluna 'numero'\n",
        "lgbt_casamento['numero'].min()"
      ],
      "execution_count": 58,
      "outputs": [
        {
          "output_type": "execute_result",
          "data": {
            "text/plain": [
              "0"
            ]
          },
          "metadata": {},
          "execution_count": 58
        }
      ]
    },
    {
      "cell_type": "code",
      "metadata": {
        "colab": {
          "base_uri": "https://localhost:8080/"
        },
        "id": "FT0snwldwVJ3",
        "outputId": "b245732c-f74e-46c6-d327-2d5d4cf4895d"
      },
      "source": [
        "# média da coluna 'numero'\n",
        "lgbt_casamento['numero'].mean()"
      ],
      "execution_count": 59,
      "outputs": [
        {
          "output_type": "execute_result",
          "data": {
            "text/plain": [
              "9.693783068783068"
            ]
          },
          "metadata": {},
          "execution_count": 59
        }
      ]
    },
    {
      "cell_type": "code",
      "metadata": {
        "colab": {
          "base_uri": "https://localhost:8080/"
        },
        "id": "DBVQ5lgBwZKa",
        "outputId": "edf9b70b-ddfd-4f85-efc3-c4b8b31603f7"
      },
      "source": [
        "# mediana da coluna 'numero'\n",
        "lgbt_casamento['numero'].median()"
      ],
      "execution_count": 60,
      "outputs": [
        {
          "output_type": "execute_result",
          "data": {
            "text/plain": [
              "3.0"
            ]
          },
          "metadata": {},
          "execution_count": 60
        }
      ]
    },
    {
      "cell_type": "code",
      "metadata": {
        "colab": {
          "base_uri": "https://localhost:8080/"
        },
        "id": "Z-wX9G6vwb0M",
        "outputId": "4648368a-d9fe-4ecb-9936-3035f6c97207"
      },
      "source": [
        "# soma da coluna 'numero'\n",
        "sum(lgbt_casamento['numero'])"
      ],
      "execution_count": 61,
      "outputs": [
        {
          "output_type": "execute_result",
          "data": {
            "text/plain": [
              "43971"
            ]
          },
          "metadata": {},
          "execution_count": 61
        }
      ]
    }
  ]
}