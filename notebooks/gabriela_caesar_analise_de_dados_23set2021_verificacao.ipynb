{
  "nbformat": 4,
  "nbformat_minor": 0,
  "metadata": {
    "colab": {
      "name": "gabriela_caesar_analise_de_dados_23set2021_verificacao.ipynb",
      "provenance": []
    },
    "kernelspec": {
      "name": "python3",
      "display_name": "Python 3"
    },
    "language_info": {
      "name": "python"
    }
  },
  "cells": [
    {
      "cell_type": "markdown",
      "metadata": {
        "id": "EolMqeFnuTCm"
      },
      "source": [
        "Notebook - análise exploratória de dados\n",
        "\n",
        "Gabriela Caesar\n",
        "\n",
        "23/set/2021"
      ]
    },
    {
      "cell_type": "markdown",
      "metadata": {
        "id": "fC4HSC64uCTP"
      },
      "source": [
        "Verificação do dataframe"
      ]
    },
    {
      "cell_type": "code",
      "metadata": {
        "id": "pGRN1_pzt03b"
      },
      "source": [
        "# importacao da biblioteca\n",
        "import pandas as pd"
      ],
      "execution_count": 1,
      "outputs": []
    },
    {
      "cell_type": "code",
      "metadata": {
        "id": "h66SHPCOuB9g"
      },
      "source": [
        "# leitura do dataframe\n",
        "lgbt_casamento = pd.read_csv('https://raw.githubusercontent.com/gabrielacaesar/lgbt_casamento/main/data/lgbt_casamento.csv')"
      ],
      "execution_count": 2,
      "outputs": []
    },
    {
      "cell_type": "code",
      "metadata": {
        "colab": {
          "base_uri": "https://localhost:8080/",
          "height": 204
        },
        "id": "5jzpMdppuibC",
        "outputId": "f75838ad-7d52-4795-b40b-a0ed2a463cd3"
      },
      "source": [
        "# primeiras linhas do nosso dataframe\n",
        "lgbt_casamento.head()"
      ],
      "execution_count": 3,
      "outputs": [
        {
          "output_type": "execute_result",
          "data": {
            "text/html": [
              "<div>\n",
              "<style scoped>\n",
              "    .dataframe tbody tr th:only-of-type {\n",
              "        vertical-align: middle;\n",
              "    }\n",
              "\n",
              "    .dataframe tbody tr th {\n",
              "        vertical-align: top;\n",
              "    }\n",
              "\n",
              "    .dataframe thead th {\n",
              "        text-align: right;\n",
              "    }\n",
              "</style>\n",
              "<table border=\"1\" class=\"dataframe\">\n",
              "  <thead>\n",
              "    <tr style=\"text-align: right;\">\n",
              "      <th></th>\n",
              "      <th>ano</th>\n",
              "      <th>uf</th>\n",
              "      <th>genero</th>\n",
              "      <th>mes</th>\n",
              "      <th>numero</th>\n",
              "    </tr>\n",
              "  </thead>\n",
              "  <tbody>\n",
              "    <tr>\n",
              "      <th>0</th>\n",
              "      <td>2014</td>\n",
              "      <td>Rondônia</td>\n",
              "      <td>Feminino</td>\n",
              "      <td>Janeiro</td>\n",
              "      <td>2</td>\n",
              "    </tr>\n",
              "    <tr>\n",
              "      <th>1</th>\n",
              "      <td>2014</td>\n",
              "      <td>Rondônia</td>\n",
              "      <td>Feminino</td>\n",
              "      <td>Fevereiro</td>\n",
              "      <td>3</td>\n",
              "    </tr>\n",
              "    <tr>\n",
              "      <th>2</th>\n",
              "      <td>2014</td>\n",
              "      <td>Rondônia</td>\n",
              "      <td>Feminino</td>\n",
              "      <td>Março</td>\n",
              "      <td>4</td>\n",
              "    </tr>\n",
              "    <tr>\n",
              "      <th>3</th>\n",
              "      <td>2014</td>\n",
              "      <td>Rondônia</td>\n",
              "      <td>Feminino</td>\n",
              "      <td>Abril</td>\n",
              "      <td>4</td>\n",
              "    </tr>\n",
              "    <tr>\n",
              "      <th>4</th>\n",
              "      <td>2014</td>\n",
              "      <td>Rondônia</td>\n",
              "      <td>Feminino</td>\n",
              "      <td>Maio</td>\n",
              "      <td>0</td>\n",
              "    </tr>\n",
              "  </tbody>\n",
              "</table>\n",
              "</div>"
            ],
            "text/plain": [
              "    ano        uf    genero        mes  numero\n",
              "0  2014  Rondônia  Feminino    Janeiro       2\n",
              "1  2014  Rondônia  Feminino  Fevereiro       3\n",
              "2  2014  Rondônia  Feminino      Março       4\n",
              "3  2014  Rondônia  Feminino      Abril       4\n",
              "4  2014  Rondônia  Feminino       Maio       0"
            ]
          },
          "metadata": {},
          "execution_count": 3
        }
      ]
    },
    {
      "cell_type": "code",
      "metadata": {
        "colab": {
          "base_uri": "https://localhost:8080/",
          "height": 204
        },
        "id": "-HrVXNyyuj6_",
        "outputId": "650bcd5b-af52-4499-8630-e0e4fadb6c32"
      },
      "source": [
        "# últimas linhas do nosso dataframe\n",
        "lgbt_casamento.tail()"
      ],
      "execution_count": 4,
      "outputs": [
        {
          "output_type": "execute_result",
          "data": {
            "text/html": [
              "<div>\n",
              "<style scoped>\n",
              "    .dataframe tbody tr th:only-of-type {\n",
              "        vertical-align: middle;\n",
              "    }\n",
              "\n",
              "    .dataframe tbody tr th {\n",
              "        vertical-align: top;\n",
              "    }\n",
              "\n",
              "    .dataframe thead th {\n",
              "        text-align: right;\n",
              "    }\n",
              "</style>\n",
              "<table border=\"1\" class=\"dataframe\">\n",
              "  <thead>\n",
              "    <tr style=\"text-align: right;\">\n",
              "      <th></th>\n",
              "      <th>ano</th>\n",
              "      <th>uf</th>\n",
              "      <th>genero</th>\n",
              "      <th>mes</th>\n",
              "      <th>numero</th>\n",
              "    </tr>\n",
              "  </thead>\n",
              "  <tbody>\n",
              "    <tr>\n",
              "      <th>9067</th>\n",
              "      <td>2019</td>\n",
              "      <td>Distrito Federal</td>\n",
              "      <td>Feminino</td>\n",
              "      <td>Agosto</td>\n",
              "      <td>7</td>\n",
              "    </tr>\n",
              "    <tr>\n",
              "      <th>9068</th>\n",
              "      <td>2019</td>\n",
              "      <td>Distrito Federal</td>\n",
              "      <td>Feminino</td>\n",
              "      <td>Setembro</td>\n",
              "      <td>9</td>\n",
              "    </tr>\n",
              "    <tr>\n",
              "      <th>9069</th>\n",
              "      <td>2019</td>\n",
              "      <td>Distrito Federal</td>\n",
              "      <td>Feminino</td>\n",
              "      <td>Outubro</td>\n",
              "      <td>13</td>\n",
              "    </tr>\n",
              "    <tr>\n",
              "      <th>9070</th>\n",
              "      <td>2019</td>\n",
              "      <td>Distrito Federal</td>\n",
              "      <td>Feminino</td>\n",
              "      <td>Novembro</td>\n",
              "      <td>11</td>\n",
              "    </tr>\n",
              "    <tr>\n",
              "      <th>9071</th>\n",
              "      <td>2019</td>\n",
              "      <td>Distrito Federal</td>\n",
              "      <td>Feminino</td>\n",
              "      <td>Dezembro</td>\n",
              "      <td>7</td>\n",
              "    </tr>\n",
              "  </tbody>\n",
              "</table>\n",
              "</div>"
            ],
            "text/plain": [
              "       ano                uf    genero       mes  numero\n",
              "9067  2019  Distrito Federal  Feminino    Agosto       7\n",
              "9068  2019  Distrito Federal  Feminino  Setembro       9\n",
              "9069  2019  Distrito Federal  Feminino   Outubro      13\n",
              "9070  2019  Distrito Federal  Feminino  Novembro      11\n",
              "9071  2019  Distrito Federal  Feminino  Dezembro       7"
            ]
          },
          "metadata": {},
          "execution_count": 4
        }
      ]
    },
    {
      "cell_type": "code",
      "metadata": {
        "colab": {
          "base_uri": "https://localhost:8080/"
        },
        "id": "ciAxwuWnumi1",
        "outputId": "f64fa39b-4827-4c84-8419-3d46807b6656"
      },
      "source": [
        "# infos sobre o dataframe\n",
        "lgbt_casamento.info()"
      ],
      "execution_count": 5,
      "outputs": [
        {
          "output_type": "stream",
          "name": "stdout",
          "text": [
            "<class 'pandas.core.frame.DataFrame'>\n",
            "RangeIndex: 9072 entries, 0 to 9071\n",
            "Data columns (total 5 columns):\n",
            " #   Column  Non-Null Count  Dtype \n",
            "---  ------  --------------  ----- \n",
            " 0   ano     9072 non-null   int64 \n",
            " 1   uf      9072 non-null   object\n",
            " 2   genero  9072 non-null   object\n",
            " 3   mes     9072 non-null   object\n",
            " 4   numero  9072 non-null   int64 \n",
            "dtypes: int64(2), object(3)\n",
            "memory usage: 354.5+ KB\n"
          ]
        }
      ]
    },
    {
      "cell_type": "code",
      "metadata": {
        "colab": {
          "base_uri": "https://localhost:8080/",
          "height": 297
        },
        "id": "_I_K7Ggeunra",
        "outputId": "4d785c09-2197-4aa3-ff0b-eaa30218857d"
      },
      "source": [
        "# estatisticas das colunas numericas do dataframe\n",
        "lgbt_casamento.describe()"
      ],
      "execution_count": 6,
      "outputs": [
        {
          "output_type": "execute_result",
          "data": {
            "text/html": [
              "<div>\n",
              "<style scoped>\n",
              "    .dataframe tbody tr th:only-of-type {\n",
              "        vertical-align: middle;\n",
              "    }\n",
              "\n",
              "    .dataframe tbody tr th {\n",
              "        vertical-align: top;\n",
              "    }\n",
              "\n",
              "    .dataframe thead th {\n",
              "        text-align: right;\n",
              "    }\n",
              "</style>\n",
              "<table border=\"1\" class=\"dataframe\">\n",
              "  <thead>\n",
              "    <tr style=\"text-align: right;\">\n",
              "      <th></th>\n",
              "      <th>ano</th>\n",
              "      <th>numero</th>\n",
              "    </tr>\n",
              "  </thead>\n",
              "  <tbody>\n",
              "    <tr>\n",
              "      <th>count</th>\n",
              "      <td>9072.00000</td>\n",
              "      <td>9072.000000</td>\n",
              "    </tr>\n",
              "    <tr>\n",
              "      <th>mean</th>\n",
              "      <td>2016.00000</td>\n",
              "      <td>16.147266</td>\n",
              "    </tr>\n",
              "    <tr>\n",
              "      <th>std</th>\n",
              "      <td>2.00011</td>\n",
              "      <td>34.917386</td>\n",
              "    </tr>\n",
              "    <tr>\n",
              "      <th>min</th>\n",
              "      <td>2013.00000</td>\n",
              "      <td>0.000000</td>\n",
              "    </tr>\n",
              "    <tr>\n",
              "      <th>25%</th>\n",
              "      <td>2014.00000</td>\n",
              "      <td>2.000000</td>\n",
              "    </tr>\n",
              "    <tr>\n",
              "      <th>50%</th>\n",
              "      <td>2016.00000</td>\n",
              "      <td>6.000000</td>\n",
              "    </tr>\n",
              "    <tr>\n",
              "      <th>75%</th>\n",
              "      <td>2018.00000</td>\n",
              "      <td>15.000000</td>\n",
              "    </tr>\n",
              "    <tr>\n",
              "      <th>max</th>\n",
              "      <td>2019.00000</td>\n",
              "      <td>339.000000</td>\n",
              "    </tr>\n",
              "  </tbody>\n",
              "</table>\n",
              "</div>"
            ],
            "text/plain": [
              "              ano       numero\n",
              "count  9072.00000  9072.000000\n",
              "mean   2016.00000    16.147266\n",
              "std       2.00011    34.917386\n",
              "min    2013.00000     0.000000\n",
              "25%    2014.00000     2.000000\n",
              "50%    2016.00000     6.000000\n",
              "75%    2018.00000    15.000000\n",
              "max    2019.00000   339.000000"
            ]
          },
          "metadata": {},
          "execution_count": 6
        }
      ]
    },
    {
      "cell_type": "code",
      "metadata": {
        "colab": {
          "base_uri": "https://localhost:8080/"
        },
        "id": "TIOLBKkQuquh",
        "outputId": "3b0693bb-87b1-4c47-f863-f28b011fdd78"
      },
      "source": [
        "# cabeçalho da dataframe\n",
        "lgbt_casamento.columns"
      ],
      "execution_count": 7,
      "outputs": [
        {
          "output_type": "execute_result",
          "data": {
            "text/plain": [
              "Index(['ano', 'uf', 'genero', 'mes', 'numero'], dtype='object')"
            ]
          },
          "metadata": {},
          "execution_count": 7
        }
      ]
    },
    {
      "cell_type": "code",
      "metadata": {
        "colab": {
          "base_uri": "https://localhost:8080/"
        },
        "id": "qybAoUfOutuX",
        "outputId": "b168dd14-91b6-4d4b-e90c-5bc99a5f5afe"
      },
      "source": [
        "# valores únicos da coluna 'ano' do dataframe\n",
        "lgbt_casamento['ano'].unique()"
      ],
      "execution_count": 10,
      "outputs": [
        {
          "output_type": "execute_result",
          "data": {
            "text/plain": [
              "array([2014, 2013, 2015, 2016, 2017, 2018, 2019])"
            ]
          },
          "metadata": {},
          "execution_count": 10
        }
      ]
    },
    {
      "cell_type": "code",
      "metadata": {
        "colab": {
          "base_uri": "https://localhost:8080/"
        },
        "id": "l1cFoajcu-_7",
        "outputId": "7767c3c8-8406-43f7-9c36-7067bbab044c"
      },
      "source": [
        "# valores únicos da coluna 'mes' do dataframe\n",
        "lgbt_casamento['mes'].unique()"
      ],
      "execution_count": 11,
      "outputs": [
        {
          "output_type": "execute_result",
          "data": {
            "text/plain": [
              "array(['Janeiro', 'Fevereiro', 'Março', 'Abril', 'Maio', 'Junho', 'Julho',\n",
              "       'Agosto', 'Setembro', 'Outubro', 'Novembro', 'Dezembro'],\n",
              "      dtype=object)"
            ]
          },
          "metadata": {},
          "execution_count": 11
        }
      ]
    },
    {
      "cell_type": "code",
      "metadata": {
        "colab": {
          "base_uri": "https://localhost:8080/"
        },
        "id": "vKBHLZ4uvA9k",
        "outputId": "f2d0a8ac-baeb-4645-a476-6e55e47eddb7"
      },
      "source": [
        "# valores únicos da coluna 'genero' do dataframe\n",
        "lgbt_casamento['genero'].unique()"
      ],
      "execution_count": 12,
      "outputs": [
        {
          "output_type": "execute_result",
          "data": {
            "text/plain": [
              "array(['Feminino', 'Masculino'], dtype=object)"
            ]
          },
          "metadata": {},
          "execution_count": 12
        }
      ]
    },
    {
      "cell_type": "code",
      "metadata": {
        "colab": {
          "base_uri": "https://localhost:8080/"
        },
        "id": "z4xyDyq8vCrC",
        "outputId": "33d08106-f431-437c-c2f6-a8751cc8299c"
      },
      "source": [
        "# valores únicos da coluna 'uf' do dataframe\n",
        "lgbt_casamento['uf'].unique()"
      ],
      "execution_count": 13,
      "outputs": [
        {
          "output_type": "execute_result",
          "data": {
            "text/plain": [
              "array(['Rondônia', 'Acre', 'Amazonas', 'Roraima', 'Pará', 'Amapá',\n",
              "       'Tocantins', 'Maranhão', 'Piauí', 'Ceará', 'Rio Grande do Norte',\n",
              "       'Paraíba', 'Pernambuco', 'Alagoas', 'Sergipe', 'Bahia',\n",
              "       'Minas Gerais', 'Espírito Santo', 'Rio de Janeiro', 'São Paulo',\n",
              "       'Paraná', 'Santa Catarina', 'Rio Grande do Sul',\n",
              "       'Mato Grosso do Sul', 'Mato Grosso', 'Goiás', 'Distrito Federal'],\n",
              "      dtype=object)"
            ]
          },
          "metadata": {},
          "execution_count": 13
        }
      ]
    },
    {
      "cell_type": "code",
      "metadata": {
        "colab": {
          "base_uri": "https://localhost:8080/"
        },
        "id": "jWJ91ZflvEMU",
        "outputId": "a707005a-49b2-4e0b-8be9-e2ec30abdd38"
      },
      "source": [
        "# tamanho dos valores únicos da coluna 'uf' do dataframe\n",
        "len(lgbt_casamento['uf'].unique())"
      ],
      "execution_count": 18,
      "outputs": [
        {
          "output_type": "execute_result",
          "data": {
            "text/plain": [
              "27"
            ]
          },
          "metadata": {},
          "execution_count": 18
        }
      ]
    },
    {
      "cell_type": "code",
      "metadata": {
        "colab": {
          "base_uri": "https://localhost:8080/"
        },
        "id": "t8Zc7gFovKkz",
        "outputId": "f0b6f7e7-7f89-4460-95e0-bd0b06f7d670"
      },
      "source": [
        "# tamanho dos valores únicos da coluna 'mes' do dataframe\n",
        "len(lgbt_casamento['mes'].unique())"
      ],
      "execution_count": 19,
      "outputs": [
        {
          "output_type": "execute_result",
          "data": {
            "text/plain": [
              "12"
            ]
          },
          "metadata": {},
          "execution_count": 19
        }
      ]
    },
    {
      "cell_type": "code",
      "metadata": {
        "colab": {
          "base_uri": "https://localhost:8080/"
        },
        "id": "ofN06Z-DvMfZ",
        "outputId": "5887ffd7-db54-425f-9198-cf3b3ae65612"
      },
      "source": [
        "# tamanho dos valores únicos da coluna 'ano do dataframe\n",
        "len(lgbt_casamento['ano'].unique())"
      ],
      "execution_count": 20,
      "outputs": [
        {
          "output_type": "execute_result",
          "data": {
            "text/plain": [
              "7"
            ]
          },
          "metadata": {},
          "execution_count": 20
        }
      ]
    },
    {
      "cell_type": "code",
      "metadata": {
        "colab": {
          "base_uri": "https://localhost:8080/"
        },
        "id": "ZnoeuC3DvO18",
        "outputId": "0fcf062c-d1dd-4cbe-d774-12d3049b76af"
      },
      "source": [
        "# seleciona apenas a coluna 'ano'\n",
        "# observe que mostra o tamanho de 9.072 linhas\n",
        "lgbt_casamento['mes']"
      ],
      "execution_count": 22,
      "outputs": [
        {
          "output_type": "execute_result",
          "data": {
            "text/plain": [
              "0         Janeiro\n",
              "1       Fevereiro\n",
              "2           Março\n",
              "3           Abril\n",
              "4            Maio\n",
              "          ...    \n",
              "9067       Agosto\n",
              "9068     Setembro\n",
              "9069      Outubro\n",
              "9070     Novembro\n",
              "9071     Dezembro\n",
              "Name: mes, Length: 9072, dtype: object"
            ]
          },
          "metadata": {},
          "execution_count": 22
        }
      ]
    },
    {
      "cell_type": "code",
      "metadata": {
        "colab": {
          "base_uri": "https://localhost:8080/"
        },
        "id": "9n9yuFvuwgDV",
        "outputId": "c175abca-3b00-442b-f347-47ce1133fe6c"
      },
      "source": [
        "# número de linhas na coluna 'numero'\n",
        "len(lgbt_casamento['mes'])"
      ],
      "execution_count": 31,
      "outputs": [
        {
          "output_type": "execute_result",
          "data": {
            "text/plain": [
              "9072"
            ]
          },
          "metadata": {},
          "execution_count": 31
        }
      ]
    },
    {
      "cell_type": "code",
      "metadata": {
        "colab": {
          "base_uri": "https://localhost:8080/"
        },
        "id": "0RFZtoz6v_dw",
        "outputId": "1e5d4063-14c9-4373-a861-baca0b974e53"
      },
      "source": [
        "# pergunta se aquele campo da coluna 'mes' é NA (ou seja, sem preenchimento)\n",
        "lgbt_casamento['mes'].isna()"
      ],
      "execution_count": 23,
      "outputs": [
        {
          "output_type": "execute_result",
          "data": {
            "text/plain": [
              "0       False\n",
              "1       False\n",
              "2       False\n",
              "3       False\n",
              "4       False\n",
              "        ...  \n",
              "9067    False\n",
              "9068    False\n",
              "9069    False\n",
              "9070    False\n",
              "9071    False\n",
              "Name: mes, Length: 9072, dtype: bool"
            ]
          },
          "metadata": {},
          "execution_count": 23
        }
      ]
    },
    {
      "cell_type": "code",
      "metadata": {
        "colab": {
          "base_uri": "https://localhost:8080/"
        },
        "id": "2uZm5qjLwGmY",
        "outputId": "db2ab898-0448-44f7-989c-88905fded2a2"
      },
      "source": [
        "# pergunta se aquele campo da coluna 'numero' é NA (ou seja, sem preenchimento)\n",
        "lgbt_casamento['numero'].isna()"
      ],
      "execution_count": 29,
      "outputs": [
        {
          "output_type": "execute_result",
          "data": {
            "text/plain": [
              "0       False\n",
              "1       False\n",
              "2       False\n",
              "3       False\n",
              "4       False\n",
              "        ...  \n",
              "9067    False\n",
              "9068    False\n",
              "9069    False\n",
              "9070    False\n",
              "9071    False\n",
              "Name: numero, Length: 9072, dtype: bool"
            ]
          },
          "metadata": {},
          "execution_count": 29
        }
      ]
    },
    {
      "cell_type": "code",
      "metadata": {
        "colab": {
          "base_uri": "https://localhost:8080/"
        },
        "id": "1mn4TwZ9wOvA",
        "outputId": "d8cfdf22-6a8c-442e-c638-3de77a9bea7f"
      },
      "source": [
        "# número máximo da coluna 'numero'\n",
        "lgbt_casamento['numero'].max()"
      ],
      "execution_count": 25,
      "outputs": [
        {
          "output_type": "execute_result",
          "data": {
            "text/plain": [
              "339"
            ]
          },
          "metadata": {},
          "execution_count": 25
        }
      ]
    },
    {
      "cell_type": "code",
      "metadata": {
        "colab": {
          "base_uri": "https://localhost:8080/"
        },
        "id": "IsqlmsITwSg2",
        "outputId": "94d5d26c-3c1d-4431-a1fe-dfab915f616f"
      },
      "source": [
        "# número mínimo da coluna 'numero'\n",
        "lgbt_casamento['numero'].min()"
      ],
      "execution_count": 26,
      "outputs": [
        {
          "output_type": "execute_result",
          "data": {
            "text/plain": [
              "0"
            ]
          },
          "metadata": {},
          "execution_count": 26
        }
      ]
    },
    {
      "cell_type": "code",
      "metadata": {
        "colab": {
          "base_uri": "https://localhost:8080/"
        },
        "id": "FT0snwldwVJ3",
        "outputId": "b26c5baf-875f-43d2-c83b-75e747ff8b14"
      },
      "source": [
        "# média da coluna 'numero'\n",
        "lgbt_casamento['numero'].mean()"
      ],
      "execution_count": 27,
      "outputs": [
        {
          "output_type": "execute_result",
          "data": {
            "text/plain": [
              "16.14726631393298"
            ]
          },
          "metadata": {},
          "execution_count": 27
        }
      ]
    },
    {
      "cell_type": "code",
      "metadata": {
        "colab": {
          "base_uri": "https://localhost:8080/"
        },
        "id": "DBVQ5lgBwZKa",
        "outputId": "e4f80aae-6727-4c75-b99d-119f8005a5ce"
      },
      "source": [
        "# mediana da coluna 'numero'\n",
        "lgbt_casamento['numero'].median()"
      ],
      "execution_count": 28,
      "outputs": [
        {
          "output_type": "execute_result",
          "data": {
            "text/plain": [
              "6.0"
            ]
          },
          "metadata": {},
          "execution_count": 28
        }
      ]
    },
    {
      "cell_type": "code",
      "metadata": {
        "colab": {
          "base_uri": "https://localhost:8080/"
        },
        "id": "Z-wX9G6vwb0M",
        "outputId": "335fc8b7-6a82-42e2-8c77-eb3221654db0"
      },
      "source": [
        "# soma da coluna 'numero'\n",
        "sum(lgbt_casamento['numero'])"
      ],
      "execution_count": 32,
      "outputs": [
        {
          "output_type": "execute_result",
          "data": {
            "text/plain": [
              "146488"
            ]
          },
          "metadata": {},
          "execution_count": 32
        }
      ]
    }
  ]
}