{
  "nbformat": 4,
  "nbformat_minor": 0,
  "metadata": {
    "colab": {
      "name": "tode_casamentolgbt_regioes.ipynb",
      "provenance": [],
      "collapsed_sections": []
    },
    "kernelspec": {
      "name": "python3",
      "display_name": "Python 3"
    },
    "language_info": {
      "name": "python"
    }
  },
  "cells": [
    {
      "cell_type": "code",
      "metadata": {
        "id": "7p3qLqZ9TERh"
      },
      "source": [
        "import pandas as pd"
      ],
      "execution_count": 2,
      "outputs": []
    },
    {
      "cell_type": "code",
      "metadata": {
        "id": "wCM5gnstvWyH"
      },
      "source": [
        "lgbt_casamento = pd.read_csv('https://raw.githubusercontent.com/gabrielacaesar/lgbt_casamento/main/data/lgbt_casamento.csv')"
      ],
      "execution_count": 3,
      "outputs": []
    },
    {
      "cell_type": "markdown",
      "metadata": {
        "id": "t-BBZGhQ0oxo"
      },
      "source": [
        "# Criação de dataframe das regiões"
      ]
    },
    {
      "cell_type": "code",
      "metadata": {
        "id": "q5YxJGag0n5o"
      },
      "source": [
        "uf_norte = {'regiao': ['Norte']*7, 'uf': [\"Rondônia\",\"Acre\",\"Amazonas\",\"Roraima\", \"Pará\",\"Amapá\",\"Tocantins\"]}\n",
        "uf_nordeste = {'regiao': ['Nordeste']*9, 'uf': [\"Maranhão\",\"Piauí\",\"Ceará\",\"Rio Grande do Norte\",\"Paraíba\",\"Pernambuco\", \"Alagoas\",\"Sergipe\",\"Bahia\"]}\n",
        "uf_sudeste = {'regiao': ['Sudeste']*4, 'uf': [\"Minas Gerais\",\"Espírito Santo\",\"Rio de Janeiro\",\"São Paulo\"]}\n",
        "uf_sul = {'regiao': ['Sul']*3, 'uf': [\"Paraná\",\"Santa Catarina\",\"Rio Grande do Sul\"]}\n",
        "uf_centro_oeste = {'regiao': ['Centro-Oeste']*4, 'uf': [\"Mato Grosso do Sul\",\"Mato Grosso\",\"Goiás\", \"Distrito Federal\"]}\n",
        "\n",
        "regiao_norte = pd.DataFrame(uf_norte)\n",
        "regiao_nordeste = pd.DataFrame(uf_nordeste)\n",
        "regiao_sudeste = pd.DataFrame(uf_sudeste)\n",
        "regiao_sul = pd.DataFrame(uf_sul)\n",
        "regiao_centro_oeste = pd.DataFrame(uf_centro_oeste)\n",
        "\n",
        "regioes_uf = pd.concat([regiao_norte, regiao_nordeste, regiao_sudeste, regiao_sul, regiao_centro_oeste])"
      ],
      "execution_count": 4,
      "outputs": []
    },
    {
      "cell_type": "markdown",
      "metadata": {
        "id": "B84Ds9CWEpGc"
      },
      "source": [
        "# Merge"
      ]
    },
    {
      "cell_type": "code",
      "metadata": {
        "id": "yfunN8iD09IQ"
      },
      "source": [
        "lgbt_casamento_regioes = lgbt_casamento.merge(regioes_uf,on='uf')"
      ],
      "execution_count": 5,
      "outputs": []
    },
    {
      "cell_type": "code",
      "metadata": {
        "colab": {
          "base_uri": "https://localhost:8080/",
          "height": 206
        },
        "id": "8NuQ2z5ODr-y",
        "outputId": "2f8c2d25-e073-4380-ba4c-39442178f65a"
      },
      "source": [
        "lgbt_casamento_regioes.head()"
      ],
      "execution_count": null,
      "outputs": [
        {
          "output_type": "execute_result",
          "data": {
            "text/html": [
              "<div>\n",
              "<style scoped>\n",
              "    .dataframe tbody tr th:only-of-type {\n",
              "        vertical-align: middle;\n",
              "    }\n",
              "\n",
              "    .dataframe tbody tr th {\n",
              "        vertical-align: top;\n",
              "    }\n",
              "\n",
              "    .dataframe thead th {\n",
              "        text-align: right;\n",
              "    }\n",
              "</style>\n",
              "<table border=\"1\" class=\"dataframe\">\n",
              "  <thead>\n",
              "    <tr style=\"text-align: right;\">\n",
              "      <th></th>\n",
              "      <th>ano</th>\n",
              "      <th>uf</th>\n",
              "      <th>genero</th>\n",
              "      <th>mes</th>\n",
              "      <th>numero</th>\n",
              "      <th>regiao</th>\n",
              "    </tr>\n",
              "  </thead>\n",
              "  <tbody>\n",
              "    <tr>\n",
              "      <th>0</th>\n",
              "      <td>2014</td>\n",
              "      <td>Rondônia</td>\n",
              "      <td>Masculino</td>\n",
              "      <td>Janeiro</td>\n",
              "      <td>0</td>\n",
              "      <td>Norte</td>\n",
              "    </tr>\n",
              "    <tr>\n",
              "      <th>1</th>\n",
              "      <td>2014</td>\n",
              "      <td>Rondônia</td>\n",
              "      <td>Masculino</td>\n",
              "      <td>Fevereiro</td>\n",
              "      <td>0</td>\n",
              "      <td>Norte</td>\n",
              "    </tr>\n",
              "    <tr>\n",
              "      <th>2</th>\n",
              "      <td>2014</td>\n",
              "      <td>Rondônia</td>\n",
              "      <td>Masculino</td>\n",
              "      <td>Março</td>\n",
              "      <td>0</td>\n",
              "      <td>Norte</td>\n",
              "    </tr>\n",
              "    <tr>\n",
              "      <th>3</th>\n",
              "      <td>2014</td>\n",
              "      <td>Rondônia</td>\n",
              "      <td>Masculino</td>\n",
              "      <td>Abril</td>\n",
              "      <td>0</td>\n",
              "      <td>Norte</td>\n",
              "    </tr>\n",
              "    <tr>\n",
              "      <th>4</th>\n",
              "      <td>2014</td>\n",
              "      <td>Rondônia</td>\n",
              "      <td>Masculino</td>\n",
              "      <td>Maio</td>\n",
              "      <td>0</td>\n",
              "      <td>Norte</td>\n",
              "    </tr>\n",
              "  </tbody>\n",
              "</table>\n",
              "</div>"
            ],
            "text/plain": [
              "    ano        uf     genero        mes  numero regiao\n",
              "0  2014  Rondônia  Masculino    Janeiro       0  Norte\n",
              "1  2014  Rondônia  Masculino  Fevereiro       0  Norte\n",
              "2  2014  Rondônia  Masculino      Março       0  Norte\n",
              "3  2014  Rondônia  Masculino      Abril       0  Norte\n",
              "4  2014  Rondônia  Masculino       Maio       0  Norte"
            ]
          },
          "metadata": {},
          "execution_count": 6
        }
      ]
    },
    {
      "cell_type": "markdown",
      "metadata": {
        "id": "cf8fEEklTq0t"
      },
      "source": [
        "# Qual região teve o maior número de casamentos?"
      ]
    },
    {
      "cell_type": "code",
      "metadata": {
        "id": "mDVqBayfEvlS",
        "colab": {
          "base_uri": "https://localhost:8080/"
        },
        "outputId": "13486382-d494-497a-992c-640064d2873a"
      },
      "source": [
        "lgbt_casamento_regioes.groupby('regiao')['numero'].sum().sort_values(ascending=False)"
      ],
      "execution_count": null,
      "outputs": [
        {
          "output_type": "execute_result",
          "data": {
            "text/plain": [
              "regiao\n",
              "Sudeste         26288\n",
              "Nordeste         6579\n",
              "Sul              6388\n",
              "Centro-Oeste     3194\n",
              "Norte            1522\n",
              "Name: numero, dtype: int64"
            ]
          },
          "metadata": {},
          "execution_count": 8
        }
      ]
    },
    {
      "cell_type": "markdown",
      "metadata": {
        "id": "LW0p-yoEUWfR"
      },
      "source": [
        "# Qual a distribuição por gênero em cada região?"
      ]
    },
    {
      "cell_type": "code",
      "metadata": {
        "colab": {
          "base_uri": "https://localhost:8080/"
        },
        "id": "ENwXpDuCPvR6",
        "outputId": "aea85a33-97ab-4ef0-ee09-444f584f27d8"
      },
      "source": [
        "lgbt_casamento_regioes.groupby(['regiao','genero'])['numero'].sum()\n"
      ],
      "execution_count": null,
      "outputs": [
        {
          "output_type": "execute_result",
          "data": {
            "text/plain": [
              "regiao        genero   \n",
              "Centro-Oeste  Feminino      1759\n",
              "              Masculino     1435\n",
              "Nordeste      Feminino      3794\n",
              "              Masculino     2785\n",
              "Norte         Feminino       869\n",
              "              Masculino      653\n",
              "Sudeste       Feminino     14994\n",
              "              Masculino    11294\n",
              "Sul           Feminino      3175\n",
              "              Masculino     3213\n",
              "Name: numero, dtype: int64"
            ]
          },
          "metadata": {},
          "execution_count": 73
        }
      ]
    },
    {
      "cell_type": "markdown",
      "metadata": {
        "id": "NNv-WVzFU9zu"
      },
      "source": [
        "# Em que mês a região sudeste tem mais casamentos no total?"
      ]
    },
    {
      "cell_type": "code",
      "metadata": {
        "id": "DJK9lBBKVcBq"
      },
      "source": [
        "casamentos_sudeste = lgbt_casamento_regioes.query(\"regiao == 'Sudeste'  \")"
      ],
      "execution_count": 9,
      "outputs": []
    },
    {
      "cell_type": "code",
      "metadata": {
        "colab": {
          "base_uri": "https://localhost:8080/"
        },
        "id": "hRyieKIXVDk3",
        "outputId": "cf01ac18-630c-4da5-88c9-69c3f1cfc622"
      },
      "source": [
        "casamentos_sudeste.groupby(['regiao','mes'])['numero'].sum().sort_values(ascending=False)"
      ],
      "execution_count": 12,
      "outputs": [
        {
          "output_type": "execute_result",
          "data": {
            "text/plain": [
              "regiao   mes      \n",
              "Sudeste  Dezembro     3873\n",
              "         Novembro     2642\n",
              "         Outubro      2430\n",
              "         Setembro     2386\n",
              "         Janeiro      2068\n",
              "         Julho        1974\n",
              "         Maio         1894\n",
              "         Agosto       1865\n",
              "         Março        1858\n",
              "         Junho        1852\n",
              "         Fevereiro    1735\n",
              "         Abril        1711\n",
              "Name: numero, dtype: int64"
            ]
          },
          "metadata": {},
          "execution_count": 12
        }
      ]
    }
  ]
}