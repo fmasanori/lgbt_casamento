{
  "nbformat": 4,
  "nbformat_minor": 0,
  "metadata": {
    "colab": {
      "name": "gabriela-caesar-analise-de-dados-22set2021.ipynb",
      "provenance": []
    },
    "kernelspec": {
      "name": "python3",
      "display_name": "Python 3"
    },
    "language_info": {
      "name": "python"
    }
  },
  "cells": [
    {
      "cell_type": "code",
      "metadata": {
        "id": "oLJTElomA0ms"
      },
      "source": [
        "import pandas as pd"
      ],
      "execution_count": null,
      "outputs": []
    },
    {
      "cell_type": "markdown",
      "metadata": {
        "id": "EkLIqsF_FUIf"
      },
      "source": [
        "## CASAMENTO LGBT"
      ]
    },
    {
      "cell_type": "code",
      "metadata": {
        "id": "GoJrLkdNB6Gl"
      },
      "source": [
        "lgbt = pd.read_csv('same-sex-marriage-recognition.csv')"
      ],
      "execution_count": 61,
      "outputs": []
    },
    {
      "cell_type": "code",
      "metadata": {
        "colab": {
          "base_uri": "https://localhost:8080/",
          "height": 173
        },
        "id": "ymZI3wzwCHWR",
        "outputId": "26fcfaa7-1a29-4a26-d7a1-baed4dabf7ef"
      },
      "source": [
        "lgbt.head(4)"
      ],
      "execution_count": 62,
      "outputs": [
        {
          "output_type": "execute_result",
          "data": {
            "text/html": [
              "<div>\n",
              "<style scoped>\n",
              "    .dataframe tbody tr th:only-of-type {\n",
              "        vertical-align: middle;\n",
              "    }\n",
              "\n",
              "    .dataframe tbody tr th {\n",
              "        vertical-align: top;\n",
              "    }\n",
              "\n",
              "    .dataframe thead th {\n",
              "        text-align: right;\n",
              "    }\n",
              "</style>\n",
              "<table border=\"1\" class=\"dataframe\">\n",
              "  <thead>\n",
              "    <tr style=\"text-align: right;\">\n",
              "      <th></th>\n",
              "      <th>Entity</th>\n",
              "      <th>Code</th>\n",
              "      <th>Year</th>\n",
              "      <th>Same sex marriage and civil unions legal</th>\n",
              "    </tr>\n",
              "  </thead>\n",
              "  <tbody>\n",
              "    <tr>\n",
              "      <th>0</th>\n",
              "      <td>Afghanistan</td>\n",
              "      <td>AFG</td>\n",
              "      <td>2019</td>\n",
              "      <td>Same-sex marriage not legally recognized</td>\n",
              "    </tr>\n",
              "    <tr>\n",
              "      <th>1</th>\n",
              "      <td>Albania</td>\n",
              "      <td>ALB</td>\n",
              "      <td>2019</td>\n",
              "      <td>Same-sex marriage not legally recognized</td>\n",
              "    </tr>\n",
              "    <tr>\n",
              "      <th>2</th>\n",
              "      <td>Algeria</td>\n",
              "      <td>DZA</td>\n",
              "      <td>2019</td>\n",
              "      <td>Same-sex marriage not legally recognized</td>\n",
              "    </tr>\n",
              "    <tr>\n",
              "      <th>3</th>\n",
              "      <td>American Samoa</td>\n",
              "      <td>ASM</td>\n",
              "      <td>2019</td>\n",
              "      <td>Same-sex marriage not legally recognized</td>\n",
              "    </tr>\n",
              "  </tbody>\n",
              "</table>\n",
              "</div>"
            ],
            "text/plain": [
              "           Entity Code  Year  Same sex marriage and civil unions legal\n",
              "0     Afghanistan  AFG  2019  Same-sex marriage not legally recognized\n",
              "1         Albania  ALB  2019  Same-sex marriage not legally recognized\n",
              "2         Algeria  DZA  2019  Same-sex marriage not legally recognized\n",
              "3  American Samoa  ASM  2019  Same-sex marriage not legally recognized"
            ]
          },
          "metadata": {},
          "execution_count": 62
        }
      ]
    },
    {
      "cell_type": "code",
      "metadata": {
        "id": "2Un5NG9xCNph"
      },
      "source": [
        "lgbt.columns = ['pais', 'codigo_pais', 'ano', 'tipo_casamento']"
      ],
      "execution_count": 63,
      "outputs": []
    },
    {
      "cell_type": "code",
      "metadata": {
        "colab": {
          "base_uri": "https://localhost:8080/"
        },
        "id": "CYYZOKezCx_V",
        "outputId": "c25cca28-b741-4baf-86a9-a5ab9d1f6429"
      },
      "source": [
        "lgbt.columns"
      ],
      "execution_count": 64,
      "outputs": [
        {
          "output_type": "execute_result",
          "data": {
            "text/plain": [
              "Index(['pais', 'codigo_pais', 'ano', 'tipo_casamento'], dtype='object')"
            ]
          },
          "metadata": {},
          "execution_count": 64
        }
      ]
    },
    {
      "cell_type": "code",
      "metadata": {
        "colab": {
          "base_uri": "https://localhost:8080/"
        },
        "id": "PI7OCzORCzVF",
        "outputId": "a178cd8c-218a-4a7b-d4e6-c3e13cf3a487"
      },
      "source": [
        "lgbt.info()"
      ],
      "execution_count": 65,
      "outputs": [
        {
          "output_type": "stream",
          "name": "stdout",
          "text": [
            "<class 'pandas.core.frame.DataFrame'>\n",
            "RangeIndex: 224 entries, 0 to 223\n",
            "Data columns (total 4 columns):\n",
            " #   Column          Non-Null Count  Dtype \n",
            "---  ------          --------------  ----- \n",
            " 0   pais            224 non-null    object\n",
            " 1   codigo_pais     221 non-null    object\n",
            " 2   ano             224 non-null    int64 \n",
            " 3   tipo_casamento  224 non-null    object\n",
            "dtypes: int64(1), object(3)\n",
            "memory usage: 7.1+ KB\n"
          ]
        }
      ]
    },
    {
      "cell_type": "markdown",
      "metadata": {
        "id": "e9-sVQBFFSI_"
      },
      "source": [
        "## POPULACAO\n",
        "fonte dos dados: https://data.worldbank.org/indicator/SP.POP.TOTL"
      ]
    },
    {
      "cell_type": "code",
      "metadata": {
        "id": "O3wVFnr4Eli3"
      },
      "source": [
        "pop = pd.read_csv('API_SP.POP.TOTL_DS2_en_csv_v2_2918012.csv', skiprows = 3)"
      ],
      "execution_count": 66,
      "outputs": []
    },
    {
      "cell_type": "code",
      "metadata": {
        "colab": {
          "base_uri": "https://localhost:8080/",
          "height": 329
        },
        "id": "Gjwz-wcFE83_",
        "outputId": "64ae3916-5301-4005-da02-d4dab15c5ea5"
      },
      "source": [
        "pop.head(4)"
      ],
      "execution_count": 67,
      "outputs": [
        {
          "output_type": "execute_result",
          "data": {
            "text/html": [
              "<div>\n",
              "<style scoped>\n",
              "    .dataframe tbody tr th:only-of-type {\n",
              "        vertical-align: middle;\n",
              "    }\n",
              "\n",
              "    .dataframe tbody tr th {\n",
              "        vertical-align: top;\n",
              "    }\n",
              "\n",
              "    .dataframe thead th {\n",
              "        text-align: right;\n",
              "    }\n",
              "</style>\n",
              "<table border=\"1\" class=\"dataframe\">\n",
              "  <thead>\n",
              "    <tr style=\"text-align: right;\">\n",
              "      <th></th>\n",
              "      <th>Country Name</th>\n",
              "      <th>Country Code</th>\n",
              "      <th>Indicator Name</th>\n",
              "      <th>Indicator Code</th>\n",
              "      <th>1960</th>\n",
              "      <th>1961</th>\n",
              "      <th>1962</th>\n",
              "      <th>1963</th>\n",
              "      <th>1964</th>\n",
              "      <th>1965</th>\n",
              "      <th>1966</th>\n",
              "      <th>1967</th>\n",
              "      <th>1968</th>\n",
              "      <th>1969</th>\n",
              "      <th>1970</th>\n",
              "      <th>1971</th>\n",
              "      <th>1972</th>\n",
              "      <th>1973</th>\n",
              "      <th>1974</th>\n",
              "      <th>1975</th>\n",
              "      <th>1976</th>\n",
              "      <th>1977</th>\n",
              "      <th>1978</th>\n",
              "      <th>1979</th>\n",
              "      <th>1980</th>\n",
              "      <th>1981</th>\n",
              "      <th>1982</th>\n",
              "      <th>1983</th>\n",
              "      <th>1984</th>\n",
              "      <th>1985</th>\n",
              "      <th>1986</th>\n",
              "      <th>1987</th>\n",
              "      <th>1988</th>\n",
              "      <th>1989</th>\n",
              "      <th>1990</th>\n",
              "      <th>1991</th>\n",
              "      <th>1992</th>\n",
              "      <th>1993</th>\n",
              "      <th>1994</th>\n",
              "      <th>1995</th>\n",
              "      <th>1996</th>\n",
              "      <th>1997</th>\n",
              "      <th>1998</th>\n",
              "      <th>1999</th>\n",
              "      <th>2000</th>\n",
              "      <th>2001</th>\n",
              "      <th>2002</th>\n",
              "      <th>2003</th>\n",
              "      <th>2004</th>\n",
              "      <th>2005</th>\n",
              "      <th>2006</th>\n",
              "      <th>2007</th>\n",
              "      <th>2008</th>\n",
              "      <th>2009</th>\n",
              "      <th>2010</th>\n",
              "      <th>2011</th>\n",
              "      <th>2012</th>\n",
              "      <th>2013</th>\n",
              "      <th>2014</th>\n",
              "      <th>2015</th>\n",
              "      <th>2016</th>\n",
              "      <th>2017</th>\n",
              "      <th>2018</th>\n",
              "      <th>2019</th>\n",
              "      <th>2020</th>\n",
              "      <th>Unnamed: 65</th>\n",
              "    </tr>\n",
              "  </thead>\n",
              "  <tbody>\n",
              "    <tr>\n",
              "      <th>0</th>\n",
              "      <td>Aruba</td>\n",
              "      <td>ABW</td>\n",
              "      <td>Population, total</td>\n",
              "      <td>SP.POP.TOTL</td>\n",
              "      <td>54208.0</td>\n",
              "      <td>55434.0</td>\n",
              "      <td>56234.0</td>\n",
              "      <td>56699.0</td>\n",
              "      <td>57029.0</td>\n",
              "      <td>57357.0</td>\n",
              "      <td>57702.0</td>\n",
              "      <td>58044.0</td>\n",
              "      <td>58377.0</td>\n",
              "      <td>58734.0</td>\n",
              "      <td>59070.0</td>\n",
              "      <td>59442.0</td>\n",
              "      <td>59849.0</td>\n",
              "      <td>60236.0</td>\n",
              "      <td>60527.0</td>\n",
              "      <td>60653.0</td>\n",
              "      <td>60586.0</td>\n",
              "      <td>60366.0</td>\n",
              "      <td>60102.0</td>\n",
              "      <td>59972.0</td>\n",
              "      <td>60097.0</td>\n",
              "      <td>60561.0</td>\n",
              "      <td>61341.0</td>\n",
              "      <td>62213.0</td>\n",
              "      <td>62826.0</td>\n",
              "      <td>63024.0</td>\n",
              "      <td>62645.0</td>\n",
              "      <td>61838.0</td>\n",
              "      <td>61072.0</td>\n",
              "      <td>61033.0</td>\n",
              "      <td>62152.0</td>\n",
              "      <td>64623.0</td>\n",
              "      <td>68240.0</td>\n",
              "      <td>72495.0</td>\n",
              "      <td>76705.0</td>\n",
              "      <td>80324.0</td>\n",
              "      <td>83211.0</td>\n",
              "      <td>85450.0</td>\n",
              "      <td>87280.0</td>\n",
              "      <td>89009.0</td>\n",
              "      <td>90866.0</td>\n",
              "      <td>92892.0</td>\n",
              "      <td>94992.0</td>\n",
              "      <td>97016.0</td>\n",
              "      <td>98744.0</td>\n",
              "      <td>100028.0</td>\n",
              "      <td>100830.0</td>\n",
              "      <td>101226.0</td>\n",
              "      <td>101362.0</td>\n",
              "      <td>101452.0</td>\n",
              "      <td>101665.0</td>\n",
              "      <td>102050.0</td>\n",
              "      <td>102565.0</td>\n",
              "      <td>103165.0</td>\n",
              "      <td>103776.0</td>\n",
              "      <td>104339.0</td>\n",
              "      <td>104865.0</td>\n",
              "      <td>105361.0</td>\n",
              "      <td>105846.0</td>\n",
              "      <td>106310.0</td>\n",
              "      <td>106766.0</td>\n",
              "      <td>NaN</td>\n",
              "    </tr>\n",
              "    <tr>\n",
              "      <th>1</th>\n",
              "      <td>Africa Eastern and Southern</td>\n",
              "      <td>AFE</td>\n",
              "      <td>Population, total</td>\n",
              "      <td>SP.POP.TOTL</td>\n",
              "      <td>130836765.0</td>\n",
              "      <td>134159786.0</td>\n",
              "      <td>137614644.0</td>\n",
              "      <td>141202036.0</td>\n",
              "      <td>144920186.0</td>\n",
              "      <td>148769974.0</td>\n",
              "      <td>152752671.0</td>\n",
              "      <td>156876454.0</td>\n",
              "      <td>161156430.0</td>\n",
              "      <td>165611760.0</td>\n",
              "      <td>170257189.0</td>\n",
              "      <td>175100167.0</td>\n",
              "      <td>180141148.0</td>\n",
              "      <td>185376550.0</td>\n",
              "      <td>190800796.0</td>\n",
              "      <td>196409937.0</td>\n",
              "      <td>202205766.0</td>\n",
              "      <td>208193045.0</td>\n",
              "      <td>214368393.0</td>\n",
              "      <td>220740384.0</td>\n",
              "      <td>227305945.0</td>\n",
              "      <td>234058404.0</td>\n",
              "      <td>240999134.0</td>\n",
              "      <td>248146290.0</td>\n",
              "      <td>255530063.0</td>\n",
              "      <td>263161451.0</td>\n",
              "      <td>271050065.0</td>\n",
              "      <td>279184536.0</td>\n",
              "      <td>287524258.0</td>\n",
              "      <td>296024639.0</td>\n",
              "      <td>304648010.0</td>\n",
              "      <td>313394693.0</td>\n",
              "      <td>322270073.0</td>\n",
              "      <td>331265579.0</td>\n",
              "      <td>340379934.0</td>\n",
              "      <td>349605660.0</td>\n",
              "      <td>358953595.0</td>\n",
              "      <td>368440591.0</td>\n",
              "      <td>378098393.0</td>\n",
              "      <td>387977990.0</td>\n",
              "      <td>398113044.0</td>\n",
              "      <td>408522129.0</td>\n",
              "      <td>419223717.0</td>\n",
              "      <td>430246635.0</td>\n",
              "      <td>441630149.0</td>\n",
              "      <td>453404076.0</td>\n",
              "      <td>465581372.0</td>\n",
              "      <td>478166911.0</td>\n",
              "      <td>491173160.0</td>\n",
              "      <td>504604672.0</td>\n",
              "      <td>518468229.0</td>\n",
              "      <td>532760424.0</td>\n",
              "      <td>547482863.0</td>\n",
              "      <td>562601578.0</td>\n",
              "      <td>578075373.0</td>\n",
              "      <td>593871847.0</td>\n",
              "      <td>609978946.0</td>\n",
              "      <td>626392880.0</td>\n",
              "      <td>643090131.0</td>\n",
              "      <td>660046272.0</td>\n",
              "      <td>677243299.0</td>\n",
              "      <td>NaN</td>\n",
              "    </tr>\n",
              "    <tr>\n",
              "      <th>2</th>\n",
              "      <td>Afghanistan</td>\n",
              "      <td>AFG</td>\n",
              "      <td>Population, total</td>\n",
              "      <td>SP.POP.TOTL</td>\n",
              "      <td>8996967.0</td>\n",
              "      <td>9169406.0</td>\n",
              "      <td>9351442.0</td>\n",
              "      <td>9543200.0</td>\n",
              "      <td>9744772.0</td>\n",
              "      <td>9956318.0</td>\n",
              "      <td>10174840.0</td>\n",
              "      <td>10399936.0</td>\n",
              "      <td>10637064.0</td>\n",
              "      <td>10893772.0</td>\n",
              "      <td>11173654.0</td>\n",
              "      <td>11475450.0</td>\n",
              "      <td>11791222.0</td>\n",
              "      <td>12108963.0</td>\n",
              "      <td>12412960.0</td>\n",
              "      <td>12689164.0</td>\n",
              "      <td>12943093.0</td>\n",
              "      <td>13171294.0</td>\n",
              "      <td>13341199.0</td>\n",
              "      <td>13411060.0</td>\n",
              "      <td>13356500.0</td>\n",
              "      <td>13171679.0</td>\n",
              "      <td>12882518.0</td>\n",
              "      <td>12537732.0</td>\n",
              "      <td>12204306.0</td>\n",
              "      <td>11938204.0</td>\n",
              "      <td>11736177.0</td>\n",
              "      <td>11604538.0</td>\n",
              "      <td>11618008.0</td>\n",
              "      <td>11868873.0</td>\n",
              "      <td>12412311.0</td>\n",
              "      <td>13299016.0</td>\n",
              "      <td>14485543.0</td>\n",
              "      <td>15816601.0</td>\n",
              "      <td>17075728.0</td>\n",
              "      <td>18110662.0</td>\n",
              "      <td>18853444.0</td>\n",
              "      <td>19357126.0</td>\n",
              "      <td>19737770.0</td>\n",
              "      <td>20170847.0</td>\n",
              "      <td>20779957.0</td>\n",
              "      <td>21606992.0</td>\n",
              "      <td>22600774.0</td>\n",
              "      <td>23680871.0</td>\n",
              "      <td>24726689.0</td>\n",
              "      <td>25654274.0</td>\n",
              "      <td>26433058.0</td>\n",
              "      <td>27100542.0</td>\n",
              "      <td>27722281.0</td>\n",
              "      <td>28394806.0</td>\n",
              "      <td>29185511.0</td>\n",
              "      <td>30117411.0</td>\n",
              "      <td>31161378.0</td>\n",
              "      <td>32269592.0</td>\n",
              "      <td>33370804.0</td>\n",
              "      <td>34413603.0</td>\n",
              "      <td>35383028.0</td>\n",
              "      <td>36296111.0</td>\n",
              "      <td>37171922.0</td>\n",
              "      <td>38041757.0</td>\n",
              "      <td>38928341.0</td>\n",
              "      <td>NaN</td>\n",
              "    </tr>\n",
              "    <tr>\n",
              "      <th>3</th>\n",
              "      <td>Africa Western and Central</td>\n",
              "      <td>AFW</td>\n",
              "      <td>Population, total</td>\n",
              "      <td>SP.POP.TOTL</td>\n",
              "      <td>96396419.0</td>\n",
              "      <td>98407221.0</td>\n",
              "      <td>100506960.0</td>\n",
              "      <td>102691339.0</td>\n",
              "      <td>104953470.0</td>\n",
              "      <td>107289875.0</td>\n",
              "      <td>109701811.0</td>\n",
              "      <td>112195950.0</td>\n",
              "      <td>114781116.0</td>\n",
              "      <td>117468741.0</td>\n",
              "      <td>120269044.0</td>\n",
              "      <td>123184308.0</td>\n",
              "      <td>126218502.0</td>\n",
              "      <td>129384954.0</td>\n",
              "      <td>132699537.0</td>\n",
              "      <td>136173544.0</td>\n",
              "      <td>139813171.0</td>\n",
              "      <td>143615715.0</td>\n",
              "      <td>147571063.0</td>\n",
              "      <td>151663853.0</td>\n",
              "      <td>155882270.0</td>\n",
              "      <td>160223588.0</td>\n",
              "      <td>164689764.0</td>\n",
              "      <td>169279422.0</td>\n",
              "      <td>173991851.0</td>\n",
              "      <td>178826553.0</td>\n",
              "      <td>183785612.0</td>\n",
              "      <td>188868567.0</td>\n",
              "      <td>194070079.0</td>\n",
              "      <td>199382783.0</td>\n",
              "      <td>204803865.0</td>\n",
              "      <td>210332267.0</td>\n",
              "      <td>215976366.0</td>\n",
              "      <td>221754806.0</td>\n",
              "      <td>227692136.0</td>\n",
              "      <td>233807627.0</td>\n",
              "      <td>240114179.0</td>\n",
              "      <td>246613750.0</td>\n",
              "      <td>253302310.0</td>\n",
              "      <td>260170348.0</td>\n",
              "      <td>267214544.0</td>\n",
              "      <td>274433894.0</td>\n",
              "      <td>281842480.0</td>\n",
              "      <td>289469530.0</td>\n",
              "      <td>297353098.0</td>\n",
              "      <td>305520588.0</td>\n",
              "      <td>313985474.0</td>\n",
              "      <td>322741656.0</td>\n",
              "      <td>331772330.0</td>\n",
              "      <td>341050537.0</td>\n",
              "      <td>350556886.0</td>\n",
              "      <td>360285439.0</td>\n",
              "      <td>370243017.0</td>\n",
              "      <td>380437896.0</td>\n",
              "      <td>390882979.0</td>\n",
              "      <td>401586651.0</td>\n",
              "      <td>412551299.0</td>\n",
              "      <td>423769930.0</td>\n",
              "      <td>435229381.0</td>\n",
              "      <td>446911598.0</td>\n",
              "      <td>458803476.0</td>\n",
              "      <td>NaN</td>\n",
              "    </tr>\n",
              "  </tbody>\n",
              "</table>\n",
              "</div>"
            ],
            "text/plain": [
              "                  Country Name Country Code  ...         2020 Unnamed: 65\n",
              "0                        Aruba          ABW  ...     106766.0         NaN\n",
              "1  Africa Eastern and Southern          AFE  ...  677243299.0         NaN\n",
              "2                  Afghanistan          AFG  ...   38928341.0         NaN\n",
              "3   Africa Western and Central          AFW  ...  458803476.0         NaN\n",
              "\n",
              "[4 rows x 66 columns]"
            ]
          },
          "metadata": {},
          "execution_count": 67
        }
      ]
    },
    {
      "cell_type": "code",
      "metadata": {
        "colab": {
          "base_uri": "https://localhost:8080/"
        },
        "id": "48VH91OcGy9d",
        "outputId": "890f405b-b33e-4f36-ab80-1178dc100660"
      },
      "source": [
        "pop['Indicator Name'].unique()"
      ],
      "execution_count": 68,
      "outputs": [
        {
          "output_type": "execute_result",
          "data": {
            "text/plain": [
              "array(['Population, total'], dtype=object)"
            ]
          },
          "metadata": {},
          "execution_count": 68
        }
      ]
    },
    {
      "cell_type": "code",
      "metadata": {
        "id": "855WWHLKCMaI"
      },
      "source": [
        "pop = pop.rename(columns={\"Country Name\": \"pais\", \"Country Code\": \"codigo_pais\", \"2019\" : \"populacao\"})"
      ],
      "execution_count": 99,
      "outputs": []
    },
    {
      "cell_type": "code",
      "metadata": {
        "colab": {
          "base_uri": "https://localhost:8080/"
        },
        "id": "Wv5b-TkKFxDG",
        "outputId": "801e47d2-295e-489b-ec62-4817d9148975"
      },
      "source": [
        "pop.columns"
      ],
      "execution_count": 100,
      "outputs": [
        {
          "output_type": "execute_result",
          "data": {
            "text/plain": [
              "Index(['pais', 'codigo_pais', 'populacao'], dtype='object')"
            ]
          },
          "metadata": {},
          "execution_count": 100
        }
      ]
    },
    {
      "cell_type": "code",
      "metadata": {
        "id": "y6I4R2oRFyj1"
      },
      "source": [
        "pop = pop[['pais', 'codigo_pais', 'populacao']]"
      ],
      "execution_count": 101,
      "outputs": []
    },
    {
      "cell_type": "code",
      "metadata": {
        "colab": {
          "base_uri": "https://localhost:8080/",
          "height": 173
        },
        "id": "B74qZn5OGoTa",
        "outputId": "265cb7fc-3fc9-419c-89eb-e22aa88060f4"
      },
      "source": [
        "pop.head(4)"
      ],
      "execution_count": 102,
      "outputs": [
        {
          "output_type": "execute_result",
          "data": {
            "text/html": [
              "<div>\n",
              "<style scoped>\n",
              "    .dataframe tbody tr th:only-of-type {\n",
              "        vertical-align: middle;\n",
              "    }\n",
              "\n",
              "    .dataframe tbody tr th {\n",
              "        vertical-align: top;\n",
              "    }\n",
              "\n",
              "    .dataframe thead th {\n",
              "        text-align: right;\n",
              "    }\n",
              "</style>\n",
              "<table border=\"1\" class=\"dataframe\">\n",
              "  <thead>\n",
              "    <tr style=\"text-align: right;\">\n",
              "      <th></th>\n",
              "      <th>pais</th>\n",
              "      <th>codigo_pais</th>\n",
              "      <th>populacao</th>\n",
              "    </tr>\n",
              "  </thead>\n",
              "  <tbody>\n",
              "    <tr>\n",
              "      <th>0</th>\n",
              "      <td>Aruba</td>\n",
              "      <td>ABW</td>\n",
              "      <td>106310.0</td>\n",
              "    </tr>\n",
              "    <tr>\n",
              "      <th>1</th>\n",
              "      <td>Africa Eastern and Southern</td>\n",
              "      <td>AFE</td>\n",
              "      <td>660046272.0</td>\n",
              "    </tr>\n",
              "    <tr>\n",
              "      <th>2</th>\n",
              "      <td>Afghanistan</td>\n",
              "      <td>AFG</td>\n",
              "      <td>38041757.0</td>\n",
              "    </tr>\n",
              "    <tr>\n",
              "      <th>3</th>\n",
              "      <td>Africa Western and Central</td>\n",
              "      <td>AFW</td>\n",
              "      <td>446911598.0</td>\n",
              "    </tr>\n",
              "  </tbody>\n",
              "</table>\n",
              "</div>"
            ],
            "text/plain": [
              "                          pais codigo_pais    populacao\n",
              "0                        Aruba         ABW     106310.0\n",
              "1  Africa Eastern and Southern         AFE  660046272.0\n",
              "2                  Afghanistan         AFG   38041757.0\n",
              "3   Africa Western and Central         AFW  446911598.0"
            ]
          },
          "metadata": {},
          "execution_count": 102
        }
      ]
    },
    {
      "cell_type": "code",
      "metadata": {
        "colab": {
          "base_uri": "https://localhost:8080/"
        },
        "id": "qPTueDesGpux",
        "outputId": "d197b5b9-9fe2-403c-e126-d5de94e550d6"
      },
      "source": [
        "pop.info()"
      ],
      "execution_count": 103,
      "outputs": [
        {
          "output_type": "stream",
          "name": "stdout",
          "text": [
            "<class 'pandas.core.frame.DataFrame'>\n",
            "RangeIndex: 266 entries, 0 to 265\n",
            "Data columns (total 3 columns):\n",
            " #   Column       Non-Null Count  Dtype  \n",
            "---  ------       --------------  -----  \n",
            " 0   pais         266 non-null    object \n",
            " 1   codigo_pais  266 non-null    object \n",
            " 2   populacao    264 non-null    float64\n",
            "dtypes: float64(1), object(2)\n",
            "memory usage: 6.4+ KB\n"
          ]
        }
      ]
    },
    {
      "cell_type": "markdown",
      "metadata": {
        "id": "-JW_7ZAZHVI0"
      },
      "source": [
        "## MERGE"
      ]
    },
    {
      "cell_type": "markdown",
      "metadata": {
        "id": "N34Qece5X6dd"
      },
      "source": [
        "#### Quantas pessoas vivem em países com o casamento legalizado em 2019? E quantas não vivem?\n"
      ]
    },
    {
      "cell_type": "code",
      "metadata": {
        "id": "wasLObiRJlcM"
      },
      "source": [
        "lgbt['codigo_pais'] = lgbt['codigo_pais'].astype(str)\n",
        "pop['codigo_pais'] = pop['codigo_pais'].astype(str)"
      ],
      "execution_count": 110,
      "outputs": []
    },
    {
      "cell_type": "code",
      "metadata": {
        "colab": {
          "base_uri": "https://localhost:8080/",
          "height": 130
        },
        "id": "HsDr-hXSYD4A",
        "outputId": "953a63aa-a299-4610-ff46-778da53aa4fc"
      },
      "source": [
        "# vamos filtrar por 2019 pois assim teremos apenas os dados mais recentes\n",
        "# ja que queremos saber quantas pessoas vivem em paises com casamento lgbt\n",
        "# nao estou conseguindo filtrar.....\n",
        "lgbt_2019 = lgbt.query['ano == 2019']"
      ],
      "execution_count": 126,
      "outputs": [
        {
          "output_type": "error",
          "ename": "SyntaxError",
          "evalue": "ignored",
          "traceback": [
            "\u001b[0;36m  File \u001b[0;32m\"<ipython-input-126-6ba603d4b2a4>\"\u001b[0;36m, line \u001b[0;32m3\u001b[0m\n\u001b[0;31m    lgbt_2019 = lgbt.query['ano == 2019', engine='python']\u001b[0m\n\u001b[0m                                                ^\u001b[0m\n\u001b[0;31mSyntaxError\u001b[0m\u001b[0;31m:\u001b[0m invalid syntax\n"
          ]
        }
      ]
    },
    {
      "cell_type": "code",
      "metadata": {
        "id": "0Ze4cb2_HWCG"
      },
      "source": [
        "lgbt_pop = pd.merge(lgbt, pop, how = 'left', on = 'codigo_pais')"
      ],
      "execution_count": 128,
      "outputs": []
    },
    {
      "cell_type": "code",
      "metadata": {
        "id": "3i6YXwSsIg-Z",
        "colab": {
          "base_uri": "https://localhost:8080/",
          "height": 173
        },
        "outputId": "a3e97ce1-3171-449f-b345-b878d4e4b364"
      },
      "source": [
        "lgbt_pop.head(4)"
      ],
      "execution_count": 106,
      "outputs": [
        {
          "output_type": "execute_result",
          "data": {
            "text/html": [
              "<div>\n",
              "<style scoped>\n",
              "    .dataframe tbody tr th:only-of-type {\n",
              "        vertical-align: middle;\n",
              "    }\n",
              "\n",
              "    .dataframe tbody tr th {\n",
              "        vertical-align: top;\n",
              "    }\n",
              "\n",
              "    .dataframe thead th {\n",
              "        text-align: right;\n",
              "    }\n",
              "</style>\n",
              "<table border=\"1\" class=\"dataframe\">\n",
              "  <thead>\n",
              "    <tr style=\"text-align: right;\">\n",
              "      <th></th>\n",
              "      <th>pais_x</th>\n",
              "      <th>codigo_pais</th>\n",
              "      <th>ano</th>\n",
              "      <th>tipo_casamento</th>\n",
              "      <th>pais_y</th>\n",
              "      <th>populacao</th>\n",
              "    </tr>\n",
              "  </thead>\n",
              "  <tbody>\n",
              "    <tr>\n",
              "      <th>0</th>\n",
              "      <td>Afghanistan</td>\n",
              "      <td>AFG</td>\n",
              "      <td>2019</td>\n",
              "      <td>Same-sex marriage not legally recognized</td>\n",
              "      <td>Afghanistan</td>\n",
              "      <td>38041757.0</td>\n",
              "    </tr>\n",
              "    <tr>\n",
              "      <th>1</th>\n",
              "      <td>Albania</td>\n",
              "      <td>ALB</td>\n",
              "      <td>2019</td>\n",
              "      <td>Same-sex marriage not legally recognized</td>\n",
              "      <td>Albania</td>\n",
              "      <td>2854191.0</td>\n",
              "    </tr>\n",
              "    <tr>\n",
              "      <th>2</th>\n",
              "      <td>Algeria</td>\n",
              "      <td>DZA</td>\n",
              "      <td>2019</td>\n",
              "      <td>Same-sex marriage not legally recognized</td>\n",
              "      <td>Algeria</td>\n",
              "      <td>43053054.0</td>\n",
              "    </tr>\n",
              "    <tr>\n",
              "      <th>3</th>\n",
              "      <td>American Samoa</td>\n",
              "      <td>ASM</td>\n",
              "      <td>2019</td>\n",
              "      <td>Same-sex marriage not legally recognized</td>\n",
              "      <td>American Samoa</td>\n",
              "      <td>55312.0</td>\n",
              "    </tr>\n",
              "  </tbody>\n",
              "</table>\n",
              "</div>"
            ],
            "text/plain": [
              "           pais_x codigo_pais  ...          pais_y   populacao\n",
              "0     Afghanistan         AFG  ...     Afghanistan  38041757.0\n",
              "1         Albania         ALB  ...         Albania   2854191.0\n",
              "2         Algeria         DZA  ...         Algeria  43053054.0\n",
              "3  American Samoa         ASM  ...  American Samoa     55312.0\n",
              "\n",
              "[4 rows x 6 columns]"
            ]
          },
          "metadata": {},
          "execution_count": 106
        }
      ]
    },
    {
      "cell_type": "code",
      "metadata": {
        "id": "md15UqkeIXp8",
        "colab": {
          "base_uri": "https://localhost:8080/",
          "height": 173
        },
        "outputId": "1fe54c4a-520b-4704-e569-173a1819f359"
      },
      "source": [
        "lgbt_pop.tail(4)"
      ],
      "execution_count": 107,
      "outputs": [
        {
          "output_type": "execute_result",
          "data": {
            "text/html": [
              "<div>\n",
              "<style scoped>\n",
              "    .dataframe tbody tr th:only-of-type {\n",
              "        vertical-align: middle;\n",
              "    }\n",
              "\n",
              "    .dataframe tbody tr th {\n",
              "        vertical-align: top;\n",
              "    }\n",
              "\n",
              "    .dataframe thead th {\n",
              "        text-align: right;\n",
              "    }\n",
              "</style>\n",
              "<table border=\"1\" class=\"dataframe\">\n",
              "  <thead>\n",
              "    <tr style=\"text-align: right;\">\n",
              "      <th></th>\n",
              "      <th>pais_x</th>\n",
              "      <th>codigo_pais</th>\n",
              "      <th>ano</th>\n",
              "      <th>tipo_casamento</th>\n",
              "      <th>pais_y</th>\n",
              "      <th>populacao</th>\n",
              "    </tr>\n",
              "  </thead>\n",
              "  <tbody>\n",
              "    <tr>\n",
              "      <th>220</th>\n",
              "      <td>Western Sahara</td>\n",
              "      <td>ESH</td>\n",
              "      <td>2019</td>\n",
              "      <td>Same-sex marriage not legally recognized</td>\n",
              "      <td>NaN</td>\n",
              "      <td>NaN</td>\n",
              "    </tr>\n",
              "    <tr>\n",
              "      <th>221</th>\n",
              "      <td>Yemen</td>\n",
              "      <td>YEM</td>\n",
              "      <td>2019</td>\n",
              "      <td>Same-sex marriage not legally recognized</td>\n",
              "      <td>Yemen, Rep.</td>\n",
              "      <td>29161922.0</td>\n",
              "    </tr>\n",
              "    <tr>\n",
              "      <th>222</th>\n",
              "      <td>Zambia</td>\n",
              "      <td>ZMB</td>\n",
              "      <td>2019</td>\n",
              "      <td>Same-sex marriage not legally recognized</td>\n",
              "      <td>Zambia</td>\n",
              "      <td>17861034.0</td>\n",
              "    </tr>\n",
              "    <tr>\n",
              "      <th>223</th>\n",
              "      <td>Zimbabwe</td>\n",
              "      <td>ZWE</td>\n",
              "      <td>2019</td>\n",
              "      <td>Same-sex marriage not legally recognized</td>\n",
              "      <td>Zimbabwe</td>\n",
              "      <td>14645473.0</td>\n",
              "    </tr>\n",
              "  </tbody>\n",
              "</table>\n",
              "</div>"
            ],
            "text/plain": [
              "             pais_x codigo_pais  ...       pais_y   populacao\n",
              "220  Western Sahara         ESH  ...          NaN         NaN\n",
              "221           Yemen         YEM  ...  Yemen, Rep.  29161922.0\n",
              "222          Zambia         ZMB  ...       Zambia  17861034.0\n",
              "223        Zimbabwe         ZWE  ...     Zimbabwe  14645473.0\n",
              "\n",
              "[4 rows x 6 columns]"
            ]
          },
          "metadata": {},
          "execution_count": 107
        }
      ]
    },
    {
      "cell_type": "code",
      "metadata": {
        "id": "shkiDmW9HRkm"
      },
      "source": [
        "# paises com NA na 'populacao' ou NA no 'codigo_pais'\n",
        "# nao serao considerados no calculo\n",
        "erro = lgbt_pop.query('populacao.isnull()', engine='python')"
      ],
      "execution_count": 108,
      "outputs": []
    },
    {
      "cell_type": "code",
      "metadata": {
        "id": "PcrdW-2iHQYt",
        "colab": {
          "base_uri": "https://localhost:8080/",
          "height": 359
        },
        "outputId": "df26d074-dda0-48a2-b9a6-3e76e3662874"
      },
      "source": [
        "erro"
      ],
      "execution_count": 109,
      "outputs": [
        {
          "output_type": "execute_result",
          "data": {
            "text/html": [
              "<div>\n",
              "<style scoped>\n",
              "    .dataframe tbody tr th:only-of-type {\n",
              "        vertical-align: middle;\n",
              "    }\n",
              "\n",
              "    .dataframe tbody tr th {\n",
              "        vertical-align: top;\n",
              "    }\n",
              "\n",
              "    .dataframe thead th {\n",
              "        text-align: right;\n",
              "    }\n",
              "</style>\n",
              "<table border=\"1\" class=\"dataframe\">\n",
              "  <thead>\n",
              "    <tr style=\"text-align: right;\">\n",
              "      <th></th>\n",
              "      <th>pais_x</th>\n",
              "      <th>codigo_pais</th>\n",
              "      <th>ano</th>\n",
              "      <th>tipo_casamento</th>\n",
              "      <th>pais_y</th>\n",
              "      <th>populacao</th>\n",
              "    </tr>\n",
              "  </thead>\n",
              "  <tbody>\n",
              "    <tr>\n",
              "      <th>39</th>\n",
              "      <td>Channel Islands</td>\n",
              "      <td>OWID_CIS</td>\n",
              "      <td>2019</td>\n",
              "      <td>Same-sex marriage not legally recognized</td>\n",
              "      <td>NaN</td>\n",
              "      <td>NaN</td>\n",
              "    </tr>\n",
              "    <tr>\n",
              "      <th>61</th>\n",
              "      <td>Eritrea</td>\n",
              "      <td>ERI</td>\n",
              "      <td>2019</td>\n",
              "      <td>Same-sex marriage not legally recognized</td>\n",
              "      <td>Eritrea</td>\n",
              "      <td>NaN</td>\n",
              "    </tr>\n",
              "    <tr>\n",
              "      <th>69</th>\n",
              "      <td>French Guiana</td>\n",
              "      <td>GUF</td>\n",
              "      <td>2019</td>\n",
              "      <td>Same-sex marriage not legally recognized</td>\n",
              "      <td>NaN</td>\n",
              "      <td>NaN</td>\n",
              "    </tr>\n",
              "    <tr>\n",
              "      <th>71</th>\n",
              "      <td>French Southern Territories</td>\n",
              "      <td>ATF</td>\n",
              "      <td>2019</td>\n",
              "      <td>Same-sex marriage not legally recognized</td>\n",
              "      <td>NaN</td>\n",
              "      <td>NaN</td>\n",
              "    </tr>\n",
              "    <tr>\n",
              "      <th>105</th>\n",
              "      <td>Kosovo</td>\n",
              "      <td>OWID_KOS</td>\n",
              "      <td>2019</td>\n",
              "      <td>Same-sex marriage not legally recognized</td>\n",
              "      <td>NaN</td>\n",
              "      <td>NaN</td>\n",
              "    </tr>\n",
              "    <tr>\n",
              "      <th>147</th>\n",
              "      <td>Northern Ireland</td>\n",
              "      <td>nan</td>\n",
              "      <td>2019</td>\n",
              "      <td>Same-sex marriage legal</td>\n",
              "      <td>NaN</td>\n",
              "      <td>NaN</td>\n",
              "    </tr>\n",
              "    <tr>\n",
              "      <th>174</th>\n",
              "      <td>Scotland</td>\n",
              "      <td>nan</td>\n",
              "      <td>2014</td>\n",
              "      <td>Same-sex marriage legal</td>\n",
              "      <td>NaN</td>\n",
              "      <td>NaN</td>\n",
              "    </tr>\n",
              "    <tr>\n",
              "      <th>195</th>\n",
              "      <td>Taiwan</td>\n",
              "      <td>TWN</td>\n",
              "      <td>2019</td>\n",
              "      <td>Same-sex marriage legal</td>\n",
              "      <td>NaN</td>\n",
              "      <td>NaN</td>\n",
              "    </tr>\n",
              "    <tr>\n",
              "      <th>219</th>\n",
              "      <td>West Bank</td>\n",
              "      <td>nan</td>\n",
              "      <td>2019</td>\n",
              "      <td>Same-sex marriage not legally recognized</td>\n",
              "      <td>NaN</td>\n",
              "      <td>NaN</td>\n",
              "    </tr>\n",
              "    <tr>\n",
              "      <th>220</th>\n",
              "      <td>Western Sahara</td>\n",
              "      <td>ESH</td>\n",
              "      <td>2019</td>\n",
              "      <td>Same-sex marriage not legally recognized</td>\n",
              "      <td>NaN</td>\n",
              "      <td>NaN</td>\n",
              "    </tr>\n",
              "  </tbody>\n",
              "</table>\n",
              "</div>"
            ],
            "text/plain": [
              "                          pais_x codigo_pais  ...   pais_y populacao\n",
              "39               Channel Islands    OWID_CIS  ...      NaN       NaN\n",
              "61                       Eritrea         ERI  ...  Eritrea       NaN\n",
              "69                 French Guiana         GUF  ...      NaN       NaN\n",
              "71   French Southern Territories         ATF  ...      NaN       NaN\n",
              "105                       Kosovo    OWID_KOS  ...      NaN       NaN\n",
              "147             Northern Ireland         nan  ...      NaN       NaN\n",
              "174                     Scotland         nan  ...      NaN       NaN\n",
              "195                       Taiwan         TWN  ...      NaN       NaN\n",
              "219                    West Bank         nan  ...      NaN       NaN\n",
              "220               Western Sahara         ESH  ...      NaN       NaN\n",
              "\n",
              "[10 rows x 6 columns]"
            ]
          },
          "metadata": {},
          "execution_count": 109
        }
      ]
    },
    {
      "cell_type": "code",
      "metadata": {
        "id": "SAoKs9pgHM_N",
        "colab": {
          "base_uri": "https://localhost:8080/",
          "height": 450
        },
        "outputId": "9881bf12-624e-496e-b47a-ac0d687c0c1d"
      },
      "source": [
        "lgbt_pop.groupby('pais_x').sum()"
      ],
      "execution_count": 129,
      "outputs": [
        {
          "output_type": "execute_result",
          "data": {
            "text/html": [
              "<div>\n",
              "<style scoped>\n",
              "    .dataframe tbody tr th:only-of-type {\n",
              "        vertical-align: middle;\n",
              "    }\n",
              "\n",
              "    .dataframe tbody tr th {\n",
              "        vertical-align: top;\n",
              "    }\n",
              "\n",
              "    .dataframe thead th {\n",
              "        text-align: right;\n",
              "    }\n",
              "</style>\n",
              "<table border=\"1\" class=\"dataframe\">\n",
              "  <thead>\n",
              "    <tr style=\"text-align: right;\">\n",
              "      <th></th>\n",
              "      <th>ano</th>\n",
              "      <th>populacao</th>\n",
              "    </tr>\n",
              "    <tr>\n",
              "      <th>pais_x</th>\n",
              "      <th></th>\n",
              "      <th></th>\n",
              "    </tr>\n",
              "  </thead>\n",
              "  <tbody>\n",
              "    <tr>\n",
              "      <th>Afghanistan</th>\n",
              "      <td>2019</td>\n",
              "      <td>38041757.0</td>\n",
              "    </tr>\n",
              "    <tr>\n",
              "      <th>Albania</th>\n",
              "      <td>2019</td>\n",
              "      <td>2854191.0</td>\n",
              "    </tr>\n",
              "    <tr>\n",
              "      <th>Algeria</th>\n",
              "      <td>2019</td>\n",
              "      <td>43053054.0</td>\n",
              "    </tr>\n",
              "    <tr>\n",
              "      <th>American Samoa</th>\n",
              "      <td>2019</td>\n",
              "      <td>55312.0</td>\n",
              "    </tr>\n",
              "    <tr>\n",
              "      <th>Andorra</th>\n",
              "      <td>2005</td>\n",
              "      <td>77146.0</td>\n",
              "    </tr>\n",
              "    <tr>\n",
              "      <th>...</th>\n",
              "      <td>...</td>\n",
              "      <td>...</td>\n",
              "    </tr>\n",
              "    <tr>\n",
              "      <th>West Bank</th>\n",
              "      <td>2019</td>\n",
              "      <td>0.0</td>\n",
              "    </tr>\n",
              "    <tr>\n",
              "      <th>Western Sahara</th>\n",
              "      <td>2019</td>\n",
              "      <td>0.0</td>\n",
              "    </tr>\n",
              "    <tr>\n",
              "      <th>Yemen</th>\n",
              "      <td>2019</td>\n",
              "      <td>29161922.0</td>\n",
              "    </tr>\n",
              "    <tr>\n",
              "      <th>Zambia</th>\n",
              "      <td>2019</td>\n",
              "      <td>17861034.0</td>\n",
              "    </tr>\n",
              "    <tr>\n",
              "      <th>Zimbabwe</th>\n",
              "      <td>2019</td>\n",
              "      <td>14645473.0</td>\n",
              "    </tr>\n",
              "  </tbody>\n",
              "</table>\n",
              "<p>224 rows × 2 columns</p>\n",
              "</div>"
            ],
            "text/plain": [
              "                 ano   populacao\n",
              "pais_x                          \n",
              "Afghanistan     2019  38041757.0\n",
              "Albania         2019   2854191.0\n",
              "Algeria         2019  43053054.0\n",
              "American Samoa  2019     55312.0\n",
              "Andorra         2005     77146.0\n",
              "...              ...         ...\n",
              "West Bank       2019         0.0\n",
              "Western Sahara  2019         0.0\n",
              "Yemen           2019  29161922.0\n",
              "Zambia          2019  17861034.0\n",
              "Zimbabwe        2019  14645473.0\n",
              "\n",
              "[224 rows x 2 columns]"
            ]
          },
          "metadata": {},
          "execution_count": 129
        }
      ]
    }
  ]
}