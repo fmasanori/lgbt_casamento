{
  "nbformat": 4,
  "nbformat_minor": 0,
  "metadata": {
    "colab": {
      "name": " Estatísticas básicas por UF sobre casamentos LGBTs",
      "provenance": []
    },
    "kernelspec": {
      "name": "python3",
      "display_name": "Python 3"
    },
    "language_info": {
      "name": "python"
    }
  },
  "cells": [
    {
      "cell_type": "markdown",
      "metadata": {
        "id": "WnC9lcyhB4Cv"
      },
      "source": [
        "Estatísticas básicas por UF sobre casamentos LGBTs"
      ]
    },
    {
      "cell_type": "code",
      "metadata": {
        "id": "evsrO7MmB6fw"
      },
      "source": [
        "import pandas as pd\n",
        "from datetime import datetime\n",
        "import seaborn as sns\n",
        "import numpy as ny"
      ],
      "execution_count": 23,
      "outputs": []
    },
    {
      "cell_type": "code",
      "metadata": {
        "id": "YhGcxYXcB9XK"
      },
      "source": [
        "dataset = pd.read_csv('lgbt_casamento.csv')"
      ],
      "execution_count": 24,
      "outputs": []
    },
    {
      "cell_type": "code",
      "metadata": {
        "colab": {
          "base_uri": "https://localhost:8080/"
        },
        "id": "BMqCX3NnCKNg",
        "outputId": "c8b7a660-5123-48f6-c306-c8a37bf59d56"
      },
      "source": [
        "print (dataset)"
      ],
      "execution_count": 25,
      "outputs": [
        {
          "output_type": "stream",
          "name": "stdout",
          "text": [
            "       ano                uf     genero        mes  numero\n",
            "0     2014          Rondônia  Masculino    Janeiro       0\n",
            "1     2014          Rondônia  Masculino  Fevereiro       0\n",
            "2     2014          Rondônia  Masculino      Março       0\n",
            "3     2014          Rondônia  Masculino      Abril       0\n",
            "4     2014          Rondônia  Masculino       Maio       0\n",
            "...    ...               ...        ...        ...     ...\n",
            "4531  2019  Distrito Federal   Feminino     Agosto       7\n",
            "4532  2019  Distrito Federal   Feminino   Setembro       9\n",
            "4533  2019  Distrito Federal   Feminino    Outubro      13\n",
            "4534  2019  Distrito Federal   Feminino   Novembro      11\n",
            "4535  2019  Distrito Federal   Feminino   Dezembro       7\n",
            "\n",
            "[4536 rows x 5 columns]\n"
          ]
        }
      ]
    },
    {
      "cell_type": "code",
      "metadata": {
        "colab": {
          "base_uri": "https://localhost:8080/"
        },
        "id": "IGNSOBzpCOVm",
        "outputId": "0f5877ba-6ab9-455e-da40-c723adf8873b"
      },
      "source": [
        "std=ny.std(dataset)\n",
        "print(std)"
      ],
      "execution_count": 26,
      "outputs": [
        {
          "output_type": "stream",
          "name": "stdout",
          "text": [
            "ano        2.000000\n",
            "numero    25.959309\n",
            "dtype: float64\n"
          ]
        }
      ]
    },
    {
      "cell_type": "code",
      "metadata": {
        "id": "qS5qUR0wC155"
      },
      "source": [
        "media = ny.mean(dataset)"
      ],
      "execution_count": 19,
      "outputs": []
    },
    {
      "cell_type": "code",
      "metadata": {
        "colab": {
          "base_uri": "https://localhost:8080/"
        },
        "id": "VKCtjxhEDDUc",
        "outputId": "c629f480-713c-409a-b699-d4e796ff16dc"
      },
      "source": [
        "print(media)"
      ],
      "execution_count": 20,
      "outputs": [
        {
          "output_type": "stream",
          "name": "stdout",
          "text": [
            "ano       2016.000000\n",
            "numero       9.693783\n",
            "dtype: float64\n"
          ]
        }
      ]
    },
    {
      "cell_type": "code",
      "metadata": {
        "colab": {
          "base_uri": "https://localhost:8080/"
        },
        "id": "gAGHHmXVDkbQ",
        "outputId": "ccce519b-d7f4-4fd6-a7a8-b81b41c75036"
      },
      "source": [
        "min,max=dataset.min(),dataset.max()\n",
        "print(\"mínimo\")\n",
        "print(min)\n",
        "print(\"máximo\")\n",
        "print(max)"
      ],
      "execution_count": 27,
      "outputs": [
        {
          "output_type": "stream",
          "name": "stdout",
          "text": [
            "mínimo\n",
            "ano           2013\n",
            "uf            Acre\n",
            "genero    Feminino\n",
            "mes          Abril\n",
            "numero           0\n",
            "dtype: object\n",
            "máximo\n",
            "ano            2019\n",
            "uf        Tocantins\n",
            "genero    Masculino\n",
            "mes        Setembro\n",
            "numero          827\n",
            "dtype: object\n"
          ]
        }
      ]
    },
    {
      "cell_type": "code",
      "metadata": {
        "id": "7Ma3dZZTEYFh"
      },
      "source": [
        ""
      ],
      "execution_count": null,
      "outputs": []
    }
  ]
}