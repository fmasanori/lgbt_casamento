{
  "nbformat": 4,
  "nbformat_minor": 0,
  "metadata": {
    "colab": {
      "name": "gabriela-caesar-analise-de-dados-29set2021_perguntas.ipynb",
      "provenance": []
    },
    "kernelspec": {
      "name": "python3",
      "display_name": "Python 3"
    },
    "language_info": {
      "name": "python"
    }
  },
  "cells": [
    {
      "cell_type": "markdown",
      "metadata": {
        "id": "bwN465JNASUb"
      },
      "source": [
        "Notebook - análise exploratória de dados\n",
        "\n",
        "Gabriela Caesar\n",
        "\n",
        "29/set/2021\n",
        "\n",
        "Pergunta a ser respondida\n",
        "\n",
        "- Defina a sua UF e o ano no input e veja as estatísticas básicas da sua UF/ano quanto ao casamento LGBT\n"
      ]
    },
    {
      "cell_type": "code",
      "metadata": {
        "id": "sgkrjJpsAGU3"
      },
      "source": [
        "# importacao da biblioteca\n",
        "import pandas as pd"
      ],
      "execution_count": null,
      "outputs": []
    },
    {
      "cell_type": "code",
      "metadata": {
        "id": "6cis-ATVAK9q"
      },
      "source": [
        "# leitura do dataframe\n",
        "lgbt_casamento = pd.read_csv('https://raw.githubusercontent.com/gabrielacaesar/lgbt_casamento/main/data/lgbt_casamento.csv')"
      ],
      "execution_count": null,
      "outputs": []
    },
    {
      "cell_type": "code",
      "metadata": {
        "colab": {
          "base_uri": "https://localhost:8080/",
          "height": 112
        },
        "id": "r_ZvQcRCDoyM",
        "outputId": "46ae5b67-92bd-452d-dc42-aaf80d2c0e28"
      },
      "source": [
        "lgbt_casamento.head(2)"
      ],
      "execution_count": null,
      "outputs": [
        {
          "output_type": "execute_result",
          "data": {
            "text/html": [
              "<div>\n",
              "<style scoped>\n",
              "    .dataframe tbody tr th:only-of-type {\n",
              "        vertical-align: middle;\n",
              "    }\n",
              "\n",
              "    .dataframe tbody tr th {\n",
              "        vertical-align: top;\n",
              "    }\n",
              "\n",
              "    .dataframe thead th {\n",
              "        text-align: right;\n",
              "    }\n",
              "</style>\n",
              "<table border=\"1\" class=\"dataframe\">\n",
              "  <thead>\n",
              "    <tr style=\"text-align: right;\">\n",
              "      <th></th>\n",
              "      <th>ano</th>\n",
              "      <th>uf</th>\n",
              "      <th>genero</th>\n",
              "      <th>mes</th>\n",
              "      <th>numero</th>\n",
              "    </tr>\n",
              "  </thead>\n",
              "  <tbody>\n",
              "    <tr>\n",
              "      <th>0</th>\n",
              "      <td>2014</td>\n",
              "      <td>Rondônia</td>\n",
              "      <td>Masculino</td>\n",
              "      <td>Janeiro</td>\n",
              "      <td>0</td>\n",
              "    </tr>\n",
              "    <tr>\n",
              "      <th>1</th>\n",
              "      <td>2014</td>\n",
              "      <td>Rondônia</td>\n",
              "      <td>Masculino</td>\n",
              "      <td>Fevereiro</td>\n",
              "      <td>0</td>\n",
              "    </tr>\n",
              "  </tbody>\n",
              "</table>\n",
              "</div>"
            ],
            "text/plain": [
              "    ano        uf     genero        mes  numero\n",
              "0  2014  Rondônia  Masculino    Janeiro       0\n",
              "1  2014  Rondônia  Masculino  Fevereiro       0"
            ]
          },
          "metadata": {},
          "execution_count": 3
        }
      ]
    },
    {
      "cell_type": "code",
      "metadata": {
        "id": "4invVjy6DFoU"
      },
      "source": [
        "sigla_uf = pd.read_csv('https://raw.githubusercontent.com/kelvins/Municipios-Brasileiros/main/csv/estados.csv')"
      ],
      "execution_count": null,
      "outputs": []
    },
    {
      "cell_type": "code",
      "metadata": {
        "colab": {
          "base_uri": "https://localhost:8080/",
          "height": 112
        },
        "id": "MCMsIaDZDqht",
        "outputId": "8228e8c9-2026-4c37-aa2a-6a8eb77624cb"
      },
      "source": [
        "sigla_uf.head(2)"
      ],
      "execution_count": null,
      "outputs": [
        {
          "output_type": "execute_result",
          "data": {
            "text/html": [
              "<div>\n",
              "<style scoped>\n",
              "    .dataframe tbody tr th:only-of-type {\n",
              "        vertical-align: middle;\n",
              "    }\n",
              "\n",
              "    .dataframe tbody tr th {\n",
              "        vertical-align: top;\n",
              "    }\n",
              "\n",
              "    .dataframe thead th {\n",
              "        text-align: right;\n",
              "    }\n",
              "</style>\n",
              "<table border=\"1\" class=\"dataframe\">\n",
              "  <thead>\n",
              "    <tr style=\"text-align: right;\">\n",
              "      <th></th>\n",
              "      <th>codigo_uf</th>\n",
              "      <th>uf</th>\n",
              "      <th>nome</th>\n",
              "      <th>latitude</th>\n",
              "      <th>longitude</th>\n",
              "    </tr>\n",
              "  </thead>\n",
              "  <tbody>\n",
              "    <tr>\n",
              "      <th>0</th>\n",
              "      <td>11</td>\n",
              "      <td>RO</td>\n",
              "      <td>Rondônia</td>\n",
              "      <td>-10.83</td>\n",
              "      <td>-63.34</td>\n",
              "    </tr>\n",
              "    <tr>\n",
              "      <th>1</th>\n",
              "      <td>12</td>\n",
              "      <td>AC</td>\n",
              "      <td>Acre</td>\n",
              "      <td>-8.77</td>\n",
              "      <td>-70.55</td>\n",
              "    </tr>\n",
              "  </tbody>\n",
              "</table>\n",
              "</div>"
            ],
            "text/plain": [
              "   codigo_uf  uf      nome  latitude  longitude\n",
              "0         11  RO  Rondônia    -10.83     -63.34\n",
              "1         12  AC      Acre     -8.77     -70.55"
            ]
          },
          "metadata": {},
          "execution_count": 134
        }
      ]
    },
    {
      "cell_type": "code",
      "metadata": {
        "colab": {
          "base_uri": "https://localhost:8080/",
          "height": 112
        },
        "id": "qoQKyH_tDAgd",
        "outputId": "fb4140f5-1fe5-4f29-d67c-69d5e0caea40"
      },
      "source": [
        "sigla_uf_lgbt_casamento = lgbt_casamento.merge(sigla_uf, how = 'left', left_on = 'uf', right_on = 'nome')\n",
        "len(sigla_uf_lgbt_casamento['uf_y'].unique())\n",
        "sigla_uf_lgbt_casamento.head(2)"
      ],
      "execution_count": null,
      "outputs": [
        {
          "output_type": "execute_result",
          "data": {
            "text/html": [
              "<div>\n",
              "<style scoped>\n",
              "    .dataframe tbody tr th:only-of-type {\n",
              "        vertical-align: middle;\n",
              "    }\n",
              "\n",
              "    .dataframe tbody tr th {\n",
              "        vertical-align: top;\n",
              "    }\n",
              "\n",
              "    .dataframe thead th {\n",
              "        text-align: right;\n",
              "    }\n",
              "</style>\n",
              "<table border=\"1\" class=\"dataframe\">\n",
              "  <thead>\n",
              "    <tr style=\"text-align: right;\">\n",
              "      <th></th>\n",
              "      <th>ano</th>\n",
              "      <th>uf_x</th>\n",
              "      <th>genero</th>\n",
              "      <th>mes</th>\n",
              "      <th>numero</th>\n",
              "      <th>codigo_uf</th>\n",
              "      <th>uf_y</th>\n",
              "      <th>nome</th>\n",
              "      <th>latitude</th>\n",
              "      <th>longitude</th>\n",
              "    </tr>\n",
              "  </thead>\n",
              "  <tbody>\n",
              "    <tr>\n",
              "      <th>0</th>\n",
              "      <td>2014</td>\n",
              "      <td>Rondônia</td>\n",
              "      <td>Masculino</td>\n",
              "      <td>Janeiro</td>\n",
              "      <td>0</td>\n",
              "      <td>11</td>\n",
              "      <td>RO</td>\n",
              "      <td>Rondônia</td>\n",
              "      <td>-10.83</td>\n",
              "      <td>-63.34</td>\n",
              "    </tr>\n",
              "    <tr>\n",
              "      <th>1</th>\n",
              "      <td>2014</td>\n",
              "      <td>Rondônia</td>\n",
              "      <td>Masculino</td>\n",
              "      <td>Fevereiro</td>\n",
              "      <td>0</td>\n",
              "      <td>11</td>\n",
              "      <td>RO</td>\n",
              "      <td>Rondônia</td>\n",
              "      <td>-10.83</td>\n",
              "      <td>-63.34</td>\n",
              "    </tr>\n",
              "  </tbody>\n",
              "</table>\n",
              "</div>"
            ],
            "text/plain": [
              "    ano      uf_x     genero        mes  ...  uf_y      nome latitude longitude\n",
              "0  2014  Rondônia  Masculino    Janeiro  ...    RO  Rondônia   -10.83    -63.34\n",
              "1  2014  Rondônia  Masculino  Fevereiro  ...    RO  Rondônia   -10.83    -63.34\n",
              "\n",
              "[2 rows x 10 columns]"
            ]
          },
          "metadata": {},
          "execution_count": 135
        }
      ]
    },
    {
      "cell_type": "code",
      "metadata": {
        "colab": {
          "base_uri": "https://localhost:8080/",
          "height": 112
        },
        "id": "W-YDne-3EuO6",
        "outputId": "d87e75c3-ec0a-4b45-fb7a-9bce9f89709a"
      },
      "source": [
        "sigla_uf_lgbt_casamento = sigla_uf_lgbt_casamento.drop(['uf_x', 'codigo_uf', 'latitude', 'longitude'], axis=1)\n",
        "sigla_uf_lgbt_casamento = sigla_uf_lgbt_casamento.rename(columns={'uf_y':'uf', 'nome': 'nome_uf'})\n",
        "sigla_uf_lgbt_casamento.columns\n",
        "sigla_uf_lgbt_casamento.head(2)"
      ],
      "execution_count": null,
      "outputs": [
        {
          "output_type": "execute_result",
          "data": {
            "text/html": [
              "<div>\n",
              "<style scoped>\n",
              "    .dataframe tbody tr th:only-of-type {\n",
              "        vertical-align: middle;\n",
              "    }\n",
              "\n",
              "    .dataframe tbody tr th {\n",
              "        vertical-align: top;\n",
              "    }\n",
              "\n",
              "    .dataframe thead th {\n",
              "        text-align: right;\n",
              "    }\n",
              "</style>\n",
              "<table border=\"1\" class=\"dataframe\">\n",
              "  <thead>\n",
              "    <tr style=\"text-align: right;\">\n",
              "      <th></th>\n",
              "      <th>ano</th>\n",
              "      <th>genero</th>\n",
              "      <th>mes</th>\n",
              "      <th>numero</th>\n",
              "      <th>uf</th>\n",
              "      <th>nome_uf</th>\n",
              "    </tr>\n",
              "  </thead>\n",
              "  <tbody>\n",
              "    <tr>\n",
              "      <th>0</th>\n",
              "      <td>2014</td>\n",
              "      <td>Masculino</td>\n",
              "      <td>Janeiro</td>\n",
              "      <td>0</td>\n",
              "      <td>RO</td>\n",
              "      <td>Rondônia</td>\n",
              "    </tr>\n",
              "    <tr>\n",
              "      <th>1</th>\n",
              "      <td>2014</td>\n",
              "      <td>Masculino</td>\n",
              "      <td>Fevereiro</td>\n",
              "      <td>0</td>\n",
              "      <td>RO</td>\n",
              "      <td>Rondônia</td>\n",
              "    </tr>\n",
              "  </tbody>\n",
              "</table>\n",
              "</div>"
            ],
            "text/plain": [
              "    ano     genero        mes  numero  uf   nome_uf\n",
              "0  2014  Masculino    Janeiro       0  RO  Rondônia\n",
              "1  2014  Masculino  Fevereiro       0  RO  Rondônia"
            ]
          },
          "metadata": {},
          "execution_count": 136
        }
      ]
    },
    {
      "cell_type": "code",
      "metadata": {
        "colab": {
          "base_uri": "https://localhost:8080/"
        },
        "id": "oUgxYOx0Ao8T",
        "outputId": "170e1814-e364-42bc-e890-be57159fd5f9"
      },
      "source": [
        "print(\" --------------------------- \\n         Bem-vindo/a! \\n ---------------------------\")\n",
        "ano_user = int(input(\"Escolha um ano de 2013 a 2019: \\n\"))\n",
        "uf_user = input(\"Escolha uma UF. Por exemplo, AC, AL, SP, RJ... \\n\")\n",
        "uf_user = uf_user.upper().strip()\n",
        "#print(uf_user)\n",
        "print(\" --------------------------- \\n      Já vamos calcular! \\n ---------------------------\")"
      ],
      "execution_count": null,
      "outputs": [
        {
          "output_type": "stream",
          "name": "stdout",
          "text": [
            " --------------------------- \n",
            "         Bem-vindo/a! \n",
            " ---------------------------\n",
            "Escolha um ano de 2013 a 2019: \n",
            "2018\n",
            "Escolha uma UF. Por exemplo, AC, AL, SP, RJ... \n",
            "RJ\n",
            " --------------------------- \n",
            "      Já vamos calcular! \n",
            " ---------------------------\n"
          ]
        }
      ]
    },
    {
      "cell_type": "markdown",
      "metadata": {
        "id": "EFF7jdniheY0"
      },
      "source": [
        "# Veja os números, por mês, no ano e na UF de escolha\n",
        "Gráfico mostra o número de casamentos LGBTs, por gênero, no ano e na unidade federativa informada antes pelo usuário.\n",
        "\n",
        "Passe o mouse em cima do gráfico para mais detalhes.\n"
      ]
    },
    {
      "cell_type": "code",
      "metadata": {
        "colab": {
          "base_uri": "https://localhost:8080/",
          "height": 422
        },
        "id": "2zv0QymDTE6U",
        "outputId": "856db2d1-4b32-45d2-e85f-190d143a345d"
      },
      "source": [
        "# filtro pela UF e pelo ano informados pelo usuário\n",
        "# mais gráfico\n",
        "import altair as alt\n",
        "alt.Chart(sigla_uf_lgbt_casamento.query('uf == @uf_user & ano == @ano_user', engine='python')).mark_line(point=True).encode(\n",
        "    x = alt.X('mes', title = 'Mês', sort=['Janeiro', 'Fevereiro', 'Março']),\n",
        "    y = alt.Y('numero', title='Número'),\n",
        "    color = 'genero',\n",
        "    tooltip = ['mes', 'ano', 'genero', 'numero']\n",
        ").properties(\n",
        "    title = f'{uf_user}: Casamento LGBTs em {ano_user}'\n",
        ").interactive()"
      ],
      "execution_count": null,
      "outputs": [
        {
          "output_type": "execute_result",
          "data": {
            "text/plain": [
              "alt.Chart(...)"
            ],
            "text/html": [
              "\n",
              "<div id=\"altair-viz-e9c3ecb4ff2540d4bb9bbba6308c3c9e\"></div>\n",
              "<script type=\"text/javascript\">\n",
              "  (function(spec, embedOpt){\n",
              "    let outputDiv = document.currentScript.previousElementSibling;\n",
              "    if (outputDiv.id !== \"altair-viz-e9c3ecb4ff2540d4bb9bbba6308c3c9e\") {\n",
              "      outputDiv = document.getElementById(\"altair-viz-e9c3ecb4ff2540d4bb9bbba6308c3c9e\");\n",
              "    }\n",
              "    const paths = {\n",
              "      \"vega\": \"https://cdn.jsdelivr.net/npm//vega@5?noext\",\n",
              "      \"vega-lib\": \"https://cdn.jsdelivr.net/npm//vega-lib?noext\",\n",
              "      \"vega-lite\": \"https://cdn.jsdelivr.net/npm//vega-lite@4.8.1?noext\",\n",
              "      \"vega-embed\": \"https://cdn.jsdelivr.net/npm//vega-embed@6?noext\",\n",
              "    };\n",
              "\n",
              "    function loadScript(lib) {\n",
              "      return new Promise(function(resolve, reject) {\n",
              "        var s = document.createElement('script');\n",
              "        s.src = paths[lib];\n",
              "        s.async = true;\n",
              "        s.onload = () => resolve(paths[lib]);\n",
              "        s.onerror = () => reject(`Error loading script: ${paths[lib]}`);\n",
              "        document.getElementsByTagName(\"head\")[0].appendChild(s);\n",
              "      });\n",
              "    }\n",
              "\n",
              "    function showError(err) {\n",
              "      outputDiv.innerHTML = `<div class=\"error\" style=\"color:red;\">${err}</div>`;\n",
              "      throw err;\n",
              "    }\n",
              "\n",
              "    function displayChart(vegaEmbed) {\n",
              "      vegaEmbed(outputDiv, spec, embedOpt)\n",
              "        .catch(err => showError(`Javascript Error: ${err.message}<br>This usually means there's a typo in your chart specification. See the javascript console for the full traceback.`));\n",
              "    }\n",
              "\n",
              "    if(typeof define === \"function\" && define.amd) {\n",
              "      requirejs.config({paths});\n",
              "      require([\"vega-embed\"], displayChart, err => showError(`Error loading script: ${err.message}`));\n",
              "    } else if (typeof vegaEmbed === \"function\") {\n",
              "      displayChart(vegaEmbed);\n",
              "    } else {\n",
              "      loadScript(\"vega\")\n",
              "        .then(() => loadScript(\"vega-lite\"))\n",
              "        .then(() => loadScript(\"vega-embed\"))\n",
              "        .catch(showError)\n",
              "        .then(() => displayChart(vegaEmbed));\n",
              "    }\n",
              "  })({\"config\": {\"view\": {\"continuousWidth\": 400, \"continuousHeight\": 300}}, \"data\": {\"name\": \"data-a439e6d94ab4dbc6c0fd2d4ec262333d\"}, \"mark\": {\"type\": \"line\", \"point\": true}, \"encoding\": {\"color\": {\"type\": \"nominal\", \"field\": \"genero\"}, \"tooltip\": [{\"type\": \"nominal\", \"field\": \"mes\"}, {\"type\": \"quantitative\", \"field\": \"ano\"}, {\"type\": \"nominal\", \"field\": \"genero\"}, {\"type\": \"quantitative\", \"field\": \"numero\"}], \"x\": {\"type\": \"nominal\", \"field\": \"mes\", \"sort\": [\"Janeiro\", \"Fevereiro\", \"Mar\\u00e7o\"], \"title\": \"M\\u00eas\"}, \"y\": {\"type\": \"quantitative\", \"field\": \"numero\", \"title\": \"N\\u00famero\"}}, \"selection\": {\"selector059\": {\"type\": \"interval\", \"bind\": \"scales\", \"encodings\": [\"x\", \"y\"]}}, \"title\": \"RJ: Casamento LGBTs em 2018\", \"$schema\": \"https://vega.github.io/schema/vega-lite/v4.8.1.json\", \"datasets\": {\"data-a439e6d94ab4dbc6c0fd2d4ec262333d\": [{\"ano\": 2018, \"genero\": \"Masculino\", \"mes\": \"Janeiro\", \"numero\": 20, \"uf\": \"RJ\", \"nome_uf\": \"Rio de Janeiro\"}, {\"ano\": 2018, \"genero\": \"Masculino\", \"mes\": \"Fevereiro\", \"numero\": 27, \"uf\": \"RJ\", \"nome_uf\": \"Rio de Janeiro\"}, {\"ano\": 2018, \"genero\": \"Masculino\", \"mes\": \"Mar\\u00e7o\", \"numero\": 21, \"uf\": \"RJ\", \"nome_uf\": \"Rio de Janeiro\"}, {\"ano\": 2018, \"genero\": \"Masculino\", \"mes\": \"Abril\", \"numero\": 17, \"uf\": \"RJ\", \"nome_uf\": \"Rio de Janeiro\"}, {\"ano\": 2018, \"genero\": \"Masculino\", \"mes\": \"Maio\", \"numero\": 22, \"uf\": \"RJ\", \"nome_uf\": \"Rio de Janeiro\"}, {\"ano\": 2018, \"genero\": \"Masculino\", \"mes\": \"Junho\", \"numero\": 20, \"uf\": \"RJ\", \"nome_uf\": \"Rio de Janeiro\"}, {\"ano\": 2018, \"genero\": \"Masculino\", \"mes\": \"Julho\", \"numero\": 26, \"uf\": \"RJ\", \"nome_uf\": \"Rio de Janeiro\"}, {\"ano\": 2018, \"genero\": \"Masculino\", \"mes\": \"Agosto\", \"numero\": 24, \"uf\": \"RJ\", \"nome_uf\": \"Rio de Janeiro\"}, {\"ano\": 2018, \"genero\": \"Masculino\", \"mes\": \"Setembro\", \"numero\": 20, \"uf\": \"RJ\", \"nome_uf\": \"Rio de Janeiro\"}, {\"ano\": 2018, \"genero\": \"Masculino\", \"mes\": \"Outubro\", \"numero\": 32, \"uf\": \"RJ\", \"nome_uf\": \"Rio de Janeiro\"}, {\"ano\": 2018, \"genero\": \"Masculino\", \"mes\": \"Novembro\", \"numero\": 28, \"uf\": \"RJ\", \"nome_uf\": \"Rio de Janeiro\"}, {\"ano\": 2018, \"genero\": \"Masculino\", \"mes\": \"Dezembro\", \"numero\": 60, \"uf\": \"RJ\", \"nome_uf\": \"Rio de Janeiro\"}, {\"ano\": 2018, \"genero\": \"Feminino\", \"mes\": \"Janeiro\", \"numero\": 25, \"uf\": \"RJ\", \"nome_uf\": \"Rio de Janeiro\"}, {\"ano\": 2018, \"genero\": \"Feminino\", \"mes\": \"Fevereiro\", \"numero\": 14, \"uf\": \"RJ\", \"nome_uf\": \"Rio de Janeiro\"}, {\"ano\": 2018, \"genero\": \"Feminino\", \"mes\": \"Mar\\u00e7o\", \"numero\": 33, \"uf\": \"RJ\", \"nome_uf\": \"Rio de Janeiro\"}, {\"ano\": 2018, \"genero\": \"Feminino\", \"mes\": \"Abril\", \"numero\": 24, \"uf\": \"RJ\", \"nome_uf\": \"Rio de Janeiro\"}, {\"ano\": 2018, \"genero\": \"Feminino\", \"mes\": \"Maio\", \"numero\": 21, \"uf\": \"RJ\", \"nome_uf\": \"Rio de Janeiro\"}, {\"ano\": 2018, \"genero\": \"Feminino\", \"mes\": \"Junho\", \"numero\": 23, \"uf\": \"RJ\", \"nome_uf\": \"Rio de Janeiro\"}, {\"ano\": 2018, \"genero\": \"Feminino\", \"mes\": \"Julho\", \"numero\": 24, \"uf\": \"RJ\", \"nome_uf\": \"Rio de Janeiro\"}, {\"ano\": 2018, \"genero\": \"Feminino\", \"mes\": \"Agosto\", \"numero\": 32, \"uf\": \"RJ\", \"nome_uf\": \"Rio de Janeiro\"}, {\"ano\": 2018, \"genero\": \"Feminino\", \"mes\": \"Setembro\", \"numero\": 29, \"uf\": \"RJ\", \"nome_uf\": \"Rio de Janeiro\"}, {\"ano\": 2018, \"genero\": \"Feminino\", \"mes\": \"Outubro\", \"numero\": 35, \"uf\": \"RJ\", \"nome_uf\": \"Rio de Janeiro\"}, {\"ano\": 2018, \"genero\": \"Feminino\", \"mes\": \"Novembro\", \"numero\": 37, \"uf\": \"RJ\", \"nome_uf\": \"Rio de Janeiro\"}, {\"ano\": 2018, \"genero\": \"Feminino\", \"mes\": \"Dezembro\", \"numero\": 109, \"uf\": \"RJ\", \"nome_uf\": \"Rio de Janeiro\"}]}}, {\"mode\": \"vega-lite\"});\n",
              "</script>"
            ]
          },
          "metadata": {},
          "execution_count": 138
        }
      ]
    },
    {
      "cell_type": "markdown",
      "metadata": {
        "id": "C51LkmDqhDHO"
      },
      "source": [
        "# Veja as estatísticas básicas, por ano, na sua UF de escolha\n",
        "Gráfico mostra todos os anos da base de dados. A unidade federativa foi informada antes pelo usuário.\n",
        "\n",
        "Passe o mouse em cima do gráfico para mais detalhes.\n"
      ]
    },
    {
      "cell_type": "code",
      "metadata": {
        "colab": {
          "base_uri": "https://localhost:8080/",
          "height": 412
        },
        "id": "81keKn6GazF4",
        "outputId": "34218bd3-4111-4451-ba38-a41fa0e4c80b"
      },
      "source": [
        "dados_user = sigla_uf_lgbt_casamento.query('uf == @uf_user', engine='python')\n",
        "\n",
        "alt.Chart(dados_user).mark_boxplot(size=10).encode(\n",
        "    x = alt.X('ano:O', title=\"Ano\"),\n",
        "    y = alt.Y('numero', title=\"Número\"),\n",
        "    color = 'genero',\n",
        "    tooltip = ['mes', 'ano', 'genero', 'numero']\n",
        ").properties(\n",
        "    title={\n",
        "      \"text\": [f'{uf_user}: Casamento LGBTs'], \n",
        "      \"subtitle\": [f'Mulheres vs. Homens']\n",
        "    },\n",
        "    width=600,\n",
        "    height=300\n",
        ").interactive()"
      ],
      "execution_count": null,
      "outputs": [
        {
          "output_type": "execute_result",
          "data": {
            "text/plain": [
              "alt.Chart(...)"
            ],
            "text/html": [
              "\n",
              "<div id=\"altair-viz-5be1b4519f4940c3aeea688801d442aa\"></div>\n",
              "<script type=\"text/javascript\">\n",
              "  (function(spec, embedOpt){\n",
              "    let outputDiv = document.currentScript.previousElementSibling;\n",
              "    if (outputDiv.id !== \"altair-viz-5be1b4519f4940c3aeea688801d442aa\") {\n",
              "      outputDiv = document.getElementById(\"altair-viz-5be1b4519f4940c3aeea688801d442aa\");\n",
              "    }\n",
              "    const paths = {\n",
              "      \"vega\": \"https://cdn.jsdelivr.net/npm//vega@5?noext\",\n",
              "      \"vega-lib\": \"https://cdn.jsdelivr.net/npm//vega-lib?noext\",\n",
              "      \"vega-lite\": \"https://cdn.jsdelivr.net/npm//vega-lite@4.8.1?noext\",\n",
              "      \"vega-embed\": \"https://cdn.jsdelivr.net/npm//vega-embed@6?noext\",\n",
              "    };\n",
              "\n",
              "    function loadScript(lib) {\n",
              "      return new Promise(function(resolve, reject) {\n",
              "        var s = document.createElement('script');\n",
              "        s.src = paths[lib];\n",
              "        s.async = true;\n",
              "        s.onload = () => resolve(paths[lib]);\n",
              "        s.onerror = () => reject(`Error loading script: ${paths[lib]}`);\n",
              "        document.getElementsByTagName(\"head\")[0].appendChild(s);\n",
              "      });\n",
              "    }\n",
              "\n",
              "    function showError(err) {\n",
              "      outputDiv.innerHTML = `<div class=\"error\" style=\"color:red;\">${err}</div>`;\n",
              "      throw err;\n",
              "    }\n",
              "\n",
              "    function displayChart(vegaEmbed) {\n",
              "      vegaEmbed(outputDiv, spec, embedOpt)\n",
              "        .catch(err => showError(`Javascript Error: ${err.message}<br>This usually means there's a typo in your chart specification. See the javascript console for the full traceback.`));\n",
              "    }\n",
              "\n",
              "    if(typeof define === \"function\" && define.amd) {\n",
              "      requirejs.config({paths});\n",
              "      require([\"vega-embed\"], displayChart, err => showError(`Error loading script: ${err.message}`));\n",
              "    } else if (typeof vegaEmbed === \"function\") {\n",
              "      displayChart(vegaEmbed);\n",
              "    } else {\n",
              "      loadScript(\"vega\")\n",
              "        .then(() => loadScript(\"vega-lite\"))\n",
              "        .then(() => loadScript(\"vega-embed\"))\n",
              "        .catch(showError)\n",
              "        .then(() => displayChart(vegaEmbed));\n",
              "    }\n",
              "  })({\"config\": {\"view\": {\"continuousWidth\": 400, \"continuousHeight\": 300}}, \"data\": {\"name\": \"data-36bf0118d1d0c34ef78bc96c242686a7\"}, \"mark\": {\"type\": \"boxplot\", \"size\": 10}, \"encoding\": {\"color\": {\"type\": \"nominal\", \"field\": \"genero\"}, \"tooltip\": [{\"type\": \"nominal\", \"field\": \"mes\"}, {\"type\": \"quantitative\", \"field\": \"ano\"}, {\"type\": \"nominal\", \"field\": \"genero\"}, {\"type\": \"quantitative\", \"field\": \"numero\"}], \"x\": {\"type\": \"ordinal\", \"field\": \"ano\", \"title\": \"Ano\"}, \"y\": {\"type\": \"quantitative\", \"field\": \"numero\", \"title\": \"N\\u00famero\"}}, \"height\": 300, \"selection\": {\"selector060\": {\"type\": \"interval\", \"bind\": \"scales\", \"encodings\": [\"x\", \"y\"]}}, \"title\": {\"text\": [\"RJ: Casamento LGBTs\"], \"subtitle\": [\"Mulheres vs. Homens\"]}, \"width\": 600, \"$schema\": \"https://vega.github.io/schema/vega-lite/v4.8.1.json\", \"datasets\": {\"data-36bf0118d1d0c34ef78bc96c242686a7\": [{\"ano\": 2014, \"genero\": \"Masculino\", \"mes\": \"Janeiro\", \"numero\": 17, \"uf\": \"RJ\", \"nome_uf\": \"Rio de Janeiro\"}, {\"ano\": 2014, \"genero\": \"Masculino\", \"mes\": \"Fevereiro\", \"numero\": 9, \"uf\": \"RJ\", \"nome_uf\": \"Rio de Janeiro\"}, {\"ano\": 2014, \"genero\": \"Masculino\", \"mes\": \"Mar\\u00e7o\", \"numero\": 10, \"uf\": \"RJ\", \"nome_uf\": \"Rio de Janeiro\"}, {\"ano\": 2014, \"genero\": \"Masculino\", \"mes\": \"Abril\", \"numero\": 14, \"uf\": \"RJ\", \"nome_uf\": \"Rio de Janeiro\"}, {\"ano\": 2014, \"genero\": \"Masculino\", \"mes\": \"Maio\", \"numero\": 9, \"uf\": \"RJ\", \"nome_uf\": \"Rio de Janeiro\"}, {\"ano\": 2014, \"genero\": \"Masculino\", \"mes\": \"Junho\", \"numero\": 9, \"uf\": \"RJ\", \"nome_uf\": \"Rio de Janeiro\"}, {\"ano\": 2014, \"genero\": \"Masculino\", \"mes\": \"Julho\", \"numero\": 23, \"uf\": \"RJ\", \"nome_uf\": \"Rio de Janeiro\"}, {\"ano\": 2014, \"genero\": \"Masculino\", \"mes\": \"Agosto\", \"numero\": 17, \"uf\": \"RJ\", \"nome_uf\": \"Rio de Janeiro\"}, {\"ano\": 2014, \"genero\": \"Masculino\", \"mes\": \"Setembro\", \"numero\": 25, \"uf\": \"RJ\", \"nome_uf\": \"Rio de Janeiro\"}, {\"ano\": 2014, \"genero\": \"Masculino\", \"mes\": \"Outubro\", \"numero\": 45, \"uf\": \"RJ\", \"nome_uf\": \"Rio de Janeiro\"}, {\"ano\": 2014, \"genero\": \"Masculino\", \"mes\": \"Novembro\", \"numero\": 45, \"uf\": \"RJ\", \"nome_uf\": \"Rio de Janeiro\"}, {\"ano\": 2014, \"genero\": \"Masculino\", \"mes\": \"Dezembro\", \"numero\": 18, \"uf\": \"RJ\", \"nome_uf\": \"Rio de Janeiro\"}, {\"ano\": 2014, \"genero\": \"Feminino\", \"mes\": \"Janeiro\", \"numero\": 21, \"uf\": \"RJ\", \"nome_uf\": \"Rio de Janeiro\"}, {\"ano\": 2014, \"genero\": \"Feminino\", \"mes\": \"Fevereiro\", \"numero\": 16, \"uf\": \"RJ\", \"nome_uf\": \"Rio de Janeiro\"}, {\"ano\": 2014, \"genero\": \"Feminino\", \"mes\": \"Mar\\u00e7o\", \"numero\": 10, \"uf\": \"RJ\", \"nome_uf\": \"Rio de Janeiro\"}, {\"ano\": 2014, \"genero\": \"Feminino\", \"mes\": \"Abril\", \"numero\": 5, \"uf\": \"RJ\", \"nome_uf\": \"Rio de Janeiro\"}, {\"ano\": 2014, \"genero\": \"Feminino\", \"mes\": \"Maio\", \"numero\": 25, \"uf\": \"RJ\", \"nome_uf\": \"Rio de Janeiro\"}, {\"ano\": 2014, \"genero\": \"Feminino\", \"mes\": \"Junho\", \"numero\": 7, \"uf\": \"RJ\", \"nome_uf\": \"Rio de Janeiro\"}, {\"ano\": 2014, \"genero\": \"Feminino\", \"mes\": \"Julho\", \"numero\": 14, \"uf\": \"RJ\", \"nome_uf\": \"Rio de Janeiro\"}, {\"ano\": 2014, \"genero\": \"Feminino\", \"mes\": \"Agosto\", \"numero\": 15, \"uf\": \"RJ\", \"nome_uf\": \"Rio de Janeiro\"}, {\"ano\": 2014, \"genero\": \"Feminino\", \"mes\": \"Setembro\", \"numero\": 26, \"uf\": \"RJ\", \"nome_uf\": \"Rio de Janeiro\"}, {\"ano\": 2014, \"genero\": \"Feminino\", \"mes\": \"Outubro\", \"numero\": 42, \"uf\": \"RJ\", \"nome_uf\": \"Rio de Janeiro\"}, {\"ano\": 2014, \"genero\": \"Feminino\", \"mes\": \"Novembro\", \"numero\": 72, \"uf\": \"RJ\", \"nome_uf\": \"Rio de Janeiro\"}, {\"ano\": 2014, \"genero\": \"Feminino\", \"mes\": \"Dezembro\", \"numero\": 6, \"uf\": \"RJ\", \"nome_uf\": \"Rio de Janeiro\"}, {\"ano\": 2013, \"genero\": \"Masculino\", \"mes\": \"Janeiro\", \"numero\": 1, \"uf\": \"RJ\", \"nome_uf\": \"Rio de Janeiro\"}, {\"ano\": 2013, \"genero\": \"Masculino\", \"mes\": \"Fevereiro\", \"numero\": 2, \"uf\": \"RJ\", \"nome_uf\": \"Rio de Janeiro\"}, {\"ano\": 2013, \"genero\": \"Masculino\", \"mes\": \"Mar\\u00e7o\", \"numero\": 1, \"uf\": \"RJ\", \"nome_uf\": \"Rio de Janeiro\"}, {\"ano\": 2013, \"genero\": \"Masculino\", \"mes\": \"Abril\", \"numero\": 2, \"uf\": \"RJ\", \"nome_uf\": \"Rio de Janeiro\"}, {\"ano\": 2013, \"genero\": \"Masculino\", \"mes\": \"Maio\", \"numero\": 1, \"uf\": \"RJ\", \"nome_uf\": \"Rio de Janeiro\"}, {\"ano\": 2013, \"genero\": \"Masculino\", \"mes\": \"Junho\", \"numero\": 5, \"uf\": \"RJ\", \"nome_uf\": \"Rio de Janeiro\"}, {\"ano\": 2013, \"genero\": \"Masculino\", \"mes\": \"Julho\", \"numero\": 14, \"uf\": \"RJ\", \"nome_uf\": \"Rio de Janeiro\"}, {\"ano\": 2013, \"genero\": \"Masculino\", \"mes\": \"Agosto\", \"numero\": 17, \"uf\": \"RJ\", \"nome_uf\": \"Rio de Janeiro\"}, {\"ano\": 2013, \"genero\": \"Masculino\", \"mes\": \"Setembro\", \"numero\": 21, \"uf\": \"RJ\", \"nome_uf\": \"Rio de Janeiro\"}, {\"ano\": 2013, \"genero\": \"Masculino\", \"mes\": \"Outubro\", \"numero\": 24, \"uf\": \"RJ\", \"nome_uf\": \"Rio de Janeiro\"}, {\"ano\": 2013, \"genero\": \"Masculino\", \"mes\": \"Novembro\", \"numero\": 10, \"uf\": \"RJ\", \"nome_uf\": \"Rio de Janeiro\"}, {\"ano\": 2013, \"genero\": \"Masculino\", \"mes\": \"Dezembro\", \"numero\": 14, \"uf\": \"RJ\", \"nome_uf\": \"Rio de Janeiro\"}, {\"ano\": 2013, \"genero\": \"Feminino\", \"mes\": \"Janeiro\", \"numero\": 0, \"uf\": \"RJ\", \"nome_uf\": \"Rio de Janeiro\"}, {\"ano\": 2013, \"genero\": \"Feminino\", \"mes\": \"Fevereiro\", \"numero\": 1, \"uf\": \"RJ\", \"nome_uf\": \"Rio de Janeiro\"}, {\"ano\": 2013, \"genero\": \"Feminino\", \"mes\": \"Mar\\u00e7o\", \"numero\": 0, \"uf\": \"RJ\", \"nome_uf\": \"Rio de Janeiro\"}, {\"ano\": 2013, \"genero\": \"Feminino\", \"mes\": \"Abril\", \"numero\": 0, \"uf\": \"RJ\", \"nome_uf\": \"Rio de Janeiro\"}, {\"ano\": 2013, \"genero\": \"Feminino\", \"mes\": \"Maio\", \"numero\": 2, \"uf\": \"RJ\", \"nome_uf\": \"Rio de Janeiro\"}, {\"ano\": 2013, \"genero\": \"Feminino\", \"mes\": \"Junho\", \"numero\": 6, \"uf\": \"RJ\", \"nome_uf\": \"Rio de Janeiro\"}, {\"ano\": 2013, \"genero\": \"Feminino\", \"mes\": \"Julho\", \"numero\": 9, \"uf\": \"RJ\", \"nome_uf\": \"Rio de Janeiro\"}, {\"ano\": 2013, \"genero\": \"Feminino\", \"mes\": \"Agosto\", \"numero\": 17, \"uf\": \"RJ\", \"nome_uf\": \"Rio de Janeiro\"}, {\"ano\": 2013, \"genero\": \"Feminino\", \"mes\": \"Setembro\", \"numero\": 13, \"uf\": \"RJ\", \"nome_uf\": \"Rio de Janeiro\"}, {\"ano\": 2013, \"genero\": \"Feminino\", \"mes\": \"Outubro\", \"numero\": 8, \"uf\": \"RJ\", \"nome_uf\": \"Rio de Janeiro\"}, {\"ano\": 2013, \"genero\": \"Feminino\", \"mes\": \"Novembro\", \"numero\": 17, \"uf\": \"RJ\", \"nome_uf\": \"Rio de Janeiro\"}, {\"ano\": 2013, \"genero\": \"Feminino\", \"mes\": \"Dezembro\", \"numero\": 26, \"uf\": \"RJ\", \"nome_uf\": \"Rio de Janeiro\"}, {\"ano\": 2015, \"genero\": \"Masculino\", \"mes\": \"Janeiro\", \"numero\": 11, \"uf\": \"RJ\", \"nome_uf\": \"Rio de Janeiro\"}, {\"ano\": 2015, \"genero\": \"Masculino\", \"mes\": \"Fevereiro\", \"numero\": 14, \"uf\": \"RJ\", \"nome_uf\": \"Rio de Janeiro\"}, {\"ano\": 2015, \"genero\": \"Masculino\", \"mes\": \"Mar\\u00e7o\", \"numero\": 18, \"uf\": \"RJ\", \"nome_uf\": \"Rio de Janeiro\"}, {\"ano\": 2015, \"genero\": \"Masculino\", \"mes\": \"Abril\", \"numero\": 23, \"uf\": \"RJ\", \"nome_uf\": \"Rio de Janeiro\"}, {\"ano\": 2015, \"genero\": \"Masculino\", \"mes\": \"Maio\", \"numero\": 16, \"uf\": \"RJ\", \"nome_uf\": \"Rio de Janeiro\"}, {\"ano\": 2015, \"genero\": \"Masculino\", \"mes\": \"Junho\", \"numero\": 23, \"uf\": \"RJ\", \"nome_uf\": \"Rio de Janeiro\"}, {\"ano\": 2015, \"genero\": \"Masculino\", \"mes\": \"Julho\", \"numero\": 20, \"uf\": \"RJ\", \"nome_uf\": \"Rio de Janeiro\"}, {\"ano\": 2015, \"genero\": \"Masculino\", \"mes\": \"Agosto\", \"numero\": 17, \"uf\": \"RJ\", \"nome_uf\": \"Rio de Janeiro\"}, {\"ano\": 2015, \"genero\": \"Masculino\", \"mes\": \"Setembro\", \"numero\": 26, \"uf\": \"RJ\", \"nome_uf\": \"Rio de Janeiro\"}, {\"ano\": 2015, \"genero\": \"Masculino\", \"mes\": \"Outubro\", \"numero\": 23, \"uf\": \"RJ\", \"nome_uf\": \"Rio de Janeiro\"}, {\"ano\": 2015, \"genero\": \"Masculino\", \"mes\": \"Novembro\", \"numero\": 32, \"uf\": \"RJ\", \"nome_uf\": \"Rio de Janeiro\"}, {\"ano\": 2015, \"genero\": \"Masculino\", \"mes\": \"Dezembro\", \"numero\": 52, \"uf\": \"RJ\", \"nome_uf\": \"Rio de Janeiro\"}, {\"ano\": 2016, \"genero\": \"Masculino\", \"mes\": \"Janeiro\", \"numero\": 14, \"uf\": \"RJ\", \"nome_uf\": \"Rio de Janeiro\"}, {\"ano\": 2016, \"genero\": \"Masculino\", \"mes\": \"Fevereiro\", \"numero\": 27, \"uf\": \"RJ\", \"nome_uf\": \"Rio de Janeiro\"}, {\"ano\": 2016, \"genero\": \"Masculino\", \"mes\": \"Mar\\u00e7o\", \"numero\": 22, \"uf\": \"RJ\", \"nome_uf\": \"Rio de Janeiro\"}, {\"ano\": 2016, \"genero\": \"Masculino\", \"mes\": \"Abril\", \"numero\": 32, \"uf\": \"RJ\", \"nome_uf\": \"Rio de Janeiro\"}, {\"ano\": 2016, \"genero\": \"Masculino\", \"mes\": \"Maio\", \"numero\": 24, \"uf\": \"RJ\", \"nome_uf\": \"Rio de Janeiro\"}, {\"ano\": 2016, \"genero\": \"Masculino\", \"mes\": \"Junho\", \"numero\": 24, \"uf\": \"RJ\", \"nome_uf\": \"Rio de Janeiro\"}, {\"ano\": 2016, \"genero\": \"Masculino\", \"mes\": \"Julho\", \"numero\": 19, \"uf\": \"RJ\", \"nome_uf\": \"Rio de Janeiro\"}, {\"ano\": 2016, \"genero\": \"Masculino\", \"mes\": \"Agosto\", \"numero\": 27, \"uf\": \"RJ\", \"nome_uf\": \"Rio de Janeiro\"}, {\"ano\": 2016, \"genero\": \"Masculino\", \"mes\": \"Setembro\", \"numero\": 26, \"uf\": \"RJ\", \"nome_uf\": \"Rio de Janeiro\"}, {\"ano\": 2016, \"genero\": \"Masculino\", \"mes\": \"Outubro\", \"numero\": 26, \"uf\": \"RJ\", \"nome_uf\": \"Rio de Janeiro\"}, {\"ano\": 2016, \"genero\": \"Masculino\", \"mes\": \"Novembro\", \"numero\": 19, \"uf\": \"RJ\", \"nome_uf\": \"Rio de Janeiro\"}, {\"ano\": 2016, \"genero\": \"Masculino\", \"mes\": \"Dezembro\", \"numero\": 15, \"uf\": \"RJ\", \"nome_uf\": \"Rio de Janeiro\"}, {\"ano\": 2017, \"genero\": \"Masculino\", \"mes\": \"Janeiro\", \"numero\": 18, \"uf\": \"RJ\", \"nome_uf\": \"Rio de Janeiro\"}, {\"ano\": 2017, \"genero\": \"Masculino\", \"mes\": \"Fevereiro\", \"numero\": 14, \"uf\": \"RJ\", \"nome_uf\": \"Rio de Janeiro\"}, {\"ano\": 2017, \"genero\": \"Masculino\", \"mes\": \"Mar\\u00e7o\", \"numero\": 16, \"uf\": \"RJ\", \"nome_uf\": \"Rio de Janeiro\"}, {\"ano\": 2017, \"genero\": \"Masculino\", \"mes\": \"Abril\", \"numero\": 10, \"uf\": \"RJ\", \"nome_uf\": \"Rio de Janeiro\"}, {\"ano\": 2017, \"genero\": \"Masculino\", \"mes\": \"Maio\", \"numero\": 23, \"uf\": \"RJ\", \"nome_uf\": \"Rio de Janeiro\"}, {\"ano\": 2017, \"genero\": \"Masculino\", \"mes\": \"Junho\", \"numero\": 17, \"uf\": \"RJ\", \"nome_uf\": \"Rio de Janeiro\"}, {\"ano\": 2017, \"genero\": \"Masculino\", \"mes\": \"Julho\", \"numero\": 11, \"uf\": \"RJ\", \"nome_uf\": \"Rio de Janeiro\"}, {\"ano\": 2017, \"genero\": \"Masculino\", \"mes\": \"Agosto\", \"numero\": 11, \"uf\": \"RJ\", \"nome_uf\": \"Rio de Janeiro\"}, {\"ano\": 2017, \"genero\": \"Masculino\", \"mes\": \"Setembro\", \"numero\": 22, \"uf\": \"RJ\", \"nome_uf\": \"Rio de Janeiro\"}, {\"ano\": 2017, \"genero\": \"Masculino\", \"mes\": \"Outubro\", \"numero\": 21, \"uf\": \"RJ\", \"nome_uf\": \"Rio de Janeiro\"}, {\"ano\": 2017, \"genero\": \"Masculino\", \"mes\": \"Novembro\", \"numero\": 21, \"uf\": \"RJ\", \"nome_uf\": \"Rio de Janeiro\"}, {\"ano\": 2017, \"genero\": \"Masculino\", \"mes\": \"Dezembro\", \"numero\": 25, \"uf\": \"RJ\", \"nome_uf\": \"Rio de Janeiro\"}, {\"ano\": 2018, \"genero\": \"Masculino\", \"mes\": \"Janeiro\", \"numero\": 20, \"uf\": \"RJ\", \"nome_uf\": \"Rio de Janeiro\"}, {\"ano\": 2018, \"genero\": \"Masculino\", \"mes\": \"Fevereiro\", \"numero\": 27, \"uf\": \"RJ\", \"nome_uf\": \"Rio de Janeiro\"}, {\"ano\": 2018, \"genero\": \"Masculino\", \"mes\": \"Mar\\u00e7o\", \"numero\": 21, \"uf\": \"RJ\", \"nome_uf\": \"Rio de Janeiro\"}, {\"ano\": 2018, \"genero\": \"Masculino\", \"mes\": \"Abril\", \"numero\": 17, \"uf\": \"RJ\", \"nome_uf\": \"Rio de Janeiro\"}, {\"ano\": 2018, \"genero\": \"Masculino\", \"mes\": \"Maio\", \"numero\": 22, \"uf\": \"RJ\", \"nome_uf\": \"Rio de Janeiro\"}, {\"ano\": 2018, \"genero\": \"Masculino\", \"mes\": \"Junho\", \"numero\": 20, \"uf\": \"RJ\", \"nome_uf\": \"Rio de Janeiro\"}, {\"ano\": 2018, \"genero\": \"Masculino\", \"mes\": \"Julho\", \"numero\": 26, \"uf\": \"RJ\", \"nome_uf\": \"Rio de Janeiro\"}, {\"ano\": 2018, \"genero\": \"Masculino\", \"mes\": \"Agosto\", \"numero\": 24, \"uf\": \"RJ\", \"nome_uf\": \"Rio de Janeiro\"}, {\"ano\": 2018, \"genero\": \"Masculino\", \"mes\": \"Setembro\", \"numero\": 20, \"uf\": \"RJ\", \"nome_uf\": \"Rio de Janeiro\"}, {\"ano\": 2018, \"genero\": \"Masculino\", \"mes\": \"Outubro\", \"numero\": 32, \"uf\": \"RJ\", \"nome_uf\": \"Rio de Janeiro\"}, {\"ano\": 2018, \"genero\": \"Masculino\", \"mes\": \"Novembro\", \"numero\": 28, \"uf\": \"RJ\", \"nome_uf\": \"Rio de Janeiro\"}, {\"ano\": 2018, \"genero\": \"Masculino\", \"mes\": \"Dezembro\", \"numero\": 60, \"uf\": \"RJ\", \"nome_uf\": \"Rio de Janeiro\"}, {\"ano\": 2019, \"genero\": \"Masculino\", \"mes\": \"Janeiro\", \"numero\": 59, \"uf\": \"RJ\", \"nome_uf\": \"Rio de Janeiro\"}, {\"ano\": 2019, \"genero\": \"Masculino\", \"mes\": \"Fevereiro\", \"numero\": 52, \"uf\": \"RJ\", \"nome_uf\": \"Rio de Janeiro\"}, {\"ano\": 2019, \"genero\": \"Masculino\", \"mes\": \"Mar\\u00e7o\", \"numero\": 44, \"uf\": \"RJ\", \"nome_uf\": \"Rio de Janeiro\"}, {\"ano\": 2019, \"genero\": \"Masculino\", \"mes\": \"Abril\", \"numero\": 30, \"uf\": \"RJ\", \"nome_uf\": \"Rio de Janeiro\"}, {\"ano\": 2019, \"genero\": \"Masculino\", \"mes\": \"Maio\", \"numero\": 35, \"uf\": \"RJ\", \"nome_uf\": \"Rio de Janeiro\"}, {\"ano\": 2019, \"genero\": \"Masculino\", \"mes\": \"Junho\", \"numero\": 28, \"uf\": \"RJ\", \"nome_uf\": \"Rio de Janeiro\"}, {\"ano\": 2019, \"genero\": \"Masculino\", \"mes\": \"Julho\", \"numero\": 24, \"uf\": \"RJ\", \"nome_uf\": \"Rio de Janeiro\"}, {\"ano\": 2019, \"genero\": \"Masculino\", \"mes\": \"Agosto\", \"numero\": 29, \"uf\": \"RJ\", \"nome_uf\": \"Rio de Janeiro\"}, {\"ano\": 2019, \"genero\": \"Masculino\", \"mes\": \"Setembro\", \"numero\": 30, \"uf\": \"RJ\", \"nome_uf\": \"Rio de Janeiro\"}, {\"ano\": 2019, \"genero\": \"Masculino\", \"mes\": \"Outubro\", \"numero\": 27, \"uf\": \"RJ\", \"nome_uf\": \"Rio de Janeiro\"}, {\"ano\": 2019, \"genero\": \"Masculino\", \"mes\": \"Novembro\", \"numero\": 25, \"uf\": \"RJ\", \"nome_uf\": \"Rio de Janeiro\"}, {\"ano\": 2019, \"genero\": \"Masculino\", \"mes\": \"Dezembro\", \"numero\": 27, \"uf\": \"RJ\", \"nome_uf\": \"Rio de Janeiro\"}, {\"ano\": 2015, \"genero\": \"Feminino\", \"mes\": \"Janeiro\", \"numero\": 13, \"uf\": \"RJ\", \"nome_uf\": \"Rio de Janeiro\"}, {\"ano\": 2015, \"genero\": \"Feminino\", \"mes\": \"Fevereiro\", \"numero\": 23, \"uf\": \"RJ\", \"nome_uf\": \"Rio de Janeiro\"}, {\"ano\": 2015, \"genero\": \"Feminino\", \"mes\": \"Mar\\u00e7o\", \"numero\": 23, \"uf\": \"RJ\", \"nome_uf\": \"Rio de Janeiro\"}, {\"ano\": 2015, \"genero\": \"Feminino\", \"mes\": \"Abril\", \"numero\": 15, \"uf\": \"RJ\", \"nome_uf\": \"Rio de Janeiro\"}, {\"ano\": 2015, \"genero\": \"Feminino\", \"mes\": \"Maio\", \"numero\": 18, \"uf\": \"RJ\", \"nome_uf\": \"Rio de Janeiro\"}, {\"ano\": 2015, \"genero\": \"Feminino\", \"mes\": \"Junho\", \"numero\": 26, \"uf\": \"RJ\", \"nome_uf\": \"Rio de Janeiro\"}, {\"ano\": 2015, \"genero\": \"Feminino\", \"mes\": \"Julho\", \"numero\": 26, \"uf\": \"RJ\", \"nome_uf\": \"Rio de Janeiro\"}, {\"ano\": 2015, \"genero\": \"Feminino\", \"mes\": \"Agosto\", \"numero\": 13, \"uf\": \"RJ\", \"nome_uf\": \"Rio de Janeiro\"}, {\"ano\": 2015, \"genero\": \"Feminino\", \"mes\": \"Setembro\", \"numero\": 26, \"uf\": \"RJ\", \"nome_uf\": \"Rio de Janeiro\"}, {\"ano\": 2015, \"genero\": \"Feminino\", \"mes\": \"Outubro\", \"numero\": 20, \"uf\": \"RJ\", \"nome_uf\": \"Rio de Janeiro\"}, {\"ano\": 2015, \"genero\": \"Feminino\", \"mes\": \"Novembro\", \"numero\": 27, \"uf\": \"RJ\", \"nome_uf\": \"Rio de Janeiro\"}, {\"ano\": 2015, \"genero\": \"Feminino\", \"mes\": \"Dezembro\", \"numero\": 107, \"uf\": \"RJ\", \"nome_uf\": \"Rio de Janeiro\"}, {\"ano\": 2016, \"genero\": \"Feminino\", \"mes\": \"Janeiro\", \"numero\": 25, \"uf\": \"RJ\", \"nome_uf\": \"Rio de Janeiro\"}, {\"ano\": 2016, \"genero\": \"Feminino\", \"mes\": \"Fevereiro\", \"numero\": 21, \"uf\": \"RJ\", \"nome_uf\": \"Rio de Janeiro\"}, {\"ano\": 2016, \"genero\": \"Feminino\", \"mes\": \"Mar\\u00e7o\", \"numero\": 24, \"uf\": \"RJ\", \"nome_uf\": \"Rio de Janeiro\"}, {\"ano\": 2016, \"genero\": \"Feminino\", \"mes\": \"Abril\", \"numero\": 21, \"uf\": \"RJ\", \"nome_uf\": \"Rio de Janeiro\"}, {\"ano\": 2016, \"genero\": \"Feminino\", \"mes\": \"Maio\", \"numero\": 32, \"uf\": \"RJ\", \"nome_uf\": \"Rio de Janeiro\"}, {\"ano\": 2016, \"genero\": \"Feminino\", \"mes\": \"Junho\", \"numero\": 20, \"uf\": \"RJ\", \"nome_uf\": \"Rio de Janeiro\"}, {\"ano\": 2016, \"genero\": \"Feminino\", \"mes\": \"Julho\", \"numero\": 27, \"uf\": \"RJ\", \"nome_uf\": \"Rio de Janeiro\"}, {\"ano\": 2016, \"genero\": \"Feminino\", \"mes\": \"Agosto\", \"numero\": 18, \"uf\": \"RJ\", \"nome_uf\": \"Rio de Janeiro\"}, {\"ano\": 2016, \"genero\": \"Feminino\", \"mes\": \"Setembro\", \"numero\": 34, \"uf\": \"RJ\", \"nome_uf\": \"Rio de Janeiro\"}, {\"ano\": 2016, \"genero\": \"Feminino\", \"mes\": \"Outubro\", \"numero\": 27, \"uf\": \"RJ\", \"nome_uf\": \"Rio de Janeiro\"}, {\"ano\": 2016, \"genero\": \"Feminino\", \"mes\": \"Novembro\", \"numero\": 27, \"uf\": \"RJ\", \"nome_uf\": \"Rio de Janeiro\"}, {\"ano\": 2016, \"genero\": \"Feminino\", \"mes\": \"Dezembro\", \"numero\": 27, \"uf\": \"RJ\", \"nome_uf\": \"Rio de Janeiro\"}, {\"ano\": 2017, \"genero\": \"Feminino\", \"mes\": \"Janeiro\", \"numero\": 22, \"uf\": \"RJ\", \"nome_uf\": \"Rio de Janeiro\"}, {\"ano\": 2017, \"genero\": \"Feminino\", \"mes\": \"Fevereiro\", \"numero\": 17, \"uf\": \"RJ\", \"nome_uf\": \"Rio de Janeiro\"}, {\"ano\": 2017, \"genero\": \"Feminino\", \"mes\": \"Mar\\u00e7o\", \"numero\": 30, \"uf\": \"RJ\", \"nome_uf\": \"Rio de Janeiro\"}, {\"ano\": 2017, \"genero\": \"Feminino\", \"mes\": \"Abril\", \"numero\": 26, \"uf\": \"RJ\", \"nome_uf\": \"Rio de Janeiro\"}, {\"ano\": 2017, \"genero\": \"Feminino\", \"mes\": \"Maio\", \"numero\": 23, \"uf\": \"RJ\", \"nome_uf\": \"Rio de Janeiro\"}, {\"ano\": 2017, \"genero\": \"Feminino\", \"mes\": \"Junho\", \"numero\": 20, \"uf\": \"RJ\", \"nome_uf\": \"Rio de Janeiro\"}, {\"ano\": 2017, \"genero\": \"Feminino\", \"mes\": \"Julho\", \"numero\": 24, \"uf\": \"RJ\", \"nome_uf\": \"Rio de Janeiro\"}, {\"ano\": 2017, \"genero\": \"Feminino\", \"mes\": \"Agosto\", \"numero\": 31, \"uf\": \"RJ\", \"nome_uf\": \"Rio de Janeiro\"}, {\"ano\": 2017, \"genero\": \"Feminino\", \"mes\": \"Setembro\", \"numero\": 29, \"uf\": \"RJ\", \"nome_uf\": \"Rio de Janeiro\"}, {\"ano\": 2017, \"genero\": \"Feminino\", \"mes\": \"Outubro\", \"numero\": 29, \"uf\": \"RJ\", \"nome_uf\": \"Rio de Janeiro\"}, {\"ano\": 2017, \"genero\": \"Feminino\", \"mes\": \"Novembro\", \"numero\": 22, \"uf\": \"RJ\", \"nome_uf\": \"Rio de Janeiro\"}, {\"ano\": 2017, \"genero\": \"Feminino\", \"mes\": \"Dezembro\", \"numero\": 26, \"uf\": \"RJ\", \"nome_uf\": \"Rio de Janeiro\"}, {\"ano\": 2018, \"genero\": \"Feminino\", \"mes\": \"Janeiro\", \"numero\": 25, \"uf\": \"RJ\", \"nome_uf\": \"Rio de Janeiro\"}, {\"ano\": 2018, \"genero\": \"Feminino\", \"mes\": \"Fevereiro\", \"numero\": 14, \"uf\": \"RJ\", \"nome_uf\": \"Rio de Janeiro\"}, {\"ano\": 2018, \"genero\": \"Feminino\", \"mes\": \"Mar\\u00e7o\", \"numero\": 33, \"uf\": \"RJ\", \"nome_uf\": \"Rio de Janeiro\"}, {\"ano\": 2018, \"genero\": \"Feminino\", \"mes\": \"Abril\", \"numero\": 24, \"uf\": \"RJ\", \"nome_uf\": \"Rio de Janeiro\"}, {\"ano\": 2018, \"genero\": \"Feminino\", \"mes\": \"Maio\", \"numero\": 21, \"uf\": \"RJ\", \"nome_uf\": \"Rio de Janeiro\"}, {\"ano\": 2018, \"genero\": \"Feminino\", \"mes\": \"Junho\", \"numero\": 23, \"uf\": \"RJ\", \"nome_uf\": \"Rio de Janeiro\"}, {\"ano\": 2018, \"genero\": \"Feminino\", \"mes\": \"Julho\", \"numero\": 24, \"uf\": \"RJ\", \"nome_uf\": \"Rio de Janeiro\"}, {\"ano\": 2018, \"genero\": \"Feminino\", \"mes\": \"Agosto\", \"numero\": 32, \"uf\": \"RJ\", \"nome_uf\": \"Rio de Janeiro\"}, {\"ano\": 2018, \"genero\": \"Feminino\", \"mes\": \"Setembro\", \"numero\": 29, \"uf\": \"RJ\", \"nome_uf\": \"Rio de Janeiro\"}, {\"ano\": 2018, \"genero\": \"Feminino\", \"mes\": \"Outubro\", \"numero\": 35, \"uf\": \"RJ\", \"nome_uf\": \"Rio de Janeiro\"}, {\"ano\": 2018, \"genero\": \"Feminino\", \"mes\": \"Novembro\", \"numero\": 37, \"uf\": \"RJ\", \"nome_uf\": \"Rio de Janeiro\"}, {\"ano\": 2018, \"genero\": \"Feminino\", \"mes\": \"Dezembro\", \"numero\": 109, \"uf\": \"RJ\", \"nome_uf\": \"Rio de Janeiro\"}, {\"ano\": 2019, \"genero\": \"Feminino\", \"mes\": \"Janeiro\", \"numero\": 76, \"uf\": \"RJ\", \"nome_uf\": \"Rio de Janeiro\"}, {\"ano\": 2019, \"genero\": \"Feminino\", \"mes\": \"Fevereiro\", \"numero\": 82, \"uf\": \"RJ\", \"nome_uf\": \"Rio de Janeiro\"}, {\"ano\": 2019, \"genero\": \"Feminino\", \"mes\": \"Mar\\u00e7o\", \"numero\": 60, \"uf\": \"RJ\", \"nome_uf\": \"Rio de Janeiro\"}, {\"ano\": 2019, \"genero\": \"Feminino\", \"mes\": \"Abril\", \"numero\": 55, \"uf\": \"RJ\", \"nome_uf\": \"Rio de Janeiro\"}, {\"ano\": 2019, \"genero\": \"Feminino\", \"mes\": \"Maio\", \"numero\": 53, \"uf\": \"RJ\", \"nome_uf\": \"Rio de Janeiro\"}, {\"ano\": 2019, \"genero\": \"Feminino\", \"mes\": \"Junho\", \"numero\": 33, \"uf\": \"RJ\", \"nome_uf\": \"Rio de Janeiro\"}, {\"ano\": 2019, \"genero\": \"Feminino\", \"mes\": \"Julho\", \"numero\": 26, \"uf\": \"RJ\", \"nome_uf\": \"Rio de Janeiro\"}, {\"ano\": 2019, \"genero\": \"Feminino\", \"mes\": \"Agosto\", \"numero\": 25, \"uf\": \"RJ\", \"nome_uf\": \"Rio de Janeiro\"}, {\"ano\": 2019, \"genero\": \"Feminino\", \"mes\": \"Setembro\", \"numero\": 30, \"uf\": \"RJ\", \"nome_uf\": \"Rio de Janeiro\"}, {\"ano\": 2019, \"genero\": \"Feminino\", \"mes\": \"Outubro\", \"numero\": 43, \"uf\": \"RJ\", \"nome_uf\": \"Rio de Janeiro\"}, {\"ano\": 2019, \"genero\": \"Feminino\", \"mes\": \"Novembro\", \"numero\": 40, \"uf\": \"RJ\", \"nome_uf\": \"Rio de Janeiro\"}, {\"ano\": 2019, \"genero\": \"Feminino\", \"mes\": \"Dezembro\", \"numero\": 45, \"uf\": \"RJ\", \"nome_uf\": \"Rio de Janeiro\"}]}}, {\"mode\": \"vega-lite\"});\n",
              "</script>"
            ]
          },
          "metadata": {},
          "execution_count": 139
        }
      ]
    }
  ]
}