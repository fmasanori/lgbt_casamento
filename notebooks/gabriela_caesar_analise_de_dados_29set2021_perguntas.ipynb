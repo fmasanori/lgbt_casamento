{
  "nbformat": 4,
  "nbformat_minor": 0,
  "metadata": {
    "colab": {
      "name": "gabriela-caesar-analise-de-dados-29set2021_perguntas.ipynb",
      "provenance": []
    },
    "kernelspec": {
      "name": "python3",
      "display_name": "Python 3"
    },
    "language_info": {
      "name": "python"
    }
  },
  "cells": [
    {
      "cell_type": "markdown",
      "metadata": {
        "id": "bwN465JNASUb"
      },
      "source": [
        "Notebook - análise exploratória de dados\n",
        "\n",
        "Gabriela Caesar\n",
        "\n",
        "29/set/2021\n",
        "\n",
        "Pergunta a ser respondida\n",
        "\n",
        "- Defina a sua UF e o ano no input e veja as estatísticas básicas da sua UF/ano quanto ao casamento LGBT\n"
      ]
    },
    {
      "cell_type": "code",
      "metadata": {
        "id": "sgkrjJpsAGU3"
      },
      "source": [
        "# importacao da biblioteca\n",
        "import pandas as pd"
      ],
      "execution_count": 1,
      "outputs": []
    },
    {
      "cell_type": "code",
      "metadata": {
        "id": "6cis-ATVAK9q"
      },
      "source": [
        "# leitura do dataframe\n",
        "lgbt_casamento = pd.read_csv('https://raw.githubusercontent.com/gabrielacaesar/lgbt_casamento/main/data/lgbt_casamento.csv')"
      ],
      "execution_count": 2,
      "outputs": []
    },
    {
      "cell_type": "code",
      "metadata": {
        "colab": {
          "base_uri": "https://localhost:8080/",
          "height": 112
        },
        "id": "r_ZvQcRCDoyM",
        "outputId": "46ae5b67-92bd-452d-dc42-aaf80d2c0e28"
      },
      "source": [
        "lgbt_casamento.head(2)"
      ],
      "execution_count": 3,
      "outputs": [
        {
          "output_type": "execute_result",
          "data": {
            "text/html": [
              "<div>\n",
              "<style scoped>\n",
              "    .dataframe tbody tr th:only-of-type {\n",
              "        vertical-align: middle;\n",
              "    }\n",
              "\n",
              "    .dataframe tbody tr th {\n",
              "        vertical-align: top;\n",
              "    }\n",
              "\n",
              "    .dataframe thead th {\n",
              "        text-align: right;\n",
              "    }\n",
              "</style>\n",
              "<table border=\"1\" class=\"dataframe\">\n",
              "  <thead>\n",
              "    <tr style=\"text-align: right;\">\n",
              "      <th></th>\n",
              "      <th>ano</th>\n",
              "      <th>uf</th>\n",
              "      <th>genero</th>\n",
              "      <th>mes</th>\n",
              "      <th>numero</th>\n",
              "    </tr>\n",
              "  </thead>\n",
              "  <tbody>\n",
              "    <tr>\n",
              "      <th>0</th>\n",
              "      <td>2014</td>\n",
              "      <td>Rondônia</td>\n",
              "      <td>Masculino</td>\n",
              "      <td>Janeiro</td>\n",
              "      <td>0</td>\n",
              "    </tr>\n",
              "    <tr>\n",
              "      <th>1</th>\n",
              "      <td>2014</td>\n",
              "      <td>Rondônia</td>\n",
              "      <td>Masculino</td>\n",
              "      <td>Fevereiro</td>\n",
              "      <td>0</td>\n",
              "    </tr>\n",
              "  </tbody>\n",
              "</table>\n",
              "</div>"
            ],
            "text/plain": [
              "    ano        uf     genero        mes  numero\n",
              "0  2014  Rondônia  Masculino    Janeiro       0\n",
              "1  2014  Rondônia  Masculino  Fevereiro       0"
            ]
          },
          "metadata": {},
          "execution_count": 3
        }
      ]
    },
    {
      "cell_type": "code",
      "metadata": {
        "id": "4invVjy6DFoU"
      },
      "source": [
        "sigla_uf = pd.read_csv('https://raw.githubusercontent.com/kelvins/Municipios-Brasileiros/main/csv/estados.csv')"
      ],
      "execution_count": 4,
      "outputs": []
    },
    {
      "cell_type": "code",
      "metadata": {
        "colab": {
          "base_uri": "https://localhost:8080/",
          "height": 112
        },
        "id": "MCMsIaDZDqht",
        "outputId": "9495c6ee-f37f-4332-f3f8-90ce192ce91c"
      },
      "source": [
        "sigla_uf.head(2)"
      ],
      "execution_count": 5,
      "outputs": [
        {
          "output_type": "execute_result",
          "data": {
            "text/html": [
              "<div>\n",
              "<style scoped>\n",
              "    .dataframe tbody tr th:only-of-type {\n",
              "        vertical-align: middle;\n",
              "    }\n",
              "\n",
              "    .dataframe tbody tr th {\n",
              "        vertical-align: top;\n",
              "    }\n",
              "\n",
              "    .dataframe thead th {\n",
              "        text-align: right;\n",
              "    }\n",
              "</style>\n",
              "<table border=\"1\" class=\"dataframe\">\n",
              "  <thead>\n",
              "    <tr style=\"text-align: right;\">\n",
              "      <th></th>\n",
              "      <th>codigo_uf</th>\n",
              "      <th>uf</th>\n",
              "      <th>nome</th>\n",
              "      <th>latitude</th>\n",
              "      <th>longitude</th>\n",
              "    </tr>\n",
              "  </thead>\n",
              "  <tbody>\n",
              "    <tr>\n",
              "      <th>0</th>\n",
              "      <td>11</td>\n",
              "      <td>RO</td>\n",
              "      <td>Rondônia</td>\n",
              "      <td>-10.83</td>\n",
              "      <td>-63.34</td>\n",
              "    </tr>\n",
              "    <tr>\n",
              "      <th>1</th>\n",
              "      <td>12</td>\n",
              "      <td>AC</td>\n",
              "      <td>Acre</td>\n",
              "      <td>-8.77</td>\n",
              "      <td>-70.55</td>\n",
              "    </tr>\n",
              "  </tbody>\n",
              "</table>\n",
              "</div>"
            ],
            "text/plain": [
              "   codigo_uf  uf      nome  latitude  longitude\n",
              "0         11  RO  Rondônia    -10.83     -63.34\n",
              "1         12  AC      Acre     -8.77     -70.55"
            ]
          },
          "metadata": {},
          "execution_count": 5
        }
      ]
    },
    {
      "cell_type": "code",
      "metadata": {
        "colab": {
          "base_uri": "https://localhost:8080/",
          "height": 112
        },
        "id": "qoQKyH_tDAgd",
        "outputId": "e3f43b33-4d3e-4fb9-fb14-3972fc0a8cf5"
      },
      "source": [
        "sigla_uf_lgbt_casamento = lgbt_casamento.merge(sigla_uf, how = 'left', left_on = 'uf', right_on = 'nome')\n",
        "len(sigla_uf_lgbt_casamento['uf_y'].unique())\n",
        "sigla_uf_lgbt_casamento.head(2)"
      ],
      "execution_count": 6,
      "outputs": [
        {
          "output_type": "execute_result",
          "data": {
            "text/html": [
              "<div>\n",
              "<style scoped>\n",
              "    .dataframe tbody tr th:only-of-type {\n",
              "        vertical-align: middle;\n",
              "    }\n",
              "\n",
              "    .dataframe tbody tr th {\n",
              "        vertical-align: top;\n",
              "    }\n",
              "\n",
              "    .dataframe thead th {\n",
              "        text-align: right;\n",
              "    }\n",
              "</style>\n",
              "<table border=\"1\" class=\"dataframe\">\n",
              "  <thead>\n",
              "    <tr style=\"text-align: right;\">\n",
              "      <th></th>\n",
              "      <th>ano</th>\n",
              "      <th>uf_x</th>\n",
              "      <th>genero</th>\n",
              "      <th>mes</th>\n",
              "      <th>numero</th>\n",
              "      <th>codigo_uf</th>\n",
              "      <th>uf_y</th>\n",
              "      <th>nome</th>\n",
              "      <th>latitude</th>\n",
              "      <th>longitude</th>\n",
              "    </tr>\n",
              "  </thead>\n",
              "  <tbody>\n",
              "    <tr>\n",
              "      <th>0</th>\n",
              "      <td>2014</td>\n",
              "      <td>Rondônia</td>\n",
              "      <td>Masculino</td>\n",
              "      <td>Janeiro</td>\n",
              "      <td>0</td>\n",
              "      <td>11</td>\n",
              "      <td>RO</td>\n",
              "      <td>Rondônia</td>\n",
              "      <td>-10.83</td>\n",
              "      <td>-63.34</td>\n",
              "    </tr>\n",
              "    <tr>\n",
              "      <th>1</th>\n",
              "      <td>2014</td>\n",
              "      <td>Rondônia</td>\n",
              "      <td>Masculino</td>\n",
              "      <td>Fevereiro</td>\n",
              "      <td>0</td>\n",
              "      <td>11</td>\n",
              "      <td>RO</td>\n",
              "      <td>Rondônia</td>\n",
              "      <td>-10.83</td>\n",
              "      <td>-63.34</td>\n",
              "    </tr>\n",
              "  </tbody>\n",
              "</table>\n",
              "</div>"
            ],
            "text/plain": [
              "    ano      uf_x     genero        mes  ...  uf_y      nome latitude longitude\n",
              "0  2014  Rondônia  Masculino    Janeiro  ...    RO  Rondônia   -10.83    -63.34\n",
              "1  2014  Rondônia  Masculino  Fevereiro  ...    RO  Rondônia   -10.83    -63.34\n",
              "\n",
              "[2 rows x 10 columns]"
            ]
          },
          "metadata": {},
          "execution_count": 6
        }
      ]
    },
    {
      "cell_type": "code",
      "metadata": {
        "colab": {
          "base_uri": "https://localhost:8080/",
          "height": 112
        },
        "id": "W-YDne-3EuO6",
        "outputId": "9b1bec93-69a6-4867-cf85-3559e3bde303"
      },
      "source": [
        "sigla_uf_lgbt_casamento = sigla_uf_lgbt_casamento.drop(['uf_x', 'codigo_uf', 'latitude', 'longitude'], axis=1)\n",
        "sigla_uf_lgbt_casamento = sigla_uf_lgbt_casamento.rename(columns={'uf_y':'uf', 'nome': 'nome_uf'})\n",
        "sigla_uf_lgbt_casamento.columns\n",
        "sigla_uf_lgbt_casamento.head(2)"
      ],
      "execution_count": 7,
      "outputs": [
        {
          "output_type": "execute_result",
          "data": {
            "text/html": [
              "<div>\n",
              "<style scoped>\n",
              "    .dataframe tbody tr th:only-of-type {\n",
              "        vertical-align: middle;\n",
              "    }\n",
              "\n",
              "    .dataframe tbody tr th {\n",
              "        vertical-align: top;\n",
              "    }\n",
              "\n",
              "    .dataframe thead th {\n",
              "        text-align: right;\n",
              "    }\n",
              "</style>\n",
              "<table border=\"1\" class=\"dataframe\">\n",
              "  <thead>\n",
              "    <tr style=\"text-align: right;\">\n",
              "      <th></th>\n",
              "      <th>ano</th>\n",
              "      <th>genero</th>\n",
              "      <th>mes</th>\n",
              "      <th>numero</th>\n",
              "      <th>uf</th>\n",
              "      <th>nome_uf</th>\n",
              "    </tr>\n",
              "  </thead>\n",
              "  <tbody>\n",
              "    <tr>\n",
              "      <th>0</th>\n",
              "      <td>2014</td>\n",
              "      <td>Masculino</td>\n",
              "      <td>Janeiro</td>\n",
              "      <td>0</td>\n",
              "      <td>RO</td>\n",
              "      <td>Rondônia</td>\n",
              "    </tr>\n",
              "    <tr>\n",
              "      <th>1</th>\n",
              "      <td>2014</td>\n",
              "      <td>Masculino</td>\n",
              "      <td>Fevereiro</td>\n",
              "      <td>0</td>\n",
              "      <td>RO</td>\n",
              "      <td>Rondônia</td>\n",
              "    </tr>\n",
              "  </tbody>\n",
              "</table>\n",
              "</div>"
            ],
            "text/plain": [
              "    ano     genero        mes  numero  uf   nome_uf\n",
              "0  2014  Masculino    Janeiro       0  RO  Rondônia\n",
              "1  2014  Masculino  Fevereiro       0  RO  Rondônia"
            ]
          },
          "metadata": {},
          "execution_count": 7
        }
      ]
    },
    {
      "cell_type": "markdown",
      "metadata": {
        "id": "Oyw9lrp_LDQ7"
      },
      "source": [
        "## com user input\n"
      ]
    },
    {
      "cell_type": "code",
      "metadata": {
        "colab": {
          "base_uri": "https://localhost:8080/",
          "height": 426
        },
        "id": "Din3PKIxJotg",
        "outputId": "285ff8ae-6b25-40a8-e6ef-5a41652bc10f"
      },
      "source": [
        "mes_numero = {'id_mes':[1,2,3,4,5,6,7,8,9,10,11,12], 'nome_mes':['Janeiro', 'Fevereiro', 'Março', 'Abril', 'Maio', 'Junho', 'Julho', 'Agosto', 'Setembro', 'Outubro', 'Novembro', 'Dezembro']}\n",
        "df_mes_numero = pd.DataFrame(mes_numero)\n",
        "df_mes_numero"
      ],
      "execution_count": 8,
      "outputs": [
        {
          "output_type": "execute_result",
          "data": {
            "text/html": [
              "<div>\n",
              "<style scoped>\n",
              "    .dataframe tbody tr th:only-of-type {\n",
              "        vertical-align: middle;\n",
              "    }\n",
              "\n",
              "    .dataframe tbody tr th {\n",
              "        vertical-align: top;\n",
              "    }\n",
              "\n",
              "    .dataframe thead th {\n",
              "        text-align: right;\n",
              "    }\n",
              "</style>\n",
              "<table border=\"1\" class=\"dataframe\">\n",
              "  <thead>\n",
              "    <tr style=\"text-align: right;\">\n",
              "      <th></th>\n",
              "      <th>id_mes</th>\n",
              "      <th>nome_mes</th>\n",
              "    </tr>\n",
              "  </thead>\n",
              "  <tbody>\n",
              "    <tr>\n",
              "      <th>0</th>\n",
              "      <td>1</td>\n",
              "      <td>Janeiro</td>\n",
              "    </tr>\n",
              "    <tr>\n",
              "      <th>1</th>\n",
              "      <td>2</td>\n",
              "      <td>Fevereiro</td>\n",
              "    </tr>\n",
              "    <tr>\n",
              "      <th>2</th>\n",
              "      <td>3</td>\n",
              "      <td>Março</td>\n",
              "    </tr>\n",
              "    <tr>\n",
              "      <th>3</th>\n",
              "      <td>4</td>\n",
              "      <td>Abril</td>\n",
              "    </tr>\n",
              "    <tr>\n",
              "      <th>4</th>\n",
              "      <td>5</td>\n",
              "      <td>Maio</td>\n",
              "    </tr>\n",
              "    <tr>\n",
              "      <th>5</th>\n",
              "      <td>6</td>\n",
              "      <td>Junho</td>\n",
              "    </tr>\n",
              "    <tr>\n",
              "      <th>6</th>\n",
              "      <td>7</td>\n",
              "      <td>Julho</td>\n",
              "    </tr>\n",
              "    <tr>\n",
              "      <th>7</th>\n",
              "      <td>8</td>\n",
              "      <td>Agosto</td>\n",
              "    </tr>\n",
              "    <tr>\n",
              "      <th>8</th>\n",
              "      <td>9</td>\n",
              "      <td>Setembro</td>\n",
              "    </tr>\n",
              "    <tr>\n",
              "      <th>9</th>\n",
              "      <td>10</td>\n",
              "      <td>Outubro</td>\n",
              "    </tr>\n",
              "    <tr>\n",
              "      <th>10</th>\n",
              "      <td>11</td>\n",
              "      <td>Novembro</td>\n",
              "    </tr>\n",
              "    <tr>\n",
              "      <th>11</th>\n",
              "      <td>12</td>\n",
              "      <td>Dezembro</td>\n",
              "    </tr>\n",
              "  </tbody>\n",
              "</table>\n",
              "</div>"
            ],
            "text/plain": [
              "    id_mes   nome_mes\n",
              "0        1    Janeiro\n",
              "1        2  Fevereiro\n",
              "2        3      Março\n",
              "3        4      Abril\n",
              "4        5       Maio\n",
              "5        6      Junho\n",
              "6        7      Julho\n",
              "7        8     Agosto\n",
              "8        9   Setembro\n",
              "9       10    Outubro\n",
              "10      11   Novembro\n",
              "11      12   Dezembro"
            ]
          },
          "metadata": {},
          "execution_count": 8
        }
      ]
    },
    {
      "cell_type": "code",
      "metadata": {
        "colab": {
          "base_uri": "https://localhost:8080/",
          "height": 112
        },
        "id": "lfSazz6qLIOu",
        "outputId": "856e2b51-0b5f-42eb-ff6d-38b716bf3e96"
      },
      "source": [
        "final_lgbt_casamento = sigla_uf_lgbt_casamento.merge(df_mes_numero, how = 'left', left_on = 'mes', right_on = 'nome_mes')\n",
        "final_lgbt_casamento.head(2)"
      ],
      "execution_count": 12,
      "outputs": [
        {
          "output_type": "execute_result",
          "data": {
            "text/html": [
              "<div>\n",
              "<style scoped>\n",
              "    .dataframe tbody tr th:only-of-type {\n",
              "        vertical-align: middle;\n",
              "    }\n",
              "\n",
              "    .dataframe tbody tr th {\n",
              "        vertical-align: top;\n",
              "    }\n",
              "\n",
              "    .dataframe thead th {\n",
              "        text-align: right;\n",
              "    }\n",
              "</style>\n",
              "<table border=\"1\" class=\"dataframe\">\n",
              "  <thead>\n",
              "    <tr style=\"text-align: right;\">\n",
              "      <th></th>\n",
              "      <th>ano</th>\n",
              "      <th>genero</th>\n",
              "      <th>mes</th>\n",
              "      <th>numero</th>\n",
              "      <th>uf</th>\n",
              "      <th>nome_uf</th>\n",
              "      <th>id_mes</th>\n",
              "      <th>nome_mes</th>\n",
              "    </tr>\n",
              "  </thead>\n",
              "  <tbody>\n",
              "    <tr>\n",
              "      <th>0</th>\n",
              "      <td>2014</td>\n",
              "      <td>Masculino</td>\n",
              "      <td>Janeiro</td>\n",
              "      <td>0</td>\n",
              "      <td>RO</td>\n",
              "      <td>Rondônia</td>\n",
              "      <td>1</td>\n",
              "      <td>Janeiro</td>\n",
              "    </tr>\n",
              "    <tr>\n",
              "      <th>1</th>\n",
              "      <td>2014</td>\n",
              "      <td>Masculino</td>\n",
              "      <td>Fevereiro</td>\n",
              "      <td>0</td>\n",
              "      <td>RO</td>\n",
              "      <td>Rondônia</td>\n",
              "      <td>2</td>\n",
              "      <td>Fevereiro</td>\n",
              "    </tr>\n",
              "  </tbody>\n",
              "</table>\n",
              "</div>"
            ],
            "text/plain": [
              "    ano     genero        mes  numero  uf   nome_uf  id_mes   nome_mes\n",
              "0  2014  Masculino    Janeiro       0  RO  Rondônia       1    Janeiro\n",
              "1  2014  Masculino  Fevereiro       0  RO  Rondônia       2  Fevereiro"
            ]
          },
          "metadata": {},
          "execution_count": 12
        }
      ]
    },
    {
      "cell_type": "code",
      "metadata": {
        "colab": {
          "base_uri": "https://localhost:8080/"
        },
        "id": "oUgxYOx0Ao8T",
        "outputId": "75f61eaf-c705-44a3-bf93-dfc928582ee4"
      },
      "source": [
        "print(\" --------------------------- \\n         Bem-vindo/a! \\n ---------------------------\")\n",
        "ano_user = int(input(\"Escolha um ano de 2013 a 2019: \\n\"))\n",
        "uf_user = input(\"Escolha uma UF. Por exemplo, AC, AL, SP, RJ... \\n\")\n",
        "uf_user = uf_user.upper().strip()\n",
        "#print(uf_user)\n",
        "print(\" --------------------------- \\n      Já vamos calcular! \\n ---------------------------\")"
      ],
      "execution_count": 28,
      "outputs": [
        {
          "output_type": "stream",
          "name": "stdout",
          "text": [
            " --------------------------- \n",
            "         Bem-vindo/a! \n",
            " ---------------------------\n",
            "Escolha um ano de 2013 a 2019: \n",
            "2019\n",
            "Escolha uma UF. Por exemplo, AC, AL, SP, RJ... \n",
            "SP\n",
            " --------------------------- \n",
            "      Já vamos calcular! \n",
            " ---------------------------\n"
          ]
        }
      ]
    },
    {
      "cell_type": "markdown",
      "metadata": {
        "id": "EFF7jdniheY0"
      },
      "source": [
        "# Veja os números, por mês, no ano e na UF de escolha\n",
        "Gráfico mostra o número de casamentos LGBTs, por gênero, no ano e na unidade federativa informada antes pelo usuário.\n",
        "\n",
        "Passe o mouse em cima do gráfico para mais detalhes.\n"
      ]
    },
    {
      "cell_type": "code",
      "metadata": {
        "colab": {
          "base_uri": "https://localhost:8080/",
          "height": 422
        },
        "id": "2zv0QymDTE6U",
        "outputId": "2f510a04-f71a-45ea-e38f-b91666f62517"
      },
      "source": [
        "# filtro pela UF e pelo ano informados pelo usuário\n",
        "# mais gráfico\n",
        "import altair as alt\n",
        "alt.Chart(sigla_uf_lgbt_casamento.query('uf == @uf_user & ano == @ano_user', engine='python')).mark_line(point=True).encode(\n",
        "    x = alt.X('mes', title = 'Mês', sort=['Janeiro', 'Fevereiro', 'Março']),\n",
        "    y = alt.Y('numero', title='Número'),\n",
        "    color = 'genero',\n",
        "    tooltip = ['mes', 'ano', 'genero', 'numero']\n",
        ").properties(\n",
        "    title = f'{uf_user}: Casamento LGBTs em {ano_user}'\n",
        ").interactive()"
      ],
      "execution_count": 106,
      "outputs": [
        {
          "output_type": "execute_result",
          "data": {
            "text/plain": [
              "alt.Chart(...)"
            ],
            "text/html": [
              "\n",
              "<div id=\"altair-viz-21eadce15cba49f0bab91774ce439e74\"></div>\n",
              "<script type=\"text/javascript\">\n",
              "  (function(spec, embedOpt){\n",
              "    let outputDiv = document.currentScript.previousElementSibling;\n",
              "    if (outputDiv.id !== \"altair-viz-21eadce15cba49f0bab91774ce439e74\") {\n",
              "      outputDiv = document.getElementById(\"altair-viz-21eadce15cba49f0bab91774ce439e74\");\n",
              "    }\n",
              "    const paths = {\n",
              "      \"vega\": \"https://cdn.jsdelivr.net/npm//vega@5?noext\",\n",
              "      \"vega-lib\": \"https://cdn.jsdelivr.net/npm//vega-lib?noext\",\n",
              "      \"vega-lite\": \"https://cdn.jsdelivr.net/npm//vega-lite@4.8.1?noext\",\n",
              "      \"vega-embed\": \"https://cdn.jsdelivr.net/npm//vega-embed@6?noext\",\n",
              "    };\n",
              "\n",
              "    function loadScript(lib) {\n",
              "      return new Promise(function(resolve, reject) {\n",
              "        var s = document.createElement('script');\n",
              "        s.src = paths[lib];\n",
              "        s.async = true;\n",
              "        s.onload = () => resolve(paths[lib]);\n",
              "        s.onerror = () => reject(`Error loading script: ${paths[lib]}`);\n",
              "        document.getElementsByTagName(\"head\")[0].appendChild(s);\n",
              "      });\n",
              "    }\n",
              "\n",
              "    function showError(err) {\n",
              "      outputDiv.innerHTML = `<div class=\"error\" style=\"color:red;\">${err}</div>`;\n",
              "      throw err;\n",
              "    }\n",
              "\n",
              "    function displayChart(vegaEmbed) {\n",
              "      vegaEmbed(outputDiv, spec, embedOpt)\n",
              "        .catch(err => showError(`Javascript Error: ${err.message}<br>This usually means there's a typo in your chart specification. See the javascript console for the full traceback.`));\n",
              "    }\n",
              "\n",
              "    if(typeof define === \"function\" && define.amd) {\n",
              "      requirejs.config({paths});\n",
              "      require([\"vega-embed\"], displayChart, err => showError(`Error loading script: ${err.message}`));\n",
              "    } else if (typeof vegaEmbed === \"function\") {\n",
              "      displayChart(vegaEmbed);\n",
              "    } else {\n",
              "      loadScript(\"vega\")\n",
              "        .then(() => loadScript(\"vega-lite\"))\n",
              "        .then(() => loadScript(\"vega-embed\"))\n",
              "        .catch(showError)\n",
              "        .then(() => displayChart(vegaEmbed));\n",
              "    }\n",
              "  })({\"config\": {\"view\": {\"continuousWidth\": 400, \"continuousHeight\": 300}}, \"data\": {\"name\": \"data-96efa5d8619f33cdbf10e80aef5cb0d4\"}, \"mark\": {\"type\": \"line\", \"point\": true}, \"encoding\": {\"color\": {\"type\": \"nominal\", \"field\": \"genero\"}, \"tooltip\": [{\"type\": \"nominal\", \"field\": \"mes\"}, {\"type\": \"quantitative\", \"field\": \"ano\"}, {\"type\": \"nominal\", \"field\": \"genero\"}, {\"type\": \"quantitative\", \"field\": \"numero\"}], \"x\": {\"type\": \"nominal\", \"field\": \"mes\", \"sort\": [\"Janeiro\", \"Fevereiro\", \"Mar\\u00e7o\"], \"title\": \"M\\u00eas\"}, \"y\": {\"type\": \"quantitative\", \"field\": \"numero\", \"title\": \"N\\u00famero\"}}, \"selection\": {\"selector036\": {\"type\": \"interval\", \"bind\": \"scales\", \"encodings\": [\"x\", \"y\"]}}, \"title\": \"SP: Casamento LGBTs em 2019\", \"$schema\": \"https://vega.github.io/schema/vega-lite/v4.8.1.json\", \"datasets\": {\"data-96efa5d8619f33cdbf10e80aef5cb0d4\": [{\"ano\": 2019, \"genero\": \"Masculino\", \"mes\": \"Janeiro\", \"numero\": 201, \"uf\": \"SP\", \"nome_uf\": \"S\\u00e3o Paulo\"}, {\"ano\": 2019, \"genero\": \"Masculino\", \"mes\": \"Fevereiro\", \"numero\": 126, \"uf\": \"SP\", \"nome_uf\": \"S\\u00e3o Paulo\"}, {\"ano\": 2019, \"genero\": \"Masculino\", \"mes\": \"Mar\\u00e7o\", \"numero\": 119, \"uf\": \"SP\", \"nome_uf\": \"S\\u00e3o Paulo\"}, {\"ano\": 2019, \"genero\": \"Masculino\", \"mes\": \"Abril\", \"numero\": 86, \"uf\": \"SP\", \"nome_uf\": \"S\\u00e3o Paulo\"}, {\"ano\": 2019, \"genero\": \"Masculino\", \"mes\": \"Maio\", \"numero\": 90, \"uf\": \"SP\", \"nome_uf\": \"S\\u00e3o Paulo\"}, {\"ano\": 2019, \"genero\": \"Masculino\", \"mes\": \"Junho\", \"numero\": 122, \"uf\": \"SP\", \"nome_uf\": \"S\\u00e3o Paulo\"}, {\"ano\": 2019, \"genero\": \"Masculino\", \"mes\": \"Julho\", \"numero\": 122, \"uf\": \"SP\", \"nome_uf\": \"S\\u00e3o Paulo\"}, {\"ano\": 2019, \"genero\": \"Masculino\", \"mes\": \"Agosto\", \"numero\": 112, \"uf\": \"SP\", \"nome_uf\": \"S\\u00e3o Paulo\"}, {\"ano\": 2019, \"genero\": \"Masculino\", \"mes\": \"Setembro\", \"numero\": 113, \"uf\": \"SP\", \"nome_uf\": \"S\\u00e3o Paulo\"}, {\"ano\": 2019, \"genero\": \"Masculino\", \"mes\": \"Outubro\", \"numero\": 99, \"uf\": \"SP\", \"nome_uf\": \"S\\u00e3o Paulo\"}, {\"ano\": 2019, \"genero\": \"Masculino\", \"mes\": \"Novembro\", \"numero\": 132, \"uf\": \"SP\", \"nome_uf\": \"S\\u00e3o Paulo\"}, {\"ano\": 2019, \"genero\": \"Masculino\", \"mes\": \"Dezembro\", \"numero\": 131, \"uf\": \"SP\", \"nome_uf\": \"S\\u00e3o Paulo\"}, {\"ano\": 2019, \"genero\": \"Feminino\", \"mes\": \"Janeiro\", \"numero\": 339, \"uf\": \"SP\", \"nome_uf\": \"S\\u00e3o Paulo\"}, {\"ano\": 2019, \"genero\": \"Feminino\", \"mes\": \"Fevereiro\", \"numero\": 216, \"uf\": \"SP\", \"nome_uf\": \"S\\u00e3o Paulo\"}, {\"ano\": 2019, \"genero\": \"Feminino\", \"mes\": \"Mar\\u00e7o\", \"numero\": 183, \"uf\": \"SP\", \"nome_uf\": \"S\\u00e3o Paulo\"}, {\"ano\": 2019, \"genero\": \"Feminino\", \"mes\": \"Abril\", \"numero\": 128, \"uf\": \"SP\", \"nome_uf\": \"S\\u00e3o Paulo\"}, {\"ano\": 2019, \"genero\": \"Feminino\", \"mes\": \"Maio\", \"numero\": 159, \"uf\": \"SP\", \"nome_uf\": \"S\\u00e3o Paulo\"}, {\"ano\": 2019, \"genero\": \"Feminino\", \"mes\": \"Junho\", \"numero\": 150, \"uf\": \"SP\", \"nome_uf\": \"S\\u00e3o Paulo\"}, {\"ano\": 2019, \"genero\": \"Feminino\", \"mes\": \"Julho\", \"numero\": 113, \"uf\": \"SP\", \"nome_uf\": \"S\\u00e3o Paulo\"}, {\"ano\": 2019, \"genero\": \"Feminino\", \"mes\": \"Agosto\", \"numero\": 151, \"uf\": \"SP\", \"nome_uf\": \"S\\u00e3o Paulo\"}, {\"ano\": 2019, \"genero\": \"Feminino\", \"mes\": \"Setembro\", \"numero\": 147, \"uf\": \"SP\", \"nome_uf\": \"S\\u00e3o Paulo\"}, {\"ano\": 2019, \"genero\": \"Feminino\", \"mes\": \"Outubro\", \"numero\": 164, \"uf\": \"SP\", \"nome_uf\": \"S\\u00e3o Paulo\"}, {\"ano\": 2019, \"genero\": \"Feminino\", \"mes\": \"Novembro\", \"numero\": 205, \"uf\": \"SP\", \"nome_uf\": \"S\\u00e3o Paulo\"}, {\"ano\": 2019, \"genero\": \"Feminino\", \"mes\": \"Dezembro\", \"numero\": 165, \"uf\": \"SP\", \"nome_uf\": \"S\\u00e3o Paulo\"}]}}, {\"mode\": \"vega-lite\"});\n",
              "</script>"
            ]
          },
          "metadata": {},
          "execution_count": 106
        }
      ]
    },
    {
      "cell_type": "markdown",
      "metadata": {
        "id": "C51LkmDqhDHO"
      },
      "source": [
        "# Veja as estatísticas básicas, por ano, na sua UF de escolha\n",
        "Gráfico mostra todos os anos da base de dados. A unidade federativa foi informada antes pelo usuário.\n",
        "\n",
        "Passe o mouse em cima do gráfico para mais detalhes.\n"
      ]
    },
    {
      "cell_type": "code",
      "metadata": {
        "colab": {
          "base_uri": "https://localhost:8080/",
          "height": 412
        },
        "id": "81keKn6GazF4",
        "outputId": "8f53f433-9854-4b62-d38e-980121d77c5d"
      },
      "source": [
        "dados_user = sigla_uf_lgbt_casamento.query('uf == @uf_user', engine='python')\n",
        "dados_user_agg = dados_user.groupby(['genero','ano'])['numero'].agg({sum})\n",
        "\n",
        "alt.Chart(dados_user).mark_boxplot(size=10).encode(\n",
        "    x = alt.X('ano:O', title=\"Ano\"),\n",
        "    y = alt.Y('numero', title=\"Número\"),\n",
        "    color = 'genero',\n",
        "    tooltip = ['mes', 'ano', 'genero', 'numero']\n",
        ").properties(\n",
        "    title={\n",
        "      \"text\": [f'{uf_user}: Casamento LGBTs'], \n",
        "      \"subtitle\": [f'Mulheres vs. Homens']\n",
        "    },\n",
        "    width=600,\n",
        "    height=300\n",
        ").interactive()"
      ],
      "execution_count": 133,
      "outputs": [
        {
          "output_type": "execute_result",
          "data": {
            "text/plain": [
              "alt.Chart(...)"
            ],
            "text/html": [
              "\n",
              "<div id=\"altair-viz-69bee08c88984a3db15d2056a46f0d31\"></div>\n",
              "<script type=\"text/javascript\">\n",
              "  (function(spec, embedOpt){\n",
              "    let outputDiv = document.currentScript.previousElementSibling;\n",
              "    if (outputDiv.id !== \"altair-viz-69bee08c88984a3db15d2056a46f0d31\") {\n",
              "      outputDiv = document.getElementById(\"altair-viz-69bee08c88984a3db15d2056a46f0d31\");\n",
              "    }\n",
              "    const paths = {\n",
              "      \"vega\": \"https://cdn.jsdelivr.net/npm//vega@5?noext\",\n",
              "      \"vega-lib\": \"https://cdn.jsdelivr.net/npm//vega-lib?noext\",\n",
              "      \"vega-lite\": \"https://cdn.jsdelivr.net/npm//vega-lite@4.8.1?noext\",\n",
              "      \"vega-embed\": \"https://cdn.jsdelivr.net/npm//vega-embed@6?noext\",\n",
              "    };\n",
              "\n",
              "    function loadScript(lib) {\n",
              "      return new Promise(function(resolve, reject) {\n",
              "        var s = document.createElement('script');\n",
              "        s.src = paths[lib];\n",
              "        s.async = true;\n",
              "        s.onload = () => resolve(paths[lib]);\n",
              "        s.onerror = () => reject(`Error loading script: ${paths[lib]}`);\n",
              "        document.getElementsByTagName(\"head\")[0].appendChild(s);\n",
              "      });\n",
              "    }\n",
              "\n",
              "    function showError(err) {\n",
              "      outputDiv.innerHTML = `<div class=\"error\" style=\"color:red;\">${err}</div>`;\n",
              "      throw err;\n",
              "    }\n",
              "\n",
              "    function displayChart(vegaEmbed) {\n",
              "      vegaEmbed(outputDiv, spec, embedOpt)\n",
              "        .catch(err => showError(`Javascript Error: ${err.message}<br>This usually means there's a typo in your chart specification. See the javascript console for the full traceback.`));\n",
              "    }\n",
              "\n",
              "    if(typeof define === \"function\" && define.amd) {\n",
              "      requirejs.config({paths});\n",
              "      require([\"vega-embed\"], displayChart, err => showError(`Error loading script: ${err.message}`));\n",
              "    } else if (typeof vegaEmbed === \"function\") {\n",
              "      displayChart(vegaEmbed);\n",
              "    } else {\n",
              "      loadScript(\"vega\")\n",
              "        .then(() => loadScript(\"vega-lite\"))\n",
              "        .then(() => loadScript(\"vega-embed\"))\n",
              "        .catch(showError)\n",
              "        .then(() => displayChart(vegaEmbed));\n",
              "    }\n",
              "  })({\"config\": {\"view\": {\"continuousWidth\": 400, \"continuousHeight\": 300}}, \"data\": {\"name\": \"data-402f43f6b63dc3f196cff1cbc74f503f\"}, \"mark\": {\"type\": \"boxplot\", \"size\": 10}, \"encoding\": {\"color\": {\"type\": \"nominal\", \"field\": \"genero\"}, \"tooltip\": [{\"type\": \"nominal\", \"field\": \"mes\"}, {\"type\": \"quantitative\", \"field\": \"ano\"}, {\"type\": \"nominal\", \"field\": \"genero\"}, {\"type\": \"quantitative\", \"field\": \"numero\"}], \"x\": {\"type\": \"ordinal\", \"field\": \"ano\", \"title\": \"Ano\"}, \"y\": {\"type\": \"quantitative\", \"field\": \"numero\", \"title\": \"N\\u00famero\"}}, \"height\": 300, \"selection\": {\"selector058\": {\"type\": \"interval\", \"bind\": \"scales\", \"encodings\": [\"x\", \"y\"]}}, \"title\": {\"text\": [\"SP: Casamento LGBTs\"], \"subtitle\": [\"Mulheres vs. Homens\"]}, \"width\": 600, \"$schema\": \"https://vega.github.io/schema/vega-lite/v4.8.1.json\", \"datasets\": {\"data-402f43f6b63dc3f196cff1cbc74f503f\": [{\"ano\": 2014, \"genero\": \"Masculino\", \"mes\": \"Janeiro\", \"numero\": 64, \"uf\": \"SP\", \"nome_uf\": \"S\\u00e3o Paulo\"}, {\"ano\": 2014, \"genero\": \"Masculino\", \"mes\": \"Fevereiro\", \"numero\": 76, \"uf\": \"SP\", \"nome_uf\": \"S\\u00e3o Paulo\"}, {\"ano\": 2014, \"genero\": \"Masculino\", \"mes\": \"Mar\\u00e7o\", \"numero\": 80, \"uf\": \"SP\", \"nome_uf\": \"S\\u00e3o Paulo\"}, {\"ano\": 2014, \"genero\": \"Masculino\", \"mes\": \"Abril\", \"numero\": 61, \"uf\": \"SP\", \"nome_uf\": \"S\\u00e3o Paulo\"}, {\"ano\": 2014, \"genero\": \"Masculino\", \"mes\": \"Maio\", \"numero\": 74, \"uf\": \"SP\", \"nome_uf\": \"S\\u00e3o Paulo\"}, {\"ano\": 2014, \"genero\": \"Masculino\", \"mes\": \"Junho\", \"numero\": 51, \"uf\": \"SP\", \"nome_uf\": \"S\\u00e3o Paulo\"}, {\"ano\": 2014, \"genero\": \"Masculino\", \"mes\": \"Julho\", \"numero\": 65, \"uf\": \"SP\", \"nome_uf\": \"S\\u00e3o Paulo\"}, {\"ano\": 2014, \"genero\": \"Masculino\", \"mes\": \"Agosto\", \"numero\": 67, \"uf\": \"SP\", \"nome_uf\": \"S\\u00e3o Paulo\"}, {\"ano\": 2014, \"genero\": \"Masculino\", \"mes\": \"Setembro\", \"numero\": 94, \"uf\": \"SP\", \"nome_uf\": \"S\\u00e3o Paulo\"}, {\"ano\": 2014, \"genero\": \"Masculino\", \"mes\": \"Outubro\", \"numero\": 81, \"uf\": \"SP\", \"nome_uf\": \"S\\u00e3o Paulo\"}, {\"ano\": 2014, \"genero\": \"Masculino\", \"mes\": \"Novembro\", \"numero\": 86, \"uf\": \"SP\", \"nome_uf\": \"S\\u00e3o Paulo\"}, {\"ano\": 2014, \"genero\": \"Masculino\", \"mes\": \"Dezembro\", \"numero\": 99, \"uf\": \"SP\", \"nome_uf\": \"S\\u00e3o Paulo\"}, {\"ano\": 2014, \"genero\": \"Feminino\", \"mes\": \"Janeiro\", \"numero\": 77, \"uf\": \"SP\", \"nome_uf\": \"S\\u00e3o Paulo\"}, {\"ano\": 2014, \"genero\": \"Feminino\", \"mes\": \"Fevereiro\", \"numero\": 69, \"uf\": \"SP\", \"nome_uf\": \"S\\u00e3o Paulo\"}, {\"ano\": 2014, \"genero\": \"Feminino\", \"mes\": \"Mar\\u00e7o\", \"numero\": 77, \"uf\": \"SP\", \"nome_uf\": \"S\\u00e3o Paulo\"}, {\"ano\": 2014, \"genero\": \"Feminino\", \"mes\": \"Abril\", \"numero\": 74, \"uf\": \"SP\", \"nome_uf\": \"S\\u00e3o Paulo\"}, {\"ano\": 2014, \"genero\": \"Feminino\", \"mes\": \"Maio\", \"numero\": 100, \"uf\": \"SP\", \"nome_uf\": \"S\\u00e3o Paulo\"}, {\"ano\": 2014, \"genero\": \"Feminino\", \"mes\": \"Junho\", \"numero\": 79, \"uf\": \"SP\", \"nome_uf\": \"S\\u00e3o Paulo\"}, {\"ano\": 2014, \"genero\": \"Feminino\", \"mes\": \"Julho\", \"numero\": 86, \"uf\": \"SP\", \"nome_uf\": \"S\\u00e3o Paulo\"}, {\"ano\": 2014, \"genero\": \"Feminino\", \"mes\": \"Agosto\", \"numero\": 72, \"uf\": \"SP\", \"nome_uf\": \"S\\u00e3o Paulo\"}, {\"ano\": 2014, \"genero\": \"Feminino\", \"mes\": \"Setembro\", \"numero\": 121, \"uf\": \"SP\", \"nome_uf\": \"S\\u00e3o Paulo\"}, {\"ano\": 2014, \"genero\": \"Feminino\", \"mes\": \"Outubro\", \"numero\": 151, \"uf\": \"SP\", \"nome_uf\": \"S\\u00e3o Paulo\"}, {\"ano\": 2014, \"genero\": \"Feminino\", \"mes\": \"Novembro\", \"numero\": 122, \"uf\": \"SP\", \"nome_uf\": \"S\\u00e3o Paulo\"}, {\"ano\": 2014, \"genero\": \"Feminino\", \"mes\": \"Dezembro\", \"numero\": 124, \"uf\": \"SP\", \"nome_uf\": \"S\\u00e3o Paulo\"}, {\"ano\": 2013, \"genero\": \"Masculino\", \"mes\": \"Janeiro\", \"numero\": 19, \"uf\": \"SP\", \"nome_uf\": \"S\\u00e3o Paulo\"}, {\"ano\": 2013, \"genero\": \"Masculino\", \"mes\": \"Fevereiro\", \"numero\": 38, \"uf\": \"SP\", \"nome_uf\": \"S\\u00e3o Paulo\"}, {\"ano\": 2013, \"genero\": \"Masculino\", \"mes\": \"Mar\\u00e7o\", \"numero\": 57, \"uf\": \"SP\", \"nome_uf\": \"S\\u00e3o Paulo\"}, {\"ano\": 2013, \"genero\": \"Masculino\", \"mes\": \"Abril\", \"numero\": 80, \"uf\": \"SP\", \"nome_uf\": \"S\\u00e3o Paulo\"}, {\"ano\": 2013, \"genero\": \"Masculino\", \"mes\": \"Maio\", \"numero\": 68, \"uf\": \"SP\", \"nome_uf\": \"S\\u00e3o Paulo\"}, {\"ano\": 2013, \"genero\": \"Masculino\", \"mes\": \"Junho\", \"numero\": 88, \"uf\": \"SP\", \"nome_uf\": \"S\\u00e3o Paulo\"}, {\"ano\": 2013, \"genero\": \"Masculino\", \"mes\": \"Julho\", \"numero\": 92, \"uf\": \"SP\", \"nome_uf\": \"S\\u00e3o Paulo\"}, {\"ano\": 2013, \"genero\": \"Masculino\", \"mes\": \"Agosto\", \"numero\": 99, \"uf\": \"SP\", \"nome_uf\": \"S\\u00e3o Paulo\"}, {\"ano\": 2013, \"genero\": \"Masculino\", \"mes\": \"Setembro\", \"numero\": 88, \"uf\": \"SP\", \"nome_uf\": \"S\\u00e3o Paulo\"}, {\"ano\": 2013, \"genero\": \"Masculino\", \"mes\": \"Outubro\", \"numero\": 97, \"uf\": \"SP\", \"nome_uf\": \"S\\u00e3o Paulo\"}, {\"ano\": 2013, \"genero\": \"Masculino\", \"mes\": \"Novembro\", \"numero\": 93, \"uf\": \"SP\", \"nome_uf\": \"S\\u00e3o Paulo\"}, {\"ano\": 2013, \"genero\": \"Masculino\", \"mes\": \"Dezembro\", \"numero\": 78, \"uf\": \"SP\", \"nome_uf\": \"S\\u00e3o Paulo\"}, {\"ano\": 2013, \"genero\": \"Feminino\", \"mes\": \"Janeiro\", \"numero\": 23, \"uf\": \"SP\", \"nome_uf\": \"S\\u00e3o Paulo\"}, {\"ano\": 2013, \"genero\": \"Feminino\", \"mes\": \"Fevereiro\", \"numero\": 36, \"uf\": \"SP\", \"nome_uf\": \"S\\u00e3o Paulo\"}, {\"ano\": 2013, \"genero\": \"Feminino\", \"mes\": \"Mar\\u00e7o\", \"numero\": 68, \"uf\": \"SP\", \"nome_uf\": \"S\\u00e3o Paulo\"}, {\"ano\": 2013, \"genero\": \"Feminino\", \"mes\": \"Abril\", \"numero\": 89, \"uf\": \"SP\", \"nome_uf\": \"S\\u00e3o Paulo\"}, {\"ano\": 2013, \"genero\": \"Feminino\", \"mes\": \"Maio\", \"numero\": 89, \"uf\": \"SP\", \"nome_uf\": \"S\\u00e3o Paulo\"}, {\"ano\": 2013, \"genero\": \"Feminino\", \"mes\": \"Junho\", \"numero\": 100, \"uf\": \"SP\", \"nome_uf\": \"S\\u00e3o Paulo\"}, {\"ano\": 2013, \"genero\": \"Feminino\", \"mes\": \"Julho\", \"numero\": 98, \"uf\": \"SP\", \"nome_uf\": \"S\\u00e3o Paulo\"}, {\"ano\": 2013, \"genero\": \"Feminino\", \"mes\": \"Agosto\", \"numero\": 91, \"uf\": \"SP\", \"nome_uf\": \"S\\u00e3o Paulo\"}, {\"ano\": 2013, \"genero\": \"Feminino\", \"mes\": \"Setembro\", \"numero\": 109, \"uf\": \"SP\", \"nome_uf\": \"S\\u00e3o Paulo\"}, {\"ano\": 2013, \"genero\": \"Feminino\", \"mes\": \"Outubro\", \"numero\": 116, \"uf\": \"SP\", \"nome_uf\": \"S\\u00e3o Paulo\"}, {\"ano\": 2013, \"genero\": \"Feminino\", \"mes\": \"Novembro\", \"numero\": 133, \"uf\": \"SP\", \"nome_uf\": \"S\\u00e3o Paulo\"}, {\"ano\": 2013, \"genero\": \"Feminino\", \"mes\": \"Dezembro\", \"numero\": 96, \"uf\": \"SP\", \"nome_uf\": \"S\\u00e3o Paulo\"}, {\"ano\": 2015, \"genero\": \"Masculino\", \"mes\": \"Janeiro\", \"numero\": 69, \"uf\": \"SP\", \"nome_uf\": \"S\\u00e3o Paulo\"}, {\"ano\": 2015, \"genero\": \"Masculino\", \"mes\": \"Fevereiro\", \"numero\": 57, \"uf\": \"SP\", \"nome_uf\": \"S\\u00e3o Paulo\"}, {\"ano\": 2015, \"genero\": \"Masculino\", \"mes\": \"Mar\\u00e7o\", \"numero\": 68, \"uf\": \"SP\", \"nome_uf\": \"S\\u00e3o Paulo\"}, {\"ano\": 2015, \"genero\": \"Masculino\", \"mes\": \"Abril\", \"numero\": 64, \"uf\": \"SP\", \"nome_uf\": \"S\\u00e3o Paulo\"}, {\"ano\": 2015, \"genero\": \"Masculino\", \"mes\": \"Maio\", \"numero\": 62, \"uf\": \"SP\", \"nome_uf\": \"S\\u00e3o Paulo\"}, {\"ano\": 2015, \"genero\": \"Masculino\", \"mes\": \"Junho\", \"numero\": 69, \"uf\": \"SP\", \"nome_uf\": \"S\\u00e3o Paulo\"}, {\"ano\": 2015, \"genero\": \"Masculino\", \"mes\": \"Julho\", \"numero\": 72, \"uf\": \"SP\", \"nome_uf\": \"S\\u00e3o Paulo\"}, {\"ano\": 2015, \"genero\": \"Masculino\", \"mes\": \"Agosto\", \"numero\": 72, \"uf\": \"SP\", \"nome_uf\": \"S\\u00e3o Paulo\"}, {\"ano\": 2015, \"genero\": \"Masculino\", \"mes\": \"Setembro\", \"numero\": 76, \"uf\": \"SP\", \"nome_uf\": \"S\\u00e3o Paulo\"}, {\"ano\": 2015, \"genero\": \"Masculino\", \"mes\": \"Outubro\", \"numero\": 85, \"uf\": \"SP\", \"nome_uf\": \"S\\u00e3o Paulo\"}, {\"ano\": 2015, \"genero\": \"Masculino\", \"mes\": \"Novembro\", \"numero\": 86, \"uf\": \"SP\", \"nome_uf\": \"S\\u00e3o Paulo\"}, {\"ano\": 2015, \"genero\": \"Masculino\", \"mes\": \"Dezembro\", \"numero\": 78, \"uf\": \"SP\", \"nome_uf\": \"S\\u00e3o Paulo\"}, {\"ano\": 2016, \"genero\": \"Masculino\", \"mes\": \"Janeiro\", \"numero\": 75, \"uf\": \"SP\", \"nome_uf\": \"S\\u00e3o Paulo\"}, {\"ano\": 2016, \"genero\": \"Masculino\", \"mes\": \"Fevereiro\", \"numero\": 57, \"uf\": \"SP\", \"nome_uf\": \"S\\u00e3o Paulo\"}, {\"ano\": 2016, \"genero\": \"Masculino\", \"mes\": \"Mar\\u00e7o\", \"numero\": 66, \"uf\": \"SP\", \"nome_uf\": \"S\\u00e3o Paulo\"}, {\"ano\": 2016, \"genero\": \"Masculino\", \"mes\": \"Abril\", \"numero\": 72, \"uf\": \"SP\", \"nome_uf\": \"S\\u00e3o Paulo\"}, {\"ano\": 2016, \"genero\": \"Masculino\", \"mes\": \"Maio\", \"numero\": 65, \"uf\": \"SP\", \"nome_uf\": \"S\\u00e3o Paulo\"}, {\"ano\": 2016, \"genero\": \"Masculino\", \"mes\": \"Junho\", \"numero\": 75, \"uf\": \"SP\", \"nome_uf\": \"S\\u00e3o Paulo\"}, {\"ano\": 2016, \"genero\": \"Masculino\", \"mes\": \"Julho\", \"numero\": 64, \"uf\": \"SP\", \"nome_uf\": \"S\\u00e3o Paulo\"}, {\"ano\": 2016, \"genero\": \"Masculino\", \"mes\": \"Agosto\", \"numero\": 70, \"uf\": \"SP\", \"nome_uf\": \"S\\u00e3o Paulo\"}, {\"ano\": 2016, \"genero\": \"Masculino\", \"mes\": \"Setembro\", \"numero\": 102, \"uf\": \"SP\", \"nome_uf\": \"S\\u00e3o Paulo\"}, {\"ano\": 2016, \"genero\": \"Masculino\", \"mes\": \"Outubro\", \"numero\": 80, \"uf\": \"SP\", \"nome_uf\": \"S\\u00e3o Paulo\"}, {\"ano\": 2016, \"genero\": \"Masculino\", \"mes\": \"Novembro\", \"numero\": 81, \"uf\": \"SP\", \"nome_uf\": \"S\\u00e3o Paulo\"}, {\"ano\": 2016, \"genero\": \"Masculino\", \"mes\": \"Dezembro\", \"numero\": 85, \"uf\": \"SP\", \"nome_uf\": \"S\\u00e3o Paulo\"}, {\"ano\": 2017, \"genero\": \"Masculino\", \"mes\": \"Janeiro\", \"numero\": 78, \"uf\": \"SP\", \"nome_uf\": \"S\\u00e3o Paulo\"}, {\"ano\": 2017, \"genero\": \"Masculino\", \"mes\": \"Fevereiro\", \"numero\": 53, \"uf\": \"SP\", \"nome_uf\": \"S\\u00e3o Paulo\"}, {\"ano\": 2017, \"genero\": \"Masculino\", \"mes\": \"Mar\\u00e7o\", \"numero\": 79, \"uf\": \"SP\", \"nome_uf\": \"S\\u00e3o Paulo\"}, {\"ano\": 2017, \"genero\": \"Masculino\", \"mes\": \"Abril\", \"numero\": 69, \"uf\": \"SP\", \"nome_uf\": \"S\\u00e3o Paulo\"}, {\"ano\": 2017, \"genero\": \"Masculino\", \"mes\": \"Maio\", \"numero\": 73, \"uf\": \"SP\", \"nome_uf\": \"S\\u00e3o Paulo\"}, {\"ano\": 2017, \"genero\": \"Masculino\", \"mes\": \"Junho\", \"numero\": 86, \"uf\": \"SP\", \"nome_uf\": \"S\\u00e3o Paulo\"}, {\"ano\": 2017, \"genero\": \"Masculino\", \"mes\": \"Julho\", \"numero\": 91, \"uf\": \"SP\", \"nome_uf\": \"S\\u00e3o Paulo\"}, {\"ano\": 2017, \"genero\": \"Masculino\", \"mes\": \"Agosto\", \"numero\": 77, \"uf\": \"SP\", \"nome_uf\": \"S\\u00e3o Paulo\"}, {\"ano\": 2017, \"genero\": \"Masculino\", \"mes\": \"Setembro\", \"numero\": 100, \"uf\": \"SP\", \"nome_uf\": \"S\\u00e3o Paulo\"}, {\"ano\": 2017, \"genero\": \"Masculino\", \"mes\": \"Outubro\", \"numero\": 98, \"uf\": \"SP\", \"nome_uf\": \"S\\u00e3o Paulo\"}, {\"ano\": 2017, \"genero\": \"Masculino\", \"mes\": \"Novembro\", \"numero\": 113, \"uf\": \"SP\", \"nome_uf\": \"S\\u00e3o Paulo\"}, {\"ano\": 2017, \"genero\": \"Masculino\", \"mes\": \"Dezembro\", \"numero\": 85, \"uf\": \"SP\", \"nome_uf\": \"S\\u00e3o Paulo\"}, {\"ano\": 2018, \"genero\": \"Masculino\", \"mes\": \"Janeiro\", \"numero\": 96, \"uf\": \"SP\", \"nome_uf\": \"S\\u00e3o Paulo\"}, {\"ano\": 2018, \"genero\": \"Masculino\", \"mes\": \"Fevereiro\", \"numero\": 91, \"uf\": \"SP\", \"nome_uf\": \"S\\u00e3o Paulo\"}, {\"ano\": 2018, \"genero\": \"Masculino\", \"mes\": \"Mar\\u00e7o\", \"numero\": 101, \"uf\": \"SP\", \"nome_uf\": \"S\\u00e3o Paulo\"}, {\"ano\": 2018, \"genero\": \"Masculino\", \"mes\": \"Abril\", \"numero\": 78, \"uf\": \"SP\", \"nome_uf\": \"S\\u00e3o Paulo\"}, {\"ano\": 2018, \"genero\": \"Masculino\", \"mes\": \"Maio\", \"numero\": 94, \"uf\": \"SP\", \"nome_uf\": \"S\\u00e3o Paulo\"}, {\"ano\": 2018, \"genero\": \"Masculino\", \"mes\": \"Junho\", \"numero\": 113, \"uf\": \"SP\", \"nome_uf\": \"S\\u00e3o Paulo\"}, {\"ano\": 2018, \"genero\": \"Masculino\", \"mes\": \"Julho\", \"numero\": 96, \"uf\": \"SP\", \"nome_uf\": \"S\\u00e3o Paulo\"}, {\"ano\": 2018, \"genero\": \"Masculino\", \"mes\": \"Agosto\", \"numero\": 65, \"uf\": \"SP\", \"nome_uf\": \"S\\u00e3o Paulo\"}, {\"ano\": 2018, \"genero\": \"Masculino\", \"mes\": \"Setembro\", \"numero\": 102, \"uf\": \"SP\", \"nome_uf\": \"S\\u00e3o Paulo\"}, {\"ano\": 2018, \"genero\": \"Masculino\", \"mes\": \"Outubro\", \"numero\": 111, \"uf\": \"SP\", \"nome_uf\": \"S\\u00e3o Paulo\"}, {\"ano\": 2018, \"genero\": \"Masculino\", \"mes\": \"Novembro\", \"numero\": 167, \"uf\": \"SP\", \"nome_uf\": \"S\\u00e3o Paulo\"}, {\"ano\": 2018, \"genero\": \"Masculino\", \"mes\": \"Dezembro\", \"numero\": 541, \"uf\": \"SP\", \"nome_uf\": \"S\\u00e3o Paulo\"}, {\"ano\": 2019, \"genero\": \"Masculino\", \"mes\": \"Janeiro\", \"numero\": 201, \"uf\": \"SP\", \"nome_uf\": \"S\\u00e3o Paulo\"}, {\"ano\": 2019, \"genero\": \"Masculino\", \"mes\": \"Fevereiro\", \"numero\": 126, \"uf\": \"SP\", \"nome_uf\": \"S\\u00e3o Paulo\"}, {\"ano\": 2019, \"genero\": \"Masculino\", \"mes\": \"Mar\\u00e7o\", \"numero\": 119, \"uf\": \"SP\", \"nome_uf\": \"S\\u00e3o Paulo\"}, {\"ano\": 2019, \"genero\": \"Masculino\", \"mes\": \"Abril\", \"numero\": 86, \"uf\": \"SP\", \"nome_uf\": \"S\\u00e3o Paulo\"}, {\"ano\": 2019, \"genero\": \"Masculino\", \"mes\": \"Maio\", \"numero\": 90, \"uf\": \"SP\", \"nome_uf\": \"S\\u00e3o Paulo\"}, {\"ano\": 2019, \"genero\": \"Masculino\", \"mes\": \"Junho\", \"numero\": 122, \"uf\": \"SP\", \"nome_uf\": \"S\\u00e3o Paulo\"}, {\"ano\": 2019, \"genero\": \"Masculino\", \"mes\": \"Julho\", \"numero\": 122, \"uf\": \"SP\", \"nome_uf\": \"S\\u00e3o Paulo\"}, {\"ano\": 2019, \"genero\": \"Masculino\", \"mes\": \"Agosto\", \"numero\": 112, \"uf\": \"SP\", \"nome_uf\": \"S\\u00e3o Paulo\"}, {\"ano\": 2019, \"genero\": \"Masculino\", \"mes\": \"Setembro\", \"numero\": 113, \"uf\": \"SP\", \"nome_uf\": \"S\\u00e3o Paulo\"}, {\"ano\": 2019, \"genero\": \"Masculino\", \"mes\": \"Outubro\", \"numero\": 99, \"uf\": \"SP\", \"nome_uf\": \"S\\u00e3o Paulo\"}, {\"ano\": 2019, \"genero\": \"Masculino\", \"mes\": \"Novembro\", \"numero\": 132, \"uf\": \"SP\", \"nome_uf\": \"S\\u00e3o Paulo\"}, {\"ano\": 2019, \"genero\": \"Masculino\", \"mes\": \"Dezembro\", \"numero\": 131, \"uf\": \"SP\", \"nome_uf\": \"S\\u00e3o Paulo\"}, {\"ano\": 2015, \"genero\": \"Feminino\", \"mes\": \"Janeiro\", \"numero\": 87, \"uf\": \"SP\", \"nome_uf\": \"S\\u00e3o Paulo\"}, {\"ano\": 2015, \"genero\": \"Feminino\", \"mes\": \"Fevereiro\", \"numero\": 64, \"uf\": \"SP\", \"nome_uf\": \"S\\u00e3o Paulo\"}, {\"ano\": 2015, \"genero\": \"Feminino\", \"mes\": \"Mar\\u00e7o\", \"numero\": 95, \"uf\": \"SP\", \"nome_uf\": \"S\\u00e3o Paulo\"}, {\"ano\": 2015, \"genero\": \"Feminino\", \"mes\": \"Abril\", \"numero\": 72, \"uf\": \"SP\", \"nome_uf\": \"S\\u00e3o Paulo\"}, {\"ano\": 2015, \"genero\": \"Feminino\", \"mes\": \"Maio\", \"numero\": 76, \"uf\": \"SP\", \"nome_uf\": \"S\\u00e3o Paulo\"}, {\"ano\": 2015, \"genero\": \"Feminino\", \"mes\": \"Junho\", \"numero\": 86, \"uf\": \"SP\", \"nome_uf\": \"S\\u00e3o Paulo\"}, {\"ano\": 2015, \"genero\": \"Feminino\", \"mes\": \"Julho\", \"numero\": 100, \"uf\": \"SP\", \"nome_uf\": \"S\\u00e3o Paulo\"}, {\"ano\": 2015, \"genero\": \"Feminino\", \"mes\": \"Agosto\", \"numero\": 96, \"uf\": \"SP\", \"nome_uf\": \"S\\u00e3o Paulo\"}, {\"ano\": 2015, \"genero\": \"Feminino\", \"mes\": \"Setembro\", \"numero\": 109, \"uf\": \"SP\", \"nome_uf\": \"S\\u00e3o Paulo\"}, {\"ano\": 2015, \"genero\": \"Feminino\", \"mes\": \"Outubro\", \"numero\": 126, \"uf\": \"SP\", \"nome_uf\": \"S\\u00e3o Paulo\"}, {\"ano\": 2015, \"genero\": \"Feminino\", \"mes\": \"Novembro\", \"numero\": 111, \"uf\": \"SP\", \"nome_uf\": \"S\\u00e3o Paulo\"}, {\"ano\": 2015, \"genero\": \"Feminino\", \"mes\": \"Dezembro\", \"numero\": 128, \"uf\": \"SP\", \"nome_uf\": \"S\\u00e3o Paulo\"}, {\"ano\": 2016, \"genero\": \"Feminino\", \"mes\": \"Janeiro\", \"numero\": 79, \"uf\": \"SP\", \"nome_uf\": \"S\\u00e3o Paulo\"}, {\"ano\": 2016, \"genero\": \"Feminino\", \"mes\": \"Fevereiro\", \"numero\": 92, \"uf\": \"SP\", \"nome_uf\": \"S\\u00e3o Paulo\"}, {\"ano\": 2016, \"genero\": \"Feminino\", \"mes\": \"Mar\\u00e7o\", \"numero\": 71, \"uf\": \"SP\", \"nome_uf\": \"S\\u00e3o Paulo\"}, {\"ano\": 2016, \"genero\": \"Feminino\", \"mes\": \"Abril\", \"numero\": 102, \"uf\": \"SP\", \"nome_uf\": \"S\\u00e3o Paulo\"}, {\"ano\": 2016, \"genero\": \"Feminino\", \"mes\": \"Maio\", \"numero\": 92, \"uf\": \"SP\", \"nome_uf\": \"S\\u00e3o Paulo\"}, {\"ano\": 2016, \"genero\": \"Feminino\", \"mes\": \"Junho\", \"numero\": 93, \"uf\": \"SP\", \"nome_uf\": \"S\\u00e3o Paulo\"}, {\"ano\": 2016, \"genero\": \"Feminino\", \"mes\": \"Julho\", \"numero\": 108, \"uf\": \"SP\", \"nome_uf\": \"S\\u00e3o Paulo\"}, {\"ano\": 2016, \"genero\": \"Feminino\", \"mes\": \"Agosto\", \"numero\": 85, \"uf\": \"SP\", \"nome_uf\": \"S\\u00e3o Paulo\"}, {\"ano\": 2016, \"genero\": \"Feminino\", \"mes\": \"Setembro\", \"numero\": 120, \"uf\": \"SP\", \"nome_uf\": \"S\\u00e3o Paulo\"}, {\"ano\": 2016, \"genero\": \"Feminino\", \"mes\": \"Outubro\", \"numero\": 118, \"uf\": \"SP\", \"nome_uf\": \"S\\u00e3o Paulo\"}, {\"ano\": 2016, \"genero\": \"Feminino\", \"mes\": \"Novembro\", \"numero\": 117, \"uf\": \"SP\", \"nome_uf\": \"S\\u00e3o Paulo\"}, {\"ano\": 2016, \"genero\": \"Feminino\", \"mes\": \"Dezembro\", \"numero\": 125, \"uf\": \"SP\", \"nome_uf\": \"S\\u00e3o Paulo\"}, {\"ano\": 2017, \"genero\": \"Feminino\", \"mes\": \"Janeiro\", \"numero\": 91, \"uf\": \"SP\", \"nome_uf\": \"S\\u00e3o Paulo\"}, {\"ano\": 2017, \"genero\": \"Feminino\", \"mes\": \"Fevereiro\", \"numero\": 81, \"uf\": \"SP\", \"nome_uf\": \"S\\u00e3o Paulo\"}, {\"ano\": 2017, \"genero\": \"Feminino\", \"mes\": \"Mar\\u00e7o\", \"numero\": 128, \"uf\": \"SP\", \"nome_uf\": \"S\\u00e3o Paulo\"}, {\"ano\": 2017, \"genero\": \"Feminino\", \"mes\": \"Abril\", \"numero\": 113, \"uf\": \"SP\", \"nome_uf\": \"S\\u00e3o Paulo\"}, {\"ano\": 2017, \"genero\": \"Feminino\", \"mes\": \"Maio\", \"numero\": 123, \"uf\": \"SP\", \"nome_uf\": \"S\\u00e3o Paulo\"}, {\"ano\": 2017, \"genero\": \"Feminino\", \"mes\": \"Junho\", \"numero\": 121, \"uf\": \"SP\", \"nome_uf\": \"S\\u00e3o Paulo\"}, {\"ano\": 2017, \"genero\": \"Feminino\", \"mes\": \"Julho\", \"numero\": 119, \"uf\": \"SP\", \"nome_uf\": \"S\\u00e3o Paulo\"}, {\"ano\": 2017, \"genero\": \"Feminino\", \"mes\": \"Agosto\", \"numero\": 128, \"uf\": \"SP\", \"nome_uf\": \"S\\u00e3o Paulo\"}, {\"ano\": 2017, \"genero\": \"Feminino\", \"mes\": \"Setembro\", \"numero\": 154, \"uf\": \"SP\", \"nome_uf\": \"S\\u00e3o Paulo\"}, {\"ano\": 2017, \"genero\": \"Feminino\", \"mes\": \"Outubro\", \"numero\": 151, \"uf\": \"SP\", \"nome_uf\": \"S\\u00e3o Paulo\"}, {\"ano\": 2017, \"genero\": \"Feminino\", \"mes\": \"Novembro\", \"numero\": 143, \"uf\": \"SP\", \"nome_uf\": \"S\\u00e3o Paulo\"}, {\"ano\": 2017, \"genero\": \"Feminino\", \"mes\": \"Dezembro\", \"numero\": 143, \"uf\": \"SP\", \"nome_uf\": \"S\\u00e3o Paulo\"}, {\"ano\": 2018, \"genero\": \"Feminino\", \"mes\": \"Janeiro\", \"numero\": 129, \"uf\": \"SP\", \"nome_uf\": \"S\\u00e3o Paulo\"}, {\"ano\": 2018, \"genero\": \"Feminino\", \"mes\": \"Fevereiro\", \"numero\": 105, \"uf\": \"SP\", \"nome_uf\": \"S\\u00e3o Paulo\"}, {\"ano\": 2018, \"genero\": \"Feminino\", \"mes\": \"Mar\\u00e7o\", \"numero\": 107, \"uf\": \"SP\", \"nome_uf\": \"S\\u00e3o Paulo\"}, {\"ano\": 2018, \"genero\": \"Feminino\", \"mes\": \"Abril\", \"numero\": 120, \"uf\": \"SP\", \"nome_uf\": \"S\\u00e3o Paulo\"}, {\"ano\": 2018, \"genero\": \"Feminino\", \"mes\": \"Maio\", \"numero\": 131, \"uf\": \"SP\", \"nome_uf\": \"S\\u00e3o Paulo\"}, {\"ano\": 2018, \"genero\": \"Feminino\", \"mes\": \"Junho\", \"numero\": 130, \"uf\": \"SP\", \"nome_uf\": \"S\\u00e3o Paulo\"}, {\"ano\": 2018, \"genero\": \"Feminino\", \"mes\": \"Julho\", \"numero\": 143, \"uf\": \"SP\", \"nome_uf\": \"S\\u00e3o Paulo\"}, {\"ano\": 2018, \"genero\": \"Feminino\", \"mes\": \"Agosto\", \"numero\": 120, \"uf\": \"SP\", \"nome_uf\": \"S\\u00e3o Paulo\"}, {\"ano\": 2018, \"genero\": \"Feminino\", \"mes\": \"Setembro\", \"numero\": 184, \"uf\": \"SP\", \"nome_uf\": \"S\\u00e3o Paulo\"}, {\"ano\": 2018, \"genero\": \"Feminino\", \"mes\": \"Outubro\", \"numero\": 189, \"uf\": \"SP\", \"nome_uf\": \"S\\u00e3o Paulo\"}, {\"ano\": 2018, \"genero\": \"Feminino\", \"mes\": \"Novembro\", \"numero\": 260, \"uf\": \"SP\", \"nome_uf\": \"S\\u00e3o Paulo\"}, {\"ano\": 2018, \"genero\": \"Feminino\", \"mes\": \"Dezembro\", \"numero\": 827, \"uf\": \"SP\", \"nome_uf\": \"S\\u00e3o Paulo\"}, {\"ano\": 2019, \"genero\": \"Feminino\", \"mes\": \"Janeiro\", \"numero\": 339, \"uf\": \"SP\", \"nome_uf\": \"S\\u00e3o Paulo\"}, {\"ano\": 2019, \"genero\": \"Feminino\", \"mes\": \"Fevereiro\", \"numero\": 216, \"uf\": \"SP\", \"nome_uf\": \"S\\u00e3o Paulo\"}, {\"ano\": 2019, \"genero\": \"Feminino\", \"mes\": \"Mar\\u00e7o\", \"numero\": 183, \"uf\": \"SP\", \"nome_uf\": \"S\\u00e3o Paulo\"}, {\"ano\": 2019, \"genero\": \"Feminino\", \"mes\": \"Abril\", \"numero\": 128, \"uf\": \"SP\", \"nome_uf\": \"S\\u00e3o Paulo\"}, {\"ano\": 2019, \"genero\": \"Feminino\", \"mes\": \"Maio\", \"numero\": 159, \"uf\": \"SP\", \"nome_uf\": \"S\\u00e3o Paulo\"}, {\"ano\": 2019, \"genero\": \"Feminino\", \"mes\": \"Junho\", \"numero\": 150, \"uf\": \"SP\", \"nome_uf\": \"S\\u00e3o Paulo\"}, {\"ano\": 2019, \"genero\": \"Feminino\", \"mes\": \"Julho\", \"numero\": 113, \"uf\": \"SP\", \"nome_uf\": \"S\\u00e3o Paulo\"}, {\"ano\": 2019, \"genero\": \"Feminino\", \"mes\": \"Agosto\", \"numero\": 151, \"uf\": \"SP\", \"nome_uf\": \"S\\u00e3o Paulo\"}, {\"ano\": 2019, \"genero\": \"Feminino\", \"mes\": \"Setembro\", \"numero\": 147, \"uf\": \"SP\", \"nome_uf\": \"S\\u00e3o Paulo\"}, {\"ano\": 2019, \"genero\": \"Feminino\", \"mes\": \"Outubro\", \"numero\": 164, \"uf\": \"SP\", \"nome_uf\": \"S\\u00e3o Paulo\"}, {\"ano\": 2019, \"genero\": \"Feminino\", \"mes\": \"Novembro\", \"numero\": 205, \"uf\": \"SP\", \"nome_uf\": \"S\\u00e3o Paulo\"}, {\"ano\": 2019, \"genero\": \"Feminino\", \"mes\": \"Dezembro\", \"numero\": 165, \"uf\": \"SP\", \"nome_uf\": \"S\\u00e3o Paulo\"}]}}, {\"mode\": \"vega-lite\"});\n",
              "</script>"
            ]
          },
          "metadata": {},
          "execution_count": 133
        }
      ]
    }
  ]
}