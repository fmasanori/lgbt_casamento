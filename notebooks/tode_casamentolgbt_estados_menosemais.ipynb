{
  "nbformat": 4,
  "nbformat_minor": 0,
  "metadata": {
    "colab": {
      "name": "tode_casamentolgbt_analiseexploratoria_perguntas.ipynb",
      "provenance": []
    },
    "kernelspec": {
      "name": "python3",
      "display_name": "Python 3"
    },
    "language_info": {
      "name": "python"
    }
  },
  "cells": [
    {
      "cell_type": "code",
      "metadata": {
        "id": "7p3qLqZ9TERh"
      },
      "source": [
        "import pandas as pd"
      ],
      "execution_count": 4,
      "outputs": []
    },
    {
      "cell_type": "code",
      "metadata": {
        "id": "wCM5gnstvWyH"
      },
      "source": [
        "lgbt_casamento = pd.read_csv('https://raw.githubusercontent.com/gabrielacaesar/lgbt_casamento/main/data/lgbt_casamento.csv')"
      ],
      "execution_count": 3,
      "outputs": []
    },
    {
      "cell_type": "markdown",
      "metadata": {
        "id": "K37ItpDBypZZ"
      },
      "source": [
        "# Considerando todos os anos, em que estados aconteceram mais casamentos LGBTs em números absolutos? "
      ]
    },
    {
      "cell_type": "code",
      "metadata": {
        "colab": {
          "base_uri": "https://localhost:8080/"
        },
        "id": "YzsSVfklve6P",
        "outputId": "f7c321e6-a432-44f9-bd77-38bb22e337b7"
      },
      "source": [
        "lgbt_casamento.groupby('uf')['numero'].sum().sort_values(ascending=False)"
      ],
      "execution_count": null,
      "outputs": [
        {
          "output_type": "execute_result",
          "data": {
            "text/plain": [
              "uf\n",
              "São Paulo              18267\n",
              "Rio de Janeiro          4110\n",
              "Minas Gerais            3310\n",
              "Santa Catarina          2434\n",
              "Paraná                  2041\n",
              "Rio Grande do Sul       1913\n",
              "Ceará                   1888\n",
              "Pernambuco              1519\n",
              "Bahia                   1268\n",
              "Distrito Federal        1202\n",
              "Goiás                   1069\n",
              "Pará                     706\n",
              "Mato Grosso do Sul       686\n",
              "Espírito Santo           601\n",
              "Rio Grande do Norte      499\n",
              "Paraíba                  473\n",
              "Amazonas                 371\n",
              "Alagoas                  332\n",
              "Maranhão                 257\n",
              "Mato Grosso              237\n",
              "Piauí                    185\n",
              "Rondônia                 162\n",
              "Sergipe                  158\n",
              "Tocantins                 85\n",
              "Amapá                     77\n",
              "Acre                      69\n",
              "Roraima                   52\n",
              "Name: numero, dtype: int64"
            ]
          },
          "metadata": {},
          "execution_count": 11
        }
      ]
    },
    {
      "cell_type": "markdown",
      "metadata": {
        "id": "17ThnGUBzG5e"
      },
      "source": [
        "# Considerando todos os anos, em que estados aconteceram MENOS casamentos LGBTs em números absolutos? "
      ]
    },
    {
      "cell_type": "code",
      "metadata": {
        "colab": {
          "base_uri": "https://localhost:8080/"
        },
        "id": "9zZlO9przG5n",
        "outputId": "1cab00ab-81fe-4e4d-9eca-b0bea1da76bc"
      },
      "source": [
        "lgbt_casamento.groupby('uf')['numero'].sum().sort_values(ascending=True)"
      ],
      "execution_count": null,
      "outputs": [
        {
          "output_type": "execute_result",
          "data": {
            "text/plain": [
              "uf\n",
              "Roraima                   52\n",
              "Acre                      69\n",
              "Amapá                     77\n",
              "Tocantins                 85\n",
              "Sergipe                  158\n",
              "Rondônia                 162\n",
              "Piauí                    185\n",
              "Mato Grosso              237\n",
              "Maranhão                 257\n",
              "Alagoas                  332\n",
              "Amazonas                 371\n",
              "Paraíba                  473\n",
              "Rio Grande do Norte      499\n",
              "Espírito Santo           601\n",
              "Mato Grosso do Sul       686\n",
              "Pará                     706\n",
              "Goiás                   1069\n",
              "Distrito Federal        1202\n",
              "Bahia                   1268\n",
              "Pernambuco              1519\n",
              "Ceará                   1888\n",
              "Rio Grande do Sul       1913\n",
              "Paraná                  2041\n",
              "Santa Catarina          2434\n",
              "Minas Gerais            3310\n",
              "Rio de Janeiro          4110\n",
              "São Paulo              18267\n",
              "Name: numero, dtype: int64"
            ]
          },
          "metadata": {},
          "execution_count": 12
        }
      ]
    }
  ]
}