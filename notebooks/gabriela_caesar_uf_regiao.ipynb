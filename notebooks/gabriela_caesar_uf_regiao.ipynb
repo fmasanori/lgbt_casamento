{
  "nbformat": 4,
  "nbformat_minor": 0,
  "metadata": {
    "colab": {
      "name": "gabriela_caesar_uf_regiao.ipynb",
      "provenance": []
    },
    "kernelspec": {
      "name": "python3",
      "display_name": "Python 3"
    },
    "language_info": {
      "name": "python"
    }
  },
  "cells": [
    {
      "cell_type": "code",
      "metadata": {
        "colab": {
          "base_uri": "https://localhost:8080/"
        },
        "id": "d3GsSeuiZSoO",
        "outputId": "e9e15328-ee93-4dd1-aa89-dcfa7ebaaa05"
      },
      "source": [
        "import pandas as pd\n",
        "uf_norte = {'regiao': ['Norte']*7, 'uf': [\"Rondônia\",\"Acre\",\"Amazonas\",\"Roraima\", \"Pará\",\"Amapá\",\"Tocantins\"]}\n",
        "uf_nordeste = {'regiao': ['Nordeste']*9, 'uf': [\"Maranhão\",\"Piauí\",\"Ceará\",\"Rio Grande do Norte\",\"Paraíba\",\"Pernambuco\", \"Alagoas\",\"Sergipe\",\"Bahia\"]}\n",
        "uf_sudeste = {'regiao': ['Sudeste']*4, 'uf': [\"Minas Gerais\",\"Espírito Santo\",\"Rio de Janeiro\",\"São Paulo\"]}\n",
        "uf_sul = {'regiao': ['Sul']*3, 'uf': [\"Paraná\",\"Santa Catarina\",\"Rio Grande do Sul\"]}\n",
        "uf_centro_oeste = {'regiao': ['Centro-Oeste']*4, 'uf': [\"Mato Grosso do Sul\",\"Mato Grosso\",\"Goiás\", \"Distrito Federal\"]}\n",
        "\n",
        "regiao_norte = pd.DataFrame(uf_norte)\n",
        "regiao_nordeste = pd.DataFrame(uf_nordeste)\n",
        "regiao_sudeste = pd.DataFrame(uf_sudeste)\n",
        "regiao_sul = pd.DataFrame(uf_sul)\n",
        "regiao_centro_oeste = pd.DataFrame(uf_centro_oeste)\n",
        "\n",
        "regioes_uf = pd.concat([regiao_norte, regiao_nordeste, regiao_sudeste, regiao_sul, regiao_centro_oeste])\n",
        "\n",
        "print(regioes_uf)"
      ],
      "execution_count": 31,
      "outputs": [
        {
          "output_type": "stream",
          "name": "stdout",
          "text": [
            "         regiao                   uf\n",
            "0         Norte             Rondônia\n",
            "1         Norte                 Acre\n",
            "2         Norte             Amazonas\n",
            "3         Norte              Roraima\n",
            "4         Norte                 Pará\n",
            "5         Norte                Amapá\n",
            "6         Norte            Tocantins\n",
            "0      Nordeste             Maranhão\n",
            "1      Nordeste                Piauí\n",
            "2      Nordeste                Ceará\n",
            "3      Nordeste  Rio Grande do Norte\n",
            "4      Nordeste              Paraíba\n",
            "5      Nordeste           Pernambuco\n",
            "6      Nordeste              Alagoas\n",
            "7      Nordeste              Sergipe\n",
            "8      Nordeste                Bahia\n",
            "0       Sudeste         Minas Gerais\n",
            "1       Sudeste       Espírito Santo\n",
            "2       Sudeste       Rio de Janeiro\n",
            "3       Sudeste            São Paulo\n",
            "0           Sul               Paraná\n",
            "1           Sul       Santa Catarina\n",
            "2           Sul    Rio Grande do Sul\n",
            "0  Centro-Oeste   Mato Grosso do Sul\n",
            "1  Centro-Oeste          Mato Grosso\n",
            "2  Centro-Oeste                Goiás\n",
            "3  Centro-Oeste     Distrito Federal\n"
          ]
        }
      ]
    }
  ]
}